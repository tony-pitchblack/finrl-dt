{
  "cells": [
    {
      "cell_type": "markdown",
      "metadata": {
        "id": "view-in-github",
        "colab_type": "text"
      },
      "source": [
        "<a href=\"https://colab.research.google.com/github/tony-pitchblack/finrl-dt/blob/custom-backtesting/finrl_dt_replicate_train.ipynb\" target=\"_parent\"><img src=\"https://colab.research.google.com/assets/colab-badge.svg\" alt=\"Open In Colab\"/></a>"
      ]
    },
    {
      "cell_type": "markdown",
      "metadata": {
        "id": "Y-J5mD_PTar9"
      },
      "source": [
        "#Installs"
      ]
    },
    {
      "cell_type": "code",
      "execution_count": 10,
      "metadata": {
        "colab": {
          "base_uri": "https://localhost:8080/"
        },
        "id": "twCZdyVzDtBY",
        "outputId": "651b08fb-b5f7-48af-ebf2-9debdcca8011"
      },
      "outputs": [
        {
          "output_type": "stream",
          "name": "stdout",
          "text": [
            "Collecting git+https://github.com/tony-pitchblack/FinRL.git@benchmarking\n",
            "  Cloning https://github.com/tony-pitchblack/FinRL.git (to revision benchmarking) to /tmp/pip-req-build-7a1ea8na\n",
            "  Running command git clone --filter=blob:none --quiet https://github.com/tony-pitchblack/FinRL.git /tmp/pip-req-build-7a1ea8na\n",
            "  Running command git checkout -b benchmarking --track origin/benchmarking\n",
            "  Switched to a new branch 'benchmarking'\n",
            "  Branch 'benchmarking' set up to track remote branch 'benchmarking' from 'origin'.\n",
            "  Resolved https://github.com/tony-pitchblack/FinRL.git to commit f7dab0a4cda4ae68bfe3b45c3be038bf01327878\n",
            "  Installing build dependencies ... \u001b[?25l\u001b[?25hdone\n",
            "  Getting requirements to build wheel ... \u001b[?25l\u001b[?25hdone\n",
            "  Preparing metadata (pyproject.toml) ... \u001b[?25l\u001b[?25hdone\n",
            "Building wheels for collected packages: finrl\n",
            "  Building wheel for finrl (pyproject.toml) ... \u001b[?25l\u001b[?25hdone\n",
            "  Created wheel for finrl: filename=finrl-0.3.6-py3-none-any.whl size=4699705 sha256=bf4aa568213131dc008cb0a03ebe73d661cd57327a2b12ef97b976db6a7ca736\n",
            "  Stored in directory: /tmp/pip-ephem-wheel-cache-5_ea5m87/wheels/e0/44/c0/13e3a1817a2032d4706226574adb60703205278f9a259301e9\n",
            "Successfully built finrl\n",
            "Installing collected packages: finrl\n",
            "Successfully installed finrl-0.3.6\n"
          ]
        }
      ],
      "source": [
        "!pip install git+https://github.com/tony-pitchblack/FinRL.git@benchmarking --no-deps \\\n",
        "    # --force-reinstall --no-deps"
      ]
    },
    {
      "cell_type": "code",
      "execution_count": 11,
      "metadata": {
        "colab": {
          "base_uri": "https://localhost:8080/",
          "height": 0
        },
        "id": "1S3eA6pMHTxn",
        "outputId": "1bf6d0fe-2eaa-472f-a259-fda069d85164"
      },
      "outputs": [
        {
          "output_type": "stream",
          "name": "stdout",
          "text": [
            "--2025-02-13 06:04:57--  https://raw.githubusercontent.com/tony-pitchblack/FinRL/benchmarking/requirements.txt\n",
            "Resolving raw.githubusercontent.com (raw.githubusercontent.com)... 185.199.108.133, 185.199.109.133, 185.199.111.133, ...\n",
            "Connecting to raw.githubusercontent.com (raw.githubusercontent.com)|185.199.108.133|:443... connected.\n",
            "HTTP request sent, awaiting response... 200 OK\n",
            "Length: 764 [text/plain]\n",
            "Saving to: ‘requirements.txt’\n",
            "\n",
            "requirements.txt    100%[===================>]     764  --.-KB/s    in 0s      \n",
            "\n",
            "2025-02-13 06:04:58 (56.7 MB/s) - ‘requirements.txt’ saved [764/764]\n",
            "\n",
            "Collecting alpaca_trade_api>=2.1.0 (from -r requirements.txt (line 1))\n",
            "  Downloading alpaca_trade_api-3.2.0-py3-none-any.whl.metadata (29 kB)\n",
            "Collecting alpaca-py (from -r requirements.txt (line 2))\n",
            "  Downloading alpaca_py-0.38.0-py3-none-any.whl.metadata (13 kB)\n",
            "Collecting selenium (from -r requirements.txt (line 3))\n",
            "  Downloading selenium-4.28.1-py3-none-any.whl.metadata (7.1 kB)\n",
            "Collecting webdriver-manager (from -r requirements.txt (line 4))\n",
            "  Downloading webdriver_manager-4.0.2-py2.py3-none-any.whl.metadata (12 kB)\n",
            "Collecting ccxt>=1.66.32 (from -r requirements.txt (line 5))\n",
            "  Downloading ccxt-4.4.58-py2.py3-none-any.whl.metadata (133 kB)\n",
            "\u001b[2K     \u001b[90m━━━━━━━━━━━━━━━━━━━━━━━━━━━━━━━━━━━━━━━━\u001b[0m \u001b[32m133.2/133.2 kB\u001b[0m \u001b[31m6.3 MB/s\u001b[0m eta \u001b[36m0:00:00\u001b[0m\n",
            "\u001b[?25hCollecting exchange_calendars==3.6.3 (from -r requirements.txt (line 7))\n",
            "  Downloading exchange_calendars-3.6.3.tar.gz (152 kB)\n",
            "\u001b[2K     \u001b[90m━━━━━━━━━━━━━━━━━━━━━━━━━━━━━━━━━━━━━━━━\u001b[0m \u001b[32m152.8/152.8 kB\u001b[0m \u001b[31m11.0 MB/s\u001b[0m eta \u001b[36m0:00:00\u001b[0m\n",
            "\u001b[?25h  Preparing metadata (setup.py) ... \u001b[?25l\u001b[?25hdone\n",
            "Collecting gputil (from -r requirements.txt (line 8))\n",
            "  Downloading GPUtil-1.4.0.tar.gz (5.5 kB)\n",
            "  Preparing metadata (setup.py) ... \u001b[?25l\u001b[?25hdone\n",
            "Requirement already satisfied: gymnasium in /usr/local/lib/python3.11/dist-packages (from -r requirements.txt (line 9)) (1.0.0)\n",
            "Collecting importlib-metadata==4.13.0 (from -r requirements.txt (line 10))\n",
            "  Downloading importlib_metadata-4.13.0-py3-none-any.whl.metadata (4.9 kB)\n",
            "Collecting jqdatasdk (from -r requirements.txt (line 11))\n",
            "  Downloading jqdatasdk-1.9.7-py3-none-any.whl.metadata (5.8 kB)\n",
            "Collecting lz4 (from -r requirements.txt (line 12))\n",
            "  Downloading lz4-4.4.3-cp311-cp311-manylinux_2_17_x86_64.manylinux2014_x86_64.whl.metadata (3.8 kB)\n",
            "Requirement already satisfied: matplotlib in /usr/local/lib/python3.11/dist-packages (from -r requirements.txt (line 14)) (3.10.0)\n",
            "Requirement already satisfied: numpy>=1.17.3 in /usr/local/lib/python3.11/dist-packages (from -r requirements.txt (line 16)) (1.26.4)\n",
            "Requirement already satisfied: pandas>=1.1.5 in /usr/local/lib/python3.11/dist-packages (from -r requirements.txt (line 17)) (2.2.2)\n",
            "Collecting pre-commit (from -r requirements.txt (line 20))\n",
            "  Downloading pre_commit-4.1.0-py2.py3-none-any.whl.metadata (1.3 kB)\n",
            "Requirement already satisfied: pytest in /usr/local/lib/python3.11/dist-packages (from -r requirements.txt (line 25)) (8.3.4)\n",
            "Collecting recommonmark (from -r requirements.txt (line 29))\n",
            "  Downloading recommonmark-0.7.1-py2.py3-none-any.whl.metadata (463 bytes)\n",
            "Requirement already satisfied: dm_tree in /usr/local/lib/python3.11/dist-packages (from -r requirements.txt (line 30)) (0.1.9)\n",
            "Requirement already satisfied: scikit-learn>=0.21.0 in /usr/local/lib/python3.11/dist-packages (from -r requirements.txt (line 33)) (1.6.1)\n",
            "Requirement already satisfied: setuptools>=65.5.0 in /usr/local/lib/python3.11/dist-packages (from -r requirements.txt (line 37)) (75.1.0)\n",
            "Requirement already satisfied: sphinx in /usr/local/lib/python3.11/dist-packages (from -r requirements.txt (line 40)) (8.1.3)\n",
            "Collecting sphinx_rtd_theme (from -r requirements.txt (line 41))\n",
            "  Downloading sphinx_rtd_theme-3.0.2-py2.py3-none-any.whl.metadata (4.4 kB)\n",
            "Requirement already satisfied: SQLAlchemy in /usr/local/lib/python3.11/dist-packages (from -r requirements.txt (line 44)) (2.0.37)\n",
            "Collecting stockstats>=0.4.0 (from -r requirements.txt (line 46))\n",
            "  Downloading stockstats-0.6.4-py2.py3-none-any.whl.metadata (39 kB)\n",
            "Collecting swig (from -r requirements.txt (line 47))\n",
            "  Downloading swig-4.3.0-py2.py3-none-manylinux_2_5_x86_64.manylinux1_x86_64.whl.metadata (3.5 kB)\n",
            "Collecting tensorboardX (from -r requirements.txt (line 49))\n",
            "  Downloading tensorboardX-2.6.2.2-py2.py3-none-any.whl.metadata (5.8 kB)\n",
            "Requirement already satisfied: wheel>=0.33.6 in /usr/local/lib/python3.11/dist-packages (from -r requirements.txt (line 50)) (0.45.1)\n",
            "Collecting wrds (from -r requirements.txt (line 51))\n",
            "  Downloading wrds-3.3.0-py3-none-any.whl.metadata (5.7 kB)\n",
            "Requirement already satisfied: yfinance in /usr/local/lib/python3.11/dist-packages (from -r requirements.txt (line 54)) (0.2.52)\n",
            "Collecting ray[default] (from -r requirements.txt (line 26))\n",
            "  Downloading ray-2.42.1-cp311-cp311-manylinux2014_x86_64.whl.metadata (18 kB)\n",
            "Collecting stable-baselines3[extra] (from -r requirements.txt (line 45))\n",
            "  Downloading stable_baselines3-2.5.0-py3-none-any.whl.metadata (4.8 kB)\n",
            "Collecting pyluach (from exchange_calendars==3.6.3->-r requirements.txt (line 7))\n",
            "  Downloading pyluach-2.2.0-py3-none-any.whl.metadata (4.3 kB)\n",
            "Requirement already satisfied: python-dateutil in /usr/local/lib/python3.11/dist-packages (from exchange_calendars==3.6.3->-r requirements.txt (line 7)) (2.8.2)\n",
            "Requirement already satisfied: pytz in /usr/local/lib/python3.11/dist-packages (from exchange_calendars==3.6.3->-r requirements.txt (line 7)) (2025.1)\n",
            "Requirement already satisfied: toolz in /usr/local/lib/python3.11/dist-packages (from exchange_calendars==3.6.3->-r requirements.txt (line 7)) (0.12.1)\n",
            "Collecting korean_lunar_calendar (from exchange_calendars==3.6.3->-r requirements.txt (line 7))\n",
            "  Downloading korean_lunar_calendar-0.3.1-py3-none-any.whl.metadata (2.8 kB)\n",
            "Requirement already satisfied: zipp>=0.5 in /usr/local/lib/python3.11/dist-packages (from importlib-metadata==4.13.0->-r requirements.txt (line 10)) (3.21.0)\n",
            "Requirement already satisfied: requests<3,>2 in /usr/local/lib/python3.11/dist-packages (from alpaca_trade_api>=2.1.0->-r requirements.txt (line 1)) (2.32.3)\n",
            "Collecting urllib3<2,>1.24 (from alpaca_trade_api>=2.1.0->-r requirements.txt (line 1))\n",
            "  Downloading urllib3-1.26.20-py2.py3-none-any.whl.metadata (50 kB)\n",
            "\u001b[2K     \u001b[90m━━━━━━━━━━━━━━━━━━━━━━━━━━━━━━━━━━━━━━━━\u001b[0m \u001b[32m50.1/50.1 kB\u001b[0m \u001b[31m2.7 MB/s\u001b[0m eta \u001b[36m0:00:00\u001b[0m\n",
            "\u001b[?25hRequirement already satisfied: websocket-client<2,>=0.56.0 in /usr/local/lib/python3.11/dist-packages (from alpaca_trade_api>=2.1.0->-r requirements.txt (line 1)) (1.8.0)\n",
            "Collecting websockets<11,>=9.0 (from alpaca_trade_api>=2.1.0->-r requirements.txt (line 1))\n",
            "  Downloading websockets-10.4-cp311-cp311-manylinux_2_5_x86_64.manylinux1_x86_64.manylinux_2_17_x86_64.manylinux2014_x86_64.whl.metadata (6.4 kB)\n",
            "Collecting msgpack==1.0.3 (from alpaca_trade_api>=2.1.0->-r requirements.txt (line 1))\n",
            "  Downloading msgpack-1.0.3.tar.gz (123 kB)\n",
            "\u001b[2K     \u001b[90m━━━━━━━━━━━━━━━━━━━━━━━━━━━━━━━━━━━━━━━━\u001b[0m \u001b[32m123.8/123.8 kB\u001b[0m \u001b[31m8.7 MB/s\u001b[0m eta \u001b[36m0:00:00\u001b[0m\n",
            "\u001b[?25h  Preparing metadata (setup.py) ... \u001b[?25l\u001b[?25hdone\n",
            "Requirement already satisfied: aiohttp<4,>=3.8.3 in /usr/local/lib/python3.11/dist-packages (from alpaca_trade_api>=2.1.0->-r requirements.txt (line 1)) (3.11.12)\n",
            "Collecting PyYAML==6.0.1 (from alpaca_trade_api>=2.1.0->-r requirements.txt (line 1))\n",
            "  Downloading PyYAML-6.0.1-cp311-cp311-manylinux_2_17_x86_64.manylinux2014_x86_64.whl.metadata (2.1 kB)\n",
            "Collecting deprecation==2.1.0 (from alpaca_trade_api>=2.1.0->-r requirements.txt (line 1))\n",
            "  Downloading deprecation-2.1.0-py2.py3-none-any.whl.metadata (4.6 kB)\n",
            "Requirement already satisfied: packaging in /usr/local/lib/python3.11/dist-packages (from deprecation==2.1.0->alpaca_trade_api>=2.1.0->-r requirements.txt (line 1)) (24.2)\n",
            "Requirement already satisfied: pydantic<3.0.0,>=2.0.3 in /usr/local/lib/python3.11/dist-packages (from alpaca-py->-r requirements.txt (line 2)) (2.10.6)\n",
            "Collecting sseclient-py<2.0.0,>=1.7.2 (from alpaca-py->-r requirements.txt (line 2))\n",
            "  Downloading sseclient_py-1.8.0-py2.py3-none-any.whl.metadata (2.0 kB)\n",
            "Collecting trio~=0.17 (from selenium->-r requirements.txt (line 3))\n",
            "  Downloading trio-0.28.0-py3-none-any.whl.metadata (8.5 kB)\n",
            "Collecting trio-websocket~=0.9 (from selenium->-r requirements.txt (line 3))\n",
            "  Downloading trio_websocket-0.11.1-py3-none-any.whl.metadata (4.7 kB)\n",
            "Requirement already satisfied: certifi>=2021.10.8 in /usr/local/lib/python3.11/dist-packages (from selenium->-r requirements.txt (line 3)) (2025.1.31)\n",
            "Requirement already satisfied: typing_extensions~=4.9 in /usr/local/lib/python3.11/dist-packages (from selenium->-r requirements.txt (line 3)) (4.12.2)\n",
            "Collecting python-dotenv (from webdriver-manager->-r requirements.txt (line 4))\n",
            "  Downloading python_dotenv-1.0.1-py3-none-any.whl.metadata (23 kB)\n",
            "Requirement already satisfied: cryptography>=2.6.1 in /usr/local/lib/python3.11/dist-packages (from ccxt>=1.66.32->-r requirements.txt (line 5)) (43.0.3)\n",
            "Collecting aiohttp<4,>=3.8.3 (from alpaca_trade_api>=2.1.0->-r requirements.txt (line 1))\n",
            "  Downloading aiohttp-3.10.11-cp311-cp311-manylinux_2_17_x86_64.manylinux2014_x86_64.whl.metadata (7.7 kB)\n",
            "Collecting aiodns>=1.1.1 (from ccxt>=1.66.32->-r requirements.txt (line 5))\n",
            "  Downloading aiodns-3.2.0-py3-none-any.whl.metadata (4.0 kB)\n",
            "Requirement already satisfied: yarl>=1.7.2 in /usr/local/lib/python3.11/dist-packages (from ccxt>=1.66.32->-r requirements.txt (line 5)) (1.18.3)\n",
            "Requirement already satisfied: cloudpickle>=1.2.0 in /usr/local/lib/python3.11/dist-packages (from gymnasium->-r requirements.txt (line 9)) (3.1.1)\n",
            "Requirement already satisfied: farama-notifications>=0.0.1 in /usr/local/lib/python3.11/dist-packages (from gymnasium->-r requirements.txt (line 9)) (0.0.4)\n",
            "Requirement already satisfied: six in /usr/local/lib/python3.11/dist-packages (from jqdatasdk->-r requirements.txt (line 11)) (1.17.0)\n",
            "Collecting pymysql>=0.7.6 (from jqdatasdk->-r requirements.txt (line 11))\n",
            "  Downloading PyMySQL-1.1.1-py3-none-any.whl.metadata (4.4 kB)\n",
            "Collecting thriftpy2!=0.5.1,>=0.3.9 (from jqdatasdk->-r requirements.txt (line 11))\n",
            "  Downloading thriftpy2-0.5.2.tar.gz (782 kB)\n",
            "\u001b[2K     \u001b[90m━━━━━━━━━━━━━━━━━━━━━━━━━━━━━━━━━━━━━━━━\u001b[0m \u001b[32m782.3/782.3 kB\u001b[0m \u001b[31m39.2 MB/s\u001b[0m eta \u001b[36m0:00:00\u001b[0m\n",
            "\u001b[?25h  Installing build dependencies ... \u001b[?25l\u001b[?25hdone\n",
            "  Getting requirements to build wheel ... \u001b[?25l\u001b[?25hdone\n",
            "  Preparing metadata (pyproject.toml) ... \u001b[?25l\u001b[?25hdone\n",
            "Requirement already satisfied: contourpy>=1.0.1 in /usr/local/lib/python3.11/dist-packages (from matplotlib->-r requirements.txt (line 14)) (1.3.1)\n",
            "Requirement already satisfied: cycler>=0.10 in /usr/local/lib/python3.11/dist-packages (from matplotlib->-r requirements.txt (line 14)) (0.12.1)\n",
            "Requirement already satisfied: fonttools>=4.22.0 in /usr/local/lib/python3.11/dist-packages (from matplotlib->-r requirements.txt (line 14)) (4.55.8)\n",
            "Requirement already satisfied: kiwisolver>=1.3.1 in /usr/local/lib/python3.11/dist-packages (from matplotlib->-r requirements.txt (line 14)) (1.4.8)\n",
            "Requirement already satisfied: pillow>=8 in /usr/local/lib/python3.11/dist-packages (from matplotlib->-r requirements.txt (line 14)) (11.1.0)\n",
            "Requirement already satisfied: pyparsing>=2.3.1 in /usr/local/lib/python3.11/dist-packages (from matplotlib->-r requirements.txt (line 14)) (3.2.1)\n",
            "Requirement already satisfied: tzdata>=2022.7 in /usr/local/lib/python3.11/dist-packages (from pandas>=1.1.5->-r requirements.txt (line 17)) (2025.1)\n",
            "Collecting cfgv>=2.0.0 (from pre-commit->-r requirements.txt (line 20))\n",
            "  Downloading cfgv-3.4.0-py2.py3-none-any.whl.metadata (8.5 kB)\n",
            "Collecting identify>=1.0.0 (from pre-commit->-r requirements.txt (line 20))\n",
            "  Downloading identify-2.6.7-py2.py3-none-any.whl.metadata (4.4 kB)\n",
            "Collecting nodeenv>=0.11.1 (from pre-commit->-r requirements.txt (line 20))\n",
            "  Downloading nodeenv-1.9.1-py2.py3-none-any.whl.metadata (21 kB)\n",
            "Collecting virtualenv>=20.10.0 (from pre-commit->-r requirements.txt (line 20))\n",
            "  Downloading virtualenv-20.29.2-py3-none-any.whl.metadata (4.5 kB)\n",
            "Requirement already satisfied: iniconfig in /usr/local/lib/python3.11/dist-packages (from pytest->-r requirements.txt (line 25)) (2.0.0)\n",
            "Requirement already satisfied: pluggy<2,>=1.5 in /usr/local/lib/python3.11/dist-packages (from pytest->-r requirements.txt (line 25)) (1.5.0)\n",
            "Requirement already satisfied: click>=7.0 in /usr/local/lib/python3.11/dist-packages (from ray[default]->-r requirements.txt (line 26)) (8.1.8)\n",
            "Requirement already satisfied: filelock in /usr/local/lib/python3.11/dist-packages (from ray[default]->-r requirements.txt (line 26)) (3.17.0)\n",
            "Requirement already satisfied: jsonschema in /usr/local/lib/python3.11/dist-packages (from ray[default]->-r requirements.txt (line 26)) (4.23.0)\n",
            "Requirement already satisfied: protobuf!=3.19.5,>=3.15.3 in /usr/local/lib/python3.11/dist-packages (from ray[default]->-r requirements.txt (line 26)) (4.25.6)\n",
            "Requirement already satisfied: aiosignal in /usr/local/lib/python3.11/dist-packages (from ray[default]->-r requirements.txt (line 26)) (1.3.2)\n",
            "Requirement already satisfied: frozenlist in /usr/local/lib/python3.11/dist-packages (from ray[default]->-r requirements.txt (line 26)) (1.5.0)\n",
            "Collecting aiohttp-cors (from ray[default]->-r requirements.txt (line 26))\n",
            "  Downloading aiohttp_cors-0.7.0-py3-none-any.whl.metadata (20 kB)\n",
            "Collecting colorful (from ray[default]->-r requirements.txt (line 26))\n",
            "  Downloading colorful-0.5.6-py2.py3-none-any.whl.metadata (16 kB)\n",
            "Collecting opencensus (from ray[default]->-r requirements.txt (line 26))\n",
            "  Downloading opencensus-0.11.4-py2.py3-none-any.whl.metadata (12 kB)\n",
            "Requirement already satisfied: prometheus-client>=0.7.1 in /usr/local/lib/python3.11/dist-packages (from ray[default]->-r requirements.txt (line 26)) (0.21.1)\n",
            "Requirement already satisfied: smart-open in /usr/local/lib/python3.11/dist-packages (from ray[default]->-r requirements.txt (line 26)) (7.1.0)\n",
            "Collecting py-spy>=0.2.0 (from ray[default]->-r requirements.txt (line 26))\n",
            "  Downloading py_spy-0.4.0-py2.py3-none-manylinux_2_5_x86_64.manylinux1_x86_64.whl.metadata (16 kB)\n",
            "Requirement already satisfied: grpcio>=1.42.0 in /usr/local/lib/python3.11/dist-packages (from ray[default]->-r requirements.txt (line 26)) (1.70.0)\n",
            "Requirement already satisfied: pyarrow>=9.0.0 in /usr/local/lib/python3.11/dist-packages (from ray[rllib]->-r requirements.txt (line 27)) (17.0.0)\n",
            "Requirement already satisfied: fsspec in /usr/local/lib/python3.11/dist-packages (from ray[rllib]->-r requirements.txt (line 27)) (2024.10.0)\n",
            "Collecting ormsgpack==1.7.0 (from ray[rllib]->-r requirements.txt (line 27))\n",
            "  Downloading ormsgpack-1.7.0-cp311-cp311-manylinux_2_17_x86_64.manylinux2014_x86_64.whl.metadata (43 kB)\n",
            "\u001b[2K     \u001b[90m━━━━━━━━━━━━━━━━━━━━━━━━━━━━━━━━━━━━━━━━\u001b[0m \u001b[32m43.5/43.5 kB\u001b[0m \u001b[31m3.5 MB/s\u001b[0m eta \u001b[36m0:00:00\u001b[0m\n",
            "\u001b[?25hRequirement already satisfied: scipy in /usr/local/lib/python3.11/dist-packages (from ray[rllib]->-r requirements.txt (line 27)) (1.13.1)\n",
            "Collecting commonmark>=0.8.1 (from recommonmark->-r requirements.txt (line 29))\n",
            "  Downloading commonmark-0.9.1-py2.py3-none-any.whl.metadata (5.7 kB)\n",
            "Requirement already satisfied: docutils>=0.11 in /usr/local/lib/python3.11/dist-packages (from recommonmark->-r requirements.txt (line 29)) (0.21.2)\n",
            "Requirement already satisfied: absl-py>=0.6.1 in /usr/local/lib/python3.11/dist-packages (from dm_tree->-r requirements.txt (line 30)) (1.4.0)\n",
            "Requirement already satisfied: attrs>=18.2.0 in /usr/local/lib/python3.11/dist-packages (from dm_tree->-r requirements.txt (line 30)) (25.1.0)\n",
            "Requirement already satisfied: wrapt>=1.11.2 in /usr/local/lib/python3.11/dist-packages (from dm_tree->-r requirements.txt (line 30)) (1.17.2)\n",
            "Requirement already satisfied: joblib>=1.2.0 in /usr/local/lib/python3.11/dist-packages (from scikit-learn>=0.21.0->-r requirements.txt (line 33)) (1.4.2)\n",
            "Requirement already satisfied: threadpoolctl>=3.1.0 in /usr/local/lib/python3.11/dist-packages (from scikit-learn>=0.21.0->-r requirements.txt (line 33)) (3.5.0)\n",
            "Requirement already satisfied: sphinxcontrib-applehelp>=1.0.7 in /usr/local/lib/python3.11/dist-packages (from sphinx->-r requirements.txt (line 40)) (2.0.0)\n",
            "Requirement already satisfied: sphinxcontrib-devhelp>=1.0.6 in /usr/local/lib/python3.11/dist-packages (from sphinx->-r requirements.txt (line 40)) (2.0.0)\n",
            "Requirement already satisfied: sphinxcontrib-htmlhelp>=2.0.6 in /usr/local/lib/python3.11/dist-packages (from sphinx->-r requirements.txt (line 40)) (2.1.0)\n",
            "Requirement already satisfied: sphinxcontrib-jsmath>=1.0.1 in /usr/local/lib/python3.11/dist-packages (from sphinx->-r requirements.txt (line 40)) (1.0.1)\n",
            "Requirement already satisfied: sphinxcontrib-qthelp>=1.0.6 in /usr/local/lib/python3.11/dist-packages (from sphinx->-r requirements.txt (line 40)) (2.0.0)\n",
            "Requirement already satisfied: sphinxcontrib-serializinghtml>=1.1.9 in /usr/local/lib/python3.11/dist-packages (from sphinx->-r requirements.txt (line 40)) (2.0.0)\n",
            "Requirement already satisfied: Jinja2>=3.1 in /usr/local/lib/python3.11/dist-packages (from sphinx->-r requirements.txt (line 40)) (3.1.5)\n",
            "Requirement already satisfied: Pygments>=2.17 in /usr/local/lib/python3.11/dist-packages (from sphinx->-r requirements.txt (line 40)) (2.18.0)\n",
            "Requirement already satisfied: snowballstemmer>=2.2 in /usr/local/lib/python3.11/dist-packages (from sphinx->-r requirements.txt (line 40)) (2.2.0)\n",
            "Requirement already satisfied: babel>=2.13 in /usr/local/lib/python3.11/dist-packages (from sphinx->-r requirements.txt (line 40)) (2.17.0)\n",
            "Requirement already satisfied: alabaster>=0.7.14 in /usr/local/lib/python3.11/dist-packages (from sphinx->-r requirements.txt (line 40)) (1.0.0)\n",
            "Requirement already satisfied: imagesize>=1.3 in /usr/local/lib/python3.11/dist-packages (from sphinx->-r requirements.txt (line 40)) (1.4.1)\n",
            "Collecting sphinxcontrib-jquery<5,>=4 (from sphinx_rtd_theme->-r requirements.txt (line 41))\n",
            "  Downloading sphinxcontrib_jquery-4.1-py2.py3-none-any.whl.metadata (2.6 kB)\n",
            "Requirement already satisfied: greenlet!=0.4.17 in /usr/local/lib/python3.11/dist-packages (from SQLAlchemy->-r requirements.txt (line 44)) (3.1.1)\n",
            "Requirement already satisfied: torch<3.0,>=2.3 in /usr/local/lib/python3.11/dist-packages (from stable-baselines3[extra]->-r requirements.txt (line 45)) (2.5.1+cu124)\n",
            "Requirement already satisfied: opencv-python in /usr/local/lib/python3.11/dist-packages (from stable-baselines3[extra]->-r requirements.txt (line 45)) (4.11.0.86)\n",
            "Requirement already satisfied: pygame in /usr/local/lib/python3.11/dist-packages (from stable-baselines3[extra]->-r requirements.txt (line 45)) (2.6.1)\n",
            "Requirement already satisfied: tensorboard>=2.9.1 in /usr/local/lib/python3.11/dist-packages (from stable-baselines3[extra]->-r requirements.txt (line 45)) (2.18.0)\n",
            "Requirement already satisfied: psutil in /usr/local/lib/python3.11/dist-packages (from stable-baselines3[extra]->-r requirements.txt (line 45)) (5.9.5)\n",
            "Requirement already satisfied: tqdm in /usr/local/lib/python3.11/dist-packages (from stable-baselines3[extra]->-r requirements.txt (line 45)) (4.67.1)\n",
            "Requirement already satisfied: rich in /usr/local/lib/python3.11/dist-packages (from stable-baselines3[extra]->-r requirements.txt (line 45)) (13.9.4)\n",
            "Requirement already satisfied: ale-py>=0.9.0 in /usr/local/lib/python3.11/dist-packages (from stable-baselines3[extra]->-r requirements.txt (line 45)) (0.10.1)\n",
            "Collecting psycopg2-binary<2.10,>=2.9 (from wrds->-r requirements.txt (line 51))\n",
            "  Downloading psycopg2_binary-2.9.10-cp311-cp311-manylinux_2_17_x86_64.manylinux2014_x86_64.whl.metadata (4.9 kB)\n",
            "Requirement already satisfied: multitasking>=0.0.7 in /usr/local/lib/python3.11/dist-packages (from yfinance->-r requirements.txt (line 54)) (0.0.11)\n",
            "Requirement already satisfied: lxml>=4.9.1 in /usr/local/lib/python3.11/dist-packages (from yfinance->-r requirements.txt (line 54)) (5.3.0)\n",
            "Requirement already satisfied: platformdirs>=2.0.0 in /usr/local/lib/python3.11/dist-packages (from yfinance->-r requirements.txt (line 54)) (4.3.6)\n",
            "Requirement already satisfied: frozendict>=2.3.4 in /usr/local/lib/python3.11/dist-packages (from yfinance->-r requirements.txt (line 54)) (2.4.6)\n",
            "Requirement already satisfied: peewee>=3.16.2 in /usr/local/lib/python3.11/dist-packages (from yfinance->-r requirements.txt (line 54)) (3.17.9)\n",
            "Requirement already satisfied: beautifulsoup4>=4.11.1 in /usr/local/lib/python3.11/dist-packages (from yfinance->-r requirements.txt (line 54)) (4.13.3)\n",
            "Requirement already satisfied: html5lib>=1.1 in /usr/local/lib/python3.11/dist-packages (from yfinance->-r requirements.txt (line 54)) (1.1)\n",
            "Collecting pycares>=4.0.0 (from aiodns>=1.1.1->ccxt>=1.66.32->-r requirements.txt (line 5))\n",
            "  Downloading pycares-4.5.0-cp311-cp311-manylinux_2_17_x86_64.manylinux2014_x86_64.whl.metadata (4.1 kB)\n",
            "Requirement already satisfied: aiohappyeyeballs>=2.3.0 in /usr/local/lib/python3.11/dist-packages (from aiohttp<4,>=3.8.3->alpaca_trade_api>=2.1.0->-r requirements.txt (line 1)) (2.4.4)\n",
            "Requirement already satisfied: multidict<7.0,>=4.5 in /usr/local/lib/python3.11/dist-packages (from aiohttp<4,>=3.8.3->alpaca_trade_api>=2.1.0->-r requirements.txt (line 1)) (6.1.0)\n",
            "Requirement already satisfied: soupsieve>1.2 in /usr/local/lib/python3.11/dist-packages (from beautifulsoup4>=4.11.1->yfinance->-r requirements.txt (line 54)) (2.6)\n",
            "Requirement already satisfied: cffi>=1.12 in /usr/local/lib/python3.11/dist-packages (from cryptography>=2.6.1->ccxt>=1.66.32->-r requirements.txt (line 5)) (1.17.1)\n",
            "Requirement already satisfied: webencodings in /usr/local/lib/python3.11/dist-packages (from html5lib>=1.1->yfinance->-r requirements.txt (line 54)) (0.5.1)\n",
            "Requirement already satisfied: MarkupSafe>=2.0 in /usr/local/lib/python3.11/dist-packages (from Jinja2>=3.1->sphinx->-r requirements.txt (line 40)) (3.0.2)\n",
            "Requirement already satisfied: annotated-types>=0.6.0 in /usr/local/lib/python3.11/dist-packages (from pydantic<3.0.0,>=2.0.3->alpaca-py->-r requirements.txt (line 2)) (0.7.0)\n",
            "Requirement already satisfied: pydantic-core==2.27.2 in /usr/local/lib/python3.11/dist-packages (from pydantic<3.0.0,>=2.0.3->alpaca-py->-r requirements.txt (line 2)) (2.27.2)\n",
            "Requirement already satisfied: charset-normalizer<4,>=2 in /usr/local/lib/python3.11/dist-packages (from requests<3,>2->alpaca_trade_api>=2.1.0->-r requirements.txt (line 1)) (3.4.1)\n",
            "Requirement already satisfied: idna<4,>=2.5 in /usr/local/lib/python3.11/dist-packages (from requests<3,>2->alpaca_trade_api>=2.1.0->-r requirements.txt (line 1)) (3.10)\n",
            "Requirement already satisfied: markdown>=2.6.8 in /usr/local/lib/python3.11/dist-packages (from tensorboard>=2.9.1->stable-baselines3[extra]->-r requirements.txt (line 45)) (3.7)\n",
            "Requirement already satisfied: tensorboard-data-server<0.8.0,>=0.7.0 in /usr/local/lib/python3.11/dist-packages (from tensorboard>=2.9.1->stable-baselines3[extra]->-r requirements.txt (line 45)) (0.7.2)\n",
            "Requirement already satisfied: werkzeug>=1.0.1 in /usr/local/lib/python3.11/dist-packages (from tensorboard>=2.9.1->stable-baselines3[extra]->-r requirements.txt (line 45)) (3.1.3)\n",
            "Requirement already satisfied: Cython>=3.0.10 in /usr/local/lib/python3.11/dist-packages (from thriftpy2!=0.5.1,>=0.3.9->jqdatasdk->-r requirements.txt (line 11)) (3.0.11)\n",
            "Requirement already satisfied: ply<4.0,>=3.4 in /usr/local/lib/python3.11/dist-packages (from thriftpy2!=0.5.1,>=0.3.9->jqdatasdk->-r requirements.txt (line 11)) (3.11)\n",
            "Requirement already satisfied: networkx in /usr/local/lib/python3.11/dist-packages (from torch<3.0,>=2.3->stable-baselines3[extra]->-r requirements.txt (line 45)) (3.4.2)\n",
            "Collecting nvidia-cuda-nvrtc-cu12==12.4.127 (from torch<3.0,>=2.3->stable-baselines3[extra]->-r requirements.txt (line 45))\n",
            "  Downloading nvidia_cuda_nvrtc_cu12-12.4.127-py3-none-manylinux2014_x86_64.whl.metadata (1.5 kB)\n",
            "Collecting nvidia-cuda-runtime-cu12==12.4.127 (from torch<3.0,>=2.3->stable-baselines3[extra]->-r requirements.txt (line 45))\n",
            "  Downloading nvidia_cuda_runtime_cu12-12.4.127-py3-none-manylinux2014_x86_64.whl.metadata (1.5 kB)\n",
            "Collecting nvidia-cuda-cupti-cu12==12.4.127 (from torch<3.0,>=2.3->stable-baselines3[extra]->-r requirements.txt (line 45))\n",
            "  Downloading nvidia_cuda_cupti_cu12-12.4.127-py3-none-manylinux2014_x86_64.whl.metadata (1.6 kB)\n",
            "Collecting nvidia-cudnn-cu12==9.1.0.70 (from torch<3.0,>=2.3->stable-baselines3[extra]->-r requirements.txt (line 45))\n",
            "  Downloading nvidia_cudnn_cu12-9.1.0.70-py3-none-manylinux2014_x86_64.whl.metadata (1.6 kB)\n",
            "Collecting nvidia-cublas-cu12==12.4.5.8 (from torch<3.0,>=2.3->stable-baselines3[extra]->-r requirements.txt (line 45))\n",
            "  Downloading nvidia_cublas_cu12-12.4.5.8-py3-none-manylinux2014_x86_64.whl.metadata (1.5 kB)\n",
            "Collecting nvidia-cufft-cu12==11.2.1.3 (from torch<3.0,>=2.3->stable-baselines3[extra]->-r requirements.txt (line 45))\n",
            "  Downloading nvidia_cufft_cu12-11.2.1.3-py3-none-manylinux2014_x86_64.whl.metadata (1.5 kB)\n",
            "Collecting nvidia-curand-cu12==10.3.5.147 (from torch<3.0,>=2.3->stable-baselines3[extra]->-r requirements.txt (line 45))\n",
            "  Downloading nvidia_curand_cu12-10.3.5.147-py3-none-manylinux2014_x86_64.whl.metadata (1.5 kB)\n",
            "Collecting nvidia-cusolver-cu12==11.6.1.9 (from torch<3.0,>=2.3->stable-baselines3[extra]->-r requirements.txt (line 45))\n",
            "  Downloading nvidia_cusolver_cu12-11.6.1.9-py3-none-manylinux2014_x86_64.whl.metadata (1.6 kB)\n",
            "Collecting nvidia-cusparse-cu12==12.3.1.170 (from torch<3.0,>=2.3->stable-baselines3[extra]->-r requirements.txt (line 45))\n",
            "  Downloading nvidia_cusparse_cu12-12.3.1.170-py3-none-manylinux2014_x86_64.whl.metadata (1.6 kB)\n",
            "Requirement already satisfied: nvidia-nccl-cu12==2.21.5 in /usr/local/lib/python3.11/dist-packages (from torch<3.0,>=2.3->stable-baselines3[extra]->-r requirements.txt (line 45)) (2.21.5)\n",
            "Requirement already satisfied: nvidia-nvtx-cu12==12.4.127 in /usr/local/lib/python3.11/dist-packages (from torch<3.0,>=2.3->stable-baselines3[extra]->-r requirements.txt (line 45)) (12.4.127)\n",
            "Collecting nvidia-nvjitlink-cu12==12.4.127 (from torch<3.0,>=2.3->stable-baselines3[extra]->-r requirements.txt (line 45))\n",
            "  Downloading nvidia_nvjitlink_cu12-12.4.127-py3-none-manylinux2014_x86_64.whl.metadata (1.5 kB)\n",
            "Requirement already satisfied: triton==3.1.0 in /usr/local/lib/python3.11/dist-packages (from torch<3.0,>=2.3->stable-baselines3[extra]->-r requirements.txt (line 45)) (3.1.0)\n",
            "Requirement already satisfied: sympy==1.13.1 in /usr/local/lib/python3.11/dist-packages (from torch<3.0,>=2.3->stable-baselines3[extra]->-r requirements.txt (line 45)) (1.13.1)\n",
            "Requirement already satisfied: mpmath<1.4,>=1.1.0 in /usr/local/lib/python3.11/dist-packages (from sympy==1.13.1->torch<3.0,>=2.3->stable-baselines3[extra]->-r requirements.txt (line 45)) (1.3.0)\n",
            "Collecting sortedcontainers (from trio~=0.17->selenium->-r requirements.txt (line 3))\n",
            "  Downloading sortedcontainers-2.4.0-py2.py3-none-any.whl.metadata (10 kB)\n",
            "Collecting outcome (from trio~=0.17->selenium->-r requirements.txt (line 3))\n",
            "  Downloading outcome-1.3.0.post0-py2.py3-none-any.whl.metadata (2.6 kB)\n",
            "Requirement already satisfied: sniffio>=1.3.0 in /usr/local/lib/python3.11/dist-packages (from trio~=0.17->selenium->-r requirements.txt (line 3)) (1.3.1)\n",
            "Collecting wsproto>=0.14 (from trio-websocket~=0.9->selenium->-r requirements.txt (line 3))\n",
            "  Downloading wsproto-1.2.0-py3-none-any.whl.metadata (5.6 kB)\n",
            "Requirement already satisfied: PySocks!=1.5.7,<2.0,>=1.5.6 in /usr/local/lib/python3.11/dist-packages (from urllib3[socks]<3,>=1.26->selenium->-r requirements.txt (line 3)) (1.7.1)\n",
            "Collecting distlib<1,>=0.3.7 (from virtualenv>=20.10.0->pre-commit->-r requirements.txt (line 20))\n",
            "  Downloading distlib-0.3.9-py2.py3-none-any.whl.metadata (5.2 kB)\n",
            "Requirement already satisfied: propcache>=0.2.0 in /usr/local/lib/python3.11/dist-packages (from yarl>=1.7.2->ccxt>=1.66.32->-r requirements.txt (line 5)) (0.2.1)\n",
            "Requirement already satisfied: jsonschema-specifications>=2023.03.6 in /usr/local/lib/python3.11/dist-packages (from jsonschema->ray[default]->-r requirements.txt (line 26)) (2024.10.1)\n",
            "Requirement already satisfied: referencing>=0.28.4 in /usr/local/lib/python3.11/dist-packages (from jsonschema->ray[default]->-r requirements.txt (line 26)) (0.36.2)\n",
            "Requirement already satisfied: rpds-py>=0.7.1 in /usr/local/lib/python3.11/dist-packages (from jsonschema->ray[default]->-r requirements.txt (line 26)) (0.22.3)\n",
            "Collecting opencensus-context>=0.1.3 (from opencensus->ray[default]->-r requirements.txt (line 26))\n",
            "  Downloading opencensus_context-0.1.3-py2.py3-none-any.whl.metadata (3.3 kB)\n",
            "Requirement already satisfied: google-api-core<3.0.0,>=1.0.0 in /usr/local/lib/python3.11/dist-packages (from opencensus->ray[default]->-r requirements.txt (line 26)) (2.19.2)\n",
            "Requirement already satisfied: markdown-it-py>=2.2.0 in /usr/local/lib/python3.11/dist-packages (from rich->stable-baselines3[extra]->-r requirements.txt (line 45)) (3.0.0)\n",
            "Requirement already satisfied: pycparser in /usr/local/lib/python3.11/dist-packages (from cffi>=1.12->cryptography>=2.6.1->ccxt>=1.66.32->-r requirements.txt (line 5)) (2.22)\n",
            "Requirement already satisfied: googleapis-common-protos<2.0.dev0,>=1.56.2 in /usr/local/lib/python3.11/dist-packages (from google-api-core<3.0.0,>=1.0.0->opencensus->ray[default]->-r requirements.txt (line 26)) (1.66.0)\n",
            "Requirement already satisfied: proto-plus<2.0.0dev,>=1.22.3 in /usr/local/lib/python3.11/dist-packages (from google-api-core<3.0.0,>=1.0.0->opencensus->ray[default]->-r requirements.txt (line 26)) (1.26.0)\n",
            "Requirement already satisfied: google-auth<3.0.dev0,>=2.14.1 in /usr/local/lib/python3.11/dist-packages (from google-api-core<3.0.0,>=1.0.0->opencensus->ray[default]->-r requirements.txt (line 26)) (2.27.0)\n",
            "Requirement already satisfied: mdurl~=0.1 in /usr/local/lib/python3.11/dist-packages (from markdown-it-py>=2.2.0->rich->stable-baselines3[extra]->-r requirements.txt (line 45)) (0.1.2)\n",
            "Requirement already satisfied: h11<1,>=0.9.0 in /usr/local/lib/python3.11/dist-packages (from wsproto>=0.14->trio-websocket~=0.9->selenium->-r requirements.txt (line 3)) (0.14.0)\n",
            "Requirement already satisfied: cachetools<6.0,>=2.0.0 in /usr/local/lib/python3.11/dist-packages (from google-auth<3.0.dev0,>=2.14.1->google-api-core<3.0.0,>=1.0.0->opencensus->ray[default]->-r requirements.txt (line 26)) (5.5.1)\n",
            "Requirement already satisfied: pyasn1-modules>=0.2.1 in /usr/local/lib/python3.11/dist-packages (from google-auth<3.0.dev0,>=2.14.1->google-api-core<3.0.0,>=1.0.0->opencensus->ray[default]->-r requirements.txt (line 26)) (0.4.1)\n",
            "Requirement already satisfied: rsa<5,>=3.1.4 in /usr/local/lib/python3.11/dist-packages (from google-auth<3.0.dev0,>=2.14.1->google-api-core<3.0.0,>=1.0.0->opencensus->ray[default]->-r requirements.txt (line 26)) (4.9)\n",
            "Requirement already satisfied: pyasn1<0.7.0,>=0.4.6 in /usr/local/lib/python3.11/dist-packages (from pyasn1-modules>=0.2.1->google-auth<3.0.dev0,>=2.14.1->google-api-core<3.0.0,>=1.0.0->opencensus->ray[default]->-r requirements.txt (line 26)) (0.6.1)\n",
            "Downloading importlib_metadata-4.13.0-py3-none-any.whl (23 kB)\n",
            "Downloading alpaca_trade_api-3.2.0-py3-none-any.whl (34 kB)\n",
            "Downloading deprecation-2.1.0-py2.py3-none-any.whl (11 kB)\n",
            "Downloading PyYAML-6.0.1-cp311-cp311-manylinux_2_17_x86_64.manylinux2014_x86_64.whl (757 kB)\n",
            "\u001b[2K   \u001b[90m━━━━━━━━━━━━━━━━━━━━━━━━━━━━━━━━━━━━━━━━\u001b[0m \u001b[32m757.7/757.7 kB\u001b[0m \u001b[31m43.9 MB/s\u001b[0m eta \u001b[36m0:00:00\u001b[0m\n",
            "\u001b[?25hDownloading alpaca_py-0.38.0-py3-none-any.whl (121 kB)\n",
            "\u001b[2K   \u001b[90m━━━━━━━━━━━━━━━━━━━━━━━━━━━━━━━━━━━━━━━━\u001b[0m \u001b[32m121.5/121.5 kB\u001b[0m \u001b[31m10.8 MB/s\u001b[0m eta \u001b[36m0:00:00\u001b[0m\n",
            "\u001b[?25hDownloading selenium-4.28.1-py3-none-any.whl (9.5 MB)\n",
            "\u001b[2K   \u001b[90m━━━━━━━━━━━━━━━━━━━━━━━━━━━━━━━━━━━━━━━━\u001b[0m \u001b[32m9.5/9.5 MB\u001b[0m \u001b[31m85.0 MB/s\u001b[0m eta \u001b[36m0:00:00\u001b[0m\n",
            "\u001b[?25hDownloading webdriver_manager-4.0.2-py2.py3-none-any.whl (27 kB)\n",
            "Downloading ccxt-4.4.58-py2.py3-none-any.whl (5.7 MB)\n",
            "\u001b[2K   \u001b[90m━━━━━━━━━━━━━━━━━━━━━━━━━━━━━━━━━━━━━━━━\u001b[0m \u001b[32m5.7/5.7 MB\u001b[0m \u001b[31m95.4 MB/s\u001b[0m eta \u001b[36m0:00:00\u001b[0m\n",
            "\u001b[?25hDownloading jqdatasdk-1.9.7-py3-none-any.whl (77 kB)\n",
            "\u001b[2K   \u001b[90m━━━━━━━━━━━━━━━━━━━━━━━━━━━━━━━━━━━━━━━━\u001b[0m \u001b[32m77.9/77.9 kB\u001b[0m \u001b[31m5.9 MB/s\u001b[0m eta \u001b[36m0:00:00\u001b[0m\n",
            "\u001b[?25hDownloading lz4-4.4.3-cp311-cp311-manylinux_2_17_x86_64.manylinux2014_x86_64.whl (1.3 MB)\n",
            "\u001b[2K   \u001b[90m━━━━━━━━━━━━━━━━━━━━━━━━━━━━━━━━━━━━━━━━\u001b[0m \u001b[32m1.3/1.3 MB\u001b[0m \u001b[31m48.6 MB/s\u001b[0m eta \u001b[36m0:00:00\u001b[0m\n",
            "\u001b[?25hDownloading pre_commit-4.1.0-py2.py3-none-any.whl (220 kB)\n",
            "\u001b[2K   \u001b[90m━━━━━━━━━━━━━━━━━━━━━━━━━━━━━━━━━━━━━━━━\u001b[0m \u001b[32m220.6/220.6 kB\u001b[0m \u001b[31m18.3 MB/s\u001b[0m eta \u001b[36m0:00:00\u001b[0m\n",
            "\u001b[?25hDownloading ormsgpack-1.7.0-cp311-cp311-manylinux_2_17_x86_64.manylinux2014_x86_64.whl (220 kB)\n",
            "\u001b[2K   \u001b[90m━━━━━━━━━━━━━━━━━━━━━━━━━━━━━━━━━━━━━━━━\u001b[0m \u001b[32m220.6/220.6 kB\u001b[0m \u001b[31m1.8 MB/s\u001b[0m eta \u001b[36m0:00:00\u001b[0m\n",
            "\u001b[?25hDownloading recommonmark-0.7.1-py2.py3-none-any.whl (10 kB)\n",
            "Downloading sphinx_rtd_theme-3.0.2-py2.py3-none-any.whl (7.7 MB)\n",
            "\u001b[2K   \u001b[90m━━━━━━━━━━━━━━━━━━━━━━━━━━━━━━━━━━━━━━━━\u001b[0m \u001b[32m7.7/7.7 MB\u001b[0m \u001b[31m81.1 MB/s\u001b[0m eta \u001b[36m0:00:00\u001b[0m\n",
            "\u001b[?25hDownloading stockstats-0.6.4-py2.py3-none-any.whl (31 kB)\n",
            "Downloading swig-4.3.0-py2.py3-none-manylinux_2_5_x86_64.manylinux1_x86_64.whl (1.9 MB)\n",
            "\u001b[2K   \u001b[90m━━━━━━━━━━━━━━━━━━━━━━━━━━━━━━━━━━━━━━━━\u001b[0m \u001b[32m1.9/1.9 MB\u001b[0m \u001b[31m69.6 MB/s\u001b[0m eta \u001b[36m0:00:00\u001b[0m\n",
            "\u001b[?25hDownloading tensorboardX-2.6.2.2-py2.py3-none-any.whl (101 kB)\n",
            "\u001b[2K   \u001b[90m━━━━━━━━━━━━━━━━━━━━━━━━━━━━━━━━━━━━━━━━\u001b[0m \u001b[32m101.7/101.7 kB\u001b[0m \u001b[31m8.9 MB/s\u001b[0m eta \u001b[36m0:00:00\u001b[0m\n",
            "\u001b[?25hDownloading wrds-3.3.0-py3-none-any.whl (13 kB)\n",
            "Downloading aiodns-3.2.0-py3-none-any.whl (5.7 kB)\n",
            "Downloading aiohttp-3.10.11-cp311-cp311-manylinux_2_17_x86_64.manylinux2014_x86_64.whl (1.3 MB)\n",
            "\u001b[2K   \u001b[90m━━━━━━━━━━━━━━━━━━━━━━━━━━━━━━━━━━━━━━━━\u001b[0m \u001b[32m1.3/1.3 MB\u001b[0m \u001b[31m54.4 MB/s\u001b[0m eta \u001b[36m0:00:00\u001b[0m\n",
            "\u001b[?25hDownloading cfgv-3.4.0-py2.py3-none-any.whl (7.2 kB)\n",
            "Downloading commonmark-0.9.1-py2.py3-none-any.whl (51 kB)\n",
            "\u001b[2K   \u001b[90m━━━━━━━━━━━━━━━━━━━━━━━━━━━━━━━━━━━━━━━━\u001b[0m \u001b[32m51.1/51.1 kB\u001b[0m \u001b[31m4.2 MB/s\u001b[0m eta \u001b[36m0:00:00\u001b[0m\n",
            "\u001b[?25hDownloading identify-2.6.7-py2.py3-none-any.whl (99 kB)\n",
            "\u001b[2K   \u001b[90m━━━━━━━━━━━━━━━━━━━━━━━━━━━━━━━━━━━━━━━━\u001b[0m \u001b[32m99.1/99.1 kB\u001b[0m \u001b[31m7.4 MB/s\u001b[0m eta \u001b[36m0:00:00\u001b[0m\n",
            "\u001b[?25hDownloading nodeenv-1.9.1-py2.py3-none-any.whl (22 kB)\n",
            "Downloading psycopg2_binary-2.9.10-cp311-cp311-manylinux_2_17_x86_64.manylinux2014_x86_64.whl (3.0 MB)\n",
            "\u001b[2K   \u001b[90m━━━━━━━━━━━━━━━━━━━━━━━━━━━━━━━━━━━━━━━━\u001b[0m \u001b[32m3.0/3.0 MB\u001b[0m \u001b[31m60.6 MB/s\u001b[0m eta \u001b[36m0:00:00\u001b[0m\n",
            "\u001b[?25hDownloading py_spy-0.4.0-py2.py3-none-manylinux_2_5_x86_64.manylinux1_x86_64.whl (2.7 MB)\n",
            "\u001b[2K   \u001b[90m━━━━━━━━━━━━━━━━━━━━━━━━━━━━━━━━━━━━━━━━\u001b[0m \u001b[32m2.7/2.7 MB\u001b[0m \u001b[31m75.2 MB/s\u001b[0m eta \u001b[36m0:00:00\u001b[0m\n",
            "\u001b[?25hDownloading PyMySQL-1.1.1-py3-none-any.whl (44 kB)\n",
            "\u001b[2K   \u001b[90m━━━━━━━━━━━━━━━━━━━━━━━━━━━━━━━━━━━━━━━━\u001b[0m \u001b[32m45.0/45.0 kB\u001b[0m \u001b[31m3.5 MB/s\u001b[0m eta \u001b[36m0:00:00\u001b[0m\n",
            "\u001b[?25hDownloading sphinxcontrib_jquery-4.1-py2.py3-none-any.whl (121 kB)\n",
            "\u001b[2K   \u001b[90m━━━━━━━━━━━━━━━━━━━━━━━━━━━━━━━━━━━━━━━━\u001b[0m \u001b[32m121.1/121.1 kB\u001b[0m \u001b[31m10.1 MB/s\u001b[0m eta \u001b[36m0:00:00\u001b[0m\n",
            "\u001b[?25hDownloading sseclient_py-1.8.0-py2.py3-none-any.whl (8.8 kB)\n",
            "Downloading nvidia_cublas_cu12-12.4.5.8-py3-none-manylinux2014_x86_64.whl (363.4 MB)\n",
            "\u001b[2K   \u001b[90m━━━━━━━━━━━━━━━━━━━━━━━━━━━━━━━━━━━━━━━━\u001b[0m \u001b[32m363.4/363.4 MB\u001b[0m \u001b[31m4.5 MB/s\u001b[0m eta \u001b[36m0:00:00\u001b[0m\n",
            "\u001b[?25hDownloading nvidia_cuda_cupti_cu12-12.4.127-py3-none-manylinux2014_x86_64.whl (13.8 MB)\n",
            "\u001b[2K   \u001b[90m━━━━━━━━━━━━━━━━━━━━━━━━━━━━━━━━━━━━━━━━\u001b[0m \u001b[32m13.8/13.8 MB\u001b[0m \u001b[31m49.3 MB/s\u001b[0m eta \u001b[36m0:00:00\u001b[0m\n",
            "\u001b[?25hDownloading nvidia_cuda_nvrtc_cu12-12.4.127-py3-none-manylinux2014_x86_64.whl (24.6 MB)\n",
            "\u001b[2K   \u001b[90m━━━━━━━━━━━━━━━━━━━━━━━━━━━━━━━━━━━━━━━━\u001b[0m \u001b[32m24.6/24.6 MB\u001b[0m \u001b[31m39.3 MB/s\u001b[0m eta \u001b[36m0:00:00\u001b[0m\n",
            "\u001b[?25hDownloading nvidia_cuda_runtime_cu12-12.4.127-py3-none-manylinux2014_x86_64.whl (883 kB)\n",
            "\u001b[2K   \u001b[90m━━━━━━━━━━━━━━━━━━━━━━━━━━━━━━━━━━━━━━━━\u001b[0m \u001b[32m883.7/883.7 kB\u001b[0m \u001b[31m25.1 MB/s\u001b[0m eta \u001b[36m0:00:00\u001b[0m\n",
            "\u001b[?25hDownloading nvidia_cudnn_cu12-9.1.0.70-py3-none-manylinux2014_x86_64.whl (664.8 MB)\n",
            "\u001b[2K   \u001b[90m━━━━━━━━━━━━━━━━━━━━━━━━━━━━━━━━━━━━━━━━\u001b[0m \u001b[32m664.8/664.8 MB\u001b[0m \u001b[31m1.4 MB/s\u001b[0m eta \u001b[36m0:00:00\u001b[0m\n",
            "\u001b[?25hDownloading nvidia_cufft_cu12-11.2.1.3-py3-none-manylinux2014_x86_64.whl (211.5 MB)\n",
            "\u001b[2K   \u001b[90m━━━━━━━━━━━━━━━━━━━━━━━━━━━━━━━━━━━━━━━━\u001b[0m \u001b[32m211.5/211.5 MB\u001b[0m \u001b[31m5.3 MB/s\u001b[0m eta \u001b[36m0:00:00\u001b[0m\n",
            "\u001b[?25hDownloading nvidia_curand_cu12-10.3.5.147-py3-none-manylinux2014_x86_64.whl (56.3 MB)\n",
            "\u001b[2K   \u001b[90m━━━━━━━━━━━━━━━━━━━━━━━━━━━━━━━━━━━━━━━━\u001b[0m \u001b[32m56.3/56.3 MB\u001b[0m \u001b[31m12.2 MB/s\u001b[0m eta \u001b[36m0:00:00\u001b[0m\n",
            "\u001b[?25hDownloading nvidia_cusolver_cu12-11.6.1.9-py3-none-manylinux2014_x86_64.whl (127.9 MB)\n",
            "\u001b[2K   \u001b[90m━━━━━━━━━━━━━━━━━━━━━━━━━━━━━━━━━━━━━━━━\u001b[0m \u001b[32m127.9/127.9 MB\u001b[0m \u001b[31m7.7 MB/s\u001b[0m eta \u001b[36m0:00:00\u001b[0m\n",
            "\u001b[?25hDownloading nvidia_cusparse_cu12-12.3.1.170-py3-none-manylinux2014_x86_64.whl (207.5 MB)\n",
            "\u001b[2K   \u001b[90m━━━━━━━━━━━━━━━━━━━━━━━━━━━━━━━━━━━━━━━━\u001b[0m \u001b[32m207.5/207.5 MB\u001b[0m \u001b[31m5.3 MB/s\u001b[0m eta \u001b[36m0:00:00\u001b[0m\n",
            "\u001b[?25hDownloading nvidia_nvjitlink_cu12-12.4.127-py3-none-manylinux2014_x86_64.whl (21.1 MB)\n",
            "\u001b[2K   \u001b[90m━━━━━━━━━━━━━━━━━━━━━━━━━━━━━━━━━━━━━━━━\u001b[0m \u001b[32m21.1/21.1 MB\u001b[0m \u001b[31m40.4 MB/s\u001b[0m eta \u001b[36m0:00:00\u001b[0m\n",
            "\u001b[?25hDownloading trio-0.28.0-py3-none-any.whl (486 kB)\n",
            "\u001b[2K   \u001b[90m━━━━━━━━━━━━━━━━━━━━━━━━━━━━━━━━━━━━━━━━\u001b[0m \u001b[32m486.3/486.3 kB\u001b[0m \u001b[31m30.8 MB/s\u001b[0m eta \u001b[36m0:00:00\u001b[0m\n",
            "\u001b[?25hDownloading trio_websocket-0.11.1-py3-none-any.whl (17 kB)\n",
            "Downloading urllib3-1.26.20-py2.py3-none-any.whl (144 kB)\n",
            "\u001b[2K   \u001b[90m━━━━━━━━━━━━━━━━━━━━━━━━━━━━━━━━━━━━━━━━\u001b[0m \u001b[32m144.2/144.2 kB\u001b[0m \u001b[31m11.1 MB/s\u001b[0m eta \u001b[36m0:00:00\u001b[0m\n",
            "\u001b[?25hDownloading virtualenv-20.29.2-py3-none-any.whl (4.3 MB)\n",
            "\u001b[2K   \u001b[90m━━━━━━━━━━━━━━━━━━━━━━━━━━━━━━━━━━━━━━━━\u001b[0m \u001b[32m4.3/4.3 MB\u001b[0m \u001b[31m74.4 MB/s\u001b[0m eta \u001b[36m0:00:00\u001b[0m\n",
            "\u001b[?25hDownloading websockets-10.4-cp311-cp311-manylinux_2_5_x86_64.manylinux1_x86_64.manylinux_2_17_x86_64.manylinux2014_x86_64.whl (107 kB)\n",
            "\u001b[2K   \u001b[90m━━━━━━━━━━━━━━━━━━━━━━━━━━━━━━━━━━━━━━━━\u001b[0m \u001b[32m107.4/107.4 kB\u001b[0m \u001b[31m8.5 MB/s\u001b[0m eta \u001b[36m0:00:00\u001b[0m\n",
            "\u001b[?25hDownloading aiohttp_cors-0.7.0-py3-none-any.whl (27 kB)\n",
            "Downloading colorful-0.5.6-py2.py3-none-any.whl (201 kB)\n",
            "\u001b[2K   \u001b[90m━━━━━━━━━━━━━━━━━━━━━━━━━━━━━━━━━━━━━━━━\u001b[0m \u001b[32m201.4/201.4 kB\u001b[0m \u001b[31m15.5 MB/s\u001b[0m eta \u001b[36m0:00:00\u001b[0m\n",
            "\u001b[?25hDownloading korean_lunar_calendar-0.3.1-py3-none-any.whl (9.0 kB)\n",
            "Downloading opencensus-0.11.4-py2.py3-none-any.whl (128 kB)\n",
            "\u001b[2K   \u001b[90m━━━━━━━━━━━━━━━━━━━━━━━━━━━━━━━━━━━━━━━━\u001b[0m \u001b[32m128.2/128.2 kB\u001b[0m \u001b[31m9.5 MB/s\u001b[0m eta \u001b[36m0:00:00\u001b[0m\n",
            "\u001b[?25hDownloading pyluach-2.2.0-py3-none-any.whl (25 kB)\n",
            "Downloading python_dotenv-1.0.1-py3-none-any.whl (19 kB)\n",
            "Downloading ray-2.42.1-cp311-cp311-manylinux2014_x86_64.whl (67.4 MB)\n",
            "\u001b[2K   \u001b[90m━━━━━━━━━━━━━━━━━━━━━━━━━━━━━━━━━━━━━━━━\u001b[0m \u001b[32m67.4/67.4 MB\u001b[0m \u001b[31m7.7 MB/s\u001b[0m eta \u001b[36m0:00:00\u001b[0m\n",
            "\u001b[?25hDownloading stable_baselines3-2.5.0-py3-none-any.whl (183 kB)\n",
            "\u001b[2K   \u001b[90m━━━━━━━━━━━━━━━━━━━━━━━━━━━━━━━━━━━━━━━━\u001b[0m \u001b[32m183.9/183.9 kB\u001b[0m \u001b[31m10.6 MB/s\u001b[0m eta \u001b[36m0:00:00\u001b[0m\n",
            "\u001b[?25hDownloading distlib-0.3.9-py2.py3-none-any.whl (468 kB)\n",
            "\u001b[2K   \u001b[90m━━━━━━━━━━━━━━━━━━━━━━━━━━━━━━━━━━━━━━━━\u001b[0m \u001b[32m469.0/469.0 kB\u001b[0m \u001b[31m21.1 MB/s\u001b[0m eta \u001b[36m0:00:00\u001b[0m\n",
            "\u001b[?25hDownloading opencensus_context-0.1.3-py2.py3-none-any.whl (5.1 kB)\n",
            "Downloading pycares-4.5.0-cp311-cp311-manylinux_2_17_x86_64.manylinux2014_x86_64.whl (288 kB)\n",
            "\u001b[2K   \u001b[90m━━━━━━━━━━━━━━━━━━━━━━━━━━━━━━━━━━━━━━━━\u001b[0m \u001b[32m288.6/288.6 kB\u001b[0m \u001b[31m20.6 MB/s\u001b[0m eta \u001b[36m0:00:00\u001b[0m\n",
            "\u001b[?25hDownloading wsproto-1.2.0-py3-none-any.whl (24 kB)\n",
            "Downloading outcome-1.3.0.post0-py2.py3-none-any.whl (10 kB)\n",
            "Downloading sortedcontainers-2.4.0-py2.py3-none-any.whl (29 kB)\n",
            "Building wheels for collected packages: exchange_calendars, msgpack, gputil, thriftpy2\n",
            "  Building wheel for exchange_calendars (setup.py) ... \u001b[?25l\u001b[?25hdone\n",
            "  Created wheel for exchange_calendars: filename=exchange_calendars-3.6.3-py3-none-any.whl size=182609 sha256=db0cf5a261667c9887737aae5840461aa486588c89c3831abbb8aeace5c9bac8\n",
            "  Stored in directory: /root/.cache/pip/wheels/05/56/fc/ac3dbf596f81748aa41efee8608b8effb6ef4453862dd0e045\n",
            "  Building wheel for msgpack (setup.py) ... \u001b[?25l\u001b[?25hdone\n",
            "  Created wheel for msgpack: filename=msgpack-1.0.3-cp311-cp311-linux_x86_64.whl size=15688 sha256=0b412cc71277d10c88a171f4b12c0e6452e992389cdd3aa178abfb800c5b8cc3\n",
            "  Stored in directory: /root/.cache/pip/wheels/f6/35/da/ed9b26b510235e00e3a3c3bab7bad97b59214729662255ab3d\n",
            "  Building wheel for gputil (setup.py) ... \u001b[?25l\u001b[?25hdone\n",
            "  Created wheel for gputil: filename=GPUtil-1.4.0-py3-none-any.whl size=7392 sha256=18eb0c68a8576b5ec8ccdc5aaecbc972da4098ea2fad7c6d02637b275fe623a8\n",
            "  Stored in directory: /root/.cache/pip/wheels/2b/4d/8f/55fb4f7b9b591891e8d3f72977c4ec6c7763b39c19f0861595\n",
            "  Building wheel for thriftpy2 (pyproject.toml) ... \u001b[?25l\u001b[?25hdone\n",
            "  Created wheel for thriftpy2: filename=thriftpy2-0.5.2-cp311-cp311-linux_x86_64.whl size=1824786 sha256=d22c22ac481c41dc47741ac166bea37dc87c47c23a45c97600c9355583734915\n",
            "  Stored in directory: /root/.cache/pip/wheels/17/32/fa/51ae0364792430fb80858f4705c9e0cba3d6900f591f0c4495\n",
            "Successfully built exchange_calendars msgpack gputil thriftpy2\n",
            "Installing collected packages: swig, sseclient-py, sortedcontainers, py-spy, opencensus-context, msgpack, korean_lunar_calendar, gputil, distlib, commonmark, colorful, wsproto, websockets, virtualenv, urllib3, thriftpy2, tensorboardX, PyYAML, python-dotenv, pymysql, pyluach, psycopg2-binary, outcome, ormsgpack, nvidia-nvjitlink-cu12, nvidia-curand-cu12, nvidia-cufft-cu12, nvidia-cuda-runtime-cu12, nvidia-cuda-nvrtc-cu12, nvidia-cuda-cupti-cu12, nvidia-cublas-cu12, nodeenv, lz4, importlib-metadata, identify, deprecation, cfgv, trio, pycares, pre-commit, nvidia-cusparse-cu12, nvidia-cudnn-cu12, aiohttp, wrds, webdriver-manager, trio-websocket, stockstats, nvidia-cusolver-cu12, jqdatasdk, exchange_calendars, alpaca_trade_api, alpaca-py, aiohttp-cors, aiodns, sphinxcontrib-jquery, selenium, recommonmark, ray, opencensus, ccxt, stable-baselines3, sphinx_rtd_theme\n",
            "  Attempting uninstall: msgpack\n",
            "    Found existing installation: msgpack 1.1.0\n",
            "    Uninstalling msgpack-1.1.0:\n",
            "      Successfully uninstalled msgpack-1.1.0\n",
            "  Attempting uninstall: websockets\n",
            "    Found existing installation: websockets 14.2\n",
            "    Uninstalling websockets-14.2:\n",
            "      Successfully uninstalled websockets-14.2\n",
            "  Attempting uninstall: urllib3\n",
            "    Found existing installation: urllib3 2.3.0\n",
            "    Uninstalling urllib3-2.3.0:\n",
            "      Successfully uninstalled urllib3-2.3.0\n",
            "  Attempting uninstall: PyYAML\n",
            "    Found existing installation: PyYAML 6.0.2\n",
            "    Uninstalling PyYAML-6.0.2:\n",
            "      Successfully uninstalled PyYAML-6.0.2\n",
            "  Attempting uninstall: nvidia-nvjitlink-cu12\n",
            "    Found existing installation: nvidia-nvjitlink-cu12 12.5.82\n",
            "    Uninstalling nvidia-nvjitlink-cu12-12.5.82:\n",
            "      Successfully uninstalled nvidia-nvjitlink-cu12-12.5.82\n",
            "  Attempting uninstall: nvidia-curand-cu12\n",
            "    Found existing installation: nvidia-curand-cu12 10.3.6.82\n",
            "    Uninstalling nvidia-curand-cu12-10.3.6.82:\n",
            "      Successfully uninstalled nvidia-curand-cu12-10.3.6.82\n",
            "  Attempting uninstall: nvidia-cufft-cu12\n",
            "    Found existing installation: nvidia-cufft-cu12 11.2.3.61\n",
            "    Uninstalling nvidia-cufft-cu12-11.2.3.61:\n",
            "      Successfully uninstalled nvidia-cufft-cu12-11.2.3.61\n",
            "  Attempting uninstall: nvidia-cuda-runtime-cu12\n",
            "    Found existing installation: nvidia-cuda-runtime-cu12 12.5.82\n",
            "    Uninstalling nvidia-cuda-runtime-cu12-12.5.82:\n",
            "      Successfully uninstalled nvidia-cuda-runtime-cu12-12.5.82\n",
            "  Attempting uninstall: nvidia-cuda-nvrtc-cu12\n",
            "    Found existing installation: nvidia-cuda-nvrtc-cu12 12.5.82\n",
            "    Uninstalling nvidia-cuda-nvrtc-cu12-12.5.82:\n",
            "      Successfully uninstalled nvidia-cuda-nvrtc-cu12-12.5.82\n",
            "  Attempting uninstall: nvidia-cuda-cupti-cu12\n",
            "    Found existing installation: nvidia-cuda-cupti-cu12 12.5.82\n",
            "    Uninstalling nvidia-cuda-cupti-cu12-12.5.82:\n",
            "      Successfully uninstalled nvidia-cuda-cupti-cu12-12.5.82\n",
            "  Attempting uninstall: nvidia-cublas-cu12\n",
            "    Found existing installation: nvidia-cublas-cu12 12.5.3.2\n",
            "    Uninstalling nvidia-cublas-cu12-12.5.3.2:\n",
            "      Successfully uninstalled nvidia-cublas-cu12-12.5.3.2\n",
            "  Attempting uninstall: importlib-metadata\n",
            "    Found existing installation: importlib_metadata 8.6.1\n",
            "    Uninstalling importlib_metadata-8.6.1:\n",
            "      Successfully uninstalled importlib_metadata-8.6.1\n",
            "  Attempting uninstall: nvidia-cusparse-cu12\n",
            "    Found existing installation: nvidia-cusparse-cu12 12.5.1.3\n",
            "    Uninstalling nvidia-cusparse-cu12-12.5.1.3:\n",
            "      Successfully uninstalled nvidia-cusparse-cu12-12.5.1.3\n",
            "  Attempting uninstall: nvidia-cudnn-cu12\n",
            "    Found existing installation: nvidia-cudnn-cu12 9.3.0.75\n",
            "    Uninstalling nvidia-cudnn-cu12-9.3.0.75:\n",
            "      Successfully uninstalled nvidia-cudnn-cu12-9.3.0.75\n",
            "  Attempting uninstall: aiohttp\n",
            "    Found existing installation: aiohttp 3.11.12\n",
            "    Uninstalling aiohttp-3.11.12:\n",
            "      Successfully uninstalled aiohttp-3.11.12\n",
            "  Attempting uninstall: nvidia-cusolver-cu12\n",
            "    Found existing installation: nvidia-cusolver-cu12 11.6.3.83\n",
            "    Uninstalling nvidia-cusolver-cu12-11.6.3.83:\n",
            "      Successfully uninstalled nvidia-cusolver-cu12-11.6.3.83\n",
            "\u001b[31mERROR: pip's dependency resolver does not currently take into account all the packages that are installed. This behaviour is the source of the following dependency conflicts.\n",
            "finrl 0.3.6 requires elegantrl@ git+https://github.com/AI4Finance-Foundation/ElegantRL.git, which is not installed.\n",
            "finrl 0.3.6 requires pyfolio<0.10,>=0.9, which is not installed.\n",
            "finrl 0.3.6 requires pyportfolioopt<2,>=1, which is not installed.\n",
            "finrl 0.3.6 requires ccxt<4,>=3, but you have ccxt 4.4.58 which is incompatible.\n",
            "finrl 0.3.6 requires exchange-calendars<5,>=4, but you have exchange-calendars 3.6.3 which is incompatible.\n",
            "finrl 0.3.6 requires stockstats<0.6,>=0.5, but you have stockstats 0.6.4 which is incompatible.\n",
            "google-genai 0.8.0 requires websockets<15.0dev,>=13.0, but you have websockets 10.4 which is incompatible.\u001b[0m\u001b[31m\n",
            "\u001b[0mSuccessfully installed PyYAML-6.0.1 aiodns-3.2.0 aiohttp-3.10.11 aiohttp-cors-0.7.0 alpaca-py-0.38.0 alpaca_trade_api-3.2.0 ccxt-4.4.58 cfgv-3.4.0 colorful-0.5.6 commonmark-0.9.1 deprecation-2.1.0 distlib-0.3.9 exchange_calendars-3.6.3 gputil-1.4.0 identify-2.6.7 importlib-metadata-4.13.0 jqdatasdk-1.9.7 korean_lunar_calendar-0.3.1 lz4-4.4.3 msgpack-1.0.3 nodeenv-1.9.1 nvidia-cublas-cu12-12.4.5.8 nvidia-cuda-cupti-cu12-12.4.127 nvidia-cuda-nvrtc-cu12-12.4.127 nvidia-cuda-runtime-cu12-12.4.127 nvidia-cudnn-cu12-9.1.0.70 nvidia-cufft-cu12-11.2.1.3 nvidia-curand-cu12-10.3.5.147 nvidia-cusolver-cu12-11.6.1.9 nvidia-cusparse-cu12-12.3.1.170 nvidia-nvjitlink-cu12-12.4.127 opencensus-0.11.4 opencensus-context-0.1.3 ormsgpack-1.7.0 outcome-1.3.0.post0 pre-commit-4.1.0 psycopg2-binary-2.9.10 py-spy-0.4.0 pycares-4.5.0 pyluach-2.2.0 pymysql-1.1.1 python-dotenv-1.0.1 ray-2.42.1 recommonmark-0.7.1 selenium-4.28.1 sortedcontainers-2.4.0 sphinx_rtd_theme-3.0.2 sphinxcontrib-jquery-4.1 sseclient-py-1.8.0 stable-baselines3-2.5.0 stockstats-0.6.4 swig-4.3.0 tensorboardX-2.6.2.2 thriftpy2-0.5.2 trio-0.28.0 trio-websocket-0.11.1 urllib3-1.26.20 virtualenv-20.29.2 webdriver-manager-4.0.2 websockets-10.4 wrds-3.3.0 wsproto-1.2.0\n"
          ]
        },
        {
          "output_type": "display_data",
          "data": {
            "application/vnd.colab-display-data+json": {
              "pip_warning": {
                "packages": [
                  "importlib_metadata"
                ]
              },
              "id": "532aad8ef07744c6a457c223c75d3d45"
            }
          },
          "metadata": {}
        }
      ],
      "source": [
        "# Install the dependencies listed in the requirements.txt file\n",
        "!wget https://raw.githubusercontent.com/tony-pitchblack/FinRL/benchmarking/requirements.txt -O requirements.txt\n",
        "!pip install -r requirements.txt"
      ]
    },
    {
      "cell_type": "code",
      "execution_count": 12,
      "metadata": {
        "id": "fpXql7QsTHzZ"
      },
      "outputs": [],
      "source": [
        "# %%capture\n",
        "# !pip install ray[rllib]"
      ]
    },
    {
      "cell_type": "markdown",
      "metadata": {
        "id": "ZTVPIJ3RBLk-"
      },
      "source": [
        "# Installs (old)"
      ]
    },
    {
      "cell_type": "code",
      "execution_count": null,
      "metadata": {
        "id": "FjEBRlmyPp2a"
      },
      "outputs": [],
      "source": [
        "# %%capture\n",
        "# !pip install -q yfinance==0.2.50\n",
        "# !pip install stable-baselines3\n",
        "# !pip install finrl\n",
        "# !pip install alpaca_trade_api\n",
        "# !pip install exchange_calendars\n",
        "# !pip install stockstats\n",
        "# !pip install wrds"
      ]
    },
    {
      "cell_type": "code",
      "execution_count": null,
      "metadata": {
        "id": "_RTmg2pwpR2W"
      },
      "outputs": [],
      "source": [
        "# %%capture\n",
        "# import numpy as np\n",
        "\n",
        "# if np.__version__ != '1.26.4':\n",
        "#     !pip install -q numpy==1.26.4 --force-reinstall\n",
        "\n",
        "# import pandas as pd\n",
        "\n",
        "# if pd.__version__ != '2.2.2':\n",
        "#     !pip install -q pandas==2.2.2 --force-reinstall"
      ]
    },
    {
      "cell_type": "code",
      "execution_count": null,
      "metadata": {
        "id": "HBuGuB06UJwT"
      },
      "outputs": [],
      "source": [
        "# %%capture\n",
        "# !pip install ray[rllib]"
      ]
    },
    {
      "cell_type": "markdown",
      "metadata": {
        "id": "SIU-vXqDRW3L"
      },
      "source": [
        "# Imports"
      ]
    },
    {
      "cell_type": "code",
      "execution_count": 1,
      "metadata": {
        "id": "J4xitjm7BQaf"
      },
      "outputs": [],
      "source": [
        "# %load_ext autoreload\n",
        "# %autoreload 2"
      ]
    },
    {
      "cell_type": "code",
      "execution_count": 2,
      "metadata": {
        "id": "US_vB7hNSdeu"
      },
      "outputs": [],
      "source": [
        "import pandas as pd\n",
        "\n",
        "from finrl.meta.env_stock_trading.env_stocktrading import StockTradingEnv\n",
        "from finrl.agents.stablebaselines3.models import DRLAgent\n",
        "from stable_baselines3.common.logger import configure\n",
        "from finrl import config_tickers\n",
        "from finrl.main import check_and_make_directories\n",
        "from finrl.config import INDICATORS, TRAINED_MODEL_DIR, RESULTS_DIR\n",
        "\n",
        "import warnings\n",
        "warnings.filterwarnings(\"ignore\", category=DeprecationWarning)"
      ]
    },
    {
      "cell_type": "code",
      "execution_count": 3,
      "metadata": {
        "id": "HJsl_3tVre6q"
      },
      "outputs": [],
      "source": [
        "import os\n",
        "from pathlib import Path\n",
        "import pandas as pd\n",
        "import numpy as np\n",
        "import torch\n",
        "import warnings\n",
        "warnings.filterwarnings(\"ignore\", category=DeprecationWarning)"
      ]
    },
    {
      "cell_type": "code",
      "execution_count": 4,
      "metadata": {
        "id": "I9s6zvbUAsyq"
      },
      "outputs": [],
      "source": [
        "os.environ[\"WANDB_API_KEY\"] = \"aee284a72205e2d6787bd3ce266c5b9aefefa42c\"\n",
        "\n",
        "PROJECT = 'finrl-dt-replicate'\n",
        "ENTITY = \"overfit1010\""
      ]
    },
    {
      "cell_type": "markdown",
      "metadata": {
        "id": "oWn4ZCwkvtN3"
      },
      "source": [
        "# General funcs"
      ]
    },
    {
      "cell_type": "code",
      "execution_count": 5,
      "metadata": {
        "id": "gbd4N4QLPXlL"
      },
      "outputs": [],
      "source": [
        "#@title YahooDownloader (compatible with original FinRL)\n",
        "\n",
        "from __future__ import annotations\n",
        "\n",
        "import pandas as pd\n",
        "import yfinance as yf\n",
        "\n",
        "\n",
        "class YahooDownloader:\n",
        "    \"\"\"Provides methods for retrieving daily stock data from\n",
        "    Yahoo Finance API\n",
        "\n",
        "    Attributes\n",
        "    ----------\n",
        "        start_date : str\n",
        "            start date of the data (modified from neofinrl_config.py)\n",
        "        end_date : str\n",
        "            end date of the data (modified from neofinrl_config.py)\n",
        "        ticker_list : list\n",
        "            a list of stock tickers (modified from neofinrl_config.py)\n",
        "\n",
        "    Methods\n",
        "    -------\n",
        "    fetch_data()\n",
        "        Fetches data from yahoo API\n",
        "\n",
        "    \"\"\"\n",
        "\n",
        "    def __init__(self, start_date: str, end_date: str, ticker_list: list):\n",
        "        self.start_date = start_date\n",
        "        self.end_date = end_date\n",
        "        self.ticker_list = ticker_list\n",
        "\n",
        "    def fetch_data(self, proxy=None) -> pd.DataFrame:\n",
        "        \"\"\"Fetches data from Yahoo API\n",
        "        Parameters\n",
        "        ----------\n",
        "\n",
        "        Returns\n",
        "        -------\n",
        "        `pd.DataFrame`\n",
        "            7 columns: A date, open, high, low, close, volume and tick symbol\n",
        "            for the specified stock ticker\n",
        "        \"\"\"\n",
        "        # Download and save the data in a pandas DataFrame:\n",
        "        data_df = pd.DataFrame()\n",
        "        num_failures = 0\n",
        "        for tic in self.ticker_list:\n",
        "            temp_df = yf.download(\n",
        "                tic, start=self.start_date, end=self.end_date, proxy=proxy\n",
        "            )\n",
        "            temp_df[\"tic\"] = tic\n",
        "            if len(temp_df) > 0:\n",
        "                # data_df = data_df.append(temp_df)\n",
        "                data_df = pd.concat([data_df, temp_df], axis=0)\n",
        "            else:\n",
        "                num_failures += 1\n",
        "        if num_failures == len(self.ticker_list):\n",
        "            raise ValueError(\"no data is fetched.\")\n",
        "        # reset the index, we want to use numbers as index instead of dates\n",
        "        data_df = data_df.reset_index()\n",
        "\n",
        "        try:\n",
        "            # Convert wide to long format\n",
        "            # print(f\"DATA COLS: {data_df.columns}\")\n",
        "            data_df = data_df.sort_index(axis=1).set_index(['Date']).drop(columns=['tic']).stack(level='Ticker', future_stack=True)\n",
        "            data_df.reset_index(inplace=True)\n",
        "            data_df.columns.name = ''\n",
        "\n",
        "            # convert the column names to standardized names\n",
        "            data_df.rename(columns={'Ticker': 'Tic', 'Adj Close': 'Adjcp'}, inplace=True)\n",
        "            data_df.rename(columns={col: col.lower() for col in data_df.columns}, inplace=True)\n",
        "\n",
        "            columns = [\n",
        "                \"date\",\n",
        "                \"tic\",\n",
        "                \"open\",\n",
        "                \"high\",\n",
        "                \"low\",\n",
        "                \"close\",\n",
        "                # \"adjcp\",\n",
        "                \"volume\",\n",
        "            ]\n",
        "\n",
        "            data_df = data_df[columns]\n",
        "            if 'adjcp' in data_df.columns:\n",
        "                # use adjusted close price instead of close price\n",
        "                data_df[\"close\"] = data_df[\"adjcp\"]\n",
        "                # drop the adjusted close price column\n",
        "                data_df = data_df.drop(labels=\"adjcp\", axis=1)\n",
        "\n",
        "        except NotImplementedError:\n",
        "            print(\"the features are not supported currently\")\n",
        "\n",
        "        # create day of the week column (monday = 0)\n",
        "        data_df[\"day\"] = data_df[\"date\"].dt.dayofweek\n",
        "        # convert date to standard string format, easy to filter\n",
        "        data_df[\"date\"] = data_df.date.apply(lambda x: x.strftime(\"%Y-%m-%d\"))\n",
        "        # drop missing data\n",
        "        data_df = data_df.dropna()\n",
        "        data_df = data_df.reset_index(drop=True)\n",
        "        print(\"Shape of DataFrame: \", data_df.shape)\n",
        "        # print(\"Display DataFrame: \", data_df.head())\n",
        "\n",
        "        data_df = data_df.sort_values(by=[\"date\", \"tic\"]).reset_index(drop=True)\n",
        "\n",
        "        return data_df\n",
        "\n",
        "    def select_equal_rows_stock(self, df):\n",
        "        df_check = df.tic.value_counts()\n",
        "        df_check = pd.DataFrame(df_check).reset_index()\n",
        "        df_check.columns = [\"tic\", \"counts\"]\n",
        "        mean_df = df_check.counts.mean()\n",
        "        equal_list = list(df.tic.value_counts() >= mean_df)\n",
        "        names = df.tic.value_counts().index\n",
        "        select_stocks_list = list(names[equal_list])\n",
        "        df = df[df.tic.isin(select_stocks_list)]\n",
        "        return df"
      ]
    },
    {
      "cell_type": "code",
      "execution_count": 6,
      "metadata": {
        "cellView": "form",
        "id": "YhIyXmfQ8EAS"
      },
      "outputs": [],
      "source": [
        "#@title fix_daily_index\n",
        "\n",
        "def make_daily_index(data_df, date_column='date', new_index_name='date_index'):\n",
        "    # Get unique dates and create a mapping to daily indices\n",
        "    total_dates = data_df[date_column].unique()\n",
        "    date_to_index = {date: idx for idx, date in enumerate(sorted(total_dates))}\n",
        "    return data_df[date_column].map(date_to_index)\n",
        "\n",
        "def set_daily_index(data_df, date_column='date', new_index_name='date_index'):\n",
        "    \"\"\"\n",
        "    Constructs a daily index from unique dates in the specified column.\n",
        "\n",
        "    Parameters:\n",
        "        data_df (pd.DataFrame): The input DataFrame.\n",
        "        date_column (str): The name of the column containing dates.\n",
        "        new_index_name (str): The name for the new index.\n",
        "\n",
        "    Returns:\n",
        "        pd.DataFrame: DataFrame with a daily index.\n",
        "    \"\"\"\n",
        "\n",
        "    # Map dates to daily indices and set as index\n",
        "    data_df[new_index_name] = make_daily_index(data_df, date_column='date', new_index_name='date_index')\n",
        "\n",
        "    data_df.set_index(new_index_name, inplace=True)\n",
        "    data_df.index.name = ''  # Remove the index name for simplicity\n",
        "\n",
        "    return data_df\n",
        "\n",
        "def fix_daily_index(df):\n",
        "    if df.index.name == 'date':\n",
        "        df.reset_index(inplace=True)\n",
        "\n",
        "    daily_index = make_daily_index(df, date_column='date', new_index_name='date_index')\n",
        "    if (df.index.values != daily_index.values).any():\n",
        "\n",
        "        df.index = daily_index\n",
        "        df.index.name = ''\n",
        "\n",
        "    return df\n",
        "\n",
        "# trade = fix_daily_index(trade)\n",
        "# trade.index"
      ]
    },
    {
      "cell_type": "code",
      "execution_count": 7,
      "metadata": {
        "id": "GQ6BIJxbwuVh"
      },
      "outputs": [],
      "source": [
        "#@title get dataset name\n",
        "\n",
        "get_quarter = lambda date: f'Q{(date.month - 1) // 3 + 1}'\n",
        "\n",
        "def get_quarterly_dataset_name(prefix, train_start_date, val_start_date, test_start_date):\n",
        "    val_quarter = get_quarter(val_start_date)\n",
        "    test_quarter = get_quarter(test_start_date)\n",
        "\n",
        "    # Extract year and month\n",
        "    train_start = f\"{train_start_date.year}-{train_start_date.month:02}\"\n",
        "    val_start = f\"{val_start_date.year}\"\n",
        "    test_start = f\"{test_start_date.year}\"\n",
        "\n",
        "    # Construct the dataset name\n",
        "    dataset_name = f\"{prefix} | {train_start} | {val_start} {val_quarter} | {test_start} {test_quarter}\"\n",
        "\n",
        "    return dataset_name\n",
        "\n",
        "def get_yearly_dataset_name(prefix, train_start, test_start, test_end):\n",
        "    # Extract year and month\n",
        "    train_start_str = f\"{train_start.year}-{train_start.month:02}\"\n",
        "    test_start_str = f\"{test_start.year}-{test_start.month:02}\"\n",
        "    test_end_str = f\"{test_end.year}-{test_end.month:02}\"\n",
        "\n",
        "    # Construct the dataset name\n",
        "    dataset_name = f\"{prefix} | {train_start_str} | {test_start_str} | {test_end_str}\"\n",
        "    return dataset_name\n"
      ]
    },
    {
      "cell_type": "code",
      "execution_count": 8,
      "metadata": {
        "cellView": "form",
        "id": "TOfz3JlX-oG5"
      },
      "outputs": [],
      "source": [
        "#@title add_dataset\n",
        "\n",
        "def add_dataset(stock_index_name, train_df, test_df):\n",
        "    if 'datasets' not in globals():\n",
        "        global datasets\n",
        "        datasets = {}\n",
        "\n",
        "    # Ensure datetime format\n",
        "    if 'date' in train_df.columns:\n",
        "        train_df.set_index('date', inplace=True)\n",
        "    train_df.index = pd.to_datetime(train_df.index)\n",
        "\n",
        "    if 'date' in test_df.columns:\n",
        "        test_df.set_index('date', inplace=True)\n",
        "    test_df.index = pd.to_datetime(test_df.index)\n",
        "\n",
        "    train_start_date = train_df.index[0]\n",
        "    test_start_date = test_df.index[0]\n",
        "    test_end_date = test_df.index[-1]\n",
        "\n",
        "    dataset_name = get_yearly_dataset_name(\n",
        "        stock_index_name,\n",
        "        train_start_date, test_start_date, test_end_date\n",
        "    )\n",
        "\n",
        "    train_df.reset_index(inplace=True)\n",
        "    test_df.reset_index(inplace=True)\n",
        "\n",
        "    train_df = set_daily_index(train_df)\n",
        "    test_df = set_daily_index(test_df)\n",
        "\n",
        "    ticker_list = train_df.tic.unique().tolist()\n",
        "\n",
        "    datasets[dataset_name] = {\n",
        "        'train': train_df,\n",
        "        'test': test_df,\n",
        "        'metadata': dict(\n",
        "            stock_index_name = stock_index_name,\n",
        "            train_start_date = train_start_date,\n",
        "            test_start_date = test_start_date,\n",
        "            test_end_date = test_end_date,\n",
        "            num_tickers = len(ticker_list),\n",
        "            ticker_list = ticker_list,\n",
        "        )\n",
        "    }"
      ]
    },
    {
      "cell_type": "markdown",
      "metadata": {
        "id": "hWUph5lzrTUS"
      },
      "source": [
        "# Load data"
      ]
    },
    {
      "cell_type": "markdown",
      "metadata": {
        "id": "Op7oS8Jw1pgx"
      },
      "source": [
        "## DATA: DOW-30 (rolling yearly windows)"
      ]
    },
    {
      "cell_type": "code",
      "execution_count": 9,
      "metadata": {
        "id": "L9_FOjg-qLA1"
      },
      "outputs": [],
      "source": [
        "#@title download full data\n",
        "%%capture\n",
        "\n",
        "min_test_start_year = 2020\n",
        "max_test_start_year = 2025\n",
        "\n",
        "train_years_count = 10\n",
        "test_years_count = 1.5\n",
        "\n",
        "min_date = \\\n",
        "    pd.Timestamp(year=min_test_start_year, month=1, day=1) - \\\n",
        "    pd.Timedelta(days=int(train_years_count * 365.2425))\n",
        "\n",
        "max_date = \\\n",
        "    pd.Timestamp(year=max_test_start_year, month=1, day=1) + \\\n",
        "    pd.Timedelta(days=int(test_years_count * 365.2425))\n",
        "\n",
        "# data_df = YahooDownloader(\n",
        "#     start_date=min_date,\n",
        "#     end_date=max_date,\n",
        "#     ticker_list=config_tickers.DOW_30_TICKER\n",
        "# ).fetch_data()\n",
        "\n",
        "# data_df['date'] = pd.to_datetime(data_df['date'])\n",
        "\n",
        "# # clip max year w.r.t. to available data\n",
        "# max_data_date = data_df['date'].max()\n",
        "# max_test_start_year = min(max_test_start_year, max_data_date.year)"
      ]
    },
    {
      "cell_type": "code",
      "execution_count": 10,
      "metadata": {
        "id": "UKKGaOBO6XWM"
      },
      "outputs": [],
      "source": [
        "#@title add features\n",
        "\n",
        "# from finrl.meta.preprocessor.preprocessors import FeatureEngineer\n",
        "\n",
        "# fe = FeatureEngineer(use_turbulence=True, use_vix=True)\n",
        "# preprocessed_data_df = fe.preprocess_data(data_df.astype({'date': str}))\n",
        "# preprocessed_data_df.head()"
      ]
    },
    {
      "cell_type": "code",
      "execution_count": 11,
      "metadata": {
        "cellView": "form",
        "id": "tg4lrFhWStNP"
      },
      "outputs": [],
      "source": [
        "#@title get_train_test_split\n",
        "def get_train_test_split(data_df, train_years_count, test_years_count, test_start_year):\n",
        "    test_start_date = pd.Timestamp(year=test_start_year, month=1, day=1)\n",
        "\n",
        "    train_start_date = \\\n",
        "        test_start_date - \\\n",
        "        pd.Timedelta(days=int(train_years_count * 365.2425))\n",
        "\n",
        "    test_end_date = \\\n",
        "        test_start_date + \\\n",
        "        pd.Timedelta(days=int(test_years_count * 365.2425))\n",
        "\n",
        "    # Filter using the 'date' column\n",
        "    train_df = data_df[(data_df['date'] >= train_start_date) & (data_df['date'] < test_start_date)]\n",
        "    test_df = data_df[(data_df['date'] >= test_start_date) & (data_df['date'] < test_end_date)]\n",
        "\n",
        "    return train_df, test_df"
      ]
    },
    {
      "cell_type": "code",
      "execution_count": 12,
      "metadata": {
        "id": "SBiw3TS56LfN"
      },
      "outputs": [],
      "source": [
        "# preprocessed_data_df['date'] = pd.to_datetime(preprocessed_data_df['date'])\n",
        "\n",
        "# for test_start_year in range(min_test_start_year, max_test_start_year + 1):\n",
        "#     train_df, test_df = get_train_test_split(\n",
        "#         # data_df,\n",
        "#         preprocessed_data_df,\n",
        "\n",
        "#         train_years_count, test_years_count, test_start_year\n",
        "#     )\n",
        "\n",
        "#     add_dataset('DOW_30', train_df, test_df)\n",
        "\n",
        "#     print(f\"Train start: {train_df['date'].min()}, Train end: {train_df['date'].max()}\")\n",
        "#     print(f\"Test start: {test_df['date'].min()}, Test end: {test_df['date'].max()}\")\n",
        "#     print()\n",
        "\n",
        "#     # break\n",
        "\n",
        "# print(*list(datasets.keys()), sep='\\n')"
      ]
    },
    {
      "cell_type": "markdown",
      "metadata": {
        "id": "LHIfVohUTAsG"
      },
      "source": [
        "## DATA: DOW-30 (quarterly train/val/test)"
      ]
    },
    {
      "cell_type": "code",
      "execution_count": 13,
      "metadata": {
        "id": "9cdMIPbx377w"
      },
      "outputs": [],
      "source": [
        "train_start_date = '2015-01-01'\n",
        "min_test_start_date = '2016-01-01'\n",
        "max_test_end_date = '2016-10-01'\n",
        "\n",
        "# train_start_date = '2009-01-01'\n",
        "# min_test_start_date = '2016-01-01'\n",
        "# max_test_end_date = '2020-08-01'"
      ]
    },
    {
      "cell_type": "code",
      "execution_count": 14,
      "metadata": {
        "cellView": "form",
        "id": "Y3m7Yc3rTILs"
      },
      "outputs": [],
      "source": [
        "%%capture\n",
        "#@title download\n",
        "\n",
        "# from finrl.meta.preprocessor.yahoodownloader import YahooDownloader\n",
        "\n",
        "# ########################\n",
        "\n",
        "# data_df = YahooDownloader(\n",
        "#     start_date= pd.Timestamp(train_start_date),\n",
        "#     end_date= pd.Timestamp(max_test_end_date),\n",
        "#     ticker_list=config_tickers.DOW_30_TICKER\n",
        "# ).fetch_data()\n",
        "\n",
        "# data_df['date'] = pd.to_datetime(data_df['date'])"
      ]
    },
    {
      "cell_type": "code",
      "execution_count": 15,
      "metadata": {
        "cellView": "form",
        "id": "wQ9IFLWeTILs"
      },
      "outputs": [],
      "source": [
        "#@title add features\n",
        "\n",
        "# from finrl.meta.preprocessor.preprocessors import FeatureEngineer\n",
        "\n",
        "# fe = FeatureEngineer(use_turbulence=True, use_vix=True)\n",
        "# preproc_df = fe.preprocess_data(data_df.astype({'date': str}))\n",
        "# preproc_df['date'] = pd.to_datetime(preproc_df['date'])\n",
        "# # preproc_df.head()"
      ]
    },
    {
      "cell_type": "code",
      "execution_count": 16,
      "metadata": {
        "cellView": "form",
        "id": "SSetOu0ejt2w"
      },
      "outputs": [],
      "source": [
        "#@title generate_quarterly_date_ranges (old)\n",
        "from calendar import monthrange\n",
        "\n",
        "def generate_quarterly_date_ranges(train_start_date, min_test_start_date, max_test_end_date, preproc_df, return_strings=False):\n",
        "    is_quarter_start = lambda date: date.month in [1, 4, 7, 10] and date.day == 1\n",
        "\n",
        "    min_test_start_date = pd.Timestamp(min_test_start_date)\n",
        "    train_start_date = pd.Timestamp(train_start_date)\n",
        "    max_test_end_date = pd.Timestamp(max_test_end_date)\n",
        "\n",
        "    assert is_quarter_start(train_start_date), f\"train_start_date {train_start_date} is not a quarter start date.\"\n",
        "    assert is_quarter_start(min_test_start_date), f\"min_test_start_date {min_test_start_date} is not a quarter start date.\"\n",
        "\n",
        "    assert max_test_end_date + pd.DateOffset(month=3) <= preproc_df['date'].max()\n",
        "    assert train_start_date + pd.DateOffset(days=1) >= preproc_df['date'].min()\n",
        "\n",
        "    test_start_date = min_test_start_date\n",
        "    date_ranges = []\n",
        "    while True:\n",
        "        val_start_date = test_start_date - pd.DateOffset(months=3)\n",
        "        test_end_date = test_start_date + pd.DateOffset(months=3)\n",
        "\n",
        "        if test_end_date > max_test_end_date:\n",
        "            break\n",
        "\n",
        "        date_range = (dict(\n",
        "            train_start_date = train_start_date,\n",
        "            val_start_date = val_start_date,\n",
        "            test_start_date = test_start_date,\n",
        "            test_end_date = test_end_date,\n",
        "        ))\n",
        "\n",
        "        if return_strings:\n",
        "            date_range = {k: str(v) for k, v in date_range.items()}\n",
        "\n",
        "        date_ranges.append(date_range)\n",
        "\n",
        "        test_start_date = test_end_date\n",
        "\n",
        "\n",
        "    return date_ranges\n",
        "\n",
        "# date_ranges = generate_quarterly_date_ranges(train_start_date, min_test_start_date, max_test_end_date, preproc_df)\n",
        "# print(*date_ranges[:2], sep='\\n')"
      ]
    },
    {
      "cell_type": "code",
      "execution_count": 17,
      "metadata": {
        "colab": {
          "base_uri": "https://localhost:8080/"
        },
        "id": "DGMvKo0wxwYh",
        "outputId": "d3eec105-4502-4de1-ba8f-15da919a4274"
      },
      "outputs": [
        {
          "output_type": "stream",
          "name": "stdout",
          "text": [
            "{'train_start_date': Timestamp('2015-01-01 00:00:00'), 'val_start_date': Timestamp('2015-10-01 00:00:00'), 'test_start_date': Timestamp('2016-01-01 00:00:00'), 'test_end_date': Timestamp('2016-04-01 00:00:00')}\n",
            "{'train_start_date': Timestamp('2015-10-01 00:00:00'), 'val_start_date': Timestamp('2016-01-01 00:00:00'), 'test_start_date': Timestamp('2016-04-01 00:00:00'), 'test_end_date': Timestamp('2016-07-01 00:00:00')}\n",
            "{'train_start_date': Timestamp('2016-01-01 00:00:00'), 'val_start_date': Timestamp('2016-04-01 00:00:00'), 'test_start_date': Timestamp('2016-07-01 00:00:00'), 'test_end_date': Timestamp('2016-10-01 00:00:00')}\n"
          ]
        }
      ],
      "source": [
        "#@title generate_quarterly_date_ranges\n",
        "\n",
        "def generate_quarterly_date_ranges(\n",
        "    train_start_date,\n",
        "    min_test_start_date,\n",
        "    max_test_end_date,\n",
        "    return_strings=False,\n",
        "    finetune_previous_val=False\n",
        "):\n",
        "    is_quarter_start = lambda date: date.month in [1, 4, 7, 10] and date.day == 1\n",
        "\n",
        "    min_test_start_date = pd.Timestamp(min_test_start_date)\n",
        "    train_start_date = pd.Timestamp(train_start_date)\n",
        "    max_test_end_date = pd.Timestamp(max_test_end_date)\n",
        "\n",
        "    assert is_quarter_start(train_start_date), f\"train_start_date {train_start_date} is not a quarter start date.\"\n",
        "    assert is_quarter_start(min_test_start_date), f\"min_test_start_date {min_test_start_date} is not a quarter start date.\"\n",
        "\n",
        "    test_start_date = min_test_start_date\n",
        "    date_ranges = []\n",
        "    full_train_start_date = train_start_date\n",
        "\n",
        "    while True:\n",
        "        val_start_date = test_start_date - pd.DateOffset(months=3)\n",
        "        test_end_date = test_start_date + pd.DateOffset(months=3)\n",
        "\n",
        "        if test_end_date > max_test_end_date:\n",
        "            break\n",
        "\n",
        "        if len(date_ranges) == 0:\n",
        "            # The first date_range contains the full training period\n",
        "            train_start_date = full_train_start_date\n",
        "        elif finetune_previous_val:\n",
        "            # Use the previous validation range as the training range\n",
        "            train_start_date = date_ranges[-1]['val_start_date']\n",
        "\n",
        "        date_range = dict(\n",
        "            train_start_date=train_start_date,\n",
        "            val_start_date=val_start_date,\n",
        "            test_start_date=test_start_date,\n",
        "            test_end_date=test_end_date,\n",
        "        )\n",
        "\n",
        "        if return_strings:\n",
        "            date_range = {k: str(v) for k, v in date_range.items()}\n",
        "\n",
        "        date_ranges.append(date_range)\n",
        "\n",
        "        test_start_date = test_end_date\n",
        "\n",
        "    return date_ranges\n",
        "\n",
        "date_ranges = generate_quarterly_date_ranges(\n",
        "    train_start_date,\n",
        "    min_test_start_date,\n",
        "    max_test_end_date,\n",
        "    finetune_previous_val=True\n",
        ")\n",
        "\n",
        "print(*date_ranges, sep='\\n')"
      ]
    },
    {
      "cell_type": "code",
      "execution_count": 18,
      "metadata": {
        "cellView": "form",
        "id": "S8GdHjZWTcHu"
      },
      "outputs": [],
      "source": [
        "#@title split_data\n",
        "\n",
        "def split_data(data_df, date_range):\n",
        "    def subset_date_range(df, start_date, end_date):\n",
        "        df = df[(df['date'] >= start_date) & (df['date'] < end_date)]\n",
        "        df = fix_daily_index(df)\n",
        "        return df\n",
        "\n",
        "    return {\n",
        "        'train': subset_date_range(data_df, date_range['train_start_date'], date_range['val_start_date']),\n",
        "        'val': subset_date_range(data_df, date_range['val_start_date'], date_range['test_start_date']),\n",
        "        'test': subset_date_range(data_df, date_range['test_start_date'], date_range['test_end_date']),\n",
        "    }\n",
        "\n",
        "# data_splits = split_data(preproc_df, date_ranges[0])\n",
        "# data_splits['train'].head()"
      ]
    },
    {
      "cell_type": "markdown",
      "metadata": {
        "id": "BxBLqeRsh711"
      },
      "source": [
        "# Wandb funcs"
      ]
    },
    {
      "cell_type": "code",
      "execution_count": 19,
      "metadata": {
        "cellView": "form",
        "id": "VJXt3E2Tiiji"
      },
      "outputs": [],
      "source": [
        "#@title update_artifact\n",
        "\n",
        "def update_artifact(folder_path, name_prefix, type):\n",
        "    \"\"\"\n",
        "    Create or update a W&B artifact consisting of a folder.\n",
        "\n",
        "    Args:\n",
        "        run: The current W&B run.\n",
        "        folder_path (str): Path to the folder to upload.\n",
        "        artifact_name (str): Name of the artifact.\n",
        "        artifact_type (str): Type of the artifact.\n",
        "    \"\"\"\n",
        "    run = wandb.run\n",
        "    artifact_name = f'{name_prefix}-{wandb.run.id}'\n",
        "\n",
        "    # Create a new artifact\n",
        "    artifact = wandb.Artifact(name=artifact_name, type=type)\n",
        "\n",
        "    # Add the folder to the artifact\n",
        "    artifact.add_dir(folder_path)\n",
        "\n",
        "    # Log the artifact to W&B\n",
        "    run.log_artifact(artifact)\n",
        "    print(f\"Artifact '{artifact_name}' has been updated and uploaded.\")"
      ]
    },
    {
      "cell_type": "code",
      "execution_count": 20,
      "metadata": {
        "cellView": "form",
        "id": "bCmdRFmDh-CI"
      },
      "outputs": [],
      "source": [
        "#@title update_model_artifacts\n",
        "\n",
        "def update_model_artifacts(log_results_folder=True):\n",
        "    if log_results_folder:\n",
        "        update_artifact(\n",
        "            folder_path = RESULTS_DIR,\n",
        "            name_prefix = 'results',\n",
        "            type = 'results'\n",
        "        )\n",
        "\n",
        "    update_artifact(\n",
        "        folder_path = TRAINED_MODEL_DIR,\n",
        "        name_prefix = 'trained_models',\n",
        "        type = 'trained_models'\n",
        "    )"
      ]
    },
    {
      "cell_type": "markdown",
      "metadata": {
        "id": "UiWaQLQ7rSs5"
      },
      "source": [
        "# Train SB3 models"
      ]
    },
    {
      "cell_type": "markdown",
      "metadata": {
        "id": "_BZTsxX0tkDZ"
      },
      "source": [
        "## Init config & dataset"
      ]
    },
    {
      "cell_type": "code",
      "execution_count": null,
      "metadata": {
        "colab": {
          "base_uri": "https://localhost:8080/",
          "height": 159
        },
        "id": "knEaNgSKQ5rW",
        "outputId": "311192c1-731c-478c-ada2-52ee35e3bb84"
      },
      "outputs": [
        {
          "ename": "NameError",
          "evalue": "name 'quarterly_dataset' is not defined",
          "output_type": "error",
          "traceback": [
            "\u001b[0;31m---------------------------------------------------------------------------\u001b[0m",
            "\u001b[0;31mNameError\u001b[0m                                 Traceback (most recent call last)",
            "\u001b[0;32m<ipython-input-28-75fc1d734dce>\u001b[0m in \u001b[0;36m<cell line: 0>\u001b[0;34m()\u001b[0m\n\u001b[1;32m      1\u001b[0m \u001b[0mperiod_idx\u001b[0m \u001b[0;34m=\u001b[0m \u001b[0;34m-\u001b[0m\u001b[0;36m1\u001b[0m\u001b[0;34m\u001b[0m\u001b[0;34m\u001b[0m\u001b[0m\n\u001b[0;32m----> 2\u001b[0;31m \u001b[0mtrain\u001b[0m\u001b[0;34m,\u001b[0m \u001b[0mval\u001b[0m\u001b[0;34m,\u001b[0m \u001b[0mtest\u001b[0m \u001b[0;34m=\u001b[0m \u001b[0mquarterly_dataset\u001b[0m\u001b[0;34m[\u001b[0m\u001b[0mperiod_idx\u001b[0m\u001b[0;34m]\u001b[0m\u001b[0;34m\u001b[0m\u001b[0;34m\u001b[0m\u001b[0m\n\u001b[0m",
            "\u001b[0;31mNameError\u001b[0m: name 'quarterly_dataset' is not defined"
          ]
        }
      ],
      "source": [
        "period_idx = -1\n",
        "train, val, test = quarterly_dataset[period_idx]"
      ]
    },
    {
      "cell_type": "code",
      "execution_count": null,
      "metadata": {
        "id": "Jpp0ZrVJryvM"
      },
      "outputs": [],
      "source": [
        "config = {}"
      ]
    },
    {
      "cell_type": "code",
      "execution_count": null,
      "metadata": {
        "cellView": "form",
        "id": "I0Tvb-qbbpGT"
      },
      "outputs": [],
      "source": [
        "#@title Config: dataset\n",
        "\n",
        "# config.update(dict(\n",
        "#     # dataset_name =  'DOW_30 | 2009-01 | 2020-07 | 2021-10',\n",
        "#     dataset_name =  'DOW-30 (FinRL 2021) | 2009-01 | 2020-07 | 2021-10',\n",
        "# ))\n",
        "\n",
        "# dataset = datasets[config['dataset_name']]\n",
        "# config.update(dataset['metadata'])\n",
        "# train = dataset['train']"
      ]
    },
    {
      "cell_type": "code",
      "execution_count": null,
      "metadata": {
        "cellView": "form",
        "id": "BrmZizKHFZZE"
      },
      "outputs": [],
      "source": [
        "#@title Get reference price interval\n",
        "\n",
        "# %%capture\n",
        "\n",
        "# REFERENCE_PRICE_END_DATE = '2024-12-21'\n",
        "# REFERNCE_PRICE_WINDOW_DAYS = 30\n",
        "\n",
        "# ref_price_start_date = pd.Timestamp(REFERENCE_PRICE_END_DATE) - pd.Timedelta(days=REFERNCE_PRICE_WINDOW_DAYS)\n",
        "# ref_price_df = YahooDownloader(\n",
        "#         start_date=ref_price_start_date,\n",
        "#         end_date=REFERENCE_PRICE_END_DATE,\n",
        "#         ticker_list=train.tic.unique().tolist(),\n",
        "#         # ticker_list=config_tickers.DOW_30_TICKER\n",
        "#     ).fetch_data()"
      ]
    },
    {
      "cell_type": "code",
      "execution_count": null,
      "metadata": {
        "cellView": "form",
        "collapsed": true,
        "id": "hE7nHKrYos_t"
      },
      "outputs": [],
      "source": [
        "#@title Calculate fee percent based on average price for past N days\n",
        "\n",
        "def cost_pct_from_avg_price(df, cost_abs, price_avg_days, verbose=False):\n",
        "    df['date'] = pd.to_datetime(df['date'])\n",
        "    avg_price_dict = {}\n",
        "    for tic, _df in df.groupby('tic'):\n",
        "        last_date = _df['date'].max()\n",
        "        _df = _df[_df.date >= last_date - pd.Timedelta(days=price_avg_days)]\n",
        "        avg_price = ((_df.high + _df.low) / 2).mean()\n",
        "        avg_price_dict.update({tic: avg_price})\n",
        "\n",
        "    avg_price_df = pd.DataFrame(avg_price_dict, index=[f'cost_avg']).T\n",
        "    cost_pct_df = (cost_abs / avg_price_df).rename(columns={'cost_avg': 'cost_pct'})\n",
        "\n",
        "    if verbose:\n",
        "        display(avg_price_df.head())\n",
        "        print()\n",
        "        display(cost_pct_df.head())\n",
        "\n",
        "    return cost_pct_df.values.flatten().tolist()"
      ]
    },
    {
      "cell_type": "code",
      "execution_count": null,
      "metadata": {
        "id": "Wzshngk6xkwR"
      },
      "outputs": [],
      "source": [
        "# COST_ABS = 2.5\n",
        "# COST_PCT = cost_pct_from_avg_price(\n",
        "#     df=ref_price_df,\n",
        "#     cost_abs=COST_ABS,\n",
        "#     price_avg_days=REFERNCE_PRICE_WINDOW_DAYS,\n",
        "#     verbose=True\n",
        "# )"
      ]
    },
    {
      "cell_type": "code",
      "execution_count": null,
      "metadata": {
        "id": "I1dBLCHvFYOU"
      },
      "outputs": [],
      "source": [
        "# config.update({\n",
        "#     'env_params': {\n",
        "#         'initial_amount': 50000,\n",
        "\n",
        "#         # 'cost_abs': COST_ABS,\n",
        "#         # 'cost_pct': COST_PCT\n",
        "\n",
        "#         'cost_abs': None,\n",
        "#         'cost_pct': 0.001\n",
        "#     }\n",
        "# })\n",
        "\n",
        "\n",
        "config.update({\n",
        "    'initial_amount': 50000,\n",
        "\n",
        "    # 'cost_abs': COST_ABS,\n",
        "    # 'cost_pct': COST_PCT\n",
        "\n",
        "    'cost_abs': None,\n",
        "    'cost_pct': 0.001\n",
        "})\n",
        "\n",
        "config.keys()"
      ]
    },
    {
      "cell_type": "code",
      "execution_count": null,
      "metadata": {
        "cellView": "form",
        "id": "_DFUBgSZT5-a"
      },
      "outputs": [],
      "source": [
        "#@title Init env\n",
        "stock_dimension = len(train.tic.unique())\n",
        "state_space = 1 + 2*stock_dimension + len(INDICATORS)*stock_dimension\n",
        "print(f\"Stock Dimension: {stock_dimension}, State Space: {state_space}\")\n",
        "\n",
        "cost_pct = config['cost_pct']\n",
        "if isinstance(cost_pct, list):\n",
        "    assert len(cost_pct) == stock_dimension\n",
        "    buy_cost_pct = sell_cost_pct = cost_pct\n",
        "elif isinstance(cost_pct, (int, float)):\n",
        "    buy_cost_pct = sell_cost_pct = [ config['cost_pct'] ] * stock_dimension\n",
        "else:\n",
        "    raise ValueError\n",
        "\n",
        "num_stock_shares = [0] * stock_dimension\n",
        "\n",
        "env_kwargs = {\n",
        "    \"hmax\": 100,\n",
        "    \"initial_amount\": config['initial_amount'],\n",
        "    \"num_stock_shares\": num_stock_shares,\n",
        "    \"buy_cost_pct\": buy_cost_pct,\n",
        "    \"sell_cost_pct\": sell_cost_pct,\n",
        "    \"state_space\": state_space,\n",
        "    \"stock_dim\": stock_dimension,\n",
        "    \"tech_indicator_list\": INDICATORS,\n",
        "    \"action_space\": stock_dimension,\n",
        "    \"reward_scaling\": 1e-4,\n",
        "\n",
        "    \"print_verbosity\": 1,\n",
        "    \"make_plots\": True\n",
        "}\n",
        "\n",
        "\n",
        "e_train_gym = StockTradingEnv(df = train, **env_kwargs)"
      ]
    },
    {
      "cell_type": "markdown",
      "metadata": {
        "id": "Tgz76x4xsi2A"
      },
      "source": [
        "## Init wandb"
      ]
    },
    {
      "cell_type": "code",
      "execution_count": null,
      "metadata": {
        "id": "_H0-AyktELpI"
      },
      "outputs": [],
      "source": [
        "# !rm -rf ./*"
      ]
    },
    {
      "cell_type": "code",
      "execution_count": null,
      "metadata": {
        "colab": {
          "base_uri": "https://localhost:8080/"
        },
        "id": "Cp-ffs3gWpX1",
        "outputId": "996fe680-b363-4848-ab2d-cd7843d0967d"
      },
      "outputs": [
        {
          "data": {
            "text/html": [
              "Tracking run with wandb version 0.19.1"
            ],
            "text/plain": [
              "<IPython.core.display.HTML object>"
            ]
          },
          "metadata": {},
          "output_type": "display_data"
        },
        {
          "data": {
            "text/html": [
              "Run data is saved locally in <code>/content/wandb/run-20241223_155329-vtr6xfa3</code>"
            ],
            "text/plain": [
              "<IPython.core.display.HTML object>"
            ]
          },
          "metadata": {},
          "output_type": "display_data"
        },
        {
          "data": {
            "text/html": [
              "Syncing run <strong><a href='https://wandb.ai/overfit1010/finrl-dt-replicate/runs/vtr6xfa3' target=\"_blank\">DOW-30 (FinRL 2021) | 2009-01 | 2020-07 | 2021-10 | uKSHX</a></strong> to <a href='https://wandb.ai/overfit1010/finrl-dt-replicate' target=\"_blank\">Weights & Biases</a> (<a href='https://wandb.me/developer-guide' target=\"_blank\">docs</a>)<br>"
            ],
            "text/plain": [
              "<IPython.core.display.HTML object>"
            ]
          },
          "metadata": {},
          "output_type": "display_data"
        },
        {
          "data": {
            "text/html": [
              " View project at <a href='https://wandb.ai/overfit1010/finrl-dt-replicate' target=\"_blank\">https://wandb.ai/overfit1010/finrl-dt-replicate</a>"
            ],
            "text/plain": [
              "<IPython.core.display.HTML object>"
            ]
          },
          "metadata": {},
          "output_type": "display_data"
        },
        {
          "data": {
            "text/html": [
              " View run at <a href='https://wandb.ai/overfit1010/finrl-dt-replicate/runs/vtr6xfa3' target=\"_blank\">https://wandb.ai/overfit1010/finrl-dt-replicate/runs/vtr6xfa3</a>"
            ],
            "text/plain": [
              "<IPython.core.display.HTML object>"
            ]
          },
          "metadata": {},
          "output_type": "display_data"
        }
      ],
      "source": [
        "#@title init run\n",
        "import wandb\n",
        "import random\n",
        "import string\n",
        "\n",
        "def generate_run_name(prefix, n=5):\n",
        "    random_str = ''.join(random.choices(string.ascii_letters + string.digits, k=n))\n",
        "    return f\"{prefix} | {random_str}\"\n",
        "\n",
        "\n",
        "wandb.finish()\n",
        "wandb.init(\n",
        "    project=PROJECT,\n",
        "    name=generate_run_name(config['dataset_name'])\n",
        ")\n",
        "\n",
        "wandb.config.update(config)"
      ]
    },
    {
      "cell_type": "code",
      "execution_count": null,
      "metadata": {
        "cellView": "form",
        "id": "jF0Xbv9f631H"
      },
      "outputs": [],
      "source": [
        "#@title update_artifact\n",
        "\n",
        "def update_artifact(folder_path, name_prefix, type):\n",
        "    \"\"\"\n",
        "    Create or update a W&B artifact consisting of a folder.\n",
        "\n",
        "    Args:\n",
        "        run: The current W&B run.\n",
        "        folder_path (str): Path to the folder to upload.\n",
        "        artifact_name (str): Name of the artifact.\n",
        "        artifact_type (str): Type of the artifact.\n",
        "    \"\"\"\n",
        "    run = wandb.run\n",
        "    artifact_name = f'{name_prefix}-{wandb.run.id}'\n",
        "\n",
        "    # Create a new artifact\n",
        "    artifact = wandb.Artifact(name=artifact_name, type=type)\n",
        "\n",
        "    # Add the folder to the artifact\n",
        "    artifact.add_dir(folder_path)\n",
        "\n",
        "    # Log the artifact to W&B\n",
        "    run.log_artifact(artifact)\n",
        "    print(f\"Artifact '{artifact_name}' has been updated and uploaded.\")"
      ]
    },
    {
      "cell_type": "code",
      "execution_count": null,
      "metadata": {
        "cellView": "form",
        "id": "B-a7jHoxrb3Q"
      },
      "outputs": [],
      "source": [
        "#@title update_model_artifacts\n",
        "\n",
        "def update_model_artifacts():\n",
        "    update_artifact(\n",
        "        folder_path = RESULTS_DIR,\n",
        "        name_prefix = 'results',\n",
        "        type = 'results'\n",
        "    )\n",
        "\n",
        "    update_artifact(\n",
        "        folder_path = TRAINED_MODEL_DIR,\n",
        "        name_prefix = 'trained_models',\n",
        "        type = 'trained_models'\n",
        "    )"
      ]
    },
    {
      "cell_type": "code",
      "execution_count": null,
      "metadata": {
        "cellView": "form",
        "colab": {
          "base_uri": "https://localhost:8080/"
        },
        "id": "Prm8SfPo7CJY",
        "outputId": "9eb3c05b-4a0b-4322-fc16-39e5e471ec23"
      },
      "outputs": [
        {
          "name": "stderr",
          "output_type": "stream",
          "text": [
            "\u001b[34m\u001b[1mwandb\u001b[0m: Adding directory to artifact (./dataset)... Done. 0.1s\n"
          ]
        },
        {
          "name": "stdout",
          "output_type": "stream",
          "text": [
            "Artifact 'dataset-vtr6xfa3' has been updated and uploaded.\n"
          ]
        }
      ],
      "source": [
        "#@title update_dataset_artifact\n",
        "\n",
        "from pathlib import Path\n",
        "\n",
        "DATASET_DIR = Path('./dataset')\n",
        "os.makedirs(DATASET_DIR, exist_ok=True)\n",
        "\n",
        "dataset = datasets[config['dataset_name']]\n",
        "dataset['train'].to_csv(DATASET_DIR / 'train_data.csv')\n",
        "dataset['test'].to_csv(DATASET_DIR / 'test_data.csv')\n",
        "\n",
        "update_artifact(\n",
        "    folder_path = DATASET_DIR,\n",
        "    name_prefix = 'dataset',\n",
        "    type = 'dataset'\n",
        ")"
      ]
    },
    {
      "cell_type": "markdown",
      "metadata": {
        "id": "oqc-9r54tuXG"
      },
      "source": [
        "## Train FinRL models"
      ]
    },
    {
      "cell_type": "code",
      "execution_count": null,
      "metadata": {
        "id": "a4IS_7kYSEFo"
      },
      "outputs": [],
      "source": [
        "# %load_ext tensorboard\n",
        "# %tensorboard --logdir ./results/"
      ]
    },
    {
      "cell_type": "markdown",
      "metadata": {
        "id": "8ZNeIlnJKGza"
      },
      "source": [
        "![image.png](data:image/png;base64,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)"
      ]
    },
    {
      "cell_type": "code",
      "execution_count": null,
      "metadata": {
        "cellView": "form",
        "id": "t0-3fjeCG_GJ"
      },
      "outputs": [],
      "source": [
        "#@title Define metric functions\n",
        "\n",
        "def calculate_mdd(asset_values):\n",
        "    \"\"\"\n",
        "    Calculate the Maximum Drawdown (MDD) of a portfolio.\n",
        "    \"\"\"\n",
        "    running_max = asset_values.cummax()\n",
        "    drawdown = (asset_values - running_max) / running_max\n",
        "    mdd = drawdown.min() * 100  # Convert to percentage\n",
        "    return mdd\n",
        "\n",
        "def calculate_sharpe_ratio(asset_values, risk_free_rate=0.0):\n",
        "    \"\"\"\n",
        "    Calculate the Sharpe Ratio of a portfolio.\n",
        "    \"\"\"\n",
        "    # Calculate daily returns\n",
        "    returns = asset_values.pct_change().dropna()\n",
        "    excess_returns = returns - risk_free_rate / 252  # Assuming 252 trading days\n",
        "\n",
        "    if excess_returns.std() == 0:\n",
        "        return 0.0\n",
        "    sharpe_ratio = excess_returns.mean() / excess_returns.std() * np.sqrt(252)  # Annualized\n",
        "    return sharpe_ratio\n",
        "\n",
        "def calculate_annualized_return(asset_values):\n",
        "    \"\"\"\n",
        "    Calculate the annualized return of a portfolio.\n",
        "    \"\"\"\n",
        "    # Assume `asset_values` is indexed by date or trading day\n",
        "    total_return = (asset_values.iloc[-1] / asset_values.iloc[0] - 1) * 100\n",
        "    num_days = (asset_values.index[-1] - asset_values.index[0]).days\n",
        "    annualized_return = (1 + total_return) ** (365 / num_days) - 1\n",
        "    return annualized_return"
      ]
    },
    {
      "cell_type": "code",
      "execution_count": null,
      "metadata": {
        "cellView": "form",
        "id": "frdIBaq0pqe2"
      },
      "outputs": [],
      "source": [
        "#@title compute metrics\n",
        "import wandb\n",
        "from typing import List\n",
        "import numpy as np\n",
        "\n",
        "def compute_metrics(account_values: List[pd.DataFrame, pd.Series, np.array], use_round=True):\n",
        "    \"\"\"\n",
        "    If DataFrame then should contain two columns - 'date' and name of algo, e.g. 'a2c'.\n",
        "    \"\"\"\n",
        "\n",
        "    if isinstance(account_values, pd.DataFrame):\n",
        "        assert isinstance(account_values, pd.DataFrame)\n",
        "        if 'date' not in account_values.columns:\n",
        "            if account_values.index.name == 'date':\n",
        "                account_values.reset_index(inplace=True)\n",
        "            else:\n",
        "                raise ValueError(\"should contain 'date' column or index\")\n",
        "        account_values = account_values.dropna().set_index('date').iloc[:, 0]\n",
        "    elif isinstance(account_values, np.ndarray):\n",
        "        account_values = pd.Series(account_values)\n",
        "\n",
        "    sharpe = calculate_sharpe_ratio(account_values)\n",
        "    mdd = calculate_mdd(account_values)\n",
        "    cum_ret = (account_values.iloc[-1] - account_values.iloc[0]) / account_values.iloc[0] * 100\n",
        "    # num_days = (account_values.index.max() - account_values.index.min()).days\n",
        "    num_days = len(account_values)\n",
        "    ann_ret = ((1 + cum_ret / 100) ** (365 / num_days) - 1) * 100\n",
        "\n",
        "    metrics = {\n",
        "            f'sharpe_ratio': sharpe,\n",
        "            f'mdd': mdd,\n",
        "            f'ann_return': ann_ret,\n",
        "            f'cum_return': cum_ret,\n",
        "        }\n",
        "\n",
        "    if use_round:\n",
        "        metrics = {k: round(v, 2) for k, v in metrics.items()}\n",
        "\n",
        "    return metrics\n",
        "\n",
        "def get_env_metrics(env):\n",
        "    end_total_asset = env.state[0] + sum(\n",
        "        np.array(env.state[1 : (env.stock_dim + 1)])\n",
        "        * np.array(env.state[(env.stock_dim + 1) : (env.stock_dim * 2 + 1)])\n",
        "    )\n",
        "\n",
        "    return {\n",
        "        'begin_total_asset': env.asset_memory[0],\n",
        "        'end_total_asset': end_total_asset,\n",
        "        'total_cost': env.cost,\n",
        "        'total_trades': env.trades,\n",
        "    }"
      ]
    },
    {
      "cell_type": "code",
      "execution_count": null,
      "metadata": {
        "cellView": "form",
        "id": "hldi--6OyGre"
      },
      "outputs": [],
      "source": [
        "#@title log_metrics\n",
        "\n",
        "def log_metrics_to_wandb(metrics, model_name, split_label, step=None):\n",
        "    assert model_name in ['a2c', 'ddpg', 'sac', 'ppo', 'td3', 'best_model', 'chosen_model']\n",
        "\n",
        "    rename_metrics = lambda model_name: {\n",
        "        f\"{key}/{model_name}\": value for key, value in metrics.items()\n",
        "    }\n",
        "\n",
        "    renamed_metrics = rename_metrics(model_name)\n",
        "    wandb.log({split_label: renamed_metrics}, step=step)\n",
        "    # wandb.run.save()"
      ]
    },
    {
      "cell_type": "code",
      "execution_count": null,
      "metadata": {
        "cellView": "form",
        "id": "ORwxkwBJkCyG"
      },
      "outputs": [],
      "source": [
        "#@title WandbLoggerCallback\n",
        "from stable_baselines3.common.callbacks import BaseCallback\n",
        "from stable_baselines3.common.monitor import Monitor\n",
        "\n",
        "import pandas as pd\n",
        "import numpy as np\n",
        "\n",
        "class MetricLoggerCallback(BaseCallback):\n",
        "    def __init__(self, model_name, split_label, verbose=0):\n",
        "        super(MetricLoggerCallback, self).__init__(verbose)\n",
        "\n",
        "        self.split_label = split_label\n",
        "        self.model_name = model_name\n",
        "\n",
        "    def _on_step(self) -> bool:\n",
        "        env = self.training_env.envs[0]\n",
        "\n",
        "        # Unwrap from Monitor if needed\n",
        "        while isinstance(env, Monitor):\n",
        "            env = env.env\n",
        "\n",
        "        # Check if the episode is terminal\n",
        "        env.terminal = env.day >= len(env.df.index.unique()) - 1\n",
        "        if env.terminal:\n",
        "            df_account_value = pd.DataFrame({\n",
        "                self.model_name: env.asset_memory,\n",
        "                'date': env.date_memory\n",
        "            })\n",
        "\n",
        "            # Compute metrics\n",
        "            metrics = compute_metrics(df_account_value)\n",
        "            # env_metrics = get_env_metrics(env)\n",
        "            # metrics.update(env_metrics)\n",
        "\n",
        "            # Log current model metrics\n",
        "            log_metrics_to_wandb(metrics, self.model_name, self.split_label)\n",
        "\n",
        "        return True"
      ]
    },
    {
      "cell_type": "code",
      "execution_count": null,
      "metadata": {
        "cellView": "form",
        "id": "Z-oWCpLLcqYJ"
      },
      "outputs": [],
      "source": [
        "#@title Custom DRLAgent (w/ wandb callback)\n",
        "from finrl.agents.stablebaselines3.models import DRLAgent, TensorboardCallback\n",
        "from stable_baselines3.common.callbacks import CallbackList\n",
        "import wandb\n",
        "\n",
        "class DRLAgent(DRLAgent):\n",
        "    @staticmethod\n",
        "    def train_model(\n",
        "        model,\n",
        "        tb_log_name,\n",
        "        total_timesteps=5000,\n",
        "        custom_callbacks=[],\n",
        "        log_to_wandb=False\n",
        "    ):\n",
        "        # Ensure TensorboardCallback is always included\n",
        "        tensorboard_callback = TensorboardCallback()\n",
        "\n",
        "        # Initialize default callbacks\n",
        "        metric_logger_callback = MetricLoggerCallback(\n",
        "            model_name=tb_log_name,\n",
        "            split_label='train',\n",
        "            verbose=1,\n",
        "            log_to_wandb=log_to_wandb\n",
        "        )\n",
        "\n",
        "        # Combine all callbacks (always include Tensorboard, SharpeRatio, and MaxSharpeRatio by default)\n",
        "        callbacks_to_use = [\n",
        "            tensorboard_callback,\n",
        "            metric_logger_callback,\n",
        "        ]\n",
        "\n",
        "        if custom_callbacks:\n",
        "            callbacks_to_use.extend(custom_callbacks)\n",
        "\n",
        "        # Wrap all callbacks into a CallbackList\n",
        "        combined_callback = CallbackList(callbacks_to_use)\n",
        "\n",
        "        # Train the model with the combined callbacks\n",
        "        model = model.learn(\n",
        "            total_timesteps=total_timesteps,\n",
        "            tb_log_name=tb_log_name,\n",
        "            callback=combined_callback,\n",
        "        )\n",
        "        return model"
      ]
    },
    {
      "cell_type": "code",
      "execution_count": null,
      "metadata": {
        "cellView": "form",
        "id": "dyvEieUxQvSA"
      },
      "outputs": [],
      "source": [
        "#@title train models\n",
        "\n",
        "check_and_make_directories([TRAINED_MODEL_DIR])\n",
        "\n",
        "env_train, _ = e_train_gym.get_sb_env()\n",
        "\n",
        "# Set the corresponding values to 'True' for the algorithms that you want to use\n",
        "\n",
        "# if_using_a2c = True\n",
        "if_using_a2c = False\n",
        "\n",
        "# if_using_ddpg = True\n",
        "if_using_ddpg = False\n",
        "\n",
        "# if_using_ppo = True\n",
        "if_using_ppo = False\n",
        "\n",
        "# if_using_td3 = True\n",
        "if_using_td3 = False\n",
        "\n",
        "# if_using_sac = True\n",
        "if_using_sac = False\n",
        "\n",
        "if if_using_a2c:\n",
        "    print(\"training A2C agent\")\n",
        "    agent = DRLAgent(env = env_train)\n",
        "    model_a2c = agent.get_model(\"a2c\")\n",
        "\n",
        "    # set up logger\n",
        "    tmp_path = RESULTS_DIR + '/a2c'\n",
        "    !rm -rf {tmp_path}/*\n",
        "    new_logger_a2c = configure(tmp_path, [\"stdout\", \"csv\", \"tensorboard\"])\n",
        "    # Set new logger\n",
        "    model_a2c.set_logger(new_logger_a2c)\n",
        "\n",
        "    trained_a2c = agent.train_model(model=model_a2c,\n",
        "                                    tb_log_name='a2c',\n",
        "                                    # total_timesteps=50_000,\n",
        "                                    total_timesteps=3500,\n",
        "                                    ) if if_using_a2c else None\n",
        "\n",
        "    trained_a2c.save(TRAINED_MODEL_DIR + \"/agent_a2c\") if if_using_a2c else None\n",
        "    update_model_artifacts()\n",
        "\n",
        "if if_using_ddpg:\n",
        "    print(\"training DDPG agent\")\n",
        "    agent = DRLAgent(env = env_train)\n",
        "    model_ddpg = agent.get_model(\"ddpg\")\n",
        "\n",
        "    # set up logger\n",
        "    tmp_path = RESULTS_DIR + '/ddpg'\n",
        "    !rm -rf {tmp_path}/*\n",
        "    new_logger_ddpg = configure(tmp_path, [\"stdout\", \"csv\", \"tensorboard\"])\n",
        "    # Set new logger\n",
        "    model_ddpg.set_logger(new_logger_ddpg)\n",
        "\n",
        "    trained_ddpg = agent.train_model(model=model_ddpg,\n",
        "                             tb_log_name='ddpg',\n",
        "                            #  total_timesteps=50_000,\n",
        "                             total_timesteps=3500\n",
        "                            ) if if_using_ddpg else None\n",
        "\n",
        "    trained_ddpg.save(TRAINED_MODEL_DIR + \"/agent_ddpg\") if if_using_ddpg else None\n",
        "    update_model_artifacts()\n",
        "\n",
        "if if_using_td3:\n",
        "    print(\"training TD3 agent\")\n",
        "    agent = DRLAgent(env = env_train)\n",
        "    TD3_PARAMS = {\"batch_size\": 100,\n",
        "                \"buffer_size\": 1000000,\n",
        "                \"learning_rate\": 0.001}\n",
        "\n",
        "    model_td3 = agent.get_model(\"td3\",model_kwargs = TD3_PARAMS)\n",
        "\n",
        "    # set up logger\n",
        "    tmp_path = RESULTS_DIR + '/td3'\n",
        "    !rm -rf {tmp_path}/*\n",
        "    new_logger_td3 = configure(tmp_path, [\"stdout\", \"csv\", \"tensorboard\"])\n",
        "    # Set new logger\n",
        "    model_td3.set_logger(new_logger_td3)\n",
        "\n",
        "    trained_td3 = agent.train_model(model=model_td3,\n",
        "                             tb_log_name='td3',\n",
        "                             total_timesteps=50000) if if_using_td3 else None\n",
        "\n",
        "    trained_td3.save(TRAINED_MODEL_DIR + \"/agent_td3\") if if_using_td3 else None\n",
        "    update_model_artifacts()\n",
        "\n",
        "if if_using_sac:\n",
        "    print(\"training SAC agent\")\n",
        "    agent = DRLAgent(env = env_train)\n",
        "    SAC_PARAMS = {\n",
        "        \"batch_size\": 128,\n",
        "        \"buffer_size\": 100000,\n",
        "        \"learning_rate\": 0.0001,\n",
        "        \"learning_starts\": 100,\n",
        "        \"ent_coef\": \"auto_0.1\",\n",
        "    }\n",
        "\n",
        "    model_sac = agent.get_model(\"sac\",model_kwargs = SAC_PARAMS)\n",
        "\n",
        "    # set up logger\n",
        "    tmp_path = RESULTS_DIR + '/sac'\n",
        "    !rm -rf {tmp_path}/*\n",
        "    new_logger_sac = configure(tmp_path, [\"stdout\", \"csv\", \"tensorboard\"])\n",
        "    # Set new logger\n",
        "    model_sac.set_logger(new_logger_sac)\n",
        "\n",
        "    trained_sac = agent.train_model(model=model_sac,\n",
        "                             tb_log_name='sac',\n",
        "                             total_timesteps=70000) if if_using_sac else None\n",
        "    trained_sac.save(TRAINED_MODEL_DIR + \"/agent_sac\") if if_using_sac else None\n",
        "    update_model_artifacts()\n",
        "\n",
        "if if_using_ppo:\n",
        "    agent = DRLAgent(env = env_train)\n",
        "    PPO_PARAMS = {\n",
        "        \"n_steps\": 2048,\n",
        "        \"ent_coef\": 0.01,\n",
        "        \"learning_rate\": 0.00025,\n",
        "        \"batch_size\": 128,\n",
        "    }\n",
        "    algo = agent.get_model(\"ppo\",model_kwargs = PPO_PARAMS)\n",
        "    # set up logger\n",
        "    tmp_path = RESULTS_DIR + '/ppo'\n",
        "    !rm -rf {tmp_path}/*\n",
        "    new_logger_ppo = configure(tmp_path, [\"stdout\", \"csv\", \"tensorboard\"])\n",
        "    # Set new logger\n",
        "    algo.set_logger(new_logger_ppo)\n",
        "\n",
        "    trained_ppo = agent.train_model(model=algo,\n",
        "                             tb_log_name='ppo',\n",
        "                             total_timesteps=200000) if if_using_ppo else None\n",
        "\n",
        "    trained_ppo.save(TRAINED_MODEL_DIR + \"/agent_ppo\") if if_using_ppo else None\n",
        "    update_model_artifacts()"
      ]
    },
    {
      "cell_type": "code",
      "execution_count": null,
      "metadata": {
        "id": "uSosu3u-YIIA"
      },
      "outputs": [],
      "source": [
        "# wandb.finish()"
      ]
    },
    {
      "cell_type": "markdown",
      "metadata": {
        "id": "GqkgvtqPR0y-"
      },
      "source": [
        "# Train RLLib models"
      ]
    },
    {
      "cell_type": "code",
      "execution_count": 21,
      "metadata": {
        "colab": {
          "base_uri": "https://localhost:8080/",
          "height": 112
        },
        "id": "B5HXgTrPXMkU",
        "outputId": "7bf3656c-1b05-43c8-87f6-2afd1e3c42f1"
      },
      "outputs": [
        {
          "output_type": "stream",
          "name": "stderr",
          "text": [
            "2025-02-13 06:10:48,495\tINFO worker.py:1832 -- Started a local Ray instance. View the dashboard at \u001b[1m\u001b[32mhttp://127.0.0.1:8265 \u001b[39m\u001b[22m\n"
          ]
        },
        {
          "output_type": "execute_result",
          "data": {
            "text/plain": [
              "RayContext(dashboard_url='127.0.0.1:8265', python_version='3.11.11', ray_version='2.42.1', ray_commit='c2e38f7b75be223c0c033986472daada8622d64f')"
            ],
            "text/html": [
              "<div class=\"lm-Widget p-Widget lm-Panel p-Panel jp-Cell-outputWrapper\">\n",
              "    <div style=\"margin-left: 50px;display: flex;flex-direction: row;align-items: center\">\n",
              "        <div class=\"jp-RenderedHTMLCommon\" style=\"display: flex; flex-direction: row;\">\n",
              "  <svg viewBox=\"0 0 567 224\" fill=\"none\" xmlns=\"http://www.w3.org/2000/svg\" style=\"height: 3em;\">\n",
              "    <g clip-path=\"url(#clip0_4338_178347)\">\n",
              "        <path d=\"M341.29 165.561H355.29L330.13 129.051C345.63 123.991 354.21 112.051 354.21 94.2307C354.21 71.3707 338.72 58.1807 311.88 58.1807H271V165.561H283.27V131.661H311.8C314.25 131.661 316.71 131.501 319.01 131.351L341.25 165.561H341.29ZM283.29 119.851V70.0007H311.82C331.3 70.0007 342.34 78.2907 342.34 94.5507C342.34 111.271 331.34 119.861 311.82 119.861L283.29 119.851ZM451.4 138.411L463.4 165.561H476.74L428.74 58.1807H416L367.83 165.561H380.83L392.83 138.411H451.4ZM446.19 126.601H398L422 72.1407L446.24 126.601H446.19ZM526.11 128.741L566.91 58.1807H554.35L519.99 114.181L485.17 58.1807H472.44L514.01 129.181V165.541H526.13V128.741H526.11Z\" fill=\"var(--jp-ui-font-color0)\"/>\n",
              "        <path d=\"M82.35 104.44C84.0187 97.8827 87.8248 92.0678 93.1671 87.9146C98.5094 83.7614 105.083 81.5067 111.85 81.5067C118.617 81.5067 125.191 83.7614 130.533 87.9146C135.875 92.0678 139.681 97.8827 141.35 104.44H163.75C164.476 101.562 165.622 98.8057 167.15 96.2605L127.45 56.5605C121.071 60.3522 113.526 61.6823 106.235 60.3005C98.9443 58.9187 92.4094 54.9203 87.8602 49.0574C83.3109 43.1946 81.0609 35.8714 81.5332 28.4656C82.0056 21.0599 85.1679 14.0819 90.4252 8.8446C95.6824 3.60726 102.672 0.471508 110.08 0.0272655C117.487 -0.416977 124.802 1.86091 130.647 6.4324C136.493 11.0039 140.467 17.5539 141.821 24.8501C143.175 32.1463 141.816 39.6859 138 46.0505L177.69 85.7505C182.31 82.9877 187.58 81.4995 192.962 81.4375C198.345 81.3755 203.648 82.742 208.33 85.3976C213.012 88.0532 216.907 91.9029 219.616 96.5544C222.326 101.206 223.753 106.492 223.753 111.875C223.753 117.258 222.326 122.545 219.616 127.197C216.907 131.848 213.012 135.698 208.33 138.353C203.648 141.009 198.345 142.375 192.962 142.313C187.58 142.251 182.31 140.763 177.69 138L138 177.7C141.808 184.071 143.155 191.614 141.79 198.91C140.424 206.205 136.44 212.75 130.585 217.313C124.731 221.875 117.412 224.141 110.004 223.683C102.596 223.226 95.6103 220.077 90.3621 214.828C85.1139 209.58 81.9647 202.595 81.5072 195.187C81.0497 187.779 83.3154 180.459 87.878 174.605C92.4405 168.751 98.9853 164.766 106.281 163.401C113.576 162.035 121.119 163.383 127.49 167.19L167.19 127.49C165.664 124.941 164.518 122.182 163.79 119.3H141.39C139.721 125.858 135.915 131.673 130.573 135.826C125.231 139.98 118.657 142.234 111.89 142.234C105.123 142.234 98.5494 139.98 93.2071 135.826C87.8648 131.673 84.0587 125.858 82.39 119.3H60C58.1878 126.495 53.8086 132.78 47.6863 136.971C41.5641 141.163 34.1211 142.972 26.7579 142.059C19.3947 141.146 12.6191 137.574 7.70605 132.014C2.79302 126.454 0.0813599 119.29 0.0813599 111.87C0.0813599 104.451 2.79302 97.2871 7.70605 91.7272C12.6191 86.1673 19.3947 82.5947 26.7579 81.6817C34.1211 80.7686 41.5641 82.5781 47.6863 86.7696C53.8086 90.9611 58.1878 97.2456 60 104.44H82.35ZM100.86 204.32C103.407 206.868 106.759 208.453 110.345 208.806C113.93 209.159 117.527 208.258 120.522 206.256C123.517 204.254 125.725 201.276 126.771 197.828C127.816 194.38 127.633 190.677 126.253 187.349C124.874 184.021 122.383 181.274 119.205 179.577C116.027 177.88 112.359 177.337 108.826 178.042C105.293 178.746 102.113 180.654 99.8291 183.44C97.5451 186.226 96.2979 189.718 96.3 193.32C96.2985 195.364 96.7006 197.388 97.4831 199.275C98.2656 201.163 99.4132 202.877 100.86 204.32ZM204.32 122.88C206.868 120.333 208.453 116.981 208.806 113.396C209.159 109.811 208.258 106.214 206.256 103.219C204.254 100.223 201.275 98.0151 197.827 96.97C194.38 95.9249 190.676 96.1077 187.348 97.4873C184.02 98.8669 181.274 101.358 179.577 104.536C177.879 107.714 177.337 111.382 178.041 114.915C178.746 118.448 180.653 121.627 183.439 123.911C186.226 126.195 189.717 127.443 193.32 127.44C195.364 127.443 197.388 127.042 199.275 126.259C201.163 125.476 202.878 124.328 204.32 122.88ZM122.88 19.4205C120.333 16.8729 116.981 15.2876 113.395 14.9347C109.81 14.5817 106.213 15.483 103.218 17.4849C100.223 19.4868 98.0146 22.4654 96.9696 25.9131C95.9245 29.3608 96.1073 33.0642 97.4869 36.3922C98.8665 39.7202 101.358 42.4668 104.535 44.1639C107.713 45.861 111.381 46.4036 114.914 45.6992C118.447 44.9949 121.627 43.0871 123.911 40.301C126.195 37.515 127.442 34.0231 127.44 30.4205C127.44 28.3772 127.038 26.3539 126.255 24.4664C125.473 22.5788 124.326 20.8642 122.88 19.4205ZM19.42 100.86C16.8725 103.408 15.2872 106.76 14.9342 110.345C14.5813 113.93 15.4826 117.527 17.4844 120.522C19.4863 123.518 22.4649 125.726 25.9127 126.771C29.3604 127.816 33.0638 127.633 36.3918 126.254C39.7198 124.874 42.4664 122.383 44.1635 119.205C45.8606 116.027 46.4032 112.359 45.6988 108.826C44.9944 105.293 43.0866 102.114 40.3006 99.8296C37.5145 97.5455 34.0227 96.2983 30.42 96.3005C26.2938 96.3018 22.337 97.9421 19.42 100.86ZM100.86 100.86C98.3125 103.408 96.7272 106.76 96.3742 110.345C96.0213 113.93 96.9226 117.527 98.9244 120.522C100.926 123.518 103.905 125.726 107.353 126.771C110.8 127.816 114.504 127.633 117.832 126.254C121.16 124.874 123.906 122.383 125.604 119.205C127.301 116.027 127.843 112.359 127.139 108.826C126.434 105.293 124.527 102.114 121.741 99.8296C118.955 97.5455 115.463 96.2983 111.86 96.3005C109.817 96.299 107.793 96.701 105.905 97.4835C104.018 98.2661 102.303 99.4136 100.86 100.86Z\" fill=\"#00AEEF\"/>\n",
              "    </g>\n",
              "    <defs>\n",
              "        <clipPath id=\"clip0_4338_178347\">\n",
              "            <rect width=\"566.93\" height=\"223.75\" fill=\"white\"/>\n",
              "        </clipPath>\n",
              "    </defs>\n",
              "  </svg>\n",
              "</div>\n",
              "\n",
              "        <table class=\"jp-RenderedHTMLCommon\" style=\"border-collapse: collapse;color: var(--jp-ui-font-color1);font-size: var(--jp-ui-font-size1);\">\n",
              "    <tr>\n",
              "        <td style=\"text-align: left\"><b>Python version:</b></td>\n",
              "        <td style=\"text-align: left\"><b>3.11.11</b></td>\n",
              "    </tr>\n",
              "    <tr>\n",
              "        <td style=\"text-align: left\"><b>Ray version:</b></td>\n",
              "        <td style=\"text-align: left\"><b>2.42.1</b></td>\n",
              "    </tr>\n",
              "    <tr>\n",
              "    <td style=\"text-align: left\"><b>Dashboard:</b></td>\n",
              "    <td style=\"text-align: left\"><b><a href=\"http://127.0.0.1:8265\" target=\"_blank\">http://127.0.0.1:8265</a></b></td>\n",
              "</tr>\n",
              "\n",
              "</table>\n",
              "\n",
              "    </div>\n",
              "</div>\n"
            ]
          },
          "metadata": {},
          "execution_count": 21
        }
      ],
      "source": [
        "import ray\n",
        "\n",
        "ray.shutdown()\n",
        "ray.init()"
      ]
    },
    {
      "cell_type": "code",
      "execution_count": 22,
      "metadata": {
        "id": "MtlF8TNkXc-P"
      },
      "outputs": [],
      "source": [
        "run_config = {\n",
        "    'cost_pct': 0.001,\n",
        "    'initial_amount': 50_000,\n",
        "    'turbulence_threshold': 99,\n",
        "    'if_vix': True\n",
        "}"
      ]
    },
    {
      "cell_type": "code",
      "execution_count": 23,
      "metadata": {
        "cellView": "form",
        "id": "Y5AWgHwIR5Rx"
      },
      "outputs": [],
      "source": [
        "#@title Init data\n",
        "# date_range = date_ranges[1]\n",
        "\n",
        "# #####################\n",
        "\n",
        "# data_splits = split_data(preproc_df, date_range)\n",
        "# train = data_splits['train']\n",
        "# val = data_splits['val']\n",
        "# print(train['date'].max() - train['date'].min())\n",
        "# val.head()"
      ]
    },
    {
      "cell_type": "code",
      "execution_count": 24,
      "metadata": {
        "cellView": "form",
        "id": "dUvvkBzXarxr"
      },
      "outputs": [],
      "source": [
        "#@title Init StockTradingEnv (custom vectorization)\n",
        "\n",
        "from finrl.meta.env_stock_trading.env_stocktrading import StockTradingEnv\n",
        "from stable_baselines3.common.vec_env import SubprocVecEnv, DummyVecEnv\n",
        "from stable_baselines3.common.env_util import make_vec_env\n",
        "from copy import deepcopy\n",
        "\n",
        "class StockTradingEnv(StockTradingEnv):\n",
        "    def __init__(self, *args, if_async=False, n_envs=1, **kwargs, ):\n",
        "        super().__init__(*args, **kwargs)\n",
        "        self.n_envs = n_envs\n",
        "        if if_async:\n",
        "            self.vec_env_cls = SubprocVecEnv\n",
        "            self.vec_env_kwargs = dict(start_method='fork')\n",
        "        else:\n",
        "            self.vec_env_cls = DummyVecEnv\n",
        "            self.vec_env_kwargs = {}\n",
        "\n",
        "    def get_sb_env(self):\n",
        "        e = self.vec_env_cls([deepcopy(self) for _ in range(self.n_envs)], **self.vec_env_kwargs)\n",
        "        # e = make_vec_env(deepcopy(self), n_envs=self.n_envs, vec_env_cls=self.vec_env_cls)\n",
        "        obs = e.reset()\n",
        "        return e, obs\n",
        "\n",
        "def init_env(df, run_config, mode=\"\", previous_state=None,\n",
        "             if_async=False, n_envs=1):\n",
        "    assert mode in ['train', 'val', 'test', \"\"]\n",
        "    if mode:\n",
        "        print(f\"Initializing '{mode}' env.\")\n",
        "\n",
        "    stock_dimension = len(df.tic.unique())\n",
        "    state_space = 1 + 2*stock_dimension + len(INDICATORS)*stock_dimension\n",
        "    print(f\"Stock Dimension: {stock_dimension}, State Space: {state_space}\")\n",
        "\n",
        "    cost_pct = run_config['cost_pct']\n",
        "    if isinstance(cost_pct, list):\n",
        "        assert len(cost_pct) == stock_dimension\n",
        "        buy_cost_pct = sell_cost_pct = cost_pct\n",
        "    elif isinstance(cost_pct, (int, float)):\n",
        "        buy_cost_pct = sell_cost_pct = [ run_config['cost_pct'] ] * stock_dimension\n",
        "    else:\n",
        "        raise ValueError\n",
        "\n",
        "    num_stock_shares = [0] * stock_dimension\n",
        "\n",
        "    print(f\"Initializing env with initial amount: {previous_state[0] if previous_state is not None else run_config['initial_amount']}\")\n",
        "    env_kwargs = {\n",
        "        \"hmax\": 100,\n",
        "        \"initial_amount\": previous_state[0] if previous_state is not None else run_config['initial_amount'],\n",
        "        \"num_stock_shares\": num_stock_shares,\n",
        "        \"buy_cost_pct\": buy_cost_pct,\n",
        "        \"sell_cost_pct\": sell_cost_pct,\n",
        "        \"state_space\": state_space,\n",
        "        \"stock_dim\": stock_dimension,\n",
        "        \"tech_indicator_list\": INDICATORS,\n",
        "        \"action_space\": stock_dimension,\n",
        "        \"reward_scaling\": 1e-4,\n",
        "        \"turbulence_threshold\": run_config['turbulence_threshold'] if 'turbulence_threshold' in run_config else None,\n",
        "        \"print_verbosity\": 1,\n",
        "        \"mode\": mode,\n",
        "\n",
        "        \"initial\": False if previous_state is not None else True,\n",
        "        \"previous_state\": previous_state if previous_state is not None else [],\n",
        "    }\n",
        "\n",
        "    env_kwargs.update({\n",
        "        'if_async': if_async,\n",
        "        'n_envs': n_envs\n",
        "    })\n",
        "\n",
        "    e_train_gym = StockTradingEnv(df = df, **env_kwargs)\n",
        "    # e_train_gym = e_train_gym.get_sb_env()\n",
        "    return e_train_gym"
      ]
    },
    {
      "cell_type": "code",
      "execution_count": 25,
      "metadata": {
        "cellView": "form",
        "colab": {
          "base_uri": "https://localhost:8080/"
        },
        "id": "E34A0Yyhy4Sy",
        "outputId": "efdf17c9-bc5e-4123-ab22-4bf10d82cf7a"
      },
      "outputs": [
        {
          "output_type": "stream",
          "name": "stdout",
          "text": [
            "Creating new data.\n"
          ]
        },
        {
          "output_type": "stream",
          "name": "stderr",
          "text": [
            "[*********************100%***********************]  30 of 30 completed\n",
            "ERROR:yfinance:\n",
            "1 Failed download:\n",
            "ERROR:yfinance:['DOW']: YFPricesMissingError('$%ticker%: possibly delisted; no price data found  (1d 2015-01-01 00:00:00 -> 2015-10-01 00:00:00) (Yahoo error = \"Data doesn\\'t exist for startDate = 1420088400, endDate = 1443672000\")')\n"
          ]
        },
        {
          "output_type": "stream",
          "name": "stdout",
          "text": [
            "NaN data on start date, fill using first valid data.\n",
            "Missing data for ticker:  DOW  . The prices are all NaN. Fill with 0.\n"
          ]
        },
        {
          "output_type": "stream",
          "name": "stderr",
          "text": [
            "\r[*********************100%***********************]  1 of 1 completed\n"
          ]
        },
        {
          "output_type": "stream",
          "name": "stdout",
          "text": [
            "cleaned_vix\n",
            "                     timestamp       open       high        low      close  \\\n",
            "0   2015-01-02 00:00:00-05:00  17.760000  20.139999  17.049999  17.790001   \n",
            "1   2015-01-05 00:00:00-05:00  19.190001  21.290001  19.190001  19.920000   \n",
            "2   2015-01-06 00:00:00-05:00  20.330000  22.900000  19.520000  21.120001   \n",
            "3   2015-01-07 00:00:00-05:00  20.150000  20.719999  19.040001  19.309999   \n",
            "4   2015-01-08 00:00:00-05:00  17.930000  18.090000  16.990000  17.010000   \n",
            "..                        ...        ...        ...        ...        ...   \n",
            "184 2015-09-25 00:00:00-04:00  21.120001  24.290001  20.809999  23.620001   \n",
            "185 2015-09-28 00:00:00-04:00  25.020000  28.330000  24.940001  27.629999   \n",
            "186 2015-09-29 00:00:00-04:00  26.570000  28.200001  25.760000  26.830000   \n",
            "187 2015-09-30 00:00:00-04:00  24.639999  25.879999  23.250000  24.500000   \n",
            "188 2015-10-01 00:00:00-04:00  24.500000  24.500000  24.500000  24.500000   \n",
            "\n",
            "     volume   tic  \n",
            "0       0.0  ^VIX  \n",
            "1       0.0  ^VIX  \n",
            "2       0.0  ^VIX  \n",
            "3       0.0  ^VIX  \n",
            "4       0.0  ^VIX  \n",
            "..      ...   ...  \n",
            "184     0.0  ^VIX  \n",
            "185     0.0  ^VIX  \n",
            "186     0.0  ^VIX  \n",
            "187     0.0  ^VIX  \n",
            "188     0.0  ^VIX  \n",
            "\n",
            "[189 rows x 7 columns]\n",
            "cleaned_vix[[\"timestamp\", \"close\"]\n",
            "                     timestamp      close\n",
            "0   2015-01-02 00:00:00-05:00  17.790001\n",
            "1   2015-01-05 00:00:00-05:00  19.920000\n",
            "2   2015-01-06 00:00:00-05:00  21.120001\n",
            "3   2015-01-07 00:00:00-05:00  19.309999\n",
            "4   2015-01-08 00:00:00-05:00  17.010000\n",
            "..                        ...        ...\n",
            "184 2015-09-25 00:00:00-04:00  23.620001\n",
            "185 2015-09-28 00:00:00-04:00  27.629999\n",
            "186 2015-09-29 00:00:00-04:00  26.830000\n",
            "187 2015-09-30 00:00:00-04:00  24.500000\n",
            "188 2015-10-01 00:00:00-04:00  24.500000\n",
            "\n",
            "[189 rows x 2 columns]\n",
            "vix.rename(columns={\"close\": \"^VIX\"}\n",
            "                     timestamp       ^VIX\n",
            "0   2015-01-02 00:00:00-05:00  17.790001\n",
            "1   2015-01-05 00:00:00-05:00  19.920000\n",
            "2   2015-01-06 00:00:00-05:00  21.120001\n",
            "3   2015-01-07 00:00:00-05:00  19.309999\n",
            "4   2015-01-08 00:00:00-05:00  17.010000\n",
            "..                        ...        ...\n",
            "184 2015-09-25 00:00:00-04:00  23.620001\n",
            "185 2015-09-28 00:00:00-04:00  27.629999\n",
            "186 2015-09-29 00:00:00-04:00  26.830000\n",
            "187 2015-09-30 00:00:00-04:00  24.500000\n",
            "188 2015-10-01 00:00:00-04:00  24.500000\n",
            "\n",
            "[189 rows x 2 columns]\n",
            "df\n",
            "                      timestamp        open        high         low  \\\n",
            "0    2015-01-02 00:00:00-05:00   24.778679   24.789802   23.879981   \n",
            "189  2015-01-02 00:00:00-05:00  120.429649  122.256841  119.256635   \n",
            "378  2015-01-02 00:00:00-05:00   80.263102   80.926437   79.375790   \n",
            "567  2015-01-02 00:00:00-05:00  114.636813  115.310263  112.905050   \n",
            "756  2015-01-02 00:00:00-05:00   70.026216   70.484058   69.179222   \n",
            "...                        ...         ...         ...         ...   \n",
            "4913 2015-10-01 00:00:00-04:00  100.833275  100.833275  100.833275   \n",
            "5102 2015-10-01 00:00:00-04:00   65.180580   65.180580   65.180580   \n",
            "5291 2015-10-01 00:00:00-04:00   26.770769   26.770769   26.770769   \n",
            "5480 2015-10-01 00:00:00-04:00   57.329384   57.329384   57.329384   \n",
            "5669 2015-10-01 00:00:00-04:00   18.035303   18.035303   18.035303   \n",
            "\n",
            "           close       volume   tic      macd     boll_ub    boll_lb  \\\n",
            "0      24.320433  212818400.0  AAPL  0.000000         NaN        NaN   \n",
            "189   120.226624    2605400.0  AMGN  0.000000         NaN        NaN   \n",
            "378    80.133881    2437500.0   AXP  0.000000         NaN        NaN   \n",
            "567   113.657227    4294200.0    BA  0.000000         NaN        NaN   \n",
            "756    70.110153    3767900.0   CAT  0.000000         NaN        NaN   \n",
            "...          ...          ...   ...       ...         ...        ...   \n",
            "4913  100.833275          0.0   UNH -0.378540  109.421055  95.946009   \n",
            "5102   65.180580          0.0     V -0.514413   67.281654  63.799964   \n",
            "5291   26.770769          0.0    VZ -0.408447   28.743380  26.436032   \n",
            "5480   57.329384          0.0   WBA -1.161096   64.242883  56.281949   \n",
            "5669   18.035303          0.0   WMT -0.218405   18.280289  17.486581   \n",
            "\n",
            "         rsi_30      cci_30      dx_30  close_30_sma  close_60_sma  \n",
            "0           NaN         NaN        NaN     24.320433     24.320433  \n",
            "189         NaN         NaN        NaN    120.226624    120.226624  \n",
            "378         NaN         NaN        NaN     80.133881     80.133881  \n",
            "567         NaN         NaN        NaN    113.657227    113.657227  \n",
            "756         NaN         NaN        NaN     70.110153     70.110153  \n",
            "...         ...         ...        ...           ...           ...  \n",
            "4913  47.616687  -14.186075  14.951632    101.559972    103.533657  \n",
            "5102  48.221179  -34.339257  15.123604     65.710793     67.005035  \n",
            "5291  40.272774 -120.643681  40.936682     27.722812     28.318299  \n",
            "5480  42.464321 -116.981221  27.459004     59.945874     62.424833  \n",
            "5669  42.562255   23.276853  22.069002     17.956867     18.993853  \n",
            "\n",
            "[5670 rows x 15 columns]\n"
          ]
        },
        {
          "output_type": "stream",
          "name": "stderr",
          "text": [
            "\r[                       0%                       ]"
          ]
        },
        {
          "output_type": "stream",
          "name": "stdout",
          "text": [
            "Creating new data.\n"
          ]
        },
        {
          "output_type": "stream",
          "name": "stderr",
          "text": [
            "[*********************100%***********************]  30 of 30 completed\n",
            "ERROR:yfinance:\n",
            "1 Failed download:\n",
            "ERROR:yfinance:['DOW']: YFPricesMissingError('$%ticker%: possibly delisted; no price data found  (1d 2015-10-01 00:00:00 -> 2016-01-01 00:00:00) (Yahoo error = \"Data doesn\\'t exist for startDate = 1443672000, endDate = 1451624400\")')\n"
          ]
        },
        {
          "output_type": "stream",
          "name": "stdout",
          "text": [
            "NaN data on start date, fill using first valid data.\n",
            "Missing data for ticker:  DOW  . The prices are all NaN. Fill with 0.\n"
          ]
        },
        {
          "output_type": "stream",
          "name": "stderr",
          "text": [
            "\r[*********************100%***********************]  1 of 1 completed\n"
          ]
        },
        {
          "output_type": "stream",
          "name": "stdout",
          "text": [
            "cleaned_vix\n",
            "                    timestamp       open       high        low      close  \\\n",
            "0  2015-10-01 00:00:00-04:00  23.139999  25.230000  22.549999  22.549999   \n",
            "1  2015-10-02 00:00:00-04:00  23.990000  24.469999  20.350000  20.940001   \n",
            "2  2015-10-05 00:00:00-04:00  20.309999  20.420000  19.139999  19.540001   \n",
            "3  2015-10-06 00:00:00-04:00  19.540001  20.320000  18.820000  19.400000   \n",
            "4  2015-10-07 00:00:00-04:00  18.959999  19.730000  18.330000  18.400000   \n",
            "..                       ...        ...        ...        ...        ...   \n",
            "59 2015-12-24 00:00:00-05:00  15.440000  15.880000  14.450000  15.740000   \n",
            "60 2015-12-28 00:00:00-05:00  17.650000  18.129999  16.879999  16.910000   \n",
            "61 2015-12-29 00:00:00-05:00  15.910000  16.480000  15.630000  16.080000   \n",
            "62 2015-12-30 00:00:00-05:00  16.500000  17.420000  16.500000  17.290001   \n",
            "63 2015-12-31 00:00:00-05:00  17.969999  20.389999  17.510000  18.209999   \n",
            "\n",
            "    volume   tic  \n",
            "0      0.0  ^VIX  \n",
            "1      0.0  ^VIX  \n",
            "2      0.0  ^VIX  \n",
            "3      0.0  ^VIX  \n",
            "4      0.0  ^VIX  \n",
            "..     ...   ...  \n",
            "59     0.0  ^VIX  \n",
            "60     0.0  ^VIX  \n",
            "61     0.0  ^VIX  \n",
            "62     0.0  ^VIX  \n",
            "63     0.0  ^VIX  \n",
            "\n",
            "[64 rows x 7 columns]\n",
            "cleaned_vix[[\"timestamp\", \"close\"]\n",
            "                    timestamp      close\n",
            "0  2015-10-01 00:00:00-04:00  22.549999\n",
            "1  2015-10-02 00:00:00-04:00  20.940001\n",
            "2  2015-10-05 00:00:00-04:00  19.540001\n",
            "3  2015-10-06 00:00:00-04:00  19.400000\n",
            "4  2015-10-07 00:00:00-04:00  18.400000\n",
            "..                       ...        ...\n",
            "59 2015-12-24 00:00:00-05:00  15.740000\n",
            "60 2015-12-28 00:00:00-05:00  16.910000\n",
            "61 2015-12-29 00:00:00-05:00  16.080000\n",
            "62 2015-12-30 00:00:00-05:00  17.290001\n",
            "63 2015-12-31 00:00:00-05:00  18.209999\n",
            "\n",
            "[64 rows x 2 columns]\n",
            "vix.rename(columns={\"close\": \"^VIX\"}\n",
            "                    timestamp       ^VIX\n",
            "0  2015-10-01 00:00:00-04:00  22.549999\n",
            "1  2015-10-02 00:00:00-04:00  20.940001\n",
            "2  2015-10-05 00:00:00-04:00  19.540001\n",
            "3  2015-10-06 00:00:00-04:00  19.400000\n",
            "4  2015-10-07 00:00:00-04:00  18.400000\n",
            "..                       ...        ...\n",
            "59 2015-12-24 00:00:00-05:00  15.740000\n",
            "60 2015-12-28 00:00:00-05:00  16.910000\n",
            "61 2015-12-29 00:00:00-05:00  16.080000\n",
            "62 2015-12-30 00:00:00-05:00  17.290001\n",
            "63 2015-12-31 00:00:00-05:00  18.209999\n",
            "\n",
            "[64 rows x 2 columns]\n",
            "df\n",
            "                      timestamp        open        high         low  \\\n",
            "0    2015-10-01 00:00:00-04:00   24.570808   24.694711   24.174323   \n",
            "64   2015-10-01 00:00:00-04:00  105.737748  107.332779  104.249561   \n",
            "128  2015-10-01 00:00:00-04:00   64.529229   64.912084   63.702596   \n",
            "192  2015-10-01 00:00:00-04:00  117.048479  117.467388  114.962774   \n",
            "256  2015-10-01 00:00:00-04:00   51.378957   51.746901   49.797586   \n",
            "...                        ...         ...         ...         ...   \n",
            "1663 2015-12-31 00:00:00-05:00  103.564589  104.201832  102.447238   \n",
            "1727 2015-12-31 00:00:00-05:00   73.340397   73.865333   72.693611   \n",
            "1791 2015-12-31 00:00:00-05:00   28.994569   29.075595   28.801355   \n",
            "1855 2015-12-31 00:00:00-05:00   59.536826   59.619980   58.746882   \n",
            "1919 2015-12-31 00:00:00-05:00   17.201885   17.311273   17.157008   \n",
            "\n",
            "           close       volume   tic      macd     boll_ub    boll_lb  \\\n",
            "0      24.685699  255716400.0  AAPL  0.000000         NaN        NaN   \n",
            "64    107.019875    4675900.0  AMGN  0.000000         NaN        NaN   \n",
            "128    64.294289    4741100.0   AXP  0.000000         NaN        NaN   \n",
            "192   116.415634    2878400.0    BA  0.000000         NaN        NaN   \n",
            "256    50.408215    7933000.0   CAT  0.000000         NaN        NaN   \n",
            "...          ...          ...   ...       ...         ...        ...   \n",
            "1663  102.691658    2372500.0   UNH  0.759112  104.947014  99.815679   \n",
            "1727   72.693611    6538300.0     V -0.091323   75.437703  71.242166   \n",
            "1791   28.807589   11490900.0    VZ  0.219474   29.545933  27.766956   \n",
            "1855   59.010201    2528700.0   WBA  0.439178   60.715630  56.141296   \n",
            "1919   17.193470   19725300.0   WMT  0.164194   17.365323  16.358837   \n",
            "\n",
            "         rsi_30      cci_30      dx_30  close_30_sma  close_60_sma  \n",
            "0           NaN         NaN        NaN     24.685699     24.685699  \n",
            "64          NaN         NaN        NaN    107.019875    107.019875  \n",
            "128         NaN         NaN        NaN     64.294289     64.294289  \n",
            "192         NaN         NaN        NaN    116.415634    116.415634  \n",
            "256         NaN         NaN        NaN     50.408215     50.408215  \n",
            "...         ...         ...        ...           ...           ...  \n",
            "1663  51.587126   70.656009   2.337636    101.342889    101.689548  \n",
            "1727  50.875973  -61.242840   3.628407     73.829401     72.949740  \n",
            "1791  54.428751   78.740966  14.788974     28.511742     28.379712  \n",
            "1855  51.220916   82.637859   3.760825     58.192519     58.696587  \n",
            "1919  53.706765  157.737019  13.717695     16.792155     16.698929  \n",
            "\n",
            "[1920 rows x 15 columns]\n"
          ]
        },
        {
          "output_type": "stream",
          "name": "stderr",
          "text": [
            "\r[                       0%                       ]"
          ]
        },
        {
          "output_type": "stream",
          "name": "stdout",
          "text": [
            "Creating new data.\n"
          ]
        },
        {
          "output_type": "stream",
          "name": "stderr",
          "text": [
            "[*********************100%***********************]  30 of 30 completed\n",
            "ERROR:yfinance:\n",
            "1 Failed download:\n",
            "ERROR:yfinance:['DOW']: YFPricesMissingError('$%ticker%: possibly delisted; no price data found  (1d 2016-01-01 00:00:00 -> 2016-04-01 00:00:00) (Yahoo error = \"Data doesn\\'t exist for startDate = 1451624400, endDate = 1459483200\")')\n"
          ]
        },
        {
          "output_type": "stream",
          "name": "stdout",
          "text": [
            "NaN data on start date, fill using first valid data.\n",
            "Missing data for ticker:  DOW  . The prices are all NaN. Fill with 0.\n"
          ]
        },
        {
          "output_type": "stream",
          "name": "stderr",
          "text": [
            "\r[*********************100%***********************]  1 of 1 completed\n"
          ]
        },
        {
          "output_type": "stream",
          "name": "stdout",
          "text": [
            "cleaned_vix\n",
            "                    timestamp       open       high        low      close  \\\n",
            "0  2016-01-04 00:00:00-05:00  22.480000  23.360001  20.670000  20.700001   \n",
            "1  2016-01-05 00:00:00-05:00  20.750000  21.059999  19.250000  19.340000   \n",
            "2  2016-01-06 00:00:00-05:00  21.670000  21.860001  19.799999  20.590000   \n",
            "3  2016-01-07 00:00:00-05:00  23.219999  25.860001  22.400000  24.990000   \n",
            "4  2016-01-08 00:00:00-05:00  22.959999  27.080000  22.480000  27.010000   \n",
            "..                       ...        ...        ...        ...        ...   \n",
            "57 2016-03-28 00:00:00-04:00  15.650000  16.040001  14.890000  15.240000   \n",
            "58 2016-03-29 00:00:00-04:00  15.740000  15.890000  13.790000  13.820000   \n",
            "59 2016-03-30 00:00:00-04:00  13.690000  13.890000  13.060000  13.560000   \n",
            "60 2016-03-31 00:00:00-04:00  13.730000  14.280000  13.490000  13.950000   \n",
            "61 2016-04-01 00:00:00-04:00  13.950000  13.950000  13.950000  13.950000   \n",
            "\n",
            "    volume   tic  \n",
            "0      0.0  ^VIX  \n",
            "1      0.0  ^VIX  \n",
            "2      0.0  ^VIX  \n",
            "3      0.0  ^VIX  \n",
            "4      0.0  ^VIX  \n",
            "..     ...   ...  \n",
            "57     0.0  ^VIX  \n",
            "58     0.0  ^VIX  \n",
            "59     0.0  ^VIX  \n",
            "60     0.0  ^VIX  \n",
            "61     0.0  ^VIX  \n",
            "\n",
            "[62 rows x 7 columns]\n",
            "cleaned_vix[[\"timestamp\", \"close\"]\n",
            "                    timestamp      close\n",
            "0  2016-01-04 00:00:00-05:00  20.700001\n",
            "1  2016-01-05 00:00:00-05:00  19.340000\n",
            "2  2016-01-06 00:00:00-05:00  20.590000\n",
            "3  2016-01-07 00:00:00-05:00  24.990000\n",
            "4  2016-01-08 00:00:00-05:00  27.010000\n",
            "..                       ...        ...\n",
            "57 2016-03-28 00:00:00-04:00  15.240000\n",
            "58 2016-03-29 00:00:00-04:00  13.820000\n",
            "59 2016-03-30 00:00:00-04:00  13.560000\n",
            "60 2016-03-31 00:00:00-04:00  13.950000\n",
            "61 2016-04-01 00:00:00-04:00  13.950000\n",
            "\n",
            "[62 rows x 2 columns]\n",
            "vix.rename(columns={\"close\": \"^VIX\"}\n",
            "                    timestamp       ^VIX\n",
            "0  2016-01-04 00:00:00-05:00  20.700001\n",
            "1  2016-01-05 00:00:00-05:00  19.340000\n",
            "2  2016-01-06 00:00:00-05:00  20.590000\n",
            "3  2016-01-07 00:00:00-05:00  24.990000\n",
            "4  2016-01-08 00:00:00-05:00  27.010000\n",
            "..                       ...        ...\n",
            "57 2016-03-28 00:00:00-04:00  15.240000\n",
            "58 2016-03-29 00:00:00-04:00  13.820000\n",
            "59 2016-03-30 00:00:00-04:00  13.560000\n",
            "60 2016-03-31 00:00:00-04:00  13.950000\n",
            "61 2016-04-01 00:00:00-04:00  13.950000\n",
            "\n",
            "[62 rows x 2 columns]\n",
            "df\n",
            "                      timestamp        open        high         low  \\\n",
            "0    2016-01-04 00:00:00-05:00   23.214477   23.838899   23.076470   \n",
            "62   2016-01-04 00:00:00-05:00  121.958899  122.127648  119.726818   \n",
            "124  2016-01-04 00:00:00-05:00   59.471764   59.550376   58.318838   \n",
            "186  2016-01-04 00:00:00-05:00  126.794330  127.081309  125.045493   \n",
            "248  2016-01-04 00:00:00-05:00   52.942651   53.892583   52.024390   \n",
            "...                        ...         ...         ...         ...   \n",
            "1611 2016-04-01 00:00:00-04:00  112.985222  112.985222  112.985222   \n",
            "1673 2016-04-01 00:00:00-04:00   71.832047   71.832047   71.832047   \n",
            "1735 2016-04-01 00:00:00-04:00   34.121078   34.121078   34.121078   \n",
            "1797 2016-04-01 00:00:00-04:00   58.646584   58.646584   58.646584   \n",
            "1859 2016-04-01 00:00:00-04:00   19.352343   19.352343   19.352343   \n",
            "\n",
            "           close       volume   tic      macd     boll_ub     boll_lb  \\\n",
            "0      23.834373  270597600.0  AAPL  0.000000         NaN         NaN   \n",
            "62    121.452652    5083200.0  AMGN  0.000000         NaN         NaN   \n",
            "124    59.035049    9248300.0   AXP  0.000000         NaN         NaN   \n",
            "186   126.005112    5719500.0    BA  0.000000         NaN         NaN   \n",
            "248    53.821335    8586900.0   CAT  0.000000         NaN         NaN   \n",
            "...          ...          ...   ...       ...         ...         ...   \n",
            "1611  112.985222          0.0   UNH  2.425681  115.923740  104.752360   \n",
            "1673   71.832047          0.0     V  0.985657   72.524935   65.133761   \n",
            "1735   34.121078          0.0    VZ  0.495808   34.379758   32.608736   \n",
            "1797   58.646584          0.0   WBA  0.826449   59.303261   55.134160   \n",
            "1859   19.352343          0.0   WMT  0.178593   19.464464   18.805086   \n",
            "\n",
            "         rsi_30      cci_30      dx_30  close_30_sma  close_60_sma  \n",
            "0           NaN         NaN        NaN     23.834373     23.834373  \n",
            "62          NaN         NaN        NaN    121.452652    121.452652  \n",
            "124         NaN         NaN        NaN     59.035049     59.035049  \n",
            "186         NaN         NaN        NaN    126.005112    126.005112  \n",
            "248         NaN         NaN        NaN     53.821335     53.821335  \n",
            "...         ...         ...        ...           ...           ...  \n",
            "1611  64.670179  100.682058  25.559507    108.670629    103.597027  \n",
            "1673  57.407481  176.197699   7.244474     68.735427     68.132089  \n",
            "1735  69.242446  120.555678  51.291164     33.091395     31.679148  \n",
            "1797  58.564057  124.966015  14.584711     56.541092     55.484280  \n",
            "1859  59.964109  100.237107  16.645322     18.960657     18.535181  \n",
            "\n",
            "[1860 rows x 15 columns]\n"
          ]
        }
      ],
      "source": [
        "#@title prepare_data (for np env)\n",
        "import hashlib\n",
        "from finrl.config_tickers import DOW_30_TICKER\n",
        "from finrl.meta.data_processor import DataProcessor\n",
        "from finrl.meta.data_processors.processor_yahoofinance import YahooFinanceProcessor\n",
        "\n",
        "CACHE_DIR = './cache'\n",
        "os.makedirs(CACHE_DIR, exist_ok=True)\n",
        "\n",
        "def stable_hash(data):\n",
        "    return hashlib.sha256(str(data).encode()).hexdigest()\n",
        "\n",
        "def get_env_config(\n",
        "    start_date,\n",
        "    end_date,\n",
        "    if_train,\n",
        "    ticker_list=DOW_30_TICKER,\n",
        "    technical_indicator_list=INDICATORS,\n",
        "    time_interval='1d',\n",
        "    if_vix=True,\n",
        "    **kwargs\n",
        "):\n",
        "    data_hash = stable_hash(tuple(sorted(ticker_list) + sorted(technical_indicator_list) + [if_vix]))\n",
        "    file_path = Path(CACHE_DIR) / f\"{start_date}_{end_date}_{time_interval}_{data_hash}.csv\"\n",
        "    dp = DataProcessor(data_source='yahoofinance', tech_indicator=technical_indicator_list, vix=if_vix, **kwargs)\n",
        "    data = None\n",
        "    if os.path.isfile(file_path):\n",
        "        print(f\"Using cached data: {file_path}\")\n",
        "        data = pd.read_csv(file_path, index_col=0)\n",
        "\n",
        "    if data is None:\n",
        "        print(\"Creating new data.\")\n",
        "        data = dp.download_data(ticker_list, start_date, end_date, time_interval)\n",
        "        data = dp.clean_data(data)\n",
        "        data = dp.add_technical_indicator(data, technical_indicator_list)\n",
        "\n",
        "        if if_vix:\n",
        "            data = dp.add_vix(data)\n",
        "        else:\n",
        "            data = dp.add_turbulence(data)\n",
        "\n",
        "    data.to_csv(file_path)\n",
        "\n",
        "    price_array, tech_array, turbulence_array, timestamp_array = dp.df_to_array(data, if_vix, return_timestamps=True)\n",
        "\n",
        "    env_config = {\n",
        "        \"price_array\": price_array,\n",
        "        \"tech_array\": tech_array,\n",
        "        \"turbulence_array\": turbulence_array,\n",
        "        \"timestamp_array\": timestamp_array,\n",
        "        \"if_train\": if_train\n",
        "    }\n",
        "\n",
        "    return env_config\n",
        "\n",
        "date_range=date_ranges[0]\n",
        "train_np_env_config = get_env_config(\n",
        "    start_date=date_range['train_start_date'],\n",
        "    end_date=date_range['val_start_date'],\n",
        "    if_train=True,\n",
        ")\n",
        "val_np_env_config = get_env_config(\n",
        "    start_date=date_range['val_start_date'],\n",
        "    end_date=date_range['test_start_date'],\n",
        "    if_train=False\n",
        ")\n",
        "test_np_env_config = get_env_config(\n",
        "    start_date=date_range['test_start_date'],\n",
        "    end_date=date_range['test_end_date'],\n",
        "    if_train=False,\n",
        ")"
      ]
    },
    {
      "cell_type": "code",
      "execution_count": 26,
      "metadata": {
        "cellView": "form",
        "id": "Mp0H06urpp53"
      },
      "outputs": [],
      "source": [
        "#@title Init StockTradingEnv (numpy)\n",
        "\n",
        "from finrl.meta.env_stock_trading.env_stocktrading_np import StockTradingEnv\n",
        "from finrl.meta.data_processor import DataProcessor\n",
        "from finrl.config_tickers import DOW_30_TICKER\n",
        "from finrl.config import INDICATORS\n",
        "# from finrl.config import CACHE_DIR\n",
        "\n",
        "def init_env(\n",
        "    np_env_config,\n",
        "\n",
        "    # run_config,\n",
        "    initial_amount,\n",
        "    cost_pct,\n",
        "\n",
        "    mode,\n",
        "    turbulence_threshold=99,\n",
        "):\n",
        "    assert mode in ['train', 'val', 'test']\n",
        "\n",
        "    print('Initializing env...', end=' ')\n",
        "    env = StockTradingEnv(\n",
        "        config=np_env_config,\n",
        "        initial_capital=initial_amount,\n",
        "        buy_cost_pct=cost_pct,\n",
        "        sell_cost_pct=cost_pct,\n",
        "        turbulence_thresh=turbulence_threshold\n",
        "    )\n",
        "    print('Done.')\n",
        "\n",
        "    return env\n",
        "\n",
        "def create_stock_trading_env(env_config):\n",
        "    return init_env(**env_config)\n",
        "\n",
        "# env = init_env(\n",
        "#     train_np_env_config,\n",
        "#     run_config,\n",
        "#     'train'\n",
        "# )"
      ]
    },
    {
      "cell_type": "code",
      "execution_count": 27,
      "metadata": {
        "cellView": "form",
        "id": "tDokmsQFoSPV"
      },
      "outputs": [],
      "source": [
        "#@title define metrics\n",
        "\n",
        "def calculate_mdd(asset_values):\n",
        "    \"\"\"\n",
        "    Calculate the Maximum Drawdown (MDD) of a portfolio.\n",
        "    \"\"\"\n",
        "    running_max = asset_values.cummax()\n",
        "    drawdown = (asset_values - running_max) / running_max\n",
        "    mdd = drawdown.min() * 100  # Convert to percentage\n",
        "    return mdd\n",
        "\n",
        "def calculate_sharpe_ratio(asset_values, risk_free_rate=0.0):\n",
        "    \"\"\"\n",
        "    Calculate the Sharpe Ratio of a portfolio.\n",
        "    \"\"\"\n",
        "    # Calculate daily returns\n",
        "    returns = asset_values.pct_change().dropna()\n",
        "    excess_returns = returns - risk_free_rate / 252  # Assuming 252 trading days\n",
        "\n",
        "    if excess_returns.std() == 0:\n",
        "        return 0.0\n",
        "    sharpe_ratio = excess_returns.mean() / excess_returns.std() * np.sqrt(252)  # Annualized\n",
        "    return sharpe_ratio\n",
        "\n",
        "def calculate_annualized_return(asset_values):\n",
        "    \"\"\"\n",
        "    Calculate the annualized return of a portfolio.\n",
        "    \"\"\"\n",
        "    # Assume `asset_values` is indexed by date or trading day\n",
        "    total_return = (asset_values.iloc[-1] / asset_values.iloc[0] - 1) * 100\n",
        "    num_days = (asset_values.index[-1] - asset_values.index[0]).days\n",
        "    annualized_return = (1 + total_return) ** (365 / num_days) - 1\n",
        "    return annualized_return"
      ]
    },
    {
      "cell_type": "code",
      "execution_count": 28,
      "metadata": {
        "cellView": "form",
        "id": "wnUToRzBoSPW"
      },
      "outputs": [],
      "source": [
        "#@title compute metrics\n",
        "import wandb\n",
        "from typing import List, Union\n",
        "import numpy as np\n",
        "\n",
        "\n",
        "def compute_metrics(account_values: List[Union[pd.DataFrame, pd.Series, np.array]]):\n",
        "    \"\"\"\n",
        "    If DataFrame then should contain two columns - 'date' and name of algo, e.g. 'a2c'.\n",
        "    \"\"\"\n",
        "\n",
        "    if isinstance(account_values, pd.DataFrame):\n",
        "        assert isinstance(account_values, pd.DataFrame)\n",
        "        if 'date' not in account_values.columns:\n",
        "            if account_values.index.name == 'date':\n",
        "                account_values.reset_index(inplace=True)\n",
        "            else:\n",
        "                raise ValueError(\"should contain 'date' column or index\")\n",
        "        account_values = account_values.dropna().set_index('date').iloc[:, 0]\n",
        "    elif isinstance(account_values, (np.ndarray, list)):\n",
        "        account_values = pd.Series(account_values)\n",
        "\n",
        "    sharpe = calculate_sharpe_ratio(account_values)\n",
        "    mdd = calculate_mdd(account_values)\n",
        "    cum_ret = (account_values.iloc[-1] - account_values.iloc[0]) / account_values.iloc[0] * 100\n",
        "    # num_days = (account_values.index.max() - account_values.index.min()).days\n",
        "    num_days = len(account_values)\n",
        "    ann_ret = ((1 + cum_ret / 100) ** (365 / num_days) - 1) * 100\n",
        "\n",
        "    return {\n",
        "            f'sharpe_ratio': sharpe,\n",
        "            f'mdd': mdd,\n",
        "            f'ann_return': ann_ret,\n",
        "            f'cum_return': cum_ret,\n",
        "        }\n",
        "\n",
        "def get_env_metrics(env):\n",
        "    end_total_asset = env.state[0] + sum(\n",
        "        np.array(env.state[1 : (env.stock_dim + 1)])\n",
        "        * np.array(env.state[(env.stock_dim + 1) : (env.stock_dim * 2 + 1)])\n",
        "    )\n",
        "\n",
        "    return {\n",
        "        'begin_total_asset': env.asset_memory[0],\n",
        "        'end_total_asset': end_total_asset,\n",
        "        'total_cost': env.cost,\n",
        "        'total_trades': env.trades,\n",
        "    }"
      ]
    },
    {
      "cell_type": "code",
      "execution_count": 29,
      "metadata": {
        "cellView": "form",
        "id": "o4LTYifqoSPW"
      },
      "outputs": [],
      "source": [
        "#@title log_metrics_to_wandb\n",
        "\n",
        "def log_metrics_to_wandb(metrics, model_name, split_label, step=None):\n",
        "    print(f'log_metrics for {model_name}')\n",
        "    assert model_name in ['a2c', 'ddpg', 'sac', 'ppo', 'td3', 'best_model', 'chosen_model']\n",
        "\n",
        "    rename_metrics = lambda model_name: {\n",
        "        f\"{key}/{model_name}\": value for key, value in metrics.items()\n",
        "    }\n",
        "\n",
        "    renamed_metrics = rename_metrics(model_name)\n",
        "    wandb.log({split_label: renamed_metrics}, step=step)\n",
        "    # wandb.run.save()"
      ]
    },
    {
      "cell_type": "code",
      "execution_count": 30,
      "metadata": {
        "cellView": "form",
        "id": "V0iyYcwTOZYP"
      },
      "outputs": [],
      "source": [
        "#@title benchmark_exec_time\n",
        "import pandas as pd\n",
        "from time import perf_counter\n",
        "from functools import wraps\n",
        "\n",
        "def benchmark_exec_time(func):\n",
        "    @wraps(func)\n",
        "    def wrapper(*args, **kwargs):\n",
        "\n",
        "        start = perf_counter()\n",
        "        output = func(*args, **kwargs)\n",
        "        end = perf_counter()\n",
        "\n",
        "        exec_time_sec = end - start\n",
        "\n",
        "        data = {\n",
        "            \"func_name\": func.__name__,\n",
        "            \"exec_time_sec\": exec_time_sec,\n",
        "        }\n",
        "        print(f'\\nBenchmark results: {data}')\n",
        "        return output, exec_time_sec\n",
        "\n",
        "    return wrapper"
      ]
    },
    {
      "cell_type": "code",
      "execution_count": 31,
      "metadata": {
        "cellView": "form",
        "id": "8vGPfB4zfknB"
      },
      "outputs": [],
      "source": [
        "#@title (SB3) MetricLoggerCallback (np env)\n",
        "from stable_baselines3.common.callbacks import BaseCallback\n",
        "from stable_baselines3.common.monitor import Monitor\n",
        "\n",
        "import pandas as pd\n",
        "import numpy as np\n",
        "\n",
        "class MetricLoggerCallback(BaseCallback):\n",
        "    def __init__(self, model_name, split_label, verbose=0, log_to_wandb=False):\n",
        "        super(MetricLoggerCallback, self).__init__(verbose)\n",
        "\n",
        "        self.split_label = split_label\n",
        "        self.model_name = model_name\n",
        "        self.log_to_wandb = log_to_wandb\n",
        "\n",
        "    def _on_step(self) -> bool:\n",
        "        if self.training_env is not None:\n",
        "            env = self.training_env.envs[0]\n",
        "        elif self.eval_env is not None:\n",
        "            env = self.eval_env.envs[0]\n",
        "\n",
        "        # Unwrap from Monitor if needed\n",
        "        while isinstance(env, Monitor):\n",
        "            env = env.env\n",
        "\n",
        "        # Check if the episode is terminal\n",
        "        env_terminal = env.day >= env.price_ary.shape[0] - 2\n",
        "        if env_terminal:\n",
        "            df_account_value = env.save_asset_memory()\n",
        "            metrics = compute_metrics(df_account_value)\n",
        "\n",
        "            # Log current model metrics\n",
        "            if self.log_to_wandb:\n",
        "                log_metrics_to_wandb(metrics, self.model_name, self.split_label)\n",
        "\n",
        "        return True"
      ]
    },
    {
      "cell_type": "code",
      "execution_count": 32,
      "metadata": {
        "cellView": "form",
        "id": "VXZl0AD29I-w"
      },
      "outputs": [],
      "source": [
        "#@title EvalMetricLoggerCallback (using evaluate_policy)\n",
        "\n",
        "from stable_baselines3.common.callbacks import EvalCallback, BaseCallback\n",
        "from stable_baselines3.common.evaluation import evaluate_policy\n",
        "import numpy as np\n",
        "\n",
        "def metric_logger_callback(locals_, globals_):\n",
        "    \"\"\"\n",
        "    Function-based callback for evaluate_policy() that logs metrics once\n",
        "    an episode finishes. Supports both single and multi-environment setups.\n",
        "\n",
        "    :param locals_: dict of local variables in evaluate_policy (contains 'env', 'done', etc.)\n",
        "    :param globals_: dict of global variables in evaluate_policy\n",
        "    :return: (bool) If the evaluation loop should continue (always True here)\n",
        "    \"\"\"\n",
        "    env = locals_[\"env\"]         # Vectorized or single environment\n",
        "    n_envs = locals_[\"n_envs\"]   # Number of parallel environments\n",
        "    done = locals_[\"done\"]       # Bool or array of bool if n_envs > 1\n",
        "\n",
        "    # For single environment, done is just a bool\n",
        "    # For multiple environments, done is an array of bool of length n_envs\n",
        "    if n_envs == 1:\n",
        "        # Unwrap any DummyVecEnv or Monitor wrappers\n",
        "        base_env = env\n",
        "\n",
        "        # Unwrap DummyVecEnv\n",
        "        while hasattr(base_env, \"envs\"):\n",
        "            base_env = base_env.envs[0]\n",
        "\n",
        "        # print(f\"Done env day: {base_env.day}\")\n",
        "        done = base_env.day >= base_env.price_ary.shape[0] - 2\n",
        "        if done:\n",
        "            # print(f\"Env finished on day: {base_env.day}\")\n",
        "\n",
        "            # Now we have the real environment\n",
        "            df_account_value = base_env.save_asset_memory()\n",
        "            metrics = compute_metrics(df_account_value)\n",
        "            print(\"[metric_logger_callback] Single-env metrics:\", metrics)\n",
        "    else:\n",
        "        # Multi-env case\n",
        "        # We may accumulate metrics for each env that just finished\n",
        "        # and optionally average them after all are done\n",
        "        finished_env_indices = np.where(done)[0]  # Indices of envs that are done\n",
        "        if len(finished_env_indices) > 0:\n",
        "            metrics_list = []\n",
        "            for i in finished_env_indices:\n",
        "                df_account_value = env.get_attr(\"save_asset_memory\", indices=i)[0]\n",
        "                metrics_i = compute_metrics(df_account_value)\n",
        "                metrics_list.append(metrics_i)\n",
        "                print(f\"[metric_logger_callback] Env #{i} metrics: {metrics_i}\")\n",
        "\n",
        "            # Optionally average metrics across finished envs\n",
        "            if len(metrics_list) > 1:\n",
        "                # Ensure all metrics have the same keys\n",
        "                avg_metrics = {}\n",
        "                for key in metrics_list[0].keys():\n",
        "                    avg_metrics[key] = np.mean([m[key] for m in metrics_list])\n",
        "                print(\"[metric_logger_callback] Average metrics of finished envs:\", avg_metrics)\n",
        "\n",
        "    return True  # Return True to continue evaluation\n",
        "\n",
        "class EvalMetricLoggerCallback(EvalCallback):\n",
        "    def __init__(self, eval_env, model_name, split_label, log_to_wandb=False, **kwargs):\n",
        "        \"\"\"\n",
        "        Custom EvalCallback that logs evaluation metrics using `evaluate_policy()`.\n",
        "        \"\"\"\n",
        "        super().__init__(eval_env, **kwargs)\n",
        "        self.split_label = split_label\n",
        "        self.model_name = model_name\n",
        "        self.log_to_wandb = log_to_wandb\n",
        "        self.metric_logger = MetricLoggerCallback(model_name, split_label, log_to_wandb)\n",
        "\n",
        "    def _on_step(self) -> bool:\n",
        "        \"\"\"\n",
        "        Runs `evaluate_policy()` with `MetricLoggerCallback` and logs results after evaluation.\n",
        "        \"\"\"\n",
        "        if self.eval_freq > 0 and self.n_calls % self.eval_freq == 0:\n",
        "            # Evaluate using `evaluate_policy()`, passing `MetricLoggerCallback`\n",
        "            evaluate_policy(\n",
        "                self.model,\n",
        "                self.eval_env,\n",
        "                n_eval_episodes=self.n_eval_episodes,\n",
        "                deterministic=self.deterministic,\n",
        "                render=self.render,\n",
        "                warn=self.warn,\n",
        "                # callback=self.metric_logger._on_step  # 🔹 Logs metrics after evaluation\n",
        "                callback=metric_logger_callback\n",
        "            )\n",
        "\n",
        "        return super()._on_step()  # Run default EvalCallback logic"
      ]
    },
    {
      "cell_type": "code",
      "execution_count": 33,
      "metadata": {
        "id": "qB9YkdtyC9ee"
      },
      "outputs": [],
      "source": [
        "import torch\n",
        "from stable_baselines3.common.callbacks import EvalCallback\n",
        "\n",
        "model_name = 'ppo'\n",
        "log_to_wandb = False\n",
        "\n",
        "train_env_config = {\n",
        "    \"initial_amount\": run_config['initial_amount'],\n",
        "    \"cost_pct\": run_config['cost_pct'],\n",
        "    \"mode\": 'train',\n",
        "    'np_env_config': train_np_env_config\n",
        "}\n",
        "\n",
        "val_env_config = {\n",
        "    \"initial_amount\": run_config['initial_amount'],\n",
        "    \"cost_pct\": run_config['cost_pct'],\n",
        "    \"mode\": 'val',\n",
        "    'np_env_config': val_np_env_config\n",
        "}\n",
        "\n",
        "PPO_PARAMS = {\n",
        "    \"n_steps\": 2048, # rllib batch_size\n",
        "    \"n_epochs\": 10,\n",
        "    \"batch_size\": 128, # rllib minibatch_size\n",
        "\n",
        "    \"ent_coef\": 0.01,\n",
        "    \"learning_rate\": 0.00025,\n",
        "    \"device\": \"cuda\" if torch.cuda.is_available() else 'cpu'\n",
        "}"
      ]
    },
    {
      "cell_type": "code",
      "execution_count": 34,
      "metadata": {
        "cellView": "form",
        "id": "IcyL3GxIPS09"
      },
      "outputs": [],
      "source": [
        "#@title Train SB3 model\n",
        "\n",
        "@benchmark_exec_time\n",
        "def _train_sb3(total_timesteps=200_000, custom_callbacks=[], log_to_wandb=False):\n",
        "    trained_model = agent.train_model(\n",
        "        model=algo,\n",
        "        tb_log_name='ppo',\n",
        "        total_timesteps=total_timesteps,\n",
        "        custom_callbacks=custom_callbacks,\n",
        "        log_to_wandb=log_to_wandb\n",
        "    )\n",
        "\n",
        "# if log_to_wandb:\n",
        "#     wandb.finish()\n",
        "#     wandb.init(ENTITY, PROJECT)\n",
        "\n",
        "# train_env = init_env(**train_env_config)\n",
        "# val_env = init_env(**val_env_config)\n",
        "\n",
        "# eval_callback = EvalMetricLoggerCallback(\n",
        "#     eval_env=val_env,\n",
        "#     model_name=\"ppo\",\n",
        "#     split_label=\"val\",\n",
        "#     log_to_wandb=log_to_wandb,\n",
        "#     eval_freq=250,  # Evaluate every 1k steps\n",
        "#     deterministic=True,\n",
        "#     render=False\n",
        "# )\n",
        "\n",
        "# # eval_callback = EvalCallback(\n",
        "# #     eval_env=val_env,\n",
        "# #     callback_after_eval=MetricLoggerCallback(\n",
        "# #         model_name=\"ppo\",\n",
        "# #         split_label=\"val\",\n",
        "# #         log_to_wandb=log_to_wandb,\n",
        "# #     ),\n",
        "# #     eval_freq=1000,  # Evaluate every 1k steps\n",
        "# #     deterministic=True,\n",
        "# #     render=False\n",
        "# # )\n",
        "\n",
        "# agent = DRLAgent(env = train_env)\n",
        "# algo = agent.get_model(\"ppo\", model_kwargs = PPO_PARAMS)\n",
        "# new_logger_ppo = configure(RESULTS_DIR + '/ppo', [\"stdout\", \"csv\", \"tensorboard\"])\n",
        "# algo.set_logger(new_logger_ppo)\n",
        "\n",
        "# _train_sb3(\n",
        "#     500,\n",
        "#     custom_callbacks=[eval_callback],\n",
        "#     log_to_wandb=log_to_wandb\n",
        "# )"
      ]
    },
    {
      "cell_type": "code",
      "execution_count": 35,
      "metadata": {
        "cellView": "form",
        "id": "157sj4ZujzzP"
      },
      "outputs": [],
      "source": [
        "#@title evaluate_model (sb3)\n",
        "\n",
        "def evaluate_model(algo, model_name, mode, np_env_config, run_config, turbulence_thresh=None,\n",
        "                   log_to_wandb=False):\n",
        "\n",
        "    if turbulence_thresh is None:\n",
        "        turbulence_thresh = run_config.get('turbulence_thresh', 99)\n",
        "\n",
        "    turbulence_name = 'turbulence' if not run_config.get('if_vix', None) else '^VIX'\n",
        "    print(f\"Evaluating for `{mode}` using `{turbulence_name}`: {turbulence_thresh}\")\n",
        "\n",
        "    env_config = {\n",
        "        # \"df\": val,\n",
        "        \"np_env_config\": np_env_config,\n",
        "        # \"run_config\": run_config,\n",
        "\n",
        "        \"initial_amount\": run_config['initial_amount'],\n",
        "        \"cost_pct\": run_config['cost_pct'],\n",
        "\n",
        "        \"mode\": mode,\n",
        "        'turbulence_threshold': turbulence_thresh\n",
        "    }\n",
        "\n",
        "    eval_env = create_stock_trading_env(env_config)\n",
        "\n",
        "    # Reset the environment\n",
        "    state, info = eval_env.reset()\n",
        "    done = False\n",
        "\n",
        "    while not done:\n",
        "        # Predict action using the trained SB3 model\n",
        "        action, _ = algo.predict(state, deterministic=True)\n",
        "\n",
        "        # Clip action to ensure it's within valid bounds\n",
        "        action = np.clip(action, eval_env.action_space.low, eval_env.action_space.high)\n",
        "\n",
        "        # Perform the action in the environment\n",
        "        state, reward, terminated, truncated, _ = eval_env.step(action)\n",
        "        done = terminated or truncated\n",
        "\n",
        "    df_account_value = eval_env.save_asset_memory()\n",
        "    metrics = compute_metrics(df_account_value)\n",
        "    print(metrics)\n",
        "\n",
        "    if log_to_wandb:\n",
        "        turbulence_log_name = 'ti' if not run_config.get('if_vix', None) else 'vix'\n",
        "        for metric_name, metric_value in metrics.items():\n",
        "            metric_name = f\"{mode}.{turbulence_log_name}_{turbulence_thresh}.{metric_name}/{model_name}\"\n",
        "            wandb.run.summary[metric_name] = metric_value\n",
        "\n",
        "    turbulence_series = pd.Series(\n",
        "        np_env_config['turbulence_array'][:len(df_account_value)],\n",
        "        index=df_account_value['date'],\n",
        "        name=turbulence_name\n",
        "    )\n",
        "\n",
        "    eval_result = {\n",
        "        'account_value': df_account_value.rename(columns={'account_value': model_name}),\n",
        "        'turbulence_series': turbulence_series,\n",
        "        'turbulence_thresh': turbulence_thresh\n",
        "    }\n",
        "\n",
        "    return eval_result"
      ]
    },
    {
      "cell_type": "code",
      "execution_count": 36,
      "metadata": {
        "id": "dajVnui9qgzg"
      },
      "outputs": [],
      "source": [
        "# train_result = evaluate_model(\n",
        "#     algo,\n",
        "#     model_name,\n",
        "#     run_config=run_config,\n",
        "#     np_env_config = train_np_env_config,\n",
        "#     mode='train',\n",
        "#     log_to_wandb=log_to_wandb\n",
        "# )\n",
        "\n",
        "# val_result = evaluate_model(\n",
        "#     algo,\n",
        "#     model_name,\n",
        "#     run_config=run_config,\n",
        "#     np_env_config = val_np_env_config,\n",
        "#     mode='val',\n",
        "#     log_to_wandb=log_to_wandb\n",
        "# )\n",
        "\n",
        "# test_result = evaluate_model(\n",
        "#     algo,\n",
        "#     model_name,\n",
        "#     run_config=run_config,\n",
        "#     np_env_config = test_np_env_config,\n",
        "#     mode='test',\n",
        "#     log_to_wandb=log_to_wandb\n",
        "# )"
      ]
    },
    {
      "cell_type": "code",
      "execution_count": 37,
      "metadata": {
        "collapsed": true,
        "id": "kFOoTEL-ZAiy"
      },
      "outputs": [],
      "source": [
        "# %timeit -n 1 -r 2 _train_sb3(int(50_000 / env_config['n_envs']))"
      ]
    },
    {
      "cell_type": "code",
      "execution_count": 38,
      "metadata": {
        "cellView": "form",
        "id": "bEKCwsuzPj51"
      },
      "outputs": [],
      "source": [
        "#@title MetricsLoggerCallback (class)\n",
        "from ray.rllib.algorithms.callbacks import DefaultCallbacks\n",
        "from typing import Optional, Sequence\n",
        "import gymnasium as gym\n",
        "from gymnasium.vector import AsyncVectorEnv\n",
        "\n",
        "class MetricsLoggerCallback(DefaultCallbacks):\n",
        "    def __init__(self, model_name, ema_coeff=0.2, ma_window=20, log_to_wandb=False):\n",
        "        super().__init__()\n",
        "\n",
        "        self.model_name = model_name\n",
        "        self.ema_coeff = ema_coeff\n",
        "        self.ma_window = ma_window\n",
        "        self.metric_names = set()\n",
        "        self.log_to_wandb = log_to_wandb\n",
        "\n",
        "    def unwrap_env(self, env):\n",
        "        env = env.unwrapped\n",
        "        # print(type(env))\n",
        "        # (SingleAgentEnvRunner pid=127688) <class 'gymnasium.vector.sync_vector_env.SyncVectorEnv'>\n",
        "\n",
        "        if isinstance(env, AsyncVectorEnv):\n",
        "            return env\n",
        "        else:\n",
        "            env = env.envs[0]\n",
        "            # print(type(env))\n",
        "            # (SingleAgentEnvRunner pid=127688) <class 'gymnasium.wrappers.common.OrderEnforcing'>\n",
        "\n",
        "            env = env.env\n",
        "            # print(type(env))\n",
        "            # (SingleAgentEnvRunner pid=127688) <class 'gymnasium.wrappers.common.PassiveEnvChecker'>\n",
        "\n",
        "            env = env.env\n",
        "            # print(type(env))\n",
        "            # (SingleAgentEnvRunner pid=127688) <class 'finrl.meta.env_stock_trading.env_stocktrading.StockTradingEnv'>\n",
        "        return env\n",
        "\n",
        "    def on_episode_step(\n",
        "            self,\n",
        "            *,\n",
        "            episode,\n",
        "            env_runner,\n",
        "            metrics_logger,\n",
        "            env,\n",
        "            env_index,\n",
        "            rl_module,\n",
        "            **kwargs,\n",
        "        ) -> None:\n",
        "\n",
        "        env = self.unwrap_env(env)\n",
        "\n",
        "        if isinstance(env, AsyncVectorEnv):\n",
        "            asset_values = env.get_attr('asset_memory')\n",
        "            asset_values = pd.concat([pd.Series(av) for av in asset_values], axis=1).mean(axis=1)\n",
        "\n",
        "            # TODO: save_asset_memory\n",
        "            raise NotImplementedError\n",
        "        else:\n",
        "            # asset_values = env.asset_memory\n",
        "            asset_values = env.save_asset_memory()\n",
        "\n",
        "        # print(f\"Env {env_index} day: {env.day}\")\n",
        "        metrics = compute_metrics(asset_values)\n",
        "\n",
        "        # mode = env.mode\n",
        "        for metric_name, metric_value in metrics.items():\n",
        "            # metric_name = f\"{mode}/{metric_name}\" if mode != \"\" else metric_name\n",
        "            episode.add_temporary_timestep_data(metric_name, metric_value)\n",
        "            self.metric_names.update([metric_name])\n",
        "\n",
        "    def on_episode_end(\n",
        "            self,\n",
        "            *,\n",
        "            episode,\n",
        "            env_runner,\n",
        "            metrics_logger,\n",
        "            env,\n",
        "            env_index,\n",
        "            rl_module,\n",
        "            **kwargs,\n",
        "        ) -> None:\n",
        "\n",
        "        for metric_name in self.metric_names:\n",
        "            metric_values = episode.get_temporary_timestep_data(metric_name)\n",
        "            metric_value = np.nanmean(np.array(metric_values))\n",
        "\n",
        "            metrics_logger.log_value(\n",
        "                metric_name,\n",
        "                metric_value,\n",
        "                reduce='mean',\n",
        "            )\n",
        "\n",
        "            metrics_logger.log_value(\n",
        "                f\"{metric_name}_EMA_{self.ema_coeff}\",\n",
        "                metric_value,\n",
        "                reduce='mean',\n",
        "                ema_coeff=self.ema_coeff\n",
        "            )\n",
        "\n",
        "            metrics_logger.log_value(\n",
        "                f\"{metric_name}_MA_{self.ma_window}\",\n",
        "                metric_value,\n",
        "                reduce='mean',\n",
        "                window=self.ma_window\n",
        "            )\n",
        "\n",
        "            # mode = 'val' if env_runner.config.in_evaluation else 'train'\n",
        "            # if mode == 'val':\n",
        "            #     print({\n",
        "            #         f\"{mode}.{metric_name}/{self.model_name}\": metric_value,\n",
        "            #     }) # TODO: log on every episode step\n",
        "\n",
        "            if self.log_to_wandb:\n",
        "                mode = 'val' if env_runner.config.in_evaluation else 'train'\n",
        "                wandb.log({\n",
        "                    f\"{mode}.{metric_name}/{self.model_name}\": metric_value,\n",
        "                }) # TODO: log on every episode step"
      ]
    },
    {
      "cell_type": "code",
      "execution_count": 39,
      "metadata": {
        "cellView": "form",
        "id": "Gg8DIuPJ9FwH"
      },
      "outputs": [],
      "source": [
        "#@title print_result\n",
        "\n",
        "RESULT_KEYS_TO_INCLUDE = [\n",
        "    'sharpe_ratio',\n",
        "    'ann_return',\n",
        "    'mdd',\n",
        "\n",
        "    # 'sharpe_ratio_MA',\n",
        "    # 'ann_return_MA',\n",
        "    # 'mdd_MA',\n",
        "\n",
        "    # 'sharpe_ratio_EMA',\n",
        "    # 'ann_return_EMA',\n",
        "    # 'mdd_EMA',\n",
        "]\n",
        "\n",
        "def print_result(result):\n",
        "    print()\n",
        "    print('-' * 40)\n",
        "\n",
        "    keys_to_print = [\n",
        "        key\n",
        "        for include_key in RESULT_KEYS_TO_INCLUDE\n",
        "        for key in result['env_runners'].keys()\n",
        "        if key.startswith(include_key)\n",
        "    ]\n",
        "\n",
        "    for key in sorted(keys_to_print):\n",
        "        print(f\"train/{key}: {round(result['env_runners'][key], 2)}\")\n",
        "\n",
        "    print('*' * 40)\n",
        "    keys_to_print = [\n",
        "        key\n",
        "        for include_key in RESULT_KEYS_TO_INCLUDE\n",
        "        for key in result['evaluation']['env_runners'].keys()\n",
        "        if key.startswith(include_key)\n",
        "    ]\n",
        "\n",
        "    for key in sorted(keys_to_print):\n",
        "        print(f\"val/{key}: {round(result['env_runners'][key], 2)}\")\n",
        "\n",
        "    print('-' * 40)\n",
        "    print()"
      ]
    },
    {
      "cell_type": "code",
      "execution_count": 40,
      "metadata": {
        "id": "dHEf7Q17vQ3Y"
      },
      "outputs": [],
      "source": [
        "# train, val, test using DRL_prediction()\n",
        "# test using DRL_prediction()"
      ]
    },
    {
      "cell_type": "code",
      "execution_count": 96,
      "metadata": {
        "id": "8gE-bdroXtSd"
      },
      "outputs": [],
      "source": [
        "model_name = 'ppo'\n",
        "num_envs_per_env_runner = 1\n",
        "num_env_runners = 0\n",
        "log_to_wandb = True"
      ]
    },
    {
      "cell_type": "code",
      "execution_count": 97,
      "metadata": {
        "cellView": "form",
        "colab": {
          "base_uri": "https://localhost:8080/",
          "height": 280
        },
        "id": "CDJpaWdhVCsP",
        "outputId": "a6cdd262-4c35-49a7-e93a-fdbc5e38931d"
      },
      "outputs": [
        {
          "output_type": "display_data",
          "data": {
            "text/plain": [
              "<IPython.core.display.HTML object>"
            ],
            "text/html": [
              "Tracking run with wandb version 0.19.6"
            ]
          },
          "metadata": {}
        },
        {
          "output_type": "display_data",
          "data": {
            "text/plain": [
              "<IPython.core.display.HTML object>"
            ],
            "text/html": [
              "Run data is saved locally in <code>/content/wandb/run-20250213_070719-iqqgwfev</code>"
            ]
          },
          "metadata": {}
        },
        {
          "output_type": "display_data",
          "data": {
            "text/plain": [
              "<IPython.core.display.HTML object>"
            ],
            "text/html": [
              "Syncing run <strong><a href='https://wandb.ai/overfit1010/finrl-dt-replicate/runs/iqqgwfev' target=\"_blank\">bumbling-smoke-813</a></strong> to <a href='https://wandb.ai/overfit1010/finrl-dt-replicate' target=\"_blank\">Weights & Biases</a> (<a href='https://wandb.me/developer-guide' target=\"_blank\">docs</a>)<br>"
            ]
          },
          "metadata": {}
        },
        {
          "output_type": "display_data",
          "data": {
            "text/plain": [
              "<IPython.core.display.HTML object>"
            ],
            "text/html": [
              " View project at <a href='https://wandb.ai/overfit1010/finrl-dt-replicate' target=\"_blank\">https://wandb.ai/overfit1010/finrl-dt-replicate</a>"
            ]
          },
          "metadata": {}
        },
        {
          "output_type": "display_data",
          "data": {
            "text/plain": [
              "<IPython.core.display.HTML object>"
            ],
            "text/html": [
              " View run at <a href='https://wandb.ai/overfit1010/finrl-dt-replicate/runs/iqqgwfev' target=\"_blank\">https://wandb.ai/overfit1010/finrl-dt-replicate/runs/iqqgwfev</a>"
            ]
          },
          "metadata": {}
        },
        {
          "output_type": "stream",
          "name": "stderr",
          "text": [
            "2025-02-13 07:07:24,619\tWARNING algorithm_config.py:4726 -- You are running PPO on the new API stack! This is the new default behavior for this algorithm. If you don't want to use the new API stack, set `config.api_stack(enable_rl_module_and_learner=False,enable_env_runner_and_connector_v2=False)`. For a detailed migration guide, see here: https://docs.ray.io/en/master/rllib/new-api-stack-migration-guide.html\n",
            "/usr/local/lib/python3.11/dist-packages/gymnasium/envs/registration.py:642: UserWarning: \u001b[33mWARN: Overriding environment rllib-single-agent-env-v0 already in registry.\u001b[0m\n",
            "  logger.warn(f\"Overriding environment {new_spec.id} already in registry.\")\n"
          ]
        },
        {
          "output_type": "stream",
          "name": "stdout",
          "text": [
            "Initializing env... Done.\n"
          ]
        },
        {
          "output_type": "stream",
          "name": "stderr",
          "text": [
            "2025-02-13 07:07:25,743\tWARNING algorithm_config.py:4726 -- You are running PPO on the new API stack! This is the new default behavior for this algorithm. If you don't want to use the new API stack, set `config.api_stack(enable_rl_module_and_learner=False,enable_env_runner_and_connector_v2=False)`. For a detailed migration guide, see here: https://docs.ray.io/en/master/rllib/new-api-stack-migration-guide.html\n",
            "/usr/local/lib/python3.11/dist-packages/gymnasium/envs/registration.py:642: UserWarning: \u001b[33mWARN: Overriding environment rllib-single-agent-env-v0 already in registry.\u001b[0m\n",
            "  logger.warn(f\"Overriding environment {new_spec.id} already in registry.\")\n"
          ]
        },
        {
          "output_type": "stream",
          "name": "stdout",
          "text": [
            "Initializing env... Done.\n"
          ]
        },
        {
          "output_type": "stream",
          "name": "stderr",
          "text": [
            "2025-02-13 07:07:27,337\tWARNING rl_module.py:419 -- Could not create a Catalog object for your RLModule! If you are not using the new API stack yet, make sure to switch it off in your config: `config.api_stack(enable_rl_module_and_learner=False, enable_env_runner_and_connector_v2=False)`. All algos use the new stack by default. Ignore this message, if your RLModule does not use a Catalog to build its sub-components.\n"
          ]
        }
      ],
      "source": [
        "#@title Train RLlib model\n",
        "\n",
        "from functools import partial\n",
        "from pathlib import Path\n",
        "from ray.rllib.algorithms.ppo import PPOConfig\n",
        "import torch\n",
        "from ray.tune.registry import register_env\n",
        "from time import perf_counter\n",
        "from ray.rllib.algorithms.algorithm_config import AlgorithmConfig\n",
        "\n",
        "run_timer_start = perf_counter()\n",
        "\n",
        "def create_stock_trading_env(env_config):\n",
        "    return init_env(**env_config)\n",
        "\n",
        "register_env(\"stock_trading_env\", create_stock_trading_env)\n",
        "\n",
        "AVAILABLE_MODELS = ['ppo']\n",
        "assert model_name in AVAILABLE_MODELS\n",
        "\n",
        "if log_to_wandb:\n",
        "    wandb.finish()\n",
        "    wandb.init(ENTITY, PROJECT)\n",
        "\n",
        "config = (\n",
        "    PPOConfig()\n",
        "    .environment(\n",
        "        env=\"stock_trading_env\",\n",
        "        env_config={\n",
        "            # \"df\": train,\n",
        "            \"np_env_config\": train_np_env_config,\n",
        "\n",
        "            # \"run_config\": run_config,\n",
        "            \"initial_amount\": run_config['initial_amount'],\n",
        "            \"cost_pct\": run_config['cost_pct'],\n",
        "\n",
        "            \"mode\": 'train'\n",
        "        },\n",
        "    )\n",
        "    .env_runners(\n",
        "        batch_mode=\"complete_episodes\",\n",
        "        num_envs_per_env_runner=num_envs_per_env_runner,\n",
        "        num_env_runners=num_env_runners,\n",
        "        num_cpus_per_env_runner= (2/num_env_runners) if num_env_runners > 2 else None,\n",
        "\n",
        "        # gym_env_vectorize_mode=gym.envs.registration.VectorizeMode.ASYNC,\n",
        "    )\n",
        "    .training(\n",
        "        train_batch_size=2048,\n",
        "        num_epochs=10,\n",
        "        minibatch_size=128,\n",
        "    )\n",
        "    # .experimental(\n",
        "    #     _validate_config=False\n",
        "    # )\n",
        "    .evaluation(\n",
        "        # Set up the validation environment\n",
        "        evaluation_interval=1,  # Specify evaluation frequency (1=after each training step)\n",
        "        # evaluation_parallel_to_training=True,\n",
        "        # evaluation_duration=2,\n",
        "\n",
        "        # evaluation_config=AlgorithmConfig.overrides(**{\n",
        "        #     \"explore\": False,\n",
        "        #     \"env\": \"stock_trading_env\",\n",
        "        #     \"env_config\": {\n",
        "        #         # \"df\": val,\n",
        "        #         \"np_env_config\": val_np_env_config,\n",
        "\n",
        "        #         # \"run_config\": run_config,\n",
        "        #         \"initial_amount\": run_config['initial_amount'],\n",
        "        #         \"cost_pct\": run_config['cost_pct'],\n",
        "\n",
        "        #         \"mode\": 'val'\n",
        "        #     },\n",
        "        # }),\n",
        "\n",
        "        evaluation_config={\n",
        "            \"explore\": False,\n",
        "            \"env\": \"stock_trading_env\",\n",
        "            \"env_config\": {\n",
        "                # \"df\": val,\n",
        "                \"np_env_config\": val_np_env_config,\n",
        "\n",
        "                # \"run_config\": run_config,\n",
        "                \"initial_amount\": run_config['initial_amount'],\n",
        "                \"cost_pct\": run_config['cost_pct'],\n",
        "\n",
        "                \"mode\": 'val'\n",
        "            },\n",
        "        },\n",
        "    )\n",
        "    # .callbacks(MetricsLoggerCallback)\n",
        "    .callbacks(partial(MetricsLoggerCallback, model_name='ppo', log_to_wandb=log_to_wandb))\n",
        "    .resources(\n",
        "        num_gpus=1 if torch.cuda.is_available() else None\n",
        "    )\n",
        ")\n",
        "\n",
        "# 2. build the algorithm ..\n",
        "if config.num_env_runners > 0:\n",
        "    ray.shutdown()\n",
        "    ray.init()\n",
        "\n",
        "    register_env(\"stock_trading_env\", create_stock_trading_env)\n",
        "\n",
        "algo = config.build()"
      ]
    },
    {
      "cell_type": "code",
      "execution_count": 98,
      "metadata": {
        "colab": {
          "base_uri": "https://localhost:8080/"
        },
        "id": "4IV-iVqxqUQe",
        "outputId": "434611ef-c357-4e79-95b7-d4518c587a10"
      },
      "outputs": [
        {
          "output_type": "stream",
          "name": "stdout",
          "text": [
            "Envs: 1, Runners: 0\n",
            "total_batches: 1\n",
            "total_timesteps: 2048\n",
            "\n",
            "----------------------------------------\n",
            "train/ann_return: -11.91\n",
            "train/ann_return_EMA_0.2: -10.5\n",
            "train/ann_return_MA_20: -11.52\n",
            "train/mdd: -10.5\n",
            "train/mdd_EMA_0.2: -9.98\n",
            "train/mdd_MA_20: -9.77\n",
            "train/sharpe_ratio: -0.55\n",
            "train/sharpe_ratio_EMA_0.2: -0.64\n",
            "train/sharpe_ratio_MA_20: -0.74\n",
            "****************************************\n",
            "val/ann_return: -11.91\n",
            "val/ann_return_EMA_0.2: -10.5\n",
            "val/ann_return_MA_20: -11.52\n",
            "val/mdd: -10.5\n",
            "val/mdd_EMA_0.2: -9.98\n",
            "val/mdd_MA_20: -9.77\n",
            "val/sharpe_ratio: -0.55\n",
            "val/sharpe_ratio_EMA_0.2: -0.64\n",
            "val/sharpe_ratio_MA_20: -0.74\n",
            "----------------------------------------\n",
            "\n",
            "\n",
            "Benchmark results: {'func_name': '_train_rllib', 'exec_time_sec': 20.253132229999665}\n"
          ]
        },
        {
          "output_type": "stream",
          "name": "stderr",
          "text": [
            "\u001b[34m\u001b[1mwandb\u001b[0m: Adding directory to artifact (./trained_models)... Done. 0.1s\n"
          ]
        },
        {
          "output_type": "stream",
          "name": "stdout",
          "text": [
            "Artifact 'trained_models-iqqgwfev' has been updated and uploaded.\n"
          ]
        }
      ],
      "source": [
        "# 3. .. train it ..\n",
        "from math import ceil\n",
        "\n",
        "@benchmark_exec_time\n",
        "def _train_rllib(total_timesteps=200_000):\n",
        "    results = []\n",
        "    total_batches = ceil(total_timesteps / algo.config.train_batch_size)\n",
        "    print(f\"total_batches: {total_batches}\")\n",
        "    print(f\"total_timesteps: {total_timesteps}\")\n",
        "    for _ in range(total_batches):\n",
        "        result = algo.train()\n",
        "        results.append(result)\n",
        "\n",
        "    print_result(result)\n",
        "    return results\n",
        "\n",
        "print(f\"Envs: {algo.config.num_envs_per_env_runner}, Runners: {algo.config.num_env_runners}\")\n",
        "\n",
        "results, exec_time_sec = _train_rllib(2_048 * 1)\n",
        "os.makedirs(TRAINED_MODEL_DIR, exist_ok=True)\n",
        "if log_to_wandb:\n",
        "    duration_minutes = round(exec_time_sec / 60, 1)\n",
        "    wandb.run.summary[f\"train.duration_minutes/{model_name}\"] = duration_minutes\n",
        "\n",
        "model_name = 'ppo'\n",
        "ckpt_path = (Path(TRAINED_MODEL_DIR) / model_name).resolve()\n",
        "dir = algo.save(ckpt_path)\n",
        "if log_to_wandb:\n",
        "    update_model_artifacts(log_results_folder=False)"
      ]
    },
    {
      "cell_type": "code",
      "execution_count": 99,
      "metadata": {
        "id": "jl87Lv-8KkwW"
      },
      "outputs": [],
      "source": [
        "# results, _ = _train_rllib(2_048)\n",
        "# %timeit -n 1 -r 1 _train_rllib(2_048)"
      ]
    },
    {
      "cell_type": "code",
      "execution_count": 100,
      "metadata": {
        "cellView": "form",
        "id": "PRB1P2H9_FT1"
      },
      "outputs": [],
      "source": [
        "#@title aggregate_results\n",
        "\n",
        "import pandas as pd\n",
        "\n",
        "def aggregate_results(results):\n",
        "    \"\"\"\n",
        "    Combines all metrics from a list of results into a single DataFrame.\n",
        "\n",
        "    Args:\n",
        "        results (list): A list of result dictionaries with train and validation metrics.\n",
        "\n",
        "    Returns:\n",
        "        pd.DataFrame: A DataFrame containing the combined metrics.\n",
        "    \"\"\"\n",
        "    metrics = []\n",
        "\n",
        "    for i, result in enumerate(results):\n",
        "        row = {'iteration': i + 1}  # Add iteration number\n",
        "        for key in result['env_runners'].keys():\n",
        "            if any(include_key in key for include_key in RESULT_KEYS_TO_INCLUDE):\n",
        "                row[f\"train/{key}\"] = round(result['env_runners'][key], 2)\n",
        "                row[f\"val/{key}\"] = round(result['evaluation']['env_runners'].get(key, float('nan')), 2)  # Use `.get()` for safety\n",
        "        metrics.append(row)\n",
        "\n",
        "    return pd.DataFrame(metrics)"
      ]
    },
    {
      "cell_type": "code",
      "execution_count": 101,
      "metadata": {
        "cellView": "form",
        "id": "PTm6gQ0LJDGb"
      },
      "outputs": [],
      "source": [
        "#@title plot_metrics\n",
        "import matplotlib.pyplot as plt\n",
        "%matplotlib inline\n",
        "\n",
        "def plot_metrics(df, average_mode=None):\n",
        "    \"\"\"\n",
        "    Plots all metrics on the same figure with different axes for train and validation metrics.\n",
        "\n",
        "    Args:\n",
        "        df (pd.DataFrame): Dataframe containing metrics.\n",
        "        average_mode (str): Average mode to filter metrics ('EMA' or 'MA').\n",
        "    \"\"\"\n",
        "    assert average_mode in ('EMA', 'MA', None)\n",
        "\n",
        "    if average_mode is None:\n",
        "        average_mode = ''\n",
        "    else:\n",
        "        average_mode = '_' + average_mode\n",
        "\n",
        "    # Extract metric keys based on average_mode\n",
        "    metric_keys = [f'sharpe_ratio{average_mode}', f'ann_return{average_mode}', f'mdd{average_mode}']\n",
        "    train_keys = [key for key in df.columns if any([key.removeprefix('train/').startswith(metric_key) for metric_key in metric_keys])]\n",
        "    val_keys = [key for key in df.columns if any([key.removeprefix('val/').startswith(metric_key) for metric_key in metric_keys])]\n",
        "    print(metric_keys)\n",
        "    print(val_keys, train_keys)\n",
        "\n",
        "    # Set up the figure and the main axis\n",
        "    fig, ax1 = plt.subplots(figsize=(8, 6))\n",
        "    ax1.set_xlabel(\"Iteration\")\n",
        "    ax1.set_ylabel(\"Sharpe Ratio\", color=\"tab:blue\")\n",
        "\n",
        "    # Plot the first metric on the main axis\n",
        "    ax1.plot(df['iteration'], df[train_keys[0]], label=f\"Train {metric_keys[0]}\", color=\"tab:blue\", linestyle=\"-\")\n",
        "    ax1.plot(df['iteration'], df[val_keys[0]], label=f\"Val {metric_keys[0]}\", color=\"tab:blue\", linestyle=\"--\")\n",
        "    # ax1.legend(loc=\"upper left\")\n",
        "    ax1.tick_params(axis=\"y\", labelcolor=\"tab:blue\")\n",
        "\n",
        "    # Create the second y-axis for the second metric\n",
        "    ax2 = ax1.twinx()\n",
        "    ax2.set_ylabel(\"Annual Return\", color=\"tab:green\")\n",
        "    ax2.plot(df['iteration'], df[train_keys[1]], label=f\"Train {metric_keys[1]}\", color=\"tab:green\", linestyle=\"-\")\n",
        "    ax2.plot(df['iteration'], df[val_keys[1]], label=f\"Val {metric_keys[1]}\", color=\"tab:green\", linestyle=\"--\")\n",
        "    ax2.tick_params(axis=\"y\", labelcolor=\"tab:green\")\n",
        "\n",
        "    # Create the third y-axis for the third metric\n",
        "    ax3 = ax1.twinx()\n",
        "    ax3.spines[\"right\"].set_position((\"outward\", 60))  # Offset the third y-axis\n",
        "    ax3.set_ylabel(\"Maximum Drawdown\", color=\"tab:red\")\n",
        "    ax3.plot(df['iteration'], df[train_keys[2]], label=f\"Train {metric_keys[2]}\", color=\"tab:red\", linestyle=\"-\")\n",
        "    ax3.plot(df['iteration'], df[val_keys[2]], label=f\"Val {metric_keys[2]}\", color=\"tab:red\", linestyle=\"--\")\n",
        "    ax3.tick_params(axis=\"y\", labelcolor=\"tab:red\")\n",
        "\n",
        "    # Add a title and show the plot\n",
        "    plt.title(f\"Metrics Comparison ({average_mode})\")\n",
        "    fig.tight_layout()  # Ensure proper layout\n",
        "    plt.show()\n"
      ]
    },
    {
      "cell_type": "code",
      "execution_count": 102,
      "metadata": {
        "id": "pcHPljH8ugWI"
      },
      "outputs": [],
      "source": [
        "# results_agg = aggregate_results(results)\n",
        "# results_agg.tail()\n",
        "\n",
        "# plot_metrics(\n",
        "#     results_agg,\n",
        "#     average_mode=None\n",
        "#     # average_mode='EMA'\n",
        "# )"
      ]
    },
    {
      "cell_type": "code",
      "execution_count": 103,
      "metadata": {
        "cellView": "form",
        "colab": {
          "base_uri": "https://localhost:8080/"
        },
        "id": "rB5hkVrJEBXL",
        "outputId": "ccbe4b2e-d4af-4910-877d-20dab09aa75a"
      },
      "outputs": [
        {
          "output_type": "stream",
          "name": "stdout",
          "text": [
            "Evaluating for `val` using `^VIX`: 99\n",
            "Initializing env... Done.\n",
            "{'sharpe_ratio': 1.0736062273162534, 'mdd': -4.91511162830829, 'ann_return': 24.599170492055844, 'cum_return': 3.931659568058036}\n"
          ]
        }
      ],
      "source": [
        "#@title Evaluate RLlib model\n",
        "from ray.rllib.algorithms.algorithm import Algorithm\n",
        "from ray.rllib.core.columns import Columns\n",
        "from ray.rllib.utils.numpy import convert_to_numpy, softmax\n",
        "from ray.rllib.models.torch.torch_distributions import TorchDiagGaussian\n",
        "from ray.rllib.core.rl_module.rl_module import RLModule\n",
        "import torch\n",
        "\n",
        "# Create the testing environment\n",
        "def evaluate_model(algo_or_rl_module, model_name, split_label, np_env_config, run_config, turbulence_thresh=None,\n",
        "                   log_to_wandb=False, return_metrics=False):\n",
        "\n",
        "    if turbulence_thresh is None:\n",
        "        turbulence_thresh = run_config.get('turbulence_thresh', 99)\n",
        "    turbulence_name = 'turbulence' if not run_config.get('if_vix', None) else '^VIX'\n",
        "    print(f\"Evaluating for `{split_label}` using `{turbulence_name}`: {turbulence_thresh}\")\n",
        "\n",
        "    env_config = {\n",
        "        # \"df\": val,\n",
        "        \"np_env_config\": np_env_config,\n",
        "\n",
        "        # \"run_config\": run_config,\n",
        "        \"initial_amount\": run_config['initial_amount'],\n",
        "        \"cost_pct\": run_config['cost_pct'],\n",
        "\n",
        "        \"mode\": split_label,\n",
        "        'turbulence_threshold': turbulence_thresh\n",
        "    }\n",
        "\n",
        "    eval_env = create_stock_trading_env(env_config)\n",
        "    state, info = eval_env.reset()\n",
        "    done = False\n",
        "\n",
        "    # Perform inference using the trained RLlib agent\n",
        "    if isinstance(algo_or_rl_module, Algorithm):\n",
        "        rl_module = algo_or_rl_module.env_runner.module\n",
        "    elif isinstance(algo_or_rl_module, RLModule):\n",
        "        rl_module = algo_or_rl_module\n",
        "    else:\n",
        "        raise NotImplementedError\n",
        "\n",
        "    while not done:\n",
        "        # Compute action using the RLlib trained agent\n",
        "        input_dict = {Columns.OBS: torch.Tensor(state).unsqueeze(0)}\n",
        "        rl_module_out = rl_module.forward_inference(input_dict)\n",
        "        logits = rl_module_out[Columns.ACTION_DIST_INPUTS]\n",
        "\n",
        "        # Take mean of multivariate Gaussian distribution\n",
        "        mean, log_std = logits.chunk(2, dim=-1)\n",
        "\n",
        "        # action_distribution = TorchDiagGaussian.from_logits(logits)\n",
        "        # action_distribution = action_distribution.to_deterministic()\n",
        "        # assert np.allclose(mean, action_distribution.loc)\n",
        "        # assert np.allclose(log_std.exp(), action_distribution._dist.scale)\n",
        "        # action = action_distribution.sample()\n",
        "\n",
        "        action = mean.detach().numpy().squeeze()\n",
        "\n",
        "        # Clip the action to ensure it's within the action space bounds\n",
        "        action = np.clip(action, eval_env.action_space.low, eval_env.action_space.high)\n",
        "\n",
        "        # Perform action\n",
        "        state, reward, terminated, truncated, _ = eval_env.step(action)\n",
        "        done = terminated or truncated\n",
        "\n",
        "    df_account_value = eval_env.save_asset_memory()\n",
        "    metrics = compute_metrics(df_account_value)\n",
        "    print(metrics)\n",
        "\n",
        "    if log_to_wandb:\n",
        "        turbulence_log_name = 'ti' if not run_config.get('if_vix', None) else 'vix'\n",
        "        for metric_name, metric_value in metrics.items():\n",
        "            metric_name = f\"{split_label}.{turbulence_log_name}_{turbulence_thresh}.{metric_name}/{model_name}\"\n",
        "            wandb.run.summary[metric_name] = round(metric_value, 2)\n",
        "\n",
        "    turbulence_series = pd.Series(\n",
        "        np_env_config['turbulence_array'][:len(df_account_value)],\n",
        "        index=df_account_value['date'],\n",
        "        name=turbulence_name\n",
        "    )\n",
        "\n",
        "    eval_result = {\n",
        "        'account_value': df_account_value.rename(columns={'account_value': model_name}),\n",
        "        'turbulence_series': turbulence_series,\n",
        "        'turbulence_thresh': turbulence_thresh\n",
        "    }\n",
        "\n",
        "    if return_metrics:\n",
        "        return eval_result, metrics\n",
        "    else:\n",
        "        return eval_result\n",
        "\n",
        "val_result, val_metrics = evaluate_model(\n",
        "    algo,\n",
        "    model_name,\n",
        "    run_config=run_config,\n",
        "    np_env_config = val_np_env_config,\n",
        "    split_label='val',\n",
        "    log_to_wandb=log_to_wandb,\n",
        "    return_metrics=True\n",
        ")\n",
        "\n",
        "# test_result = evaluate_model(\n",
        "#     algo,\n",
        "#     model_name,\n",
        "#     run_config=run_config,\n",
        "#     np_env_config = test_np_env_config,\n",
        "#     split_label='test',\n",
        "#     log_to_wandb=log_to_wandb\n",
        "# )"
      ]
    },
    {
      "cell_type": "code",
      "execution_count": 49,
      "metadata": {
        "cellView": "form",
        "id": "CbLgPDKNPQX3"
      },
      "outputs": [],
      "source": [
        "#@title plot_results (w/separate turbulence plot)\n",
        "\n",
        "%matplotlib inline\n",
        "\n",
        "def plot_results(\n",
        "        account_value,\n",
        "        turbulence_series,\n",
        "        turbulence_thresh,\n",
        "        figsize='small',\n",
        "        split_label=None,\n",
        "        metrics=None\n",
        "    ):\n",
        "\n",
        "    assert split_label in ['val', 'test']\n",
        "    assert turbulence_series.name in ['turbulence', '^VIX']\n",
        "    assert figsize in ['small', 'default']\n",
        "\n",
        "    figsizes = {\n",
        "        'medium': (14, 10),\n",
        "        'small': (9, 7)\n",
        "    }\n",
        "\n",
        "    # Create figure and subplots\n",
        "    fig, (ax1, ax2) = plt.subplots(2, 1, figsize=figsizes[figsize], sharex=True, gridspec_kw={'height_ratios': [3, 1]})\n",
        "\n",
        "    # Main plot\n",
        "    method_styles = {\n",
        "        'A2C': {'color': '#8c564b', 'linestyle': '--'},\n",
        "        'DDPG': {'color': '#e377c2', 'linestyle': '-'},\n",
        "        'PPO': {'color': '#7f7f7f', 'linestyle': '-'},\n",
        "        'TD3': {'color': '#bcbd22', 'linestyle': '--'},\n",
        "        'SAC': {'color': '#17becf', 'linestyle': '-'},\n",
        "        'DJIA': {'color': '#000000', 'linestyle': '-'},\n",
        "    }\n",
        "\n",
        "    if 'DJIA' in account_value:\n",
        "        ax1.plot(account_value.index, account_value['DJIA'], label=\"Dow Jones Index\",\n",
        "                linestyle=method_styles['DJIA']['linestyle'], color=method_styles['DJIA']['color'])\n",
        "\n",
        "    if 'date' in account_value.columns:\n",
        "        account_value.set_index('date', inplace=True)\n",
        "\n",
        "    account_value.rename(columns={col: col.upper() for col in account_value.columns}, inplace=True)\n",
        "\n",
        "    for model_name in account_value.columns:\n",
        "        style = method_styles[model_name]\n",
        "        ax1.plot(account_value.index, account_value[model_name], label=model_name, **style)\n",
        "\n",
        "    # Customize main plot\n",
        "    ax1.set_title(f\"Cumulative returns over time\", fontsize=20, fontweight='bold')\n",
        "    ax1.set_ylabel(\"Total Asset Value ($)\", fontsize=16, fontweight='bold')\n",
        "    ax1.legend(loc='lower right')\n",
        "    ax1.grid(True, linestyle='--', alpha=0.3)\n",
        "\n",
        "    # Turbulence plot\n",
        "    if turbulence_series.name == 'turbulence':\n",
        "        turbulence_label = \"Turbulence Index\"\n",
        "    else:\n",
        "        turbulence_label = \"VIX Coefficient\"\n",
        "    ax2.plot(turbulence_series.index, turbulence_series, label=turbulence_label, color='red', linestyle='--', linewidth=2)\n",
        "    ax2.axhline(y=turbulence_thresh, color='red', linestyle=':', label='Threshold')\n",
        "    ax2.set_ylabel(turbulence_label, fontsize=16, fontweight='bold')\n",
        "    ax2.legend(loc='lower left')\n",
        "    ax2.grid(True, linestyle='--', alpha=0.3)\n",
        "    max_turbulence = max(turbulence_series.max(), turbulence_thresh)\n",
        "    ax2.set_ylim(0, max_turbulence + 10)\n",
        "    # ax2.set_yticks(list(ax2.get_yticks()) + [turbulence_thresh])\n",
        "\n",
        "    # Shared x-axis label\n",
        "    ax2.set_xlabel(\"Date\", fontsize=16, fontweight='bold')\n",
        "\n",
        "    # Tight layout\n",
        "    # plt.tight_layout()\n",
        "    return fig\n",
        "\n",
        "# # Example usage:\n",
        "# fig = plot_results(\n",
        "#     **val_result,\n",
        "#     figsize='small',\n",
        "#     split_label='val',\n",
        "#     metrics=val_metrics,\n",
        "# )\n",
        "\n",
        "# plt.show()"
      ]
    },
    {
      "cell_type": "code",
      "execution_count": 104,
      "metadata": {
        "cellView": "form",
        "colab": {
          "base_uri": "https://localhost:8080/",
          "height": 705
        },
        "id": "oiBoqBiFVYiA",
        "outputId": "78876b4c-5577-416a-b3f8-c7574913295c"
      },
      "outputs": [
        {
          "output_type": "display_data",
          "data": {
            "text/plain": [
              "<Figure size 850x700 with 2 Axes>"
            ],
            "image/png": "[encoded data removed]"
          },
          "metadata": {}
        }
      ],
      "source": [
        "#@title plot_results (enhanced)\n",
        "\n",
        "import matplotlib.pyplot as plt\n",
        "import matplotlib.ticker as mtick\n",
        "\n",
        "def plot_results(\n",
        "        account_value,\n",
        "        turbulence_series,\n",
        "        turbulence_thresh,\n",
        "        figsize='small',\n",
        "        split_label=None,\n",
        "        metrics=None\n",
        "    ):\n",
        "    assert split_label in ['val', 'test']\n",
        "    assert turbulence_series.name in ['turbulence', '^VIX']\n",
        "    assert figsize in ['small', 'medium']\n",
        "\n",
        "    figsizes = {\n",
        "        'medium': (14, 10),\n",
        "        'small': (8.5, 7)\n",
        "    }\n",
        "\n",
        "    # Create figure and subplots\n",
        "    fig, (ax1, ax2) = plt.subplots(2, 1, figsize=figsizes[figsize], sharex=True, gridspec_kw={'height_ratios': [3, 1]})\n",
        "\n",
        "    # Method styles\n",
        "    method_styles = {\n",
        "        'A2C': {'color': '#8c564b', 'linestyle': '--'},\n",
        "        'DDPG': {'color': '#e377c2', 'linestyle': '-'},\n",
        "        'PPO': {'color': '#7f7f7f', 'linestyle': '-'},\n",
        "        'TD3': {'color': '#bcbd22', 'linestyle': '--'},\n",
        "        'SAC': {'color': '#17becf', 'linestyle': '-'},\n",
        "        'DJIA': {'color': '#000000', 'linestyle': '-'},\n",
        "    }\n",
        "\n",
        "    # Plot DJIA if present\n",
        "    if 'DJIA' in account_value:\n",
        "        ax1.plot(account_value.index, account_value['DJIA'], label=\"Dow Jones Index\",\n",
        "                linestyle=method_styles['DJIA']['linestyle'], color=method_styles['DJIA']['color'])\n",
        "\n",
        "    # Ensure date is index\n",
        "    if 'date' in account_value.columns:\n",
        "        account_value.set_index('date', inplace=True)\n",
        "\n",
        "    account_value.rename(columns={col: col.upper() for col in account_value.columns}, inplace=True)\n",
        "\n",
        "    # Plot account values\n",
        "    for model_name in account_value.columns:\n",
        "        style = method_styles.get(model_name, {'color': 'blue', 'linestyle': '-'})  # Default style fallback\n",
        "        ax1.plot(account_value.index, account_value[model_name], label=model_name, **style)\n",
        "\n",
        "    # Construct subtitle text\n",
        "    turbulence_label = \"Turbulence Index\" if turbulence_series.name == 'turbulence' else \"VIX Coefficient\"\n",
        "    split_label_name = ('validation' if split_label == 'val' else split_label).capitalize()\n",
        "    title = f\"{split_label_name} split | {turbulence_label} threshold: {turbulence_thresh}\"\n",
        "    fig.suptitle(title, fontsize=20, fontweight='bold')\n",
        "\n",
        "   # Define the mapping for metric names\n",
        "    full_names = {\n",
        "        'mdd': 'MDD',\n",
        "        'ann_return': 'Annualized Return',\n",
        "        'cum_return': 'Cumulative Return',\n",
        "        'sharpe_ratio': 'Sharpe Ratio'\n",
        "    }\n",
        "\n",
        "    # Add subtitle, properly positioned and centered\n",
        "    if metrics:\n",
        "        metric_text = \", \".join(\n",
        "            f\"{full_names.get(name, name.replace('_', ' ').capitalize())}: {value:.2f}\"\n",
        "            for name, value in metrics.items()\n",
        "        )\n",
        "        ax1.set_title(metric_text, fontsize=12, color='gray', ha='center')\n",
        "\n",
        "\n",
        "    # **Prettify y-axis numbers**\n",
        "    ax1.yaxis.set_major_formatter(mtick.FuncFormatter(lambda x, _: f\"{x:,.0f}\"))\n",
        "\n",
        "    # **Horizontal Line at Initial Asset Value**\n",
        "    initial_asset_value = account_value.iloc[0].mean()  # Assuming initial value from mean of first row\n",
        "    ax1.axhline(y=initial_asset_value, color='gray', linestyle='-.', linewidth=1.5, label=\"Initial Asset Value\")\n",
        "\n",
        "    # **Main Plot Customization**\n",
        "    ax1.set_ylabel(\"Total Asset Value ($)\", fontsize=16, fontweight='bold')\n",
        "    ax1.legend(loc='lower right')\n",
        "    ax1.grid(True, linestyle='--', alpha=0.3)\n",
        "\n",
        "    # **Turbulence Plot**\n",
        "    ax2.plot(turbulence_series.index, turbulence_series, label=turbulence_label, color='red', linestyle='--', linewidth=2)\n",
        "    ax2.axhline(y=turbulence_thresh, color='red', linestyle=':', label=f'Threshold = {turbulence_thresh}')\n",
        "\n",
        "    ax2.set_ylabel(turbulence_label, fontsize=16, fontweight='bold')\n",
        "    ax2.legend(loc='upper left')\n",
        "    ax2.grid(True, linestyle='--', alpha=0.3)\n",
        "\n",
        "    max_turbulence = max(turbulence_series.max(), turbulence_thresh)\n",
        "    ax2.set_ylim(0, max_turbulence + 10)\n",
        "\n",
        "    # **Shared x-axis label**\n",
        "    ax2.set_xlabel(\"Date\", fontsize=16, fontweight='bold')\n",
        "\n",
        "    return fig\n",
        "\n",
        "# Example usage:\n",
        "fig = plot_results(\n",
        "    **val_result,\n",
        "    figsize='small',\n",
        "    split_label='val',\n",
        "    metrics=val_metrics,\n",
        ")\n",
        "\n",
        "plt.tight_layout()\n",
        "plt.show()"
      ]
    },
    {
      "cell_type": "code",
      "execution_count": 105,
      "metadata": {
        "cellView": "form",
        "id": "02OzYWBGMVNE"
      },
      "outputs": [],
      "source": [
        "#@title log_plot_as_artifact\n",
        "\n",
        "import os\n",
        "import matplotlib.pyplot as plt\n",
        "import wandb\n",
        "\n",
        "def log_plot_as_artifact(fig, artifact_name_prefix, artifact_type=\"plot\"):\n",
        "    \"\"\"\n",
        "    Save a Matplotlib figure without clipping and log it as a W&B artifact.\n",
        "\n",
        "    Parameters:\n",
        "        fig (matplotlib.figure.Figure): The Matplotlib figure to save and log.\n",
        "        artifact_name (str): The name of the W&B artifact.\n",
        "        artifact_type (str): The type of the artifact (default is \"plot\").\n",
        "        filename (str): The filename to save the plot as (default is \"plot.png\").\n",
        "    \"\"\"\n",
        "    assert wandb.run.id\n",
        "\n",
        "    # Get full artifact name\n",
        "    artifact_name = f'{artifact_name_prefix}-{wandb.run.id}'\n",
        "    filename = artifact_name + '.png'\n",
        "\n",
        "    try:\n",
        "        # Save the figure with tight layout and proper padding\n",
        "        fig.savefig(filename, bbox_inches='tight', pad_inches=0.1, dpi=300)\n",
        "        plt.close(fig)  # Close the figure to free up memory\n",
        "\n",
        "        # Create and log the W&B artifact\n",
        "        artifact = wandb.Artifact(artifact_name, type=artifact_type)\n",
        "        artifact.add_file(filename, skip_cache=True, overwrite=True)\n",
        "        wandb.log_artifact(artifact)\n",
        "    finally:\n",
        "        # Ensure the file is deleted after use\n",
        "        if os.path.exists(filename):\n",
        "            os.remove(filename)"
      ]
    },
    {
      "cell_type": "code",
      "source": [
        "#@title batch_log_plots_as_artifact\n",
        "\n",
        "import os\n",
        "import shutil\n",
        "import wandb\n",
        "import matplotlib.pyplot as plt\n",
        "\n",
        "def batch_log_plots_as_artifact(\n",
        "        figs, fig_names, artifact_name_prefix, artifact_type=\"plot\"\n",
        "    ):\n",
        "\n",
        "    \"\"\"\n",
        "    Save a list of Matplotlib figures to a folder, log the folder as a W&B artifact,\n",
        "    and delete the folder after logging.\n",
        "\n",
        "    Parameters:\n",
        "        figs (list): List of Matplotlib figure objects.\n",
        "        folder_name (str): Name of the folder to store plots.\n",
        "        artifact_name_prefix (str): Prefix for the artifact name.\n",
        "        artifact_type (str): The type of the artifact (default is \"plot\").\n",
        "    \"\"\"\n",
        "    assert wandb.run.id\n",
        "\n",
        "    # Ensure the folder exists\n",
        "    os.makedirs(artifact_name_prefix, exist_ok=True)\n",
        "\n",
        "    try:\n",
        "        # Save all figures in the folder\n",
        "        for i, (fig, fig_name) in enumerate(zip(figs, fig_names)):\n",
        "            filename = os.path.join(artifact_name_prefix, f\"{fig_name}.png\")\n",
        "            fig.savefig(filename, bbox_inches='tight', pad_inches=0.1, dpi=300)\n",
        "            plt.close(fig)  # Close the figure to free up memory\n",
        "\n",
        "        # Create and log the W&B artifact\n",
        "        artifact_name = f\"{artifact_name_prefix}-{wandb.run.id}\"\n",
        "        artifact = wandb.Artifact(artifact_name, type=artifact_type)\n",
        "        artifact.add_dir(artifact_name_prefix, skip_cache=True)\n",
        "        wandb.log_artifact(artifact)\n",
        "    finally:\n",
        "        # Ensure the folder is deleted after use\n",
        "        if os.path.exists(artifact_name_prefix):\n",
        "            shutil.rmtree(artifact_name_prefix)"
      ],
      "metadata": {
        "cellView": "form",
        "id": "_dxl6IJ0FlMO"
      },
      "execution_count": 107,
      "outputs": []
    },
    {
      "cell_type": "code",
      "source": [
        "batch_log_plots_as_artifact(\n",
        "    [fig, fig],\n",
        "    [\"val_cumulative_return_1\", \"val_cumulative_return_2\"],\n",
        "    artifact_name_prefix=\"val_cumulative_return\"\n",
        ")"
      ],
      "metadata": {
        "colab": {
          "base_uri": "https://localhost:8080/"
        },
        "id": "oeVT7EcVIfOM",
        "outputId": "5f594381-0cb5-4fd8-f155-0bcada3d706d"
      },
      "execution_count": 109,
      "outputs": [
        {
          "output_type": "stream",
          "name": "stderr",
          "text": [
            "\u001b[34m\u001b[1mwandb\u001b[0m: Adding directory to artifact (./val_cumulative_return)... Done. 0.0s\n"
          ]
        }
      ]
    },
    {
      "cell_type": "code",
      "execution_count": 52,
      "metadata": {
        "id": "iVJa7WZjFmGc"
      },
      "outputs": [],
      "source": [
        "# if log_to_wandb:\n",
        "#     val_fig = plot_results(**val_result)\n",
        "#     log_plot_as_artifact(fig, \"val_cumulative_return\", artifact_type=\"plot\")\n",
        "\n",
        "    # test_fig = plot_results(**test_result)\n",
        "    # log_plot_as_artifact(fig, \"test_cumulative_return\", artifact_type=\"plot\")"
      ]
    },
    {
      "cell_type": "code",
      "execution_count": 110,
      "metadata": {
        "id": "6V8Y5V-1mSUf"
      },
      "outputs": [],
      "source": [
        "if log_to_wandb:\n",
        "    run_timer_end = perf_counter()\n",
        "    run_duration_minutes = round( (run_timer_end - run_timer_start) / 60, 1)\n",
        "    wandb.run.summary[f\"run.duration_minutes\"] = run_duration_minutes"
      ]
    },
    {
      "cell_type": "code",
      "source": [
        "wandb.finish()"
      ],
      "metadata": {
        "id": "m5JCnsWCJDtq"
      },
      "execution_count": null,
      "outputs": []
    },
    {
      "cell_type": "markdown",
      "metadata": {
        "id": "_huFpEN4BuAO"
      },
      "source": [
        "# Evaluate thresholds (step by step)"
      ]
    },
    {
      "cell_type": "code",
      "execution_count": null,
      "metadata": {
        "colab": {
          "base_uri": "https://localhost:8080/",
          "height": 38
        },
        "id": "adDW_iY5HbLf",
        "outputId": "f011d549-c69a-4f59-f4c6-d6543de100e9"
      },
      "outputs": [
        {
          "data": {
            "text/html": [
              "<button onClick=\"this.nextSibling.style.display='block';this.style.display='none';\">Display W&B run</button><iframe src='https://wandb.ai/overfit1010/finrl-dt-replicate/runs/khne3fig?jupyter=true' style='border:none;width:100%;height:420px;display:none;'></iframe>"
            ],
            "text/plain": [
              "<wandb.sdk.wandb_run.Run at 0x78d32c68bc10>"
            ]
          },
          "execution_count": 50,
          "metadata": {},
          "output_type": "execute_result"
        }
      ],
      "source": [
        "import wandb\n",
        "\n",
        "RUN_ID = \"ioji9jy3\"  # Replace with the actual run ID\n",
        "wandb.init(project=PROJECT, id=RUN_ID, resume='must')"
      ]
    },
    {
      "cell_type": "code",
      "execution_count": null,
      "metadata": {
        "colab": {
          "base_uri": "https://localhost:8080/"
        },
        "id": "-YgyEOHM_06J",
        "outputId": "58eabae4-39fa-48c4-a477-2853b1f0a228"
      },
      "outputs": [
        {
          "name": "stderr",
          "output_type": "stream",
          "text": [
            "\u001b[34m\u001b[1mwandb\u001b[0m:   99 of 99 files downloaded.  \n"
          ]
        }
      ],
      "source": [
        "#@title Download artifacts\n",
        "\n",
        "def download_artifacts(run_id, artifact_types=['trained_models']):\n",
        "    # Initialize the W&B API\n",
        "    api = wandb.Api()\n",
        "\n",
        "    # Retrieve the run\n",
        "    run = api.run(f\"{ENTITY}/{PROJECT}/{run_id}\")\n",
        "\n",
        "    # Iterate over the artifacts used or logged by the run\n",
        "    for artifact in run.logged_artifacts():\n",
        "        if artifact.type in artifact_types:\n",
        "            artifact_folder = f'./{artifact.type}'\n",
        "            !rm -rf artifact_folder\n",
        "            artifact.download(artifact_folder)\n",
        "\n",
        "download_artifacts(RUN_ID)"
      ]
    },
    {
      "cell_type": "code",
      "execution_count": null,
      "metadata": {
        "cellView": "form",
        "id": "0jlIntbmDhAT"
      },
      "outputs": [],
      "source": [
        "#@title load_rl_module\n",
        "\n",
        "import ray\n",
        "from ray.rllib.core import DEFAULT_MODULE_ID\n",
        "from ray.rllib.core.rl_module.rl_module import RLModule\n",
        "\n",
        "# Initialize Ray\n",
        "# ray.init(ignore_reinit_error=True)\n",
        "\n",
        "def load_rl_module(model_name):\n",
        "    ckpt_path = os.path.join(\n",
        "        \"trained_models\",\n",
        "        model_name,\n",
        "        \"learner_group\",\n",
        "        \"learner\",\n",
        "        \"rl_module\",\n",
        "        DEFAULT_MODULE_ID,\n",
        "    )\n",
        "\n",
        "    # Path to checkpoint\n",
        "    rl_module = RLModule.from_checkpoint(\n",
        "        os.path.abspath(ckpt_path)\n",
        "    )\n",
        "    return rl_module\n",
        "\n",
        "rl_module = load_rl_module(model_name)"
      ]
    },
    {
      "cell_type": "code",
      "execution_count": null,
      "metadata": {
        "cellView": "form",
        "colab": {
          "base_uri": "https://localhost:8080/"
        },
        "id": "KsChjP7y6w60",
        "outputId": "d269e249-d19d-4312-ba33-e9cc5b4657ed"
      },
      "outputs": [
        {
          "name": "stdout",
          "output_type": "stream",
          "text": [
            "Evaluating for `val` using `^VIX`: 15\n",
            "Initializing env... Done.\n",
            "{'sharpe_ratio': -2.9196366692988183, 'mdd': -0.4130820346374549, 'ann_return': -1.8748026611251856, 'cum_return': -0.3313031055755855}\n",
            "Evaluating for `val` using `^VIX`: 16\n",
            "Initializing env... Done.\n",
            "{'sharpe_ratio': -0.7111047098066668, 'mdd': -2.41885269293671, 'ann_return': -4.092157265257635, 'cum_return': -0.7299462360096076}\n",
            "Evaluating for `val` using `^VIX`: 17\n",
            "Initializing env... Done.\n",
            "{'sharpe_ratio': -0.33629342482189484, 'mdd': -4.794133331997368, 'ann_return': -4.109610500297389, 'cum_return': -0.733114050720149}\n",
            "Evaluating for `val` using `^VIX`: 18\n",
            "Initializing env... Done.\n",
            "{'sharpe_ratio': -1.1290624908846332, 'mdd': -5.864915316773357, 'ann_return': -12.570545963924197, 'cum_return': -2.3279891655311076}\n",
            "Evaluating for `val` using `^VIX`: 19\n",
            "Initializing env... Done.\n",
            "{'sharpe_ratio': -0.7378193367741304, 'mdd': -7.950495950902316, 'ann_return': -12.050243863231568, 'cum_return': -2.2263193782425077}\n",
            "Evaluating for `val` using `^VIX`: 20\n",
            "Initializing env... Done.\n",
            "{'sharpe_ratio': -1.0924210267880827, 'mdd': -9.424868318442284, 'ann_return': -19.02741003038195, 'cum_return': -3.6331275628166333}\n",
            "Evaluating for `val` using `^VIX`: 21\n",
            "Initializing env... Done.\n",
            "{'sharpe_ratio': 0.07136036508595105, 'mdd': -7.765618117574401, 'ann_return': 0.039651107165794564, 'cum_return': 0.006951386486078264}\n",
            "Evaluating for `val` using `^VIX`: 23\n",
            "Initializing env... Done.\n",
            "{'sharpe_ratio': 0.2111347849772678, 'mdd': -7.670187553772845, 'ann_return': 2.9186115019316894, 'cum_return': 0.5057050395126426}\n",
            "Evaluating for `val` using `^VIX`: 24\n",
            "Initializing env... Done.\n",
            "{'sharpe_ratio': 0.2111347849772678, 'mdd': -7.670187553772845, 'ann_return': 2.9186115019316894, 'cum_return': 0.5057050395126426}\n",
            "Evaluating for `val` using `^VIX`: 25\n",
            "Initializing env... Done.\n",
            "{'sharpe_ratio': 0.5368181914927719, 'mdd': -6.67832403980157, 'ann_return': 11.19592736026358, 'cum_return': 1.878217567722313}\n",
            "Evaluating for `val` using `^VIX`: 26\n",
            "Initializing env... Done.\n",
            "{'sharpe_ratio': 0.5368181914927719, 'mdd': -6.67832403980157, 'ann_return': 11.19592736026358, 'cum_return': 1.878217567722313}\n"
          ]
        }
      ],
      "source": [
        "#@title compute threshold results\n",
        "\n",
        "split_label = 'val'\n",
        "np_env_config = val_np_env_config\n",
        "num_intervals = 10\n",
        "# default_thresh = 99\n",
        "\n",
        "if run_config.get('if_vix', True):\n",
        "    turbulence_log_name = 'vix'\n",
        "else:\n",
        "    turbulence_log_name = 'ti'\n",
        "    raise NotImplementedError\n",
        "\n",
        "# Calculate threshold grid\n",
        "turb_ary = np_env_config['turbulence_array']\n",
        "threshold_grid = np.linspace(turb_ary.min(), turb_ary.max(), num_intervals)\n",
        "threshold_grid = np.ceil(threshold_grid).astype(int).tolist()\n",
        "threshold_grid.append(max(threshold_grid) + 1)\n",
        "# threshold_grid.append(default_thresh)\n",
        "\n",
        "th_metrics = []  # List to store metrics for all thresholds\n",
        "th_results = {}  # Dictionary to store results per threshold\n",
        "\n",
        "for th in threshold_grid:\n",
        "    result, metrics = evaluate_model(\n",
        "        turbulence_thresh=th,\n",
        "        model_name=model_name,\n",
        "        algo_or_rl_module=rl_module,\n",
        "        run_config=run_config,\n",
        "        np_env_config=np_env_config,\n",
        "        split_label='val',\n",
        "        log_to_wandb=True,\n",
        "        return_metrics=True\n",
        "    )\n",
        "\n",
        "    metrics = {turbulence_log_name: th, **metrics}\n",
        "    th_metrics.append(metrics)\n",
        "    th_results[th] = result\n",
        "\n",
        "# Convert metrics to a DataFrame and log to WandB\n",
        "df = pd.DataFrame(th_metrics).astype({turbulence_log_name: int})"
      ]
    },
    {
      "cell_type": "code",
      "execution_count": null,
      "metadata": {
        "id": "PWIYQhr-M_jo"
      },
      "outputs": [],
      "source": [
        "#@title drop duplicates and zeros\n",
        "metric_cols = df.drop(columns=[turbulence_log_name]).columns # take only true metric columns\n",
        "\n",
        "# drop duplicate rows\n",
        "df.drop_duplicates(\n",
        "    metric_cols,\n",
        "    inplace=True\n",
        ")\n",
        "\n",
        "# drop rows with all metrics equal 0\n",
        "df.drop(\n",
        "    df[\n",
        "        (df[metric_cols] == 0).all(axis=1)\n",
        "    ].index,\n",
        "    inplace=True\n",
        ")"
      ]
    },
    {
      "cell_type": "code",
      "execution_count": null,
      "metadata": {
        "id": "1ANax9dVM9c0"
      },
      "outputs": [],
      "source": [
        "#@title log results\n",
        "\n",
        "# Log table\n",
        "wandb_table = wandb.Table(dataframe=df)\n",
        "wandb.log({f\"threshold_grid_metrics-{split_label}\": wandb_table})\n",
        "\n",
        "# Log metrics for best threshold\n",
        "best_idx = df['sharpe_ratio'].idxmax()  # Use idxmax() instead of argmax()\n",
        "best_metrics = df.loc[best_idx].to_dict()\n",
        "for metric_name, metric_value in best_metrics.items():\n",
        "    formatted_name = f\"{split_label}.{turbulence_log_name}_best.{metric_name}/{model_name}\"\n",
        "    wandb.run.summary[formatted_name] = round(metric_value, 2)  # Use formatted_name instead"
      ]
    },
    {
      "cell_type": "code",
      "execution_count": null,
      "metadata": {
        "colab": {
          "base_uri": "https://localhost:8080/",
          "height": 911
        },
        "id": "N6FPbPpU7SQR",
        "outputId": "527ef937-adc2-4939-c802-3c80dc3badd4"
      },
      "outputs": [
        {
          "ename": "AttributeError",
          "evalue": "'NoneType' object has no attribute 'id'",
          "output_type": "error",
          "traceback": [
            "\u001b[0;31m---------------------------------------------------------------------------\u001b[0m",
            "\u001b[0;31mAttributeError\u001b[0m                            Traceback (most recent call last)",
            "\u001b[0;32m<ipython-input-70-a150d9871218>\u001b[0m in \u001b[0;36m<cell line: 0>\u001b[0;34m()\u001b[0m\n\u001b[1;32m     11\u001b[0m         \u001b[0mmetrics\u001b[0m\u001b[0;34m=\u001b[0m\u001b[0mmetrics\u001b[0m\u001b[0;34m,\u001b[0m\u001b[0;34m\u001b[0m\u001b[0;34m\u001b[0m\u001b[0m\n\u001b[1;32m     12\u001b[0m     )\n\u001b[0;32m---> 13\u001b[0;31m     log_plot_as_artifact(\n\u001b[0m\u001b[1;32m     14\u001b[0m         \u001b[0mfig\u001b[0m\u001b[0;34m,\u001b[0m\u001b[0;34m\u001b[0m\u001b[0;34m\u001b[0m\u001b[0m\n\u001b[1;32m     15\u001b[0m         \u001b[0;34mf\"cum_return-{split_label}-{turbulence_log_name}_{th_value}\"\u001b[0m\u001b[0;34m,\u001b[0m\u001b[0;34m\u001b[0m\u001b[0;34m\u001b[0m\u001b[0m\n",
            "\u001b[0;32m<ipython-input-42-edaf780bb352>\u001b[0m in \u001b[0;36mlog_plot_as_artifact\u001b[0;34m(fig, artifact_name_prefix, artifact_type)\u001b[0m\n\u001b[1;32m     15\u001b[0m         \u001b[0mfilename\u001b[0m \u001b[0;34m(\u001b[0m\u001b[0mstr\u001b[0m\u001b[0;34m)\u001b[0m\u001b[0;34m:\u001b[0m \u001b[0mThe\u001b[0m \u001b[0mfilename\u001b[0m \u001b[0mto\u001b[0m \u001b[0msave\u001b[0m \u001b[0mthe\u001b[0m \u001b[0mplot\u001b[0m \u001b[0;32mas\u001b[0m \u001b[0;34m(\u001b[0m\u001b[0mdefault\u001b[0m \u001b[0;32mis\u001b[0m \u001b[0;34m\"plot.png\"\u001b[0m\u001b[0;34m)\u001b[0m\u001b[0;34m.\u001b[0m\u001b[0;34m\u001b[0m\u001b[0;34m\u001b[0m\u001b[0m\n\u001b[1;32m     16\u001b[0m     \"\"\"\n\u001b[0;32m---> 17\u001b[0;31m     \u001b[0;32massert\u001b[0m \u001b[0mwandb\u001b[0m\u001b[0;34m.\u001b[0m\u001b[0mrun\u001b[0m\u001b[0;34m.\u001b[0m\u001b[0mid\u001b[0m\u001b[0;34m\u001b[0m\u001b[0;34m\u001b[0m\u001b[0m\n\u001b[0m\u001b[1;32m     18\u001b[0m \u001b[0;34m\u001b[0m\u001b[0m\n\u001b[1;32m     19\u001b[0m     \u001b[0;31m# Get full artifact name\u001b[0m\u001b[0;34m\u001b[0m\u001b[0;34m\u001b[0m\u001b[0m\n",
            "\u001b[0;31mAttributeError\u001b[0m: 'NoneType' object has no attribute 'id'"
          ]
        },
        {
          "data": {
            "image/png": "[encoded data removed]",
            "text/plain": [
              "<Figure size 850x700 with 2 Axes>"
            ]
          },
          "metadata": {},
          "output_type": "display_data"
        }
      ],
      "source": [
        "# Plot returns\n",
        "for th_value in df[turbulence_log_name].values:\n",
        "    result = th_results[th_value]\n",
        "    metrics = df.drop(columns=[turbulence_log_name])[\n",
        "        df[turbulence_log_name] == th_value].iloc[0].to_dict()\n",
        "\n",
        "    fig = plot_results(\n",
        "        **result,\n",
        "        figsize='small',\n",
        "        split_label=split_label,\n",
        "        metrics=metrics,\n",
        "    )\n",
        "    log_plot_as_artifact(\n",
        "        fig,\n",
        "        f\"cum_return-{split_label}-{turbulence_log_name}_{th_value}\",\n",
        "        artifact_type=\"plot\"\n",
        "    )"
      ]
    },
    {
      "cell_type": "code",
      "execution_count": null,
      "metadata": {
        "id": "zIqIcZxhOjSB"
      },
      "outputs": [],
      "source": [
        "wandb.finish()"
      ]
    },
    {
      "cell_type": "markdown",
      "metadata": {
        "id": "UedSXAEv31Q8"
      },
      "source": [
        "# Eval thresholds (func)"
      ]
    },
    {
      "cell_type": "code",
      "execution_count": 56,
      "metadata": {
        "cellView": "form",
        "id": "f_UlX-zrXR4L"
      },
      "outputs": [],
      "source": [
        "#@title load_rl_module\n",
        "\n",
        "import ray\n",
        "from ray.rllib.core import DEFAULT_MODULE_ID\n",
        "from ray.rllib.core.rl_module.rl_module import RLModule\n",
        "\n",
        "# Initialize Ray\n",
        "# ray.init(ignore_reinit_error=True)\n",
        "\n",
        "def load_rl_module(model_name, trained_models_dir=\"trained_models\"):\n",
        "    ckpt_path = os.path.join(\n",
        "        trained_models_dir,\n",
        "        model_name,\n",
        "        \"learner_group\",\n",
        "        \"learner\",\n",
        "        \"rl_module\",\n",
        "        DEFAULT_MODULE_ID,\n",
        "    )\n",
        "\n",
        "    # Path to checkpoint\n",
        "    rl_module = RLModule.from_checkpoint(\n",
        "        os.path.abspath(ckpt_path)\n",
        "    )\n",
        "    return rl_module"
      ]
    },
    {
      "cell_type": "code",
      "execution_count": 57,
      "metadata": {
        "cellView": "form",
        "id": "QFzk5J6VXKL4"
      },
      "outputs": [],
      "source": [
        "#@title Download artifacts\n",
        "\n",
        "def download_artifacts(run_id, artifact_types=['trained_models']):\n",
        "    # Initialize the W&B API\n",
        "    api = wandb.Api()\n",
        "\n",
        "    # Retrieve the run\n",
        "    run = api.run(f\"{ENTITY}/{PROJECT}/{run_id}\")\n",
        "\n",
        "    # Iterate over the artifacts used or logged by the run\n",
        "    for artifact in run.logged_artifacts():\n",
        "        if artifact.type in artifact_types:\n",
        "            artifact_folder = f'./{artifact.type}'\n",
        "            !rm -rf artifact_folder\n",
        "            artifact.download(artifact_folder)"
      ]
    },
    {
      "cell_type": "code",
      "execution_count": 58,
      "metadata": {
        "id": "H-l9U3K9TnlB"
      },
      "outputs": [],
      "source": [
        "#@title log_eval_results\n",
        "\n",
        "def log_eval_results(\n",
        "        model_name,\n",
        "        metrics,\n",
        "        split_label,\n",
        "        turbulence_log_name,\n",
        "        turbulence_thresh=None,\n",
        "        postfix=None\n",
        "    ):\n",
        "\n",
        "    if turbulence_thresh is None:\n",
        "        assert postfix in ['best', 'chosen']\n",
        "\n",
        "    if postfix is None:\n",
        "        assert turbulence_thresh is not None\n",
        "        postfix = turbulence_thresh\n",
        "\n",
        "    for metric_name, metric_value in metrics.items():\n",
        "        formatted_name = f\"{split_label}.{turbulence_log_name}_{postfix}.{metric_name}/{model_name}\"\n",
        "        wandb.run.summary[formatted_name] = round(metric_value, 2)  # Use formatted_name instead"
      ]
    },
    {
      "cell_type": "code",
      "execution_count": 112,
      "metadata": {
        "cellView": "form",
        "id": "2KiSe6zgPZnM"
      },
      "outputs": [],
      "source": [
        "#@title func: evaluate_threshold_grid\n",
        "\n",
        "import numpy as np\n",
        "import pandas as pd\n",
        "import wandb\n",
        "\n",
        "def evaluate_threshold_grid(\n",
        "    algo_or_rl_module,\n",
        "    model_name,\n",
        "    run_config,\n",
        "    np_env_config,\n",
        "    num_intervals=10,\n",
        "    split_label='val',\n",
        "    chosen_th=None\n",
        "):\n",
        "\n",
        "    if run_config.get('if_vix', True):\n",
        "        turbulence_log_name = 'vix'\n",
        "    else:\n",
        "        turbulence_log_name = 'ti'\n",
        "        raise NotImplementedError\n",
        "\n",
        "    # Calculate threshold grid\n",
        "    turb_ary = np_env_config['turbulence_array']\n",
        "    threshold_grid = np.linspace(turb_ary.min(), turb_ary.max(), num_intervals)\n",
        "    threshold_grid = np.ceil(threshold_grid).astype(int).tolist()\n",
        "    threshold_grid.append(max(threshold_grid) + 1)\n",
        "    if chosen_th is not None:\n",
        "        threshold_grid.append(chosen_th)\n",
        "\n",
        "    th_metrics = []  # List to store metrics for all thresholds\n",
        "    th_results = {}  # Dictionary to store results per threshold\n",
        "\n",
        "    for th in threshold_grid:\n",
        "        result, metrics = evaluate_model(\n",
        "            turbulence_thresh=th,\n",
        "            model_name=model_name,\n",
        "            algo_or_rl_module=algo_or_rl_module,\n",
        "            run_config=run_config,\n",
        "            np_env_config=np_env_config,\n",
        "            split_label=split_label,\n",
        "            log_to_wandb=True,\n",
        "            return_metrics=True\n",
        "        )\n",
        "\n",
        "        metrics = {turbulence_log_name: th, **metrics}\n",
        "        th_metrics.append(metrics)\n",
        "        th_results[th] = result\n",
        "\n",
        "    # Convert metrics to a DataFrame and log to WandB\n",
        "    df = pd.DataFrame(th_metrics).astype({turbulence_log_name: int})\n",
        "    metric_cols = df.drop(columns=[turbulence_log_name]).columns # take only true metric columns\n",
        "\n",
        "    # Identify the protected row where turbulence_log_name == chosen_th\n",
        "    protected_row = df[df[turbulence_log_name] == chosen_th].tail(1)  # Keep only the last occurrence\n",
        "\n",
        "    # Drop duplicate rows (except the protected one)\n",
        "    df = df.drop_duplicates(metric_cols, keep=\"last\")\n",
        "\n",
        "    # Drop rows where all metric columns are 0, excluding the protected row\n",
        "    df = df[~((df[metric_cols] == 0).all(axis=1) & ~df.index.isin(protected_row.index))]\n",
        "\n",
        "\n",
        "    wandb_table = wandb.Table(dataframe=df)\n",
        "    wandb.log({f\"threshold_grid_metrics-{split_label}\": wandb_table})\n",
        "\n",
        "    # Log metrics for best threshold\n",
        "    best_idx = df['sharpe_ratio'].idxmax()  # Use idxmax() instead of argmax()\n",
        "    best_metrics = df.loc[best_idx].to_dict()\n",
        "    best_metrics[turbulence_log_name] = int(best_metrics[turbulence_log_name])\n",
        "    log_eval_results(model_name, best_metrics, split_label, turbulence_log_name, 'best')\n",
        "\n",
        "    # Log metrics for chosen threshold (if any)\n",
        "    if chosen_th is not None:\n",
        "        chosen_metrics = df[df[turbulence_log_name] == chosen_th].iloc[0].to_dict()\n",
        "        log_eval_results(model_name, chosen_metrics, split_label, turbulence_log_name, 'chosen')\n",
        "\n",
        "    # Plot returns\n",
        "    figs = []\n",
        "    fig_names = []\n",
        "    fig_collection_name = f\"cum_return-{split_label}-{turbulence_log_name}\"\n",
        "    for th_value in df[turbulence_log_name].values:\n",
        "        result = th_results[th_value]\n",
        "        metrics = df.drop(columns=[turbulence_log_name])[\n",
        "            df[turbulence_log_name] == th_value].iloc[0].to_dict()\n",
        "\n",
        "        fig = plot_results(\n",
        "            **result,\n",
        "            figsize='small',\n",
        "            split_label=split_label,\n",
        "            metrics=metrics,\n",
        "        )\n",
        "        fig_name = f\"{fig_collection_name}_{th_value}\"\n",
        "\n",
        "        figs.append(fig)\n",
        "        fig_names.append(fig_name)\n",
        "\n",
        "    batch_log_plots_as_artifact(\n",
        "        figs,\n",
        "        fig_names,\n",
        "        artifact_name_prefix=fig_collection_name\n",
        "    )\n",
        "\n",
        "    best_th = best_metrics[turbulence_log_name]\n",
        "    return best_th"
      ]
    },
    {
      "cell_type": "code",
      "execution_count": 60,
      "metadata": {
        "cellView": "form",
        "id": "N2JCHB8ibDce"
      },
      "outputs": [],
      "source": [
        "#@title build_quarterly_train_val_test\n",
        "from finrl.meta.data_processors.processor_yahoofinance import YahooFinanceProcessor\n",
        "\n",
        "def build_quarterly_train_val_test(config):\n",
        "    date_range = {key: pd.Timestamp(date) for key, date in config['date_range'].items()}\n",
        "\n",
        "    train_start_date = date_range['train_start_date']\n",
        "    val_start_date = date_range['val_start_date']\n",
        "    test_start_date = date_range['test_start_date']\n",
        "    test_end_date = date_range['test_end_date']\n",
        "\n",
        "    train_env_config = get_env_config(\n",
        "        start_date=date_range['train_start_date'],\n",
        "        end_date=date_range['val_start_date'],\n",
        "        if_train=False\n",
        "    )\n",
        "\n",
        "    val_env_config = get_env_config(\n",
        "        start_date=date_range['val_start_date'],\n",
        "        end_date=date_range['test_start_date'],\n",
        "        if_train=True\n",
        "    )\n",
        "\n",
        "    test_env_config = get_env_config(\n",
        "        start_date=date_range['test_start_date'],\n",
        "        end_date=date_range['test_end_date'],\n",
        "        if_train=False\n",
        "    )\n",
        "\n",
        "    dataset_name = get_quarterly_dataset_name(\n",
        "        config['stock_index_name'], train_start_date, val_start_date, test_start_date\n",
        "    )\n",
        "\n",
        "    config.update({\n",
        "        \"dataset_name\": dataset_name,\n",
        "        \"train.num_datapoints\": len(train_env_config['price_array']),\n",
        "        \"val.num_datapoints\": len(val_env_config['price_array']),\n",
        "        \"test.num_datapoints\": len(test_env_config['price_array']),\n",
        "    })\n",
        "\n",
        "    return train_env_config, val_env_config, test_env_config\n",
        "\n",
        "# train_env_config, val_env_config, test_env_config = build_quarterly_train_val_test(config)"
      ]
    },
    {
      "cell_type": "code",
      "source": [
        "#@title delete_artifacts (run)\n",
        "import wandb\n",
        "from tqdm.notebook import tqdm\n",
        "\n",
        "def delete_artifacts(\n",
        "        run_id,\n",
        "        types_to_delete = [],\n",
        "    ):\n",
        "    assert len(types_to_delete) > 0\n",
        "\n",
        "    api = wandb.Api()\n",
        "    run = api.run(f\"{ENTITY}/{PROJECT}/{run_id}\")\n",
        "    all_artifact_types = []\n",
        "    for artifact in tqdm(run.logged_artifacts(), desc=run_id, leave=False):\n",
        "        # all_artifact_types.append(artifact.type)\n",
        "        if artifact.type in types_to_delete:\n",
        "            artifact.delete(delete_aliases=True)\n",
        "\n",
        "    # set(all_artifact_types)\n",
        "\n",
        "# RUN_ID = \"c6xrvir4\"  # Replace with the actual run ID\n",
        "# delete_artifacts(\n",
        "#     RUN_ID,\n",
        "#     types_to_delete = [\n",
        "#         'plot',\n",
        "#     ]\n",
        "# )"
      ],
      "metadata": {
        "cellView": "form",
        "id": "XrQuPvOT-Sju"
      },
      "execution_count": 95,
      "outputs": []
    },
    {
      "cell_type": "code",
      "source": [
        "#@title delete_artifacts (sweep)\n",
        "\n",
        "# SWEEP_ID = 'v9ciq41s'\n",
        "\n",
        "# api = wandb.Api()\n",
        "# sweep_runs = api.sweep(f\"{ENTITY}/{PROJECT}/{SWEEP_ID}\").runs\n",
        "# for run in tqdm(sweep_runs, desc=\"Deleting files in sweep\"):\n",
        "#     delete_artifacts(\n",
        "#         run.id,\n",
        "#         types_to_delete = [\n",
        "#             'plot',\n",
        "#             'run_table'\n",
        "#         ]\n",
        "#     )"
      ],
      "metadata": {
        "cellView": "form",
        "id": "Sv9Ant5QBBdk"
      },
      "execution_count": 94,
      "outputs": []
    },
    {
      "cell_type": "code",
      "execution_count": 113,
      "metadata": {
        "cellView": "form",
        "colab": {
          "base_uri": "https://localhost:8080/",
          "height": 1000
        },
        "id": "IMQQ7wk3EvXg",
        "outputId": "cf9c4922-716d-4464-d1b9-f5da96b2e7a1"
      },
      "outputs": [
        {
          "output_type": "display_data",
          "data": {
            "text/plain": [
              "<IPython.core.display.HTML object>"
            ],
            "text/html": [
              "Tracking run with wandb version 0.19.6"
            ]
          },
          "metadata": {}
        },
        {
          "output_type": "display_data",
          "data": {
            "text/plain": [
              "<IPython.core.display.HTML object>"
            ],
            "text/html": [
              "Run data is saved locally in <code>/content/wandb/run-20250213_071404-ioji9jy3</code>"
            ]
          },
          "metadata": {}
        },
        {
          "output_type": "display_data",
          "data": {
            "text/plain": [
              "<IPython.core.display.HTML object>"
            ],
            "text/html": [
              "Resuming run <strong><a href='https://wandb.ai/overfit1010/finrl-dt-replicate/runs/ioji9jy3' target=\"_blank\">DOW-30 | 2015-10 | 2016 Q1 | 2016 Q2 | ioji9jy3</a></strong> to <a href='https://wandb.ai/overfit1010/finrl-dt-replicate' target=\"_blank\">Weights & Biases</a> (<a href='https://wandb.me/developer-guide' target=\"_blank\">docs</a>)<br>Sweep page: <a href='https://wandb.ai/overfit1010/finrl-dt-replicate/sweeps/kxa4poci' target=\"_blank\">https://wandb.ai/overfit1010/finrl-dt-replicate/sweeps/kxa4poci</a>"
            ]
          },
          "metadata": {}
        },
        {
          "output_type": "display_data",
          "data": {
            "text/plain": [
              "<IPython.core.display.HTML object>"
            ],
            "text/html": [
              " View project at <a href='https://wandb.ai/overfit1010/finrl-dt-replicate' target=\"_blank\">https://wandb.ai/overfit1010/finrl-dt-replicate</a>"
            ]
          },
          "metadata": {}
        },
        {
          "output_type": "display_data",
          "data": {
            "text/plain": [
              "<IPython.core.display.HTML object>"
            ],
            "text/html": [
              " View sweep at <a href='https://wandb.ai/overfit1010/finrl-dt-replicate/sweeps/kxa4poci' target=\"_blank\">https://wandb.ai/overfit1010/finrl-dt-replicate/sweeps/kxa4poci</a>"
            ]
          },
          "metadata": {}
        },
        {
          "output_type": "display_data",
          "data": {
            "text/plain": [
              "<IPython.core.display.HTML object>"
            ],
            "text/html": [
              " View run at <a href='https://wandb.ai/overfit1010/finrl-dt-replicate/runs/ioji9jy3' target=\"_blank\">https://wandb.ai/overfit1010/finrl-dt-replicate/runs/ioji9jy3</a>"
            ]
          },
          "metadata": {}
        },
        {
          "output_type": "stream",
          "name": "stderr",
          "text": [
            "\u001b[34m\u001b[1mwandb\u001b[0m:   99 of 99 files downloaded.  \n"
          ]
        },
        {
          "output_type": "stream",
          "name": "stdout",
          "text": [
            "Using cached data: cache/2015-10-01 00:00:00_2016-01-01 00:00:00_1d_e4ea6619c36bd5c7165dda736c285494aa3defe9ac6b9a4e0ed8216efc4875c7.csv\n",
            "Using cached data: cache/2016-01-01 00:00:00_2016-04-01 00:00:00_1d_e4ea6619c36bd5c7165dda736c285494aa3defe9ac6b9a4e0ed8216efc4875c7.csv\n",
            "Creating new data.\n"
          ]
        },
        {
          "output_type": "stream",
          "name": "stderr",
          "text": [
            "[*********************100%***********************]  30 of 30 completed\n",
            "ERROR:yfinance:\n",
            "1 Failed download:\n",
            "ERROR:yfinance:['DOW']: YFPricesMissingError('$%ticker%: possibly delisted; no price data found  (1d 2016-04-01 00:00:00 -> 2016-07-01 00:00:00) (Yahoo error = \"Data doesn\\'t exist for startDate = 1459483200, endDate = 1467345600\")')\n"
          ]
        },
        {
          "output_type": "stream",
          "name": "stdout",
          "text": [
            "NaN data on start date, fill using first valid data.\n",
            "Missing data for ticker:  DOW  . The prices are all NaN. Fill with 0.\n"
          ]
        },
        {
          "output_type": "stream",
          "name": "stderr",
          "text": [
            "\r[*********************100%***********************]  1 of 1 completed\n"
          ]
        },
        {
          "output_type": "stream",
          "name": "stdout",
          "text": [
            "cleaned_vix\n",
            "                    timestamp       open       high    low      close  volume  \\\n",
            "0  2016-04-01 00:00:00-04:00  15.230000  15.280000  13.00  13.100000     0.0   \n",
            "1  2016-04-04 00:00:00-04:00  13.880000  14.240000  13.66  14.120000     0.0   \n",
            "2  2016-04-05 00:00:00-04:00  15.390000  15.720000  14.93  15.420000     0.0   \n",
            "3  2016-04-06 00:00:00-04:00  15.610000  15.980000  14.00  14.090000     0.0   \n",
            "4  2016-04-07 00:00:00-04:00  15.140000  16.770000  14.68  16.160000     0.0   \n",
            "..                       ...        ...        ...    ...        ...     ...   \n",
            "60 2016-06-27 00:00:00-04:00  24.379999  26.719999  22.93  23.850000     0.0   \n",
            "61 2016-06-28 00:00:00-04:00  21.760000  22.070000  18.75  18.750000     0.0   \n",
            "62 2016-06-29 00:00:00-04:00  18.120001  18.270000  16.48  16.639999     0.0   \n",
            "63 2016-06-30 00:00:00-04:00  16.910000  16.990000  15.29  15.630000     0.0   \n",
            "64 2016-07-01 00:00:00-04:00  15.630000  15.630000  15.63  15.630000     0.0   \n",
            "\n",
            "     tic  \n",
            "0   ^VIX  \n",
            "1   ^VIX  \n",
            "2   ^VIX  \n",
            "3   ^VIX  \n",
            "4   ^VIX  \n",
            "..   ...  \n",
            "60  ^VIX  \n",
            "61  ^VIX  \n",
            "62  ^VIX  \n",
            "63  ^VIX  \n",
            "64  ^VIX  \n",
            "\n",
            "[65 rows x 7 columns]\n",
            "cleaned_vix[[\"timestamp\", \"close\"]\n",
            "                    timestamp      close\n",
            "0  2016-04-01 00:00:00-04:00  13.100000\n",
            "1  2016-04-04 00:00:00-04:00  14.120000\n",
            "2  2016-04-05 00:00:00-04:00  15.420000\n",
            "3  2016-04-06 00:00:00-04:00  14.090000\n",
            "4  2016-04-07 00:00:00-04:00  16.160000\n",
            "..                       ...        ...\n",
            "60 2016-06-27 00:00:00-04:00  23.850000\n",
            "61 2016-06-28 00:00:00-04:00  18.750000\n",
            "62 2016-06-29 00:00:00-04:00  16.639999\n",
            "63 2016-06-30 00:00:00-04:00  15.630000\n",
            "64 2016-07-01 00:00:00-04:00  15.630000\n",
            "\n",
            "[65 rows x 2 columns]\n",
            "vix.rename(columns={\"close\": \"^VIX\"}\n",
            "                    timestamp       ^VIX\n",
            "0  2016-04-01 00:00:00-04:00  13.100000\n",
            "1  2016-04-04 00:00:00-04:00  14.120000\n",
            "2  2016-04-05 00:00:00-04:00  15.420000\n",
            "3  2016-04-06 00:00:00-04:00  14.090000\n",
            "4  2016-04-07 00:00:00-04:00  16.160000\n",
            "..                       ...        ...\n",
            "60 2016-06-27 00:00:00-04:00  23.850000\n",
            "61 2016-06-28 00:00:00-04:00  18.750000\n",
            "62 2016-06-29 00:00:00-04:00  16.639999\n",
            "63 2016-06-30 00:00:00-04:00  15.630000\n",
            "64 2016-07-01 00:00:00-04:00  15.630000\n",
            "\n",
            "[65 rows x 2 columns]\n",
            "df\n",
            "                      timestamp        open        high         low  \\\n",
            "0    2016-04-01 00:00:00-04:00   24.743920   25.021431   24.611988   \n",
            "65   2016-04-01 00:00:00-04:00  115.871050  119.284927  115.160471   \n",
            "130  2016-04-01 00:00:00-04:00   53.494775   54.091306   53.126331   \n",
            "195  2016-04-01 00:00:00-04:00  114.254891  115.033299  113.241140   \n",
            "260  2016-04-01 00:00:00-04:00   60.634831   61.612684   59.849341   \n",
            "...                        ...         ...         ...         ...   \n",
            "1689 2016-07-01 00:00:00-04:00  124.330246  124.330246  124.330246   \n",
            "1754 2016-07-01 00:00:00-04:00   69.785797   69.785797   69.785797   \n",
            "1819 2016-07-01 00:00:00-04:00   35.603428   35.603428   35.603428   \n",
            "1884 2016-07-01 00:00:00-04:00   58.237988   58.237988   58.237988   \n",
            "1949 2016-07-01 00:00:00-04:00   20.783386   20.783386   20.783386   \n",
            "\n",
            "           close       volume   tic      macd     boll_ub     boll_lb  \\\n",
            "0      25.019156  103496000.0  AAPL  0.000000         NaN         NaN   \n",
            "65    119.068665    3972200.0  AMGN  0.000000         NaN         NaN   \n",
            "130    53.600044    4167500.0   AXP  0.000000         NaN         NaN   \n",
            "195   114.915634    5328000.0    BA  0.000000         NaN         NaN   \n",
            "260    61.548561    4878300.0   CAT  0.000000         NaN         NaN   \n",
            "...          ...          ...   ...       ...         ...         ...   \n",
            "1689  124.330246          0.0   UNH  1.445358  124.447687  119.493700   \n",
            "1754   69.785797          0.0     V -1.038935   77.647845   68.450717   \n",
            "1819   35.603428          0.0    VZ  0.710298   35.986946   32.333513   \n",
            "1884   58.237988          0.0   WBA  0.548214   60.292102   54.555704   \n",
            "1949   20.783386          0.0   WMT  0.223549   20.743440   19.967179   \n",
            "\n",
            "         rsi_30      cci_30      dx_30  close_30_sma  close_60_sma  \n",
            "0           NaN         NaN        NaN     25.019156     25.019156  \n",
            "65          NaN         NaN        NaN    119.068665    119.068665  \n",
            "130         NaN         NaN        NaN     53.600044     53.600044  \n",
            "195         NaN         NaN        NaN    114.915634    114.915634  \n",
            "260         NaN         NaN        NaN     61.548561     61.548561  \n",
            "...         ...         ...        ...           ...           ...  \n",
            "1689  63.113941  122.821652  25.761426    120.332119    117.478235  \n",
            "1754  42.552367 -165.738059  24.367198     73.477230     73.606205  \n",
            "1819  67.365827  132.899435  38.038900     33.443252     33.021375  \n",
            "1884  53.973081   76.646934  12.103473     56.363866     56.143692  \n",
            "1949  61.475692  234.438361   7.747277     20.256829     19.741481  \n",
            "\n",
            "[1950 rows x 15 columns]\n",
            "Evaluating for `val` using `^VIX`: 14\n",
            "Initializing env... Done.\n",
            "{'sharpe_ratio': 2.016610529934502, 'mdd': -0.1254925192296264, 'ann_return': 26.42964981666951, 'cum_return': 4.0639644901522844}\n",
            "Evaluating for `val` using `^VIX`: 16\n",
            "Initializing env... Done.\n",
            "{'sharpe_ratio': -1.0689232576365373, 'mdd': -3.014400171158617, 'ann_return': -9.269840850441947, 'cum_return': -1.638855866112528}\n",
            "Evaluating for `val` using `^VIX`: 17\n",
            "Initializing env... Done.\n",
            "{'sharpe_ratio': 0.3433223512622766, 'mdd': -1.2376968457994517, 'ann_return': 1.8444918899823026, 'cum_return': 0.31093891557598546}\n",
            "Evaluating for `val` using `^VIX`: 19\n",
            "Initializing env... Done.\n",
            "{'sharpe_ratio': 2.5826979910933012, 'mdd': -1.2659102653971295, 'ann_return': 21.355530289359727, 'cum_return': 3.342416420430309}\n",
            "Evaluating for `val` using `^VIX`: 21\n",
            "Initializing env... Done.\n",
            "{'sharpe_ratio': 2.5815416875667876, 'mdd': -3.44271804114904, 'ann_return': 63.733662438909676, 'cum_return': 8.736192576996894}\n",
            "Evaluating for `val` using `^VIX`: 22\n",
            "Initializing env... Done.\n",
            "{'sharpe_ratio': 0.22199958496231384, 'mdd': -7.55345023390108, 'ann_return': 3.016006186721776, 'cum_return': 0.5060101157464523}\n",
            "Evaluating for `val` using `^VIX`: 24\n",
            "Initializing env... Done.\n",
            "{'sharpe_ratio': -1.3124366465925479, 'mdd': -13.639505542839995, 'ann_return': -30.330073032532635, 'cum_return': -5.954242029595349}\n",
            "Evaluating for `val` using `^VIX`: 25\n",
            "Initializing env... Done.\n",
            "{'sharpe_ratio': 0.2170988669555172, 'mdd': -10.23915738557987, 'ann_return': 3.3498229843078375, 'cum_return': 0.5612574043178902}\n",
            "Evaluating for `val` using `^VIX`: 27\n",
            "Initializing env... Done.\n",
            "{'sharpe_ratio': -0.04361296985829088, 'mdd': -10.406547840612351, 'ann_return': -3.1338913829278447, 'cum_return': -0.5393920947225269}\n",
            "Evaluating for `val` using `^VIX`: 29\n",
            "Initializing env... Done.\n",
            "{'sharpe_ratio': 1.1182124520874754, 'mdd': -9.327143218181547, 'ann_return': 33.57812326166088, 'cum_return': 5.040742587902132}\n",
            "Evaluating for `val` using `^VIX`: 30\n",
            "Initializing env... Done.\n",
            "{'sharpe_ratio': -0.13843819144454617, 'mdd': -14.148468733869072, 'ann_return': -7.372967381669748, 'cum_return': -1.2925405296339887}\n"
          ]
        },
        {
          "output_type": "stream",
          "name": "stderr",
          "text": [
            "\u001b[34m\u001b[1mwandb\u001b[0m: Adding directory to artifact (./cum_return-val-vix)... Done. 0.0s\n"
          ]
        },
        {
          "output_type": "stream",
          "name": "stdout",
          "text": [
            "Evaluating for `test` using `^VIX`: 14\n",
            "Initializing env... Done.\n",
            "{'sharpe_ratio': -3.6223630532867976, 'mdd': -1.5212124069933544, 'ann_return': -7.900733244934866, 'cum_return': -1.4549847889365919}\n",
            "Evaluating for `test` using `^VIX`: 15\n",
            "Initializing env... Done.\n",
            "{'sharpe_ratio': -3.2399966092844052, 'mdd': -3.5634796606102173, 'ann_return': -18.433817071760995, 'cum_return': -3.5634796606102173}\n",
            "Evaluating for `test` using `^VIX`: 16\n",
            "Initializing env... Done.\n",
            "{'sharpe_ratio': -2.9879584994658526, 'mdd': -5.357094874278962, 'ann_return': -26.595062099671562, 'cum_return': -5.357094874278962}\n",
            "Evaluating for `test` using `^VIX`: 18\n",
            "Initializing env... Done.\n",
            "{'sharpe_ratio': 0.22981455308100335, 'mdd': -5.153467965966245, 'ann_return': 2.7648365803988773, 'cum_return': 0.4868658449059149}\n",
            "Evaluating for `test` using `^VIX`: 19\n",
            "Initializing env... Done.\n",
            "{'sharpe_ratio': 0.3176232550602559, 'mdd': -5.153467965966245, 'ann_return': 4.1743324106851, 'cum_return': 0.7309358948670269}\n",
            "Evaluating for `test` using `^VIX`: 21\n",
            "Initializing env... Done.\n",
            "{'sharpe_ratio': 0.7671404851861056, 'mdd': -5.153467965966245, 'ann_return': 11.83849273054365, 'cum_return': 2.012466010486678}\n",
            "Evaluating for `test` using `^VIX`: 22\n",
            "Initializing env... Done.\n",
            "{'sharpe_ratio': -0.2576653245448973, 'mdd': -5.342025321581449, 'ann_return': -7.247271727378656, 'cum_return': -1.3308320617408027}\n",
            "Evaluating for `test` using `^VIX`: 23\n",
            "Initializing env... Done.\n",
            "{'sharpe_ratio': -0.2576653245448973, 'mdd': -5.342025321581449, 'ann_return': -7.247271727378656, 'cum_return': -1.3308320617408027}\n",
            "Evaluating for `test` using `^VIX`: 25\n",
            "Initializing env... Done.\n",
            "{'sharpe_ratio': -0.11314409784211812, 'mdd': -5.341862056099901, 'ann_return': -4.212109244962569, 'cum_return': -0.7634282762488874}\n",
            "Evaluating for `test` using `^VIX`: 26\n",
            "Initializing env... Done.\n",
            "{'sharpe_ratio': 0.47325598574989974, 'mdd': -6.907537290231414, 'ann_return': 9.899952217251284, 'cum_return': 1.6953101812057867}\n",
            "Evaluating for `test` using `^VIX`: 27\n",
            "Initializing env... Done.\n",
            "{'sharpe_ratio': 0.46758516154465, 'mdd': -6.913268473879383, 'ann_return': 9.756659374637366, 'cum_return': 1.6716846685448254}\n",
            "Evaluating for `test` using `^VIX`: 19\n",
            "Initializing env... Done.\n",
            "{'sharpe_ratio': 0.3176232550602559, 'mdd': -5.153467965966245, 'ann_return': 4.1743324106851, 'cum_return': 0.7309358948670269}\n"
          ]
        },
        {
          "output_type": "stream",
          "name": "stderr",
          "text": [
            "\u001b[34m\u001b[1mwandb\u001b[0m: Adding directory to artifact (./cum_return-test-vix)... Done. 0.0s\n"
          ]
        },
        {
          "output_type": "display_data",
          "data": {
            "text/plain": [
              "<IPython.core.display.HTML object>"
            ],
            "text/html": []
          },
          "metadata": {}
        },
        {
          "output_type": "display_data",
          "data": {
            "text/plain": [
              "<IPython.core.display.HTML object>"
            ],
            "text/html": [
              "<br>    <style><br>        .wandb-row {<br>            display: flex;<br>            flex-direction: row;<br>            flex-wrap: wrap;<br>            justify-content: flex-start;<br>            width: 100%;<br>        }<br>        .wandb-col {<br>            display: flex;<br>            flex-direction: column;<br>            flex-basis: 100%;<br>            flex: 1;<br>            padding: 10px;<br>        }<br>    </style><br><div class=\"wandb-row\"><div class=\"wandb-col\"><h3>Run summary:</h3><br/><table class=\"wandb\"><tr><td>run.duration_minutes</td><td>2.1</td></tr><tr><td>test.vix_14.ann_return/ppo</td><td>-7.9</td></tr><tr><td>test.vix_14.cum_return/ppo</td><td>-1.45</td></tr><tr><td>test.vix_14.mdd/ppo</td><td>-1.52</td></tr><tr><td>test.vix_14.sharpe_ratio/ppo</td><td>-3.62</td></tr><tr><td>test.vix_15.ann_return/ppo</td><td>-18.43</td></tr><tr><td>test.vix_15.cum_return/ppo</td><td>-3.56</td></tr><tr><td>test.vix_15.mdd/ppo</td><td>-3.56</td></tr><tr><td>test.vix_15.sharpe_ratio/ppo</td><td>-3.24</td></tr><tr><td>test.vix_16.ann_return/ppo</td><td>-26.6</td></tr><tr><td>test.vix_16.cum_return/ppo</td><td>-5.36</td></tr><tr><td>test.vix_16.mdd/ppo</td><td>-5.36</td></tr><tr><td>test.vix_16.sharpe_ratio/ppo</td><td>-2.99</td></tr><tr><td>test.vix_17.ann_return/ppo</td><td>9.35</td></tr><tr><td>test.vix_17.cum_return/ppo</td><td>1.53</td></tr><tr><td>test.vix_17.mdd/ppo</td><td>-0.87</td></tr><tr><td>test.vix_17.sharpe_ratio/ppo</td><td>1.93</td></tr><tr><td>test.vix_18.ann_return/ppo</td><td>2.76</td></tr><tr><td>test.vix_18.cum_return/ppo</td><td>0.49</td></tr><tr><td>test.vix_18.mdd/ppo</td><td>-5.15</td></tr><tr><td>test.vix_18.sharpe_ratio/ppo</td><td>0.23</td></tr><tr><td>test.vix_19.ann_return/ppo</td><td>4.17</td></tr><tr><td>test.vix_19.cum_return/ppo</td><td>0.73</td></tr><tr><td>test.vix_19.mdd/ppo</td><td>-5.15</td></tr><tr><td>test.vix_19.sharpe_ratio/ppo</td><td>0.32</td></tr><tr><td>test.vix_21.ann_return/ppo</td><td>11.84</td></tr><tr><td>test.vix_21.cum_return/ppo</td><td>2.01</td></tr><tr><td>test.vix_21.mdd/ppo</td><td>-5.15</td></tr><tr><td>test.vix_21.sharpe_ratio/ppo</td><td>0.77</td></tr><tr><td>test.vix_22.ann_return/ppo</td><td>-7.25</td></tr><tr><td>test.vix_22.cum_return/ppo</td><td>-1.33</td></tr><tr><td>test.vix_22.mdd/ppo</td><td>-5.34</td></tr><tr><td>test.vix_22.sharpe_ratio/ppo</td><td>-0.26</td></tr><tr><td>test.vix_23.ann_return/ppo</td><td>-7.25</td></tr><tr><td>test.vix_23.cum_return/ppo</td><td>-1.33</td></tr><tr><td>test.vix_23.mdd/ppo</td><td>-5.34</td></tr><tr><td>test.vix_23.sharpe_ratio/ppo</td><td>-0.26</td></tr><tr><td>test.vix_24.ann_return/ppo</td><td>9.67</td></tr><tr><td>test.vix_24.cum_return/ppo</td><td>1.58</td></tr><tr><td>test.vix_24.mdd/ppo</td><td>-6.78</td></tr><tr><td>test.vix_24.sharpe_ratio/ppo</td><td>0.52</td></tr><tr><td>test.vix_25.ann_return/ppo</td><td>-4.21</td></tr><tr><td>test.vix_25.cum_return/ppo</td><td>-0.76</td></tr><tr><td>test.vix_25.mdd/ppo</td><td>-5.34</td></tr><tr><td>test.vix_25.sharpe_ratio/ppo</td><td>-0.11</td></tr><tr><td>test.vix_26.ann_return/ppo</td><td>9.9</td></tr><tr><td>test.vix_26.cum_return/ppo</td><td>1.7</td></tr><tr><td>test.vix_26.mdd/ppo</td><td>-6.91</td></tr><tr><td>test.vix_26.sharpe_ratio/ppo</td><td>0.47</td></tr><tr><td>test.vix_27.ann_return/ppo</td><td>9.76</td></tr><tr><td>test.vix_27.cum_return/ppo</td><td>1.67</td></tr><tr><td>test.vix_27.mdd/ppo</td><td>-6.91</td></tr><tr><td>test.vix_27.sharpe_ratio/ppo</td><td>0.47</td></tr><tr><td>test.vix_29.ann_return/ppo</td><td>66.15</td></tr><tr><td>test.vix_29.cum_return/ppo</td><td>9.01</td></tr><tr><td>test.vix_29.mdd/ppo</td><td>-7.15</td></tr><tr><td>test.vix_29.sharpe_ratio/ppo</td><td>1.71</td></tr><tr><td>test.vix_30.ann_return/ppo</td><td>66.15</td></tr><tr><td>test.vix_30.cum_return/ppo</td><td>9.01</td></tr><tr><td>test.vix_30.mdd/ppo</td><td>-7.15</td></tr><tr><td>test.vix_30.sharpe_ratio/ppo</td><td>1.71</td></tr><tr><td>test.vix_best.ann_return/ppo</td><td>11.84</td></tr><tr><td>test.vix_best.cum_return/ppo</td><td>2.01</td></tr><tr><td>test.vix_best.mdd/ppo</td><td>-5.15</td></tr><tr><td>test.vix_best.sharpe_ratio/ppo</td><td>0.77</td></tr><tr><td>test.vix_best.vix/ppo</td><td>21</td></tr><tr><td>test.vix_chosen.ann_return/ppo</td><td>4.17</td></tr><tr><td>test.vix_chosen.cum_return/ppo</td><td>0.73</td></tr><tr><td>test.vix_chosen.mdd/ppo</td><td>-5.15</td></tr><tr><td>test.vix_chosen.sharpe_ratio/ppo</td><td>0.32</td></tr><tr><td>test.vix_chosen.vix/ppo</td><td>19</td></tr><tr><td>train.ann_return/ppo</td><td>55.69771</td></tr><tr><td>train.cum_return/ppo</td><td>230.02686</td></tr><tr><td>train.duration_minutes/ppo</td><td>1.4</td></tr><tr><td>train.mdd/ppo</td><td>-23.87586</td></tr><tr><td>train.sharpe_ratio/ppo</td><td>1.27143</td></tr><tr><td>val.ann_return/ppo</td><td>2702.48873</td></tr><tr><td>val.cum_return/ppo</td><td>10.3446</td></tr><tr><td>val.mdd/ppo</td><td>-4.3527</td></tr><tr><td>val.sharpe_ratio/ppo</td><td>7.03323</td></tr><tr><td>val.vix_14.ann_return/ppo</td><td>26.43</td></tr><tr><td>val.vix_14.cum_return/ppo</td><td>4.06</td></tr><tr><td>val.vix_14.mdd/ppo</td><td>-0.13</td></tr><tr><td>val.vix_14.sharpe_ratio/ppo</td><td>2.02</td></tr><tr><td>val.vix_15.ann_return/ppo</td><td>-1.87</td></tr><tr><td>val.vix_15.cum_return/ppo</td><td>-0.33</td></tr><tr><td>val.vix_15.mdd/ppo</td><td>-0.41</td></tr><tr><td>val.vix_15.sharpe_ratio/ppo</td><td>-2.92</td></tr><tr><td>val.vix_16.ann_return/ppo</td><td>-9.27</td></tr><tr><td>val.vix_16.cum_return/ppo</td><td>-1.64</td></tr><tr><td>val.vix_16.mdd/ppo</td><td>-3.01</td></tr><tr><td>val.vix_16.sharpe_ratio/ppo</td><td>-1.07</td></tr><tr><td>val.vix_17.ann_return/ppo</td><td>1.84</td></tr><tr><td>val.vix_17.cum_return/ppo</td><td>0.31</td></tr><tr><td>val.vix_17.mdd/ppo</td><td>-1.24</td></tr><tr><td>val.vix_17.sharpe_ratio/ppo</td><td>0.34</td></tr><tr><td>val.vix_18.ann_return/ppo</td><td>-12.57</td></tr><tr><td>val.vix_18.cum_return/ppo</td><td>-2.33</td></tr><tr><td>val.vix_18.mdd/ppo</td><td>-5.86</td></tr><tr><td>val.vix_18.sharpe_ratio/ppo</td><td>-1.13</td></tr><tr><td>val.vix_19.ann_return/ppo</td><td>21.36</td></tr><tr><td>val.vix_19.cum_return/ppo</td><td>3.34</td></tr><tr><td>val.vix_19.mdd/ppo</td><td>-1.27</td></tr><tr><td>val.vix_19.sharpe_ratio/ppo</td><td>2.58</td></tr><tr><td>val.vix_20.ann_return/ppo</td><td>-19.03</td></tr><tr><td>val.vix_20.cum_return/ppo</td><td>-3.63</td></tr><tr><td>val.vix_20.mdd/ppo</td><td>-9.42</td></tr><tr><td>val.vix_20.sharpe_ratio/ppo</td><td>-1.09</td></tr><tr><td>val.vix_21.ann_return/ppo</td><td>63.73</td></tr><tr><td>val.vix_21.cum_return/ppo</td><td>8.74</td></tr><tr><td>val.vix_21.mdd/ppo</td><td>-3.44</td></tr><tr><td>val.vix_21.sharpe_ratio/ppo</td><td>2.58</td></tr><tr><td>val.vix_22.ann_return/ppo</td><td>3.02</td></tr><tr><td>val.vix_22.cum_return/ppo</td><td>0.51</td></tr><tr><td>val.vix_22.mdd/ppo</td><td>-7.55</td></tr><tr><td>val.vix_22.sharpe_ratio/ppo</td><td>0.22</td></tr><tr><td>val.vix_23.ann_return/ppo</td><td>2.92</td></tr><tr><td>val.vix_23.cum_return/ppo</td><td>0.51</td></tr><tr><td>val.vix_23.mdd/ppo</td><td>-7.67</td></tr><tr><td>val.vix_23.sharpe_ratio/ppo</td><td>0.21</td></tr><tr><td>val.vix_24.ann_return/ppo</td><td>-30.33</td></tr><tr><td>val.vix_24.cum_return/ppo</td><td>-5.95</td></tr><tr><td>val.vix_24.mdd/ppo</td><td>-13.64</td></tr><tr><td>val.vix_24.sharpe_ratio/ppo</td><td>-1.31</td></tr><tr><td>val.vix_25.ann_return/ppo</td><td>3.35</td></tr><tr><td>val.vix_25.cum_return/ppo</td><td>0.56</td></tr><tr><td>val.vix_25.mdd/ppo</td><td>-10.24</td></tr><tr><td>val.vix_25.sharpe_ratio/ppo</td><td>0.22</td></tr><tr><td>val.vix_26.ann_return/ppo</td><td>11.2</td></tr><tr><td>val.vix_26.cum_return/ppo</td><td>1.88</td></tr><tr><td>val.vix_26.mdd/ppo</td><td>-6.68</td></tr><tr><td>val.vix_26.sharpe_ratio/ppo</td><td>0.54</td></tr><tr><td>val.vix_27.ann_return/ppo</td><td>-3.13</td></tr><tr><td>val.vix_27.cum_return/ppo</td><td>-0.54</td></tr><tr><td>val.vix_27.mdd/ppo</td><td>-10.41</td></tr><tr><td>val.vix_27.sharpe_ratio/ppo</td><td>-0.04</td></tr><tr><td>val.vix_29.ann_return/ppo</td><td>33.58</td></tr><tr><td>val.vix_29.cum_return/ppo</td><td>5.04</td></tr><tr><td>val.vix_29.mdd/ppo</td><td>-9.33</td></tr><tr><td>val.vix_29.sharpe_ratio/ppo</td><td>1.12</td></tr><tr><td>val.vix_30.ann_return/ppo</td><td>-7.37</td></tr><tr><td>val.vix_30.cum_return/ppo</td><td>-1.29</td></tr><tr><td>val.vix_30.mdd/ppo</td><td>-14.15</td></tr><tr><td>val.vix_30.sharpe_ratio/ppo</td><td>-0.14</td></tr><tr><td>val.vix_best.ann_return/ppo</td><td>21.36</td></tr><tr><td>val.vix_best.cum_return/ppo</td><td>3.34</td></tr><tr><td>val.vix_best.mdd/ppo</td><td>-1.27</td></tr><tr><td>val.vix_best.sharpe_ratio/ppo</td><td>2.58</td></tr><tr><td>val.vix_best.vix/ppo</td><td>19</td></tr></table><br/></div></div>"
            ]
          },
          "metadata": {}
        },
        {
          "output_type": "display_data",
          "data": {
            "text/plain": [
              "<IPython.core.display.HTML object>"
            ],
            "text/html": [
              " View run <strong style=\"color:#cdcd00\">DOW-30 | 2015-10 | 2016 Q1 | 2016 Q2 | ioji9jy3</strong> at: <a href='https://wandb.ai/overfit1010/finrl-dt-replicate/runs/ioji9jy3' target=\"_blank\">https://wandb.ai/overfit1010/finrl-dt-replicate/runs/ioji9jy3</a><br> View project at: <a href='https://wandb.ai/overfit1010/finrl-dt-replicate' target=\"_blank\">https://wandb.ai/overfit1010/finrl-dt-replicate</a><br>Synced 5 W&B file(s), 2 media file(s), 27 artifact file(s) and 0 other file(s)"
            ]
          },
          "metadata": {}
        },
        {
          "output_type": "display_data",
          "data": {
            "text/plain": [
              "<IPython.core.display.HTML object>"
            ],
            "text/html": [
              "Find logs at: <code>./wandb/run-20250213_071404-ioji9jy3/logs</code>"
            ]
          },
          "metadata": {}
        }
      ],
      "source": [
        "#@title evaluate_threshold_grid (run)\n",
        "\n",
        "import wandb\n",
        "\n",
        "RUN_ID = \"ioji9jy3\"  # Replace with the actual run ID\n",
        "\n",
        "wandb.finish()\n",
        "run = wandb.init(project=PROJECT, id=RUN_ID, resume='must')\n",
        "download_artifacts(RUN_ID)\n",
        "rl_module = load_rl_module(model_name)\n",
        "\n",
        "(\n",
        "    train_np_env_config,\n",
        "    val_np_env_config,\n",
        "    test_np_env_config\n",
        ") = build_quarterly_train_val_test(run.config)\n",
        "\n",
        "val_best_th = evaluate_threshold_grid(\n",
        "    rl_module,\n",
        "    model_name,\n",
        "    run_config,\n",
        "    val_np_env_config,\n",
        "    split_label='val',\n",
        ")\n",
        "\n",
        "_ = evaluate_threshold_grid(\n",
        "    rl_module,\n",
        "    model_name,\n",
        "    run_config,\n",
        "    test_np_env_config,\n",
        "    split_label='test',\n",
        "    chosen_th=val_best_th\n",
        ")\n",
        "\n",
        "wandb.finish()"
      ]
    },
    {
      "cell_type": "code",
      "execution_count": null,
      "metadata": {
        "cellView": "form",
        "colab": {
          "background_save": true,
          "base_uri": "https://localhost:8080/",
          "height": 1000
        },
        "id": "ixFmmc2vGpEs",
        "outputId": "c0cf7969-2197-4814-873c-babea9e11137"
      },
      "outputs": [
        {
          "output_type": "display_data",
          "data": {
            "text/plain": [
              "<IPython.core.display.HTML object>"
            ],
            "text/html": [
              "Tracking run with wandb version 0.19.6"
            ]
          },
          "metadata": {}
        },
        {
          "output_type": "display_data",
          "data": {
            "text/plain": [
              "<IPython.core.display.HTML object>"
            ],
            "text/html": [
              "Run data is saved locally in <code>/content/wandb/run-20250213_072026-c6xrvir4</code>"
            ]
          },
          "metadata": {}
        },
        {
          "output_type": "display_data",
          "data": {
            "text/plain": [
              "<IPython.core.display.HTML object>"
            ],
            "text/html": [
              "Resuming run <strong><a href='https://wandb.ai/overfit1010/finrl-dt-replicate/runs/c6xrvir4' target=\"_blank\">DOW-30 | 2009-01 | 2015 Q4 | 2016 Q1 | c6xrvir4</a></strong> to <a href='https://wandb.ai/overfit1010/finrl-dt-replicate' target=\"_blank\">Weights & Biases</a> (<a href='https://wandb.me/developer-guide' target=\"_blank\">docs</a>)<br>Sweep page: <a href='https://wandb.ai/overfit1010/finrl-dt-replicate/sweeps/v9ciq41s' target=\"_blank\">https://wandb.ai/overfit1010/finrl-dt-replicate/sweeps/v9ciq41s</a>"
            ]
          },
          "metadata": {}
        },
        {
          "output_type": "display_data",
          "data": {
            "text/plain": [
              "<IPython.core.display.HTML object>"
            ],
            "text/html": [
              " View project at <a href='https://wandb.ai/overfit1010/finrl-dt-replicate' target=\"_blank\">https://wandb.ai/overfit1010/finrl-dt-replicate</a>"
            ]
          },
          "metadata": {}
        },
        {
          "output_type": "display_data",
          "data": {
            "text/plain": [
              "<IPython.core.display.HTML object>"
            ],
            "text/html": [
              " View sweep at <a href='https://wandb.ai/overfit1010/finrl-dt-replicate/sweeps/v9ciq41s' target=\"_blank\">https://wandb.ai/overfit1010/finrl-dt-replicate/sweeps/v9ciq41s</a>"
            ]
          },
          "metadata": {}
        },
        {
          "output_type": "display_data",
          "data": {
            "text/plain": [
              "<IPython.core.display.HTML object>"
            ],
            "text/html": [
              " View run at <a href='https://wandb.ai/overfit1010/finrl-dt-replicate/runs/c6xrvir4' target=\"_blank\">https://wandb.ai/overfit1010/finrl-dt-replicate/runs/c6xrvir4</a>"
            ]
          },
          "metadata": {}
        },
        {
          "output_type": "stream",
          "name": "stderr",
          "text": [
            "\u001b[34m\u001b[1mwandb\u001b[0m:   99 of 99 files downloaded.  \n"
          ]
        },
        {
          "output_type": "stream",
          "name": "stdout",
          "text": [
            "Creating new data.\n"
          ]
        },
        {
          "output_type": "stream",
          "name": "stderr",
          "text": [
            "[*********************100%***********************]  30 of 30 completed\n",
            "ERROR:yfinance:\n",
            "1 Failed download:\n",
            "ERROR:yfinance:['DOW']: YFPricesMissingError('$%ticker%: possibly delisted; no price data found  (1d 2009-01-01 00:00:00 -> 2015-10-01 00:00:00) (Yahoo error = \"Data doesn\\'t exist for startDate = 1230786000, endDate = 1443672000\")')\n"
          ]
        },
        {
          "output_type": "stream",
          "name": "stdout",
          "text": [
            "NaN data on start date, fill using first valid data.\n",
            "Missing data for ticker:  DOW  . The prices are all NaN. Fill with 0.\n"
          ]
        },
        {
          "output_type": "stream",
          "name": "stderr",
          "text": [
            "\r[*********************100%***********************]  1 of 1 completed\n"
          ]
        },
        {
          "output_type": "stream",
          "name": "stdout",
          "text": [
            "cleaned_vix\n",
            "                      timestamp       open       high        low      close  \\\n",
            "0    2009-01-02 00:00:00-05:00  39.580002  39.820000  36.880001  39.189999   \n",
            "1    2009-01-05 00:00:00-05:00  39.240002  40.220001  38.299999  39.080002   \n",
            "2    2009-01-06 00:00:00-05:00  38.060001  39.330002  37.340000  38.560001   \n",
            "3    2009-01-07 00:00:00-05:00  40.290001  43.820000  40.119999  43.389999   \n",
            "4    2009-01-08 00:00:00-05:00  43.380001  44.599998  42.560001  42.560001   \n",
            "...                        ...        ...        ...        ...        ...   \n",
            "1694 2015-09-25 00:00:00-04:00  21.120001  24.290001  20.809999  23.620001   \n",
            "1695 2015-09-28 00:00:00-04:00  25.020000  28.330000  24.940001  27.629999   \n",
            "1696 2015-09-29 00:00:00-04:00  26.570000  28.200001  25.760000  26.830000   \n",
            "1697 2015-09-30 00:00:00-04:00  24.639999  25.879999  23.250000  24.500000   \n",
            "1698 2015-10-01 00:00:00-04:00  24.500000  24.500000  24.500000  24.500000   \n",
            "\n",
            "      volume   tic  \n",
            "0        0.0  ^VIX  \n",
            "1        0.0  ^VIX  \n",
            "2        0.0  ^VIX  \n",
            "3        0.0  ^VIX  \n",
            "4        0.0  ^VIX  \n",
            "...      ...   ...  \n",
            "1694     0.0  ^VIX  \n",
            "1695     0.0  ^VIX  \n",
            "1696     0.0  ^VIX  \n",
            "1697     0.0  ^VIX  \n",
            "1698     0.0  ^VIX  \n",
            "\n",
            "[1699 rows x 7 columns]\n",
            "cleaned_vix[[\"timestamp\", \"close\"]\n",
            "                      timestamp      close\n",
            "0    2009-01-02 00:00:00-05:00  39.189999\n",
            "1    2009-01-05 00:00:00-05:00  39.080002\n",
            "2    2009-01-06 00:00:00-05:00  38.560001\n",
            "3    2009-01-07 00:00:00-05:00  43.389999\n",
            "4    2009-01-08 00:00:00-05:00  42.560001\n",
            "...                        ...        ...\n",
            "1694 2015-09-25 00:00:00-04:00  23.620001\n",
            "1695 2015-09-28 00:00:00-04:00  27.629999\n",
            "1696 2015-09-29 00:00:00-04:00  26.830000\n",
            "1697 2015-09-30 00:00:00-04:00  24.500000\n",
            "1698 2015-10-01 00:00:00-04:00  24.500000\n",
            "\n",
            "[1699 rows x 2 columns]\n",
            "vix.rename(columns={\"close\": \"^VIX\"}\n",
            "                      timestamp       ^VIX\n",
            "0    2009-01-02 00:00:00-05:00  39.189999\n",
            "1    2009-01-05 00:00:00-05:00  39.080002\n",
            "2    2009-01-06 00:00:00-05:00  38.560001\n",
            "3    2009-01-07 00:00:00-05:00  43.389999\n",
            "4    2009-01-08 00:00:00-05:00  42.560001\n",
            "...                        ...        ...\n",
            "1694 2015-09-25 00:00:00-04:00  23.620001\n",
            "1695 2015-09-28 00:00:00-04:00  27.629999\n",
            "1696 2015-09-29 00:00:00-04:00  26.830000\n",
            "1697 2015-09-30 00:00:00-04:00  24.500000\n",
            "1698 2015-10-01 00:00:00-04:00  24.500000\n",
            "\n",
            "[1699 rows x 2 columns]\n",
            "df\n",
            "                       timestamp        open        high         low  \\\n",
            "0     2009-01-02 00:00:00-05:00    2.584438    2.739722    2.562771   \n",
            "1699  2009-01-02 00:00:00-05:00   41.203114   41.547705   40.612388   \n",
            "3398  2009-01-02 00:00:00-05:00   14.389937   15.126095   14.258203   \n",
            "5097  2009-01-02 00:00:00-05:00   32.103409   34.173631   32.088407   \n",
            "6796  2009-01-02 00:00:00-05:00   29.190814   30.536282   29.060817   \n",
            "...                         ...         ...         ...         ...   \n",
            "44173 2015-10-01 00:00:00-04:00  100.833260  100.833260  100.833260   \n",
            "45872 2015-10-01 00:00:00-04:00   65.180573   65.180573   65.180573   \n",
            "47571 2015-10-01 00:00:00-04:00   26.770769   26.770769   26.770769   \n",
            "49270 2015-10-01 00:00:00-04:00   57.329376   57.329376   57.329376   \n",
            "50969 2015-10-01 00:00:00-04:00   18.035305   18.035305   18.035305   \n",
            "\n",
            "            close       volume   tic      macd     boll_ub    boll_lb  \\\n",
            "0        2.730994  746015200.0  AAPL  0.000000         NaN        NaN   \n",
            "1699    41.484413    6547900.0  AMGN  0.000000         NaN        NaN   \n",
            "3398    14.978863   10955700.0   AXP  0.000000         NaN        NaN   \n",
            "5097    33.941105    7010200.0    BA  0.000000         NaN        NaN   \n",
            "6796    30.490784    7117200.0   CAT  0.000000         NaN        NaN   \n",
            "...           ...          ...   ...       ...         ...        ...   \n",
            "44173  100.833260          0.0   UNH -0.378532  109.421062  95.946002   \n",
            "45872   65.180573          0.0     V -0.514412   67.281656  63.799960   \n",
            "47571   26.770769          0.0    VZ -0.408448   28.743380  26.436032   \n",
            "49270   57.329376          0.0   WBA -1.161094   64.242898  56.281941   \n",
            "50969   18.035305          0.0   WMT -0.218408   18.280298  17.486574   \n",
            "\n",
            "          rsi_30      cci_30      dx_30  close_30_sma  close_60_sma  \n",
            "0            NaN         NaN        NaN      2.730994      2.730994  \n",
            "1699         NaN         NaN        NaN     41.484413     41.484413  \n",
            "3398         NaN         NaN        NaN     14.978863     14.978863  \n",
            "5097         NaN         NaN        NaN     33.941105     33.941105  \n",
            "6796         NaN         NaN        NaN     30.490784     30.490784  \n",
            "...          ...         ...        ...           ...           ...  \n",
            "44173  47.626484  -14.186416  14.930408    101.559972    103.533657  \n",
            "45872  48.236483  -34.339658  15.085346     65.710793     67.005033  \n",
            "47571  40.277199 -120.643809  40.910708     27.722812     28.318299  \n",
            "49270  42.489895 -116.981400  27.392372     59.945878     62.424837  \n",
            "50969  42.591540   23.276855  21.995459     17.956868     18.993853  \n",
            "\n",
            "[50970 rows x 15 columns]\n",
            "Using cached data: cache/2015-10-01 00:00:00_2016-01-01 00:00:00_1d_e4ea6619c36bd5c7165dda736c285494aa3defe9ac6b9a4e0ed8216efc4875c7.csv\n",
            "Using cached data: cache/2016-01-01 00:00:00_2016-04-01 00:00:00_1d_e4ea6619c36bd5c7165dda736c285494aa3defe9ac6b9a4e0ed8216efc4875c7.csv\n",
            "Evaluating for `val` using `^VIX`: 15\n",
            "Initializing env... Done.\n",
            "{'sharpe_ratio': 1.6592090970610984, 'mdd': -1.1309868499683438, 'ann_return': 35.062512332877624, 'cum_return': 5.411573913588581}\n",
            "Evaluating for `val` using `^VIX`: 16\n",
            "Initializing env... Done.\n",
            "{'sharpe_ratio': -4.181533509537761, 'mdd': -3.870953215860727, 'ann_return': -18.921905431779905, 'cum_return': -3.6111228842121785}\n",
            "Evaluating for `val` using `^VIX`: 17\n",
            "Initializing env... Done.\n",
            "{'sharpe_ratio': -1.4239727128577402, 'mdd': -4.338462246313127, 'ann_return': -17.217977974267797, 'cum_return': -3.2589712945608773}\n",
            "Evaluating for `val` using `^VIX`: 18\n",
            "Initializing env... Done.\n",
            "{'sharpe_ratio': -1.6781365216978457, 'mdd': -6.132200442244322, 'ann_return': -18.128357786706452, 'cum_return': -3.4463682259632478}\n",
            "Evaluating for `val` using `^VIX`: 19\n",
            "Initializing env... Done.\n",
            "{'sharpe_ratio': -0.1887791976458689, 'mdd': -5.614942446580696, 'ann_return': -3.6913813163906295, 'cum_return': -0.6573346622241079}\n",
            "Evaluating for `val` using `^VIX`: 20\n",
            "Initializing env... Done.\n",
            "{'sharpe_ratio': 0.30659928571965367, 'mdd': -6.177129160026236, 'ann_return': 4.229493642120663, 'cum_return': 0.7289996757784247}\n",
            "Evaluating for `val` using `^VIX`: 21\n",
            "Initializing env... Done.\n",
            "{'sharpe_ratio': 1.7019440394144356, 'mdd': -5.537233416572764, 'ann_return': 41.33272126033272, 'cum_return': 6.253667472164059}\n",
            "Evaluating for `val` using `^VIX`: 23\n",
            "Initializing env... Done.\n",
            "{'sharpe_ratio': 1.5997756846397384, 'mdd': -5.82629571555948, 'ann_return': 40.746637104122186, 'cum_return': 6.1762761754949755}\n",
            "Evaluating for `val` using `^VIX`: 24\n",
            "Initializing env... Done.\n",
            "{'sharpe_ratio': 1.9386435942654088, 'mdd': -5.464031356580986, 'ann_return': 55.47072450429273, 'cum_return': 8.04486769220671}\n",
            "Evaluating for `val` using `^VIX`: 25\n",
            "Initializing env... Done.\n",
            "{'sharpe_ratio': 2.419520874109195, 'mdd': -4.486851337034438, 'ann_return': 87.07465528643358, 'cum_return': 11.608114869795493}\n",
            "Evaluating for `val` using `^VIX`: 26\n",
            "Initializing env... Done.\n",
            "{'sharpe_ratio': 0.7916840843196639, 'mdd': -5.608079853471741, 'ann_return': 18.070235257105892, 'cum_return': 2.955435648683502}\n"
          ]
        },
        {
          "output_type": "stream",
          "name": "stderr",
          "text": [
            "\u001b[34m\u001b[1mwandb\u001b[0m: Adding directory to artifact (./cum_return-val-vix)... Done. 0.0s\n"
          ]
        },
        {
          "output_type": "stream",
          "name": "stdout",
          "text": [
            "Evaluating for `test` using `^VIX`: 14\n",
            "Initializing env... Done.\n",
            "{'sharpe_ratio': -2.0837746209077372, 'mdd': -0.22745579921721945, 'ann_return': -1.3316337460512417, 'cum_return': -0.22745579921721945}\n",
            "Evaluating for `test` using `^VIX`: 16\n",
            "Initializing env... Done.\n",
            "{'sharpe_ratio': 1.132726512770969, 'mdd': -0.5441459215476989, 'ann_return': 3.1321699709017548, 'cum_return': 0.5252522714233637}\n",
            "Evaluating for `test` using `^VIX`: 17\n",
            "Initializing env... Done.\n",
            "{'sharpe_ratio': 2.568980559265425, 'mdd': -0.5725213236898722, 'ann_return': 10.072066357718068, 'cum_return': 1.6434508391532727}\n",
            "Evaluating for `test` using `^VIX`: 19\n",
            "Initializing env... Done.\n",
            "{'sharpe_ratio': 3.7430790542446495, 'mdd': -0.5278581304831895, 'ann_return': 19.6741570022942, 'cum_return': 3.097795515396138}\n",
            "Evaluating for `test` using `^VIX`: 21\n",
            "Initializing env... Done.\n",
            "{'sharpe_ratio': 2.0650775791527223, 'mdd': -2.4369933816108675, 'ann_return': 22.463676751406748, 'cum_return': 3.502105420772554}\n",
            "Evaluating for `test` using `^VIX`: 22\n",
            "Initializing env... Done.\n",
            "{'sharpe_ratio': 1.3781557932882111, 'mdd': -3.2671437818335978, 'ann_return': 16.494314671391397, 'cum_return': 2.6272570160904434}\n",
            "Evaluating for `test` using `^VIX`: 24\n",
            "Initializing env... Done.\n",
            "{'sharpe_ratio': 1.2375937324600395, 'mdd': -3.200114195846472, 'ann_return': 17.231320084230095, 'cum_return': 2.7372563240471792}\n",
            "Evaluating for `test` using `^VIX`: 25\n",
            "Initializing env... Done.\n",
            "{'sharpe_ratio': 1.5751641961784177, 'mdd': -3.2906081627692907, 'ann_return': 26.4155842826453, 'cum_return': 4.061997842590383}\n",
            "Evaluating for `test` using `^VIX`: 27\n",
            "Initializing env... Done.\n",
            "{'sharpe_ratio': 1.4040692293561226, 'mdd': -4.001496489223412, 'ann_return': 27.80729531608086, 'cum_return': 4.255713029342747}\n",
            "Evaluating for `test` using `^VIX`: 29\n",
            "Initializing env... Done.\n",
            "{'sharpe_ratio': 2.74406393208372, 'mdd': -4.482265715198489, 'ann_return': 79.60969522722058, 'cum_return': 10.459029257556947}\n",
            "Evaluating for `test` using `^VIX`: 30\n",
            "Initializing env... Done.\n",
            "{'sharpe_ratio': 2.74406393208372, 'mdd': -4.482265715198489, 'ann_return': 79.60969522722058, 'cum_return': 10.459029257556947}\n",
            "Evaluating for `test` using `^VIX`: 25\n",
            "Initializing env... Done.\n",
            "{'sharpe_ratio': 1.5751641961784177, 'mdd': -3.2906081627692907, 'ann_return': 26.4155842826453, 'cum_return': 4.061997842590383}\n"
          ]
        },
        {
          "output_type": "stream",
          "name": "stderr",
          "text": [
            "\u001b[34m\u001b[1mwandb\u001b[0m: Adding directory to artifact (./cum_return-test-vix)... Done. 0.0s\n"
          ]
        },
        {
          "output_type": "display_data",
          "data": {
            "text/plain": [
              "<IPython.core.display.HTML object>"
            ],
            "text/html": []
          },
          "metadata": {}
        },
        {
          "output_type": "display_data",
          "data": {
            "text/plain": [
              "<IPython.core.display.HTML object>"
            ],
            "text/html": [
              "<br>    <style><br>        .wandb-row {<br>            display: flex;<br>            flex-direction: row;<br>            flex-wrap: wrap;<br>            justify-content: flex-start;<br>            width: 100%;<br>        }<br>        .wandb-col {<br>            display: flex;<br>            flex-direction: column;<br>            flex-basis: 100%;<br>            flex: 1;<br>            padding: 10px;<br>        }<br>    </style><br><div class=\"wandb-row\"><div class=\"wandb-col\"><h3>Run summary:</h3><br/><table class=\"wandb\"><tr><td>run.duration_minutes</td><td>40.2</td></tr><tr><td>test.vix_14.ann_return/ppo</td><td>-1.33</td></tr><tr><td>test.vix_14.cum_return/ppo</td><td>-0.23</td></tr><tr><td>test.vix_14.mdd/ppo</td><td>-0.23</td></tr><tr><td>test.vix_14.sharpe_ratio/ppo</td><td>-2.08</td></tr><tr><td>test.vix_16.ann_return/ppo</td><td>3.13</td></tr><tr><td>test.vix_16.cum_return/ppo</td><td>0.53</td></tr><tr><td>test.vix_16.mdd/ppo</td><td>-0.54</td></tr><tr><td>test.vix_16.sharpe_ratio/ppo</td><td>1.13</td></tr><tr><td>test.vix_17.ann_return/ppo</td><td>10.07</td></tr><tr><td>test.vix_17.cum_return/ppo</td><td>1.64</td></tr><tr><td>test.vix_17.mdd/ppo</td><td>-0.57</td></tr><tr><td>test.vix_17.sharpe_ratio/ppo</td><td>2.57</td></tr><tr><td>test.vix_19.ann_return/ppo</td><td>19.67</td></tr><tr><td>test.vix_19.cum_return/ppo</td><td>3.1</td></tr><tr><td>test.vix_19.mdd/ppo</td><td>-0.53</td></tr><tr><td>test.vix_19.sharpe_ratio/ppo</td><td>3.74</td></tr><tr><td>test.vix_21.ann_return/ppo</td><td>22.46</td></tr><tr><td>test.vix_21.cum_return/ppo</td><td>3.5</td></tr><tr><td>test.vix_21.mdd/ppo</td><td>-2.44</td></tr><tr><td>test.vix_21.sharpe_ratio/ppo</td><td>2.07</td></tr><tr><td>test.vix_22.ann_return/ppo</td><td>16.49</td></tr><tr><td>test.vix_22.cum_return/ppo</td><td>2.63</td></tr><tr><td>test.vix_22.mdd/ppo</td><td>-3.27</td></tr><tr><td>test.vix_22.sharpe_ratio/ppo</td><td>1.38</td></tr><tr><td>test.vix_24.ann_return/ppo</td><td>17.23</td></tr><tr><td>test.vix_24.cum_return/ppo</td><td>2.74</td></tr><tr><td>test.vix_24.mdd/ppo</td><td>-3.2</td></tr><tr><td>test.vix_24.sharpe_ratio/ppo</td><td>1.24</td></tr><tr><td>test.vix_25.ann_return/ppo</td><td>26.42</td></tr><tr><td>test.vix_25.cum_return/ppo</td><td>4.06</td></tr><tr><td>test.vix_25.mdd/ppo</td><td>-3.29</td></tr><tr><td>test.vix_25.sharpe_ratio/ppo</td><td>1.58</td></tr><tr><td>test.vix_26.ann_return/ppo</td><td>24.71</td></tr><tr><td>test.vix_26.cum_return/ppo</td><td>3.82</td></tr><tr><td>test.vix_26.mdd/ppo</td><td>-3.8</td></tr><tr><td>test.vix_26.sharpe_ratio/ppo</td><td>1.34</td></tr><tr><td>test.vix_27.ann_return/ppo</td><td>27.81</td></tr><tr><td>test.vix_27.cum_return/ppo</td><td>4.26</td></tr><tr><td>test.vix_27.mdd/ppo</td><td>-4</td></tr><tr><td>test.vix_27.sharpe_ratio/ppo</td><td>1.4</td></tr><tr><td>test.vix_29.ann_return/ppo</td><td>79.61</td></tr><tr><td>test.vix_29.cum_return/ppo</td><td>10.46</td></tr><tr><td>test.vix_29.mdd/ppo</td><td>-4.48</td></tr><tr><td>test.vix_29.sharpe_ratio/ppo</td><td>2.74</td></tr><tr><td>test.vix_30.ann_return/ppo</td><td>79.61</td></tr><tr><td>test.vix_30.cum_return/ppo</td><td>10.46</td></tr><tr><td>test.vix_30.mdd/ppo</td><td>-4.48</td></tr><tr><td>test.vix_30.sharpe_ratio/ppo</td><td>2.74</td></tr><tr><td>test.vix_best.ann_return/ppo</td><td>19.67</td></tr><tr><td>test.vix_best.cum_return/ppo</td><td>3.1</td></tr><tr><td>test.vix_best.mdd/ppo</td><td>-0.53</td></tr><tr><td>test.vix_best.sharpe_ratio/ppo</td><td>3.74</td></tr><tr><td>test.vix_best.vix/ppo</td><td>19</td></tr><tr><td>test.vix_chosen.ann_return/ppo</td><td>26.42</td></tr><tr><td>test.vix_chosen.cum_return/ppo</td><td>4.06</td></tr><tr><td>test.vix_chosen.mdd/ppo</td><td>-3.29</td></tr><tr><td>test.vix_chosen.sharpe_ratio/ppo</td><td>1.58</td></tr><tr><td>test.vix_chosen.vix/ppo</td><td>25</td></tr><tr><td>train.ann_return/ppo</td><td>75.94536</td></tr><tr><td>train.cum_return/ppo</td><td>279.56624</td></tr><tr><td>train.duration_minutes/ppo</td><td>38.1</td></tr><tr><td>train.mdd/ppo</td><td>-27.39183</td></tr><tr><td>train.sharpe_ratio/ppo</td><td>1.14551</td></tr><tr><td>val.ann_return/ppo</td><td>853.69683</td></tr><tr><td>val.cum_return/ppo</td><td>6.84683</td></tr><tr><td>val.mdd/ppo</td><td>-4.8927</td></tr><tr><td>val.sharpe_ratio/ppo</td><td>8.16081</td></tr><tr><td>val.vix_15.ann_return/ppo</td><td>35.06</td></tr><tr><td>val.vix_15.cum_return/ppo</td><td>5.41</td></tr><tr><td>val.vix_15.mdd/ppo</td><td>-1.13</td></tr><tr><td>val.vix_15.sharpe_ratio/ppo</td><td>1.66</td></tr><tr><td>val.vix_16.ann_return/ppo</td><td>-18.92</td></tr><tr><td>val.vix_16.cum_return/ppo</td><td>-3.61</td></tr><tr><td>val.vix_16.mdd/ppo</td><td>-3.87</td></tr><tr><td>val.vix_16.sharpe_ratio/ppo</td><td>-4.18</td></tr><tr><td>val.vix_17.ann_return/ppo</td><td>-17.22</td></tr><tr><td>val.vix_17.cum_return/ppo</td><td>-3.26</td></tr><tr><td>val.vix_17.mdd/ppo</td><td>-4.34</td></tr><tr><td>val.vix_17.sharpe_ratio/ppo</td><td>-1.42</td></tr><tr><td>val.vix_18.ann_return/ppo</td><td>-18.13</td></tr><tr><td>val.vix_18.cum_return/ppo</td><td>-3.45</td></tr><tr><td>val.vix_18.mdd/ppo</td><td>-6.13</td></tr><tr><td>val.vix_18.sharpe_ratio/ppo</td><td>-1.68</td></tr><tr><td>val.vix_19.ann_return/ppo</td><td>-3.69</td></tr><tr><td>val.vix_19.cum_return/ppo</td><td>-0.66</td></tr><tr><td>val.vix_19.mdd/ppo</td><td>-5.61</td></tr><tr><td>val.vix_19.sharpe_ratio/ppo</td><td>-0.19</td></tr><tr><td>val.vix_20.ann_return/ppo</td><td>4.23</td></tr><tr><td>val.vix_20.cum_return/ppo</td><td>0.73</td></tr><tr><td>val.vix_20.mdd/ppo</td><td>-6.18</td></tr><tr><td>val.vix_20.sharpe_ratio/ppo</td><td>0.31</td></tr><tr><td>val.vix_21.ann_return/ppo</td><td>41.33</td></tr><tr><td>val.vix_21.cum_return/ppo</td><td>6.25</td></tr><tr><td>val.vix_21.mdd/ppo</td><td>-5.54</td></tr><tr><td>val.vix_21.sharpe_ratio/ppo</td><td>1.7</td></tr><tr><td>val.vix_23.ann_return/ppo</td><td>40.75</td></tr><tr><td>val.vix_23.cum_return/ppo</td><td>6.18</td></tr><tr><td>val.vix_23.mdd/ppo</td><td>-5.83</td></tr><tr><td>val.vix_23.sharpe_ratio/ppo</td><td>1.6</td></tr><tr><td>val.vix_24.ann_return/ppo</td><td>55.47</td></tr><tr><td>val.vix_24.cum_return/ppo</td><td>8.04</td></tr><tr><td>val.vix_24.mdd/ppo</td><td>-5.46</td></tr><tr><td>val.vix_24.sharpe_ratio/ppo</td><td>1.94</td></tr><tr><td>val.vix_25.ann_return/ppo</td><td>87.07</td></tr><tr><td>val.vix_25.cum_return/ppo</td><td>11.61</td></tr><tr><td>val.vix_25.mdd/ppo</td><td>-4.49</td></tr><tr><td>val.vix_25.sharpe_ratio/ppo</td><td>2.42</td></tr><tr><td>val.vix_26.ann_return/ppo</td><td>18.07</td></tr><tr><td>val.vix_26.cum_return/ppo</td><td>2.96</td></tr><tr><td>val.vix_26.mdd/ppo</td><td>-5.61</td></tr><tr><td>val.vix_26.sharpe_ratio/ppo</td><td>0.79</td></tr><tr><td>val.vix_best.ann_return/ppo</td><td>87.07</td></tr><tr><td>val.vix_best.cum_return/ppo</td><td>11.61</td></tr><tr><td>val.vix_best.mdd/ppo</td><td>-4.49</td></tr><tr><td>val.vix_best.sharpe_ratio/ppo</td><td>2.42</td></tr><tr><td>val.vix_best.vix/ppo</td><td>25</td></tr></table><br/></div></div>"
            ]
          },
          "metadata": {}
        },
        {
          "output_type": "display_data",
          "data": {
            "text/plain": [
              "<IPython.core.display.HTML object>"
            ],
            "text/html": [
              " View run <strong style=\"color:#cdcd00\">DOW-30 | 2009-01 | 2015 Q4 | 2016 Q1 | c6xrvir4</strong> at: <a href='https://wandb.ai/overfit1010/finrl-dt-replicate/runs/c6xrvir4' target=\"_blank\">https://wandb.ai/overfit1010/finrl-dt-replicate/runs/c6xrvir4</a><br> View project at: <a href='https://wandb.ai/overfit1010/finrl-dt-replicate' target=\"_blank\">https://wandb.ai/overfit1010/finrl-dt-replicate</a><br>Synced 5 W&B file(s), 2 media file(s), 27 artifact file(s) and 0 other file(s)"
            ]
          },
          "metadata": {}
        },
        {
          "output_type": "display_data",
          "data": {
            "text/plain": [
              "<IPython.core.display.HTML object>"
            ],
            "text/html": [
              "Find logs at: <code>./wandb/run-20250213_072026-c6xrvir4/logs</code>"
            ]
          },
          "metadata": {}
        },
        {
          "output_type": "display_data",
          "data": {
            "text/plain": [
              "<IPython.core.display.HTML object>"
            ],
            "text/html": [
              "Tracking run with wandb version 0.19.6"
            ]
          },
          "metadata": {}
        },
        {
          "output_type": "display_data",
          "data": {
            "text/plain": [
              "<IPython.core.display.HTML object>"
            ],
            "text/html": [
              "Run data is saved locally in <code>/content/wandb/run-20250213_072212-z34r51kn</code>"
            ]
          },
          "metadata": {}
        },
        {
          "output_type": "display_data",
          "data": {
            "text/plain": [
              "<IPython.core.display.HTML object>"
            ],
            "text/html": [
              "Resuming run <strong><a href='https://wandb.ai/overfit1010/finrl-dt-replicate/runs/z34r51kn' target=\"_blank\">DOW-30 | 2015-10 | 2016 Q1 | 2016 Q2 | z34r51kn</a></strong> to <a href='https://wandb.ai/overfit1010/finrl-dt-replicate' target=\"_blank\">Weights & Biases</a> (<a href='https://wandb.me/developer-guide' target=\"_blank\">docs</a>)<br>Sweep page: <a href='https://wandb.ai/overfit1010/finrl-dt-replicate/sweeps/v9ciq41s' target=\"_blank\">https://wandb.ai/overfit1010/finrl-dt-replicate/sweeps/v9ciq41s</a>"
            ]
          },
          "metadata": {}
        },
        {
          "output_type": "display_data",
          "data": {
            "text/plain": [
              "<IPython.core.display.HTML object>"
            ],
            "text/html": [
              " View project at <a href='https://wandb.ai/overfit1010/finrl-dt-replicate' target=\"_blank\">https://wandb.ai/overfit1010/finrl-dt-replicate</a>"
            ]
          },
          "metadata": {}
        },
        {
          "output_type": "display_data",
          "data": {
            "text/plain": [
              "<IPython.core.display.HTML object>"
            ],
            "text/html": [
              " View sweep at <a href='https://wandb.ai/overfit1010/finrl-dt-replicate/sweeps/v9ciq41s' target=\"_blank\">https://wandb.ai/overfit1010/finrl-dt-replicate/sweeps/v9ciq41s</a>"
            ]
          },
          "metadata": {}
        },
        {
          "output_type": "display_data",
          "data": {
            "text/plain": [
              "<IPython.core.display.HTML object>"
            ],
            "text/html": [
              " View run at <a href='https://wandb.ai/overfit1010/finrl-dt-replicate/runs/z34r51kn' target=\"_blank\">https://wandb.ai/overfit1010/finrl-dt-replicate/runs/z34r51kn</a>"
            ]
          },
          "metadata": {}
        },
        {
          "output_type": "stream",
          "name": "stderr",
          "text": [
            "\u001b[34m\u001b[1mwandb\u001b[0m:   99 of 99 files downloaded.  \n"
          ]
        },
        {
          "output_type": "stream",
          "name": "stdout",
          "text": [
            "Using cached data: cache/2015-10-01 00:00:00_2016-01-01 00:00:00_1d_e4ea6619c36bd5c7165dda736c285494aa3defe9ac6b9a4e0ed8216efc4875c7.csv\n",
            "Using cached data: cache/2016-01-01 00:00:00_2016-04-01 00:00:00_1d_e4ea6619c36bd5c7165dda736c285494aa3defe9ac6b9a4e0ed8216efc4875c7.csv\n",
            "Using cached data: cache/2016-04-01 00:00:00_2016-07-01 00:00:00_1d_e4ea6619c36bd5c7165dda736c285494aa3defe9ac6b9a4e0ed8216efc4875c7.csv\n",
            "Evaluating for `val` using `^VIX`: 14\n",
            "Initializing env... Done.\n",
            "{'sharpe_ratio': 1.9956721963142385, 'mdd': -0.20522193512349934, 'ann_return': 32.07502258076749, 'cum_return': 4.8390234953347395}\n",
            "Evaluating for `val` using `^VIX`: 16\n",
            "Initializing env... Done.\n",
            "{'sharpe_ratio': 2.3499881869770336, 'mdd': -0.5210414964947172, 'ann_return': 9.636528305604998, 'cum_return': 1.575021614634432}\n",
            "Evaluating for `val` using `^VIX`: 17\n",
            "Initializing env... Done.\n",
            "{'sharpe_ratio': 0.9667621735576084, 'mdd': -1.4140445969473803, 'ann_return': 5.827142402428365, 'cum_return': 0.9666930995209695}\n",
            "Evaluating for `val` using `^VIX`: 19\n",
            "Initializing env... Done.\n",
            "{'sharpe_ratio': 4.326033947998452, 'mdd': -0.6433772479393144, 'ann_return': 35.72726687440051, 'cum_return': 5.325913400824357}\n",
            "Evaluating for `val` using `^VIX`: 21\n",
            "Initializing env... Done.\n",
            "{'sharpe_ratio': 1.6753656837329338, 'mdd': -5.54038934689495, 'ann_return': 31.583508146036586, 'cum_return': 4.772647778644474}\n",
            "Evaluating for `val` using `^VIX`: 22\n",
            "Initializing env... Done.\n",
            "{'sharpe_ratio': 0.1563901377883715, 'mdd': -7.494640991092203, 'ann_return': 1.6973225994192598, 'cum_return': 0.286301939130979}\n",
            "Evaluating for `val` using `^VIX`: 24\n",
            "Initializing env... Done.\n",
            "{'sharpe_ratio': -1.4092459386404497, 'mdd': -12.286245275716647, 'ann_return': -27.92908824225574, 'cum_return': -5.411423925508366}\n",
            "Evaluating for `val` using `^VIX`: 25\n",
            "Initializing env... Done.\n",
            "{'sharpe_ratio': 0.2635581011232492, 'mdd': -11.394206858609907, 'ann_return': 4.716188872648774, 'cum_return': 0.7858607257811965}\n",
            "Evaluating for `val` using `^VIX`: 27\n",
            "Initializing env... Done.\n",
            "{'sharpe_ratio': -0.6253639677865652, 'mdd': -13.108460277230623, 'ann_return': -17.15514111643438, 'cum_return': -3.1462719319394816}\n",
            "Evaluating for `val` using `^VIX`: 29\n",
            "Initializing env... Done.\n",
            "{'sharpe_ratio': 0.37075367589738883, 'mdd': -14.720159915436495, 'ann_return': 9.543029739073837, 'cum_return': 1.5603022451470023}\n",
            "Evaluating for `val` using `^VIX`: 30\n",
            "Initializing env... Done.\n",
            "{'sharpe_ratio': 0.9446046031326596, 'mdd': -12.020676913271483, 'ann_return': 32.78328262656869, 'cum_return': 4.9343095305075115}\n"
          ]
        },
        {
          "output_type": "stream",
          "name": "stderr",
          "text": [
            "\u001b[34m\u001b[1mwandb\u001b[0m: Adding directory to artifact (./cum_return-val-vix)... Done. 0.0s\n"
          ]
        },
        {
          "output_type": "stream",
          "name": "stdout",
          "text": [
            "Evaluating for `test` using `^VIX`: 14\n",
            "Initializing env... Done.\n",
            "{'sharpe_ratio': -1.8857209185128812, 'mdd': -2.99867285477216, 'ann_return': -10.128326203971138, 'cum_return': -1.8837249629935542}\n",
            "Evaluating for `test` using `^VIX`: 15\n",
            "Initializing env... Done.\n",
            "{'sharpe_ratio': -2.4495298171288966, 'mdd': -3.9063933140171794, 'ann_return': -17.70434032749064, 'cum_return': -3.410450972770617}\n",
            "Evaluating for `test` using `^VIX`: 16\n",
            "Initializing env... Done.\n",
            "{'sharpe_ratio': -0.36280472198198027, 'mdd': -3.1699750049586064, 'ann_return': -4.2866877766796545, 'cum_return': -0.7771919530372106}\n",
            "Evaluating for `test` using `^VIX`: 18\n",
            "Initializing env... Done.\n",
            "{'sharpe_ratio': 0.8825621064702426, 'mdd': -3.0524235827744737, 'ann_return': 11.162846624283063, 'cum_return': 1.902443242675843}\n",
            "Evaluating for `test` using `^VIX`: 19\n",
            "Initializing env... Done.\n",
            "{'sharpe_ratio': 1.2149294860456514, 'mdd': -3.0524235827744737, 'ann_return': 16.754624235422888, 'cum_return': 2.796970877651227}\n",
            "Evaluating for `test` using `^VIX`: 21\n",
            "Initializing env... Done.\n",
            "{'sharpe_ratio': 1.186859719670992, 'mdd': -3.0524235827744737, 'ann_return': 16.936901467631472, 'cum_return': 2.825532355865507}\n",
            "Evaluating for `test` using `^VIX`: 22\n",
            "Initializing env... Done.\n",
            "{'sharpe_ratio': 0.7498666815593458, 'mdd': -3.541796547691652, 'ann_return': 12.329286303843023, 'cum_return': 2.092045187976837}\n",
            "Evaluating for `test` using `^VIX`: 23\n",
            "Initializing env... Done.\n",
            "{'sharpe_ratio': 0.7498666815593458, 'mdd': -3.541796547691652, 'ann_return': 12.329286303843023, 'cum_return': 2.092045187976837}\n",
            "Evaluating for `test` using `^VIX`: 25\n",
            "Initializing env... Done.\n",
            "{'sharpe_ratio': 1.234879668830742, 'mdd': -3.4852600797755438, 'ann_return': 22.474776415606847, 'cum_return': 3.676312331069974}\n",
            "Evaluating for `test` using `^VIX`: 26\n",
            "Initializing env... Done.\n",
            "{'sharpe_ratio': 0.8516978084577379, 'mdd': -5.211324842551779, 'ann_return': 15.672785316219585, 'cum_return': 2.6266965137443767}\n",
            "Evaluating for `test` using `^VIX`: 27\n",
            "Initializing env... Done.\n",
            "{'sharpe_ratio': 0.6909628459512307, 'mdd': -5.857876173860797, 'ann_return': 12.654762723348956, 'cum_return': 2.1446617401161494}\n",
            "Evaluating for `test` using `^VIX`: 19\n",
            "Initializing env... Done.\n",
            "{'sharpe_ratio': 1.2149294860456514, 'mdd': -3.0524235827744737, 'ann_return': 16.754624235422888, 'cum_return': 2.796970877651227}\n"
          ]
        },
        {
          "output_type": "stream",
          "name": "stderr",
          "text": [
            "\u001b[34m\u001b[1mwandb\u001b[0m: Adding directory to artifact (./cum_return-test-vix)... Done. 0.0s\n"
          ]
        },
        {
          "output_type": "display_data",
          "data": {
            "text/plain": [
              "<IPython.core.display.HTML object>"
            ],
            "text/html": []
          },
          "metadata": {}
        },
        {
          "output_type": "display_data",
          "data": {
            "text/plain": [
              "<IPython.core.display.HTML object>"
            ],
            "text/html": [
              "<br>    <style><br>        .wandb-row {<br>            display: flex;<br>            flex-direction: row;<br>            flex-wrap: wrap;<br>            justify-content: flex-start;<br>            width: 100%;<br>        }<br>        .wandb-col {<br>            display: flex;<br>            flex-direction: column;<br>            flex-basis: 100%;<br>            flex: 1;<br>            padding: 10px;<br>        }<br>    </style><br><div class=\"wandb-row\"><div class=\"wandb-col\"><h3>Run summary:</h3><br/><table class=\"wandb\"><tr><td>run.duration_minutes</td><td>40.3</td></tr><tr><td>test.vix_14.ann_return/ppo</td><td>-10.13</td></tr><tr><td>test.vix_14.cum_return/ppo</td><td>-1.88</td></tr><tr><td>test.vix_14.mdd/ppo</td><td>-3</td></tr><tr><td>test.vix_14.sharpe_ratio/ppo</td><td>-1.89</td></tr><tr><td>test.vix_15.ann_return/ppo</td><td>-17.7</td></tr><tr><td>test.vix_15.cum_return/ppo</td><td>-3.41</td></tr><tr><td>test.vix_15.mdd/ppo</td><td>-3.91</td></tr><tr><td>test.vix_15.sharpe_ratio/ppo</td><td>-2.45</td></tr><tr><td>test.vix_16.ann_return/ppo</td><td>-4.29</td></tr><tr><td>test.vix_16.cum_return/ppo</td><td>-0.78</td></tr><tr><td>test.vix_16.mdd/ppo</td><td>-3.17</td></tr><tr><td>test.vix_16.sharpe_ratio/ppo</td><td>-0.36</td></tr><tr><td>test.vix_17.ann_return/ppo</td><td>13.76</td></tr><tr><td>test.vix_17.cum_return/ppo</td><td>2.21</td></tr><tr><td>test.vix_17.mdd/ppo</td><td>-0.58</td></tr><tr><td>test.vix_17.sharpe_ratio/ppo</td><td>2.7</td></tr><tr><td>test.vix_18.ann_return/ppo</td><td>11.16</td></tr><tr><td>test.vix_18.cum_return/ppo</td><td>1.9</td></tr><tr><td>test.vix_18.mdd/ppo</td><td>-3.05</td></tr><tr><td>test.vix_18.sharpe_ratio/ppo</td><td>0.88</td></tr><tr><td>test.vix_19.ann_return/ppo</td><td>16.75</td></tr><tr><td>test.vix_19.cum_return/ppo</td><td>2.8</td></tr><tr><td>test.vix_19.mdd/ppo</td><td>-3.05</td></tr><tr><td>test.vix_19.sharpe_ratio/ppo</td><td>1.21</td></tr><tr><td>test.vix_21.ann_return/ppo</td><td>16.94</td></tr><tr><td>test.vix_21.cum_return/ppo</td><td>2.83</td></tr><tr><td>test.vix_21.mdd/ppo</td><td>-3.05</td></tr><tr><td>test.vix_21.sharpe_ratio/ppo</td><td>1.19</td></tr><tr><td>test.vix_22.ann_return/ppo</td><td>12.33</td></tr><tr><td>test.vix_22.cum_return/ppo</td><td>2.09</td></tr><tr><td>test.vix_22.mdd/ppo</td><td>-3.54</td></tr><tr><td>test.vix_22.sharpe_ratio/ppo</td><td>0.75</td></tr><tr><td>test.vix_23.ann_return/ppo</td><td>12.33</td></tr><tr><td>test.vix_23.cum_return/ppo</td><td>2.09</td></tr><tr><td>test.vix_23.mdd/ppo</td><td>-3.54</td></tr><tr><td>test.vix_23.sharpe_ratio/ppo</td><td>0.75</td></tr><tr><td>test.vix_24.ann_return/ppo</td><td>-9.79</td></tr><tr><td>test.vix_24.cum_return/ppo</td><td>-1.73</td></tr><tr><td>test.vix_24.mdd/ppo</td><td>-8.83</td></tr><tr><td>test.vix_24.sharpe_ratio/ppo</td><td>-0.44</td></tr><tr><td>test.vix_25.ann_return/ppo</td><td>22.47</td></tr><tr><td>test.vix_25.cum_return/ppo</td><td>3.68</td></tr><tr><td>test.vix_25.mdd/ppo</td><td>-3.49</td></tr><tr><td>test.vix_25.sharpe_ratio/ppo</td><td>1.23</td></tr><tr><td>test.vix_26.ann_return/ppo</td><td>15.67</td></tr><tr><td>test.vix_26.cum_return/ppo</td><td>2.63</td></tr><tr><td>test.vix_26.mdd/ppo</td><td>-5.21</td></tr><tr><td>test.vix_26.sharpe_ratio/ppo</td><td>0.85</td></tr><tr><td>test.vix_27.ann_return/ppo</td><td>12.65</td></tr><tr><td>test.vix_27.cum_return/ppo</td><td>2.14</td></tr><tr><td>test.vix_27.mdd/ppo</td><td>-5.86</td></tr><tr><td>test.vix_27.sharpe_ratio/ppo</td><td>0.69</td></tr><tr><td>test.vix_29.ann_return/ppo</td><td>35.96</td></tr><tr><td>test.vix_29.cum_return/ppo</td><td>5.36</td></tr><tr><td>test.vix_29.mdd/ppo</td><td>-8.58</td></tr><tr><td>test.vix_29.sharpe_ratio/ppo</td><td>1.13</td></tr><tr><td>test.vix_30.ann_return/ppo</td><td>35.96</td></tr><tr><td>test.vix_30.cum_return/ppo</td><td>5.36</td></tr><tr><td>test.vix_30.mdd/ppo</td><td>-8.58</td></tr><tr><td>test.vix_30.sharpe_ratio/ppo</td><td>1.13</td></tr><tr><td>test.vix_best.ann_return/ppo</td><td>22.47</td></tr><tr><td>test.vix_best.cum_return/ppo</td><td>3.68</td></tr><tr><td>test.vix_best.mdd/ppo</td><td>-3.49</td></tr><tr><td>test.vix_best.sharpe_ratio/ppo</td><td>1.23</td></tr><tr><td>test.vix_best.vix/ppo</td><td>25</td></tr><tr><td>test.vix_chosen.ann_return/ppo</td><td>16.75</td></tr><tr><td>test.vix_chosen.cum_return/ppo</td><td>2.8</td></tr><tr><td>test.vix_chosen.mdd/ppo</td><td>-3.05</td></tr><tr><td>test.vix_chosen.sharpe_ratio/ppo</td><td>1.21</td></tr><tr><td>test.vix_chosen.vix/ppo</td><td>19</td></tr><tr><td>train.ann_return/ppo</td><td>81.47011</td></tr><tr><td>train.cum_return/ppo</td><td>358.65221</td></tr><tr><td>train.duration_minutes/ppo</td><td>39.4</td></tr><tr><td>train.mdd/ppo</td><td>-27.96292</td></tr><tr><td>train.sharpe_ratio/ppo</td><td>1.35179</td></tr><tr><td>val.ann_return/ppo</td><td>310.41317</td></tr><tr><td>val.cum_return/ppo</td><td>6.29032</td></tr><tr><td>val.mdd/ppo</td><td>-4.78413</td></tr><tr><td>val.sharpe_ratio/ppo</td><td>4.90661</td></tr><tr><td>val.vix_14.ann_return/ppo</td><td>32.08</td></tr><tr><td>val.vix_14.cum_return/ppo</td><td>4.84</td></tr><tr><td>val.vix_14.mdd/ppo</td><td>-0.21</td></tr><tr><td>val.vix_14.sharpe_ratio/ppo</td><td>2</td></tr><tr><td>val.vix_15.ann_return/ppo</td><td>-8.7</td></tr><tr><td>val.vix_15.cum_return/ppo</td><td>-1.58</td></tr><tr><td>val.vix_15.mdd/ppo</td><td>-1.89</td></tr><tr><td>val.vix_15.sharpe_ratio/ppo</td><td>-3.09</td></tr><tr><td>val.vix_16.ann_return/ppo</td><td>9.64</td></tr><tr><td>val.vix_16.cum_return/ppo</td><td>1.58</td></tr><tr><td>val.vix_16.mdd/ppo</td><td>-0.52</td></tr><tr><td>val.vix_16.sharpe_ratio/ppo</td><td>2.35</td></tr><tr><td>val.vix_17.ann_return/ppo</td><td>5.83</td></tr><tr><td>val.vix_17.cum_return/ppo</td><td>0.97</td></tr><tr><td>val.vix_17.mdd/ppo</td><td>-1.41</td></tr><tr><td>val.vix_17.sharpe_ratio/ppo</td><td>0.97</td></tr><tr><td>val.vix_18.ann_return/ppo</td><td>-14.45</td></tr><tr><td>val.vix_18.cum_return/ppo</td><td>-2.7</td></tr><tr><td>val.vix_18.mdd/ppo</td><td>-5.67</td></tr><tr><td>val.vix_18.sharpe_ratio/ppo</td><td>-1.08</td></tr><tr><td>val.vix_19.ann_return/ppo</td><td>35.73</td></tr><tr><td>val.vix_19.cum_return/ppo</td><td>5.33</td></tr><tr><td>val.vix_19.mdd/ppo</td><td>-0.64</td></tr><tr><td>val.vix_19.sharpe_ratio/ppo</td><td>4.33</td></tr><tr><td>val.vix_20.ann_return/ppo</td><td>2.74</td></tr><tr><td>val.vix_20.cum_return/ppo</td><td>0.48</td></tr><tr><td>val.vix_20.mdd/ppo</td><td>-6.12</td></tr><tr><td>val.vix_20.sharpe_ratio/ppo</td><td>0.21</td></tr><tr><td>val.vix_21.ann_return/ppo</td><td>31.58</td></tr><tr><td>val.vix_21.cum_return/ppo</td><td>4.77</td></tr><tr><td>val.vix_21.mdd/ppo</td><td>-5.54</td></tr><tr><td>val.vix_21.sharpe_ratio/ppo</td><td>1.68</td></tr><tr><td>val.vix_22.ann_return/ppo</td><td>1.7</td></tr><tr><td>val.vix_22.cum_return/ppo</td><td>0.29</td></tr><tr><td>val.vix_22.mdd/ppo</td><td>-7.49</td></tr><tr><td>val.vix_22.sharpe_ratio/ppo</td><td>0.16</td></tr><tr><td>val.vix_23.ann_return/ppo</td><td>29.51</td></tr><tr><td>val.vix_23.cum_return/ppo</td><td>4.64</td></tr><tr><td>val.vix_23.mdd/ppo</td><td>-5.68</td></tr><tr><td>val.vix_23.sharpe_ratio/ppo</td><td>1.23</td></tr><tr><td>val.vix_24.ann_return/ppo</td><td>-27.93</td></tr><tr><td>val.vix_24.cum_return/ppo</td><td>-5.41</td></tr><tr><td>val.vix_24.mdd/ppo</td><td>-12.29</td></tr><tr><td>val.vix_24.sharpe_ratio/ppo</td><td>-1.41</td></tr><tr><td>val.vix_25.ann_return/ppo</td><td>4.72</td></tr><tr><td>val.vix_25.cum_return/ppo</td><td>0.79</td></tr><tr><td>val.vix_25.mdd/ppo</td><td>-11.39</td></tr><tr><td>val.vix_25.sharpe_ratio/ppo</td><td>0.26</td></tr><tr><td>val.vix_26.ann_return/ppo</td><td>36.98</td></tr><tr><td>val.vix_26.cum_return/ppo</td><td>5.67</td></tr><tr><td>val.vix_26.mdd/ppo</td><td>-4.5</td></tr><tr><td>val.vix_26.sharpe_ratio/ppo</td><td>1.48</td></tr><tr><td>val.vix_27.ann_return/ppo</td><td>-17.16</td></tr><tr><td>val.vix_27.cum_return/ppo</td><td>-3.15</td></tr><tr><td>val.vix_27.mdd/ppo</td><td>-13.11</td></tr><tr><td>val.vix_27.sharpe_ratio/ppo</td><td>-0.63</td></tr><tr><td>val.vix_29.ann_return/ppo</td><td>9.54</td></tr><tr><td>val.vix_29.cum_return/ppo</td><td>1.56</td></tr><tr><td>val.vix_29.mdd/ppo</td><td>-14.72</td></tr><tr><td>val.vix_29.sharpe_ratio/ppo</td><td>0.37</td></tr><tr><td>val.vix_30.ann_return/ppo</td><td>32.78</td></tr><tr><td>val.vix_30.cum_return/ppo</td><td>4.93</td></tr><tr><td>val.vix_30.mdd/ppo</td><td>-12.02</td></tr><tr><td>val.vix_30.sharpe_ratio/ppo</td><td>0.94</td></tr><tr><td>val.vix_best.ann_return/ppo</td><td>35.73</td></tr><tr><td>val.vix_best.cum_return/ppo</td><td>5.33</td></tr><tr><td>val.vix_best.mdd/ppo</td><td>-0.64</td></tr><tr><td>val.vix_best.sharpe_ratio/ppo</td><td>4.33</td></tr><tr><td>val.vix_best.vix/ppo</td><td>19</td></tr></table><br/></div></div>"
            ]
          },
          "metadata": {}
        },
        {
          "output_type": "display_data",
          "data": {
            "text/plain": [
              "<IPython.core.display.HTML object>"
            ],
            "text/html": [
              " View run <strong style=\"color:#cdcd00\">DOW-30 | 2015-10 | 2016 Q1 | 2016 Q2 | z34r51kn</strong> at: <a href='https://wandb.ai/overfit1010/finrl-dt-replicate/runs/z34r51kn' target=\"_blank\">https://wandb.ai/overfit1010/finrl-dt-replicate/runs/z34r51kn</a><br> View project at: <a href='https://wandb.ai/overfit1010/finrl-dt-replicate' target=\"_blank\">https://wandb.ai/overfit1010/finrl-dt-replicate</a><br>Synced 5 W&B file(s), 2 media file(s), 27 artifact file(s) and 0 other file(s)"
            ]
          },
          "metadata": {}
        },
        {
          "output_type": "display_data",
          "data": {
            "text/plain": [
              "<IPython.core.display.HTML object>"
            ],
            "text/html": [
              "Find logs at: <code>./wandb/run-20250213_072212-z34r51kn/logs</code>"
            ]
          },
          "metadata": {}
        },
        {
          "output_type": "display_data",
          "data": {
            "text/plain": [
              "<IPython.core.display.HTML object>"
            ],
            "text/html": [
              "Tracking run with wandb version 0.19.6"
            ]
          },
          "metadata": {}
        },
        {
          "output_type": "display_data",
          "data": {
            "text/plain": [
              "<IPython.core.display.HTML object>"
            ],
            "text/html": [
              "Run data is saved locally in <code>/content/wandb/run-20250213_072247-802mccg3</code>"
            ]
          },
          "metadata": {}
        },
        {
          "output_type": "display_data",
          "data": {
            "text/plain": [
              "<IPython.core.display.HTML object>"
            ],
            "text/html": [
              "Resuming run <strong><a href='https://wandb.ai/overfit1010/finrl-dt-replicate/runs/802mccg3' target=\"_blank\">DOW-30 | 2016-01 | 2016 Q2 | 2016 Q3 | 802mccg3</a></strong> to <a href='https://wandb.ai/overfit1010/finrl-dt-replicate' target=\"_blank\">Weights & Biases</a> (<a href='https://wandb.me/developer-guide' target=\"_blank\">docs</a>)<br>Sweep page: <a href='https://wandb.ai/overfit1010/finrl-dt-replicate/sweeps/v9ciq41s' target=\"_blank\">https://wandb.ai/overfit1010/finrl-dt-replicate/sweeps/v9ciq41s</a>"
            ]
          },
          "metadata": {}
        },
        {
          "output_type": "display_data",
          "data": {
            "text/plain": [
              "<IPython.core.display.HTML object>"
            ],
            "text/html": [
              " View project at <a href='https://wandb.ai/overfit1010/finrl-dt-replicate' target=\"_blank\">https://wandb.ai/overfit1010/finrl-dt-replicate</a>"
            ]
          },
          "metadata": {}
        },
        {
          "output_type": "display_data",
          "data": {
            "text/plain": [
              "<IPython.core.display.HTML object>"
            ],
            "text/html": [
              " View sweep at <a href='https://wandb.ai/overfit1010/finrl-dt-replicate/sweeps/v9ciq41s' target=\"_blank\">https://wandb.ai/overfit1010/finrl-dt-replicate/sweeps/v9ciq41s</a>"
            ]
          },
          "metadata": {}
        },
        {
          "output_type": "display_data",
          "data": {
            "text/plain": [
              "<IPython.core.display.HTML object>"
            ],
            "text/html": [
              " View run at <a href='https://wandb.ai/overfit1010/finrl-dt-replicate/runs/802mccg3' target=\"_blank\">https://wandb.ai/overfit1010/finrl-dt-replicate/runs/802mccg3</a>"
            ]
          },
          "metadata": {}
        },
        {
          "output_type": "stream",
          "name": "stderr",
          "text": [
            "\u001b[34m\u001b[1mwandb\u001b[0m:   99 of 99 files downloaded.  \n"
          ]
        },
        {
          "output_type": "stream",
          "name": "stdout",
          "text": [
            "Using cached data: cache/2016-01-01 00:00:00_2016-04-01 00:00:00_1d_e4ea6619c36bd5c7165dda736c285494aa3defe9ac6b9a4e0ed8216efc4875c7.csv\n",
            "Using cached data: cache/2016-04-01 00:00:00_2016-07-01 00:00:00_1d_e4ea6619c36bd5c7165dda736c285494aa3defe9ac6b9a4e0ed8216efc4875c7.csv\n",
            "Creating new data.\n"
          ]
        },
        {
          "output_type": "stream",
          "name": "stderr",
          "text": [
            "[*********************100%***********************]  30 of 30 completed\n",
            "ERROR:yfinance:\n",
            "1 Failed download:\n",
            "ERROR:yfinance:['DOW']: YFPricesMissingError('$%ticker%: possibly delisted; no price data found  (1d 2016-07-01 00:00:00 -> 2016-10-01 00:00:00) (Yahoo error = \"Data doesn\\'t exist for startDate = 1467345600, endDate = 1475294400\")')\n"
          ]
        },
        {
          "output_type": "stream",
          "name": "stdout",
          "text": [
            "NaN data on start date, fill using first valid data.\n",
            "Missing data for ticker:  DOW  . The prices are all NaN. Fill with 0.\n"
          ]
        },
        {
          "output_type": "stream",
          "name": "stderr",
          "text": [
            "\r[*********************100%***********************]  1 of 1 completed\n"
          ]
        },
        {
          "output_type": "stream",
          "name": "stdout",
          "text": [
            "cleaned_vix\n",
            "                    timestamp       open       high    low  close  volume   tic\n",
            "0  2016-07-01 00:00:00-04:00  15.590000  15.860000  14.61  14.77     0.0  ^VIX\n",
            "1  2016-07-05 00:00:00-04:00  16.049999  16.620001  15.49  15.58     0.0  ^VIX\n",
            "2  2016-07-06 00:00:00-04:00  15.870000  17.040001  14.96  14.96     0.0  ^VIX\n",
            "3  2016-07-07 00:00:00-04:00  14.800000  15.980000  14.33  14.76     0.0  ^VIX\n",
            "4  2016-07-08 00:00:00-04:00  14.640000  14.750000  13.19  13.20     0.0  ^VIX\n",
            "..                       ...        ...        ...    ...    ...     ...   ...\n",
            "59 2016-09-26 00:00:00-04:00  13.260000  14.630000  13.26  14.50     0.0  ^VIX\n",
            "60 2016-09-27 00:00:00-04:00  13.360000  14.760000  12.97  13.10     0.0  ^VIX\n",
            "61 2016-09-28 00:00:00-04:00  12.900000  13.570000  12.24  12.39     0.0  ^VIX\n",
            "62 2016-09-29 00:00:00-04:00  12.530000  15.690000  12.14  14.02     0.0  ^VIX\n",
            "63 2016-09-30 00:00:00-04:00  14.910000  15.200000  12.53  13.29     0.0  ^VIX\n",
            "\n",
            "[64 rows x 7 columns]\n",
            "cleaned_vix[[\"timestamp\", \"close\"]\n",
            "                    timestamp  close\n",
            "0  2016-07-01 00:00:00-04:00  14.77\n",
            "1  2016-07-05 00:00:00-04:00  15.58\n",
            "2  2016-07-06 00:00:00-04:00  14.96\n",
            "3  2016-07-07 00:00:00-04:00  14.76\n",
            "4  2016-07-08 00:00:00-04:00  13.20\n",
            "..                       ...    ...\n",
            "59 2016-09-26 00:00:00-04:00  14.50\n",
            "60 2016-09-27 00:00:00-04:00  13.10\n",
            "61 2016-09-28 00:00:00-04:00  12.39\n",
            "62 2016-09-29 00:00:00-04:00  14.02\n",
            "63 2016-09-30 00:00:00-04:00  13.29\n",
            "\n",
            "[64 rows x 2 columns]\n",
            "vix.rename(columns={\"close\": \"^VIX\"}\n",
            "                    timestamp   ^VIX\n",
            "0  2016-07-01 00:00:00-04:00  14.77\n",
            "1  2016-07-05 00:00:00-04:00  15.58\n",
            "2  2016-07-06 00:00:00-04:00  14.96\n",
            "3  2016-07-07 00:00:00-04:00  14.76\n",
            "4  2016-07-08 00:00:00-04:00  13.20\n",
            "..                       ...    ...\n",
            "59 2016-09-26 00:00:00-04:00  14.50\n",
            "60 2016-09-27 00:00:00-04:00  13.10\n",
            "61 2016-09-28 00:00:00-04:00  12.39\n",
            "62 2016-09-29 00:00:00-04:00  14.02\n",
            "63 2016-09-30 00:00:00-04:00  13.29\n",
            "\n",
            "[64 rows x 2 columns]\n",
            "df\n",
            "                      timestamp        open        high         low  \\\n",
            "0    2016-07-01 00:00:00-04:00   21.853121   22.077397   21.816505   \n",
            "64   2016-07-01 00:00:00-04:00  118.507466  120.466656  118.367530   \n",
            "128  2016-07-01 00:00:00-04:00   53.829445   54.502758   53.661118   \n",
            "192  2016-07-01 00:00:00-04:00  118.207299  118.937315  117.860553   \n",
            "256  2016-07-01 00:00:00-04:00   61.007530   62.310557   60.958972   \n",
            "...                        ...         ...         ...         ...   \n",
            "1663 2016-09-30 00:00:00-04:00  123.117470  124.267442  122.445186   \n",
            "1727 2016-09-30 00:00:00-04:00   77.437661   78.267079   76.985247   \n",
            "1791 2016-09-30 00:00:00-04:00   33.766706   33.856871   33.464010   \n",
            "1855 2016-09-30 00:00:00-04:00   55.917489   56.851908   55.517025   \n",
            "1919 2016-09-30 00:00:00-04:00   20.490066   20.765178   20.461409   \n",
            "\n",
            "           close       volume   tic      macd     boll_ub     boll_lb  \\\n",
            "0      21.944662  104106000.0  AAPL  0.000000         NaN         NaN   \n",
            "64    119.945763    2758100.0  AMGN  0.000000         NaN         NaN   \n",
            "128    53.767429    4166500.0   AXP  0.000000         NaN         NaN   \n",
            "192   118.344185    3247900.0    BA  0.000000         NaN         NaN   \n",
            "256    61.873516    4630100.0   CAT  0.000000         NaN         NaN   \n",
            "...          ...          ...   ...       ...         ...         ...   \n",
            "1663  123.842842    4164100.0   UNH  0.454465  126.129361  116.998631   \n",
            "1727   77.946617    9776800.0     V  0.404966   78.791962   76.551823   \n",
            "1791   33.476891   13077600.0    VZ -0.153882   34.590766   32.706948   \n",
            "1855   56.641140    4490200.0   WBA -0.226629   59.120284   55.582602   \n",
            "1919   20.667744   29947800.0   WMT -0.044542   20.990149   20.257649   \n",
            "\n",
            "         rsi_30     cci_30      dx_30  close_30_sma  close_60_sma  \n",
            "0           NaN        NaN        NaN     21.944662     21.944662  \n",
            "64          NaN        NaN        NaN    119.945763    119.945763  \n",
            "128         NaN        NaN        NaN     53.767429     53.767429  \n",
            "192         NaN        NaN        NaN    118.344185    118.344185  \n",
            "256         NaN        NaN        NaN     61.873516     61.873516  \n",
            "...         ...        ...        ...           ...           ...  \n",
            "1663  52.047991  60.666518   4.170912    121.718834    123.414599  \n",
            "1727  58.259228  57.529260  19.403638     77.158688     75.751076  \n",
            "1791  43.557876 -25.625891  23.736976     33.695442     34.461198  \n",
            "1855  47.657146 -92.949360  13.916272     57.247461     57.135092  \n",
            "1919  49.418892  -1.946107   3.215744     20.618072     20.792408  \n",
            "\n",
            "[1920 rows x 15 columns]\n",
            "Evaluating for `val` using `^VIX`: 14\n",
            "Initializing env... Done.\n",
            "{'sharpe_ratio': -2.1822816911184617, 'mdd': -3.0707948795214324, 'ann_return': -14.467563301803876, 'cum_return': -2.7446027623339324}\n",
            "Evaluating for `val` using `^VIX`: 15\n",
            "Initializing env... Done.\n",
            "{'sharpe_ratio': 0.30417021182912146, 'mdd': -3.0010849200395437, 'ann_return': 3.5964622792079792, 'cum_return': 0.6312014589862956}\n",
            "Evaluating for `val` using `^VIX`: 16\n",
            "Initializing env... Done.\n",
            "{'sharpe_ratio': -2.219561943709426, 'mdd': -7.8798967367002035, 'ann_return': -31.189090681542332, 'cum_return': -6.440120104566711}\n",
            "Evaluating for `val` using `^VIX`: 18\n",
            "Initializing env... Done.\n",
            "{'sharpe_ratio': -1.3300205191924495, 'mdd': -6.585099501248784, 'ann_return': -22.021925640489314, 'cum_return': -4.332984160561944}\n",
            "Evaluating for `val` using `^VIX`: 19\n",
            "Initializing env... Done.\n",
            "{'sharpe_ratio': 0.2186948227004338, 'mdd': -5.1092613955324575, 'ann_return': 2.6620508719999325, 'cum_return': 0.46895992754686455}\n",
            "Evaluating for `val` using `^VIX`: 21\n",
            "Initializing env... Done.\n",
            "{'sharpe_ratio': 0.9737935158101073, 'mdd': -5.458432807672187, 'ann_return': 16.65428740576276, 'cum_return': 2.7812332043033385}\n",
            "Evaluating for `val` using `^VIX`: 22\n",
            "Initializing env... Done.\n",
            "{'sharpe_ratio': -1.1423337811171888, 'mdd': -6.835428576065692, 'ann_return': -22.312419898094717, 'cum_return': -4.39654851625886}\n",
            "Evaluating for `val` using `^VIX`: 23\n",
            "Initializing env... Done.\n",
            "{'sharpe_ratio': 0.31132418420831, 'mdd': -4.543320280198089, 'ann_return': 4.585390612431528, 'cum_return': 0.8016038980241719}\n",
            "Evaluating for `val` using `^VIX`: 25\n",
            "Initializing env... Done.\n",
            "{'sharpe_ratio': 0.9498650651884846, 'mdd': -5.1554855845879395, 'ann_return': 18.59770314684226, 'cum_return': 3.084095826700257}\n",
            "Evaluating for `val` using `^VIX`: 26\n",
            "Initializing env... Done.\n",
            "{'sharpe_ratio': 0.8469374368314342, 'mdd': -7.467348807740275, 'ann_return': 18.195492019940062, 'cum_return': 3.0217516243012508}\n",
            "Evaluating for `val` using `^VIX`: 27\n",
            "Initializing env... Done.\n",
            "{'sharpe_ratio': -1.2752649326747163, 'mdd': -9.05098485425573, 'ann_return': -26.217187970817868, 'cum_return': -5.270515674430906}\n"
          ]
        },
        {
          "output_type": "stream",
          "name": "stderr",
          "text": [
            "\u001b[34m\u001b[1mwandb\u001b[0m: Adding directory to artifact (./cum_return-val-vix)... Done. 0.0s\n"
          ]
        },
        {
          "output_type": "stream",
          "name": "stdout",
          "text": [
            "Evaluating for `test` using `^VIX`: 12\n",
            "Initializing env... Done.\n",
            "{'sharpe_ratio': -2.3131957033204973, 'mdd': -1.6896816018835235, 'ann_return': -7.397908896536787, 'cum_return': -1.3386150152853806}\n",
            "Evaluating for `test` using `^VIX`: 13\n",
            "Initializing env... Done.\n",
            "{'sharpe_ratio': -3.0419844857101364, 'mdd': -6.208495158514138, 'ann_return': -25.623883912447244, 'cum_return': -5.0583375286406955}\n",
            "Evaluating for `test` using `^VIX`: 13\n",
            "Initializing env... Done.\n",
            "{'sharpe_ratio': -3.0419844857101364, 'mdd': -6.208495158514138, 'ann_return': -25.623883912447244, 'cum_return': -5.0583375286406955}\n",
            "Evaluating for `test` using `^VIX`: 14\n",
            "Initializing env... Done.\n",
            "{'sharpe_ratio': -0.5419908439668195, 'mdd': -5.944452379281839, 'ann_return': -6.751264491609954, 'cum_return': -1.21815800613779}\n",
            "Evaluating for `test` using `^VIX`: 15\n",
            "Initializing env... Done.\n",
            "{'sharpe_ratio': -0.24294704037660578, 'mdd': -6.636245884852367, 'ann_return': -3.583372879047342, 'cum_return': -0.6378085981368786}\n",
            "Evaluating for `test` using `^VIX`: 16\n",
            "Initializing env... Done.\n",
            "{'sharpe_ratio': 0.8554221757670502, 'mdd': -5.232245543258254, 'ann_return': 11.374848781064074, 'cum_return': 1.9069421652489107}\n",
            "Evaluating for `test` using `^VIX`: 16\n",
            "Initializing env... Done.\n",
            "{'sharpe_ratio': 0.8554221757670502, 'mdd': -5.232245543258254, 'ann_return': 11.374848781064074, 'cum_return': 1.9069421652489107}\n",
            "Evaluating for `test` using `^VIX`: 17\n",
            "Initializing env... Done.\n",
            "{'sharpe_ratio': 0.8586061490462766, 'mdd': -5.174269458455038, 'ann_return': 11.403202313858941, 'cum_return': 1.9114906353912517}\n",
            "Evaluating for `test` using `^VIX`: 18\n",
            "Initializing env... Done.\n",
            "{'sharpe_ratio': 1.6306794378255745, 'mdd': -3.493467474245455, 'ann_return': 26.99106322781506, 'cum_return': 4.278756012226106}\n",
            "Evaluating for `test` using `^VIX`: 19\n",
            "Initializing env... Done.\n",
            "{'sharpe_ratio': 1.2210131719019433, 'mdd': -3.946169472834023, 'ann_return': 23.486391389281657, 'cum_return': 3.768304044288656}\n",
            "Evaluating for `test` using `^VIX`: 20\n",
            "Initializing env... Done.\n",
            "{'sharpe_ratio': 1.2271748469594397, 'mdd': -3.936353606848627, 'ann_return': 23.644041650280336, 'cum_return': 3.7915206606903373}\n",
            "Evaluating for `test` using `^VIX`: 21\n",
            "Initializing env... Done.\n",
            "{'sharpe_ratio': 1.219653396406484, 'mdd': -3.9528069450701815, 'ann_return': 23.4957898130181, 'cum_return': 3.7696888030510163}\n"
          ]
        },
        {
          "output_type": "stream",
          "name": "stderr",
          "text": [
            "\u001b[34m\u001b[1mwandb\u001b[0m: Adding directory to artifact (./cum_return-test-vix)... Done. 0.0s\n"
          ]
        },
        {
          "output_type": "display_data",
          "data": {
            "text/plain": [
              "<IPython.core.display.HTML object>"
            ],
            "text/html": []
          },
          "metadata": {}
        },
        {
          "output_type": "display_data",
          "data": {
            "text/plain": [
              "<IPython.core.display.HTML object>"
            ],
            "text/html": [
              "<br>    <style><br>        .wandb-row {<br>            display: flex;<br>            flex-direction: row;<br>            flex-wrap: wrap;<br>            justify-content: flex-start;<br>            width: 100%;<br>        }<br>        .wandb-col {<br>            display: flex;<br>            flex-direction: column;<br>            flex-basis: 100%;<br>            flex: 1;<br>            padding: 10px;<br>        }<br>    </style><br><div class=\"wandb-row\"><div class=\"wandb-col\"><h3>Run summary:</h3><br/><table class=\"wandb\"><tr><td>run.duration_minutes</td><td>39.8</td></tr><tr><td>test.vix_12.ann_return/ppo</td><td>-7.4</td></tr><tr><td>test.vix_12.cum_return/ppo</td><td>-1.34</td></tr><tr><td>test.vix_12.mdd/ppo</td><td>-1.69</td></tr><tr><td>test.vix_12.sharpe_ratio/ppo</td><td>-2.31</td></tr><tr><td>test.vix_13.ann_return/ppo</td><td>-25.62</td></tr><tr><td>test.vix_13.cum_return/ppo</td><td>-5.06</td></tr><tr><td>test.vix_13.mdd/ppo</td><td>-6.21</td></tr><tr><td>test.vix_13.sharpe_ratio/ppo</td><td>-3.04</td></tr><tr><td>test.vix_14.ann_return/ppo</td><td>-6.75</td></tr><tr><td>test.vix_14.cum_return/ppo</td><td>-1.22</td></tr><tr><td>test.vix_14.mdd/ppo</td><td>-5.94</td></tr><tr><td>test.vix_14.sharpe_ratio/ppo</td><td>-0.54</td></tr><tr><td>test.vix_15.ann_return/ppo</td><td>-3.58</td></tr><tr><td>test.vix_15.cum_return/ppo</td><td>-0.64</td></tr><tr><td>test.vix_15.mdd/ppo</td><td>-6.64</td></tr><tr><td>test.vix_15.sharpe_ratio/ppo</td><td>-0.24</td></tr><tr><td>test.vix_16.ann_return/ppo</td><td>11.37</td></tr><tr><td>test.vix_16.cum_return/ppo</td><td>1.91</td></tr><tr><td>test.vix_16.mdd/ppo</td><td>-5.23</td></tr><tr><td>test.vix_16.sharpe_ratio/ppo</td><td>0.86</td></tr><tr><td>test.vix_17.ann_return/ppo</td><td>11.4</td></tr><tr><td>test.vix_17.cum_return/ppo</td><td>1.91</td></tr><tr><td>test.vix_17.mdd/ppo</td><td>-5.17</td></tr><tr><td>test.vix_17.sharpe_ratio/ppo</td><td>0.86</td></tr><tr><td>test.vix_18.ann_return/ppo</td><td>26.99</td></tr><tr><td>test.vix_18.cum_return/ppo</td><td>4.28</td></tr><tr><td>test.vix_18.mdd/ppo</td><td>-3.49</td></tr><tr><td>test.vix_18.sharpe_ratio/ppo</td><td>1.63</td></tr><tr><td>test.vix_19.ann_return/ppo</td><td>23.49</td></tr><tr><td>test.vix_19.cum_return/ppo</td><td>3.77</td></tr><tr><td>test.vix_19.mdd/ppo</td><td>-3.95</td></tr><tr><td>test.vix_19.sharpe_ratio/ppo</td><td>1.22</td></tr><tr><td>test.vix_20.ann_return/ppo</td><td>23.64</td></tr><tr><td>test.vix_20.cum_return/ppo</td><td>3.79</td></tr><tr><td>test.vix_20.mdd/ppo</td><td>-3.94</td></tr><tr><td>test.vix_20.sharpe_ratio/ppo</td><td>1.23</td></tr><tr><td>test.vix_21.ann_return/ppo</td><td>23.5</td></tr><tr><td>test.vix_21.cum_return/ppo</td><td>3.77</td></tr><tr><td>test.vix_21.mdd/ppo</td><td>-3.95</td></tr><tr><td>test.vix_21.sharpe_ratio/ppo</td><td>1.22</td></tr><tr><td>test.vix_22.ann_return/ppo</td><td>-3.98</td></tr><tr><td>test.vix_22.cum_return/ppo</td><td>-0.69</td></tr><tr><td>test.vix_22.mdd/ppo</td><td>-7.44</td></tr><tr><td>test.vix_22.sharpe_ratio/ppo</td><td>-0.15</td></tr><tr><td>test.vix_24.ann_return/ppo</td><td>-20.6</td></tr><tr><td>test.vix_24.cum_return/ppo</td><td>-3.84</td></tr><tr><td>test.vix_24.mdd/ppo</td><td>-10.63</td></tr><tr><td>test.vix_24.sharpe_ratio/ppo</td><td>-1</td></tr><tr><td>test.vix_25.ann_return/ppo</td><td>23.52</td></tr><tr><td>test.vix_25.cum_return/ppo</td><td>3.77</td></tr><tr><td>test.vix_25.mdd/ppo</td><td>-3.95</td></tr><tr><td>test.vix_25.sharpe_ratio/ppo</td><td>1.22</td></tr><tr><td>test.vix_27.ann_return/ppo</td><td>-16.68</td></tr><tr><td>test.vix_27.cum_return/ppo</td><td>-3.05</td></tr><tr><td>test.vix_27.mdd/ppo</td><td>-12.43</td></tr><tr><td>test.vix_27.sharpe_ratio/ppo</td><td>-0.62</td></tr><tr><td>test.vix_29.ann_return/ppo</td><td>13.48</td></tr><tr><td>test.vix_29.cum_return/ppo</td><td>2.17</td></tr><tr><td>test.vix_29.mdd/ppo</td><td>-12.63</td></tr><tr><td>test.vix_29.sharpe_ratio/ppo</td><td>0.48</td></tr><tr><td>test.vix_30.ann_return/ppo</td><td>13.48</td></tr><tr><td>test.vix_30.cum_return/ppo</td><td>2.17</td></tr><tr><td>test.vix_30.mdd/ppo</td><td>-12.63</td></tr><tr><td>test.vix_30.sharpe_ratio/ppo</td><td>0.48</td></tr><tr><td>test.vix_best.ann_return/ppo</td><td>26.99</td></tr><tr><td>test.vix_best.cum_return/ppo</td><td>4.28</td></tr><tr><td>test.vix_best.mdd/ppo</td><td>-3.49</td></tr><tr><td>test.vix_best.sharpe_ratio/ppo</td><td>1.63</td></tr><tr><td>test.vix_best.vix/ppo</td><td>18</td></tr><tr><td>test.vix_chosen.ann_return/ppo</td><td>23.5</td></tr><tr><td>test.vix_chosen.cum_return/ppo</td><td>3.77</td></tr><tr><td>test.vix_chosen.mdd/ppo</td><td>-3.95</td></tr><tr><td>test.vix_chosen.sharpe_ratio/ppo</td><td>1.22</td></tr><tr><td>test.vix_chosen.vix/ppo</td><td>21</td></tr><tr><td>train.ann_return/ppo</td><td>65.66977</td></tr><tr><td>train.cum_return/ppo</td><td>400.94845</td></tr><tr><td>train.duration_minutes/ppo</td><td>38.9</td></tr><tr><td>train.mdd/ppo</td><td>-30.20612</td></tr><tr><td>train.sharpe_ratio/ppo</td><td>1.2439</td></tr><tr><td>val.ann_return/ppo</td><td>4038.63857</td></tr><tr><td>val.cum_return/ppo</td><td>11.06063</td></tr><tr><td>val.mdd/ppo</td><td>-4.50032</td></tr><tr><td>val.sharpe_ratio/ppo</td><td>5.44935</td></tr><tr><td>val.vix_14.ann_return/ppo</td><td>-14.47</td></tr><tr><td>val.vix_14.cum_return/ppo</td><td>-2.74</td></tr><tr><td>val.vix_14.mdd/ppo</td><td>-3.07</td></tr><tr><td>val.vix_14.sharpe_ratio/ppo</td><td>-2.18</td></tr><tr><td>val.vix_15.ann_return/ppo</td><td>3.6</td></tr><tr><td>val.vix_15.cum_return/ppo</td><td>0.63</td></tr><tr><td>val.vix_15.mdd/ppo</td><td>-3</td></tr><tr><td>val.vix_15.sharpe_ratio/ppo</td><td>0.3</td></tr><tr><td>val.vix_16.ann_return/ppo</td><td>-31.19</td></tr><tr><td>val.vix_16.cum_return/ppo</td><td>-6.44</td></tr><tr><td>val.vix_16.mdd/ppo</td><td>-7.88</td></tr><tr><td>val.vix_16.sharpe_ratio/ppo</td><td>-2.22</td></tr><tr><td>val.vix_17.ann_return/ppo</td><td>-0.69</td></tr><tr><td>val.vix_17.cum_return/ppo</td><td>-0.12</td></tr><tr><td>val.vix_17.mdd/ppo</td><td>-5.83</td></tr><tr><td>val.vix_17.sharpe_ratio/ppo</td><td>0.01</td></tr><tr><td>val.vix_18.ann_return/ppo</td><td>-22.02</td></tr><tr><td>val.vix_18.cum_return/ppo</td><td>-4.33</td></tr><tr><td>val.vix_18.mdd/ppo</td><td>-6.59</td></tr><tr><td>val.vix_18.sharpe_ratio/ppo</td><td>-1.33</td></tr><tr><td>val.vix_19.ann_return/ppo</td><td>2.66</td></tr><tr><td>val.vix_19.cum_return/ppo</td><td>0.47</td></tr><tr><td>val.vix_19.mdd/ppo</td><td>-5.11</td></tr><tr><td>val.vix_19.sharpe_ratio/ppo</td><td>0.22</td></tr><tr><td>val.vix_20.ann_return/ppo</td><td>13.63</td></tr><tr><td>val.vix_20.cum_return/ppo</td><td>2.27</td></tr><tr><td>val.vix_20.mdd/ppo</td><td>-7.19</td></tr><tr><td>val.vix_20.sharpe_ratio/ppo</td><td>0.64</td></tr><tr><td>val.vix_21.ann_return/ppo</td><td>16.65</td></tr><tr><td>val.vix_21.cum_return/ppo</td><td>2.78</td></tr><tr><td>val.vix_21.mdd/ppo</td><td>-5.46</td></tr><tr><td>val.vix_21.sharpe_ratio/ppo</td><td>0.97</td></tr><tr><td>val.vix_22.ann_return/ppo</td><td>-22.31</td></tr><tr><td>val.vix_22.cum_return/ppo</td><td>-4.4</td></tr><tr><td>val.vix_22.mdd/ppo</td><td>-6.84</td></tr><tr><td>val.vix_22.sharpe_ratio/ppo</td><td>-1.14</td></tr><tr><td>val.vix_23.ann_return/ppo</td><td>4.59</td></tr><tr><td>val.vix_23.cum_return/ppo</td><td>0.8</td></tr><tr><td>val.vix_23.mdd/ppo</td><td>-4.54</td></tr><tr><td>val.vix_23.sharpe_ratio/ppo</td><td>0.31</td></tr><tr><td>val.vix_24.ann_return/ppo</td><td>44.97</td></tr><tr><td>val.vix_24.cum_return/ppo</td><td>6.73</td></tr><tr><td>val.vix_24.mdd/ppo</td><td>-5.6</td></tr><tr><td>val.vix_24.sharpe_ratio/ppo</td><td>1.61</td></tr><tr><td>val.vix_25.ann_return/ppo</td><td>18.6</td></tr><tr><td>val.vix_25.cum_return/ppo</td><td>3.08</td></tr><tr><td>val.vix_25.mdd/ppo</td><td>-5.16</td></tr><tr><td>val.vix_25.sharpe_ratio/ppo</td><td>0.95</td></tr><tr><td>val.vix_26.ann_return/ppo</td><td>18.2</td></tr><tr><td>val.vix_26.cum_return/ppo</td><td>3.02</td></tr><tr><td>val.vix_26.mdd/ppo</td><td>-7.47</td></tr><tr><td>val.vix_26.sharpe_ratio/ppo</td><td>0.85</td></tr><tr><td>val.vix_27.ann_return/ppo</td><td>-26.22</td></tr><tr><td>val.vix_27.cum_return/ppo</td><td>-5.27</td></tr><tr><td>val.vix_27.mdd/ppo</td><td>-9.05</td></tr><tr><td>val.vix_27.sharpe_ratio/ppo</td><td>-1.28</td></tr><tr><td>val.vix_best.ann_return/ppo</td><td>16.65</td></tr><tr><td>val.vix_best.cum_return/ppo</td><td>2.78</td></tr><tr><td>val.vix_best.mdd/ppo</td><td>-5.46</td></tr><tr><td>val.vix_best.sharpe_ratio/ppo</td><td>0.97</td></tr><tr><td>val.vix_best.vix/ppo</td><td>21</td></tr></table><br/></div></div>"
            ]
          },
          "metadata": {}
        },
        {
          "output_type": "display_data",
          "data": {
            "text/plain": [
              "<IPython.core.display.HTML object>"
            ],
            "text/html": [
              " View run <strong style=\"color:#cdcd00\">DOW-30 | 2016-01 | 2016 Q2 | 2016 Q3 | 802mccg3</strong> at: <a href='https://wandb.ai/overfit1010/finrl-dt-replicate/runs/802mccg3' target=\"_blank\">https://wandb.ai/overfit1010/finrl-dt-replicate/runs/802mccg3</a><br> View project at: <a href='https://wandb.ai/overfit1010/finrl-dt-replicate' target=\"_blank\">https://wandb.ai/overfit1010/finrl-dt-replicate</a><br>Synced 5 W&B file(s), 2 media file(s), 27 artifact file(s) and 0 other file(s)"
            ]
          },
          "metadata": {}
        },
        {
          "output_type": "display_data",
          "data": {
            "text/plain": [
              "<IPython.core.display.HTML object>"
            ],
            "text/html": [
              "Find logs at: <code>./wandb/run-20250213_072247-802mccg3/logs</code>"
            ]
          },
          "metadata": {}
        },
        {
          "output_type": "display_data",
          "data": {
            "text/plain": [
              "<IPython.core.display.HTML object>"
            ],
            "text/html": [
              "Tracking run with wandb version 0.19.6"
            ]
          },
          "metadata": {}
        },
        {
          "output_type": "display_data",
          "data": {
            "text/plain": [
              "<IPython.core.display.HTML object>"
            ],
            "text/html": [
              "Run data is saved locally in <code>/content/wandb/run-20250213_072332-3hwn626s</code>"
            ]
          },
          "metadata": {}
        },
        {
          "output_type": "display_data",
          "data": {
            "text/plain": [
              "<IPython.core.display.HTML object>"
            ],
            "text/html": [
              "Resuming run <strong><a href='https://wandb.ai/overfit1010/finrl-dt-replicate/runs/3hwn626s' target=\"_blank\">DOW-30 | 2016-04 | 2016 Q3 | 2016 Q4 | 3hwn626s</a></strong> to <a href='https://wandb.ai/overfit1010/finrl-dt-replicate' target=\"_blank\">Weights & Biases</a> (<a href='https://wandb.me/developer-guide' target=\"_blank\">docs</a>)<br>Sweep page: <a href='https://wandb.ai/overfit1010/finrl-dt-replicate/sweeps/v9ciq41s' target=\"_blank\">https://wandb.ai/overfit1010/finrl-dt-replicate/sweeps/v9ciq41s</a>"
            ]
          },
          "metadata": {}
        },
        {
          "output_type": "display_data",
          "data": {
            "text/plain": [
              "<IPython.core.display.HTML object>"
            ],
            "text/html": [
              " View project at <a href='https://wandb.ai/overfit1010/finrl-dt-replicate' target=\"_blank\">https://wandb.ai/overfit1010/finrl-dt-replicate</a>"
            ]
          },
          "metadata": {}
        },
        {
          "output_type": "display_data",
          "data": {
            "text/plain": [
              "<IPython.core.display.HTML object>"
            ],
            "text/html": [
              " View sweep at <a href='https://wandb.ai/overfit1010/finrl-dt-replicate/sweeps/v9ciq41s' target=\"_blank\">https://wandb.ai/overfit1010/finrl-dt-replicate/sweeps/v9ciq41s</a>"
            ]
          },
          "metadata": {}
        },
        {
          "output_type": "display_data",
          "data": {
            "text/plain": [
              "<IPython.core.display.HTML object>"
            ],
            "text/html": [
              " View run at <a href='https://wandb.ai/overfit1010/finrl-dt-replicate/runs/3hwn626s' target=\"_blank\">https://wandb.ai/overfit1010/finrl-dt-replicate/runs/3hwn626s</a>"
            ]
          },
          "metadata": {}
        },
        {
          "output_type": "stream",
          "name": "stderr",
          "text": [
            "\u001b[34m\u001b[1mwandb\u001b[0m:   99 of 99 files downloaded.  \n"
          ]
        },
        {
          "output_type": "stream",
          "name": "stdout",
          "text": [
            "Using cached data: cache/2016-04-01 00:00:00_2016-07-01 00:00:00_1d_e4ea6619c36bd5c7165dda736c285494aa3defe9ac6b9a4e0ed8216efc4875c7.csv\n",
            "Using cached data: cache/2016-07-01 00:00:00_2016-10-01 00:00:00_1d_e4ea6619c36bd5c7165dda736c285494aa3defe9ac6b9a4e0ed8216efc4875c7.csv\n"
          ]
        },
        {
          "output_type": "stream",
          "name": "stderr",
          "text": [
            "\r[                       0%                       ]"
          ]
        },
        {
          "output_type": "stream",
          "name": "stdout",
          "text": [
            "Creating new data.\n"
          ]
        },
        {
          "output_type": "stream",
          "name": "stderr",
          "text": [
            "[*********************100%***********************]  30 of 30 completed\n",
            "ERROR:yfinance:\n",
            "1 Failed download:\n",
            "ERROR:yfinance:['DOW']: YFPricesMissingError('$%ticker%: possibly delisted; no price data found  (1d 2016-10-01 00:00:00 -> 2017-01-01 00:00:00) (Yahoo error = \"Data doesn\\'t exist for startDate = 1475294400, endDate = 1483246800\")')\n"
          ]
        },
        {
          "output_type": "stream",
          "name": "stdout",
          "text": [
            "NaN data on start date, fill using first valid data.\n",
            "Missing data for ticker:  DOW  . The prices are all NaN. Fill with 0.\n"
          ]
        },
        {
          "output_type": "stream",
          "name": "stderr",
          "text": [
            "\r[*********************100%***********************]  1 of 1 completed\n"
          ]
        },
        {
          "output_type": "stream",
          "name": "stdout",
          "text": [
            "cleaned_vix\n",
            "                    timestamp   open   high    low  close  volume   tic\n",
            "0  2016-10-03 00:00:00-04:00  13.75  14.42  13.42  13.57     0.0  ^VIX\n",
            "1  2016-10-04 00:00:00-04:00  13.40  14.57  12.92  13.63     0.0  ^VIX\n",
            "2  2016-10-05 00:00:00-04:00  13.56  13.68  12.70  12.99     0.0  ^VIX\n",
            "3  2016-10-06 00:00:00-04:00  13.11  13.84  12.80  12.84     0.0  ^VIX\n",
            "4  2016-10-07 00:00:00-04:00  13.52  14.15  12.21  13.48     0.0  ^VIX\n",
            "..                       ...    ...    ...    ...    ...     ...   ...\n",
            "58 2016-12-23 00:00:00-05:00  11.38  11.81  11.35  11.44     0.0  ^VIX\n",
            "59 2016-12-27 00:00:00-05:00  12.26  12.33  11.84  11.99     0.0  ^VIX\n",
            "60 2016-12-28 00:00:00-05:00  11.89  13.04  11.85  12.95     0.0  ^VIX\n",
            "61 2016-12-29 00:00:00-05:00  13.15  13.71  12.95  13.37     0.0  ^VIX\n",
            "62 2016-12-30 00:00:00-05:00  13.20  14.68  13.05  14.04     0.0  ^VIX\n",
            "\n",
            "[63 rows x 7 columns]\n",
            "cleaned_vix[[\"timestamp\", \"close\"]\n",
            "                    timestamp  close\n",
            "0  2016-10-03 00:00:00-04:00  13.57\n",
            "1  2016-10-04 00:00:00-04:00  13.63\n",
            "2  2016-10-05 00:00:00-04:00  12.99\n",
            "3  2016-10-06 00:00:00-04:00  12.84\n",
            "4  2016-10-07 00:00:00-04:00  13.48\n",
            "..                       ...    ...\n",
            "58 2016-12-23 00:00:00-05:00  11.44\n",
            "59 2016-12-27 00:00:00-05:00  11.99\n",
            "60 2016-12-28 00:00:00-05:00  12.95\n",
            "61 2016-12-29 00:00:00-05:00  13.37\n",
            "62 2016-12-30 00:00:00-05:00  14.04\n",
            "\n",
            "[63 rows x 2 columns]\n",
            "vix.rename(columns={\"close\": \"^VIX\"}\n",
            "                    timestamp   ^VIX\n",
            "0  2016-10-03 00:00:00-04:00  13.57\n",
            "1  2016-10-04 00:00:00-04:00  13.63\n",
            "2  2016-10-05 00:00:00-04:00  12.99\n",
            "3  2016-10-06 00:00:00-04:00  12.84\n",
            "4  2016-10-07 00:00:00-04:00  13.48\n",
            "..                       ...    ...\n",
            "58 2016-12-23 00:00:00-05:00  11.44\n",
            "59 2016-12-27 00:00:00-05:00  11.99\n",
            "60 2016-12-28 00:00:00-05:00  12.95\n",
            "61 2016-12-29 00:00:00-05:00  13.37\n",
            "62 2016-12-30 00:00:00-05:00  14.04\n",
            "\n",
            "[63 rows x 2 columns]\n",
            "df\n",
            "                      timestamp        open        high         low  \\\n",
            "0    2016-10-03 00:00:00-04:00   25.933698   26.011931   25.834759   \n",
            "63   2016-10-03 00:00:00-04:00  129.846925  131.043345  128.587945   \n",
            "126  2016-10-03 00:00:00-04:00   56.549270   56.744177   56.292348   \n",
            "189  2016-10-03 00:00:00-04:00  120.787813  122.112727  120.290977   \n",
            "252  2016-10-03 00:00:00-04:00   72.095362   72.879806   72.046330   \n",
            "...                        ...         ...         ...         ...   \n",
            "1637 2016-12-30 00:00:00-05:00  143.314921  143.412614  141.964998   \n",
            "1700 2016-12-30 00:00:00-05:00   74.077643   74.181539   73.614836   \n",
            "1763 2016-12-30 00:00:00-05:00   34.881344   34.939968   34.633819   \n",
            "1826 2016-12-30 00:00:00-05:00   58.906618   59.019550   58.172579   \n",
            "1889 2016-12-30 00:00:00-05:00   19.949791   20.039264   19.866088   \n",
            "\n",
            "           close      volume   tic      macd     boll_ub     boll_lb  \\\n",
            "0      25.889980  86807200.0  AAPL  0.000000         NaN         NaN   \n",
            "63    130.855667   2514600.0  AMGN  0.000000         NaN         NaN   \n",
            "126    56.531551   2770000.0   AXP  0.000000         NaN         NaN   \n",
            "189   121.799904   2439400.0    BA  0.000000         NaN         NaN   \n",
            "252    72.136215   4294600.0   CAT  0.000000         NaN         NaN   \n",
            "...          ...         ...   ...       ...         ...         ...   \n",
            "1637  142.133728   2855600.0   UNH  2.116203  145.577564  139.791214   \n",
            "1700   73.690392   7127300.0     V -0.345393   75.645602   72.282985   \n",
            "1763   34.770611  12440800.0    VZ  0.687795   35.694647   32.327560   \n",
            "1826   58.412556   3343200.0   WBA -0.023307   61.842312   58.388313   \n",
            "1889   19.949791  20668500.0   WMT -0.048151   20.871087   19.788425   \n",
            "\n",
            "         rsi_30      cci_30      dx_30  close_30_sma  close_60_sma  \n",
            "0           NaN         NaN        NaN     25.889980     25.889980  \n",
            "63          NaN         NaN        NaN    130.855667    130.855667  \n",
            "126         NaN         NaN        NaN     56.531551     56.531551  \n",
            "189         NaN         NaN        NaN    121.799904    121.799904  \n",
            "252         NaN         NaN        NaN     72.136215     72.136215  \n",
            "...         ...         ...        ...           ...           ...  \n",
            "1637  61.757186   43.309275  18.552942    140.516376    132.843933  \n",
            "1700  44.292954  -39.782862  16.820880     74.313447     75.733374  \n",
            "1763  62.570346   95.312027  20.952377     33.453523     32.516950  \n",
            "1826  48.390746 -147.383198   0.378955     59.931450     58.325488  \n",
            "1889  45.642890  -91.634313  18.051321     20.267990     20.081613  \n",
            "\n",
            "[1890 rows x 15 columns]\n",
            "Evaluating for `val` using `^VIX`: 12\n",
            "Initializing env... Done.\n",
            "{'sharpe_ratio': 0.5131064862300536, 'mdd': -2.5814396309598377, 'ann_return': 4.863165311033035, 'cum_return': 0.8361094888589579}\n",
            "Evaluating for `val` using `^VIX`: 13\n",
            "Initializing env... Done.\n",
            "{'sharpe_ratio': -4.099964126984463, 'mdd': -6.703192186530095, 'ann_return': -31.822970887461466, 'cum_return': -6.4961077583340225}\n",
            "Evaluating for `val` using `^VIX`: 13\n",
            "Initializing env... Done.\n",
            "{'sharpe_ratio': -0.9718759477390118, 'mdd': -6.924943959679267, 'ann_return': -14.525730160648143, 'cum_return': -2.7145592329631327}\n",
            "Evaluating for `val` using `^VIX`: 14\n",
            "Initializing env... Done.\n",
            "{'sharpe_ratio': -1.9301470883817058, 'mdd': -5.9947907130969575, 'ann_return': -23.867034626718187, 'cum_return': -4.668884856565143}\n",
            "Evaluating for `val` using `^VIX`: 15\n",
            "Initializing env... Done.\n",
            "{'sharpe_ratio': -1.2984366854369553, 'mdd': -7.293340302841165, 'ann_return': -16.786534168731027, 'cum_return': -3.1707538081656965}\n",
            "Evaluating for `val` using `^VIX`: 16\n",
            "Initializing env... Done.\n",
            "{'sharpe_ratio': 0.900808918899086, 'mdd': -5.955894654465313, 'ann_return': 13.10125142672145, 'cum_return': 2.182166748423071}\n",
            "Evaluating for `val` using `^VIX`: 16\n",
            "Initializing env... Done.\n",
            "{'sharpe_ratio': -1.2450399702334274, 'mdd': -5.417806524052114, 'ann_return': -21.914859823521127, 'cum_return': -4.244731727931401}\n",
            "Evaluating for `val` using `^VIX`: 17\n",
            "Initializing env... Done.\n",
            "{'sharpe_ratio': 1.012046654143276, 'mdd': -5.725537950657717, 'ann_return': 17.360485882880504, 'cum_return': 2.846647887957763}\n",
            "Evaluating for `val` using `^VIX`: 18\n",
            "Initializing env... Done.\n",
            "{'sharpe_ratio': -1.1360529389113092, 'mdd': -4.675817766279952, 'ann_return': -17.280343304493016, 'cum_return': -3.2717545054843358}\n",
            "Evaluating for `val` using `^VIX`: 19\n",
            "Initializing env... Done.\n",
            "{'sharpe_ratio': 0.043328529996155905, 'mdd': -4.922313353508189, 'ann_return': -0.4383594593925011, 'cum_return': -0.077002328608447}\n",
            "Evaluating for `val` using `^VIX`: 20\n",
            "Initializing env... Done.\n",
            "{'sharpe_ratio': 0.33756125835644607, 'mdd': -4.62881420632406, 'ann_return': 5.4052649053127455, 'cum_return': 0.9273180278207291}\n"
          ]
        },
        {
          "output_type": "stream",
          "name": "stderr",
          "text": [
            "\u001b[34m\u001b[1mwandb\u001b[0m: Adding directory to artifact (./cum_return-val-vix)... Done. 0.0s\n"
          ]
        },
        {
          "output_type": "stream",
          "name": "stdout",
          "text": [
            "Evaluating for `test` using `^VIX`: 12\n",
            "Initializing env... Done.\n",
            "{'sharpe_ratio': -0.3302200733381484, 'mdd': -0.8719237580807264, 'ann_return': -1.1475193067450595, 'cum_return': -0.1990118706550129}\n",
            "Evaluating for `test` using `^VIX`: 13\n",
            "Initializing env... Done.\n",
            "{'sharpe_ratio': 1.8535768936502888, 'mdd': -1.306577423098772, 'ann_return': 12.647276687484466, 'cum_return': 2.0768204634399736}\n",
            "Evaluating for `test` using `^VIX`: 14\n",
            "Initializing env... Done.\n",
            "{'sharpe_ratio': 1.921326446855309, 'mdd': -1.69561213856477, 'ann_return': 19.07673632415463, 'cum_return': 3.0594771047898104}\n",
            "Evaluating for `test` using `^VIX`: 16\n",
            "Initializing env... Done.\n",
            "{'sharpe_ratio': 2.976662068404578, 'mdd': -2.9583117260878087, 'ann_return': 40.696780544268464, 'cum_return': 6.070411148548156}\n",
            "Evaluating for `test` using `^VIX`: 17\n",
            "Initializing env... Done.\n",
            "{'sharpe_ratio': 2.9370560533422294, 'mdd': -2.766882860949355, 'ann_return': 41.04603300279006, 'cum_return': 6.115810714992549}\n",
            "Evaluating for `test` using `^VIX`: 18\n",
            "Initializing env... Done.\n",
            "{'sharpe_ratio': 2.7388976832709653, 'mdd': -2.766882860949355, 'ann_return': 38.117984995913986, 'cum_return': 5.732274451984442}\n",
            "Evaluating for `test` using `^VIX`: 19\n",
            "Initializing env... Done.\n",
            "{'sharpe_ratio': 2.8776444669861143, 'mdd': -2.7425196436802377, 'ann_return': 39.519601614304214, 'cum_return': 5.9166988642959915}\n",
            "Evaluating for `test` using `^VIX`: 21\n",
            "Initializing env... Done.\n",
            "{'sharpe_ratio': 2.6623570798158824, 'mdd': -2.9562624726788873, 'ann_return': 36.307342780885946, 'cum_return': 5.49172436971667}\n",
            "Evaluating for `test` using `^VIX`: 22\n",
            "Initializing env... Done.\n",
            "{'sharpe_ratio': 2.6623570798158824, 'mdd': -2.9562624726788873, 'ann_return': 36.307342780885946, 'cum_return': 5.49172436971667}\n",
            "Evaluating for `test` using `^VIX`: 23\n",
            "Initializing env... Done.\n",
            "{'sharpe_ratio': 1.6262758968820163, 'mdd': -3.1923911336378543, 'ann_return': 25.446728090200963, 'cum_return': 3.9906640741539157}\n",
            "Evaluating for `test` using `^VIX`: 24\n",
            "Initializing env... Done.\n",
            "{'sharpe_ratio': 1.6262758968820163, 'mdd': -3.1923911336378543, 'ann_return': 25.446728090200963, 'cum_return': 3.9906640741539157}\n",
            "Evaluating for `test` using `^VIX`: 17\n",
            "Initializing env... Done.\n",
            "{'sharpe_ratio': 2.9370560533422294, 'mdd': -2.766882860949355, 'ann_return': 41.04603300279006, 'cum_return': 6.115810714992549}\n"
          ]
        }
      ],
      "source": [
        "#@title evaluate_threshold_grid (sweep)\n",
        "\n",
        "import wandb\n",
        "\n",
        "SWEEP_ID = \"v9ciq41s\"  # Replace with the actual run ID\n",
        "REVERSE = True\n",
        "\n",
        "LIMIT = None\n",
        "FIRST_IDX = None\n",
        "LAST_IDX = None\n",
        "\n",
        "##############################################\n",
        "\n",
        "api = wandb.Api()\n",
        "sweep_runs = api.sweep(f\"{ENTITY}/{PROJECT}/{SWEEP_ID}\").runs\n",
        "\n",
        "wandb.finish()\n",
        "\n",
        "if REVERSE:\n",
        "    sweep_runs = reversed(sweep_runs)\n",
        "\n",
        "for idx, run in enumerate(sweep_runs):\n",
        "    if FIRST_IDX is not None and idx < FIRST_IDX:\n",
        "        continue\n",
        "\n",
        "    if LAST_IDX is not None and idx >= LAST_IDX:\n",
        "        break\n",
        "\n",
        "    if LIMIT is not None and idx == LIMIT:\n",
        "        break\n",
        "\n",
        "    wandb.init(project=PROJECT, id=run.id, resume='must')\n",
        "\n",
        "    download_artifacts(run.id)\n",
        "    rl_module = load_rl_module(model_name)\n",
        "\n",
        "    (\n",
        "        train_np_env_config,\n",
        "        val_np_env_config,\n",
        "        test_np_env_config\n",
        "    ) = build_quarterly_train_val_test(run.config)\n",
        "\n",
        "    val_best_th = evaluate_threshold_grid(\n",
        "        rl_module,\n",
        "        model_name,\n",
        "        run_config,\n",
        "        val_np_env_config,\n",
        "        split_label='val',\n",
        "    )\n",
        "\n",
        "    _ = evaluate_threshold_grid(\n",
        "        rl_module,\n",
        "        model_name,\n",
        "        run_config,\n",
        "        test_np_env_config,\n",
        "        split_label='test',\n",
        "        chosen_th=val_best_th\n",
        "    )\n",
        "\n",
        "    wandb.finish()"
      ]
    }
  ],
  "metadata": {
    "colab": {
      "collapsed_sections": [
        "Y-J5mD_PTar9",
        "ZTVPIJ3RBLk-",
        "SIU-vXqDRW3L",
        "oWn4ZCwkvtN3",
        "hWUph5lzrTUS",
        "Op7oS8Jw1pgx",
        "BxBLqeRsh711",
        "UiWaQLQ7rSs5",
        "_BZTsxX0tkDZ"
      ],
      "provenance": [],
      "authorship_tag": "ABX9TyN3rGPYg/2kfE3Jp5l4nFcU",
      "include_colab_link": true
    },
    "kernelspec": {
      "display_name": "Python 3",
      "name": "python3"
    },
    "language_info": {
      "name": "python"
    }
  },
  "nbformat": 4,
  "nbformat_minor": 0
}