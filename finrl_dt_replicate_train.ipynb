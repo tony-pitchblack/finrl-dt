{
  "cells": [
    {
      "cell_type": "markdown",
      "metadata": {
        "id": "view-in-github",
        "colab_type": "text"
      },
      "source": [
        "<a href=\"https://colab.research.google.com/github/tony-pitchblack/finrl-dt/blob/custom-backtesting/finrl_dt_replicate_train.ipynb\" target=\"_parent\"><img src=\"https://colab.research.google.com/assets/colab-badge.svg\" alt=\"Open In Colab\"/></a>"
      ]
    },
    {
      "cell_type": "markdown",
      "metadata": {
        "id": "Y-J5mD_PTar9"
      },
      "source": [
        "#Installs"
      ]
    },
    {
      "cell_type": "code",
      "execution_count": 97,
      "metadata": {
        "id": "_K-t2T8ZgHq-",
        "colab": {
          "base_uri": "https://localhost:8080/"
        },
        "outputId": "67d6e5de-d46f-470c-9cda-ba8d8da5c14f"
      },
      "outputs": [
        {
          "output_type": "stream",
          "name": "stdout",
          "text": [
            "The autoreload extension is already loaded. To reload it, use:\n",
            "  %reload_ext autoreload\n"
          ]
        }
      ],
      "source": [
        "# %load_ext autoreload\n",
        "# %autoreload 2"
      ]
    },
    {
      "cell_type": "code",
      "execution_count": 98,
      "metadata": {
        "id": "twCZdyVzDtBY"
      },
      "outputs": [],
      "source": [
        "%%capture\n",
        "!pip install git+https://github.com/tony-pitchblack/FinRL.git@benchmarking --no-deps \\\n",
        "    # --force-reinstall"
      ]
    },
    {
      "cell_type": "code",
      "execution_count": 2,
      "metadata": {
        "id": "1S3eA6pMHTxn"
      },
      "outputs": [],
      "source": [
        "%%capture\n",
        "# Install the dependencies listed in the requirements.txt file\n",
        "!wget https://raw.githubusercontent.com/tony-pitchblack/FinRL/benchmarking/requirements.txt -O requirements.txt\n",
        "!pip install -r requirements.txt"
      ]
    },
    {
      "cell_type": "code",
      "execution_count": 3,
      "metadata": {
        "id": "fpXql7QsTHzZ"
      },
      "outputs": [],
      "source": [
        "# %%capture\n",
        "# !pip install ray[rllib]"
      ]
    },
    {
      "cell_type": "markdown",
      "metadata": {
        "id": "ZTVPIJ3RBLk-"
      },
      "source": [
        "# Installs (old)"
      ]
    },
    {
      "cell_type": "code",
      "execution_count": null,
      "metadata": {
        "id": "FjEBRlmyPp2a"
      },
      "outputs": [],
      "source": [
        "# %%capture\n",
        "# !pip install -q yfinance==0.2.50\n",
        "# !pip install stable-baselines3\n",
        "# !pip install finrl\n",
        "# !pip install alpaca_trade_api\n",
        "# !pip install exchange_calendars\n",
        "# !pip install stockstats\n",
        "# !pip install wrds"
      ]
    },
    {
      "cell_type": "code",
      "execution_count": null,
      "metadata": {
        "id": "_RTmg2pwpR2W"
      },
      "outputs": [],
      "source": [
        "# %%capture\n",
        "# import numpy as np\n",
        "\n",
        "# if np.__version__ != '1.26.4':\n",
        "#     !pip install -q numpy==1.26.4 --force-reinstall\n",
        "\n",
        "# import pandas as pd\n",
        "\n",
        "# if pd.__version__ != '2.2.2':\n",
        "#     !pip install -q pandas==2.2.2 --force-reinstall"
      ]
    },
    {
      "cell_type": "code",
      "execution_count": null,
      "metadata": {
        "id": "HBuGuB06UJwT"
      },
      "outputs": [],
      "source": [
        "# %%capture\n",
        "# !pip install ray[rllib]"
      ]
    },
    {
      "cell_type": "markdown",
      "metadata": {
        "id": "SIU-vXqDRW3L"
      },
      "source": [
        "# Imports"
      ]
    },
    {
      "cell_type": "code",
      "execution_count": 1,
      "metadata": {
        "id": "J4xitjm7BQaf"
      },
      "outputs": [],
      "source": [
        "# %load_ext autoreload\n",
        "# %autoreload 2"
      ]
    },
    {
      "cell_type": "code",
      "execution_count": 2,
      "metadata": {
        "id": "US_vB7hNSdeu"
      },
      "outputs": [],
      "source": [
        "import pandas as pd\n",
        "\n",
        "from finrl.meta.env_stock_trading.env_stocktrading import StockTradingEnv\n",
        "from finrl.agents.stablebaselines3.models import DRLAgent\n",
        "from stable_baselines3.common.logger import configure\n",
        "from finrl import config_tickers\n",
        "from finrl.main import check_and_make_directories\n",
        "from finrl.config import INDICATORS, TRAINED_MODEL_DIR, RESULTS_DIR\n",
        "\n",
        "import warnings\n",
        "warnings.filterwarnings(\"ignore\", category=DeprecationWarning)"
      ]
    },
    {
      "cell_type": "code",
      "execution_count": 3,
      "metadata": {
        "id": "HJsl_3tVre6q"
      },
      "outputs": [],
      "source": [
        "import os\n",
        "from pathlib import Path\n",
        "import pandas as pd\n",
        "import numpy as np\n",
        "from tqdm.notebook import tqdm\n",
        "import torch\n",
        "import warnings\n",
        "warnings.filterwarnings(\"ignore\", category=DeprecationWarning)"
      ]
    },
    {
      "cell_type": "code",
      "execution_count": 4,
      "metadata": {
        "id": "I9s6zvbUAsyq"
      },
      "outputs": [],
      "source": [
        "os.environ[\"WANDB_API_KEY\"] = \"aee284a72205e2d6787bd3ce266c5b9aefefa42c\"\n",
        "\n",
        "PROJECT = 'finrl-dt-replicate'\n",
        "ENTITY = \"overfit1010\""
      ]
    },
    {
      "cell_type": "markdown",
      "metadata": {
        "id": "oWn4ZCwkvtN3"
      },
      "source": [
        "# General funcs"
      ]
    },
    {
      "cell_type": "code",
      "execution_count": 5,
      "metadata": {
        "id": "gbd4N4QLPXlL"
      },
      "outputs": [],
      "source": [
        "#@title YahooDownloader (compatible with original FinRL)\n",
        "\n",
        "from __future__ import annotations\n",
        "\n",
        "import pandas as pd\n",
        "import yfinance as yf\n",
        "\n",
        "\n",
        "class YahooDownloader:\n",
        "    \"\"\"Provides methods for retrieving daily stock data from\n",
        "    Yahoo Finance API\n",
        "\n",
        "    Attributes\n",
        "    ----------\n",
        "        start_date : str\n",
        "            start date of the data (modified from neofinrl_config.py)\n",
        "        end_date : str\n",
        "            end date of the data (modified from neofinrl_config.py)\n",
        "        ticker_list : list\n",
        "            a list of stock tickers (modified from neofinrl_config.py)\n",
        "\n",
        "    Methods\n",
        "    -------\n",
        "    fetch_data()\n",
        "        Fetches data from yahoo API\n",
        "\n",
        "    \"\"\"\n",
        "\n",
        "    def __init__(self, start_date: str, end_date: str, ticker_list: list):\n",
        "        self.start_date = start_date\n",
        "        self.end_date = end_date\n",
        "        self.ticker_list = ticker_list\n",
        "\n",
        "    def fetch_data(self, proxy=None) -> pd.DataFrame:\n",
        "        \"\"\"Fetches data from Yahoo API\n",
        "        Parameters\n",
        "        ----------\n",
        "\n",
        "        Returns\n",
        "        -------\n",
        "        `pd.DataFrame`\n",
        "            7 columns: A date, open, high, low, close, volume and tick symbol\n",
        "            for the specified stock ticker\n",
        "        \"\"\"\n",
        "        # Download and save the data in a pandas DataFrame:\n",
        "        data_df = pd.DataFrame()\n",
        "        num_failures = 0\n",
        "        for tic in self.ticker_list:\n",
        "            temp_df = yf.download(\n",
        "                tic, start=self.start_date, end=self.end_date, proxy=proxy\n",
        "            )\n",
        "            temp_df[\"tic\"] = tic\n",
        "            if len(temp_df) > 0:\n",
        "                # data_df = data_df.append(temp_df)\n",
        "                data_df = pd.concat([data_df, temp_df], axis=0)\n",
        "            else:\n",
        "                num_failures += 1\n",
        "        if num_failures == len(self.ticker_list):\n",
        "            raise ValueError(\"no data is fetched.\")\n",
        "        # reset the index, we want to use numbers as index instead of dates\n",
        "        data_df = data_df.reset_index()\n",
        "\n",
        "        try:\n",
        "            # Convert wide to long format\n",
        "            # print(f\"DATA COLS: {data_df.columns}\")\n",
        "            data_df = data_df.sort_index(axis=1).set_index(['Date']).drop(columns=['tic']).stack(level='Ticker', future_stack=True)\n",
        "            data_df.reset_index(inplace=True)\n",
        "            data_df.columns.name = ''\n",
        "\n",
        "            # convert the column names to standardized names\n",
        "            data_df.rename(columns={'Ticker': 'Tic', 'Adj Close': 'Adjcp'}, inplace=True)\n",
        "            data_df.rename(columns={col: col.lower() for col in data_df.columns}, inplace=True)\n",
        "\n",
        "            columns = [\n",
        "                \"date\",\n",
        "                \"tic\",\n",
        "                \"open\",\n",
        "                \"high\",\n",
        "                \"low\",\n",
        "                \"close\",\n",
        "                # \"adjcp\",\n",
        "                \"volume\",\n",
        "            ]\n",
        "\n",
        "            data_df = data_df[columns]\n",
        "            if 'adjcp' in data_df.columns:\n",
        "                # use adjusted close price instead of close price\n",
        "                data_df[\"close\"] = data_df[\"adjcp\"]\n",
        "                # drop the adjusted close price column\n",
        "                data_df = data_df.drop(labels=\"adjcp\", axis=1)\n",
        "\n",
        "        except NotImplementedError:\n",
        "            print(\"the features are not supported currently\")\n",
        "\n",
        "        # create day of the week column (monday = 0)\n",
        "        data_df[\"day\"] = data_df[\"date\"].dt.dayofweek\n",
        "        # convert date to standard string format, easy to filter\n",
        "        data_df[\"date\"] = data_df.date.apply(lambda x: x.strftime(\"%Y-%m-%d\"))\n",
        "        # drop missing data\n",
        "        data_df = data_df.dropna()\n",
        "        data_df = data_df.reset_index(drop=True)\n",
        "        print(\"Shape of DataFrame: \", data_df.shape)\n",
        "        # print(\"Display DataFrame: \", data_df.head())\n",
        "\n",
        "        data_df = data_df.sort_values(by=[\"date\", \"tic\"]).reset_index(drop=True)\n",
        "\n",
        "        return data_df\n",
        "\n",
        "    def select_equal_rows_stock(self, df):\n",
        "        df_check = df.tic.value_counts()\n",
        "        df_check = pd.DataFrame(df_check).reset_index()\n",
        "        df_check.columns = [\"tic\", \"counts\"]\n",
        "        mean_df = df_check.counts.mean()\n",
        "        equal_list = list(df.tic.value_counts() >= mean_df)\n",
        "        names = df.tic.value_counts().index\n",
        "        select_stocks_list = list(names[equal_list])\n",
        "        df = df[df.tic.isin(select_stocks_list)]\n",
        "        return df"
      ]
    },
    {
      "cell_type": "code",
      "execution_count": 6,
      "metadata": {
        "cellView": "form",
        "id": "YhIyXmfQ8EAS"
      },
      "outputs": [],
      "source": [
        "#@title fix_daily_index\n",
        "\n",
        "def make_daily_index(data_df, date_column='date', new_index_name='date_index'):\n",
        "    # Get unique dates and create a mapping to daily indices\n",
        "    total_dates = data_df[date_column].unique()\n",
        "    date_to_index = {date: idx for idx, date in enumerate(sorted(total_dates))}\n",
        "    return data_df[date_column].map(date_to_index)\n",
        "\n",
        "def set_daily_index(data_df, date_column='date', new_index_name='date_index'):\n",
        "    \"\"\"\n",
        "    Constructs a daily index from unique dates in the specified column.\n",
        "\n",
        "    Parameters:\n",
        "        data_df (pd.DataFrame): The input DataFrame.\n",
        "        date_column (str): The name of the column containing dates.\n",
        "        new_index_name (str): The name for the new index.\n",
        "\n",
        "    Returns:\n",
        "        pd.DataFrame: DataFrame with a daily index.\n",
        "    \"\"\"\n",
        "\n",
        "    # Map dates to daily indices and set as index\n",
        "    data_df[new_index_name] = make_daily_index(data_df, date_column='date', new_index_name='date_index')\n",
        "\n",
        "    data_df.set_index(new_index_name, inplace=True)\n",
        "    data_df.index.name = ''  # Remove the index name for simplicity\n",
        "\n",
        "    return data_df\n",
        "\n",
        "def fix_daily_index(df):\n",
        "    if df.index.name == 'date':\n",
        "        df.reset_index(inplace=True)\n",
        "\n",
        "    daily_index = make_daily_index(df, date_column='date', new_index_name='date_index')\n",
        "    if (df.index.values != daily_index.values).any():\n",
        "\n",
        "        df.index = daily_index\n",
        "        df.index.name = ''\n",
        "\n",
        "    return df\n",
        "\n",
        "# trade = fix_daily_index(trade)\n",
        "# trade.index"
      ]
    },
    {
      "cell_type": "code",
      "execution_count": 7,
      "metadata": {
        "id": "GQ6BIJxbwuVh"
      },
      "outputs": [],
      "source": [
        "#@title get dataset name\n",
        "\n",
        "get_quarter = lambda date: f'Q{(date.month - 1) // 3 + 1}'\n",
        "\n",
        "def get_quarterly_dataset_name(prefix, train_start_date, val_start_date, test_start_date):\n",
        "    val_quarter = get_quarter(val_start_date)\n",
        "    test_quarter = get_quarter(test_start_date)\n",
        "\n",
        "    # Extract year and month\n",
        "    train_start = f\"{train_start_date.year}-{train_start_date.month:02}\"\n",
        "    val_start = f\"{val_start_date.year}\"\n",
        "    test_start = f\"{test_start_date.year}\"\n",
        "\n",
        "    # Construct the dataset name\n",
        "    dataset_name = f\"{prefix} | {train_start} | {val_start} {val_quarter} | {test_start} {test_quarter}\"\n",
        "\n",
        "    return dataset_name\n",
        "\n",
        "def get_yearly_dataset_name(prefix, train_start, test_start, test_end):\n",
        "    # Extract year and month\n",
        "    train_start_str = f\"{train_start.year}-{train_start.month:02}\"\n",
        "    test_start_str = f\"{test_start.year}-{test_start.month:02}\"\n",
        "    test_end_str = f\"{test_end.year}-{test_end.month:02}\"\n",
        "\n",
        "    # Construct the dataset name\n",
        "    dataset_name = f\"{prefix} | {train_start_str} | {test_start_str} | {test_end_str}\"\n",
        "    return dataset_name\n"
      ]
    },
    {
      "cell_type": "code",
      "execution_count": 8,
      "metadata": {
        "cellView": "form",
        "id": "TOfz3JlX-oG5"
      },
      "outputs": [],
      "source": [
        "#@title add_dataset\n",
        "\n",
        "def add_dataset(stock_index_name, train_df, test_df):\n",
        "    if 'datasets' not in globals():\n",
        "        global datasets\n",
        "        datasets = {}\n",
        "\n",
        "    # Ensure datetime format\n",
        "    if 'date' in train_df.columns:\n",
        "        train_df.set_index('date', inplace=True)\n",
        "    train_df.index = pd.to_datetime(train_df.index)\n",
        "\n",
        "    if 'date' in test_df.columns:\n",
        "        test_df.set_index('date', inplace=True)\n",
        "    test_df.index = pd.to_datetime(test_df.index)\n",
        "\n",
        "    train_start_date = train_df.index[0]\n",
        "    test_start_date = test_df.index[0]\n",
        "    test_end_date = test_df.index[-1]\n",
        "\n",
        "    dataset_name = get_yearly_dataset_name(\n",
        "        stock_index_name,\n",
        "        train_start_date, test_start_date, test_end_date\n",
        "    )\n",
        "\n",
        "    train_df.reset_index(inplace=True)\n",
        "    test_df.reset_index(inplace=True)\n",
        "\n",
        "    train_df = set_daily_index(train_df)\n",
        "    test_df = set_daily_index(test_df)\n",
        "\n",
        "    ticker_list = train_df.tic.unique().tolist()\n",
        "\n",
        "    datasets[dataset_name] = {\n",
        "        'train': train_df,\n",
        "        'test': test_df,\n",
        "        'metadata': dict(\n",
        "            stock_index_name = stock_index_name,\n",
        "            train_start_date = train_start_date,\n",
        "            test_start_date = test_start_date,\n",
        "            test_end_date = test_end_date,\n",
        "            num_tickers = len(ticker_list),\n",
        "            ticker_list = ticker_list,\n",
        "        )\n",
        "    }"
      ]
    },
    {
      "cell_type": "markdown",
      "metadata": {
        "id": "hWUph5lzrTUS"
      },
      "source": [
        "# Load data"
      ]
    },
    {
      "cell_type": "markdown",
      "metadata": {
        "id": "Op7oS8Jw1pgx"
      },
      "source": [
        "## DATA: DOW-30 (rolling yearly windows)"
      ]
    },
    {
      "cell_type": "code",
      "execution_count": 9,
      "metadata": {
        "id": "L9_FOjg-qLA1"
      },
      "outputs": [],
      "source": [
        "#@title download full data\n",
        "%%capture\n",
        "\n",
        "min_test_start_year = 2020\n",
        "max_test_start_year = 2025\n",
        "\n",
        "train_years_count = 10\n",
        "test_years_count = 1.5\n",
        "\n",
        "min_date = \\\n",
        "    pd.Timestamp(year=min_test_start_year, month=1, day=1) - \\\n",
        "    pd.Timedelta(days=int(train_years_count * 365.2425))\n",
        "\n",
        "max_date = \\\n",
        "    pd.Timestamp(year=max_test_start_year, month=1, day=1) + \\\n",
        "    pd.Timedelta(days=int(test_years_count * 365.2425))\n",
        "\n",
        "# data_df = YahooDownloader(\n",
        "#     start_date=min_date,\n",
        "#     end_date=max_date,\n",
        "#     ticker_list=config_tickers.DOW_30_TICKER\n",
        "# ).fetch_data()\n",
        "\n",
        "# data_df['date'] = pd.to_datetime(data_df['date'])\n",
        "\n",
        "# # clip max year w.r.t. to available data\n",
        "# max_data_date = data_df['date'].max()\n",
        "# max_test_start_year = min(max_test_start_year, max_data_date.year)"
      ]
    },
    {
      "cell_type": "code",
      "execution_count": 10,
      "metadata": {
        "id": "UKKGaOBO6XWM"
      },
      "outputs": [],
      "source": [
        "#@title add features\n",
        "\n",
        "# from finrl.meta.preprocessor.preprocessors import FeatureEngineer\n",
        "\n",
        "# fe = FeatureEngineer(use_turbulence=True, use_vix=True)\n",
        "# preprocessed_data_df = fe.preprocess_data(data_df.astype({'date': str}))\n",
        "# preprocessed_data_df.head()"
      ]
    },
    {
      "cell_type": "code",
      "execution_count": 11,
      "metadata": {
        "cellView": "form",
        "id": "tg4lrFhWStNP"
      },
      "outputs": [],
      "source": [
        "#@title get_train_test_split\n",
        "def get_train_test_split(data_df, train_years_count, test_years_count, test_start_year):\n",
        "    test_start_date = pd.Timestamp(year=test_start_year, month=1, day=1)\n",
        "\n",
        "    train_start_date = \\\n",
        "        test_start_date - \\\n",
        "        pd.Timedelta(days=int(train_years_count * 365.2425))\n",
        "\n",
        "    test_end_date = \\\n",
        "        test_start_date + \\\n",
        "        pd.Timedelta(days=int(test_years_count * 365.2425))\n",
        "\n",
        "    # Filter using the 'date' column\n",
        "    train_df = data_df[(data_df['date'] >= train_start_date) & (data_df['date'] < test_start_date)]\n",
        "    test_df = data_df[(data_df['date'] >= test_start_date) & (data_df['date'] < test_end_date)]\n",
        "\n",
        "    return train_df, test_df"
      ]
    },
    {
      "cell_type": "code",
      "execution_count": 12,
      "metadata": {
        "id": "SBiw3TS56LfN"
      },
      "outputs": [],
      "source": [
        "# preprocessed_data_df['date'] = pd.to_datetime(preprocessed_data_df['date'])\n",
        "\n",
        "# for test_start_year in range(min_test_start_year, max_test_start_year + 1):\n",
        "#     train_df, test_df = get_train_test_split(\n",
        "#         # data_df,\n",
        "#         preprocessed_data_df,\n",
        "\n",
        "#         train_years_count, test_years_count, test_start_year\n",
        "#     )\n",
        "\n",
        "#     add_dataset('DOW_30', train_df, test_df)\n",
        "\n",
        "#     print(f\"Train start: {train_df['date'].min()}, Train end: {train_df['date'].max()}\")\n",
        "#     print(f\"Test start: {test_df['date'].min()}, Test end: {test_df['date'].max()}\")\n",
        "#     print()\n",
        "\n",
        "#     # break\n",
        "\n",
        "# print(*list(datasets.keys()), sep='\\n')"
      ]
    },
    {
      "cell_type": "markdown",
      "metadata": {
        "id": "LHIfVohUTAsG"
      },
      "source": [
        "## DATA: DOW-30 (quarterly train/val/test)"
      ]
    },
    {
      "cell_type": "code",
      "execution_count": 13,
      "metadata": {
        "id": "9cdMIPbx377w"
      },
      "outputs": [],
      "source": [
        "train_start_date = '2015-01-01'\n",
        "min_test_start_date = '2016-01-01'\n",
        "max_test_end_date = '2016-10-01'\n",
        "\n",
        "# train_start_date = '2009-01-01'\n",
        "# min_test_start_date = '2016-01-01'\n",
        "# max_test_end_date = '2020-08-01'"
      ]
    },
    {
      "cell_type": "code",
      "execution_count": 14,
      "metadata": {
        "cellView": "form",
        "id": "Y3m7Yc3rTILs"
      },
      "outputs": [],
      "source": [
        "%%capture\n",
        "#@title download\n",
        "\n",
        "# from finrl.meta.preprocessor.yahoodownloader import YahooDownloader\n",
        "\n",
        "# ########################\n",
        "\n",
        "# data_df = YahooDownloader(\n",
        "#     start_date= pd.Timestamp(train_start_date),\n",
        "#     end_date= pd.Timestamp(max_test_end_date),\n",
        "#     ticker_list=config_tickers.DOW_30_TICKER\n",
        "# ).fetch_data()\n",
        "\n",
        "# data_df['date'] = pd.to_datetime(data_df['date'])"
      ]
    },
    {
      "cell_type": "code",
      "execution_count": 15,
      "metadata": {
        "cellView": "form",
        "id": "wQ9IFLWeTILs"
      },
      "outputs": [],
      "source": [
        "#@title add features\n",
        "\n",
        "# from finrl.meta.preprocessor.preprocessors import FeatureEngineer\n",
        "\n",
        "# fe = FeatureEngineer(use_turbulence=True, use_vix=True)\n",
        "# preproc_df = fe.preprocess_data(data_df.astype({'date': str}))\n",
        "# preproc_df['date'] = pd.to_datetime(preproc_df['date'])\n",
        "# # preproc_df.head()"
      ]
    },
    {
      "cell_type": "code",
      "execution_count": 16,
      "metadata": {
        "cellView": "form",
        "id": "SSetOu0ejt2w"
      },
      "outputs": [],
      "source": [
        "#@title generate_quarterly_date_ranges (old)\n",
        "from calendar import monthrange\n",
        "\n",
        "def generate_quarterly_date_ranges(train_start_date, min_test_start_date, max_test_end_date, preproc_df, return_strings=False):\n",
        "    is_quarter_start = lambda date: date.month in [1, 4, 7, 10] and date.day == 1\n",
        "\n",
        "    min_test_start_date = pd.Timestamp(min_test_start_date)\n",
        "    train_start_date = pd.Timestamp(train_start_date)\n",
        "    max_test_end_date = pd.Timestamp(max_test_end_date)\n",
        "\n",
        "    assert is_quarter_start(train_start_date), f\"train_start_date {train_start_date} is not a quarter start date.\"\n",
        "    assert is_quarter_start(min_test_start_date), f\"min_test_start_date {min_test_start_date} is not a quarter start date.\"\n",
        "\n",
        "    assert max_test_end_date + pd.DateOffset(month=3) <= preproc_df['date'].max()\n",
        "    assert train_start_date + pd.DateOffset(days=1) >= preproc_df['date'].min()\n",
        "\n",
        "    test_start_date = min_test_start_date\n",
        "    date_ranges = []\n",
        "    while True:\n",
        "        val_start_date = test_start_date - pd.DateOffset(months=3)\n",
        "        test_end_date = test_start_date + pd.DateOffset(months=3)\n",
        "\n",
        "        if test_end_date > max_test_end_date:\n",
        "            break\n",
        "\n",
        "        date_range = (dict(\n",
        "            train_start_date = train_start_date,\n",
        "            val_start_date = val_start_date,\n",
        "            test_start_date = test_start_date,\n",
        "            test_end_date = test_end_date,\n",
        "        ))\n",
        "\n",
        "        if return_strings:\n",
        "            date_range = {k: str(v) for k, v in date_range.items()}\n",
        "\n",
        "        date_ranges.append(date_range)\n",
        "\n",
        "        test_start_date = test_end_date\n",
        "\n",
        "\n",
        "    return date_ranges\n",
        "\n",
        "# date_ranges = generate_quarterly_date_ranges(train_start_date, min_test_start_date, max_test_end_date, preproc_df)\n",
        "# print(*date_ranges[:2], sep='\\n')"
      ]
    },
    {
      "cell_type": "code",
      "execution_count": 17,
      "metadata": {
        "cellView": "form",
        "colab": {
          "base_uri": "https://localhost:8080/"
        },
        "id": "DGMvKo0wxwYh",
        "outputId": "e5dcc557-de88-465b-a25a-3b870abf4dac"
      },
      "outputs": [
        {
          "output_type": "stream",
          "name": "stdout",
          "text": [
            "{'train_start_date': Timestamp('2015-01-01 00:00:00'), 'val_start_date': Timestamp('2015-10-01 00:00:00'), 'test_start_date': Timestamp('2016-01-01 00:00:00'), 'test_end_date': Timestamp('2016-04-01 00:00:00')}\n",
            "{'train_start_date': Timestamp('2015-10-01 00:00:00'), 'val_start_date': Timestamp('2016-01-01 00:00:00'), 'test_start_date': Timestamp('2016-04-01 00:00:00'), 'test_end_date': Timestamp('2016-07-01 00:00:00')}\n",
            "{'train_start_date': Timestamp('2016-01-01 00:00:00'), 'val_start_date': Timestamp('2016-04-01 00:00:00'), 'test_start_date': Timestamp('2016-07-01 00:00:00'), 'test_end_date': Timestamp('2016-10-01 00:00:00')}\n"
          ]
        }
      ],
      "source": [
        "#@title generate_quarterly_date_ranges\n",
        "\n",
        "def generate_quarterly_date_ranges(\n",
        "    train_start_date,\n",
        "    min_test_start_date,\n",
        "    max_test_end_date,\n",
        "    return_strings=False,\n",
        "    finetune_previous_val=False\n",
        "):\n",
        "    is_quarter_start = lambda date: date.month in [1, 4, 7, 10] and date.day == 1\n",
        "\n",
        "    min_test_start_date = pd.Timestamp(min_test_start_date)\n",
        "    train_start_date = pd.Timestamp(train_start_date)\n",
        "    max_test_end_date = pd.Timestamp(max_test_end_date)\n",
        "\n",
        "    assert is_quarter_start(train_start_date), f\"train_start_date {train_start_date} is not a quarter start date.\"\n",
        "    assert is_quarter_start(min_test_start_date), f\"min_test_start_date {min_test_start_date} is not a quarter start date.\"\n",
        "\n",
        "    test_start_date = min_test_start_date\n",
        "    date_ranges = []\n",
        "    full_train_start_date = train_start_date\n",
        "\n",
        "    while True:\n",
        "        val_start_date = test_start_date - pd.DateOffset(months=3)\n",
        "        test_end_date = test_start_date + pd.DateOffset(months=3)\n",
        "\n",
        "        if test_end_date > max_test_end_date:\n",
        "            break\n",
        "\n",
        "        if len(date_ranges) == 0:\n",
        "            # The first date_range contains the full training period\n",
        "            train_start_date = full_train_start_date\n",
        "        elif finetune_previous_val:\n",
        "            # Use the previous validation range as the training range\n",
        "            train_start_date = date_ranges[-1]['val_start_date']\n",
        "\n",
        "        date_range = dict(\n",
        "            train_start_date=train_start_date,\n",
        "            val_start_date=val_start_date,\n",
        "            test_start_date=test_start_date,\n",
        "            test_end_date=test_end_date,\n",
        "        )\n",
        "\n",
        "        if return_strings:\n",
        "            date_range = {k: str(v) for k, v in date_range.items()}\n",
        "\n",
        "        date_ranges.append(date_range)\n",
        "\n",
        "        test_start_date = test_end_date\n",
        "\n",
        "    return date_ranges\n",
        "\n",
        "date_ranges = generate_quarterly_date_ranges(\n",
        "    train_start_date,\n",
        "    min_test_start_date,\n",
        "    max_test_end_date,\n",
        "    finetune_previous_val=True\n",
        ")\n",
        "\n",
        "print(*date_ranges, sep='\\n')"
      ]
    },
    {
      "cell_type": "code",
      "execution_count": 18,
      "metadata": {
        "cellView": "form",
        "id": "S8GdHjZWTcHu"
      },
      "outputs": [],
      "source": [
        "#@title split_data\n",
        "\n",
        "def split_data(data_df, date_range):\n",
        "    def subset_date_range(df, start_date, end_date):\n",
        "        df = df[(df['date'] >= start_date) & (df['date'] < end_date)]\n",
        "        df = fix_daily_index(df)\n",
        "        return df\n",
        "\n",
        "    return {\n",
        "        'train': subset_date_range(data_df, date_range['train_start_date'], date_range['val_start_date']),\n",
        "        'val': subset_date_range(data_df, date_range['val_start_date'], date_range['test_start_date']),\n",
        "        'test': subset_date_range(data_df, date_range['test_start_date'], date_range['test_end_date']),\n",
        "    }\n",
        "\n",
        "# data_splits = split_data(preproc_df, date_ranges[0])\n",
        "# data_splits['train'].head()"
      ]
    },
    {
      "cell_type": "markdown",
      "metadata": {
        "id": "BxBLqeRsh711"
      },
      "source": [
        "# Wandb funcs"
      ]
    },
    {
      "cell_type": "code",
      "execution_count": 19,
      "metadata": {
        "cellView": "form",
        "id": "VJXt3E2Tiiji"
      },
      "outputs": [],
      "source": [
        "#@title update_artifact\n",
        "\n",
        "def update_artifact(folder_path, name_prefix, type):\n",
        "    \"\"\"\n",
        "    Create or update a W&B artifact consisting of a folder.\n",
        "\n",
        "    Args:\n",
        "        run: The current W&B run.\n",
        "        folder_path (str): Path to the folder to upload.\n",
        "        artifact_name (str): Name of the artifact.\n",
        "        artifact_type (str): Type of the artifact.\n",
        "    \"\"\"\n",
        "    run = wandb.run\n",
        "    artifact_name = f'{name_prefix}-{wandb.run.id}'\n",
        "\n",
        "    # Create a new artifact\n",
        "    artifact = wandb.Artifact(name=artifact_name, type=type)\n",
        "\n",
        "    # Add the folder to the artifact\n",
        "    artifact.add_dir(folder_path)\n",
        "\n",
        "    # Log the artifact to W&B\n",
        "    run.log_artifact(artifact)\n",
        "    print(f\"Artifact '{artifact_name}' has been updated and uploaded.\")"
      ]
    },
    {
      "cell_type": "code",
      "execution_count": 20,
      "metadata": {
        "cellView": "form",
        "id": "bCmdRFmDh-CI"
      },
      "outputs": [],
      "source": [
        "#@title update_model_artifacts\n",
        "\n",
        "def update_model_artifacts(log_results_folder=True):\n",
        "    if log_results_folder:\n",
        "        update_artifact(\n",
        "            folder_path = RESULTS_DIR,\n",
        "            name_prefix = 'results',\n",
        "            type = 'results'\n",
        "        )\n",
        "\n",
        "    update_artifact(\n",
        "        folder_path = TRAINED_MODEL_DIR,\n",
        "        name_prefix = 'trained_models',\n",
        "        type = 'trained_models'\n",
        "    )"
      ]
    },
    {
      "cell_type": "markdown",
      "metadata": {
        "id": "UiWaQLQ7rSs5"
      },
      "source": [
        "# Train SB3 models"
      ]
    },
    {
      "cell_type": "markdown",
      "metadata": {
        "id": "_BZTsxX0tkDZ"
      },
      "source": [
        "## Init config & dataset"
      ]
    },
    {
      "cell_type": "code",
      "execution_count": null,
      "metadata": {
        "id": "knEaNgSKQ5rW"
      },
      "outputs": [],
      "source": [
        "period_idx = -1\n",
        "train, val, test = quarterly_dataset[period_idx]"
      ]
    },
    {
      "cell_type": "code",
      "execution_count": null,
      "metadata": {
        "id": "Jpp0ZrVJryvM"
      },
      "outputs": [],
      "source": [
        "config = {}"
      ]
    },
    {
      "cell_type": "code",
      "execution_count": null,
      "metadata": {
        "cellView": "form",
        "id": "I0Tvb-qbbpGT"
      },
      "outputs": [],
      "source": [
        "#@title Config: dataset\n",
        "\n",
        "# config.update(dict(\n",
        "#     # dataset_name =  'DOW_30 | 2009-01 | 2020-07 | 2021-10',\n",
        "#     dataset_name =  'DOW-30 (FinRL 2021) | 2009-01 | 2020-07 | 2021-10',\n",
        "# ))\n",
        "\n",
        "# dataset = datasets[config['dataset_name']]\n",
        "# config.update(dataset['metadata'])\n",
        "# train = dataset['train']"
      ]
    },
    {
      "cell_type": "code",
      "execution_count": null,
      "metadata": {
        "cellView": "form",
        "id": "BrmZizKHFZZE"
      },
      "outputs": [],
      "source": [
        "#@title Get reference price interval\n",
        "\n",
        "# %%capture\n",
        "\n",
        "# REFERENCE_PRICE_END_DATE = '2024-12-21'\n",
        "# REFERNCE_PRICE_WINDOW_DAYS = 30\n",
        "\n",
        "# ref_price_start_date = pd.Timestamp(REFERENCE_PRICE_END_DATE) - pd.Timedelta(days=REFERNCE_PRICE_WINDOW_DAYS)\n",
        "# ref_price_df = YahooDownloader(\n",
        "#         start_date=ref_price_start_date,\n",
        "#         end_date=REFERENCE_PRICE_END_DATE,\n",
        "#         ticker_list=train.tic.unique().tolist(),\n",
        "#         # ticker_list=config_tickers.DOW_30_TICKER\n",
        "#     ).fetch_data()"
      ]
    },
    {
      "cell_type": "code",
      "execution_count": null,
      "metadata": {
        "cellView": "form",
        "collapsed": true,
        "id": "hE7nHKrYos_t"
      },
      "outputs": [],
      "source": [
        "#@title Calculate fee percent based on average price for past N days\n",
        "\n",
        "def cost_pct_from_avg_price(df, cost_abs, price_avg_days, verbose=False):\n",
        "    df['date'] = pd.to_datetime(df['date'])\n",
        "    avg_price_dict = {}\n",
        "    for tic, _df in df.groupby('tic'):\n",
        "        last_date = _df['date'].max()\n",
        "        _df = _df[_df.date >= last_date - pd.Timedelta(days=price_avg_days)]\n",
        "        avg_price = ((_df.high + _df.low) / 2).mean()\n",
        "        avg_price_dict.update({tic: avg_price})\n",
        "\n",
        "    avg_price_df = pd.DataFrame(avg_price_dict, index=[f'cost_avg']).T\n",
        "    cost_pct_df = (cost_abs / avg_price_df).rename(columns={'cost_avg': 'cost_pct'})\n",
        "\n",
        "    if verbose:\n",
        "        display(avg_price_df.head())\n",
        "        print()\n",
        "        display(cost_pct_df.head())\n",
        "\n",
        "    return cost_pct_df.values.flatten().tolist()"
      ]
    },
    {
      "cell_type": "code",
      "execution_count": null,
      "metadata": {
        "id": "Wzshngk6xkwR"
      },
      "outputs": [],
      "source": [
        "# COST_ABS = 2.5\n",
        "# COST_PCT = cost_pct_from_avg_price(\n",
        "#     df=ref_price_df,\n",
        "#     cost_abs=COST_ABS,\n",
        "#     price_avg_days=REFERNCE_PRICE_WINDOW_DAYS,\n",
        "#     verbose=True\n",
        "# )"
      ]
    },
    {
      "cell_type": "code",
      "execution_count": null,
      "metadata": {
        "id": "I1dBLCHvFYOU"
      },
      "outputs": [],
      "source": [
        "# config.update({\n",
        "#     'env_params': {\n",
        "#         'initial_amount': 50000,\n",
        "\n",
        "#         # 'cost_abs': COST_ABS,\n",
        "#         # 'cost_pct': COST_PCT\n",
        "\n",
        "#         'cost_abs': None,\n",
        "#         'cost_pct': 0.001\n",
        "#     }\n",
        "# })\n",
        "\n",
        "\n",
        "config.update({\n",
        "    'initial_amount': 50000,\n",
        "\n",
        "    # 'cost_abs': COST_ABS,\n",
        "    # 'cost_pct': COST_PCT\n",
        "\n",
        "    'cost_abs': None,\n",
        "    'cost_pct': 0.001\n",
        "})\n",
        "\n",
        "config.keys()"
      ]
    },
    {
      "cell_type": "code",
      "execution_count": null,
      "metadata": {
        "cellView": "form",
        "id": "_DFUBgSZT5-a"
      },
      "outputs": [],
      "source": [
        "#@title Init env\n",
        "stock_dimension = len(train.tic.unique())\n",
        "state_space = 1 + 2*stock_dimension + len(INDICATORS)*stock_dimension\n",
        "print(f\"Stock Dimension: {stock_dimension}, State Space: {state_space}\")\n",
        "\n",
        "cost_pct = config['cost_pct']\n",
        "if isinstance(cost_pct, list):\n",
        "    assert len(cost_pct) == stock_dimension\n",
        "    buy_cost_pct = sell_cost_pct = cost_pct\n",
        "elif isinstance(cost_pct, (int, float)):\n",
        "    buy_cost_pct = sell_cost_pct = [ config['cost_pct'] ] * stock_dimension\n",
        "else:\n",
        "    raise ValueError\n",
        "\n",
        "num_stock_shares = [0] * stock_dimension\n",
        "\n",
        "env_kwargs = {\n",
        "    \"hmax\": 100,\n",
        "    \"initial_amount\": config['initial_amount'],\n",
        "    \"num_stock_shares\": num_stock_shares,\n",
        "    \"buy_cost_pct\": buy_cost_pct,\n",
        "    \"sell_cost_pct\": sell_cost_pct,\n",
        "    \"state_space\": state_space,\n",
        "    \"stock_dim\": stock_dimension,\n",
        "    \"tech_indicator_list\": INDICATORS,\n",
        "    \"action_space\": stock_dimension,\n",
        "    \"reward_scaling\": 1e-4,\n",
        "\n",
        "    \"print_verbosity\": 1,\n",
        "    \"make_plots\": True\n",
        "}\n",
        "\n",
        "\n",
        "e_train_gym = StockTradingEnv(df = train, **env_kwargs)"
      ]
    },
    {
      "cell_type": "markdown",
      "metadata": {
        "id": "Tgz76x4xsi2A"
      },
      "source": [
        "## Init wandb"
      ]
    },
    {
      "cell_type": "code",
      "execution_count": null,
      "metadata": {
        "id": "_H0-AyktELpI"
      },
      "outputs": [],
      "source": [
        "# !rm -rf ./*"
      ]
    },
    {
      "cell_type": "code",
      "execution_count": null,
      "metadata": {
        "id": "Cp-ffs3gWpX1"
      },
      "outputs": [],
      "source": [
        "#@title init run\n",
        "import wandb\n",
        "import random\n",
        "import string\n",
        "\n",
        "def generate_run_name(prefix, n=5):\n",
        "    random_str = ''.join(random.choices(string.ascii_letters + string.digits, k=n))\n",
        "    return f\"{prefix} | {random_str}\"\n",
        "\n",
        "\n",
        "wandb.finish()\n",
        "wandb.init(\n",
        "    project=PROJECT,\n",
        "    name=generate_run_name(config['dataset_name'])\n",
        ")\n",
        "\n",
        "wandb.config.update(config)"
      ]
    },
    {
      "cell_type": "code",
      "execution_count": null,
      "metadata": {
        "cellView": "form",
        "id": "jF0Xbv9f631H"
      },
      "outputs": [],
      "source": [
        "#@title update_artifact\n",
        "\n",
        "def update_artifact(folder_path, name_prefix, type):\n",
        "    \"\"\"\n",
        "    Create or update a W&B artifact consisting of a folder.\n",
        "\n",
        "    Args:\n",
        "        run: The current W&B run.\n",
        "        folder_path (str): Path to the folder to upload.\n",
        "        artifact_name (str): Name of the artifact.\n",
        "        artifact_type (str): Type of the artifact.\n",
        "    \"\"\"\n",
        "    run = wandb.run\n",
        "    artifact_name = f'{name_prefix}-{wandb.run.id}'\n",
        "\n",
        "    # Create a new artifact\n",
        "    artifact = wandb.Artifact(name=artifact_name, type=type)\n",
        "\n",
        "    # Add the folder to the artifact\n",
        "    artifact.add_dir(folder_path)\n",
        "\n",
        "    # Log the artifact to W&B\n",
        "    run.log_artifact(artifact)\n",
        "    print(f\"Artifact '{artifact_name}' has been updated and uploaded.\")"
      ]
    },
    {
      "cell_type": "code",
      "execution_count": null,
      "metadata": {
        "cellView": "form",
        "id": "B-a7jHoxrb3Q"
      },
      "outputs": [],
      "source": [
        "#@title update_model_artifacts\n",
        "\n",
        "def update_model_artifacts():\n",
        "    update_artifact(\n",
        "        folder_path = RESULTS_DIR,\n",
        "        name_prefix = 'results',\n",
        "        type = 'results'\n",
        "    )\n",
        "\n",
        "    update_artifact(\n",
        "        folder_path = TRAINED_MODEL_DIR,\n",
        "        name_prefix = 'trained_models',\n",
        "        type = 'trained_models'\n",
        "    )"
      ]
    },
    {
      "cell_type": "code",
      "execution_count": null,
      "metadata": {
        "cellView": "form",
        "id": "Prm8SfPo7CJY"
      },
      "outputs": [],
      "source": [
        "#@title update_dataset_artifact\n",
        "\n",
        "from pathlib import Path\n",
        "\n",
        "DATASET_DIR = Path('./dataset')\n",
        "os.makedirs(DATASET_DIR, exist_ok=True)\n",
        "\n",
        "dataset = datasets[config['dataset_name']]\n",
        "dataset['train'].to_csv(DATASET_DIR / 'train_data.csv')\n",
        "dataset['test'].to_csv(DATASET_DIR / 'test_data.csv')\n",
        "\n",
        "update_artifact(\n",
        "    folder_path = DATASET_DIR,\n",
        "    name_prefix = 'dataset',\n",
        "    type = 'dataset'\n",
        ")"
      ]
    },
    {
      "cell_type": "markdown",
      "metadata": {
        "id": "oqc-9r54tuXG"
      },
      "source": [
        "## Train FinRL models"
      ]
    },
    {
      "cell_type": "code",
      "execution_count": null,
      "metadata": {
        "id": "a4IS_7kYSEFo"
      },
      "outputs": [],
      "source": [
        "# %load_ext tensorboard\n",
        "# %tensorboard --logdir ./results/"
      ]
    },
    {
      "cell_type": "markdown",
      "metadata": {
        "id": "8ZNeIlnJKGza"
      },
      "source": [
        "![image.png](data:image/png;base64,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)"
      ]
    },
    {
      "cell_type": "code",
      "execution_count": null,
      "metadata": {
        "cellView": "form",
        "id": "t0-3fjeCG_GJ"
      },
      "outputs": [],
      "source": [
        "#@title Define metric functions\n",
        "\n",
        "def calculate_mdd(asset_values):\n",
        "    \"\"\"\n",
        "    Calculate the Maximum Drawdown (MDD) of a portfolio.\n",
        "    \"\"\"\n",
        "    running_max = asset_values.cummax()\n",
        "    drawdown = (asset_values - running_max) / running_max\n",
        "    mdd = drawdown.min() * 100  # Convert to percentage\n",
        "    return mdd\n",
        "\n",
        "def calculate_sharpe_ratio(asset_values, risk_free_rate=0.0):\n",
        "    \"\"\"\n",
        "    Calculate the Sharpe Ratio of a portfolio.\n",
        "    \"\"\"\n",
        "    # Calculate daily returns\n",
        "    returns = asset_values.pct_change().dropna()\n",
        "    excess_returns = returns - risk_free_rate / 252  # Assuming 252 trading days\n",
        "\n",
        "    if excess_returns.std() == 0:\n",
        "        return 0.0\n",
        "    sharpe_ratio = excess_returns.mean() / excess_returns.std() * np.sqrt(252)  # Annualized\n",
        "    return sharpe_ratio\n",
        "\n",
        "def calculate_annualized_return(asset_values):\n",
        "    \"\"\"\n",
        "    Calculate the annualized return of a portfolio.\n",
        "    \"\"\"\n",
        "    # Assume `asset_values` is indexed by date or trading day\n",
        "    total_return = (asset_values.iloc[-1] / asset_values.iloc[0] - 1) * 100\n",
        "    num_days = (asset_values.index[-1] - asset_values.index[0]).days\n",
        "    annualized_return = (1 + total_return) ** (365 / num_days) - 1\n",
        "    return annualized_return"
      ]
    },
    {
      "cell_type": "code",
      "execution_count": null,
      "metadata": {
        "cellView": "form",
        "id": "frdIBaq0pqe2"
      },
      "outputs": [],
      "source": [
        "#@title compute metrics\n",
        "import wandb\n",
        "from typing import List\n",
        "import numpy as np\n",
        "\n",
        "def compute_metrics(account_values: List[pd.DataFrame, pd.Series, np.array], use_round=True):\n",
        "    \"\"\"\n",
        "    If DataFrame then should contain two columns - 'date' and name of algo, e.g. 'a2c'.\n",
        "    \"\"\"\n",
        "\n",
        "    if isinstance(account_values, pd.DataFrame):\n",
        "        assert isinstance(account_values, pd.DataFrame)\n",
        "        if 'date' not in account_values.columns:\n",
        "            if account_values.index.name == 'date':\n",
        "                account_values.reset_index(inplace=True)\n",
        "            else:\n",
        "                raise ValueError(\"should contain 'date' column or index\")\n",
        "        account_values = account_values.dropna().set_index('date').iloc[:, 0]\n",
        "    elif isinstance(account_values, np.ndarray):\n",
        "        account_values = pd.Series(account_values)\n",
        "\n",
        "    sharpe = calculate_sharpe_ratio(account_values)\n",
        "    mdd = calculate_mdd(account_values)\n",
        "    cum_ret = (account_values.iloc[-1] - account_values.iloc[0]) / account_values.iloc[0] * 100\n",
        "    # num_days = (account_values.index.max() - account_values.index.min()).days\n",
        "    num_days = len(account_values)\n",
        "    ann_ret = ((1 + cum_ret / 100) ** (365 / num_days) - 1) * 100\n",
        "\n",
        "    metrics = {\n",
        "            f'sharpe_ratio': sharpe,\n",
        "            f'mdd': mdd,\n",
        "            f'ann_return': ann_ret,\n",
        "            f'cum_return': cum_ret,\n",
        "        }\n",
        "\n",
        "    if use_round:\n",
        "        metrics = {k: round(v, 2) for k, v in metrics.items()}\n",
        "\n",
        "    return metrics\n",
        "\n",
        "def get_env_metrics(env):\n",
        "    end_total_asset = env.state[0] + sum(\n",
        "        np.array(env.state[1 : (env.stock_dim + 1)])\n",
        "        * np.array(env.state[(env.stock_dim + 1) : (env.stock_dim * 2 + 1)])\n",
        "    )\n",
        "\n",
        "    return {\n",
        "        'begin_total_asset': env.asset_memory[0],\n",
        "        'end_total_asset': end_total_asset,\n",
        "        'total_cost': env.cost,\n",
        "        'total_trades': env.trades,\n",
        "    }"
      ]
    },
    {
      "cell_type": "code",
      "execution_count": null,
      "metadata": {
        "cellView": "form",
        "id": "hldi--6OyGre"
      },
      "outputs": [],
      "source": [
        "#@title log_metrics\n",
        "\n",
        "def log_metrics_to_wandb(metrics, model_name, split_label, step=None):\n",
        "    assert model_name in ['a2c', 'ddpg', 'sac', 'ppo', 'td3', 'best_model', 'chosen_model']\n",
        "\n",
        "    rename_metrics = lambda model_name: {\n",
        "        f\"{key}/{model_name}\": value for key, value in metrics.items()\n",
        "    }\n",
        "\n",
        "    renamed_metrics = rename_metrics(model_name)\n",
        "    wandb.log({split_label: renamed_metrics}, step=step)\n",
        "    # wandb.run.save()"
      ]
    },
    {
      "cell_type": "code",
      "execution_count": null,
      "metadata": {
        "cellView": "form",
        "id": "ORwxkwBJkCyG"
      },
      "outputs": [],
      "source": [
        "#@title WandbLoggerCallback\n",
        "from stable_baselines3.common.callbacks import BaseCallback\n",
        "from stable_baselines3.common.monitor import Monitor\n",
        "\n",
        "import pandas as pd\n",
        "import numpy as np\n",
        "\n",
        "class MetricLoggerCallback(BaseCallback):\n",
        "    def __init__(self, model_name, split_label, verbose=0):\n",
        "        super(MetricLoggerCallback, self).__init__(verbose)\n",
        "\n",
        "        self.split_label = split_label\n",
        "        self.model_name = model_name\n",
        "\n",
        "    def _on_step(self) -> bool:\n",
        "        env = self.training_env.envs[0]\n",
        "\n",
        "        # Unwrap from Monitor if needed\n",
        "        while isinstance(env, Monitor):\n",
        "            env = env.env\n",
        "\n",
        "        # Check if the episode is terminal\n",
        "        env.terminal = env.day >= len(env.df.index.unique()) - 1\n",
        "        if env.terminal:\n",
        "            df_account_value = pd.DataFrame({\n",
        "                self.model_name: env.asset_memory,\n",
        "                'date': env.date_memory\n",
        "            })\n",
        "\n",
        "            # Compute metrics\n",
        "            metrics = compute_metrics(df_account_value)\n",
        "            # env_metrics = get_env_metrics(env)\n",
        "            # metrics.update(env_metrics)\n",
        "\n",
        "            # Log current model metrics\n",
        "            log_metrics_to_wandb(metrics, self.model_name, self.split_label)\n",
        "\n",
        "        return True"
      ]
    },
    {
      "cell_type": "code",
      "execution_count": null,
      "metadata": {
        "cellView": "form",
        "id": "Z-oWCpLLcqYJ"
      },
      "outputs": [],
      "source": [
        "#@title Custom DRLAgent (w/ wandb callback)\n",
        "from finrl.agents.stablebaselines3.models import DRLAgent, TensorboardCallback\n",
        "from stable_baselines3.common.callbacks import CallbackList\n",
        "import wandb\n",
        "\n",
        "class DRLAgent(DRLAgent):\n",
        "    @staticmethod\n",
        "    def train_model(\n",
        "        model,\n",
        "        tb_log_name,\n",
        "        total_timesteps=5000,\n",
        "        custom_callbacks=[],\n",
        "        log_to_wandb=False\n",
        "    ):\n",
        "        # Ensure TensorboardCallback is always included\n",
        "        tensorboard_callback = TensorboardCallback()\n",
        "\n",
        "        # Initialize default callbacks\n",
        "        metric_logger_callback = MetricLoggerCallback(\n",
        "            model_name=tb_log_name,\n",
        "            split_label='train',\n",
        "            verbose=1,\n",
        "            log_to_wandb=log_to_wandb\n",
        "        )\n",
        "\n",
        "        # Combine all callbacks (always include Tensorboard, SharpeRatio, and MaxSharpeRatio by default)\n",
        "        callbacks_to_use = [\n",
        "            tensorboard_callback,\n",
        "            metric_logger_callback,\n",
        "        ]\n",
        "\n",
        "        if custom_callbacks:\n",
        "            callbacks_to_use.extend(custom_callbacks)\n",
        "\n",
        "        # Wrap all callbacks into a CallbackList\n",
        "        combined_callback = CallbackList(callbacks_to_use)\n",
        "\n",
        "        # Train the model with the combined callbacks\n",
        "        model = model.learn(\n",
        "            total_timesteps=total_timesteps,\n",
        "            tb_log_name=tb_log_name,\n",
        "            callback=combined_callback,\n",
        "        )\n",
        "        return model"
      ]
    },
    {
      "cell_type": "code",
      "execution_count": null,
      "metadata": {
        "cellView": "form",
        "id": "dyvEieUxQvSA"
      },
      "outputs": [],
      "source": [
        "#@title train models\n",
        "\n",
        "check_and_make_directories([TRAINED_MODEL_DIR])\n",
        "\n",
        "env_train, _ = e_train_gym.get_sb_env()\n",
        "\n",
        "# Set the corresponding values to 'True' for the algorithms that you want to use\n",
        "\n",
        "# if_using_a2c = True\n",
        "if_using_a2c = False\n",
        "\n",
        "# if_using_ddpg = True\n",
        "if_using_ddpg = False\n",
        "\n",
        "# if_using_ppo = True\n",
        "if_using_ppo = False\n",
        "\n",
        "# if_using_td3 = True\n",
        "if_using_td3 = False\n",
        "\n",
        "# if_using_sac = True\n",
        "if_using_sac = False\n",
        "\n",
        "if if_using_a2c:\n",
        "    print(\"training A2C agent\")\n",
        "    agent = DRLAgent(env = env_train)\n",
        "    model_a2c = agent.get_model(\"a2c\")\n",
        "\n",
        "    # set up logger\n",
        "    tmp_path = RESULTS_DIR + '/a2c'\n",
        "    !rm -rf {tmp_path}/*\n",
        "    new_logger_a2c = configure(tmp_path, [\"stdout\", \"csv\", \"tensorboard\"])\n",
        "    # Set new logger\n",
        "    model_a2c.set_logger(new_logger_a2c)\n",
        "\n",
        "    trained_a2c = agent.train_model(model=model_a2c,\n",
        "                                    tb_log_name='a2c',\n",
        "                                    # total_timesteps=50_000,\n",
        "                                    total_timesteps=3500,\n",
        "                                    ) if if_using_a2c else None\n",
        "\n",
        "    trained_a2c.save(TRAINED_MODEL_DIR + \"/agent_a2c\") if if_using_a2c else None\n",
        "    update_model_artifacts()\n",
        "\n",
        "if if_using_ddpg:\n",
        "    print(\"training DDPG agent\")\n",
        "    agent = DRLAgent(env = env_train)\n",
        "    model_ddpg = agent.get_model(\"ddpg\")\n",
        "\n",
        "    # set up logger\n",
        "    tmp_path = RESULTS_DIR + '/ddpg'\n",
        "    !rm -rf {tmp_path}/*\n",
        "    new_logger_ddpg = configure(tmp_path, [\"stdout\", \"csv\", \"tensorboard\"])\n",
        "    # Set new logger\n",
        "    model_ddpg.set_logger(new_logger_ddpg)\n",
        "\n",
        "    trained_ddpg = agent.train_model(model=model_ddpg,\n",
        "                             tb_log_name='ddpg',\n",
        "                            #  total_timesteps=50_000,\n",
        "                             total_timesteps=3500\n",
        "                            ) if if_using_ddpg else None\n",
        "\n",
        "    trained_ddpg.save(TRAINED_MODEL_DIR + \"/agent_ddpg\") if if_using_ddpg else None\n",
        "    update_model_artifacts()\n",
        "\n",
        "if if_using_td3:\n",
        "    print(\"training TD3 agent\")\n",
        "    agent = DRLAgent(env = env_train)\n",
        "    TD3_PARAMS = {\"batch_size\": 100,\n",
        "                \"buffer_size\": 1000000,\n",
        "                \"learning_rate\": 0.001}\n",
        "\n",
        "    model_td3 = agent.get_model(\"td3\",model_kwargs = TD3_PARAMS)\n",
        "\n",
        "    # set up logger\n",
        "    tmp_path = RESULTS_DIR + '/td3'\n",
        "    !rm -rf {tmp_path}/*\n",
        "    new_logger_td3 = configure(tmp_path, [\"stdout\", \"csv\", \"tensorboard\"])\n",
        "    # Set new logger\n",
        "    model_td3.set_logger(new_logger_td3)\n",
        "\n",
        "    trained_td3 = agent.train_model(model=model_td3,\n",
        "                             tb_log_name='td3',\n",
        "                             total_timesteps=50000) if if_using_td3 else None\n",
        "\n",
        "    trained_td3.save(TRAINED_MODEL_DIR + \"/agent_td3\") if if_using_td3 else None\n",
        "    update_model_artifacts()\n",
        "\n",
        "if if_using_sac:\n",
        "    print(\"training SAC agent\")\n",
        "    agent = DRLAgent(env = env_train)\n",
        "    SAC_PARAMS = {\n",
        "        \"batch_size\": 128,\n",
        "        \"buffer_size\": 100000,\n",
        "        \"learning_rate\": 0.0001,\n",
        "        \"learning_starts\": 100,\n",
        "        \"ent_coef\": \"auto_0.1\",\n",
        "    }\n",
        "\n",
        "    model_sac = agent.get_model(\"sac\",model_kwargs = SAC_PARAMS)\n",
        "\n",
        "    # set up logger\n",
        "    tmp_path = RESULTS_DIR + '/sac'\n",
        "    !rm -rf {tmp_path}/*\n",
        "    new_logger_sac = configure(tmp_path, [\"stdout\", \"csv\", \"tensorboard\"])\n",
        "    # Set new logger\n",
        "    model_sac.set_logger(new_logger_sac)\n",
        "\n",
        "    trained_sac = agent.train_model(model=model_sac,\n",
        "                             tb_log_name='sac',\n",
        "                             total_timesteps=70000) if if_using_sac else None\n",
        "    trained_sac.save(TRAINED_MODEL_DIR + \"/agent_sac\") if if_using_sac else None\n",
        "    update_model_artifacts()\n",
        "\n",
        "if if_using_ppo:\n",
        "    agent = DRLAgent(env = env_train)\n",
        "    PPO_PARAMS = {\n",
        "        \"n_steps\": 2048,\n",
        "        \"ent_coef\": 0.01,\n",
        "        \"learning_rate\": 0.00025,\n",
        "        \"batch_size\": 128,\n",
        "    }\n",
        "    algo = agent.get_model(\"ppo\",model_kwargs = PPO_PARAMS)\n",
        "    # set up logger\n",
        "    tmp_path = RESULTS_DIR + '/ppo'\n",
        "    !rm -rf {tmp_path}/*\n",
        "    new_logger_ppo = configure(tmp_path, [\"stdout\", \"csv\", \"tensorboard\"])\n",
        "    # Set new logger\n",
        "    algo.set_logger(new_logger_ppo)\n",
        "\n",
        "    trained_ppo = agent.train_model(model=algo,\n",
        "                             tb_log_name='ppo',\n",
        "                             total_timesteps=200000) if if_using_ppo else None\n",
        "\n",
        "    trained_ppo.save(TRAINED_MODEL_DIR + \"/agent_ppo\") if if_using_ppo else None\n",
        "    update_model_artifacts()"
      ]
    },
    {
      "cell_type": "code",
      "execution_count": null,
      "metadata": {
        "id": "uSosu3u-YIIA"
      },
      "outputs": [],
      "source": [
        "# wandb.finish()"
      ]
    },
    {
      "cell_type": "markdown",
      "metadata": {
        "id": "GqkgvtqPR0y-"
      },
      "source": [
        "# Train SB3 vs RLLib models (np env)"
      ]
    },
    {
      "cell_type": "markdown",
      "source": [
        "## Init np env"
      ],
      "metadata": {
        "id": "UzgE3K3x6W4u"
      }
    },
    {
      "cell_type": "code",
      "execution_count": 21,
      "metadata": {
        "id": "MtlF8TNkXc-P"
      },
      "outputs": [],
      "source": [
        "run_config = {\n",
        "    'cost_pct': 0.001,\n",
        "    'initial_amount': 50_000,\n",
        "    'turbulence_threshold': 99,\n",
        "    'if_vix': True\n",
        "}"
      ]
    },
    {
      "cell_type": "code",
      "execution_count": 22,
      "metadata": {
        "id": "Y5AWgHwIR5Rx"
      },
      "outputs": [],
      "source": [
        "#@title Init data\n",
        "# date_range = date_ranges[1]\n",
        "\n",
        "# #####################\n",
        "\n",
        "# data_splits = split_data(preproc_df, date_range)\n",
        "# train = data_splits['train']\n",
        "# val = data_splits['val']\n",
        "# print(train['date'].max() - train['date'].min())\n",
        "# val.head()"
      ]
    },
    {
      "cell_type": "code",
      "execution_count": 23,
      "metadata": {
        "cellView": "form",
        "id": "dUvvkBzXarxr"
      },
      "outputs": [],
      "source": [
        "#@title Init StockTradingEnv (custom vectorization)\n",
        "\n",
        "from finrl.meta.env_stock_trading.env_stocktrading import StockTradingEnv\n",
        "from stable_baselines3.common.vec_env import SubprocVecEnv, DummyVecEnv\n",
        "from stable_baselines3.common.env_util import make_vec_env\n",
        "from copy import deepcopy\n",
        "\n",
        "class StockTradingEnv(StockTradingEnv):\n",
        "    def __init__(self, *args, if_async=False, n_envs=1, **kwargs, ):\n",
        "        super().__init__(*args, **kwargs)\n",
        "        self.n_envs = n_envs\n",
        "        if if_async:\n",
        "            self.vec_env_cls = SubprocVecEnv\n",
        "            self.vec_env_kwargs = dict(start_method='fork')\n",
        "        else:\n",
        "            self.vec_env_cls = DummyVecEnv\n",
        "            self.vec_env_kwargs = {}\n",
        "\n",
        "    def get_sb_env(self):\n",
        "        e = self.vec_env_cls([deepcopy(self) for _ in range(self.n_envs)], **self.vec_env_kwargs)\n",
        "        # e = make_vec_env(deepcopy(self), n_envs=self.n_envs, vec_env_cls=self.vec_env_cls)\n",
        "        obs = e.reset()\n",
        "        return e, obs\n",
        "\n",
        "def init_env(df, run_config, mode=\"\", previous_state=None,\n",
        "             if_async=False, n_envs=1):\n",
        "    assert mode in ['train', 'val', 'test', \"\"]\n",
        "    if mode:\n",
        "        print(f\"Initializing '{mode}' env.\")\n",
        "\n",
        "    stock_dimension = len(df.tic.unique())\n",
        "    state_space = 1 + 2*stock_dimension + len(INDICATORS)*stock_dimension\n",
        "    print(f\"Stock Dimension: {stock_dimension}, State Space: {state_space}\")\n",
        "\n",
        "    cost_pct = run_config['cost_pct']\n",
        "    if isinstance(cost_pct, list):\n",
        "        assert len(cost_pct) == stock_dimension\n",
        "        buy_cost_pct = sell_cost_pct = cost_pct\n",
        "    elif isinstance(cost_pct, (int, float)):\n",
        "        buy_cost_pct = sell_cost_pct = [ run_config['cost_pct'] ] * stock_dimension\n",
        "    else:\n",
        "        raise ValueError\n",
        "\n",
        "    num_stock_shares = [0] * stock_dimension\n",
        "\n",
        "    print(f\"Initializing env with initial amount: {previous_state[0] if previous_state is not None else run_config['initial_amount']}\")\n",
        "    env_kwargs = {\n",
        "        \"hmax\": 100,\n",
        "        \"initial_amount\": previous_state[0] if previous_state is not None else run_config['initial_amount'],\n",
        "        \"num_stock_shares\": num_stock_shares,\n",
        "        \"buy_cost_pct\": buy_cost_pct,\n",
        "        \"sell_cost_pct\": sell_cost_pct,\n",
        "        \"state_space\": state_space,\n",
        "        \"stock_dim\": stock_dimension,\n",
        "        \"tech_indicator_list\": INDICATORS,\n",
        "        \"action_space\": stock_dimension,\n",
        "        \"reward_scaling\": 1e-4,\n",
        "        \"turbulence_threshold\": run_config['turbulence_threshold'] if 'turbulence_threshold' in run_config else None,\n",
        "        \"print_verbosity\": 1,\n",
        "        \"mode\": mode,\n",
        "\n",
        "        \"initial\": False if previous_state is not None else True,\n",
        "        \"previous_state\": previous_state if previous_state is not None else [],\n",
        "    }\n",
        "\n",
        "    env_kwargs.update({\n",
        "        'if_async': if_async,\n",
        "        'n_envs': n_envs\n",
        "    })\n",
        "\n",
        "    e_train_gym = StockTradingEnv(df = df, **env_kwargs)\n",
        "    # e_train_gym = e_train_gym.get_sb_env()\n",
        "    return e_train_gym"
      ]
    },
    {
      "cell_type": "code",
      "source": [
        "#@title load_cached_data\n",
        "from finrl.config_tickers import DOW_30_TICKER\n",
        "from finrl.meta.data_processor import DataProcessor\n",
        "import hashlib\n",
        "\n",
        "NY = \"America/New_York\"\n",
        "\n",
        "CACHE_DIR = './cache'\n",
        "os.makedirs(CACHE_DIR, exist_ok=True)\n",
        "\n",
        "def stable_hash(data):\n",
        "    return hashlib.sha256(str(data).encode()).hexdigest()\n",
        "\n",
        "def load_cached_data(\n",
        "    start_date,\n",
        "    end_date,\n",
        "    ticker_list=DOW_30_TICKER,\n",
        "    technical_indicator_list=INDICATORS,\n",
        "    time_interval='1d',\n",
        "    if_vix=True,\n",
        "    ignore_cache=False\n",
        "):\n",
        "    data_hash = stable_hash(tuple(sorted(ticker_list) + sorted(technical_indicator_list) + [if_vix]))\n",
        "    file_path = Path(CACHE_DIR) / f\"{start_date}_{end_date}_{time_interval}_{data_hash}.csv\"\n",
        "\n",
        "    dp = DataProcessor(\n",
        "        data_source='yahoofinance',\n",
        "        tech_indicator=technical_indicator_list,\n",
        "        vix=if_vix,\n",
        "    )\n",
        "\n",
        "    if os.path.isfile(file_path) and not ignore_cache:\n",
        "        print(f\"Using cached data: {file_path}\")\n",
        "        data = pd.read_csv(file_path, index_col=0)\n",
        "        data['timestamp'] = pd.to_datetime(data['timestamp'], utc=True) \\\n",
        "            .dt.tz_convert(NY).dt.tz_localize(None)\n",
        "\n",
        "        return data, dp\n",
        "    else:\n",
        "        print(\"Creating new data.\")\n",
        "\n",
        "    data = dp.download_data(ticker_list, start_date, end_date, time_interval)\n",
        "    data = dp.clean_data(data)\n",
        "    data = dp.add_technical_indicator(data, technical_indicator_list)\n",
        "\n",
        "    if if_vix:\n",
        "        data = dp.add_vix(data)\n",
        "    else:\n",
        "        data = dp.add_turbulence(data)\n",
        "\n",
        "\n",
        "    data.to_csv(file_path)\n",
        "    data['timestamp'] = pd.to_datetime(data['timestamp'], utc=True) \\\n",
        "        .dt.tz_convert(NY).dt.tz_localize(None)\n",
        "    return data, dp\n",
        "\n",
        "date_range=date_ranges[0]\n",
        "data, data_processor = load_cached_data(\n",
        "    start_date=date_range['train_start_date'],\n",
        "    end_date=date_range['test_end_date'],\n",
        "    ignore_cache=False\n",
        ")"
      ],
      "metadata": {
        "colab": {
          "base_uri": "https://localhost:8080/"
        },
        "cellView": "form",
        "id": "TdB3pBagMLPJ",
        "outputId": "204d0a50-129d-465b-a6b3-8e932081fd03"
      },
      "execution_count": 24,
      "outputs": [
        {
          "output_type": "stream",
          "name": "stdout",
          "text": [
            "Using cached data: cache/2015-01-01 00:00:00_2016-04-01 00:00:00_1d_e4ea6619c36bd5c7165dda736c285494aa3defe9ac6b9a4e0ed8216efc4875c7.csv\n"
          ]
        }
      ]
    },
    {
      "cell_type": "code",
      "execution_count": 25,
      "metadata": {
        "cellView": "form",
        "id": "E34A0Yyhy4Sy",
        "colab": {
          "base_uri": "https://localhost:8080/"
        },
        "outputId": "1d888d10-dd53-420c-cb08-b5dd26f372ae"
      },
      "outputs": [
        {
          "output_type": "execute_result",
          "data": {
            "text/plain": [
              "dict_keys(['price_array', 'tech_array', 'turbulence_array', 'timestamp_array', 'if_train'])"
            ]
          },
          "metadata": {},
          "execution_count": 25
        }
      ],
      "source": [
        "#@title get_env_config\n",
        "\n",
        "def get_env_config(\n",
        "    data: pd.DataFrame,\n",
        "    data_processor: DataProcessor,\n",
        "    start_date,\n",
        "    end_date,\n",
        "    if_train,\n",
        "):\n",
        "    \"\"\"\n",
        "    Uses data_processor to convert data to array.\n",
        "    WARNING: data_processor should be same as the one that was used to create the data.\n",
        "    \"\"\"\n",
        "\n",
        "    data = data[(data['timestamp'] >= start_date) & (data['timestamp'] < end_date)]\n",
        "\n",
        "    (\n",
        "        price_array,\n",
        "        tech_array,\n",
        "        turbulence_array,\n",
        "        timestamp_array\n",
        "    ) = data_processor.df_to_array(data, return_timestamps=True)\n",
        "\n",
        "    env_config = {\n",
        "        \"price_array\": price_array,\n",
        "        \"tech_array\": tech_array,\n",
        "        \"turbulence_array\": turbulence_array,\n",
        "        \"timestamp_array\": timestamp_array,\n",
        "        \"if_train\": if_train\n",
        "    }\n",
        "\n",
        "    return env_config\n",
        "\n",
        "train_np_env_config = get_env_config(\n",
        "    data,\n",
        "    data_processor,\n",
        "    start_date=date_range['train_start_date'],\n",
        "    end_date=date_range['val_start_date'],\n",
        "    if_train=True,\n",
        ")\n",
        "\n",
        "val_np_env_config = get_env_config(\n",
        "    data,\n",
        "    data_processor,\n",
        "    start_date=date_range['val_start_date'],\n",
        "    end_date=date_range['test_start_date'],\n",
        "    if_train=False\n",
        ")\n",
        "\n",
        "test_np_env_config = get_env_config(\n",
        "    data,\n",
        "    data_processor,\n",
        "    start_date=date_range['test_start_date'],\n",
        "    end_date=date_range['test_end_date'],\n",
        "    if_train=False,\n",
        ")\n",
        "\n",
        "train_np_env_config.keys()"
      ]
    },
    {
      "cell_type": "code",
      "execution_count": 26,
      "metadata": {
        "cellView": "form",
        "id": "Mp0H06urpp53"
      },
      "outputs": [],
      "source": [
        "#@title Init StockTradingEnv (numpy)\n",
        "\n",
        "from finrl.meta.env_stock_trading.env_stocktrading_np import StockTradingEnv\n",
        "from finrl.meta.data_processor import DataProcessor\n",
        "from finrl.config_tickers import DOW_30_TICKER\n",
        "from finrl.config import INDICATORS\n",
        "# from finrl.config import CACHE_DIR\n",
        "\n",
        "def init_env(\n",
        "    np_env_config,\n",
        "\n",
        "    # run_config,\n",
        "    initial_amount,\n",
        "    cost_pct,\n",
        "\n",
        "    mode,\n",
        "    turbulence_threshold=99,\n",
        "    initial_stocks=None\n",
        "):\n",
        "    assert mode in ['train', 'val', 'test']\n",
        "\n",
        "    print(f\"Initializing {'train' if np_env_config['if_train'] else 'eval'} env...\", end=' ')\n",
        "    env = StockTradingEnv(\n",
        "        config=np_env_config,\n",
        "        initial_capital=initial_amount,\n",
        "        buy_cost_pct=cost_pct,\n",
        "        sell_cost_pct=cost_pct,\n",
        "        turbulence_thresh=turbulence_threshold,\n",
        "        initial_stocks=np.array(initial_stocks) if isinstance(initial_stocks, list) else initial_stocks\n",
        "    )\n",
        "    print('Done.')\n",
        "\n",
        "    return env\n",
        "\n",
        "def create_stock_trading_env(env_config):\n",
        "    return init_env(**env_config)\n",
        "\n",
        "# env = init_env(\n",
        "#     val_np_env_config,\n",
        "#     initial_amount=run_config['initial_amount'],\n",
        "#     cost_pct=run_config['cost_pct'],\n",
        "#     mode='train'\n",
        "# )"
      ]
    },
    {
      "cell_type": "markdown",
      "source": [
        "## Metric funcs"
      ],
      "metadata": {
        "id": "D6xM869T6diC"
      }
    },
    {
      "cell_type": "code",
      "execution_count": 27,
      "metadata": {
        "cellView": "form",
        "id": "tDokmsQFoSPV"
      },
      "outputs": [],
      "source": [
        "#@title define metrics\n",
        "\n",
        "def calculate_mdd(asset_values):\n",
        "    \"\"\"\n",
        "    Calculate the Maximum Drawdown (MDD) of a portfolio.\n",
        "    \"\"\"\n",
        "    running_max = asset_values.cummax()\n",
        "    drawdown = (asset_values - running_max) / running_max\n",
        "    mdd = drawdown.min() * 100  # Convert to percentage\n",
        "    return mdd\n",
        "\n",
        "def calculate_sharpe_ratio(asset_values, risk_free_rate=0.0):\n",
        "    \"\"\"\n",
        "    Calculate the Sharpe Ratio of a portfolio.\n",
        "    \"\"\"\n",
        "    # Calculate daily returns\n",
        "    returns = asset_values.pct_change().dropna()\n",
        "    excess_returns = returns - risk_free_rate / 252  # Assuming 252 trading days\n",
        "\n",
        "    if excess_returns.std() == 0:\n",
        "        return 0.0\n",
        "    sharpe_ratio = excess_returns.mean() / excess_returns.std() * np.sqrt(252)  # Annualized\n",
        "    return sharpe_ratio\n",
        "\n",
        "def calculate_annualized_return(asset_values):\n",
        "    \"\"\"\n",
        "    Calculate the annualized return of a portfolio.\n",
        "    \"\"\"\n",
        "    # Assume `asset_values` is indexed by date or trading day\n",
        "    total_return = (asset_values.iloc[-1] / asset_values.iloc[0] - 1) * 100\n",
        "    num_days = (asset_values.index[-1] - asset_values.index[0]).days\n",
        "    annualized_return = (1 + total_return) ** (365 / num_days) - 1\n",
        "    return annualized_return"
      ]
    },
    {
      "cell_type": "code",
      "execution_count": 28,
      "metadata": {
        "cellView": "form",
        "id": "wnUToRzBoSPW"
      },
      "outputs": [],
      "source": [
        "#@title compute metrics\n",
        "import wandb\n",
        "from typing import List, Union\n",
        "import numpy as np\n",
        "\n",
        "\n",
        "def compute_metrics(account_values: List[Union[pd.DataFrame, pd.Series, np.array]]):\n",
        "    \"\"\"\n",
        "    If DataFrame then should contain two columns - 'date' and name of algo, e.g. 'a2c'.\n",
        "    \"\"\"\n",
        "\n",
        "    if isinstance(account_values, pd.DataFrame):\n",
        "        assert isinstance(account_values, pd.DataFrame)\n",
        "        if 'date' not in account_values.columns:\n",
        "            if account_values.index.name == 'date':\n",
        "                account_values.reset_index(inplace=True)\n",
        "            else:\n",
        "                raise ValueError(\"should contain 'date' column or index\")\n",
        "        account_values = account_values.dropna().set_index('date').iloc[:, 0]\n",
        "    elif isinstance(account_values, (np.ndarray, list)):\n",
        "        account_values = pd.Series(account_values)\n",
        "\n",
        "    sharpe = calculate_sharpe_ratio(account_values)\n",
        "    mdd = calculate_mdd(account_values)\n",
        "    cum_ret = (account_values.iloc[-1] - account_values.iloc[0]) / account_values.iloc[0] * 100\n",
        "    # num_days = (account_values.index.max() - account_values.index.min()).days\n",
        "    num_days = len(account_values)\n",
        "    ann_ret = ((1 + cum_ret / 100) ** (365 / num_days) - 1) * 100\n",
        "\n",
        "    return {\n",
        "            f'sharpe_ratio': sharpe,\n",
        "            f'mdd': mdd,\n",
        "            f'ann_return': ann_ret,\n",
        "            f'cum_return': cum_ret,\n",
        "        }\n",
        "\n",
        "def get_env_metrics(env):\n",
        "    end_total_asset = env.state[0] + sum(\n",
        "        np.array(env.state[1 : (env.stock_dim + 1)])\n",
        "        * np.array(env.state[(env.stock_dim + 1) : (env.stock_dim * 2 + 1)])\n",
        "    )\n",
        "\n",
        "    return {\n",
        "        'begin_total_asset': env.asset_memory[0],\n",
        "        'end_total_asset': end_total_asset,\n",
        "        'total_cost': env.cost,\n",
        "        'total_trades': env.trades,\n",
        "    }"
      ]
    },
    {
      "cell_type": "code",
      "execution_count": 29,
      "metadata": {
        "cellView": "form",
        "id": "o4LTYifqoSPW"
      },
      "outputs": [],
      "source": [
        "#@title log_metrics_to_wandb\n",
        "\n",
        "def log_metrics_to_wandb(\n",
        "        metrics,\n",
        "        model_name,\n",
        "        split_label,\n",
        "        step=None,\n",
        "        metric_prefix=''\n",
        "    ):\n",
        "\n",
        "    print(f'log_metrics for {model_name}')\n",
        "    assert model_name in ['a2c', 'ddpg', 'sac', 'ppo', 'td3', 'best_model', 'chosen_model']\n",
        "\n",
        "    rename_metrics = lambda model_name: {\n",
        "        f\"{metric_prefix}{metric_name}/{model_name}\": value for metric_name, value in metrics.items()\n",
        "    }\n",
        "\n",
        "    renamed_metrics = rename_metrics(model_name)\n",
        "    wandb.log({split_label: renamed_metrics}, step=step)\n",
        "    # wandb.run.save()"
      ]
    },
    {
      "cell_type": "code",
      "execution_count": 30,
      "metadata": {
        "cellView": "form",
        "id": "V0iyYcwTOZYP"
      },
      "outputs": [],
      "source": [
        "#@title benchmark_exec_time\n",
        "import pandas as pd\n",
        "from time import perf_counter\n",
        "from functools import wraps\n",
        "\n",
        "def benchmark_exec_time(func):\n",
        "    @wraps(func)\n",
        "    def wrapper(*args, **kwargs):\n",
        "\n",
        "        start = perf_counter()\n",
        "        output = func(*args, **kwargs)\n",
        "        end = perf_counter()\n",
        "\n",
        "        exec_time_sec = end - start\n",
        "\n",
        "        data = {\n",
        "            \"func_name\": func.__name__,\n",
        "            \"exec_time_sec\": exec_time_sec,\n",
        "        }\n",
        "        print(f'\\nBenchmark results: {data}')\n",
        "        return output, exec_time_sec\n",
        "\n",
        "    return wrapper"
      ]
    },
    {
      "cell_type": "markdown",
      "source": [
        "## Train SB3"
      ],
      "metadata": {
        "id": "18nWuMBW6gwH"
      }
    },
    {
      "cell_type": "code",
      "execution_count": 31,
      "metadata": {
        "cellView": "form",
        "id": "8vGPfB4zfknB"
      },
      "outputs": [],
      "source": [
        "#@title (SB3) MetricLoggerCallback (np env)\n",
        "from stable_baselines3.common.callbacks import BaseCallback\n",
        "from stable_baselines3.common.monitor import Monitor\n",
        "\n",
        "import pandas as pd\n",
        "import numpy as np\n",
        "\n",
        "class MetricLoggerCallback(BaseCallback):\n",
        "    def __init__(self, model_name, split_label, verbose=0, log_to_wandb=False):\n",
        "        super(MetricLoggerCallback, self).__init__(verbose)\n",
        "\n",
        "        self.split_label = split_label\n",
        "        self.model_name = model_name\n",
        "        self.log_to_wandb = log_to_wandb\n",
        "\n",
        "    def _on_step(self) -> bool:\n",
        "        if self.training_env is not None:\n",
        "            env = self.training_env.envs[0]\n",
        "        elif self.eval_env is not None:\n",
        "            env = self.eval_env.envs[0]\n",
        "\n",
        "        # Unwrap from Monitor if needed\n",
        "        while isinstance(env, Monitor):\n",
        "            env = env.env\n",
        "\n",
        "        # Check if the episode is terminal\n",
        "        env_terminal = env.day >= env.price_ary.shape[0] - 2\n",
        "        if env_terminal:\n",
        "            df_account_value = env.save_asset_memory()\n",
        "            metrics = compute_metrics(df_account_value)\n",
        "\n",
        "            # Log current model metrics\n",
        "            if self.log_to_wandb:\n",
        "                log_metrics_to_wandb(metrics, self.model_name, self.split_label)\n",
        "\n",
        "        return True"
      ]
    },
    {
      "cell_type": "code",
      "execution_count": 32,
      "metadata": {
        "cellView": "form",
        "id": "VXZl0AD29I-w"
      },
      "outputs": [],
      "source": [
        "#@title EvalMetricLoggerCallback (using evaluate_policy)\n",
        "\n",
        "from stable_baselines3.common.callbacks import EvalCallback, BaseCallback\n",
        "from stable_baselines3.common.evaluation import evaluate_policy\n",
        "import numpy as np\n",
        "\n",
        "def metric_logger_callback(locals_, globals_):\n",
        "    \"\"\"\n",
        "    Function-based callback for evaluate_policy() that logs metrics once\n",
        "    an episode finishes. Supports both single and multi-environment setups.\n",
        "\n",
        "    :param locals_: dict of local variables in evaluate_policy (contains 'env', 'done', etc.)\n",
        "    :param globals_: dict of global variables in evaluate_policy\n",
        "    :return: (bool) If the evaluation loop should continue (always True here)\n",
        "    \"\"\"\n",
        "    env = locals_[\"env\"]         # Vectorized or single environment\n",
        "    n_envs = locals_[\"n_envs\"]   # Number of parallel environments\n",
        "    done = locals_[\"done\"]       # Bool or array of bool if n_envs > 1\n",
        "\n",
        "    # For single environment, done is just a bool\n",
        "    # For multiple environments, done is an array of bool of length n_envs\n",
        "    if n_envs == 1:\n",
        "        # Unwrap any DummyVecEnv or Monitor wrappers\n",
        "        base_env = env\n",
        "\n",
        "        # Unwrap DummyVecEnv\n",
        "        while hasattr(base_env, \"envs\"):\n",
        "            base_env = base_env.envs[0]\n",
        "\n",
        "        # print(f\"Done env day: {base_env.day}\")\n",
        "        done = base_env.day >= base_env.price_ary.shape[0] - 2\n",
        "        if done:\n",
        "            # print(f\"Env finished on day: {base_env.day}\")\n",
        "\n",
        "            # Now we have the real environment\n",
        "            df_account_value = base_env.save_asset_memory()\n",
        "            metrics = compute_metrics(df_account_value)\n",
        "            print(\"[metric_logger_callback] Single-env metrics:\", metrics)\n",
        "    else:\n",
        "        # Multi-env case\n",
        "        # We may accumulate metrics for each env that just finished\n",
        "        # and optionally average them after all are done\n",
        "        finished_env_indices = np.where(done)[0]  # Indices of envs that are done\n",
        "        if len(finished_env_indices) > 0:\n",
        "            metrics_list = []\n",
        "            for i in finished_env_indices:\n",
        "                df_account_value = env.get_attr(\"save_asset_memory\", indices=i)[0]\n",
        "                metrics_i = compute_metrics(df_account_value)\n",
        "                metrics_list.append(metrics_i)\n",
        "                print(f\"[metric_logger_callback] Env #{i} metrics: {metrics_i}\")\n",
        "\n",
        "            # Optionally average metrics across finished envs\n",
        "            if len(metrics_list) > 1:\n",
        "                # Ensure all metrics have the same keys\n",
        "                avg_metrics = {}\n",
        "                for key in metrics_list[0].keys():\n",
        "                    avg_metrics[key] = np.mean([m[key] for m in metrics_list])\n",
        "                print(\"[metric_logger_callback] Average metrics of finished envs:\", avg_metrics)\n",
        "\n",
        "    return True  # Return True to continue evaluation\n",
        "\n",
        "class EvalMetricLoggerCallback(EvalCallback):\n",
        "    def __init__(self, eval_env, model_name, split_label, log_to_wandb=False, **kwargs):\n",
        "        \"\"\"\n",
        "        Custom EvalCallback that logs evaluation metrics using `evaluate_policy()`.\n",
        "        \"\"\"\n",
        "        super().__init__(eval_env, **kwargs)\n",
        "        self.split_label = split_label\n",
        "        self.model_name = model_name\n",
        "        self.log_to_wandb = log_to_wandb\n",
        "        self.metric_logger = MetricLoggerCallback(model_name, split_label, log_to_wandb)\n",
        "\n",
        "    def _on_step(self) -> bool:\n",
        "        \"\"\"\n",
        "        Runs `evaluate_policy()` with `MetricLoggerCallback` and logs results after evaluation.\n",
        "        \"\"\"\n",
        "        if self.eval_freq > 0 and self.n_calls % self.eval_freq == 0:\n",
        "            # Evaluate using `evaluate_policy()`, passing `MetricLoggerCallback`\n",
        "            evaluate_policy(\n",
        "                self.model,\n",
        "                self.eval_env,\n",
        "                n_eval_episodes=self.n_eval_episodes,\n",
        "                deterministic=self.deterministic,\n",
        "                render=self.render,\n",
        "                warn=self.warn,\n",
        "                # callback=self.metric_logger._on_step  # 🔹 Logs metrics after evaluation\n",
        "                callback=metric_logger_callback\n",
        "            )\n",
        "\n",
        "        return super()._on_step()  # Run default EvalCallback logic"
      ]
    },
    {
      "cell_type": "code",
      "execution_count": 33,
      "metadata": {
        "cellView": "form",
        "id": "qB9YkdtyC9ee"
      },
      "outputs": [],
      "source": [
        "#@title SB3 train/val configs\n",
        "\n",
        "# import torch\n",
        "# from stable_baselines3.common.callbacks import EvalCallback\n",
        "\n",
        "# model_name = 'ppo'\n",
        "# log_to_wandb = False\n",
        "\n",
        "# train_env_config = {\n",
        "#     \"initial_amount\": run_config['initial_amount'],\n",
        "#     \"cost_pct\": run_config['cost_pct'],\n",
        "#     \"mode\": 'train',\n",
        "#     'np_env_config': train_np_env_config\n",
        "# }\n",
        "\n",
        "# val_env_config = {\n",
        "#     \"initial_amount\": run_config['initial_amount'],\n",
        "#     \"cost_pct\": run_config['cost_pct'],\n",
        "#     \"mode\": 'val',\n",
        "#     'np_env_config': val_np_env_config\n",
        "# }\n",
        "\n",
        "# PPO_PARAMS = {\n",
        "#     \"n_steps\": 2048, # rllib batch_size\n",
        "#     \"n_epochs\": 10,\n",
        "#     \"batch_size\": 128, # rllib minibatch_size\n",
        "\n",
        "#     \"ent_coef\": 0.01,\n",
        "#     \"learning_rate\": 0.00025,\n",
        "#     \"device\": \"cuda\" if torch.cuda.is_available() else 'cpu'\n",
        "# }"
      ]
    },
    {
      "cell_type": "code",
      "execution_count": 34,
      "metadata": {
        "cellView": "form",
        "id": "IcyL3GxIPS09"
      },
      "outputs": [],
      "source": [
        "#@title Train SB3 model\n",
        "\n",
        "@benchmark_exec_time\n",
        "def _train_sb3(total_timesteps=200_000, custom_callbacks=[], log_to_wandb=False):\n",
        "    trained_model = agent.train_model(\n",
        "        model=algo,\n",
        "        tb_log_name='ppo',\n",
        "        total_timesteps=total_timesteps,\n",
        "        custom_callbacks=custom_callbacks,\n",
        "        log_to_wandb=log_to_wandb\n",
        "    )\n",
        "\n",
        "# if log_to_wandb:\n",
        "#     wandb.finish()\n",
        "#     wandb.init(ENTITY, PROJECT)\n",
        "\n",
        "# train_env = init_env(**train_env_config)\n",
        "# val_env = init_env(**val_env_config)\n",
        "\n",
        "# eval_callback = EvalMetricLoggerCallback(\n",
        "#     eval_env=val_env,\n",
        "#     model_name=\"ppo\",\n",
        "#     split_label=\"val\",\n",
        "#     log_to_wandb=log_to_wandb,\n",
        "#     eval_freq=250,  # Evaluate every 1k steps\n",
        "#     deterministic=True,\n",
        "#     render=False\n",
        "# )\n",
        "\n",
        "# # eval_callback = EvalCallback(\n",
        "# #     eval_env=val_env,\n",
        "# #     callback_after_eval=MetricLoggerCallback(\n",
        "# #         model_name=\"ppo\",\n",
        "# #         split_label=\"val\",\n",
        "# #         log_to_wandb=log_to_wandb,\n",
        "# #     ),\n",
        "# #     eval_freq=1000,  # Evaluate every 1k steps\n",
        "# #     deterministic=True,\n",
        "# #     render=False\n",
        "# # )\n",
        "\n",
        "# agent = DRLAgent(env = train_env)\n",
        "# algo = agent.get_model(\"ppo\", model_kwargs = PPO_PARAMS)\n",
        "# new_logger_ppo = configure(RESULTS_DIR + '/ppo', [\"stdout\", \"csv\", \"tensorboard\"])\n",
        "# algo.set_logger(new_logger_ppo)\n",
        "\n",
        "# _train_sb3(\n",
        "#     500,\n",
        "#     custom_callbacks=[eval_callback],\n",
        "#     log_to_wandb=log_to_wandb\n",
        "# )"
      ]
    },
    {
      "cell_type": "code",
      "execution_count": 35,
      "metadata": {
        "cellView": "form",
        "id": "157sj4ZujzzP"
      },
      "outputs": [],
      "source": [
        "#@title FUNC: evaluate_model (sb3)\n",
        "\n",
        "def evaluate_model(algo, model_name, mode, np_env_config, run_config, turbulence_thresh=None,\n",
        "                   log_to_wandb=False):\n",
        "\n",
        "    if turbulence_thresh is None:\n",
        "        turbulence_thresh = run_config.get('turbulence_thresh', 99)\n",
        "\n",
        "    turbulence_name = 'turbulence' if not run_config.get('if_vix', None) else '^VIX'\n",
        "    print(f\"Evaluating for `{mode}` using `{turbulence_name}`: {turbulence_thresh}\")\n",
        "\n",
        "    env_config = {\n",
        "        # \"df\": val,\n",
        "        \"np_env_config\": np_env_config,\n",
        "        # \"run_config\": run_config,\n",
        "\n",
        "        \"initial_amount\": run_config['initial_amount'],\n",
        "        \"cost_pct\": run_config['cost_pct'],\n",
        "\n",
        "        \"mode\": mode,\n",
        "        'turbulence_threshold': turbulence_thresh\n",
        "    }\n",
        "\n",
        "    eval_env = create_stock_trading_env(env_config)\n",
        "\n",
        "    # Reset the environment\n",
        "    state, info = eval_env.reset()\n",
        "    done = False\n",
        "\n",
        "    while not done:\n",
        "        # Predict action using the trained SB3 model\n",
        "        action, _ = algo.predict(state, deterministic=True)\n",
        "\n",
        "        # Clip action to ensure it's within valid bounds\n",
        "        action = np.clip(action, eval_env.action_space.low, eval_env.action_space.high)\n",
        "\n",
        "        # Perform the action in the environment\n",
        "        state, reward, terminated, truncated, _ = eval_env.step(action)\n",
        "        done = terminated or truncated\n",
        "\n",
        "    df_account_value = eval_env.save_asset_memory()\n",
        "    metrics = compute_metrics(df_account_value)\n",
        "    print(metrics)\n",
        "\n",
        "    if log_to_wandb:\n",
        "        turbulence_log_name = 'ti' if not run_config.get('if_vix', None) else 'vix'\n",
        "        for metric_name, metric_value in metrics.items():\n",
        "            metric_name = f\"{mode}.{turbulence_log_name}_{turbulence_thresh}.{metric_name}/{model_name}\"\n",
        "            wandb.run.summary[metric_name] = metric_value\n",
        "\n",
        "    turbulence_series = pd.Series(\n",
        "        np_env_config['turbulence_array'][:len(df_account_value)],\n",
        "        index=df_account_value['date'],\n",
        "        name=turbulence_name\n",
        "    )\n",
        "\n",
        "    eval_result = {\n",
        "        'account_value': df_account_value.rename(columns={'account_value': model_name}),\n",
        "        'turbulence_series': turbulence_series,\n",
        "        'turbulence_thresh': turbulence_thresh\n",
        "    }\n",
        "\n",
        "    return eval_result"
      ]
    },
    {
      "cell_type": "code",
      "execution_count": 36,
      "metadata": {
        "cellView": "form",
        "id": "dajVnui9qgzg"
      },
      "outputs": [],
      "source": [
        "#@title evaluate_model (sb3)\n",
        "\n",
        "# train_result = evaluate_model(\n",
        "#     algo,\n",
        "#     model_name,\n",
        "#     run_config=run_config,\n",
        "#     np_env_config = train_np_env_config,\n",
        "#     mode='train',\n",
        "#     log_to_wandb=log_to_wandb\n",
        "# )\n",
        "\n",
        "# val_result = evaluate_model(\n",
        "#     algo,\n",
        "#     model_name,\n",
        "#     run_config=run_config,\n",
        "#     np_env_config = val_np_env_config,\n",
        "#     mode='val',\n",
        "#     log_to_wandb=log_to_wandb\n",
        "# )\n",
        "\n",
        "# test_result = evaluate_model(\n",
        "#     algo,\n",
        "#     model_name,\n",
        "#     run_config=run_config,\n",
        "#     np_env_config = test_np_env_config,\n",
        "#     mode='test',\n",
        "#     log_to_wandb=log_to_wandb\n",
        "# )"
      ]
    },
    {
      "cell_type": "code",
      "execution_count": 37,
      "metadata": {
        "collapsed": true,
        "id": "kFOoTEL-ZAiy"
      },
      "outputs": [],
      "source": [
        "# %timeit -n 1 -r 2 _train_sb3(int(50_000 / env_config['n_envs']))"
      ]
    },
    {
      "cell_type": "markdown",
      "source": [
        "## Train RLLib"
      ],
      "metadata": {
        "id": "eFnBP1hm6JLX"
      }
    },
    {
      "cell_type": "code",
      "execution_count": 38,
      "metadata": {
        "colab": {
          "base_uri": "https://localhost:8080/",
          "height": 0
        },
        "id": "B5HXgTrPXMkU",
        "outputId": "746c1a35-57e9-465b-a198-11dac82e591d"
      },
      "outputs": [
        {
          "output_type": "stream",
          "name": "stderr",
          "text": [
            "2025-02-20 16:05:50,213\tINFO worker.py:1832 -- Started a local Ray instance. View the dashboard at \u001b[1m\u001b[32mhttp://127.0.0.1:8265 \u001b[39m\u001b[22m\n"
          ]
        },
        {
          "output_type": "execute_result",
          "data": {
            "text/plain": [
              "RayContext(dashboard_url='127.0.0.1:8265', python_version='3.11.11', ray_version='2.42.1', ray_commit='c2e38f7b75be223c0c033986472daada8622d64f')"
            ],
            "text/html": [
              "<div class=\"lm-Widget p-Widget lm-Panel p-Panel jp-Cell-outputWrapper\">\n",
              "    <div style=\"margin-left: 50px;display: flex;flex-direction: row;align-items: center\">\n",
              "        <div class=\"jp-RenderedHTMLCommon\" style=\"display: flex; flex-direction: row;\">\n",
              "  <svg viewBox=\"0 0 567 224\" fill=\"none\" xmlns=\"http://www.w3.org/2000/svg\" style=\"height: 3em;\">\n",
              "    <g clip-path=\"url(#clip0_4338_178347)\">\n",
              "        <path d=\"M341.29 165.561H355.29L330.13 129.051C345.63 123.991 354.21 112.051 354.21 94.2307C354.21 71.3707 338.72 58.1807 311.88 58.1807H271V165.561H283.27V131.661H311.8C314.25 131.661 316.71 131.501 319.01 131.351L341.25 165.561H341.29ZM283.29 119.851V70.0007H311.82C331.3 70.0007 342.34 78.2907 342.34 94.5507C342.34 111.271 331.34 119.861 311.82 119.861L283.29 119.851ZM451.4 138.411L463.4 165.561H476.74L428.74 58.1807H416L367.83 165.561H380.83L392.83 138.411H451.4ZM446.19 126.601H398L422 72.1407L446.24 126.601H446.19ZM526.11 128.741L566.91 58.1807H554.35L519.99 114.181L485.17 58.1807H472.44L514.01 129.181V165.541H526.13V128.741H526.11Z\" fill=\"var(--jp-ui-font-color0)\"/>\n",
              "        <path d=\"M82.35 104.44C84.0187 97.8827 87.8248 92.0678 93.1671 87.9146C98.5094 83.7614 105.083 81.5067 111.85 81.5067C118.617 81.5067 125.191 83.7614 130.533 87.9146C135.875 92.0678 139.681 97.8827 141.35 104.44H163.75C164.476 101.562 165.622 98.8057 167.15 96.2605L127.45 56.5605C121.071 60.3522 113.526 61.6823 106.235 60.3005C98.9443 58.9187 92.4094 54.9203 87.8602 49.0574C83.3109 43.1946 81.0609 35.8714 81.5332 28.4656C82.0056 21.0599 85.1679 14.0819 90.4252 8.8446C95.6824 3.60726 102.672 0.471508 110.08 0.0272655C117.487 -0.416977 124.802 1.86091 130.647 6.4324C136.493 11.0039 140.467 17.5539 141.821 24.8501C143.175 32.1463 141.816 39.6859 138 46.0505L177.69 85.7505C182.31 82.9877 187.58 81.4995 192.962 81.4375C198.345 81.3755 203.648 82.742 208.33 85.3976C213.012 88.0532 216.907 91.9029 219.616 96.5544C222.326 101.206 223.753 106.492 223.753 111.875C223.753 117.258 222.326 122.545 219.616 127.197C216.907 131.848 213.012 135.698 208.33 138.353C203.648 141.009 198.345 142.375 192.962 142.313C187.58 142.251 182.31 140.763 177.69 138L138 177.7C141.808 184.071 143.155 191.614 141.79 198.91C140.424 206.205 136.44 212.75 130.585 217.313C124.731 221.875 117.412 224.141 110.004 223.683C102.596 223.226 95.6103 220.077 90.3621 214.828C85.1139 209.58 81.9647 202.595 81.5072 195.187C81.0497 187.779 83.3154 180.459 87.878 174.605C92.4405 168.751 98.9853 164.766 106.281 163.401C113.576 162.035 121.119 163.383 127.49 167.19L167.19 127.49C165.664 124.941 164.518 122.182 163.79 119.3H141.39C139.721 125.858 135.915 131.673 130.573 135.826C125.231 139.98 118.657 142.234 111.89 142.234C105.123 142.234 98.5494 139.98 93.2071 135.826C87.8648 131.673 84.0587 125.858 82.39 119.3H60C58.1878 126.495 53.8086 132.78 47.6863 136.971C41.5641 141.163 34.1211 142.972 26.7579 142.059C19.3947 141.146 12.6191 137.574 7.70605 132.014C2.79302 126.454 0.0813599 119.29 0.0813599 111.87C0.0813599 104.451 2.79302 97.2871 7.70605 91.7272C12.6191 86.1673 19.3947 82.5947 26.7579 81.6817C34.1211 80.7686 41.5641 82.5781 47.6863 86.7696C53.8086 90.9611 58.1878 97.2456 60 104.44H82.35ZM100.86 204.32C103.407 206.868 106.759 208.453 110.345 208.806C113.93 209.159 117.527 208.258 120.522 206.256C123.517 204.254 125.725 201.276 126.771 197.828C127.816 194.38 127.633 190.677 126.253 187.349C124.874 184.021 122.383 181.274 119.205 179.577C116.027 177.88 112.359 177.337 108.826 178.042C105.293 178.746 102.113 180.654 99.8291 183.44C97.5451 186.226 96.2979 189.718 96.3 193.32C96.2985 195.364 96.7006 197.388 97.4831 199.275C98.2656 201.163 99.4132 202.877 100.86 204.32ZM204.32 122.88C206.868 120.333 208.453 116.981 208.806 113.396C209.159 109.811 208.258 106.214 206.256 103.219C204.254 100.223 201.275 98.0151 197.827 96.97C194.38 95.9249 190.676 96.1077 187.348 97.4873C184.02 98.8669 181.274 101.358 179.577 104.536C177.879 107.714 177.337 111.382 178.041 114.915C178.746 118.448 180.653 121.627 183.439 123.911C186.226 126.195 189.717 127.443 193.32 127.44C195.364 127.443 197.388 127.042 199.275 126.259C201.163 125.476 202.878 124.328 204.32 122.88ZM122.88 19.4205C120.333 16.8729 116.981 15.2876 113.395 14.9347C109.81 14.5817 106.213 15.483 103.218 17.4849C100.223 19.4868 98.0146 22.4654 96.9696 25.9131C95.9245 29.3608 96.1073 33.0642 97.4869 36.3922C98.8665 39.7202 101.358 42.4668 104.535 44.1639C107.713 45.861 111.381 46.4036 114.914 45.6992C118.447 44.9949 121.627 43.0871 123.911 40.301C126.195 37.515 127.442 34.0231 127.44 30.4205C127.44 28.3772 127.038 26.3539 126.255 24.4664C125.473 22.5788 124.326 20.8642 122.88 19.4205ZM19.42 100.86C16.8725 103.408 15.2872 106.76 14.9342 110.345C14.5813 113.93 15.4826 117.527 17.4844 120.522C19.4863 123.518 22.4649 125.726 25.9127 126.771C29.3604 127.816 33.0638 127.633 36.3918 126.254C39.7198 124.874 42.4664 122.383 44.1635 119.205C45.8606 116.027 46.4032 112.359 45.6988 108.826C44.9944 105.293 43.0866 102.114 40.3006 99.8296C37.5145 97.5455 34.0227 96.2983 30.42 96.3005C26.2938 96.3018 22.337 97.9421 19.42 100.86ZM100.86 100.86C98.3125 103.408 96.7272 106.76 96.3742 110.345C96.0213 113.93 96.9226 117.527 98.9244 120.522C100.926 123.518 103.905 125.726 107.353 126.771C110.8 127.816 114.504 127.633 117.832 126.254C121.16 124.874 123.906 122.383 125.604 119.205C127.301 116.027 127.843 112.359 127.139 108.826C126.434 105.293 124.527 102.114 121.741 99.8296C118.955 97.5455 115.463 96.2983 111.86 96.3005C109.817 96.299 107.793 96.701 105.905 97.4835C104.018 98.2661 102.303 99.4136 100.86 100.86Z\" fill=\"#00AEEF\"/>\n",
              "    </g>\n",
              "    <defs>\n",
              "        <clipPath id=\"clip0_4338_178347\">\n",
              "            <rect width=\"566.93\" height=\"223.75\" fill=\"white\"/>\n",
              "        </clipPath>\n",
              "    </defs>\n",
              "  </svg>\n",
              "</div>\n",
              "\n",
              "        <table class=\"jp-RenderedHTMLCommon\" style=\"border-collapse: collapse;color: var(--jp-ui-font-color1);font-size: var(--jp-ui-font-size1);\">\n",
              "    <tr>\n",
              "        <td style=\"text-align: left\"><b>Python version:</b></td>\n",
              "        <td style=\"text-align: left\"><b>3.11.11</b></td>\n",
              "    </tr>\n",
              "    <tr>\n",
              "        <td style=\"text-align: left\"><b>Ray version:</b></td>\n",
              "        <td style=\"text-align: left\"><b>2.42.1</b></td>\n",
              "    </tr>\n",
              "    <tr>\n",
              "    <td style=\"text-align: left\"><b>Dashboard:</b></td>\n",
              "    <td style=\"text-align: left\"><b><a href=\"http://127.0.0.1:8265\" target=\"_blank\">http://127.0.0.1:8265</a></b></td>\n",
              "</tr>\n",
              "\n",
              "</table>\n",
              "\n",
              "    </div>\n",
              "</div>\n"
            ]
          },
          "metadata": {},
          "execution_count": 38
        }
      ],
      "source": [
        "import ray\n",
        "\n",
        "ray.shutdown()\n",
        "ray.init()"
      ]
    },
    {
      "cell_type": "code",
      "execution_count": 39,
      "metadata": {
        "cellView": "form",
        "id": "bEKCwsuzPj51"
      },
      "outputs": [],
      "source": [
        "#@title MetricsLoggerCallback (class)\n",
        "from ray.rllib.algorithms.callbacks import DefaultCallbacks\n",
        "from typing import Optional, Sequence\n",
        "import gymnasium as gym\n",
        "from gymnasium.vector import AsyncVectorEnv\n",
        "\n",
        "class MetricsLoggerCallback(DefaultCallbacks):\n",
        "    def __init__(self, model_name, ema_coeff=0.2, ma_window=20, log_to_wandb=False):\n",
        "        super().__init__()\n",
        "\n",
        "        self.model_name = model_name\n",
        "        self.ema_coeff = ema_coeff\n",
        "        self.ma_window = ma_window\n",
        "        self.metric_names = set()\n",
        "        self.log_to_wandb = log_to_wandb\n",
        "\n",
        "    def unwrap_env(self, env):\n",
        "        env = env.unwrapped\n",
        "        # print(type(env))\n",
        "        # (SingleAgentEnvRunner pid=127688) <class 'gymnasium.vector.sync_vector_env.SyncVectorEnv'>\n",
        "\n",
        "        if isinstance(env, AsyncVectorEnv):\n",
        "            return env\n",
        "        else:\n",
        "            env = env.envs[0]\n",
        "            # print(type(env))\n",
        "            # (SingleAgentEnvRunner pid=127688) <class 'gymnasium.wrappers.common.OrderEnforcing'>\n",
        "\n",
        "            env = env.env\n",
        "            # print(type(env))\n",
        "            # (SingleAgentEnvRunner pid=127688) <class 'gymnasium.wrappers.common.PassiveEnvChecker'>\n",
        "\n",
        "            env = env.env\n",
        "            # print(type(env))\n",
        "            # (SingleAgentEnvRunner pid=127688) <class 'finrl.meta.env_stock_trading.env_stocktrading.StockTradingEnv'>\n",
        "        return env\n",
        "\n",
        "    def on_episode_step(\n",
        "            self,\n",
        "            *,\n",
        "            episode,\n",
        "            env_runner,\n",
        "            metrics_logger,\n",
        "            env,\n",
        "            env_index,\n",
        "            rl_module,\n",
        "            **kwargs,\n",
        "        ) -> None:\n",
        "\n",
        "        env = self.unwrap_env(env)\n",
        "\n",
        "        if isinstance(env, AsyncVectorEnv):\n",
        "            asset_values = env.get_attr('asset_memory')\n",
        "            asset_values = pd.concat([pd.Series(av) for av in asset_values], axis=1).mean(axis=1)\n",
        "\n",
        "            # TODO: save_asset_memory\n",
        "            raise NotImplementedError\n",
        "        else:\n",
        "            # asset_values = env.asset_memory\n",
        "            asset_values = env.save_asset_memory()\n",
        "\n",
        "        # print(f\"Env {env_index} day: {env.day}\")\n",
        "        metrics = compute_metrics(asset_values)\n",
        "\n",
        "        # mode = env.mode\n",
        "        for metric_name, metric_value in metrics.items():\n",
        "            # metric_name = f\"{mode}/{metric_name}\" if mode != \"\" else metric_name\n",
        "            episode.add_temporary_timestep_data(metric_name, metric_value)\n",
        "            self.metric_names.update([metric_name])\n",
        "\n",
        "    def on_episode_end(\n",
        "            self,\n",
        "            *,\n",
        "            episode,\n",
        "            env_runner,\n",
        "            metrics_logger,\n",
        "            env,\n",
        "            env_index,\n",
        "            rl_module,\n",
        "            **kwargs,\n",
        "        ) -> None:\n",
        "\n",
        "        for metric_name in self.metric_names:\n",
        "            metric_values = episode.get_temporary_timestep_data(metric_name)\n",
        "            metric_value = np.nanmean(np.array(metric_values))\n",
        "\n",
        "            metrics_logger.log_value(\n",
        "                metric_name,\n",
        "                metric_value,\n",
        "                reduce='mean',\n",
        "            )\n",
        "\n",
        "            metrics_logger.log_value(\n",
        "                f\"{metric_name}_EMA_{self.ema_coeff}\",\n",
        "                metric_value,\n",
        "                reduce='mean',\n",
        "                ema_coeff=self.ema_coeff\n",
        "            )\n",
        "\n",
        "            metrics_logger.log_value(\n",
        "                f\"{metric_name}_MA_{self.ma_window}\",\n",
        "                metric_value,\n",
        "                reduce='mean',\n",
        "                window=self.ma_window\n",
        "            )\n",
        "\n",
        "            # mode = 'val' if env_runner.config.in_evaluation else 'train'\n",
        "            # if mode == 'val':\n",
        "            #     print({\n",
        "            #         f\"{mode}.{metric_name}/{self.model_name}\": metric_value,\n",
        "            #     }) # TODO: log on every episode step\n",
        "\n",
        "            if self.log_to_wandb:\n",
        "                mode = 'val' if env_runner.config.in_evaluation else 'train'\n",
        "                wandb.log({\n",
        "                    f\"{mode}.{metric_name}/{self.model_name}\": metric_value,\n",
        "                }) # TODO: log on every episode step"
      ]
    },
    {
      "cell_type": "code",
      "execution_count": 40,
      "metadata": {
        "cellView": "form",
        "id": "Gg8DIuPJ9FwH"
      },
      "outputs": [],
      "source": [
        "#@title print_result\n",
        "\n",
        "RESULT_KEYS_TO_INCLUDE = [\n",
        "    'sharpe_ratio',\n",
        "    'ann_return',\n",
        "    'mdd',\n",
        "\n",
        "    # 'sharpe_ratio_MA',\n",
        "    # 'ann_return_MA',\n",
        "    # 'mdd_MA',\n",
        "\n",
        "    # 'sharpe_ratio_EMA',\n",
        "    # 'ann_return_EMA',\n",
        "    # 'mdd_EMA',\n",
        "]\n",
        "\n",
        "def print_result(result):\n",
        "    print()\n",
        "    print('-' * 40)\n",
        "\n",
        "    keys_to_print = [\n",
        "        key\n",
        "        for include_key in RESULT_KEYS_TO_INCLUDE\n",
        "        for key in result['env_runners'].keys()\n",
        "        if key.startswith(include_key)\n",
        "    ]\n",
        "\n",
        "    for key in sorted(keys_to_print):\n",
        "        print(f\"train/{key}: {round(result['env_runners'][key], 2)}\")\n",
        "\n",
        "    print('*' * 40)\n",
        "    keys_to_print = [\n",
        "        key\n",
        "        for include_key in RESULT_KEYS_TO_INCLUDE\n",
        "        for key in result['evaluation']['env_runners'].keys()\n",
        "        if key.startswith(include_key)\n",
        "    ]\n",
        "\n",
        "    for key in sorted(keys_to_print):\n",
        "        print(f\"val/{key}: {round(result['env_runners'][key], 2)}\")\n",
        "\n",
        "    print('-' * 40)\n",
        "    print()"
      ]
    },
    {
      "cell_type": "code",
      "execution_count": 41,
      "metadata": {
        "id": "dHEf7Q17vQ3Y"
      },
      "outputs": [],
      "source": [
        "# train, val, test using DRL_prediction()\n",
        "# test using DRL_prediction()"
      ]
    },
    {
      "cell_type": "code",
      "execution_count": 42,
      "metadata": {
        "id": "8gE-bdroXtSd"
      },
      "outputs": [],
      "source": [
        "model_name = 'ppo'\n",
        "num_envs_per_env_runner = 1\n",
        "num_env_runners = 0\n",
        "log_to_wandb = True"
      ]
    },
    {
      "cell_type": "code",
      "execution_count": 43,
      "metadata": {
        "cellView": "form",
        "id": "CDJpaWdhVCsP"
      },
      "outputs": [],
      "source": [
        "#@title Define RLlib model\n",
        "\n",
        "from functools import partial\n",
        "from pathlib import Path\n",
        "from ray.rllib.algorithms.ppo import PPOConfig\n",
        "import torch\n",
        "from ray.tune.registry import register_env\n",
        "from time import perf_counter\n",
        "from ray.rllib.algorithms.algorithm_config import AlgorithmConfig\n",
        "\n",
        "AVAILABLE_MODELS = ['ppo']\n",
        "\n",
        "def create_stock_trading_env(env_config):\n",
        "    return init_env(**env_config)\n",
        "\n",
        "def build_model():\n",
        "    assert model_name in AVAILABLE_MODELS\n",
        "    register_env(\"stock_trading_env\", create_stock_trading_env)\n",
        "\n",
        "    run_timer_start = perf_counter()\n",
        "\n",
        "    if log_to_wandb:\n",
        "        wandb.finish()\n",
        "        wandb.init(ENTITY, PROJECT)\n",
        "\n",
        "    config = (\n",
        "        PPOConfig()\n",
        "        .environment(\n",
        "            env=\"stock_trading_env\",\n",
        "            env_config={\n",
        "                # \"df\": train,\n",
        "                \"np_env_config\": train_np_env_config,\n",
        "\n",
        "                # \"run_config\": run_config,\n",
        "                \"initial_amount\": run_config['initial_amount'],\n",
        "                \"cost_pct\": run_config['cost_pct'],\n",
        "\n",
        "                \"mode\": 'train'\n",
        "            },\n",
        "        )\n",
        "        .env_runners(\n",
        "            batch_mode=\"complete_episodes\",\n",
        "            num_envs_per_env_runner=num_envs_per_env_runner,\n",
        "            num_env_runners=num_env_runners,\n",
        "            num_cpus_per_env_runner= (2/num_env_runners) if num_env_runners > 2 else None,\n",
        "\n",
        "            # gym_env_vectorize_mode=gym.envs.registration.VectorizeMode.ASYNC,\n",
        "        )\n",
        "        .training(\n",
        "            train_batch_size=2048,\n",
        "            num_epochs=10,\n",
        "            minibatch_size=128,\n",
        "        )\n",
        "        # .experimental(\n",
        "        #     _validate_config=False\n",
        "        # )\n",
        "        .evaluation(\n",
        "            # Set up the validation environment\n",
        "            evaluation_interval=1,  # Specify evaluation frequency (1=after each training step)\n",
        "            # evaluation_parallel_to_training=True,\n",
        "            # evaluation_duration=2,\n",
        "\n",
        "            # evaluation_config=AlgorithmConfig.overrides(**{\n",
        "            #     \"explore\": False,\n",
        "            #     \"env\": \"stock_trading_env\",\n",
        "            #     \"env_config\": {\n",
        "            #         # \"df\": val,\n",
        "            #         \"np_env_config\": val_np_env_config,\n",
        "\n",
        "            #         # \"run_config\": run_config,\n",
        "            #         \"initial_amount\": run_config['initial_amount'],\n",
        "            #         \"cost_pct\": run_config['cost_pct'],\n",
        "\n",
        "            #         \"mode\": 'val'\n",
        "            #     },\n",
        "            # }),\n",
        "\n",
        "            evaluation_config={\n",
        "                \"explore\": False,\n",
        "                \"env\": \"stock_trading_env\",\n",
        "                \"env_config\": {\n",
        "                    # \"df\": val,\n",
        "                    \"np_env_config\": val_np_env_config,\n",
        "\n",
        "                    # \"run_config\": run_config,\n",
        "                    \"initial_amount\": run_config['initial_amount'],\n",
        "                    \"cost_pct\": run_config['cost_pct'],\n",
        "\n",
        "                    \"mode\": 'val'\n",
        "                },\n",
        "            },\n",
        "        )\n",
        "        # .callbacks(MetricsLoggerCallback)\n",
        "        .callbacks(partial(MetricsLoggerCallback, model_name='ppo', log_to_wandb=log_to_wandb))\n",
        "        .resources(\n",
        "            num_gpus=1 if torch.cuda.is_available() else None\n",
        "        )\n",
        "    )\n",
        "\n",
        "    # 2. build the algorithm ..\n",
        "    if config.num_env_runners > 0:\n",
        "        ray.shutdown()\n",
        "        ray.init()\n",
        "\n",
        "        register_env(\"stock_trading_env\", create_stock_trading_env)\n",
        "\n",
        "    algo = config.build()\n",
        "    return algo"
      ]
    },
    {
      "cell_type": "code",
      "execution_count": 44,
      "metadata": {
        "id": "Jax0J0cQ3ZiG"
      },
      "outputs": [],
      "source": [
        "# algo = build_model()"
      ]
    },
    {
      "cell_type": "code",
      "execution_count": 45,
      "metadata": {
        "cellView": "form",
        "collapsed": true,
        "id": "4IV-iVqxqUQe"
      },
      "outputs": [],
      "source": [
        "#@title Train RLlib model\n",
        "\n",
        "# 3. .. train it ..\n",
        "from math import ceil\n",
        "\n",
        "@benchmark_exec_time\n",
        "def _train_rllib(algo, total_timesteps=200_000):\n",
        "    results = []\n",
        "    total_batches = ceil(total_timesteps / algo.config.train_batch_size)\n",
        "    print(f\"total_batches: {total_batches}\")\n",
        "    print(f\"total_timesteps: {total_timesteps}\")\n",
        "    for _ in range(total_batches):\n",
        "        result = algo.train()\n",
        "        results.append(result)\n",
        "\n",
        "    print_result(result)\n",
        "    return results\n",
        "\n",
        "def train_model(algo):\n",
        "    print(f\"Envs: {algo.config.num_envs_per_env_runner}, Runners: {algo.config.num_env_runners}\")\n",
        "\n",
        "    results, exec_time_sec = _train_rllib(algo, 2_048 * 1)\n",
        "    os.makedirs(TRAINED_MODEL_DIR, exist_ok=True)\n",
        "    if log_to_wandb:\n",
        "        duration_minutes = round(exec_time_sec / 60, 1)\n",
        "        wandb.run.summary[f\"train.duration_minutes/{model_name}\"] = duration_minutes\n",
        "\n",
        "    ckpt_path = (Path(TRAINED_MODEL_DIR) / model_name).resolve()\n",
        "    dir = algo.save(ckpt_path)\n",
        "    if log_to_wandb:\n",
        "        update_model_artifacts(log_results_folder=False)"
      ]
    },
    {
      "cell_type": "code",
      "execution_count": 46,
      "metadata": {
        "id": "mu7435fk3byB",
        "collapsed": true
      },
      "outputs": [],
      "source": [
        "# train_model(algo)"
      ]
    },
    {
      "cell_type": "code",
      "execution_count": 47,
      "metadata": {
        "id": "jl87Lv-8KkwW"
      },
      "outputs": [],
      "source": [
        "# results, _ = _train_rllib(2_048)\n",
        "# %timeit -n 1 -r 1 _train_rllib(2_048)"
      ]
    },
    {
      "cell_type": "code",
      "execution_count": 48,
      "metadata": {
        "cellView": "form",
        "id": "PRB1P2H9_FT1"
      },
      "outputs": [],
      "source": [
        "#@title aggregate_results\n",
        "\n",
        "import pandas as pd\n",
        "\n",
        "def aggregate_results(results):\n",
        "    \"\"\"\n",
        "    Combines all metrics from a list of results into a single DataFrame.\n",
        "\n",
        "    Args:\n",
        "        results (list): A list of result dictionaries with train and validation metrics.\n",
        "\n",
        "    Returns:\n",
        "        pd.DataFrame: A DataFrame containing the combined metrics.\n",
        "    \"\"\"\n",
        "    metrics = []\n",
        "\n",
        "    for i, result in enumerate(results):\n",
        "        row = {'iteration': i + 1}  # Add iteration number\n",
        "        for key in result['env_runners'].keys():\n",
        "            if any(include_key in key for include_key in RESULT_KEYS_TO_INCLUDE):\n",
        "                row[f\"train/{key}\"] = round(result['env_runners'][key], 2)\n",
        "                row[f\"val/{key}\"] = round(result['evaluation']['env_runners'].get(key, float('nan')), 2)  # Use `.get()` for safety\n",
        "        metrics.append(row)\n",
        "\n",
        "    return pd.DataFrame(metrics)"
      ]
    },
    {
      "cell_type": "code",
      "execution_count": 49,
      "metadata": {
        "cellView": "form",
        "id": "PTm6gQ0LJDGb"
      },
      "outputs": [],
      "source": [
        "#@title plot_metrics\n",
        "import matplotlib.pyplot as plt\n",
        "%matplotlib inline\n",
        "\n",
        "def plot_metrics(df, average_mode=None):\n",
        "    \"\"\"\n",
        "    Plots all metrics on the same figure with different axes for train and validation metrics.\n",
        "\n",
        "    Args:\n",
        "        df (pd.DataFrame): Dataframe containing metrics.\n",
        "        average_mode (str): Average mode to filter metrics ('EMA' or 'MA').\n",
        "    \"\"\"\n",
        "    assert average_mode in ('EMA', 'MA', None)\n",
        "\n",
        "    if average_mode is None:\n",
        "        average_mode = ''\n",
        "    else:\n",
        "        average_mode = '_' + average_mode\n",
        "\n",
        "    # Extract metric keys based on average_mode\n",
        "    metric_keys = [f'sharpe_ratio{average_mode}', f'ann_return{average_mode}', f'mdd{average_mode}']\n",
        "    train_keys = [key for key in df.columns if any([key.removeprefix('train/').startswith(metric_key) for metric_key in metric_keys])]\n",
        "    val_keys = [key for key in df.columns if any([key.removeprefix('val/').startswith(metric_key) for metric_key in metric_keys])]\n",
        "    print(metric_keys)\n",
        "    print(val_keys, train_keys)\n",
        "\n",
        "    # Set up the figure and the main axis\n",
        "    fig, ax1 = plt.subplots(figsize=(8, 6))\n",
        "    ax1.set_xlabel(\"Iteration\")\n",
        "    ax1.set_ylabel(\"Sharpe Ratio\", color=\"tab:blue\")\n",
        "\n",
        "    # Plot the first metric on the main axis\n",
        "    ax1.plot(df['iteration'], df[train_keys[0]], label=f\"Train {metric_keys[0]}\", color=\"tab:blue\", linestyle=\"-\")\n",
        "    ax1.plot(df['iteration'], df[val_keys[0]], label=f\"Val {metric_keys[0]}\", color=\"tab:blue\", linestyle=\"--\")\n",
        "    # ax1.legend(loc=\"upper left\")\n",
        "    ax1.tick_params(axis=\"y\", labelcolor=\"tab:blue\")\n",
        "\n",
        "    # Create the second y-axis for the second metric\n",
        "    ax2 = ax1.twinx()\n",
        "    ax2.set_ylabel(\"Annual Return\", color=\"tab:green\")\n",
        "    ax2.plot(df['iteration'], df[train_keys[1]], label=f\"Train {metric_keys[1]}\", color=\"tab:green\", linestyle=\"-\")\n",
        "    ax2.plot(df['iteration'], df[val_keys[1]], label=f\"Val {metric_keys[1]}\", color=\"tab:green\", linestyle=\"--\")\n",
        "    ax2.tick_params(axis=\"y\", labelcolor=\"tab:green\")\n",
        "\n",
        "    # Create the third y-axis for the third metric\n",
        "    ax3 = ax1.twinx()\n",
        "    ax3.spines[\"right\"].set_position((\"outward\", 60))  # Offset the third y-axis\n",
        "    ax3.set_ylabel(\"Maximum Drawdown\", color=\"tab:red\")\n",
        "    ax3.plot(df['iteration'], df[train_keys[2]], label=f\"Train {metric_keys[2]}\", color=\"tab:red\", linestyle=\"-\")\n",
        "    ax3.plot(df['iteration'], df[val_keys[2]], label=f\"Val {metric_keys[2]}\", color=\"tab:red\", linestyle=\"--\")\n",
        "    ax3.tick_params(axis=\"y\", labelcolor=\"tab:red\")\n",
        "\n",
        "    # Add a title and show the plot\n",
        "    plt.title(f\"Metrics Comparison ({average_mode})\")\n",
        "    fig.tight_layout()  # Ensure proper layout\n",
        "    plt.show()\n"
      ]
    },
    {
      "cell_type": "code",
      "execution_count": 50,
      "metadata": {
        "id": "pcHPljH8ugWI"
      },
      "outputs": [],
      "source": [
        "# results_agg = aggregate_results(results)\n",
        "# results_agg.tail()\n",
        "\n",
        "# plot_metrics(\n",
        "#     results_agg,\n",
        "#     average_mode=None\n",
        "#     # average_mode='EMA'\n",
        "# )"
      ]
    },
    {
      "cell_type": "code",
      "execution_count": 51,
      "metadata": {
        "cellView": "form",
        "id": "H-l9U3K9TnlB",
        "colab": {
          "base_uri": "https://localhost:8080/",
          "height": 0
        },
        "outputId": "db211807-4a0b-4d60-c82a-a72ec83c2151"
      },
      "outputs": [
        {
          "output_type": "execute_result",
          "data": {
            "text/plain": [
              "'val.q_25.agg_sharpe_ratio/ppo'"
            ],
            "application/vnd.google.colaboratory.intrinsic+json": {
              "type": "string"
            }
          },
          "metadata": {},
          "execution_count": 51
        }
      ],
      "source": [
        "#@title get_formatted_metric_name\n",
        "\n",
        "def get_formatted_metric_name(\n",
        "    model_name,\n",
        "    metric_name,\n",
        "    split_label,\n",
        "    turbulence_log_name=None,\n",
        "    turbulence_thresh=None,\n",
        "    turbulence_thresh_postfix=None,\n",
        "    metric_prefix=None,\n",
        "    quantile_log_name=None,\n",
        "    quantile_thresh = None\n",
        "):\n",
        "    assert turbulence_thresh_postfix in ['best', 'chosen', None]\n",
        "    assert quantile_log_name in ['q', 'qe', None]\n",
        "\n",
        "    if turbulence_log_name is not None:\n",
        "        assert turbulence_thresh is not None\n",
        "\n",
        "    if quantile_log_name is not None:\n",
        "        assert turbulence_thresh is None and turbulence_log_name is None\n",
        "        assert quantile_thresh is not None and 0 < quantile_thresh <= 1\n",
        "\n",
        "    formatted_name = (\n",
        "        f\"{split_label}\"\n",
        "\n",
        "        # Quantile name + thresh\n",
        "        f\"{'.' + quantile_log_name if quantile_log_name else ''}\"\n",
        "        f\"{'_' + str(round(quantile_thresh * 100)) if quantile_thresh else ''}\"\n",
        "\n",
        "        # Turbulence name + thresh\n",
        "        f\"{'.' + turbulence_log_name if turbulence_log_name else ''}\"\n",
        "        f\"{'_' + str(turbulence_thresh) if turbulence_thresh else ''}\"\n",
        "        f\"{'_' + turbulence_thresh_postfix if turbulence_thresh_postfix else ''}\"\n",
        "\n",
        "        f\".{metric_prefix + '_' if metric_prefix else ''}{metric_name}/\"\n",
        "        f\"{model_name}\"\n",
        "    )\n",
        "    return formatted_name\n",
        "\n",
        "\n",
        "formatted_name = get_formatted_metric_name(\n",
        "    model_name,\n",
        "    metric_name='sharpe_ratio',\n",
        "    split_label='val',\n",
        "    # turbulence_log_name='vix',\n",
        "    # turbulence_thresh=99,\n",
        "    metric_prefix='agg',\n",
        "    quantile_log_name='q',\n",
        "    quantile_thresh = 0.25\n",
        ")\n",
        "\n",
        "formatted_name"
      ]
    },
    {
      "cell_type": "code",
      "source": [
        "#@title log_eval_results\n",
        "\n",
        "def log_eval_results(\n",
        "        model_name,\n",
        "        metrics,\n",
        "        split_label,\n",
        "        turbulence_log_name=None,\n",
        "        turbulence_thresh=None,\n",
        "        run=None,\n",
        "        turbulence_thresh_postfix=None,\n",
        "        metric_prefix=None,\n",
        "        quantile_log_name=None,\n",
        "        quantile_thresh = None\n",
        "    ):\n",
        "\n",
        "    if run is None:\n",
        "        run = wandb.run\n",
        "        assert run is not None, \"If no run is provided, wandb should contain an active run\"\n",
        "\n",
        "    for metric_name, metric_value in metrics.items():\n",
        "        formatted_name = get_formatted_metric_name(\n",
        "            model_name,\n",
        "            metric_name,\n",
        "            split_label,\n",
        "            turbulence_log_name,\n",
        "            turbulence_thresh,\n",
        "            metric_prefix=metric_prefix,\n",
        "            quantile_log_name=quantile_log_name,\n",
        "            quantile_thresh = quantile_thresh\n",
        "        )\n",
        "\n",
        "        run.summary[formatted_name] = np.round(metric_value, decimals=2).tolist()  # Use formatted_name instead\n",
        "\n",
        "\n",
        "# log_eval_results(\n",
        "#     model_name,\n",
        "#     metrics={'sharpe_ratio': 1.5},\n",
        "#     split_label='val',\n",
        "#     # turbulence_log_name='vix',\n",
        "#     # turbulence_thresh=99,\n",
        "#     run=None,\n",
        "#     metric_prefix='agg',\n",
        "#     quantile_log_name='q',\n",
        "#     quantile_thresh = 0.25\n",
        "# )"
      ],
      "metadata": {
        "cellView": "form",
        "id": "b0YOZvHqkCVp"
      },
      "execution_count": 52,
      "outputs": []
    },
    {
      "cell_type": "code",
      "execution_count": 53,
      "metadata": {
        "cellView": "form",
        "id": "eOiQhAa15VQT"
      },
      "outputs": [],
      "source": [
        "#@title get_config_hash\n",
        "\n",
        "import json\n",
        "from hashlib import sha256\n",
        "\n",
        "def dict_to_canonical_string(cfg_dict):\n",
        "    return json.dumps(cfg_dict, sort_keys=True)\n",
        "\n",
        "def get_config_hash(run_config):\n",
        "    config_seed = run_config['seed']\n",
        "    config_training_params = run_config['training_params']\n",
        "    config_canonical_str = dict_to_canonical_string({\n",
        "        'seed': config_seed,\n",
        "        'training_params': config_training_params\n",
        "    })\n",
        "    config_hash = sha256(config_canonical_str.encode()).hexdigest()\n",
        "    return config_hash"
      ]
    },
    {
      "cell_type": "code",
      "execution_count": 54,
      "metadata": {
        "colab": {
          "base_uri": "https://localhost:8080/",
          "height": 0
        },
        "id": "omhOVfoMUh3x",
        "outputId": "02f1bcfc-242e-4634-fcfc-24a6a67e655a",
        "cellView": "form"
      },
      "outputs": [
        {
          "output_type": "execute_result",
          "data": {
            "text/plain": [
              "'dcl4jcb8'"
            ],
            "application/vnd.google.colaboratory.intrinsic+json": {
              "type": "string"
            }
          },
          "metadata": {},
          "execution_count": 54
        }
      ],
      "source": [
        "#@title find_previous_run (sweep)\n",
        "\n",
        "WANDB_API = wandb.Api()\n",
        "\n",
        "def find_prev_run(sweep_id, curr_run_id):\n",
        "    global WANDB_API\n",
        "\n",
        "    sweep_runs = WANDB_API.sweep(f\"{ENTITY}/{PROJECT}/{sweep_id}\").runs\n",
        "    curr_run = WANDB_API.run(f\"{ENTITY}/{PROJECT}/{curr_run_id}\")\n",
        "\n",
        "    prev_run = None\n",
        "    for run in sweep_runs:\n",
        "        # find run with same `hash_config`\n",
        "        # and current previous `test_start_date == current `val_start_date`\n",
        "        if run.summary['config_hash'] == curr_run.summary['config_hash'] \\\n",
        "        and run.config['date_range']['test_start_date'] == curr_run.config['date_range']['val_start_date']:\n",
        "            prev_run = run\n",
        "            break\n",
        "\n",
        "    return prev_run\n",
        "\n",
        "SWEEP_ID = 'yd7fz9as'\n",
        "CURR_RUN_ID = 'rbug5oxn'\n",
        "prev_run = find_prev_run(SWEEP_ID, CURR_RUN_ID)\n",
        "prev_run.id"
      ]
    },
    {
      "cell_type": "code",
      "source": [
        "#@title RLLib_prediction\n",
        "from ray.rllib.core.columns import Columns\n",
        "\n",
        "def RLLib_prediction(\n",
        "    model_name,\n",
        "    rl_module,\n",
        "    eval_env,\n",
        "):\n",
        "    state, info = eval_env.reset()\n",
        "    done = False\n",
        "    print(f'\\t initial_total_asset: {eval_env.initial_total_asset}')\n",
        "\n",
        "    while not done:\n",
        "        # Compute action using the RLlib trained agent\n",
        "        input_dict = {Columns.OBS: torch.Tensor(state).unsqueeze(0)}\n",
        "        rl_module_out = rl_module.forward_inference(input_dict)\n",
        "        logits = rl_module_out[Columns.ACTION_DIST_INPUTS]\n",
        "\n",
        "        # Take mean of multivariate Gaussian distribution\n",
        "        mean, log_std = logits.chunk(2, dim=-1)\n",
        "\n",
        "        # action_distribution = TorchDiagGaussian.from_logits(logits)\n",
        "        # action_distribution = action_distribution.to_deterministic()\n",
        "        # assert np.allclose(mean, action_distribution.loc)\n",
        "        # assert np.allclose(log_std.exp(), action_distribution._dist.scale)\n",
        "        # action = action_distribution.sample()\n",
        "\n",
        "        action = mean.detach().numpy().squeeze()\n",
        "\n",
        "        # Clip the action to ensure it's within the action space bounds\n",
        "        action = np.clip(action, eval_env.action_space.low, eval_env.action_space.high)\n",
        "\n",
        "        # Perform action\n",
        "        state, reward, terminated, truncated, _ = eval_env.step(action)\n",
        "        done = terminated or truncated\n",
        "\n",
        "    df_account_values = eval_env.save_asset_memory()\n",
        "    df_account_values = df_account_values.rename(columns={'account_value': model_name.upper()})\n",
        "\n",
        "    # HACK: hardcoded timezone\n",
        "    # TODO: transfer timezone handling to FinRL\n",
        "    # df_account_value['date'] = pd.to_datetime(df_account_value['date'], utc=True).dt.tz_convert(NY)\n",
        "    return df_account_values\n",
        "\n",
        "# env_config = {\n",
        "#     \"np_env_config\": val_np_env_config,\n",
        "\n",
        "#     \"initial_amount\": run_config['initial_amount'],\n",
        "#     \"initial_stocks\": None,\n",
        "#     \"cost_pct\": run_config['cost_pct'],\n",
        "\n",
        "#     \"mode\": 'val',\n",
        "#     'turbulence_threshold': 99\n",
        "# }\n",
        "\n",
        "# eval_env = create_stock_trading_env(env_config)\n",
        "# rl_module = algo.env_runner.module\n",
        "# df_account_value = RLLib_prediction(\n",
        "#     model_name,\n",
        "#     rl_module,\n",
        "#     eval_env,\n",
        "# )\n",
        "\n",
        "# df_account_value.head()"
      ],
      "metadata": {
        "cellView": "form",
        "id": "Ri3vBbIERR7K"
      },
      "execution_count": 55,
      "outputs": []
    },
    {
      "cell_type": "code",
      "execution_count": 56,
      "metadata": {
        "cellView": "form",
        "id": "GTJrVlMbg4--"
      },
      "outputs": [],
      "source": [
        "#@title add DIJA (deprecated)\n",
        "\n",
        "def add_djia(df_account_value, run_config):\n",
        "    # Download DIJA\n",
        "    df_djia = YahooDownloader(\n",
        "        start_date=df_account_value['date'].iloc[0],\n",
        "        end_date=df_account_value['date'].iloc[-1] + pd.Timedelta(days=1),\n",
        "        ticker_list=['^DJI'] # `dji` is delisted, `DJIA` is an ETF, not an index\n",
        "    ).fetch_data()\n",
        "\n",
        "\n",
        "    # Scale DJIA data\n",
        "    df_djia = df_djia[['date','close']]\n",
        "    fst_day = df_djia['close'].iloc[0]\n",
        "    df_djia = pd.DataFrame({\n",
        "        'date': df_djia['date'],\n",
        "        'DJIA': df_djia['close'].div(fst_day).mul(run_config['initial_amount']).values,\n",
        "    })\n",
        "\n",
        "    # Convert `date` to datetime\n",
        "    df_account_value['date'] = pd.to_datetime(df_account_value['date'], utc=True).dt.tz_convert(NY).dt.date\n",
        "    df_account_value['date'] = pd.to_datetime(df_account_value['date'])\n",
        "    df_djia['date'] = pd.to_datetime(df_djia['date'])\n",
        "\n",
        "    # Merge DJIA data\n",
        "    df_account_value = pd.merge(\n",
        "        df_account_value,\n",
        "        df_djia,\n",
        "        on='date',\n",
        "        how='inner',\n",
        "    ).fillna(method='bfill')\n",
        "\n",
        "    return df_account_value\n",
        "\n",
        "# df_account_value = add_djia(df_account_value, run_config)\n",
        "# print(df_account_value.shape)\n",
        "# df_account_value.head()"
      ]
    },
    {
      "cell_type": "code",
      "execution_count": 57,
      "metadata": {
        "cellView": "form",
        "id": "zEycEltOp0mq"
      },
      "outputs": [],
      "source": [
        "#@title load DIJA\n",
        "\n",
        "def load_djia(\n",
        "        start_date,\n",
        "        end_date,\n",
        "    ):\n",
        "\n",
        "    # Download DIJA\n",
        "    df_djia = YahooDownloader(\n",
        "        start_date = start_date,\n",
        "        end_date = end_date + pd.Timedelta(days=1), # include last day\n",
        "        ticker_list=['^DJI'] # `dji` is delisted, `DJIA` is an ETF, not an index\n",
        "    ).fetch_data()\n",
        "\n",
        "\n",
        "    # Scale DJIA data\n",
        "    df_djia = df_djia[['date','close']]\n",
        "    fst_day = df_djia['close'].iloc[0]\n",
        "    df_djia = pd.DataFrame({\n",
        "        'date': df_djia['date'],\n",
        "        'DJIA': df_djia['close'].div(fst_day).mul(run_config['initial_amount']).values,\n",
        "    })\n",
        "\n",
        "    return df_djia"
      ]
    },
    {
      "cell_type": "code",
      "source": [
        "#@title log djia metrics per split (deprecated)\n",
        "\n",
        "# df_djia_per_split = {}\n",
        "\n",
        "# df_djia_per_split['val'] = load_djia(\n",
        "#     start_date=date_range['val_start_date'],\n",
        "#     end_date=date_range['test_start_date'],\n",
        "# )\n",
        "\n",
        "# df_djia_per_split['test'] = load_djia(\n",
        "#     start_date=date_range['test_start_date'],\n",
        "#     end_date=date_range['test_end_date'],\n",
        "# )\n",
        "\n",
        "# df_djia_per_split['val'].head()\n",
        "\n",
        "# for split_label, df_djia in df_djia_per_split.items():\n",
        "#     djia_metrics = compute_metrics(df_djia)\n",
        "#     log_eval_results(\n",
        "#         'djia',\n",
        "#         djia_metrics,\n",
        "#         split_label,\n",
        "#     )\n",
        "\n",
        "#     print(djia_metrics)"
      ],
      "metadata": {
        "cellView": "form",
        "id": "G20bVNNFppzc"
      },
      "execution_count": 58,
      "outputs": []
    },
    {
      "cell_type": "code",
      "execution_count": 59,
      "metadata": {
        "id": "rB5hkVrJEBXL",
        "cellView": "form"
      },
      "outputs": [],
      "source": [
        "#@title Evaluate RLlib model\n",
        "from ray.rllib.algorithms.algorithm import Algorithm\n",
        "from ray.rllib.utils.numpy import convert_to_numpy, softmax\n",
        "from ray.rllib.models.torch.torch_distributions import TorchDiagGaussian\n",
        "from ray.rllib.core.rl_module.rl_module import RLModule\n",
        "import torch\n",
        "\n",
        "# Create the testing environment\n",
        "def evaluate_model(\n",
        "    algo_or_rl_module,\n",
        "    model_name,\n",
        "    split_label,\n",
        "    np_env_config,\n",
        "    run_config,\n",
        "    turbulence_thresh=None,\n",
        "    log_to_wandb=False,\n",
        "    return_metrics=False,\n",
        "\n",
        "    prev_end_amount=None,\n",
        "    prev_end_stocks=None,\n",
        "\n",
        "    # insample_threshold_quantile = None,\n",
        "    # is_expanding_insample = False\n",
        "):\n",
        "    assert (prev_end_amount is None) == (prev_end_stocks is None), (\n",
        "        \"Either both prev_end_amount and prev_end_stocks must be None, \"\n",
        "        \"or both must be non-None.\"\n",
        "    )\n",
        "\n",
        "    if turbulence_thresh is None:\n",
        "        turbulence_thresh = run_config.get('turbulence_thresh', 99)\n",
        "\n",
        "    turbulence_name = 'turbulence' if not run_config.get('if_vix', None) else '^VIX'\n",
        "    print(f\"\\nEvaluating for `{split_label}` using `{turbulence_name}`: {turbulence_thresh}\")\n",
        "\n",
        "    if prev_end_stocks is not None:\n",
        "        initial_amount = prev_end_amount\n",
        "        initial_stocks = prev_end_stocks\n",
        "        print(\"Init with previous env state:\")\n",
        "    else:\n",
        "        initial_amount = run_config['initial_amount']\n",
        "        initial_stocks = None\n",
        "        print(\"Init with NEW env state:\")\n",
        "\n",
        "    print(f\"\\t initial_amount: {initial_amount}\")\n",
        "    print(f\"\\t initial_stocks: {initial_stocks}\")\n",
        "\n",
        "    env_config = {\n",
        "        \"np_env_config\": np_env_config,\n",
        "\n",
        "        \"initial_amount\": initial_amount,\n",
        "        \"initial_stocks\": initial_stocks,\n",
        "        \"cost_pct\": run_config['cost_pct'],\n",
        "\n",
        "        \"mode\": split_label,\n",
        "        'turbulence_threshold': turbulence_thresh\n",
        "    }\n",
        "\n",
        "    eval_env = create_stock_trading_env(env_config)\n",
        "\n",
        "    # Extract rl_module if using Algorithm\n",
        "    if isinstance(algo_or_rl_module, Algorithm):\n",
        "        rl_module = algo_or_rl_module.env_runner.module\n",
        "    elif isinstance(algo_or_rl_module, RLModule):\n",
        "        rl_module = algo_or_rl_module\n",
        "    else:\n",
        "        raise NotImplementedError\n",
        "\n",
        "    df_account_value = RLLib_prediction(\n",
        "        model_name,\n",
        "        rl_module,\n",
        "        eval_env,\n",
        "    )\n",
        "\n",
        "    metrics = compute_metrics(df_account_value)\n",
        "    metrics.update({\n",
        "        'end_amount': eval_env.amount,\n",
        "        'end_stocks': eval_env.stocks,\n",
        "        'end_total_asset': eval_env.total_asset\n",
        "    })\n",
        "\n",
        "    turbulence_series = pd.Series(\n",
        "        np_env_config['turbulence_array'][:len(df_account_value)],\n",
        "        index=df_account_value['date'],\n",
        "        name=turbulence_name\n",
        "    )\n",
        "\n",
        "    eval_result = {\n",
        "        'account_value': df_account_value,\n",
        "        'turbulence_series': turbulence_series,\n",
        "        'turbulence_thresh': turbulence_thresh\n",
        "    }\n",
        "\n",
        "    # optionally log to wandb\n",
        "    if log_to_wandb:\n",
        "        turbulence_log_name = 'ti' if not run_config.get('if_vix', None) else 'vix'\n",
        "        log_eval_results(\n",
        "            model_name,\n",
        "            metrics,\n",
        "            split_label,\n",
        "            turbulence_log_name,\n",
        "            turbulence_thresh,\n",
        "        )\n",
        "\n",
        "    # print(\"Shutting down ray... \", end='')\n",
        "    # ray.shutdown()\n",
        "    # print(\"Done.\")\n",
        "\n",
        "    if return_metrics:\n",
        "        return eval_result, metrics\n",
        "    else:\n",
        "        return eval_result"
      ]
    },
    {
      "cell_type": "code",
      "execution_count": 60,
      "metadata": {
        "id": "OEgInEuX_mFx"
      },
      "outputs": [],
      "source": [
        "# val_result, val_metrics = evaluate_model(\n",
        "#     algo,\n",
        "#     model_name,\n",
        "#     run_config=run_config,\n",
        "#     np_env_config = val_np_env_config,\n",
        "#     split_label='val',\n",
        "#     log_to_wandb=log_to_wandb,\n",
        "#     return_metrics=True,\n",
        "#     # prev_end_amount=end_amount,\n",
        "#     # prev_end_stocks=end_stocks\n",
        "# )\n",
        "\n",
        "# val_metrics\n",
        "\n",
        "# test_result = evaluate_model(\n",
        "#     algo,\n",
        "#     model_name,\n",
        "#     run_config=run_config,\n",
        "#     np_env_config = test_np_env_config,\n",
        "#     split_label='test',\n",
        "#     log_to_wandb=log_to_wandb\n",
        "# )"
      ]
    },
    {
      "cell_type": "code",
      "execution_count": 61,
      "metadata": {
        "cellView": "form",
        "id": "LyO_r1jF8ecm"
      },
      "outputs": [],
      "source": [
        "#@title get_env_end_state\n",
        "\n",
        "def get_env_end_state(\n",
        "    run,\n",
        "    model_name,\n",
        "    split_label = 'val',\n",
        "    turbulence_log_name = 'vix',\n",
        "    turbulence_thresh = 99,\n",
        "    quantile = None\n",
        "):\n",
        "\n",
        "    end_amount_fmt_name = get_formatted_metric_name(\n",
        "        model_name,\n",
        "        metric_name = 'end_amount',\n",
        "        split_label = split_label,\n",
        "        turbulence_log_name = turbulence_log_name,\n",
        "        turbulence_thresh = turbulence_thresh,\n",
        "    )\n",
        "\n",
        "    end_stocks_fmt_name = get_formatted_metric_name(\n",
        "        model_name,\n",
        "        metric_name = 'end_stocks',\n",
        "        split_label = split_label,\n",
        "        turbulence_log_name = turbulence_log_name,\n",
        "        turbulence_thresh = turbulence_thresh,\n",
        "    )\n",
        "\n",
        "    end_amount = run.summary.get(end_amount_fmt_name, None)\n",
        "    end_stocks = run.summary.get(end_stocks_fmt_name, None)\n",
        "\n",
        "    return end_amount, end_stocks\n",
        "\n",
        "# end_amount, end_stocks = get_env_end_state(wandb.run)\n",
        "# end_amount, end_stocks"
      ]
    },
    {
      "cell_type": "code",
      "execution_count": 62,
      "metadata": {
        "cellView": "form",
        "id": "CbLgPDKNPQX3"
      },
      "outputs": [],
      "source": [
        "#@title plot_results (w/separate turbulence plot)\n",
        "\n",
        "%matplotlib inline\n",
        "\n",
        "def plot_results(\n",
        "        account_value,\n",
        "        turbulence_series,\n",
        "        turbulence_thresh,\n",
        "        figsize='small',\n",
        "        split_label=None,\n",
        "        metrics=None\n",
        "    ):\n",
        "\n",
        "    assert split_label in ['val', 'test']\n",
        "    assert turbulence_series.name in ['turbulence', '^VIX']\n",
        "    assert figsize in ['small', 'default']\n",
        "\n",
        "    figsizes = {\n",
        "        'medium': (14, 10),\n",
        "        'small': (9, 7)\n",
        "    }\n",
        "\n",
        "    # Create figure and subplots\n",
        "    fig, (ax1, ax2) = plt.subplots(2, 1, figsize=figsizes[figsize], sharex=True, gridspec_kw={'height_ratios': [3, 1]})\n",
        "\n",
        "    # Main plot\n",
        "    method_styles = {\n",
        "        'A2C': {'color': '#8c564b', 'linestyle': '--'},\n",
        "        'DDPG': {'color': '#e377c2', 'linestyle': '-'},\n",
        "        'PPO': {'color': '#7f7f7f', 'linestyle': '-'},\n",
        "        'TD3': {'color': '#bcbd22', 'linestyle': '--'},\n",
        "        'SAC': {'color': '#17becf', 'linestyle': '-'},\n",
        "        'DJIA': {'color': '#000000', 'linestyle': '-'},\n",
        "    }\n",
        "\n",
        "    if 'DJIA' in account_value:\n",
        "        ax1.plot(account_value.index, account_value['DJIA'], label=\"Dow Jones Index\",\n",
        "                linestyle=method_styles['DJIA']['linestyle'], color=method_styles['DJIA']['color'])\n",
        "\n",
        "    if 'date' in account_value.columns:\n",
        "        account_value.set_index('date', inplace=True)\n",
        "\n",
        "    account_value.rename(columns={col: col.upper() for col in account_value.columns}, inplace=True)\n",
        "\n",
        "    for model_name in account_value.columns:\n",
        "        style = method_styles[model_name]\n",
        "        ax1.plot(account_value.index, account_value[model_name], label=model_name, **style)\n",
        "\n",
        "    # Customize main plot\n",
        "    ax1.set_title(f\"Cumulative returns over time\", fontsize=20, fontweight='bold')\n",
        "    ax1.set_ylabel(\"Total Asset Value ($)\", fontsize=16, fontweight='bold')\n",
        "    ax1.legend(loc='lower right')\n",
        "    ax1.grid(True, linestyle='--', alpha=0.3)\n",
        "\n",
        "    # Turbulence plot\n",
        "    if turbulence_series.name == 'turbulence':\n",
        "        turbulence_label = \"Turbulence Index\"\n",
        "    else:\n",
        "        turbulence_label = \"VIX Coefficient\"\n",
        "    ax2.plot(turbulence_series.index, turbulence_series, label=turbulence_label, color='red', linestyle='--', linewidth=2)\n",
        "    ax2.axhline(y=turbulence_thresh, color='red', linestyle=':', label='Threshold')\n",
        "    ax2.set_ylabel(turbulence_label, fontsize=16, fontweight='bold')\n",
        "    ax2.legend(loc='lower left')\n",
        "    ax2.grid(True, linestyle='--', alpha=0.3)\n",
        "    max_turbulence = max(turbulence_series.max(), turbulence_thresh)\n",
        "    ax2.set_ylim(0, max_turbulence + 10)\n",
        "    # ax2.set_yticks(list(ax2.get_yticks()) + [turbulence_thresh])\n",
        "\n",
        "    # Shared x-axis label\n",
        "    ax2.set_xlabel(\"Date\", fontsize=16, fontweight='bold')\n",
        "\n",
        "    # Tight layout\n",
        "    # plt.tight_layout()\n",
        "    return fig\n",
        "\n",
        "# # Example usage:\n",
        "# fig = plot_results(\n",
        "#     **val_result,\n",
        "#     figsize='small',\n",
        "#     split_label='val',\n",
        "#     metrics=val_metrics,\n",
        "# )\n",
        "\n",
        "# plt.show()"
      ]
    },
    {
      "cell_type": "code",
      "execution_count": 63,
      "metadata": {
        "id": "oiBoqBiFVYiA",
        "cellView": "form"
      },
      "outputs": [],
      "source": [
        "#@title plot_results (enhanced)\n",
        "\n",
        "%matplotlib inline\n",
        "\n",
        "import matplotlib.pyplot as plt\n",
        "import matplotlib.ticker as mtick\n",
        "\n",
        "def plot_results(\n",
        "        account_value,\n",
        "        turbulence_series,\n",
        "        turbulence_thresh,\n",
        "        figsize='small',\n",
        "        split_label=None,\n",
        "        metrics=None,\n",
        "        ignore_metrics=['end_stocks', 'end_amount', 'end_total_asset'],\n",
        "        ylim_bottom = None,\n",
        "        ylim_top = None\n",
        "    ):\n",
        "    assert split_label in ['val', 'test']\n",
        "    assert turbulence_series.name in ['turbulence', '^VIX']\n",
        "    assert figsize in ['small', 'medium']\n",
        "\n",
        "\n",
        "    figsizes = {\n",
        "        'medium': (14, 10),\n",
        "        'small': (8.3, 8)\n",
        "    }\n",
        "\n",
        "    # Create figure and subplots\n",
        "    fig, (ax1, ax2) = plt.subplots(2, 1, figsize=figsizes[figsize], sharex=True, gridspec_kw={'height_ratios': [3, 1]})\n",
        "\n",
        "    # Method styles\n",
        "    method_styles = {\n",
        "        'A2C': {'color': '#8c564b', 'linestyle': '--'},\n",
        "        'DDPG': {'color': '#e377c2', 'linestyle': '-'},\n",
        "        'PPO': {'color': '#7f7f7f', 'linestyle': '-'},\n",
        "        'TD3': {'color': '#bcbd22', 'linestyle': '--'},\n",
        "        'SAC': {'color': '#17becf', 'linestyle': '-'},\n",
        "        'DJIA': {'color': '#000000', 'linestyle': '-'},\n",
        "    }\n",
        "\n",
        "    # Plot DJIA if present\n",
        "    if 'DJIA' in account_value:\n",
        "        ax1.plot(account_value.index, account_value['DJIA'], label=\"Dow Jones Index\",\n",
        "                linestyle=method_styles['DJIA']['linestyle'], color=method_styles['DJIA']['color'])\n",
        "\n",
        "    # Ensure date is index\n",
        "    if 'date' in account_value.columns:\n",
        "        account_value.set_index('date', inplace=True)\n",
        "\n",
        "    account_value.rename(columns={col: col.upper() for col in account_value.columns}, inplace=True)\n",
        "\n",
        "    # Plot account values\n",
        "    for model_name in account_value.columns:\n",
        "        style = method_styles.get(model_name, {'color': 'blue', 'linestyle': '-'})  # Default style fallback\n",
        "        ax1.plot(account_value.index, account_value[model_name], label=model_name, **style)\n",
        "\n",
        "    # Construct subtitle text\n",
        "    turbulence_label = \"Turbulence Index\" if turbulence_series.name == 'turbulence' else \"VIX Coefficient\"\n",
        "    split_label_name = ('validation' if split_label == 'val' else split_label).capitalize()\n",
        "    title = f\"{split_label_name} split | {turbulence_label} threshold: {turbulence_thresh}\"\n",
        "    fig.suptitle(title, fontsize=20, fontweight='bold')\n",
        "\n",
        "   # Define the mapping for metric names\n",
        "    full_names = {\n",
        "        'mdd': 'MDD',\n",
        "        'ann_return': 'Annualized Return',\n",
        "        'cum_return': 'Cumulative Return',\n",
        "        'sharpe_ratio': 'Sharpe Ratio'\n",
        "    }\n",
        "\n",
        "    # Add subtitle, properly positioned and centered\n",
        "    if metrics:\n",
        "        metric_text = \", \".join(\n",
        "            f\"{full_names.get(name, name.replace('_', ' ').capitalize())}: {value:.2f}\"\n",
        "            for name, value in metrics.items()\n",
        "            if name not in ignore_metrics\n",
        "        )\n",
        "        ax1.set_title(metric_text, fontsize=12, color='gray', ha='center')\n",
        "\n",
        "\n",
        "    # **Prettify y-axis numbers**\n",
        "    ax1.yaxis.set_major_formatter(mtick.FuncFormatter(lambda x, _: f\"{x:,.0f}\"))\n",
        "\n",
        "    # **Horizontal Line at Initial Asset Value**\n",
        "    initial_asset_value = account_value.iloc[0].mean()  # Assuming initial value from mean of first row\n",
        "    ax1.axhline(y=initial_asset_value, color='gray', linestyle='-.', linewidth=1.5, label=\"Initial Asset Value\")\n",
        "\n",
        "    # **Main Plot Customization**\n",
        "    ax1.set_ylabel(\"Total Asset Value ($)\", fontsize=16, fontweight='bold')\n",
        "    if ylim_bottom is not None:\n",
        "        ax1.set_ylim(bottom=ylim_bottom)\n",
        "    if ylim_top is not None:\n",
        "        ax1.set_ylim(top=ylim_top)\n",
        "\n",
        "    ax1.legend(loc='lower right')\n",
        "    ax1.grid(True, linestyle='--', alpha=0.3)\n",
        "\n",
        "    import numpy as np\n",
        "\n",
        "    # Create a twin y-axis on the right\n",
        "    ax1_right = ax1.twinx()\n",
        "\n",
        "    # Mirror the left axis range\n",
        "    ax1_right.set_ylim(ax1.get_ylim())\n",
        "\n",
        "    # Get the existing tick positions from the left axis\n",
        "    left_ticks = ax1.get_yticks().tolist()\n",
        "    ymin, ymax = ax1.get_ylim()\n",
        "\n",
        "    # Compute start and end asset values (mean of first/last row)\n",
        "    start_value = account_value.iloc[0].mean()\n",
        "    end_value   = account_value.iloc[-1].mean()\n",
        "\n",
        "    # Only add start/end values if they lie within the current y-limits\n",
        "    extra_ticks = []\n",
        "    if ymin <= start_value <= ymax:\n",
        "        extra_ticks.append(start_value)\n",
        "    if ymin <= end_value <= ymax:\n",
        "        extra_ticks.append(end_value)\n",
        "\n",
        "    # Combine left ticks + extra ticks, then sort them\n",
        "    all_ticks = sorted(set(left_ticks + extra_ticks))\n",
        "\n",
        "    # Label only the start/end ticks, leave all others blank\n",
        "    labels = []\n",
        "    for tick in all_ticks:\n",
        "        if np.isclose(tick, start_value):\n",
        "            labels.append(f\"{tick:,.0f}\")\n",
        "        elif np.isclose(tick, end_value):\n",
        "            labels.append(f\"{tick:,.0f}\")\n",
        "        else:\n",
        "            labels.append(\"\")\n",
        "\n",
        "    ax1_right.set_yticks(all_ticks)\n",
        "    ax1_right.set_yticklabels(labels)\n",
        "\n",
        "    # Optionally, remove any right-axis label/grid:\n",
        "    ax1_right.set_ylabel('')\n",
        "    ax1_right.grid(False)\n",
        "\n",
        "    # **Turbulence Plot**\n",
        "    ax2.plot(turbulence_series.index, turbulence_series, label=turbulence_label, color='red', linestyle='--', linewidth=2)\n",
        "    ax2.axhline(y=turbulence_thresh, color='red', linestyle=':', label=f'Threshold = {turbulence_thresh}')\n",
        "\n",
        "    ax2.set_ylabel(turbulence_label, fontsize=16, fontweight='bold')\n",
        "    ax2.legend(loc='upper left')\n",
        "    ax2.grid(True, linestyle='--', alpha=0.3)\n",
        "\n",
        "    max_turbulence = max(turbulence_series.max(), turbulence_thresh)\n",
        "    ax2.set_ylim(0, max_turbulence + 10)\n",
        "\n",
        "    # **Shared x-axis label**\n",
        "    ax2.set_xlabel(\"Date\", fontsize=16, fontweight='bold')\n",
        "\n",
        "    return fig"
      ]
    },
    {
      "cell_type": "code",
      "execution_count": 64,
      "metadata": {
        "id": "zb9sqHZXe_5l"
      },
      "outputs": [],
      "source": [
        "# PLOT_YLIM_DELTA = 6_000\n",
        "# PLOT_INITIAL_AMOUNT = 50_000\n",
        "\n",
        "# fig = plot_results(\n",
        "#     **val_result,\n",
        "#     figsize='small',\n",
        "#     split_label='val',\n",
        "#     metrics=val_metrics,\n",
        "#     ylim_bottom=PLOT_INITIAL_AMOUNT - PLOT_YLIM_DELTA,\n",
        "#     ylim_top=PLOT_INITIAL_AMOUNT + PLOT_YLIM_DELTA\n",
        "# )\n",
        "\n",
        "# plt.tight_layout()\n",
        "# plt.show()"
      ]
    },
    {
      "cell_type": "code",
      "execution_count": 65,
      "metadata": {
        "cellView": "form",
        "id": "_dxl6IJ0FlMO"
      },
      "outputs": [],
      "source": [
        "#@title batch_log_plots_as_artifact\n",
        "\n",
        "import gc\n",
        "import os\n",
        "import shutil\n",
        "import wandb\n",
        "import matplotlib.pyplot as plt\n",
        "\n",
        "def batch_log_plots_as_artifact(\n",
        "        fig_list, fig_names, artifact_name_prefix, artifact_type=\"plot\"\n",
        "    ):\n",
        "\n",
        "    \"\"\"\n",
        "    Save a list of Matplotlib figures to a folder, log the folder as a W&B artifact,\n",
        "    and delete the folder after logging.\n",
        "\n",
        "    Parameters:\n",
        "        fig_list (list): List of Matplotlib figure objects.\n",
        "        folder_name (str): Name of the folder to store plots.\n",
        "        artifact_name_prefix (str): Prefix for the artifact name.\n",
        "        artifact_type (str): The type of the artifact (default is \"plot\").\n",
        "    \"\"\"\n",
        "    assert wandb.run.id\n",
        "\n",
        "    # Ensure the folder exists\n",
        "    os.makedirs(artifact_name_prefix, exist_ok=True)\n",
        "\n",
        "    try:\n",
        "        # Save all figures in the folder\n",
        "        for i, (fig, fig_name) in enumerate(zip(fig_list, fig_names)):\n",
        "            filename = os.path.join(artifact_name_prefix, f\"{fig_name}.png\")\n",
        "            fig.savefig(filename, bbox_inches='tight', pad_inches=0.1, dpi=300)\n",
        "            plt.close(fig)  # Close the figure to free up memory\n",
        "        fig_list.clear()  # remove references\n",
        "        gc.collect()\n",
        "\n",
        "        # Create and log the W&B artifact\n",
        "        artifact_name = f\"{artifact_name_prefix}-{wandb.run.id}\"\n",
        "        artifact = wandb.Artifact(artifact_name, type=artifact_type)\n",
        "        artifact.add_dir(artifact_name_prefix, skip_cache=True)\n",
        "        wandb.log_artifact(artifact)\n",
        "    finally:\n",
        "        # Ensure the folder is deleted after use\n",
        "        if os.path.exists(artifact_name_prefix):\n",
        "            shutil.rmtree(artifact_name_prefix)\n",
        "\n",
        "        for fig in fig_list:\n",
        "            ax = fig.gca()  # Get the current axis of the figure\n",
        "\n",
        "            for txt in ax.texts:  # Remove all text objects\n",
        "                txt.remove()\n",
        "\n",
        "            for line in ax.lines:\n",
        "                line.remove()  # Remove previous plot lines\n",
        "\n",
        "            fig.clf()   # Clear the figure\n",
        "            plt.close(fig)  # Close the figure to free memory\n"
      ]
    },
    {
      "cell_type": "code",
      "execution_count": 66,
      "metadata": {
        "id": "3paFvjmdfKGc"
      },
      "outputs": [],
      "source": [
        "# if log_to_wandb:\n",
        "#     batch_log_plots_as_artifact(\n",
        "#         [fig, fig],\n",
        "#         [\"val_cumulative_return_1\", \"val_cumulative_return_2\"],\n",
        "#         artifact_name_prefix=\"val_cumulative_return\"\n",
        "#     )"
      ]
    },
    {
      "cell_type": "code",
      "execution_count": 67,
      "metadata": {
        "id": "02OzYWBGMVNE",
        "cellView": "form"
      },
      "outputs": [],
      "source": [
        "#@title log_plot_as_artifact\n",
        "\n",
        "import os\n",
        "import matplotlib.pyplot as plt\n",
        "import wandb\n",
        "\n",
        "def log_plot_as_artifact(fig, artifact_name_prefix, artifact_type=\"plot\"):\n",
        "    \"\"\"\n",
        "    Save a Matplotlib figure without clipping and log it as a W&B artifact.\n",
        "\n",
        "    Parameters:\n",
        "        fig (matplotlib.figure.Figure): The Matplotlib figure to save and log.\n",
        "        artifact_name (str): The name of the W&B artifact.\n",
        "        artifact_type (str): The type of the artifact (default is \"plot\").\n",
        "        filename (str): The filename to save the plot as (default is \"plot.png\").\n",
        "    \"\"\"\n",
        "    assert wandb.run.id\n",
        "\n",
        "    # Get full artifact name\n",
        "    artifact_name = f'{artifact_name_prefix}-{wandb.run.id}'\n",
        "    filename = artifact_name + '.png'\n",
        "\n",
        "    try:\n",
        "        # Save the figure with tight layout and proper padding\n",
        "        fig.savefig(filename, bbox_inches='tight', pad_inches=0.1, dpi=300)\n",
        "        plt.close(fig)  # Close the figure to free up memory\n",
        "\n",
        "        # Create and log the W&B artifact\n",
        "        artifact = wandb.Artifact(artifact_name, type=artifact_type)\n",
        "        artifact.add_file(filename, skip_cache=True, overwrite=True)\n",
        "        wandb.log_artifact(artifact)\n",
        "    finally:\n",
        "        # Ensure the file is deleted after use\n",
        "        if os.path.exists(filename):\n",
        "            os.remove(filename)"
      ]
    },
    {
      "cell_type": "code",
      "execution_count": 68,
      "metadata": {
        "id": "iVJa7WZjFmGc"
      },
      "outputs": [],
      "source": [
        "# if log_to_wandb:\n",
        "#     val_fig = plot_results(**val_result)\n",
        "#     log_plot_as_artifact(fig, \"val_cumulative_return\", artifact_type=\"plot\")\n",
        "\n",
        "    # test_fig = plot_results(**test_result)\n",
        "    # log_plot_as_artifact(fig, \"test_cumulative_return\", artifact_type=\"plot\")"
      ]
    },
    {
      "cell_type": "code",
      "execution_count": 69,
      "metadata": {
        "id": "6V8Y5V-1mSUf"
      },
      "outputs": [],
      "source": [
        "# if log_to_wandb:\n",
        "#     run_timer_end = perf_counter()\n",
        "#     run_duration_minutes = round( (run_timer_end - run_timer_start) / 60, 1)\n",
        "#     wandb.run.summary[f\"run.duration_minutes\"] = run_duration_minutes\n",
        "#     wandb.finish()"
      ]
    },
    {
      "cell_type": "markdown",
      "source": [
        "# Evaluate model"
      ],
      "metadata": {
        "id": "6gOoD74RIAVW"
      }
    },
    {
      "cell_type": "markdown",
      "source": [
        "## Common funcs"
      ],
      "metadata": {
        "id": "vc1lDiYSIDAV"
      }
    },
    {
      "cell_type": "code",
      "execution_count": 70,
      "metadata": {
        "cellView": "form",
        "id": "f_UlX-zrXR4L"
      },
      "outputs": [],
      "source": [
        "#@title load_rl_module\n",
        "\n",
        "import ray\n",
        "from ray.rllib.core import DEFAULT_MODULE_ID\n",
        "from ray.rllib.core.rl_module.rl_module import RLModule\n",
        "\n",
        "# Initialize Ray\n",
        "# ray.init(ignore_reinit_error=True)\n",
        "\n",
        "def load_rl_module(model_name, trained_models_dir=\"trained_models\"):\n",
        "    ckpt_path = os.path.join(\n",
        "        trained_models_dir,\n",
        "        model_name,\n",
        "        \"learner_group\",\n",
        "        \"learner\",\n",
        "        \"rl_module\",\n",
        "        DEFAULT_MODULE_ID,\n",
        "    )\n",
        "\n",
        "    # Path to checkpoint\n",
        "    rl_module = RLModule.from_checkpoint(\n",
        "        os.path.abspath(ckpt_path)\n",
        "    )\n",
        "    return rl_module"
      ]
    },
    {
      "cell_type": "code",
      "execution_count": 71,
      "metadata": {
        "cellView": "form",
        "id": "CV40tLS8ZQ_M"
      },
      "outputs": [],
      "source": [
        "#@title Download artifacts\n",
        "from pathlib import Path\n",
        "\n",
        "def download_artifacts(run_id, artifact_types, prepend_run_id=False):\n",
        "    assert isinstance(artifact_types, list)\n",
        "\n",
        "    # Initialize the W&B API\n",
        "    api = wandb.Api()\n",
        "\n",
        "    # Retrieve the run\n",
        "    run = api.run(f\"{ENTITY}/{PROJECT}/{run_id}\")\n",
        "\n",
        "    # Iterate over the artifacts used or logged by the run\n",
        "    artifacts_cnt = {_type: 0 for _type in artifact_types}\n",
        "    artifacts_folders = {_type: [] for _type in artifact_types}\n",
        "    for artifact in run.logged_artifacts():\n",
        "        if \"latest\" in artifact.aliases \\\n",
        "        and artifact.type in artifact_types:\n",
        "            artifacts_cnt[artifact.type] += 1\n",
        "\n",
        "            artifact_folder = Path(f'{artifact.name}')\n",
        "            if prepend_run_id:\n",
        "                artifact_folder = run_id / artifact_folder\n",
        "\n",
        "            !rm -rf {str(artifact_folder)}\n",
        "\n",
        "            print(f\"Downloading artifacts to {artifact_folder}\")\n",
        "            artifact.download(artifact_folder)\n",
        "            artifacts_folders[artifact.type].append(artifact_folder)\n",
        "\n",
        "    print(f'Artifacts downloaded cnt per type: {artifacts_cnt}')\n",
        "    print(f\"Artifacts folders per type: {artifacts_folders}\")\n",
        "    print()\n",
        "    return artifacts_folders\n",
        "\n",
        "# artifacts_folders = download_artifacts(\n",
        "#     run_id='rbug5oxn',\n",
        "#     artifact_types=['trained_models'],\n",
        "#     prepend_run_id=True\n",
        "# )\n",
        "\n",
        "# artifacts_folders"
      ]
    },
    {
      "cell_type": "code",
      "execution_count": 72,
      "metadata": {
        "cellView": "form",
        "id": "2oe3jQ0_Zdv4"
      },
      "outputs": [],
      "source": [
        "#@title group_by_hash_and_sort_by_date (for all runs in a sweep)\n",
        "\n",
        "from collections import OrderedDict\n",
        "from datetime import datetime\n",
        "\n",
        "def group_by_hash_and_sort_by_date(\n",
        "        sweep_id,\n",
        "        return_inner_list=True\n",
        "    ):\n",
        "\n",
        "    api = wandb.Api()\n",
        "    sweep_runs = api.sweep(f\"{ENTITY}/{PROJECT}/{sweep_id}\").runs\n",
        "\n",
        "    prev_run_id = None\n",
        "    prev_run_id_list = []\n",
        "\n",
        "    # Collect run IDs and their test_start_date, grouped by config_hash\n",
        "    config_hash_to_runs = {}\n",
        "    for run in sweep_runs:\n",
        "        config_hash = get_config_hash(run.config)\n",
        "        if config_hash not in config_hash_to_runs:\n",
        "            config_hash_to_runs[config_hash] = {}\n",
        "\n",
        "        config_hash_to_runs[config_hash][run.id] = run.config['date_range']['test_start_date']\n",
        "\n",
        "    # Sort runs for current config hash by test_start_date\n",
        "    for config_hash, runs_dict in config_hash_to_runs.items():\n",
        "        sorted_runs_dict = OrderedDict(\n",
        "            sorted(\n",
        "                runs_dict.items(),\n",
        "                key=lambda x: datetime.strptime(x[1], \"%Y-%m-%d %H:%M:%S\"),\n",
        "            )\n",
        "        )\n",
        "\n",
        "        if return_inner_list:\n",
        "            config_hash_to_runs[config_hash] = list(sorted_runs_dict.items())\n",
        "        else:\n",
        "            config_hash_to_runs[config_hash] = sorted_runs_dict\n",
        "\n",
        "    return config_hash_to_runs"
      ]
    },
    {
      "cell_type": "code",
      "source": [
        "SWEEP_ID = 'yd7fz9as'\n",
        "\n",
        "# config_hash_to_runs = group_by_hash_and_sort_by_date(SWEEP_ID)\n",
        "# next(iter(config_hash_to_runs.items()))"
      ],
      "metadata": {
        "id": "rbcGwYTryZfH"
      },
      "execution_count": 73,
      "outputs": []
    },
    {
      "cell_type": "code",
      "source": [
        "#@title get_last_finished_run, get_first_finished_run\n",
        "def get_last_finished_run(run_list):\n",
        "    for last_idx in range(-1, -len(run_list) - 1, -1):\n",
        "        last_run_id, _ = run_list[last_idx]\n",
        "        last_run = WANDB_API.run(f\"{PROJECT}/{last_run_id}\")\n",
        "        if last_run.state == 'finished':\n",
        "            break  # Found a finished run, exit the loop\n",
        "    else:\n",
        "        raise ValueError(f\"No finished runs for hash {config_hash}\")  # Runs if no break occurs\n",
        "\n",
        "    return last_run\n",
        "\n",
        "def get_first_finished_run(run_list):\n",
        "    first_run_id, _ = run_list[0]\n",
        "    first_run = WANDB_API.run(f\"{PROJECT}/{first_run_id}\")\n",
        "    return first_run\n",
        "\n",
        "\n",
        "SWEEP_ID = 'yd7fz9as'\n",
        "\n",
        "config_hash_to_runs = group_by_hash_and_sort_by_date(SWEEP_ID)\n",
        "config_hash, run_list = next(iter(config_hash_to_runs.items()))\n",
        "\n",
        "last_run = get_last_finished_run(run_list)\n",
        "first_run = get_first_finished_run(run_list)\n",
        "first_run.state, last_run.state"
      ],
      "metadata": {
        "colab": {
          "base_uri": "https://localhost:8080/"
        },
        "id": "Es2ONubqJVif",
        "outputId": "a26f81af-9e1a-42ee-a4d4-f490cd19946d",
        "cellView": "form"
      },
      "execution_count": 74,
      "outputs": [
        {
          "output_type": "execute_result",
          "data": {
            "text/plain": [
              "('finished', 'finished')"
            ]
          },
          "metadata": {},
          "execution_count": 74
        }
      ]
    },
    {
      "cell_type": "markdown",
      "source": [
        "## Evaluate w/ quantile thresholding"
      ],
      "metadata": {
        "id": "jL0pG7AtHVbQ"
      }
    },
    {
      "cell_type": "code",
      "source": [
        "SWEEP_ID = 'yd7fz9as'\n",
        "\n",
        "config_hash_to_runs = group_by_hash_and_sort_by_date(SWEEP_ID)"
      ],
      "metadata": {
        "id": "9ueAMathIdbq"
      },
      "execution_count": 75,
      "outputs": []
    },
    {
      "cell_type": "code",
      "source": [
        "#@title evaluate regular metrics for a single quantile\n",
        "\n",
        "FILTER_HASH_LIST = [\n",
        "    '1ea39a67636c8e66b0064c4cac304a880b02405eff96aa2bc82017e78cd8461f'\n",
        "]\n",
        "SKIP_EVAL = False\n",
        "\n",
        "LIMIT_RUNS = None\n",
        "LIMIT_RUNS = 2\n",
        "\n",
        "#######################\n",
        "\n",
        "lookback_window = 63 # one quarter\n",
        "quantile = 0.9\n",
        "is_expanding_insample = False\n",
        "\n",
        "#############################\n",
        "\n",
        "quantile_log_name = 'qe' if is_expanding_insample else 'q'\n",
        "\n",
        "wandb.finish()\n",
        "for config_hash, run_list in config_hash_to_runs.items():\n",
        "    print(f\"\\n\\nConfig_hash: {config_hash}\")\n",
        "    if FILTER_HASH_LIST is not None and config_hash not in FILTER_HASH_LIST:\n",
        "        continue\n",
        "\n",
        "    # find first and last runs\n",
        "    first_run = get_first_finished_run(run_list)\n",
        "    last_run = get_last_finished_run(run_list)\n",
        "\n",
        "    if_vix = first_run.config.get('if_vix', True) # assume all runs with same config hash use same volatility index\n",
        "    if if_vix:\n",
        "        turbulence_log_name = 'vix'\n",
        "    else:\n",
        "        turbulence_log_name = 'ti'\n",
        "\n",
        "    # TODO: preload data for end_date=max(last_run_test_end_dates_over_all_config_hashes)\n",
        "    # print(\n",
        "    #     first_run.config['date_range']['train_start_date'],\n",
        "    #     last_run.config['date_range']['test_end_date'],\n",
        "    # )\n",
        "\n",
        "    # load full data\n",
        "    data, data_processor = load_cached_data(\n",
        "        start_date = first_run.config['date_range']['train_start_date'],\n",
        "        end_date = last_run.config['date_range']['test_end_date'],\n",
        "        if_vix = if_vix # should be fixed for a particular hash during training\n",
        "    )\n",
        "\n",
        "    prev_run = None\n",
        "    for run_idx, (current_run_id, _) in enumerate(run_list): # TODO: iterate over runs\n",
        "        print(f\"\\nRun #{run_idx}: {current_run_id}\")\n",
        "\n",
        "        if LIMIT_RUNS is not None and run_idx > LIMIT_RUNS - 1:\n",
        "            break\n",
        "\n",
        "        current_run = WANDB_API.run(f\"{PROJECT}/{current_run_id}\")\n",
        "\n",
        "        # 1. Compute threshold\n",
        "        train_np_env_config = get_env_config(\n",
        "            data,\n",
        "            data_processor,\n",
        "            start_date = first_run.config['date_range']['train_start_date'],\n",
        "            end_date = current_run.config['date_range']['val_start_date'],\n",
        "            if_train=True,\n",
        "        )\n",
        "\n",
        "        # compute in-sample turbulence based on full train period\n",
        "        if is_expanding_insample or run_idx == 0:\n",
        "            insample_turbulence = train_np_env_config['turbulence_array']\n",
        "            insample_turbulence_threshold = np.quantile(\n",
        "                insample_turbulence, quantile\n",
        "            )\n",
        "\n",
        "        # compute historical turbulence based on train data inside lookback window\n",
        "        historical_turbulence = train_np_env_config['turbulence_array'][-lookback_window:]\n",
        "        print('test_start_date', current_run.config['date_range']['test_start_date'])\n",
        "        print('val_start_date', current_run.config['date_range']['val_start_date'])\n",
        "\n",
        "        # decide whether market is volatile or not\n",
        "        historical_turbulence_mean = historical_turbulence.mean()\n",
        "        if historical_turbulence_mean > insample_turbulence_threshold:\n",
        "            print(\"assume volatile market -> use conservative in-sample threshold\")\n",
        "            turbulence_thresh = insample_turbulence_threshold\n",
        "        else:\n",
        "            print(\"assume non-volatile market -> use minimally restrictive in-sample threshold\")\n",
        "            turbulence_thresh = np.quantile(\n",
        "                insample_turbulence, 1\n",
        "            )\n",
        "\n",
        "        print(\n",
        "            f\"Threshold: historical: {historical_turbulence_mean.round(2)} | \"\n",
        "            f\"insample: {insample_turbulence_threshold.round(2)}\"\n",
        "        )\n",
        "        print(f\"turbulence_threshold: {turbulence_thresh.round(2)}\")\n",
        "\n",
        "        if SKIP_EVAL:\n",
        "            continue\n",
        "\n",
        "        # 2. Evaluate model on validation and test using chosen quantile\n",
        "        val_np_env_config = get_env_config(\n",
        "            data,\n",
        "            data_processor,\n",
        "            start_date=date_range['val_start_date'],\n",
        "            end_date=date_range['test_start_date'],\n",
        "            if_train=False\n",
        "        )\n",
        "\n",
        "        test_np_env_config = get_env_config(\n",
        "            data,\n",
        "            data_processor,\n",
        "            start_date=date_range['test_start_date'],\n",
        "            end_date=date_range['test_end_date'],\n",
        "            if_train=False,\n",
        "        )\n",
        "\n",
        "        # load model\n",
        "        run = wandb.init(project=PROJECT, id=current_run.id, resume='must')\n",
        "        artifact_folders = download_artifacts(\n",
        "            run.id,\n",
        "            artifact_types=['trained_models']\n",
        "        )\n",
        "        rl_module = load_rl_module(\n",
        "            model_name,\n",
        "            trained_models_dir = artifact_folders['trained_models'][0]\n",
        "        )\n",
        "\n",
        "        # evaluate model for each split\n",
        "        for split_label, np_env_config in zip(['val', 'test'], [val_np_env_config, test_np_env_config]):\n",
        "            # perform state transfer only for `test`\n",
        "            if prev_run is not None and split_label == 'test':\n",
        "                prev_end_amount, prev_end_stocks = get_env_end_state(\n",
        "                    prev_run,\n",
        "                    split_label,\n",
        "                    turbulence_log_name,\n",
        "                    turbulence_thresh=turbulence_thresh\n",
        "                )\n",
        "            else:\n",
        "                prev_end_amount, prev_end_stocks = None, None\n",
        "\n",
        "            # evaluate model\n",
        "            result, metrics = evaluate_model(\n",
        "                turbulence_thresh=turbulence_thresh,\n",
        "                model_name=model_name,\n",
        "                algo_or_rl_module=rl_module,\n",
        "                run_config=run_config,\n",
        "                np_env_config=np_env_config,\n",
        "                split_label=split_label,\n",
        "                log_to_wandb=False,\n",
        "                return_metrics=True,\n",
        "                prev_end_amount=prev_end_amount,\n",
        "                prev_end_stocks=prev_end_stocks,\n",
        "            )\n",
        "\n",
        "            metrics.update({\n",
        "                f\"{turbulence_log_name}_insample\": turbulence_thresh,\n",
        "                f\"{turbulence_log_name}_historical_mean\": historical_turbulence_mean,\n",
        "                f\"{turbulence_log_name}_lookback_window\": lookback_window,\n",
        "            })\n",
        "\n",
        "            log_eval_results(\n",
        "                model_name,\n",
        "                metrics=metrics,\n",
        "                split_label=split_label,\n",
        "                turbulence_log_name=None,\n",
        "                turbulence_thresh=None,\n",
        "                run=None,\n",
        "                metric_prefix=None,\n",
        "                quantile_log_name=quantile_log_name,\n",
        "                quantile_thresh=quantile\n",
        "            )\n",
        "\n",
        "        prev_run = current_run\n",
        "        wandb.finish()"
      ],
      "metadata": {
        "id": "ogwCCgUsAif-",
        "cellView": "form"
      },
      "execution_count": null,
      "outputs": []
    },
    {
      "cell_type": "code",
      "source": [
        "#@title evaluate regular metrics for quantile GRID\n",
        "\n",
        "if 'quantile' in locals():\n",
        "    del quantile\n",
        "\n",
        "FILTER_HASH_LIST = [\n",
        "    '1ea39a67636c8e66b0064c4cac304a880b02405eff96aa2bc82017e78cd8461f'\n",
        "]\n",
        "SKIP_EVAL = False\n",
        "\n",
        "LIMIT_RUNS = None\n",
        "LIMIT_RUNS = 1\n",
        "\n",
        "#######################\n",
        "\n",
        "lookback_window = 63 # one quarter\n",
        "is_expanding_insample = False\n",
        "\n",
        "q_lower = 0.85\n",
        "q_upper = 0.9\n",
        "q_step = 0.05\n",
        "quantile_grid = np.arange(q_lower, q_upper + q_step, q_step)\n",
        "\n",
        "#############################\n",
        "\n",
        "quantile_log_name = 'qe' if is_expanding_insample else 'q'\n",
        "\n",
        "wandb.finish()\n",
        "for config_hash, run_list in config_hash_to_runs.items():\n",
        "    print(f\"\\n\\nConfig_hash: {config_hash}\")\n",
        "    if FILTER_HASH_LIST is not None and config_hash not in FILTER_HASH_LIST:\n",
        "        continue\n",
        "\n",
        "    # find first and last runs\n",
        "    first_run = get_first_finished_run(run_list)\n",
        "    last_run = get_last_finished_run(run_list)\n",
        "\n",
        "    if_vix = first_run.config.get('if_vix', True) # assume all runs with same config hash use same volatility index\n",
        "    if if_vix:\n",
        "        turbulence_log_name = 'vix'\n",
        "    else:\n",
        "        turbulence_log_name = 'ti'\n",
        "\n",
        "    # TODO: preload data for end_date=max(last_run_test_end_dates_over_all_config_hashes)\n",
        "    # print(\n",
        "    #     first_run.config['date_range']['train_start_date'],\n",
        "    #     last_run.config['date_range']['test_end_date'],\n",
        "    # )\n",
        "\n",
        "    # load full data\n",
        "    data, data_processor = load_cached_data(\n",
        "        start_date = first_run.config['date_range']['train_start_date'],\n",
        "        end_date = last_run.config['date_range']['test_end_date'],\n",
        "        if_vix = if_vix # should be fixed for a particular hash during training\n",
        "    )\n",
        "\n",
        "    prev_run = None\n",
        "    for run_idx, (current_run_id, _) in enumerate(run_list): # TODO: iterate over runs\n",
        "        print(f\"\\nRun #{run_idx}: {current_run_id}\")\n",
        "\n",
        "        if LIMIT_RUNS is not None and run_idx > LIMIT_RUNS - 1:\n",
        "            break\n",
        "\n",
        "        current_run = WANDB_API.run(f\"{PROJECT}/{current_run_id}\")\n",
        "\n",
        "        # 1. Compute threshold\n",
        "        train_np_env_config = get_env_config(\n",
        "            data,\n",
        "            data_processor,\n",
        "            start_date = first_run.config['date_range']['train_start_date'],\n",
        "            end_date = current_run.config['date_range']['val_start_date'],\n",
        "            if_train=True,\n",
        "        )\n",
        "\n",
        "        for quantile in quantile_grid:\n",
        "            # compute in-sample turbulence based on full train period\n",
        "            if is_expanding_insample or run_idx == 0:\n",
        "                insample_turbulence = train_np_env_config['turbulence_array']\n",
        "                insample_turbulence_threshold = np.quantile(\n",
        "                    insample_turbulence, quantile\n",
        "                )\n",
        "\n",
        "            # compute historical turbulence based on train data inside lookback window\n",
        "            historical_turbulence = train_np_env_config['turbulence_array'][-lookback_window:]\n",
        "            print('test_start_date', current_run.config['date_range']['test_start_date'])\n",
        "            print('val_start_date', current_run.config['date_range']['val_start_date'])\n",
        "\n",
        "            # decide whether market is volatile or not\n",
        "            historical_turbulence_mean = historical_turbulence.mean()\n",
        "            if historical_turbulence_mean > insample_turbulence_threshold:\n",
        "                print(\"assume volatile market -> use conservative in-sample threshold\")\n",
        "                turbulence_thresh = insample_turbulence_threshold\n",
        "            else:\n",
        "                print(\"assume non-volatile market -> use minimally restrictive in-sample threshold\")\n",
        "                turbulence_thresh = np.quantile(\n",
        "                    insample_turbulence, 1\n",
        "                )\n",
        "\n",
        "            print(\n",
        "                f\"Threshold: historical: {historical_turbulence_mean.round(2)} | \"\n",
        "                f\"insample: {insample_turbulence_threshold.round(2)}\"\n",
        "            )\n",
        "            print(f\"turbulence_threshold: {turbulence_thresh.round(2)}\")\n",
        "\n",
        "            if SKIP_EVAL:\n",
        "                continue\n",
        "\n",
        "            # 2. Evaluate model on validation and test using chosen quantile\n",
        "            val_np_env_config = get_env_config(\n",
        "                data,\n",
        "                data_processor,\n",
        "                start_date=date_range['val_start_date'],\n",
        "                end_date=date_range['test_start_date'],\n",
        "                if_train=False\n",
        "            )\n",
        "\n",
        "            test_np_env_config = get_env_config(\n",
        "                data,\n",
        "                data_processor,\n",
        "                start_date=date_range['test_start_date'],\n",
        "                end_date=date_range['test_end_date'],\n",
        "                if_train=False,\n",
        "            )\n",
        "\n",
        "            # load model\n",
        "            run = wandb.init(project=PROJECT, id=current_run.id, resume='must')\n",
        "            artifact_folders = download_artifacts(\n",
        "                run.id,\n",
        "                artifact_types=['trained_models']\n",
        "            )\n",
        "            rl_module = load_rl_module(\n",
        "                model_name,\n",
        "                trained_models_dir = artifact_folders['trained_models'][0]\n",
        "            )\n",
        "\n",
        "            # evaluate model for each split\n",
        "            for split_label, np_env_config in zip(['val', 'test'], [val_np_env_config, test_np_env_config]):\n",
        "                # perform state transfer only for `test`\n",
        "                if prev_run is not None and split_label == 'test':\n",
        "                    prev_end_amount, prev_end_stocks = get_env_end_state(\n",
        "                        prev_run,\n",
        "                        split_label,\n",
        "                        turbulence_log_name,\n",
        "                        turbulence_thresh=turbulence_thresh\n",
        "                    )\n",
        "                else:\n",
        "                    prev_end_amount, prev_end_stocks = None, None\n",
        "\n",
        "                # evaluate model\n",
        "                result, metrics = evaluate_model(\n",
        "                    turbulence_thresh=turbulence_thresh,\n",
        "                    model_name=model_name,\n",
        "                    algo_or_rl_module=rl_module,\n",
        "                    run_config=run_config,\n",
        "                    np_env_config=np_env_config,\n",
        "                    split_label=split_label,\n",
        "                    log_to_wandb=False,\n",
        "                    return_metrics=True,\n",
        "                    prev_end_amount=prev_end_amount,\n",
        "                    prev_end_stocks=prev_end_stocks,\n",
        "                )\n",
        "\n",
        "                metrics.update({\n",
        "                    f\"{turbulence_log_name}_insample\": turbulence_thresh,\n",
        "                    f\"{turbulence_log_name}_historical_mean\": historical_turbulence_mean,\n",
        "                    f\"{turbulence_log_name}_lookback_window\": lookback_window,\n",
        "                })\n",
        "\n",
        "                log_eval_results(\n",
        "                    model_name,\n",
        "                    metrics=metrics,\n",
        "                    split_label=split_label,\n",
        "                    turbulence_log_name=None,\n",
        "                    turbulence_thresh=None,\n",
        "                    run=None,\n",
        "                    metric_prefix=None,\n",
        "                    quantile_log_name=quantile_log_name,\n",
        "                    quantile_thresh=quantile\n",
        "                )\n",
        "\n",
        "        prev_run = current_run\n",
        "        wandb.finish()"
      ],
      "metadata": {
        "cellView": "form",
        "id": "rhMpHnWPBbR6"
      },
      "execution_count": null,
      "outputs": []
    },
    {
      "cell_type": "code",
      "source": [
        "#@title evaluate AGGREGATED metrics for quantile GRID\n",
        "\n",
        "if 'quantile' in locals():\n",
        "    del quantile\n",
        "\n",
        "FILTER_HASH_LIST = None\n",
        "# FILTER_HASH_LIST = [\n",
        "#     '1ea39a67636c8e66b0064c4cac304a880b02405eff96aa2bc82017e78cd8461f'\n",
        "# ]\n",
        "\n",
        "SKIP_EVAL = False\n",
        "\n",
        "LIMIT_RUNS = None\n",
        "# LIMIT_RUNS = 2\n",
        "\n",
        "#######################\n",
        "\n",
        "lookback_window = 63 # one quarter\n",
        "quantile = 0.9\n",
        "is_expanding_insample = False\n",
        "\n",
        "q_lower = 0.5\n",
        "q_upper = 0.9\n",
        "q_step = 0.5\n",
        "quantile_grid = np.arange(q_lower, q_upper + q_step, q_step)\n",
        "\n",
        "#############################\n",
        "\n",
        "wandb.finish()\n",
        "quantile_log_name = 'qe' if is_expanding_insample else 'q'\n",
        "\n",
        "# expand result dataframes per each quantile per each split label\n",
        "agg_asset_values = {\n",
        "    'test': {\n",
        "        quantile: pd.DataFrame()\n",
        "        for quantile in quantile_grid\n",
        "    }\n",
        "}\n",
        "\n",
        "for config_hash, run_list in config_hash_to_runs.items():\n",
        "    print(f\"\\n\\nConfig_hash: {config_hash}\")\n",
        "    if FILTER_HASH_LIST is not None and config_hash not in FILTER_HASH_LIST:\n",
        "        continue\n",
        "\n",
        "    # find first and last runs\n",
        "    first_run = get_first_finished_run(run_list)\n",
        "    last_run = get_last_finished_run(run_list)\n",
        "\n",
        "    if_vix = first_run.config.get('if_vix', True) # assume all runs with same config hash use same volatility index\n",
        "    if if_vix:\n",
        "        turbulence_log_name = 'vix'\n",
        "    else:\n",
        "        turbulence_log_name = 'ti'\n",
        "\n",
        "    # load full data\n",
        "    data, data_processor = load_cached_data(\n",
        "        start_date = first_run.config['date_range']['train_start_date'],\n",
        "        end_date = last_run.config['date_range']['test_end_date'],\n",
        "        if_vix = if_vix # should be fixed for a particular hash during training\n",
        "    )\n",
        "\n",
        "    prev_run = None\n",
        "    for run_idx, (current_run_id, _) in enumerate(run_list): # TODO: iterate over runs\n",
        "        print(f\"\\nRun #{run_idx}: {current_run_id}\")\n",
        "\n",
        "        if LIMIT_RUNS is not None and run_idx > LIMIT_RUNS - 1:\n",
        "            break\n",
        "\n",
        "        current_run = WANDB_API.run(f\"{PROJECT}/{current_run_id}\")\n",
        "\n",
        "        # perform state transfer if previous run exists\n",
        "        if prev_run is not None and split_label == 'test':\n",
        "            prev_end_amount, prev_end_stocks = get_env_end_state(\n",
        "                prev_run,\n",
        "                split_label,\n",
        "                turbulence_log_name,\n",
        "                turbulence_thresh=turbulence_thresh\n",
        "            )\n",
        "        else:\n",
        "            prev_end_amount, prev_end_stocks = None, None\n",
        "\n",
        "        # load full train range\n",
        "        train_np_env_config = get_env_config(\n",
        "            data,\n",
        "            data_processor,\n",
        "            start_date = first_run.config['date_range']['train_start_date'],\n",
        "            end_date = current_run.config['date_range']['val_start_date'],\n",
        "            if_train=True,\n",
        "        )\n",
        "\n",
        "        for quantile in quantile_grid:\n",
        "            # compute in-sample turbulence based on full train period\n",
        "            if is_expanding_insample or run_idx == 0:\n",
        "                insample_turbulence = train_np_env_config['turbulence_array']\n",
        "                insample_turbulence_threshold = np.quantile(\n",
        "                    insample_turbulence, quantile\n",
        "                )\n",
        "\n",
        "            # compute historical turbulence based on train data inside lookback window\n",
        "            historical_turbulence = train_np_env_config['turbulence_array'][-lookback_window:]\n",
        "            print('test_start_date', current_run.config['date_range']['test_start_date'])\n",
        "            print('val_start_date', current_run.config['date_range']['val_start_date'])\n",
        "\n",
        "            # decide whether market is volatile or not\n",
        "            historical_turbulence_mean = historical_turbulence.mean()\n",
        "            if historical_turbulence_mean > insample_turbulence_threshold:\n",
        "                turbulence_thresh = insample_turbulence_threshold\n",
        "            else:\n",
        "                turbulence_thresh = np.quantile(\n",
        "                    insample_turbulence, 1\n",
        "                )\n",
        "\n",
        "            print(\n",
        "                f\"Threshold: historical: {historical_turbulence_mean.round(2)} | \"\n",
        "                f\"insample: {insample_turbulence_threshold.round(2)}\"\n",
        "            )\n",
        "            print(f\"turbulence_threshold: {turbulence_thresh.round(2)}\")\n",
        "\n",
        "            if SKIP_EVAL:\n",
        "                continue\n",
        "\n",
        "            # 2. Evaluate model on validation and test\n",
        "            val_np_env_config = get_env_config(\n",
        "                data,\n",
        "                data_processor,\n",
        "                start_date=date_range['val_start_date'],\n",
        "                end_date=date_range['test_start_date'],\n",
        "                if_train=False\n",
        "            )\n",
        "\n",
        "            test_np_env_config = get_env_config(\n",
        "                data,\n",
        "                data_processor,\n",
        "                start_date=date_range['test_start_date'],\n",
        "                end_date=date_range['test_end_date'],\n",
        "                if_train=False,\n",
        "            )\n",
        "\n",
        "            # load model\n",
        "            run = wandb.init(project=PROJECT, id=current_run.id, resume='must')\n",
        "            artifact_folders = download_artifacts(\n",
        "                run.id,\n",
        "                artifact_types=['trained_models']\n",
        "            )\n",
        "            rl_module = load_rl_module(\n",
        "                model_name,\n",
        "                trained_models_dir = artifact_folders['trained_models'][0]\n",
        "            )\n",
        "\n",
        "            # evaluate model for each split\n",
        "            for split_label, np_env_config in zip(['val', 'test'], [val_np_env_config, test_np_env_config]):\n",
        "                if split_label not in agg_asset_values.keys():\n",
        "                    # aggregated metrics are computed only for test\n",
        "                    continue\n",
        "\n",
        "\n",
        "                # evaluate model under given quantile\n",
        "                result, metrics = evaluate_model(\n",
        "                    turbulence_thresh=turbulence_thresh,\n",
        "                    model_name=model_name,\n",
        "                    algo_or_rl_module=rl_module,\n",
        "                    run_config=run_config,\n",
        "                    np_env_config=np_env_config,\n",
        "                    split_label=split_label,\n",
        "                    log_to_wandb=False,\n",
        "                    return_metrics=True,\n",
        "                    prev_end_amount=prev_end_amount,\n",
        "                    prev_end_stocks=prev_end_stocks,\n",
        "                )\n",
        "\n",
        "                metrics.update({\n",
        "                    f\"{turbulence_log_name}_insample\": turbulence_thresh,\n",
        "                    f\"{turbulence_log_name}_historical_mean\": historical_turbulence_mean,\n",
        "                    f\"{turbulence_log_name}_lookback_window\": lookback_window,\n",
        "                })\n",
        "\n",
        "                log_eval_results(\n",
        "                    model_name,\n",
        "                    metrics=metrics,\n",
        "                    split_label=split_label,\n",
        "                    turbulence_log_name=None,\n",
        "                    turbulence_thresh=None,\n",
        "                    run=None,\n",
        "                    metric_prefix=None,\n",
        "                    quantile_log_name=quantile_log_name,\n",
        "                    quantile_thresh=quantile,\n",
        "                )\n",
        "\n",
        "                # log aggregated metrics\n",
        "                run_asset_values_per_split = result['account_value']\n",
        "                agg_asset_values[split_label][quantile] = pd.concat([\n",
        "                    agg_asset_values[split_label][quantile],\n",
        "                    run_asset_values_per_split,\n",
        "                ])\n",
        "\n",
        "                agg_metrics_per_split = compute_metrics(agg_asset_values[split_label][quantile])\n",
        "\n",
        "                log_eval_results(\n",
        "                    model_name,\n",
        "                    agg_metrics_per_split,\n",
        "                    split_label=split_label,\n",
        "                    turbulence_log_name=None,\n",
        "                    turbulence_thresh=None,\n",
        "                    run=None,\n",
        "                    metric_prefix='agg',\n",
        "                    quantile_log_name=quantile_log_name,\n",
        "                    quantile_thresh=quantile,\n",
        "                )\n",
        "\n",
        "        prev_run = current_run\n",
        "        wandb.finish()"
      ],
      "metadata": {
        "colab": {
          "base_uri": "https://localhost:8080/",
          "height": 1000,
          "referenced_widgets": [
            "136fc28e5e0b462c8304a19bbf2623f2",
            "3143d927587346388811187684ea5c4e",
            "4a8fb139da6847dcb4304f3fa45757cd",
            "36b9582cf4bf4fab83a4d69bae959810",
            "cb237b83f38a4265adb0e43368df4315",
            "82bddc5efeb444758fc9fafb0b94caad",
            "b6c18c00cbe1494dbfb543ae088747e2",
            "340cb5657c2d430cb8bf297865b9ee0d"
          ]
        },
        "outputId": "66a5942d-29fd-4c11-b924-49c5c72082ef",
        "cellView": "form",
        "id": "7EROGX7F3m63"
      },
      "execution_count": null,
      "outputs": [
        {
          "output_type": "stream",
          "name": "stdout",
          "text": [
            "\n",
            "\n",
            "Config_hash: 1ea39a67636c8e66b0064c4cac304a880b02405eff96aa2bc82017e78cd8461f\n",
            "Using cached data: cache/2009-01-01 00:00:00_2020-01-01 00:00:00_1d_e4ea6619c36bd5c7165dda736c285494aa3defe9ac6b9a4e0ed8216efc4875c7.csv\n",
            "\n",
            "Run #0: cetkpj0x\n",
            "test_start_date 2016-01-01 00:00:00\n",
            "val_start_date 2015-10-01 00:00:00\n",
            "Threshold: historical: 19.36 | insample: 17.59\n",
            "turbulence_threshold: 17.59\n"
          ]
        },
        {
          "output_type": "stream",
          "name": "stderr",
          "text": [
            "\u001b[34m\u001b[1mwandb\u001b[0m: Currently logged in as: \u001b[33mtony-pitchblack\u001b[0m (\u001b[33moverfit1010\u001b[0m) to \u001b[32mhttps://api.wandb.ai\u001b[0m. Use \u001b[1m`wandb login --relogin`\u001b[0m to force relogin\n",
            "\u001b[34m\u001b[1mwandb\u001b[0m: Using wandb-core as the SDK backend.  Please refer to https://wandb.me/wandb-core for more information.\n"
          ]
        },
        {
          "output_type": "display_data",
          "data": {
            "text/plain": [
              "<IPython.core.display.HTML object>"
            ],
            "text/html": [
              "Tracking run with wandb version 0.19.6"
            ]
          },
          "metadata": {}
        },
        {
          "output_type": "display_data",
          "data": {
            "text/plain": [
              "<IPython.core.display.HTML object>"
            ],
            "text/html": [
              "Run data is saved locally in <code>/content/wandb/run-20250220_160616-cetkpj0x</code>"
            ]
          },
          "metadata": {}
        },
        {
          "output_type": "display_data",
          "data": {
            "text/plain": [
              "<IPython.core.display.HTML object>"
            ],
            "text/html": [
              "Resuming run <strong><a href='https://wandb.ai/overfit1010/finrl-dt-replicate/runs/cetkpj0x' target=\"_blank\">DOW-30 | 2009-01 | 2015 Q4 | 2016 Q1 | cetkpj0x</a></strong> to <a href='https://wandb.ai/overfit1010/finrl-dt-replicate' target=\"_blank\">Weights & Biases</a> (<a href='https://wandb.me/developer-guide' target=\"_blank\">docs</a>)<br>Sweep page: <a href='https://wandb.ai/overfit1010/finrl-dt-replicate/sweeps/yd7fz9as' target=\"_blank\">https://wandb.ai/overfit1010/finrl-dt-replicate/sweeps/yd7fz9as</a>"
            ]
          },
          "metadata": {}
        },
        {
          "output_type": "display_data",
          "data": {
            "text/plain": [
              "<IPython.core.display.HTML object>"
            ],
            "text/html": [
              " View project at <a href='https://wandb.ai/overfit1010/finrl-dt-replicate' target=\"_blank\">https://wandb.ai/overfit1010/finrl-dt-replicate</a>"
            ]
          },
          "metadata": {}
        },
        {
          "output_type": "display_data",
          "data": {
            "text/plain": [
              "<IPython.core.display.HTML object>"
            ],
            "text/html": [
              " View sweep at <a href='https://wandb.ai/overfit1010/finrl-dt-replicate/sweeps/yd7fz9as' target=\"_blank\">https://wandb.ai/overfit1010/finrl-dt-replicate/sweeps/yd7fz9as</a>"
            ]
          },
          "metadata": {}
        },
        {
          "output_type": "display_data",
          "data": {
            "text/plain": [
              "<IPython.core.display.HTML object>"
            ],
            "text/html": [
              " View run at <a href='https://wandb.ai/overfit1010/finrl-dt-replicate/runs/cetkpj0x' target=\"_blank\">https://wandb.ai/overfit1010/finrl-dt-replicate/runs/cetkpj0x</a>"
            ]
          },
          "metadata": {}
        },
        {
          "output_type": "stream",
          "name": "stdout",
          "text": [
            "Downloading artifacts to trained_models-cetkpj0x:v0\n"
          ]
        },
        {
          "output_type": "stream",
          "name": "stderr",
          "text": [
            "\u001b[34m\u001b[1mwandb\u001b[0m: \\ 1 of 99 files downloaded...\r\u001b[34m\u001b[1mwandb\u001b[0m:   99 of 99 files downloaded.  \n",
            "2025-02-20 16:06:18,650\tWARNING deprecation.py:50 -- DeprecationWarning: `RLModule(config=[RLModuleConfig object])` has been deprecated. Use `RLModule(observation_space=.., action_space=.., inference_only=.., model_config=.., catalog_class=..)` instead. This will raise an error in the future!\n"
          ]
        },
        {
          "output_type": "stream",
          "name": "stdout",
          "text": [
            "Artifacts downloaded cnt per type: {'trained_models': 1}\n",
            "Artifacts folders per type: {'trained_models': [PosixPath('trained_models-cetkpj0x:v0')]}\n",
            "\n",
            "\n",
            "Evaluating for `test` using `^VIX`: 17.59000015258789\n",
            "Init with NEW env state:\n",
            "\t initial_amount: 50000\n",
            "\t initial_stocks: None\n",
            "Initializing eval env... Done.\n",
            "\t initial_total_asset: 50000.0\n",
            "test_start_date 2016-01-01 00:00:00\n",
            "val_start_date 2015-10-01 00:00:00\n",
            "Threshold: historical: 19.36 | insample: 56.65\n",
            "turbulence_threshold: 56.65\n",
            "Downloading artifacts to trained_models-cetkpj0x:v0\n"
          ]
        },
        {
          "output_type": "stream",
          "name": "stderr",
          "text": [
            "\u001b[34m\u001b[1mwandb\u001b[0m: \\ 1 of 99 files downloaded...\r\u001b[34m\u001b[1mwandb\u001b[0m:   99 of 99 files downloaded.  \n"
          ]
        },
        {
          "output_type": "stream",
          "name": "stdout",
          "text": [
            "Artifacts downloaded cnt per type: {'trained_models': 1}\n",
            "Artifacts folders per type: {'trained_models': [PosixPath('trained_models-cetkpj0x:v0')]}\n",
            "\n",
            "\n",
            "Evaluating for `test` using `^VIX`: 56.650001525878906\n",
            "Init with NEW env state:\n",
            "\t initial_amount: 50000\n",
            "\t initial_stocks: None\n",
            "Initializing eval env... Done.\n",
            "\t initial_total_asset: 50000.0\n"
          ]
        },
        {
          "output_type": "display_data",
          "data": {
            "text/plain": [
              "<IPython.core.display.HTML object>"
            ],
            "text/html": []
          },
          "metadata": {}
        },
        {
          "output_type": "display_data",
          "data": {
            "text/plain": [
              "<IPython.core.display.HTML object>"
            ],
            "text/html": [
              "<br>    <style><br>        .wandb-row {<br>            display: flex;<br>            flex-direction: row;<br>            flex-wrap: wrap;<br>            justify-content: flex-start;<br>            width: 100%;<br>        }<br>        .wandb-col {<br>            display: flex;<br>            flex-direction: column;<br>            flex-basis: 100%;<br>            flex: 1;<br>            padding: 10px;<br>        }<br>    </style><br><div class=\"wandb-row\"><div class=\"wandb-col\"><h3>Run summary:</h3><br/><table class=\"wandb\"><tr><td>config_hash</td><td>1ea39a67636c8e66b006...</td></tr><tr><td>run.duration_minutes</td><td>7.5</td></tr><tr><td>test.q_100.agg_ann_return/ppo</td><td>29.21</td></tr><tr><td>test.q_100.agg_cum_return/ppo</td><td>4.38</td></tr><tr><td>test.q_100.agg_mdd/ppo</td><td>-6.03</td></tr><tr><td>test.q_100.agg_sharpe_ratio/ppo</td><td>1.01</td></tr><tr><td>test.q_100.ann_return/ppo</td><td>29.21</td></tr><tr><td>test.q_100.cum_return/ppo</td><td>4.38</td></tr><tr><td>test.q_100.end_amount/ppo</td><td>11.83</td></tr><tr><td>test.q_100.end_total_asset/ppo</td><td>52188.02</td></tr><tr><td>test.q_100.mdd/ppo</td><td>-6.03</td></tr><tr><td>test.q_100.sharpe_ratio/ppo</td><td>1.01</td></tr><tr><td>test.q_100.vix_historical_mean/ppo</td><td>19.36</td></tr><tr><td>test.q_100.vix_insample/ppo</td><td>56.65</td></tr><tr><td>test.q_100.vix_lookback_window/ppo</td><td>63</td></tr><tr><td>test.q_50.agg_ann_return/ppo</td><td>7.46</td></tr><tr><td>test.q_50.agg_cum_return/ppo</td><td>1.21</td></tr><tr><td>test.q_50.agg_mdd/ppo</td><td>-0.78</td></tr><tr><td>test.q_50.agg_sharpe_ratio/ppo</td><td>1.74</td></tr><tr><td>test.q_50.ann_return/ppo</td><td>7.46</td></tr><tr><td>test.q_50.cum_return/ppo</td><td>1.21</td></tr><tr><td>test.q_50.end_amount/ppo</td><td>14.65</td></tr><tr><td>test.q_50.end_total_asset/ppo</td><td>50605.11</td></tr><tr><td>test.q_50.mdd/ppo</td><td>-0.78</td></tr><tr><td>test.q_50.sharpe_ratio/ppo</td><td>1.74</td></tr><tr><td>test.q_50.vix_historical_mean/ppo</td><td>19.36</td></tr><tr><td>test.q_50.vix_insample/ppo</td><td>17.59</td></tr><tr><td>test.q_50.vix_lookback_window/ppo</td><td>63</td></tr><tr><td>test.q_85.agg_ann_return/ppo</td><td>29.21</td></tr><tr><td>test.q_85.agg_cum_return/ppo</td><td>4.38</td></tr><tr><td>test.q_85.agg_mdd/ppo</td><td>-6.03</td></tr><tr><td>test.q_85.agg_sharpe_ratio/ppo</td><td>1.01</td></tr><tr><td>test.q_85.ann_return/ppo</td><td>29.21</td></tr><tr><td>test.q_85.cum_return/ppo</td><td>4.38</td></tr><tr><td>test.q_85.end_amount/ppo</td><td>11.83</td></tr><tr><td>test.q_85.end_total_asset/ppo</td><td>52188.02</td></tr><tr><td>test.q_85.mdd/ppo</td><td>-6.03</td></tr><tr><td>test.q_85.sharpe_ratio/ppo</td><td>1.01</td></tr><tr><td>test.q_85.vix_historical_mean/ppo</td><td>19.36</td></tr><tr><td>test.q_85.vix_insample/ppo</td><td>56.65</td></tr><tr><td>test.q_85.vix_lookback_window/ppo</td><td>63</td></tr><tr><td>test.q_90.agg_ann_return/ppo</td><td>29.21</td></tr><tr><td>test.q_90.agg_cum_return/ppo</td><td>4.38</td></tr><tr><td>test.q_90.agg_mdd/ppo</td><td>-6.03</td></tr><tr><td>test.q_90.agg_sharpe_ratio/ppo</td><td>1.01</td></tr><tr><td>test.q_90.ann_return/ppo</td><td>29.21</td></tr><tr><td>test.q_90.cum_return/ppo</td><td>4.38</td></tr><tr><td>test.q_90.end_amount/ppo</td><td>11.83</td></tr><tr><td>test.q_90.end_total_asset/ppo</td><td>52188.02</td></tr><tr><td>test.q_90.mdd/ppo</td><td>-6.03</td></tr><tr><td>test.q_90.sharpe_ratio/ppo</td><td>1.01</td></tr><tr><td>test.q_90.vix/ppo</td><td>56.65</td></tr><tr><td>test.q_90.vix_historical_mean/ppo</td><td>19.36</td></tr><tr><td>test.q_90.vix_insample/ppo</td><td>56.65</td></tr><tr><td>test.q_90.vix_lookback_window/ppo</td><td>63</td></tr><tr><td>test.q_95.agg_ann_return/ppo</td><td>29.21</td></tr><tr><td>test.q_95.agg_cum_return/ppo</td><td>4.38</td></tr><tr><td>test.q_95.agg_mdd/ppo</td><td>-6.03</td></tr><tr><td>test.q_95.agg_sharpe_ratio/ppo</td><td>1.01</td></tr><tr><td>test.q_95.ann_return/ppo</td><td>29.21</td></tr><tr><td>test.q_95.cum_return/ppo</td><td>4.38</td></tr><tr><td>test.q_95.end_amount/ppo</td><td>11.83</td></tr><tr><td>test.q_95.end_total_asset/ppo</td><td>52188.02</td></tr><tr><td>test.q_95.mdd/ppo</td><td>-6.03</td></tr><tr><td>test.q_95.sharpe_ratio/ppo</td><td>1.01</td></tr><tr><td>test.q_95.vix_historical_mean/ppo</td><td>19.36</td></tr><tr><td>test.q_95.vix_insample/ppo</td><td>56.65</td></tr><tr><td>test.q_95.vix_lookback_window/ppo</td><td>63</td></tr><tr><td>test.vix.ann_return/ppo</td><td>28.16</td></tr><tr><td>test.vix.cum_return/ppo</td><td>4.3</td></tr><tr><td>test.vix.end_amount/ppo</td><td>3.26</td></tr><tr><td>test.vix.end_total_asset/ppo</td><td>52152.45</td></tr><tr><td>test.vix.mdd/ppo</td><td>-2.42</td></tr><tr><td>test.vix.sharpe_ratio/ppo</td><td>1.85</td></tr><tr><td>test.vix.vix/ppo</td><td>23</td></tr><tr><td>test.vix_14.ann_return/ppo</td><td>-0.13</td></tr><tr><td>test.vix_14.cum_return/ppo</td><td>-0.02</td></tr><tr><td>test.vix_14.end_amount/ppo</td><td>27796.24</td></tr><tr><td>test.vix_14.end_total_asset/ppo</td><td>49988.78</td></tr><tr><td>test.vix_14.mdd/ppo</td><td>-0.07</td></tr><tr><td>test.vix_14.sharpe_ratio/ppo</td><td>-0.51</td></tr><tr><td>test.vix_16.ann_return/ppo</td><td>4.88</td></tr><tr><td>test.vix_16.cum_return/ppo</td><td>0.81</td></tr><tr><td>test.vix_16.end_amount/ppo</td><td>7.62</td></tr><tr><td>test.vix_16.end_total_asset/ppo</td><td>50406.6</td></tr><tr><td>test.vix_16.mdd/ppo</td><td>-0.53</td></tr><tr><td>test.vix_16.sharpe_ratio/ppo</td><td>1.65</td></tr><tr><td>test.vix_17.ann_return/ppo</td><td>8.18</td></tr><tr><td>test.vix_17.cum_return/ppo</td><td>1.35</td></tr><tr><td>test.vix_17.end_amount/ppo</td><td>5.03</td></tr><tr><td>test.vix_17.end_total_asset/ppo</td><td>50672.51</td></tr><tr><td>test.vix_17.mdd/ppo</td><td>-0.59</td></tr><tr><td>test.vix_17.sharpe_ratio/ppo</td><td>2.31</td></tr><tr><td>test.vix_19.ann_return/ppo</td><td>26.11</td></tr><tr><td>test.vix_19.cum_return/ppo</td><td>4.02</td></tr><tr><td>test.vix_19.end_amount/ppo</td><td>0.45</td></tr><tr><td>test.vix_19.end_total_asset/ppo</td><td>52009.29</td></tr><tr><td>test.vix_19.mdd/ppo</td><td>-0.74</td></tr><tr><td>test.vix_19.sharpe_ratio/ppo</td><td>3.48</td></tr><tr><td>test.vix_21.ann_return/ppo</td><td>38.53</td></tr><tr><td>test.vix_21.cum_return/ppo</td><td>5.69</td></tr><tr><td>test.vix_21.end_amount/ppo</td><td>9.07</td></tr><tr><td>test.vix_21.end_total_asset/ppo</td><td>52846.25</td></tr><tr><td>test.vix_21.mdd/ppo</td><td>-1.78</td></tr><tr><td>test.vix_21.sharpe_ratio/ppo</td><td>2.87</td></tr><tr><td>test.vix_22.ann_return/ppo</td><td>38.59</td></tr><tr><td>test.vix_22.cum_return/ppo</td><td>5.7</td></tr><tr><td>test.vix_22.end_amount/ppo</td><td>15.59</td></tr><tr><td>test.vix_22.end_total_asset/ppo</td><td>52849.97</td></tr><tr><td>test.vix_22.mdd/ppo</td><td>-2.13</td></tr><tr><td>test.vix_22.sharpe_ratio/ppo</td><td>2.61</td></tr><tr><td>test.vix_23.ann_return/ppo</td><td>28.16</td></tr><tr><td>test.vix_23.cum_return/ppo</td><td>4.3</td></tr><tr><td>test.vix_23.end_amount/ppo</td><td>3.26</td></tr><tr><td>test.vix_23.end_total_asset/ppo</td><td>52152.45</td></tr><tr><td>test.vix_23.mdd/ppo</td><td>-2.42</td></tr><tr><td>test.vix_23.sharpe_ratio/ppo</td><td>1.85</td></tr><tr><td>test.vix_24.ann_return/ppo</td><td>15.9</td></tr><tr><td>test.vix_24.cum_return/ppo</td><td>2.54</td></tr><tr><td>test.vix_24.end_amount/ppo</td><td>3.37</td></tr><tr><td>test.vix_24.end_total_asset/ppo</td><td>51269.21</td></tr><tr><td>test.vix_24.mdd/ppo</td><td>-4.79</td></tr><tr><td>test.vix_24.sharpe_ratio/ppo</td><td>0.94</td></tr><tr><td>test.vix_25.ann_return/ppo</td><td>16.61</td></tr><tr><td>test.vix_25.cum_return/ppo</td><td>2.64</td></tr><tr><td>test.vix_25.end_amount/ppo</td><td>0.44</td></tr><tr><td>test.vix_25.end_total_asset/ppo</td><td>51321.95</td></tr><tr><td>test.vix_25.mdd/ppo</td><td>-5.42</td></tr><tr><td>test.vix_25.sharpe_ratio/ppo</td><td>0.86</td></tr><tr><td>test.vix_26.ann_return/ppo</td><td>18.88</td></tr><tr><td>test.vix_26.cum_return/ppo</td><td>2.98</td></tr><tr><td>test.vix_26.end_amount/ppo</td><td>13.13</td></tr><tr><td>test.vix_26.end_total_asset/ppo</td><td>51490.73</td></tr><tr><td>test.vix_26.mdd/ppo</td><td>-4.97</td></tr><tr><td>test.vix_26.sharpe_ratio/ppo</td><td>0.93</td></tr><tr><td>test.vix_27.ann_return/ppo</td><td>14.4</td></tr><tr><td>test.vix_27.cum_return/ppo</td><td>2.31</td></tr><tr><td>test.vix_27.end_amount/ppo</td><td>8.37</td></tr><tr><td>test.vix_27.end_total_asset/ppo</td><td>51155.46</td></tr><tr><td>test.vix_27.mdd/ppo</td><td>-5.71</td></tr><tr><td>test.vix_27.sharpe_ratio/ppo</td><td>0.71</td></tr><tr><td>test.vix_29.ann_return/ppo</td><td>71.72</td></tr><tr><td>test.vix_29.cum_return/ppo</td><td>9.62</td></tr><tr><td>test.vix_29.end_amount/ppo</td><td>3.01</td></tr><tr><td>test.vix_29.end_total_asset/ppo</td><td>54809.74</td></tr><tr><td>test.vix_29.mdd/ppo</td><td>-4.57</td></tr><tr><td>test.vix_29.sharpe_ratio/ppo</td><td>2.05</td></tr><tr><td>test.vix_30.ann_return/ppo</td><td>71.72</td></tr><tr><td>test.vix_30.cum_return/ppo</td><td>9.62</td></tr><tr><td>test.vix_30.end_amount/ppo</td><td>3.01</td></tr><tr><td>test.vix_30.end_total_asset/ppo</td><td>54809.74</td></tr><tr><td>test.vix_30.mdd/ppo</td><td>-4.57</td></tr><tr><td>test.vix_30.sharpe_ratio/ppo</td><td>2.05</td></tr><tr><td>test.vix_best.agg_ann_return/ppo</td><td>26.11</td></tr><tr><td>test.vix_best.agg_cum_return/ppo</td><td>4.02</td></tr><tr><td>test.vix_best.agg_mdd/ppo</td><td>-0.74</td></tr><tr><td>test.vix_best.agg_sharpe_ratio/ppo</td><td>3.48</td></tr><tr><td>test.vix_best.ann_return/ppo</td><td>26.11</td></tr><tr><td>test.vix_best.cum_return/ppo</td><td>4.02</td></tr><tr><td>test.vix_best.end_amount/ppo</td><td>0.45</td></tr><tr><td>test.vix_best.end_total_asset/ppo</td><td>52009.29</td></tr><tr><td>test.vix_best.mdd/ppo</td><td>-0.74</td></tr><tr><td>test.vix_best.sharpe_ratio/ppo</td><td>3.48</td></tr><tr><td>test.vix_best.vix/ppo</td><td>19</td></tr><tr><td>test.vix_chosen.agg_ann_return/ppo</td><td>28.16</td></tr><tr><td>test.vix_chosen.agg_cum_return/ppo</td><td>4.3</td></tr><tr><td>test.vix_chosen.agg_mdd/ppo</td><td>-2.42</td></tr><tr><td>test.vix_chosen.agg_sharpe_ratio/ppo</td><td>1.85</td></tr><tr><td>test.vix_chosen.ann_return/ppo</td><td>18.88</td></tr><tr><td>test.vix_chosen.cum_return/ppo</td><td>2.98</td></tr><tr><td>test.vix_chosen.end_amount/ppo</td><td>13.13</td></tr><tr><td>test.vix_chosen.end_total_asset/ppo</td><td>51490.73</td></tr><tr><td>test.vix_chosen.mdd/ppo</td><td>-4.97</td></tr><tr><td>test.vix_chosen.sharpe_ratio/ppo</td><td>0.93</td></tr><tr><td>test.vix_chosen.vix/ppo</td><td>26</td></tr><tr><td>train.ann_return/ppo</td><td>50.89543</td></tr><tr><td>train.cum_return/ppo</td><td>288.95075</td></tr><tr><td>train.duration_minutes/ppo</td><td>3.5</td></tr><tr><td>train.mdd/ppo</td><td>-37.68383</td></tr><tr><td>train.sharpe_ratio/ppo</td><td>1.1663</td></tr><tr><td>val.ann_return/ppo</td><td>463587.90016</td></tr><tr><td>val.cum_return/ppo</td><td>12.12603</td></tr><tr><td>val.mdd/ppo</td><td>-4.59683</td></tr><tr><td>val.num_pretrain_iters</td><td>4</td></tr><tr><td>val.q_85.ann_return/ppo</td><td>18.46</td></tr><tr><td>val.q_85.cum_return/ppo</td><td>3.02</td></tr><tr><td>val.q_85.end_amount/ppo</td><td>7.89</td></tr><tr><td>val.q_85.end_total_asset/ppo</td><td>51507.52</td></tr><tr><td>val.q_85.mdd/ppo</td><td>-6.71</td></tr><tr><td>val.q_85.sharpe_ratio/ppo</td><td>0.81</td></tr><tr><td>val.q_85.vix_historical_mean/ppo</td><td>19.36</td></tr><tr><td>val.q_85.vix_insample/ppo</td><td>56.65</td></tr><tr><td>val.q_85.vix_lookback_window/ppo</td><td>63</td></tr><tr><td>val.q_90.ann_return/ppo</td><td>18.46</td></tr><tr><td>val.q_90.cum_return/ppo</td><td>3.02</td></tr><tr><td>val.q_90.end_amount/ppo</td><td>7.89</td></tr><tr><td>val.q_90.end_total_asset/ppo</td><td>51507.52</td></tr><tr><td>val.q_90.mdd/ppo</td><td>-6.71</td></tr><tr><td>val.q_90.sharpe_ratio/ppo</td><td>0.81</td></tr><tr><td>val.q_90.vix/ppo</td><td>56.65</td></tr><tr><td>val.q_90.vix_historical_mean/ppo</td><td>19.36</td></tr><tr><td>val.q_90.vix_insample/ppo</td><td>56.65</td></tr><tr><td>val.q_90.vix_lookback_window/ppo</td><td>63</td></tr><tr><td>val.q_95.ann_return/ppo</td><td>18.46</td></tr><tr><td>val.q_95.cum_return/ppo</td><td>3.02</td></tr><tr><td>val.q_95.end_amount/ppo</td><td>7.89</td></tr><tr><td>val.q_95.end_total_asset/ppo</td><td>51507.52</td></tr><tr><td>val.q_95.mdd/ppo</td><td>-6.71</td></tr><tr><td>val.q_95.sharpe_ratio/ppo</td><td>0.81</td></tr><tr><td>val.q_95.vix_historical_mean/ppo</td><td>19.36</td></tr><tr><td>val.q_95.vix_insample/ppo</td><td>56.65</td></tr><tr><td>val.q_95.vix_lookback_window/ppo</td><td>63</td></tr><tr><td>val.sharpe_ratio/ppo</td><td>5.1779</td></tr><tr><td>val.vix.ann_return/ppo</td><td>4.37</td></tr><tr><td>val.vix.cum_return/ppo</td><td>0.75</td></tr><tr><td>val.vix.end_amount/ppo</td><td>5.82</td></tr><tr><td>val.vix.end_total_asset/ppo</td><td>50376.06</td></tr><tr><td>val.vix.mdd/ppo</td><td>-5.88</td></tr><tr><td>val.vix.sharpe_ratio/ppo</td><td>0.28</td></tr><tr><td>val.vix.vix/ppo</td><td>23</td></tr><tr><td>val.vix_15.ann_return/ppo</td><td>-1.53</td></tr><tr><td>val.vix_15.cum_return/ppo</td><td>-0.27</td></tr><tr><td>val.vix_15.end_amount/ppo</td><td>49864.7</td></tr><tr><td>val.vix_15.end_total_asset/ppo</td><td>49864.7</td></tr><tr><td>val.vix_15.mdd/ppo</td><td>-0.38</td></tr><tr><td>val.vix_15.sharpe_ratio/ppo</td><td>-2.18</td></tr><tr><td>val.vix_16.ann_return/ppo</td><td>-7</td></tr><tr><td>val.vix_16.cum_return/ppo</td><td>-1.26</td></tr><tr><td>val.vix_16.end_amount/ppo</td><td>49368.05</td></tr><tr><td>val.vix_16.end_total_asset/ppo</td><td>49368.05</td></tr><tr><td>val.vix_16.mdd/ppo</td><td>-2.29</td></tr><tr><td>val.vix_16.sharpe_ratio/ppo</td><td>-1.45</td></tr><tr><td>val.vix_17.ann_return/ppo</td><td>-7.16</td></tr><tr><td>val.vix_17.cum_return/ppo</td><td>-1.29</td></tr><tr><td>val.vix_17.end_amount/ppo</td><td>49353.05</td></tr><tr><td>val.vix_17.end_total_asset/ppo</td><td>49353.05</td></tr><tr><td>val.vix_17.mdd/ppo</td><td>-4.67</td></tr><tr><td>val.vix_17.sharpe_ratio/ppo</td><td>-0.72</td></tr><tr><td>val.vix_18.ann_return/ppo</td><td>-17.03</td></tr><tr><td>val.vix_18.cum_return/ppo</td><td>-3.22</td></tr><tr><td>val.vix_18.end_amount/ppo</td><td>48389.51</td></tr><tr><td>val.vix_18.end_total_asset/ppo</td><td>48389.51</td></tr><tr><td>val.vix_18.mdd/ppo</td><td>-5.96</td></tr><tr><td>val.vix_18.sharpe_ratio/ppo</td><td>-1.76</td></tr><tr><td>val.vix_19.ann_return/ppo</td><td>-13.6</td></tr><tr><td>val.vix_19.cum_return/ppo</td><td>-2.53</td></tr><tr><td>val.vix_19.end_amount/ppo</td><td>10299.69</td></tr><tr><td>val.vix_19.end_total_asset/ppo</td><td>48734.75</td></tr><tr><td>val.vix_19.mdd/ppo</td><td>-6.65</td></tr><tr><td>val.vix_19.sharpe_ratio/ppo</td><td>-0.88</td></tr><tr><td>val.vix_20.ann_return/ppo</td><td>-21.76</td></tr><tr><td>val.vix_20.cum_return/ppo</td><td>-4.21</td></tr><tr><td>val.vix_20.end_amount/ppo</td><td>9882.35</td></tr><tr><td>val.vix_20.end_total_asset/ppo</td><td>47894.21</td></tr><tr><td>val.vix_20.mdd/ppo</td><td>-9.3</td></tr><tr><td>val.vix_20.sharpe_ratio/ppo</td><td>-1.29</td></tr><tr><td>val.vix_21.ann_return/ppo</td><td>2.51</td></tr><tr><td>val.vix_21.cum_return/ppo</td><td>0.44</td></tr><tr><td>val.vix_21.end_amount/ppo</td><td>20.27</td></tr><tr><td>val.vix_21.end_total_asset/ppo</td><td>50218.13</td></tr><tr><td>val.vix_21.mdd/ppo</td><td>-5.82</td></tr><tr><td>val.vix_21.sharpe_ratio/ppo</td><td>0.19</td></tr><tr><td>val.vix_23.ann_return/ppo</td><td>4.37</td></tr><tr><td>val.vix_23.cum_return/ppo</td><td>0.75</td></tr><tr><td>val.vix_23.end_amount/ppo</td><td>5.82</td></tr><tr><td>val.vix_23.end_total_asset/ppo</td><td>50376.06</td></tr><tr><td>val.vix_23.mdd/ppo</td><td>-5.88</td></tr><tr><td>val.vix_23.sharpe_ratio/ppo</td><td>0.28</td></tr><tr><td>val.vix_24.ann_return/ppo</td><td>-2.57</td></tr><tr><td>val.vix_24.cum_return/ppo</td><td>-0.45</td></tr><tr><td>val.vix_24.end_amount/ppo</td><td>16.78</td></tr><tr><td>val.vix_24.end_total_asset/ppo</td><td>49772.58</td></tr><tr><td>val.vix_24.mdd/ppo</td><td>-5.84</td></tr><tr><td>val.vix_24.sharpe_ratio/ppo</td><td>-0.05</td></tr><tr><td>val.vix_25.ann_return/ppo</td><td>4.16</td></tr><tr><td>val.vix_25.cum_return/ppo</td><td>0.72</td></tr><tr><td>val.vix_25.end_amount/ppo</td><td>6.82</td></tr><tr><td>val.vix_25.end_total_asset/ppo</td><td>50359.02</td></tr><tr><td>val.vix_25.mdd/ppo</td><td>-5.91</td></tr><tr><td>val.vix_25.sharpe_ratio/ppo</td><td>0.25</td></tr><tr><td>val.vix_26.ann_return/ppo</td><td>4.23</td></tr><tr><td>val.vix_26.cum_return/ppo</td><td>0.73</td></tr><tr><td>val.vix_26.end_amount/ppo</td><td>13.1</td></tr><tr><td>val.vix_26.end_total_asset/ppo</td><td>50364.76</td></tr><tr><td>val.vix_26.mdd/ppo</td><td>-5.89</td></tr><tr><td>val.vix_26.sharpe_ratio/ppo</td><td>0.26</td></tr><tr><td>val.vix_best.agg_ann_return/ppo</td><td>69.02</td></tr><tr><td>val.vix_best.agg_cum_return/ppo</td><td>9.64</td></tr><tr><td>val.vix_best.agg_mdd/ppo</td><td>-4.19</td></tr><tr><td>val.vix_best.agg_sharpe_ratio/ppo</td><td>2.31</td></tr><tr><td>val.vix_best.ann_return/ppo</td><td>56.76</td></tr><tr><td>val.vix_best.cum_return/ppo</td><td>8.2</td></tr><tr><td>val.vix_best.end_amount/ppo</td><td>5.95</td></tr><tr><td>val.vix_best.end_total_asset/ppo</td><td>54100.8</td></tr><tr><td>val.vix_best.mdd/ppo</td><td>-5.99</td></tr><tr><td>val.vix_best.sharpe_ratio/ppo</td><td>2.01</td></tr><tr><td>val.vix_best.vix/ppo</td><td>26</td></tr></table><br/></div></div>"
            ]
          },
          "metadata": {}
        },
        {
          "output_type": "display_data",
          "data": {
            "text/plain": [
              "<IPython.core.display.HTML object>"
            ],
            "text/html": [
              " View run <strong style=\"color:#cdcd00\">DOW-30 | 2009-01 | 2015 Q4 | 2016 Q1 | cetkpj0x</strong> at: <a href='https://wandb.ai/overfit1010/finrl-dt-replicate/runs/cetkpj0x' target=\"_blank\">https://wandb.ai/overfit1010/finrl-dt-replicate/runs/cetkpj0x</a><br> View project at: <a href='https://wandb.ai/overfit1010/finrl-dt-replicate' target=\"_blank\">https://wandb.ai/overfit1010/finrl-dt-replicate</a><br>Synced 5 W&B file(s), 0 media file(s), 0 artifact file(s) and 0 other file(s)"
            ]
          },
          "metadata": {}
        },
        {
          "output_type": "display_data",
          "data": {
            "text/plain": [
              "<IPython.core.display.HTML object>"
            ],
            "text/html": [
              "Find logs at: <code>./wandb/run-20250220_160616-cetkpj0x/logs</code>"
            ]
          },
          "metadata": {}
        },
        {
          "output_type": "stream",
          "name": "stdout",
          "text": [
            "\n",
            "Run #1: dcl4jcb8\n",
            "test_start_date 2016-04-01 00:00:00\n",
            "val_start_date 2016-01-01 00:00:00\n",
            "Threshold: historical: 16.95 | insample: 56.65\n",
            "turbulence_threshold: 56.65\n"
          ]
        },
        {
          "output_type": "display_data",
          "data": {
            "text/plain": [
              "<IPython.core.display.HTML object>"
            ],
            "text/html": [
              "Tracking run with wandb version 0.19.6"
            ]
          },
          "metadata": {}
        },
        {
          "output_type": "display_data",
          "data": {
            "text/plain": [
              "<IPython.core.display.HTML object>"
            ],
            "text/html": [
              "Run data is saved locally in <code>/content/wandb/run-20250220_160622-dcl4jcb8</code>"
            ]
          },
          "metadata": {}
        },
        {
          "output_type": "display_data",
          "data": {
            "text/plain": [
              "<IPython.core.display.HTML object>"
            ],
            "text/html": [
              "Resuming run <strong><a href='https://wandb.ai/overfit1010/finrl-dt-replicate/runs/dcl4jcb8' target=\"_blank\">DOW-30 | 2015-10 | 2016 Q1 | 2016 Q2 | dcl4jcb8</a></strong> to <a href='https://wandb.ai/overfit1010/finrl-dt-replicate' target=\"_blank\">Weights & Biases</a> (<a href='https://wandb.me/developer-guide' target=\"_blank\">docs</a>)<br>Sweep page: <a href='https://wandb.ai/overfit1010/finrl-dt-replicate/sweeps/yd7fz9as' target=\"_blank\">https://wandb.ai/overfit1010/finrl-dt-replicate/sweeps/yd7fz9as</a>"
            ]
          },
          "metadata": {}
        },
        {
          "output_type": "display_data",
          "data": {
            "text/plain": [
              "<IPython.core.display.HTML object>"
            ],
            "text/html": [
              " View project at <a href='https://wandb.ai/overfit1010/finrl-dt-replicate' target=\"_blank\">https://wandb.ai/overfit1010/finrl-dt-replicate</a>"
            ]
          },
          "metadata": {}
        },
        {
          "output_type": "display_data",
          "data": {
            "text/plain": [
              "<IPython.core.display.HTML object>"
            ],
            "text/html": [
              " View sweep at <a href='https://wandb.ai/overfit1010/finrl-dt-replicate/sweeps/yd7fz9as' target=\"_blank\">https://wandb.ai/overfit1010/finrl-dt-replicate/sweeps/yd7fz9as</a>"
            ]
          },
          "metadata": {}
        },
        {
          "output_type": "display_data",
          "data": {
            "text/plain": [
              "<IPython.core.display.HTML object>"
            ],
            "text/html": [
              " View run at <a href='https://wandb.ai/overfit1010/finrl-dt-replicate/runs/dcl4jcb8' target=\"_blank\">https://wandb.ai/overfit1010/finrl-dt-replicate/runs/dcl4jcb8</a>"
            ]
          },
          "metadata": {}
        },
        {
          "output_type": "stream",
          "name": "stdout",
          "text": [
            "Downloading artifacts to trained_models-dcl4jcb8:v0\n"
          ]
        },
        {
          "output_type": "stream",
          "name": "stderr",
          "text": [
            "\u001b[34m\u001b[1mwandb\u001b[0m: \\ 1 of 99 files downloaded...\r\u001b[34m\u001b[1mwandb\u001b[0m:   99 of 99 files downloaded.  \n"
          ]
        },
        {
          "output_type": "stream",
          "name": "stdout",
          "text": [
            "Artifacts downloaded cnt per type: {'trained_models': 1}\n",
            "Artifacts folders per type: {'trained_models': [PosixPath('trained_models-dcl4jcb8:v0')]}\n",
            "\n",
            "\n",
            "Evaluating for `test` using `^VIX`: 56.650001525878906\n",
            "Init with NEW env state:\n",
            "\t initial_amount: 50000\n",
            "\t initial_stocks: None\n",
            "Initializing eval env... Done.\n",
            "\t initial_total_asset: 50000.0\n",
            "test_start_date 2016-04-01 00:00:00\n",
            "val_start_date 2016-01-01 00:00:00\n",
            "Threshold: historical: 16.95 | insample: 56.65\n",
            "turbulence_threshold: 56.65\n",
            "Downloading artifacts to trained_models-dcl4jcb8:v0\n"
          ]
        },
        {
          "output_type": "stream",
          "name": "stderr",
          "text": [
            "\u001b[34m\u001b[1mwandb\u001b[0m: \\ 1 of 99 files downloaded...\r\u001b[34m\u001b[1mwandb\u001b[0m:   99 of 99 files downloaded.  \n"
          ]
        },
        {
          "output_type": "stream",
          "name": "stdout",
          "text": [
            "Artifacts downloaded cnt per type: {'trained_models': 1}\n",
            "Artifacts folders per type: {'trained_models': [PosixPath('trained_models-dcl4jcb8:v0')]}\n",
            "\n",
            "\n",
            "Evaluating for `test` using `^VIX`: 56.650001525878906\n",
            "Init with NEW env state:\n",
            "\t initial_amount: 50000\n",
            "\t initial_stocks: None\n",
            "Initializing eval env... Done.\n",
            "\t initial_total_asset: 50000.0\n"
          ]
        },
        {
          "output_type": "display_data",
          "data": {
            "text/plain": [
              "<IPython.core.display.HTML object>"
            ],
            "text/html": []
          },
          "metadata": {}
        },
        {
          "output_type": "display_data",
          "data": {
            "text/plain": [
              "<IPython.core.display.HTML object>"
            ],
            "text/html": [
              "<br>    <style><br>        .wandb-row {<br>            display: flex;<br>            flex-direction: row;<br>            flex-wrap: wrap;<br>            justify-content: flex-start;<br>            width: 100%;<br>        }<br>        .wandb-col {<br>            display: flex;<br>            flex-direction: column;<br>            flex-basis: 100%;<br>            flex: 1;<br>            padding: 10px;<br>        }<br>    </style><br><div class=\"wandb-row\"><div class=\"wandb-col\"><h3>Run summary:</h3><br/><table class=\"wandb\"><tr><td>config_hash</td><td>1ea39a67636c8e66b006...</td></tr><tr><td>run.duration_minutes</td><td>3.9</td></tr><tr><td>test.q_100.agg_ann_return/ppo</td><td>11.96</td></tr><tr><td>test.q_100.agg_cum_return/ppo</td><td>3.85</td></tr><tr><td>test.q_100.agg_mdd/ppo</td><td>-11.77</td></tr><tr><td>test.q_100.agg_sharpe_ratio/ppo</td><td>0.48</td></tr><tr><td>test.q_100.ann_return/ppo</td><td>25.35</td></tr><tr><td>test.q_100.cum_return/ppo</td><td>3.85</td></tr><tr><td>test.q_100.end_amount/ppo</td><td>8.27</td></tr><tr><td>test.q_100.end_total_asset/ppo</td><td>51924.01</td></tr><tr><td>test.q_100.mdd/ppo</td><td>-7.87</td></tr><tr><td>test.q_100.sharpe_ratio/ppo</td><td>0.86</td></tr><tr><td>test.q_100.vix_historical_mean/ppo</td><td>16.95</td></tr><tr><td>test.q_100.vix_insample/ppo</td><td>56.65</td></tr><tr><td>test.q_100.vix_lookback_window/ppo</td><td>63</td></tr><tr><td>test.q_50.agg_ann_return/ppo</td><td>11.96</td></tr><tr><td>test.q_50.agg_cum_return/ppo</td><td>3.85</td></tr><tr><td>test.q_50.agg_mdd/ppo</td><td>-9.07</td></tr><tr><td>test.q_50.agg_sharpe_ratio/ppo</td><td>0.6</td></tr><tr><td>test.q_50.ann_return/ppo</td><td>25.35</td></tr><tr><td>test.q_50.cum_return/ppo</td><td>3.85</td></tr><tr><td>test.q_50.end_amount/ppo</td><td>8.27</td></tr><tr><td>test.q_50.end_total_asset/ppo</td><td>51924.01</td></tr><tr><td>test.q_50.mdd/ppo</td><td>-7.87</td></tr><tr><td>test.q_50.sharpe_ratio/ppo</td><td>0.86</td></tr><tr><td>test.q_50.vix_historical_mean/ppo</td><td>16.95</td></tr><tr><td>test.q_50.vix_insample/ppo</td><td>56.65</td></tr><tr><td>test.q_50.vix_lookback_window/ppo</td><td>63</td></tr><tr><td>test.q_85.agg_ann_return/ppo</td><td>11.96</td></tr><tr><td>test.q_85.agg_cum_return/ppo</td><td>3.85</td></tr><tr><td>test.q_85.agg_mdd/ppo</td><td>-11.77</td></tr><tr><td>test.q_85.agg_sharpe_ratio/ppo</td><td>0.48</td></tr><tr><td>test.q_85.ann_return/ppo</td><td>25.35</td></tr><tr><td>test.q_85.cum_return/ppo</td><td>3.85</td></tr><tr><td>test.q_85.end_amount/ppo</td><td>8.27</td></tr><tr><td>test.q_85.end_total_asset/ppo</td><td>51924.01</td></tr><tr><td>test.q_85.mdd/ppo</td><td>-7.87</td></tr><tr><td>test.q_85.sharpe_ratio/ppo</td><td>0.86</td></tr><tr><td>test.q_85.vix_historical_mean/ppo</td><td>16.95</td></tr><tr><td>test.q_85.vix_insample/ppo</td><td>56.65</td></tr><tr><td>test.q_85.vix_lookback_window/ppo</td><td>63</td></tr><tr><td>test.q_90.agg_ann_return/ppo</td><td>11.96</td></tr><tr><td>test.q_90.agg_cum_return/ppo</td><td>3.85</td></tr><tr><td>test.q_90.agg_mdd/ppo</td><td>-11.77</td></tr><tr><td>test.q_90.agg_sharpe_ratio/ppo</td><td>0.48</td></tr><tr><td>test.q_90.ann_return/ppo</td><td>25.35</td></tr><tr><td>test.q_90.cum_return/ppo</td><td>3.85</td></tr><tr><td>test.q_90.end_amount/ppo</td><td>8.27</td></tr><tr><td>test.q_90.end_total_asset/ppo</td><td>51924.01</td></tr><tr><td>test.q_90.mdd/ppo</td><td>-7.87</td></tr><tr><td>test.q_90.sharpe_ratio/ppo</td><td>0.86</td></tr><tr><td>test.q_90.vix_historical_mean/ppo</td><td>16.95</td></tr><tr><td>test.q_90.vix_insample/ppo</td><td>56.65</td></tr><tr><td>test.q_90.vix_lookback_window/ppo</td><td>63</td></tr><tr><td>test.q_95.agg_ann_return/ppo</td><td>11.96</td></tr><tr><td>test.q_95.agg_cum_return/ppo</td><td>3.85</td></tr><tr><td>test.q_95.agg_mdd/ppo</td><td>-11.77</td></tr><tr><td>test.q_95.agg_sharpe_ratio/ppo</td><td>0.48</td></tr><tr><td>test.q_95.ann_return/ppo</td><td>25.35</td></tr><tr><td>test.q_95.cum_return/ppo</td><td>3.85</td></tr><tr><td>test.q_95.end_amount/ppo</td><td>8.27</td></tr><tr><td>test.q_95.end_total_asset/ppo</td><td>51924.01</td></tr><tr><td>test.q_95.mdd/ppo</td><td>-7.87</td></tr><tr><td>test.q_95.sharpe_ratio/ppo</td><td>0.86</td></tr><tr><td>test.q_95.vix_historical_mean/ppo</td><td>16.95</td></tr><tr><td>test.q_95.vix_insample/ppo</td><td>56.65</td></tr><tr><td>test.q_95.vix_lookback_window/ppo</td><td>63</td></tr><tr><td>test.vix.ann_return/ppo</td><td>2.19</td></tr><tr><td>test.vix.cum_return/ppo</td><td>0.39</td></tr><tr><td>test.vix.end_amount/ppo</td><td>21576.7</td></tr><tr><td>test.vix.end_total_asset/ppo</td><td>53498.4</td></tr><tr><td>test.vix.mdd/ppo</td><td>-3.75</td></tr><tr><td>test.vix.sharpe_ratio/ppo</td><td>0.19</td></tr><tr><td>test.vix.vix/ppo</td><td>21</td></tr><tr><td>test.vix_14.ann_return/ppo</td><td>-11.56</td></tr><tr><td>test.vix_14.cum_return/ppo</td><td>-2.16</td></tr><tr><td>test.vix_14.end_amount/ppo</td><td>49047.56</td></tr><tr><td>test.vix_14.end_total_asset/ppo</td><td>49047.56</td></tr><tr><td>test.vix_14.mdd/ppo</td><td>-2.36</td></tr><tr><td>test.vix_14.sharpe_ratio/ppo</td><td>-3.51</td></tr><tr><td>test.vix_15.ann_return/ppo</td><td>-13.7</td></tr><tr><td>test.vix_15.cum_return/ppo</td><td>-2.59</td></tr><tr><td>test.vix_15.end_amount/ppo</td><td>48705.04</td></tr><tr><td>test.vix_15.end_total_asset/ppo</td><td>48705.04</td></tr><tr><td>test.vix_15.mdd/ppo</td><td>-4.12</td></tr><tr><td>test.vix_15.sharpe_ratio/ppo</td><td>-1.79</td></tr><tr><td>test.vix_16.ann_return/ppo</td><td>-22.31</td></tr><tr><td>test.vix_16.cum_return/ppo</td><td>-4.4</td></tr><tr><td>test.vix_16.end_amount/ppo</td><td>34362.11</td></tr><tr><td>test.vix_16.end_total_asset/ppo</td><td>48337.25</td></tr><tr><td>test.vix_16.mdd/ppo</td><td>-6.25</td></tr><tr><td>test.vix_16.sharpe_ratio/ppo</td><td>-2.04</td></tr><tr><td>test.vix_17.ann_return/ppo</td><td>3.357286066807533e+21</td></tr><tr><td>test.vix_17.cum_return/ppo</td><td>299975.68</td></tr><tr><td>test.vix_17.end_amount/ppo</td><td>30443.67</td></tr><tr><td>test.vix_17.end_total_asset/ppo</td><td>52483.24</td></tr><tr><td>test.vix_17.mdd/ppo</td><td>-4.39</td></tr><tr><td>test.vix_17.sharpe_ratio/ppo</td><td>1.98</td></tr><tr><td>test.vix_18.ann_return/ppo</td><td>6.6</td></tr><tr><td>test.vix_18.cum_return/ppo</td><td>1.14</td></tr><tr><td>test.vix_18.end_amount/ppo</td><td>28854.86</td></tr><tr><td>test.vix_18.end_total_asset/ppo</td><td>50572.14</td></tr><tr><td>test.vix_18.mdd/ppo</td><td>-4.48</td></tr><tr><td>test.vix_18.sharpe_ratio/ppo</td><td>0.49</td></tr><tr><td>test.vix_19.ann_return/ppo</td><td>-6.7</td></tr><tr><td>test.vix_19.cum_return/ppo</td><td>-1.23</td></tr><tr><td>test.vix_19.end_amount/ppo</td><td>20556.17</td></tr><tr><td>test.vix_19.end_total_asset/ppo</td><td>51917.3</td></tr><tr><td>test.vix_19.mdd/ppo</td><td>-5.64</td></tr><tr><td>test.vix_19.sharpe_ratio/ppo</td><td>-0.37</td></tr><tr><td>test.vix_21.ann_return/ppo</td><td>2.19</td></tr><tr><td>test.vix_21.cum_return/ppo</td><td>0.39</td></tr><tr><td>test.vix_21.end_amount/ppo</td><td>21576.7</td></tr><tr><td>test.vix_21.end_total_asset/ppo</td><td>53498.4</td></tr><tr><td>test.vix_21.mdd/ppo</td><td>-3.75</td></tr><tr><td>test.vix_21.sharpe_ratio/ppo</td><td>0.19</td></tr><tr><td>test.vix_22.ann_return/ppo</td><td>-10.36</td></tr><tr><td>test.vix_22.cum_return/ppo</td><td>-1.93</td></tr><tr><td>test.vix_22.end_amount/ppo</td><td>20787</td></tr><tr><td>test.vix_22.end_total_asset/ppo</td><td>52376.63</td></tr><tr><td>test.vix_22.mdd/ppo</td><td>-4.96</td></tr><tr><td>test.vix_22.sharpe_ratio/ppo</td><td>-0.49</td></tr><tr><td>test.vix_23.ann_return/ppo</td><td>-11.74</td></tr><tr><td>test.vix_23.cum_return/ppo</td><td>-2.2</td></tr><tr><td>test.vix_23.end_amount/ppo</td><td>20198.63</td></tr><tr><td>test.vix_23.end_total_asset/ppo</td><td>51559.76</td></tr><tr><td>test.vix_23.mdd/ppo</td><td>-5.07</td></tr><tr><td>test.vix_23.sharpe_ratio/ppo</td><td>-0.57</td></tr><tr><td>test.vix_25.ann_return/ppo</td><td>-13.51</td></tr><tr><td>test.vix_25.cum_return/ppo</td><td>-2.55</td></tr><tr><td>test.vix_25.end_amount/ppo</td><td>11167.42</td></tr><tr><td>test.vix_25.end_total_asset/ppo</td><td>50459.11</td></tr><tr><td>test.vix_25.mdd/ppo</td><td>-5.24</td></tr><tr><td>test.vix_25.sharpe_ratio/ppo</td><td>-0.63</td></tr><tr><td>test.vix_26.ann_return/ppo</td><td>5.72</td></tr><tr><td>test.vix_26.cum_return/ppo</td><td>1</td></tr><tr><td>test.vix_26.end_amount/ppo</td><td>14.67</td></tr><tr><td>test.vix_26.end_total_asset/ppo</td><td>52464.53</td></tr><tr><td>test.vix_26.mdd/ppo</td><td>-7.38</td></tr><tr><td>test.vix_26.sharpe_ratio/ppo</td><td>0.32</td></tr><tr><td>test.vix_27.ann_return/ppo</td><td>10.54</td></tr><tr><td>test.vix_27.cum_return/ppo</td><td>1.8</td></tr><tr><td>test.vix_27.end_amount/ppo</td><td>15.26</td></tr><tr><td>test.vix_27.end_total_asset/ppo</td><td>52676.14</td></tr><tr><td>test.vix_27.mdd/ppo</td><td>-6.45</td></tr><tr><td>test.vix_27.sharpe_ratio/ppo</td><td>0.54</td></tr><tr><td>test.vix_best.agg_ann_return/ppo</td><td>16.17</td></tr><tr><td>test.vix_best.agg_cum_return/ppo</td><td>5.35</td></tr><tr><td>test.vix_best.agg_mdd/ppo</td><td>-6.45</td></tr><tr><td>test.vix_best.agg_sharpe_ratio/ppo</td><td>0.99</td></tr><tr><td>test.vix_best.ann_return/ppo</td><td>3.357286066807533e+21</td></tr><tr><td>test.vix_best.cum_return/ppo</td><td>299975.68</td></tr><tr><td>test.vix_best.end_amount/ppo</td><td>30443.67</td></tr><tr><td>test.vix_best.mdd/ppo</td><td>-4.39</td></tr><tr><td>test.vix_best.sharpe_ratio/ppo</td><td>1.98</td></tr><tr><td>test.vix_best.vix/ppo</td><td>17</td></tr><tr><td>test.vix_chosen.agg_ann_return/ppo</td><td>21.45</td></tr><tr><td>test.vix_chosen.agg_cum_return/ppo</td><td>7</td></tr><tr><td>test.vix_chosen.agg_mdd/ppo</td><td>-3.75</td></tr><tr><td>test.vix_chosen.agg_sharpe_ratio/ppo</td><td>1.3</td></tr><tr><td>test.vix_chosen.ann_return/ppo</td><td>3.357286066807533e+21</td></tr><tr><td>test.vix_chosen.cum_return/ppo</td><td>299975.68</td></tr><tr><td>test.vix_chosen.end_amount/ppo</td><td>30443.67</td></tr><tr><td>test.vix_chosen.mdd/ppo</td><td>-4.39</td></tr><tr><td>test.vix_chosen.sharpe_ratio/ppo</td><td>1.98</td></tr><tr><td>test.vix_chosen.vix/ppo</td><td>17</td></tr><tr><td>train.ann_return/ppo</td><td>46.90632</td></tr><tr><td>train.cum_return/ppo</td><td>210.29248</td></tr><tr><td>train.duration_minutes/ppo</td><td>3.6</td></tr><tr><td>train.mdd/ppo</td><td>-34.83934</td></tr><tr><td>train.sharpe_ratio/ppo</td><td>1.1192</td></tr><tr><td>val.ann_return/ppo</td><td>24363.60079</td></tr><tr><td>val.cum_return/ppo</td><td>12.14905</td></tr><tr><td>val.mdd/ppo</td><td>-4.43857</td></tr><tr><td>val.num_pretrain_iters</td><td>8</td></tr><tr><td>val.q_90.ann_return/ppo</td><td>12.6</td></tr><tr><td>val.q_90.cum_return/ppo</td><td>2.1</td></tr><tr><td>val.q_90.end_amount/ppo</td><td>1.45</td></tr><tr><td>val.q_90.end_total_asset/ppo</td><td>51051.32</td></tr><tr><td>val.q_90.mdd/ppo</td><td>-6.72</td></tr><tr><td>val.q_90.sharpe_ratio/ppo</td><td>0.6</td></tr><tr><td>val.q_90.vix_historical_mean/ppo</td><td>16.95</td></tr><tr><td>val.q_90.vix_insample/ppo</td><td>56.65</td></tr><tr><td>val.q_90.vix_lookback_window/ppo</td><td>63</td></tr><tr><td>val.sharpe_ratio/ppo</td><td>5.90016</td></tr><tr><td>val.vix.ann_return/ppo</td><td>45.59</td></tr><tr><td>val.vix.cum_return/ppo</td><td>6.59</td></tr><tr><td>val.vix.end_amount/ppo</td><td>1.53</td></tr><tr><td>val.vix.end_total_asset/ppo</td><td>53294.14</td></tr><tr><td>val.vix.mdd/ppo</td><td>-1.63</td></tr><tr><td>val.vix.sharpe_ratio/ppo</td><td>3.22</td></tr><tr><td>val.vix.vix/ppo</td><td>21</td></tr><tr><td>val.vix_14.ann_return/ppo</td><td>0.08</td></tr><tr><td>val.vix_14.cum_return/ppo</td><td>0.01</td></tr><tr><td>val.vix_14.end_amount/ppo</td><td>21989.59</td></tr><tr><td>val.vix_14.end_total_asset/ppo</td><td>50007.09</td></tr><tr><td>val.vix_14.mdd/ppo</td><td>-0.08</td></tr><tr><td>val.vix_14.sharpe_ratio/ppo</td><td>0.17</td></tr><tr><td>val.vix_16.ann_return/ppo</td><td>9.55</td></tr><tr><td>val.vix_16.cum_return/ppo</td><td>1.56</td></tr><tr><td>val.vix_16.end_amount/ppo</td><td>0.87</td></tr><tr><td>val.vix_16.end_total_asset/ppo</td><td>50781.07</td></tr><tr><td>val.vix_16.mdd/ppo</td><td>-0.65</td></tr><tr><td>val.vix_16.sharpe_ratio/ppo</td><td>1.95</td></tr><tr><td>val.vix_17.ann_return/ppo</td><td>11.1</td></tr><tr><td>val.vix_17.cum_return/ppo</td><td>1.8</td></tr><tr><td>val.vix_17.end_amount/ppo</td><td>5.29</td></tr><tr><td>val.vix_17.end_total_asset/ppo</td><td>50902.39</td></tr><tr><td>val.vix_17.mdd/ppo</td><td>-0.82</td></tr><tr><td>val.vix_17.sharpe_ratio/ppo</td><td>2.15</td></tr><tr><td>val.vix_19.ann_return/ppo</td><td>29.59</td></tr><tr><td>val.vix_19.cum_return/ppo</td><td>4.5</td></tr><tr><td>val.vix_19.end_amount/ppo</td><td>13.85</td></tr><tr><td>val.vix_19.end_total_asset/ppo</td><td>52250.71</td></tr><tr><td>val.vix_19.mdd/ppo</td><td>-0.95</td></tr><tr><td>val.vix_19.sharpe_ratio/ppo</td><td>3.15</td></tr><tr><td>val.vix_21.ann_return/ppo</td><td>45.59</td></tr><tr><td>val.vix_21.cum_return/ppo</td><td>6.59</td></tr><tr><td>val.vix_21.end_amount/ppo</td><td>1.53</td></tr><tr><td>val.vix_21.end_total_asset/ppo</td><td>53294.14</td></tr><tr><td>val.vix_21.mdd/ppo</td><td>-1.63</td></tr><tr><td>val.vix_21.sharpe_ratio/ppo</td><td>3.22</td></tr><tr><td>val.vix_22.ann_return/ppo</td><td>48.08</td></tr><tr><td>val.vix_22.cum_return/ppo</td><td>6.9</td></tr><tr><td>val.vix_22.end_amount/ppo</td><td>12.4</td></tr><tr><td>val.vix_22.end_total_asset/ppo</td><td>53448.23</td></tr><tr><td>val.vix_22.mdd/ppo</td><td>-1.66</td></tr><tr><td>val.vix_22.sharpe_ratio/ppo</td><td>2.91</td></tr><tr><td>val.vix_24.ann_return/ppo</td><td>27.95</td></tr><tr><td>val.vix_24.cum_return/ppo</td><td>4.28</td></tr><tr><td>val.vix_24.end_amount/ppo</td><td>18.92</td></tr><tr><td>val.vix_24.end_total_asset/ppo</td><td>52137.98</td></tr><tr><td>val.vix_24.mdd/ppo</td><td>-3.82</td></tr><tr><td>val.vix_24.sharpe_ratio/ppo</td><td>1.42</td></tr><tr><td>val.vix_25.ann_return/ppo</td><td>31.98</td></tr><tr><td>val.vix_25.cum_return/ppo</td><td>4.83</td></tr><tr><td>val.vix_25.end_amount/ppo</td><td>15.88</td></tr><tr><td>val.vix_25.end_total_asset/ppo</td><td>52412.81</td></tr><tr><td>val.vix_25.mdd/ppo</td><td>-4.25</td></tr><tr><td>val.vix_25.sharpe_ratio/ppo</td><td>1.38</td></tr><tr><td>val.vix_27.ann_return/ppo</td><td>15.83</td></tr><tr><td>val.vix_27.cum_return/ppo</td><td>2.53</td></tr><tr><td>val.vix_27.end_amount/ppo</td><td>15.87</td></tr><tr><td>val.vix_27.end_total_asset/ppo</td><td>51263.88</td></tr><tr><td>val.vix_27.mdd/ppo</td><td>-6.36</td></tr><tr><td>val.vix_27.sharpe_ratio/ppo</td><td>0.68</td></tr><tr><td>val.vix_29.ann_return/ppo</td><td>61.84</td></tr><tr><td>val.vix_29.cum_return/ppo</td><td>8.52</td></tr><tr><td>val.vix_29.end_amount/ppo</td><td>18.07</td></tr><tr><td>val.vix_29.end_total_asset/ppo</td><td>54260.67</td></tr><tr><td>val.vix_29.mdd/ppo</td><td>-7.19</td></tr><tr><td>val.vix_29.sharpe_ratio/ppo</td><td>1.65</td></tr><tr><td>val.vix_30.ann_return/ppo</td><td>61.98</td></tr><tr><td>val.vix_30.cum_return/ppo</td><td>8.54</td></tr><tr><td>val.vix_30.end_amount/ppo</td><td>18.19</td></tr><tr><td>val.vix_30.end_total_asset/ppo</td><td>54268.84</td></tr><tr><td>val.vix_30.mdd/ppo</td><td>-7.19</td></tr><tr><td>val.vix_30.sharpe_ratio/ppo</td><td>1.65</td></tr><tr><td>val.vix_best.agg_ann_return/ppo</td><td>9.41</td></tr><tr><td>val.vix_best.agg_cum_return/ppo</td><td>3.15</td></tr><tr><td>val.vix_best.agg_mdd/ppo</td><td>-10.46</td></tr><tr><td>val.vix_best.agg_sharpe_ratio/ppo</td><td>0.44</td></tr><tr><td>val.vix_best.ann_return/ppo</td><td>20.91</td></tr><tr><td>val.vix_best.cum_return/ppo</td><td>3.28</td></tr><tr><td>val.vix_best.end_amount/ppo</td><td>15.35</td></tr><tr><td>val.vix_best.mdd/ppo</td><td>-0.81</td></tr><tr><td>val.vix_best.sharpe_ratio/ppo</td><td>2.99</td></tr><tr><td>val.vix_best.vix/ppo</td><td>17</td></tr></table><br/></div></div>"
            ]
          },
          "metadata": {}
        },
        {
          "output_type": "display_data",
          "data": {
            "text/plain": [
              "<IPython.core.display.HTML object>"
            ],
            "text/html": [
              " View run <strong style=\"color:#cdcd00\">DOW-30 | 2015-10 | 2016 Q1 | 2016 Q2 | dcl4jcb8</strong> at: <a href='https://wandb.ai/overfit1010/finrl-dt-replicate/runs/dcl4jcb8' target=\"_blank\">https://wandb.ai/overfit1010/finrl-dt-replicate/runs/dcl4jcb8</a><br> View project at: <a href='https://wandb.ai/overfit1010/finrl-dt-replicate' target=\"_blank\">https://wandb.ai/overfit1010/finrl-dt-replicate</a><br>Synced 5 W&B file(s), 0 media file(s), 0 artifact file(s) and 0 other file(s)"
            ]
          },
          "metadata": {}
        },
        {
          "output_type": "display_data",
          "data": {
            "text/plain": [
              "<IPython.core.display.HTML object>"
            ],
            "text/html": [
              "Find logs at: <code>./wandb/run-20250220_160622-dcl4jcb8/logs</code>"
            ]
          },
          "metadata": {}
        },
        {
          "output_type": "stream",
          "name": "stdout",
          "text": [
            "\n",
            "Run #2: rbug5oxn\n",
            "test_start_date 2016-07-01 00:00:00\n",
            "val_start_date 2016-04-01 00:00:00\n",
            "Threshold: historical: 20.4 | insample: 56.65\n",
            "turbulence_threshold: 56.65\n"
          ]
        },
        {
          "output_type": "display_data",
          "data": {
            "text/plain": [
              "<IPython.core.display.HTML object>"
            ],
            "text/html": [
              "Tracking run with wandb version 0.19.6"
            ]
          },
          "metadata": {}
        },
        {
          "output_type": "display_data",
          "data": {
            "text/plain": [
              "<IPython.core.display.HTML object>"
            ],
            "text/html": [
              "Run data is saved locally in <code>/content/wandb/run-20250220_160630-rbug5oxn</code>"
            ]
          },
          "metadata": {}
        },
        {
          "output_type": "display_data",
          "data": {
            "text/plain": [
              "<IPython.core.display.HTML object>"
            ],
            "text/html": [
              "Resuming run <strong><a href='https://wandb.ai/overfit1010/finrl-dt-replicate/runs/rbug5oxn' target=\"_blank\">DOW-30 | 2016-01 | 2016 Q2 | 2016 Q3 | rbug5oxn</a></strong> to <a href='https://wandb.ai/overfit1010/finrl-dt-replicate' target=\"_blank\">Weights & Biases</a> (<a href='https://wandb.me/developer-guide' target=\"_blank\">docs</a>)<br>Sweep page: <a href='https://wandb.ai/overfit1010/finrl-dt-replicate/sweeps/yd7fz9as' target=\"_blank\">https://wandb.ai/overfit1010/finrl-dt-replicate/sweeps/yd7fz9as</a>"
            ]
          },
          "metadata": {}
        },
        {
          "output_type": "display_data",
          "data": {
            "text/plain": [
              "<IPython.core.display.HTML object>"
            ],
            "text/html": [
              " View project at <a href='https://wandb.ai/overfit1010/finrl-dt-replicate' target=\"_blank\">https://wandb.ai/overfit1010/finrl-dt-replicate</a>"
            ]
          },
          "metadata": {}
        },
        {
          "output_type": "display_data",
          "data": {
            "text/plain": [
              "<IPython.core.display.HTML object>"
            ],
            "text/html": [
              " View sweep at <a href='https://wandb.ai/overfit1010/finrl-dt-replicate/sweeps/yd7fz9as' target=\"_blank\">https://wandb.ai/overfit1010/finrl-dt-replicate/sweeps/yd7fz9as</a>"
            ]
          },
          "metadata": {}
        },
        {
          "output_type": "display_data",
          "data": {
            "text/plain": [
              "<IPython.core.display.HTML object>"
            ],
            "text/html": [
              " View run at <a href='https://wandb.ai/overfit1010/finrl-dt-replicate/runs/rbug5oxn' target=\"_blank\">https://wandb.ai/overfit1010/finrl-dt-replicate/runs/rbug5oxn</a>"
            ]
          },
          "metadata": {}
        },
        {
          "output_type": "stream",
          "name": "stdout",
          "text": [
            "Downloading artifacts to trained_models-rbug5oxn:v0\n"
          ]
        },
        {
          "output_type": "stream",
          "name": "stderr",
          "text": [
            "\u001b[34m\u001b[1mwandb\u001b[0m: \\ 1 of 99 files downloaded...\r\u001b[34m\u001b[1mwandb\u001b[0m:   99 of 99 files downloaded.  \n"
          ]
        },
        {
          "output_type": "stream",
          "name": "stdout",
          "text": [
            "Artifacts downloaded cnt per type: {'trained_models': 1}\n",
            "Artifacts folders per type: {'trained_models': [PosixPath('trained_models-rbug5oxn:v0')]}\n",
            "\n",
            "\n",
            "Evaluating for `test` using `^VIX`: 56.650001525878906\n",
            "Init with NEW env state:\n",
            "\t initial_amount: 50000\n",
            "\t initial_stocks: None\n",
            "Initializing eval env... Done.\n",
            "\t initial_total_asset: 50000.0\n",
            "test_start_date 2016-07-01 00:00:00\n",
            "val_start_date 2016-04-01 00:00:00\n",
            "Threshold: historical: 20.4 | insample: 56.65\n",
            "turbulence_threshold: 56.65\n",
            "Downloading artifacts to trained_models-rbug5oxn:v0\n"
          ]
        },
        {
          "output_type": "stream",
          "name": "stderr",
          "text": [
            "\u001b[34m\u001b[1mwandb\u001b[0m: \\ 1 of 99 files downloaded...\r\u001b[34m\u001b[1mwandb\u001b[0m:   99 of 99 files downloaded.  \n"
          ]
        },
        {
          "output_type": "stream",
          "name": "stdout",
          "text": [
            "Artifacts downloaded cnt per type: {'trained_models': 1}\n",
            "Artifacts folders per type: {'trained_models': [PosixPath('trained_models-rbug5oxn:v0')]}\n",
            "\n",
            "\n",
            "Evaluating for `test` using `^VIX`: 56.650001525878906\n",
            "Init with NEW env state:\n",
            "\t initial_amount: 50000\n",
            "\t initial_stocks: None\n",
            "Initializing eval env... Done.\n",
            "\t initial_total_asset: 50000.0\n"
          ]
        },
        {
          "output_type": "display_data",
          "data": {
            "text/plain": [
              "<IPython.core.display.HTML object>"
            ],
            "text/html": []
          },
          "metadata": {}
        },
        {
          "output_type": "display_data",
          "data": {
            "text/plain": [
              "<IPython.core.display.HTML object>"
            ],
            "text/html": [
              "<br>    <style><br>        .wandb-row {<br>            display: flex;<br>            flex-direction: row;<br>            flex-wrap: wrap;<br>            justify-content: flex-start;<br>            width: 100%;<br>        }<br>        .wandb-col {<br>            display: flex;<br>            flex-direction: column;<br>            flex-basis: 100%;<br>            flex: 1;<br>            padding: 10px;<br>        }<br>    </style><br><div class=\"wandb-row\"><div class=\"wandb-col\"><h3>Run summary:</h3><br/><table class=\"wandb\"><tr><td>config_hash</td><td>1ea39a67636c8e66b006...</td></tr><tr><td>run.duration_minutes</td><td>4</td></tr><tr><td>test.q_100.agg_ann_return/ppo</td><td>8.89</td></tr><tr><td>test.q_100.agg_cum_return/ppo</td><td>4.36</td></tr><tr><td>test.q_100.agg_mdd/ppo</td><td>-11.77</td></tr><tr><td>test.q_100.agg_sharpe_ratio/ppo</td><td>0.39</td></tr><tr><td>test.q_100.ann_return/ppo</td><td>29.11</td></tr><tr><td>test.q_100.cum_return/ppo</td><td>4.36</td></tr><tr><td>test.q_100.end_amount/ppo</td><td>17.21</td></tr><tr><td>test.q_100.end_total_asset/ppo</td><td>52181.06</td></tr><tr><td>test.q_100.mdd/ppo</td><td>-6.27</td></tr><tr><td>test.q_100.sharpe_ratio/ppo</td><td>1.02</td></tr><tr><td>test.q_100.vix_historical_mean/ppo</td><td>20.4</td></tr><tr><td>test.q_100.vix_insample/ppo</td><td>56.65</td></tr><tr><td>test.q_100.vix_lookback_window/ppo</td><td>63</td></tr><tr><td>test.q_50.agg_ann_return/ppo</td><td>8.89</td></tr><tr><td>test.q_50.agg_cum_return/ppo</td><td>4.36</td></tr><tr><td>test.q_50.agg_mdd/ppo</td><td>-9.77</td></tr><tr><td>test.q_50.agg_sharpe_ratio/ppo</td><td>0.43</td></tr><tr><td>test.q_50.ann_return/ppo</td><td>29.11</td></tr><tr><td>test.q_50.cum_return/ppo</td><td>4.36</td></tr><tr><td>test.q_50.end_amount/ppo</td><td>17.21</td></tr><tr><td>test.q_50.end_total_asset/ppo</td><td>52181.06</td></tr><tr><td>test.q_50.mdd/ppo</td><td>-6.27</td></tr><tr><td>test.q_50.sharpe_ratio/ppo</td><td>1.02</td></tr><tr><td>test.q_50.vix_historical_mean/ppo</td><td>20.4</td></tr><tr><td>test.q_50.vix_insample/ppo</td><td>56.65</td></tr><tr><td>test.q_50.vix_lookback_window/ppo</td><td>63</td></tr><tr><td>test.q_85.agg_ann_return/ppo</td><td>8.89</td></tr><tr><td>test.q_85.agg_cum_return/ppo</td><td>4.36</td></tr><tr><td>test.q_85.agg_mdd/ppo</td><td>-11.77</td></tr><tr><td>test.q_85.agg_sharpe_ratio/ppo</td><td>0.39</td></tr><tr><td>test.q_85.ann_return/ppo</td><td>29.11</td></tr><tr><td>test.q_85.cum_return/ppo</td><td>4.36</td></tr><tr><td>test.q_85.end_amount/ppo</td><td>17.21</td></tr><tr><td>test.q_85.end_total_asset/ppo</td><td>52181.06</td></tr><tr><td>test.q_85.mdd/ppo</td><td>-6.27</td></tr><tr><td>test.q_85.sharpe_ratio/ppo</td><td>1.02</td></tr><tr><td>test.q_85.vix_historical_mean/ppo</td><td>20.4</td></tr><tr><td>test.q_85.vix_insample/ppo</td><td>56.65</td></tr><tr><td>test.q_85.vix_lookback_window/ppo</td><td>63</td></tr><tr><td>test.q_90.agg_ann_return/ppo</td><td>8.89</td></tr><tr><td>test.q_90.agg_cum_return/ppo</td><td>4.36</td></tr><tr><td>test.q_90.agg_mdd/ppo</td><td>-11.77</td></tr><tr><td>test.q_90.agg_sharpe_ratio/ppo</td><td>0.39</td></tr><tr><td>test.q_90.ann_return/ppo</td><td>29.11</td></tr><tr><td>test.q_90.cum_return/ppo</td><td>4.36</td></tr><tr><td>test.q_90.end_amount/ppo</td><td>17.21</td></tr><tr><td>test.q_90.end_total_asset/ppo</td><td>52181.06</td></tr><tr><td>test.q_90.mdd/ppo</td><td>-6.27</td></tr><tr><td>test.q_90.sharpe_ratio/ppo</td><td>1.02</td></tr><tr><td>test.q_90.vix_historical_mean/ppo</td><td>20.4</td></tr><tr><td>test.q_90.vix_insample/ppo</td><td>56.65</td></tr><tr><td>test.q_90.vix_lookback_window/ppo</td><td>63</td></tr><tr><td>test.q_95.agg_ann_return/ppo</td><td>8.89</td></tr><tr><td>test.q_95.agg_cum_return/ppo</td><td>4.36</td></tr><tr><td>test.q_95.agg_mdd/ppo</td><td>-11.77</td></tr><tr><td>test.q_95.agg_sharpe_ratio/ppo</td><td>0.39</td></tr><tr><td>test.q_95.ann_return/ppo</td><td>29.11</td></tr><tr><td>test.q_95.cum_return/ppo</td><td>4.36</td></tr><tr><td>test.q_95.end_amount/ppo</td><td>17.21</td></tr><tr><td>test.q_95.end_total_asset/ppo</td><td>52181.06</td></tr><tr><td>test.q_95.mdd/ppo</td><td>-6.27</td></tr><tr><td>test.q_95.sharpe_ratio/ppo</td><td>1.02</td></tr><tr><td>test.q_95.vix_historical_mean/ppo</td><td>20.4</td></tr><tr><td>test.q_95.vix_insample/ppo</td><td>56.65</td></tr><tr><td>test.q_95.vix_lookback_window/ppo</td><td>63</td></tr><tr><td>test.vix.ann_return/ppo</td><td>12.26</td></tr><tr><td>test.vix.cum_return/ppo</td><td>2.05</td></tr><tr><td>test.vix.end_amount/ppo</td><td>0.16</td></tr><tr><td>test.vix.end_total_asset/ppo</td><td>51669.1</td></tr><tr><td>test.vix.mdd/ppo</td><td>-3.45</td></tr><tr><td>test.vix.sharpe_ratio/ppo</td><td>0.98</td></tr><tr><td>test.vix.vix/ppo</td><td>18</td></tr><tr><td>test.vix_12.ann_return/ppo</td><td>-4.77</td></tr><tr><td>test.vix_12.cum_return/ppo</td><td>-0.85</td></tr><tr><td>test.vix_12.end_amount/ppo</td><td>49573.57</td></tr><tr><td>test.vix_12.end_total_asset/ppo</td><td>49573.57</td></tr><tr><td>test.vix_12.mdd/ppo</td><td>-0.85</td></tr><tr><td>test.vix_12.sharpe_ratio/ppo</td><td>-4.5</td></tr><tr><td>test.vix_13.ann_return/ppo</td><td>-21.87</td></tr><tr><td>test.vix_13.cum_return/ppo</td><td>-4.24</td></tr><tr><td>test.vix_13.end_amount/ppo</td><td>47882.08</td></tr><tr><td>test.vix_13.end_total_asset/ppo</td><td>47882.08</td></tr><tr><td>test.vix_13.mdd/ppo</td><td>-4.43</td></tr><tr><td>test.vix_13.sharpe_ratio/ppo</td><td>-4.79</td></tr><tr><td>test.vix_14.ann_return/ppo</td><td>-20.04</td></tr><tr><td>test.vix_14.cum_return/ppo</td><td>-3.85</td></tr><tr><td>test.vix_14.end_amount/ppo</td><td>42370.84</td></tr><tr><td>test.vix_14.end_total_asset/ppo</td><td>47161.11</td></tr><tr><td>test.vix_14.mdd/ppo</td><td>-5.04</td></tr><tr><td>test.vix_14.sharpe_ratio/ppo</td><td>-2.54</td></tr><tr><td>test.vix_15.ann_return/ppo</td><td>-8.82</td></tr><tr><td>test.vix_15.cum_return/ppo</td><td>-1.61</td></tr><tr><td>test.vix_15.end_amount/ppo</td><td>14.78</td></tr><tr><td>test.vix_15.end_total_asset/ppo</td><td>47923.22</td></tr><tr><td>test.vix_15.mdd/ppo</td><td>-4.21</td></tr><tr><td>test.vix_15.sharpe_ratio/ppo</td><td>-0.91</td></tr><tr><td>test.vix_16.ann_return/ppo</td><td>-0.68</td></tr><tr><td>test.vix_16.cum_return/ppo</td><td>-0.12</td></tr><tr><td>test.vix_16.end_amount/ppo</td><td>11.29</td></tr><tr><td>test.vix_16.end_total_asset/ppo</td><td>48323.31</td></tr><tr><td>test.vix_16.mdd/ppo</td><td>-3.96</td></tr><tr><td>test.vix_16.sharpe_ratio/ppo</td><td>-0.02</td></tr><tr><td>test.vix_17.ann_return/ppo</td><td>-8.52</td></tr><tr><td>test.vix_17.cum_return/ppo</td><td>-1.55</td></tr><tr><td>test.vix_17.end_amount/ppo</td><td>4.63</td></tr><tr><td>test.vix_17.end_total_asset/ppo</td><td>51729.27</td></tr><tr><td>test.vix_17.mdd/ppo</td><td>-5.31</td></tr><tr><td>test.vix_17.sharpe_ratio/ppo</td><td>-0.8</td></tr><tr><td>test.vix_18.ann_return/ppo</td><td>12.26</td></tr><tr><td>test.vix_18.cum_return/ppo</td><td>2.05</td></tr><tr><td>test.vix_18.end_amount/ppo</td><td>0.16</td></tr><tr><td>test.vix_18.end_total_asset/ppo</td><td>51669.1</td></tr><tr><td>test.vix_18.mdd/ppo</td><td>-3.45</td></tr><tr><td>test.vix_18.sharpe_ratio/ppo</td><td>0.98</td></tr><tr><td>test.vix_19.ann_return/ppo</td><td>2.87</td></tr><tr><td>test.vix_19.cum_return/ppo</td><td>0.5</td></tr><tr><td>test.vix_19.end_amount/ppo</td><td>18.01</td></tr><tr><td>test.vix_19.end_total_asset/ppo</td><td>52246.54</td></tr><tr><td>test.vix_19.mdd/ppo</td><td>-5.01</td></tr><tr><td>test.vix_19.sharpe_ratio/ppo</td><td>0.23</td></tr><tr><td>test.vix_20.ann_return/ppo</td><td>7.4</td></tr><tr><td>test.vix_20.cum_return/ppo</td><td>1.26</td></tr><tr><td>test.vix_20.end_amount/ppo</td><td>15.85</td></tr><tr><td>test.vix_20.end_total_asset/ppo</td><td>50629.89</td></tr><tr><td>test.vix_20.mdd/ppo</td><td>-3.36</td></tr><tr><td>test.vix_20.sharpe_ratio/ppo</td><td>0.57</td></tr><tr><td>test.vix_21.ann_return/ppo</td><td>6.28</td></tr><tr><td>test.vix_21.cum_return/ppo</td><td>1.07</td></tr><tr><td>test.vix_21.mdd/ppo</td><td>-3.67</td></tr><tr><td>test.vix_21.sharpe_ratio/ppo</td><td>0.47</td></tr><tr><td>test.vix_22.ann_return/ppo</td><td>56.27</td></tr><tr><td>test.vix_22.cum_return/ppo</td><td>8.14</td></tr><tr><td>test.vix_22.mdd/ppo</td><td>-2.92</td></tr><tr><td>test.vix_22.sharpe_ratio/ppo</td><td>2.88</td></tr><tr><td>test.vix_23.ann_return/ppo</td><td>56.27</td></tr><tr><td>test.vix_23.cum_return/ppo</td><td>8.14</td></tr><tr><td>test.vix_23.mdd/ppo</td><td>-2.92</td></tr><tr><td>test.vix_23.sharpe_ratio/ppo</td><td>2.88</td></tr><tr><td>test.vix_25.ann_return/ppo</td><td>353233.14</td></tr><tr><td>test.vix_25.cum_return/ppo</td><td>318.94</td></tr><tr><td>test.vix_25.end_amount/ppo</td><td>3.18</td></tr><tr><td>test.vix_25.end_total_asset/ppo</td><td>52423.27</td></tr><tr><td>test.vix_25.mdd/ppo</td><td>-3.02</td></tr><tr><td>test.vix_25.sharpe_ratio/ppo</td><td>2.03</td></tr><tr><td>test.vix_26.ann_return/ppo</td><td>34.9</td></tr><tr><td>test.vix_26.cum_return/ppo</td><td>5.39</td></tr><tr><td>test.vix_26.end_amount/ppo</td><td>7.99</td></tr><tr><td>test.vix_26.end_total_asset/ppo</td><td>53602.67</td></tr><tr><td>test.vix_26.mdd/ppo</td><td>-4.47</td></tr><tr><td>test.vix_26.sharpe_ratio/ppo</td><td>1.81</td></tr><tr><td>test.vix_27.ann_return/ppo</td><td>6.19</td></tr><tr><td>test.vix_27.cum_return/ppo</td><td>1.06</td></tr><tr><td>test.vix_27.mdd/ppo</td><td>-3.68</td></tr><tr><td>test.vix_27.sharpe_ratio/ppo</td><td>0.47</td></tr><tr><td>test.vix_best.agg_ann_return/ppo</td><td>6.48</td></tr><tr><td>test.vix_best.agg_cum_return/ppo</td><td>3.34</td></tr><tr><td>test.vix_best.agg_mdd/ppo</td><td>-6.45</td></tr><tr><td>test.vix_best.agg_sharpe_ratio/ppo</td><td>0.44</td></tr><tr><td>test.vix_best.ann_return/ppo</td><td>2673.06</td></tr><tr><td>test.vix_best.cum_return/ppo</td><td>79.07</td></tr><tr><td>test.vix_best.end_amount/ppo</td><td>0.16</td></tr><tr><td>test.vix_best.mdd/ppo</td><td>-3.45</td></tr><tr><td>test.vix_best.sharpe_ratio/ppo</td><td>2.06</td></tr><tr><td>test.vix_best.vix/ppo</td><td>18</td></tr><tr><td>test.vix_chosen.agg_ann_return/ppo</td><td>6.48</td></tr><tr><td>test.vix_chosen.agg_cum_return/ppo</td><td>3.34</td></tr><tr><td>test.vix_chosen.agg_mdd/ppo</td><td>-7.79</td></tr><tr><td>test.vix_chosen.agg_sharpe_ratio/ppo</td><td>0.43</td></tr><tr><td>test.vix_chosen.ann_return/ppo</td><td>28255.66</td></tr><tr><td>test.vix_chosen.cum_return/ppo</td><td>169.19</td></tr><tr><td>test.vix_chosen.end_amount/ppo</td><td>19.45</td></tr><tr><td>test.vix_chosen.mdd/ppo</td><td>-4.31</td></tr><tr><td>test.vix_chosen.sharpe_ratio/ppo</td><td>2.03</td></tr><tr><td>test.vix_chosen.vix/ppo</td><td>19</td></tr><tr><td>train.ann_return/ppo</td><td>57.18732</td></tr><tr><td>train.cum_return/ppo</td><td>223.896</td></tr><tr><td>train.duration_minutes/ppo</td><td>3.6</td></tr><tr><td>train.mdd/ppo</td><td>-33.50961</td></tr><tr><td>train.sharpe_ratio/ppo</td><td>1.2492</td></tr><tr><td>val.ann_return/ppo</td><td>4.21968</td></tr><tr><td>val.cum_return/ppo</td><td>-1.1073</td></tr><tr><td>val.mdd/ppo</td><td>-5.17254</td></tr><tr><td>val.num_pretrain_iters</td><td>12</td></tr><tr><td>val.sharpe_ratio/ppo</td><td>0.14452</td></tr><tr><td>val.vix.ann_return/ppo</td><td>4.26</td></tr><tr><td>val.vix.cum_return/ppo</td><td>0.75</td></tr><tr><td>val.vix.end_amount/ppo</td><td>30639.97</td></tr><tr><td>val.vix.end_total_asset/ppo</td><td>50372.57</td></tr><tr><td>val.vix.mdd/ppo</td><td>-4.83</td></tr><tr><td>val.vix.sharpe_ratio/ppo</td><td>0.34</td></tr><tr><td>val.vix.vix/ppo</td><td>18</td></tr><tr><td>val.vix_14.ann_return/ppo</td><td>-10.41</td></tr><tr><td>val.vix_14.cum_return/ppo</td><td>-1.94</td></tr><tr><td>val.vix_14.end_amount/ppo</td><td>49031.08</td></tr><tr><td>val.vix_14.end_total_asset/ppo</td><td>49031.08</td></tr><tr><td>val.vix_14.mdd/ppo</td><td>-2.34</td></tr><tr><td>val.vix_14.sharpe_ratio/ppo</td><td>-3.39</td></tr><tr><td>val.vix_15.ann_return/ppo</td><td>-18.38</td></tr><tr><td>val.vix_15.cum_return/ppo</td><td>-3.55</td></tr><tr><td>val.vix_15.end_amount/ppo</td><td>48223.78</td></tr><tr><td>val.vix_15.end_total_asset/ppo</td><td>48223.78</td></tr><tr><td>val.vix_15.mdd/ppo</td><td>-4.47</td></tr><tr><td>val.vix_15.sharpe_ratio/ppo</td><td>-2.81</td></tr><tr><td>val.vix_16.ann_return/ppo</td><td>-21.36</td></tr><tr><td>val.vix_16.cum_return/ppo</td><td>-4.19</td></tr><tr><td>val.vix_16.end_amount/ppo</td><td>35571.89</td></tr><tr><td>val.vix_16.end_total_asset/ppo</td><td>47905.48</td></tr><tr><td>val.vix_16.mdd/ppo</td><td>-5.52</td></tr><tr><td>val.vix_16.sharpe_ratio/ppo</td><td>-2.27</td></tr><tr><td>val.vix_17.ann_return/ppo</td><td>-3.83</td></tr><tr><td>val.vix_17.cum_return/ppo</td><td>-0.68</td></tr><tr><td>val.vix_17.mdd/ppo</td><td>-4.39</td></tr><tr><td>val.vix_17.sharpe_ratio/ppo</td><td>-0.34</td></tr><tr><td>val.vix_18.ann_return/ppo</td><td>4.26</td></tr><tr><td>val.vix_18.cum_return/ppo</td><td>0.75</td></tr><tr><td>val.vix_18.end_amount/ppo</td><td>30639.97</td></tr><tr><td>val.vix_18.end_total_asset/ppo</td><td>50372.57</td></tr><tr><td>val.vix_18.mdd/ppo</td><td>-4.83</td></tr><tr><td>val.vix_18.sharpe_ratio/ppo</td><td>0.34</td></tr><tr><td>val.vix_19.ann_return/ppo</td><td>4.21</td></tr><tr><td>val.vix_19.cum_return/ppo</td><td>0.74</td></tr><tr><td>val.vix_19.end_amount/ppo</td><td>23572.84</td></tr><tr><td>val.vix_19.end_total_asset/ppo</td><td>50368.94</td></tr><tr><td>val.vix_19.mdd/ppo</td><td>-4.83</td></tr><tr><td>val.vix_19.sharpe_ratio/ppo</td><td>0.34</td></tr><tr><td>val.vix_20.ann_return/ppo</td><td>-23.48</td></tr><tr><td>val.vix_20.cum_return/ppo</td><td>-4.58</td></tr><tr><td>val.vix_20.mdd/ppo</td><td>-9.54</td></tr><tr><td>val.vix_20.sharpe_ratio/ppo</td><td>-1.38</td></tr><tr><td>val.vix_21.ann_return/ppo</td><td>3.47</td></tr><tr><td>val.vix_21.cum_return/ppo</td><td>0.61</td></tr><tr><td>val.vix_21.end_amount/ppo</td><td>23429.59</td></tr><tr><td>val.vix_21.end_total_asset/ppo</td><td>50304.65</td></tr><tr><td>val.vix_21.mdd/ppo</td><td>-3.85</td></tr><tr><td>val.vix_21.sharpe_ratio/ppo</td><td>0.29</td></tr><tr><td>val.vix_22.ann_return/ppo</td><td>-8.76</td></tr><tr><td>val.vix_22.cum_return/ppo</td><td>-1.62</td></tr><tr><td>val.vix_22.end_amount/ppo</td><td>22623.86</td></tr><tr><td>val.vix_22.end_total_asset/ppo</td><td>49190.55</td></tr><tr><td>val.vix_22.mdd/ppo</td><td>-4.6</td></tr><tr><td>val.vix_22.sharpe_ratio/ppo</td><td>-0.44</td></tr><tr><td>val.vix_23.ann_return/ppo</td><td>-8.76</td></tr><tr><td>val.vix_23.cum_return/ppo</td><td>-1.62</td></tr><tr><td>val.vix_23.end_amount/ppo</td><td>22623.86</td></tr><tr><td>val.vix_23.end_total_asset/ppo</td><td>49190.55</td></tr><tr><td>val.vix_23.mdd/ppo</td><td>-4.6</td></tr><tr><td>val.vix_23.sharpe_ratio/ppo</td><td>-0.44</td></tr><tr><td>val.vix_24.ann_return/ppo</td><td>2.96</td></tr><tr><td>val.vix_24.cum_return/ppo</td><td>0.51</td></tr><tr><td>val.vix_24.mdd/ppo</td><td>-6.1</td></tr><tr><td>val.vix_24.sharpe_ratio/ppo</td><td>0.21</td></tr><tr><td>val.vix_25.ann_return/ppo</td><td>-7.02</td></tr><tr><td>val.vix_25.cum_return/ppo</td><td>-1.29</td></tr><tr><td>val.vix_25.end_amount/ppo</td><td>14185.56</td></tr><tr><td>val.vix_25.end_total_asset/ppo</td><td>49355.85</td></tr><tr><td>val.vix_25.mdd/ppo</td><td>-4.6</td></tr><tr><td>val.vix_25.sharpe_ratio/ppo</td><td>-0.34</td></tr><tr><td>val.vix_26.ann_return/ppo</td><td>2.86</td></tr><tr><td>val.vix_26.cum_return/ppo</td><td>0.5</td></tr><tr><td>val.vix_26.end_amount/ppo</td><td>12.7</td></tr><tr><td>val.vix_26.end_total_asset/ppo</td><td>50252.11</td></tr><tr><td>val.vix_26.mdd/ppo</td><td>-6.54</td></tr><tr><td>val.vix_26.sharpe_ratio/ppo</td><td>0.21</td></tr><tr><td>val.vix_27.ann_return/ppo</td><td>2.86</td></tr><tr><td>val.vix_27.cum_return/ppo</td><td>0.5</td></tr><tr><td>val.vix_27.end_amount/ppo</td><td>12.7</td></tr><tr><td>val.vix_27.end_total_asset/ppo</td><td>50252.11</td></tr><tr><td>val.vix_27.mdd/ppo</td><td>-6.54</td></tr><tr><td>val.vix_27.sharpe_ratio/ppo</td><td>0.21</td></tr><tr><td>val.vix_best.agg_ann_return/ppo</td><td>2.86</td></tr><tr><td>val.vix_best.agg_cum_return/ppo</td><td>1.48</td></tr><tr><td>val.vix_best.agg_mdd/ppo</td><td>-10.46</td></tr><tr><td>val.vix_best.agg_sharpe_ratio/ppo</td><td>0.2</td></tr><tr><td>val.vix_best.ann_return/ppo</td><td>144845756.4</td></tr><tr><td>val.vix_best.cum_return/ppo</td><td>1150.68</td></tr><tr><td>val.vix_best.end_amount/ppo</td><td>6.08</td></tr><tr><td>val.vix_best.mdd/ppo</td><td>-1537.33</td></tr><tr><td>val.vix_best.sharpe_ratio/ppo</td><td>2.19</td></tr><tr><td>val.vix_best.vix/ppo</td><td>19</td></tr></table><br/></div></div>"
            ]
          },
          "metadata": {}
        },
        {
          "output_type": "display_data",
          "data": {
            "text/plain": [
              "<IPython.core.display.HTML object>"
            ],
            "text/html": [
              " View run <strong style=\"color:#cdcd00\">DOW-30 | 2016-01 | 2016 Q2 | 2016 Q3 | rbug5oxn</strong> at: <a href='https://wandb.ai/overfit1010/finrl-dt-replicate/runs/rbug5oxn' target=\"_blank\">https://wandb.ai/overfit1010/finrl-dt-replicate/runs/rbug5oxn</a><br> View project at: <a href='https://wandb.ai/overfit1010/finrl-dt-replicate' target=\"_blank\">https://wandb.ai/overfit1010/finrl-dt-replicate</a><br>Synced 5 W&B file(s), 0 media file(s), 0 artifact file(s) and 0 other file(s)"
            ]
          },
          "metadata": {}
        },
        {
          "output_type": "display_data",
          "data": {
            "text/plain": [
              "<IPython.core.display.HTML object>"
            ],
            "text/html": [
              "Find logs at: <code>./wandb/run-20250220_160630-rbug5oxn/logs</code>"
            ]
          },
          "metadata": {}
        },
        {
          "output_type": "stream",
          "name": "stdout",
          "text": [
            "\n",
            "Run #3: bydmuxcz\n",
            "test_start_date 2016-10-01 00:00:00\n",
            "val_start_date 2016-07-01 00:00:00\n",
            "Threshold: historical: 15.72 | insample: 56.65\n",
            "turbulence_threshold: 56.65\n"
          ]
        },
        {
          "output_type": "display_data",
          "data": {
            "text/plain": [
              "<IPython.core.display.HTML object>"
            ],
            "text/html": [
              "Tracking run with wandb version 0.19.6"
            ]
          },
          "metadata": {}
        },
        {
          "output_type": "display_data",
          "data": {
            "text/plain": [
              "<IPython.core.display.HTML object>"
            ],
            "text/html": [
              "Run data is saved locally in <code>/content/wandb/run-20250220_160637-bydmuxcz</code>"
            ]
          },
          "metadata": {}
        },
        {
          "output_type": "display_data",
          "data": {
            "text/plain": [
              "<IPython.core.display.HTML object>"
            ],
            "text/html": [
              "Resuming run <strong><a href='https://wandb.ai/overfit1010/finrl-dt-replicate/runs/bydmuxcz' target=\"_blank\">DOW-30 | 2016-04 | 2016 Q3 | 2016 Q4 | bydmuxcz</a></strong> to <a href='https://wandb.ai/overfit1010/finrl-dt-replicate' target=\"_blank\">Weights & Biases</a> (<a href='https://wandb.me/developer-guide' target=\"_blank\">docs</a>)<br>Sweep page: <a href='https://wandb.ai/overfit1010/finrl-dt-replicate/sweeps/yd7fz9as' target=\"_blank\">https://wandb.ai/overfit1010/finrl-dt-replicate/sweeps/yd7fz9as</a>"
            ]
          },
          "metadata": {}
        },
        {
          "output_type": "display_data",
          "data": {
            "text/plain": [
              "<IPython.core.display.HTML object>"
            ],
            "text/html": [
              " View project at <a href='https://wandb.ai/overfit1010/finrl-dt-replicate' target=\"_blank\">https://wandb.ai/overfit1010/finrl-dt-replicate</a>"
            ]
          },
          "metadata": {}
        },
        {
          "output_type": "display_data",
          "data": {
            "text/plain": [
              "<IPython.core.display.HTML object>"
            ],
            "text/html": [
              " View sweep at <a href='https://wandb.ai/overfit1010/finrl-dt-replicate/sweeps/yd7fz9as' target=\"_blank\">https://wandb.ai/overfit1010/finrl-dt-replicate/sweeps/yd7fz9as</a>"
            ]
          },
          "metadata": {}
        },
        {
          "output_type": "display_data",
          "data": {
            "text/plain": [
              "<IPython.core.display.HTML object>"
            ],
            "text/html": [
              " View run at <a href='https://wandb.ai/overfit1010/finrl-dt-replicate/runs/bydmuxcz' target=\"_blank\">https://wandb.ai/overfit1010/finrl-dt-replicate/runs/bydmuxcz</a>"
            ]
          },
          "metadata": {}
        },
        {
          "output_type": "stream",
          "name": "stdout",
          "text": [
            "Downloading artifacts to trained_models-bydmuxcz:v0\n"
          ]
        },
        {
          "output_type": "stream",
          "name": "stderr",
          "text": [
            "\u001b[34m\u001b[1mwandb\u001b[0m: \\ 1 of 99 files downloaded...\r\u001b[34m\u001b[1mwandb\u001b[0m:   99 of 99 files downloaded.  \n"
          ]
        },
        {
          "output_type": "stream",
          "name": "stdout",
          "text": [
            "Artifacts downloaded cnt per type: {'trained_models': 1}\n",
            "Artifacts folders per type: {'trained_models': [PosixPath('trained_models-bydmuxcz:v0')]}\n",
            "\n",
            "\n",
            "Evaluating for `test` using `^VIX`: 56.650001525878906\n",
            "Init with NEW env state:\n",
            "\t initial_amount: 50000\n",
            "\t initial_stocks: None\n",
            "Initializing eval env... Done.\n",
            "\t initial_total_asset: 50000.0\n",
            "test_start_date 2016-10-01 00:00:00\n",
            "val_start_date 2016-07-01 00:00:00\n",
            "Threshold: historical: 15.72 | insample: 56.65\n",
            "turbulence_threshold: 56.65\n",
            "Downloading artifacts to trained_models-bydmuxcz:v0\n"
          ]
        },
        {
          "output_type": "stream",
          "name": "stderr",
          "text": [
            "\u001b[34m\u001b[1mwandb\u001b[0m:   99 of 99 files downloaded.  \n"
          ]
        },
        {
          "output_type": "stream",
          "name": "stdout",
          "text": [
            "Artifacts downloaded cnt per type: {'trained_models': 1}\n",
            "Artifacts folders per type: {'trained_models': [PosixPath('trained_models-bydmuxcz:v0')]}\n",
            "\n",
            "\n",
            "Evaluating for `test` using `^VIX`: 56.650001525878906\n",
            "Init with NEW env state:\n",
            "\t initial_amount: 50000\n",
            "\t initial_stocks: None\n",
            "Initializing eval env... Done.\n",
            "\t initial_total_asset: 50000.0\n"
          ]
        },
        {
          "output_type": "display_data",
          "data": {
            "text/plain": [
              "<IPython.core.display.HTML object>"
            ],
            "text/html": []
          },
          "metadata": {}
        },
        {
          "output_type": "display_data",
          "data": {
            "text/plain": [
              "<IPython.core.display.HTML object>"
            ],
            "text/html": [
              "<br>    <style><br>        .wandb-row {<br>            display: flex;<br>            flex-direction: row;<br>            flex-wrap: wrap;<br>            justify-content: flex-start;<br>            width: 100%;<br>        }<br>        .wandb-col {<br>            display: flex;<br>            flex-direction: column;<br>            flex-basis: 100%;<br>            flex: 1;<br>            padding: 10px;<br>        }<br>    </style><br><div class=\"wandb-row\"><div class=\"wandb-col\"><h3>Run summary:</h3><br/><table class=\"wandb\"><tr><td>config_hash</td><td>1ea39a67636c8e66b006...</td></tr><tr><td>run.duration_minutes</td><td>4.2</td></tr><tr><td>test.q_100.agg_ann_return/ppo</td><td>7.76</td></tr><tr><td>test.q_100.agg_cum_return/ppo</td><td>5.12</td></tr><tr><td>test.q_100.agg_mdd/ppo</td><td>-11.77</td></tr><tr><td>test.q_100.agg_sharpe_ratio/ppo</td><td>0.35</td></tr><tr><td>test.q_100.ann_return/ppo</td><td>34.86</td></tr><tr><td>test.q_100.cum_return/ppo</td><td>5.12</td></tr><tr><td>test.q_100.end_amount/ppo</td><td>5.66</td></tr><tr><td>test.q_100.end_total_asset/ppo</td><td>52562.39</td></tr><tr><td>test.q_100.mdd/ppo</td><td>-7.54</td></tr><tr><td>test.q_100.sharpe_ratio/ppo</td><td>1.11</td></tr><tr><td>test.q_100.vix_historical_mean/ppo</td><td>15.72</td></tr><tr><td>test.q_100.vix_insample/ppo</td><td>56.65</td></tr><tr><td>test.q_100.vix_lookback_window/ppo</td><td>63</td></tr><tr><td>test.q_50.agg_ann_return/ppo</td><td>7.76</td></tr><tr><td>test.q_50.agg_cum_return/ppo</td><td>5.12</td></tr><tr><td>test.q_50.agg_mdd/ppo</td><td>-11.29</td></tr><tr><td>test.q_50.agg_sharpe_ratio/ppo</td><td>0.37</td></tr><tr><td>test.q_50.ann_return/ppo</td><td>34.86</td></tr><tr><td>test.q_50.cum_return/ppo</td><td>5.12</td></tr><tr><td>test.q_50.end_amount/ppo</td><td>5.66</td></tr><tr><td>test.q_50.end_total_asset/ppo</td><td>52562.39</td></tr><tr><td>test.q_50.mdd/ppo</td><td>-7.54</td></tr><tr><td>test.q_50.sharpe_ratio/ppo</td><td>1.11</td></tr><tr><td>test.q_50.vix_historical_mean/ppo</td><td>15.72</td></tr><tr><td>test.q_50.vix_insample/ppo</td><td>56.65</td></tr><tr><td>test.q_50.vix_lookback_window/ppo</td><td>63</td></tr><tr><td>test.q_85.agg_ann_return/ppo</td><td>7.76</td></tr><tr><td>test.q_85.agg_cum_return/ppo</td><td>5.12</td></tr><tr><td>test.q_85.agg_mdd/ppo</td><td>-11.77</td></tr><tr><td>test.q_85.agg_sharpe_ratio/ppo</td><td>0.35</td></tr><tr><td>test.q_85.ann_return/ppo</td><td>34.86</td></tr><tr><td>test.q_85.cum_return/ppo</td><td>5.12</td></tr><tr><td>test.q_85.end_amount/ppo</td><td>5.66</td></tr><tr><td>test.q_85.end_total_asset/ppo</td><td>52562.39</td></tr><tr><td>test.q_85.mdd/ppo</td><td>-7.54</td></tr><tr><td>test.q_85.sharpe_ratio/ppo</td><td>1.11</td></tr><tr><td>test.q_85.vix_historical_mean/ppo</td><td>15.72</td></tr><tr><td>test.q_85.vix_insample/ppo</td><td>56.65</td></tr><tr><td>test.q_85.vix_lookback_window/ppo</td><td>63</td></tr><tr><td>test.q_90.agg_ann_return/ppo</td><td>7.76</td></tr><tr><td>test.q_90.agg_cum_return/ppo</td><td>5.12</td></tr><tr><td>test.q_90.agg_mdd/ppo</td><td>-11.77</td></tr><tr><td>test.q_90.agg_sharpe_ratio/ppo</td><td>0.35</td></tr><tr><td>test.q_90.ann_return/ppo</td><td>34.86</td></tr><tr><td>test.q_90.cum_return/ppo</td><td>5.12</td></tr><tr><td>test.q_90.end_amount/ppo</td><td>5.66</td></tr><tr><td>test.q_90.end_total_asset/ppo</td><td>52562.39</td></tr><tr><td>test.q_90.mdd/ppo</td><td>-7.54</td></tr><tr><td>test.q_90.sharpe_ratio/ppo</td><td>1.11</td></tr><tr><td>test.q_90.vix_historical_mean/ppo</td><td>15.72</td></tr><tr><td>test.q_90.vix_insample/ppo</td><td>56.65</td></tr><tr><td>test.q_90.vix_lookback_window/ppo</td><td>63</td></tr><tr><td>test.q_95.agg_ann_return/ppo</td><td>7.76</td></tr><tr><td>test.q_95.agg_cum_return/ppo</td><td>5.12</td></tr><tr><td>test.q_95.agg_mdd/ppo</td><td>-11.77</td></tr><tr><td>test.q_95.agg_sharpe_ratio/ppo</td><td>0.35</td></tr><tr><td>test.q_95.ann_return/ppo</td><td>34.86</td></tr><tr><td>test.q_95.cum_return/ppo</td><td>5.12</td></tr><tr><td>test.q_95.end_amount/ppo</td><td>5.66</td></tr><tr><td>test.q_95.end_total_asset/ppo</td><td>52562.39</td></tr><tr><td>test.q_95.mdd/ppo</td><td>-7.54</td></tr><tr><td>test.q_95.sharpe_ratio/ppo</td><td>1.11</td></tr><tr><td>test.q_95.vix_historical_mean/ppo</td><td>15.72</td></tr><tr><td>test.q_95.vix_insample/ppo</td><td>56.65</td></tr><tr><td>test.q_95.vix_lookback_window/ppo</td><td>63</td></tr><tr><td>test.vix.ann_return/ppo</td><td>-20.93</td></tr><tr><td>test.vix.cum_return/ppo</td><td>-3.97</td></tr><tr><td>test.vix.end_amount/ppo</td><td>3.37</td></tr><tr><td>test.vix.end_total_asset/ppo</td><td>48496.27</td></tr><tr><td>test.vix.mdd/ppo</td><td>-6.11</td></tr><tr><td>test.vix.sharpe_ratio/ppo</td><td>-1.46</td></tr><tr><td>test.vix.vix/ppo</td><td>20</td></tr><tr><td>test.vix_12.ann_return/ppo</td><td>-2.22</td></tr><tr><td>test.vix_12.cum_return/ppo</td><td>-0.39</td></tr><tr><td>test.vix_12.end_amount/ppo</td><td>49382.1</td></tr><tr><td>test.vix_12.end_total_asset/ppo</td><td>49382.1</td></tr><tr><td>test.vix_12.mdd/ppo</td><td>-0.64</td></tr><tr><td>test.vix_12.sharpe_ratio/ppo</td><td>-1.21</td></tr><tr><td>test.vix_13.ann_return/ppo</td><td>-7.01</td></tr><tr><td>test.vix_13.cum_return/ppo</td><td>-1.25</td></tr><tr><td>test.vix_13.end_amount/ppo</td><td>47284.95</td></tr><tr><td>test.vix_13.end_total_asset/ppo</td><td>47284.95</td></tr><tr><td>test.vix_13.mdd/ppo</td><td>-1.3</td></tr><tr><td>test.vix_13.sharpe_ratio/ppo</td><td>-1.68</td></tr><tr><td>test.vix_14.ann_return/ppo</td><td>-28.36</td></tr><tr><td>test.vix_14.cum_return/ppo</td><td>-5.59</td></tr><tr><td>test.vix_14.end_amount/ppo</td><td>44527.71</td></tr><tr><td>test.vix_14.end_total_asset/ppo</td><td>44527.71</td></tr><tr><td>test.vix_14.mdd/ppo</td><td>-5.59</td></tr><tr><td>test.vix_14.sharpe_ratio/ppo</td><td>-3.86</td></tr><tr><td>test.vix_16.ann_return/ppo</td><td>-10.66</td></tr><tr><td>test.vix_16.cum_return/ppo</td><td>-1.93</td></tr><tr><td>test.vix_16.end_amount/ppo</td><td>0.98</td></tr><tr><td>test.vix_16.end_total_asset/ppo</td><td>47390.03</td></tr><tr><td>test.vix_16.mdd/ppo</td><td>-4.23</td></tr><tr><td>test.vix_16.sharpe_ratio/ppo</td><td>-0.92</td></tr><tr><td>test.vix_17.ann_return/ppo</td><td>-10.27</td></tr><tr><td>test.vix_17.cum_return/ppo</td><td>-1.85</td></tr><tr><td>test.vix_17.end_amount/ppo</td><td>10.04</td></tr><tr><td>test.vix_17.end_total_asset/ppo</td><td>50733.79</td></tr><tr><td>test.vix_17.mdd/ppo</td><td>-3.87</td></tr><tr><td>test.vix_17.sharpe_ratio/ppo</td><td>-0.77</td></tr><tr><td>test.vix_18.ann_return/ppo</td><td>-13.4</td></tr><tr><td>test.vix_18.cum_return/ppo</td><td>-2.45</td></tr><tr><td>test.vix_18.end_amount/ppo</td><td>6.57</td></tr><tr><td>test.vix_18.end_total_asset/ppo</td><td>50367.58</td></tr><tr><td>test.vix_18.mdd/ppo</td><td>-4.45</td></tr><tr><td>test.vix_18.sharpe_ratio/ppo</td><td>-1.03</td></tr><tr><td>test.vix_19.ann_return/ppo</td><td>-44.38</td></tr><tr><td>test.vix_19.cum_return/ppo</td><td>-9.63</td></tr><tr><td>test.vix_19.end_amount/ppo</td><td>5.55</td></tr><tr><td>test.vix_19.end_total_asset/ppo</td><td>47179.21</td></tr><tr><td>test.vix_19.mdd/ppo</td><td>-12.4</td></tr><tr><td>test.vix_19.sharpe_ratio/ppo</td><td>-3.25</td></tr><tr><td>test.vix_20.ann_return/ppo</td><td>-20.93</td></tr><tr><td>test.vix_20.cum_return/ppo</td><td>-3.97</td></tr><tr><td>test.vix_20.end_amount/ppo</td><td>3.37</td></tr><tr><td>test.vix_20.end_total_asset/ppo</td><td>48496.27</td></tr><tr><td>test.vix_20.mdd/ppo</td><td>-6.11</td></tr><tr><td>test.vix_20.sharpe_ratio/ppo</td><td>-1.46</td></tr><tr><td>test.vix_21.ann_return/ppo</td><td>-24.14</td></tr><tr><td>test.vix_21.cum_return/ppo</td><td>-4.66</td></tr><tr><td>test.vix_21.end_amount/ppo</td><td>14.6</td></tr><tr><td>test.vix_21.end_total_asset/ppo</td><td>47672.1</td></tr><tr><td>test.vix_21.mdd/ppo</td><td>-6.77</td></tr><tr><td>test.vix_21.sharpe_ratio/ppo</td><td>-2.06</td></tr><tr><td>test.vix_22.ann_return/ppo</td><td>-24.14</td></tr><tr><td>test.vix_22.cum_return/ppo</td><td>-4.66</td></tr><tr><td>test.vix_22.end_amount/ppo</td><td>14.6</td></tr><tr><td>test.vix_22.end_total_asset/ppo</td><td>47672.1</td></tr><tr><td>test.vix_22.mdd/ppo</td><td>-6.77</td></tr><tr><td>test.vix_22.sharpe_ratio/ppo</td><td>-2.06</td></tr><tr><td>test.vix_23.ann_return/ppo</td><td>-2.34</td></tr><tr><td>test.vix_23.cum_return/ppo</td><td>-0.41</td></tr><tr><td>test.vix_23.end_amount/ppo</td><td>18.07</td></tr><tr><td>test.vix_23.end_total_asset/ppo</td><td>49796.4</td></tr><tr><td>test.vix_23.mdd/ppo</td><td>-3.54</td></tr><tr><td>test.vix_23.sharpe_ratio/ppo</td><td>-0.11</td></tr><tr><td>test.vix_24.ann_return/ppo</td><td>-2.34</td></tr><tr><td>test.vix_24.cum_return/ppo</td><td>-0.41</td></tr><tr><td>test.vix_24.end_amount/ppo</td><td>18.07</td></tr><tr><td>test.vix_24.end_total_asset/ppo</td><td>49796.4</td></tr><tr><td>test.vix_24.mdd/ppo</td><td>-3.54</td></tr><tr><td>test.vix_24.sharpe_ratio/ppo</td><td>-0.11</td></tr><tr><td>test.vix_best.agg_ann_return/ppo</td><td>-0.58</td></tr><tr><td>test.vix_best.agg_cum_return/ppo</td><td>-0.41</td></tr><tr><td>test.vix_best.agg_mdd/ppo</td><td>-10.33</td></tr><tr><td>test.vix_best.agg_sharpe_ratio/ppo</td><td>0.02</td></tr><tr><td>test.vix_best.ann_return/ppo</td><td>164.08</td></tr><tr><td>test.vix_best.cum_return/ppo</td><td>18.25</td></tr><tr><td>test.vix_best.mdd/ppo</td><td>-1.84</td></tr><tr><td>test.vix_best.sharpe_ratio/ppo</td><td>6.16</td></tr><tr><td>test.vix_best.vix/ppo</td><td>19</td></tr><tr><td>test.vix_chosen.agg_ann_return/ppo</td><td>-4.29</td></tr><tr><td>test.vix_chosen.agg_cum_return/ppo</td><td>-3.01</td></tr><tr><td>test.vix_chosen.agg_mdd/ppo</td><td>-13.11</td></tr><tr><td>test.vix_chosen.agg_sharpe_ratio/ppo</td><td>-0.2</td></tr><tr><td>test.vix_chosen.ann_return/ppo</td><td>123.84</td></tr><tr><td>test.vix_chosen.cum_return/ppo</td><td>14.92</td></tr><tr><td>test.vix_chosen.mdd/ppo</td><td>-1.84</td></tr><tr><td>test.vix_chosen.sharpe_ratio/ppo</td><td>5.44</td></tr><tr><td>test.vix_chosen.vix/ppo</td><td>20</td></tr><tr><td>train.ann_return/ppo</td><td>41.9501</td></tr><tr><td>train.cum_return/ppo</td><td>152.06226</td></tr><tr><td>train.duration_minutes/ppo</td><td>3.8</td></tr><tr><td>train.mdd/ppo</td><td>-33.62322</td></tr><tr><td>train.sharpe_ratio/ppo</td><td>0.87373</td></tr><tr><td>val.ann_return/ppo</td><td>26570.06937</td></tr><tr><td>val.cum_return/ppo</td><td>10.59429</td></tr><tr><td>val.mdd/ppo</td><td>-5.25937</td></tr><tr><td>val.num_pretrain_iters</td><td>16</td></tr><tr><td>val.sharpe_ratio/ppo</td><td>5.23403</td></tr><tr><td>val.vix.ann_return/ppo</td><td>4.06</td></tr><tr><td>val.vix.cum_return/ppo</td><td>0.7</td></tr><tr><td>val.vix.end_amount/ppo</td><td>1.08</td></tr><tr><td>val.vix.end_total_asset/ppo</td><td>50349.83</td></tr><tr><td>val.vix.mdd/ppo</td><td>-3.6</td></tr><tr><td>val.vix.sharpe_ratio/ppo</td><td>0.33</td></tr><tr><td>val.vix.vix/ppo</td><td>20</td></tr><tr><td>val.vix_12.ann_return/ppo</td><td>-5.59</td></tr><tr><td>val.vix_12.cum_return/ppo</td><td>-1</td></tr><tr><td>val.vix_12.end_amount/ppo</td><td>49498.54</td></tr><tr><td>val.vix_12.end_total_asset/ppo</td><td>49498.54</td></tr><tr><td>val.vix_12.mdd/ppo</td><td>-1.03</td></tr><tr><td>val.vix_12.sharpe_ratio/ppo</td><td>-4.42</td></tr><tr><td>val.vix_13.ann_return/ppo</td><td>-19.84</td></tr><tr><td>val.vix_13.cum_return/ppo</td><td>-3.8</td></tr><tr><td>val.vix_13.end_amount/ppo</td><td>48098.03</td></tr><tr><td>val.vix_13.end_total_asset/ppo</td><td>48098.03</td></tr><tr><td>val.vix_13.mdd/ppo</td><td>-4.15</td></tr><tr><td>val.vix_13.sharpe_ratio/ppo</td><td>-4.34</td></tr><tr><td>val.vix_14.ann_return/ppo</td><td>-17.43</td></tr><tr><td>val.vix_14.cum_return/ppo</td><td>-3.3</td></tr><tr><td>val.vix_14.end_amount/ppo</td><td>42942.38</td></tr><tr><td>val.vix_14.end_total_asset/ppo</td><td>48348.64</td></tr><tr><td>val.vix_14.mdd/ppo</td><td>-4.69</td></tr><tr><td>val.vix_14.sharpe_ratio/ppo</td><td>-2.12</td></tr><tr><td>val.vix_15.ann_return/ppo</td><td>-17.85</td></tr><tr><td>val.vix_15.cum_return/ppo</td><td>-3.39</td></tr><tr><td>val.vix_15.end_amount/ppo</td><td>12.06</td></tr><tr><td>val.vix_15.end_total_asset/ppo</td><td>48305.11</td></tr><tr><td>val.vix_15.mdd/ppo</td><td>-5.63</td></tr><tr><td>val.vix_15.sharpe_ratio/ppo</td><td>-1.85</td></tr><tr><td>val.vix_16.ann_return/ppo</td><td>-9.17</td></tr><tr><td>val.vix_16.cum_return/ppo</td><td>-1.67</td></tr><tr><td>val.vix_16.end_amount/ppo</td><td>7.74</td></tr><tr><td>val.vix_16.end_total_asset/ppo</td><td>49163.4</td></tr><tr><td>val.vix_16.mdd/ppo</td><td>-4.94</td></tr><tr><td>val.vix_16.sharpe_ratio/ppo</td><td>-0.87</td></tr><tr><td>val.vix_17.ann_return/ppo</td><td>-7.29</td></tr><tr><td>val.vix_17.cum_return/ppo</td><td>-1.32</td></tr><tr><td>val.vix_17.end_amount/ppo</td><td>1.72</td></tr><tr><td>val.vix_17.end_total_asset/ppo</td><td>49341.1</td></tr><tr><td>val.vix_17.mdd/ppo</td><td>-4.74</td></tr><tr><td>val.vix_17.sharpe_ratio/ppo</td><td>-0.66</td></tr><tr><td>val.vix_18.ann_return/ppo</td><td>2</td></tr><tr><td>val.vix_18.cum_return/ppo</td><td>0.35</td></tr><tr><td>val.vix_18.end_amount/ppo</td><td>19.93</td></tr><tr><td>val.vix_18.end_total_asset/ppo</td><td>50174.06</td></tr><tr><td>val.vix_18.mdd/ppo</td><td>-3.6</td></tr><tr><td>val.vix_18.sharpe_ratio/ppo</td><td>0.21</td></tr><tr><td>val.vix_19.ann_return/ppo</td><td>3.51</td></tr><tr><td>val.vix_19.cum_return/ppo</td><td>0.61</td></tr><tr><td>val.vix_19.end_amount/ppo</td><td>19.22</td></tr><tr><td>val.vix_19.end_total_asset/ppo</td><td>50303.6</td></tr><tr><td>val.vix_19.mdd/ppo</td><td>-3.6</td></tr><tr><td>val.vix_19.sharpe_ratio/ppo</td><td>0.29</td></tr><tr><td>val.vix_20.ann_return/ppo</td><td>4.06</td></tr><tr><td>val.vix_20.cum_return/ppo</td><td>0.7</td></tr><tr><td>val.vix_20.end_amount/ppo</td><td>1.08</td></tr><tr><td>val.vix_20.end_total_asset/ppo</td><td>50349.83</td></tr><tr><td>val.vix_20.mdd/ppo</td><td>-3.6</td></tr><tr><td>val.vix_20.sharpe_ratio/ppo</td><td>0.33</td></tr><tr><td>val.vix_best.ann_return/ppo</td><td>35.49</td></tr><tr><td>val.vix_best.cum_return/ppo</td><td>5.47</td></tr><tr><td>val.vix_best.mdd/ppo</td><td>-4.45</td></tr><tr><td>val.vix_best.sharpe_ratio/ppo</td><td>1.87</td></tr><tr><td>val.vix_best.vix/ppo</td><td>20</td></tr></table><br/></div></div>"
            ]
          },
          "metadata": {}
        },
        {
          "output_type": "display_data",
          "data": {
            "text/plain": [
              "<IPython.core.display.HTML object>"
            ],
            "text/html": [
              " View run <strong style=\"color:#cdcd00\">DOW-30 | 2016-04 | 2016 Q3 | 2016 Q4 | bydmuxcz</strong> at: <a href='https://wandb.ai/overfit1010/finrl-dt-replicate/runs/bydmuxcz' target=\"_blank\">https://wandb.ai/overfit1010/finrl-dt-replicate/runs/bydmuxcz</a><br> View project at: <a href='https://wandb.ai/overfit1010/finrl-dt-replicate' target=\"_blank\">https://wandb.ai/overfit1010/finrl-dt-replicate</a><br>Synced 5 W&B file(s), 0 media file(s), 0 artifact file(s) and 0 other file(s)"
            ]
          },
          "metadata": {}
        },
        {
          "output_type": "display_data",
          "data": {
            "text/plain": [
              "<IPython.core.display.HTML object>"
            ],
            "text/html": [
              "Find logs at: <code>./wandb/run-20250220_160637-bydmuxcz/logs</code>"
            ]
          },
          "metadata": {}
        },
        {
          "output_type": "stream",
          "name": "stdout",
          "text": [
            "\n",
            "Run #4: ml8setd1\n",
            "test_start_date 2017-01-01 00:00:00\n",
            "val_start_date 2016-10-01 00:00:00\n",
            "Threshold: historical: 13.21 | insample: 56.65\n",
            "turbulence_threshold: 56.65\n"
          ]
        },
        {
          "output_type": "display_data",
          "data": {
            "text/plain": [
              "<IPython.core.display.HTML object>"
            ],
            "text/html": [
              "Tracking run with wandb version 0.19.6"
            ]
          },
          "metadata": {}
        },
        {
          "output_type": "display_data",
          "data": {
            "text/plain": [
              "<IPython.core.display.HTML object>"
            ],
            "text/html": [
              "Run data is saved locally in <code>/content/wandb/run-20250220_160648-ml8setd1</code>"
            ]
          },
          "metadata": {}
        },
        {
          "output_type": "display_data",
          "data": {
            "text/plain": [
              "<IPython.core.display.HTML object>"
            ],
            "text/html": [
              "Resuming run <strong><a href='https://wandb.ai/overfit1010/finrl-dt-replicate/runs/ml8setd1' target=\"_blank\">DOW-30 | 2016-07 | 2016 Q4 | 2017 Q1 | ml8setd1</a></strong> to <a href='https://wandb.ai/overfit1010/finrl-dt-replicate' target=\"_blank\">Weights & Biases</a> (<a href='https://wandb.me/developer-guide' target=\"_blank\">docs</a>)<br>Sweep page: <a href='https://wandb.ai/overfit1010/finrl-dt-replicate/sweeps/yd7fz9as' target=\"_blank\">https://wandb.ai/overfit1010/finrl-dt-replicate/sweeps/yd7fz9as</a>"
            ]
          },
          "metadata": {}
        },
        {
          "output_type": "display_data",
          "data": {
            "text/plain": [
              "<IPython.core.display.HTML object>"
            ],
            "text/html": [
              " View project at <a href='https://wandb.ai/overfit1010/finrl-dt-replicate' target=\"_blank\">https://wandb.ai/overfit1010/finrl-dt-replicate</a>"
            ]
          },
          "metadata": {}
        },
        {
          "output_type": "display_data",
          "data": {
            "text/plain": [
              "<IPython.core.display.HTML object>"
            ],
            "text/html": [
              " View sweep at <a href='https://wandb.ai/overfit1010/finrl-dt-replicate/sweeps/yd7fz9as' target=\"_blank\">https://wandb.ai/overfit1010/finrl-dt-replicate/sweeps/yd7fz9as</a>"
            ]
          },
          "metadata": {}
        },
        {
          "output_type": "display_data",
          "data": {
            "text/plain": [
              "<IPython.core.display.HTML object>"
            ],
            "text/html": [
              " View run at <a href='https://wandb.ai/overfit1010/finrl-dt-replicate/runs/ml8setd1' target=\"_blank\">https://wandb.ai/overfit1010/finrl-dt-replicate/runs/ml8setd1</a>"
            ]
          },
          "metadata": {}
        },
        {
          "output_type": "stream",
          "name": "stdout",
          "text": [
            "Downloading artifacts to trained_models-ml8setd1:v0\n"
          ]
        },
        {
          "output_type": "stream",
          "name": "stderr",
          "text": [
            "\u001b[34m\u001b[1mwandb\u001b[0m: \\ 1 of 99 files downloaded...\r\u001b[34m\u001b[1mwandb\u001b[0m:   99 of 99 files downloaded.  \n"
          ]
        },
        {
          "output_type": "stream",
          "name": "stdout",
          "text": [
            "Artifacts downloaded cnt per type: {'trained_models': 1}\n",
            "Artifacts folders per type: {'trained_models': [PosixPath('trained_models-ml8setd1:v0')]}\n",
            "\n",
            "\n",
            "Evaluating for `test` using `^VIX`: 56.650001525878906\n",
            "Init with NEW env state:\n",
            "\t initial_amount: 50000\n",
            "\t initial_stocks: None\n",
            "Initializing eval env... Done.\n",
            "\t initial_total_asset: 50000.0\n",
            "test_start_date 2017-01-01 00:00:00\n",
            "val_start_date 2016-10-01 00:00:00\n",
            "Threshold: historical: 13.21 | insample: 56.65\n",
            "turbulence_threshold: 56.65\n",
            "Downloading artifacts to trained_models-ml8setd1:v0\n"
          ]
        },
        {
          "output_type": "stream",
          "name": "stderr",
          "text": [
            "\u001b[34m\u001b[1mwandb\u001b[0m: \\ 1 of 99 files downloaded...\r\u001b[34m\u001b[1mwandb\u001b[0m:   99 of 99 files downloaded.  \n"
          ]
        },
        {
          "output_type": "stream",
          "name": "stdout",
          "text": [
            "Artifacts downloaded cnt per type: {'trained_models': 1}\n",
            "Artifacts folders per type: {'trained_models': [PosixPath('trained_models-ml8setd1:v0')]}\n",
            "\n",
            "\n",
            "Evaluating for `test` using `^VIX`: 56.650001525878906\n",
            "Init with NEW env state:\n",
            "\t initial_amount: 50000\n",
            "\t initial_stocks: None\n",
            "Initializing eval env... Done.\n",
            "\t initial_total_asset: 50000.0\n"
          ]
        },
        {
          "output_type": "display_data",
          "data": {
            "text/plain": [
              "<IPython.core.display.HTML object>"
            ],
            "text/html": []
          },
          "metadata": {}
        },
        {
          "output_type": "display_data",
          "data": {
            "text/plain": [
              "<IPython.core.display.HTML object>"
            ],
            "text/html": [
              "<br>    <style><br>        .wandb-row {<br>            display: flex;<br>            flex-direction: row;<br>            flex-wrap: wrap;<br>            justify-content: flex-start;<br>            width: 100%;<br>        }<br>        .wandb-col {<br>            display: flex;<br>            flex-direction: column;<br>            flex-basis: 100%;<br>            flex: 1;<br>            padding: 10px;<br>        }<br>    </style><br><div class=\"wandb-row\"><div class=\"wandb-col\"><h3>Run summary:</h3><br/><table class=\"wandb\"><tr><td>config_hash</td><td>1ea39a67636c8e66b006...</td></tr><tr><td>run.duration_minutes</td><td>4.1</td></tr><tr><td>test.q_100.agg_ann_return/ppo</td><td>5.74</td></tr><tr><td>test.q_100.agg_cum_return/ppo</td><td>4.77</td></tr><tr><td>test.q_100.agg_mdd/ppo</td><td>-13.38</td></tr><tr><td>test.q_100.agg_sharpe_ratio/ppo</td><td>0.29</td></tr><tr><td>test.q_100.ann_return/ppo</td><td>32.19</td></tr><tr><td>test.q_100.cum_return/ppo</td><td>4.77</td></tr><tr><td>test.q_100.end_amount/ppo</td><td>12.01</td></tr><tr><td>test.q_100.end_total_asset/ppo</td><td>52387.09</td></tr><tr><td>test.q_100.mdd/ppo</td><td>-8.59</td></tr><tr><td>test.q_100.sharpe_ratio/ppo</td><td>1.03</td></tr><tr><td>test.q_100.vix_historical_mean/ppo</td><td>13.21</td></tr><tr><td>test.q_100.vix_insample/ppo</td><td>56.65</td></tr><tr><td>test.q_100.vix_lookback_window/ppo</td><td>63</td></tr><tr><td>test.q_50.agg_ann_return/ppo</td><td>5.74</td></tr><tr><td>test.q_50.agg_cum_return/ppo</td><td>4.77</td></tr><tr><td>test.q_50.agg_mdd/ppo</td><td>-13.38</td></tr><tr><td>test.q_50.agg_sharpe_ratio/ppo</td><td>0.3</td></tr><tr><td>test.q_50.ann_return/ppo</td><td>32.19</td></tr><tr><td>test.q_50.cum_return/ppo</td><td>4.77</td></tr><tr><td>test.q_50.end_amount/ppo</td><td>12.01</td></tr><tr><td>test.q_50.end_total_asset/ppo</td><td>52387.09</td></tr><tr><td>test.q_50.mdd/ppo</td><td>-8.59</td></tr><tr><td>test.q_50.sharpe_ratio/ppo</td><td>1.03</td></tr><tr><td>test.q_50.vix_historical_mean/ppo</td><td>13.21</td></tr><tr><td>test.q_50.vix_insample/ppo</td><td>56.65</td></tr><tr><td>test.q_50.vix_lookback_window/ppo</td><td>63</td></tr><tr><td>test.q_85.agg_ann_return/ppo</td><td>5.74</td></tr><tr><td>test.q_85.agg_cum_return/ppo</td><td>4.77</td></tr><tr><td>test.q_85.agg_mdd/ppo</td><td>-13.38</td></tr><tr><td>test.q_85.agg_sharpe_ratio/ppo</td><td>0.29</td></tr><tr><td>test.q_85.ann_return/ppo</td><td>32.19</td></tr><tr><td>test.q_85.cum_return/ppo</td><td>4.77</td></tr><tr><td>test.q_85.end_amount/ppo</td><td>12.01</td></tr><tr><td>test.q_85.end_total_asset/ppo</td><td>52387.09</td></tr><tr><td>test.q_85.mdd/ppo</td><td>-8.59</td></tr><tr><td>test.q_85.sharpe_ratio/ppo</td><td>1.03</td></tr><tr><td>test.q_85.vix_historical_mean/ppo</td><td>13.21</td></tr><tr><td>test.q_85.vix_insample/ppo</td><td>56.65</td></tr><tr><td>test.q_85.vix_lookback_window/ppo</td><td>63</td></tr><tr><td>test.q_90.agg_ann_return/ppo</td><td>5.74</td></tr><tr><td>test.q_90.agg_cum_return/ppo</td><td>4.77</td></tr><tr><td>test.q_90.agg_mdd/ppo</td><td>-13.38</td></tr><tr><td>test.q_90.agg_sharpe_ratio/ppo</td><td>0.29</td></tr><tr><td>test.q_90.ann_return/ppo</td><td>32.19</td></tr><tr><td>test.q_90.cum_return/ppo</td><td>4.77</td></tr><tr><td>test.q_90.end_amount/ppo</td><td>12.01</td></tr><tr><td>test.q_90.end_total_asset/ppo</td><td>52387.09</td></tr><tr><td>test.q_90.mdd/ppo</td><td>-8.59</td></tr><tr><td>test.q_90.sharpe_ratio/ppo</td><td>1.03</td></tr><tr><td>test.q_90.vix_historical_mean/ppo</td><td>13.21</td></tr><tr><td>test.q_90.vix_insample/ppo</td><td>56.65</td></tr><tr><td>test.q_90.vix_lookback_window/ppo</td><td>63</td></tr><tr><td>test.q_95.agg_ann_return/ppo</td><td>5.74</td></tr><tr><td>test.q_95.agg_cum_return/ppo</td><td>4.77</td></tr><tr><td>test.q_95.agg_mdd/ppo</td><td>-13.38</td></tr><tr><td>test.q_95.agg_sharpe_ratio/ppo</td><td>0.29</td></tr><tr><td>test.q_95.ann_return/ppo</td><td>32.19</td></tr><tr><td>test.q_95.cum_return/ppo</td><td>4.77</td></tr><tr><td>test.q_95.end_amount/ppo</td><td>12.01</td></tr><tr><td>test.q_95.end_total_asset/ppo</td><td>52387.09</td></tr><tr><td>test.q_95.mdd/ppo</td><td>-8.59</td></tr><tr><td>test.q_95.sharpe_ratio/ppo</td><td>1.03</td></tr><tr><td>test.q_95.vix_historical_mean/ppo</td><td>13.21</td></tr><tr><td>test.q_95.vix_insample/ppo</td><td>56.65</td></tr><tr><td>test.q_95.vix_lookback_window/ppo</td><td>63</td></tr><tr><td>test.vix.ann_return/ppo</td><td>103.56</td></tr><tr><td>test.vix.cum_return/ppo</td><td>12.83</td></tr><tr><td>test.vix.end_amount/ppo</td><td>4.22</td></tr><tr><td>test.vix.end_total_asset/ppo</td><td>56808.38</td></tr><tr><td>test.vix.mdd/ppo</td><td>-2.44</td></tr><tr><td>test.vix.sharpe_ratio/ppo</td><td>6.06</td></tr><tr><td>test.vix.vix/ppo</td><td>24</td></tr><tr><td>test.vix_11.ann_return/ppo</td><td>2.78</td></tr><tr><td>test.vix_11.cum_return/ppo</td><td>0.47</td></tr><tr><td>test.vix_11.end_amount/ppo</td><td>50233.04</td></tr><tr><td>test.vix_11.end_total_asset/ppo</td><td>50233.04</td></tr><tr><td>test.vix_11.mdd/ppo</td><td>-0.09</td></tr><tr><td>test.vix_11.sharpe_ratio/ppo</td><td>2.67</td></tr><tr><td>test.vix_12.ann_return/ppo</td><td>38.18</td></tr><tr><td>test.vix_12.cum_return/ppo</td><td>5.65</td></tr><tr><td>test.vix_12.end_amount/ppo</td><td>52171.8</td></tr><tr><td>test.vix_12.end_total_asset/ppo</td><td>52171.8</td></tr><tr><td>test.vix_12.mdd/ppo</td><td>-1.63</td></tr><tr><td>test.vix_12.sharpe_ratio/ppo</td><td>4.07</td></tr><tr><td>test.vix_13.ann_return/ppo</td><td>57.36</td></tr><tr><td>test.vix_13.cum_return/ppo</td><td>8.01</td></tr><tr><td>test.vix_13.end_amount/ppo</td><td>23.25</td></tr><tr><td>test.vix_13.end_total_asset/ppo</td><td>51069.96</td></tr><tr><td>test.vix_13.mdd/ppo</td><td>-1.62</td></tr><tr><td>test.vix_13.sharpe_ratio/ppo</td><td>4.49</td></tr><tr><td>test.vix_14.ann_return/ppo</td><td>68.78</td></tr><tr><td>test.vix_14.cum_return/ppo</td><td>9.3</td></tr><tr><td>test.vix_14.end_amount/ppo</td><td>3.61</td></tr><tr><td>test.vix_14.end_total_asset/ppo</td><td>48613.63</td></tr><tr><td>test.vix_14.mdd/ppo</td><td>-1.37</td></tr><tr><td>test.vix_14.sharpe_ratio/ppo</td><td>5.2</td></tr><tr><td>test.vix_15.ann_return/ppo</td><td>62.24</td></tr><tr><td>test.vix_15.cum_return/ppo</td><td>8.57</td></tr><tr><td>test.vix_15.end_amount/ppo</td><td>20.21</td></tr><tr><td>test.vix_15.end_total_asset/ppo</td><td>54283.71</td></tr><tr><td>test.vix_15.mdd/ppo</td><td>-2.37</td></tr><tr><td>test.vix_15.sharpe_ratio/ppo</td><td>4.76</td></tr><tr><td>test.vix_23.ann_return/ppo</td><td>120.83</td></tr><tr><td>test.vix_23.cum_return/ppo</td><td>14.4</td></tr><tr><td>test.vix_23.end_amount/ppo</td><td>12.38</td></tr><tr><td>test.vix_23.end_total_asset/ppo</td><td>57537.46</td></tr><tr><td>test.vix_23.mdd/ppo</td><td>-1.93</td></tr><tr><td>test.vix_23.sharpe_ratio/ppo</td><td>6.52</td></tr><tr><td>test.vix_24.ann_return/ppo</td><td>103.56</td></tr><tr><td>test.vix_24.cum_return/ppo</td><td>12.83</td></tr><tr><td>test.vix_24.end_amount/ppo</td><td>4.22</td></tr><tr><td>test.vix_24.end_total_asset/ppo</td><td>56808.38</td></tr><tr><td>test.vix_24.mdd/ppo</td><td>-2.44</td></tr><tr><td>test.vix_24.sharpe_ratio/ppo</td><td>6.06</td></tr><tr><td>test.vix_best.agg_ann_return/ppo</td><td>15.89</td></tr><tr><td>test.vix_best.agg_cum_return/ppo</td><td>13.62</td></tr><tr><td>test.vix_best.agg_mdd/ppo</td><td>-10.33</td></tr><tr><td>test.vix_best.agg_sharpe_ratio/ppo</td><td>0.99</td></tr><tr><td>test.vix_best.ann_return/ppo</td><td>50.8</td></tr><tr><td>test.vix_best.cum_return/ppo</td><td>7.23</td></tr><tr><td>test.vix_best.mdd/ppo</td><td>-2.18</td></tr><tr><td>test.vix_best.sharpe_ratio/ppo</td><td>4.06</td></tr><tr><td>test.vix_best.vix/ppo</td><td>14</td></tr><tr><td>test.vix_chosen.agg_ann_return/ppo</td><td>15.89</td></tr><tr><td>test.vix_chosen.agg_cum_return/ppo</td><td>13.62</td></tr><tr><td>test.vix_chosen.agg_mdd/ppo</td><td>-13.11</td></tr><tr><td>test.vix_chosen.agg_sharpe_ratio/ppo</td><td>0.93</td></tr><tr><td>test.vix_chosen.ann_return/ppo</td><td>50.92</td></tr><tr><td>test.vix_chosen.cum_return/ppo</td><td>7.24</td></tr><tr><td>test.vix_chosen.mdd/ppo</td><td>-2.18</td></tr><tr><td>test.vix_chosen.sharpe_ratio/ppo</td><td>4.06</td></tr><tr><td>test.vix_chosen.vix/ppo</td><td>23</td></tr><tr><td>train.ann_return/ppo</td><td>39.44948</td></tr><tr><td>train.cum_return/ppo</td><td>292.33257</td></tr><tr><td>train.duration_minutes/ppo</td><td>3.8</td></tr><tr><td>train.mdd/ppo</td><td>-40.61</td></tr><tr><td>train.sharpe_ratio/ppo</td><td>1.01164</td></tr><tr><td>val.ann_return/ppo</td><td>895.75603</td></tr><tr><td>val.cum_return/ppo</td><td>8.21048</td></tr><tr><td>val.mdd/ppo</td><td>-4.7527</td></tr><tr><td>val.num_pretrain_iters</td><td>20</td></tr><tr><td>val.sharpe_ratio/ppo</td><td>6.65323</td></tr><tr><td>val.vix.ann_return/ppo</td><td>-8.94</td></tr><tr><td>val.vix.cum_return/ppo</td><td>-1.6</td></tr><tr><td>val.vix.end_amount/ppo</td><td>12.85</td></tr><tr><td>val.vix.end_total_asset/ppo</td><td>49198.5</td></tr><tr><td>val.vix.mdd/ppo</td><td>-4.14</td></tr><tr><td>val.vix.sharpe_ratio/ppo</td><td>-0.57</td></tr><tr><td>val.vix.vix/ppo</td><td>24</td></tr><tr><td>val.vix_12.ann_return/ppo</td><td>-3.35</td></tr><tr><td>val.vix_12.cum_return/ppo</td><td>-0.59</td></tr><tr><td>val.vix_12.end_amount/ppo</td><td>49707.01</td></tr><tr><td>val.vix_12.end_total_asset/ppo</td><td>49707.01</td></tr><tr><td>val.vix_12.mdd/ppo</td><td>-0.86</td></tr><tr><td>val.vix_12.sharpe_ratio/ppo</td><td>-1.52</td></tr><tr><td>val.vix_13.ann_return/ppo</td><td>-6.22</td></tr><tr><td>val.vix_13.cum_return/ppo</td><td>-1.1</td></tr><tr><td>val.vix_13.end_amount/ppo</td><td>49448.7</td></tr><tr><td>val.vix_13.end_total_asset/ppo</td><td>49448.7</td></tr><tr><td>val.vix_13.mdd/ppo</td><td>-1.33</td></tr><tr><td>val.vix_13.sharpe_ratio/ppo</td><td>-1.39</td></tr><tr><td>val.vix_14.ann_return/ppo</td><td>-25.22</td></tr><tr><td>val.vix_14.cum_return/ppo</td><td>-4.89</td></tr><tr><td>val.vix_14.end_amount/ppo</td><td>47553.42</td></tr><tr><td>val.vix_14.end_total_asset/ppo</td><td>47553.42</td></tr><tr><td>val.vix_14.mdd/ppo</td><td>-4.92</td></tr><tr><td>val.vix_14.sharpe_ratio/ppo</td><td>-3.28</td></tr><tr><td>val.vix_16.ann_return/ppo</td><td>-19.4</td></tr><tr><td>val.vix_16.cum_return/ppo</td><td>-3.65</td></tr><tr><td>val.vix_16.end_amount/ppo</td><td>18.07</td></tr><tr><td>val.vix_16.end_total_asset/ppo</td><td>48173.04</td></tr><tr><td>val.vix_16.mdd/ppo</td><td>-5.64</td></tr><tr><td>val.vix_16.sharpe_ratio/ppo</td><td>-1.78</td></tr><tr><td>val.vix_17.ann_return/ppo</td><td>-16.26</td></tr><tr><td>val.vix_17.cum_return/ppo</td><td>-3.02</td></tr><tr><td>val.vix_17.end_amount/ppo</td><td>7.53</td></tr><tr><td>val.vix_17.end_total_asset/ppo</td><td>48491.32</td></tr><tr><td>val.vix_17.mdd/ppo</td><td>-5.02</td></tr><tr><td>val.vix_17.sharpe_ratio/ppo</td><td>-1.45</td></tr><tr><td>val.vix_18.ann_return/ppo</td><td>-18.95</td></tr><tr><td>val.vix_18.cum_return/ppo</td><td>-3.56</td></tr><tr><td>val.vix_18.end_amount/ppo</td><td>7.64</td></tr><tr><td>val.vix_18.end_total_asset/ppo</td><td>48219</td></tr><tr><td>val.vix_18.mdd/ppo</td><td>-5.54</td></tr><tr><td>val.vix_18.sharpe_ratio/ppo</td><td>-1.71</td></tr><tr><td>val.vix_19.ann_return/ppo</td><td>-26.01</td></tr><tr><td>val.vix_19.cum_return/ppo</td><td>-5.07</td></tr><tr><td>val.vix_19.end_amount/ppo</td><td>9.98</td></tr><tr><td>val.vix_19.end_total_asset/ppo</td><td>47467.05</td></tr><tr><td>val.vix_19.mdd/ppo</td><td>-7.22</td></tr><tr><td>val.vix_19.sharpe_ratio/ppo</td><td>-2.18</td></tr><tr><td>val.vix_21.ann_return/ppo</td><td>-29.45</td></tr><tr><td>val.vix_21.cum_return/ppo</td><td>-5.84</td></tr><tr><td>val.vix_21.end_amount/ppo</td><td>1.6</td></tr><tr><td>val.vix_21.end_total_asset/ppo</td><td>47078.62</td></tr><tr><td>val.vix_21.mdd/ppo</td><td>-7.64</td></tr><tr><td>val.vix_21.sharpe_ratio/ppo</td><td>-2.54</td></tr><tr><td>val.vix_22.ann_return/ppo</td><td>-29.43</td></tr><tr><td>val.vix_22.cum_return/ppo</td><td>-5.84</td></tr><tr><td>val.vix_22.end_amount/ppo</td><td>19.84</td></tr><tr><td>val.vix_22.end_total_asset/ppo</td><td>47080.04</td></tr><tr><td>val.vix_22.mdd/ppo</td><td>-7.64</td></tr><tr><td>val.vix_22.sharpe_ratio/ppo</td><td>-2.53</td></tr><tr><td>val.vix_23.ann_return/ppo</td><td>-8.94</td></tr><tr><td>val.vix_23.cum_return/ppo</td><td>-1.6</td></tr><tr><td>val.vix_23.end_amount/ppo</td><td>12.65</td></tr><tr><td>val.vix_23.end_total_asset/ppo</td><td>49198.31</td></tr><tr><td>val.vix_23.mdd/ppo</td><td>-4.14</td></tr><tr><td>val.vix_23.sharpe_ratio/ppo</td><td>-0.57</td></tr><tr><td>val.vix_24.ann_return/ppo</td><td>-8.94</td></tr><tr><td>val.vix_24.cum_return/ppo</td><td>-1.6</td></tr><tr><td>val.vix_24.end_amount/ppo</td><td>12.85</td></tr><tr><td>val.vix_24.end_total_asset/ppo</td><td>49198.5</td></tr><tr><td>val.vix_24.mdd/ppo</td><td>-4.14</td></tr><tr><td>val.vix_24.sharpe_ratio/ppo</td><td>-0.57</td></tr><tr><td>val.vix_best.ann_return/ppo</td><td>228.48</td></tr><tr><td>val.vix_best.cum_return/ppo</td><td>22.79</td></tr><tr><td>val.vix_best.mdd/ppo</td><td>-1.71</td></tr><tr><td>val.vix_best.sharpe_ratio/ppo</td><td>6.72</td></tr><tr><td>val.vix_best.vix/ppo</td><td>22</td></tr></table><br/></div></div>"
            ]
          },
          "metadata": {}
        },
        {
          "output_type": "display_data",
          "data": {
            "text/plain": [
              "<IPython.core.display.HTML object>"
            ],
            "text/html": [
              " View run <strong style=\"color:#cdcd00\">DOW-30 | 2016-07 | 2016 Q4 | 2017 Q1 | ml8setd1</strong> at: <a href='https://wandb.ai/overfit1010/finrl-dt-replicate/runs/ml8setd1' target=\"_blank\">https://wandb.ai/overfit1010/finrl-dt-replicate/runs/ml8setd1</a><br> View project at: <a href='https://wandb.ai/overfit1010/finrl-dt-replicate' target=\"_blank\">https://wandb.ai/overfit1010/finrl-dt-replicate</a><br>Synced 5 W&B file(s), 0 media file(s), 0 artifact file(s) and 0 other file(s)"
            ]
          },
          "metadata": {}
        },
        {
          "output_type": "display_data",
          "data": {
            "text/plain": [
              "<IPython.core.display.HTML object>"
            ],
            "text/html": [
              "Find logs at: <code>./wandb/run-20250220_160648-ml8setd1/logs</code>"
            ]
          },
          "metadata": {}
        },
        {
          "output_type": "stream",
          "name": "stdout",
          "text": [
            "\n",
            "Run #5: 2p5jki5f\n",
            "test_start_date 2017-04-01 00:00:00\n",
            "val_start_date 2017-01-01 00:00:00\n",
            "Threshold: historical: 14.1 | insample: 56.65\n",
            "turbulence_threshold: 56.65\n"
          ]
        },
        {
          "output_type": "display_data",
          "data": {
            "text/plain": [
              "<IPython.core.display.HTML object>"
            ],
            "text/html": [
              "Tracking run with wandb version 0.19.6"
            ]
          },
          "metadata": {}
        },
        {
          "output_type": "display_data",
          "data": {
            "text/plain": [
              "<IPython.core.display.HTML object>"
            ],
            "text/html": [
              "Run data is saved locally in <code>/content/wandb/run-20250220_160702-2p5jki5f</code>"
            ]
          },
          "metadata": {}
        },
        {
          "output_type": "display_data",
          "data": {
            "text/plain": [
              "<IPython.core.display.HTML object>"
            ],
            "text/html": [
              "Resuming run <strong><a href='https://wandb.ai/overfit1010/finrl-dt-replicate/runs/2p5jki5f' target=\"_blank\">DOW-30 | 2016-10 | 2017 Q1 | 2017 Q2 | 2p5jki5f</a></strong> to <a href='https://wandb.ai/overfit1010/finrl-dt-replicate' target=\"_blank\">Weights & Biases</a> (<a href='https://wandb.me/developer-guide' target=\"_blank\">docs</a>)<br>Sweep page: <a href='https://wandb.ai/overfit1010/finrl-dt-replicate/sweeps/yd7fz9as' target=\"_blank\">https://wandb.ai/overfit1010/finrl-dt-replicate/sweeps/yd7fz9as</a>"
            ]
          },
          "metadata": {}
        },
        {
          "output_type": "display_data",
          "data": {
            "text/plain": [
              "<IPython.core.display.HTML object>"
            ],
            "text/html": [
              " View project at <a href='https://wandb.ai/overfit1010/finrl-dt-replicate' target=\"_blank\">https://wandb.ai/overfit1010/finrl-dt-replicate</a>"
            ]
          },
          "metadata": {}
        },
        {
          "output_type": "display_data",
          "data": {
            "text/plain": [
              "<IPython.core.display.HTML object>"
            ],
            "text/html": [
              " View sweep at <a href='https://wandb.ai/overfit1010/finrl-dt-replicate/sweeps/yd7fz9as' target=\"_blank\">https://wandb.ai/overfit1010/finrl-dt-replicate/sweeps/yd7fz9as</a>"
            ]
          },
          "metadata": {}
        },
        {
          "output_type": "display_data",
          "data": {
            "text/plain": [
              "<IPython.core.display.HTML object>"
            ],
            "text/html": [
              " View run at <a href='https://wandb.ai/overfit1010/finrl-dt-replicate/runs/2p5jki5f' target=\"_blank\">https://wandb.ai/overfit1010/finrl-dt-replicate/runs/2p5jki5f</a>"
            ]
          },
          "metadata": {}
        },
        {
          "output_type": "stream",
          "name": "stdout",
          "text": [
            "Downloading artifacts to trained_models-2p5jki5f:v0\n"
          ]
        },
        {
          "output_type": "stream",
          "name": "stderr",
          "text": [
            "\u001b[34m\u001b[1mwandb\u001b[0m:   99 of 99 files downloaded.  \n"
          ]
        },
        {
          "output_type": "stream",
          "name": "stdout",
          "text": [
            "Artifacts downloaded cnt per type: {'trained_models': 1}\n",
            "Artifacts folders per type: {'trained_models': [PosixPath('trained_models-2p5jki5f:v0')]}\n",
            "\n",
            "\n",
            "Evaluating for `test` using `^VIX`: 56.650001525878906\n",
            "Init with NEW env state:\n",
            "\t initial_amount: 50000\n",
            "\t initial_stocks: None\n",
            "Initializing eval env... Done.\n",
            "\t initial_total_asset: 50000.0\n",
            "test_start_date 2017-04-01 00:00:00\n",
            "val_start_date 2017-01-01 00:00:00\n",
            "Threshold: historical: 14.1 | insample: 56.65\n",
            "turbulence_threshold: 56.65\n",
            "Downloading artifacts to trained_models-2p5jki5f:v0\n"
          ]
        },
        {
          "output_type": "stream",
          "name": "stderr",
          "text": [
            "\u001b[34m\u001b[1mwandb\u001b[0m:   99 of 99 files downloaded.  \n"
          ]
        },
        {
          "output_type": "stream",
          "name": "stdout",
          "text": [
            "Artifacts downloaded cnt per type: {'trained_models': 1}\n",
            "Artifacts folders per type: {'trained_models': [PosixPath('trained_models-2p5jki5f:v0')]}\n",
            "\n",
            "\n",
            "Evaluating for `test` using `^VIX`: 56.650001525878906\n",
            "Init with NEW env state:\n",
            "\t initial_amount: 50000\n",
            "\t initial_stocks: None\n",
            "Initializing eval env... Done.\n",
            "\t initial_total_asset: 50000.0\n"
          ]
        },
        {
          "output_type": "display_data",
          "data": {
            "text/plain": [
              "<IPython.core.display.HTML object>"
            ],
            "text/html": []
          },
          "metadata": {}
        },
        {
          "output_type": "display_data",
          "data": {
            "text/plain": [
              "<IPython.core.display.HTML object>"
            ],
            "text/html": [
              "<br>    <style><br>        .wandb-row {<br>            display: flex;<br>            flex-direction: row;<br>            flex-wrap: wrap;<br>            justify-content: flex-start;<br>            width: 100%;<br>        }<br>        .wandb-col {<br>            display: flex;<br>            flex-direction: column;<br>            flex-basis: 100%;<br>            flex: 1;<br>            padding: 10px;<br>        }<br>    </style><br><div class=\"wandb-row\"><div class=\"wandb-col\"><h3>Run summary:</h3><br/><table class=\"wandb\"><tr><td>config_hash</td><td>1ea39a67636c8e66b006...</td></tr><tr><td>run.duration_minutes</td><td>4</td></tr><tr><td>test.q_100.agg_ann_return/ppo</td><td>1.87</td></tr><tr><td>test.q_100.agg_cum_return/ppo</td><td>1.87</td></tr><tr><td>test.q_100.agg_mdd/ppo</td><td>-13.38</td></tr><tr><td>test.q_100.agg_sharpe_ratio/ppo</td><td>0.17</td></tr><tr><td>test.q_100.ann_return/ppo</td><td>11.75</td></tr><tr><td>test.q_100.cum_return/ppo</td><td>1.87</td></tr><tr><td>test.q_100.end_amount/ppo</td><td>6.57</td></tr><tr><td>test.q_100.end_total_asset/ppo</td><td>50937.37</td></tr><tr><td>test.q_100.mdd/ppo</td><td>-7.44</td></tr><tr><td>test.q_100.sharpe_ratio/ppo</td><td>0.48</td></tr><tr><td>test.q_100.vix_historical_mean/ppo</td><td>14.1</td></tr><tr><td>test.q_100.vix_insample/ppo</td><td>56.65</td></tr><tr><td>test.q_100.vix_lookback_window/ppo</td><td>63</td></tr><tr><td>test.q_50.agg_ann_return/ppo</td><td>1.87</td></tr><tr><td>test.q_50.agg_cum_return/ppo</td><td>1.87</td></tr><tr><td>test.q_50.agg_mdd/ppo</td><td>-13.38</td></tr><tr><td>test.q_50.agg_sharpe_ratio/ppo</td><td>0.16</td></tr><tr><td>test.q_50.ann_return/ppo</td><td>11.75</td></tr><tr><td>test.q_50.cum_return/ppo</td><td>1.87</td></tr><tr><td>test.q_50.end_amount/ppo</td><td>6.57</td></tr><tr><td>test.q_50.end_total_asset/ppo</td><td>50937.37</td></tr><tr><td>test.q_50.mdd/ppo</td><td>-7.44</td></tr><tr><td>test.q_50.sharpe_ratio/ppo</td><td>0.48</td></tr><tr><td>test.q_50.vix_historical_mean/ppo</td><td>14.1</td></tr><tr><td>test.q_50.vix_insample/ppo</td><td>56.65</td></tr><tr><td>test.q_50.vix_lookback_window/ppo</td><td>63</td></tr><tr><td>test.vix.ann_return/ppo</td><td>30.89</td></tr><tr><td>test.vix.cum_return/ppo</td><td>4.76</td></tr><tr><td>test.vix.end_amount/ppo</td><td>0.13</td></tr><tr><td>test.vix.end_total_asset/ppo</td><td>56850.72</td></tr><tr><td>test.vix.mdd/ppo</td><td>-1.36</td></tr><tr><td>test.vix.sharpe_ratio/ppo</td><td>2.7</td></tr><tr><td>test.vix.vix/ppo</td><td>15</td></tr><tr><td>test.vix_10.ann_return/ppo</td><td>-2.78</td></tr><tr><td>test.vix_10.cum_return/ppo</td><td>-0.49</td></tr><tr><td>test.vix_10.end_amount/ppo</td><td>49757.39</td></tr><tr><td>test.vix_10.end_total_asset/ppo</td><td>49757.39</td></tr><tr><td>test.vix_10.mdd/ppo</td><td>-0.49</td></tr><tr><td>test.vix_10.sharpe_ratio/ppo</td><td>-4.24</td></tr><tr><td>test.vix_11.ann_return/ppo</td><td>2.38</td></tr><tr><td>test.vix_11.cum_return/ppo</td><td>0.41</td></tr><tr><td>test.vix_11.end_amount/ppo</td><td>50437.01</td></tr><tr><td>test.vix_11.end_total_asset/ppo</td><td>50437.01</td></tr><tr><td>test.vix_11.mdd/ppo</td><td>-1.71</td></tr><tr><td>test.vix_11.sharpe_ratio/ppo</td><td>0.38</td></tr><tr><td>test.vix_12.ann_return/ppo</td><td>12.77</td></tr><tr><td>test.vix_12.cum_return/ppo</td><td>2.1</td></tr><tr><td>test.vix_12.end_amount/ppo</td><td>12.05</td></tr><tr><td>test.vix_12.end_total_asset/ppo</td><td>53346.59</td></tr><tr><td>test.vix_12.mdd/ppo</td><td>-1.24</td></tr><tr><td>test.vix_12.sharpe_ratio/ppo</td><td>1.4</td></tr><tr><td>test.vix_13.ann_return/ppo</td><td>17.15</td></tr><tr><td>test.vix_13.cum_return/ppo</td><td>2.77</td></tr><tr><td>test.vix_13.end_amount/ppo</td><td>0.17</td></tr><tr><td>test.vix_13.end_total_asset/ppo</td><td>52121.01</td></tr><tr><td>test.vix_13.mdd/ppo</td><td>-1.3</td></tr><tr><td>test.vix_13.sharpe_ratio/ppo</td><td>1.78</td></tr><tr><td>test.vix_14.ann_return/ppo</td><td>19.46</td></tr><tr><td>test.vix_14.cum_return/ppo</td><td>3.12</td></tr><tr><td>test.vix_14.end_amount/ppo</td><td>12.32</td></tr><tr><td>test.vix_14.end_total_asset/ppo</td><td>49967.36</td></tr><tr><td>test.vix_14.mdd/ppo</td><td>-1.26</td></tr><tr><td>test.vix_14.sharpe_ratio/ppo</td><td>1.95</td></tr><tr><td>test.vix_15.ann_return/ppo</td><td>30.89</td></tr><tr><td>test.vix_15.cum_return/ppo</td><td>4.76</td></tr><tr><td>test.vix_15.end_amount/ppo</td><td>0.13</td></tr><tr><td>test.vix_15.end_total_asset/ppo</td><td>56850.72</td></tr><tr><td>test.vix_15.mdd/ppo</td><td>-1.36</td></tr><tr><td>test.vix_15.sharpe_ratio/ppo</td><td>2.7</td></tr><tr><td>test.vix_16.ann_return/ppo</td><td>63.29</td></tr><tr><td>test.vix_16.cum_return/ppo</td><td>8.83</td></tr><tr><td>test.vix_16.end_amount/ppo</td><td>7.04</td></tr><tr><td>test.vix_16.end_total_asset/ppo</td><td>54415.91</td></tr><tr><td>test.vix_16.mdd/ppo</td><td>-1.52</td></tr><tr><td>test.vix_16.sharpe_ratio/ppo</td><td>4.27</td></tr><tr><td>test.vix_17.ann_return/ppo</td><td>63.29</td></tr><tr><td>test.vix_17.cum_return/ppo</td><td>8.83</td></tr><tr><td>test.vix_17.end_amount/ppo</td><td>7.04</td></tr><tr><td>test.vix_17.end_total_asset/ppo</td><td>54415.91</td></tr><tr><td>test.vix_17.mdd/ppo</td><td>-1.52</td></tr><tr><td>test.vix_17.sharpe_ratio/ppo</td><td>4.27</td></tr><tr><td>test.vix_best.agg_ann_return/ppo</td><td>8.49</td></tr><tr><td>test.vix_best.agg_cum_return/ppo</td><td>8.83</td></tr><tr><td>test.vix_best.agg_mdd/ppo</td><td>-13.8</td></tr><tr><td>test.vix_best.agg_sharpe_ratio/ppo</td><td>0.47</td></tr><tr><td>test.vix_best.ann_return/ppo</td><td>52.34</td></tr><tr><td>test.vix_best.cum_return/ppo</td><td>7.54</td></tr><tr><td>test.vix_best.mdd/ppo</td><td>-1.55</td></tr><tr><td>test.vix_best.sharpe_ratio/ppo</td><td>3.39</td></tr><tr><td>test.vix_best.vix/ppo</td><td>17</td></tr><tr><td>test.vix_chosen.agg_ann_return/ppo</td><td>13.16</td></tr><tr><td>test.vix_chosen.agg_cum_return/ppo</td><td>13.7</td></tr><tr><td>test.vix_chosen.agg_mdd/ppo</td><td>-13.11</td></tr><tr><td>test.vix_chosen.agg_sharpe_ratio/ppo</td><td>0.79</td></tr><tr><td>test.vix_chosen.ann_return/ppo</td><td>16.95</td></tr><tr><td>test.vix_chosen.cum_return/ppo</td><td>2.74</td></tr><tr><td>test.vix_chosen.mdd/ppo</td><td>-1.47</td></tr><tr><td>test.vix_chosen.sharpe_ratio/ppo</td><td>1.67</td></tr><tr><td>test.vix_chosen.vix/ppo</td><td>14</td></tr><tr><td>train.ann_return/ppo</td><td>40.25253</td></tr><tr><td>train.cum_return/ppo</td><td>254.34883</td></tr><tr><td>train.duration_minutes/ppo</td><td>3.7</td></tr><tr><td>train.mdd/ppo</td><td>-40.57144</td></tr><tr><td>train.sharpe_ratio/ppo</td><td>0.99527</td></tr><tr><td>val.ann_return/ppo</td><td>40933.10286</td></tr><tr><td>val.cum_return/ppo</td><td>8.15794</td></tr><tr><td>val.mdd/ppo</td><td>-4.16651</td></tr><tr><td>val.num_pretrain_iters</td><td>24</td></tr><tr><td>val.sharpe_ratio/ppo</td><td>4.00258</td></tr><tr><td>val.vix.ann_return/ppo</td><td>65.01</td></tr><tr><td>val.vix.cum_return/ppo</td><td>8.88</td></tr><tr><td>val.vix.end_amount/ppo</td><td>6.77</td></tr><tr><td>val.vix.end_total_asset/ppo</td><td>54439.79</td></tr><tr><td>val.vix.mdd/ppo</td><td>-1.93</td></tr><tr><td>val.vix.sharpe_ratio/ppo</td><td>4.99</td></tr><tr><td>val.vix.vix/ppo</td><td>15</td></tr><tr><td>val.vix_11.ann_return/ppo</td><td>3.81</td></tr><tr><td>val.vix_11.cum_return/ppo</td><td>0.64</td></tr><tr><td>val.vix_11.end_amount/ppo</td><td>50318.9</td></tr><tr><td>val.vix_11.end_total_asset/ppo</td><td>50318.9</td></tr><tr><td>val.vix_11.mdd/ppo</td><td>-0.11</td></tr><tr><td>val.vix_11.sharpe_ratio/ppo</td><td>2.84</td></tr><tr><td>val.vix_12.ann_return/ppo</td><td>36.31</td></tr><tr><td>val.vix_12.cum_return/ppo</td><td>5.4</td></tr><tr><td>val.vix_12.end_amount/ppo</td><td>52701.11</td></tr><tr><td>val.vix_12.end_total_asset/ppo</td><td>52701.11</td></tr><tr><td>val.vix_12.mdd/ppo</td><td>-1.86</td></tr><tr><td>val.vix_12.sharpe_ratio/ppo</td><td>3.89</td></tr><tr><td>val.vix_13.ann_return/ppo</td><td>56.55</td></tr><tr><td>val.vix_13.cum_return/ppo</td><td>7.91</td></tr><tr><td>val.vix_13.end_amount/ppo</td><td>4.83</td></tr><tr><td>val.vix_13.end_total_asset/ppo</td><td>53955.47</td></tr><tr><td>val.vix_13.mdd/ppo</td><td>-1.97</td></tr><tr><td>val.vix_13.sharpe_ratio/ppo</td><td>4.5</td></tr><tr><td>val.vix_14.ann_return/ppo</td><td>64.61</td></tr><tr><td>val.vix_14.cum_return/ppo</td><td>8.84</td></tr><tr><td>val.vix_14.end_amount/ppo</td><td>0.61</td></tr><tr><td>val.vix_14.end_total_asset/ppo</td><td>54417.58</td></tr><tr><td>val.vix_14.mdd/ppo</td><td>-1.97</td></tr><tr><td>val.vix_14.sharpe_ratio/ppo</td><td>4.95</td></tr><tr><td>val.vix_15.ann_return/ppo</td><td>65.01</td></tr><tr><td>val.vix_15.cum_return/ppo</td><td>8.88</td></tr><tr><td>val.vix_15.end_amount/ppo</td><td>6.77</td></tr><tr><td>val.vix_15.end_total_asset/ppo</td><td>54439.79</td></tr><tr><td>val.vix_15.mdd/ppo</td><td>-1.93</td></tr><tr><td>val.vix_15.sharpe_ratio/ppo</td><td>4.99</td></tr><tr><td>val.vix_best.ann_return/ppo</td><td>63.27</td></tr><tr><td>val.vix_best.cum_return/ppo</td><td>8.68</td></tr><tr><td>val.vix_best.mdd/ppo</td><td>-2.31</td></tr><tr><td>val.vix_best.sharpe_ratio/ppo</td><td>4.2</td></tr><tr><td>val.vix_best.vix/ppo</td><td>14</td></tr></table><br/></div></div>"
            ]
          },
          "metadata": {}
        },
        {
          "output_type": "display_data",
          "data": {
            "text/plain": [
              "<IPython.core.display.HTML object>"
            ],
            "text/html": [
              " View run <strong style=\"color:#cdcd00\">DOW-30 | 2016-10 | 2017 Q1 | 2017 Q2 | 2p5jki5f</strong> at: <a href='https://wandb.ai/overfit1010/finrl-dt-replicate/runs/2p5jki5f' target=\"_blank\">https://wandb.ai/overfit1010/finrl-dt-replicate/runs/2p5jki5f</a><br> View project at: <a href='https://wandb.ai/overfit1010/finrl-dt-replicate' target=\"_blank\">https://wandb.ai/overfit1010/finrl-dt-replicate</a><br>Synced 5 W&B file(s), 0 media file(s), 0 artifact file(s) and 0 other file(s)"
            ]
          },
          "metadata": {}
        },
        {
          "output_type": "display_data",
          "data": {
            "text/plain": [
              "<IPython.core.display.HTML object>"
            ],
            "text/html": [
              "Find logs at: <code>./wandb/run-20250220_160702-2p5jki5f/logs</code>"
            ]
          },
          "metadata": {}
        },
        {
          "output_type": "stream",
          "name": "stdout",
          "text": [
            "\n",
            "Run #6: aq52fdyv\n",
            "test_start_date 2017-07-01 00:00:00\n",
            "val_start_date 2017-04-01 00:00:00\n",
            "Threshold: historical: 11.73 | insample: 56.65\n",
            "turbulence_threshold: 56.65\n"
          ]
        },
        {
          "output_type": "display_data",
          "data": {
            "text/plain": [
              "<IPython.core.display.HTML object>"
            ],
            "text/html": [
              "Tracking run with wandb version 0.19.6"
            ]
          },
          "metadata": {}
        },
        {
          "output_type": "display_data",
          "data": {
            "text/plain": [
              "<IPython.core.display.HTML object>"
            ],
            "text/html": [
              "Run data is saved locally in <code>/content/wandb/run-20250220_160708-aq52fdyv</code>"
            ]
          },
          "metadata": {}
        },
        {
          "output_type": "display_data",
          "data": {
            "text/plain": [
              "<IPython.core.display.HTML object>"
            ],
            "text/html": [
              "Resuming run <strong><a href='https://wandb.ai/overfit1010/finrl-dt-replicate/runs/aq52fdyv' target=\"_blank\">DOW-30 | 2017-01 | 2017 Q2 | 2017 Q3 | aq52fdyv</a></strong> to <a href='https://wandb.ai/overfit1010/finrl-dt-replicate' target=\"_blank\">Weights & Biases</a> (<a href='https://wandb.me/developer-guide' target=\"_blank\">docs</a>)<br>Sweep page: <a href='https://wandb.ai/overfit1010/finrl-dt-replicate/sweeps/yd7fz9as' target=\"_blank\">https://wandb.ai/overfit1010/finrl-dt-replicate/sweeps/yd7fz9as</a>"
            ]
          },
          "metadata": {}
        },
        {
          "output_type": "display_data",
          "data": {
            "text/plain": [
              "<IPython.core.display.HTML object>"
            ],
            "text/html": [
              " View project at <a href='https://wandb.ai/overfit1010/finrl-dt-replicate' target=\"_blank\">https://wandb.ai/overfit1010/finrl-dt-replicate</a>"
            ]
          },
          "metadata": {}
        },
        {
          "output_type": "display_data",
          "data": {
            "text/plain": [
              "<IPython.core.display.HTML object>"
            ],
            "text/html": [
              " View sweep at <a href='https://wandb.ai/overfit1010/finrl-dt-replicate/sweeps/yd7fz9as' target=\"_blank\">https://wandb.ai/overfit1010/finrl-dt-replicate/sweeps/yd7fz9as</a>"
            ]
          },
          "metadata": {}
        },
        {
          "output_type": "display_data",
          "data": {
            "text/plain": [
              "<IPython.core.display.HTML object>"
            ],
            "text/html": [
              " View run at <a href='https://wandb.ai/overfit1010/finrl-dt-replicate/runs/aq52fdyv' target=\"_blank\">https://wandb.ai/overfit1010/finrl-dt-replicate/runs/aq52fdyv</a>"
            ]
          },
          "metadata": {}
        },
        {
          "output_type": "stream",
          "name": "stdout",
          "text": [
            "Downloading artifacts to trained_models-aq52fdyv:v0\n"
          ]
        },
        {
          "output_type": "stream",
          "name": "stderr",
          "text": [
            "\u001b[34m\u001b[1mwandb\u001b[0m:   99 of 99 files downloaded.  \n"
          ]
        },
        {
          "output_type": "stream",
          "name": "stdout",
          "text": [
            "Artifacts downloaded cnt per type: {'trained_models': 1}\n",
            "Artifacts folders per type: {'trained_models': [PosixPath('trained_models-aq52fdyv:v0')]}\n",
            "\n",
            "\n",
            "Evaluating for `test` using `^VIX`: 56.650001525878906\n",
            "Init with NEW env state:\n",
            "\t initial_amount: 50000\n",
            "\t initial_stocks: None\n",
            "Initializing eval env... Done.\n",
            "\t initial_total_asset: 50000.0\n",
            "test_start_date 2017-07-01 00:00:00\n",
            "val_start_date 2017-04-01 00:00:00\n",
            "Threshold: historical: 11.73 | insample: 56.65\n",
            "turbulence_threshold: 56.65\n",
            "Downloading artifacts to trained_models-aq52fdyv:v0\n"
          ]
        },
        {
          "output_type": "stream",
          "name": "stderr",
          "text": [
            "\u001b[34m\u001b[1mwandb\u001b[0m: \\ 1 of 99 files downloaded...\r\u001b[34m\u001b[1mwandb\u001b[0m:   99 of 99 files downloaded.  \n"
          ]
        },
        {
          "output_type": "stream",
          "name": "stdout",
          "text": [
            "Artifacts downloaded cnt per type: {'trained_models': 1}\n",
            "Artifacts folders per type: {'trained_models': [PosixPath('trained_models-aq52fdyv:v0')]}\n",
            "\n",
            "\n",
            "Evaluating for `test` using `^VIX`: 56.650001525878906\n",
            "Init with NEW env state:\n",
            "\t initial_amount: 50000\n",
            "\t initial_stocks: None\n",
            "Initializing eval env... Done.\n",
            "\t initial_total_asset: 50000.0\n"
          ]
        },
        {
          "output_type": "display_data",
          "data": {
            "text/plain": [
              "<IPython.core.display.HTML object>"
            ],
            "text/html": []
          },
          "metadata": {}
        },
        {
          "output_type": "display_data",
          "data": {
            "text/plain": [
              "<IPython.core.display.HTML object>"
            ],
            "text/html": [
              "<br>    <style><br>        .wandb-row {<br>            display: flex;<br>            flex-direction: row;<br>            flex-wrap: wrap;<br>            justify-content: flex-start;<br>            width: 100%;<br>        }<br>        .wandb-col {<br>            display: flex;<br>            flex-direction: column;<br>            flex-basis: 100%;<br>            flex: 1;<br>            padding: 10px;<br>        }<br>    </style><br><div class=\"wandb-row\"><div class=\"wandb-col\"><h3>Run summary:</h3><br/><table class=\"wandb\"><tr><td>config_hash</td><td>1ea39a67636c8e66b006...</td></tr><tr><td>run.duration_minutes</td><td>4.1</td></tr><tr><td>test.q_100.agg_ann_return/ppo</td><td>4.19</td></tr><tr><td>test.q_100.agg_cum_return/ppo</td><td>4.92</td></tr><tr><td>test.q_100.agg_mdd/ppo</td><td>-13.38</td></tr><tr><td>test.q_100.agg_sharpe_ratio/ppo</td><td>0.24</td></tr><tr><td>test.q_100.ann_return/ppo</td><td>33.33</td></tr><tr><td>test.q_100.cum_return/ppo</td><td>4.92</td></tr><tr><td>test.q_100.end_amount/ppo</td><td>7.07</td></tr><tr><td>test.q_100.end_total_asset/ppo</td><td>52462.42</td></tr><tr><td>test.q_100.mdd/ppo</td><td>-6.33</td></tr><tr><td>test.q_100.sharpe_ratio/ppo</td><td>1.14</td></tr><tr><td>test.q_100.vix_historical_mean/ppo</td><td>11.73</td></tr><tr><td>test.q_100.vix_insample/ppo</td><td>56.65</td></tr><tr><td>test.q_100.vix_lookback_window/ppo</td><td>63</td></tr><tr><td>test.q_50.agg_ann_return/ppo</td><td>4.19</td></tr><tr><td>test.q_50.agg_cum_return/ppo</td><td>4.92</td></tr><tr><td>test.q_50.agg_mdd/ppo</td><td>-13.38</td></tr><tr><td>test.q_50.agg_sharpe_ratio/ppo</td><td>0.24</td></tr><tr><td>test.q_50.ann_return/ppo</td><td>33.33</td></tr><tr><td>test.q_50.cum_return/ppo</td><td>4.92</td></tr><tr><td>test.q_50.end_amount/ppo</td><td>7.07</td></tr><tr><td>test.q_50.end_total_asset/ppo</td><td>52462.42</td></tr><tr><td>test.q_50.mdd/ppo</td><td>-6.33</td></tr><tr><td>test.q_50.sharpe_ratio/ppo</td><td>1.14</td></tr><tr><td>test.q_50.vix_historical_mean/ppo</td><td>11.73</td></tr><tr><td>test.q_50.vix_insample/ppo</td><td>56.65</td></tr><tr><td>test.q_50.vix_lookback_window/ppo</td><td>63</td></tr><tr><td>test.vix.ann_return/ppo</td><td>66.25</td></tr><tr><td>test.vix.cum_return/ppo</td><td>9.17</td></tr><tr><td>test.vix.end_amount/ppo</td><td>15.37</td></tr><tr><td>test.vix.end_total_asset/ppo</td><td>59349.47</td></tr><tr><td>test.vix.mdd/ppo</td><td>-1.88</td></tr><tr><td>test.vix.sharpe_ratio/ppo</td><td>4.17</td></tr><tr><td>test.vix.vix/ppo</td><td>17</td></tr><tr><td>test.vix_10.ann_return/ppo</td><td>7.43</td></tr><tr><td>test.vix_10.cum_return/ppo</td><td>1.24</td></tr><tr><td>test.vix_10.end_amount/ppo</td><td>5242.05</td></tr><tr><td>test.vix_10.end_total_asset/ppo</td><td>50375.73</td></tr><tr><td>test.vix_10.mdd/ppo</td><td>-1.67</td></tr><tr><td>test.vix_10.sharpe_ratio/ppo</td><td>1.25</td></tr><tr><td>test.vix_11.ann_return/ppo</td><td>24.99</td></tr><tr><td>test.vix_11.cum_return/ppo</td><td>3.92</td></tr><tr><td>test.vix_11.end_amount/ppo</td><td>21.27</td></tr><tr><td>test.vix_11.end_total_asset/ppo</td><td>52414.71</td></tr><tr><td>test.vix_11.mdd/ppo</td><td>-1.77</td></tr><tr><td>test.vix_11.sharpe_ratio/ppo</td><td>2.95</td></tr><tr><td>test.vix_12.ann_return/ppo</td><td>5.03</td></tr><tr><td>test.vix_12.cum_return/ppo</td><td>0.85</td></tr><tr><td>test.vix_12.end_amount/ppo</td><td>19.33</td></tr><tr><td>test.vix_12.end_total_asset/ppo</td><td>54296.81</td></tr><tr><td>test.vix_12.mdd/ppo</td><td>-3.51</td></tr><tr><td>test.vix_12.sharpe_ratio/ppo</td><td>0.57</td></tr><tr><td>test.vix_13.ann_return/ppo</td><td>41.3</td></tr><tr><td>test.vix_13.cum_return/ppo</td><td>6.15</td></tr><tr><td>test.vix_13.end_amount/ppo</td><td>19.84</td></tr><tr><td>test.vix_13.end_total_asset/ppo</td><td>58670.48</td></tr><tr><td>test.vix_13.mdd/ppo</td><td>-2.94</td></tr><tr><td>test.vix_13.sharpe_ratio/ppo</td><td>3.05</td></tr><tr><td>test.vix_14.ann_return/ppo</td><td>44.3</td></tr><tr><td>test.vix_14.cum_return/ppo</td><td>6.53</td></tr><tr><td>test.vix_14.end_amount/ppo</td><td>10.99</td></tr><tr><td>test.vix_14.end_total_asset/ppo</td><td>59570.99</td></tr><tr><td>test.vix_14.mdd/ppo</td><td>-2.94</td></tr><tr><td>test.vix_14.sharpe_ratio/ppo</td><td>3.26</td></tr><tr><td>test.vix_15.ann_return/ppo</td><td>41.97</td></tr><tr><td>test.vix_15.cum_return/ppo</td><td>6.24</td></tr><tr><td>test.vix_15.end_amount/ppo</td><td>0.62</td></tr><tr><td>test.vix_15.end_total_asset/ppo</td><td>60469.61</td></tr><tr><td>test.vix_15.mdd/ppo</td><td>-2.46</td></tr><tr><td>test.vix_15.sharpe_ratio/ppo</td><td>3.22</td></tr><tr><td>test.vix_16.ann_return/ppo</td><td>44.21</td></tr><tr><td>test.vix_16.cum_return/ppo</td><td>6.52</td></tr><tr><td>test.vix_16.end_amount/ppo</td><td>15.19</td></tr><tr><td>test.vix_16.end_total_asset/ppo</td><td>57910.39</td></tr><tr><td>test.vix_16.mdd/ppo</td><td>-2.2</td></tr><tr><td>test.vix_16.sharpe_ratio/ppo</td><td>3.2</td></tr><tr><td>test.vix_17.ann_return/ppo</td><td>66.25</td></tr><tr><td>test.vix_17.cum_return/ppo</td><td>9.17</td></tr><tr><td>test.vix_17.end_amount/ppo</td><td>15.37</td></tr><tr><td>test.vix_17.end_total_asset/ppo</td><td>59349.47</td></tr><tr><td>test.vix_17.mdd/ppo</td><td>-1.88</td></tr><tr><td>test.vix_17.sharpe_ratio/ppo</td><td>4.17</td></tr><tr><td>test.vix_18.ann_return/ppo</td><td>53.1</td></tr><tr><td>test.vix_18.cum_return/ppo</td><td>7.63</td></tr><tr><td>test.vix_18.end_amount/ppo</td><td>20.59</td></tr><tr><td>test.vix_18.end_total_asset/ppo</td><td>53814.4</td></tr><tr><td>test.vix_18.mdd/ppo</td><td>-1.78</td></tr><tr><td>test.vix_18.sharpe_ratio/ppo</td><td>3.67</td></tr><tr><td>test.vix_best.agg_ann_return/ppo</td><td>15.21</td></tr><tr><td>test.vix_best.agg_cum_return/ppo</td><td>18.7</td></tr><tr><td>test.vix_best.agg_mdd/ppo</td><td>-13.8</td></tr><tr><td>test.vix_best.agg_sharpe_ratio/ppo</td><td>0.78</td></tr><tr><td>test.vix_best.ann_return/ppo</td><td>90.14</td></tr><tr><td>test.vix_best.cum_return/ppo</td><td>11.73</td></tr><tr><td>test.vix_best.mdd/ppo</td><td>-2</td></tr><tr><td>test.vix_best.sharpe_ratio/ppo</td><td>4.25</td></tr><tr><td>test.vix_best.vix/ppo</td><td>18</td></tr><tr><td>test.vix_chosen.agg_ann_return/ppo</td><td>15.21</td></tr><tr><td>test.vix_chosen.agg_cum_return/ppo</td><td>18.7</td></tr><tr><td>test.vix_chosen.agg_mdd/ppo</td><td>-13.11</td></tr><tr><td>test.vix_chosen.agg_sharpe_ratio/ppo</td><td>0.89</td></tr><tr><td>test.vix_chosen.ann_return/ppo</td><td>14.69</td></tr><tr><td>test.vix_chosen.cum_return/ppo</td><td>2.39</td></tr><tr><td>test.vix_chosen.mdd/ppo</td><td>-1.7</td></tr><tr><td>test.vix_chosen.sharpe_ratio/ppo</td><td>1.35</td></tr><tr><td>test.vix_chosen.vix/ppo</td><td>10</td></tr><tr><td>train.ann_return/ppo</td><td>30.27482</td></tr><tr><td>train.cum_return/ppo</td><td>136.52825</td></tr><tr><td>train.duration_minutes/ppo</td><td>3.7</td></tr><tr><td>train.mdd/ppo</td><td>-37.88223</td></tr><tr><td>train.sharpe_ratio/ppo</td><td>0.83593</td></tr><tr><td>val.ann_return/ppo</td><td>152.44</td></tr><tr><td>val.cum_return/ppo</td><td>5.29349</td></tr><tr><td>val.mdd/ppo</td><td>-5.10603</td></tr><tr><td>val.num_pretrain_iters</td><td>28</td></tr><tr><td>val.sharpe_ratio/ppo</td><td>3.41919</td></tr><tr><td>val.vix.ann_return/ppo</td><td>62.89</td></tr><tr><td>val.vix.cum_return/ppo</td><td>8.79</td></tr><tr><td>val.vix.end_amount/ppo</td><td>11.54</td></tr><tr><td>val.vix.end_total_asset/ppo</td><td>54393.08</td></tr><tr><td>val.vix.mdd/ppo</td><td>-1.76</td></tr><tr><td>val.vix.sharpe_ratio/ppo</td><td>3.86</td></tr><tr><td>val.vix.vix/ppo</td><td>17</td></tr><tr><td>val.vix_10.ann_return/ppo</td><td>-2.48</td></tr><tr><td>val.vix_10.cum_return/ppo</td><td>-0.43</td></tr><tr><td>val.vix_10.end_amount/ppo</td><td>49783.94</td></tr><tr><td>val.vix_10.end_total_asset/ppo</td><td>49783.94</td></tr><tr><td>val.vix_10.mdd/ppo</td><td>-0.43</td></tr><tr><td>val.vix_10.sharpe_ratio/ppo</td><td>-4.46</td></tr><tr><td>val.vix_11.ann_return/ppo</td><td>5.81</td></tr><tr><td>val.vix_11.cum_return/ppo</td><td>0.98</td></tr><tr><td>val.vix_11.end_amount/ppo</td><td>50489.62</td></tr><tr><td>val.vix_11.end_total_asset/ppo</td><td>50489.62</td></tr><tr><td>val.vix_11.mdd/ppo</td><td>-1.24</td></tr><tr><td>val.vix_11.sharpe_ratio/ppo</td><td>0.85</td></tr><tr><td>val.vix_12.ann_return/ppo</td><td>17.8</td></tr><tr><td>val.vix_12.cum_return/ppo</td><td>2.87</td></tr><tr><td>val.vix_12.end_amount/ppo</td><td>1.45</td></tr><tr><td>val.vix_12.end_total_asset/ppo</td><td>51434.23</td></tr><tr><td>val.vix_12.mdd/ppo</td><td>-1.22</td></tr><tr><td>val.vix_12.sharpe_ratio/ppo</td><td>1.89</td></tr><tr><td>val.vix_13.ann_return/ppo</td><td>17.63</td></tr><tr><td>val.vix_13.cum_return/ppo</td><td>2.84</td></tr><tr><td>val.vix_13.end_amount/ppo</td><td>4.22</td></tr><tr><td>val.vix_13.end_total_asset/ppo</td><td>51421.18</td></tr><tr><td>val.vix_13.mdd/ppo</td><td>-1.22</td></tr><tr><td>val.vix_13.sharpe_ratio/ppo</td><td>1.88</td></tr><tr><td>val.vix_14.ann_return/ppo</td><td>17.63</td></tr><tr><td>val.vix_14.cum_return/ppo</td><td>2.84</td></tr><tr><td>val.vix_14.end_amount/ppo</td><td>4.22</td></tr><tr><td>val.vix_14.end_total_asset/ppo</td><td>51421.18</td></tr><tr><td>val.vix_14.mdd/ppo</td><td>-1.22</td></tr><tr><td>val.vix_14.sharpe_ratio/ppo</td><td>1.88</td></tr><tr><td>val.vix_15.ann_return/ppo</td><td>46.62</td></tr><tr><td>val.vix_15.cum_return/ppo</td><td>6.83</td></tr><tr><td>val.vix_15.end_amount/ppo</td><td>10.42</td></tr><tr><td>val.vix_15.end_total_asset/ppo</td><td>53414.22</td></tr><tr><td>val.vix_15.mdd/ppo</td><td>-1.74</td></tr><tr><td>val.vix_15.sharpe_ratio/ppo</td><td>3.6</td></tr><tr><td>val.vix_16.ann_return/ppo</td><td>62.66</td></tr><tr><td>val.vix_16.cum_return/ppo</td><td>8.76</td></tr><tr><td>val.vix_16.end_amount/ppo</td><td>15.07</td></tr><tr><td>val.vix_16.end_total_asset/ppo</td><td>54379.78</td></tr><tr><td>val.vix_16.mdd/ppo</td><td>-1.75</td></tr><tr><td>val.vix_16.sharpe_ratio/ppo</td><td>3.85</td></tr><tr><td>val.vix_17.ann_return/ppo</td><td>62.89</td></tr><tr><td>val.vix_17.cum_return/ppo</td><td>8.79</td></tr><tr><td>val.vix_17.end_amount/ppo</td><td>11.54</td></tr><tr><td>val.vix_17.end_total_asset/ppo</td><td>54393.08</td></tr><tr><td>val.vix_17.mdd/ppo</td><td>-1.76</td></tr><tr><td>val.vix_17.sharpe_ratio/ppo</td><td>3.86</td></tr><tr><td>val.vix_best.ann_return/ppo</td><td>11.22</td></tr><tr><td>val.vix_best.cum_return/ppo</td><td>1.85</td></tr><tr><td>val.vix_best.mdd/ppo</td><td>-0.94</td></tr><tr><td>val.vix_best.sharpe_ratio/ppo</td><td>1.3</td></tr><tr><td>val.vix_best.vix/ppo</td><td>10</td></tr></table><br/></div></div>"
            ]
          },
          "metadata": {}
        },
        {
          "output_type": "display_data",
          "data": {
            "text/plain": [
              "<IPython.core.display.HTML object>"
            ],
            "text/html": [
              " View run <strong style=\"color:#cdcd00\">DOW-30 | 2017-01 | 2017 Q2 | 2017 Q3 | aq52fdyv</strong> at: <a href='https://wandb.ai/overfit1010/finrl-dt-replicate/runs/aq52fdyv' target=\"_blank\">https://wandb.ai/overfit1010/finrl-dt-replicate/runs/aq52fdyv</a><br> View project at: <a href='https://wandb.ai/overfit1010/finrl-dt-replicate' target=\"_blank\">https://wandb.ai/overfit1010/finrl-dt-replicate</a><br>Synced 5 W&B file(s), 0 media file(s), 0 artifact file(s) and 0 other file(s)"
            ]
          },
          "metadata": {}
        },
        {
          "output_type": "display_data",
          "data": {
            "text/plain": [
              "<IPython.core.display.HTML object>"
            ],
            "text/html": [
              "Find logs at: <code>./wandb/run-20250220_160708-aq52fdyv/logs</code>"
            ]
          },
          "metadata": {}
        },
        {
          "output_type": "stream",
          "name": "stdout",
          "text": [
            "\n",
            "Run #7: 7mlsk2wg\n",
            "test_start_date 2017-10-01 00:00:00\n",
            "val_start_date 2017-07-01 00:00:00\n",
            "Threshold: historical: 11.43 | insample: 56.65\n",
            "turbulence_threshold: 56.65\n"
          ]
        },
        {
          "output_type": "display_data",
          "data": {
            "text/plain": [
              "<IPython.core.display.HTML object>"
            ],
            "text/html": [
              "Tracking run with wandb version 0.19.6"
            ]
          },
          "metadata": {}
        },
        {
          "output_type": "display_data",
          "data": {
            "text/plain": [
              "<IPython.core.display.HTML object>"
            ],
            "text/html": [
              "Run data is saved locally in <code>/content/wandb/run-20250220_160714-7mlsk2wg</code>"
            ]
          },
          "metadata": {}
        },
        {
          "output_type": "display_data",
          "data": {
            "text/plain": [
              "<IPython.core.display.HTML object>"
            ],
            "text/html": [
              "Resuming run <strong><a href='https://wandb.ai/overfit1010/finrl-dt-replicate/runs/7mlsk2wg' target=\"_blank\">DOW-30 | 2017-04 | 2017 Q3 | 2017 Q4 | 7mlsk2wg</a></strong> to <a href='https://wandb.ai/overfit1010/finrl-dt-replicate' target=\"_blank\">Weights & Biases</a> (<a href='https://wandb.me/developer-guide' target=\"_blank\">docs</a>)<br>Sweep page: <a href='https://wandb.ai/overfit1010/finrl-dt-replicate/sweeps/yd7fz9as' target=\"_blank\">https://wandb.ai/overfit1010/finrl-dt-replicate/sweeps/yd7fz9as</a>"
            ]
          },
          "metadata": {}
        },
        {
          "output_type": "display_data",
          "data": {
            "text/plain": [
              "<IPython.core.display.HTML object>"
            ],
            "text/html": [
              " View project at <a href='https://wandb.ai/overfit1010/finrl-dt-replicate' target=\"_blank\">https://wandb.ai/overfit1010/finrl-dt-replicate</a>"
            ]
          },
          "metadata": {}
        },
        {
          "output_type": "display_data",
          "data": {
            "text/plain": [
              "<IPython.core.display.HTML object>"
            ],
            "text/html": [
              " View sweep at <a href='https://wandb.ai/overfit1010/finrl-dt-replicate/sweeps/yd7fz9as' target=\"_blank\">https://wandb.ai/overfit1010/finrl-dt-replicate/sweeps/yd7fz9as</a>"
            ]
          },
          "metadata": {}
        },
        {
          "output_type": "display_data",
          "data": {
            "text/plain": [
              "<IPython.core.display.HTML object>"
            ],
            "text/html": [
              " View run at <a href='https://wandb.ai/overfit1010/finrl-dt-replicate/runs/7mlsk2wg' target=\"_blank\">https://wandb.ai/overfit1010/finrl-dt-replicate/runs/7mlsk2wg</a>"
            ]
          },
          "metadata": {}
        },
        {
          "output_type": "stream",
          "name": "stdout",
          "text": [
            "Downloading artifacts to trained_models-7mlsk2wg:v0\n"
          ]
        },
        {
          "output_type": "stream",
          "name": "stderr",
          "text": [
            "\u001b[34m\u001b[1mwandb\u001b[0m:   99 of 99 files downloaded.  \n"
          ]
        },
        {
          "output_type": "stream",
          "name": "stdout",
          "text": [
            "Artifacts downloaded cnt per type: {'trained_models': 1}\n",
            "Artifacts folders per type: {'trained_models': [PosixPath('trained_models-7mlsk2wg:v0')]}\n",
            "\n",
            "\n",
            "Evaluating for `test` using `^VIX`: 56.650001525878906\n",
            "Init with NEW env state:\n",
            "\t initial_amount: 50000\n",
            "\t initial_stocks: None\n",
            "Initializing eval env... Done.\n",
            "\t initial_total_asset: 50000.0\n",
            "test_start_date 2017-10-01 00:00:00\n",
            "val_start_date 2017-07-01 00:00:00\n",
            "Threshold: historical: 11.43 | insample: 56.65\n",
            "turbulence_threshold: 56.65\n",
            "Downloading artifacts to trained_models-7mlsk2wg:v0\n"
          ]
        },
        {
          "output_type": "stream",
          "name": "stderr",
          "text": [
            "\u001b[34m\u001b[1mwandb\u001b[0m: \\ 1 of 99 files downloaded...\r\u001b[34m\u001b[1mwandb\u001b[0m:   99 of 99 files downloaded.  \n"
          ]
        },
        {
          "output_type": "stream",
          "name": "stdout",
          "text": [
            "Artifacts downloaded cnt per type: {'trained_models': 1}\n",
            "Artifacts folders per type: {'trained_models': [PosixPath('trained_models-7mlsk2wg:v0')]}\n",
            "\n",
            "\n",
            "Evaluating for `test` using `^VIX`: 56.650001525878906\n",
            "Init with NEW env state:\n",
            "\t initial_amount: 50000\n",
            "\t initial_stocks: None\n",
            "Initializing eval env... Done.\n",
            "\t initial_total_asset: 50000.0\n"
          ]
        },
        {
          "output_type": "display_data",
          "data": {
            "text/plain": [
              "<IPython.core.display.HTML object>"
            ],
            "text/html": []
          },
          "metadata": {}
        },
        {
          "output_type": "display_data",
          "data": {
            "text/plain": [
              "<IPython.core.display.HTML object>"
            ],
            "text/html": [
              "<br>    <style><br>        .wandb-row {<br>            display: flex;<br>            flex-direction: row;<br>            flex-wrap: wrap;<br>            justify-content: flex-start;<br>            width: 100%;<br>        }<br>        .wandb-col {<br>            display: flex;<br>            flex-direction: column;<br>            flex-basis: 100%;<br>            flex: 1;<br>            padding: 10px;<br>        }<br>    </style><br><div class=\"wandb-row\"><div class=\"wandb-col\"><h3>Run summary:</h3><br/><table class=\"wandb\"><tr><td>config_hash</td><td>1ea39a67636c8e66b006...</td></tr><tr><td>run.duration_minutes</td><td>4.4</td></tr><tr><td>test.q_100.agg_ann_return/ppo</td><td>2.64</td></tr><tr><td>test.q_100.agg_cum_return/ppo</td><td>3.54</td></tr><tr><td>test.q_100.agg_mdd/ppo</td><td>-13.38</td></tr><tr><td>test.q_100.agg_sharpe_ratio/ppo</td><td>0.19</td></tr><tr><td>test.q_100.ann_return/ppo</td><td>23.13</td></tr><tr><td>test.q_100.cum_return/ppo</td><td>3.54</td></tr><tr><td>test.q_100.end_amount/ppo</td><td>0</td></tr><tr><td>test.q_100.end_total_asset/ppo</td><td>51769.3</td></tr><tr><td>test.q_100.mdd/ppo</td><td>-8.17</td></tr><tr><td>test.q_100.sharpe_ratio/ppo</td><td>0.83</td></tr><tr><td>test.q_100.vix_historical_mean/ppo</td><td>11.43</td></tr><tr><td>test.q_100.vix_insample/ppo</td><td>56.65</td></tr><tr><td>test.q_100.vix_lookback_window/ppo</td><td>63</td></tr><tr><td>test.q_50.agg_ann_return/ppo</td><td>2.64</td></tr><tr><td>test.q_50.agg_cum_return/ppo</td><td>3.54</td></tr><tr><td>test.q_50.agg_mdd/ppo</td><td>-13.38</td></tr><tr><td>test.q_50.agg_sharpe_ratio/ppo</td><td>0.19</td></tr><tr><td>test.q_50.ann_return/ppo</td><td>23.13</td></tr><tr><td>test.q_50.cum_return/ppo</td><td>3.54</td></tr><tr><td>test.q_50.end_amount/ppo</td><td>0</td></tr><tr><td>test.q_50.end_total_asset/ppo</td><td>51769.3</td></tr><tr><td>test.q_50.mdd/ppo</td><td>-8.17</td></tr><tr><td>test.q_50.sharpe_ratio/ppo</td><td>0.83</td></tr><tr><td>test.q_50.vix_historical_mean/ppo</td><td>11.43</td></tr><tr><td>test.q_50.vix_insample/ppo</td><td>56.65</td></tr><tr><td>test.q_50.vix_lookback_window/ppo</td><td>63</td></tr><tr><td>test.vix.ann_return/ppo</td><td>75.65</td></tr><tr><td>test.vix.cum_return/ppo</td><td>10.21</td></tr><tr><td>test.vix.end_amount/ppo</td><td>18.81</td></tr><tr><td>test.vix.end_total_asset/ppo</td><td>59966.01</td></tr><tr><td>test.vix.mdd/ppo</td><td>-1.61</td></tr><tr><td>test.vix.sharpe_ratio/ppo</td><td>4.89</td></tr><tr><td>test.vix.vix/ppo</td><td>18</td></tr><tr><td>test.vix_10.ann_return/ppo</td><td>13.41</td></tr><tr><td>test.vix_10.cum_return/ppo</td><td>2.2</td></tr><tr><td>test.vix_10.end_amount/ppo</td><td>51671.95</td></tr><tr><td>test.vix_10.end_total_asset/ppo</td><td>51671.95</td></tr><tr><td>test.vix_10.mdd/ppo</td><td>-1.08</td></tr><tr><td>test.vix_10.sharpe_ratio/ppo</td><td>2.32</td></tr><tr><td>test.vix_11.ann_return/ppo</td><td>44.01</td></tr><tr><td>test.vix_11.cum_return/ppo</td><td>6.5</td></tr><tr><td>test.vix_11.end_amount/ppo</td><td>55824.49</td></tr><tr><td>test.vix_11.end_total_asset/ppo</td><td>55824.49</td></tr><tr><td>test.vix_11.mdd/ppo</td><td>-1.24</td></tr><tr><td>test.vix_11.sharpe_ratio/ppo</td><td>4.18</td></tr><tr><td>test.vix_12.ann_return/ppo</td><td>44.8</td></tr><tr><td>test.vix_12.cum_return/ppo</td><td>6.6</td></tr><tr><td>test.vix_12.end_amount/ppo</td><td>11.13</td></tr><tr><td>test.vix_12.end_total_asset/ppo</td><td>55169.37</td></tr><tr><td>test.vix_12.mdd/ppo</td><td>-1.64</td></tr><tr><td>test.vix_12.sharpe_ratio/ppo</td><td>3.61</td></tr><tr><td>test.vix_13.ann_return/ppo</td><td>57.13</td></tr><tr><td>test.vix_13.cum_return/ppo</td><td>8.11</td></tr><tr><td>test.vix_13.end_amount/ppo</td><td>1.59</td></tr><tr><td>test.vix_13.end_total_asset/ppo</td><td>60549.9</td></tr><tr><td>test.vix_13.mdd/ppo</td><td>-1.52</td></tr><tr><td>test.vix_13.sharpe_ratio/ppo</td><td>4.15</td></tr><tr><td>test.vix_14.ann_return/ppo</td><td>63.02</td></tr><tr><td>test.vix_14.cum_return/ppo</td><td>8.8</td></tr><tr><td>test.vix_14.end_amount/ppo</td><td>2.5</td></tr><tr><td>test.vix_14.end_total_asset/ppo</td><td>59958.21</td></tr><tr><td>test.vix_14.mdd/ppo</td><td>-1.3</td></tr><tr><td>test.vix_14.sharpe_ratio/ppo</td><td>4.41</td></tr><tr><td>test.vix_15.ann_return/ppo</td><td>68</td></tr><tr><td>test.vix_15.cum_return/ppo</td><td>9.37</td></tr><tr><td>test.vix_15.end_amount/ppo</td><td>1.98</td></tr><tr><td>test.vix_15.end_total_asset/ppo</td><td>62394.07</td></tr><tr><td>test.vix_15.mdd/ppo</td><td>-1.81</td></tr><tr><td>test.vix_15.sharpe_ratio/ppo</td><td>4.69</td></tr><tr><td>test.vix_17.ann_return/ppo</td><td>48.27</td></tr><tr><td>test.vix_17.cum_return/ppo</td><td>7.04</td></tr><tr><td>test.vix_17.mdd/ppo</td><td>-1.96</td></tr><tr><td>test.vix_17.sharpe_ratio/ppo</td><td>2.44</td></tr><tr><td>test.vix_18.ann_return/ppo</td><td>75.65</td></tr><tr><td>test.vix_18.cum_return/ppo</td><td>10.21</td></tr><tr><td>test.vix_18.end_amount/ppo</td><td>18.81</td></tr><tr><td>test.vix_18.end_total_asset/ppo</td><td>59966.01</td></tr><tr><td>test.vix_18.mdd/ppo</td><td>-1.61</td></tr><tr><td>test.vix_18.sharpe_ratio/ppo</td><td>4.89</td></tr><tr><td>test.vix_best.agg_ann_return/ppo</td><td>14.04</td></tr><tr><td>test.vix_best.agg_cum_return/ppo</td><td>19.93</td></tr><tr><td>test.vix_best.agg_mdd/ppo</td><td>-13.8</td></tr><tr><td>test.vix_best.agg_sharpe_ratio/ppo</td><td>0.7</td></tr><tr><td>test.vix_best.ann_return/ppo</td><td>74.49</td></tr><tr><td>test.vix_best.cum_return/ppo</td><td>10.09</td></tr><tr><td>test.vix_best.mdd/ppo</td><td>-1.96</td></tr><tr><td>test.vix_best.sharpe_ratio/ppo</td><td>3.26</td></tr><tr><td>test.vix_best.vix/ppo</td><td>13</td></tr><tr><td>test.vix_chosen.agg_ann_return/ppo</td><td>14.04</td></tr><tr><td>test.vix_chosen.agg_cum_return/ppo</td><td>19.93</td></tr><tr><td>test.vix_chosen.agg_mdd/ppo</td><td>-13.11</td></tr><tr><td>test.vix_chosen.agg_sharpe_ratio/ppo</td><td>0.77</td></tr><tr><td>test.vix_chosen.ann_return/ppo</td><td>48.27</td></tr><tr><td>test.vix_chosen.cum_return/ppo</td><td>7.04</td></tr><tr><td>test.vix_chosen.mdd/ppo</td><td>-1.96</td></tr><tr><td>test.vix_chosen.sharpe_ratio/ppo</td><td>2.44</td></tr><tr><td>test.vix_chosen.vix/ppo</td><td>17</td></tr><tr><td>train.ann_return/ppo</td><td>46.39191</td></tr><tr><td>train.cum_return/ppo</td><td>188.75172</td></tr><tr><td>train.duration_minutes/ppo</td><td>4</td></tr><tr><td>train.mdd/ppo</td><td>-31.74313</td></tr><tr><td>train.sharpe_ratio/ppo</td><td>1.09916</td></tr><tr><td>val.ann_return/ppo</td><td>163.29921</td></tr><tr><td>val.cum_return/ppo</td><td>3.5173</td></tr><tr><td>val.mdd/ppo</td><td>-4.21</td></tr><tr><td>val.num_pretrain_iters</td><td>32</td></tr><tr><td>val.sharpe_ratio/ppo</td><td>3.87242</td></tr><tr><td>val.vix.ann_return/ppo</td><td>65.84</td></tr><tr><td>val.vix.cum_return/ppo</td><td>9.12</td></tr><tr><td>val.vix.end_amount/ppo</td><td>6.52</td></tr><tr><td>val.vix.end_total_asset/ppo</td><td>54561.79</td></tr><tr><td>val.vix.mdd/ppo</td><td>-1.77</td></tr><tr><td>val.vix.sharpe_ratio/ppo</td><td>4.27</td></tr><tr><td>val.vix.vix/ppo</td><td>18</td></tr><tr><td>val.vix_10.ann_return/ppo</td><td>19.28</td></tr><tr><td>val.vix_10.cum_return/ppo</td><td>3.09</td></tr><tr><td>val.vix_10.end_amount/ppo</td><td>7373.96</td></tr><tr><td>val.vix_10.end_total_asset/ppo</td><td>51544.78</td></tr><tr><td>val.vix_10.mdd/ppo</td><td>-1.2</td></tr><tr><td>val.vix_10.sharpe_ratio/ppo</td><td>2.47</td></tr><tr><td>val.vix_11.ann_return/ppo</td><td>31.76</td></tr><tr><td>val.vix_11.cum_return/ppo</td><td>4.88</td></tr><tr><td>val.vix_11.end_amount/ppo</td><td>17.24</td></tr><tr><td>val.vix_11.end_total_asset/ppo</td><td>52437.62</td></tr><tr><td>val.vix_11.mdd/ppo</td><td>-1.41</td></tr><tr><td>val.vix_11.sharpe_ratio/ppo</td><td>3.88</td></tr><tr><td>val.vix_12.ann_return/ppo</td><td>25.29</td></tr><tr><td>val.vix_12.cum_return/ppo</td><td>3.97</td></tr><tr><td>val.vix_12.end_amount/ppo</td><td>0.2</td></tr><tr><td>val.vix_12.end_total_asset/ppo</td><td>51983.98</td></tr><tr><td>val.vix_12.mdd/ppo</td><td>-2.56</td></tr><tr><td>val.vix_12.sharpe_ratio/ppo</td><td>2.6</td></tr><tr><td>val.vix_13.ann_return/ppo</td><td>47.48</td></tr><tr><td>val.vix_13.cum_return/ppo</td><td>6.94</td></tr><tr><td>val.vix_13.end_amount/ppo</td><td>1.15</td></tr><tr><td>val.vix_13.end_total_asset/ppo</td><td>53468.18</td></tr><tr><td>val.vix_13.mdd/ppo</td><td>-2.66</td></tr><tr><td>val.vix_13.sharpe_ratio/ppo</td><td>3.62</td></tr><tr><td>val.vix_14.ann_return/ppo</td><td>44.79</td></tr><tr><td>val.vix_14.cum_return/ppo</td><td>6.6</td></tr><tr><td>val.vix_14.end_amount/ppo</td><td>0.51</td></tr><tr><td>val.vix_14.end_total_asset/ppo</td><td>53298.19</td></tr><tr><td>val.vix_14.mdd/ppo</td><td>-2.63</td></tr><tr><td>val.vix_14.sharpe_ratio/ppo</td><td>3.43</td></tr><tr><td>val.vix_15.ann_return/ppo</td><td>51.29</td></tr><tr><td>val.vix_15.cum_return/ppo</td><td>7.41</td></tr><tr><td>val.vix_15.end_amount/ppo</td><td>10.21</td></tr><tr><td>val.vix_15.end_total_asset/ppo</td><td>53703.88</td></tr><tr><td>val.vix_15.mdd/ppo</td><td>-2.29</td></tr><tr><td>val.vix_15.sharpe_ratio/ppo</td><td>3.78</td></tr><tr><td>val.vix_16.ann_return/ppo</td><td>52.58</td></tr><tr><td>val.vix_16.cum_return/ppo</td><td>7.57</td></tr><tr><td>val.vix_16.end_amount/ppo</td><td>6.47</td></tr><tr><td>val.vix_16.end_total_asset/ppo</td><td>53782.52</td></tr><tr><td>val.vix_16.mdd/ppo</td><td>-2.15</td></tr><tr><td>val.vix_16.sharpe_ratio/ppo</td><td>3.87</td></tr><tr><td>val.vix_17.ann_return/ppo</td><td>65.84</td></tr><tr><td>val.vix_17.cum_return/ppo</td><td>9.12</td></tr><tr><td>val.vix_17.end_amount/ppo</td><td>6.52</td></tr><tr><td>val.vix_17.end_total_asset/ppo</td><td>54561.79</td></tr><tr><td>val.vix_17.mdd/ppo</td><td>-1.77</td></tr><tr><td>val.vix_17.sharpe_ratio/ppo</td><td>4.27</td></tr><tr><td>val.vix_18.ann_return/ppo</td><td>65.84</td></tr><tr><td>val.vix_18.cum_return/ppo</td><td>9.12</td></tr><tr><td>val.vix_18.end_amount/ppo</td><td>6.52</td></tr><tr><td>val.vix_18.end_total_asset/ppo</td><td>54561.79</td></tr><tr><td>val.vix_18.mdd/ppo</td><td>-1.77</td></tr><tr><td>val.vix_18.sharpe_ratio/ppo</td><td>4.27</td></tr><tr><td>val.vix_best.ann_return/ppo</td><td>100.06</td></tr><tr><td>val.vix_best.cum_return/ppo</td><td>12.71</td></tr><tr><td>val.vix_best.mdd/ppo</td><td>-2.4</td></tr><tr><td>val.vix_best.sharpe_ratio/ppo</td><td>3.74</td></tr><tr><td>val.vix_best.vix/ppo</td><td>17</td></tr></table><br/></div></div>"
            ]
          },
          "metadata": {}
        },
        {
          "output_type": "display_data",
          "data": {
            "text/plain": [
              "<IPython.core.display.HTML object>"
            ],
            "text/html": [
              " View run <strong style=\"color:#cdcd00\">DOW-30 | 2017-04 | 2017 Q3 | 2017 Q4 | 7mlsk2wg</strong> at: <a href='https://wandb.ai/overfit1010/finrl-dt-replicate/runs/7mlsk2wg' target=\"_blank\">https://wandb.ai/overfit1010/finrl-dt-replicate/runs/7mlsk2wg</a><br> View project at: <a href='https://wandb.ai/overfit1010/finrl-dt-replicate' target=\"_blank\">https://wandb.ai/overfit1010/finrl-dt-replicate</a><br>Synced 5 W&B file(s), 0 media file(s), 0 artifact file(s) and 0 other file(s)"
            ]
          },
          "metadata": {}
        },
        {
          "output_type": "display_data",
          "data": {
            "text/plain": [
              "<IPython.core.display.HTML object>"
            ],
            "text/html": [
              "Find logs at: <code>./wandb/run-20250220_160714-7mlsk2wg/logs</code>"
            ]
          },
          "metadata": {}
        },
        {
          "output_type": "stream",
          "name": "stdout",
          "text": [
            "\n",
            "Run #8: 4e8eyqv9\n",
            "test_start_date 2018-01-01 00:00:00\n",
            "val_start_date 2017-10-01 00:00:00\n",
            "Threshold: historical: 10.94 | insample: 56.65\n",
            "turbulence_threshold: 56.65\n"
          ]
        },
        {
          "output_type": "display_data",
          "data": {
            "text/plain": [
              "VBox(children=(Label(value='Waiting for wandb.init()...\\r'), FloatProgress(value=0.011112851511117898, max=1.0…"
            ],
            "application/vnd.jupyter.widget-view+json": {
              "version_major": 2,
              "version_minor": 0,
              "model_id": "136fc28e5e0b462c8304a19bbf2623f2"
            }
          },
          "metadata": {}
        },
        {
          "output_type": "display_data",
          "data": {
            "text/plain": [
              "<IPython.core.display.HTML object>"
            ],
            "text/html": [
              "Tracking run with wandb version 0.19.6"
            ]
          },
          "metadata": {}
        },
        {
          "output_type": "display_data",
          "data": {
            "text/plain": [
              "<IPython.core.display.HTML object>"
            ],
            "text/html": [
              "Run data is saved locally in <code>/content/wandb/run-20250220_160730-4e8eyqv9</code>"
            ]
          },
          "metadata": {}
        },
        {
          "output_type": "display_data",
          "data": {
            "text/plain": [
              "<IPython.core.display.HTML object>"
            ],
            "text/html": [
              "Resuming run <strong><a href='https://wandb.ai/overfit1010/finrl-dt-replicate/runs/4e8eyqv9' target=\"_blank\">DOW-30 | 2017-07 | 2017 Q4 | 2018 Q1 | 4e8eyqv9</a></strong> to <a href='https://wandb.ai/overfit1010/finrl-dt-replicate' target=\"_blank\">Weights & Biases</a> (<a href='https://wandb.me/developer-guide' target=\"_blank\">docs</a>)<br>Sweep page: <a href='https://wandb.ai/overfit1010/finrl-dt-replicate/sweeps/yd7fz9as' target=\"_blank\">https://wandb.ai/overfit1010/finrl-dt-replicate/sweeps/yd7fz9as</a>"
            ]
          },
          "metadata": {}
        },
        {
          "output_type": "display_data",
          "data": {
            "text/plain": [
              "<IPython.core.display.HTML object>"
            ],
            "text/html": [
              " View project at <a href='https://wandb.ai/overfit1010/finrl-dt-replicate' target=\"_blank\">https://wandb.ai/overfit1010/finrl-dt-replicate</a>"
            ]
          },
          "metadata": {}
        },
        {
          "output_type": "display_data",
          "data": {
            "text/plain": [
              "<IPython.core.display.HTML object>"
            ],
            "text/html": [
              " View sweep at <a href='https://wandb.ai/overfit1010/finrl-dt-replicate/sweeps/yd7fz9as' target=\"_blank\">https://wandb.ai/overfit1010/finrl-dt-replicate/sweeps/yd7fz9as</a>"
            ]
          },
          "metadata": {}
        },
        {
          "output_type": "display_data",
          "data": {
            "text/plain": [
              "<IPython.core.display.HTML object>"
            ],
            "text/html": [
              " View run at <a href='https://wandb.ai/overfit1010/finrl-dt-replicate/runs/4e8eyqv9' target=\"_blank\">https://wandb.ai/overfit1010/finrl-dt-replicate/runs/4e8eyqv9</a>"
            ]
          },
          "metadata": {}
        },
        {
          "output_type": "stream",
          "name": "stdout",
          "text": [
            "Downloading artifacts to trained_models-4e8eyqv9:v0\n"
          ]
        },
        {
          "output_type": "stream",
          "name": "stderr",
          "text": [
            "\u001b[34m\u001b[1mwandb\u001b[0m:   99 of 99 files downloaded.  \n"
          ]
        },
        {
          "output_type": "stream",
          "name": "stdout",
          "text": [
            "Artifacts downloaded cnt per type: {'trained_models': 1}\n",
            "Artifacts folders per type: {'trained_models': [PosixPath('trained_models-4e8eyqv9:v0')]}\n",
            "\n",
            "\n",
            "Evaluating for `test` using `^VIX`: 56.650001525878906\n",
            "Init with NEW env state:\n",
            "\t initial_amount: 50000\n",
            "\t initial_stocks: None\n",
            "Initializing eval env... Done.\n",
            "\t initial_total_asset: 50000.0\n",
            "test_start_date 2018-01-01 00:00:00\n",
            "val_start_date 2017-10-01 00:00:00\n",
            "Threshold: historical: 10.94 | insample: 56.65\n",
            "turbulence_threshold: 56.65\n",
            "Downloading artifacts to trained_models-4e8eyqv9:v0\n"
          ]
        },
        {
          "output_type": "stream",
          "name": "stderr",
          "text": [
            "\u001b[34m\u001b[1mwandb\u001b[0m: \\ 1 of 99 files downloaded...\r\u001b[34m\u001b[1mwandb\u001b[0m:   99 of 99 files downloaded.  \n"
          ]
        },
        {
          "output_type": "stream",
          "name": "stdout",
          "text": [
            "Artifacts downloaded cnt per type: {'trained_models': 1}\n",
            "Artifacts folders per type: {'trained_models': [PosixPath('trained_models-4e8eyqv9:v0')]}\n",
            "\n",
            "\n",
            "Evaluating for `test` using `^VIX`: 56.650001525878906\n",
            "Init with NEW env state:\n",
            "\t initial_amount: 50000\n",
            "\t initial_stocks: None\n",
            "Initializing eval env... Done.\n",
            "\t initial_total_asset: 50000.0\n"
          ]
        },
        {
          "output_type": "display_data",
          "data": {
            "text/plain": [
              "<IPython.core.display.HTML object>"
            ],
            "text/html": []
          },
          "metadata": {}
        },
        {
          "output_type": "display_data",
          "data": {
            "text/plain": [
              "<IPython.core.display.HTML object>"
            ],
            "text/html": [
              "<br>    <style><br>        .wandb-row {<br>            display: flex;<br>            flex-direction: row;<br>            flex-wrap: wrap;<br>            justify-content: flex-start;<br>            width: 100%;<br>        }<br>        .wandb-col {<br>            display: flex;<br>            flex-direction: column;<br>            flex-basis: 100%;<br>            flex: 1;<br>            padding: 10px;<br>        }<br>    </style><br><div class=\"wandb-row\"><div class=\"wandb-col\"><h3>Run summary:</h3><br/><table class=\"wandb\"><tr><td>config_hash</td><td>1ea39a67636c8e66b006...</td></tr><tr><td>run.duration_minutes</td><td>4.3</td></tr><tr><td>test.q_100.agg_ann_return/ppo</td><td>2.07</td></tr><tr><td>test.q_100.agg_cum_return/ppo</td><td>3.13</td></tr><tr><td>test.q_100.agg_mdd/ppo</td><td>-13.38</td></tr><tr><td>test.q_100.agg_sharpe_ratio/ppo</td><td>0.17</td></tr><tr><td>test.q_100.ann_return/ppo</td><td>20.27</td></tr><tr><td>test.q_100.cum_return/ppo</td><td>3.13</td></tr><tr><td>test.q_100.end_amount/ppo</td><td>4.05</td></tr><tr><td>test.q_100.end_total_asset/ppo</td><td>51566.19</td></tr><tr><td>test.q_100.mdd/ppo</td><td>-6.4</td></tr><tr><td>test.q_100.sharpe_ratio/ppo</td><td>0.76</td></tr><tr><td>test.q_100.vix_historical_mean/ppo</td><td>10.94</td></tr><tr><td>test.q_100.vix_insample/ppo</td><td>56.65</td></tr><tr><td>test.q_100.vix_lookback_window/ppo</td><td>63</td></tr><tr><td>test.q_50.agg_ann_return/ppo</td><td>2.07</td></tr><tr><td>test.q_50.agg_cum_return/ppo</td><td>3.13</td></tr><tr><td>test.q_50.agg_mdd/ppo</td><td>-13.38</td></tr><tr><td>test.q_50.agg_sharpe_ratio/ppo</td><td>0.17</td></tr><tr><td>test.q_50.ann_return/ppo</td><td>20.27</td></tr><tr><td>test.q_50.cum_return/ppo</td><td>3.13</td></tr><tr><td>test.q_50.end_amount/ppo</td><td>4.05</td></tr><tr><td>test.q_50.end_total_asset/ppo</td><td>51566.19</td></tr><tr><td>test.q_50.mdd/ppo</td><td>-6.4</td></tr><tr><td>test.q_50.sharpe_ratio/ppo</td><td>0.76</td></tr><tr><td>test.q_50.vix_historical_mean/ppo</td><td>10.94</td></tr><tr><td>test.q_50.vix_insample/ppo</td><td>56.65</td></tr><tr><td>test.q_50.vix_lookback_window/ppo</td><td>63</td></tr><tr><td>test.vix.ann_return/ppo</td><td>17.13</td></tr><tr><td>test.vix.cum_return/ppo</td><td>2.68</td></tr><tr><td>test.vix.end_amount/ppo</td><td>57070.54</td></tr><tr><td>test.vix.end_total_asset/ppo</td><td>57070.54</td></tr><tr><td>test.vix.mdd/ppo</td><td>-0.06</td></tr><tr><td>test.vix.sharpe_ratio/ppo</td><td>4.34</td></tr><tr><td>test.vix.vix/ppo</td><td>11</td></tr><tr><td>test.vix_10.ann_return/ppo</td><td>9.73</td></tr><tr><td>test.vix_10.cum_return/ppo</td><td>1.56</td></tr><tr><td>test.vix_10.end_amount/ppo</td><td>52755.1</td></tr><tr><td>test.vix_10.end_total_asset/ppo</td><td>52755.1</td></tr><tr><td>test.vix_10.mdd/ppo</td><td>-0.03</td></tr><tr><td>test.vix_10.sharpe_ratio/ppo</td><td>3.86</td></tr><tr><td>test.vix_11.ann_return/ppo</td><td>17.13</td></tr><tr><td>test.vix_11.cum_return/ppo</td><td>2.68</td></tr><tr><td>test.vix_11.end_amount/ppo</td><td>57070.54</td></tr><tr><td>test.vix_11.end_total_asset/ppo</td><td>57070.54</td></tr><tr><td>test.vix_11.mdd/ppo</td><td>-0.06</td></tr><tr><td>test.vix_11.sharpe_ratio/ppo</td><td>4.34</td></tr><tr><td>test.vix_12.ann_return/ppo</td><td>61.13</td></tr><tr><td>test.vix_12.cum_return/ppo</td><td>8.3</td></tr><tr><td>test.vix_12.mdd/ppo</td><td>-2.05</td></tr><tr><td>test.vix_12.sharpe_ratio/ppo</td><td>4</td></tr><tr><td>test.vix_13.ann_return/ppo</td><td>61.3</td></tr><tr><td>test.vix_13.cum_return/ppo</td><td>8.32</td></tr><tr><td>test.vix_13.end_amount/ppo</td><td>62943</td></tr><tr><td>test.vix_13.end_total_asset/ppo</td><td>62943</td></tr><tr><td>test.vix_13.mdd/ppo</td><td>-1.11</td></tr><tr><td>test.vix_13.sharpe_ratio/ppo</td><td>4.85</td></tr><tr><td>test.vix_15.ann_return/ppo</td><td>6.29</td></tr><tr><td>test.vix_15.cum_return/ppo</td><td>1.02</td></tr><tr><td>test.vix_15.mdd/ppo</td><td>-5.11</td></tr><tr><td>test.vix_15.sharpe_ratio/ppo</td><td>0.59</td></tr><tr><td>test.vix_16.ann_return/ppo</td><td>7.37</td></tr><tr><td>test.vix_16.cum_return/ppo</td><td>1.2</td></tr><tr><td>test.vix_16.end_amount/ppo</td><td>50597.76</td></tr><tr><td>test.vix_16.end_total_asset/ppo</td><td>50597.76</td></tr><tr><td>test.vix_16.mdd/ppo</td><td>-5.68</td></tr><tr><td>test.vix_16.sharpe_ratio/ppo</td><td>0.66</td></tr><tr><td>test.vix_19.ann_return/ppo</td><td>-25.34</td></tr><tr><td>test.vix_19.cum_return/ppo</td><td>-4.77</td></tr><tr><td>test.vix_19.end_amount/ppo</td><td>47616.62</td></tr><tr><td>test.vix_19.end_total_asset/ppo</td><td>47616.62</td></tr><tr><td>test.vix_19.mdd/ppo</td><td>-11.24</td></tr><tr><td>test.vix_19.sharpe_ratio/ppo</td><td>-1.34</td></tr><tr><td>test.vix_22.ann_return/ppo</td><td>-33</td></tr><tr><td>test.vix_22.cum_return/ppo</td><td>-6.47</td></tr><tr><td>test.vix_22.end_amount/ppo</td><td>32812.79</td></tr><tr><td>test.vix_22.end_total_asset/ppo</td><td>46762.81</td></tr><tr><td>test.vix_22.mdd/ppo</td><td>-12.83</td></tr><tr><td>test.vix_22.sharpe_ratio/ppo</td><td>-1.66</td></tr><tr><td>test.vix_25.ann_return/ppo</td><td>-27.16</td></tr><tr><td>test.vix_25.cum_return/ppo</td><td>-5.16</td></tr><tr><td>test.vix_25.end_amount/ppo</td><td>31.26</td></tr><tr><td>test.vix_25.end_total_asset/ppo</td><td>47420.25</td></tr><tr><td>test.vix_25.mdd/ppo</td><td>-12.9</td></tr><tr><td>test.vix_25.sharpe_ratio/ppo</td><td>-1.09</td></tr><tr><td>test.vix_28.ann_return/ppo</td><td>-28.67</td></tr><tr><td>test.vix_28.cum_return/ppo</td><td>-5.49</td></tr><tr><td>test.vix_28.end_amount/ppo</td><td>12.05</td></tr><tr><td>test.vix_28.end_total_asset/ppo</td><td>47254.52</td></tr><tr><td>test.vix_28.mdd/ppo</td><td>-12.98</td></tr><tr><td>test.vix_28.sharpe_ratio/ppo</td><td>-1.15</td></tr><tr><td>test.vix_32.ann_return/ppo</td><td>-27.49</td></tr><tr><td>test.vix_32.cum_return/ppo</td><td>-5.23</td></tr><tr><td>test.vix_32.end_amount/ppo</td><td>0.48</td></tr><tr><td>test.vix_32.end_total_asset/ppo</td><td>47385.35</td></tr><tr><td>test.vix_32.mdd/ppo</td><td>-13.2</td></tr><tr><td>test.vix_32.sharpe_ratio/ppo</td><td>-1.03</td></tr><tr><td>test.vix_35.ann_return/ppo</td><td>-18.07</td></tr><tr><td>test.vix_35.cum_return/ppo</td><td>-3.28</td></tr><tr><td>test.vix_35.end_amount/ppo</td><td>4.04</td></tr><tr><td>test.vix_35.end_total_asset/ppo</td><td>48362.48</td></tr><tr><td>test.vix_35.mdd/ppo</td><td>-11.39</td></tr><tr><td>test.vix_35.sharpe_ratio/ppo</td><td>-0.59</td></tr><tr><td>test.vix_38.ann_return/ppo</td><td>-24.54</td></tr><tr><td>test.vix_38.cum_return/ppo</td><td>-4.6</td></tr><tr><td>test.vix_38.end_amount/ppo</td><td>3.68</td></tr><tr><td>test.vix_38.end_total_asset/ppo</td><td>47701.24</td></tr><tr><td>test.vix_38.mdd/ppo</td><td>-12.27</td></tr><tr><td>test.vix_38.sharpe_ratio/ppo</td><td>-0.81</td></tr><tr><td>test.vix_39.ann_return/ppo</td><td>-24.54</td></tr><tr><td>test.vix_39.cum_return/ppo</td><td>-4.6</td></tr><tr><td>test.vix_39.end_amount/ppo</td><td>3.68</td></tr><tr><td>test.vix_39.end_total_asset/ppo</td><td>47701.24</td></tr><tr><td>test.vix_39.mdd/ppo</td><td>-12.27</td></tr><tr><td>test.vix_39.sharpe_ratio/ppo</td><td>-0.81</td></tr><tr><td>test.vix_best.agg_ann_return/ppo</td><td>16</td></tr><tr><td>test.vix_best.agg_cum_return/ppo</td><td>25.89</td></tr><tr><td>test.vix_best.agg_mdd/ppo</td><td>-13.8</td></tr><tr><td>test.vix_best.agg_sharpe_ratio/ppo</td><td>0.81</td></tr><tr><td>test.vix_best.ann_return/ppo</td><td>73.06</td></tr><tr><td>test.vix_best.cum_return/ppo</td><td>9.6</td></tr><tr><td>test.vix_best.mdd/ppo</td><td>-1.89</td></tr><tr><td>test.vix_best.sharpe_ratio/ppo</td><td>4.49</td></tr><tr><td>test.vix_best.vix/ppo</td><td>13</td></tr><tr><td>test.vix_chosen.agg_ann_return/ppo</td><td>8.9</td></tr><tr><td>test.vix_chosen.agg_cum_return/ppo</td><td>14.14</td></tr><tr><td>test.vix_chosen.agg_mdd/ppo</td><td>-13.11</td></tr><tr><td>test.vix_chosen.agg_sharpe_ratio/ppo</td><td>0.52</td></tr><tr><td>test.vix_chosen.ann_return/ppo</td><td>61.13</td></tr><tr><td>test.vix_chosen.cum_return/ppo</td><td>8.3</td></tr><tr><td>test.vix_chosen.mdd/ppo</td><td>-2.05</td></tr><tr><td>test.vix_chosen.sharpe_ratio/ppo</td><td>4</td></tr><tr><td>test.vix_chosen.vix/ppo</td><td>12</td></tr><tr><td>train.ann_return/ppo</td><td>52.16612</td></tr><tr><td>train.cum_return/ppo</td><td>179.14062</td></tr><tr><td>train.duration_minutes/ppo</td><td>3.8</td></tr><tr><td>train.mdd/ppo</td><td>-31.40536</td></tr><tr><td>train.sharpe_ratio/ppo</td><td>1.2007</td></tr><tr><td>val.ann_return/ppo</td><td>3295.84857</td></tr><tr><td>val.cum_return/ppo</td><td>7.47508</td></tr><tr><td>val.mdd/ppo</td><td>-4.87556</td></tr><tr><td>val.num_pretrain_iters</td><td>36</td></tr><tr><td>val.sharpe_ratio/ppo</td><td>4.69</td></tr><tr><td>val.vix.ann_return/ppo</td><td>33.84</td></tr><tr><td>val.vix.cum_return/ppo</td><td>5.16</td></tr><tr><td>val.vix.end_amount/ppo</td><td>52579.61</td></tr><tr><td>val.vix.end_total_asset/ppo</td><td>52579.61</td></tr><tr><td>val.vix.mdd/ppo</td><td>-1.18</td></tr><tr><td>val.vix.sharpe_ratio/ppo</td><td>3.59</td></tr><tr><td>val.vix.vix/ppo</td><td>11</td></tr><tr><td>val.vix_10.ann_return/ppo</td><td>7.39</td></tr><tr><td>val.vix_10.cum_return/ppo</td><td>1.24</td></tr><tr><td>val.vix_10.end_amount/ppo</td><td>50619.38</td></tr><tr><td>val.vix_10.end_total_asset/ppo</td><td>50619.38</td></tr><tr><td>val.vix_10.mdd/ppo</td><td>-1</td></tr><tr><td>val.vix_10.sharpe_ratio/ppo</td><td>1.55</td></tr><tr><td>val.vix_11.ann_return/ppo</td><td>33.84</td></tr><tr><td>val.vix_11.cum_return/ppo</td><td>5.16</td></tr><tr><td>val.vix_11.end_amount/ppo</td><td>52579.61</td></tr><tr><td>val.vix_11.end_total_asset/ppo</td><td>52579.61</td></tr><tr><td>val.vix_11.mdd/ppo</td><td>-1.18</td></tr><tr><td>val.vix_11.sharpe_ratio/ppo</td><td>3.59</td></tr><tr><td>val.vix_12.ann_return/ppo</td><td>22.13</td></tr><tr><td>val.vix_12.cum_return/ppo</td><td>3.51</td></tr><tr><td>val.vix_12.end_amount/ppo</td><td>7.59</td></tr><tr><td>val.vix_12.end_total_asset/ppo</td><td>51755.68</td></tr><tr><td>val.vix_12.mdd/ppo</td><td>-1.69</td></tr><tr><td>val.vix_12.sharpe_ratio/ppo</td><td>2.07</td></tr><tr><td>val.vix_13.ann_return/ppo</td><td>22.16</td></tr><tr><td>val.vix_13.cum_return/ppo</td><td>3.52</td></tr><tr><td>val.vix_13.end_amount/ppo</td><td>14.8</td></tr><tr><td>val.vix_13.end_total_asset/ppo</td><td>51757.84</td></tr><tr><td>val.vix_13.mdd/ppo</td><td>-1.69</td></tr><tr><td>val.vix_13.sharpe_ratio/ppo</td><td>2.07</td></tr><tr><td>val.vix_14.ann_return/ppo</td><td>41.33</td></tr><tr><td>val.vix_14.cum_return/ppo</td><td>6.15</td></tr><tr><td>val.vix_14.end_amount/ppo</td><td>15.26</td></tr><tr><td>val.vix_14.end_total_asset/ppo</td><td>53076.5</td></tr><tr><td>val.vix_14.mdd/ppo</td><td>-1.38</td></tr><tr><td>val.vix_14.sharpe_ratio/ppo</td><td>3.3</td></tr><tr><td>val.vix_15.ann_return/ppo</td><td>41.33</td></tr><tr><td>val.vix_15.cum_return/ppo</td><td>6.15</td></tr><tr><td>val.vix_15.end_amount/ppo</td><td>15.26</td></tr><tr><td>val.vix_15.end_total_asset/ppo</td><td>53076.5</td></tr><tr><td>val.vix_15.mdd/ppo</td><td>-1.38</td></tr><tr><td>val.vix_15.sharpe_ratio/ppo</td><td>3.3</td></tr><tr><td>val.vix_best.ann_return/ppo</td><td>125.46</td></tr><tr><td>val.vix_best.cum_return/ppo</td><td>15.06</td></tr><tr><td>val.vix_best.mdd/ppo</td><td>-1.85</td></tr><tr><td>val.vix_best.sharpe_ratio/ppo</td><td>5.26</td></tr><tr><td>val.vix_best.vix/ppo</td><td>12</td></tr></table><br/></div></div>"
            ]
          },
          "metadata": {}
        },
        {
          "output_type": "display_data",
          "data": {
            "text/plain": [
              "<IPython.core.display.HTML object>"
            ],
            "text/html": [
              " View run <strong style=\"color:#cdcd00\">DOW-30 | 2017-07 | 2017 Q4 | 2018 Q1 | 4e8eyqv9</strong> at: <a href='https://wandb.ai/overfit1010/finrl-dt-replicate/runs/4e8eyqv9' target=\"_blank\">https://wandb.ai/overfit1010/finrl-dt-replicate/runs/4e8eyqv9</a><br> View project at: <a href='https://wandb.ai/overfit1010/finrl-dt-replicate' target=\"_blank\">https://wandb.ai/overfit1010/finrl-dt-replicate</a><br>Synced 5 W&B file(s), 0 media file(s), 0 artifact file(s) and 0 other file(s)"
            ]
          },
          "metadata": {}
        },
        {
          "output_type": "display_data",
          "data": {
            "text/plain": [
              "<IPython.core.display.HTML object>"
            ],
            "text/html": [
              "Find logs at: <code>./wandb/run-20250220_160730-4e8eyqv9/logs</code>"
            ]
          },
          "metadata": {}
        },
        {
          "output_type": "stream",
          "name": "stdout",
          "text": [
            "\n",
            "Run #9: j929yqin\n",
            "test_start_date 2018-04-01 00:00:00\n",
            "val_start_date 2018-01-01 00:00:00\n",
            "Threshold: historical: 10.31 | insample: 56.65\n",
            "turbulence_threshold: 56.65\n"
          ]
        },
        {
          "output_type": "display_data",
          "data": {
            "text/plain": [
              "<IPython.core.display.HTML object>"
            ],
            "text/html": [
              "Tracking run with wandb version 0.19.6"
            ]
          },
          "metadata": {}
        },
        {
          "output_type": "display_data",
          "data": {
            "text/plain": [
              "<IPython.core.display.HTML object>"
            ],
            "text/html": [
              "Run data is saved locally in <code>/content/wandb/run-20250220_160746-j929yqin</code>"
            ]
          },
          "metadata": {}
        },
        {
          "output_type": "display_data",
          "data": {
            "text/plain": [
              "<IPython.core.display.HTML object>"
            ],
            "text/html": [
              "Resuming run <strong><a href='https://wandb.ai/overfit1010/finrl-dt-replicate/runs/j929yqin' target=\"_blank\">DOW-30 | 2017-10 | 2018 Q1 | 2018 Q2 | j929yqin</a></strong> to <a href='https://wandb.ai/overfit1010/finrl-dt-replicate' target=\"_blank\">Weights & Biases</a> (<a href='https://wandb.me/developer-guide' target=\"_blank\">docs</a>)<br>Sweep page: <a href='https://wandb.ai/overfit1010/finrl-dt-replicate/sweeps/yd7fz9as' target=\"_blank\">https://wandb.ai/overfit1010/finrl-dt-replicate/sweeps/yd7fz9as</a>"
            ]
          },
          "metadata": {}
        },
        {
          "output_type": "display_data",
          "data": {
            "text/plain": [
              "<IPython.core.display.HTML object>"
            ],
            "text/html": [
              " View project at <a href='https://wandb.ai/overfit1010/finrl-dt-replicate' target=\"_blank\">https://wandb.ai/overfit1010/finrl-dt-replicate</a>"
            ]
          },
          "metadata": {}
        },
        {
          "output_type": "display_data",
          "data": {
            "text/plain": [
              "<IPython.core.display.HTML object>"
            ],
            "text/html": [
              " View sweep at <a href='https://wandb.ai/overfit1010/finrl-dt-replicate/sweeps/yd7fz9as' target=\"_blank\">https://wandb.ai/overfit1010/finrl-dt-replicate/sweeps/yd7fz9as</a>"
            ]
          },
          "metadata": {}
        },
        {
          "output_type": "display_data",
          "data": {
            "text/plain": [
              "<IPython.core.display.HTML object>"
            ],
            "text/html": [
              " View run at <a href='https://wandb.ai/overfit1010/finrl-dt-replicate/runs/j929yqin' target=\"_blank\">https://wandb.ai/overfit1010/finrl-dt-replicate/runs/j929yqin</a>"
            ]
          },
          "metadata": {}
        },
        {
          "output_type": "stream",
          "name": "stdout",
          "text": [
            "Downloading artifacts to trained_models-j929yqin:v0\n"
          ]
        },
        {
          "output_type": "stream",
          "name": "stderr",
          "text": [
            "\u001b[34m\u001b[1mwandb\u001b[0m:   99 of 99 files downloaded.  \n"
          ]
        },
        {
          "output_type": "stream",
          "name": "stdout",
          "text": [
            "Artifacts downloaded cnt per type: {'trained_models': 1}\n",
            "Artifacts folders per type: {'trained_models': [PosixPath('trained_models-j929yqin:v0')]}\n",
            "\n",
            "\n",
            "Evaluating for `test` using `^VIX`: 56.650001525878906\n",
            "Init with NEW env state:\n",
            "\t initial_amount: 50000\n",
            "\t initial_stocks: None\n",
            "Initializing eval env... Done.\n",
            "\t initial_total_asset: 50000.0\n",
            "test_start_date 2018-04-01 00:00:00\n",
            "val_start_date 2018-01-01 00:00:00\n",
            "Threshold: historical: 10.31 | insample: 56.65\n",
            "turbulence_threshold: 56.65\n",
            "Downloading artifacts to trained_models-j929yqin:v0\n"
          ]
        },
        {
          "output_type": "stream",
          "name": "stderr",
          "text": [
            "\u001b[34m\u001b[1mwandb\u001b[0m: \\ 1 of 99 files downloaded...\r\u001b[34m\u001b[1mwandb\u001b[0m:   99 of 99 files downloaded.  \n"
          ]
        },
        {
          "output_type": "stream",
          "name": "stdout",
          "text": [
            "Artifacts downloaded cnt per type: {'trained_models': 1}\n",
            "Artifacts folders per type: {'trained_models': [PosixPath('trained_models-j929yqin:v0')]}\n",
            "\n",
            "\n",
            "Evaluating for `test` using `^VIX`: 56.650001525878906\n",
            "Init with NEW env state:\n",
            "\t initial_amount: 50000\n",
            "\t initial_stocks: None\n",
            "Initializing eval env... Done.\n",
            "\t initial_total_asset: 50000.0\n"
          ]
        },
        {
          "output_type": "display_data",
          "data": {
            "text/plain": [
              "<IPython.core.display.HTML object>"
            ],
            "text/html": []
          },
          "metadata": {}
        },
        {
          "output_type": "display_data",
          "data": {
            "text/plain": [
              "<IPython.core.display.HTML object>"
            ],
            "text/html": [
              "<br>    <style><br>        .wandb-row {<br>            display: flex;<br>            flex-direction: row;<br>            flex-wrap: wrap;<br>            justify-content: flex-start;<br>            width: 100%;<br>        }<br>        .wandb-col {<br>            display: flex;<br>            flex-direction: column;<br>            flex-basis: 100%;<br>            flex: 1;<br>            padding: 10px;<br>        }<br>    </style><br><div class=\"wandb-row\"><div class=\"wandb-col\"><h3>Run summary:</h3><br/><table class=\"wandb\"><tr><td>config_hash</td><td>1ea39a67636c8e66b006...</td></tr><tr><td>run.duration_minutes</td><td>4.4</td></tr><tr><td>test.q_100.agg_ann_return/ppo</td><td>2.91</td></tr><tr><td>test.q_100.agg_cum_return/ppo</td><td>4.91</td></tr><tr><td>test.q_100.agg_mdd/ppo</td><td>-13.38</td></tr><tr><td>test.q_100.agg_sharpe_ratio/ppo</td><td>0.2</td></tr><tr><td>test.q_100.ann_return/ppo</td><td>33.21</td></tr><tr><td>test.q_100.cum_return/ppo</td><td>4.91</td></tr><tr><td>test.q_100.end_amount/ppo</td><td>0.81</td></tr><tr><td>test.q_100.end_total_asset/ppo</td><td>52454.4</td></tr><tr><td>test.q_100.mdd/ppo</td><td>-5.42</td></tr><tr><td>test.q_100.sharpe_ratio/ppo</td><td>1.16</td></tr><tr><td>test.q_100.vix_historical_mean/ppo</td><td>10.31</td></tr><tr><td>test.q_100.vix_insample/ppo</td><td>56.65</td></tr><tr><td>test.q_100.vix_lookback_window/ppo</td><td>63</td></tr><tr><td>test.q_50.agg_ann_return/ppo</td><td>2.91</td></tr><tr><td>test.q_50.agg_cum_return/ppo</td><td>4.91</td></tr><tr><td>test.q_50.agg_mdd/ppo</td><td>-13.38</td></tr><tr><td>test.q_50.agg_sharpe_ratio/ppo</td><td>0.2</td></tr><tr><td>test.q_50.ann_return/ppo</td><td>33.21</td></tr><tr><td>test.q_50.cum_return/ppo</td><td>4.91</td></tr><tr><td>test.q_50.end_amount/ppo</td><td>0.81</td></tr><tr><td>test.q_50.end_total_asset/ppo</td><td>52454.4</td></tr><tr><td>test.q_50.mdd/ppo</td><td>-5.42</td></tr><tr><td>test.q_50.sharpe_ratio/ppo</td><td>1.16</td></tr><tr><td>test.q_50.vix_historical_mean/ppo</td><td>10.31</td></tr><tr><td>test.q_50.vix_insample/ppo</td><td>56.65</td></tr><tr><td>test.q_50.vix_lookback_window/ppo</td><td>63</td></tr><tr><td>test.vix.ann_return/ppo</td><td>-15.85</td></tr><tr><td>test.vix.cum_return/ppo</td><td>-2.98</td></tr><tr><td>test.vix.end_amount/ppo</td><td>56647.87</td></tr><tr><td>test.vix.end_total_asset/ppo</td><td>56647.87</td></tr><tr><td>test.vix.mdd/ppo</td><td>-3.08</td></tr><tr><td>test.vix.sharpe_ratio/ppo</td><td>-3.12</td></tr><tr><td>test.vix.vix/ppo</td><td>13</td></tr><tr><td>test.vix_10.ann_return/ppo</td><td>0</td></tr><tr><td>test.vix_10.cum_return/ppo</td><td>0</td></tr><tr><td>test.vix_10.mdd/ppo</td><td>0</td></tr><tr><td>test.vix_10.sharpe_ratio/ppo</td><td>0</td></tr><tr><td>test.vix_12.ann_return/ppo</td><td>-1.75</td></tr><tr><td>test.vix_12.cum_return/ppo</td><td>-0.31</td></tr><tr><td>test.vix_12.end_amount/ppo</td><td>49845.67</td></tr><tr><td>test.vix_12.end_total_asset/ppo</td><td>49845.67</td></tr><tr><td>test.vix_12.mdd/ppo</td><td>-0.31</td></tr><tr><td>test.vix_12.sharpe_ratio/ppo</td><td>-3.22</td></tr><tr><td>test.vix_13.ann_return/ppo</td><td>-15.85</td></tr><tr><td>test.vix_13.cum_return/ppo</td><td>-2.98</td></tr><tr><td>test.vix_13.end_amount/ppo</td><td>56647.87</td></tr><tr><td>test.vix_13.end_total_asset/ppo</td><td>56647.87</td></tr><tr><td>test.vix_13.mdd/ppo</td><td>-3.08</td></tr><tr><td>test.vix_13.sharpe_ratio/ppo</td><td>-3.12</td></tr><tr><td>test.vix_15.ann_return/ppo</td><td>-8.61</td></tr><tr><td>test.vix_15.cum_return/ppo</td><td>-1.57</td></tr><tr><td>test.vix_15.end_amount/ppo</td><td>49217.07</td></tr><tr><td>test.vix_15.end_total_asset/ppo</td><td>49217.07</td></tr><tr><td>test.vix_15.mdd/ppo</td><td>-4.17</td></tr><tr><td>test.vix_15.sharpe_ratio/ppo</td><td>-0.91</td></tr><tr><td>test.vix_16.ann_return/ppo</td><td>-5.5</td></tr><tr><td>test.vix_16.cum_return/ppo</td><td>-0.99</td></tr><tr><td>test.vix_16.end_amount/ppo</td><td>50098.18</td></tr><tr><td>test.vix_16.end_total_asset/ppo</td><td>50098.18</td></tr><tr><td>test.vix_16.mdd/ppo</td><td>-4.27</td></tr><tr><td>test.vix_16.sharpe_ratio/ppo</td><td>-0.44</td></tr><tr><td>test.vix_17.ann_return/ppo</td><td>-13.25</td></tr><tr><td>test.vix_17.cum_return/ppo</td><td>-2.46</td></tr><tr><td>test.vix_17.end_amount/ppo</td><td>19332.93</td></tr><tr><td>test.vix_17.end_total_asset/ppo</td><td>48769.15</td></tr><tr><td>test.vix_17.mdd/ppo</td><td>-4.18</td></tr><tr><td>test.vix_17.sharpe_ratio/ppo</td><td>-1.13</td></tr><tr><td>test.vix_19.ann_return/ppo</td><td>12.04</td></tr><tr><td>test.vix_19.cum_return/ppo</td><td>2.01</td></tr><tr><td>test.vix_19.end_amount/ppo</td><td>4.14</td></tr><tr><td>test.vix_19.end_total_asset/ppo</td><td>48576.79</td></tr><tr><td>test.vix_19.mdd/ppo</td><td>-4.33</td></tr><tr><td>test.vix_19.sharpe_ratio/ppo</td><td>0.79</td></tr><tr><td>test.vix_20.ann_return/ppo</td><td>10.38</td></tr><tr><td>test.vix_20.cum_return/ppo</td><td>1.75</td></tr><tr><td>test.vix_20.end_amount/ppo</td><td>2.2</td></tr><tr><td>test.vix_20.end_total_asset/ppo</td><td>50873.31</td></tr><tr><td>test.vix_20.mdd/ppo</td><td>-4.87</td></tr><tr><td>test.vix_20.sharpe_ratio/ppo</td><td>0.69</td></tr><tr><td>test.vix_21.ann_return/ppo</td><td>16.74</td></tr><tr><td>test.vix_21.cum_return/ppo</td><td>2.75</td></tr><tr><td>test.vix_21.end_amount/ppo</td><td>8.54</td></tr><tr><td>test.vix_21.end_total_asset/ppo</td><td>51375.86</td></tr><tr><td>test.vix_21.mdd/ppo</td><td>-3.81</td></tr><tr><td>test.vix_21.sharpe_ratio/ppo</td><td>1.05</td></tr><tr><td>test.vix_23.ann_return/ppo</td><td>28.86</td></tr><tr><td>test.vix_23.cum_return/ppo</td><td>4.55</td></tr><tr><td>test.vix_23.end_amount/ppo</td><td>5.84</td></tr><tr><td>test.vix_23.end_total_asset/ppo</td><td>52273.03</td></tr><tr><td>test.vix_23.mdd/ppo</td><td>-4.04</td></tr><tr><td>test.vix_23.sharpe_ratio/ppo</td><td>1.44</td></tr><tr><td>test.vix_24.ann_return/ppo</td><td>27.69</td></tr><tr><td>test.vix_24.cum_return/ppo</td><td>4.38</td></tr><tr><td>test.vix_24.end_amount/ppo</td><td>7.61</td></tr><tr><td>test.vix_24.end_total_asset/ppo</td><td>52189.63</td></tr><tr><td>test.vix_24.mdd/ppo</td><td>-4.2</td></tr><tr><td>test.vix_24.sharpe_ratio/ppo</td><td>1.39</td></tr><tr><td>test.vix_25.ann_return/ppo</td><td>41.92</td></tr><tr><td>test.vix_25.cum_return/ppo</td><td>6.33</td></tr><tr><td>test.vix_25.end_amount/ppo</td><td>14.44</td></tr><tr><td>test.vix_25.end_total_asset/ppo</td><td>49664.5</td></tr><tr><td>test.vix_25.mdd/ppo</td><td>-4.83</td></tr><tr><td>test.vix_25.sharpe_ratio/ppo</td><td>1.87</td></tr><tr><td>test.vix_best.agg_ann_return/ppo</td><td>-0.39</td></tr><tr><td>test.vix_best.agg_cum_return/ppo</td><td>-0.67</td></tr><tr><td>test.vix_best.agg_mdd/ppo</td><td>-26.62</td></tr><tr><td>test.vix_best.agg_sharpe_ratio/ppo</td><td>0.11</td></tr><tr><td>test.vix_best.ann_return/ppo</td><td>0</td></tr><tr><td>test.vix_best.cum_return/ppo</td><td>0</td></tr><tr><td>test.vix_best.mdd/ppo</td><td>0</td></tr><tr><td>test.vix_best.sharpe_ratio/ppo</td><td>0</td></tr><tr><td>test.vix_best.vix/ppo</td><td>10</td></tr><tr><td>test.vix_chosen.agg_ann_return/ppo</td><td>7.5</td></tr><tr><td>test.vix_chosen.agg_cum_return/ppo</td><td>13.3</td></tr><tr><td>test.vix_chosen.agg_mdd/ppo</td><td>-13.11</td></tr><tr><td>test.vix_chosen.agg_sharpe_ratio/ppo</td><td>0.46</td></tr><tr><td>test.vix_chosen.ann_return/ppo</td><td>0</td></tr><tr><td>test.vix_chosen.cum_return/ppo</td><td>0</td></tr><tr><td>test.vix_chosen.mdd/ppo</td><td>0</td></tr><tr><td>test.vix_chosen.sharpe_ratio/ppo</td><td>0</td></tr><tr><td>test.vix_chosen.vix/ppo</td><td>10</td></tr><tr><td>train.ann_return/ppo</td><td>46.64539</td></tr><tr><td>train.cum_return/ppo</td><td>167.30316</td></tr><tr><td>train.duration_minutes/ppo</td><td>4</td></tr><tr><td>train.mdd/ppo</td><td>-27.08565</td></tr><tr><td>train.sharpe_ratio/ppo</td><td>1.02589</td></tr><tr><td>val.ann_return/ppo</td><td>-1.93333</td></tr><tr><td>val.cum_return/ppo</td><td>-0.37333</td></tr><tr><td>val.mdd/ppo</td><td>-4.96619</td></tr><tr><td>val.num_pretrain_iters</td><td>40</td></tr><tr><td>val.sharpe_ratio/ppo</td><td>-0.02823</td></tr><tr><td>val.vix.ann_return/ppo</td><td>38.6</td></tr><tr><td>val.vix.cum_return/ppo</td><td>5.61</td></tr><tr><td>val.vix.end_amount/ppo</td><td>52803.21</td></tr><tr><td>val.vix.end_total_asset/ppo</td><td>52803.21</td></tr><tr><td>val.vix.mdd/ppo</td><td>-1.1</td></tr><tr><td>val.vix.sharpe_ratio/ppo</td><td>3.99</td></tr><tr><td>val.vix.vix/ppo</td><td>13</td></tr><tr><td>val.vix_10.ann_return/ppo</td><td>9.56</td></tr><tr><td>val.vix_10.cum_return/ppo</td><td>1.54</td></tr><tr><td>val.vix_10.end_amount/ppo</td><td>50768.83</td></tr><tr><td>val.vix_10.end_total_asset/ppo</td><td>50768.83</td></tr><tr><td>val.vix_10.mdd/ppo</td><td>-0.06</td></tr><tr><td>val.vix_10.sharpe_ratio/ppo</td><td>3.82</td></tr><tr><td>val.vix_13.ann_return/ppo</td><td>38.6</td></tr><tr><td>val.vix_13.cum_return/ppo</td><td>5.61</td></tr><tr><td>val.vix_13.end_amount/ppo</td><td>52803.21</td></tr><tr><td>val.vix_13.end_total_asset/ppo</td><td>52803.21</td></tr><tr><td>val.vix_13.mdd/ppo</td><td>-1.1</td></tr><tr><td>val.vix_13.sharpe_ratio/ppo</td><td>3.99</td></tr><tr><td>val.vix_16.ann_return/ppo</td><td>5.34</td></tr><tr><td>val.vix_16.cum_return/ppo</td><td>0.87</td></tr><tr><td>val.vix_16.end_amount/ppo</td><td>50436.87</td></tr><tr><td>val.vix_16.end_total_asset/ppo</td><td>50436.87</td></tr><tr><td>val.vix_16.mdd/ppo</td><td>-5.54</td></tr><tr><td>val.vix_16.sharpe_ratio/ppo</td><td>0.46</td></tr><tr><td>val.vix_19.ann_return/ppo</td><td>-25.13</td></tr><tr><td>val.vix_19.cum_return/ppo</td><td>-4.72</td></tr><tr><td>val.vix_19.end_amount/ppo</td><td>47638.64</td></tr><tr><td>val.vix_19.end_total_asset/ppo</td><td>47638.64</td></tr><tr><td>val.vix_19.mdd/ppo</td><td>-10.77</td></tr><tr><td>val.vix_19.sharpe_ratio/ppo</td><td>-1.35</td></tr><tr><td>val.vix_22.ann_return/ppo</td><td>-35.15</td></tr><tr><td>val.vix_22.cum_return/ppo</td><td>-6.98</td></tr><tr><td>val.vix_22.end_amount/ppo</td><td>32330.2</td></tr><tr><td>val.vix_22.end_total_asset/ppo</td><td>46508.73</td></tr><tr><td>val.vix_22.mdd/ppo</td><td>-12.89</td></tr><tr><td>val.vix_22.sharpe_ratio/ppo</td><td>-1.79</td></tr><tr><td>val.vix_25.ann_return/ppo</td><td>-28.11</td></tr><tr><td>val.vix_25.cum_return/ppo</td><td>-5.37</td></tr><tr><td>val.vix_25.end_amount/ppo</td><td>11.34</td></tr><tr><td>val.vix_25.end_total_asset/ppo</td><td>47316.72</td></tr><tr><td>val.vix_25.mdd/ppo</td><td>-12.61</td></tr><tr><td>val.vix_25.sharpe_ratio/ppo</td><td>-1.16</td></tr><tr><td>val.vix_28.ann_return/ppo</td><td>-29.36</td></tr><tr><td>val.vix_28.cum_return/ppo</td><td>-5.64</td></tr><tr><td>val.vix_28.end_amount/ppo</td><td>0.82</td></tr><tr><td>val.vix_28.end_total_asset/ppo</td><td>47178.43</td></tr><tr><td>val.vix_28.mdd/ppo</td><td>-12.85</td></tr><tr><td>val.vix_28.sharpe_ratio/ppo</td><td>-1.19</td></tr><tr><td>val.vix_32.ann_return/ppo</td><td>-29.09</td></tr><tr><td>val.vix_32.cum_return/ppo</td><td>-5.58</td></tr><tr><td>val.vix_32.end_amount/ppo</td><td>12.83</td></tr><tr><td>val.vix_32.end_total_asset/ppo</td><td>47208.26</td></tr><tr><td>val.vix_32.mdd/ppo</td><td>-12.76</td></tr><tr><td>val.vix_32.sharpe_ratio/ppo</td><td>-1.13</td></tr><tr><td>val.vix_35.ann_return/ppo</td><td>-19.95</td></tr><tr><td>val.vix_35.cum_return/ppo</td><td>-3.65</td></tr><tr><td>val.vix_35.end_amount/ppo</td><td>3.99</td></tr><tr><td>val.vix_35.end_total_asset/ppo</td><td>48174.36</td></tr><tr><td>val.vix_35.mdd/ppo</td><td>-10.93</td></tr><tr><td>val.vix_35.sharpe_ratio/ppo</td><td>-0.68</td></tr><tr><td>val.vix_38.ann_return/ppo</td><td>-9.18</td></tr><tr><td>val.vix_38.cum_return/ppo</td><td>-1.6</td></tr><tr><td>val.vix_38.end_amount/ppo</td><td>19.19</td></tr><tr><td>val.vix_38.end_total_asset/ppo</td><td>49201.52</td></tr><tr><td>val.vix_38.mdd/ppo</td><td>-9.4</td></tr><tr><td>val.vix_38.sharpe_ratio/ppo</td><td>-0.2</td></tr><tr><td>val.vix_39.ann_return/ppo</td><td>-9.18</td></tr><tr><td>val.vix_39.cum_return/ppo</td><td>-1.6</td></tr><tr><td>val.vix_39.end_amount/ppo</td><td>19.19</td></tr><tr><td>val.vix_39.end_total_asset/ppo</td><td>49201.52</td></tr><tr><td>val.vix_39.mdd/ppo</td><td>-9.4</td></tr><tr><td>val.vix_39.sharpe_ratio/ppo</td><td>-0.2</td></tr><tr><td>val.vix_best.ann_return/ppo</td><td>58.59</td></tr><tr><td>val.vix_best.cum_return/ppo</td><td>8.01</td></tr><tr><td>val.vix_best.mdd/ppo</td><td>-0.05</td></tr><tr><td>val.vix_best.sharpe_ratio/ppo</td><td>4.71</td></tr><tr><td>val.vix_best.vix/ppo</td><td>10</td></tr></table><br/></div></div>"
            ]
          },
          "metadata": {}
        },
        {
          "output_type": "display_data",
          "data": {
            "text/plain": [
              "<IPython.core.display.HTML object>"
            ],
            "text/html": [
              " View run <strong style=\"color:#cdcd00\">DOW-30 | 2017-10 | 2018 Q1 | 2018 Q2 | j929yqin</strong> at: <a href='https://wandb.ai/overfit1010/finrl-dt-replicate/runs/j929yqin' target=\"_blank\">https://wandb.ai/overfit1010/finrl-dt-replicate/runs/j929yqin</a><br> View project at: <a href='https://wandb.ai/overfit1010/finrl-dt-replicate' target=\"_blank\">https://wandb.ai/overfit1010/finrl-dt-replicate</a><br>Synced 5 W&B file(s), 0 media file(s), 0 artifact file(s) and 0 other file(s)"
            ]
          },
          "metadata": {}
        },
        {
          "output_type": "display_data",
          "data": {
            "text/plain": [
              "<IPython.core.display.HTML object>"
            ],
            "text/html": [
              "Find logs at: <code>./wandb/run-20250220_160746-j929yqin/logs</code>"
            ]
          },
          "metadata": {}
        },
        {
          "output_type": "stream",
          "name": "stdout",
          "text": [
            "\n",
            "Run #10: xodexnxj\n",
            "test_start_date 2018-07-01 00:00:00\n",
            "val_start_date 2018-04-01 00:00:00\n",
            "Threshold: historical: 17.14 | insample: 56.65\n",
            "turbulence_threshold: 56.65\n"
          ]
        },
        {
          "output_type": "display_data",
          "data": {
            "text/plain": [
              "<IPython.core.display.HTML object>"
            ],
            "text/html": [
              "Tracking run with wandb version 0.19.6"
            ]
          },
          "metadata": {}
        },
        {
          "output_type": "display_data",
          "data": {
            "text/plain": [
              "<IPython.core.display.HTML object>"
            ],
            "text/html": [
              "Run data is saved locally in <code>/content/wandb/run-20250220_160754-xodexnxj</code>"
            ]
          },
          "metadata": {}
        },
        {
          "output_type": "display_data",
          "data": {
            "text/plain": [
              "<IPython.core.display.HTML object>"
            ],
            "text/html": [
              "Resuming run <strong><a href='https://wandb.ai/overfit1010/finrl-dt-replicate/runs/xodexnxj' target=\"_blank\">DOW-30 | 2018-01 | 2018 Q2 | 2018 Q3 | xodexnxj</a></strong> to <a href='https://wandb.ai/overfit1010/finrl-dt-replicate' target=\"_blank\">Weights & Biases</a> (<a href='https://wandb.me/developer-guide' target=\"_blank\">docs</a>)<br>Sweep page: <a href='https://wandb.ai/overfit1010/finrl-dt-replicate/sweeps/yd7fz9as' target=\"_blank\">https://wandb.ai/overfit1010/finrl-dt-replicate/sweeps/yd7fz9as</a>"
            ]
          },
          "metadata": {}
        },
        {
          "output_type": "display_data",
          "data": {
            "text/plain": [
              "<IPython.core.display.HTML object>"
            ],
            "text/html": [
              " View project at <a href='https://wandb.ai/overfit1010/finrl-dt-replicate' target=\"_blank\">https://wandb.ai/overfit1010/finrl-dt-replicate</a>"
            ]
          },
          "metadata": {}
        },
        {
          "output_type": "display_data",
          "data": {
            "text/plain": [
              "<IPython.core.display.HTML object>"
            ],
            "text/html": [
              " View sweep at <a href='https://wandb.ai/overfit1010/finrl-dt-replicate/sweeps/yd7fz9as' target=\"_blank\">https://wandb.ai/overfit1010/finrl-dt-replicate/sweeps/yd7fz9as</a>"
            ]
          },
          "metadata": {}
        },
        {
          "output_type": "display_data",
          "data": {
            "text/plain": [
              "<IPython.core.display.HTML object>"
            ],
            "text/html": [
              " View run at <a href='https://wandb.ai/overfit1010/finrl-dt-replicate/runs/xodexnxj' target=\"_blank\">https://wandb.ai/overfit1010/finrl-dt-replicate/runs/xodexnxj</a>"
            ]
          },
          "metadata": {}
        },
        {
          "output_type": "stream",
          "name": "stdout",
          "text": [
            "Downloading artifacts to trained_models-xodexnxj:v0\n"
          ]
        },
        {
          "output_type": "stream",
          "name": "stderr",
          "text": [
            "\u001b[34m\u001b[1mwandb\u001b[0m:   99 of 99 files downloaded.  \n"
          ]
        },
        {
          "output_type": "stream",
          "name": "stdout",
          "text": [
            "Artifacts downloaded cnt per type: {'trained_models': 1}\n",
            "Artifacts folders per type: {'trained_models': [PosixPath('trained_models-xodexnxj:v0')]}\n",
            "\n",
            "\n",
            "Evaluating for `test` using `^VIX`: 56.650001525878906\n",
            "Init with NEW env state:\n",
            "\t initial_amount: 50000\n",
            "\t initial_stocks: None\n",
            "Initializing eval env... Done.\n",
            "\t initial_total_asset: 50000.0\n",
            "test_start_date 2018-07-01 00:00:00\n",
            "val_start_date 2018-04-01 00:00:00\n",
            "Threshold: historical: 17.14 | insample: 56.65\n",
            "turbulence_threshold: 56.65\n",
            "Downloading artifacts to trained_models-xodexnxj:v0\n"
          ]
        },
        {
          "output_type": "stream",
          "name": "stderr",
          "text": [
            "\u001b[34m\u001b[1mwandb\u001b[0m: \\ 1 of 99 files downloaded...\r\u001b[34m\u001b[1mwandb\u001b[0m:   99 of 99 files downloaded.  \n"
          ]
        },
        {
          "output_type": "stream",
          "name": "stdout",
          "text": [
            "Artifacts downloaded cnt per type: {'trained_models': 1}\n",
            "Artifacts folders per type: {'trained_models': [PosixPath('trained_models-xodexnxj:v0')]}\n",
            "\n",
            "\n",
            "Evaluating for `test` using `^VIX`: 56.650001525878906\n",
            "Init with NEW env state:\n",
            "\t initial_amount: 50000\n",
            "\t initial_stocks: None\n",
            "Initializing eval env... Done.\n",
            "\t initial_total_asset: 50000.0\n"
          ]
        },
        {
          "output_type": "display_data",
          "data": {
            "text/plain": [
              "<IPython.core.display.HTML object>"
            ],
            "text/html": []
          },
          "metadata": {}
        },
        {
          "output_type": "display_data",
          "data": {
            "text/plain": [
              "<IPython.core.display.HTML object>"
            ],
            "text/html": [
              "<br>    <style><br>        .wandb-row {<br>            display: flex;<br>            flex-direction: row;<br>            flex-wrap: wrap;<br>            justify-content: flex-start;<br>            width: 100%;<br>        }<br>        .wandb-col {<br>            display: flex;<br>            flex-direction: column;<br>            flex-basis: 100%;<br>            flex: 1;<br>            padding: 10px;<br>        }<br>    </style><br><div class=\"wandb-row\"><div class=\"wandb-col\"><h3>Run summary:</h3><br/><table class=\"wandb\"><tr><td>config_hash</td><td>1ea39a67636c8e66b006...</td></tr><tr><td>run.duration_minutes</td><td>4.4</td></tr><tr><td>test.q_100.agg_ann_return/ppo</td><td>1.49</td></tr><tr><td>test.q_100.agg_cum_return/ppo</td><td>2.76</td></tr><tr><td>test.q_100.agg_mdd/ppo</td><td>-13.38</td></tr><tr><td>test.q_100.agg_sharpe_ratio/ppo</td><td>0.15</td></tr><tr><td>test.q_100.ann_return/ppo</td><td>17.68</td></tr><tr><td>test.q_100.cum_return/ppo</td><td>2.76</td></tr><tr><td>test.q_100.end_amount/ppo</td><td>18.47</td></tr><tr><td>test.q_100.end_total_asset/ppo</td><td>51379.37</td></tr><tr><td>test.q_100.mdd/ppo</td><td>-7.67</td></tr><tr><td>test.q_100.sharpe_ratio/ppo</td><td>0.67</td></tr><tr><td>test.q_100.vix_historical_mean/ppo</td><td>17.14</td></tr><tr><td>test.q_100.vix_insample/ppo</td><td>56.65</td></tr><tr><td>test.q_100.vix_lookback_window/ppo</td><td>63</td></tr><tr><td>test.q_50.agg_ann_return/ppo</td><td>1.49</td></tr><tr><td>test.q_50.agg_cum_return/ppo</td><td>2.76</td></tr><tr><td>test.q_50.agg_mdd/ppo</td><td>-13.38</td></tr><tr><td>test.q_50.agg_sharpe_ratio/ppo</td><td>0.15</td></tr><tr><td>test.q_50.ann_return/ppo</td><td>17.68</td></tr><tr><td>test.q_50.cum_return/ppo</td><td>2.76</td></tr><tr><td>test.q_50.end_amount/ppo</td><td>18.47</td></tr><tr><td>test.q_50.end_total_asset/ppo</td><td>51379.37</td></tr><tr><td>test.q_50.mdd/ppo</td><td>-7.67</td></tr><tr><td>test.q_50.sharpe_ratio/ppo</td><td>0.67</td></tr><tr><td>test.q_50.vix_historical_mean/ppo</td><td>17.14</td></tr><tr><td>test.q_50.vix_insample/ppo</td><td>56.65</td></tr><tr><td>test.q_50.vix_lookback_window/ppo</td><td>63</td></tr><tr><td>test.vix.ann_return/ppo</td><td>105.93</td></tr><tr><td>test.vix.cum_return/ppo</td><td>13.5</td></tr><tr><td>test.vix.end_amount/ppo</td><td>9.7</td></tr><tr><td>test.vix.end_total_asset/ppo</td><td>59486.36</td></tr><tr><td>test.vix.mdd/ppo</td><td>-2.37</td></tr><tr><td>test.vix.sharpe_ratio/ppo</td><td>4.78</td></tr><tr><td>test.vix.vix/ppo</td><td>23</td></tr><tr><td>test.vix_11.ann_return/ppo</td><td>-3.1</td></tr><tr><td>test.vix_11.cum_return/ppo</td><td>-0.55</td></tr><tr><td>test.vix_11.end_amount/ppo</td><td>49724.42</td></tr><tr><td>test.vix_11.end_total_asset/ppo</td><td>49724.42</td></tr><tr><td>test.vix_11.mdd/ppo</td><td>-0.55</td></tr><tr><td>test.vix_11.sharpe_ratio/ppo</td><td>-3.03</td></tr><tr><td>test.vix_12.ann_return/ppo</td><td>-6.08</td></tr><tr><td>test.vix_12.cum_return/ppo</td><td>-1.09</td></tr><tr><td>test.vix_12.end_amount/ppo</td><td>49300.68</td></tr><tr><td>test.vix_12.end_total_asset/ppo</td><td>49300.68</td></tr><tr><td>test.vix_12.mdd/ppo</td><td>-1.78</td></tr><tr><td>test.vix_12.sharpe_ratio/ppo</td><td>-1.68</td></tr><tr><td>test.vix_13.ann_return/ppo</td><td>16.9</td></tr><tr><td>test.vix_13.cum_return/ppo</td><td>2.78</td></tr><tr><td>test.vix_13.end_amount/ppo</td><td>14.44</td></tr><tr><td>test.vix_13.end_total_asset/ppo</td><td>53660.95</td></tr><tr><td>test.vix_13.mdd/ppo</td><td>-2.25</td></tr><tr><td>test.vix_13.sharpe_ratio/ppo</td><td>1.89</td></tr><tr><td>test.vix_14.ann_return/ppo</td><td>48.19</td></tr><tr><td>test.vix_14.cum_return/ppo</td><td>7.14</td></tr><tr><td>test.vix_14.end_amount/ppo</td><td>18.9</td></tr><tr><td>test.vix_14.end_total_asset/ppo</td><td>53569.87</td></tr><tr><td>test.vix_14.mdd/ppo</td><td>-2.85</td></tr><tr><td>test.vix_14.sharpe_ratio/ppo</td><td>3.68</td></tr><tr><td>test.vix_15.ann_return/ppo</td><td>99.97</td></tr><tr><td>test.vix_15.cum_return/ppo</td><td>12.92</td></tr><tr><td>test.vix_15.end_amount/ppo</td><td>0.01</td></tr><tr><td>test.vix_15.end_total_asset/ppo</td><td>55576.04</td></tr><tr><td>test.vix_15.mdd/ppo</td><td>-2.55</td></tr><tr><td>test.vix_15.sharpe_ratio/ppo</td><td>4.71</td></tr><tr><td>test.vix_16.ann_return/ppo</td><td>105.56</td></tr><tr><td>test.vix_16.cum_return/ppo</td><td>13.47</td></tr><tr><td>test.vix_16.end_amount/ppo</td><td>6</td></tr><tr><td>test.vix_16.end_total_asset/ppo</td><td>56842.23</td></tr><tr><td>test.vix_16.mdd/ppo</td><td>-2.51</td></tr><tr><td>test.vix_16.sharpe_ratio/ppo</td><td>5.07</td></tr><tr><td>test.vix_17.ann_return/ppo</td><td>115.82</td></tr><tr><td>test.vix_17.cum_return/ppo</td><td>14.44</td></tr><tr><td>test.vix_17.end_amount/ppo</td><td>6.01</td></tr><tr><td>test.vix_17.end_total_asset/ppo</td><td>55878.25</td></tr><tr><td>test.vix_17.mdd/ppo</td><td>-2.03</td></tr><tr><td>test.vix_17.sharpe_ratio/ppo</td><td>5.41</td></tr><tr><td>test.vix_18.ann_return/ppo</td><td>111.37</td></tr><tr><td>test.vix_18.cum_return/ppo</td><td>14.02</td></tr><tr><td>test.vix_18.end_amount/ppo</td><td>9.75</td></tr><tr><td>test.vix_18.end_total_asset/ppo</td><td>57011.74</td></tr><tr><td>test.vix_18.mdd/ppo</td><td>-2.96</td></tr><tr><td>test.vix_18.sharpe_ratio/ppo</td><td>4.56</td></tr><tr><td>test.vix_23.ann_return/ppo</td><td>105.93</td></tr><tr><td>test.vix_23.cum_return/ppo</td><td>13.5</td></tr><tr><td>test.vix_23.end_amount/ppo</td><td>9.7</td></tr><tr><td>test.vix_23.end_total_asset/ppo</td><td>59486.36</td></tr><tr><td>test.vix_23.mdd/ppo</td><td>-2.37</td></tr><tr><td>test.vix_23.sharpe_ratio/ppo</td><td>4.78</td></tr><tr><td>test.vix_best.agg_ann_return/ppo</td><td>6.02</td></tr><tr><td>test.vix_best.agg_cum_return/ppo</td><td>11.76</td></tr><tr><td>test.vix_best.agg_mdd/ppo</td><td>-26.62</td></tr><tr><td>test.vix_best.agg_sharpe_ratio/ppo</td><td>0.31</td></tr><tr><td>test.vix_best.ann_return/ppo</td><td>63.36</td></tr><tr><td>test.vix_best.cum_return/ppo</td><td>8.99</td></tr><tr><td>test.vix_best.mdd/ppo</td><td>-4.1</td></tr><tr><td>test.vix_best.sharpe_ratio/ppo</td><td>3.09</td></tr><tr><td>test.vix_best.vix/ppo</td><td>16</td></tr><tr><td>test.vix_chosen.agg_ann_return/ppo</td><td>9.57</td></tr><tr><td>test.vix_chosen.agg_cum_return/ppo</td><td>18.97</td></tr><tr><td>test.vix_chosen.agg_mdd/ppo</td><td>-14.45</td></tr><tr><td>test.vix_chosen.agg_sharpe_ratio/ppo</td><td>0.54</td></tr><tr><td>test.vix_chosen.ann_return/ppo</td><td>-3.78</td></tr><tr><td>test.vix_chosen.cum_return/ppo</td><td>-0.67</td></tr><tr><td>test.vix_chosen.mdd/ppo</td><td>-2.49</td></tr><tr><td>test.vix_chosen.sharpe_ratio/ppo</td><td>-0.57</td></tr><tr><td>test.vix_chosen.vix/ppo</td><td>12</td></tr><tr><td>train.ann_return/ppo</td><td>29.51468</td></tr><tr><td>train.cum_return/ppo</td><td>184.53996</td></tr><tr><td>train.duration_minutes/ppo</td><td>4</td></tr><tr><td>train.mdd/ppo</td><td>-43.21</td></tr><tr><td>train.sharpe_ratio/ppo</td><td>0.81121</td></tr><tr><td>val.ann_return/ppo</td><td>46856.87651</td></tr><tr><td>val.cum_return/ppo</td><td>9.31778</td></tr><tr><td>val.mdd/ppo</td><td>-4.28413</td></tr><tr><td>val.num_pretrain_iters</td><td>44</td></tr><tr><td>val.sharpe_ratio/ppo</td><td>4.69694</td></tr><tr><td>val.vix.ann_return/ppo</td><td>23.73</td></tr><tr><td>val.vix.cum_return/ppo</td><td>3.8</td></tr><tr><td>val.vix.end_amount/ppo</td><td>9.76</td></tr><tr><td>val.vix.end_total_asset/ppo</td><td>51902.36</td></tr><tr><td>val.vix.mdd/ppo</td><td>-4.5</td></tr><tr><td>val.vix.sharpe_ratio/ppo</td><td>1.18</td></tr><tr><td>val.vix.vix/ppo</td><td>23</td></tr><tr><td>val.vix_12.ann_return/ppo</td><td>-2.22</td></tr><tr><td>val.vix_12.cum_return/ppo</td><td>-0.39</td></tr><tr><td>val.vix_12.end_amount/ppo</td><td>49803.89</td></tr><tr><td>val.vix_12.end_total_asset/ppo</td><td>49803.89</td></tr><tr><td>val.vix_12.mdd/ppo</td><td>-0.39</td></tr><tr><td>val.vix_12.sharpe_ratio/ppo</td><td>-3.18</td></tr><tr><td>val.vix_13.ann_return/ppo</td><td>-13.26</td></tr><tr><td>val.vix_13.cum_return/ppo</td><td>-2.46</td></tr><tr><td>val.vix_13.end_amount/ppo</td><td>48767.99</td></tr><tr><td>val.vix_13.end_total_asset/ppo</td><td>48767.99</td></tr><tr><td>val.vix_13.mdd/ppo</td><td>-2.58</td></tr><tr><td>val.vix_13.sharpe_ratio/ppo</td><td>-2.74</td></tr><tr><td>val.vix_15.ann_return/ppo</td><td>-6.43</td></tr><tr><td>val.vix_15.cum_return/ppo</td><td>-1.16</td></tr><tr><td>val.vix_15.end_amount/ppo</td><td>49420.29</td></tr><tr><td>val.vix_15.end_total_asset/ppo</td><td>49420.29</td></tr><tr><td>val.vix_15.mdd/ppo</td><td>-4.62</td></tr><tr><td>val.vix_15.sharpe_ratio/ppo</td><td>-0.6</td></tr><tr><td>val.vix_16.ann_return/ppo</td><td>-9.67</td></tr><tr><td>val.vix_16.cum_return/ppo</td><td>-1.77</td></tr><tr><td>val.vix_16.end_amount/ppo</td><td>49116.27</td></tr><tr><td>val.vix_16.end_total_asset/ppo</td><td>49116.27</td></tr><tr><td>val.vix_16.mdd/ppo</td><td>-5.29</td></tr><tr><td>val.vix_16.sharpe_ratio/ppo</td><td>-0.76</td></tr><tr><td>val.vix_17.ann_return/ppo</td><td>-14.13</td></tr><tr><td>val.vix_17.cum_return/ppo</td><td>-2.64</td></tr><tr><td>val.vix_17.end_amount/ppo</td><td>10997.56</td></tr><tr><td>val.vix_17.end_total_asset/ppo</td><td>48681.87</td></tr><tr><td>val.vix_17.mdd/ppo</td><td>-4.86</td></tr><tr><td>val.vix_17.sharpe_ratio/ppo</td><td>-1.11</td></tr><tr><td>val.vix_19.ann_return/ppo</td><td>13.34</td></tr><tr><td>val.vix_19.cum_return/ppo</td><td>2.22</td></tr><tr><td>val.vix_19.end_amount/ppo</td><td>4.12</td></tr><tr><td>val.vix_19.end_total_asset/ppo</td><td>51110.07</td></tr><tr><td>val.vix_19.mdd/ppo</td><td>-5.34</td></tr><tr><td>val.vix_19.sharpe_ratio/ppo</td><td>0.83</td></tr><tr><td>val.vix_20.ann_return/ppo</td><td>13.75</td></tr><tr><td>val.vix_20.cum_return/ppo</td><td>2.28</td></tr><tr><td>val.vix_20.end_amount/ppo</td><td>18.74</td></tr><tr><td>val.vix_20.end_total_asset/ppo</td><td>51142.29</td></tr><tr><td>val.vix_20.mdd/ppo</td><td>-5.26</td></tr><tr><td>val.vix_20.sharpe_ratio/ppo</td><td>0.86</td></tr><tr><td>val.vix_21.ann_return/ppo</td><td>11.69</td></tr><tr><td>val.vix_21.cum_return/ppo</td><td>1.96</td></tr><tr><td>val.vix_21.end_amount/ppo</td><td>21.57</td></tr><tr><td>val.vix_21.end_total_asset/ppo</td><td>50978.58</td></tr><tr><td>val.vix_21.mdd/ppo</td><td>-4.99</td></tr><tr><td>val.vix_21.sharpe_ratio/ppo</td><td>0.69</td></tr><tr><td>val.vix_23.ann_return/ppo</td><td>23.73</td></tr><tr><td>val.vix_23.cum_return/ppo</td><td>3.8</td></tr><tr><td>val.vix_23.end_amount/ppo</td><td>9.76</td></tr><tr><td>val.vix_23.end_total_asset/ppo</td><td>51902.36</td></tr><tr><td>val.vix_23.mdd/ppo</td><td>-4.5</td></tr><tr><td>val.vix_23.sharpe_ratio/ppo</td><td>1.18</td></tr><tr><td>val.vix_24.ann_return/ppo</td><td>25.39</td></tr><tr><td>val.vix_24.cum_return/ppo</td><td>4.05</td></tr><tr><td>val.vix_24.end_amount/ppo</td><td>7.11</td></tr><tr><td>val.vix_24.end_total_asset/ppo</td><td>52023.18</td></tr><tr><td>val.vix_24.mdd/ppo</td><td>-5.41</td></tr><tr><td>val.vix_24.sharpe_ratio/ppo</td><td>1.17</td></tr><tr><td>val.vix_25.ann_return/ppo</td><td>24.22</td></tr><tr><td>val.vix_25.cum_return/ppo</td><td>3.88</td></tr><tr><td>val.vix_25.end_amount/ppo</td><td>7.36</td></tr><tr><td>val.vix_25.end_total_asset/ppo</td><td>51937.74</td></tr><tr><td>val.vix_25.mdd/ppo</td><td>-5.46</td></tr><tr><td>val.vix_25.sharpe_ratio/ppo</td><td>1.12</td></tr><tr><td>val.vix_best.ann_return/ppo</td><td>34.19</td></tr><tr><td>val.vix_best.cum_return/ppo</td><td>5.29</td></tr><tr><td>val.vix_best.mdd/ppo</td><td>-0.53</td></tr><tr><td>val.vix_best.sharpe_ratio/ppo</td><td>1.81</td></tr><tr><td>val.vix_best.vix/ppo</td><td>12</td></tr></table><br/></div></div>"
            ]
          },
          "metadata": {}
        },
        {
          "output_type": "display_data",
          "data": {
            "text/plain": [
              "<IPython.core.display.HTML object>"
            ],
            "text/html": [
              " View run <strong style=\"color:#cdcd00\">DOW-30 | 2018-01 | 2018 Q2 | 2018 Q3 | xodexnxj</strong> at: <a href='https://wandb.ai/overfit1010/finrl-dt-replicate/runs/xodexnxj' target=\"_blank\">https://wandb.ai/overfit1010/finrl-dt-replicate/runs/xodexnxj</a><br> View project at: <a href='https://wandb.ai/overfit1010/finrl-dt-replicate' target=\"_blank\">https://wandb.ai/overfit1010/finrl-dt-replicate</a><br>Synced 5 W&B file(s), 0 media file(s), 0 artifact file(s) and 0 other file(s)"
            ]
          },
          "metadata": {}
        },
        {
          "output_type": "display_data",
          "data": {
            "text/plain": [
              "<IPython.core.display.HTML object>"
            ],
            "text/html": [
              "Find logs at: <code>./wandb/run-20250220_160754-xodexnxj/logs</code>"
            ]
          },
          "metadata": {}
        },
        {
          "output_type": "stream",
          "name": "stdout",
          "text": [
            "\n",
            "Run #11: 1b0gy4rj\n"
          ]
        }
      ]
    },
    {
      "cell_type": "code",
      "execution_count": null,
      "metadata": {
        "id": "W78_vdQd4Jmy"
      },
      "outputs": [],
      "source": [
        "#@title 2. Compute aggregated metrics sequentially\n",
        "\n",
        "def compute_aggregated_metrics(\n",
        "        runs_split_folders,\n",
        "        config_hash_to_runs,\n",
        "        filter_hash=None,\n",
        "        limit_runs=None,\n",
        "    ):\n",
        "\n",
        "    for config_hash, sorted_runs_list in config_hash_to_runs.items():\n",
        "        if config_hash != filter_hash:\n",
        "            continue\n",
        "\n",
        "        # Iteratively expand aggregated asset values dataftames by sequential concatenation\n",
        "        agg_asset_values = {\n",
        "            # NOTE: compute agg metrics only for test\n",
        "\n",
        "            # 'val': {\n",
        "            #     'best': pd.DataFrame()\n",
        "            # },\n",
        "\n",
        "            'test': {\n",
        "                'chosen': pd.DataFrame(),\n",
        "                'best': pd.DataFrame(),\n",
        "            }\n",
        "        }\n",
        "\n",
        "        for run_index, (run_id, test_start_date) in enumerate(sorted_runs_list):\n",
        "            print(f\"run_index: {run_index}\")\n",
        "\n",
        "            if limit_runs is not None and run_index > limit_runs - 1:\n",
        "                break\n",
        "\n",
        "            split_folders = runs_split_folders[run_id]\n",
        "            split_thresholds = {\n",
        "                # 'val': ['best'],\n",
        "                'test': ['chosen', 'best']\n",
        "            }\n",
        "\n",
        "            run = wandb.init(\n",
        "                entity=ENTITY,\n",
        "                project=PROJECT,\n",
        "                id=run_id,\n",
        "                resume=\"must\",  # or 'allow'\n",
        "            )\n",
        "\n",
        "            for split_folder in split_folders:\n",
        "                split_label = extract_split_label(str(split_folder))\n",
        "                if split_label != 'test':\n",
        "                    continue\n",
        "\n",
        "                turbulence_log_name = extract_turbulence_log_name(str(split_folder))\n",
        "                for turbulence_thresh in split_thresholds[split_label]:\n",
        "                    file_name = find_file_by_threshold(split_folder, turbulence_thresh)\n",
        "                    run_asset_values_per_split = pd.read_csv(split_folder / file_name, index_col=0)\n",
        "                    agg_asset_values[split_label][turbulence_thresh] = pd.concat([\n",
        "                        agg_asset_values[split_label][turbulence_thresh],\n",
        "                        run_asset_values_per_split,\n",
        "                    ])\n",
        "                    # display(agg_asset_values[split_label][turbulence_thresh])\n",
        "\n",
        "                    # print(run_index)\n",
        "                    # display(agg_asset_values)\n",
        "                    # TODO: fix saving column name when saving asset values\n",
        "\n",
        "                    agg_metrics_per_split = compute_metrics(agg_asset_values[split_label][turbulence_thresh])\n",
        "\n",
        "                    log_eval_results(\n",
        "                        model_name,\n",
        "                        agg_metrics_per_split,\n",
        "                        split_label,\n",
        "                        turbulence_log_name,\n",
        "                        turbulence_thresh=turbulence_thresh,\n",
        "                        run=run,\n",
        "                        metric_prefix='agg',\n",
        "                    )\n",
        "\n",
        "            wandb.finish()\n",
        "\n",
        "        print()"
      ]
    },
    {
      "cell_type": "markdown",
      "metadata": {
        "id": "_huFpEN4BuAO"
      },
      "source": [
        "## Evaluate w/ grid thresholds (step by step)"
      ]
    },
    {
      "cell_type": "code",
      "execution_count": null,
      "metadata": {
        "id": "adDW_iY5HbLf"
      },
      "outputs": [],
      "source": [
        "import wandb\n",
        "\n",
        "RUN_ID = \"q0z9x202\"  # Replace with the actual run ID\n",
        "\n",
        "wandb.finish()\n",
        "wandb.init(project=PROJECT, id=RUN_ID, resume='must')"
      ]
    },
    {
      "cell_type": "code",
      "execution_count": null,
      "metadata": {
        "id": "-YgyEOHM_06J",
        "cellView": "form"
      },
      "outputs": [],
      "source": [
        "#@title Download artifacts\n",
        "\n",
        "artifact_types = ['trained_models']\n",
        "\n",
        "# Initialize the W&B API\n",
        "api = wandb.Api()\n",
        "\n",
        "# Retrieve the run\n",
        "run = api.run(f\"{ENTITY}/{PROJECT}/{RUN_ID}\")\n",
        "\n",
        "# Iterate over the artifacts used or logged by the run\n",
        "for artifact in run.logged_artifacts():\n",
        "    if artifact.type in artifact_types:\n",
        "        artifact_folder = f'./{artifact.type}'\n",
        "        !rm -rf artifact_folder\n",
        "        artifact.download(artifact_folder)\n",
        "\n",
        "RUN_ID = 'rbug5oxn'"
      ]
    },
    {
      "cell_type": "code",
      "execution_count": null,
      "metadata": {
        "cellView": "form",
        "id": "0jlIntbmDhAT"
      },
      "outputs": [],
      "source": [
        "#@title load_rl_module\n",
        "\n",
        "import ray\n",
        "from ray.rllib.core import DEFAULT_MODULE_ID\n",
        "from ray.rllib.core.rl_module.rl_module import RLModule\n",
        "\n",
        "# Initialize Ray\n",
        "# ray.init(ignore_reinit_error=True)\n",
        "\n",
        "def load_rl_module(model_name):\n",
        "    ckpt_path = os.path.join(\n",
        "        \"trained_models\",\n",
        "        model_name,\n",
        "        \"learner_group\",\n",
        "        \"learner\",\n",
        "        \"rl_module\",\n",
        "        DEFAULT_MODULE_ID,\n",
        "    )\n",
        "\n",
        "    # Path to checkpoint\n",
        "    rl_module = RLModule.from_checkpoint(\n",
        "        os.path.abspath(ckpt_path)\n",
        "    )\n",
        "    return rl_module\n",
        "\n",
        "rl_module = load_rl_module(model_name)"
      ]
    },
    {
      "cell_type": "code",
      "execution_count": null,
      "metadata": {
        "cellView": "form",
        "id": "KsChjP7y6w60"
      },
      "outputs": [],
      "source": [
        "#@title compute threshold results\n",
        "\n",
        "split_label = 'val'\n",
        "np_env_config = val_np_env_config\n",
        "num_intervals = 10\n",
        "# default_thresh = 99\n",
        "\n",
        "if run_config.get('if_vix', True):\n",
        "    turbulence_log_name = 'vix'\n",
        "else:\n",
        "    turbulence_log_name = 'ti'\n",
        "    raise NotImplementedError\n",
        "\n",
        "# Calculate threshold grid\n",
        "turb_ary = np_env_config['turbulence_array']\n",
        "threshold_grid = np.linspace(turb_ary.min(), turb_ary.max(), num_intervals)\n",
        "threshold_grid = np.ceil(threshold_grid).astype(int).tolist()\n",
        "threshold_grid.append(max(threshold_grid) + 1)\n",
        "# threshold_grid.append(default_thresh)\n",
        "\n",
        "th_metrics = []  # List to store metrics for all thresholds\n",
        "th_results = {}  # Dictionary to store results per threshold\n",
        "\n",
        "for th in threshold_grid:\n",
        "    result, metrics = evaluate_model(\n",
        "        turbulence_thresh=th,\n",
        "        model_name=model_name,\n",
        "        algo_or_rl_module=rl_module,\n",
        "        run_config=run_config,\n",
        "        np_env_config=np_env_config,\n",
        "        split_label='val',\n",
        "        log_to_wandb=True,\n",
        "        return_metrics=True\n",
        "    )\n",
        "\n",
        "    metrics = {turbulence_log_name: th, **metrics}\n",
        "    th_metrics.append(metrics)\n",
        "    th_results[th] = result\n",
        "\n",
        "# Convert metrics to a DataFrame and log to WandB\n",
        "df = pd.DataFrame(th_metrics).astype({turbulence_log_name: int})"
      ]
    },
    {
      "cell_type": "code",
      "execution_count": null,
      "metadata": {
        "cellView": "form",
        "id": "PWIYQhr-M_jo"
      },
      "outputs": [],
      "source": [
        "#@title drop duplicates and zeros\n",
        "metric_cols = df.drop(columns=[turbulence_log_name]).columns # take only true metric columns\n",
        "\n",
        "# drop duplicate rows\n",
        "df.drop_duplicates(\n",
        "    metric_cols,\n",
        "    inplace=True\n",
        ")\n",
        "\n",
        "# drop rows with all metrics equal 0\n",
        "df.drop(\n",
        "    df[\n",
        "        (df[metric_cols] == 0).all(axis=1)\n",
        "    ].index,\n",
        "    inplace=True\n",
        ")"
      ]
    },
    {
      "cell_type": "code",
      "execution_count": null,
      "metadata": {
        "cellView": "form",
        "id": "1ANax9dVM9c0"
      },
      "outputs": [],
      "source": [
        "#@title log results\n",
        "\n",
        "# Log table\n",
        "wandb_table = wandb.Table(dataframe=df)\n",
        "wandb.log({f\"threshold_grid_metrics-{split_label}\": wandb_table})\n",
        "\n",
        "# Log metrics for best threshold\n",
        "best_idx = df['sharpe_ratio'].idxmax()  # Use idxmax() instead of argmax()\n",
        "best_metrics = df.loc[best_idx].to_dict()\n",
        "for metric_name, metric_value in best_metrics.items():\n",
        "    formatted_name = f\"{split_label}.{turbulence_log_name}_best.{metric_name}/{model_name}\"\n",
        "    wandb.run.summary[formatted_name] = round(metric_value, 2)  # Use formatted_name instead"
      ]
    },
    {
      "cell_type": "code",
      "execution_count": null,
      "metadata": {
        "colab": {
          "base_uri": "https://localhost:8080/"
        },
        "id": "dEczoOx4V35g",
        "outputId": "0c365660-a22a-4c21-f59c-bc819ca8369c"
      },
      "outputs": [
        {
          "data": {
            "text/plain": [
              "(48183.42041983413, 53411.84830981637)"
            ]
          },
          "execution_count": 71,
          "metadata": {},
          "output_type": "execute_result"
        }
      ],
      "source": [
        "min_account_value = float('+inf')\n",
        "max_account_value = float('-inf')\n",
        "for th_value, result in th_results.items():\n",
        "    # display(result['account_value'])\n",
        "    min_account_value = min(min_account_value, result['account_value'][model_name].min())\n",
        "    max_account_value = max(max_account_value, result['account_value'][model_name].max())\n",
        "\n",
        "min_account_value, max_account_value"
      ]
    },
    {
      "cell_type": "code",
      "execution_count": null,
      "metadata": {
        "id": "N6FPbPpU7SQR"
      },
      "outputs": [],
      "source": [
        "# Plot returns\n",
        "for th_value in df[turbulence_log_name].values:\n",
        "    result = th_results[th_value]\n",
        "    metrics = df.drop(columns=[turbulence_log_name])[\n",
        "        df[turbulence_log_name] == th_value].iloc[0].to_dict()\n",
        "\n",
        "    fig = plot_results(\n",
        "        **result,\n",
        "        figsize='small',\n",
        "        split_label=split_label,\n",
        "        metrics=metrics,\n",
        "    )\n",
        "    log_plot_as_artifact(\n",
        "        fig,\n",
        "        f\"cum_return-{split_label}-{turbulence_log_name}_{th_value}\",\n",
        "        artifact_type=\"plot\"\n",
        "    )"
      ]
    },
    {
      "cell_type": "code",
      "execution_count": null,
      "metadata": {
        "id": "zIqIcZxhOjSB"
      },
      "outputs": [],
      "source": [
        "wandb.finish()"
      ]
    },
    {
      "cell_type": "markdown",
      "metadata": {
        "id": "UedSXAEv31Q8"
      },
      "source": [
        "## Eval w/ grid thresholds (func)"
      ]
    },
    {
      "cell_type": "markdown",
      "metadata": {
        "id": "sngRCP5U3R9c"
      },
      "source": [
        "### General funcs"
      ]
    },
    {
      "cell_type": "code",
      "execution_count": null,
      "metadata": {
        "cellView": "form",
        "id": "fGQBFPqQv0bg"
      },
      "outputs": [],
      "source": [
        "#@title batch_log_account_values\n",
        "\n",
        "import os\n",
        "import shutil\n",
        "import wandb\n",
        "import pandas as pd\n",
        "\n",
        "def batch_log_account_values(\n",
        "       dataframe_list, dataframe_names, artifact_name_prefix, artifact_type=\"account_values_df\"\n",
        "):\n",
        "    \"\"\"\n",
        "    Logs a list of Pandas DataFrames (account values) as W&B Tables and CSV files within a single artifact.\n",
        "\n",
        "    Parameters:\n",
        "        dataframe_list (list of pd.DataFrame): List of account value DataFrames to log.\n",
        "        dataframe_names (list of str): List of names corresponding to each DataFrame.\n",
        "        artifact_name_prefix (str): Prefix for the artifact name.\n",
        "        artifact_type (str): The type of the artifact (default is \"df\").\n",
        "    \"\"\"\n",
        "\n",
        "    assert wandb.run is not None, \"Must be inside a W&B run\"\n",
        "    assert len(dataframe_list) == len(dataframe_names), \"Mismatch between DataFrames and names\"\n",
        "\n",
        "    # Ensure directory for saving files\n",
        "    os.makedirs(artifact_name_prefix, exist_ok=True)\n",
        "\n",
        "    # Create a W&B artifact\n",
        "    artifact_name = f\"{artifact_name_prefix}-{wandb.run.id}\"\n",
        "    artifact = wandb.Artifact(artifact_name, type=artifact_type)\n",
        "\n",
        "    for df, name in zip(dataframe_list, dataframe_names):\n",
        "        file_path = os.path.join(artifact_name_prefix, f\"{name}.csv\")\n",
        "\n",
        "        # Save DataFrame as CSV\n",
        "        df.to_csv(file_path, index=True)\n",
        "\n",
        "        # Add file to the artifact\n",
        "        artifact.add_file(file_path)\n",
        "\n",
        "        # # Log DataFrame as W&B Table\n",
        "        # wandb.log({name: wandb.Table(dataframe=df)})\n",
        "\n",
        "    # Log the artifact to W&B\n",
        "    wandb.log_artifact(artifact)\n",
        "\n",
        "    # # Cleanup: Remove temporary files\n",
        "    # shutil.rmtree(artifact_name_prefix)\n"
      ]
    },
    {
      "cell_type": "code",
      "execution_count": null,
      "metadata": {
        "cellView": "form",
        "id": "2KiSe6zgPZnM"
      },
      "outputs": [],
      "source": [
        "#@title evaluate_threshold_grid\n",
        "\n",
        "import numpy as np\n",
        "import pandas as pd\n",
        "import wandb\n",
        "\n",
        "def evaluate_threshold_grid(\n",
        "    algo_or_rl_module,\n",
        "    model_name,\n",
        "    run_config,\n",
        "    np_env_config,\n",
        "    num_grid_points=10,\n",
        "    split_label='val',\n",
        "    chosen_th=None,\n",
        "    plot_padding=500\n",
        "):\n",
        "\n",
        "    if run_config.get('if_vix', True):\n",
        "        turbulence_log_name = 'vix'\n",
        "    else:\n",
        "        turbulence_log_name = 'ti'\n",
        "        raise NotImplementedError\n",
        "\n",
        "    # Calculate threshold grid\n",
        "    turb_ary = np_env_config['turbulence_array']\n",
        "    threshold_grid = np.linspace(turb_ary.min(), turb_ary.max(), num_grid_points)\n",
        "    threshold_grid = np.ceil(threshold_grid).astype(int).tolist()\n",
        "    threshold_grid.append(max(threshold_grid) + 1)\n",
        "    if chosen_th is not None:\n",
        "        threshold_grid.append(chosen_th)\n",
        "\n",
        "    th_metrics = []  # List to store metrics for all thresholds\n",
        "    th_results = {}  # Dictionary to store results per threshold\n",
        "\n",
        "    for th in threshold_grid:\n",
        "        result, metrics = evaluate_model(\n",
        "            turbulence_thresh=th,\n",
        "            model_name=model_name,\n",
        "            algo_or_rl_module=algo_or_rl_module,\n",
        "            run_config=run_config,\n",
        "            np_env_config=np_env_config,\n",
        "            split_label=split_label,\n",
        "            log_to_wandb=True,\n",
        "            return_metrics=True\n",
        "        )\n",
        "\n",
        "        metrics = {turbulence_log_name: th, **metrics}\n",
        "        th_metrics.append(metrics)\n",
        "        th_results[th] = result\n",
        "\n",
        "    # Convert metrics to a DataFrame and log to WandB\n",
        "    df = pd.DataFrame(th_metrics).astype({turbulence_log_name: int})\n",
        "    metric_cols = df.drop(columns=[turbulence_log_name]).columns # take only true metric columns\n",
        "\n",
        "    # Identify the protected row where turbulence_log_name == chosen_th\n",
        "    protected_row = df[df[turbulence_log_name] == chosen_th].tail(1)  # Keep only the last occurrence\n",
        "\n",
        "    # Drop duplicate rows (except the protected one)\n",
        "    df = df.drop_duplicates(metric_cols, keep=\"last\")\n",
        "\n",
        "    # Drop rows where all metric columns are 0, excluding the protected row\n",
        "    df = df[~((df[metric_cols] == 0).all(axis=1) & ~df.index.isin(protected_row.index))]\n",
        "\n",
        "    wandb_table = wandb.Table(dataframe=df)\n",
        "    wandb.log({f\"threshold_grid_metrics-{split_label}\": wandb_table})\n",
        "\n",
        "    # Log metrics for best threshold\n",
        "    best_idx = df['sharpe_ratio'].idxmax()  # Use idxmax() instead of argmax()\n",
        "    best_metrics = df.loc[best_idx].to_dict()\n",
        "    best_metrics[turbulence_log_name] = int(best_metrics[turbulence_log_name])\n",
        "    log_eval_results(model_name, best_metrics, split_label, turbulence_log_name, 'best')\n",
        "\n",
        "    # Log metrics for chosen threshold (if any)\n",
        "    if chosen_th is not None:\n",
        "        chosen_metrics = df[df[turbulence_log_name] == chosen_th].iloc[0].to_dict()\n",
        "        log_eval_results(model_name, chosen_metrics, split_label, turbulence_log_name, 'chosen')\n",
        "\n",
        "    # Compute min_account_value and max_account_value\n",
        "    min_account_value = float('+inf')\n",
        "    max_account_value = float('-inf')\n",
        "    for th_value, result in th_results.items():\n",
        "        min_account_value = min(min_account_value, result['account_value'][model_name].min())\n",
        "        max_account_value = max(max_account_value, result['account_value'][model_name].max())\n",
        "\n",
        "    min_account_value -= plot_padding\n",
        "    max_account_value += plot_padding\n",
        "\n",
        "    # Log cumulative return plots and tables\n",
        "\n",
        "    fig_list = []\n",
        "    fig_names = []\n",
        "    fig_collection_name = f\"cum_return-{split_label}-{turbulence_log_name}\"\n",
        "\n",
        "    account_values_list = []\n",
        "    account_values_names = []\n",
        "    account_values_collection_name = f\"account_values-{split_label}-{turbulence_log_name}\"\n",
        "\n",
        "    best_th_value = best_metrics[turbulence_log_name]\n",
        "\n",
        "    for th_value in df[turbulence_log_name].values:\n",
        "        result = th_results[th_value]\n",
        "        metrics = df.drop(columns=[turbulence_log_name])[\n",
        "            df[turbulence_log_name] == th_value].iloc[0].to_dict()\n",
        "\n",
        "        fig = plot_results(\n",
        "            **result,\n",
        "            figsize='small',\n",
        "            split_label=split_label,\n",
        "            metrics=metrics,\n",
        "            ylim_bottom=min_account_value,\n",
        "            ylim_top=max_account_value\n",
        "        )\n",
        "\n",
        "        # Create plot name\n",
        "        fig_name = f\"{fig_collection_name}_{th_value}\"\n",
        "        if th_value == best_th_value:\n",
        "            fig_name += \"_best\"\n",
        "        if chosen_th is not None and th_value == chosen_th:\n",
        "            fig_name += \"_chosen\"\n",
        "\n",
        "        fig_list.append(fig)\n",
        "        fig_names.append(fig_name)\n",
        "\n",
        "        # Create df name\n",
        "        account_values_name = f\"{account_values_collection_name}_{th_value}\"\n",
        "        if th_value == best_th_value:\n",
        "            account_values_name += \"_best\"\n",
        "        if chosen_th is not None and th_value == chosen_th:\n",
        "            account_values_name += \"_chosen\"\n",
        "\n",
        "        account_values_list.append(result['account_value'])\n",
        "        account_values_names.append(account_values_name)\n",
        "\n",
        "    batch_log_plots_as_artifact(\n",
        "        fig_list,\n",
        "        fig_names,\n",
        "        artifact_name_prefix=fig_collection_name\n",
        "    )\n",
        "\n",
        "    batch_log_account_values(\n",
        "        account_values_list,\n",
        "        account_values_names,\n",
        "        artifact_name_prefix=account_values_collection_name\n",
        "    )\n",
        "\n",
        "    best_th = best_metrics[turbulence_log_name]\n",
        "    return best_th"
      ]
    },
    {
      "cell_type": "code",
      "execution_count": null,
      "metadata": {
        "cellView": "form",
        "id": "rjuRTJeiBQPD"
      },
      "outputs": [],
      "source": [
        "#@title evaluate_threshold_grid (w/state transfer)\n",
        "\n",
        "import numpy as np\n",
        "import pandas as pd\n",
        "import wandb\n",
        "\n",
        "def evaluate_threshold_grid(\n",
        "    algo_or_rl_module,\n",
        "    model_name,\n",
        "    run,\n",
        "    np_env_config,\n",
        "    num_grid_points=10,\n",
        "    split_label='val',\n",
        "    chosen_th=None,\n",
        "    plot_padding=500,\n",
        "    draw_plots=True,\n",
        "):\n",
        "    run_config = run.config\n",
        "\n",
        "    if run_config.get('if_vix', True):\n",
        "        turbulence_log_name = 'vix'\n",
        "    else:\n",
        "        turbulence_log_name = 'ti'\n",
        "        raise NotImplementedError\n",
        "\n",
        "    # Calculate threshold grid\n",
        "    turb_ary = np_env_config['turbulence_array']\n",
        "    threshold_grid = np.linspace(turb_ary.min(), turb_ary.max(), num_grid_points)\n",
        "    threshold_grid = np.ceil(threshold_grid).astype(int).tolist()\n",
        "    threshold_grid.append(max(threshold_grid) + 1)\n",
        "    if chosen_th is not None:\n",
        "        threshold_grid.append(chosen_th)\n",
        "\n",
        "    th_metrics = []  # List to store metrics for all thresholds\n",
        "    th_results = {}  # Dictionary to store results per threshold\n",
        "\n",
        "    prev_run = find_prev_run(run.sweep_id, run.id)\n",
        "    for th in threshold_grid:\n",
        "        if prev_run is not None and split_label == 'test': # perform state transfer only for `test`\n",
        "            prev_end_amount, prev_end_stocks = get_env_end_state(\n",
        "                prev_run,\n",
        "                split_label,\n",
        "                turbulence_log_name,\n",
        "                turbulence_thresh=th\n",
        "            )\n",
        "        else:\n",
        "            prev_end_amount, prev_end_stocks = None, None\n",
        "\n",
        "        result, metrics = evaluate_model(\n",
        "            turbulence_thresh=th,\n",
        "            model_name=model_name,\n",
        "            algo_or_rl_module=algo_or_rl_module,\n",
        "            run_config=run_config,\n",
        "            np_env_config=np_env_config,\n",
        "            split_label=split_label,\n",
        "            log_to_wandb=True,\n",
        "            return_metrics=True,\n",
        "            prev_end_amount=prev_end_amount,\n",
        "            prev_end_stocks=prev_end_stocks\n",
        "        )\n",
        "\n",
        "        metrics = {turbulence_log_name: th, **metrics}\n",
        "        th_metrics.append(metrics)\n",
        "        th_results[th] = result\n",
        "\n",
        "    # Convert metrics to a DataFrame and log to WandB\n",
        "    df = pd.DataFrame(th_metrics).astype({turbulence_log_name: int})\n",
        "    metric_cols = df.drop(\n",
        "        columns=[\n",
        "            turbulence_log_name,\n",
        "            'end_amount',\n",
        "            'end_stocks', # HACK: cant hash np.ndarray -> drop\n",
        "            'end_total_asset',\n",
        "        ],\n",
        "        errors='ignore'\n",
        "    ).columns # take only true metric columns\n",
        "\n",
        "    # Identify the protected row where turbulence_log_name == chosen_th\n",
        "    protected_row = df[df[turbulence_log_name] == chosen_th].tail(1)  # Keep only the last occurrence\n",
        "\n",
        "    # Drop duplicate rows (except the protected one)\n",
        "    df = df.drop_duplicates(metric_cols, keep=\"last\")\n",
        "\n",
        "    # Drop rows where all metric columns are 0, excluding the protected row\n",
        "    df = df[~((df[metric_cols] == 0).all(axis=1) & ~df.index.isin(protected_row.index))]\n",
        "\n",
        "    wandb_table = wandb.Table(dataframe=df)\n",
        "    wandb.log({f\"threshold_grid_metrics-{split_label}\": wandb_table})\n",
        "\n",
        "    # Log metrics for best threshold\n",
        "    best_idx = df['sharpe_ratio'].idxmax()  # Use idxmax() instead of argmax()\n",
        "    best_metrics = df.loc[best_idx].to_dict()\n",
        "    best_metrics[turbulence_log_name] = int(best_metrics[turbulence_log_name])\n",
        "    log_eval_results(model_name, best_metrics, split_label, turbulence_log_name, turbulence_thresh_postfix='best')\n",
        "\n",
        "    # Log metrics for chosen threshold (if any)\n",
        "    if chosen_th is not None:\n",
        "        chosen_metrics = df[df[turbulence_log_name] == chosen_th].iloc[0].to_dict()\n",
        "        log_eval_results(model_name, chosen_metrics, split_label, turbulence_log_name, turbulence_thresh_postfix='chosen')\n",
        "\n",
        "    # Compute min_account_value and max_account_value\n",
        "    min_account_value = float('+inf')\n",
        "    max_account_value = float('-inf')\n",
        "    for th_value, result in th_results.items():\n",
        "        min_account_value = min(min_account_value, result['account_value'][model_name].min())\n",
        "        max_account_value = max(max_account_value, result['account_value'][model_name].max())\n",
        "\n",
        "    min_account_value -= plot_padding\n",
        "    max_account_value += plot_padding\n",
        "\n",
        "    # Log cumulative return plots and tables\n",
        "    fig_list = []\n",
        "    fig_names = []\n",
        "    fig_collection_name = f\"cum_return-{split_label}-{turbulence_log_name}\"\n",
        "\n",
        "    account_values_list = []\n",
        "    account_values_names = []\n",
        "    account_values_collection_name = f\"account_values-{split_label}-{turbulence_log_name}\"\n",
        "\n",
        "    best_th_value = best_metrics[turbulence_log_name]\n",
        "\n",
        "    for th_value in df[turbulence_log_name].values:\n",
        "        result = th_results[th_value]\n",
        "        metrics = df.drop(columns=[turbulence_log_name])[\n",
        "            df[turbulence_log_name] == th_value].iloc[0].to_dict()\n",
        "\n",
        "        if draw_plots:\n",
        "            fig = plot_results(\n",
        "                **result,\n",
        "                figsize='small',\n",
        "                split_label=split_label,\n",
        "                metrics=metrics,\n",
        "                ylim_bottom=min_account_value,\n",
        "                ylim_top=max_account_value\n",
        "            )\n",
        "\n",
        "            # Create plot name\n",
        "            fig_name = f\"{fig_collection_name}_{th_value}\"\n",
        "            if th_value == best_th_value:\n",
        "                fig_name += \"_best\"\n",
        "            if chosen_th is not None and th_value == chosen_th:\n",
        "                fig_name += \"_chosen\"\n",
        "\n",
        "            fig_list.append(fig)\n",
        "            fig_names.append(fig_name)\n",
        "\n",
        "        # Create df name\n",
        "        account_values_name = f\"{account_values_collection_name}_{th_value}\"\n",
        "        if th_value == best_th_value:\n",
        "            account_values_name += \"_best\"\n",
        "        if chosen_th is not None and th_value == chosen_th:\n",
        "            account_values_name += \"_chosen\"\n",
        "\n",
        "        account_values_list.append(result['account_value'])\n",
        "        account_values_names.append(account_values_name)\n",
        "\n",
        "    if draw_plots:\n",
        "        batch_log_plots_as_artifact(\n",
        "            fig_list,\n",
        "            fig_names,\n",
        "            artifact_name_prefix=fig_collection_name\n",
        "        )\n",
        "\n",
        "    batch_log_account_values(\n",
        "        account_values_list,\n",
        "        account_values_names,\n",
        "        artifact_name_prefix=account_values_collection_name\n",
        "    )\n",
        "\n",
        "    best_th = best_metrics[turbulence_log_name]\n",
        "    return best_th"
      ]
    },
    {
      "cell_type": "code",
      "execution_count": null,
      "metadata": {
        "cellView": "form",
        "id": "N2JCHB8ibDce"
      },
      "outputs": [],
      "source": [
        "#@title build_quarterly_train_val_test\n",
        "from finrl.meta.data_processors.processor_yahoofinance import YahooFinanceProcessor\n",
        "\n",
        "def build_quarterly_train_val_test(config):\n",
        "    date_range = {key: pd.Timestamp(date) for key, date in config['date_range'].items()}\n",
        "\n",
        "    train_start_date = date_range['train_start_date']\n",
        "    val_start_date = date_range['val_start_date']\n",
        "    test_start_date = date_range['test_start_date']\n",
        "    test_end_date = date_range['test_end_date']\n",
        "\n",
        "    train_env_config = get_env_config(\n",
        "        start_date=date_range['train_start_date'],\n",
        "        end_date=date_range['val_start_date'],\n",
        "        if_train=True\n",
        "    )\n",
        "\n",
        "    val_env_config = get_env_config(\n",
        "        start_date=date_range['val_start_date'],\n",
        "        end_date=date_range['test_start_date'],\n",
        "        if_train=False\n",
        "    )\n",
        "\n",
        "    test_env_config = get_env_config(\n",
        "        start_date=date_range['test_start_date'],\n",
        "        end_date=date_range['test_end_date'],\n",
        "        if_train=False\n",
        "    )\n",
        "\n",
        "    dataset_name = get_quarterly_dataset_name(\n",
        "        config['stock_index_name'], train_start_date, val_start_date, test_start_date\n",
        "    )\n",
        "\n",
        "    config.update({\n",
        "        \"dataset_name\": dataset_name,\n",
        "        \"train.num_datapoints\": len(train_env_config['price_array']),\n",
        "        \"val.num_datapoints\": len(val_env_config['price_array']),\n",
        "        \"test.num_datapoints\": len(test_env_config['price_array']),\n",
        "    })\n",
        "\n",
        "    return train_env_config, val_env_config, test_env_config\n",
        "\n",
        "# train_env_config, val_env_config, test_env_config = build_quarterly_train_val_test(config)"
      ]
    },
    {
      "cell_type": "markdown",
      "metadata": {
        "id": "5bNP6axL3jbI"
      },
      "source": [
        "### Delete funcs"
      ]
    },
    {
      "cell_type": "code",
      "execution_count": null,
      "metadata": {
        "cellView": "form",
        "id": "AiA6IoM4agYv"
      },
      "outputs": [],
      "source": [
        "#@title FUNC: delete_artifacts\n",
        "\n",
        "import wandb\n",
        "from tqdm.notebook import tqdm\n",
        "\n",
        "def delete_artifacts(\n",
        "        run_id,\n",
        "        types_to_delete = [],\n",
        "    ):\n",
        "    assert len(types_to_delete) > 0\n",
        "\n",
        "    api = wandb.Api()\n",
        "    run = api.run(f\"{ENTITY}/{PROJECT}/{run_id}\")\n",
        "    all_artifact_types = []\n",
        "    for artifact in tqdm(run.logged_artifacts(), desc=run_id, leave=False):\n",
        "        # all_artifact_types.append(artifact.type)\n",
        "        if artifact.type in types_to_delete:\n",
        "            artifact.delete(delete_aliases=True)"
      ]
    },
    {
      "cell_type": "code",
      "execution_count": null,
      "metadata": {
        "cellView": "form",
        "colab": {
          "base_uri": "https://localhost:8080/",
          "height": 17,
          "referenced_widgets": [
            "2f5e0070e5c0441499a505754251c11a",
            "4772437c083f4e1eb1b5e46ca2bd6fdf",
            "fc61bff4164145c5be887063cbd5e8a6",
            "ddd6bdf4448d48a6a44180ff09d4f050",
            "e4ce77294e11487cb4aff1af62992052",
            "f2c2c1bc30c94071aee7070ab974e8fd",
            "702d525a6d7442cb949fff752290c4a5",
            "6b781dd373cd4e01b919582adf138580",
            "61cd472365f042808e40c9e94c933a89",
            "ebdc69b4be2b4cac81150419ba5046d2",
            "16d9a1662d284ca39bbb0c76acead68a"
          ]
        },
        "id": "XrQuPvOT-Sju",
        "outputId": "31f4d903-53d2-4f48-882c-3bbe128178f0"
      },
      "outputs": [
        {
          "data": {
            "application/vnd.jupyter.widget-view+json": {
              "model_id": "2f5e0070e5c0441499a505754251c11a",
              "version_major": 2,
              "version_minor": 0
            },
            "text/plain": [
              "6grddw69:   0%|          | 0/8 [00:00<?, ?it/s]"
            ]
          },
          "metadata": {},
          "output_type": "display_data"
        }
      ],
      "source": [
        "#@title delete_artifacts (run)\n",
        "\n",
        "RUN_ID = \"6grddw69\"  # Replace with the actual run ID\n",
        "\n",
        "delete_artifacts(\n",
        "    RUN_ID,\n",
        "    types_to_delete = [\n",
        "        'plot',\n",
        "        'account_values_df',\n",
        "        'df',\n",
        "        'run_table'\n",
        "    ]\n",
        ")"
      ]
    },
    {
      "cell_type": "code",
      "execution_count": null,
      "metadata": {
        "colab": {
          "base_uri": "https://localhost:8080/",
          "height": 49,
          "referenced_widgets": [
            "ab2fd943592b445fbdd9537ccdc496bb",
            "d402980fee4a45e980dc2e11832889e3",
            "138715f94aeb468a888eec48bdec66ed",
            "d24d4ac38a3648e7961478545f914b68",
            "a4828c98612946eb98ce3230b0f88554",
            "be968db7cbb2432db97bc572d70a6254",
            "1c44ebf86f03417a95af014c52cface3",
            "9db64d54b9dd4528be0028f8f7610f89",
            "e1b22c9626a941ca8359806aad7d8895",
            "fd458f55d4f64ad594fffdebff2fb372",
            "67ea432bfa8d4321a8199c73a2a8f837",
            "5a4aa582048040b2882f6877a0800ff3",
            "e0d36e1a42e644dab7156e5cf8f7383f",
            "58cc0534b2ce411aa614ba3d47e3f010",
            "4f1a63063c4c4bf699f353344dadbe68",
            "ca1791d6356a41738413e1199e8395e0",
            "a3acc6d81ee14bbf9a5373b989d2542a",
            "04664e7cb0364b5595a72d60c63d83aa",
            "4677a9bcf9d14e9c92cda44c905732f9",
            "f2b6f28bc7a544be945e7714ef10c3fc",
            "e1b272f689634322a2eba26a929a4888",
            "ac30035a8308473cad0a6efb372285bd",
            "d2bc1a5593ba43f18f2664a9bf4bac8b",
            "03248aa427cf4d938c0f6b213854ff9b",
            "e4f5eeafa5b443d5a39da0c6c43ae928",
            "8e826f2b683b454ea6e28523c37a219f",
            "ad264f8d60774549ab67006a4dd6e4f7",
            "0d23fff4318144dba2884a3289951a54",
            "0468bf4d1bc44358a4bdd1d8b3d72b70",
            "527cea813a7742cb98a05bbf028b9383",
            "b4a43b32a58341a69e28d5e8dca42bd7",
            "12eae60cb69448abbb58dbecf325bf46",
            "70a08b6bb6264e7c9ab91e3c5ddf7035",
            "1cff6d4878b14cc283cc04a4be7a02bf",
            "2ef539d6855747c890453612b262995d",
            "5b2b70b9fd9c437c8c90364bea6b37d8",
            "2166489276354c72a6aaf35efe263c0d",
            "d75f6392b019449689281680b025b766",
            "b651d2996da344f6b3dce47610bff00f",
            "b5f8a99afd864a68975ca46ac3e0f04e",
            "efc83580cab04d2fb13e166dc5cc6d99",
            "8c9c0147b1b6443a92b28c87416391b5",
            "9945b02fedfa429d8ebd2998f4eaa8e5",
            "2585d3ac956f4085a9640833a32a7b9b",
            "9ffa5943f602407e8d3069cf7f1846cb",
            "314c2d9087834f56bce2dc018407c6bd",
            "78f1a67be60240d48037d439d4bfd9d2",
            "628075770e384b70a78731726f275aa3",
            "9b97b49ee7144ae68da057c409dd950c",
            "db32ddb19b7246e989704a3471573141",
            "58eaf3056986462aaf4ecf7ad24f4360",
            "2920d0f89ff04ce9ad88e374e32ea7eb",
            "130f9ade7e0049be94262fa646792979",
            "62614b21a8594bcca21476e8e40d0c8e",
            "e0e9a5d23a5b4147bbd866960cbdd5d1",
            "d24c4caaa11840b7a376fbbe5cb64717",
            "6b90b1bf5a2145c590620fc72f0b92f4",
            "b2c07cd963dc44df81fde2b3fbf3bd23",
            "87b36cb99ad645de81dedb81b9660b68",
            "c25e15dfa92349098c4d4e76cfc28490",
            "0d4d53eba0cc44cca1f14f1fe003a5ff",
            "36e4c8270d614c70b4bdb70af26ba4c2",
            "c47c2b4092a34c2f83c691e83266f547",
            "9cb5b94ad5774b4f86030c380ba019b0",
            "91a383494ba94dd88ca8f559eb7b2013",
            "40736244c21a4274a59f7b7ebe6a1c1c",
            "99edba6e57f0460b8fffb6d4159106bc",
            "27beeef7494644799c2a70fd27271671",
            "7ef5598ecfc94a8c9c83d577fef7a81e",
            "ff722b49857e4aafbe4e63217b305e7c",
            "d985c7eaf78b4503b32ecb41204b3028",
            "dd0c2b9773d94af190bbaca24d18a1b5",
            "a9ae112f359946c695537aca5f3a775f",
            "b4d666a57e2345fdbd96ee8f92cc28ae",
            "d4e3d7a9626b4725be9216b598694e87",
            "b307779ed38f4b29b00e67224925a78e",
            "f9fc131ee19a42988851eb3b06e7ff6a",
            "30b979499efb4538af6d2ebcaa40d6a1",
            "cd00ccd8c9774fd987277c8a01396c6f",
            "715f0c9f241b44f49fc275902a1dce0d",
            "91c92132b360495da3b648815d8c2db0",
            "3ffb5296dae44fae87a2b57c225ba110",
            "1dc8c46682494413920cb820ed529ac6",
            "2e67030acea14caea3c09257d59b1d10",
            "e21f4aeaf12749eea623a037d0010f62",
            "7aa87ff347ea40f19b07c8a57f9c2e0a",
            "01b04682bbaa47aa8f2d35d6111a5dd8",
            "012cbe8425594a2493aa9fa0017eb3ba",
            "52f9f20dde3e4739877f9772d3e6b945",
            "a9ee5f6b3c164ee5a5a16596e1d3abea",
            "21c74e17a00a4c95a929e310bd1197a5",
            "0371b0b80e9743c7ae8fcef84b921231",
            "aef4212c27b04ec686054063cf23f371",
            "a724d3bb14d1400ca6471412ab974c3e",
            "b3cbbed0d7d24007bdd608a8ce29f02e",
            "1352f2fdf2db44f99814c31da52700c7",
            "9eaaf89b57d94865ae7cf4c1aed40a48",
            "66bca2a8cb494e6090863e7897c7e7d8",
            "a5d4bf872dbf471aaf039672edffe194",
            "daab56ac767f4e87829e0c77272dbd4b",
            "09284552cad04ce490049a5ec775fafd",
            "c1d26ed2d3d548c7b532fa430119c672",
            "efbd7c32fee3407794d0efecc9f7da5b",
            "ef57c294b101443d9a937b390f71bd05",
            "9762e188154643df9aebca18ed3cfd2f",
            "40f09f9ed5f048439be1d0381710aaeb",
            "49c5504d7eb546109223b25c47f9be07",
            "642a348be3984d02b5a637e7d6f96d2c",
            "ce351a7f26904f76ad2d6ff61248935c",
            "11b1e5db1b5d4689810b5111e7bb41cf",
            "98522e96ae73440da24ce67252fa14f8",
            "7716d63a71184806a57c2a7ea3d25564",
            "d8ef442231e24d4eb5354cdf9ca9c580",
            "6a3437ff798341ad8495cc3c8a5c912e",
            "a70dc427f1b64231a32393bbe05d9e29",
            "4273860570fb49659848c35456a7c7cd",
            "73cd0d27fa0e4afcbaba92b3ce3dc2f6",
            "896ba2fb7d234358b53ae8f2bf4f2e04",
            "14191700b5e14b68b20f31a8c12c77f6",
            "1e2ba0766ccb4c0e92a7b08efab58086",
            "c5da8a0211ee443394c58aebd2753c13",
            "bb5ff0af563f4f90b4f2727db9fff3f2",
            "97ed98e9c0b5477ba320a7dbc3335ed9",
            "6296437f4d734139989d16e724c71a61",
            "465dc9e58a3941fc89bd6397e74f11cd",
            "409f04ef723d4c06b966cbac33497652",
            "6443b531c6bb4e8f902a72253480509e",
            "9f2f5d926d654ac7a550090053ca8eb7",
            "6a6fcac042cf44c6aaf2522bef167cf8",
            "a4fb48804dde416a89a400fb4c897273",
            "bb38f34c2d8046ffa460e2da551df472",
            "2d4c461e2dd44619aae596b5ef45a94b",
            "4477d53b5d974f62a855133a54afaaec",
            "e8270cce4f18479f85ddf896ce2ed6b3",
            "5ce039faa4164baa935914ce5c02ec22",
            "9857b5fbde0b454dbb37d96fc2cd6fa4",
            "f9ba88ae06de4c6a933795e888913cbd",
            "313b4efeea2a493d95003841d44a3cc1",
            "607f0cb436dc4df99535d990ae9bff3e",
            "f870abf627084c8883a49bf83ad1bf4a",
            "62c87b517269486abdff9d385ca05a9d",
            "185ff0e333ee4a2eac0c354360fc3dcb",
            "103121cc0016473d92374ed3976c7a35",
            "6ce8f5f44ffa4420a313d375443df176",
            "fdf2de5dbca04e8aa6bfed98d56c9b9f",
            "feb3ec46b0a14180b4db1749c86184d0",
            "3c3118d0acf24ae9b7e89491c32aeaee",
            "6c9f1ea5a7eb4dd4b8ab8e2b6918e28f",
            "ece35cdbc2c44c828ba12009bfc072a1",
            "c2fd0d1386284dab9e91b4650309f011",
            "41180a1c317a4e6a89f824d3c3ddff1c",
            "0746abdb8e984019a272a724dfad9e4c",
            "3aa5152df89a42de973e8bd0c2d43ca6",
            "90f5ee46287249eb9838b13bb8ae3d74",
            "e9dd5d2b6feb4678b5f29dc5c76fb546",
            "9a72e0d2403b49508d43b474e3d86068",
            "36319f6ddbd9423e85b88e84ebd216c4",
            "afa5bf4dd05d4d7c929f18a1dffafcec",
            "8aefea6bf5284ceb8d53eebfb399ce5c",
            "2b39e449550f472d9bc08d2c9f1ab66e",
            "a81f9c47635446bfaa356e879ed5b404",
            "a2b2203598b64e558cd8e711dd50b531",
            "6dff05eadc144315b4bef54f144c8874",
            "4257c005e9ba4f5e8ccd9640184e70c1",
            "44027fe812d34c2aa3676985dc11a9ed",
            "649b40b28397403ca065795ddb96ab2b",
            "7baad750a6cf47e8a7fc8fb0eb8e0b2a",
            "c21b410ef8ed40fbb54803041dcd93c5",
            "749cf599a96946fdaf8b67bc0df03396",
            "0d8bb43c6b2e4a2598c1eedacb206d59",
            "b3aaa9058f124146957d83914cadc685",
            "412c756d2e8a43f1a313de16a6d29ad3",
            "20717391a9434f87af31dea34ac4234f",
            "c268c09c47c4481eba600e6e45dca073",
            "d3b4f41356404f26a2c50b47f364b2d2",
            "f998af4c7981435bbd32d98b835b5dad",
            "b98b156070a2467299e6c6e32ed0c0af",
            "1685b970bf1f499fb771bb1938298940",
            "5e957c2dedb84c0aa01452486959f613",
            "6bc53895fceb4ce8a49d6d0b6cf8c327",
            "295031f4924f44b4a9bd2d25819cce74",
            "077f26f6b62442c999dc4efa8f65360a",
            "1835d6de7b11423099ba858513d92ba5",
            "da2e284a38f545ca9bcc05edb90ec601",
            "37b6195b7de84def89b215f486b47d06",
            "46a3ee8ae6504eb8b2543812f6dcc4ad",
            "84f8ee6ea63b4c97bbe15c415c9233c7",
            "d175d41cb6024ad5b8ca662f93b5fe10",
            "892aac0afe8b40338230838d204e2533",
            "735330acb95f416582030ef870f3338e",
            "a2310c34648c42949c6895945faa9d24",
            "8e905e6ae62b4147950bfdc7ed00ef3d",
            "6fecd10f26994a4d99b51a7a7e354d23",
            "901be6bacb1841579957ef6ea767be63",
            "442f76c0447d4ea88e6d71591164a224",
            "66c772b8a1214d05b815ef98f23ecf57",
            "cf02403c05c54d709e80e0451a9b6b92",
            "c79b34e7ee9e4dd9a70efe477fc66904"
          ]
        },
        "id": "Sv9Ant5QBBdk",
        "outputId": "31f761a5-3c4a-4cf2-efb4-9f558b4a79e8",
        "cellView": "form"
      },
      "outputs": [
        {
          "data": {
            "application/vnd.jupyter.widget-view+json": {
              "model_id": "ab2fd943592b445fbdd9537ccdc496bb",
              "version_major": 2,
              "version_minor": 0
            },
            "text/plain": [
              "Deleting files in sweep:   0%|          | 0/66 [00:00<?, ?it/s]"
            ]
          },
          "metadata": {},
          "output_type": "display_data"
        },
        {
          "data": {
            "application/vnd.jupyter.widget-view+json": {
              "model_id": "5a4aa582048040b2882f6877a0800ff3",
              "version_major": 2,
              "version_minor": 0
            },
            "text/plain": [
              "2x8o8itn:   0%|          | 0/2 [00:00<?, ?it/s]"
            ]
          },
          "metadata": {},
          "output_type": "display_data"
        },
        {
          "data": {
            "application/vnd.jupyter.widget-view+json": {
              "model_id": "d2bc1a5593ba43f18f2664a9bf4bac8b",
              "version_major": 2,
              "version_minor": 0
            },
            "text/plain": [
              "3oiuvu1v:   0%|          | 0/1 [00:00<?, ?it/s]"
            ]
          },
          "metadata": {},
          "output_type": "display_data"
        },
        {
          "data": {
            "application/vnd.jupyter.widget-view+json": {
              "model_id": "1cff6d4878b14cc283cc04a4be7a02bf",
              "version_major": 2,
              "version_minor": 0
            },
            "text/plain": [
              "q0z9x202:   0%|          | 0/1 [00:00<?, ?it/s]"
            ]
          },
          "metadata": {},
          "output_type": "display_data"
        },
        {
          "data": {
            "application/vnd.jupyter.widget-view+json": {
              "model_id": "9ffa5943f602407e8d3069cf7f1846cb",
              "version_major": 2,
              "version_minor": 0
            },
            "text/plain": [
              "f2yzia1o:   0%|          | 0/7 [00:00<?, ?it/s]"
            ]
          },
          "metadata": {},
          "output_type": "display_data"
        },
        {
          "data": {
            "application/vnd.jupyter.widget-view+json": {
              "model_id": "d24c4caaa11840b7a376fbbe5cb64717",
              "version_major": 2,
              "version_minor": 0
            },
            "text/plain": [
              "eaxxjxu6:   0%|          | 0/7 [00:00<?, ?it/s]"
            ]
          },
          "metadata": {},
          "output_type": "display_data"
        },
        {
          "data": {
            "application/vnd.jupyter.widget-view+json": {
              "model_id": "99edba6e57f0460b8fffb6d4159106bc",
              "version_major": 2,
              "version_minor": 0
            },
            "text/plain": [
              "citpbzle:   0%|          | 0/1 [00:00<?, ?it/s]"
            ]
          },
          "metadata": {},
          "output_type": "display_data"
        },
        {
          "data": {
            "application/vnd.jupyter.widget-view+json": {
              "model_id": "30b979499efb4538af6d2ebcaa40d6a1",
              "version_major": 2,
              "version_minor": 0
            },
            "text/plain": [
              "fsx0w2s9:   0%|          | 0/1 [00:00<?, ?it/s]"
            ]
          },
          "metadata": {},
          "output_type": "display_data"
        },
        {
          "data": {
            "application/vnd.jupyter.widget-view+json": {
              "model_id": "52f9f20dde3e4739877f9772d3e6b945",
              "version_major": 2,
              "version_minor": 0
            },
            "text/plain": [
              "2h92q9es:   0%|          | 0/1 [00:00<?, ?it/s]"
            ]
          },
          "metadata": {},
          "output_type": "display_data"
        },
        {
          "data": {
            "application/vnd.jupyter.widget-view+json": {
              "model_id": "daab56ac767f4e87829e0c77272dbd4b",
              "version_major": 2,
              "version_minor": 0
            },
            "text/plain": [
              "9x9u4o66:   0%|          | 0/1 [00:00<?, ?it/s]"
            ]
          },
          "metadata": {},
          "output_type": "display_data"
        },
        {
          "data": {
            "application/vnd.jupyter.widget-view+json": {
              "model_id": "98522e96ae73440da24ce67252fa14f8",
              "version_major": 2,
              "version_minor": 0
            },
            "text/plain": [
              "wyk5ospb:   0%|          | 0/1 [00:00<?, ?it/s]"
            ]
          },
          "metadata": {},
          "output_type": "display_data"
        },
        {
          "data": {
            "application/vnd.jupyter.widget-view+json": {
              "model_id": "bb5ff0af563f4f90b4f2727db9fff3f2",
              "version_major": 2,
              "version_minor": 0
            },
            "text/plain": [
              "wwl7rimu:   0%|          | 0/1 [00:00<?, ?it/s]"
            ]
          },
          "metadata": {},
          "output_type": "display_data"
        },
        {
          "data": {
            "application/vnd.jupyter.widget-view+json": {
              "model_id": "4477d53b5d974f62a855133a54afaaec",
              "version_major": 2,
              "version_minor": 0
            },
            "text/plain": [
              "i3nff845:   0%|          | 0/1 [00:00<?, ?it/s]"
            ]
          },
          "metadata": {},
          "output_type": "display_data"
        },
        {
          "data": {
            "application/vnd.jupyter.widget-view+json": {
              "model_id": "6ce8f5f44ffa4420a313d375443df176",
              "version_major": 2,
              "version_minor": 0
            },
            "text/plain": [
              "qgk9e4f0:   0%|          | 0/1 [00:00<?, ?it/s]"
            ]
          },
          "metadata": {},
          "output_type": "display_data"
        },
        {
          "data": {
            "application/vnd.jupyter.widget-view+json": {
              "model_id": "e9dd5d2b6feb4678b5f29dc5c76fb546",
              "version_major": 2,
              "version_minor": 0
            },
            "text/plain": [
              "9178oxsn:   0%|          | 0/1 [00:00<?, ?it/s]"
            ]
          },
          "metadata": {},
          "output_type": "display_data"
        },
        {
          "data": {
            "application/vnd.jupyter.widget-view+json": {
              "model_id": "649b40b28397403ca065795ddb96ab2b",
              "version_major": 2,
              "version_minor": 0
            },
            "text/plain": [
              "11x62t1y:   0%|          | 0/1 [00:00<?, ?it/s]"
            ]
          },
          "metadata": {},
          "output_type": "display_data"
        },
        {
          "data": {
            "application/vnd.jupyter.widget-view+json": {
              "model_id": "b98b156070a2467299e6c6e32ed0c0af",
              "version_major": 2,
              "version_minor": 0
            },
            "text/plain": [
              "9hpo26co:   0%|          | 0/1 [00:00<?, ?it/s]"
            ]
          },
          "metadata": {},
          "output_type": "display_data"
        },
        {
          "data": {
            "application/vnd.jupyter.widget-view+json": {
              "model_id": "d175d41cb6024ad5b8ca662f93b5fe10",
              "version_major": 2,
              "version_minor": 0
            },
            "text/plain": [
              "qxio2hzz: 0it [00:00, ?it/s]"
            ]
          },
          "metadata": {},
          "output_type": "display_data"
        }
      ],
      "source": [
        "#@title delete_artifacts (sweep)\n",
        "\n",
        "SWEEP_ID = 'yd7fz9as'\n",
        "\n",
        "REVERSE = True\n",
        "\n",
        "LIMIT = None\n",
        "# LIMIT = 3\n",
        "\n",
        "FILTER_HASH = None\n",
        "FILTER_HASH = '5b89a8d8a13f0dad4cfe425a8b2300ab5b6fb4b1d863471a46b6758a66d4461b'\n",
        "# FILTER_HASH = '7bbb1eb50a76e832b31ad05c641c71a8dead0912d170460a9b43e7abc7299328'\n",
        "\n",
        "############################################\n",
        "\n",
        "api = wandb.Api()\n",
        "sweep_runs = api.sweep(f\"{ENTITY}/{PROJECT}/{SWEEP_ID}\").runs\n",
        "num_runs = len(sweep_runs)\n",
        "\n",
        "if REVERSE:\n",
        "    sweep_runs = reversed(sweep_runs)\n",
        "    # num_runs = min(LIMIT, num_runs)\n",
        "\n",
        "run_cnt = 0\n",
        "for run in tqdm(sweep_runs, desc=\"Deleting files in sweep\", total=num_runs):\n",
        "    if FILTER_HASH is not None and run.summary['config_hash'] != FILTER_HASH:\n",
        "        continue\n",
        "    if LIMIT is not None and run_cnt > LIMIT - 1:\n",
        "        break\n",
        "\n",
        "    delete_artifacts(\n",
        "        run.id,\n",
        "        types_to_delete = [\n",
        "            'plot',\n",
        "            'run_table',\n",
        "            'account_values_df'\n",
        "        ]\n",
        "    )\n",
        "\n",
        "    run_cnt += 1"
      ]
    },
    {
      "cell_type": "markdown",
      "metadata": {
        "id": "Av1mhK0k3Yoc"
      },
      "source": [
        "### Evaluate"
      ]
    },
    {
      "cell_type": "code",
      "execution_count": null,
      "metadata": {
        "cellView": "form",
        "id": "IMQQ7wk3EvXg"
      },
      "outputs": [],
      "source": [
        "#@title Evaluate threshold grid (run)\n",
        "\n",
        "import wandb\n",
        "\n",
        "RUN_ID = \"6grddw69\"\n",
        "\n",
        "wandb.finish()\n",
        "run = wandb.init(project=PROJECT, id=RUN_ID, resume='must')\n",
        "artifacts_folders = download_artifacts(RUN_ID, artifact_types=['trained_models'])\n",
        "rl_module = load_rl_module(\n",
        "    model_name,\n",
        "    trained_models_dir=artifacts_folders['trained_models'][0]\n",
        ")\n",
        "\n",
        "(\n",
        "    train_np_env_config,\n",
        "    val_np_env_config,\n",
        "    test_np_env_config\n",
        ") = build_quarterly_train_val_test(run.config)\n",
        "\n",
        "val_best_th = evaluate_threshold_grid(\n",
        "    rl_module,\n",
        "    model_name,\n",
        "    run,\n",
        "    val_np_env_config,\n",
        "    split_label='val',\n",
        ")\n",
        "\n",
        "_ = evaluate_threshold_grid(\n",
        "    rl_module,\n",
        "    model_name,\n",
        "    run,\n",
        "    test_np_env_config,\n",
        "    split_label='test',\n",
        "    chosen_th=val_best_th\n",
        ")\n",
        "\n",
        "wandb.finish()"
      ]
    },
    {
      "cell_type": "code",
      "execution_count": null,
      "metadata": {
        "cellView": "form",
        "id": "ixFmmc2vGpEs"
      },
      "outputs": [],
      "source": [
        "#@title Evaluate threshold grid (sweep)\n",
        "\n",
        "import tracemalloc\n",
        "import gc\n",
        "import wandb\n",
        "\n",
        "SWEEP_ID = \"yd7fz9as\"\n",
        "\n",
        "REVERSE = False # True -> start from earliest\n",
        "\n",
        "LIMIT = None\n",
        "# LIMIT = 5\n",
        "\n",
        "LAST_IDX = None\n",
        "\n",
        "FIRST_IDX = None\n",
        "FIRST_IDX = 4\n",
        "\n",
        "FILTER_HASH = None\n",
        "FILTER_HASH = '1ea39a67636c8e66b0064c4cac304a880b02405eff96aa2bc82017e78cd8461f'\n",
        "\n",
        "DRAW_PLOTS = True\n",
        "DRAW_PLOTS = False\n",
        "\n",
        "##############################################\n",
        "\n",
        "def evaluate_threshold_grid_sweep():\n",
        "    wandb.finish()\n",
        "\n",
        "    api = wandb.Api()\n",
        "    sweep_runs = api.sweep(f\"{ENTITY}/{PROJECT}/{SWEEP_ID}\").runs\n",
        "\n",
        "    if REVERSE:\n",
        "        sweep_runs = reversed(sweep_runs)\n",
        "\n",
        "    processed_run_cnt = 0\n",
        "\n",
        "    for idx, run in enumerate(sweep_runs):\n",
        "        # print(run.id, run.summary['config_hash'])\n",
        "        if FILTER_HASH is not None and run.summary['config_hash'] != FILTER_HASH:\n",
        "            continue\n",
        "\n",
        "        if FIRST_IDX is not None and idx < FIRST_IDX:\n",
        "            continue\n",
        "\n",
        "        if LAST_IDX is not None and idx >= LAST_IDX:\n",
        "            break\n",
        "\n",
        "        print(f\"\\nprocessed_run_cnt: {processed_run_cnt}\")\n",
        "        if LIMIT is not None and processed_run_cnt == LIMIT:\n",
        "            break\n",
        "\n",
        "        run = wandb.init(project=PROJECT, id=run.id, resume='must')\n",
        "\n",
        "        artifact_folders = download_artifacts(\n",
        "            run.id,\n",
        "            artifact_types=['trained_models']\n",
        "        )\n",
        "\n",
        "        rl_module = load_rl_module(\n",
        "            model_name,\n",
        "            trained_models_dir = artifact_folders['trained_models'][0]\n",
        "        )\n",
        "\n",
        "        (\n",
        "            train_np_env_config,\n",
        "            val_np_env_config,\n",
        "            test_np_env_config\n",
        "        ) = build_quarterly_train_val_test(run.config)\n",
        "\n",
        "        val_best_th = evaluate_threshold_grid(\n",
        "            rl_module,\n",
        "            model_name,\n",
        "            run,\n",
        "            val_np_env_config,\n",
        "            split_label='val',\n",
        "            draw_plots=DRAW_PLOTS\n",
        "        )\n",
        "\n",
        "        _ = evaluate_threshold_grid(\n",
        "            rl_module,\n",
        "            model_name,\n",
        "            run,\n",
        "            test_np_env_config,\n",
        "            split_label='test',\n",
        "            chosen_th=val_best_th,\n",
        "            draw_plots=DRAW_PLOTS\n",
        "        )\n",
        "\n",
        "        wandb.finish()\n",
        "        del run\n",
        "        gc.collect()\n",
        "\n",
        "        processed_run_cnt += 1\n",
        "\n",
        "    del api, sweep_runs\n",
        "    gc.collect()\n",
        "\n",
        "# # Init tracemalloc\n",
        "# tracemalloc.start()\n",
        "# snapshot_start = tracemalloc.take_snapshot()\n",
        "\n",
        "evaluate_threshold_grid_sweep()\n",
        "\n",
        "# # Finish tracemalloc\n",
        "# snapshot_end = tracemalloc.take_snapshot()\n",
        "# top_stats = snapshot_end.compare_to(snapshot_start, 'lineno')\n",
        "# for stat in top_stats[:5]:\n",
        "#     print(stat)"
      ]
    },
    {
      "cell_type": "markdown",
      "metadata": {
        "id": "chpP5JBe3qL4"
      },
      "source": [
        "## Evaluate aggregated metrics & DJIA (func)"
      ]
    },
    {
      "cell_type": "code",
      "execution_count": 111,
      "metadata": {
        "cellView": "form",
        "id": "KDEFWS87dOL_"
      },
      "outputs": [],
      "source": [
        "#@title auxilary regex funcs\n",
        "\n",
        "import re\n",
        "\n",
        "def extract_split_label(text):\n",
        "    \"\"\"Extracts 'val' or 'test' from the given string. Returns None if not found.\"\"\"\n",
        "    match = re.search(r'-(val|test)-', text)\n",
        "    return match.group(1) if match else None\n",
        "\n",
        "def extract_turbulence_log_name(text):\n",
        "    \"\"\"Extracts 'vix' or 'ti' from the given string. Returns None if not found.\"\"\"\n",
        "    match = re.search(r'-(vix|ti)-', text)\n",
        "    return match.group(1) if match else None\n",
        "\n",
        "def find_file_by_threshold(\n",
        "        split_folder,\n",
        "        threshold = 'best',\n",
        "    ):\n",
        "\n",
        "    assert isinstance(threshold, int) or threshold in ['best', 'chosen']\n",
        "\n",
        "    split_label = None\n",
        "    for account_values_file in os.listdir(str(split_folder)):\n",
        "        _match = re.search(f'_({threshold})', account_values_file)\n",
        "        if _match:\n",
        "            split_label = account_values_file\n",
        "            break\n",
        "\n",
        "    assert split_label is not None\n",
        "\n",
        "    return split_label\n",
        "\n",
        "# find_file_by_threshold(split_folder)"
      ]
    },
    {
      "cell_type": "markdown",
      "source": [
        "### Eval agg metrics"
      ],
      "metadata": {
        "id": "qPhm_fP-yRSZ"
      }
    },
    {
      "cell_type": "code",
      "execution_count": null,
      "metadata": {
        "id": "4XAz8VQymJNK",
        "cellView": "form"
      },
      "outputs": [],
      "source": [
        "#@title 1. download account dataframes for all runs\n",
        "\n",
        "def download_account_dataframes(config_hash_to_runs, filter_hash=None):\n",
        "    runs_split_folders = {}\n",
        "    for config_hash, sorted_runs_list in config_hash_to_runs.items():\n",
        "        if filter_hash is not None and config_hash != filter_hash:\n",
        "            continue\n",
        "\n",
        "        # download account dataframes for all runs\n",
        "        for run_id, _ in sorted_runs_list:\n",
        "            # print(run_id, _)\n",
        "            artifacts_folders = download_artifacts(\n",
        "                run_id,\n",
        "                artifact_types=['account_values_df'],\n",
        "                prepend_run_id=True\n",
        "            )\n",
        "            runs_split_folders[run_id] = artifacts_folders['account_values_df']\n",
        "\n",
        "            # break\n",
        "        return runs_split_folders"
      ]
    },
    {
      "cell_type": "code",
      "source": [
        "# FILTER_HASH = None\n",
        "# FILTER_HASH = '5b89a8d8a13f0dad4cfe425a8b2300ab5b6fb4b1d863471a46b6758a66d4461b'\n",
        "\n",
        "# runs_split_folders = download_account_dataframes(\n",
        "#     config_hash_to_runs,\n",
        "#     filter_hash=FILTER_HASH\n",
        "# )\n",
        "\n",
        "# runs_split_folders"
      ],
      "metadata": {
        "id": "vaFFkWEJL7fA"
      },
      "execution_count": null,
      "outputs": []
    },
    {
      "cell_type": "code",
      "execution_count": null,
      "metadata": {
        "id": "uZYO7XRR6HFi"
      },
      "outputs": [],
      "source": [
        "#@title 2. Compute aggregated metrics sequentially\n",
        "\n",
        "def compute_aggregated_metrics(\n",
        "        runs_split_folders,\n",
        "        config_hash_to_runs,\n",
        "        filter_hash=None,\n",
        "        limit_runs=None,\n",
        "    ):\n",
        "\n",
        "    for config_hash, sorted_runs_list in config_hash_to_runs.items():\n",
        "        if config_hash != filter_hash:\n",
        "            continue\n",
        "\n",
        "        # Iteratively expand aggregated asset values dataftames by sequential concatenation\n",
        "        agg_asset_values = {\n",
        "            # NOTE: compute agg metrics only for test\n",
        "\n",
        "            # 'val': {\n",
        "            #     'best': pd.DataFrame()\n",
        "            # },\n",
        "\n",
        "            'test': {\n",
        "                'chosen': pd.DataFrame(),\n",
        "                'best': pd.DataFrame(),\n",
        "            }\n",
        "        }\n",
        "\n",
        "        for run_index, (run_id, test_start_date) in enumerate(sorted_runs_list):\n",
        "            print(f\"run_index: {run_index}\")\n",
        "\n",
        "            if limit_runs is not None and run_index > limit_runs - 1:\n",
        "                break\n",
        "\n",
        "            split_folders = runs_split_folders[run_id]\n",
        "            split_thresholds = {\n",
        "                # 'val': ['best'],\n",
        "                'test': ['chosen', 'best']\n",
        "            }\n",
        "\n",
        "            run = wandb.init(\n",
        "                entity=ENTITY,\n",
        "                project=PROJECT,\n",
        "                id=run_id,\n",
        "                resume=\"must\",  # or 'allow'\n",
        "            )\n",
        "\n",
        "            for split_folder in split_folders:\n",
        "                split_label = extract_split_label(str(split_folder))\n",
        "                if split_label != 'test':\n",
        "                    continue\n",
        "\n",
        "                turbulence_log_name = extract_turbulence_log_name(str(split_folder))\n",
        "                for turbulence_thresh in split_thresholds[split_label]:\n",
        "                    file_name = find_file_by_threshold(split_folder, turbulence_thresh)\n",
        "                    run_asset_values_per_split = pd.read_csv(split_folder / file_name, index_col=0)\n",
        "                    agg_asset_values[split_label][turbulence_thresh] = pd.concat([\n",
        "                        agg_asset_values[split_label][turbulence_thresh],\n",
        "                        run_asset_values_per_split,\n",
        "                    ])\n",
        "                    # display(agg_asset_values[split_label][turbulence_thresh])\n",
        "\n",
        "                    # print(run_index)\n",
        "                    # display(agg_asset_values)\n",
        "                    # TODO: fix saving column name when saving asset values\n",
        "\n",
        "                    agg_metrics_per_split = compute_metrics(agg_asset_values[split_label][turbulence_thresh])\n",
        "\n",
        "                    log_eval_results(\n",
        "                        model_name,\n",
        "                        agg_metrics_per_split,\n",
        "                        split_label,\n",
        "                        turbulence_log_name,\n",
        "                        turbulence_thresh=turbulence_thresh,\n",
        "                        run=run,\n",
        "                        metric_prefix='agg',\n",
        "                    )\n",
        "\n",
        "            wandb.finish()\n",
        "\n",
        "        print()"
      ]
    },
    {
      "cell_type": "code",
      "source": [
        "# LIMIT_RUNS = None\n",
        "# # LIMIT_RUNS = 1\n",
        "\n",
        "# compute_aggregated_metrics(\n",
        "#     runs_split_folders,\n",
        "#     config_hash_to_runs,\n",
        "\n",
        "#     # filter_hash=None,\n",
        "#     filter_hash=FILTER_HASH,\n",
        "\n",
        "#     # limit_runs=None\n",
        "#     limit_runs=LIMIT_RUNS\n",
        "# )"
      ],
      "metadata": {
        "id": "390oUQaaL_vD"
      },
      "execution_count": null,
      "outputs": []
    },
    {
      "cell_type": "code",
      "execution_count": null,
      "metadata": {
        "cellView": "form",
        "id": "eYJZenq-3qL5"
      },
      "outputs": [],
      "source": [
        "#@title 1 & 2. Download asset values & compute agg metrics (sweep)\n",
        "\n",
        "import wandb\n",
        "\n",
        "SWEEP_ID = \"yd7fz9as\"  # Replace with the actual run ID\n",
        "\n",
        "FILTER_HASH = None\n",
        "FILTER_HASH = '1ea39a67636c8e66b0064c4cac304a880b02405eff96aa2bc82017e78cd8461f'\n",
        "\n",
        "LIMIT_RUNS = None\n",
        "# LIMIT_RUNS = 3\n",
        "\n",
        "##############################################\n",
        "\n",
        "config_hash_to_runs = group_by_hash_and_sort_by_date(\n",
        "    SWEEP_ID,\n",
        ")\n",
        "\n",
        "runs_split_folders = download_account_dataframes(\n",
        "    config_hash_to_runs,\n",
        "    filter_hash=FILTER_HASH\n",
        ")\n",
        "\n",
        "compute_aggregated_metrics(\n",
        "    runs_split_folders,\n",
        "    config_hash_to_runs,\n",
        "\n",
        "    filter_hash=FILTER_HASH,\n",
        "\n",
        "    limit_runs=LIMIT_RUNS\n",
        ")"
      ]
    },
    {
      "cell_type": "markdown",
      "source": [
        "### Evaluate DJIA for latest runs"
      ],
      "metadata": {
        "id": "ObadSHk9yCIb"
      }
    },
    {
      "cell_type": "code",
      "source": [
        "SWEEP_ID = 'yd7fz9as'\n",
        "last_run = get_last_finished_run(run_list)\n",
        "\n",
        "config_hash_to_runs = group_by_hash_and_sort_by_date(SWEEP_ID)\n",
        "\n",
        "for config_hash, run_list in config_hash_to_runs.items():\n",
        "    last_run = get_last_finished_run(run_list)\n",
        "    first_run = get_first_finished_run(run_list)\n",
        "\n",
        "    # print(first_run, last_run)\n",
        "\n",
        "    df_djia = load_djia(\n",
        "        start_date=pd.Timestamp(first_run.config['date_range']['test_start_date']),\n",
        "        end_date=pd.Timestamp(last_run.config['date_range']['test_end_date'])\n",
        "    )\n",
        "\n",
        "    djia_metrics = compute_metrics(df_djia)\n",
        "\n",
        "    last_run = wandb.init(project=PROJECT, id=last_run.id, resume='must')\n",
        "    log_eval_results(\n",
        "        'djia',\n",
        "        djia_metrics,\n",
        "        split_label='test',\n",
        "        metric_prefix='agg',\n",
        "        run=last_run\n",
        "    )\n",
        "    wandb.finish()"
      ],
      "metadata": {
        "id": "IKMcRrAxyl7V"
      },
      "execution_count": null,
      "outputs": []
    },
    {
      "cell_type": "markdown",
      "metadata": {
        "id": "UWQMZ1l1UKmI"
      },
      "source": [
        "# Async wandb agent"
      ]
    },
    {
      "cell_type": "code",
      "execution_count": null,
      "metadata": {
        "colab": {
          "base_uri": "https://localhost:8080/",
          "height": 193
        },
        "id": "7NNMYBSrsJrO",
        "outputId": "c8da3645-b317-4f50-9b9e-f68cb530fde2"
      },
      "outputs": [
        {
          "name": "stderr",
          "output_type": "stream",
          "text": [
            "\u001b[34m\u001b[1mwandb\u001b[0m: Currently logged in as: \u001b[33mtony-pitchblack\u001b[0m (\u001b[33moverfit1010\u001b[0m) to \u001b[32mhttps://api.wandb.ai\u001b[0m. Use \u001b[1m`wandb login --relogin`\u001b[0m to force relogin\n",
            "\u001b[34m\u001b[1mwandb\u001b[0m: Using wandb-core as the SDK backend.  Please refer to https://wandb.me/wandb-core for more information.\n"
          ]
        },
        {
          "data": {
            "text/html": [
              "Tracking run with wandb version 0.19.6"
            ],
            "text/plain": [
              "<IPython.core.display.HTML object>"
            ]
          },
          "metadata": {},
          "output_type": "display_data"
        },
        {
          "data": {
            "text/html": [
              "Run data is saved locally in <code>/content/wandb/run-20250213_192100-0v2mh4ei</code>"
            ],
            "text/plain": [
              "<IPython.core.display.HTML object>"
            ]
          },
          "metadata": {},
          "output_type": "display_data"
        },
        {
          "data": {
            "text/html": [
              "Resuming run <strong><a href='https://wandb.ai/overfit1010/finrl-dt-replicate/runs/0v2mh4ei' target=\"_blank\">DOW-30 | 2009-01 | 2015 Q4 | 2016 Q1 | 0v2mh4ei</a></strong> to <a href='https://wandb.ai/overfit1010/finrl-dt-replicate' target=\"_blank\">Weights & Biases</a> (<a href='https://wandb.me/developer-guide' target=\"_blank\">docs</a>)<br>Sweep page: <a href='https://wandb.ai/overfit1010/finrl-dt-replicate/sweeps/9vwat2if' target=\"_blank\">https://wandb.ai/overfit1010/finrl-dt-replicate/sweeps/9vwat2if</a>"
            ],
            "text/plain": [
              "<IPython.core.display.HTML object>"
            ]
          },
          "metadata": {},
          "output_type": "display_data"
        },
        {
          "data": {
            "text/html": [
              " View project at <a href='https://wandb.ai/overfit1010/finrl-dt-replicate' target=\"_blank\">https://wandb.ai/overfit1010/finrl-dt-replicate</a>"
            ],
            "text/plain": [
              "<IPython.core.display.HTML object>"
            ]
          },
          "metadata": {},
          "output_type": "display_data"
        },
        {
          "data": {
            "text/html": [
              " View sweep at <a href='https://wandb.ai/overfit1010/finrl-dt-replicate/sweeps/9vwat2if' target=\"_blank\">https://wandb.ai/overfit1010/finrl-dt-replicate/sweeps/9vwat2if</a>"
            ],
            "text/plain": [
              "<IPython.core.display.HTML object>"
            ]
          },
          "metadata": {},
          "output_type": "display_data"
        },
        {
          "data": {
            "text/html": [
              " View run at <a href='https://wandb.ai/overfit1010/finrl-dt-replicate/runs/0v2mh4ei' target=\"_blank\">https://wandb.ai/overfit1010/finrl-dt-replicate/runs/0v2mh4ei</a>"
            ],
            "text/plain": [
              "<IPython.core.display.HTML object>"
            ]
          },
          "metadata": {},
          "output_type": "display_data"
        }
      ],
      "source": [
        "import wandb\n",
        "wandb.finish()\n",
        "run = wandb.init(project=PROJECT, id='0v2mh4ei', resume='must')"
      ]
    },
    {
      "cell_type": "code",
      "execution_count": null,
      "metadata": {
        "colab": {
          "base_uri": "https://localhost:8080/"
        },
        "id": "ktjiYTJ8wV6C",
        "outputId": "c5ef13e0-c300-4e5d-fec6-da34e0e007dd"
      },
      "outputs": [
        {
          "name": "stdout",
          "output_type": "stream",
          "text": [
            "Config Hash: 77730c2d92058586ed396132117735d921a98c83e9e8596fbec2325077735465\n"
          ]
        }
      ],
      "source": [
        "import json\n",
        "import wandb\n",
        "from hashlib import sha256\n",
        "\n",
        "def config_to_canonical_string(cfg_dict):\n",
        "    \"\"\"Convert config dictionary to a deterministic JSON string.\"\"\"\n",
        "    return json.dumps(cfg_dict, sort_keys=True)\n",
        "\n",
        "# Initialize wandb run (ensure this runs within an active wandb session)\n",
        "run_config = wandb.run.config\n",
        "\n",
        "# Extract only relevant config fields\n",
        "canon_str = config_to_canonical_string({\n",
        "    'seed': run_config['seed'],\n",
        "    'training_params': run_config['training_params']\n",
        "})\n",
        "\n",
        "# Compute SHA-256 hash correctly\n",
        "config_hash = sha256(canon_str.encode()).hexdigest()\n",
        "\n",
        "print(f\"Config Hash: {config_hash}\")"
      ]
    },
    {
      "cell_type": "code",
      "execution_count": null,
      "metadata": {
        "colab": {
          "base_uri": "https://localhost:8080/"
        },
        "id": "64XKLxHgwPR8",
        "outputId": "3785ae58-1e28-47a4-e7e4-114799fffeb6"
      },
      "outputs": [
        {
          "name": "stdout",
          "output_type": "stream",
          "text": [
            "Config Hash: 77730c2d92058586ed396132117735d921a98c83e9e8596fbec2325077735465\n"
          ]
        }
      ],
      "source": [
        "import json\n",
        "import wandb\n",
        "from hashlib import sha256\n",
        "\n",
        "def config_to_canonical_string(cfg_dict):\n",
        "    \"\"\"Convert config dictionary to a deterministic JSON string.\"\"\"\n",
        "    return json.dumps(cfg_dict, sort_keys=True)\n",
        "\n",
        "# Initialize wandb run (ensure this runs within an active wandb session)\n",
        "run_config = wandb.run.config\n",
        "\n",
        "# Extract only relevant config fields\n",
        "canon_str = config_to_canonical_string({\n",
        "    'seed': run_config['seed'],\n",
        "    'training_params': run_config['training_params']\n",
        "})\n",
        "\n",
        "# Compute SHA-256 hash correctly\n",
        "config_hash = sha256(canon_str.encode()).hexdigest()\n",
        "\n",
        "print(f\"Config Hash: {config_hash}\")"
      ]
    },
    {
      "cell_type": "code",
      "execution_count": null,
      "metadata": {
        "colab": {
          "base_uri": "https://localhost:8080/"
        },
        "id": "xoSZvRu-UTQo",
        "outputId": "6a16efc7-2e11-46d1-925d-3b25b8bcc9be"
      },
      "outputs": [
        {
          "name": "stderr",
          "output_type": "stream",
          "text": [
            "\u001b[34m\u001b[1mwandb\u001b[0m:   99 of 99 files downloaded.  \n",
            "\u001b[34m\u001b[1mwandb\u001b[0m:   99 of 99 files downloaded.  \n"
          ]
        }
      ],
      "source": [
        "# def download_pretrained_models\n",
        "prev_run_id = 'nbjng3f8'\n",
        "download_artifacts(prev_run_id, artifact_types=['trained_models'])"
      ]
    },
    {
      "cell_type": "code",
      "execution_count": null,
      "metadata": {
        "cellView": "form",
        "colab": {
          "base_uri": "https://localhost:8080/"
        },
        "id": "8CXECEemca6u",
        "outputId": "d261432a-72fa-4a35-c749-ce10d1260e08"
      },
      "outputs": [
        {
          "name": "stderr",
          "output_type": "stream",
          "text": [
            "2025-02-13 17:58:06,379\tWARNING algorithm_config.py:4726 -- You are running PPO on the new API stack! This is the new default behavior for this algorithm. If you don't want to use the new API stack, set `config.api_stack(enable_rl_module_and_learner=False,enable_env_runner_and_connector_v2=False)`. For a detailed migration guide, see here: https://docs.ray.io/en/master/rllib/new-api-stack-migration-guide.html\n",
            "/usr/local/lib/python3.11/dist-packages/gymnasium/envs/registration.py:642: UserWarning: \u001b[33mWARN: Overriding environment rllib-single-agent-env-v0 already in registry.\u001b[0m\n",
            "  logger.warn(f\"Overriding environment {new_spec.id} already in registry.\")\n"
          ]
        },
        {
          "name": "stdout",
          "output_type": "stream",
          "text": [
            "Initializing env... Done.\n"
          ]
        },
        {
          "name": "stderr",
          "output_type": "stream",
          "text": [
            "2025-02-13 17:58:07,747\tWARNING algorithm_config.py:4726 -- You are running PPO on the new API stack! This is the new default behavior for this algorithm. If you don't want to use the new API stack, set `config.api_stack(enable_rl_module_and_learner=False,enable_env_runner_and_connector_v2=False)`. For a detailed migration guide, see here: https://docs.ray.io/en/master/rllib/new-api-stack-migration-guide.html\n",
            "/usr/local/lib/python3.11/dist-packages/gymnasium/envs/registration.py:642: UserWarning: \u001b[33mWARN: Overriding environment rllib-single-agent-env-v0 already in registry.\u001b[0m\n",
            "  logger.warn(f\"Overriding environment {new_spec.id} already in registry.\")\n"
          ]
        },
        {
          "name": "stdout",
          "output_type": "stream",
          "text": [
            "Initializing env... Done.\n"
          ]
        },
        {
          "name": "stderr",
          "output_type": "stream",
          "text": [
            "2025-02-13 17:58:09,593\tWARNING rl_module.py:419 -- Could not create a Catalog object for your RLModule! If you are not using the new API stack yet, make sure to switch it off in your config: `config.api_stack(enable_rl_module_and_learner=False, enable_env_runner_and_connector_v2=False)`. All algos use the new stack by default. Ignore this message, if your RLModule does not use a Catalog to build its sub-components.\n"
          ]
        },
        {
          "data": {
            "text/plain": [
              "PPO(env=stock_trading_env; env-runners=0; learners=0; multi-agent=False)"
            ]
          },
          "execution_count": 74,
          "metadata": {},
          "output_type": "execute_result"
        }
      ],
      "source": [
        "#@title load_model\n",
        "\n",
        "import ray\n",
        "from ray.rllib.algorithms.ppo import PPO\n",
        "\n",
        "AVAILABLE_MODELS_CLASSES = {\n",
        "    'ppo': PPO\n",
        "}\n",
        "\n",
        "def load_model(model_name, trained_model_dir = TRAINED_MODEL_DIR):\n",
        "    model_class = AVAILABLE_MODELS_CLASSES[model_name]\n",
        "    checkpoint_path = os.path.abspath(f\"{trained_model_dir}/{model_name}\")\n",
        "    algo = model_class.from_checkpoint(checkpoint_path)\n",
        "    return algo\n",
        "\n",
        "load_model('ppo')"
      ]
    }
  ],
  "metadata": {
    "colab": {
      "collapsed_sections": [
        "Y-J5mD_PTar9",
        "ZTVPIJ3RBLk-",
        "SIU-vXqDRW3L",
        "oWn4ZCwkvtN3",
        "hWUph5lzrTUS",
        "Op7oS8Jw1pgx",
        "BxBLqeRsh711",
        "UiWaQLQ7rSs5",
        "_BZTsxX0tkDZ",
        "GqkgvtqPR0y-",
        "vc1lDiYSIDAV",
        "_huFpEN4BuAO",
        "UedSXAEv31Q8",
        "5bNP6axL3jbI",
        "ObadSHk9yCIb",
        "UWQMZ1l1UKmI"
      ],
      "provenance": [],
      "authorship_tag": "ABX9TyOvigGS1jmf/hm457AwExH5",
      "include_colab_link": true
    },
    "kernelspec": {
      "display_name": "Python 3",
      "name": "python3"
    },
    "language_info": {
      "name": "python"
    },
    "widgets": {
      "application/vnd.jupyter.widget-state+json": {
        "012cbe8425594a2493aa9fa0017eb3ba": {
          "model_module": "@jupyter-widgets/controls",
          "model_module_version": "1.5.0",
          "model_name": "DescriptionStyleModel",
          "state": {
            "_model_module": "@jupyter-widgets/controls",
            "_model_module_version": "1.5.0",
            "_model_name": "DescriptionStyleModel",
            "_view_count": null,
            "_view_module": "@jupyter-widgets/base",
            "_view_module_version": "1.2.0",
            "_view_name": "StyleView",
            "description_width": ""
          }
        },
        "01b04682bbaa47aa8f2d35d6111a5dd8": {
          "model_module": "@jupyter-widgets/base",
          "model_module_version": "1.2.0",
          "model_name": "LayoutModel",
          "state": {
            "_model_module": "@jupyter-widgets/base",
            "_model_module_version": "1.2.0",
            "_model_name": "LayoutModel",
            "_view_count": null,
            "_view_module": "@jupyter-widgets/base",
            "_view_module_version": "1.2.0",
            "_view_name": "LayoutView",
            "align_content": null,
            "align_items": null,
            "align_self": null,
            "border": null,
            "bottom": null,
            "display": null,
            "flex": null,
            "flex_flow": null,
            "grid_area": null,
            "grid_auto_columns": null,
            "grid_auto_flow": null,
            "grid_auto_rows": null,
            "grid_column": null,
            "grid_gap": null,
            "grid_row": null,
            "grid_template_areas": null,
            "grid_template_columns": null,
            "grid_template_rows": null,
            "height": null,
            "justify_content": null,
            "justify_items": null,
            "left": null,
            "margin": null,
            "max_height": null,
            "max_width": null,
            "min_height": null,
            "min_width": null,
            "object_fit": null,
            "object_position": null,
            "order": null,
            "overflow": null,
            "overflow_x": null,
            "overflow_y": null,
            "padding": null,
            "right": null,
            "top": null,
            "visibility": null,
            "width": null
          }
        },
        "03248aa427cf4d938c0f6b213854ff9b": {
          "model_module": "@jupyter-widgets/controls",
          "model_module_version": "1.5.0",
          "model_name": "HTMLModel",
          "state": {
            "_dom_classes": [],
            "_model_module": "@jupyter-widgets/controls",
            "_model_module_version": "1.5.0",
            "_model_name": "HTMLModel",
            "_view_count": null,
            "_view_module": "@jupyter-widgets/controls",
            "_view_module_version": "1.5.0",
            "_view_name": "HTMLView",
            "description": "",
            "description_tooltip": null,
            "layout": "IPY_MODEL_0d23fff4318144dba2884a3289951a54",
            "placeholder": "​",
            "style": "IPY_MODEL_0468bf4d1bc44358a4bdd1d8b3d72b70",
            "value": "3oiuvu1v:   0%"
          }
        },
        "0371b0b80e9743c7ae8fcef84b921231": {
          "model_module": "@jupyter-widgets/controls",
          "model_module_version": "1.5.0",
          "model_name": "HTMLModel",
          "state": {
            "_dom_classes": [],
            "_model_module": "@jupyter-widgets/controls",
            "_model_module_version": "1.5.0",
            "_model_name": "HTMLModel",
            "_view_count": null,
            "_view_module": "@jupyter-widgets/controls",
            "_view_module_version": "1.5.0",
            "_view_name": "HTMLView",
            "description": "",
            "description_tooltip": null,
            "layout": "IPY_MODEL_66bca2a8cb494e6090863e7897c7e7d8",
            "placeholder": "​",
            "style": "IPY_MODEL_a5d4bf872dbf471aaf039672edffe194",
            "value": " 0/1 [00:00&lt;?, ?it/s]"
          }
        },
        "04664e7cb0364b5595a72d60c63d83aa": {
          "model_module": "@jupyter-widgets/controls",
          "model_module_version": "1.5.0",
          "model_name": "DescriptionStyleModel",
          "state": {
            "_model_module": "@jupyter-widgets/controls",
            "_model_module_version": "1.5.0",
            "_model_name": "DescriptionStyleModel",
            "_view_count": null,
            "_view_module": "@jupyter-widgets/base",
            "_view_module_version": "1.2.0",
            "_view_name": "StyleView",
            "description_width": ""
          }
        },
        "0468bf4d1bc44358a4bdd1d8b3d72b70": {
          "model_module": "@jupyter-widgets/controls",
          "model_module_version": "1.5.0",
          "model_name": "DescriptionStyleModel",
          "state": {
            "_model_module": "@jupyter-widgets/controls",
            "_model_module_version": "1.5.0",
            "_model_name": "DescriptionStyleModel",
            "_view_count": null,
            "_view_module": "@jupyter-widgets/base",
            "_view_module_version": "1.2.0",
            "_view_name": "StyleView",
            "description_width": ""
          }
        },
        "0746abdb8e984019a272a724dfad9e4c": {
          "model_module": "@jupyter-widgets/controls",
          "model_module_version": "1.5.0",
          "model_name": "ProgressStyleModel",
          "state": {
            "_model_module": "@jupyter-widgets/controls",
            "_model_module_version": "1.5.0",
            "_model_name": "ProgressStyleModel",
            "_view_count": null,
            "_view_module": "@jupyter-widgets/base",
            "_view_module_version": "1.2.0",
            "_view_name": "StyleView",
            "bar_color": null,
            "description_width": ""
          }
        },
        "077f26f6b62442c999dc4efa8f65360a": {
          "model_module": "@jupyter-widgets/base",
          "model_module_version": "1.2.0",
          "model_name": "LayoutModel",
          "state": {
            "_model_module": "@jupyter-widgets/base",
            "_model_module_version": "1.2.0",
            "_model_name": "LayoutModel",
            "_view_count": null,
            "_view_module": "@jupyter-widgets/base",
            "_view_module_version": "1.2.0",
            "_view_name": "LayoutView",
            "align_content": null,
            "align_items": null,
            "align_self": null,
            "border": null,
            "bottom": null,
            "display": null,
            "flex": null,
            "flex_flow": null,
            "grid_area": null,
            "grid_auto_columns": null,
            "grid_auto_flow": null,
            "grid_auto_rows": null,
            "grid_column": null,
            "grid_gap": null,
            "grid_row": null,
            "grid_template_areas": null,
            "grid_template_columns": null,
            "grid_template_rows": null,
            "height": null,
            "justify_content": null,
            "justify_items": null,
            "left": null,
            "margin": null,
            "max_height": null,
            "max_width": null,
            "min_height": null,
            "min_width": null,
            "object_fit": null,
            "object_position": null,
            "order": null,
            "overflow": null,
            "overflow_x": null,
            "overflow_y": null,
            "padding": null,
            "right": null,
            "top": null,
            "visibility": null,
            "width": null
          }
        },
        "09284552cad04ce490049a5ec775fafd": {
          "model_module": "@jupyter-widgets/controls",
          "model_module_version": "1.5.0",
          "model_name": "HTMLModel",
          "state": {
            "_dom_classes": [],
            "_model_module": "@jupyter-widgets/controls",
            "_model_module_version": "1.5.0",
            "_model_name": "HTMLModel",
            "_view_count": null,
            "_view_module": "@jupyter-widgets/controls",
            "_view_module_version": "1.5.0",
            "_view_name": "HTMLView",
            "description": "",
            "description_tooltip": null,
            "layout": "IPY_MODEL_9762e188154643df9aebca18ed3cfd2f",
            "placeholder": "​",
            "style": "IPY_MODEL_40f09f9ed5f048439be1d0381710aaeb",
            "value": "9x9u4o66:   0%"
          }
        },
        "0d23fff4318144dba2884a3289951a54": {
          "model_module": "@jupyter-widgets/base",
          "model_module_version": "1.2.0",
          "model_name": "LayoutModel",
          "state": {
            "_model_module": "@jupyter-widgets/base",
            "_model_module_version": "1.2.0",
            "_model_name": "LayoutModel",
            "_view_count": null,
            "_view_module": "@jupyter-widgets/base",
            "_view_module_version": "1.2.0",
            "_view_name": "LayoutView",
            "align_content": null,
            "align_items": null,
            "align_self": null,
            "border": null,
            "bottom": null,
            "display": null,
            "flex": null,
            "flex_flow": null,
            "grid_area": null,
            "grid_auto_columns": null,
            "grid_auto_flow": null,
            "grid_auto_rows": null,
            "grid_column": null,
            "grid_gap": null,
            "grid_row": null,
            "grid_template_areas": null,
            "grid_template_columns": null,
            "grid_template_rows": null,
            "height": null,
            "justify_content": null,
            "justify_items": null,
            "left": null,
            "margin": null,
            "max_height": null,
            "max_width": null,
            "min_height": null,
            "min_width": null,
            "object_fit": null,
            "object_position": null,
            "order": null,
            "overflow": null,
            "overflow_x": null,
            "overflow_y": null,
            "padding": null,
            "right": null,
            "top": null,
            "visibility": null,
            "width": null
          }
        },
        "0d4d53eba0cc44cca1f14f1fe003a5ff": {
          "model_module": "@jupyter-widgets/base",
          "model_module_version": "1.2.0",
          "model_name": "LayoutModel",
          "state": {
            "_model_module": "@jupyter-widgets/base",
            "_model_module_version": "1.2.0",
            "_model_name": "LayoutModel",
            "_view_count": null,
            "_view_module": "@jupyter-widgets/base",
            "_view_module_version": "1.2.0",
            "_view_name": "LayoutView",
            "align_content": null,
            "align_items": null,
            "align_self": null,
            "border": null,
            "bottom": null,
            "display": null,
            "flex": null,
            "flex_flow": null,
            "grid_area": null,
            "grid_auto_columns": null,
            "grid_auto_flow": null,
            "grid_auto_rows": null,
            "grid_column": null,
            "grid_gap": null,
            "grid_row": null,
            "grid_template_areas": null,
            "grid_template_columns": null,
            "grid_template_rows": null,
            "height": null,
            "justify_content": null,
            "justify_items": null,
            "left": null,
            "margin": null,
            "max_height": null,
            "max_width": null,
            "min_height": null,
            "min_width": null,
            "object_fit": null,
            "object_position": null,
            "order": null,
            "overflow": null,
            "overflow_x": null,
            "overflow_y": null,
            "padding": null,
            "right": null,
            "top": null,
            "visibility": null,
            "width": null
          }
        },
        "0d8bb43c6b2e4a2598c1eedacb206d59": {
          "model_module": "@jupyter-widgets/base",
          "model_module_version": "1.2.0",
          "model_name": "LayoutModel",
          "state": {
            "_model_module": "@jupyter-widgets/base",
            "_model_module_version": "1.2.0",
            "_model_name": "LayoutModel",
            "_view_count": null,
            "_view_module": "@jupyter-widgets/base",
            "_view_module_version": "1.2.0",
            "_view_name": "LayoutView",
            "align_content": null,
            "align_items": null,
            "align_self": null,
            "border": null,
            "bottom": null,
            "display": null,
            "flex": null,
            "flex_flow": null,
            "grid_area": null,
            "grid_auto_columns": null,
            "grid_auto_flow": null,
            "grid_auto_rows": null,
            "grid_column": null,
            "grid_gap": null,
            "grid_row": null,
            "grid_template_areas": null,
            "grid_template_columns": null,
            "grid_template_rows": null,
            "height": null,
            "justify_content": null,
            "justify_items": null,
            "left": null,
            "margin": null,
            "max_height": null,
            "max_width": null,
            "min_height": null,
            "min_width": null,
            "object_fit": null,
            "object_position": null,
            "order": null,
            "overflow": null,
            "overflow_x": null,
            "overflow_y": null,
            "padding": null,
            "right": null,
            "top": null,
            "visibility": "hidden",
            "width": null
          }
        },
        "103121cc0016473d92374ed3976c7a35": {
          "model_module": "@jupyter-widgets/controls",
          "model_module_version": "1.5.0",
          "model_name": "DescriptionStyleModel",
          "state": {
            "_model_module": "@jupyter-widgets/controls",
            "_model_module_version": "1.5.0",
            "_model_name": "DescriptionStyleModel",
            "_view_count": null,
            "_view_module": "@jupyter-widgets/base",
            "_view_module_version": "1.2.0",
            "_view_name": "StyleView",
            "description_width": ""
          }
        },
        "11b1e5db1b5d4689810b5111e7bb41cf": {
          "model_module": "@jupyter-widgets/controls",
          "model_module_version": "1.5.0",
          "model_name": "DescriptionStyleModel",
          "state": {
            "_model_module": "@jupyter-widgets/controls",
            "_model_module_version": "1.5.0",
            "_model_name": "DescriptionStyleModel",
            "_view_count": null,
            "_view_module": "@jupyter-widgets/base",
            "_view_module_version": "1.2.0",
            "_view_name": "StyleView",
            "description_width": ""
          }
        },
        "12eae60cb69448abbb58dbecf325bf46": {
          "model_module": "@jupyter-widgets/base",
          "model_module_version": "1.2.0",
          "model_name": "LayoutModel",
          "state": {
            "_model_module": "@jupyter-widgets/base",
            "_model_module_version": "1.2.0",
            "_model_name": "LayoutModel",
            "_view_count": null,
            "_view_module": "@jupyter-widgets/base",
            "_view_module_version": "1.2.0",
            "_view_name": "LayoutView",
            "align_content": null,
            "align_items": null,
            "align_self": null,
            "border": null,
            "bottom": null,
            "display": null,
            "flex": null,
            "flex_flow": null,
            "grid_area": null,
            "grid_auto_columns": null,
            "grid_auto_flow": null,
            "grid_auto_rows": null,
            "grid_column": null,
            "grid_gap": null,
            "grid_row": null,
            "grid_template_areas": null,
            "grid_template_columns": null,
            "grid_template_rows": null,
            "height": null,
            "justify_content": null,
            "justify_items": null,
            "left": null,
            "margin": null,
            "max_height": null,
            "max_width": null,
            "min_height": null,
            "min_width": null,
            "object_fit": null,
            "object_position": null,
            "order": null,
            "overflow": null,
            "overflow_x": null,
            "overflow_y": null,
            "padding": null,
            "right": null,
            "top": null,
            "visibility": null,
            "width": null
          }
        },
        "130f9ade7e0049be94262fa646792979": {
          "model_module": "@jupyter-widgets/controls",
          "model_module_version": "1.5.0",
          "model_name": "ProgressStyleModel",
          "state": {
            "_model_module": "@jupyter-widgets/controls",
            "_model_module_version": "1.5.0",
            "_model_name": "ProgressStyleModel",
            "_view_count": null,
            "_view_module": "@jupyter-widgets/base",
            "_view_module_version": "1.2.0",
            "_view_name": "StyleView",
            "bar_color": null,
            "description_width": ""
          }
        },
        "1352f2fdf2db44f99814c31da52700c7": {
          "model_module": "@jupyter-widgets/base",
          "model_module_version": "1.2.0",
          "model_name": "LayoutModel",
          "state": {
            "_model_module": "@jupyter-widgets/base",
            "_model_module_version": "1.2.0",
            "_model_name": "LayoutModel",
            "_view_count": null,
            "_view_module": "@jupyter-widgets/base",
            "_view_module_version": "1.2.0",
            "_view_name": "LayoutView",
            "align_content": null,
            "align_items": null,
            "align_self": null,
            "border": null,
            "bottom": null,
            "display": null,
            "flex": null,
            "flex_flow": null,
            "grid_area": null,
            "grid_auto_columns": null,
            "grid_auto_flow": null,
            "grid_auto_rows": null,
            "grid_column": null,
            "grid_gap": null,
            "grid_row": null,
            "grid_template_areas": null,
            "grid_template_columns": null,
            "grid_template_rows": null,
            "height": null,
            "justify_content": null,
            "justify_items": null,
            "left": null,
            "margin": null,
            "max_height": null,
            "max_width": null,
            "min_height": null,
            "min_width": null,
            "object_fit": null,
            "object_position": null,
            "order": null,
            "overflow": null,
            "overflow_x": null,
            "overflow_y": null,
            "padding": null,
            "right": null,
            "top": null,
            "visibility": null,
            "width": null
          }
        },
        "138715f94aeb468a888eec48bdec66ed": {
          "model_module": "@jupyter-widgets/controls",
          "model_module_version": "1.5.0",
          "model_name": "FloatProgressModel",
          "state": {
            "_dom_classes": [],
            "_model_module": "@jupyter-widgets/controls",
            "_model_module_version": "1.5.0",
            "_model_name": "FloatProgressModel",
            "_view_count": null,
            "_view_module": "@jupyter-widgets/controls",
            "_view_module_version": "1.5.0",
            "_view_name": "ProgressView",
            "bar_style": "success",
            "description": "",
            "description_tooltip": null,
            "layout": "IPY_MODEL_9db64d54b9dd4528be0028f8f7610f89",
            "max": 66,
            "min": 0,
            "orientation": "horizontal",
            "style": "IPY_MODEL_e1b22c9626a941ca8359806aad7d8895",
            "value": 66
          }
        },
        "14191700b5e14b68b20f31a8c12c77f6": {
          "model_module": "@jupyter-widgets/controls",
          "model_module_version": "1.5.0",
          "model_name": "ProgressStyleModel",
          "state": {
            "_model_module": "@jupyter-widgets/controls",
            "_model_module_version": "1.5.0",
            "_model_name": "ProgressStyleModel",
            "_view_count": null,
            "_view_module": "@jupyter-widgets/base",
            "_view_module_version": "1.2.0",
            "_view_name": "StyleView",
            "bar_color": null,
            "description_width": ""
          }
        },
        "1685b970bf1f499fb771bb1938298940": {
          "model_module": "@jupyter-widgets/controls",
          "model_module_version": "1.5.0",
          "model_name": "HTMLModel",
          "state": {
            "_dom_classes": [],
            "_model_module": "@jupyter-widgets/controls",
            "_model_module_version": "1.5.0",
            "_model_name": "HTMLModel",
            "_view_count": null,
            "_view_module": "@jupyter-widgets/controls",
            "_view_module_version": "1.5.0",
            "_view_name": "HTMLView",
            "description": "",
            "description_tooltip": null,
            "layout": "IPY_MODEL_077f26f6b62442c999dc4efa8f65360a",
            "placeholder": "​",
            "style": "IPY_MODEL_1835d6de7b11423099ba858513d92ba5",
            "value": "9hpo26co:   0%"
          }
        },
        "16d9a1662d284ca39bbb0c76acead68a": {
          "model_module": "@jupyter-widgets/controls",
          "model_module_version": "1.5.0",
          "model_name": "DescriptionStyleModel",
          "state": {
            "_model_module": "@jupyter-widgets/controls",
            "_model_module_version": "1.5.0",
            "_model_name": "DescriptionStyleModel",
            "_view_count": null,
            "_view_module": "@jupyter-widgets/base",
            "_view_module_version": "1.2.0",
            "_view_name": "StyleView",
            "description_width": ""
          }
        },
        "1835d6de7b11423099ba858513d92ba5": {
          "model_module": "@jupyter-widgets/controls",
          "model_module_version": "1.5.0",
          "model_name": "DescriptionStyleModel",
          "state": {
            "_model_module": "@jupyter-widgets/controls",
            "_model_module_version": "1.5.0",
            "_model_name": "DescriptionStyleModel",
            "_view_count": null,
            "_view_module": "@jupyter-widgets/base",
            "_view_module_version": "1.2.0",
            "_view_name": "StyleView",
            "description_width": ""
          }
        },
        "185ff0e333ee4a2eac0c354360fc3dcb": {
          "model_module": "@jupyter-widgets/base",
          "model_module_version": "1.2.0",
          "model_name": "LayoutModel",
          "state": {
            "_model_module": "@jupyter-widgets/base",
            "_model_module_version": "1.2.0",
            "_model_name": "LayoutModel",
            "_view_count": null,
            "_view_module": "@jupyter-widgets/base",
            "_view_module_version": "1.2.0",
            "_view_name": "LayoutView",
            "align_content": null,
            "align_items": null,
            "align_self": null,
            "border": null,
            "bottom": null,
            "display": null,
            "flex": null,
            "flex_flow": null,
            "grid_area": null,
            "grid_auto_columns": null,
            "grid_auto_flow": null,
            "grid_auto_rows": null,
            "grid_column": null,
            "grid_gap": null,
            "grid_row": null,
            "grid_template_areas": null,
            "grid_template_columns": null,
            "grid_template_rows": null,
            "height": null,
            "justify_content": null,
            "justify_items": null,
            "left": null,
            "margin": null,
            "max_height": null,
            "max_width": null,
            "min_height": null,
            "min_width": null,
            "object_fit": null,
            "object_position": null,
            "order": null,
            "overflow": null,
            "overflow_x": null,
            "overflow_y": null,
            "padding": null,
            "right": null,
            "top": null,
            "visibility": null,
            "width": null
          }
        },
        "1c44ebf86f03417a95af014c52cface3": {
          "model_module": "@jupyter-widgets/controls",
          "model_module_version": "1.5.0",
          "model_name": "DescriptionStyleModel",
          "state": {
            "_model_module": "@jupyter-widgets/controls",
            "_model_module_version": "1.5.0",
            "_model_name": "DescriptionStyleModel",
            "_view_count": null,
            "_view_module": "@jupyter-widgets/base",
            "_view_module_version": "1.2.0",
            "_view_name": "StyleView",
            "description_width": ""
          }
        },
        "1cff6d4878b14cc283cc04a4be7a02bf": {
          "model_module": "@jupyter-widgets/controls",
          "model_module_version": "1.5.0",
          "model_name": "HBoxModel",
          "state": {
            "_dom_classes": [],
            "_model_module": "@jupyter-widgets/controls",
            "_model_module_version": "1.5.0",
            "_model_name": "HBoxModel",
            "_view_count": null,
            "_view_module": "@jupyter-widgets/controls",
            "_view_module_version": "1.5.0",
            "_view_name": "HBoxView",
            "box_style": "",
            "children": [
              "IPY_MODEL_2ef539d6855747c890453612b262995d",
              "IPY_MODEL_5b2b70b9fd9c437c8c90364bea6b37d8",
              "IPY_MODEL_2166489276354c72a6aaf35efe263c0d"
            ],
            "layout": "IPY_MODEL_d75f6392b019449689281680b025b766"
          }
        },
        "1dc8c46682494413920cb820ed529ac6": {
          "model_module": "@jupyter-widgets/base",
          "model_module_version": "1.2.0",
          "model_name": "LayoutModel",
          "state": {
            "_model_module": "@jupyter-widgets/base",
            "_model_module_version": "1.2.0",
            "_model_name": "LayoutModel",
            "_view_count": null,
            "_view_module": "@jupyter-widgets/base",
            "_view_module_version": "1.2.0",
            "_view_name": "LayoutView",
            "align_content": null,
            "align_items": null,
            "align_self": null,
            "border": null,
            "bottom": null,
            "display": null,
            "flex": null,
            "flex_flow": null,
            "grid_area": null,
            "grid_auto_columns": null,
            "grid_auto_flow": null,
            "grid_auto_rows": null,
            "grid_column": null,
            "grid_gap": null,
            "grid_row": null,
            "grid_template_areas": null,
            "grid_template_columns": null,
            "grid_template_rows": null,
            "height": null,
            "justify_content": null,
            "justify_items": null,
            "left": null,
            "margin": null,
            "max_height": null,
            "max_width": null,
            "min_height": null,
            "min_width": null,
            "object_fit": null,
            "object_position": null,
            "order": null,
            "overflow": null,
            "overflow_x": null,
            "overflow_y": null,
            "padding": null,
            "right": null,
            "top": null,
            "visibility": null,
            "width": null
          }
        },
        "1e2ba0766ccb4c0e92a7b08efab58086": {
          "model_module": "@jupyter-widgets/base",
          "model_module_version": "1.2.0",
          "model_name": "LayoutModel",
          "state": {
            "_model_module": "@jupyter-widgets/base",
            "_model_module_version": "1.2.0",
            "_model_name": "LayoutModel",
            "_view_count": null,
            "_view_module": "@jupyter-widgets/base",
            "_view_module_version": "1.2.0",
            "_view_name": "LayoutView",
            "align_content": null,
            "align_items": null,
            "align_self": null,
            "border": null,
            "bottom": null,
            "display": null,
            "flex": null,
            "flex_flow": null,
            "grid_area": null,
            "grid_auto_columns": null,
            "grid_auto_flow": null,
            "grid_auto_rows": null,
            "grid_column": null,
            "grid_gap": null,
            "grid_row": null,
            "grid_template_areas": null,
            "grid_template_columns": null,
            "grid_template_rows": null,
            "height": null,
            "justify_content": null,
            "justify_items": null,
            "left": null,
            "margin": null,
            "max_height": null,
            "max_width": null,
            "min_height": null,
            "min_width": null,
            "object_fit": null,
            "object_position": null,
            "order": null,
            "overflow": null,
            "overflow_x": null,
            "overflow_y": null,
            "padding": null,
            "right": null,
            "top": null,
            "visibility": null,
            "width": null
          }
        },
        "20717391a9434f87af31dea34ac4234f": {
          "model_module": "@jupyter-widgets/base",
          "model_module_version": "1.2.0",
          "model_name": "LayoutModel",
          "state": {
            "_model_module": "@jupyter-widgets/base",
            "_model_module_version": "1.2.0",
            "_model_name": "LayoutModel",
            "_view_count": null,
            "_view_module": "@jupyter-widgets/base",
            "_view_module_version": "1.2.0",
            "_view_name": "LayoutView",
            "align_content": null,
            "align_items": null,
            "align_self": null,
            "border": null,
            "bottom": null,
            "display": null,
            "flex": null,
            "flex_flow": null,
            "grid_area": null,
            "grid_auto_columns": null,
            "grid_auto_flow": null,
            "grid_auto_rows": null,
            "grid_column": null,
            "grid_gap": null,
            "grid_row": null,
            "grid_template_areas": null,
            "grid_template_columns": null,
            "grid_template_rows": null,
            "height": null,
            "justify_content": null,
            "justify_items": null,
            "left": null,
            "margin": null,
            "max_height": null,
            "max_width": null,
            "min_height": null,
            "min_width": null,
            "object_fit": null,
            "object_position": null,
            "order": null,
            "overflow": null,
            "overflow_x": null,
            "overflow_y": null,
            "padding": null,
            "right": null,
            "top": null,
            "visibility": null,
            "width": null
          }
        },
        "2166489276354c72a6aaf35efe263c0d": {
          "model_module": "@jupyter-widgets/controls",
          "model_module_version": "1.5.0",
          "model_name": "HTMLModel",
          "state": {
            "_dom_classes": [],
            "_model_module": "@jupyter-widgets/controls",
            "_model_module_version": "1.5.0",
            "_model_name": "HTMLModel",
            "_view_count": null,
            "_view_module": "@jupyter-widgets/controls",
            "_view_module_version": "1.5.0",
            "_view_name": "HTMLView",
            "description": "",
            "description_tooltip": null,
            "layout": "IPY_MODEL_9945b02fedfa429d8ebd2998f4eaa8e5",
            "placeholder": "​",
            "style": "IPY_MODEL_2585d3ac956f4085a9640833a32a7b9b",
            "value": " 0/1 [00:00&lt;?, ?it/s]"
          }
        },
        "21c74e17a00a4c95a929e310bd1197a5": {
          "model_module": "@jupyter-widgets/controls",
          "model_module_version": "1.5.0",
          "model_name": "FloatProgressModel",
          "state": {
            "_dom_classes": [],
            "_model_module": "@jupyter-widgets/controls",
            "_model_module_version": "1.5.0",
            "_model_name": "FloatProgressModel",
            "_view_count": null,
            "_view_module": "@jupyter-widgets/controls",
            "_view_module_version": "1.5.0",
            "_view_name": "ProgressView",
            "bar_style": "",
            "description": "",
            "description_tooltip": null,
            "layout": "IPY_MODEL_1352f2fdf2db44f99814c31da52700c7",
            "max": 1,
            "min": 0,
            "orientation": "horizontal",
            "style": "IPY_MODEL_9eaaf89b57d94865ae7cf4c1aed40a48",
            "value": 1
          }
        },
        "2585d3ac956f4085a9640833a32a7b9b": {
          "model_module": "@jupyter-widgets/controls",
          "model_module_version": "1.5.0",
          "model_name": "DescriptionStyleModel",
          "state": {
            "_model_module": "@jupyter-widgets/controls",
            "_model_module_version": "1.5.0",
            "_model_name": "DescriptionStyleModel",
            "_view_count": null,
            "_view_module": "@jupyter-widgets/base",
            "_view_module_version": "1.2.0",
            "_view_name": "StyleView",
            "description_width": ""
          }
        },
        "27beeef7494644799c2a70fd27271671": {
          "model_module": "@jupyter-widgets/controls",
          "model_module_version": "1.5.0",
          "model_name": "HTMLModel",
          "state": {
            "_dom_classes": [],
            "_model_module": "@jupyter-widgets/controls",
            "_model_module_version": "1.5.0",
            "_model_name": "HTMLModel",
            "_view_count": null,
            "_view_module": "@jupyter-widgets/controls",
            "_view_module_version": "1.5.0",
            "_view_name": "HTMLView",
            "description": "",
            "description_tooltip": null,
            "layout": "IPY_MODEL_dd0c2b9773d94af190bbaca24d18a1b5",
            "placeholder": "​",
            "style": "IPY_MODEL_a9ae112f359946c695537aca5f3a775f",
            "value": "citpbzle:   0%"
          }
        },
        "2920d0f89ff04ce9ad88e374e32ea7eb": {
          "model_module": "@jupyter-widgets/base",
          "model_module_version": "1.2.0",
          "model_name": "LayoutModel",
          "state": {
            "_model_module": "@jupyter-widgets/base",
            "_model_module_version": "1.2.0",
            "_model_name": "LayoutModel",
            "_view_count": null,
            "_view_module": "@jupyter-widgets/base",
            "_view_module_version": "1.2.0",
            "_view_name": "LayoutView",
            "align_content": null,
            "align_items": null,
            "align_self": null,
            "border": null,
            "bottom": null,
            "display": null,
            "flex": null,
            "flex_flow": null,
            "grid_area": null,
            "grid_auto_columns": null,
            "grid_auto_flow": null,
            "grid_auto_rows": null,
            "grid_column": null,
            "grid_gap": null,
            "grid_row": null,
            "grid_template_areas": null,
            "grid_template_columns": null,
            "grid_template_rows": null,
            "height": null,
            "justify_content": null,
            "justify_items": null,
            "left": null,
            "margin": null,
            "max_height": null,
            "max_width": null,
            "min_height": null,
            "min_width": null,
            "object_fit": null,
            "object_position": null,
            "order": null,
            "overflow": null,
            "overflow_x": null,
            "overflow_y": null,
            "padding": null,
            "right": null,
            "top": null,
            "visibility": null,
            "width": null
          }
        },
        "295031f4924f44b4a9bd2d25819cce74": {
          "model_module": "@jupyter-widgets/base",
          "model_module_version": "1.2.0",
          "model_name": "LayoutModel",
          "state": {
            "_model_module": "@jupyter-widgets/base",
            "_model_module_version": "1.2.0",
            "_model_name": "LayoutModel",
            "_view_count": null,
            "_view_module": "@jupyter-widgets/base",
            "_view_module_version": "1.2.0",
            "_view_name": "LayoutView",
            "align_content": null,
            "align_items": null,
            "align_self": null,
            "border": null,
            "bottom": null,
            "display": null,
            "flex": null,
            "flex_flow": null,
            "grid_area": null,
            "grid_auto_columns": null,
            "grid_auto_flow": null,
            "grid_auto_rows": null,
            "grid_column": null,
            "grid_gap": null,
            "grid_row": null,
            "grid_template_areas": null,
            "grid_template_columns": null,
            "grid_template_rows": null,
            "height": null,
            "justify_content": null,
            "justify_items": null,
            "left": null,
            "margin": null,
            "max_height": null,
            "max_width": null,
            "min_height": null,
            "min_width": null,
            "object_fit": null,
            "object_position": null,
            "order": null,
            "overflow": null,
            "overflow_x": null,
            "overflow_y": null,
            "padding": null,
            "right": null,
            "top": null,
            "visibility": "hidden",
            "width": null
          }
        },
        "2b39e449550f472d9bc08d2c9f1ab66e": {
          "model_module": "@jupyter-widgets/base",
          "model_module_version": "1.2.0",
          "model_name": "LayoutModel",
          "state": {
            "_model_module": "@jupyter-widgets/base",
            "_model_module_version": "1.2.0",
            "_model_name": "LayoutModel",
            "_view_count": null,
            "_view_module": "@jupyter-widgets/base",
            "_view_module_version": "1.2.0",
            "_view_name": "LayoutView",
            "align_content": null,
            "align_items": null,
            "align_self": null,
            "border": null,
            "bottom": null,
            "display": null,
            "flex": null,
            "flex_flow": null,
            "grid_area": null,
            "grid_auto_columns": null,
            "grid_auto_flow": null,
            "grid_auto_rows": null,
            "grid_column": null,
            "grid_gap": null,
            "grid_row": null,
            "grid_template_areas": null,
            "grid_template_columns": null,
            "grid_template_rows": null,
            "height": null,
            "justify_content": null,
            "justify_items": null,
            "left": null,
            "margin": null,
            "max_height": null,
            "max_width": null,
            "min_height": null,
            "min_width": null,
            "object_fit": null,
            "object_position": null,
            "order": null,
            "overflow": null,
            "overflow_x": null,
            "overflow_y": null,
            "padding": null,
            "right": null,
            "top": null,
            "visibility": null,
            "width": null
          }
        },
        "2d4c461e2dd44619aae596b5ef45a94b": {
          "model_module": "@jupyter-widgets/controls",
          "model_module_version": "1.5.0",
          "model_name": "DescriptionStyleModel",
          "state": {
            "_model_module": "@jupyter-widgets/controls",
            "_model_module_version": "1.5.0",
            "_model_name": "DescriptionStyleModel",
            "_view_count": null,
            "_view_module": "@jupyter-widgets/base",
            "_view_module_version": "1.2.0",
            "_view_name": "StyleView",
            "description_width": ""
          }
        },
        "2e67030acea14caea3c09257d59b1d10": {
          "model_module": "@jupyter-widgets/controls",
          "model_module_version": "1.5.0",
          "model_name": "DescriptionStyleModel",
          "state": {
            "_model_module": "@jupyter-widgets/controls",
            "_model_module_version": "1.5.0",
            "_model_name": "DescriptionStyleModel",
            "_view_count": null,
            "_view_module": "@jupyter-widgets/base",
            "_view_module_version": "1.2.0",
            "_view_name": "StyleView",
            "description_width": ""
          }
        },
        "2ef539d6855747c890453612b262995d": {
          "model_module": "@jupyter-widgets/controls",
          "model_module_version": "1.5.0",
          "model_name": "HTMLModel",
          "state": {
            "_dom_classes": [],
            "_model_module": "@jupyter-widgets/controls",
            "_model_module_version": "1.5.0",
            "_model_name": "HTMLModel",
            "_view_count": null,
            "_view_module": "@jupyter-widgets/controls",
            "_view_module_version": "1.5.0",
            "_view_name": "HTMLView",
            "description": "",
            "description_tooltip": null,
            "layout": "IPY_MODEL_b651d2996da344f6b3dce47610bff00f",
            "placeholder": "​",
            "style": "IPY_MODEL_b5f8a99afd864a68975ca46ac3e0f04e",
            "value": "q0z9x202:   0%"
          }
        },
        "2f5e0070e5c0441499a505754251c11a": {
          "model_module": "@jupyter-widgets/controls",
          "model_module_version": "1.5.0",
          "model_name": "HBoxModel",
          "state": {
            "_dom_classes": [],
            "_model_module": "@jupyter-widgets/controls",
            "_model_module_version": "1.5.0",
            "_model_name": "HBoxModel",
            "_view_count": null,
            "_view_module": "@jupyter-widgets/controls",
            "_view_module_version": "1.5.0",
            "_view_name": "HBoxView",
            "box_style": "",
            "children": [
              "IPY_MODEL_4772437c083f4e1eb1b5e46ca2bd6fdf",
              "IPY_MODEL_fc61bff4164145c5be887063cbd5e8a6",
              "IPY_MODEL_ddd6bdf4448d48a6a44180ff09d4f050"
            ],
            "layout": "IPY_MODEL_e4ce77294e11487cb4aff1af62992052"
          }
        },
        "30b979499efb4538af6d2ebcaa40d6a1": {
          "model_module": "@jupyter-widgets/controls",
          "model_module_version": "1.5.0",
          "model_name": "HBoxModel",
          "state": {
            "_dom_classes": [],
            "_model_module": "@jupyter-widgets/controls",
            "_model_module_version": "1.5.0",
            "_model_name": "HBoxModel",
            "_view_count": null,
            "_view_module": "@jupyter-widgets/controls",
            "_view_module_version": "1.5.0",
            "_view_name": "HBoxView",
            "box_style": "",
            "children": [
              "IPY_MODEL_cd00ccd8c9774fd987277c8a01396c6f",
              "IPY_MODEL_715f0c9f241b44f49fc275902a1dce0d",
              "IPY_MODEL_91c92132b360495da3b648815d8c2db0"
            ],
            "layout": "IPY_MODEL_3ffb5296dae44fae87a2b57c225ba110"
          }
        },
        "313b4efeea2a493d95003841d44a3cc1": {
          "model_module": "@jupyter-widgets/base",
          "model_module_version": "1.2.0",
          "model_name": "LayoutModel",
          "state": {
            "_model_module": "@jupyter-widgets/base",
            "_model_module_version": "1.2.0",
            "_model_name": "LayoutModel",
            "_view_count": null,
            "_view_module": "@jupyter-widgets/base",
            "_view_module_version": "1.2.0",
            "_view_name": "LayoutView",
            "align_content": null,
            "align_items": null,
            "align_self": null,
            "border": null,
            "bottom": null,
            "display": null,
            "flex": null,
            "flex_flow": null,
            "grid_area": null,
            "grid_auto_columns": null,
            "grid_auto_flow": null,
            "grid_auto_rows": null,
            "grid_column": null,
            "grid_gap": null,
            "grid_row": null,
            "grid_template_areas": null,
            "grid_template_columns": null,
            "grid_template_rows": null,
            "height": null,
            "justify_content": null,
            "justify_items": null,
            "left": null,
            "margin": null,
            "max_height": null,
            "max_width": null,
            "min_height": null,
            "min_width": null,
            "object_fit": null,
            "object_position": null,
            "order": null,
            "overflow": null,
            "overflow_x": null,
            "overflow_y": null,
            "padding": null,
            "right": null,
            "top": null,
            "visibility": null,
            "width": null
          }
        },
        "314c2d9087834f56bce2dc018407c6bd": {
          "model_module": "@jupyter-widgets/controls",
          "model_module_version": "1.5.0",
          "model_name": "HTMLModel",
          "state": {
            "_dom_classes": [],
            "_model_module": "@jupyter-widgets/controls",
            "_model_module_version": "1.5.0",
            "_model_name": "HTMLModel",
            "_view_count": null,
            "_view_module": "@jupyter-widgets/controls",
            "_view_module_version": "1.5.0",
            "_view_name": "HTMLView",
            "description": "",
            "description_tooltip": null,
            "layout": "IPY_MODEL_db32ddb19b7246e989704a3471573141",
            "placeholder": "​",
            "style": "IPY_MODEL_58eaf3056986462aaf4ecf7ad24f4360",
            "value": "f2yzia1o: 100%"
          }
        },
        "36319f6ddbd9423e85b88e84ebd216c4": {
          "model_module": "@jupyter-widgets/controls",
          "model_module_version": "1.5.0",
          "model_name": "FloatProgressModel",
          "state": {
            "_dom_classes": [],
            "_model_module": "@jupyter-widgets/controls",
            "_model_module_version": "1.5.0",
            "_model_name": "FloatProgressModel",
            "_view_count": null,
            "_view_module": "@jupyter-widgets/controls",
            "_view_module_version": "1.5.0",
            "_view_name": "ProgressView",
            "bar_style": "",
            "description": "",
            "description_tooltip": null,
            "layout": "IPY_MODEL_a2b2203598b64e558cd8e711dd50b531",
            "max": 1,
            "min": 0,
            "orientation": "horizontal",
            "style": "IPY_MODEL_6dff05eadc144315b4bef54f144c8874",
            "value": 1
          }
        },
        "36e4c8270d614c70b4bdb70af26ba4c2": {
          "model_module": "@jupyter-widgets/controls",
          "model_module_version": "1.5.0",
          "model_name": "DescriptionStyleModel",
          "state": {
            "_model_module": "@jupyter-widgets/controls",
            "_model_module_version": "1.5.0",
            "_model_name": "DescriptionStyleModel",
            "_view_count": null,
            "_view_module": "@jupyter-widgets/base",
            "_view_module_version": "1.2.0",
            "_view_name": "StyleView",
            "description_width": ""
          }
        },
        "37b6195b7de84def89b215f486b47d06": {
          "model_module": "@jupyter-widgets/controls",
          "model_module_version": "1.5.0",
          "model_name": "ProgressStyleModel",
          "state": {
            "_model_module": "@jupyter-widgets/controls",
            "_model_module_version": "1.5.0",
            "_model_name": "ProgressStyleModel",
            "_view_count": null,
            "_view_module": "@jupyter-widgets/base",
            "_view_module_version": "1.2.0",
            "_view_name": "StyleView",
            "bar_color": null,
            "description_width": ""
          }
        },
        "3aa5152df89a42de973e8bd0c2d43ca6": {
          "model_module": "@jupyter-widgets/base",
          "model_module_version": "1.2.0",
          "model_name": "LayoutModel",
          "state": {
            "_model_module": "@jupyter-widgets/base",
            "_model_module_version": "1.2.0",
            "_model_name": "LayoutModel",
            "_view_count": null,
            "_view_module": "@jupyter-widgets/base",
            "_view_module_version": "1.2.0",
            "_view_name": "LayoutView",
            "align_content": null,
            "align_items": null,
            "align_self": null,
            "border": null,
            "bottom": null,
            "display": null,
            "flex": null,
            "flex_flow": null,
            "grid_area": null,
            "grid_auto_columns": null,
            "grid_auto_flow": null,
            "grid_auto_rows": null,
            "grid_column": null,
            "grid_gap": null,
            "grid_row": null,
            "grid_template_areas": null,
            "grid_template_columns": null,
            "grid_template_rows": null,
            "height": null,
            "justify_content": null,
            "justify_items": null,
            "left": null,
            "margin": null,
            "max_height": null,
            "max_width": null,
            "min_height": null,
            "min_width": null,
            "object_fit": null,
            "object_position": null,
            "order": null,
            "overflow": null,
            "overflow_x": null,
            "overflow_y": null,
            "padding": null,
            "right": null,
            "top": null,
            "visibility": null,
            "width": null
          }
        },
        "3c3118d0acf24ae9b7e89491c32aeaee": {
          "model_module": "@jupyter-widgets/controls",
          "model_module_version": "1.5.0",
          "model_name": "HTMLModel",
          "state": {
            "_dom_classes": [],
            "_model_module": "@jupyter-widgets/controls",
            "_model_module_version": "1.5.0",
            "_model_name": "HTMLModel",
            "_view_count": null,
            "_view_module": "@jupyter-widgets/controls",
            "_view_module_version": "1.5.0",
            "_view_name": "HTMLView",
            "description": "",
            "description_tooltip": null,
            "layout": "IPY_MODEL_3aa5152df89a42de973e8bd0c2d43ca6",
            "placeholder": "​",
            "style": "IPY_MODEL_90f5ee46287249eb9838b13bb8ae3d74",
            "value": " 0/1 [00:00&lt;?, ?it/s]"
          }
        },
        "3ffb5296dae44fae87a2b57c225ba110": {
          "model_module": "@jupyter-widgets/base",
          "model_module_version": "1.2.0",
          "model_name": "LayoutModel",
          "state": {
            "_model_module": "@jupyter-widgets/base",
            "_model_module_version": "1.2.0",
            "_model_name": "LayoutModel",
            "_view_count": null,
            "_view_module": "@jupyter-widgets/base",
            "_view_module_version": "1.2.0",
            "_view_name": "LayoutView",
            "align_content": null,
            "align_items": null,
            "align_self": null,
            "border": null,
            "bottom": null,
            "display": null,
            "flex": null,
            "flex_flow": null,
            "grid_area": null,
            "grid_auto_columns": null,
            "grid_auto_flow": null,
            "grid_auto_rows": null,
            "grid_column": null,
            "grid_gap": null,
            "grid_row": null,
            "grid_template_areas": null,
            "grid_template_columns": null,
            "grid_template_rows": null,
            "height": null,
            "justify_content": null,
            "justify_items": null,
            "left": null,
            "margin": null,
            "max_height": null,
            "max_width": null,
            "min_height": null,
            "min_width": null,
            "object_fit": null,
            "object_position": null,
            "order": null,
            "overflow": null,
            "overflow_x": null,
            "overflow_y": null,
            "padding": null,
            "right": null,
            "top": null,
            "visibility": "hidden",
            "width": null
          }
        },
        "40736244c21a4274a59f7b7ebe6a1c1c": {
          "model_module": "@jupyter-widgets/controls",
          "model_module_version": "1.5.0",
          "model_name": "DescriptionStyleModel",
          "state": {
            "_model_module": "@jupyter-widgets/controls",
            "_model_module_version": "1.5.0",
            "_model_name": "DescriptionStyleModel",
            "_view_count": null,
            "_view_module": "@jupyter-widgets/base",
            "_view_module_version": "1.2.0",
            "_view_name": "StyleView",
            "description_width": ""
          }
        },
        "409f04ef723d4c06b966cbac33497652": {
          "model_module": "@jupyter-widgets/base",
          "model_module_version": "1.2.0",
          "model_name": "LayoutModel",
          "state": {
            "_model_module": "@jupyter-widgets/base",
            "_model_module_version": "1.2.0",
            "_model_name": "LayoutModel",
            "_view_count": null,
            "_view_module": "@jupyter-widgets/base",
            "_view_module_version": "1.2.0",
            "_view_name": "LayoutView",
            "align_content": null,
            "align_items": null,
            "align_self": null,
            "border": null,
            "bottom": null,
            "display": null,
            "flex": null,
            "flex_flow": null,
            "grid_area": null,
            "grid_auto_columns": null,
            "grid_auto_flow": null,
            "grid_auto_rows": null,
            "grid_column": null,
            "grid_gap": null,
            "grid_row": null,
            "grid_template_areas": null,
            "grid_template_columns": null,
            "grid_template_rows": null,
            "height": null,
            "justify_content": null,
            "justify_items": null,
            "left": null,
            "margin": null,
            "max_height": null,
            "max_width": null,
            "min_height": null,
            "min_width": null,
            "object_fit": null,
            "object_position": null,
            "order": null,
            "overflow": null,
            "overflow_x": null,
            "overflow_y": null,
            "padding": null,
            "right": null,
            "top": null,
            "visibility": "hidden",
            "width": null
          }
        },
        "40f09f9ed5f048439be1d0381710aaeb": {
          "model_module": "@jupyter-widgets/controls",
          "model_module_version": "1.5.0",
          "model_name": "DescriptionStyleModel",
          "state": {
            "_model_module": "@jupyter-widgets/controls",
            "_model_module_version": "1.5.0",
            "_model_name": "DescriptionStyleModel",
            "_view_count": null,
            "_view_module": "@jupyter-widgets/base",
            "_view_module_version": "1.2.0",
            "_view_name": "StyleView",
            "description_width": ""
          }
        },
        "41180a1c317a4e6a89f824d3c3ddff1c": {
          "model_module": "@jupyter-widgets/base",
          "model_module_version": "1.2.0",
          "model_name": "LayoutModel",
          "state": {
            "_model_module": "@jupyter-widgets/base",
            "_model_module_version": "1.2.0",
            "_model_name": "LayoutModel",
            "_view_count": null,
            "_view_module": "@jupyter-widgets/base",
            "_view_module_version": "1.2.0",
            "_view_name": "LayoutView",
            "align_content": null,
            "align_items": null,
            "align_self": null,
            "border": null,
            "bottom": null,
            "display": null,
            "flex": null,
            "flex_flow": null,
            "grid_area": null,
            "grid_auto_columns": null,
            "grid_auto_flow": null,
            "grid_auto_rows": null,
            "grid_column": null,
            "grid_gap": null,
            "grid_row": null,
            "grid_template_areas": null,
            "grid_template_columns": null,
            "grid_template_rows": null,
            "height": null,
            "justify_content": null,
            "justify_items": null,
            "left": null,
            "margin": null,
            "max_height": null,
            "max_width": null,
            "min_height": null,
            "min_width": null,
            "object_fit": null,
            "object_position": null,
            "order": null,
            "overflow": null,
            "overflow_x": null,
            "overflow_y": null,
            "padding": null,
            "right": null,
            "top": null,
            "visibility": null,
            "width": null
          }
        },
        "412c756d2e8a43f1a313de16a6d29ad3": {
          "model_module": "@jupyter-widgets/controls",
          "model_module_version": "1.5.0",
          "model_name": "DescriptionStyleModel",
          "state": {
            "_model_module": "@jupyter-widgets/controls",
            "_model_module_version": "1.5.0",
            "_model_name": "DescriptionStyleModel",
            "_view_count": null,
            "_view_module": "@jupyter-widgets/base",
            "_view_module_version": "1.2.0",
            "_view_name": "StyleView",
            "description_width": ""
          }
        },
        "4257c005e9ba4f5e8ccd9640184e70c1": {
          "model_module": "@jupyter-widgets/base",
          "model_module_version": "1.2.0",
          "model_name": "LayoutModel",
          "state": {
            "_model_module": "@jupyter-widgets/base",
            "_model_module_version": "1.2.0",
            "_model_name": "LayoutModel",
            "_view_count": null,
            "_view_module": "@jupyter-widgets/base",
            "_view_module_version": "1.2.0",
            "_view_name": "LayoutView",
            "align_content": null,
            "align_items": null,
            "align_self": null,
            "border": null,
            "bottom": null,
            "display": null,
            "flex": null,
            "flex_flow": null,
            "grid_area": null,
            "grid_auto_columns": null,
            "grid_auto_flow": null,
            "grid_auto_rows": null,
            "grid_column": null,
            "grid_gap": null,
            "grid_row": null,
            "grid_template_areas": null,
            "grid_template_columns": null,
            "grid_template_rows": null,
            "height": null,
            "justify_content": null,
            "justify_items": null,
            "left": null,
            "margin": null,
            "max_height": null,
            "max_width": null,
            "min_height": null,
            "min_width": null,
            "object_fit": null,
            "object_position": null,
            "order": null,
            "overflow": null,
            "overflow_x": null,
            "overflow_y": null,
            "padding": null,
            "right": null,
            "top": null,
            "visibility": null,
            "width": null
          }
        },
        "4273860570fb49659848c35456a7c7cd": {
          "model_module": "@jupyter-widgets/base",
          "model_module_version": "1.2.0",
          "model_name": "LayoutModel",
          "state": {
            "_model_module": "@jupyter-widgets/base",
            "_model_module_version": "1.2.0",
            "_model_name": "LayoutModel",
            "_view_count": null,
            "_view_module": "@jupyter-widgets/base",
            "_view_module_version": "1.2.0",
            "_view_name": "LayoutView",
            "align_content": null,
            "align_items": null,
            "align_self": null,
            "border": null,
            "bottom": null,
            "display": null,
            "flex": null,
            "flex_flow": null,
            "grid_area": null,
            "grid_auto_columns": null,
            "grid_auto_flow": null,
            "grid_auto_rows": null,
            "grid_column": null,
            "grid_gap": null,
            "grid_row": null,
            "grid_template_areas": null,
            "grid_template_columns": null,
            "grid_template_rows": null,
            "height": null,
            "justify_content": null,
            "justify_items": null,
            "left": null,
            "margin": null,
            "max_height": null,
            "max_width": null,
            "min_height": null,
            "min_width": null,
            "object_fit": null,
            "object_position": null,
            "order": null,
            "overflow": null,
            "overflow_x": null,
            "overflow_y": null,
            "padding": null,
            "right": null,
            "top": null,
            "visibility": null,
            "width": null
          }
        },
        "44027fe812d34c2aa3676985dc11a9ed": {
          "model_module": "@jupyter-widgets/controls",
          "model_module_version": "1.5.0",
          "model_name": "DescriptionStyleModel",
          "state": {
            "_model_module": "@jupyter-widgets/controls",
            "_model_module_version": "1.5.0",
            "_model_name": "DescriptionStyleModel",
            "_view_count": null,
            "_view_module": "@jupyter-widgets/base",
            "_view_module_version": "1.2.0",
            "_view_name": "StyleView",
            "description_width": ""
          }
        },
        "442f76c0447d4ea88e6d71591164a224": {
          "model_module": "@jupyter-widgets/base",
          "model_module_version": "1.2.0",
          "model_name": "LayoutModel",
          "state": {
            "_model_module": "@jupyter-widgets/base",
            "_model_module_version": "1.2.0",
            "_model_name": "LayoutModel",
            "_view_count": null,
            "_view_module": "@jupyter-widgets/base",
            "_view_module_version": "1.2.0",
            "_view_name": "LayoutView",
            "align_content": null,
            "align_items": null,
            "align_self": null,
            "border": null,
            "bottom": null,
            "display": null,
            "flex": null,
            "flex_flow": null,
            "grid_area": null,
            "grid_auto_columns": null,
            "grid_auto_flow": null,
            "grid_auto_rows": null,
            "grid_column": null,
            "grid_gap": null,
            "grid_row": null,
            "grid_template_areas": null,
            "grid_template_columns": null,
            "grid_template_rows": null,
            "height": null,
            "justify_content": null,
            "justify_items": null,
            "left": null,
            "margin": null,
            "max_height": null,
            "max_width": null,
            "min_height": null,
            "min_width": null,
            "object_fit": null,
            "object_position": null,
            "order": null,
            "overflow": null,
            "overflow_x": null,
            "overflow_y": null,
            "padding": null,
            "right": null,
            "top": null,
            "visibility": null,
            "width": "20px"
          }
        },
        "4477d53b5d974f62a855133a54afaaec": {
          "model_module": "@jupyter-widgets/controls",
          "model_module_version": "1.5.0",
          "model_name": "HBoxModel",
          "state": {
            "_dom_classes": [],
            "_model_module": "@jupyter-widgets/controls",
            "_model_module_version": "1.5.0",
            "_model_name": "HBoxModel",
            "_view_count": null,
            "_view_module": "@jupyter-widgets/controls",
            "_view_module_version": "1.5.0",
            "_view_name": "HBoxView",
            "box_style": "",
            "children": [
              "IPY_MODEL_e8270cce4f18479f85ddf896ce2ed6b3",
              "IPY_MODEL_5ce039faa4164baa935914ce5c02ec22",
              "IPY_MODEL_9857b5fbde0b454dbb37d96fc2cd6fa4"
            ],
            "layout": "IPY_MODEL_f9ba88ae06de4c6a933795e888913cbd"
          }
        },
        "465dc9e58a3941fc89bd6397e74f11cd": {
          "model_module": "@jupyter-widgets/controls",
          "model_module_version": "1.5.0",
          "model_name": "HTMLModel",
          "state": {
            "_dom_classes": [],
            "_model_module": "@jupyter-widgets/controls",
            "_model_module_version": "1.5.0",
            "_model_name": "HTMLModel",
            "_view_count": null,
            "_view_module": "@jupyter-widgets/controls",
            "_view_module_version": "1.5.0",
            "_view_name": "HTMLView",
            "description": "",
            "description_tooltip": null,
            "layout": "IPY_MODEL_bb38f34c2d8046ffa460e2da551df472",
            "placeholder": "​",
            "style": "IPY_MODEL_2d4c461e2dd44619aae596b5ef45a94b",
            "value": " 0/1 [00:00&lt;?, ?it/s]"
          }
        },
        "4677a9bcf9d14e9c92cda44c905732f9": {
          "model_module": "@jupyter-widgets/base",
          "model_module_version": "1.2.0",
          "model_name": "LayoutModel",
          "state": {
            "_model_module": "@jupyter-widgets/base",
            "_model_module_version": "1.2.0",
            "_model_name": "LayoutModel",
            "_view_count": null,
            "_view_module": "@jupyter-widgets/base",
            "_view_module_version": "1.2.0",
            "_view_name": "LayoutView",
            "align_content": null,
            "align_items": null,
            "align_self": null,
            "border": null,
            "bottom": null,
            "display": null,
            "flex": null,
            "flex_flow": null,
            "grid_area": null,
            "grid_auto_columns": null,
            "grid_auto_flow": null,
            "grid_auto_rows": null,
            "grid_column": null,
            "grid_gap": null,
            "grid_row": null,
            "grid_template_areas": null,
            "grid_template_columns": null,
            "grid_template_rows": null,
            "height": null,
            "justify_content": null,
            "justify_items": null,
            "left": null,
            "margin": null,
            "max_height": null,
            "max_width": null,
            "min_height": null,
            "min_width": null,
            "object_fit": null,
            "object_position": null,
            "order": null,
            "overflow": null,
            "overflow_x": null,
            "overflow_y": null,
            "padding": null,
            "right": null,
            "top": null,
            "visibility": null,
            "width": null
          }
        },
        "46a3ee8ae6504eb8b2543812f6dcc4ad": {
          "model_module": "@jupyter-widgets/base",
          "model_module_version": "1.2.0",
          "model_name": "LayoutModel",
          "state": {
            "_model_module": "@jupyter-widgets/base",
            "_model_module_version": "1.2.0",
            "_model_name": "LayoutModel",
            "_view_count": null,
            "_view_module": "@jupyter-widgets/base",
            "_view_module_version": "1.2.0",
            "_view_name": "LayoutView",
            "align_content": null,
            "align_items": null,
            "align_self": null,
            "border": null,
            "bottom": null,
            "display": null,
            "flex": null,
            "flex_flow": null,
            "grid_area": null,
            "grid_auto_columns": null,
            "grid_auto_flow": null,
            "grid_auto_rows": null,
            "grid_column": null,
            "grid_gap": null,
            "grid_row": null,
            "grid_template_areas": null,
            "grid_template_columns": null,
            "grid_template_rows": null,
            "height": null,
            "justify_content": null,
            "justify_items": null,
            "left": null,
            "margin": null,
            "max_height": null,
            "max_width": null,
            "min_height": null,
            "min_width": null,
            "object_fit": null,
            "object_position": null,
            "order": null,
            "overflow": null,
            "overflow_x": null,
            "overflow_y": null,
            "padding": null,
            "right": null,
            "top": null,
            "visibility": null,
            "width": null
          }
        },
        "4772437c083f4e1eb1b5e46ca2bd6fdf": {
          "model_module": "@jupyter-widgets/controls",
          "model_module_version": "1.5.0",
          "model_name": "HTMLModel",
          "state": {
            "_dom_classes": [],
            "_model_module": "@jupyter-widgets/controls",
            "_model_module_version": "1.5.0",
            "_model_name": "HTMLModel",
            "_view_count": null,
            "_view_module": "@jupyter-widgets/controls",
            "_view_module_version": "1.5.0",
            "_view_name": "HTMLView",
            "description": "",
            "description_tooltip": null,
            "layout": "IPY_MODEL_f2c2c1bc30c94071aee7070ab974e8fd",
            "placeholder": "​",
            "style": "IPY_MODEL_702d525a6d7442cb949fff752290c4a5",
            "value": "6grddw69: 100%"
          }
        },
        "49c5504d7eb546109223b25c47f9be07": {
          "model_module": "@jupyter-widgets/base",
          "model_module_version": "1.2.0",
          "model_name": "LayoutModel",
          "state": {
            "_model_module": "@jupyter-widgets/base",
            "_model_module_version": "1.2.0",
            "_model_name": "LayoutModel",
            "_view_count": null,
            "_view_module": "@jupyter-widgets/base",
            "_view_module_version": "1.2.0",
            "_view_name": "LayoutView",
            "align_content": null,
            "align_items": null,
            "align_self": null,
            "border": null,
            "bottom": null,
            "display": null,
            "flex": null,
            "flex_flow": null,
            "grid_area": null,
            "grid_auto_columns": null,
            "grid_auto_flow": null,
            "grid_auto_rows": null,
            "grid_column": null,
            "grid_gap": null,
            "grid_row": null,
            "grid_template_areas": null,
            "grid_template_columns": null,
            "grid_template_rows": null,
            "height": null,
            "justify_content": null,
            "justify_items": null,
            "left": null,
            "margin": null,
            "max_height": null,
            "max_width": null,
            "min_height": null,
            "min_width": null,
            "object_fit": null,
            "object_position": null,
            "order": null,
            "overflow": null,
            "overflow_x": null,
            "overflow_y": null,
            "padding": null,
            "right": null,
            "top": null,
            "visibility": null,
            "width": null
          }
        },
        "4f1a63063c4c4bf699f353344dadbe68": {
          "model_module": "@jupyter-widgets/controls",
          "model_module_version": "1.5.0",
          "model_name": "HTMLModel",
          "state": {
            "_dom_classes": [],
            "_model_module": "@jupyter-widgets/controls",
            "_model_module_version": "1.5.0",
            "_model_name": "HTMLModel",
            "_view_count": null,
            "_view_module": "@jupyter-widgets/controls",
            "_view_module_version": "1.5.0",
            "_view_name": "HTMLView",
            "description": "",
            "description_tooltip": null,
            "layout": "IPY_MODEL_e1b272f689634322a2eba26a929a4888",
            "placeholder": "​",
            "style": "IPY_MODEL_ac30035a8308473cad0a6efb372285bd",
            "value": " 0/2 [00:00&lt;?, ?it/s]"
          }
        },
        "527cea813a7742cb98a05bbf028b9383": {
          "model_module": "@jupyter-widgets/base",
          "model_module_version": "1.2.0",
          "model_name": "LayoutModel",
          "state": {
            "_model_module": "@jupyter-widgets/base",
            "_model_module_version": "1.2.0",
            "_model_name": "LayoutModel",
            "_view_count": null,
            "_view_module": "@jupyter-widgets/base",
            "_view_module_version": "1.2.0",
            "_view_name": "LayoutView",
            "align_content": null,
            "align_items": null,
            "align_self": null,
            "border": null,
            "bottom": null,
            "display": null,
            "flex": null,
            "flex_flow": null,
            "grid_area": null,
            "grid_auto_columns": null,
            "grid_auto_flow": null,
            "grid_auto_rows": null,
            "grid_column": null,
            "grid_gap": null,
            "grid_row": null,
            "grid_template_areas": null,
            "grid_template_columns": null,
            "grid_template_rows": null,
            "height": null,
            "justify_content": null,
            "justify_items": null,
            "left": null,
            "margin": null,
            "max_height": null,
            "max_width": null,
            "min_height": null,
            "min_width": null,
            "object_fit": null,
            "object_position": null,
            "order": null,
            "overflow": null,
            "overflow_x": null,
            "overflow_y": null,
            "padding": null,
            "right": null,
            "top": null,
            "visibility": null,
            "width": null
          }
        },
        "52f9f20dde3e4739877f9772d3e6b945": {
          "model_module": "@jupyter-widgets/controls",
          "model_module_version": "1.5.0",
          "model_name": "HBoxModel",
          "state": {
            "_dom_classes": [],
            "_model_module": "@jupyter-widgets/controls",
            "_model_module_version": "1.5.0",
            "_model_name": "HBoxModel",
            "_view_count": null,
            "_view_module": "@jupyter-widgets/controls",
            "_view_module_version": "1.5.0",
            "_view_name": "HBoxView",
            "box_style": "",
            "children": [
              "IPY_MODEL_a9ee5f6b3c164ee5a5a16596e1d3abea",
              "IPY_MODEL_21c74e17a00a4c95a929e310bd1197a5",
              "IPY_MODEL_0371b0b80e9743c7ae8fcef84b921231"
            ],
            "layout": "IPY_MODEL_aef4212c27b04ec686054063cf23f371"
          }
        },
        "58cc0534b2ce411aa614ba3d47e3f010": {
          "model_module": "@jupyter-widgets/controls",
          "model_module_version": "1.5.0",
          "model_name": "FloatProgressModel",
          "state": {
            "_dom_classes": [],
            "_model_module": "@jupyter-widgets/controls",
            "_model_module_version": "1.5.0",
            "_model_name": "FloatProgressModel",
            "_view_count": null,
            "_view_module": "@jupyter-widgets/controls",
            "_view_module_version": "1.5.0",
            "_view_name": "ProgressView",
            "bar_style": "",
            "description": "",
            "description_tooltip": null,
            "layout": "IPY_MODEL_4677a9bcf9d14e9c92cda44c905732f9",
            "max": 2,
            "min": 0,
            "orientation": "horizontal",
            "style": "IPY_MODEL_f2b6f28bc7a544be945e7714ef10c3fc",
            "value": 2
          }
        },
        "58eaf3056986462aaf4ecf7ad24f4360": {
          "model_module": "@jupyter-widgets/controls",
          "model_module_version": "1.5.0",
          "model_name": "DescriptionStyleModel",
          "state": {
            "_model_module": "@jupyter-widgets/controls",
            "_model_module_version": "1.5.0",
            "_model_name": "DescriptionStyleModel",
            "_view_count": null,
            "_view_module": "@jupyter-widgets/base",
            "_view_module_version": "1.2.0",
            "_view_name": "StyleView",
            "description_width": ""
          }
        },
        "5a4aa582048040b2882f6877a0800ff3": {
          "model_module": "@jupyter-widgets/controls",
          "model_module_version": "1.5.0",
          "model_name": "HBoxModel",
          "state": {
            "_dom_classes": [],
            "_model_module": "@jupyter-widgets/controls",
            "_model_module_version": "1.5.0",
            "_model_name": "HBoxModel",
            "_view_count": null,
            "_view_module": "@jupyter-widgets/controls",
            "_view_module_version": "1.5.0",
            "_view_name": "HBoxView",
            "box_style": "",
            "children": [
              "IPY_MODEL_e0d36e1a42e644dab7156e5cf8f7383f",
              "IPY_MODEL_58cc0534b2ce411aa614ba3d47e3f010",
              "IPY_MODEL_4f1a63063c4c4bf699f353344dadbe68"
            ],
            "layout": "IPY_MODEL_ca1791d6356a41738413e1199e8395e0"
          }
        },
        "5b2b70b9fd9c437c8c90364bea6b37d8": {
          "model_module": "@jupyter-widgets/controls",
          "model_module_version": "1.5.0",
          "model_name": "FloatProgressModel",
          "state": {
            "_dom_classes": [],
            "_model_module": "@jupyter-widgets/controls",
            "_model_module_version": "1.5.0",
            "_model_name": "FloatProgressModel",
            "_view_count": null,
            "_view_module": "@jupyter-widgets/controls",
            "_view_module_version": "1.5.0",
            "_view_name": "ProgressView",
            "bar_style": "",
            "description": "",
            "description_tooltip": null,
            "layout": "IPY_MODEL_efc83580cab04d2fb13e166dc5cc6d99",
            "max": 1,
            "min": 0,
            "orientation": "horizontal",
            "style": "IPY_MODEL_8c9c0147b1b6443a92b28c87416391b5",
            "value": 1
          }
        },
        "5ce039faa4164baa935914ce5c02ec22": {
          "model_module": "@jupyter-widgets/controls",
          "model_module_version": "1.5.0",
          "model_name": "FloatProgressModel",
          "state": {
            "_dom_classes": [],
            "_model_module": "@jupyter-widgets/controls",
            "_model_module_version": "1.5.0",
            "_model_name": "FloatProgressModel",
            "_view_count": null,
            "_view_module": "@jupyter-widgets/controls",
            "_view_module_version": "1.5.0",
            "_view_name": "ProgressView",
            "bar_style": "",
            "description": "",
            "description_tooltip": null,
            "layout": "IPY_MODEL_f870abf627084c8883a49bf83ad1bf4a",
            "max": 1,
            "min": 0,
            "orientation": "horizontal",
            "style": "IPY_MODEL_62c87b517269486abdff9d385ca05a9d",
            "value": 1
          }
        },
        "5e957c2dedb84c0aa01452486959f613": {
          "model_module": "@jupyter-widgets/controls",
          "model_module_version": "1.5.0",
          "model_name": "FloatProgressModel",
          "state": {
            "_dom_classes": [],
            "_model_module": "@jupyter-widgets/controls",
            "_model_module_version": "1.5.0",
            "_model_name": "FloatProgressModel",
            "_view_count": null,
            "_view_module": "@jupyter-widgets/controls",
            "_view_module_version": "1.5.0",
            "_view_name": "ProgressView",
            "bar_style": "",
            "description": "",
            "description_tooltip": null,
            "layout": "IPY_MODEL_da2e284a38f545ca9bcc05edb90ec601",
            "max": 1,
            "min": 0,
            "orientation": "horizontal",
            "style": "IPY_MODEL_37b6195b7de84def89b215f486b47d06",
            "value": 1
          }
        },
        "607f0cb436dc4df99535d990ae9bff3e": {
          "model_module": "@jupyter-widgets/controls",
          "model_module_version": "1.5.0",
          "model_name": "DescriptionStyleModel",
          "state": {
            "_model_module": "@jupyter-widgets/controls",
            "_model_module_version": "1.5.0",
            "_model_name": "DescriptionStyleModel",
            "_view_count": null,
            "_view_module": "@jupyter-widgets/base",
            "_view_module_version": "1.2.0",
            "_view_name": "StyleView",
            "description_width": ""
          }
        },
        "61cd472365f042808e40c9e94c933a89": {
          "model_module": "@jupyter-widgets/controls",
          "model_module_version": "1.5.0",
          "model_name": "ProgressStyleModel",
          "state": {
            "_model_module": "@jupyter-widgets/controls",
            "_model_module_version": "1.5.0",
            "_model_name": "ProgressStyleModel",
            "_view_count": null,
            "_view_module": "@jupyter-widgets/base",
            "_view_module_version": "1.2.0",
            "_view_name": "StyleView",
            "bar_color": null,
            "description_width": ""
          }
        },
        "62614b21a8594bcca21476e8e40d0c8e": {
          "model_module": "@jupyter-widgets/base",
          "model_module_version": "1.2.0",
          "model_name": "LayoutModel",
          "state": {
            "_model_module": "@jupyter-widgets/base",
            "_model_module_version": "1.2.0",
            "_model_name": "LayoutModel",
            "_view_count": null,
            "_view_module": "@jupyter-widgets/base",
            "_view_module_version": "1.2.0",
            "_view_name": "LayoutView",
            "align_content": null,
            "align_items": null,
            "align_self": null,
            "border": null,
            "bottom": null,
            "display": null,
            "flex": null,
            "flex_flow": null,
            "grid_area": null,
            "grid_auto_columns": null,
            "grid_auto_flow": null,
            "grid_auto_rows": null,
            "grid_column": null,
            "grid_gap": null,
            "grid_row": null,
            "grid_template_areas": null,
            "grid_template_columns": null,
            "grid_template_rows": null,
            "height": null,
            "justify_content": null,
            "justify_items": null,
            "left": null,
            "margin": null,
            "max_height": null,
            "max_width": null,
            "min_height": null,
            "min_width": null,
            "object_fit": null,
            "object_position": null,
            "order": null,
            "overflow": null,
            "overflow_x": null,
            "overflow_y": null,
            "padding": null,
            "right": null,
            "top": null,
            "visibility": null,
            "width": null
          }
        },
        "628075770e384b70a78731726f275aa3": {
          "model_module": "@jupyter-widgets/controls",
          "model_module_version": "1.5.0",
          "model_name": "HTMLModel",
          "state": {
            "_dom_classes": [],
            "_model_module": "@jupyter-widgets/controls",
            "_model_module_version": "1.5.0",
            "_model_name": "HTMLModel",
            "_view_count": null,
            "_view_module": "@jupyter-widgets/controls",
            "_view_module_version": "1.5.0",
            "_view_name": "HTMLView",
            "description": "",
            "description_tooltip": null,
            "layout": "IPY_MODEL_62614b21a8594bcca21476e8e40d0c8e",
            "placeholder": "​",
            "style": "IPY_MODEL_e0e9a5d23a5b4147bbd866960cbdd5d1",
            "value": " 7/7 [00:01&lt;00:00,  5.14it/s]"
          }
        },
        "6296437f4d734139989d16e724c71a61": {
          "model_module": "@jupyter-widgets/controls",
          "model_module_version": "1.5.0",
          "model_name": "FloatProgressModel",
          "state": {
            "_dom_classes": [],
            "_model_module": "@jupyter-widgets/controls",
            "_model_module_version": "1.5.0",
            "_model_name": "FloatProgressModel",
            "_view_count": null,
            "_view_module": "@jupyter-widgets/controls",
            "_view_module_version": "1.5.0",
            "_view_name": "ProgressView",
            "bar_style": "",
            "description": "",
            "description_tooltip": null,
            "layout": "IPY_MODEL_6a6fcac042cf44c6aaf2522bef167cf8",
            "max": 1,
            "min": 0,
            "orientation": "horizontal",
            "style": "IPY_MODEL_a4fb48804dde416a89a400fb4c897273",
            "value": 1
          }
        },
        "62c87b517269486abdff9d385ca05a9d": {
          "model_module": "@jupyter-widgets/controls",
          "model_module_version": "1.5.0",
          "model_name": "ProgressStyleModel",
          "state": {
            "_model_module": "@jupyter-widgets/controls",
            "_model_module_version": "1.5.0",
            "_model_name": "ProgressStyleModel",
            "_view_count": null,
            "_view_module": "@jupyter-widgets/base",
            "_view_module_version": "1.2.0",
            "_view_name": "StyleView",
            "bar_color": null,
            "description_width": ""
          }
        },
        "642a348be3984d02b5a637e7d6f96d2c": {
          "model_module": "@jupyter-widgets/controls",
          "model_module_version": "1.5.0",
          "model_name": "ProgressStyleModel",
          "state": {
            "_model_module": "@jupyter-widgets/controls",
            "_model_module_version": "1.5.0",
            "_model_name": "ProgressStyleModel",
            "_view_count": null,
            "_view_module": "@jupyter-widgets/base",
            "_view_module_version": "1.2.0",
            "_view_name": "StyleView",
            "bar_color": null,
            "description_width": ""
          }
        },
        "6443b531c6bb4e8f902a72253480509e": {
          "model_module": "@jupyter-widgets/base",
          "model_module_version": "1.2.0",
          "model_name": "LayoutModel",
          "state": {
            "_model_module": "@jupyter-widgets/base",
            "_model_module_version": "1.2.0",
            "_model_name": "LayoutModel",
            "_view_count": null,
            "_view_module": "@jupyter-widgets/base",
            "_view_module_version": "1.2.0",
            "_view_name": "LayoutView",
            "align_content": null,
            "align_items": null,
            "align_self": null,
            "border": null,
            "bottom": null,
            "display": null,
            "flex": null,
            "flex_flow": null,
            "grid_area": null,
            "grid_auto_columns": null,
            "grid_auto_flow": null,
            "grid_auto_rows": null,
            "grid_column": null,
            "grid_gap": null,
            "grid_row": null,
            "grid_template_areas": null,
            "grid_template_columns": null,
            "grid_template_rows": null,
            "height": null,
            "justify_content": null,
            "justify_items": null,
            "left": null,
            "margin": null,
            "max_height": null,
            "max_width": null,
            "min_height": null,
            "min_width": null,
            "object_fit": null,
            "object_position": null,
            "order": null,
            "overflow": null,
            "overflow_x": null,
            "overflow_y": null,
            "padding": null,
            "right": null,
            "top": null,
            "visibility": null,
            "width": null
          }
        },
        "649b40b28397403ca065795ddb96ab2b": {
          "model_module": "@jupyter-widgets/controls",
          "model_module_version": "1.5.0",
          "model_name": "HBoxModel",
          "state": {
            "_dom_classes": [],
            "_model_module": "@jupyter-widgets/controls",
            "_model_module_version": "1.5.0",
            "_model_name": "HBoxModel",
            "_view_count": null,
            "_view_module": "@jupyter-widgets/controls",
            "_view_module_version": "1.5.0",
            "_view_name": "HBoxView",
            "box_style": "",
            "children": [
              "IPY_MODEL_7baad750a6cf47e8a7fc8fb0eb8e0b2a",
              "IPY_MODEL_c21b410ef8ed40fbb54803041dcd93c5",
              "IPY_MODEL_749cf599a96946fdaf8b67bc0df03396"
            ],
            "layout": "IPY_MODEL_0d8bb43c6b2e4a2598c1eedacb206d59"
          }
        },
        "66bca2a8cb494e6090863e7897c7e7d8": {
          "model_module": "@jupyter-widgets/base",
          "model_module_version": "1.2.0",
          "model_name": "LayoutModel",
          "state": {
            "_model_module": "@jupyter-widgets/base",
            "_model_module_version": "1.2.0",
            "_model_name": "LayoutModel",
            "_view_count": null,
            "_view_module": "@jupyter-widgets/base",
            "_view_module_version": "1.2.0",
            "_view_name": "LayoutView",
            "align_content": null,
            "align_items": null,
            "align_self": null,
            "border": null,
            "bottom": null,
            "display": null,
            "flex": null,
            "flex_flow": null,
            "grid_area": null,
            "grid_auto_columns": null,
            "grid_auto_flow": null,
            "grid_auto_rows": null,
            "grid_column": null,
            "grid_gap": null,
            "grid_row": null,
            "grid_template_areas": null,
            "grid_template_columns": null,
            "grid_template_rows": null,
            "height": null,
            "justify_content": null,
            "justify_items": null,
            "left": null,
            "margin": null,
            "max_height": null,
            "max_width": null,
            "min_height": null,
            "min_width": null,
            "object_fit": null,
            "object_position": null,
            "order": null,
            "overflow": null,
            "overflow_x": null,
            "overflow_y": null,
            "padding": null,
            "right": null,
            "top": null,
            "visibility": null,
            "width": null
          }
        },
        "66c772b8a1214d05b815ef98f23ecf57": {
          "model_module": "@jupyter-widgets/controls",
          "model_module_version": "1.5.0",
          "model_name": "ProgressStyleModel",
          "state": {
            "_model_module": "@jupyter-widgets/controls",
            "_model_module_version": "1.5.0",
            "_model_name": "ProgressStyleModel",
            "_view_count": null,
            "_view_module": "@jupyter-widgets/base",
            "_view_module_version": "1.2.0",
            "_view_name": "StyleView",
            "bar_color": null,
            "description_width": ""
          }
        },
        "67ea432bfa8d4321a8199c73a2a8f837": {
          "model_module": "@jupyter-widgets/controls",
          "model_module_version": "1.5.0",
          "model_name": "DescriptionStyleModel",
          "state": {
            "_model_module": "@jupyter-widgets/controls",
            "_model_module_version": "1.5.0",
            "_model_name": "DescriptionStyleModel",
            "_view_count": null,
            "_view_module": "@jupyter-widgets/base",
            "_view_module_version": "1.2.0",
            "_view_name": "StyleView",
            "description_width": ""
          }
        },
        "6a3437ff798341ad8495cc3c8a5c912e": {
          "model_module": "@jupyter-widgets/controls",
          "model_module_version": "1.5.0",
          "model_name": "HTMLModel",
          "state": {
            "_dom_classes": [],
            "_model_module": "@jupyter-widgets/controls",
            "_model_module_version": "1.5.0",
            "_model_name": "HTMLModel",
            "_view_count": null,
            "_view_module": "@jupyter-widgets/controls",
            "_view_module_version": "1.5.0",
            "_view_name": "HTMLView",
            "description": "",
            "description_tooltip": null,
            "layout": "IPY_MODEL_1e2ba0766ccb4c0e92a7b08efab58086",
            "placeholder": "​",
            "style": "IPY_MODEL_c5da8a0211ee443394c58aebd2753c13",
            "value": " 0/1 [00:00&lt;?, ?it/s]"
          }
        },
        "6a6fcac042cf44c6aaf2522bef167cf8": {
          "model_module": "@jupyter-widgets/base",
          "model_module_version": "1.2.0",
          "model_name": "LayoutModel",
          "state": {
            "_model_module": "@jupyter-widgets/base",
            "_model_module_version": "1.2.0",
            "_model_name": "LayoutModel",
            "_view_count": null,
            "_view_module": "@jupyter-widgets/base",
            "_view_module_version": "1.2.0",
            "_view_name": "LayoutView",
            "align_content": null,
            "align_items": null,
            "align_self": null,
            "border": null,
            "bottom": null,
            "display": null,
            "flex": null,
            "flex_flow": null,
            "grid_area": null,
            "grid_auto_columns": null,
            "grid_auto_flow": null,
            "grid_auto_rows": null,
            "grid_column": null,
            "grid_gap": null,
            "grid_row": null,
            "grid_template_areas": null,
            "grid_template_columns": null,
            "grid_template_rows": null,
            "height": null,
            "justify_content": null,
            "justify_items": null,
            "left": null,
            "margin": null,
            "max_height": null,
            "max_width": null,
            "min_height": null,
            "min_width": null,
            "object_fit": null,
            "object_position": null,
            "order": null,
            "overflow": null,
            "overflow_x": null,
            "overflow_y": null,
            "padding": null,
            "right": null,
            "top": null,
            "visibility": null,
            "width": null
          }
        },
        "6b781dd373cd4e01b919582adf138580": {
          "model_module": "@jupyter-widgets/base",
          "model_module_version": "1.2.0",
          "model_name": "LayoutModel",
          "state": {
            "_model_module": "@jupyter-widgets/base",
            "_model_module_version": "1.2.0",
            "_model_name": "LayoutModel",
            "_view_count": null,
            "_view_module": "@jupyter-widgets/base",
            "_view_module_version": "1.2.0",
            "_view_name": "LayoutView",
            "align_content": null,
            "align_items": null,
            "align_self": null,
            "border": null,
            "bottom": null,
            "display": null,
            "flex": null,
            "flex_flow": null,
            "grid_area": null,
            "grid_auto_columns": null,
            "grid_auto_flow": null,
            "grid_auto_rows": null,
            "grid_column": null,
            "grid_gap": null,
            "grid_row": null,
            "grid_template_areas": null,
            "grid_template_columns": null,
            "grid_template_rows": null,
            "height": null,
            "justify_content": null,
            "justify_items": null,
            "left": null,
            "margin": null,
            "max_height": null,
            "max_width": null,
            "min_height": null,
            "min_width": null,
            "object_fit": null,
            "object_position": null,
            "order": null,
            "overflow": null,
            "overflow_x": null,
            "overflow_y": null,
            "padding": null,
            "right": null,
            "top": null,
            "visibility": null,
            "width": null
          }
        },
        "6b90b1bf5a2145c590620fc72f0b92f4": {
          "model_module": "@jupyter-widgets/controls",
          "model_module_version": "1.5.0",
          "model_name": "HTMLModel",
          "state": {
            "_dom_classes": [],
            "_model_module": "@jupyter-widgets/controls",
            "_model_module_version": "1.5.0",
            "_model_name": "HTMLModel",
            "_view_count": null,
            "_view_module": "@jupyter-widgets/controls",
            "_view_module_version": "1.5.0",
            "_view_name": "HTMLView",
            "description": "",
            "description_tooltip": null,
            "layout": "IPY_MODEL_0d4d53eba0cc44cca1f14f1fe003a5ff",
            "placeholder": "​",
            "style": "IPY_MODEL_36e4c8270d614c70b4bdb70af26ba4c2",
            "value": "eaxxjxu6: 100%"
          }
        },
        "6bc53895fceb4ce8a49d6d0b6cf8c327": {
          "model_module": "@jupyter-widgets/controls",
          "model_module_version": "1.5.0",
          "model_name": "HTMLModel",
          "state": {
            "_dom_classes": [],
            "_model_module": "@jupyter-widgets/controls",
            "_model_module_version": "1.5.0",
            "_model_name": "HTMLModel",
            "_view_count": null,
            "_view_module": "@jupyter-widgets/controls",
            "_view_module_version": "1.5.0",
            "_view_name": "HTMLView",
            "description": "",
            "description_tooltip": null,
            "layout": "IPY_MODEL_46a3ee8ae6504eb8b2543812f6dcc4ad",
            "placeholder": "​",
            "style": "IPY_MODEL_84f8ee6ea63b4c97bbe15c415c9233c7",
            "value": " 0/1 [00:00&lt;?, ?it/s]"
          }
        },
        "6c9f1ea5a7eb4dd4b8ab8e2b6918e28f": {
          "model_module": "@jupyter-widgets/base",
          "model_module_version": "1.2.0",
          "model_name": "LayoutModel",
          "state": {
            "_model_module": "@jupyter-widgets/base",
            "_model_module_version": "1.2.0",
            "_model_name": "LayoutModel",
            "_view_count": null,
            "_view_module": "@jupyter-widgets/base",
            "_view_module_version": "1.2.0",
            "_view_name": "LayoutView",
            "align_content": null,
            "align_items": null,
            "align_self": null,
            "border": null,
            "bottom": null,
            "display": null,
            "flex": null,
            "flex_flow": null,
            "grid_area": null,
            "grid_auto_columns": null,
            "grid_auto_flow": null,
            "grid_auto_rows": null,
            "grid_column": null,
            "grid_gap": null,
            "grid_row": null,
            "grid_template_areas": null,
            "grid_template_columns": null,
            "grid_template_rows": null,
            "height": null,
            "justify_content": null,
            "justify_items": null,
            "left": null,
            "margin": null,
            "max_height": null,
            "max_width": null,
            "min_height": null,
            "min_width": null,
            "object_fit": null,
            "object_position": null,
            "order": null,
            "overflow": null,
            "overflow_x": null,
            "overflow_y": null,
            "padding": null,
            "right": null,
            "top": null,
            "visibility": "hidden",
            "width": null
          }
        },
        "6ce8f5f44ffa4420a313d375443df176": {
          "model_module": "@jupyter-widgets/controls",
          "model_module_version": "1.5.0",
          "model_name": "HBoxModel",
          "state": {
            "_dom_classes": [],
            "_model_module": "@jupyter-widgets/controls",
            "_model_module_version": "1.5.0",
            "_model_name": "HBoxModel",
            "_view_count": null,
            "_view_module": "@jupyter-widgets/controls",
            "_view_module_version": "1.5.0",
            "_view_name": "HBoxView",
            "box_style": "",
            "children": [
              "IPY_MODEL_fdf2de5dbca04e8aa6bfed98d56c9b9f",
              "IPY_MODEL_feb3ec46b0a14180b4db1749c86184d0",
              "IPY_MODEL_3c3118d0acf24ae9b7e89491c32aeaee"
            ],
            "layout": "IPY_MODEL_6c9f1ea5a7eb4dd4b8ab8e2b6918e28f"
          }
        },
        "6dff05eadc144315b4bef54f144c8874": {
          "model_module": "@jupyter-widgets/controls",
          "model_module_version": "1.5.0",
          "model_name": "ProgressStyleModel",
          "state": {
            "_model_module": "@jupyter-widgets/controls",
            "_model_module_version": "1.5.0",
            "_model_name": "ProgressStyleModel",
            "_view_count": null,
            "_view_module": "@jupyter-widgets/base",
            "_view_module_version": "1.2.0",
            "_view_name": "StyleView",
            "bar_color": null,
            "description_width": ""
          }
        },
        "6fecd10f26994a4d99b51a7a7e354d23": {
          "model_module": "@jupyter-widgets/base",
          "model_module_version": "1.2.0",
          "model_name": "LayoutModel",
          "state": {
            "_model_module": "@jupyter-widgets/base",
            "_model_module_version": "1.2.0",
            "_model_name": "LayoutModel",
            "_view_count": null,
            "_view_module": "@jupyter-widgets/base",
            "_view_module_version": "1.2.0",
            "_view_name": "LayoutView",
            "align_content": null,
            "align_items": null,
            "align_self": null,
            "border": null,
            "bottom": null,
            "display": null,
            "flex": null,
            "flex_flow": null,
            "grid_area": null,
            "grid_auto_columns": null,
            "grid_auto_flow": null,
            "grid_auto_rows": null,
            "grid_column": null,
            "grid_gap": null,
            "grid_row": null,
            "grid_template_areas": null,
            "grid_template_columns": null,
            "grid_template_rows": null,
            "height": null,
            "justify_content": null,
            "justify_items": null,
            "left": null,
            "margin": null,
            "max_height": null,
            "max_width": null,
            "min_height": null,
            "min_width": null,
            "object_fit": null,
            "object_position": null,
            "order": null,
            "overflow": null,
            "overflow_x": null,
            "overflow_y": null,
            "padding": null,
            "right": null,
            "top": null,
            "visibility": null,
            "width": null
          }
        },
        "702d525a6d7442cb949fff752290c4a5": {
          "model_module": "@jupyter-widgets/controls",
          "model_module_version": "1.5.0",
          "model_name": "DescriptionStyleModel",
          "state": {
            "_model_module": "@jupyter-widgets/controls",
            "_model_module_version": "1.5.0",
            "_model_name": "DescriptionStyleModel",
            "_view_count": null,
            "_view_module": "@jupyter-widgets/base",
            "_view_module_version": "1.2.0",
            "_view_name": "StyleView",
            "description_width": ""
          }
        },
        "70a08b6bb6264e7c9ab91e3c5ddf7035": {
          "model_module": "@jupyter-widgets/controls",
          "model_module_version": "1.5.0",
          "model_name": "DescriptionStyleModel",
          "state": {
            "_model_module": "@jupyter-widgets/controls",
            "_model_module_version": "1.5.0",
            "_model_name": "DescriptionStyleModel",
            "_view_count": null,
            "_view_module": "@jupyter-widgets/base",
            "_view_module_version": "1.2.0",
            "_view_name": "StyleView",
            "description_width": ""
          }
        },
        "715f0c9f241b44f49fc275902a1dce0d": {
          "model_module": "@jupyter-widgets/controls",
          "model_module_version": "1.5.0",
          "model_name": "FloatProgressModel",
          "state": {
            "_dom_classes": [],
            "_model_module": "@jupyter-widgets/controls",
            "_model_module_version": "1.5.0",
            "_model_name": "FloatProgressModel",
            "_view_count": null,
            "_view_module": "@jupyter-widgets/controls",
            "_view_module_version": "1.5.0",
            "_view_name": "ProgressView",
            "bar_style": "",
            "description": "",
            "description_tooltip": null,
            "layout": "IPY_MODEL_e21f4aeaf12749eea623a037d0010f62",
            "max": 1,
            "min": 0,
            "orientation": "horizontal",
            "style": "IPY_MODEL_7aa87ff347ea40f19b07c8a57f9c2e0a",
            "value": 1
          }
        },
        "735330acb95f416582030ef870f3338e": {
          "model_module": "@jupyter-widgets/controls",
          "model_module_version": "1.5.0",
          "model_name": "FloatProgressModel",
          "state": {
            "_dom_classes": [],
            "_model_module": "@jupyter-widgets/controls",
            "_model_module_version": "1.5.0",
            "_model_name": "FloatProgressModel",
            "_view_count": null,
            "_view_module": "@jupyter-widgets/controls",
            "_view_module_version": "1.5.0",
            "_view_name": "ProgressView",
            "bar_style": "info",
            "description": "",
            "description_tooltip": null,
            "layout": "IPY_MODEL_442f76c0447d4ea88e6d71591164a224",
            "max": 1,
            "min": 0,
            "orientation": "horizontal",
            "style": "IPY_MODEL_66c772b8a1214d05b815ef98f23ecf57",
            "value": 0
          }
        },
        "73cd0d27fa0e4afcbaba92b3ce3dc2f6": {
          "model_module": "@jupyter-widgets/controls",
          "model_module_version": "1.5.0",
          "model_name": "DescriptionStyleModel",
          "state": {
            "_model_module": "@jupyter-widgets/controls",
            "_model_module_version": "1.5.0",
            "_model_name": "DescriptionStyleModel",
            "_view_count": null,
            "_view_module": "@jupyter-widgets/base",
            "_view_module_version": "1.2.0",
            "_view_name": "StyleView",
            "description_width": ""
          }
        },
        "749cf599a96946fdaf8b67bc0df03396": {
          "model_module": "@jupyter-widgets/controls",
          "model_module_version": "1.5.0",
          "model_name": "HTMLModel",
          "state": {
            "_dom_classes": [],
            "_model_module": "@jupyter-widgets/controls",
            "_model_module_version": "1.5.0",
            "_model_name": "HTMLModel",
            "_view_count": null,
            "_view_module": "@jupyter-widgets/controls",
            "_view_module_version": "1.5.0",
            "_view_name": "HTMLView",
            "description": "",
            "description_tooltip": null,
            "layout": "IPY_MODEL_d3b4f41356404f26a2c50b47f364b2d2",
            "placeholder": "​",
            "style": "IPY_MODEL_f998af4c7981435bbd32d98b835b5dad",
            "value": " 0/1 [00:00&lt;?, ?it/s]"
          }
        },
        "7716d63a71184806a57c2a7ea3d25564": {
          "model_module": "@jupyter-widgets/controls",
          "model_module_version": "1.5.0",
          "model_name": "HTMLModel",
          "state": {
            "_dom_classes": [],
            "_model_module": "@jupyter-widgets/controls",
            "_model_module_version": "1.5.0",
            "_model_name": "HTMLModel",
            "_view_count": null,
            "_view_module": "@jupyter-widgets/controls",
            "_view_module_version": "1.5.0",
            "_view_name": "HTMLView",
            "description": "",
            "description_tooltip": null,
            "layout": "IPY_MODEL_4273860570fb49659848c35456a7c7cd",
            "placeholder": "​",
            "style": "IPY_MODEL_73cd0d27fa0e4afcbaba92b3ce3dc2f6",
            "value": "wyk5ospb:   0%"
          }
        },
        "78f1a67be60240d48037d439d4bfd9d2": {
          "model_module": "@jupyter-widgets/controls",
          "model_module_version": "1.5.0",
          "model_name": "FloatProgressModel",
          "state": {
            "_dom_classes": [],
            "_model_module": "@jupyter-widgets/controls",
            "_model_module_version": "1.5.0",
            "_model_name": "FloatProgressModel",
            "_view_count": null,
            "_view_module": "@jupyter-widgets/controls",
            "_view_module_version": "1.5.0",
            "_view_name": "ProgressView",
            "bar_style": "",
            "description": "",
            "description_tooltip": null,
            "layout": "IPY_MODEL_2920d0f89ff04ce9ad88e374e32ea7eb",
            "max": 7,
            "min": 0,
            "orientation": "horizontal",
            "style": "IPY_MODEL_130f9ade7e0049be94262fa646792979",
            "value": 7
          }
        },
        "7aa87ff347ea40f19b07c8a57f9c2e0a": {
          "model_module": "@jupyter-widgets/controls",
          "model_module_version": "1.5.0",
          "model_name": "ProgressStyleModel",
          "state": {
            "_model_module": "@jupyter-widgets/controls",
            "_model_module_version": "1.5.0",
            "_model_name": "ProgressStyleModel",
            "_view_count": null,
            "_view_module": "@jupyter-widgets/base",
            "_view_module_version": "1.2.0",
            "_view_name": "StyleView",
            "bar_color": null,
            "description_width": ""
          }
        },
        "7baad750a6cf47e8a7fc8fb0eb8e0b2a": {
          "model_module": "@jupyter-widgets/controls",
          "model_module_version": "1.5.0",
          "model_name": "HTMLModel",
          "state": {
            "_dom_classes": [],
            "_model_module": "@jupyter-widgets/controls",
            "_model_module_version": "1.5.0",
            "_model_name": "HTMLModel",
            "_view_count": null,
            "_view_module": "@jupyter-widgets/controls",
            "_view_module_version": "1.5.0",
            "_view_name": "HTMLView",
            "description": "",
            "description_tooltip": null,
            "layout": "IPY_MODEL_b3aaa9058f124146957d83914cadc685",
            "placeholder": "​",
            "style": "IPY_MODEL_412c756d2e8a43f1a313de16a6d29ad3",
            "value": "11x62t1y:   0%"
          }
        },
        "7ef5598ecfc94a8c9c83d577fef7a81e": {
          "model_module": "@jupyter-widgets/controls",
          "model_module_version": "1.5.0",
          "model_name": "FloatProgressModel",
          "state": {
            "_dom_classes": [],
            "_model_module": "@jupyter-widgets/controls",
            "_model_module_version": "1.5.0",
            "_model_name": "FloatProgressModel",
            "_view_count": null,
            "_view_module": "@jupyter-widgets/controls",
            "_view_module_version": "1.5.0",
            "_view_name": "ProgressView",
            "bar_style": "",
            "description": "",
            "description_tooltip": null,
            "layout": "IPY_MODEL_b4d666a57e2345fdbd96ee8f92cc28ae",
            "max": 1,
            "min": 0,
            "orientation": "horizontal",
            "style": "IPY_MODEL_d4e3d7a9626b4725be9216b598694e87",
            "value": 1
          }
        },
        "84f8ee6ea63b4c97bbe15c415c9233c7": {
          "model_module": "@jupyter-widgets/controls",
          "model_module_version": "1.5.0",
          "model_name": "DescriptionStyleModel",
          "state": {
            "_model_module": "@jupyter-widgets/controls",
            "_model_module_version": "1.5.0",
            "_model_name": "DescriptionStyleModel",
            "_view_count": null,
            "_view_module": "@jupyter-widgets/base",
            "_view_module_version": "1.2.0",
            "_view_name": "StyleView",
            "description_width": ""
          }
        },
        "87b36cb99ad645de81dedb81b9660b68": {
          "model_module": "@jupyter-widgets/controls",
          "model_module_version": "1.5.0",
          "model_name": "HTMLModel",
          "state": {
            "_dom_classes": [],
            "_model_module": "@jupyter-widgets/controls",
            "_model_module_version": "1.5.0",
            "_model_name": "HTMLModel",
            "_view_count": null,
            "_view_module": "@jupyter-widgets/controls",
            "_view_module_version": "1.5.0",
            "_view_name": "HTMLView",
            "description": "",
            "description_tooltip": null,
            "layout": "IPY_MODEL_91a383494ba94dd88ca8f559eb7b2013",
            "placeholder": "​",
            "style": "IPY_MODEL_40736244c21a4274a59f7b7ebe6a1c1c",
            "value": " 7/7 [00:01&lt;00:00,  4.93it/s]"
          }
        },
        "892aac0afe8b40338230838d204e2533": {
          "model_module": "@jupyter-widgets/controls",
          "model_module_version": "1.5.0",
          "model_name": "HTMLModel",
          "state": {
            "_dom_classes": [],
            "_model_module": "@jupyter-widgets/controls",
            "_model_module_version": "1.5.0",
            "_model_name": "HTMLModel",
            "_view_count": null,
            "_view_module": "@jupyter-widgets/controls",
            "_view_module_version": "1.5.0",
            "_view_name": "HTMLView",
            "description": "",
            "description_tooltip": null,
            "layout": "IPY_MODEL_6fecd10f26994a4d99b51a7a7e354d23",
            "placeholder": "​",
            "style": "IPY_MODEL_901be6bacb1841579957ef6ea767be63",
            "value": "qxio2hzz: "
          }
        },
        "896ba2fb7d234358b53ae8f2bf4f2e04": {
          "model_module": "@jupyter-widgets/base",
          "model_module_version": "1.2.0",
          "model_name": "LayoutModel",
          "state": {
            "_model_module": "@jupyter-widgets/base",
            "_model_module_version": "1.2.0",
            "_model_name": "LayoutModel",
            "_view_count": null,
            "_view_module": "@jupyter-widgets/base",
            "_view_module_version": "1.2.0",
            "_view_name": "LayoutView",
            "align_content": null,
            "align_items": null,
            "align_self": null,
            "border": null,
            "bottom": null,
            "display": null,
            "flex": null,
            "flex_flow": null,
            "grid_area": null,
            "grid_auto_columns": null,
            "grid_auto_flow": null,
            "grid_auto_rows": null,
            "grid_column": null,
            "grid_gap": null,
            "grid_row": null,
            "grid_template_areas": null,
            "grid_template_columns": null,
            "grid_template_rows": null,
            "height": null,
            "justify_content": null,
            "justify_items": null,
            "left": null,
            "margin": null,
            "max_height": null,
            "max_width": null,
            "min_height": null,
            "min_width": null,
            "object_fit": null,
            "object_position": null,
            "order": null,
            "overflow": null,
            "overflow_x": null,
            "overflow_y": null,
            "padding": null,
            "right": null,
            "top": null,
            "visibility": null,
            "width": null
          }
        },
        "8aefea6bf5284ceb8d53eebfb399ce5c": {
          "model_module": "@jupyter-widgets/base",
          "model_module_version": "1.2.0",
          "model_name": "LayoutModel",
          "state": {
            "_model_module": "@jupyter-widgets/base",
            "_model_module_version": "1.2.0",
            "_model_name": "LayoutModel",
            "_view_count": null,
            "_view_module": "@jupyter-widgets/base",
            "_view_module_version": "1.2.0",
            "_view_name": "LayoutView",
            "align_content": null,
            "align_items": null,
            "align_self": null,
            "border": null,
            "bottom": null,
            "display": null,
            "flex": null,
            "flex_flow": null,
            "grid_area": null,
            "grid_auto_columns": null,
            "grid_auto_flow": null,
            "grid_auto_rows": null,
            "grid_column": null,
            "grid_gap": null,
            "grid_row": null,
            "grid_template_areas": null,
            "grid_template_columns": null,
            "grid_template_rows": null,
            "height": null,
            "justify_content": null,
            "justify_items": null,
            "left": null,
            "margin": null,
            "max_height": null,
            "max_width": null,
            "min_height": null,
            "min_width": null,
            "object_fit": null,
            "object_position": null,
            "order": null,
            "overflow": null,
            "overflow_x": null,
            "overflow_y": null,
            "padding": null,
            "right": null,
            "top": null,
            "visibility": "hidden",
            "width": null
          }
        },
        "8c9c0147b1b6443a92b28c87416391b5": {
          "model_module": "@jupyter-widgets/controls",
          "model_module_version": "1.5.0",
          "model_name": "ProgressStyleModel",
          "state": {
            "_model_module": "@jupyter-widgets/controls",
            "_model_module_version": "1.5.0",
            "_model_name": "ProgressStyleModel",
            "_view_count": null,
            "_view_module": "@jupyter-widgets/base",
            "_view_module_version": "1.2.0",
            "_view_name": "StyleView",
            "bar_color": null,
            "description_width": ""
          }
        },
        "8e826f2b683b454ea6e28523c37a219f": {
          "model_module": "@jupyter-widgets/controls",
          "model_module_version": "1.5.0",
          "model_name": "HTMLModel",
          "state": {
            "_dom_classes": [],
            "_model_module": "@jupyter-widgets/controls",
            "_model_module_version": "1.5.0",
            "_model_name": "HTMLModel",
            "_view_count": null,
            "_view_module": "@jupyter-widgets/controls",
            "_view_module_version": "1.5.0",
            "_view_name": "HTMLView",
            "description": "",
            "description_tooltip": null,
            "layout": "IPY_MODEL_12eae60cb69448abbb58dbecf325bf46",
            "placeholder": "​",
            "style": "IPY_MODEL_70a08b6bb6264e7c9ab91e3c5ddf7035",
            "value": " 0/1 [00:00&lt;?, ?it/s]"
          }
        },
        "8e905e6ae62b4147950bfdc7ed00ef3d": {
          "model_module": "@jupyter-widgets/base",
          "model_module_version": "1.2.0",
          "model_name": "LayoutModel",
          "state": {
            "_model_module": "@jupyter-widgets/base",
            "_model_module_version": "1.2.0",
            "_model_name": "LayoutModel",
            "_view_count": null,
            "_view_module": "@jupyter-widgets/base",
            "_view_module_version": "1.2.0",
            "_view_name": "LayoutView",
            "align_content": null,
            "align_items": null,
            "align_self": null,
            "border": null,
            "bottom": null,
            "display": null,
            "flex": null,
            "flex_flow": null,
            "grid_area": null,
            "grid_auto_columns": null,
            "grid_auto_flow": null,
            "grid_auto_rows": null,
            "grid_column": null,
            "grid_gap": null,
            "grid_row": null,
            "grid_template_areas": null,
            "grid_template_columns": null,
            "grid_template_rows": null,
            "height": null,
            "justify_content": null,
            "justify_items": null,
            "left": null,
            "margin": null,
            "max_height": null,
            "max_width": null,
            "min_height": null,
            "min_width": null,
            "object_fit": null,
            "object_position": null,
            "order": null,
            "overflow": null,
            "overflow_x": null,
            "overflow_y": null,
            "padding": null,
            "right": null,
            "top": null,
            "visibility": "hidden",
            "width": null
          }
        },
        "901be6bacb1841579957ef6ea767be63": {
          "model_module": "@jupyter-widgets/controls",
          "model_module_version": "1.5.0",
          "model_name": "DescriptionStyleModel",
          "state": {
            "_model_module": "@jupyter-widgets/controls",
            "_model_module_version": "1.5.0",
            "_model_name": "DescriptionStyleModel",
            "_view_count": null,
            "_view_module": "@jupyter-widgets/base",
            "_view_module_version": "1.2.0",
            "_view_name": "StyleView",
            "description_width": ""
          }
        },
        "90f5ee46287249eb9838b13bb8ae3d74": {
          "model_module": "@jupyter-widgets/controls",
          "model_module_version": "1.5.0",
          "model_name": "DescriptionStyleModel",
          "state": {
            "_model_module": "@jupyter-widgets/controls",
            "_model_module_version": "1.5.0",
            "_model_name": "DescriptionStyleModel",
            "_view_count": null,
            "_view_module": "@jupyter-widgets/base",
            "_view_module_version": "1.2.0",
            "_view_name": "StyleView",
            "description_width": ""
          }
        },
        "91a383494ba94dd88ca8f559eb7b2013": {
          "model_module": "@jupyter-widgets/base",
          "model_module_version": "1.2.0",
          "model_name": "LayoutModel",
          "state": {
            "_model_module": "@jupyter-widgets/base",
            "_model_module_version": "1.2.0",
            "_model_name": "LayoutModel",
            "_view_count": null,
            "_view_module": "@jupyter-widgets/base",
            "_view_module_version": "1.2.0",
            "_view_name": "LayoutView",
            "align_content": null,
            "align_items": null,
            "align_self": null,
            "border": null,
            "bottom": null,
            "display": null,
            "flex": null,
            "flex_flow": null,
            "grid_area": null,
            "grid_auto_columns": null,
            "grid_auto_flow": null,
            "grid_auto_rows": null,
            "grid_column": null,
            "grid_gap": null,
            "grid_row": null,
            "grid_template_areas": null,
            "grid_template_columns": null,
            "grid_template_rows": null,
            "height": null,
            "justify_content": null,
            "justify_items": null,
            "left": null,
            "margin": null,
            "max_height": null,
            "max_width": null,
            "min_height": null,
            "min_width": null,
            "object_fit": null,
            "object_position": null,
            "order": null,
            "overflow": null,
            "overflow_x": null,
            "overflow_y": null,
            "padding": null,
            "right": null,
            "top": null,
            "visibility": null,
            "width": null
          }
        },
        "91c92132b360495da3b648815d8c2db0": {
          "model_module": "@jupyter-widgets/controls",
          "model_module_version": "1.5.0",
          "model_name": "HTMLModel",
          "state": {
            "_dom_classes": [],
            "_model_module": "@jupyter-widgets/controls",
            "_model_module_version": "1.5.0",
            "_model_name": "HTMLModel",
            "_view_count": null,
            "_view_module": "@jupyter-widgets/controls",
            "_view_module_version": "1.5.0",
            "_view_name": "HTMLView",
            "description": "",
            "description_tooltip": null,
            "layout": "IPY_MODEL_01b04682bbaa47aa8f2d35d6111a5dd8",
            "placeholder": "​",
            "style": "IPY_MODEL_012cbe8425594a2493aa9fa0017eb3ba",
            "value": " 0/1 [00:00&lt;?, ?it/s]"
          }
        },
        "9762e188154643df9aebca18ed3cfd2f": {
          "model_module": "@jupyter-widgets/base",
          "model_module_version": "1.2.0",
          "model_name": "LayoutModel",
          "state": {
            "_model_module": "@jupyter-widgets/base",
            "_model_module_version": "1.2.0",
            "_model_name": "LayoutModel",
            "_view_count": null,
            "_view_module": "@jupyter-widgets/base",
            "_view_module_version": "1.2.0",
            "_view_name": "LayoutView",
            "align_content": null,
            "align_items": null,
            "align_self": null,
            "border": null,
            "bottom": null,
            "display": null,
            "flex": null,
            "flex_flow": null,
            "grid_area": null,
            "grid_auto_columns": null,
            "grid_auto_flow": null,
            "grid_auto_rows": null,
            "grid_column": null,
            "grid_gap": null,
            "grid_row": null,
            "grid_template_areas": null,
            "grid_template_columns": null,
            "grid_template_rows": null,
            "height": null,
            "justify_content": null,
            "justify_items": null,
            "left": null,
            "margin": null,
            "max_height": null,
            "max_width": null,
            "min_height": null,
            "min_width": null,
            "object_fit": null,
            "object_position": null,
            "order": null,
            "overflow": null,
            "overflow_x": null,
            "overflow_y": null,
            "padding": null,
            "right": null,
            "top": null,
            "visibility": null,
            "width": null
          }
        },
        "97ed98e9c0b5477ba320a7dbc3335ed9": {
          "model_module": "@jupyter-widgets/controls",
          "model_module_version": "1.5.0",
          "model_name": "HTMLModel",
          "state": {
            "_dom_classes": [],
            "_model_module": "@jupyter-widgets/controls",
            "_model_module_version": "1.5.0",
            "_model_name": "HTMLModel",
            "_view_count": null,
            "_view_module": "@jupyter-widgets/controls",
            "_view_module_version": "1.5.0",
            "_view_name": "HTMLView",
            "description": "",
            "description_tooltip": null,
            "layout": "IPY_MODEL_6443b531c6bb4e8f902a72253480509e",
            "placeholder": "​",
            "style": "IPY_MODEL_9f2f5d926d654ac7a550090053ca8eb7",
            "value": "wwl7rimu:   0%"
          }
        },
        "98522e96ae73440da24ce67252fa14f8": {
          "model_module": "@jupyter-widgets/controls",
          "model_module_version": "1.5.0",
          "model_name": "HBoxModel",
          "state": {
            "_dom_classes": [],
            "_model_module": "@jupyter-widgets/controls",
            "_model_module_version": "1.5.0",
            "_model_name": "HBoxModel",
            "_view_count": null,
            "_view_module": "@jupyter-widgets/controls",
            "_view_module_version": "1.5.0",
            "_view_name": "HBoxView",
            "box_style": "",
            "children": [
              "IPY_MODEL_7716d63a71184806a57c2a7ea3d25564",
              "IPY_MODEL_d8ef442231e24d4eb5354cdf9ca9c580",
              "IPY_MODEL_6a3437ff798341ad8495cc3c8a5c912e"
            ],
            "layout": "IPY_MODEL_a70dc427f1b64231a32393bbe05d9e29"
          }
        },
        "9857b5fbde0b454dbb37d96fc2cd6fa4": {
          "model_module": "@jupyter-widgets/controls",
          "model_module_version": "1.5.0",
          "model_name": "HTMLModel",
          "state": {
            "_dom_classes": [],
            "_model_module": "@jupyter-widgets/controls",
            "_model_module_version": "1.5.0",
            "_model_name": "HTMLModel",
            "_view_count": null,
            "_view_module": "@jupyter-widgets/controls",
            "_view_module_version": "1.5.0",
            "_view_name": "HTMLView",
            "description": "",
            "description_tooltip": null,
            "layout": "IPY_MODEL_185ff0e333ee4a2eac0c354360fc3dcb",
            "placeholder": "​",
            "style": "IPY_MODEL_103121cc0016473d92374ed3976c7a35",
            "value": " 0/1 [00:00&lt;?, ?it/s]"
          }
        },
        "9945b02fedfa429d8ebd2998f4eaa8e5": {
          "model_module": "@jupyter-widgets/base",
          "model_module_version": "1.2.0",
          "model_name": "LayoutModel",
          "state": {
            "_model_module": "@jupyter-widgets/base",
            "_model_module_version": "1.2.0",
            "_model_name": "LayoutModel",
            "_view_count": null,
            "_view_module": "@jupyter-widgets/base",
            "_view_module_version": "1.2.0",
            "_view_name": "LayoutView",
            "align_content": null,
            "align_items": null,
            "align_self": null,
            "border": null,
            "bottom": null,
            "display": null,
            "flex": null,
            "flex_flow": null,
            "grid_area": null,
            "grid_auto_columns": null,
            "grid_auto_flow": null,
            "grid_auto_rows": null,
            "grid_column": null,
            "grid_gap": null,
            "grid_row": null,
            "grid_template_areas": null,
            "grid_template_columns": null,
            "grid_template_rows": null,
            "height": null,
            "justify_content": null,
            "justify_items": null,
            "left": null,
            "margin": null,
            "max_height": null,
            "max_width": null,
            "min_height": null,
            "min_width": null,
            "object_fit": null,
            "object_position": null,
            "order": null,
            "overflow": null,
            "overflow_x": null,
            "overflow_y": null,
            "padding": null,
            "right": null,
            "top": null,
            "visibility": null,
            "width": null
          }
        },
        "99edba6e57f0460b8fffb6d4159106bc": {
          "model_module": "@jupyter-widgets/controls",
          "model_module_version": "1.5.0",
          "model_name": "HBoxModel",
          "state": {
            "_dom_classes": [],
            "_model_module": "@jupyter-widgets/controls",
            "_model_module_version": "1.5.0",
            "_model_name": "HBoxModel",
            "_view_count": null,
            "_view_module": "@jupyter-widgets/controls",
            "_view_module_version": "1.5.0",
            "_view_name": "HBoxView",
            "box_style": "",
            "children": [
              "IPY_MODEL_27beeef7494644799c2a70fd27271671",
              "IPY_MODEL_7ef5598ecfc94a8c9c83d577fef7a81e",
              "IPY_MODEL_ff722b49857e4aafbe4e63217b305e7c"
            ],
            "layout": "IPY_MODEL_d985c7eaf78b4503b32ecb41204b3028"
          }
        },
        "9a72e0d2403b49508d43b474e3d86068": {
          "model_module": "@jupyter-widgets/controls",
          "model_module_version": "1.5.0",
          "model_name": "HTMLModel",
          "state": {
            "_dom_classes": [],
            "_model_module": "@jupyter-widgets/controls",
            "_model_module_version": "1.5.0",
            "_model_name": "HTMLModel",
            "_view_count": null,
            "_view_module": "@jupyter-widgets/controls",
            "_view_module_version": "1.5.0",
            "_view_name": "HTMLView",
            "description": "",
            "description_tooltip": null,
            "layout": "IPY_MODEL_2b39e449550f472d9bc08d2c9f1ab66e",
            "placeholder": "​",
            "style": "IPY_MODEL_a81f9c47635446bfaa356e879ed5b404",
            "value": "9178oxsn:   0%"
          }
        },
        "9b97b49ee7144ae68da057c409dd950c": {
          "model_module": "@jupyter-widgets/base",
          "model_module_version": "1.2.0",
          "model_name": "LayoutModel",
          "state": {
            "_model_module": "@jupyter-widgets/base",
            "_model_module_version": "1.2.0",
            "_model_name": "LayoutModel",
            "_view_count": null,
            "_view_module": "@jupyter-widgets/base",
            "_view_module_version": "1.2.0",
            "_view_name": "LayoutView",
            "align_content": null,
            "align_items": null,
            "align_self": null,
            "border": null,
            "bottom": null,
            "display": null,
            "flex": null,
            "flex_flow": null,
            "grid_area": null,
            "grid_auto_columns": null,
            "grid_auto_flow": null,
            "grid_auto_rows": null,
            "grid_column": null,
            "grid_gap": null,
            "grid_row": null,
            "grid_template_areas": null,
            "grid_template_columns": null,
            "grid_template_rows": null,
            "height": null,
            "justify_content": null,
            "justify_items": null,
            "left": null,
            "margin": null,
            "max_height": null,
            "max_width": null,
            "min_height": null,
            "min_width": null,
            "object_fit": null,
            "object_position": null,
            "order": null,
            "overflow": null,
            "overflow_x": null,
            "overflow_y": null,
            "padding": null,
            "right": null,
            "top": null,
            "visibility": "hidden",
            "width": null
          }
        },
        "9cb5b94ad5774b4f86030c380ba019b0": {
          "model_module": "@jupyter-widgets/controls",
          "model_module_version": "1.5.0",
          "model_name": "ProgressStyleModel",
          "state": {
            "_model_module": "@jupyter-widgets/controls",
            "_model_module_version": "1.5.0",
            "_model_name": "ProgressStyleModel",
            "_view_count": null,
            "_view_module": "@jupyter-widgets/base",
            "_view_module_version": "1.2.0",
            "_view_name": "StyleView",
            "bar_color": null,
            "description_width": ""
          }
        },
        "9db64d54b9dd4528be0028f8f7610f89": {
          "model_module": "@jupyter-widgets/base",
          "model_module_version": "1.2.0",
          "model_name": "LayoutModel",
          "state": {
            "_model_module": "@jupyter-widgets/base",
            "_model_module_version": "1.2.0",
            "_model_name": "LayoutModel",
            "_view_count": null,
            "_view_module": "@jupyter-widgets/base",
            "_view_module_version": "1.2.0",
            "_view_name": "LayoutView",
            "align_content": null,
            "align_items": null,
            "align_self": null,
            "border": null,
            "bottom": null,
            "display": null,
            "flex": null,
            "flex_flow": null,
            "grid_area": null,
            "grid_auto_columns": null,
            "grid_auto_flow": null,
            "grid_auto_rows": null,
            "grid_column": null,
            "grid_gap": null,
            "grid_row": null,
            "grid_template_areas": null,
            "grid_template_columns": null,
            "grid_template_rows": null,
            "height": null,
            "justify_content": null,
            "justify_items": null,
            "left": null,
            "margin": null,
            "max_height": null,
            "max_width": null,
            "min_height": null,
            "min_width": null,
            "object_fit": null,
            "object_position": null,
            "order": null,
            "overflow": null,
            "overflow_x": null,
            "overflow_y": null,
            "padding": null,
            "right": null,
            "top": null,
            "visibility": null,
            "width": null
          }
        },
        "9eaaf89b57d94865ae7cf4c1aed40a48": {
          "model_module": "@jupyter-widgets/controls",
          "model_module_version": "1.5.0",
          "model_name": "ProgressStyleModel",
          "state": {
            "_model_module": "@jupyter-widgets/controls",
            "_model_module_version": "1.5.0",
            "_model_name": "ProgressStyleModel",
            "_view_count": null,
            "_view_module": "@jupyter-widgets/base",
            "_view_module_version": "1.2.0",
            "_view_name": "StyleView",
            "bar_color": null,
            "description_width": ""
          }
        },
        "9f2f5d926d654ac7a550090053ca8eb7": {
          "model_module": "@jupyter-widgets/controls",
          "model_module_version": "1.5.0",
          "model_name": "DescriptionStyleModel",
          "state": {
            "_model_module": "@jupyter-widgets/controls",
            "_model_module_version": "1.5.0",
            "_model_name": "DescriptionStyleModel",
            "_view_count": null,
            "_view_module": "@jupyter-widgets/base",
            "_view_module_version": "1.2.0",
            "_view_name": "StyleView",
            "description_width": ""
          }
        },
        "9ffa5943f602407e8d3069cf7f1846cb": {
          "model_module": "@jupyter-widgets/controls",
          "model_module_version": "1.5.0",
          "model_name": "HBoxModel",
          "state": {
            "_dom_classes": [],
            "_model_module": "@jupyter-widgets/controls",
            "_model_module_version": "1.5.0",
            "_model_name": "HBoxModel",
            "_view_count": null,
            "_view_module": "@jupyter-widgets/controls",
            "_view_module_version": "1.5.0",
            "_view_name": "HBoxView",
            "box_style": "",
            "children": [
              "IPY_MODEL_314c2d9087834f56bce2dc018407c6bd",
              "IPY_MODEL_78f1a67be60240d48037d439d4bfd9d2",
              "IPY_MODEL_628075770e384b70a78731726f275aa3"
            ],
            "layout": "IPY_MODEL_9b97b49ee7144ae68da057c409dd950c"
          }
        },
        "a2310c34648c42949c6895945faa9d24": {
          "model_module": "@jupyter-widgets/controls",
          "model_module_version": "1.5.0",
          "model_name": "HTMLModel",
          "state": {
            "_dom_classes": [],
            "_model_module": "@jupyter-widgets/controls",
            "_model_module_version": "1.5.0",
            "_model_name": "HTMLModel",
            "_view_count": null,
            "_view_module": "@jupyter-widgets/controls",
            "_view_module_version": "1.5.0",
            "_view_name": "HTMLView",
            "description": "",
            "description_tooltip": null,
            "layout": "IPY_MODEL_cf02403c05c54d709e80e0451a9b6b92",
            "placeholder": "​",
            "style": "IPY_MODEL_c79b34e7ee9e4dd9a70efe477fc66904",
            "value": " 0/0 [00:00&lt;?, ?it/s]"
          }
        },
        "a2b2203598b64e558cd8e711dd50b531": {
          "model_module": "@jupyter-widgets/base",
          "model_module_version": "1.2.0",
          "model_name": "LayoutModel",
          "state": {
            "_model_module": "@jupyter-widgets/base",
            "_model_module_version": "1.2.0",
            "_model_name": "LayoutModel",
            "_view_count": null,
            "_view_module": "@jupyter-widgets/base",
            "_view_module_version": "1.2.0",
            "_view_name": "LayoutView",
            "align_content": null,
            "align_items": null,
            "align_self": null,
            "border": null,
            "bottom": null,
            "display": null,
            "flex": null,
            "flex_flow": null,
            "grid_area": null,
            "grid_auto_columns": null,
            "grid_auto_flow": null,
            "grid_auto_rows": null,
            "grid_column": null,
            "grid_gap": null,
            "grid_row": null,
            "grid_template_areas": null,
            "grid_template_columns": null,
            "grid_template_rows": null,
            "height": null,
            "justify_content": null,
            "justify_items": null,
            "left": null,
            "margin": null,
            "max_height": null,
            "max_width": null,
            "min_height": null,
            "min_width": null,
            "object_fit": null,
            "object_position": null,
            "order": null,
            "overflow": null,
            "overflow_x": null,
            "overflow_y": null,
            "padding": null,
            "right": null,
            "top": null,
            "visibility": null,
            "width": null
          }
        },
        "a3acc6d81ee14bbf9a5373b989d2542a": {
          "model_module": "@jupyter-widgets/base",
          "model_module_version": "1.2.0",
          "model_name": "LayoutModel",
          "state": {
            "_model_module": "@jupyter-widgets/base",
            "_model_module_version": "1.2.0",
            "_model_name": "LayoutModel",
            "_view_count": null,
            "_view_module": "@jupyter-widgets/base",
            "_view_module_version": "1.2.0",
            "_view_name": "LayoutView",
            "align_content": null,
            "align_items": null,
            "align_self": null,
            "border": null,
            "bottom": null,
            "display": null,
            "flex": null,
            "flex_flow": null,
            "grid_area": null,
            "grid_auto_columns": null,
            "grid_auto_flow": null,
            "grid_auto_rows": null,
            "grid_column": null,
            "grid_gap": null,
            "grid_row": null,
            "grid_template_areas": null,
            "grid_template_columns": null,
            "grid_template_rows": null,
            "height": null,
            "justify_content": null,
            "justify_items": null,
            "left": null,
            "margin": null,
            "max_height": null,
            "max_width": null,
            "min_height": null,
            "min_width": null,
            "object_fit": null,
            "object_position": null,
            "order": null,
            "overflow": null,
            "overflow_x": null,
            "overflow_y": null,
            "padding": null,
            "right": null,
            "top": null,
            "visibility": null,
            "width": null
          }
        },
        "a4828c98612946eb98ce3230b0f88554": {
          "model_module": "@jupyter-widgets/base",
          "model_module_version": "1.2.0",
          "model_name": "LayoutModel",
          "state": {
            "_model_module": "@jupyter-widgets/base",
            "_model_module_version": "1.2.0",
            "_model_name": "LayoutModel",
            "_view_count": null,
            "_view_module": "@jupyter-widgets/base",
            "_view_module_version": "1.2.0",
            "_view_name": "LayoutView",
            "align_content": null,
            "align_items": null,
            "align_self": null,
            "border": null,
            "bottom": null,
            "display": null,
            "flex": null,
            "flex_flow": null,
            "grid_area": null,
            "grid_auto_columns": null,
            "grid_auto_flow": null,
            "grid_auto_rows": null,
            "grid_column": null,
            "grid_gap": null,
            "grid_row": null,
            "grid_template_areas": null,
            "grid_template_columns": null,
            "grid_template_rows": null,
            "height": null,
            "justify_content": null,
            "justify_items": null,
            "left": null,
            "margin": null,
            "max_height": null,
            "max_width": null,
            "min_height": null,
            "min_width": null,
            "object_fit": null,
            "object_position": null,
            "order": null,
            "overflow": null,
            "overflow_x": null,
            "overflow_y": null,
            "padding": null,
            "right": null,
            "top": null,
            "visibility": null,
            "width": null
          }
        },
        "a4fb48804dde416a89a400fb4c897273": {
          "model_module": "@jupyter-widgets/controls",
          "model_module_version": "1.5.0",
          "model_name": "ProgressStyleModel",
          "state": {
            "_model_module": "@jupyter-widgets/controls",
            "_model_module_version": "1.5.0",
            "_model_name": "ProgressStyleModel",
            "_view_count": null,
            "_view_module": "@jupyter-widgets/base",
            "_view_module_version": "1.2.0",
            "_view_name": "StyleView",
            "bar_color": null,
            "description_width": ""
          }
        },
        "a5d4bf872dbf471aaf039672edffe194": {
          "model_module": "@jupyter-widgets/controls",
          "model_module_version": "1.5.0",
          "model_name": "DescriptionStyleModel",
          "state": {
            "_model_module": "@jupyter-widgets/controls",
            "_model_module_version": "1.5.0",
            "_model_name": "DescriptionStyleModel",
            "_view_count": null,
            "_view_module": "@jupyter-widgets/base",
            "_view_module_version": "1.2.0",
            "_view_name": "StyleView",
            "description_width": ""
          }
        },
        "a70dc427f1b64231a32393bbe05d9e29": {
          "model_module": "@jupyter-widgets/base",
          "model_module_version": "1.2.0",
          "model_name": "LayoutModel",
          "state": {
            "_model_module": "@jupyter-widgets/base",
            "_model_module_version": "1.2.0",
            "_model_name": "LayoutModel",
            "_view_count": null,
            "_view_module": "@jupyter-widgets/base",
            "_view_module_version": "1.2.0",
            "_view_name": "LayoutView",
            "align_content": null,
            "align_items": null,
            "align_self": null,
            "border": null,
            "bottom": null,
            "display": null,
            "flex": null,
            "flex_flow": null,
            "grid_area": null,
            "grid_auto_columns": null,
            "grid_auto_flow": null,
            "grid_auto_rows": null,
            "grid_column": null,
            "grid_gap": null,
            "grid_row": null,
            "grid_template_areas": null,
            "grid_template_columns": null,
            "grid_template_rows": null,
            "height": null,
            "justify_content": null,
            "justify_items": null,
            "left": null,
            "margin": null,
            "max_height": null,
            "max_width": null,
            "min_height": null,
            "min_width": null,
            "object_fit": null,
            "object_position": null,
            "order": null,
            "overflow": null,
            "overflow_x": null,
            "overflow_y": null,
            "padding": null,
            "right": null,
            "top": null,
            "visibility": "hidden",
            "width": null
          }
        },
        "a724d3bb14d1400ca6471412ab974c3e": {
          "model_module": "@jupyter-widgets/base",
          "model_module_version": "1.2.0",
          "model_name": "LayoutModel",
          "state": {
            "_model_module": "@jupyter-widgets/base",
            "_model_module_version": "1.2.0",
            "_model_name": "LayoutModel",
            "_view_count": null,
            "_view_module": "@jupyter-widgets/base",
            "_view_module_version": "1.2.0",
            "_view_name": "LayoutView",
            "align_content": null,
            "align_items": null,
            "align_self": null,
            "border": null,
            "bottom": null,
            "display": null,
            "flex": null,
            "flex_flow": null,
            "grid_area": null,
            "grid_auto_columns": null,
            "grid_auto_flow": null,
            "grid_auto_rows": null,
            "grid_column": null,
            "grid_gap": null,
            "grid_row": null,
            "grid_template_areas": null,
            "grid_template_columns": null,
            "grid_template_rows": null,
            "height": null,
            "justify_content": null,
            "justify_items": null,
            "left": null,
            "margin": null,
            "max_height": null,
            "max_width": null,
            "min_height": null,
            "min_width": null,
            "object_fit": null,
            "object_position": null,
            "order": null,
            "overflow": null,
            "overflow_x": null,
            "overflow_y": null,
            "padding": null,
            "right": null,
            "top": null,
            "visibility": null,
            "width": null
          }
        },
        "a81f9c47635446bfaa356e879ed5b404": {
          "model_module": "@jupyter-widgets/controls",
          "model_module_version": "1.5.0",
          "model_name": "DescriptionStyleModel",
          "state": {
            "_model_module": "@jupyter-widgets/controls",
            "_model_module_version": "1.5.0",
            "_model_name": "DescriptionStyleModel",
            "_view_count": null,
            "_view_module": "@jupyter-widgets/base",
            "_view_module_version": "1.2.0",
            "_view_name": "StyleView",
            "description_width": ""
          }
        },
        "a9ae112f359946c695537aca5f3a775f": {
          "model_module": "@jupyter-widgets/controls",
          "model_module_version": "1.5.0",
          "model_name": "DescriptionStyleModel",
          "state": {
            "_model_module": "@jupyter-widgets/controls",
            "_model_module_version": "1.5.0",
            "_model_name": "DescriptionStyleModel",
            "_view_count": null,
            "_view_module": "@jupyter-widgets/base",
            "_view_module_version": "1.2.0",
            "_view_name": "StyleView",
            "description_width": ""
          }
        },
        "a9ee5f6b3c164ee5a5a16596e1d3abea": {
          "model_module": "@jupyter-widgets/controls",
          "model_module_version": "1.5.0",
          "model_name": "HTMLModel",
          "state": {
            "_dom_classes": [],
            "_model_module": "@jupyter-widgets/controls",
            "_model_module_version": "1.5.0",
            "_model_name": "HTMLModel",
            "_view_count": null,
            "_view_module": "@jupyter-widgets/controls",
            "_view_module_version": "1.5.0",
            "_view_name": "HTMLView",
            "description": "",
            "description_tooltip": null,
            "layout": "IPY_MODEL_a724d3bb14d1400ca6471412ab974c3e",
            "placeholder": "​",
            "style": "IPY_MODEL_b3cbbed0d7d24007bdd608a8ce29f02e",
            "value": "2h92q9es:   0%"
          }
        },
        "ab2fd943592b445fbdd9537ccdc496bb": {
          "model_module": "@jupyter-widgets/controls",
          "model_module_version": "1.5.0",
          "model_name": "HBoxModel",
          "state": {
            "_dom_classes": [],
            "_model_module": "@jupyter-widgets/controls",
            "_model_module_version": "1.5.0",
            "_model_name": "HBoxModel",
            "_view_count": null,
            "_view_module": "@jupyter-widgets/controls",
            "_view_module_version": "1.5.0",
            "_view_name": "HBoxView",
            "box_style": "",
            "children": [
              "IPY_MODEL_d402980fee4a45e980dc2e11832889e3",
              "IPY_MODEL_138715f94aeb468a888eec48bdec66ed",
              "IPY_MODEL_d24d4ac38a3648e7961478545f914b68"
            ],
            "layout": "IPY_MODEL_a4828c98612946eb98ce3230b0f88554"
          }
        },
        "ac30035a8308473cad0a6efb372285bd": {
          "model_module": "@jupyter-widgets/controls",
          "model_module_version": "1.5.0",
          "model_name": "DescriptionStyleModel",
          "state": {
            "_model_module": "@jupyter-widgets/controls",
            "_model_module_version": "1.5.0",
            "_model_name": "DescriptionStyleModel",
            "_view_count": null,
            "_view_module": "@jupyter-widgets/base",
            "_view_module_version": "1.2.0",
            "_view_name": "StyleView",
            "description_width": ""
          }
        },
        "ad264f8d60774549ab67006a4dd6e4f7": {
          "model_module": "@jupyter-widgets/base",
          "model_module_version": "1.2.0",
          "model_name": "LayoutModel",
          "state": {
            "_model_module": "@jupyter-widgets/base",
            "_model_module_version": "1.2.0",
            "_model_name": "LayoutModel",
            "_view_count": null,
            "_view_module": "@jupyter-widgets/base",
            "_view_module_version": "1.2.0",
            "_view_name": "LayoutView",
            "align_content": null,
            "align_items": null,
            "align_self": null,
            "border": null,
            "bottom": null,
            "display": null,
            "flex": null,
            "flex_flow": null,
            "grid_area": null,
            "grid_auto_columns": null,
            "grid_auto_flow": null,
            "grid_auto_rows": null,
            "grid_column": null,
            "grid_gap": null,
            "grid_row": null,
            "grid_template_areas": null,
            "grid_template_columns": null,
            "grid_template_rows": null,
            "height": null,
            "justify_content": null,
            "justify_items": null,
            "left": null,
            "margin": null,
            "max_height": null,
            "max_width": null,
            "min_height": null,
            "min_width": null,
            "object_fit": null,
            "object_position": null,
            "order": null,
            "overflow": null,
            "overflow_x": null,
            "overflow_y": null,
            "padding": null,
            "right": null,
            "top": null,
            "visibility": "hidden",
            "width": null
          }
        },
        "aef4212c27b04ec686054063cf23f371": {
          "model_module": "@jupyter-widgets/base",
          "model_module_version": "1.2.0",
          "model_name": "LayoutModel",
          "state": {
            "_model_module": "@jupyter-widgets/base",
            "_model_module_version": "1.2.0",
            "_model_name": "LayoutModel",
            "_view_count": null,
            "_view_module": "@jupyter-widgets/base",
            "_view_module_version": "1.2.0",
            "_view_name": "LayoutView",
            "align_content": null,
            "align_items": null,
            "align_self": null,
            "border": null,
            "bottom": null,
            "display": null,
            "flex": null,
            "flex_flow": null,
            "grid_area": null,
            "grid_auto_columns": null,
            "grid_auto_flow": null,
            "grid_auto_rows": null,
            "grid_column": null,
            "grid_gap": null,
            "grid_row": null,
            "grid_template_areas": null,
            "grid_template_columns": null,
            "grid_template_rows": null,
            "height": null,
            "justify_content": null,
            "justify_items": null,
            "left": null,
            "margin": null,
            "max_height": null,
            "max_width": null,
            "min_height": null,
            "min_width": null,
            "object_fit": null,
            "object_position": null,
            "order": null,
            "overflow": null,
            "overflow_x": null,
            "overflow_y": null,
            "padding": null,
            "right": null,
            "top": null,
            "visibility": "hidden",
            "width": null
          }
        },
        "afa5bf4dd05d4d7c929f18a1dffafcec": {
          "model_module": "@jupyter-widgets/controls",
          "model_module_version": "1.5.0",
          "model_name": "HTMLModel",
          "state": {
            "_dom_classes": [],
            "_model_module": "@jupyter-widgets/controls",
            "_model_module_version": "1.5.0",
            "_model_name": "HTMLModel",
            "_view_count": null,
            "_view_module": "@jupyter-widgets/controls",
            "_view_module_version": "1.5.0",
            "_view_name": "HTMLView",
            "description": "",
            "description_tooltip": null,
            "layout": "IPY_MODEL_4257c005e9ba4f5e8ccd9640184e70c1",
            "placeholder": "​",
            "style": "IPY_MODEL_44027fe812d34c2aa3676985dc11a9ed",
            "value": " 0/1 [00:00&lt;?, ?it/s]"
          }
        },
        "b2c07cd963dc44df81fde2b3fbf3bd23": {
          "model_module": "@jupyter-widgets/controls",
          "model_module_version": "1.5.0",
          "model_name": "FloatProgressModel",
          "state": {
            "_dom_classes": [],
            "_model_module": "@jupyter-widgets/controls",
            "_model_module_version": "1.5.0",
            "_model_name": "FloatProgressModel",
            "_view_count": null,
            "_view_module": "@jupyter-widgets/controls",
            "_view_module_version": "1.5.0",
            "_view_name": "ProgressView",
            "bar_style": "",
            "description": "",
            "description_tooltip": null,
            "layout": "IPY_MODEL_c47c2b4092a34c2f83c691e83266f547",
            "max": 7,
            "min": 0,
            "orientation": "horizontal",
            "style": "IPY_MODEL_9cb5b94ad5774b4f86030c380ba019b0",
            "value": 7
          }
        },
        "b307779ed38f4b29b00e67224925a78e": {
          "model_module": "@jupyter-widgets/base",
          "model_module_version": "1.2.0",
          "model_name": "LayoutModel",
          "state": {
            "_model_module": "@jupyter-widgets/base",
            "_model_module_version": "1.2.0",
            "_model_name": "LayoutModel",
            "_view_count": null,
            "_view_module": "@jupyter-widgets/base",
            "_view_module_version": "1.2.0",
            "_view_name": "LayoutView",
            "align_content": null,
            "align_items": null,
            "align_self": null,
            "border": null,
            "bottom": null,
            "display": null,
            "flex": null,
            "flex_flow": null,
            "grid_area": null,
            "grid_auto_columns": null,
            "grid_auto_flow": null,
            "grid_auto_rows": null,
            "grid_column": null,
            "grid_gap": null,
            "grid_row": null,
            "grid_template_areas": null,
            "grid_template_columns": null,
            "grid_template_rows": null,
            "height": null,
            "justify_content": null,
            "justify_items": null,
            "left": null,
            "margin": null,
            "max_height": null,
            "max_width": null,
            "min_height": null,
            "min_width": null,
            "object_fit": null,
            "object_position": null,
            "order": null,
            "overflow": null,
            "overflow_x": null,
            "overflow_y": null,
            "padding": null,
            "right": null,
            "top": null,
            "visibility": null,
            "width": null
          }
        },
        "b3aaa9058f124146957d83914cadc685": {
          "model_module": "@jupyter-widgets/base",
          "model_module_version": "1.2.0",
          "model_name": "LayoutModel",
          "state": {
            "_model_module": "@jupyter-widgets/base",
            "_model_module_version": "1.2.0",
            "_model_name": "LayoutModel",
            "_view_count": null,
            "_view_module": "@jupyter-widgets/base",
            "_view_module_version": "1.2.0",
            "_view_name": "LayoutView",
            "align_content": null,
            "align_items": null,
            "align_self": null,
            "border": null,
            "bottom": null,
            "display": null,
            "flex": null,
            "flex_flow": null,
            "grid_area": null,
            "grid_auto_columns": null,
            "grid_auto_flow": null,
            "grid_auto_rows": null,
            "grid_column": null,
            "grid_gap": null,
            "grid_row": null,
            "grid_template_areas": null,
            "grid_template_columns": null,
            "grid_template_rows": null,
            "height": null,
            "justify_content": null,
            "justify_items": null,
            "left": null,
            "margin": null,
            "max_height": null,
            "max_width": null,
            "min_height": null,
            "min_width": null,
            "object_fit": null,
            "object_position": null,
            "order": null,
            "overflow": null,
            "overflow_x": null,
            "overflow_y": null,
            "padding": null,
            "right": null,
            "top": null,
            "visibility": null,
            "width": null
          }
        },
        "b3cbbed0d7d24007bdd608a8ce29f02e": {
          "model_module": "@jupyter-widgets/controls",
          "model_module_version": "1.5.0",
          "model_name": "DescriptionStyleModel",
          "state": {
            "_model_module": "@jupyter-widgets/controls",
            "_model_module_version": "1.5.0",
            "_model_name": "DescriptionStyleModel",
            "_view_count": null,
            "_view_module": "@jupyter-widgets/base",
            "_view_module_version": "1.2.0",
            "_view_name": "StyleView",
            "description_width": ""
          }
        },
        "b4a43b32a58341a69e28d5e8dca42bd7": {
          "model_module": "@jupyter-widgets/controls",
          "model_module_version": "1.5.0",
          "model_name": "ProgressStyleModel",
          "state": {
            "_model_module": "@jupyter-widgets/controls",
            "_model_module_version": "1.5.0",
            "_model_name": "ProgressStyleModel",
            "_view_count": null,
            "_view_module": "@jupyter-widgets/base",
            "_view_module_version": "1.2.0",
            "_view_name": "StyleView",
            "bar_color": null,
            "description_width": ""
          }
        },
        "b4d666a57e2345fdbd96ee8f92cc28ae": {
          "model_module": "@jupyter-widgets/base",
          "model_module_version": "1.2.0",
          "model_name": "LayoutModel",
          "state": {
            "_model_module": "@jupyter-widgets/base",
            "_model_module_version": "1.2.0",
            "_model_name": "LayoutModel",
            "_view_count": null,
            "_view_module": "@jupyter-widgets/base",
            "_view_module_version": "1.2.0",
            "_view_name": "LayoutView",
            "align_content": null,
            "align_items": null,
            "align_self": null,
            "border": null,
            "bottom": null,
            "display": null,
            "flex": null,
            "flex_flow": null,
            "grid_area": null,
            "grid_auto_columns": null,
            "grid_auto_flow": null,
            "grid_auto_rows": null,
            "grid_column": null,
            "grid_gap": null,
            "grid_row": null,
            "grid_template_areas": null,
            "grid_template_columns": null,
            "grid_template_rows": null,
            "height": null,
            "justify_content": null,
            "justify_items": null,
            "left": null,
            "margin": null,
            "max_height": null,
            "max_width": null,
            "min_height": null,
            "min_width": null,
            "object_fit": null,
            "object_position": null,
            "order": null,
            "overflow": null,
            "overflow_x": null,
            "overflow_y": null,
            "padding": null,
            "right": null,
            "top": null,
            "visibility": null,
            "width": null
          }
        },
        "b5f8a99afd864a68975ca46ac3e0f04e": {
          "model_module": "@jupyter-widgets/controls",
          "model_module_version": "1.5.0",
          "model_name": "DescriptionStyleModel",
          "state": {
            "_model_module": "@jupyter-widgets/controls",
            "_model_module_version": "1.5.0",
            "_model_name": "DescriptionStyleModel",
            "_view_count": null,
            "_view_module": "@jupyter-widgets/base",
            "_view_module_version": "1.2.0",
            "_view_name": "StyleView",
            "description_width": ""
          }
        },
        "b651d2996da344f6b3dce47610bff00f": {
          "model_module": "@jupyter-widgets/base",
          "model_module_version": "1.2.0",
          "model_name": "LayoutModel",
          "state": {
            "_model_module": "@jupyter-widgets/base",
            "_model_module_version": "1.2.0",
            "_model_name": "LayoutModel",
            "_view_count": null,
            "_view_module": "@jupyter-widgets/base",
            "_view_module_version": "1.2.0",
            "_view_name": "LayoutView",
            "align_content": null,
            "align_items": null,
            "align_self": null,
            "border": null,
            "bottom": null,
            "display": null,
            "flex": null,
            "flex_flow": null,
            "grid_area": null,
            "grid_auto_columns": null,
            "grid_auto_flow": null,
            "grid_auto_rows": null,
            "grid_column": null,
            "grid_gap": null,
            "grid_row": null,
            "grid_template_areas": null,
            "grid_template_columns": null,
            "grid_template_rows": null,
            "height": null,
            "justify_content": null,
            "justify_items": null,
            "left": null,
            "margin": null,
            "max_height": null,
            "max_width": null,
            "min_height": null,
            "min_width": null,
            "object_fit": null,
            "object_position": null,
            "order": null,
            "overflow": null,
            "overflow_x": null,
            "overflow_y": null,
            "padding": null,
            "right": null,
            "top": null,
            "visibility": null,
            "width": null
          }
        },
        "b98b156070a2467299e6c6e32ed0c0af": {
          "model_module": "@jupyter-widgets/controls",
          "model_module_version": "1.5.0",
          "model_name": "HBoxModel",
          "state": {
            "_dom_classes": [],
            "_model_module": "@jupyter-widgets/controls",
            "_model_module_version": "1.5.0",
            "_model_name": "HBoxModel",
            "_view_count": null,
            "_view_module": "@jupyter-widgets/controls",
            "_view_module_version": "1.5.0",
            "_view_name": "HBoxView",
            "box_style": "",
            "children": [
              "IPY_MODEL_1685b970bf1f499fb771bb1938298940",
              "IPY_MODEL_5e957c2dedb84c0aa01452486959f613",
              "IPY_MODEL_6bc53895fceb4ce8a49d6d0b6cf8c327"
            ],
            "layout": "IPY_MODEL_295031f4924f44b4a9bd2d25819cce74"
          }
        },
        "bb38f34c2d8046ffa460e2da551df472": {
          "model_module": "@jupyter-widgets/base",
          "model_module_version": "1.2.0",
          "model_name": "LayoutModel",
          "state": {
            "_model_module": "@jupyter-widgets/base",
            "_model_module_version": "1.2.0",
            "_model_name": "LayoutModel",
            "_view_count": null,
            "_view_module": "@jupyter-widgets/base",
            "_view_module_version": "1.2.0",
            "_view_name": "LayoutView",
            "align_content": null,
            "align_items": null,
            "align_self": null,
            "border": null,
            "bottom": null,
            "display": null,
            "flex": null,
            "flex_flow": null,
            "grid_area": null,
            "grid_auto_columns": null,
            "grid_auto_flow": null,
            "grid_auto_rows": null,
            "grid_column": null,
            "grid_gap": null,
            "grid_row": null,
            "grid_template_areas": null,
            "grid_template_columns": null,
            "grid_template_rows": null,
            "height": null,
            "justify_content": null,
            "justify_items": null,
            "left": null,
            "margin": null,
            "max_height": null,
            "max_width": null,
            "min_height": null,
            "min_width": null,
            "object_fit": null,
            "object_position": null,
            "order": null,
            "overflow": null,
            "overflow_x": null,
            "overflow_y": null,
            "padding": null,
            "right": null,
            "top": null,
            "visibility": null,
            "width": null
          }
        },
        "bb5ff0af563f4f90b4f2727db9fff3f2": {
          "model_module": "@jupyter-widgets/controls",
          "model_module_version": "1.5.0",
          "model_name": "HBoxModel",
          "state": {
            "_dom_classes": [],
            "_model_module": "@jupyter-widgets/controls",
            "_model_module_version": "1.5.0",
            "_model_name": "HBoxModel",
            "_view_count": null,
            "_view_module": "@jupyter-widgets/controls",
            "_view_module_version": "1.5.0",
            "_view_name": "HBoxView",
            "box_style": "",
            "children": [
              "IPY_MODEL_97ed98e9c0b5477ba320a7dbc3335ed9",
              "IPY_MODEL_6296437f4d734139989d16e724c71a61",
              "IPY_MODEL_465dc9e58a3941fc89bd6397e74f11cd"
            ],
            "layout": "IPY_MODEL_409f04ef723d4c06b966cbac33497652"
          }
        },
        "be968db7cbb2432db97bc572d70a6254": {
          "model_module": "@jupyter-widgets/base",
          "model_module_version": "1.2.0",
          "model_name": "LayoutModel",
          "state": {
            "_model_module": "@jupyter-widgets/base",
            "_model_module_version": "1.2.0",
            "_model_name": "LayoutModel",
            "_view_count": null,
            "_view_module": "@jupyter-widgets/base",
            "_view_module_version": "1.2.0",
            "_view_name": "LayoutView",
            "align_content": null,
            "align_items": null,
            "align_self": null,
            "border": null,
            "bottom": null,
            "display": null,
            "flex": null,
            "flex_flow": null,
            "grid_area": null,
            "grid_auto_columns": null,
            "grid_auto_flow": null,
            "grid_auto_rows": null,
            "grid_column": null,
            "grid_gap": null,
            "grid_row": null,
            "grid_template_areas": null,
            "grid_template_columns": null,
            "grid_template_rows": null,
            "height": null,
            "justify_content": null,
            "justify_items": null,
            "left": null,
            "margin": null,
            "max_height": null,
            "max_width": null,
            "min_height": null,
            "min_width": null,
            "object_fit": null,
            "object_position": null,
            "order": null,
            "overflow": null,
            "overflow_x": null,
            "overflow_y": null,
            "padding": null,
            "right": null,
            "top": null,
            "visibility": null,
            "width": null
          }
        },
        "c1d26ed2d3d548c7b532fa430119c672": {
          "model_module": "@jupyter-widgets/controls",
          "model_module_version": "1.5.0",
          "model_name": "FloatProgressModel",
          "state": {
            "_dom_classes": [],
            "_model_module": "@jupyter-widgets/controls",
            "_model_module_version": "1.5.0",
            "_model_name": "FloatProgressModel",
            "_view_count": null,
            "_view_module": "@jupyter-widgets/controls",
            "_view_module_version": "1.5.0",
            "_view_name": "ProgressView",
            "bar_style": "",
            "description": "",
            "description_tooltip": null,
            "layout": "IPY_MODEL_49c5504d7eb546109223b25c47f9be07",
            "max": 1,
            "min": 0,
            "orientation": "horizontal",
            "style": "IPY_MODEL_642a348be3984d02b5a637e7d6f96d2c",
            "value": 1
          }
        },
        "c21b410ef8ed40fbb54803041dcd93c5": {
          "model_module": "@jupyter-widgets/controls",
          "model_module_version": "1.5.0",
          "model_name": "FloatProgressModel",
          "state": {
            "_dom_classes": [],
            "_model_module": "@jupyter-widgets/controls",
            "_model_module_version": "1.5.0",
            "_model_name": "FloatProgressModel",
            "_view_count": null,
            "_view_module": "@jupyter-widgets/controls",
            "_view_module_version": "1.5.0",
            "_view_name": "ProgressView",
            "bar_style": "",
            "description": "",
            "description_tooltip": null,
            "layout": "IPY_MODEL_20717391a9434f87af31dea34ac4234f",
            "max": 1,
            "min": 0,
            "orientation": "horizontal",
            "style": "IPY_MODEL_c268c09c47c4481eba600e6e45dca073",
            "value": 1
          }
        },
        "c25e15dfa92349098c4d4e76cfc28490": {
          "model_module": "@jupyter-widgets/base",
          "model_module_version": "1.2.0",
          "model_name": "LayoutModel",
          "state": {
            "_model_module": "@jupyter-widgets/base",
            "_model_module_version": "1.2.0",
            "_model_name": "LayoutModel",
            "_view_count": null,
            "_view_module": "@jupyter-widgets/base",
            "_view_module_version": "1.2.0",
            "_view_name": "LayoutView",
            "align_content": null,
            "align_items": null,
            "align_self": null,
            "border": null,
            "bottom": null,
            "display": null,
            "flex": null,
            "flex_flow": null,
            "grid_area": null,
            "grid_auto_columns": null,
            "grid_auto_flow": null,
            "grid_auto_rows": null,
            "grid_column": null,
            "grid_gap": null,
            "grid_row": null,
            "grid_template_areas": null,
            "grid_template_columns": null,
            "grid_template_rows": null,
            "height": null,
            "justify_content": null,
            "justify_items": null,
            "left": null,
            "margin": null,
            "max_height": null,
            "max_width": null,
            "min_height": null,
            "min_width": null,
            "object_fit": null,
            "object_position": null,
            "order": null,
            "overflow": null,
            "overflow_x": null,
            "overflow_y": null,
            "padding": null,
            "right": null,
            "top": null,
            "visibility": "hidden",
            "width": null
          }
        },
        "c268c09c47c4481eba600e6e45dca073": {
          "model_module": "@jupyter-widgets/controls",
          "model_module_version": "1.5.0",
          "model_name": "ProgressStyleModel",
          "state": {
            "_model_module": "@jupyter-widgets/controls",
            "_model_module_version": "1.5.0",
            "_model_name": "ProgressStyleModel",
            "_view_count": null,
            "_view_module": "@jupyter-widgets/base",
            "_view_module_version": "1.2.0",
            "_view_name": "StyleView",
            "bar_color": null,
            "description_width": ""
          }
        },
        "c2fd0d1386284dab9e91b4650309f011": {
          "model_module": "@jupyter-widgets/controls",
          "model_module_version": "1.5.0",
          "model_name": "DescriptionStyleModel",
          "state": {
            "_model_module": "@jupyter-widgets/controls",
            "_model_module_version": "1.5.0",
            "_model_name": "DescriptionStyleModel",
            "_view_count": null,
            "_view_module": "@jupyter-widgets/base",
            "_view_module_version": "1.2.0",
            "_view_name": "StyleView",
            "description_width": ""
          }
        },
        "c47c2b4092a34c2f83c691e83266f547": {
          "model_module": "@jupyter-widgets/base",
          "model_module_version": "1.2.0",
          "model_name": "LayoutModel",
          "state": {
            "_model_module": "@jupyter-widgets/base",
            "_model_module_version": "1.2.0",
            "_model_name": "LayoutModel",
            "_view_count": null,
            "_view_module": "@jupyter-widgets/base",
            "_view_module_version": "1.2.0",
            "_view_name": "LayoutView",
            "align_content": null,
            "align_items": null,
            "align_self": null,
            "border": null,
            "bottom": null,
            "display": null,
            "flex": null,
            "flex_flow": null,
            "grid_area": null,
            "grid_auto_columns": null,
            "grid_auto_flow": null,
            "grid_auto_rows": null,
            "grid_column": null,
            "grid_gap": null,
            "grid_row": null,
            "grid_template_areas": null,
            "grid_template_columns": null,
            "grid_template_rows": null,
            "height": null,
            "justify_content": null,
            "justify_items": null,
            "left": null,
            "margin": null,
            "max_height": null,
            "max_width": null,
            "min_height": null,
            "min_width": null,
            "object_fit": null,
            "object_position": null,
            "order": null,
            "overflow": null,
            "overflow_x": null,
            "overflow_y": null,
            "padding": null,
            "right": null,
            "top": null,
            "visibility": null,
            "width": null
          }
        },
        "c5da8a0211ee443394c58aebd2753c13": {
          "model_module": "@jupyter-widgets/controls",
          "model_module_version": "1.5.0",
          "model_name": "DescriptionStyleModel",
          "state": {
            "_model_module": "@jupyter-widgets/controls",
            "_model_module_version": "1.5.0",
            "_model_name": "DescriptionStyleModel",
            "_view_count": null,
            "_view_module": "@jupyter-widgets/base",
            "_view_module_version": "1.2.0",
            "_view_name": "StyleView",
            "description_width": ""
          }
        },
        "c79b34e7ee9e4dd9a70efe477fc66904": {
          "model_module": "@jupyter-widgets/controls",
          "model_module_version": "1.5.0",
          "model_name": "DescriptionStyleModel",
          "state": {
            "_model_module": "@jupyter-widgets/controls",
            "_model_module_version": "1.5.0",
            "_model_name": "DescriptionStyleModel",
            "_view_count": null,
            "_view_module": "@jupyter-widgets/base",
            "_view_module_version": "1.2.0",
            "_view_name": "StyleView",
            "description_width": ""
          }
        },
        "ca1791d6356a41738413e1199e8395e0": {
          "model_module": "@jupyter-widgets/base",
          "model_module_version": "1.2.0",
          "model_name": "LayoutModel",
          "state": {
            "_model_module": "@jupyter-widgets/base",
            "_model_module_version": "1.2.0",
            "_model_name": "LayoutModel",
            "_view_count": null,
            "_view_module": "@jupyter-widgets/base",
            "_view_module_version": "1.2.0",
            "_view_name": "LayoutView",
            "align_content": null,
            "align_items": null,
            "align_self": null,
            "border": null,
            "bottom": null,
            "display": null,
            "flex": null,
            "flex_flow": null,
            "grid_area": null,
            "grid_auto_columns": null,
            "grid_auto_flow": null,
            "grid_auto_rows": null,
            "grid_column": null,
            "grid_gap": null,
            "grid_row": null,
            "grid_template_areas": null,
            "grid_template_columns": null,
            "grid_template_rows": null,
            "height": null,
            "justify_content": null,
            "justify_items": null,
            "left": null,
            "margin": null,
            "max_height": null,
            "max_width": null,
            "min_height": null,
            "min_width": null,
            "object_fit": null,
            "object_position": null,
            "order": null,
            "overflow": null,
            "overflow_x": null,
            "overflow_y": null,
            "padding": null,
            "right": null,
            "top": null,
            "visibility": "hidden",
            "width": null
          }
        },
        "cd00ccd8c9774fd987277c8a01396c6f": {
          "model_module": "@jupyter-widgets/controls",
          "model_module_version": "1.5.0",
          "model_name": "HTMLModel",
          "state": {
            "_dom_classes": [],
            "_model_module": "@jupyter-widgets/controls",
            "_model_module_version": "1.5.0",
            "_model_name": "HTMLModel",
            "_view_count": null,
            "_view_module": "@jupyter-widgets/controls",
            "_view_module_version": "1.5.0",
            "_view_name": "HTMLView",
            "description": "",
            "description_tooltip": null,
            "layout": "IPY_MODEL_1dc8c46682494413920cb820ed529ac6",
            "placeholder": "​",
            "style": "IPY_MODEL_2e67030acea14caea3c09257d59b1d10",
            "value": "fsx0w2s9:   0%"
          }
        },
        "ce351a7f26904f76ad2d6ff61248935c": {
          "model_module": "@jupyter-widgets/base",
          "model_module_version": "1.2.0",
          "model_name": "LayoutModel",
          "state": {
            "_model_module": "@jupyter-widgets/base",
            "_model_module_version": "1.2.0",
            "_model_name": "LayoutModel",
            "_view_count": null,
            "_view_module": "@jupyter-widgets/base",
            "_view_module_version": "1.2.0",
            "_view_name": "LayoutView",
            "align_content": null,
            "align_items": null,
            "align_self": null,
            "border": null,
            "bottom": null,
            "display": null,
            "flex": null,
            "flex_flow": null,
            "grid_area": null,
            "grid_auto_columns": null,
            "grid_auto_flow": null,
            "grid_auto_rows": null,
            "grid_column": null,
            "grid_gap": null,
            "grid_row": null,
            "grid_template_areas": null,
            "grid_template_columns": null,
            "grid_template_rows": null,
            "height": null,
            "justify_content": null,
            "justify_items": null,
            "left": null,
            "margin": null,
            "max_height": null,
            "max_width": null,
            "min_height": null,
            "min_width": null,
            "object_fit": null,
            "object_position": null,
            "order": null,
            "overflow": null,
            "overflow_x": null,
            "overflow_y": null,
            "padding": null,
            "right": null,
            "top": null,
            "visibility": null,
            "width": null
          }
        },
        "cf02403c05c54d709e80e0451a9b6b92": {
          "model_module": "@jupyter-widgets/base",
          "model_module_version": "1.2.0",
          "model_name": "LayoutModel",
          "state": {
            "_model_module": "@jupyter-widgets/base",
            "_model_module_version": "1.2.0",
            "_model_name": "LayoutModel",
            "_view_count": null,
            "_view_module": "@jupyter-widgets/base",
            "_view_module_version": "1.2.0",
            "_view_name": "LayoutView",
            "align_content": null,
            "align_items": null,
            "align_self": null,
            "border": null,
            "bottom": null,
            "display": null,
            "flex": null,
            "flex_flow": null,
            "grid_area": null,
            "grid_auto_columns": null,
            "grid_auto_flow": null,
            "grid_auto_rows": null,
            "grid_column": null,
            "grid_gap": null,
            "grid_row": null,
            "grid_template_areas": null,
            "grid_template_columns": null,
            "grid_template_rows": null,
            "height": null,
            "justify_content": null,
            "justify_items": null,
            "left": null,
            "margin": null,
            "max_height": null,
            "max_width": null,
            "min_height": null,
            "min_width": null,
            "object_fit": null,
            "object_position": null,
            "order": null,
            "overflow": null,
            "overflow_x": null,
            "overflow_y": null,
            "padding": null,
            "right": null,
            "top": null,
            "visibility": null,
            "width": null
          }
        },
        "d175d41cb6024ad5b8ca662f93b5fe10": {
          "model_module": "@jupyter-widgets/controls",
          "model_module_version": "1.5.0",
          "model_name": "HBoxModel",
          "state": {
            "_dom_classes": [],
            "_model_module": "@jupyter-widgets/controls",
            "_model_module_version": "1.5.0",
            "_model_name": "HBoxModel",
            "_view_count": null,
            "_view_module": "@jupyter-widgets/controls",
            "_view_module_version": "1.5.0",
            "_view_name": "HBoxView",
            "box_style": "",
            "children": [
              "IPY_MODEL_892aac0afe8b40338230838d204e2533",
              "IPY_MODEL_735330acb95f416582030ef870f3338e",
              "IPY_MODEL_a2310c34648c42949c6895945faa9d24"
            ],
            "layout": "IPY_MODEL_8e905e6ae62b4147950bfdc7ed00ef3d"
          }
        },
        "d24c4caaa11840b7a376fbbe5cb64717": {
          "model_module": "@jupyter-widgets/controls",
          "model_module_version": "1.5.0",
          "model_name": "HBoxModel",
          "state": {
            "_dom_classes": [],
            "_model_module": "@jupyter-widgets/controls",
            "_model_module_version": "1.5.0",
            "_model_name": "HBoxModel",
            "_view_count": null,
            "_view_module": "@jupyter-widgets/controls",
            "_view_module_version": "1.5.0",
            "_view_name": "HBoxView",
            "box_style": "",
            "children": [
              "IPY_MODEL_6b90b1bf5a2145c590620fc72f0b92f4",
              "IPY_MODEL_b2c07cd963dc44df81fde2b3fbf3bd23",
              "IPY_MODEL_87b36cb99ad645de81dedb81b9660b68"
            ],
            "layout": "IPY_MODEL_c25e15dfa92349098c4d4e76cfc28490"
          }
        },
        "d24d4ac38a3648e7961478545f914b68": {
          "model_module": "@jupyter-widgets/controls",
          "model_module_version": "1.5.0",
          "model_name": "HTMLModel",
          "state": {
            "_dom_classes": [],
            "_model_module": "@jupyter-widgets/controls",
            "_model_module_version": "1.5.0",
            "_model_name": "HTMLModel",
            "_view_count": null,
            "_view_module": "@jupyter-widgets/controls",
            "_view_module_version": "1.5.0",
            "_view_name": "HTMLView",
            "description": "",
            "description_tooltip": null,
            "layout": "IPY_MODEL_fd458f55d4f64ad594fffdebff2fb372",
            "placeholder": "​",
            "style": "IPY_MODEL_67ea432bfa8d4321a8199c73a2a8f837",
            "value": " 66/66 [00:18&lt;00:00,  5.52it/s]"
          }
        },
        "d2bc1a5593ba43f18f2664a9bf4bac8b": {
          "model_module": "@jupyter-widgets/controls",
          "model_module_version": "1.5.0",
          "model_name": "HBoxModel",
          "state": {
            "_dom_classes": [],
            "_model_module": "@jupyter-widgets/controls",
            "_model_module_version": "1.5.0",
            "_model_name": "HBoxModel",
            "_view_count": null,
            "_view_module": "@jupyter-widgets/controls",
            "_view_module_version": "1.5.0",
            "_view_name": "HBoxView",
            "box_style": "",
            "children": [
              "IPY_MODEL_03248aa427cf4d938c0f6b213854ff9b",
              "IPY_MODEL_e4f5eeafa5b443d5a39da0c6c43ae928",
              "IPY_MODEL_8e826f2b683b454ea6e28523c37a219f"
            ],
            "layout": "IPY_MODEL_ad264f8d60774549ab67006a4dd6e4f7"
          }
        },
        "d3b4f41356404f26a2c50b47f364b2d2": {
          "model_module": "@jupyter-widgets/base",
          "model_module_version": "1.2.0",
          "model_name": "LayoutModel",
          "state": {
            "_model_module": "@jupyter-widgets/base",
            "_model_module_version": "1.2.0",
            "_model_name": "LayoutModel",
            "_view_count": null,
            "_view_module": "@jupyter-widgets/base",
            "_view_module_version": "1.2.0",
            "_view_name": "LayoutView",
            "align_content": null,
            "align_items": null,
            "align_self": null,
            "border": null,
            "bottom": null,
            "display": null,
            "flex": null,
            "flex_flow": null,
            "grid_area": null,
            "grid_auto_columns": null,
            "grid_auto_flow": null,
            "grid_auto_rows": null,
            "grid_column": null,
            "grid_gap": null,
            "grid_row": null,
            "grid_template_areas": null,
            "grid_template_columns": null,
            "grid_template_rows": null,
            "height": null,
            "justify_content": null,
            "justify_items": null,
            "left": null,
            "margin": null,
            "max_height": null,
            "max_width": null,
            "min_height": null,
            "min_width": null,
            "object_fit": null,
            "object_position": null,
            "order": null,
            "overflow": null,
            "overflow_x": null,
            "overflow_y": null,
            "padding": null,
            "right": null,
            "top": null,
            "visibility": null,
            "width": null
          }
        },
        "d402980fee4a45e980dc2e11832889e3": {
          "model_module": "@jupyter-widgets/controls",
          "model_module_version": "1.5.0",
          "model_name": "HTMLModel",
          "state": {
            "_dom_classes": [],
            "_model_module": "@jupyter-widgets/controls",
            "_model_module_version": "1.5.0",
            "_model_name": "HTMLModel",
            "_view_count": null,
            "_view_module": "@jupyter-widgets/controls",
            "_view_module_version": "1.5.0",
            "_view_name": "HTMLView",
            "description": "",
            "description_tooltip": null,
            "layout": "IPY_MODEL_be968db7cbb2432db97bc572d70a6254",
            "placeholder": "​",
            "style": "IPY_MODEL_1c44ebf86f03417a95af014c52cface3",
            "value": "Deleting files in sweep: 100%"
          }
        },
        "d4e3d7a9626b4725be9216b598694e87": {
          "model_module": "@jupyter-widgets/controls",
          "model_module_version": "1.5.0",
          "model_name": "ProgressStyleModel",
          "state": {
            "_model_module": "@jupyter-widgets/controls",
            "_model_module_version": "1.5.0",
            "_model_name": "ProgressStyleModel",
            "_view_count": null,
            "_view_module": "@jupyter-widgets/base",
            "_view_module_version": "1.2.0",
            "_view_name": "StyleView",
            "bar_color": null,
            "description_width": ""
          }
        },
        "d75f6392b019449689281680b025b766": {
          "model_module": "@jupyter-widgets/base",
          "model_module_version": "1.2.0",
          "model_name": "LayoutModel",
          "state": {
            "_model_module": "@jupyter-widgets/base",
            "_model_module_version": "1.2.0",
            "_model_name": "LayoutModel",
            "_view_count": null,
            "_view_module": "@jupyter-widgets/base",
            "_view_module_version": "1.2.0",
            "_view_name": "LayoutView",
            "align_content": null,
            "align_items": null,
            "align_self": null,
            "border": null,
            "bottom": null,
            "display": null,
            "flex": null,
            "flex_flow": null,
            "grid_area": null,
            "grid_auto_columns": null,
            "grid_auto_flow": null,
            "grid_auto_rows": null,
            "grid_column": null,
            "grid_gap": null,
            "grid_row": null,
            "grid_template_areas": null,
            "grid_template_columns": null,
            "grid_template_rows": null,
            "height": null,
            "justify_content": null,
            "justify_items": null,
            "left": null,
            "margin": null,
            "max_height": null,
            "max_width": null,
            "min_height": null,
            "min_width": null,
            "object_fit": null,
            "object_position": null,
            "order": null,
            "overflow": null,
            "overflow_x": null,
            "overflow_y": null,
            "padding": null,
            "right": null,
            "top": null,
            "visibility": "hidden",
            "width": null
          }
        },
        "d8ef442231e24d4eb5354cdf9ca9c580": {
          "model_module": "@jupyter-widgets/controls",
          "model_module_version": "1.5.0",
          "model_name": "FloatProgressModel",
          "state": {
            "_dom_classes": [],
            "_model_module": "@jupyter-widgets/controls",
            "_model_module_version": "1.5.0",
            "_model_name": "FloatProgressModel",
            "_view_count": null,
            "_view_module": "@jupyter-widgets/controls",
            "_view_module_version": "1.5.0",
            "_view_name": "ProgressView",
            "bar_style": "",
            "description": "",
            "description_tooltip": null,
            "layout": "IPY_MODEL_896ba2fb7d234358b53ae8f2bf4f2e04",
            "max": 1,
            "min": 0,
            "orientation": "horizontal",
            "style": "IPY_MODEL_14191700b5e14b68b20f31a8c12c77f6",
            "value": 1
          }
        },
        "d985c7eaf78b4503b32ecb41204b3028": {
          "model_module": "@jupyter-widgets/base",
          "model_module_version": "1.2.0",
          "model_name": "LayoutModel",
          "state": {
            "_model_module": "@jupyter-widgets/base",
            "_model_module_version": "1.2.0",
            "_model_name": "LayoutModel",
            "_view_count": null,
            "_view_module": "@jupyter-widgets/base",
            "_view_module_version": "1.2.0",
            "_view_name": "LayoutView",
            "align_content": null,
            "align_items": null,
            "align_self": null,
            "border": null,
            "bottom": null,
            "display": null,
            "flex": null,
            "flex_flow": null,
            "grid_area": null,
            "grid_auto_columns": null,
            "grid_auto_flow": null,
            "grid_auto_rows": null,
            "grid_column": null,
            "grid_gap": null,
            "grid_row": null,
            "grid_template_areas": null,
            "grid_template_columns": null,
            "grid_template_rows": null,
            "height": null,
            "justify_content": null,
            "justify_items": null,
            "left": null,
            "margin": null,
            "max_height": null,
            "max_width": null,
            "min_height": null,
            "min_width": null,
            "object_fit": null,
            "object_position": null,
            "order": null,
            "overflow": null,
            "overflow_x": null,
            "overflow_y": null,
            "padding": null,
            "right": null,
            "top": null,
            "visibility": "hidden",
            "width": null
          }
        },
        "da2e284a38f545ca9bcc05edb90ec601": {
          "model_module": "@jupyter-widgets/base",
          "model_module_version": "1.2.0",
          "model_name": "LayoutModel",
          "state": {
            "_model_module": "@jupyter-widgets/base",
            "_model_module_version": "1.2.0",
            "_model_name": "LayoutModel",
            "_view_count": null,
            "_view_module": "@jupyter-widgets/base",
            "_view_module_version": "1.2.0",
            "_view_name": "LayoutView",
            "align_content": null,
            "align_items": null,
            "align_self": null,
            "border": null,
            "bottom": null,
            "display": null,
            "flex": null,
            "flex_flow": null,
            "grid_area": null,
            "grid_auto_columns": null,
            "grid_auto_flow": null,
            "grid_auto_rows": null,
            "grid_column": null,
            "grid_gap": null,
            "grid_row": null,
            "grid_template_areas": null,
            "grid_template_columns": null,
            "grid_template_rows": null,
            "height": null,
            "justify_content": null,
            "justify_items": null,
            "left": null,
            "margin": null,
            "max_height": null,
            "max_width": null,
            "min_height": null,
            "min_width": null,
            "object_fit": null,
            "object_position": null,
            "order": null,
            "overflow": null,
            "overflow_x": null,
            "overflow_y": null,
            "padding": null,
            "right": null,
            "top": null,
            "visibility": null,
            "width": null
          }
        },
        "daab56ac767f4e87829e0c77272dbd4b": {
          "model_module": "@jupyter-widgets/controls",
          "model_module_version": "1.5.0",
          "model_name": "HBoxModel",
          "state": {
            "_dom_classes": [],
            "_model_module": "@jupyter-widgets/controls",
            "_model_module_version": "1.5.0",
            "_model_name": "HBoxModel",
            "_view_count": null,
            "_view_module": "@jupyter-widgets/controls",
            "_view_module_version": "1.5.0",
            "_view_name": "HBoxView",
            "box_style": "",
            "children": [
              "IPY_MODEL_09284552cad04ce490049a5ec775fafd",
              "IPY_MODEL_c1d26ed2d3d548c7b532fa430119c672",
              "IPY_MODEL_efbd7c32fee3407794d0efecc9f7da5b"
            ],
            "layout": "IPY_MODEL_ef57c294b101443d9a937b390f71bd05"
          }
        },
        "db32ddb19b7246e989704a3471573141": {
          "model_module": "@jupyter-widgets/base",
          "model_module_version": "1.2.0",
          "model_name": "LayoutModel",
          "state": {
            "_model_module": "@jupyter-widgets/base",
            "_model_module_version": "1.2.0",
            "_model_name": "LayoutModel",
            "_view_count": null,
            "_view_module": "@jupyter-widgets/base",
            "_view_module_version": "1.2.0",
            "_view_name": "LayoutView",
            "align_content": null,
            "align_items": null,
            "align_self": null,
            "border": null,
            "bottom": null,
            "display": null,
            "flex": null,
            "flex_flow": null,
            "grid_area": null,
            "grid_auto_columns": null,
            "grid_auto_flow": null,
            "grid_auto_rows": null,
            "grid_column": null,
            "grid_gap": null,
            "grid_row": null,
            "grid_template_areas": null,
            "grid_template_columns": null,
            "grid_template_rows": null,
            "height": null,
            "justify_content": null,
            "justify_items": null,
            "left": null,
            "margin": null,
            "max_height": null,
            "max_width": null,
            "min_height": null,
            "min_width": null,
            "object_fit": null,
            "object_position": null,
            "order": null,
            "overflow": null,
            "overflow_x": null,
            "overflow_y": null,
            "padding": null,
            "right": null,
            "top": null,
            "visibility": null,
            "width": null
          }
        },
        "dd0c2b9773d94af190bbaca24d18a1b5": {
          "model_module": "@jupyter-widgets/base",
          "model_module_version": "1.2.0",
          "model_name": "LayoutModel",
          "state": {
            "_model_module": "@jupyter-widgets/base",
            "_model_module_version": "1.2.0",
            "_model_name": "LayoutModel",
            "_view_count": null,
            "_view_module": "@jupyter-widgets/base",
            "_view_module_version": "1.2.0",
            "_view_name": "LayoutView",
            "align_content": null,
            "align_items": null,
            "align_self": null,
            "border": null,
            "bottom": null,
            "display": null,
            "flex": null,
            "flex_flow": null,
            "grid_area": null,
            "grid_auto_columns": null,
            "grid_auto_flow": null,
            "grid_auto_rows": null,
            "grid_column": null,
            "grid_gap": null,
            "grid_row": null,
            "grid_template_areas": null,
            "grid_template_columns": null,
            "grid_template_rows": null,
            "height": null,
            "justify_content": null,
            "justify_items": null,
            "left": null,
            "margin": null,
            "max_height": null,
            "max_width": null,
            "min_height": null,
            "min_width": null,
            "object_fit": null,
            "object_position": null,
            "order": null,
            "overflow": null,
            "overflow_x": null,
            "overflow_y": null,
            "padding": null,
            "right": null,
            "top": null,
            "visibility": null,
            "width": null
          }
        },
        "ddd6bdf4448d48a6a44180ff09d4f050": {
          "model_module": "@jupyter-widgets/controls",
          "model_module_version": "1.5.0",
          "model_name": "HTMLModel",
          "state": {
            "_dom_classes": [],
            "_model_module": "@jupyter-widgets/controls",
            "_model_module_version": "1.5.0",
            "_model_name": "HTMLModel",
            "_view_count": null,
            "_view_module": "@jupyter-widgets/controls",
            "_view_module_version": "1.5.0",
            "_view_name": "HTMLView",
            "description": "",
            "description_tooltip": null,
            "layout": "IPY_MODEL_ebdc69b4be2b4cac81150419ba5046d2",
            "placeholder": "​",
            "style": "IPY_MODEL_16d9a1662d284ca39bbb0c76acead68a",
            "value": " 8/8 [00:01&lt;00:00,  7.16it/s]"
          }
        },
        "e0d36e1a42e644dab7156e5cf8f7383f": {
          "model_module": "@jupyter-widgets/controls",
          "model_module_version": "1.5.0",
          "model_name": "HTMLModel",
          "state": {
            "_dom_classes": [],
            "_model_module": "@jupyter-widgets/controls",
            "_model_module_version": "1.5.0",
            "_model_name": "HTMLModel",
            "_view_count": null,
            "_view_module": "@jupyter-widgets/controls",
            "_view_module_version": "1.5.0",
            "_view_name": "HTMLView",
            "description": "",
            "description_tooltip": null,
            "layout": "IPY_MODEL_a3acc6d81ee14bbf9a5373b989d2542a",
            "placeholder": "​",
            "style": "IPY_MODEL_04664e7cb0364b5595a72d60c63d83aa",
            "value": "2x8o8itn:   0%"
          }
        },
        "e0e9a5d23a5b4147bbd866960cbdd5d1": {
          "model_module": "@jupyter-widgets/controls",
          "model_module_version": "1.5.0",
          "model_name": "DescriptionStyleModel",
          "state": {
            "_model_module": "@jupyter-widgets/controls",
            "_model_module_version": "1.5.0",
            "_model_name": "DescriptionStyleModel",
            "_view_count": null,
            "_view_module": "@jupyter-widgets/base",
            "_view_module_version": "1.2.0",
            "_view_name": "StyleView",
            "description_width": ""
          }
        },
        "e1b22c9626a941ca8359806aad7d8895": {
          "model_module": "@jupyter-widgets/controls",
          "model_module_version": "1.5.0",
          "model_name": "ProgressStyleModel",
          "state": {
            "_model_module": "@jupyter-widgets/controls",
            "_model_module_version": "1.5.0",
            "_model_name": "ProgressStyleModel",
            "_view_count": null,
            "_view_module": "@jupyter-widgets/base",
            "_view_module_version": "1.2.0",
            "_view_name": "StyleView",
            "bar_color": null,
            "description_width": ""
          }
        },
        "e1b272f689634322a2eba26a929a4888": {
          "model_module": "@jupyter-widgets/base",
          "model_module_version": "1.2.0",
          "model_name": "LayoutModel",
          "state": {
            "_model_module": "@jupyter-widgets/base",
            "_model_module_version": "1.2.0",
            "_model_name": "LayoutModel",
            "_view_count": null,
            "_view_module": "@jupyter-widgets/base",
            "_view_module_version": "1.2.0",
            "_view_name": "LayoutView",
            "align_content": null,
            "align_items": null,
            "align_self": null,
            "border": null,
            "bottom": null,
            "display": null,
            "flex": null,
            "flex_flow": null,
            "grid_area": null,
            "grid_auto_columns": null,
            "grid_auto_flow": null,
            "grid_auto_rows": null,
            "grid_column": null,
            "grid_gap": null,
            "grid_row": null,
            "grid_template_areas": null,
            "grid_template_columns": null,
            "grid_template_rows": null,
            "height": null,
            "justify_content": null,
            "justify_items": null,
            "left": null,
            "margin": null,
            "max_height": null,
            "max_width": null,
            "min_height": null,
            "min_width": null,
            "object_fit": null,
            "object_position": null,
            "order": null,
            "overflow": null,
            "overflow_x": null,
            "overflow_y": null,
            "padding": null,
            "right": null,
            "top": null,
            "visibility": null,
            "width": null
          }
        },
        "e21f4aeaf12749eea623a037d0010f62": {
          "model_module": "@jupyter-widgets/base",
          "model_module_version": "1.2.0",
          "model_name": "LayoutModel",
          "state": {
            "_model_module": "@jupyter-widgets/base",
            "_model_module_version": "1.2.0",
            "_model_name": "LayoutModel",
            "_view_count": null,
            "_view_module": "@jupyter-widgets/base",
            "_view_module_version": "1.2.0",
            "_view_name": "LayoutView",
            "align_content": null,
            "align_items": null,
            "align_self": null,
            "border": null,
            "bottom": null,
            "display": null,
            "flex": null,
            "flex_flow": null,
            "grid_area": null,
            "grid_auto_columns": null,
            "grid_auto_flow": null,
            "grid_auto_rows": null,
            "grid_column": null,
            "grid_gap": null,
            "grid_row": null,
            "grid_template_areas": null,
            "grid_template_columns": null,
            "grid_template_rows": null,
            "height": null,
            "justify_content": null,
            "justify_items": null,
            "left": null,
            "margin": null,
            "max_height": null,
            "max_width": null,
            "min_height": null,
            "min_width": null,
            "object_fit": null,
            "object_position": null,
            "order": null,
            "overflow": null,
            "overflow_x": null,
            "overflow_y": null,
            "padding": null,
            "right": null,
            "top": null,
            "visibility": null,
            "width": null
          }
        },
        "e4ce77294e11487cb4aff1af62992052": {
          "model_module": "@jupyter-widgets/base",
          "model_module_version": "1.2.0",
          "model_name": "LayoutModel",
          "state": {
            "_model_module": "@jupyter-widgets/base",
            "_model_module_version": "1.2.0",
            "_model_name": "LayoutModel",
            "_view_count": null,
            "_view_module": "@jupyter-widgets/base",
            "_view_module_version": "1.2.0",
            "_view_name": "LayoutView",
            "align_content": null,
            "align_items": null,
            "align_self": null,
            "border": null,
            "bottom": null,
            "display": null,
            "flex": null,
            "flex_flow": null,
            "grid_area": null,
            "grid_auto_columns": null,
            "grid_auto_flow": null,
            "grid_auto_rows": null,
            "grid_column": null,
            "grid_gap": null,
            "grid_row": null,
            "grid_template_areas": null,
            "grid_template_columns": null,
            "grid_template_rows": null,
            "height": null,
            "justify_content": null,
            "justify_items": null,
            "left": null,
            "margin": null,
            "max_height": null,
            "max_width": null,
            "min_height": null,
            "min_width": null,
            "object_fit": null,
            "object_position": null,
            "order": null,
            "overflow": null,
            "overflow_x": null,
            "overflow_y": null,
            "padding": null,
            "right": null,
            "top": null,
            "visibility": "hidden",
            "width": null
          }
        },
        "e4f5eeafa5b443d5a39da0c6c43ae928": {
          "model_module": "@jupyter-widgets/controls",
          "model_module_version": "1.5.0",
          "model_name": "FloatProgressModel",
          "state": {
            "_dom_classes": [],
            "_model_module": "@jupyter-widgets/controls",
            "_model_module_version": "1.5.0",
            "_model_name": "FloatProgressModel",
            "_view_count": null,
            "_view_module": "@jupyter-widgets/controls",
            "_view_module_version": "1.5.0",
            "_view_name": "ProgressView",
            "bar_style": "",
            "description": "",
            "description_tooltip": null,
            "layout": "IPY_MODEL_527cea813a7742cb98a05bbf028b9383",
            "max": 1,
            "min": 0,
            "orientation": "horizontal",
            "style": "IPY_MODEL_b4a43b32a58341a69e28d5e8dca42bd7",
            "value": 1
          }
        },
        "e8270cce4f18479f85ddf896ce2ed6b3": {
          "model_module": "@jupyter-widgets/controls",
          "model_module_version": "1.5.0",
          "model_name": "HTMLModel",
          "state": {
            "_dom_classes": [],
            "_model_module": "@jupyter-widgets/controls",
            "_model_module_version": "1.5.0",
            "_model_name": "HTMLModel",
            "_view_count": null,
            "_view_module": "@jupyter-widgets/controls",
            "_view_module_version": "1.5.0",
            "_view_name": "HTMLView",
            "description": "",
            "description_tooltip": null,
            "layout": "IPY_MODEL_313b4efeea2a493d95003841d44a3cc1",
            "placeholder": "​",
            "style": "IPY_MODEL_607f0cb436dc4df99535d990ae9bff3e",
            "value": "i3nff845:   0%"
          }
        },
        "e9dd5d2b6feb4678b5f29dc5c76fb546": {
          "model_module": "@jupyter-widgets/controls",
          "model_module_version": "1.5.0",
          "model_name": "HBoxModel",
          "state": {
            "_dom_classes": [],
            "_model_module": "@jupyter-widgets/controls",
            "_model_module_version": "1.5.0",
            "_model_name": "HBoxModel",
            "_view_count": null,
            "_view_module": "@jupyter-widgets/controls",
            "_view_module_version": "1.5.0",
            "_view_name": "HBoxView",
            "box_style": "",
            "children": [
              "IPY_MODEL_9a72e0d2403b49508d43b474e3d86068",
              "IPY_MODEL_36319f6ddbd9423e85b88e84ebd216c4",
              "IPY_MODEL_afa5bf4dd05d4d7c929f18a1dffafcec"
            ],
            "layout": "IPY_MODEL_8aefea6bf5284ceb8d53eebfb399ce5c"
          }
        },
        "ebdc69b4be2b4cac81150419ba5046d2": {
          "model_module": "@jupyter-widgets/base",
          "model_module_version": "1.2.0",
          "model_name": "LayoutModel",
          "state": {
            "_model_module": "@jupyter-widgets/base",
            "_model_module_version": "1.2.0",
            "_model_name": "LayoutModel",
            "_view_count": null,
            "_view_module": "@jupyter-widgets/base",
            "_view_module_version": "1.2.0",
            "_view_name": "LayoutView",
            "align_content": null,
            "align_items": null,
            "align_self": null,
            "border": null,
            "bottom": null,
            "display": null,
            "flex": null,
            "flex_flow": null,
            "grid_area": null,
            "grid_auto_columns": null,
            "grid_auto_flow": null,
            "grid_auto_rows": null,
            "grid_column": null,
            "grid_gap": null,
            "grid_row": null,
            "grid_template_areas": null,
            "grid_template_columns": null,
            "grid_template_rows": null,
            "height": null,
            "justify_content": null,
            "justify_items": null,
            "left": null,
            "margin": null,
            "max_height": null,
            "max_width": null,
            "min_height": null,
            "min_width": null,
            "object_fit": null,
            "object_position": null,
            "order": null,
            "overflow": null,
            "overflow_x": null,
            "overflow_y": null,
            "padding": null,
            "right": null,
            "top": null,
            "visibility": null,
            "width": null
          }
        },
        "ece35cdbc2c44c828ba12009bfc072a1": {
          "model_module": "@jupyter-widgets/base",
          "model_module_version": "1.2.0",
          "model_name": "LayoutModel",
          "state": {
            "_model_module": "@jupyter-widgets/base",
            "_model_module_version": "1.2.0",
            "_model_name": "LayoutModel",
            "_view_count": null,
            "_view_module": "@jupyter-widgets/base",
            "_view_module_version": "1.2.0",
            "_view_name": "LayoutView",
            "align_content": null,
            "align_items": null,
            "align_self": null,
            "border": null,
            "bottom": null,
            "display": null,
            "flex": null,
            "flex_flow": null,
            "grid_area": null,
            "grid_auto_columns": null,
            "grid_auto_flow": null,
            "grid_auto_rows": null,
            "grid_column": null,
            "grid_gap": null,
            "grid_row": null,
            "grid_template_areas": null,
            "grid_template_columns": null,
            "grid_template_rows": null,
            "height": null,
            "justify_content": null,
            "justify_items": null,
            "left": null,
            "margin": null,
            "max_height": null,
            "max_width": null,
            "min_height": null,
            "min_width": null,
            "object_fit": null,
            "object_position": null,
            "order": null,
            "overflow": null,
            "overflow_x": null,
            "overflow_y": null,
            "padding": null,
            "right": null,
            "top": null,
            "visibility": null,
            "width": null
          }
        },
        "ef57c294b101443d9a937b390f71bd05": {
          "model_module": "@jupyter-widgets/base",
          "model_module_version": "1.2.0",
          "model_name": "LayoutModel",
          "state": {
            "_model_module": "@jupyter-widgets/base",
            "_model_module_version": "1.2.0",
            "_model_name": "LayoutModel",
            "_view_count": null,
            "_view_module": "@jupyter-widgets/base",
            "_view_module_version": "1.2.0",
            "_view_name": "LayoutView",
            "align_content": null,
            "align_items": null,
            "align_self": null,
            "border": null,
            "bottom": null,
            "display": null,
            "flex": null,
            "flex_flow": null,
            "grid_area": null,
            "grid_auto_columns": null,
            "grid_auto_flow": null,
            "grid_auto_rows": null,
            "grid_column": null,
            "grid_gap": null,
            "grid_row": null,
            "grid_template_areas": null,
            "grid_template_columns": null,
            "grid_template_rows": null,
            "height": null,
            "justify_content": null,
            "justify_items": null,
            "left": null,
            "margin": null,
            "max_height": null,
            "max_width": null,
            "min_height": null,
            "min_width": null,
            "object_fit": null,
            "object_position": null,
            "order": null,
            "overflow": null,
            "overflow_x": null,
            "overflow_y": null,
            "padding": null,
            "right": null,
            "top": null,
            "visibility": "hidden",
            "width": null
          }
        },
        "efbd7c32fee3407794d0efecc9f7da5b": {
          "model_module": "@jupyter-widgets/controls",
          "model_module_version": "1.5.0",
          "model_name": "HTMLModel",
          "state": {
            "_dom_classes": [],
            "_model_module": "@jupyter-widgets/controls",
            "_model_module_version": "1.5.0",
            "_model_name": "HTMLModel",
            "_view_count": null,
            "_view_module": "@jupyter-widgets/controls",
            "_view_module_version": "1.5.0",
            "_view_name": "HTMLView",
            "description": "",
            "description_tooltip": null,
            "layout": "IPY_MODEL_ce351a7f26904f76ad2d6ff61248935c",
            "placeholder": "​",
            "style": "IPY_MODEL_11b1e5db1b5d4689810b5111e7bb41cf",
            "value": " 0/1 [00:00&lt;?, ?it/s]"
          }
        },
        "efc83580cab04d2fb13e166dc5cc6d99": {
          "model_module": "@jupyter-widgets/base",
          "model_module_version": "1.2.0",
          "model_name": "LayoutModel",
          "state": {
            "_model_module": "@jupyter-widgets/base",
            "_model_module_version": "1.2.0",
            "_model_name": "LayoutModel",
            "_view_count": null,
            "_view_module": "@jupyter-widgets/base",
            "_view_module_version": "1.2.0",
            "_view_name": "LayoutView",
            "align_content": null,
            "align_items": null,
            "align_self": null,
            "border": null,
            "bottom": null,
            "display": null,
            "flex": null,
            "flex_flow": null,
            "grid_area": null,
            "grid_auto_columns": null,
            "grid_auto_flow": null,
            "grid_auto_rows": null,
            "grid_column": null,
            "grid_gap": null,
            "grid_row": null,
            "grid_template_areas": null,
            "grid_template_columns": null,
            "grid_template_rows": null,
            "height": null,
            "justify_content": null,
            "justify_items": null,
            "left": null,
            "margin": null,
            "max_height": null,
            "max_width": null,
            "min_height": null,
            "min_width": null,
            "object_fit": null,
            "object_position": null,
            "order": null,
            "overflow": null,
            "overflow_x": null,
            "overflow_y": null,
            "padding": null,
            "right": null,
            "top": null,
            "visibility": null,
            "width": null
          }
        },
        "f2b6f28bc7a544be945e7714ef10c3fc": {
          "model_module": "@jupyter-widgets/controls",
          "model_module_version": "1.5.0",
          "model_name": "ProgressStyleModel",
          "state": {
            "_model_module": "@jupyter-widgets/controls",
            "_model_module_version": "1.5.0",
            "_model_name": "ProgressStyleModel",
            "_view_count": null,
            "_view_module": "@jupyter-widgets/base",
            "_view_module_version": "1.2.0",
            "_view_name": "StyleView",
            "bar_color": null,
            "description_width": ""
          }
        },
        "f2c2c1bc30c94071aee7070ab974e8fd": {
          "model_module": "@jupyter-widgets/base",
          "model_module_version": "1.2.0",
          "model_name": "LayoutModel",
          "state": {
            "_model_module": "@jupyter-widgets/base",
            "_model_module_version": "1.2.0",
            "_model_name": "LayoutModel",
            "_view_count": null,
            "_view_module": "@jupyter-widgets/base",
            "_view_module_version": "1.2.0",
            "_view_name": "LayoutView",
            "align_content": null,
            "align_items": null,
            "align_self": null,
            "border": null,
            "bottom": null,
            "display": null,
            "flex": null,
            "flex_flow": null,
            "grid_area": null,
            "grid_auto_columns": null,
            "grid_auto_flow": null,
            "grid_auto_rows": null,
            "grid_column": null,
            "grid_gap": null,
            "grid_row": null,
            "grid_template_areas": null,
            "grid_template_columns": null,
            "grid_template_rows": null,
            "height": null,
            "justify_content": null,
            "justify_items": null,
            "left": null,
            "margin": null,
            "max_height": null,
            "max_width": null,
            "min_height": null,
            "min_width": null,
            "object_fit": null,
            "object_position": null,
            "order": null,
            "overflow": null,
            "overflow_x": null,
            "overflow_y": null,
            "padding": null,
            "right": null,
            "top": null,
            "visibility": null,
            "width": null
          }
        },
        "f870abf627084c8883a49bf83ad1bf4a": {
          "model_module": "@jupyter-widgets/base",
          "model_module_version": "1.2.0",
          "model_name": "LayoutModel",
          "state": {
            "_model_module": "@jupyter-widgets/base",
            "_model_module_version": "1.2.0",
            "_model_name": "LayoutModel",
            "_view_count": null,
            "_view_module": "@jupyter-widgets/base",
            "_view_module_version": "1.2.0",
            "_view_name": "LayoutView",
            "align_content": null,
            "align_items": null,
            "align_self": null,
            "border": null,
            "bottom": null,
            "display": null,
            "flex": null,
            "flex_flow": null,
            "grid_area": null,
            "grid_auto_columns": null,
            "grid_auto_flow": null,
            "grid_auto_rows": null,
            "grid_column": null,
            "grid_gap": null,
            "grid_row": null,
            "grid_template_areas": null,
            "grid_template_columns": null,
            "grid_template_rows": null,
            "height": null,
            "justify_content": null,
            "justify_items": null,
            "left": null,
            "margin": null,
            "max_height": null,
            "max_width": null,
            "min_height": null,
            "min_width": null,
            "object_fit": null,
            "object_position": null,
            "order": null,
            "overflow": null,
            "overflow_x": null,
            "overflow_y": null,
            "padding": null,
            "right": null,
            "top": null,
            "visibility": null,
            "width": null
          }
        },
        "f998af4c7981435bbd32d98b835b5dad": {
          "model_module": "@jupyter-widgets/controls",
          "model_module_version": "1.5.0",
          "model_name": "DescriptionStyleModel",
          "state": {
            "_model_module": "@jupyter-widgets/controls",
            "_model_module_version": "1.5.0",
            "_model_name": "DescriptionStyleModel",
            "_view_count": null,
            "_view_module": "@jupyter-widgets/base",
            "_view_module_version": "1.2.0",
            "_view_name": "StyleView",
            "description_width": ""
          }
        },
        "f9ba88ae06de4c6a933795e888913cbd": {
          "model_module": "@jupyter-widgets/base",
          "model_module_version": "1.2.0",
          "model_name": "LayoutModel",
          "state": {
            "_model_module": "@jupyter-widgets/base",
            "_model_module_version": "1.2.0",
            "_model_name": "LayoutModel",
            "_view_count": null,
            "_view_module": "@jupyter-widgets/base",
            "_view_module_version": "1.2.0",
            "_view_name": "LayoutView",
            "align_content": null,
            "align_items": null,
            "align_self": null,
            "border": null,
            "bottom": null,
            "display": null,
            "flex": null,
            "flex_flow": null,
            "grid_area": null,
            "grid_auto_columns": null,
            "grid_auto_flow": null,
            "grid_auto_rows": null,
            "grid_column": null,
            "grid_gap": null,
            "grid_row": null,
            "grid_template_areas": null,
            "grid_template_columns": null,
            "grid_template_rows": null,
            "height": null,
            "justify_content": null,
            "justify_items": null,
            "left": null,
            "margin": null,
            "max_height": null,
            "max_width": null,
            "min_height": null,
            "min_width": null,
            "object_fit": null,
            "object_position": null,
            "order": null,
            "overflow": null,
            "overflow_x": null,
            "overflow_y": null,
            "padding": null,
            "right": null,
            "top": null,
            "visibility": "hidden",
            "width": null
          }
        },
        "f9fc131ee19a42988851eb3b06e7ff6a": {
          "model_module": "@jupyter-widgets/controls",
          "model_module_version": "1.5.0",
          "model_name": "DescriptionStyleModel",
          "state": {
            "_model_module": "@jupyter-widgets/controls",
            "_model_module_version": "1.5.0",
            "_model_name": "DescriptionStyleModel",
            "_view_count": null,
            "_view_module": "@jupyter-widgets/base",
            "_view_module_version": "1.2.0",
            "_view_name": "StyleView",
            "description_width": ""
          }
        },
        "fc61bff4164145c5be887063cbd5e8a6": {
          "model_module": "@jupyter-widgets/controls",
          "model_module_version": "1.5.0",
          "model_name": "FloatProgressModel",
          "state": {
            "_dom_classes": [],
            "_model_module": "@jupyter-widgets/controls",
            "_model_module_version": "1.5.0",
            "_model_name": "FloatProgressModel",
            "_view_count": null,
            "_view_module": "@jupyter-widgets/controls",
            "_view_module_version": "1.5.0",
            "_view_name": "ProgressView",
            "bar_style": "",
            "description": "",
            "description_tooltip": null,
            "layout": "IPY_MODEL_6b781dd373cd4e01b919582adf138580",
            "max": 8,
            "min": 0,
            "orientation": "horizontal",
            "style": "IPY_MODEL_61cd472365f042808e40c9e94c933a89",
            "value": 8
          }
        },
        "fd458f55d4f64ad594fffdebff2fb372": {
          "model_module": "@jupyter-widgets/base",
          "model_module_version": "1.2.0",
          "model_name": "LayoutModel",
          "state": {
            "_model_module": "@jupyter-widgets/base",
            "_model_module_version": "1.2.0",
            "_model_name": "LayoutModel",
            "_view_count": null,
            "_view_module": "@jupyter-widgets/base",
            "_view_module_version": "1.2.0",
            "_view_name": "LayoutView",
            "align_content": null,
            "align_items": null,
            "align_self": null,
            "border": null,
            "bottom": null,
            "display": null,
            "flex": null,
            "flex_flow": null,
            "grid_area": null,
            "grid_auto_columns": null,
            "grid_auto_flow": null,
            "grid_auto_rows": null,
            "grid_column": null,
            "grid_gap": null,
            "grid_row": null,
            "grid_template_areas": null,
            "grid_template_columns": null,
            "grid_template_rows": null,
            "height": null,
            "justify_content": null,
            "justify_items": null,
            "left": null,
            "margin": null,
            "max_height": null,
            "max_width": null,
            "min_height": null,
            "min_width": null,
            "object_fit": null,
            "object_position": null,
            "order": null,
            "overflow": null,
            "overflow_x": null,
            "overflow_y": null,
            "padding": null,
            "right": null,
            "top": null,
            "visibility": null,
            "width": null
          }
        },
        "fdf2de5dbca04e8aa6bfed98d56c9b9f": {
          "model_module": "@jupyter-widgets/controls",
          "model_module_version": "1.5.0",
          "model_name": "HTMLModel",
          "state": {
            "_dom_classes": [],
            "_model_module": "@jupyter-widgets/controls",
            "_model_module_version": "1.5.0",
            "_model_name": "HTMLModel",
            "_view_count": null,
            "_view_module": "@jupyter-widgets/controls",
            "_view_module_version": "1.5.0",
            "_view_name": "HTMLView",
            "description": "",
            "description_tooltip": null,
            "layout": "IPY_MODEL_ece35cdbc2c44c828ba12009bfc072a1",
            "placeholder": "​",
            "style": "IPY_MODEL_c2fd0d1386284dab9e91b4650309f011",
            "value": "qgk9e4f0:   0%"
          }
        },
        "feb3ec46b0a14180b4db1749c86184d0": {
          "model_module": "@jupyter-widgets/controls",
          "model_module_version": "1.5.0",
          "model_name": "FloatProgressModel",
          "state": {
            "_dom_classes": [],
            "_model_module": "@jupyter-widgets/controls",
            "_model_module_version": "1.5.0",
            "_model_name": "FloatProgressModel",
            "_view_count": null,
            "_view_module": "@jupyter-widgets/controls",
            "_view_module_version": "1.5.0",
            "_view_name": "ProgressView",
            "bar_style": "",
            "description": "",
            "description_tooltip": null,
            "layout": "IPY_MODEL_41180a1c317a4e6a89f824d3c3ddff1c",
            "max": 1,
            "min": 0,
            "orientation": "horizontal",
            "style": "IPY_MODEL_0746abdb8e984019a272a724dfad9e4c",
            "value": 1
          }
        },
        "ff722b49857e4aafbe4e63217b305e7c": {
          "model_module": "@jupyter-widgets/controls",
          "model_module_version": "1.5.0",
          "model_name": "HTMLModel",
          "state": {
            "_dom_classes": [],
            "_model_module": "@jupyter-widgets/controls",
            "_model_module_version": "1.5.0",
            "_model_name": "HTMLModel",
            "_view_count": null,
            "_view_module": "@jupyter-widgets/controls",
            "_view_module_version": "1.5.0",
            "_view_name": "HTMLView",
            "description": "",
            "description_tooltip": null,
            "layout": "IPY_MODEL_b307779ed38f4b29b00e67224925a78e",
            "placeholder": "​",
            "style": "IPY_MODEL_f9fc131ee19a42988851eb3b06e7ff6a",
            "value": " 0/1 [00:00&lt;?, ?it/s]"
          }
        },
        "136fc28e5e0b462c8304a19bbf2623f2": {
          "model_module": "@jupyter-widgets/controls",
          "model_name": "VBoxModel",
          "model_module_version": "1.5.0",
          "state": {
            "_dom_classes": [],
            "_model_module": "@jupyter-widgets/controls",
            "_model_module_version": "1.5.0",
            "_model_name": "VBoxModel",
            "_view_count": null,
            "_view_module": "@jupyter-widgets/controls",
            "_view_module_version": "1.5.0",
            "_view_name": "VBoxView",
            "box_style": "",
            "children": [
              "IPY_MODEL_3143d927587346388811187684ea5c4e",
              "IPY_MODEL_4a8fb139da6847dcb4304f3fa45757cd"
            ],
            "layout": "IPY_MODEL_36b9582cf4bf4fab83a4d69bae959810"
          }
        },
        "3143d927587346388811187684ea5c4e": {
          "model_module": "@jupyter-widgets/controls",
          "model_name": "LabelModel",
          "model_module_version": "1.5.0",
          "state": {
            "_dom_classes": [],
            "_model_module": "@jupyter-widgets/controls",
            "_model_module_version": "1.5.0",
            "_model_name": "LabelModel",
            "_view_count": null,
            "_view_module": "@jupyter-widgets/controls",
            "_view_module_version": "1.5.0",
            "_view_name": "LabelView",
            "description": "",
            "description_tooltip": null,
            "layout": "IPY_MODEL_cb237b83f38a4265adb0e43368df4315",
            "placeholder": "​",
            "style": "IPY_MODEL_82bddc5efeb444758fc9fafb0b94caad",
            "value": "Waiting for wandb.init()...\r"
          }
        },
        "4a8fb139da6847dcb4304f3fa45757cd": {
          "model_module": "@jupyter-widgets/controls",
          "model_name": "FloatProgressModel",
          "model_module_version": "1.5.0",
          "state": {
            "_dom_classes": [],
            "_model_module": "@jupyter-widgets/controls",
            "_model_module_version": "1.5.0",
            "_model_name": "FloatProgressModel",
            "_view_count": null,
            "_view_module": "@jupyter-widgets/controls",
            "_view_module_version": "1.5.0",
            "_view_name": "ProgressView",
            "bar_style": "",
            "description": "",
            "description_tooltip": null,
            "layout": "IPY_MODEL_b6c18c00cbe1494dbfb543ae088747e2",
            "max": 1,
            "min": 0,
            "orientation": "horizontal",
            "style": "IPY_MODEL_340cb5657c2d430cb8bf297865b9ee0d",
            "value": 1
          }
        },
        "36b9582cf4bf4fab83a4d69bae959810": {
          "model_module": "@jupyter-widgets/base",
          "model_name": "LayoutModel",
          "model_module_version": "1.2.0",
          "state": {
            "_model_module": "@jupyter-widgets/base",
            "_model_module_version": "1.2.0",
            "_model_name": "LayoutModel",
            "_view_count": null,
            "_view_module": "@jupyter-widgets/base",
            "_view_module_version": "1.2.0",
            "_view_name": "LayoutView",
            "align_content": null,
            "align_items": null,
            "align_self": null,
            "border": null,
            "bottom": null,
            "display": null,
            "flex": null,
            "flex_flow": null,
            "grid_area": null,
            "grid_auto_columns": null,
            "grid_auto_flow": null,
            "grid_auto_rows": null,
            "grid_column": null,
            "grid_gap": null,
            "grid_row": null,
            "grid_template_areas": null,
            "grid_template_columns": null,
            "grid_template_rows": null,
            "height": null,
            "justify_content": null,
            "justify_items": null,
            "left": null,
            "margin": null,
            "max_height": null,
            "max_width": null,
            "min_height": null,
            "min_width": null,
            "object_fit": null,
            "object_position": null,
            "order": null,
            "overflow": null,
            "overflow_x": null,
            "overflow_y": null,
            "padding": null,
            "right": null,
            "top": null,
            "visibility": null,
            "width": null
          }
        },
        "cb237b83f38a4265adb0e43368df4315": {
          "model_module": "@jupyter-widgets/base",
          "model_name": "LayoutModel",
          "model_module_version": "1.2.0",
          "state": {
            "_model_module": "@jupyter-widgets/base",
            "_model_module_version": "1.2.0",
            "_model_name": "LayoutModel",
            "_view_count": null,
            "_view_module": "@jupyter-widgets/base",
            "_view_module_version": "1.2.0",
            "_view_name": "LayoutView",
            "align_content": null,
            "align_items": null,
            "align_self": null,
            "border": null,
            "bottom": null,
            "display": null,
            "flex": null,
            "flex_flow": null,
            "grid_area": null,
            "grid_auto_columns": null,
            "grid_auto_flow": null,
            "grid_auto_rows": null,
            "grid_column": null,
            "grid_gap": null,
            "grid_row": null,
            "grid_template_areas": null,
            "grid_template_columns": null,
            "grid_template_rows": null,
            "height": null,
            "justify_content": null,
            "justify_items": null,
            "left": null,
            "margin": null,
            "max_height": null,
            "max_width": null,
            "min_height": null,
            "min_width": null,
            "object_fit": null,
            "object_position": null,
            "order": null,
            "overflow": null,
            "overflow_x": null,
            "overflow_y": null,
            "padding": null,
            "right": null,
            "top": null,
            "visibility": null,
            "width": null
          }
        },
        "82bddc5efeb444758fc9fafb0b94caad": {
          "model_module": "@jupyter-widgets/controls",
          "model_name": "DescriptionStyleModel",
          "model_module_version": "1.5.0",
          "state": {
            "_model_module": "@jupyter-widgets/controls",
            "_model_module_version": "1.5.0",
            "_model_name": "DescriptionStyleModel",
            "_view_count": null,
            "_view_module": "@jupyter-widgets/base",
            "_view_module_version": "1.2.0",
            "_view_name": "StyleView",
            "description_width": ""
          }
        },
        "b6c18c00cbe1494dbfb543ae088747e2": {
          "model_module": "@jupyter-widgets/base",
          "model_name": "LayoutModel",
          "model_module_version": "1.2.0",
          "state": {
            "_model_module": "@jupyter-widgets/base",
            "_model_module_version": "1.2.0",
            "_model_name": "LayoutModel",
            "_view_count": null,
            "_view_module": "@jupyter-widgets/base",
            "_view_module_version": "1.2.0",
            "_view_name": "LayoutView",
            "align_content": null,
            "align_items": null,
            "align_self": null,
            "border": null,
            "bottom": null,
            "display": null,
            "flex": null,
            "flex_flow": null,
            "grid_area": null,
            "grid_auto_columns": null,
            "grid_auto_flow": null,
            "grid_auto_rows": null,
            "grid_column": null,
            "grid_gap": null,
            "grid_row": null,
            "grid_template_areas": null,
            "grid_template_columns": null,
            "grid_template_rows": null,
            "height": null,
            "justify_content": null,
            "justify_items": null,
            "left": null,
            "margin": null,
            "max_height": null,
            "max_width": null,
            "min_height": null,
            "min_width": null,
            "object_fit": null,
            "object_position": null,
            "order": null,
            "overflow": null,
            "overflow_x": null,
            "overflow_y": null,
            "padding": null,
            "right": null,
            "top": null,
            "visibility": null,
            "width": null
          }
        },
        "340cb5657c2d430cb8bf297865b9ee0d": {
          "model_module": "@jupyter-widgets/controls",
          "model_name": "ProgressStyleModel",
          "model_module_version": "1.5.0",
          "state": {
            "_model_module": "@jupyter-widgets/controls",
            "_model_module_version": "1.5.0",
            "_model_name": "ProgressStyleModel",
            "_view_count": null,
            "_view_module": "@jupyter-widgets/base",
            "_view_module_version": "1.2.0",
            "_view_name": "StyleView",
            "bar_color": null,
            "description_width": ""
          }
        }
      }
    }
  },
  "nbformat": 4,
  "nbformat_minor": 0
}