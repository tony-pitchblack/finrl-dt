{
  "cells": [
    {
      "cell_type": "markdown",
      "metadata": {
        "id": "view-in-github",
        "colab_type": "text"
      },
      "source": [
        "<a href=\"https://colab.research.google.com/github/tony-pitchblack/finrl-dt/blob/custom-backtesting/finrl_dt_replicate_eval.ipynb\" target=\"_parent\"><img src=\"https://colab.research.google.com/assets/colab-badge.svg\" alt=\"Open In Colab\"/></a>"
      ]
    },
    {
      "cell_type": "markdown",
      "metadata": {
        "id": "bnopI9QoL550"
      },
      "source": [
        "# Installs"
      ]
    },
    {
      "cell_type": "code",
      "execution_count": null,
      "metadata": {
        "id": "FjEBRlmyPp2a"
      },
      "outputs": [],
      "source": [
        "%%capture\n",
        "!pip install stable-baselines3\n",
        "!pip install finrl\n",
        "!pip install alpaca_trade_api\n",
        "!pip install exchange_calendars\n",
        "!pip install stockstats\n",
        "!pip install wrds"
      ]
    },
    {
      "cell_type": "markdown",
      "metadata": {
        "id": "k_IxXsJXHbl_"
      },
      "source": [
        "# Imports"
      ]
    },
    {
      "cell_type": "code",
      "execution_count": null,
      "metadata": {
        "id": "ObUHWwfqnzyQ"
      },
      "outputs": [],
      "source": [
        "import os\n",
        "import wandb\n",
        "import pandas as pd"
      ]
    },
    {
      "cell_type": "code",
      "execution_count": null,
      "metadata": {
        "id": "I9s6zvbUAsyq"
      },
      "outputs": [],
      "source": [
        "os.environ[\"WANDB_API_KEY\"] = \"aee284a72205e2d6787bd3ce266c5b9aefefa42c\"\n",
        "\n",
        "PROJECT = 'finrl-dt-replicate'\n",
        "ENTITY = \"overfit1010\""
      ]
    },
    {
      "cell_type": "markdown",
      "metadata": {
        "id": "mLe4hw1bxRp5"
      },
      "source": [
        "# Main"
      ]
    },
    {
      "cell_type": "code",
      "execution_count": null,
      "metadata": {
        "id": "UQxQwLlp4bXW"
      },
      "outputs": [],
      "source": [
        "RUN_ID = '1chsdmof'"
      ]
    },
    {
      "cell_type": "code",
      "execution_count": null,
      "metadata": {
        "id": "QjRu97DCuXqR"
      },
      "outputs": [],
      "source": [
        "# !rm -rf ./*"
      ]
    },
    {
      "cell_type": "code",
      "execution_count": null,
      "metadata": {
        "colab": {
          "base_uri": "https://localhost:8080/",
          "height": 139
        },
        "id": "M1H4JUosoQ4h",
        "outputId": "da92b28a-0847-4ab2-b99f-c184c7e72bd2"
      },
      "outputs": [
        {
          "output_type": "display_data",
          "data": {
            "text/plain": [
              "<IPython.core.display.HTML object>"
            ],
            "text/html": [
              "Tracking run with wandb version 0.19.1"
            ]
          },
          "metadata": {}
        },
        {
          "output_type": "display_data",
          "data": {
            "text/plain": [
              "<IPython.core.display.HTML object>"
            ],
            "text/html": [
              "Run data is saved locally in <code>/content/wandb/run-20250106_111621-1chsdmof</code>"
            ]
          },
          "metadata": {}
        },
        {
          "output_type": "display_data",
          "data": {
            "text/plain": [
              "<IPython.core.display.HTML object>"
            ],
            "text/html": [
              "Resuming run <strong><a href='https://wandb.ai/overfit1010/finrl-dt-replicate/runs/1chsdmof' target=\"_blank\">DOW-30 | 2009-01 | 2016 Q1 | 2016 Q2 | SJVGh</a></strong> to <a href='https://wandb.ai/overfit1010/finrl-dt-replicate' target=\"_blank\">Weights & Biases</a> (<a href='https://wandb.me/developer-guide' target=\"_blank\">docs</a>)<br>Sweep page: <a href='https://wandb.ai/overfit1010/finrl-dt-replicate/sweeps/l9jr39py' target=\"_blank\">https://wandb.ai/overfit1010/finrl-dt-replicate/sweeps/l9jr39py</a>"
            ]
          },
          "metadata": {}
        },
        {
          "output_type": "display_data",
          "data": {
            "text/plain": [
              "<IPython.core.display.HTML object>"
            ],
            "text/html": [
              " View project at <a href='https://wandb.ai/overfit1010/finrl-dt-replicate' target=\"_blank\">https://wandb.ai/overfit1010/finrl-dt-replicate</a>"
            ]
          },
          "metadata": {}
        },
        {
          "output_type": "display_data",
          "data": {
            "text/plain": [
              "<IPython.core.display.HTML object>"
            ],
            "text/html": [
              " View sweep at <a href='https://wandb.ai/overfit1010/finrl-dt-replicate/sweeps/l9jr39py' target=\"_blank\">https://wandb.ai/overfit1010/finrl-dt-replicate/sweeps/l9jr39py</a>"
            ]
          },
          "metadata": {}
        },
        {
          "output_type": "display_data",
          "data": {
            "text/plain": [
              "<IPython.core.display.HTML object>"
            ],
            "text/html": [
              " View run at <a href='https://wandb.ai/overfit1010/finrl-dt-replicate/runs/1chsdmof' target=\"_blank\">https://wandb.ai/overfit1010/finrl-dt-replicate/runs/1chsdmof</a>"
            ]
          },
          "metadata": {}
        }
      ],
      "source": [
        "wandb.init(entity=ENTITY, project=PROJECT, id=RUN_ID, resume='must')\n",
        "config = wandb.run.config"
      ]
    },
    {
      "cell_type": "code",
      "execution_count": null,
      "metadata": {
        "cellView": "form",
        "id": "-YgyEOHM_06J",
        "colab": {
          "base_uri": "https://localhost:8080/"
        },
        "outputId": "bf822449-933b-4ab6-a9ef-3a4d6cbdbf02"
      },
      "outputs": [
        {
          "output_type": "stream",
          "name": "stdout",
          "text": [
            "True\n"
          ]
        },
        {
          "output_type": "stream",
          "name": "stderr",
          "text": [
            "\u001b[34m\u001b[1mwandb\u001b[0m: \\ 1 of 3 files downloaded...\r\u001b[34m\u001b[1mwandb\u001b[0m:   3 of 3 files downloaded.  \n",
            "\u001b[34m\u001b[1mwandb\u001b[0m:   1 of 1 files downloaded.  \n"
          ]
        }
      ],
      "source": [
        "#@title Download artifacts\n",
        "\n",
        "def download_artifacts(run_id):\n",
        "    # Initialize the W&B API\n",
        "    api = wandb.Api()\n",
        "\n",
        "    # Retrieve the run\n",
        "    run = api.run(f\"{ENTITY}/{PROJECT}/{run_id}\")\n",
        "\n",
        "    # Iterate over the artifacts used or logged by the run\n",
        "    for artifact in run.logged_artifacts():\n",
        "        artifact.download(f'./{artifact.type}')\n",
        "\n",
        "download_artifacts(RUN_ID)"
      ]
    },
    {
      "cell_type": "code",
      "execution_count": null,
      "metadata": {
        "id": "a4IS_7kYSEFo"
      },
      "outputs": [],
      "source": [
        "# %load_ext tensorboard\n",
        "# %tensorboard --logdir ./results/"
      ]
    },
    {
      "cell_type": "code",
      "execution_count": null,
      "metadata": {
        "cellView": "form",
        "id": "0PuggN9OcFEo"
      },
      "outputs": [],
      "source": [
        "#@title Load data\n",
        "\n",
        "def load_data(config):\n",
        "    train_df = pd.read_csv('./dataset/train_data.csv')\n",
        "    train_df.set_index('date', inplace=True)\n",
        "\n",
        "    test_df = pd.read_csv('./dataset/test_data.csv')\n",
        "    test_df.set_index('date', inplace=True)\n",
        "\n",
        "    if wandb.config['dataset_type'] == 'quarterly_train_val_test':\n",
        "        val_df = pd.read_csv('./dataset/val_data.csv')\n",
        "        val_df.set_index('date', inplace=True)\n",
        "    else:\n",
        "        val_df = None\n",
        "\n",
        "    return train_df, val_df, test_df\n",
        "\n",
        "train, valid, trade = load_data(config)"
      ]
    },
    {
      "cell_type": "code",
      "execution_count": null,
      "metadata": {
        "cellView": "form",
        "id": "Y1sgiqffoEpn"
      },
      "outputs": [],
      "source": [
        "#@title imports\n",
        "\n",
        "import sys\n",
        "import os\n",
        "import re\n",
        "import pandas as pd\n",
        "import numpy as np\n",
        "import matplotlib.pyplot as plt\n",
        "import pickle\n",
        "from finrl.meta.preprocessor.yahoodownloader import YahooDownloader\n",
        "from finrl.meta.env_stock_trading.env_stocktrading import StockTradingEnv\n",
        "from finrl.agents.stablebaselines3.models import DRLAgent\n",
        "from stable_baselines3 import A2C, DDPG, PPO, SAC, TD3\n",
        "\n",
        "from finrl.config import INDICATORS, TRAINED_MODEL_DIR\n",
        "\n",
        "import warnings\n",
        "warnings.filterwarnings(\"ignore\", category=DeprecationWarning)\n",
        "warnings.simplefilter(action='ignore', category=FutureWarning)"
      ]
    },
    {
      "cell_type": "code",
      "execution_count": null,
      "metadata": {
        "cellView": "form",
        "id": "t0-3fjeCG_GJ"
      },
      "outputs": [],
      "source": [
        "#@title Define metric functions\n",
        "\n",
        "def calculate_mdd(asset_values):\n",
        "    \"\"\"\n",
        "    Calculate the Maximum Drawdown (MDD) of a portfolio.\n",
        "    \"\"\"\n",
        "    running_max = asset_values.cummax()\n",
        "    drawdown = (asset_values - running_max) / running_max\n",
        "    mdd = drawdown.min() * 100  # Convert to percentage\n",
        "    return mdd\n",
        "\n",
        "def calculate_sharpe_ratio(asset_values, risk_free_rate=0.0):\n",
        "    \"\"\"\n",
        "    Calculate the Sharpe Ratio of a portfolio.\n",
        "    \"\"\"\n",
        "    # Calculate daily returns\n",
        "    returns = asset_values.pct_change().dropna()\n",
        "    excess_returns = returns - risk_free_rate / 252  # Assuming 252 trading days\n",
        "    if excess_returns.std() == 0:\n",
        "        return 0.0\n",
        "    sharpe_ratio = excess_returns.mean() / excess_returns.std() * np.sqrt(252)  # Annualized\n",
        "    return sharpe_ratio\n",
        "\n",
        "def calculate_annualized_return(asset_values):\n",
        "    \"\"\"\n",
        "    Calculate the annualized return of a portfolio.\n",
        "    \"\"\"\n",
        "    # Assume `asset_values` is indexed by date or trading day\n",
        "    total_return = (asset_values.iloc[-1] / asset_values.iloc[0] - 1) * 100\n",
        "    num_days = (asset_values.index[-1] - asset_values.index[0]).days\n",
        "    annualized_return = (1 + total_return) ** (365 / num_days) - 1\n",
        "    return annualized_return"
      ]
    },
    {
      "cell_type": "markdown",
      "metadata": {
        "id": "AXCLrSGJlq7t"
      },
      "source": [
        "## Evaluate (train / test)"
      ]
    },
    {
      "cell_type": "code",
      "execution_count": null,
      "metadata": {
        "cellView": "form",
        "id": "BRInsCaFgH63"
      },
      "outputs": [],
      "source": [
        "#@title construct_daily_index\n",
        "def make_daily_index(data_df, date_column='date', new_index_name='date_index'):\n",
        "    # Get unique dates and create a mapping to daily indices\n",
        "    total_dates = data_df[date_column].unique()\n",
        "    date_to_index = {date: idx for idx, date in enumerate(sorted(total_dates))}\n",
        "    return data_df[date_column].map(date_to_index)\n",
        "\n",
        "def set_daily_index(data_df, date_column='date', new_index_name='date_index'):\n",
        "    \"\"\"\n",
        "    Constructs a daily index from unique dates in the specified column.\n",
        "\n",
        "    Parameters:\n",
        "        data_df (pd.DataFrame): The input DataFrame.\n",
        "        date_column (str): The name of the column containing dates.\n",
        "        new_index_name (str): The name for the new index.\n",
        "\n",
        "    Returns:\n",
        "        pd.DataFrame: DataFrame with a daily index.\n",
        "    \"\"\"\n",
        "\n",
        "    # Map dates to daily indices and set as index\n",
        "    data_df[new_index_name] = make_daily_index(data_df, date_column='date', new_index_name='date_index')\n",
        "\n",
        "    data_df.set_index(new_index_name, inplace=True)\n",
        "    data_df.index.name = ''  # Remove the index name for simplicity\n",
        "\n",
        "    return data_df\n",
        "\n",
        "def fix_daily_index(df):\n",
        "    if df.index.name == 'date':\n",
        "        df.reset_index(inplace=True)\n",
        "\n",
        "    daily_index = make_daily_index(df, date_column='date', new_index_name='date_index')\n",
        "    if (df.index.values != daily_index.values).any():\n",
        "\n",
        "        df.index = daily_index\n",
        "        df.index.name = ''\n",
        "\n",
        "    return df\n",
        "\n",
        "# trade = fix_daily_index(trade)\n",
        "# trade.index"
      ]
    },
    {
      "cell_type": "code",
      "execution_count": null,
      "metadata": {
        "cellView": "form",
        "colab": {
          "base_uri": "https://localhost:8080/"
        },
        "id": "BFVsIIEPBu9_",
        "outputId": "324cb062-381a-4330-d332-26957c7d2685"
      },
      "outputs": [
        {
          "output_type": "stream",
          "name": "stdout",
          "text": [
            "Stock Dimension: 29, State Space: 291\n"
          ]
        }
      ],
      "source": [
        "#@title init env\n",
        "\n",
        "def init_env(trade, config):\n",
        "    # Define environment parameters\n",
        "    stock_dimension = len(trade.tic.unique())\n",
        "    state_space = 1 + 2 * stock_dimension + len(INDICATORS) * stock_dimension\n",
        "    print(f\"Stock Dimension: {stock_dimension}, State Space: {state_space}\")\n",
        "\n",
        "    num_stock_shares = [0] * stock_dimension\n",
        "\n",
        "    env_kwargs = {\n",
        "        \"hmax\": 100,\n",
        "        \"initial_amount\": config['initial_amount'],\n",
        "        \"num_stock_shares\": num_stock_shares,\n",
        "        \"buy_cost_pct\": config['cost_pct'],\n",
        "        \"sell_cost_pct\": config['cost_pct'],\n",
        "        \"state_space\": state_space,\n",
        "        \"stock_dim\": stock_dimension,\n",
        "        \"tech_indicator_list\": INDICATORS,\n",
        "        \"action_space\": stock_dimension,\n",
        "        \"reward_scaling\": 1e-4\n",
        "    }\n",
        "\n",
        "    # Initialize trading environment\n",
        "    e_trade_gym = StockTradingEnv(\n",
        "        df=trade,\n",
        "        turbulence_threshold=70, risk_indicator_col='vix',\n",
        "        **env_kwargs\n",
        "    )\n",
        "\n",
        "    return e_trade_gym\n",
        "\n",
        "e_trade_gym = init_env(trade, config)"
      ]
    },
    {
      "cell_type": "code",
      "execution_count": null,
      "metadata": {
        "id": "frdIBaq0pqe2",
        "cellView": "form"
      },
      "outputs": [],
      "source": [
        "#@title get metrics\n",
        "import wandb\n",
        "\n",
        "def get_account_value_metrics(df_account_value: pd.DataFrame):\n",
        "    \"\"\"\n",
        "    Takes a DataFrame with account value (total asset value) per each date.\n",
        "    Should contain two columns - 'date' and name of algo, e.g. 'a2c'.\n",
        "    \"\"\"\n",
        "\n",
        "    assert isinstance(df_account_value, pd.DataFrame)\n",
        "    assert 'date' in df_account_value.columns\n",
        "    assert len(df_account_value.columns) == 2\n",
        "\n",
        "    account_values = df_account_value.dropna().set_index('date').iloc[:, 0]\n",
        "    sharpe = calculate_sharpe_ratio(account_values)\n",
        "    mdd = calculate_mdd(account_values)\n",
        "    cum_ret = (account_values.iloc[-1] - account_values.iloc[0]) / account_values.iloc[0] * 100\n",
        "    num_days = (account_values.index[-1] - account_values.index[0]).days\n",
        "    ann_ret = ((1 + cum_ret / 100) ** (365 / num_days) - 1) * 100\n",
        "\n",
        "    return {\n",
        "            f'sharpe_ratio': sharpe,\n",
        "            f'mdd': mdd,\n",
        "            f'ann_return': ann_ret,\n",
        "            f'cum_return': cum_ret,\n",
        "        }\n",
        "\n",
        "def get_env_metrics(env):\n",
        "    end_total_asset = env.state[0] + sum(\n",
        "        np.array(env.state[1 : (env.stock_dim + 1)])\n",
        "        * np.array(env.state[(env.stock_dim + 1) : (env.stock_dim * 2 + 1)])\n",
        "    )\n",
        "\n",
        "    return {\n",
        "        'begin_total_asset': env.asset_memory[0],\n",
        "        'end_total_asset': end_total_asset,\n",
        "        'total_cost': env.cost,\n",
        "        'total_trades': env.trades,\n",
        "    }"
      ]
    },
    {
      "cell_type": "code",
      "execution_count": null,
      "metadata": {
        "cellView": "form",
        "id": "hMtwlPPgz9Xw"
      },
      "outputs": [],
      "source": [
        "#@title log metrics\n",
        "\n",
        "def log_metrics(metrics, model_name, split_label, best_model=False, step=None):\n",
        "    assert model_name in ['a2c', 'ddpg', 'sac', 'ppo', 'td3']\n",
        "\n",
        "    rename_metrics = lambda model_name: {\n",
        "        f\"{key}/{model_name}\": value for key, value in metrics.items()\n",
        "    }\n",
        "\n",
        "    if best_model:\n",
        "        renamed_metrics = rename_metrics('best_model')\n",
        "\n",
        "        # step_metric_name = f\"{split_label}/step\"\n",
        "        # wandb.define_metric(step_metric_name)\n",
        "        # for key in renamed_metrics:\n",
        "        #     wandb.define_metric(key, step_metric=step_metric_name)\n",
        "\n",
        "        wandb.log({split_label: renamed_metrics}, step=step)\n",
        "        wandb.log({'best_model_name': model_name})\n",
        "    else:\n",
        "        wandb.log({split_label: rename_metrics(model_name)}, step=step)\n",
        "\n",
        "    # wandb.run.save()\n",
        "\n",
        "def update_best_model_metrics(metrics, model_name, split_label):\n",
        "    print(f\"DEBUG ({split_label}): {wandb.run.id}\")\n",
        "    if 'sharpe_ratios' not in wandb.run.config:\n",
        "        wandb.run.config['sharpe_ratios'] = {}\n",
        "\n",
        "    if split_label not in wandb.run.config['sharpe_ratios']:\n",
        "        wandb.run.config['sharpe_ratios'][split_label] = {}\n",
        "\n",
        "    sharpe_ratios = wandb.run.config['sharpe_ratios'][split_label]\n",
        "\n",
        "    print(f\"DEBUG ({split_label}): updating best model based on sharpe_ratios: {sharpe_ratios}\")\n",
        "    if len(sharpe_ratios) > 0:\n",
        "        best_model_name = max(sharpe_ratios, key=sharpe_ratios.get)\n",
        "        if metrics['sharpe_ratio'] > sharpe_ratios[best_model_name]:\n",
        "            print(\n",
        "                f\"DEBUG ({split_label}): {round(metrics['sharpe_ratio'], 2)} ({model_name})\"\n",
        "                f\" > {round(sharpe_ratios[best_model_name], 2)} ({best_model_name})\"\n",
        "                f\". New best model: {model_name}.\"\n",
        "            )\n",
        "            log_metrics(metrics, model_name, split_label, best_model=True)\n",
        "        else:\n",
        "            print(\n",
        "                f\"DEBUG ({split_label}): {round(metrics['sharpe_ratio'], 2)} ({model_name})\"\n",
        "                f\" <= {round(sharpe_ratios[best_model_name], 2)} ({best_model_name})\"\n",
        "                \". Not updating best model.\"\n",
        "            )\n",
        "    else:\n",
        "        print(f\"DEBUG ({split_label}): no models logged yet, new best model is current one: {model_name}\")\n",
        "        log_metrics(metrics, model_name, split_label, best_model=True)\n",
        "\n",
        "    sharpe_ratios[model_name] = metrics['sharpe_ratio']"
      ]
    },
    {
      "cell_type": "code",
      "execution_count": null,
      "metadata": {
        "id": "aJhaU9sxwUl-",
        "cellView": "form",
        "colab": {
          "base_uri": "https://localhost:8080/"
        },
        "outputId": "ba86a18b-787a-4a10-a384-0a663a23252f"
      },
      "outputs": [
        {
          "output_type": "execute_result",
          "data": {
            "text/plain": [
              "{'a2c': {'cum_return': 2.27,\n",
              "  'ann_return': 9.52,\n",
              "  'mdd': -3.61,\n",
              "  'sharpe_ratio': 0.78}}"
            ]
          },
          "metadata": {},
          "execution_count": 180
        }
      ],
      "source": [
        "#@title result_df_to_metrics_dict\n",
        "\n",
        "def result_df_to_metrics_dict(metrics_summary_df):\n",
        "    cols_to_rename = {\n",
        "        'Method': 'model_name',\n",
        "        'Cumulative Return (%)': 'cum_return',\n",
        "        'Annualized Return (%)': 'ann_return',\n",
        "        'MDD (%)': 'mdd',\n",
        "        'Sharpe Ratio': 'sharpe_ratio'\n",
        "    }\n",
        "\n",
        "    extracted_metrics = metrics_summary_df.rename(columns=cols_to_rename).T.to_dict()\n",
        "    metrics_all = {model_data['model_name'].lower(): model_data for idx, model_data in extracted_metrics.items()}\n",
        "    for model_name, metrics in metrics_all.items():\n",
        "        metrics.pop('model_name')\n",
        "        for metric, value in metrics.items():\n",
        "            metrics_all[model_name][metric] = float(value)\n",
        "\n",
        "    return metrics_all\n",
        "\n",
        "result_df_to_metrics_dict(metrics_summary_df)"
      ]
    },
    {
      "cell_type": "code",
      "execution_count": null,
      "metadata": {
        "id": "n_ztcCc4AgTl",
        "cellView": "form"
      },
      "outputs": [],
      "source": [
        "#@title Custom DRLAgent (custom prediction)\n",
        "from finrl.agents.stablebaselines3.models import DRLAgent, TensorboardCallback\n",
        "from stable_baselines3.common.callbacks import CallbackList\n",
        "import wandb\n",
        "\n",
        "class DRLAgent(DRLAgent):\n",
        "    def DRL_prediction(model, environment, deterministic=True):\n",
        "        \"\"\"make a prediction and get results\"\"\"\n",
        "        test_env, test_obs = environment.get_sb_env()\n",
        "        account_memory = None  # This help avoid unnecessary list creation\n",
        "        actions_memory = None  # optimize memory consumption\n",
        "        # state_memory=[] #add memory pool to store states\n",
        "\n",
        "        test_env.reset()\n",
        "        max_steps = len(environment.df.index.unique()) - 1\n",
        "\n",
        "        for i in range(len(environment.df.index.unique())):\n",
        "            action, _states = model.predict(test_obs, deterministic=deterministic)\n",
        "            # account_memory = test_env.env_method(method_name=\"save_asset_memory\")\n",
        "            # actions_memory = te    @staticmethodst_env.env_method(method_name=\"save_action_memory\")\n",
        "            test_obs, rewards, dones, info = test_env.step(action)\n",
        "\n",
        "            if (\n",
        "                i == max_steps - 1\n",
        "            ):  # more descriptive condition for early termination to clarify the logic\n",
        "                account_memory = test_env.env_method(method_name=\"save_asset_memory\")\n",
        "                actions_memory = test_env.env_method(method_name=\"save_action_memory\")\n",
        "            # add current state to state memory\n",
        "            # state_memory=test_env.env_method(method_name=\"save_state_memory\")\n",
        "\n",
        "            if dones[0]:\n",
        "                print(\"hit end!\")\n",
        "                break\n",
        "\n",
        "        # env_metrics = get_env_metrics(test_env.envs[0])\n",
        "        # print(test_env.envs[0].state)\n",
        "        # print(env_metrics)\n",
        "\n",
        "        return account_memory[0], actions_memory[0]"
      ]
    },
    {
      "cell_type": "code",
      "execution_count": null,
      "metadata": {
        "cellView": "form",
        "id": "ZG3nOgG7jh9g"
      },
      "outputs": [],
      "source": [
        "#@title get predictions\n",
        "\n",
        "def get_predictions(e_trade_gym, config):\n",
        "    # Load variables from the config\n",
        "    if_using_a2c = config[\"if_using_a2c\"]\n",
        "    if_using_ddpg = config[\"if_using_ddpg\"]\n",
        "    if_using_ppo = config[\"if_using_ppo\"]\n",
        "    if_using_td3 = config[\"if_using_td3\"]\n",
        "    if_using_sac = config[\"if_using_sac\"]\n",
        "\n",
        "    # Ensure at least one algorithm is enabled\n",
        "    if not any([if_using_a2c, if_using_ddpg, if_using_ppo, if_using_td3, if_using_sac]):\n",
        "        raise ValueError(\"At least one algorithm must be set to True for the script to run.\")\n",
        "\n",
        "    # Load trained models\n",
        "    trained_a2c = A2C.load(os.path.join(TRAINED_MODEL_DIR, \"agent_a2c\")) if if_using_a2c else None\n",
        "    trained_ddpg = DDPG.load(os.path.join(TRAINED_MODEL_DIR, \"agent_ddpg\")) if if_using_ddpg else None\n",
        "    trained_ppo = PPO.load(os.path.join(TRAINED_MODEL_DIR, \"agent_ppo\")) if if_using_ppo else None\n",
        "    trained_td3 = TD3.load(os.path.join(TRAINED_MODEL_DIR, \"agent_td3\")) if if_using_td3 else None\n",
        "    trained_sac = SAC.load(os.path.join(TRAINED_MODEL_DIR, \"agent_sac\")) if if_using_sac else None\n",
        "\n",
        "    # Reset the result DataFrame\n",
        "    result = pd.DataFrame()\n",
        "\n",
        "    # Predict and store results for all enabled algorithms\n",
        "    for algo_name, trained_model, is_enabled in [\n",
        "        (\"A2C\", trained_a2c, if_using_a2c),\n",
        "        (\"DDPG\", trained_ddpg, if_using_ddpg),\n",
        "        (\"PPO\", trained_ppo, if_using_ppo),\n",
        "        (\"TD3\", trained_td3, if_using_td3),\n",
        "        (\"SAC\", trained_sac, if_using_sac)\n",
        "    ]:\n",
        "        if is_enabled:\n",
        "            df_account_value, df_actions = DRLAgent.DRL_prediction(\n",
        "                model=trained_model, environment=e_trade_gym\n",
        "            )\n",
        "            df_result = df_account_value.set_index('date')\n",
        "\n",
        "            # env_metrics = get_env_metrics(e_trade_gym)\n",
        "            # print(env_metrics)\n",
        "\n",
        "            # display(df_result)\n",
        "            # break\n",
        "\n",
        "            df_result.columns = [f\"{algo_name}_{col}\" for col in df_result.columns]\n",
        "            result = pd.merge(result, df_result, how=\"outer\", left_index=True, right_index=True)\n",
        "\n",
        "    # Create a dictionary with the mapping of old columns to model names\n",
        "    rename_dict = {\n",
        "        'A2C_account_value': 'A2C',\n",
        "        'DDPG_account_value': 'DDPG',\n",
        "        'PPO_account_value': 'PPO',\n",
        "        'TD3_account_value': 'TD3',\n",
        "        'SAC_account_value': 'SAC'\n",
        "    }\n",
        "\n",
        "    # Rename columns using the dictionary and ignore errors for columns not in the dictionary\n",
        "    result = result.rename(columns=rename_dict, errors='ignore')\n",
        "    result.index = pd.to_datetime(result.index)\n",
        "    return result\n",
        "\n",
        "# result = get_predictions(e_trade_gym, config)\n",
        "# result.head()"
      ]
    },
    {
      "cell_type": "code",
      "execution_count": null,
      "metadata": {
        "cellView": "form",
        "id": "GTJrVlMbg4--"
      },
      "outputs": [],
      "source": [
        "#@title add DIJA for test period\n",
        "\n",
        "def add_djia_test(trade, result, config):\n",
        "    # Define test period\n",
        "    TEST_START_DATE = trade['date'].iloc[0]\n",
        "    TEST_END_DATE = trade['date'].iloc[-1]\n",
        "\n",
        "    print(TEST_START_DATE)\n",
        "    print(TEST_END_DATE)\n",
        "\n",
        "    # Fetch DJIA data for the test period\n",
        "    df_dji = YahooDownloader(\n",
        "        start_date=TEST_START_DATE,\n",
        "        end_date=TEST_END_DATE,\n",
        "        ticker_list=['^DJI'] # `dji` is delisted, `DJIA` is an ETF, not an index\n",
        "    ).fetch_data()\n",
        "    df_dji['date'] = pd.to_datetime(df_dji['date'])\n",
        "\n",
        "    # Merge DJIA data\n",
        "    df_dji = df_dji[['date','close']]\n",
        "    fst_day = df_dji['close'].iloc[0]\n",
        "    dji = pd.DataFrame({\n",
        "        'DJIA': df_dji['close'].div(fst_day).mul(config['initial_amount']).values\n",
        "        # 'DJIA': df_dji['close'].div(fst_day).values\n",
        "    }, index=df_dji['date'])\n",
        "\n",
        "    # Merge DJIA data using inner join to ensure alignment\n",
        "    result = pd.merge(result, dji, how='inner', left_index=True, right_index=True).fillna(method='bfill')\n",
        "\n",
        "    return result\n",
        "\n",
        "# result = add_djia_test(result)\n",
        "# result"
      ]
    },
    {
      "cell_type": "code",
      "execution_count": null,
      "metadata": {
        "cellView": "form",
        "id": "oqjPITSj99E9"
      },
      "outputs": [],
      "source": [
        "#@title Calculate metrics for individual algorithms (w/annualized returns)\n",
        "\n",
        "def calculate_metrics(result):\n",
        "    label_mapping = {\n",
        "        # 'DT_LoRA_GPT2': 'DT-LoRA-GPT2',\n",
        "        # 'DT_LoRA_Random_Weight_GPT2': 'DT-LoRA-Random-GPT2',\n",
        "        # 'CQL': 'Conservative Q-Learning',\n",
        "        # 'IQL': 'Implicit Q-Learning',\n",
        "        # 'BC': 'Behavior Cloning',\n",
        "        'A2C': 'A2C',\n",
        "        'DDPG': 'DDPG',\n",
        "        'PPO': 'PPO',\n",
        "        'TD3': 'TD3',\n",
        "        'SAC': 'SAC',\n",
        "        'DJIA': 'Dow Jones Index'\n",
        "    }\n",
        "\n",
        "    metrics_dict = {\n",
        "        'Method': [],\n",
        "        'Cumulative Return Mean (%)': [],\n",
        "        # 'Cumulative Return Std (%)': [],\n",
        "        'Annualized Return Mean (%)': [],\n",
        "        # 'Annualized Return Std (%)': [],\n",
        "        'MDD Mean (%)': [],\n",
        "        'MDD Std (%)': [],\n",
        "        'Sharpe Ratio Mean': [],\n",
        "        'Sharpe Ratio Std': []\n",
        "    }\n",
        "\n",
        "    experiment_stats = {}\n",
        "    individual_algos = ['A2C', 'DDPG', 'TD3', 'SAC', 'PPO']\n",
        "    for algo in individual_algos:\n",
        "        if algo in result.columns:\n",
        "            # Check if this algorithm is already part of experiment_groups\n",
        "            if label_mapping.get(algo, algo) in experiment_stats:\n",
        "                print(f\"Info: '{algo}' is already included in experiment groups. Skipping individual plotting to avoid duplication.\")\n",
        "                continue  # Skip to prevent duplicate plotting\n",
        "\n",
        "            account_values = result[algo].dropna()\n",
        "            if account_values.empty:\n",
        "                print(f\"Warning: No valid asset values for individual algorithm '{algo}'. Skipping metrics calculation.\")\n",
        "                continue\n",
        "\n",
        "            cum_ret = (account_values.iloc[-1] - account_values.iloc[0]) / account_values.iloc[0] * 100\n",
        "\n",
        "            # Handle potential division by zero or invalid calculations\n",
        "            if np.isinf(cum_ret) or np.isnan(cum_ret):\n",
        "                cum_ret = np.nan\n",
        "\n",
        "            # Calculate annualized return\n",
        "            num_days = (account_values.index[-1] - account_values.index[0]).days\n",
        "            ann_ret = ( (1 + cum_ret / 100) ** (365 / num_days) - 1 ) * 100\n",
        "\n",
        "            # MDD\n",
        "            mdd = calculate_mdd(account_values)\n",
        "            # Sharpe Ratio\n",
        "            sharpe = calculate_sharpe_ratio(account_values)\n",
        "            # Append to metrics_dict with mapped label\n",
        "            mapped_algo = label_mapping.get(algo, algo)\n",
        "            metrics_dict['Method'].append(mapped_algo)\n",
        "            metrics_dict['Cumulative Return Mean (%)'].append(cum_ret)\n",
        "            # metrics_dict['Cumulative Return Std (%)'].append(0.00)  # Single run, std is 0\n",
        "            metrics_dict['Annualized Return Mean (%)'].append(ann_ret)\n",
        "            # metrics_dict['Annualized Return Std (%)'].append(0.00)  # Single run, std is 0\n",
        "            metrics_dict['MDD Mean (%)'].append(mdd)\n",
        "            metrics_dict['MDD Std (%)'].append(0.00)  # Single run, std is 0\n",
        "            metrics_dict['Sharpe Ratio Mean'].append(sharpe)\n",
        "            metrics_dict['Sharpe Ratio Std'].append(0.00)  # Single run, std is 0\n",
        "\n",
        "            # Store in experiment_stats for plotting\n",
        "            experiment_stats[mapped_algo] = {'mean': account_values, 'std': pd.Series([0]*len(account_values), index=account_values.index)}\n",
        "\n",
        "    # Convert metrics_dict to DataFrame\n",
        "    metrics_df = pd.DataFrame(metrics_dict)\n",
        "\n",
        "    # Drop any rows with NaN metrics to ensure clean tables\n",
        "    metrics_df = metrics_df.dropna(subset=['Cumulative Return Mean (%)', 'Annualized Return Mean (%)', 'MDD Mean (%)', 'Sharpe Ratio Mean'])\n",
        "\n",
        "    # Create summary DataFrame with formatted strings\n",
        "    metrics_summary_df = metrics_df.copy()\n",
        "    metrics_summary_df['Cumulative Return (%)'] = metrics_df['Cumulative Return Mean (%)'].round(2).astype(str) \\\n",
        "        #  + \" ± \" + metrics_df['Cumulative Return Std (%)'].round(2).astype(str)\n",
        "    metrics_summary_df['Annualized Return (%)'] = metrics_df['Annualized Return Mean (%)'].round(2).astype(str) \\\n",
        "        #  + \" ± \" + metrics_df['Annualized Return Std (%)'].round(2).astype(str)\n",
        "    metrics_summary_df['MDD (%)'] = metrics_df['MDD Mean (%)'].round(2).astype(str) \\\n",
        "        #  + \" ± \" + metrics_df['MDD Std (%)'].round(2).astype(str)\n",
        "    metrics_summary_df['Sharpe Ratio'] = metrics_df['Sharpe Ratio Mean'].round(2).astype(str) \\\n",
        "        #  + \" ± \" + metrics_df['Sharpe Ratio Std'].round(2).astype(str)\n",
        "    metrics_summary_df = metrics_summary_df[['Method', 'Cumulative Return (%)', 'Annualized Return (%)', 'MDD (%)', 'Sharpe Ratio']]\n",
        "\n",
        "    return metrics_df, metrics_summary_df, experiment_stats\n",
        "\n",
        "metrics_df, metrics_summary_df, experiment_stats = calculate_metrics(result)"
      ]
    },
    {
      "cell_type": "code",
      "execution_count": null,
      "metadata": {
        "cellView": "form",
        "collapsed": true,
        "id": "htgsl-iu5dU_"
      },
      "outputs": [],
      "source": [
        "#@title Print the comparison table (w/annualized returns)\n",
        "\n",
        "def print_comparison_table(metrics_summary_df, metrics_df):\n",
        "    print(f\"\\n=== Metrics Comparison ===\")\n",
        "    print(metrics_summary_df.to_string(index=False))\n",
        "    print(\"\\n\")\n",
        "\n",
        "    # Create separate DataFrames for rankings\n",
        "    ranking_cum_ret = metrics_df[['Method', 'Cumulative Return Mean (%)']].copy()\n",
        "    ranking_cum_ret = ranking_cum_ret.sort_values(by='Cumulative Return Mean (%)', ascending=False)\n",
        "\n",
        "    ranking_annualized_ret = metrics_df[['Method', 'Annualized Return Mean (%)']].copy()\n",
        "    ranking_annualized_ret = ranking_annualized_ret.sort_values(by='Annualized Return Mean (%)', ascending=False)\n",
        "\n",
        "    ranking_mdd = metrics_df[['Method', 'MDD Mean (%)']].copy()\n",
        "    ranking_mdd = ranking_mdd.sort_values(by='MDD Mean (%)', ascending=False)  # Lower abs(MDD) is better\n",
        "\n",
        "    ranking_sharpe = metrics_df[['Method', 'Sharpe Ratio Mean']].copy()\n",
        "    ranking_sharpe = ranking_sharpe.sort_values(by='Sharpe Ratio Mean', ascending=False)\n",
        "\n",
        "    # Print rankings\n",
        "    print(f\"=== Rankings ===\")\n",
        "\n",
        "    print(\"\\nCumulative Return (%):\")\n",
        "    for idx, row in ranking_cum_ret.iterrows():\n",
        "        print(f\"{row['Method']}: {row['Cumulative Return Mean (%)']:.2f}%\")\n",
        "\n",
        "    print(\"\\nAnnualized Return (%):\")\n",
        "    for idx, row in ranking_annualized_ret.iterrows():\n",
        "        print(f\"{row['Method']}: {row['Annualized Return Mean (%)']:.2f}%\")\n",
        "\n",
        "    print(\"\\nMaximum Drawdown (MDD %) [Lower absolute values is Better]:\")\n",
        "    for idx, row in ranking_mdd.iterrows():\n",
        "        print(f\"{row['Method']}: {row['MDD Mean (%)']:.2f}%\")\n",
        "\n",
        "    print(\"\\nSharpe Ratio [Higher is Better]:\")\n",
        "    for idx, row in ranking_sharpe.iterrows():\n",
        "        print(f\"{row['Method']}: {row['Sharpe Ratio Mean']:.2f}\")\n",
        "\n",
        "    print(\"\\n\")\n",
        "\n",
        "    # # Debugging: Check if all means align with result.index\n",
        "    # for exp_name, stats in experiment_stats.items():\n",
        "    #     mean_length = len(stats['mean'])\n",
        "    #     result_length = len(result.index)\n",
        "    #     if mean_length != result_length:\n",
        "    #         print(f\"Warning: Mean length for '{exp_name}' ({mean_length}) does not match result index length ({result_length}). Reindexing.\")\n",
        "    #         experiment_stats[exp_name]['mean'] = stats['mean'].reindex(result.index).fillna(method='ffill')\n",
        "    #         experiment_stats[exp_name]['std'] = stats['std'].reindex(result.index).fillna(0)\n",
        "\n",
        "# print_comparison_table(metrics_summary_df, metrics_df)"
      ]
    },
    {
      "cell_type": "code",
      "execution_count": null,
      "metadata": {
        "cellView": "form",
        "id": "lAk7W7YEdlYm"
      },
      "outputs": [],
      "source": [
        "#@title log_test_metrics\n",
        "\n",
        "def log_test_metrics(metrics_summary_df):\n",
        "    # Identify the best model based on maximum Sharpe Ratio\n",
        "    best_model_row = metrics_summary_df.loc[metrics_summary_df['Sharpe Ratio'].idxmax()]\n",
        "    best_model_name = best_model_row['Method'].lower()  # Convert the model name to lowercase\n",
        "\n",
        "    # Log metrics for each model\n",
        "    for _, row in metrics_summary_df.iterrows():\n",
        "        model_name = row['Method'].lower()  # Convert the model name to lowercase\n",
        "\n",
        "        # Log per-model metrics\n",
        "        wandb.run.log({\n",
        "            f'test/cum_return/{model_name}': row['Cumulative Return (%)'],\n",
        "            f'test/ann_return/{model_name}': row['Annualized Return (%)'],\n",
        "            f'test/mdd/{model_name}': row['MDD (%)'],\n",
        "            f'test/sharpe_ratio/{model_name}': row['Sharpe Ratio']\n",
        "        })\n",
        "\n",
        "    # Log metrics for the best model\n",
        "    wandb.run.log({\n",
        "        'test/cum_return/best_model': best_model_row['Cumulative Return (%)'],\n",
        "        'test/ann_return/best_model': best_model_row['Annualized Return (%)'],\n",
        "        'test/mdd/best_model': best_model_row['MDD (%)'],\n",
        "        'test/sharpe_ratio/best_model': best_model_row['Sharpe Ratio'],\n",
        "        'test/best_model_name': best_model_name\n",
        "    })\n",
        "\n",
        "    print(wandb.run.config)\n",
        "\n",
        "# Example usage:\n",
        "# log_test_metrics(metrics_summary_df)\n"
      ]
    },
    {
      "cell_type": "code",
      "execution_count": null,
      "metadata": {
        "cellView": "form",
        "id": "BidSdRYU2HPV"
      },
      "outputs": [],
      "source": [
        "#@title log_metrics\n",
        "def log_metrics(metrics, model_name, split_label, best_model=False, step=None):\n",
        "    assert model_name in ['a2c', 'ddpg', 'sac', 'ppo', 'td3']\n",
        "\n",
        "    rename_metrics = lambda model_name: {\n",
        "        f\"{key}/{model_name}\": value for key, value in metrics.items()\n",
        "    }\n",
        "\n",
        "    if best_model:\n",
        "        renamed_metrics = rename_metrics('best_model')\n",
        "\n",
        "        # step_metric_name = f\"{split_label}/step\"\n",
        "        # wandb.define_metric(step_metric_name)\n",
        "        # for key in renamed_metrics:\n",
        "        #     wandb.define_metric(key, step_metric=step_metric_name)\n",
        "\n",
        "        wandb.log({split_label: renamed_metrics}, step=step)\n",
        "        wandb.log({'best_model_name': model_name})\n",
        "    else:\n",
        "        wandb.log({split_label: rename_metrics(model_name)}, step=step)\n",
        "\n",
        "    # wandb.run.save()\n",
        "\n",
        "def update_best_model_metrics(metrics, model_name, split_label):\n",
        "    # api = wandb.Api()\n",
        "    # run = api.run(f\"{wandb.run.project}/{wandb.run.id}\")\n",
        "\n",
        "    # sharpe_ratios = {\n",
        "    #     full_metric_name.split('/')[1]: sharpe_ratio_value\n",
        "    #     for full_metric_name, sharpe_ratio_value in run.summary.items()\n",
        "    #     if full_metric_name.startswith(f'{split_label}.sharpe_ratio/')\n",
        "    # } # { new_model_name: sharpe_ratio_value }\n",
        "\n",
        "    if 'sharpe_ratios' not in wandb.run.config:\n",
        "        wandb.run.config['sharpe_ratios'] = {}\n",
        "\n",
        "    if split_label not in wandb.run.config['sharpe_ratios']:\n",
        "        wandb.run.config['sharpe_ratios'][split_label] = {}\n",
        "\n",
        "    sharpe_ratios = wandb.run.config['sharpe_ratios'][split_label]\n",
        "\n",
        "    print(f\"DEBUG ({split_label}): updating best model based on sharpe_ratios: {sharpe_ratios}\")\n",
        "    if len(sharpe_ratios) > 0:\n",
        "        best_model_name = max(sharpe_ratios, key=sharpe_ratios.get)\n",
        "        if metrics['sharpe_ratio'] > sharpe_ratios[best_model_name]:\n",
        "            print(\n",
        "                f\"DEBUG ({split_label}): {round(metrics['sharpe_ratio'], 2)} ({model_name})\"\n",
        "                f\" > {round(sharpe_ratios[best_model_name], 2)} ({best_model_name})\"\n",
        "                f\". New best model: {model_name}.\"\n",
        "            )\n",
        "            log_metrics(metrics, model_name, split_label, best_model=True)\n",
        "        else:\n",
        "            print(\n",
        "                f\"DEBUG ({split_label}): {round(metrics['sharpe_ratio'], 2)} ({model_name})\"\n",
        "                f\" <= {round(sharpe_ratios[best_model_name], 2)} ({best_model_name})\"\n",
        "                \". Not updating best model.\"\n",
        "            )\n",
        "    else:\n",
        "        print(f\"DEBUG ({split_label}): no models logged yet, new best model is current one: {model_name}\")\n",
        "        wandb.run.config['sharpe_ratios'][split_label][model_name] = metrics['sharpe_ratio']\n",
        "        log_metrics(metrics, model_name, split_label, best_model=True)"
      ]
    },
    {
      "cell_type": "code",
      "execution_count": null,
      "metadata": {
        "cellView": "form",
        "id": "_z4soDAjnutM"
      },
      "outputs": [],
      "source": [
        "#@title plot results\n",
        "%matplotlib inline\n",
        "\n",
        "def plot_results(result, experiment_stats):\n",
        "    # Plotting section\n",
        "    fig = plt.figure(figsize=(16, 9))  # Increased figure size for better readability\n",
        "    method_styles = {\n",
        "        # 'CQL': {'color': '#1f77b4', 'linestyle': '-'},           # Blue solid\n",
        "        # 'IQL': {'color': '#ff7f0e', 'linestyle': '--'},          # Orange dashed\n",
        "        # 'BC': {'color': '#2ca02c', 'linestyle': '-.'},           # Green dash-dot\n",
        "        # 'DT LoRA GPT2': {'color': '#d62728', 'linestyle': ':'},  # Red dotted\n",
        "        # 'DT LoRA Random Weight GPT2': {'color': '#9467bd', 'linestyle': '-'},  # Purple solid\n",
        "        'A2C': {'color': '#8c564b', 'linestyle': '--'},          # Brown dashed\n",
        "        'DDPG': {'color': '#e377c2', 'linestyle': '-'},          # Pink solid\n",
        "        'PPO': {'color': '#7f7f7f', 'linestyle': '-'},           # Gray solid\n",
        "        'TD3': {'color': '#bcbd22', 'linestyle': '--'},          # Olive dashed\n",
        "        'SAC': {'color': '#17becf', 'linestyle': '-'},           # Cyan solid\n",
        "        'DJIA': {'color': '#000000', 'linestyle': '-'},          # Black solid\n",
        "        # Add more methods here if needed\n",
        "    }\n",
        "    # Plot DJIA\n",
        "    plt.plot(result.index, result['DJIA'], label=\"Dow Jones Index\", linestyle=method_styles['DJIA']['linestyle'], color=method_styles['DJIA']['color'])\n",
        "\n",
        "    # Define color palette and line styles\n",
        "    color_palette = plt.get_cmap('tab10').colors  # Colorblind-friendly palette\n",
        "    line_styles = ['-', '--', '-.', ':']  # Different line styles\n",
        "\n",
        "    # Plot experiment groups\n",
        "    for idx, (exp_name, stats) in enumerate(experiment_stats.items()):\n",
        "        min_date = stats['mean'].index.min()\n",
        "        max_date = stats['mean'].index.max()\n",
        "\n",
        "        mean = stats['mean']\n",
        "        std = stats['std']\n",
        "\n",
        "        # Ensure mean and std are aligned with result.index\n",
        "        mean = mean.reindex(result.index).fillna(method='ffill')\n",
        "        std = std.reindex(result.index).fillna(0)\n",
        "\n",
        "        # Assign colors and line styles\n",
        "        color = color_palette[idx % len(color_palette)]\n",
        "        linestyle = line_styles[idx % len(line_styles)]\n",
        "\n",
        "        def exp_name_formatter(exp_name):\n",
        "            exp_names = exp_name.split('_')\n",
        "            if len(exp_names) == 1:\n",
        "                return exp_name\n",
        "            elif len(exp_names) == 2:\n",
        "                return exp_names[1].upper()\n",
        "            elif len(exp_names) == 3:\n",
        "                return None\n",
        "            elif len(exp_names) == 4:\n",
        "                return exp_names[1].upper() + ' LoRA ' + 'GPT2'\n",
        "            elif len(exp_names) == 6:\n",
        "                return exp_names[1].upper() + ' LoRA ' + 'Random Weight ' + 'GPT2'\n",
        "            else:\n",
        "                return exp_name\n",
        "\n",
        "        # Plot mean\n",
        "        line, = plt.plot(\n",
        "            result.index,\n",
        "            mean,\n",
        "            label=exp_name_formatter(exp_name),\n",
        "            linestyle=method_styles[exp_name_formatter(exp_name)]['linestyle'],\n",
        "            color=method_styles[exp_name_formatter(exp_name)]['color']\n",
        "        )\n",
        "\n",
        "        # Plot error bands (mean ± 1 std)\n",
        "        plt.fill_between(\n",
        "            result.index,\n",
        "            mean - std,\n",
        "            mean + std,\n",
        "            color=method_styles[exp_name_formatter(exp_name)]['color'],\n",
        "            alpha=0.2\n",
        "        )\n",
        "\n",
        "    # Enhance layout and aesthetics\n",
        "    plt.tight_layout()\n",
        "    plt.grid(True, linestyle='--', alpha=0.3)\n",
        "\n",
        "    # Set title and labels with enhanced formatting\n",
        "    plt.title(f\"Performance Comparison of DRL agents\", fontsize=20, fontweight='bold')\n",
        "    plt.xlabel(\"Date\", fontsize=16, fontweight='bold')\n",
        "    plt.ylabel(\"Total Asset Value ($)\", fontsize=16, fontweight='bold')\n",
        "    plt.xticks(result.index[0::30])\n",
        "\n",
        "    # Add 'Test Phase' annotation with date range\n",
        "    plt.text(0.5, 0.95, f'Test Phase: {min_date.date()} to {max_date.date()}',\n",
        "    transform=plt.gca().transAxes, fontsize=14, ha='center',\n",
        "    bbox=dict(boxstyle=\"round,pad=0.3\", facecolor=\"white\", alpha=0.5))\n",
        "\n",
        "    plt.legend(loc='lower right')\n",
        "    return fig\n",
        "\n",
        "# fig = plot_results(result, experiment_stats)\n",
        "# plt.show()"
      ]
    },
    {
      "cell_type": "code",
      "execution_count": null,
      "metadata": {
        "cellView": "form",
        "id": "02OzYWBGMVNE"
      },
      "outputs": [],
      "source": [
        "#@title log_plot_as_artifact\n",
        "\n",
        "import os\n",
        "import matplotlib.pyplot as plt\n",
        "import wandb\n",
        "\n",
        "def log_plot_as_artifact(fig, artifact_name_prefix, artifact_type=\"plot\"):\n",
        "    \"\"\"\n",
        "    Save a Matplotlib figure without clipping and log it as a W&B artifact.\n",
        "\n",
        "    Parameters:\n",
        "        fig (matplotlib.figure.Figure): The Matplotlib figure to save and log.\n",
        "        artifact_name (str): The name of the W&B artifact.\n",
        "        artifact_type (str): The type of the artifact (default is \"plot\").\n",
        "        filename (str): The filename to save the plot as (default is \"plot.png\").\n",
        "    \"\"\"\n",
        "    try:\n",
        "        # Get full artifact name\n",
        "        artifact_name = f'{artifact_name_prefix}-{wandb.run.id}'\n",
        "        filename = artifact_name + '.png'\n",
        "\n",
        "        # Save the figure with tight layout and proper padding\n",
        "        fig.savefig(filename, bbox_inches='tight', pad_inches=0.1, dpi=300)\n",
        "        plt.close(fig)  # Close the figure to free up memory\n",
        "\n",
        "        # Create and log the W&B artifact\n",
        "        artifact = wandb.Artifact(artifact_name, type=artifact_type)\n",
        "        artifact.add_file(filename)\n",
        "        wandb.log_artifact(artifact)\n",
        "    finally:\n",
        "        # Ensure the file is deleted after use\n",
        "        if os.path.exists(filename):\n",
        "            os.remove(filename)\n"
      ]
    },
    {
      "cell_type": "code",
      "execution_count": null,
      "metadata": {
        "id": "RUUFNt-BoNe_",
        "cellView": "form"
      },
      "outputs": [],
      "source": [
        "#@title run_prediction_and_log_metrics\n",
        "\n",
        "def run_prediction_and_log_metrics(run_id):\n",
        "    with wandb.init(project=PROJECT, entity=ENTITY, id=run_id, resume='must'):\n",
        "        config = wandb.run.config\n",
        "\n",
        "        download_artifacts(run_id)\n",
        "        train, val, trade = load_data(config)\n",
        "        trade = fix_daily_index(trade)\n",
        "        print(f\"DEBUG trade end:{trade['date'].max()}\")\n",
        "\n",
        "        e_trade_gym = init_env(trade, config)\n",
        "        result = get_predictions(e_trade_gym, config)\n",
        "        result = add_djia_test(trade, result, config)\n",
        "\n",
        "        metrics_df, metrics_summary_df, experiment_stats = calculate_metrics(result)\n",
        "        log_test_metrics(metrics_summary_df)\n",
        "\n",
        "        metrics_all = result_df_to_metrics_dict(metrics_summary_df)\n",
        "        for model_name, metrics in metrics_all.items():\n",
        "            update_best_model_metrics(metrics, model_name, 'test')\n",
        "\n",
        "        fig = plot_results(result, experiment_stats)\n",
        "        log_plot_as_artifact(fig, artifact_name_prefix=\"performance_comparison_DRL_agents\", artifact_type=\"plot\")\n",
        "\n",
        "# run_prediction_and_log_metrics(RUN_ID)"
      ]
    },
    {
      "cell_type": "code",
      "execution_count": null,
      "metadata": {
        "id": "JXJV9IiM9dPX"
      },
      "outputs": [],
      "source": [
        "SWEEP_ID = 'k43io2uh'\n",
        "# SWEEP_ID = 'l9jr39py'"
      ]
    },
    {
      "cell_type": "code",
      "execution_count": null,
      "metadata": {
        "colab": {
          "base_uri": "https://localhost:8080/",
          "height": 1000,
          "referenced_widgets": [
            "6bca720ed6334741b8859f479f54f136",
            "6d1e96dea2b8499d8f58dd3b868742ee",
            "e2f87d38c6de40ba93b010c4178a103f",
            "33d294f091f24ece80ee5c44667c823e",
            "c4753bc2c90247699b17e3f39c974d85",
            "a0c30f17b2b14beba7dedb950ab8d509",
            "40374c6c8b0a439897471c49a9ca0aa3",
            "eb8b887959d14691a6cabb021e9061f6",
            "c658385817684e888f66ddfb11a527b9",
            "03555e8541dd40a2bac821afb808954f",
            "1117ce38e08247d3a0e75e9b50cfc31f"
          ]
        },
        "id": "iBci3-iFq3S0",
        "outputId": "b6723948-405b-4936-8b9a-681c37dbfd4e"
      },
      "outputs": [
        {
          "output_type": "stream",
          "name": "stdout",
          "text": [
            "True\n",
            "True\n",
            "True\n",
            "True\n",
            "True\n",
            "True\n",
            "True\n",
            "True\n",
            "True\n",
            "True\n"
          ]
        },
        {
          "output_type": "display_data",
          "data": {
            "text/plain": [
              "  0%|          | 0/17 [00:00<?, ?it/s]"
            ],
            "application/vnd.jupyter.widget-view+json": {
              "version_major": 2,
              "version_minor": 0,
              "model_id": "6bca720ed6334741b8859f479f54f136"
            }
          },
          "metadata": {}
        },
        {
          "output_type": "display_data",
          "data": {
            "text/plain": [
              "<IPython.core.display.HTML object>"
            ],
            "text/html": [
              "Tracking run with wandb version 0.19.1"
            ]
          },
          "metadata": {}
        },
        {
          "output_type": "display_data",
          "data": {
            "text/plain": [
              "<IPython.core.display.HTML object>"
            ],
            "text/html": [
              "Run data is saved locally in <code>/content/wandb/run-20250106_114923-lihccc7l</code>"
            ]
          },
          "metadata": {}
        },
        {
          "output_type": "display_data",
          "data": {
            "text/plain": [
              "<IPython.core.display.HTML object>"
            ],
            "text/html": [
              "Resuming run <strong><a href='https://wandb.ai/overfit1010/finrl-dt-replicate/runs/lihccc7l' target=\"_blank\">DOW-30 | 2009-01 | 2019 Q4 | 2020 Q1 | VleEx</a></strong> to <a href='https://wandb.ai/overfit1010/finrl-dt-replicate' target=\"_blank\">Weights & Biases</a> (<a href='https://wandb.me/developer-guide' target=\"_blank\">docs</a>)<br>Sweep page: <a href='https://wandb.ai/overfit1010/finrl-dt-replicate/sweeps/k43io2uh' target=\"_blank\">https://wandb.ai/overfit1010/finrl-dt-replicate/sweeps/k43io2uh</a>"
            ]
          },
          "metadata": {}
        },
        {
          "output_type": "display_data",
          "data": {
            "text/plain": [
              "<IPython.core.display.HTML object>"
            ],
            "text/html": [
              " View project at <a href='https://wandb.ai/overfit1010/finrl-dt-replicate' target=\"_blank\">https://wandb.ai/overfit1010/finrl-dt-replicate</a>"
            ]
          },
          "metadata": {}
        },
        {
          "output_type": "display_data",
          "data": {
            "text/plain": [
              "<IPython.core.display.HTML object>"
            ],
            "text/html": [
              " View sweep at <a href='https://wandb.ai/overfit1010/finrl-dt-replicate/sweeps/k43io2uh' target=\"_blank\">https://wandb.ai/overfit1010/finrl-dt-replicate/sweeps/k43io2uh</a>"
            ]
          },
          "metadata": {}
        },
        {
          "output_type": "display_data",
          "data": {
            "text/plain": [
              "<IPython.core.display.HTML object>"
            ],
            "text/html": [
              " View run at <a href='https://wandb.ai/overfit1010/finrl-dt-replicate/runs/lihccc7l' target=\"_blank\">https://wandb.ai/overfit1010/finrl-dt-replicate/runs/lihccc7l</a>"
            ]
          },
          "metadata": {}
        },
        {
          "output_type": "stream",
          "name": "stdout",
          "text": [
            "True\n"
          ]
        },
        {
          "output_type": "stream",
          "name": "stderr",
          "text": [
            "\u001b[34m\u001b[1mwandb\u001b[0m:   3 of 3 files downloaded.  \n",
            "\u001b[34m\u001b[1mwandb\u001b[0m:   5 of 5 files downloaded.  \n",
            "\u001b[34m\u001b[1mwandb\u001b[0m:   5 of 5 files downloaded.  \n",
            "\u001b[34m\u001b[1mwandb\u001b[0m:   5 of 5 files downloaded.  \n"
          ]
        },
        {
          "output_type": "stream",
          "name": "stdout",
          "text": [
            "DEBUG trade end:2020-03-31\n",
            "Stock Dimension: 29, State Space: 291\n",
            "hit end!\n",
            "hit end!\n",
            "hit end!\n",
            "hit end!\n"
          ]
        },
        {
          "output_type": "stream",
          "name": "stderr",
          "text": [
            "\r[*********************100%***********************]  1 of 1 completed"
          ]
        },
        {
          "output_type": "stream",
          "name": "stdout",
          "text": [
            "hit end!\n",
            "2020-01-02\n",
            "2020-03-31\n",
            "Shape of DataFrame:  (61, 8)\n",
            "{'dataset_name': 'DOW-30 | 2009-01 | 2019 Q4 | 2020 Q1', 'train_start_date': '2009-01-01', 'REFERENCE_PRICE_END_DATE': '2024-12-21', 'cost_pct': [0.010314179718673032, 0.009076606561755468, 0.008307067100246136, 0.015516293581809112, 0.006395481989312903, 0.0072110283262062785, 0.04249566955190291, 0.015979716445954528, 0.021738725278835313, 0.004222453318177087, 0.005968143721526647, 0.010896151366589463, 0.01093735188446354, 0.11420864277075855, 0.01665255165637118, 0.010252194206940846, 0.03947813656400475, 0.008462643895002689, 0.01919729692524921, 0.024719550845968045, 0.005734449144229167, 0.03210832438433615, 0.014379031318205482, 0.00982580254909786, 0.0044498520553265045, 0.007984135151425499, 0.05881990501271046, 0.270946766931955, 0.026832260273111815], 'dataset_type': 'quarterly_train_val_test', 'if_using_sac': True, 'if_using_td3': True, 'min_test_start_date': '2016-01-01', 'if_using_ddpg': True, 'REFERNCE_PRICE_WINDOW_DAYS': 30, 'initial_amount': 50000, 'date_range': {'train_start_date': '2009-01-01 00:00:00', 'test_end_date': '2020-04-01 00:00:00', 'val_start_date': '2019-10-01 00:00:00', 'test_start_date': '2020-01-01 00:00:00'}, 'cost_abs': 2.5, 'stock_index_name': 'DOW-30', 'finetune': True, 'max_test_end_date': '2020-08-05', 'if_using_ppo': True, 'if_using_a2c': True, 'train_params': {'a2c': {'steps': 50000}, 'ppo': {'steps': 200000}, 'sac': {'steps': 70000}, 'td3': {'steps': 50000}, 'ddpg': {'steps': 50000}}}\n",
            "DEBUG (test): lihccc7l\n",
            "DEBUG (test): updating best model based on sharpe_ratios: {}\n",
            "DEBUG (test): no models logged yet, new best model is current one: a2c\n",
            "DEBUG (test): lihccc7l\n",
            "DEBUG (test): updating best model based on sharpe_ratios: {'a2c': -2.05}\n",
            "DEBUG (test): -1.61 (ddpg) > -2.05 (a2c). New best model: ddpg.\n",
            "DEBUG (test): lihccc7l\n",
            "DEBUG (test): updating best model based on sharpe_ratios: {'a2c': -2.05, 'ddpg': -1.61}\n",
            "DEBUG (test): -1.55 (td3) > -1.61 (ddpg). New best model: td3.\n",
            "DEBUG (test): lihccc7l\n",
            "DEBUG (test): updating best model based on sharpe_ratios: {'a2c': -2.05, 'ddpg': -1.61, 'td3': -1.55}\n",
            "DEBUG (test): -1.75 (sac) <= -1.55 (td3). Not updating best model.\n",
            "DEBUG (test): lihccc7l\n",
            "DEBUG (test): updating best model based on sharpe_ratios: {'a2c': -2.05, 'ddpg': -1.61, 'td3': -1.55, 'sac': -1.75}\n",
            "DEBUG (test): -0.5 (ppo) > -1.55 (td3). New best model: ppo.\n"
          ]
        },
        {
          "output_type": "stream",
          "name": "stderr",
          "text": [
            "\n"
          ]
        },
        {
          "output_type": "display_data",
          "data": {
            "text/plain": [
              "<IPython.core.display.HTML object>"
            ],
            "text/html": []
          },
          "metadata": {}
        },
        {
          "output_type": "display_data",
          "data": {
            "text/plain": [
              "<IPython.core.display.HTML object>"
            ],
            "text/html": [
              "<br>    <style><br>        .wandb-row {<br>            display: flex;<br>            flex-direction: row;<br>            flex-wrap: wrap;<br>            justify-content: flex-start;<br>            width: 100%;<br>        }<br>        .wandb-col {<br>            display: flex;<br>            flex-direction: column;<br>            flex-basis: 100%;<br>            flex: 1;<br>            padding: 10px;<br>        }<br>    </style><br><div class=\"wandb-row\"><div class=\"wandb-col\"><h3>Run summary:</h3><br/><table class=\"wandb\"><tr><td>best_model_name</td><td>ppo</td></tr><tr><td>test/ann_return/a2c</td><td>-68.06</td></tr><tr><td>test/ann_return/best_model</td><td>-68.06</td></tr><tr><td>test/ann_return/ddpg</td><td>-62.82</td></tr><tr><td>test/ann_return/ppo</td><td>-30.44</td></tr><tr><td>test/ann_return/sac</td><td>-75.24</td></tr><tr><td>test/ann_return/td3</td><td>-61.1</td></tr><tr><td>test/best_model_name</td><td>a2c</td></tr><tr><td>test/cum_return/a2c</td><td>-24.05</td></tr><tr><td>test/cum_return/best_model</td><td>-24.05</td></tr><tr><td>test/cum_return/ddpg</td><td>-21.22</td></tr><tr><td>test/cum_return/ppo</td><td>-8.38</td></tr><tr><td>test/cum_return/sac</td><td>-28.58</td></tr><tr><td>test/cum_return/td3</td><td>-20.36</td></tr><tr><td>test/mdd/a2c</td><td>-30.23</td></tr><tr><td>test/mdd/best_model</td><td>-30.23</td></tr><tr><td>test/mdd/ddpg</td><td>-33.11</td></tr><tr><td>test/mdd/ppo</td><td>-21.26</td></tr><tr><td>test/mdd/sac</td><td>-44.57</td></tr><tr><td>test/mdd/td3</td><td>-29.84</td></tr><tr><td>test/sharpe_ratio/a2c</td><td>-2.05</td></tr><tr><td>test/sharpe_ratio/best_model</td><td>-2.05</td></tr><tr><td>test/sharpe_ratio/ddpg</td><td>-1.61</td></tr><tr><td>test/sharpe_ratio/ppo</td><td>-0.5</td></tr><tr><td>test/sharpe_ratio/sac</td><td>-1.75</td></tr><tr><td>test/sharpe_ratio/td3</td><td>-1.55</td></tr></table><br/></div></div>"
            ]
          },
          "metadata": {}
        },
        {
          "output_type": "display_data",
          "data": {
            "text/plain": [
              "<IPython.core.display.HTML object>"
            ],
            "text/html": [
              " View run <strong style=\"color:#cdcd00\">DOW-30 | 2009-01 | 2019 Q4 | 2020 Q1 | VleEx</strong> at: <a href='https://wandb.ai/overfit1010/finrl-dt-replicate/runs/lihccc7l' target=\"_blank\">https://wandb.ai/overfit1010/finrl-dt-replicate/runs/lihccc7l</a><br> View project at: <a href='https://wandb.ai/overfit1010/finrl-dt-replicate' target=\"_blank\">https://wandb.ai/overfit1010/finrl-dt-replicate</a><br>Synced 5 W&B file(s), 0 media file(s), 2 artifact file(s) and 0 other file(s)"
            ]
          },
          "metadata": {}
        },
        {
          "output_type": "display_data",
          "data": {
            "text/plain": [
              "<IPython.core.display.HTML object>"
            ],
            "text/html": [
              "Find logs at: <code>./wandb/run-20250106_114923-lihccc7l/logs</code>"
            ]
          },
          "metadata": {}
        },
        {
          "output_type": "display_data",
          "data": {
            "text/plain": [
              "<IPython.core.display.HTML object>"
            ],
            "text/html": [
              "Tracking run with wandb version 0.19.1"
            ]
          },
          "metadata": {}
        },
        {
          "output_type": "display_data",
          "data": {
            "text/plain": [
              "<IPython.core.display.HTML object>"
            ],
            "text/html": [
              "Run data is saved locally in <code>/content/wandb/run-20250106_114934-29wfsdq0</code>"
            ]
          },
          "metadata": {}
        },
        {
          "output_type": "display_data",
          "data": {
            "text/plain": [
              "<IPython.core.display.HTML object>"
            ],
            "text/html": [
              "Resuming run <strong><a href='https://wandb.ai/overfit1010/finrl-dt-replicate/runs/29wfsdq0' target=\"_blank\">DOW-30 | 2009-01 | 2019 Q3 | 2019 Q4 | n2Rmh</a></strong> to <a href='https://wandb.ai/overfit1010/finrl-dt-replicate' target=\"_blank\">Weights & Biases</a> (<a href='https://wandb.me/developer-guide' target=\"_blank\">docs</a>)<br>Sweep page: <a href='https://wandb.ai/overfit1010/finrl-dt-replicate/sweeps/k43io2uh' target=\"_blank\">https://wandb.ai/overfit1010/finrl-dt-replicate/sweeps/k43io2uh</a>"
            ]
          },
          "metadata": {}
        },
        {
          "output_type": "display_data",
          "data": {
            "text/plain": [
              "<IPython.core.display.HTML object>"
            ],
            "text/html": [
              " View project at <a href='https://wandb.ai/overfit1010/finrl-dt-replicate' target=\"_blank\">https://wandb.ai/overfit1010/finrl-dt-replicate</a>"
            ]
          },
          "metadata": {}
        },
        {
          "output_type": "display_data",
          "data": {
            "text/plain": [
              "<IPython.core.display.HTML object>"
            ],
            "text/html": [
              " View sweep at <a href='https://wandb.ai/overfit1010/finrl-dt-replicate/sweeps/k43io2uh' target=\"_blank\">https://wandb.ai/overfit1010/finrl-dt-replicate/sweeps/k43io2uh</a>"
            ]
          },
          "metadata": {}
        },
        {
          "output_type": "display_data",
          "data": {
            "text/plain": [
              "<IPython.core.display.HTML object>"
            ],
            "text/html": [
              " View run at <a href='https://wandb.ai/overfit1010/finrl-dt-replicate/runs/29wfsdq0' target=\"_blank\">https://wandb.ai/overfit1010/finrl-dt-replicate/runs/29wfsdq0</a>"
            ]
          },
          "metadata": {}
        },
        {
          "output_type": "stream",
          "name": "stdout",
          "text": [
            "True\n"
          ]
        },
        {
          "output_type": "stream",
          "name": "stderr",
          "text": [
            "\u001b[34m\u001b[1mwandb\u001b[0m:   3 of 3 files downloaded.  \n",
            "\u001b[34m\u001b[1mwandb\u001b[0m:   5 of 5 files downloaded.  \n",
            "\u001b[34m\u001b[1mwandb\u001b[0m:   5 of 5 files downloaded.  \n",
            "\u001b[34m\u001b[1mwandb\u001b[0m:   5 of 5 files downloaded.  \n",
            "\u001b[34m\u001b[1mwandb\u001b[0m:   5 of 5 files downloaded.  \n",
            "\u001b[34m\u001b[1mwandb\u001b[0m:   5 of 5 files downloaded.  \n"
          ]
        },
        {
          "output_type": "stream",
          "name": "stdout",
          "text": [
            "DEBUG trade end:2019-12-31\n",
            "Stock Dimension: 29, State Space: 291\n",
            "hit end!\n",
            "hit end!\n",
            "hit end!\n",
            "hit end!\n"
          ]
        },
        {
          "output_type": "stream",
          "name": "stderr",
          "text": [
            "\r[*********************100%***********************]  1 of 1 completed"
          ]
        },
        {
          "output_type": "stream",
          "name": "stdout",
          "text": [
            "hit end!\n",
            "2019-10-01\n",
            "2019-12-31\n",
            "Shape of DataFrame:  (63, 8)\n",
            "{'finetune': True, 'stock_index_name': 'DOW-30', 'cost_pct': [0.010314179718673032, 0.009076606561755468, 0.008307067100246136, 0.015516293581809112, 0.006395481989312903, 0.0072110283262062785, 0.04249566955190291, 0.015979716445954528, 0.021738725278835313, 0.004222453318177087, 0.005968143721526647, 0.010896151366589463, 0.01093735188446354, 0.11420864277075855, 0.01665255165637118, 0.010252194206940846, 0.03947813656400475, 0.008462643895002689, 0.01919729692524921, 0.024719550845968045, 0.005734449144229167, 0.03210832438433615, 0.014379031318205482, 0.00982580254909786, 0.0044498520553265045, 0.007984135151425499, 0.05881990501271046, 0.270946766931955, 0.026832260273111815], 'train_start_date': '2009-01-01', 'max_test_end_date': '2020-08-05', 'REFERNCE_PRICE_WINDOW_DAYS': 30, 'date_range': {'test_end_date': '2020-01-01 00:00:00', 'val_start_date': '2019-07-01 00:00:00', 'test_start_date': '2019-10-01 00:00:00', 'train_start_date': '2009-01-01 00:00:00'}, 'dataset_type': 'quarterly_train_val_test', 'min_test_start_date': '2016-01-01', 'if_using_a2c': True, 'if_using_sac': True, 'if_using_ppo': True, 'if_using_ddpg': True, 'cost_abs': 2.5, 'if_using_td3': True, 'REFERENCE_PRICE_END_DATE': '2024-12-21', 'dataset_name': 'DOW-30 | 2009-01 | 2019 Q3 | 2019 Q4', 'train_params': {'sac': {'steps': 70000}, 'td3': {'steps': 50000}, 'ddpg': {'steps': 50000}, 'a2c': {'steps': 50000}, 'ppo': {'steps': 200000}}, 'initial_amount': 50000}\n",
            "DEBUG (test): 29wfsdq0\n",
            "DEBUG (test): updating best model based on sharpe_ratios: {}\n",
            "DEBUG (test): no models logged yet, new best model is current one: a2c\n",
            "DEBUG (test): 29wfsdq0\n",
            "DEBUG (test): updating best model based on sharpe_ratios: {'a2c': 1.77}\n",
            "DEBUG (test): 2.64 (ddpg) > 1.77 (a2c). New best model: ddpg.\n",
            "DEBUG (test): 29wfsdq0\n",
            "DEBUG (test): updating best model based on sharpe_ratios: {'a2c': 1.77, 'ddpg': 2.64}\n",
            "DEBUG (test): 3.59 (td3) > 2.64 (ddpg). New best model: td3.\n",
            "DEBUG (test): 29wfsdq0\n",
            "DEBUG (test): updating best model based on sharpe_ratios: {'a2c': 1.77, 'ddpg': 2.64, 'td3': 3.59}\n",
            "DEBUG (test): -1.11 (sac) <= 3.59 (td3). Not updating best model.\n",
            "DEBUG (test): 29wfsdq0\n",
            "DEBUG (test): updating best model based on sharpe_ratios: {'a2c': 1.77, 'ddpg': 2.64, 'td3': 3.59, 'sac': -1.11}\n",
            "DEBUG (test): 3.85 (ppo) > 3.59 (td3). New best model: ppo.\n"
          ]
        },
        {
          "output_type": "stream",
          "name": "stderr",
          "text": [
            "\n"
          ]
        },
        {
          "output_type": "display_data",
          "data": {
            "text/plain": [
              "<IPython.core.display.HTML object>"
            ],
            "text/html": []
          },
          "metadata": {}
        },
        {
          "output_type": "display_data",
          "data": {
            "text/plain": [
              "<IPython.core.display.HTML object>"
            ],
            "text/html": [
              "<br>    <style><br>        .wandb-row {<br>            display: flex;<br>            flex-direction: row;<br>            flex-wrap: wrap;<br>            justify-content: flex-start;<br>            width: 100%;<br>        }<br>        .wandb-col {<br>            display: flex;<br>            flex-direction: column;<br>            flex-basis: 100%;<br>            flex: 1;<br>            padding: 10px;<br>        }<br>    </style><br><div class=\"wandb-row\"><div class=\"wandb-col\"><h3>Run summary:</h3><br/><table class=\"wandb\"><tr><td>best_model_name</td><td>ppo</td></tr><tr><td>test/ann_return/a2c</td><td>23.69</td></tr><tr><td>test/ann_return/best_model</td><td>60.99</td></tr><tr><td>test/ann_return/ddpg</td><td>41.26</td></tr><tr><td>test/ann_return/ppo</td><td>60.99</td></tr><tr><td>test/ann_return/sac</td><td>-23.35</td></tr><tr><td>test/ann_return/td3</td><td>53.12</td></tr><tr><td>test/best_model_name</td><td>ppo</td></tr><tr><td>test/cum_return/a2c</td><td>5.38</td></tr><tr><td>test/cum_return/best_model</td><td>12.46</td></tr><tr><td>test/cum_return/ddpg</td><td>8.89</td></tr><tr><td>test/cum_return/ppo</td><td>12.46</td></tr><tr><td>test/cum_return/sac</td><td>-6.35</td></tr><tr><td>test/cum_return/td3</td><td>11.08</td></tr><tr><td>test/mdd/a2c</td><td>-3.79</td></tr><tr><td>test/mdd/best_model</td><td>-2.76</td></tr><tr><td>test/mdd/ddpg</td><td>-3.36</td></tr><tr><td>test/mdd/ppo</td><td>-2.76</td></tr><tr><td>test/mdd/sac</td><td>-9.52</td></tr><tr><td>test/mdd/td3</td><td>-3.38</td></tr><tr><td>test/sharpe_ratio/a2c</td><td>1.77</td></tr><tr><td>test/sharpe_ratio/best_model</td><td>3.85</td></tr><tr><td>test/sharpe_ratio/ddpg</td><td>2.64</td></tr><tr><td>test/sharpe_ratio/ppo</td><td>3.85</td></tr><tr><td>test/sharpe_ratio/sac</td><td>-1.11</td></tr><tr><td>test/sharpe_ratio/td3</td><td>3.59</td></tr></table><br/></div></div>"
            ]
          },
          "metadata": {}
        },
        {
          "output_type": "display_data",
          "data": {
            "text/plain": [
              "<IPython.core.display.HTML object>"
            ],
            "text/html": [
              " View run <strong style=\"color:#cdcd00\">DOW-30 | 2009-01 | 2019 Q3 | 2019 Q4 | n2Rmh</strong> at: <a href='https://wandb.ai/overfit1010/finrl-dt-replicate/runs/29wfsdq0' target=\"_blank\">https://wandb.ai/overfit1010/finrl-dt-replicate/runs/29wfsdq0</a><br> View project at: <a href='https://wandb.ai/overfit1010/finrl-dt-replicate' target=\"_blank\">https://wandb.ai/overfit1010/finrl-dt-replicate</a><br>Synced 5 W&B file(s), 0 media file(s), 2 artifact file(s) and 0 other file(s)"
            ]
          },
          "metadata": {}
        },
        {
          "output_type": "display_data",
          "data": {
            "text/plain": [
              "<IPython.core.display.HTML object>"
            ],
            "text/html": [
              "Find logs at: <code>./wandb/run-20250106_114934-29wfsdq0/logs</code>"
            ]
          },
          "metadata": {}
        },
        {
          "output_type": "display_data",
          "data": {
            "text/plain": [
              "<IPython.core.display.HTML object>"
            ],
            "text/html": [
              "Tracking run with wandb version 0.19.1"
            ]
          },
          "metadata": {}
        },
        {
          "output_type": "display_data",
          "data": {
            "text/plain": [
              "<IPython.core.display.HTML object>"
            ],
            "text/html": [
              "Run data is saved locally in <code>/content/wandb/run-20250106_114946-5kmr481u</code>"
            ]
          },
          "metadata": {}
        },
        {
          "output_type": "display_data",
          "data": {
            "text/plain": [
              "<IPython.core.display.HTML object>"
            ],
            "text/html": [
              "Resuming run <strong><a href='https://wandb.ai/overfit1010/finrl-dt-replicate/runs/5kmr481u' target=\"_blank\">DOW-30 | 2009-01 | 2019 Q2 | 2019 Q3 | tvBU7</a></strong> to <a href='https://wandb.ai/overfit1010/finrl-dt-replicate' target=\"_blank\">Weights & Biases</a> (<a href='https://wandb.me/developer-guide' target=\"_blank\">docs</a>)<br>Sweep page: <a href='https://wandb.ai/overfit1010/finrl-dt-replicate/sweeps/k43io2uh' target=\"_blank\">https://wandb.ai/overfit1010/finrl-dt-replicate/sweeps/k43io2uh</a>"
            ]
          },
          "metadata": {}
        },
        {
          "output_type": "display_data",
          "data": {
            "text/plain": [
              "<IPython.core.display.HTML object>"
            ],
            "text/html": [
              " View project at <a href='https://wandb.ai/overfit1010/finrl-dt-replicate' target=\"_blank\">https://wandb.ai/overfit1010/finrl-dt-replicate</a>"
            ]
          },
          "metadata": {}
        },
        {
          "output_type": "display_data",
          "data": {
            "text/plain": [
              "<IPython.core.display.HTML object>"
            ],
            "text/html": [
              " View sweep at <a href='https://wandb.ai/overfit1010/finrl-dt-replicate/sweeps/k43io2uh' target=\"_blank\">https://wandb.ai/overfit1010/finrl-dt-replicate/sweeps/k43io2uh</a>"
            ]
          },
          "metadata": {}
        },
        {
          "output_type": "display_data",
          "data": {
            "text/plain": [
              "<IPython.core.display.HTML object>"
            ],
            "text/html": [
              " View run at <a href='https://wandb.ai/overfit1010/finrl-dt-replicate/runs/5kmr481u' target=\"_blank\">https://wandb.ai/overfit1010/finrl-dt-replicate/runs/5kmr481u</a>"
            ]
          },
          "metadata": {}
        },
        {
          "output_type": "stream",
          "name": "stdout",
          "text": [
            "True\n"
          ]
        },
        {
          "output_type": "stream",
          "name": "stderr",
          "text": [
            "\u001b[34m\u001b[1mwandb\u001b[0m:   3 of 3 files downloaded.  \n",
            "\u001b[34m\u001b[1mwandb\u001b[0m:   5 of 5 files downloaded.  \n",
            "\u001b[34m\u001b[1mwandb\u001b[0m:   5 of 5 files downloaded.  \n",
            "\u001b[34m\u001b[1mwandb\u001b[0m:   5 of 5 files downloaded.  \n",
            "\u001b[34m\u001b[1mwandb\u001b[0m:   5 of 5 files downloaded.  \n",
            "\u001b[34m\u001b[1mwandb\u001b[0m:   5 of 5 files downloaded.  \n"
          ]
        },
        {
          "output_type": "stream",
          "name": "stdout",
          "text": [
            "DEBUG trade end:2019-09-30\n",
            "Stock Dimension: 29, State Space: 291\n",
            "hit end!\n",
            "hit end!\n",
            "hit end!\n",
            "hit end!\n"
          ]
        },
        {
          "output_type": "stream",
          "name": "stderr",
          "text": [
            "\r[*********************100%***********************]  1 of 1 completed"
          ]
        },
        {
          "output_type": "stream",
          "name": "stdout",
          "text": [
            "hit end!\n",
            "2019-07-01\n",
            "2019-09-30\n",
            "Shape of DataFrame:  (63, 8)\n",
            "{'cost_abs': 2.5, 'REFERENCE_PRICE_END_DATE': '2024-12-21', 'if_using_a2c': True, 'train_params': {'ddpg': {'steps': 50000}, 'a2c': {'steps': 50000}, 'ppo': {'steps': 200000}, 'sac': {'steps': 70000}, 'td3': {'steps': 50000}}, 'if_using_ppo': True, 'train_start_date': '2009-01-01', 'min_test_start_date': '2016-01-01', 'REFERNCE_PRICE_WINDOW_DAYS': 30, 'max_test_end_date': '2020-08-05', 'dataset_type': 'quarterly_train_val_test', 'dataset_name': 'DOW-30 | 2009-01 | 2019 Q2 | 2019 Q3', 'cost_pct': [0.010314179718673032, 0.009076606561755468, 0.008307067100246136, 0.015516293581809112, 0.006395481989312903, 0.0072110283262062785, 0.04249566955190291, 0.015979716445954528, 0.021738725278835313, 0.004222453318177087, 0.005968143721526647, 0.010896151366589463, 0.01093735188446354, 0.11420864277075855, 0.01665255165637118, 0.010252194206940846, 0.03947813656400475, 0.008462643895002689, 0.01919729692524921, 0.024719550845968045, 0.005734449144229167, 0.03210832438433615, 0.014379031318205482, 0.00982580254909786, 0.0044498520553265045, 0.007984135151425499, 0.05881990501271046, 0.270946766931955, 0.026832260273111815], 'stock_index_name': 'DOW-30', 'finetune': True, 'date_range': {'test_end_date': '2019-10-01 00:00:00', 'val_start_date': '2019-04-01 00:00:00', 'test_start_date': '2019-07-01 00:00:00', 'train_start_date': '2009-01-01 00:00:00'}, 'if_using_td3': True, 'if_using_ddpg': True, 'initial_amount': 50000, 'if_using_sac': True}\n",
            "DEBUG (test): 5kmr481u\n",
            "DEBUG (test): updating best model based on sharpe_ratios: {}\n",
            "DEBUG (test): no models logged yet, new best model is current one: a2c\n",
            "DEBUG (test): 5kmr481u\n",
            "DEBUG (test): updating best model based on sharpe_ratios: {'a2c': 0.7}\n",
            "DEBUG (test): 0.24 (ddpg) <= 0.7 (a2c). Not updating best model.\n",
            "DEBUG (test): 5kmr481u\n",
            "DEBUG (test): updating best model based on sharpe_ratios: {'a2c': 0.7, 'ddpg': 0.24}\n",
            "DEBUG (test): 0.64 (td3) <= 0.7 (a2c). Not updating best model.\n",
            "DEBUG (test): 5kmr481u\n",
            "DEBUG (test): updating best model based on sharpe_ratios: {'a2c': 0.7, 'ddpg': 0.24, 'td3': 0.64}\n",
            "DEBUG (test): 1.02 (sac) > 0.7 (a2c). New best model: sac.\n",
            "DEBUG (test): 5kmr481u\n",
            "DEBUG (test): updating best model based on sharpe_ratios: {'a2c': 0.7, 'ddpg': 0.24, 'td3': 0.64, 'sac': 1.02}\n",
            "DEBUG (test): -0.26 (ppo) <= 1.02 (sac). Not updating best model.\n"
          ]
        },
        {
          "output_type": "stream",
          "name": "stderr",
          "text": [
            "\n"
          ]
        },
        {
          "output_type": "display_data",
          "data": {
            "text/plain": [
              "<IPython.core.display.HTML object>"
            ],
            "text/html": []
          },
          "metadata": {}
        },
        {
          "output_type": "display_data",
          "data": {
            "text/plain": [
              "<IPython.core.display.HTML object>"
            ],
            "text/html": [
              "<br>    <style><br>        .wandb-row {<br>            display: flex;<br>            flex-direction: row;<br>            flex-wrap: wrap;<br>            justify-content: flex-start;<br>            width: 100%;<br>        }<br>        .wandb-col {<br>            display: flex;<br>            flex-direction: column;<br>            flex-basis: 100%;<br>            flex: 1;<br>            padding: 10px;<br>        }<br>    </style><br><div class=\"wandb-row\"><div class=\"wandb-col\"><h3>Run summary:</h3><br/><table class=\"wandb\"><tr><td>best_model_name</td><td>sac</td></tr><tr><td>test/ann_return/a2c</td><td>10.63</td></tr><tr><td>test/ann_return/best_model</td><td>22.49</td></tr><tr><td>test/ann_return/ddpg</td><td>2.79</td></tr><tr><td>test/ann_return/ppo</td><td>-5.3</td></tr><tr><td>test/ann_return/sac</td><td>22.49</td></tr><tr><td>test/ann_return/td3</td><td>9.49</td></tr><tr><td>test/best_model_name</td><td>sac</td></tr><tr><td>test/cum_return/a2c</td><td>2.46</td></tr><tr><td>test/cum_return/best_model</td><td>5.01</td></tr><tr><td>test/cum_return/ddpg</td><td>0.67</td></tr><tr><td>test/cum_return/ppo</td><td>-1.3</td></tr><tr><td>test/cum_return/sac</td><td>5.01</td></tr><tr><td>test/cum_return/td3</td><td>2.21</td></tr><tr><td>test/mdd/a2c</td><td>-5.27</td></tr><tr><td>test/mdd/best_model</td><td>-10.15</td></tr><tr><td>test/mdd/ddpg</td><td>-9.84</td></tr><tr><td>test/mdd/ppo</td><td>-4.97</td></tr><tr><td>test/mdd/sac</td><td>-10.15</td></tr><tr><td>test/mdd/td3</td><td>-4.8</td></tr><tr><td>test/sharpe_ratio/a2c</td><td>0.7</td></tr><tr><td>test/sharpe_ratio/best_model</td><td>1.02</td></tr><tr><td>test/sharpe_ratio/ddpg</td><td>0.24</td></tr><tr><td>test/sharpe_ratio/ppo</td><td>-0.26</td></tr><tr><td>test/sharpe_ratio/sac</td><td>1.02</td></tr><tr><td>test/sharpe_ratio/td3</td><td>0.64</td></tr></table><br/></div></div>"
            ]
          },
          "metadata": {}
        },
        {
          "output_type": "display_data",
          "data": {
            "text/plain": [
              "<IPython.core.display.HTML object>"
            ],
            "text/html": [
              " View run <strong style=\"color:#cdcd00\">DOW-30 | 2009-01 | 2019 Q2 | 2019 Q3 | tvBU7</strong> at: <a href='https://wandb.ai/overfit1010/finrl-dt-replicate/runs/5kmr481u' target=\"_blank\">https://wandb.ai/overfit1010/finrl-dt-replicate/runs/5kmr481u</a><br> View project at: <a href='https://wandb.ai/overfit1010/finrl-dt-replicate' target=\"_blank\">https://wandb.ai/overfit1010/finrl-dt-replicate</a><br>Synced 5 W&B file(s), 0 media file(s), 2 artifact file(s) and 0 other file(s)"
            ]
          },
          "metadata": {}
        },
        {
          "output_type": "display_data",
          "data": {
            "text/plain": [
              "<IPython.core.display.HTML object>"
            ],
            "text/html": [
              "Find logs at: <code>./wandb/run-20250106_114946-5kmr481u/logs</code>"
            ]
          },
          "metadata": {}
        },
        {
          "output_type": "display_data",
          "data": {
            "text/plain": [
              "<IPython.core.display.HTML object>"
            ],
            "text/html": [
              "Tracking run with wandb version 0.19.1"
            ]
          },
          "metadata": {}
        },
        {
          "output_type": "display_data",
          "data": {
            "text/plain": [
              "<IPython.core.display.HTML object>"
            ],
            "text/html": [
              "Run data is saved locally in <code>/content/wandb/run-20250106_115000-8zeoyh95</code>"
            ]
          },
          "metadata": {}
        },
        {
          "output_type": "display_data",
          "data": {
            "text/plain": [
              "<IPython.core.display.HTML object>"
            ],
            "text/html": [
              "Resuming run <strong><a href='https://wandb.ai/overfit1010/finrl-dt-replicate/runs/8zeoyh95' target=\"_blank\">DOW-30 | 2009-01 | 2019 Q1 | 2019 Q2 | YmU2o</a></strong> to <a href='https://wandb.ai/overfit1010/finrl-dt-replicate' target=\"_blank\">Weights & Biases</a> (<a href='https://wandb.me/developer-guide' target=\"_blank\">docs</a>)<br>Sweep page: <a href='https://wandb.ai/overfit1010/finrl-dt-replicate/sweeps/k43io2uh' target=\"_blank\">https://wandb.ai/overfit1010/finrl-dt-replicate/sweeps/k43io2uh</a>"
            ]
          },
          "metadata": {}
        },
        {
          "output_type": "display_data",
          "data": {
            "text/plain": [
              "<IPython.core.display.HTML object>"
            ],
            "text/html": [
              " View project at <a href='https://wandb.ai/overfit1010/finrl-dt-replicate' target=\"_blank\">https://wandb.ai/overfit1010/finrl-dt-replicate</a>"
            ]
          },
          "metadata": {}
        },
        {
          "output_type": "display_data",
          "data": {
            "text/plain": [
              "<IPython.core.display.HTML object>"
            ],
            "text/html": [
              " View sweep at <a href='https://wandb.ai/overfit1010/finrl-dt-replicate/sweeps/k43io2uh' target=\"_blank\">https://wandb.ai/overfit1010/finrl-dt-replicate/sweeps/k43io2uh</a>"
            ]
          },
          "metadata": {}
        },
        {
          "output_type": "display_data",
          "data": {
            "text/plain": [
              "<IPython.core.display.HTML object>"
            ],
            "text/html": [
              " View run at <a href='https://wandb.ai/overfit1010/finrl-dt-replicate/runs/8zeoyh95' target=\"_blank\">https://wandb.ai/overfit1010/finrl-dt-replicate/runs/8zeoyh95</a>"
            ]
          },
          "metadata": {}
        },
        {
          "output_type": "stream",
          "name": "stdout",
          "text": [
            "True\n"
          ]
        },
        {
          "output_type": "stream",
          "name": "stderr",
          "text": [
            "\u001b[34m\u001b[1mwandb\u001b[0m:   3 of 3 files downloaded.  \n",
            "\u001b[34m\u001b[1mwandb\u001b[0m:   5 of 5 files downloaded.  \n",
            "\u001b[34m\u001b[1mwandb\u001b[0m:   5 of 5 files downloaded.  \n",
            "\u001b[34m\u001b[1mwandb\u001b[0m:   5 of 5 files downloaded.  \n",
            "\u001b[34m\u001b[1mwandb\u001b[0m:   5 of 5 files downloaded.  \n",
            "\u001b[34m\u001b[1mwandb\u001b[0m:   5 of 5 files downloaded.  \n"
          ]
        },
        {
          "output_type": "stream",
          "name": "stdout",
          "text": [
            "DEBUG trade end:2019-06-28\n",
            "Stock Dimension: 29, State Space: 291\n",
            "hit end!\n",
            "hit end!\n",
            "hit end!\n",
            "hit end!\n"
          ]
        },
        {
          "output_type": "stream",
          "name": "stderr",
          "text": [
            "\r[*********************100%***********************]  1 of 1 completed"
          ]
        },
        {
          "output_type": "stream",
          "name": "stdout",
          "text": [
            "hit end!\n",
            "2019-04-01\n",
            "2019-06-28\n",
            "Shape of DataFrame:  (62, 8)\n",
            "{'max_test_end_date': '2020-08-05', 'date_range': {'test_end_date': '2019-07-01 00:00:00', 'val_start_date': '2019-01-01 00:00:00', 'test_start_date': '2019-04-01 00:00:00', 'train_start_date': '2009-01-01 00:00:00'}, 'stock_index_name': 'DOW-30', 'REFERNCE_PRICE_WINDOW_DAYS': 30, 'cost_pct': [0.010314179718673032, 0.009076606561755468, 0.008307067100246136, 0.015516293581809112, 0.006395481989312903, 0.0072110283262062785, 0.04249566955190291, 0.015979716445954528, 0.021738725278835313, 0.004222453318177087, 0.005968143721526647, 0.010896151366589463, 0.01093735188446354, 0.11420864277075855, 0.01665255165637118, 0.010252194206940846, 0.03947813656400475, 0.008462643895002689, 0.01919729692524921, 0.024719550845968045, 0.005734449144229167, 0.03210832438433615, 0.014379031318205482, 0.00982580254909786, 0.0044498520553265045, 0.007984135151425499, 0.05881990501271046, 0.270946766931955, 0.026832260273111815], 'initial_amount': 50000, 'dataset_name': 'DOW-30 | 2009-01 | 2019 Q1 | 2019 Q2', 'dataset_type': 'quarterly_train_val_test', 'min_test_start_date': '2016-01-01', 'cost_abs': 2.5, 'if_using_ppo': True, 'if_using_td3': True, 'train_start_date': '2009-01-01', 'if_using_sac': True, 'if_using_a2c': True, 'train_params': {'td3': {'steps': 50000}, 'ddpg': {'steps': 50000}, 'a2c': {'steps': 50000}, 'ppo': {'steps': 200000}, 'sac': {'steps': 70000}}, 'REFERENCE_PRICE_END_DATE': '2024-12-21', 'if_using_ddpg': True, 'finetune': True}\n",
            "DEBUG (test): 8zeoyh95\n",
            "DEBUG (test): updating best model based on sharpe_ratios: {}\n",
            "DEBUG (test): no models logged yet, new best model is current one: a2c\n",
            "DEBUG (test): 8zeoyh95\n",
            "DEBUG (test): updating best model based on sharpe_ratios: {'a2c': 0.84}\n",
            "DEBUG (test): 1.49 (ddpg) > 0.84 (a2c). New best model: ddpg.\n",
            "DEBUG (test): 8zeoyh95\n",
            "DEBUG (test): updating best model based on sharpe_ratios: {'a2c': 0.84, 'ddpg': 1.49}\n",
            "DEBUG (test): 0.74 (td3) <= 1.49 (ddpg). Not updating best model.\n",
            "DEBUG (test): 8zeoyh95\n",
            "DEBUG (test): updating best model based on sharpe_ratios: {'a2c': 0.84, 'ddpg': 1.49, 'td3': 0.74}\n",
            "DEBUG (test): 0.31 (sac) <= 1.49 (ddpg). Not updating best model.\n",
            "DEBUG (test): 8zeoyh95\n",
            "DEBUG (test): updating best model based on sharpe_ratios: {'a2c': 0.84, 'ddpg': 1.49, 'td3': 0.74, 'sac': 0.31}\n",
            "DEBUG (test): 0.84 (ppo) <= 1.49 (ddpg). Not updating best model.\n"
          ]
        },
        {
          "output_type": "stream",
          "name": "stderr",
          "text": [
            "\n"
          ]
        },
        {
          "output_type": "display_data",
          "data": {
            "text/plain": [
              "<IPython.core.display.HTML object>"
            ],
            "text/html": []
          },
          "metadata": {}
        },
        {
          "output_type": "display_data",
          "data": {
            "text/plain": [
              "<IPython.core.display.HTML object>"
            ],
            "text/html": [
              "<br>    <style><br>        .wandb-row {<br>            display: flex;<br>            flex-direction: row;<br>            flex-wrap: wrap;<br>            justify-content: flex-start;<br>            width: 100%;<br>        }<br>        .wandb-col {<br>            display: flex;<br>            flex-direction: column;<br>            flex-basis: 100%;<br>            flex: 1;<br>            padding: 10px;<br>        }<br>    </style><br><div class=\"wandb-row\"><div class=\"wandb-col\"><h3>Run summary:</h3><br/><table class=\"wandb\"><tr><td>best_model_name</td><td>ddpg</td></tr><tr><td>test/ann_return/a2c</td><td>11.98</td></tr><tr><td>test/ann_return/best_model</td><td>17.96</td></tr><tr><td>test/ann_return/ddpg</td><td>17.96</td></tr><tr><td>test/ann_return/ppo</td><td>11.98</td></tr><tr><td>test/ann_return/sac</td><td>3.58</td></tr><tr><td>test/ann_return/td3</td><td>8.06</td></tr><tr><td>test/best_model_name</td><td>ddpg</td></tr><tr><td>test/cum_return/a2c</td><td>2.73</td></tr><tr><td>test/cum_return/best_model</td><td>4.01</td></tr><tr><td>test/cum_return/ddpg</td><td>4.01</td></tr><tr><td>test/cum_return/ppo</td><td>2.73</td></tr><tr><td>test/cum_return/sac</td><td>0.84</td></tr><tr><td>test/cum_return/td3</td><td>1.87</td></tr><tr><td>test/mdd/a2c</td><td>-4.29</td></tr><tr><td>test/mdd/best_model</td><td>-5.86</td></tr><tr><td>test/mdd/ddpg</td><td>-5.86</td></tr><tr><td>test/mdd/ppo</td><td>-4.29</td></tr><tr><td>test/mdd/sac</td><td>-9.04</td></tr><tr><td>test/mdd/td3</td><td>-4.67</td></tr><tr><td>test/sharpe_ratio/a2c</td><td>0.84</td></tr><tr><td>test/sharpe_ratio/best_model</td><td>1.49</td></tr><tr><td>test/sharpe_ratio/ddpg</td><td>1.49</td></tr><tr><td>test/sharpe_ratio/ppo</td><td>0.84</td></tr><tr><td>test/sharpe_ratio/sac</td><td>0.31</td></tr><tr><td>test/sharpe_ratio/td3</td><td>0.74</td></tr></table><br/></div></div>"
            ]
          },
          "metadata": {}
        },
        {
          "output_type": "display_data",
          "data": {
            "text/plain": [
              "<IPython.core.display.HTML object>"
            ],
            "text/html": [
              " View run <strong style=\"color:#cdcd00\">DOW-30 | 2009-01 | 2019 Q1 | 2019 Q2 | YmU2o</strong> at: <a href='https://wandb.ai/overfit1010/finrl-dt-replicate/runs/8zeoyh95' target=\"_blank\">https://wandb.ai/overfit1010/finrl-dt-replicate/runs/8zeoyh95</a><br> View project at: <a href='https://wandb.ai/overfit1010/finrl-dt-replicate' target=\"_blank\">https://wandb.ai/overfit1010/finrl-dt-replicate</a><br>Synced 5 W&B file(s), 0 media file(s), 2 artifact file(s) and 0 other file(s)"
            ]
          },
          "metadata": {}
        },
        {
          "output_type": "display_data",
          "data": {
            "text/plain": [
              "<IPython.core.display.HTML object>"
            ],
            "text/html": [
              "Find logs at: <code>./wandb/run-20250106_115000-8zeoyh95/logs</code>"
            ]
          },
          "metadata": {}
        },
        {
          "output_type": "display_data",
          "data": {
            "text/plain": [
              "<IPython.core.display.HTML object>"
            ],
            "text/html": [
              "Tracking run with wandb version 0.19.1"
            ]
          },
          "metadata": {}
        },
        {
          "output_type": "display_data",
          "data": {
            "text/plain": [
              "<IPython.core.display.HTML object>"
            ],
            "text/html": [
              "Run data is saved locally in <code>/content/wandb/run-20250106_115016-tumg13f0</code>"
            ]
          },
          "metadata": {}
        },
        {
          "output_type": "display_data",
          "data": {
            "text/plain": [
              "<IPython.core.display.HTML object>"
            ],
            "text/html": [
              "Resuming run <strong><a href='https://wandb.ai/overfit1010/finrl-dt-replicate/runs/tumg13f0' target=\"_blank\">DOW-30 | 2009-01 | 2018 Q4 | 2019 Q1 | nIh5d</a></strong> to <a href='https://wandb.ai/overfit1010/finrl-dt-replicate' target=\"_blank\">Weights & Biases</a> (<a href='https://wandb.me/developer-guide' target=\"_blank\">docs</a>)<br>Sweep page: <a href='https://wandb.ai/overfit1010/finrl-dt-replicate/sweeps/k43io2uh' target=\"_blank\">https://wandb.ai/overfit1010/finrl-dt-replicate/sweeps/k43io2uh</a>"
            ]
          },
          "metadata": {}
        },
        {
          "output_type": "display_data",
          "data": {
            "text/plain": [
              "<IPython.core.display.HTML object>"
            ],
            "text/html": [
              " View project at <a href='https://wandb.ai/overfit1010/finrl-dt-replicate' target=\"_blank\">https://wandb.ai/overfit1010/finrl-dt-replicate</a>"
            ]
          },
          "metadata": {}
        },
        {
          "output_type": "display_data",
          "data": {
            "text/plain": [
              "<IPython.core.display.HTML object>"
            ],
            "text/html": [
              " View sweep at <a href='https://wandb.ai/overfit1010/finrl-dt-replicate/sweeps/k43io2uh' target=\"_blank\">https://wandb.ai/overfit1010/finrl-dt-replicate/sweeps/k43io2uh</a>"
            ]
          },
          "metadata": {}
        },
        {
          "output_type": "display_data",
          "data": {
            "text/plain": [
              "<IPython.core.display.HTML object>"
            ],
            "text/html": [
              " View run at <a href='https://wandb.ai/overfit1010/finrl-dt-replicate/runs/tumg13f0' target=\"_blank\">https://wandb.ai/overfit1010/finrl-dt-replicate/runs/tumg13f0</a>"
            ]
          },
          "metadata": {}
        },
        {
          "output_type": "stream",
          "name": "stdout",
          "text": [
            "True\n"
          ]
        },
        {
          "output_type": "stream",
          "name": "stderr",
          "text": [
            "\u001b[34m\u001b[1mwandb\u001b[0m:   3 of 3 files downloaded.  \n",
            "\u001b[34m\u001b[1mwandb\u001b[0m:   5 of 5 files downloaded.  \n",
            "\u001b[34m\u001b[1mwandb\u001b[0m:   5 of 5 files downloaded.  \n",
            "\u001b[34m\u001b[1mwandb\u001b[0m:   5 of 5 files downloaded.  \n",
            "\u001b[34m\u001b[1mwandb\u001b[0m:   5 of 5 files downloaded.  \n",
            "\u001b[34m\u001b[1mwandb\u001b[0m:   5 of 5 files downloaded.  \n"
          ]
        },
        {
          "output_type": "stream",
          "name": "stdout",
          "text": [
            "DEBUG trade end:2019-03-29\n",
            "Stock Dimension: 29, State Space: 291\n",
            "hit end!\n",
            "hit end!\n",
            "hit end!\n",
            "hit end!\n"
          ]
        },
        {
          "output_type": "stream",
          "name": "stderr",
          "text": [
            "\r[*********************100%***********************]  1 of 1 completed"
          ]
        },
        {
          "output_type": "stream",
          "name": "stdout",
          "text": [
            "hit end!\n",
            "2019-01-02\n",
            "2019-03-29\n",
            "Shape of DataFrame:  (60, 8)\n",
            "{'cost_pct': [0.010314179718673032, 0.009076606561755468, 0.008307067100246136, 0.015516293581809112, 0.006395481989312903, 0.0072110283262062785, 0.04249566955190291, 0.015979716445954528, 0.021738725278835313, 0.004222453318177087, 0.005968143721526647, 0.010896151366589463, 0.01093735188446354, 0.11420864277075855, 0.01665255165637118, 0.010252194206940846, 0.03947813656400475, 0.008462643895002689, 0.01919729692524921, 0.024719550845968045, 0.005734449144229167, 0.03210832438433615, 0.014379031318205482, 0.00982580254909786, 0.0044498520553265045, 0.007984135151425499, 0.05881990501271046, 0.270946766931955, 0.026832260273111815], 'if_using_sac': True, 'if_using_ddpg': True, 'train_start_date': '2009-01-01', 'if_using_td3': True, 'max_test_end_date': '2020-08-05', 'REFERNCE_PRICE_WINDOW_DAYS': 30, 'date_range': {'test_end_date': '2019-04-01 00:00:00', 'val_start_date': '2018-10-01 00:00:00', 'test_start_date': '2019-01-01 00:00:00', 'train_start_date': '2009-01-01 00:00:00'}, 'stock_index_name': 'DOW-30', 'initial_amount': 50000, 'if_using_a2c': True, 'min_test_start_date': '2016-01-01', 'dataset_type': 'quarterly_train_val_test', 'if_using_ppo': True, 'train_params': {'a2c': {'steps': 50000}, 'ppo': {'steps': 200000}, 'sac': {'steps': 70000}, 'td3': {'steps': 50000}, 'ddpg': {'steps': 50000}}, 'REFERENCE_PRICE_END_DATE': '2024-12-21', 'cost_abs': 2.5, 'finetune': True, 'dataset_name': 'DOW-30 | 2009-01 | 2018 Q4 | 2019 Q1'}\n",
            "DEBUG (test): tumg13f0\n",
            "DEBUG (test): updating best model based on sharpe_ratios: {}\n",
            "DEBUG (test): no models logged yet, new best model is current one: a2c\n",
            "DEBUG (test): tumg13f0\n",
            "DEBUG (test): updating best model based on sharpe_ratios: {'a2c': 1.85}\n",
            "DEBUG (test): 2.65 (ddpg) > 1.85 (a2c). New best model: ddpg.\n",
            "DEBUG (test): tumg13f0\n",
            "DEBUG (test): updating best model based on sharpe_ratios: {'a2c': 1.85, 'ddpg': 2.65}\n",
            "DEBUG (test): 1.49 (td3) <= 2.65 (ddpg). Not updating best model.\n",
            "DEBUG (test): tumg13f0\n",
            "DEBUG (test): updating best model based on sharpe_ratios: {'a2c': 1.85, 'ddpg': 2.65, 'td3': 1.49}\n",
            "DEBUG (test): 1.5 (sac) <= 2.65 (ddpg). Not updating best model.\n",
            "DEBUG (test): tumg13f0\n",
            "DEBUG (test): updating best model based on sharpe_ratios: {'a2c': 1.85, 'ddpg': 2.65, 'td3': 1.49, 'sac': 1.5}\n",
            "DEBUG (test): 2.13 (ppo) <= 2.65 (ddpg). Not updating best model.\n"
          ]
        },
        {
          "output_type": "stream",
          "name": "stderr",
          "text": [
            "\n"
          ]
        },
        {
          "output_type": "display_data",
          "data": {
            "text/plain": [
              "<IPython.core.display.HTML object>"
            ],
            "text/html": []
          },
          "metadata": {}
        },
        {
          "output_type": "display_data",
          "data": {
            "text/plain": [
              "<IPython.core.display.HTML object>"
            ],
            "text/html": [
              "<br>    <style><br>        .wandb-row {<br>            display: flex;<br>            flex-direction: row;<br>            flex-wrap: wrap;<br>            justify-content: flex-start;<br>            width: 100%;<br>        }<br>        .wandb-col {<br>            display: flex;<br>            flex-direction: column;<br>            flex-basis: 100%;<br>            flex: 1;<br>            padding: 10px;<br>        }<br>    </style><br><div class=\"wandb-row\"><div class=\"wandb-col\"><h3>Run summary:</h3><br/><table class=\"wandb\"><tr><td>best_model_name</td><td>ddpg</td></tr><tr><td>test/ann_return/a2c</td><td>27.92</td></tr><tr><td>test/ann_return/best_model</td><td>58.62</td></tr><tr><td>test/ann_return/ddpg</td><td>58.62</td></tr><tr><td>test/ann_return/ppo</td><td>38.34</td></tr><tr><td>test/ann_return/sac</td><td>41.45</td></tr><tr><td>test/ann_return/td3</td><td>27.63</td></tr><tr><td>test/best_model_name</td><td>ddpg</td></tr><tr><td>test/cum_return/a2c</td><td>5.9</td></tr><tr><td>test/cum_return/best_model</td><td>11.34</td></tr><tr><td>test/cum_return/ddpg</td><td>11.34</td></tr><tr><td>test/cum_return/ppo</td><td>7.85</td></tr><tr><td>test/cum_return/sac</td><td>8.41</td></tr><tr><td>test/cum_return/td3</td><td>5.85</td></tr><tr><td>test/mdd/a2c</td><td>-3.68</td></tr><tr><td>test/mdd/best_model</td><td>-4.16</td></tr><tr><td>test/mdd/ddpg</td><td>-4.16</td></tr><tr><td>test/mdd/ppo</td><td>-3.18</td></tr><tr><td>test/mdd/sac</td><td>-13.03</td></tr><tr><td>test/mdd/td3</td><td>-6.97</td></tr><tr><td>test/sharpe_ratio/a2c</td><td>1.85</td></tr><tr><td>test/sharpe_ratio/best_model</td><td>2.65</td></tr><tr><td>test/sharpe_ratio/ddpg</td><td>2.65</td></tr><tr><td>test/sharpe_ratio/ppo</td><td>2.13</td></tr><tr><td>test/sharpe_ratio/sac</td><td>1.5</td></tr><tr><td>test/sharpe_ratio/td3</td><td>1.49</td></tr></table><br/></div></div>"
            ]
          },
          "metadata": {}
        },
        {
          "output_type": "display_data",
          "data": {
            "text/plain": [
              "<IPython.core.display.HTML object>"
            ],
            "text/html": [
              " View run <strong style=\"color:#cdcd00\">DOW-30 | 2009-01 | 2018 Q4 | 2019 Q1 | nIh5d</strong> at: <a href='https://wandb.ai/overfit1010/finrl-dt-replicate/runs/tumg13f0' target=\"_blank\">https://wandb.ai/overfit1010/finrl-dt-replicate/runs/tumg13f0</a><br> View project at: <a href='https://wandb.ai/overfit1010/finrl-dt-replicate' target=\"_blank\">https://wandb.ai/overfit1010/finrl-dt-replicate</a><br>Synced 5 W&B file(s), 0 media file(s), 2 artifact file(s) and 0 other file(s)"
            ]
          },
          "metadata": {}
        },
        {
          "output_type": "display_data",
          "data": {
            "text/plain": [
              "<IPython.core.display.HTML object>"
            ],
            "text/html": [
              "Find logs at: <code>./wandb/run-20250106_115016-tumg13f0/logs</code>"
            ]
          },
          "metadata": {}
        },
        {
          "output_type": "display_data",
          "data": {
            "text/plain": [
              "<IPython.core.display.HTML object>"
            ],
            "text/html": [
              "Tracking run with wandb version 0.19.1"
            ]
          },
          "metadata": {}
        },
        {
          "output_type": "display_data",
          "data": {
            "text/plain": [
              "<IPython.core.display.HTML object>"
            ],
            "text/html": [
              "Run data is saved locally in <code>/content/wandb/run-20250106_115030-o2bz2ear</code>"
            ]
          },
          "metadata": {}
        },
        {
          "output_type": "display_data",
          "data": {
            "text/plain": [
              "<IPython.core.display.HTML object>"
            ],
            "text/html": [
              "Resuming run <strong><a href='https://wandb.ai/overfit1010/finrl-dt-replicate/runs/o2bz2ear' target=\"_blank\">DOW-30 | 2009-01 | 2018 Q3 | 2018 Q4 | qqm2P</a></strong> to <a href='https://wandb.ai/overfit1010/finrl-dt-replicate' target=\"_blank\">Weights & Biases</a> (<a href='https://wandb.me/developer-guide' target=\"_blank\">docs</a>)<br>Sweep page: <a href='https://wandb.ai/overfit1010/finrl-dt-replicate/sweeps/k43io2uh' target=\"_blank\">https://wandb.ai/overfit1010/finrl-dt-replicate/sweeps/k43io2uh</a>"
            ]
          },
          "metadata": {}
        },
        {
          "output_type": "display_data",
          "data": {
            "text/plain": [
              "<IPython.core.display.HTML object>"
            ],
            "text/html": [
              " View project at <a href='https://wandb.ai/overfit1010/finrl-dt-replicate' target=\"_blank\">https://wandb.ai/overfit1010/finrl-dt-replicate</a>"
            ]
          },
          "metadata": {}
        },
        {
          "output_type": "display_data",
          "data": {
            "text/plain": [
              "<IPython.core.display.HTML object>"
            ],
            "text/html": [
              " View sweep at <a href='https://wandb.ai/overfit1010/finrl-dt-replicate/sweeps/k43io2uh' target=\"_blank\">https://wandb.ai/overfit1010/finrl-dt-replicate/sweeps/k43io2uh</a>"
            ]
          },
          "metadata": {}
        },
        {
          "output_type": "display_data",
          "data": {
            "text/plain": [
              "<IPython.core.display.HTML object>"
            ],
            "text/html": [
              " View run at <a href='https://wandb.ai/overfit1010/finrl-dt-replicate/runs/o2bz2ear' target=\"_blank\">https://wandb.ai/overfit1010/finrl-dt-replicate/runs/o2bz2ear</a>"
            ]
          },
          "metadata": {}
        },
        {
          "output_type": "stream",
          "name": "stdout",
          "text": [
            "True\n"
          ]
        },
        {
          "output_type": "stream",
          "name": "stderr",
          "text": [
            "\u001b[34m\u001b[1mwandb\u001b[0m:   3 of 3 files downloaded.  \n",
            "\u001b[34m\u001b[1mwandb\u001b[0m:   5 of 5 files downloaded.  \n",
            "\u001b[34m\u001b[1mwandb\u001b[0m:   5 of 5 files downloaded.  \n",
            "\u001b[34m\u001b[1mwandb\u001b[0m:   5 of 5 files downloaded.  \n",
            "\u001b[34m\u001b[1mwandb\u001b[0m:   5 of 5 files downloaded.  \n",
            "\u001b[34m\u001b[1mwandb\u001b[0m:   5 of 5 files downloaded.  \n"
          ]
        },
        {
          "output_type": "stream",
          "name": "stdout",
          "text": [
            "DEBUG trade end:2018-12-31\n",
            "Stock Dimension: 29, State Space: 291\n",
            "hit end!\n",
            "hit end!\n",
            "hit end!\n",
            "hit end!\n"
          ]
        },
        {
          "output_type": "stream",
          "name": "stderr",
          "text": [
            "\r[*********************100%***********************]  1 of 1 completed"
          ]
        },
        {
          "output_type": "stream",
          "name": "stdout",
          "text": [
            "hit end!\n",
            "2018-10-01\n",
            "2018-12-31\n",
            "Shape of DataFrame:  (62, 8)\n",
            "{'REFERNCE_PRICE_WINDOW_DAYS': 30, 'if_using_a2c': True, 'min_test_start_date': '2016-01-01', 'stock_index_name': 'DOW-30', 'if_using_ddpg': True, 'dataset_name': 'DOW-30 | 2009-01 | 2018 Q3 | 2018 Q4', 'train_start_date': '2009-01-01', 'REFERENCE_PRICE_END_DATE': '2024-12-21', 'cost_pct': [0.010314179718673032, 0.009076606561755468, 0.008307067100246136, 0.015516293581809112, 0.006395481989312903, 0.0072110283262062785, 0.04249566955190291, 0.015979716445954528, 0.021738725278835313, 0.004222453318177087, 0.005968143721526647, 0.010896151366589463, 0.01093735188446354, 0.11420864277075855, 0.01665255165637118, 0.010252194206940846, 0.03947813656400475, 0.008462643895002689, 0.01919729692524921, 0.024719550845968045, 0.005734449144229167, 0.03210832438433615, 0.014379031318205482, 0.00982580254909786, 0.0044498520553265045, 0.007984135151425499, 0.05881990501271046, 0.270946766931955, 0.026832260273111815], 'if_using_td3': True, 'if_using_sac': True, 'cost_abs': 2.5, 'initial_amount': 50000, 'if_using_ppo': True, 'finetune': True, 'date_range': {'test_start_date': '2018-10-01 00:00:00', 'train_start_date': '2009-01-01 00:00:00', 'test_end_date': '2019-01-01 00:00:00', 'val_start_date': '2018-07-01 00:00:00'}, 'dataset_type': 'quarterly_train_val_test', 'max_test_end_date': '2020-08-05', 'train_params': {'a2c': {'steps': 50000}, 'ppo': {'steps': 200000}, 'sac': {'steps': 70000}, 'td3': {'steps': 50000}, 'ddpg': {'steps': 50000}}}\n",
            "DEBUG (test): o2bz2ear\n",
            "DEBUG (test): updating best model based on sharpe_ratios: {}\n",
            "DEBUG (test): no models logged yet, new best model is current one: a2c\n",
            "DEBUG (test): o2bz2ear\n",
            "DEBUG (test): updating best model based on sharpe_ratios: {'a2c': -2.03}\n",
            "DEBUG (test): -2.55 (ddpg) <= -2.03 (a2c). Not updating best model.\n",
            "DEBUG (test): o2bz2ear\n",
            "DEBUG (test): updating best model based on sharpe_ratios: {'a2c': -2.03, 'ddpg': -2.55}\n",
            "DEBUG (test): -1.76 (td3) > -2.03 (a2c). New best model: td3.\n",
            "DEBUG (test): o2bz2ear\n",
            "DEBUG (test): updating best model based on sharpe_ratios: {'a2c': -2.03, 'ddpg': -2.55, 'td3': -1.76}\n",
            "DEBUG (test): -3.64 (sac) <= -1.76 (td3). Not updating best model.\n",
            "DEBUG (test): o2bz2ear\n",
            "DEBUG (test): updating best model based on sharpe_ratios: {'a2c': -2.03, 'ddpg': -2.55, 'td3': -1.76, 'sac': -3.64}\n",
            "DEBUG (test): -1.54 (ppo) > -1.76 (td3). New best model: ppo.\n"
          ]
        },
        {
          "output_type": "stream",
          "name": "stderr",
          "text": [
            "\n"
          ]
        },
        {
          "output_type": "display_data",
          "data": {
            "text/plain": [
              "<IPython.core.display.HTML object>"
            ],
            "text/html": []
          },
          "metadata": {}
        },
        {
          "output_type": "display_data",
          "data": {
            "text/plain": [
              "<IPython.core.display.HTML object>"
            ],
            "text/html": [
              "<br>    <style><br>        .wandb-row {<br>            display: flex;<br>            flex-direction: row;<br>            flex-wrap: wrap;<br>            justify-content: flex-start;<br>            width: 100%;<br>        }<br>        .wandb-col {<br>            display: flex;<br>            flex-direction: column;<br>            flex-basis: 100%;<br>            flex: 1;<br>            padding: 10px;<br>        }<br>    </style><br><div class=\"wandb-row\"><div class=\"wandb-col\"><h3>Run summary:</h3><br/><table class=\"wandb\"><tr><td>best_model_name</td><td>ppo</td></tr><tr><td>test/ann_return/a2c</td><td>-50.36</td></tr><tr><td>test/ann_return/best_model</td><td>-67.15</td></tr><tr><td>test/ann_return/ddpg</td><td>-44.06</td></tr><tr><td>test/ann_return/ppo</td><td>-33.73</td></tr><tr><td>test/ann_return/sac</td><td>-67.15</td></tr><tr><td>test/ann_return/td3</td><td>-37.03</td></tr><tr><td>test/best_model_name</td><td>sac</td></tr><tr><td>test/cum_return/a2c</td><td>-15.54</td></tr><tr><td>test/cum_return/best_model</td><td>-23.54</td></tr><tr><td>test/cum_return/ddpg</td><td>-13.07</td></tr><tr><td>test/cum_return/ppo</td><td>-9.44</td></tr><tr><td>test/cum_return/sac</td><td>-23.54</td></tr><tr><td>test/cum_return/td3</td><td>-10.55</td></tr><tr><td>test/mdd/a2c</td><td>-21.47</td></tr><tr><td>test/mdd/best_model</td><td>-27.92</td></tr><tr><td>test/mdd/ddpg</td><td>-19.39</td></tr><tr><td>test/mdd/ppo</td><td>-15.71</td></tr><tr><td>test/mdd/sac</td><td>-27.92</td></tr><tr><td>test/mdd/td3</td><td>-15.88</td></tr><tr><td>test/sharpe_ratio/a2c</td><td>-2.03</td></tr><tr><td>test/sharpe_ratio/best_model</td><td>-3.64</td></tr><tr><td>test/sharpe_ratio/ddpg</td><td>-2.55</td></tr><tr><td>test/sharpe_ratio/ppo</td><td>-1.54</td></tr><tr><td>test/sharpe_ratio/sac</td><td>-3.64</td></tr><tr><td>test/sharpe_ratio/td3</td><td>-1.76</td></tr></table><br/></div></div>"
            ]
          },
          "metadata": {}
        },
        {
          "output_type": "display_data",
          "data": {
            "text/plain": [
              "<IPython.core.display.HTML object>"
            ],
            "text/html": [
              " View run <strong style=\"color:#cdcd00\">DOW-30 | 2009-01 | 2018 Q3 | 2018 Q4 | qqm2P</strong> at: <a href='https://wandb.ai/overfit1010/finrl-dt-replicate/runs/o2bz2ear' target=\"_blank\">https://wandb.ai/overfit1010/finrl-dt-replicate/runs/o2bz2ear</a><br> View project at: <a href='https://wandb.ai/overfit1010/finrl-dt-replicate' target=\"_blank\">https://wandb.ai/overfit1010/finrl-dt-replicate</a><br>Synced 5 W&B file(s), 0 media file(s), 2 artifact file(s) and 0 other file(s)"
            ]
          },
          "metadata": {}
        },
        {
          "output_type": "display_data",
          "data": {
            "text/plain": [
              "<IPython.core.display.HTML object>"
            ],
            "text/html": [
              "Find logs at: <code>./wandb/run-20250106_115030-o2bz2ear/logs</code>"
            ]
          },
          "metadata": {}
        },
        {
          "output_type": "display_data",
          "data": {
            "text/plain": [
              "<IPython.core.display.HTML object>"
            ],
            "text/html": [
              "Tracking run with wandb version 0.19.1"
            ]
          },
          "metadata": {}
        },
        {
          "output_type": "display_data",
          "data": {
            "text/plain": [
              "<IPython.core.display.HTML object>"
            ],
            "text/html": [
              "Run data is saved locally in <code>/content/wandb/run-20250106_115042-h1ia8if0</code>"
            ]
          },
          "metadata": {}
        },
        {
          "output_type": "display_data",
          "data": {
            "text/plain": [
              "<IPython.core.display.HTML object>"
            ],
            "text/html": [
              "Resuming run <strong><a href='https://wandb.ai/overfit1010/finrl-dt-replicate/runs/h1ia8if0' target=\"_blank\">DOW-30 | 2009-01 | 2018 Q2 | 2018 Q3 | tm7vR</a></strong> to <a href='https://wandb.ai/overfit1010/finrl-dt-replicate' target=\"_blank\">Weights & Biases</a> (<a href='https://wandb.me/developer-guide' target=\"_blank\">docs</a>)<br>Sweep page: <a href='https://wandb.ai/overfit1010/finrl-dt-replicate/sweeps/k43io2uh' target=\"_blank\">https://wandb.ai/overfit1010/finrl-dt-replicate/sweeps/k43io2uh</a>"
            ]
          },
          "metadata": {}
        },
        {
          "output_type": "display_data",
          "data": {
            "text/plain": [
              "<IPython.core.display.HTML object>"
            ],
            "text/html": [
              " View project at <a href='https://wandb.ai/overfit1010/finrl-dt-replicate' target=\"_blank\">https://wandb.ai/overfit1010/finrl-dt-replicate</a>"
            ]
          },
          "metadata": {}
        },
        {
          "output_type": "display_data",
          "data": {
            "text/plain": [
              "<IPython.core.display.HTML object>"
            ],
            "text/html": [
              " View sweep at <a href='https://wandb.ai/overfit1010/finrl-dt-replicate/sweeps/k43io2uh' target=\"_blank\">https://wandb.ai/overfit1010/finrl-dt-replicate/sweeps/k43io2uh</a>"
            ]
          },
          "metadata": {}
        },
        {
          "output_type": "display_data",
          "data": {
            "text/plain": [
              "<IPython.core.display.HTML object>"
            ],
            "text/html": [
              " View run at <a href='https://wandb.ai/overfit1010/finrl-dt-replicate/runs/h1ia8if0' target=\"_blank\">https://wandb.ai/overfit1010/finrl-dt-replicate/runs/h1ia8if0</a>"
            ]
          },
          "metadata": {}
        },
        {
          "output_type": "stream",
          "name": "stdout",
          "text": [
            "True\n"
          ]
        },
        {
          "output_type": "stream",
          "name": "stderr",
          "text": [
            "\u001b[34m\u001b[1mwandb\u001b[0m:   3 of 3 files downloaded.  \n",
            "\u001b[34m\u001b[1mwandb\u001b[0m:   5 of 5 files downloaded.  \n",
            "\u001b[34m\u001b[1mwandb\u001b[0m:   5 of 5 files downloaded.  \n",
            "\u001b[34m\u001b[1mwandb\u001b[0m:   5 of 5 files downloaded.  \n",
            "\u001b[34m\u001b[1mwandb\u001b[0m:   5 of 5 files downloaded.  \n",
            "\u001b[34m\u001b[1mwandb\u001b[0m:   5 of 5 files downloaded.  \n"
          ]
        },
        {
          "output_type": "stream",
          "name": "stdout",
          "text": [
            "DEBUG trade end:2018-09-28\n",
            "Stock Dimension: 29, State Space: 291\n",
            "hit end!\n",
            "hit end!\n",
            "hit end!\n",
            "hit end!\n"
          ]
        },
        {
          "output_type": "stream",
          "name": "stderr",
          "text": [
            "\r[*********************100%***********************]  1 of 1 completed"
          ]
        },
        {
          "output_type": "stream",
          "name": "stdout",
          "text": [
            "hit end!\n",
            "2018-07-02\n",
            "2018-09-28\n",
            "Shape of DataFrame:  (62, 8)\n",
            "{'REFERENCE_PRICE_END_DATE': '2024-12-21', 'REFERNCE_PRICE_WINDOW_DAYS': 30, 'max_test_end_date': '2020-08-05', 'min_test_start_date': '2016-01-01', 'train_start_date': '2009-01-01', 'if_using_sac': True, 'if_using_ppo': True, 'train_params': {'a2c': {'steps': 50000}, 'ppo': {'steps': 200000}, 'sac': {'steps': 70000}, 'td3': {'steps': 50000}, 'ddpg': {'steps': 50000}}, 'if_using_ddpg': True, 'finetune': True, 'date_range': {'test_end_date': '2018-10-01 00:00:00', 'val_start_date': '2018-04-01 00:00:00', 'test_start_date': '2018-07-01 00:00:00', 'train_start_date': '2009-01-01 00:00:00'}, 'cost_pct': [0.010314179718673032, 0.009076606561755468, 0.008307067100246136, 0.015516293581809112, 0.006395481989312903, 0.0072110283262062785, 0.04249566955190291, 0.015979716445954528, 0.021738725278835313, 0.004222453318177087, 0.005968143721526647, 0.010896151366589463, 0.01093735188446354, 0.11420864277075855, 0.01665255165637118, 0.010252194206940846, 0.03947813656400475, 0.008462643895002689, 0.01919729692524921, 0.024719550845968045, 0.005734449144229167, 0.03210832438433615, 0.014379031318205482, 0.00982580254909786, 0.0044498520553265045, 0.007984135151425499, 0.05881990501271046, 0.270946766931955, 0.026832260273111815], 'if_using_a2c': True, 'dataset_type': 'quarterly_train_val_test', 'if_using_td3': True, 'dataset_name': 'DOW-30 | 2009-01 | 2018 Q2 | 2018 Q3', 'initial_amount': 50000, 'stock_index_name': 'DOW-30', 'cost_abs': 2.5}\n",
            "DEBUG (test): h1ia8if0\n",
            "DEBUG (test): updating best model based on sharpe_ratios: {}\n",
            "DEBUG (test): no models logged yet, new best model is current one: a2c\n",
            "DEBUG (test): h1ia8if0\n",
            "DEBUG (test): updating best model based on sharpe_ratios: {'a2c': 3.6}\n",
            "DEBUG (test): 2.7 (ddpg) <= 3.6 (a2c). Not updating best model.\n",
            "DEBUG (test): h1ia8if0\n",
            "DEBUG (test): updating best model based on sharpe_ratios: {'a2c': 3.6, 'ddpg': 2.7}\n",
            "DEBUG (test): 3.33 (td3) <= 3.6 (a2c). Not updating best model.\n",
            "DEBUG (test): h1ia8if0\n",
            "DEBUG (test): updating best model based on sharpe_ratios: {'a2c': 3.6, 'ddpg': 2.7, 'td3': 3.33}\n",
            "DEBUG (test): 2.0 (sac) <= 3.6 (a2c). Not updating best model.\n",
            "DEBUG (test): h1ia8if0\n",
            "DEBUG (test): updating best model based on sharpe_ratios: {'a2c': 3.6, 'ddpg': 2.7, 'td3': 3.33, 'sac': 2.0}\n",
            "DEBUG (test): 4.3 (ppo) > 3.6 (a2c). New best model: ppo.\n"
          ]
        },
        {
          "output_type": "stream",
          "name": "stderr",
          "text": [
            "\n"
          ]
        },
        {
          "output_type": "display_data",
          "data": {
            "text/plain": [
              "<IPython.core.display.HTML object>"
            ],
            "text/html": []
          },
          "metadata": {}
        },
        {
          "output_type": "display_data",
          "data": {
            "text/plain": [
              "<IPython.core.display.HTML object>"
            ],
            "text/html": [
              "<br>    <style><br>        .wandb-row {<br>            display: flex;<br>            flex-direction: row;<br>            flex-wrap: wrap;<br>            justify-content: flex-start;<br>            width: 100%;<br>        }<br>        .wandb-col {<br>            display: flex;<br>            flex-direction: column;<br>            flex-basis: 100%;<br>            flex: 1;<br>            padding: 10px;<br>        }<br>    </style><br><div class=\"wandb-row\"><div class=\"wandb-col\"><h3>Run summary:</h3><br/><table class=\"wandb\"><tr><td>best_model_name</td><td>ppo</td></tr><tr><td>test/ann_return/a2c</td><td>43.77</td></tr><tr><td>test/ann_return/best_model</td><td>55.87</td></tr><tr><td>test/ann_return/ddpg</td><td>33.81</td></tr><tr><td>test/ann_return/ppo</td><td>55.87</td></tr><tr><td>test/ann_return/sac</td><td>36.07</td></tr><tr><td>test/ann_return/td3</td><td>47.46</td></tr><tr><td>test/best_model_name</td><td>ppo</td></tr><tr><td>test/cum_return/a2c</td><td>9.04</td></tr><tr><td>test/cum_return/best_model</td><td>11.16</td></tr><tr><td>test/cum_return/ddpg</td><td>7.19</td></tr><tr><td>test/cum_return/ppo</td><td>11.16</td></tr><tr><td>test/cum_return/sac</td><td>7.62</td></tr><tr><td>test/cum_return/td3</td><td>9.7</td></tr><tr><td>test/mdd/a2c</td><td>-1.43</td></tr><tr><td>test/mdd/best_model</td><td>-2.17</td></tr><tr><td>test/mdd/ddpg</td><td>-2.72</td></tr><tr><td>test/mdd/ppo</td><td>-2.17</td></tr><tr><td>test/mdd/sac</td><td>-5.86</td></tr><tr><td>test/mdd/td3</td><td>-2.78</td></tr><tr><td>test/sharpe_ratio/a2c</td><td>3.6</td></tr><tr><td>test/sharpe_ratio/best_model</td><td>4.3</td></tr><tr><td>test/sharpe_ratio/ddpg</td><td>2.7</td></tr><tr><td>test/sharpe_ratio/ppo</td><td>4.3</td></tr><tr><td>test/sharpe_ratio/sac</td><td>2.0</td></tr><tr><td>test/sharpe_ratio/td3</td><td>3.33</td></tr></table><br/></div></div>"
            ]
          },
          "metadata": {}
        },
        {
          "output_type": "display_data",
          "data": {
            "text/plain": [
              "<IPython.core.display.HTML object>"
            ],
            "text/html": [
              " View run <strong style=\"color:#cdcd00\">DOW-30 | 2009-01 | 2018 Q2 | 2018 Q3 | tm7vR</strong> at: <a href='https://wandb.ai/overfit1010/finrl-dt-replicate/runs/h1ia8if0' target=\"_blank\">https://wandb.ai/overfit1010/finrl-dt-replicate/runs/h1ia8if0</a><br> View project at: <a href='https://wandb.ai/overfit1010/finrl-dt-replicate' target=\"_blank\">https://wandb.ai/overfit1010/finrl-dt-replicate</a><br>Synced 5 W&B file(s), 0 media file(s), 2 artifact file(s) and 0 other file(s)"
            ]
          },
          "metadata": {}
        },
        {
          "output_type": "display_data",
          "data": {
            "text/plain": [
              "<IPython.core.display.HTML object>"
            ],
            "text/html": [
              "Find logs at: <code>./wandb/run-20250106_115042-h1ia8if0/logs</code>"
            ]
          },
          "metadata": {}
        },
        {
          "output_type": "display_data",
          "data": {
            "text/plain": [
              "<IPython.core.display.HTML object>"
            ],
            "text/html": [
              "Tracking run with wandb version 0.19.1"
            ]
          },
          "metadata": {}
        },
        {
          "output_type": "display_data",
          "data": {
            "text/plain": [
              "<IPython.core.display.HTML object>"
            ],
            "text/html": [
              "Run data is saved locally in <code>/content/wandb/run-20250106_115056-zvkqngwt</code>"
            ]
          },
          "metadata": {}
        },
        {
          "output_type": "display_data",
          "data": {
            "text/plain": [
              "<IPython.core.display.HTML object>"
            ],
            "text/html": [
              "Resuming run <strong><a href='https://wandb.ai/overfit1010/finrl-dt-replicate/runs/zvkqngwt' target=\"_blank\">DOW-30 | 2009-01 | 2018 Q1 | 2018 Q2 | BJ2fO</a></strong> to <a href='https://wandb.ai/overfit1010/finrl-dt-replicate' target=\"_blank\">Weights & Biases</a> (<a href='https://wandb.me/developer-guide' target=\"_blank\">docs</a>)<br>Sweep page: <a href='https://wandb.ai/overfit1010/finrl-dt-replicate/sweeps/k43io2uh' target=\"_blank\">https://wandb.ai/overfit1010/finrl-dt-replicate/sweeps/k43io2uh</a>"
            ]
          },
          "metadata": {}
        },
        {
          "output_type": "display_data",
          "data": {
            "text/plain": [
              "<IPython.core.display.HTML object>"
            ],
            "text/html": [
              " View project at <a href='https://wandb.ai/overfit1010/finrl-dt-replicate' target=\"_blank\">https://wandb.ai/overfit1010/finrl-dt-replicate</a>"
            ]
          },
          "metadata": {}
        },
        {
          "output_type": "display_data",
          "data": {
            "text/plain": [
              "<IPython.core.display.HTML object>"
            ],
            "text/html": [
              " View sweep at <a href='https://wandb.ai/overfit1010/finrl-dt-replicate/sweeps/k43io2uh' target=\"_blank\">https://wandb.ai/overfit1010/finrl-dt-replicate/sweeps/k43io2uh</a>"
            ]
          },
          "metadata": {}
        },
        {
          "output_type": "display_data",
          "data": {
            "text/plain": [
              "<IPython.core.display.HTML object>"
            ],
            "text/html": [
              " View run at <a href='https://wandb.ai/overfit1010/finrl-dt-replicate/runs/zvkqngwt' target=\"_blank\">https://wandb.ai/overfit1010/finrl-dt-replicate/runs/zvkqngwt</a>"
            ]
          },
          "metadata": {}
        },
        {
          "output_type": "stream",
          "name": "stdout",
          "text": [
            "True\n"
          ]
        },
        {
          "output_type": "stream",
          "name": "stderr",
          "text": [
            "\u001b[34m\u001b[1mwandb\u001b[0m:   3 of 3 files downloaded.  \n",
            "\u001b[34m\u001b[1mwandb\u001b[0m:   5 of 5 files downloaded.  \n",
            "\u001b[34m\u001b[1mwandb\u001b[0m:   5 of 5 files downloaded.  \n",
            "\u001b[34m\u001b[1mwandb\u001b[0m:   5 of 5 files downloaded.  \n",
            "\u001b[34m\u001b[1mwandb\u001b[0m:   5 of 5 files downloaded.  \n",
            "\u001b[34m\u001b[1mwandb\u001b[0m:   5 of 5 files downloaded.  \n"
          ]
        },
        {
          "output_type": "stream",
          "name": "stdout",
          "text": [
            "DEBUG trade end:2018-06-29\n",
            "Stock Dimension: 29, State Space: 291\n",
            "hit end!\n",
            "hit end!\n",
            "hit end!\n",
            "hit end!\n"
          ]
        },
        {
          "output_type": "stream",
          "name": "stderr",
          "text": [
            "\r[*********************100%***********************]  1 of 1 completed"
          ]
        },
        {
          "output_type": "stream",
          "name": "stdout",
          "text": [
            "hit end!\n",
            "2018-04-02\n",
            "2018-06-29\n",
            "Shape of DataFrame:  (63, 8)\n",
            "{'REFERNCE_PRICE_WINDOW_DAYS': 30, 'initial_amount': 50000, 'REFERENCE_PRICE_END_DATE': '2024-12-21', 'cost_abs': 2.5, 'max_test_end_date': '2020-08-05', 'finetune': True, 'date_range': {'test_end_date': '2018-07-01 00:00:00', 'val_start_date': '2018-01-01 00:00:00', 'test_start_date': '2018-04-01 00:00:00', 'train_start_date': '2009-01-01 00:00:00'}, 'if_using_ddpg': True, 'stock_index_name': 'DOW-30', 'cost_pct': [0.010314179718673032, 0.009076606561755468, 0.008307067100246136, 0.015516293581809112, 0.006395481989312903, 0.0072110283262062785, 0.04249566955190291, 0.015979716445954528, 0.021738725278835313, 0.004222453318177087, 0.005968143721526647, 0.010896151366589463, 0.01093735188446354, 0.11420864277075855, 0.01665255165637118, 0.010252194206940846, 0.03947813656400475, 0.008462643895002689, 0.01919729692524921, 0.024719550845968045, 0.005734449144229167, 0.03210832438433615, 0.014379031318205482, 0.00982580254909786, 0.0044498520553265045, 0.007984135151425499, 0.05881990501271046, 0.270946766931955, 0.026832260273111815], 'if_using_sac': True, 'if_using_td3': True, 'dataset_type': 'quarterly_train_val_test', 'if_using_ppo': True, 'train_start_date': '2009-01-01', 'min_test_start_date': '2016-01-01', 'if_using_a2c': True, 'train_params': {'a2c': {'steps': 50000}, 'ppo': {'steps': 200000}, 'sac': {'steps': 70000}, 'td3': {'steps': 50000}, 'ddpg': {'steps': 50000}}, 'dataset_name': 'DOW-30 | 2009-01 | 2018 Q1 | 2018 Q2'}\n",
            "DEBUG (test): zvkqngwt\n",
            "DEBUG (test): updating best model based on sharpe_ratios: {}\n",
            "DEBUG (test): no models logged yet, new best model is current one: a2c\n",
            "DEBUG (test): zvkqngwt\n",
            "DEBUG (test): updating best model based on sharpe_ratios: {'a2c': 0.51}\n",
            "DEBUG (test): -1.11 (ddpg) <= 0.51 (a2c). Not updating best model.\n",
            "DEBUG (test): zvkqngwt\n",
            "DEBUG (test): updating best model based on sharpe_ratios: {'a2c': 0.51, 'ddpg': -1.11}\n",
            "DEBUG (test): 0.95 (td3) > 0.51 (a2c). New best model: td3.\n",
            "DEBUG (test): zvkqngwt\n",
            "DEBUG (test): updating best model based on sharpe_ratios: {'a2c': 0.51, 'ddpg': -1.11, 'td3': 0.95}\n",
            "DEBUG (test): -1.7 (sac) <= 0.95 (td3). Not updating best model.\n",
            "DEBUG (test): zvkqngwt\n",
            "DEBUG (test): updating best model based on sharpe_ratios: {'a2c': 0.51, 'ddpg': -1.11, 'td3': 0.95, 'sac': -1.7}\n",
            "DEBUG (test): 1.01 (ppo) > 0.95 (td3). New best model: ppo.\n"
          ]
        },
        {
          "output_type": "stream",
          "name": "stderr",
          "text": [
            "\n"
          ]
        },
        {
          "output_type": "display_data",
          "data": {
            "text/plain": [
              "<IPython.core.display.HTML object>"
            ],
            "text/html": []
          },
          "metadata": {}
        },
        {
          "output_type": "display_data",
          "data": {
            "text/plain": [
              "<IPython.core.display.HTML object>"
            ],
            "text/html": [
              "<br>    <style><br>        .wandb-row {<br>            display: flex;<br>            flex-direction: row;<br>            flex-wrap: wrap;<br>            justify-content: flex-start;<br>            width: 100%;<br>        }<br>        .wandb-col {<br>            display: flex;<br>            flex-direction: column;<br>            flex-basis: 100%;<br>            flex: 1;<br>            padding: 10px;<br>        }<br>    </style><br><div class=\"wandb-row\"><div class=\"wandb-col\"><h3>Run summary:</h3><br/><table class=\"wandb\"><tr><td>best_model_name</td><td>ppo</td></tr><tr><td>test/ann_return/a2c</td><td>8.97</td></tr><tr><td>test/ann_return/best_model</td><td>13.71</td></tr><tr><td>test/ann_return/ddpg</td><td>-15.69</td></tr><tr><td>test/ann_return/ppo</td><td>13.71</td></tr><tr><td>test/ann_return/sac</td><td>-25.97</td></tr><tr><td>test/ann_return/td3</td><td>12.51</td></tr><tr><td>test/best_model_name</td><td>ppo</td></tr><tr><td>test/cum_return/a2c</td><td>2.07</td></tr><tr><td>test/cum_return/best_model</td><td>3.11</td></tr><tr><td>test/cum_return/ddpg</td><td>-3.99</td></tr><tr><td>test/cum_return/ppo</td><td>3.11</td></tr><tr><td>test/cum_return/sac</td><td>-6.92</td></tr><tr><td>test/cum_return/td3</td><td>2.85</td></tr><tr><td>test/mdd/a2c</td><td>-8.56</td></tr><tr><td>test/mdd/best_model</td><td>-2.84</td></tr><tr><td>test/mdd/ddpg</td><td>-7.27</td></tr><tr><td>test/mdd/ppo</td><td>-2.84</td></tr><tr><td>test/mdd/sac</td><td>-11.61</td></tr><tr><td>test/mdd/td3</td><td>-3.64</td></tr><tr><td>test/sharpe_ratio/a2c</td><td>0.51</td></tr><tr><td>test/sharpe_ratio/best_model</td><td>1.01</td></tr><tr><td>test/sharpe_ratio/ddpg</td><td>-1.11</td></tr><tr><td>test/sharpe_ratio/ppo</td><td>1.01</td></tr><tr><td>test/sharpe_ratio/sac</td><td>-1.7</td></tr><tr><td>test/sharpe_ratio/td3</td><td>0.95</td></tr></table><br/></div></div>"
            ]
          },
          "metadata": {}
        },
        {
          "output_type": "display_data",
          "data": {
            "text/plain": [
              "<IPython.core.display.HTML object>"
            ],
            "text/html": [
              " View run <strong style=\"color:#cdcd00\">DOW-30 | 2009-01 | 2018 Q1 | 2018 Q2 | BJ2fO</strong> at: <a href='https://wandb.ai/overfit1010/finrl-dt-replicate/runs/zvkqngwt' target=\"_blank\">https://wandb.ai/overfit1010/finrl-dt-replicate/runs/zvkqngwt</a><br> View project at: <a href='https://wandb.ai/overfit1010/finrl-dt-replicate' target=\"_blank\">https://wandb.ai/overfit1010/finrl-dt-replicate</a><br>Synced 5 W&B file(s), 0 media file(s), 2 artifact file(s) and 0 other file(s)"
            ]
          },
          "metadata": {}
        },
        {
          "output_type": "display_data",
          "data": {
            "text/plain": [
              "<IPython.core.display.HTML object>"
            ],
            "text/html": [
              "Find logs at: <code>./wandb/run-20250106_115056-zvkqngwt/logs</code>"
            ]
          },
          "metadata": {}
        },
        {
          "output_type": "display_data",
          "data": {
            "text/plain": [
              "<IPython.core.display.HTML object>"
            ],
            "text/html": [
              "Tracking run with wandb version 0.19.1"
            ]
          },
          "metadata": {}
        },
        {
          "output_type": "display_data",
          "data": {
            "text/plain": [
              "<IPython.core.display.HTML object>"
            ],
            "text/html": [
              "Run data is saved locally in <code>/content/wandb/run-20250106_115108-n8squ0fj</code>"
            ]
          },
          "metadata": {}
        },
        {
          "output_type": "display_data",
          "data": {
            "text/plain": [
              "<IPython.core.display.HTML object>"
            ],
            "text/html": [
              "Resuming run <strong><a href='https://wandb.ai/overfit1010/finrl-dt-replicate/runs/n8squ0fj' target=\"_blank\">DOW-30 | 2009-01 | 2017 Q4 | 2018 Q1 | 6paSW</a></strong> to <a href='https://wandb.ai/overfit1010/finrl-dt-replicate' target=\"_blank\">Weights & Biases</a> (<a href='https://wandb.me/developer-guide' target=\"_blank\">docs</a>)<br>Sweep page: <a href='https://wandb.ai/overfit1010/finrl-dt-replicate/sweeps/k43io2uh' target=\"_blank\">https://wandb.ai/overfit1010/finrl-dt-replicate/sweeps/k43io2uh</a>"
            ]
          },
          "metadata": {}
        },
        {
          "output_type": "display_data",
          "data": {
            "text/plain": [
              "<IPython.core.display.HTML object>"
            ],
            "text/html": [
              " View project at <a href='https://wandb.ai/overfit1010/finrl-dt-replicate' target=\"_blank\">https://wandb.ai/overfit1010/finrl-dt-replicate</a>"
            ]
          },
          "metadata": {}
        },
        {
          "output_type": "display_data",
          "data": {
            "text/plain": [
              "<IPython.core.display.HTML object>"
            ],
            "text/html": [
              " View sweep at <a href='https://wandb.ai/overfit1010/finrl-dt-replicate/sweeps/k43io2uh' target=\"_blank\">https://wandb.ai/overfit1010/finrl-dt-replicate/sweeps/k43io2uh</a>"
            ]
          },
          "metadata": {}
        },
        {
          "output_type": "display_data",
          "data": {
            "text/plain": [
              "<IPython.core.display.HTML object>"
            ],
            "text/html": [
              " View run at <a href='https://wandb.ai/overfit1010/finrl-dt-replicate/runs/n8squ0fj' target=\"_blank\">https://wandb.ai/overfit1010/finrl-dt-replicate/runs/n8squ0fj</a>"
            ]
          },
          "metadata": {}
        },
        {
          "output_type": "stream",
          "name": "stdout",
          "text": [
            "True\n"
          ]
        },
        {
          "output_type": "stream",
          "name": "stderr",
          "text": [
            "\u001b[34m\u001b[1mwandb\u001b[0m:   3 of 3 files downloaded.  \n",
            "\u001b[34m\u001b[1mwandb\u001b[0m:   1 of 1 files downloaded.  \n",
            "\u001b[34m\u001b[1mwandb\u001b[0m:   2 of 2 files downloaded.  \n",
            "\u001b[34m\u001b[1mwandb\u001b[0m:   3 of 3 files downloaded.  \n",
            "\u001b[34m\u001b[1mwandb\u001b[0m:   4 of 4 files downloaded.  \n",
            "\u001b[34m\u001b[1mwandb\u001b[0m:   5 of 5 files downloaded.  \n"
          ]
        },
        {
          "output_type": "stream",
          "name": "stdout",
          "text": [
            "DEBUG trade end:2018-03-29\n",
            "Stock Dimension: 29, State Space: 291\n",
            "hit end!\n",
            "hit end!\n",
            "hit end!\n",
            "hit end!\n"
          ]
        },
        {
          "output_type": "stream",
          "name": "stderr",
          "text": [
            "\r[*********************100%***********************]  1 of 1 completed"
          ]
        },
        {
          "output_type": "stream",
          "name": "stdout",
          "text": [
            "hit end!\n",
            "2018-01-02\n",
            "2018-03-29\n",
            "Shape of DataFrame:  (60, 8)\n",
            "{'finetune': False, 'date_range': {'test_end_date': '2018-04-01 00:00:00', 'val_start_date': '2017-10-01 00:00:00', 'test_start_date': '2018-01-01 00:00:00', 'train_start_date': '2009-01-01 00:00:00'}, 'min_test_start_date': '2016-01-01', 'dataset_type': 'quarterly_train_val_test', 'if_using_a2c': True, 'max_test_end_date': '2020-08-05', 'if_using_ppo': True, 'REFERNCE_PRICE_WINDOW_DAYS': 30, 'REFERENCE_PRICE_END_DATE': '2024-12-21', 'dataset_name': 'DOW-30 | 2009-01 | 2017 Q4 | 2018 Q1', 'train_params': {'a2c': {'steps': 50000}, 'ppo': {'steps': 200000}, 'sac': {'steps': 70000}, 'td3': {'steps': 50000}, 'ddpg': {'steps': 50000}}, 'if_using_sac': True, 'if_using_ddpg': True, 'cost_abs': 2.5, 'stock_index_name': 'DOW-30', 'initial_amount': 50000, 'train_start_date': '2009-01-01', 'if_using_td3': True, 'cost_pct': [0.010314179718673032, 0.009076606561755468, 0.008307067100246136, 0.015516293581809112, 0.006395481989312903, 0.0072110283262062785, 0.04249566955190291, 0.015979716445954528, 0.021738725278835313, 0.004222453318177087, 0.005968143721526647, 0.010896151366589463, 0.01093735188446354, 0.11420864277075855, 0.01665255165637118, 0.010252194206940846, 0.03947813656400475, 0.008462643895002689, 0.01919729692524921, 0.024719550845968045, 0.005734449144229167, 0.03210832438433615, 0.014379031318205482, 0.00982580254909786, 0.0044498520553265045, 0.007984135151425499, 0.05881990501271046, 0.270946766931955, 0.026832260273111815]}\n",
            "DEBUG (test): n8squ0fj\n",
            "DEBUG (test): updating best model based on sharpe_ratios: {}\n",
            "DEBUG (test): no models logged yet, new best model is current one: a2c\n",
            "DEBUG (test): n8squ0fj\n",
            "DEBUG (test): updating best model based on sharpe_ratios: {'a2c': -0.23}\n",
            "DEBUG (test): -1.07 (ddpg) <= -0.23 (a2c). Not updating best model.\n",
            "DEBUG (test): n8squ0fj\n",
            "DEBUG (test): updating best model based on sharpe_ratios: {'a2c': -0.23, 'ddpg': -1.07}\n",
            "DEBUG (test): -0.07 (td3) > -0.23 (a2c). New best model: td3.\n",
            "DEBUG (test): n8squ0fj\n",
            "DEBUG (test): updating best model based on sharpe_ratios: {'a2c': -0.23, 'ddpg': -1.07, 'td3': -0.07}\n",
            "DEBUG (test): -0.6 (sac) <= -0.07 (td3). Not updating best model.\n",
            "DEBUG (test): n8squ0fj\n",
            "DEBUG (test): updating best model based on sharpe_ratios: {'a2c': -0.23, 'ddpg': -1.07, 'td3': -0.07, 'sac': -0.6}\n",
            "DEBUG (test): -0.88 (ppo) <= -0.07 (td3). Not updating best model.\n"
          ]
        },
        {
          "output_type": "stream",
          "name": "stderr",
          "text": [
            "\n"
          ]
        },
        {
          "output_type": "display_data",
          "data": {
            "text/plain": [
              "<IPython.core.display.HTML object>"
            ],
            "text/html": []
          },
          "metadata": {}
        },
        {
          "output_type": "display_data",
          "data": {
            "text/plain": [
              "<IPython.core.display.HTML object>"
            ],
            "text/html": [
              "<br>    <style><br>        .wandb-row {<br>            display: flex;<br>            flex-direction: row;<br>            flex-wrap: wrap;<br>            justify-content: flex-start;<br>            width: 100%;<br>        }<br>        .wandb-col {<br>            display: flex;<br>            flex-direction: column;<br>            flex-basis: 100%;<br>            flex: 1;<br>            padding: 10px;<br>        }<br>    </style><br><div class=\"wandb-row\"><div class=\"wandb-col\"><h3>Run summary:</h3><br/><table class=\"wandb\"><tr><td>best_model_name</td><td>td3</td></tr><tr><td>test/ann_return/a2c</td><td>-10.87</td></tr><tr><td>test/ann_return/best_model</td><td>-23.72</td></tr><tr><td>test/ann_return/ddpg</td><td>-23.72</td></tr><tr><td>test/ann_return/ppo</td><td>-22.05</td></tr><tr><td>test/ann_return/sac</td><td>-15.79</td></tr><tr><td>test/ann_return/td3</td><td>-4.05</td></tr><tr><td>test/best_model_name</td><td>ddpg</td></tr><tr><td>test/cum_return/a2c</td><td>-2.64</td></tr><tr><td>test/cum_return/best_model</td><td>-6.11</td></tr><tr><td>test/cum_return/ddpg</td><td>-6.11</td></tr><tr><td>test/cum_return/ppo</td><td>-5.63</td></tr><tr><td>test/cum_return/sac</td><td>-3.92</td></tr><tr><td>test/cum_return/td3</td><td>-0.96</td></tr><tr><td>test/mdd/a2c</td><td>-11.28</td></tr><tr><td>test/mdd/best_model</td><td>-11.2</td></tr><tr><td>test/mdd/ddpg</td><td>-11.2</td></tr><tr><td>test/mdd/ppo</td><td>-10.68</td></tr><tr><td>test/mdd/sac</td><td>-10.4</td></tr><tr><td>test/mdd/td3</td><td>-10.1</td></tr><tr><td>test/sharpe_ratio/a2c</td><td>-0.23</td></tr><tr><td>test/sharpe_ratio/best_model</td><td>-1.07</td></tr><tr><td>test/sharpe_ratio/ddpg</td><td>-1.07</td></tr><tr><td>test/sharpe_ratio/ppo</td><td>-0.88</td></tr><tr><td>test/sharpe_ratio/sac</td><td>-0.6</td></tr><tr><td>test/sharpe_ratio/td3</td><td>-0.07</td></tr></table><br/></div></div>"
            ]
          },
          "metadata": {}
        },
        {
          "output_type": "display_data",
          "data": {
            "text/plain": [
              "<IPython.core.display.HTML object>"
            ],
            "text/html": [
              " View run <strong style=\"color:#cdcd00\">DOW-30 | 2009-01 | 2017 Q4 | 2018 Q1 | 6paSW</strong> at: <a href='https://wandb.ai/overfit1010/finrl-dt-replicate/runs/n8squ0fj' target=\"_blank\">https://wandb.ai/overfit1010/finrl-dt-replicate/runs/n8squ0fj</a><br> View project at: <a href='https://wandb.ai/overfit1010/finrl-dt-replicate' target=\"_blank\">https://wandb.ai/overfit1010/finrl-dt-replicate</a><br>Synced 5 W&B file(s), 0 media file(s), 2 artifact file(s) and 0 other file(s)"
            ]
          },
          "metadata": {}
        },
        {
          "output_type": "display_data",
          "data": {
            "text/plain": [
              "<IPython.core.display.HTML object>"
            ],
            "text/html": [
              "Find logs at: <code>./wandb/run-20250106_115108-n8squ0fj/logs</code>"
            ]
          },
          "metadata": {}
        },
        {
          "output_type": "display_data",
          "data": {
            "text/plain": [
              "<IPython.core.display.HTML object>"
            ],
            "text/html": [
              "Tracking run with wandb version 0.19.1"
            ]
          },
          "metadata": {}
        },
        {
          "output_type": "display_data",
          "data": {
            "text/plain": [
              "<IPython.core.display.HTML object>"
            ],
            "text/html": [
              "Run data is saved locally in <code>/content/wandb/run-20250106_115121-5wfrad9m</code>"
            ]
          },
          "metadata": {}
        },
        {
          "output_type": "display_data",
          "data": {
            "text/plain": [
              "<IPython.core.display.HTML object>"
            ],
            "text/html": [
              "Resuming run <strong><a href='https://wandb.ai/overfit1010/finrl-dt-replicate/runs/5wfrad9m' target=\"_blank\">DOW-30 | 2009-01 | 2017 Q3 | 2017 Q4 | Qk6uh</a></strong> to <a href='https://wandb.ai/overfit1010/finrl-dt-replicate' target=\"_blank\">Weights & Biases</a> (<a href='https://wandb.me/developer-guide' target=\"_blank\">docs</a>)<br>Sweep page: <a href='https://wandb.ai/overfit1010/finrl-dt-replicate/sweeps/k43io2uh' target=\"_blank\">https://wandb.ai/overfit1010/finrl-dt-replicate/sweeps/k43io2uh</a>"
            ]
          },
          "metadata": {}
        },
        {
          "output_type": "display_data",
          "data": {
            "text/plain": [
              "<IPython.core.display.HTML object>"
            ],
            "text/html": [
              " View project at <a href='https://wandb.ai/overfit1010/finrl-dt-replicate' target=\"_blank\">https://wandb.ai/overfit1010/finrl-dt-replicate</a>"
            ]
          },
          "metadata": {}
        },
        {
          "output_type": "display_data",
          "data": {
            "text/plain": [
              "<IPython.core.display.HTML object>"
            ],
            "text/html": [
              " View sweep at <a href='https://wandb.ai/overfit1010/finrl-dt-replicate/sweeps/k43io2uh' target=\"_blank\">https://wandb.ai/overfit1010/finrl-dt-replicate/sweeps/k43io2uh</a>"
            ]
          },
          "metadata": {}
        },
        {
          "output_type": "display_data",
          "data": {
            "text/plain": [
              "<IPython.core.display.HTML object>"
            ],
            "text/html": [
              " View run at <a href='https://wandb.ai/overfit1010/finrl-dt-replicate/runs/5wfrad9m' target=\"_blank\">https://wandb.ai/overfit1010/finrl-dt-replicate/runs/5wfrad9m</a>"
            ]
          },
          "metadata": {}
        },
        {
          "output_type": "stream",
          "name": "stdout",
          "text": [
            "True\n"
          ]
        },
        {
          "output_type": "stream",
          "name": "stderr",
          "text": [
            "\u001b[34m\u001b[1mwandb\u001b[0m:   3 of 3 files downloaded.  \n",
            "\u001b[34m\u001b[1mwandb\u001b[0m:   1 of 1 files downloaded.  \n",
            "\u001b[34m\u001b[1mwandb\u001b[0m:   2 of 2 files downloaded.  \n",
            "\u001b[34m\u001b[1mwandb\u001b[0m:   3 of 3 files downloaded.  \n",
            "\u001b[34m\u001b[1mwandb\u001b[0m:   4 of 4 files downloaded.  \n",
            "\u001b[34m\u001b[1mwandb\u001b[0m:   5 of 5 files downloaded.  \n"
          ]
        },
        {
          "output_type": "stream",
          "name": "stdout",
          "text": [
            "DEBUG trade end:2017-12-29\n",
            "Stock Dimension: 29, State Space: 291\n",
            "hit end!\n",
            "hit end!\n",
            "hit end!\n",
            "hit end!\n",
            "hit end!\n",
            "2017-10-02\n",
            "2017-12-29\n"
          ]
        },
        {
          "output_type": "stream",
          "name": "stderr",
          "text": [
            "\r[*********************100%***********************]  1 of 1 completed\n"
          ]
        },
        {
          "output_type": "stream",
          "name": "stdout",
          "text": [
            "Shape of DataFrame:  (62, 8)\n",
            "{'train_params': {'td3': {'steps': 50000}, 'ddpg': {'steps': 50000}, 'a2c': {'steps': 50000}, 'ppo': {'steps': 200000}, 'sac': {'steps': 70000}}, 'if_using_sac': True, 'finetune': False, 'date_range': {'test_end_date': '2018-01-01 00:00:00', 'val_start_date': '2017-07-01 00:00:00', 'test_start_date': '2017-10-01 00:00:00', 'train_start_date': '2009-01-01 00:00:00'}, 'max_test_end_date': '2020-08-05', 'cost_abs': 2.5, 'if_using_ppo': True, 'if_using_ddpg': True, 'dataset_type': 'quarterly_train_val_test', 'REFERENCE_PRICE_END_DATE': '2024-12-21', 'REFERNCE_PRICE_WINDOW_DAYS': 30, 'train_start_date': '2009-01-01', 'min_test_start_date': '2016-01-01', 'if_using_td3': True, 'cost_pct': [0.010314179718673032, 0.009076606561755468, 0.008307067100246136, 0.015516293581809112, 0.006395481989312903, 0.0072110283262062785, 0.04249566955190291, 0.015979716445954528, 0.021738725278835313, 0.004222453318177087, 0.005968143721526647, 0.010896151366589463, 0.01093735188446354, 0.11420864277075855, 0.01665255165637118, 0.010252194206940846, 0.03947813656400475, 0.008462643895002689, 0.01919729692524921, 0.024719550845968045, 0.005734449144229167, 0.03210832438433615, 0.014379031318205482, 0.00982580254909786, 0.0044498520553265045, 0.007984135151425499, 0.05881990501271046, 0.270946766931955, 0.026832260273111815], 'stock_index_name': 'DOW-30', 'initial_amount': 50000, 'dataset_name': 'DOW-30 | 2009-01 | 2017 Q3 | 2017 Q4', 'if_using_a2c': True}\n",
            "DEBUG (test): 5wfrad9m\n",
            "DEBUG (test): updating best model based on sharpe_ratios: {}\n",
            "DEBUG (test): no models logged yet, new best model is current one: a2c\n",
            "DEBUG (test): 5wfrad9m\n",
            "DEBUG (test): updating best model based on sharpe_ratios: {'a2c': 2.25}\n",
            "DEBUG (test): 1.76 (ddpg) <= 2.25 (a2c). Not updating best model.\n",
            "DEBUG (test): 5wfrad9m\n",
            "DEBUG (test): updating best model based on sharpe_ratios: {'a2c': 2.25, 'ddpg': 1.76}\n",
            "DEBUG (test): 3.11 (td3) > 2.25 (a2c). New best model: td3.\n",
            "DEBUG (test): 5wfrad9m\n",
            "DEBUG (test): updating best model based on sharpe_ratios: {'a2c': 2.25, 'ddpg': 1.76, 'td3': 3.11}\n",
            "DEBUG (test): 4.09 (sac) > 3.11 (td3). New best model: sac.\n",
            "DEBUG (test): 5wfrad9m\n",
            "DEBUG (test): updating best model based on sharpe_ratios: {'a2c': 2.25, 'ddpg': 1.76, 'td3': 3.11, 'sac': 4.09}\n",
            "DEBUG (test): 1.33 (ppo) <= 4.09 (sac). Not updating best model.\n"
          ]
        },
        {
          "output_type": "display_data",
          "data": {
            "text/plain": [
              "<IPython.core.display.HTML object>"
            ],
            "text/html": []
          },
          "metadata": {}
        },
        {
          "output_type": "display_data",
          "data": {
            "text/plain": [
              "<IPython.core.display.HTML object>"
            ],
            "text/html": [
              "<br>    <style><br>        .wandb-row {<br>            display: flex;<br>            flex-direction: row;<br>            flex-wrap: wrap;<br>            justify-content: flex-start;<br>            width: 100%;<br>        }<br>        .wandb-col {<br>            display: flex;<br>            flex-direction: column;<br>            flex-basis: 100%;<br>            flex: 1;<br>            padding: 10px;<br>        }<br>    </style><br><div class=\"wandb-row\"><div class=\"wandb-col\"><h3>Run summary:</h3><br/><table class=\"wandb\"><tr><td>best_model_name</td><td>sac</td></tr><tr><td>test/ann_return/a2c</td><td>27.08</td></tr><tr><td>test/ann_return/best_model</td><td>39.31</td></tr><tr><td>test/ann_return/ddpg</td><td>23.05</td></tr><tr><td>test/ann_return/ppo</td><td>14.03</td></tr><tr><td>test/ann_return/sac</td><td>39.31</td></tr><tr><td>test/ann_return/td3</td><td>33.54</td></tr><tr><td>test/best_model_name</td><td>sac</td></tr><tr><td>test/cum_return/a2c</td><td>5.88</td></tr><tr><td>test/cum_return/best_model</td><td>8.22</td></tr><tr><td>test/cum_return/ddpg</td><td>5.07</td></tr><tr><td>test/cum_return/ppo</td><td>3.18</td></tr><tr><td>test/cum_return/sac</td><td>8.22</td></tr><tr><td>test/cum_return/td3</td><td>7.14</td></tr><tr><td>test/mdd/a2c</td><td>-2.29</td></tr><tr><td>test/mdd/best_model</td><td>-1.58</td></tr><tr><td>test/mdd/ddpg</td><td>-3.76</td></tr><tr><td>test/mdd/ppo</td><td>-3.12</td></tr><tr><td>test/mdd/sac</td><td>-1.58</td></tr><tr><td>test/mdd/td3</td><td>-2.41</td></tr><tr><td>test/sharpe_ratio/a2c</td><td>2.25</td></tr><tr><td>test/sharpe_ratio/best_model</td><td>4.09</td></tr><tr><td>test/sharpe_ratio/ddpg</td><td>1.76</td></tr><tr><td>test/sharpe_ratio/ppo</td><td>1.33</td></tr><tr><td>test/sharpe_ratio/sac</td><td>4.09</td></tr><tr><td>test/sharpe_ratio/td3</td><td>3.11</td></tr></table><br/></div></div>"
            ]
          },
          "metadata": {}
        },
        {
          "output_type": "display_data",
          "data": {
            "text/plain": [
              "<IPython.core.display.HTML object>"
            ],
            "text/html": [
              " View run <strong style=\"color:#cdcd00\">DOW-30 | 2009-01 | 2017 Q3 | 2017 Q4 | Qk6uh</strong> at: <a href='https://wandb.ai/overfit1010/finrl-dt-replicate/runs/5wfrad9m' target=\"_blank\">https://wandb.ai/overfit1010/finrl-dt-replicate/runs/5wfrad9m</a><br> View project at: <a href='https://wandb.ai/overfit1010/finrl-dt-replicate' target=\"_blank\">https://wandb.ai/overfit1010/finrl-dt-replicate</a><br>Synced 5 W&B file(s), 0 media file(s), 2 artifact file(s) and 0 other file(s)"
            ]
          },
          "metadata": {}
        },
        {
          "output_type": "display_data",
          "data": {
            "text/plain": [
              "<IPython.core.display.HTML object>"
            ],
            "text/html": [
              "Find logs at: <code>./wandb/run-20250106_115121-5wfrad9m/logs</code>"
            ]
          },
          "metadata": {}
        },
        {
          "output_type": "stream",
          "name": "stdout",
          "text": [
            "True\n",
            "True\n",
            "True\n",
            "True\n",
            "True\n",
            "True\n",
            "True\n"
          ]
        },
        {
          "output_type": "display_data",
          "data": {
            "text/plain": [
              "<IPython.core.display.HTML object>"
            ],
            "text/html": [
              "Tracking run with wandb version 0.19.1"
            ]
          },
          "metadata": {}
        },
        {
          "output_type": "display_data",
          "data": {
            "text/plain": [
              "<IPython.core.display.HTML object>"
            ],
            "text/html": [
              "Run data is saved locally in <code>/content/wandb/run-20250106_115134-7kz7hrod</code>"
            ]
          },
          "metadata": {}
        },
        {
          "output_type": "display_data",
          "data": {
            "text/plain": [
              "<IPython.core.display.HTML object>"
            ],
            "text/html": [
              "Resuming run <strong><a href='https://wandb.ai/overfit1010/finrl-dt-replicate/runs/7kz7hrod' target=\"_blank\">DOW-30 | 2009-01 | 2017 Q2 | 2017 Q3 | 5dRda</a></strong> to <a href='https://wandb.ai/overfit1010/finrl-dt-replicate' target=\"_blank\">Weights & Biases</a> (<a href='https://wandb.me/developer-guide' target=\"_blank\">docs</a>)<br>Sweep page: <a href='https://wandb.ai/overfit1010/finrl-dt-replicate/sweeps/k43io2uh' target=\"_blank\">https://wandb.ai/overfit1010/finrl-dt-replicate/sweeps/k43io2uh</a>"
            ]
          },
          "metadata": {}
        },
        {
          "output_type": "display_data",
          "data": {
            "text/plain": [
              "<IPython.core.display.HTML object>"
            ],
            "text/html": [
              " View project at <a href='https://wandb.ai/overfit1010/finrl-dt-replicate' target=\"_blank\">https://wandb.ai/overfit1010/finrl-dt-replicate</a>"
            ]
          },
          "metadata": {}
        },
        {
          "output_type": "display_data",
          "data": {
            "text/plain": [
              "<IPython.core.display.HTML object>"
            ],
            "text/html": [
              " View sweep at <a href='https://wandb.ai/overfit1010/finrl-dt-replicate/sweeps/k43io2uh' target=\"_blank\">https://wandb.ai/overfit1010/finrl-dt-replicate/sweeps/k43io2uh</a>"
            ]
          },
          "metadata": {}
        },
        {
          "output_type": "display_data",
          "data": {
            "text/plain": [
              "<IPython.core.display.HTML object>"
            ],
            "text/html": [
              " View run at <a href='https://wandb.ai/overfit1010/finrl-dt-replicate/runs/7kz7hrod' target=\"_blank\">https://wandb.ai/overfit1010/finrl-dt-replicate/runs/7kz7hrod</a>"
            ]
          },
          "metadata": {}
        },
        {
          "output_type": "stream",
          "name": "stdout",
          "text": [
            "True\n"
          ]
        },
        {
          "output_type": "stream",
          "name": "stderr",
          "text": [
            "\u001b[34m\u001b[1mwandb\u001b[0m:   3 of 3 files downloaded.  \n",
            "\u001b[34m\u001b[1mwandb\u001b[0m:   1 of 1 files downloaded.  \n",
            "\u001b[34m\u001b[1mwandb\u001b[0m:   5 of 5 files downloaded.  \n"
          ]
        },
        {
          "output_type": "stream",
          "name": "stdout",
          "text": [
            "DEBUG trade end:2017-09-29\n",
            "Stock Dimension: 29, State Space: 291\n",
            "hit end!\n",
            "hit end!\n",
            "hit end!\n",
            "hit end!\n"
          ]
        },
        {
          "output_type": "stream",
          "name": "stderr",
          "text": [
            "\r[*********************100%***********************]  1 of 1 completed"
          ]
        },
        {
          "output_type": "stream",
          "name": "stdout",
          "text": [
            "hit end!\n",
            "2017-07-03\n",
            "2017-09-29\n",
            "Shape of DataFrame:  (62, 8)\n",
            "{'max_test_end_date': '2020-08-05', 'if_using_a2c': True, 'cost_pct': [0.010314179718673032, 0.009076606561755468, 0.008307067100246136, 0.015516293581809112, 0.006395481989312903, 0.0072110283262062785, 0.04249566955190291, 0.015979716445954528, 0.021738725278835313, 0.004222453318177087, 0.005968143721526647, 0.010896151366589463, 0.01093735188446354, 0.11420864277075855, 0.01665255165637118, 0.010252194206940846, 0.03947813656400475, 0.008462643895002689, 0.01919729692524921, 0.024719550845968045, 0.005734449144229167, 0.03210832438433615, 0.014379031318205482, 0.00982580254909786, 0.0044498520553265045, 0.007984135151425499, 0.05881990501271046, 0.270946766931955, 0.026832260273111815], 'if_using_ddpg': True, 'if_using_ppo': True, 'dataset_type': 'quarterly_train_val_test', 'finetune': True, 'REFERENCE_PRICE_END_DATE': '2024-12-21', 'cost_abs': 2.5, 'if_using_sac': True, 'dataset_name': 'DOW-30 | 2009-01 | 2017 Q2 | 2017 Q3', 'train_start_date': '2009-01-01', 'if_using_td3': True, 'min_test_start_date': '2016-01-01', 'REFERNCE_PRICE_WINDOW_DAYS': 30, 'train_params': {'ppo': {'steps': 200000}, 'sac': {'steps': 70000}, 'td3': {'steps': 50000}, 'ddpg': {'steps': 50000}, 'a2c': {'steps': 50000}}, 'stock_index_name': 'DOW-30', 'date_range': {'test_end_date': '2017-10-01 00:00:00', 'val_start_date': '2017-04-01 00:00:00', 'test_start_date': '2017-07-01 00:00:00', 'train_start_date': '2009-01-01 00:00:00'}, 'initial_amount': 50000}\n",
            "DEBUG (test): 7kz7hrod\n",
            "DEBUG (test): updating best model based on sharpe_ratios: {}\n",
            "DEBUG (test): no models logged yet, new best model is current one: a2c\n",
            "DEBUG (test): 7kz7hrod\n",
            "DEBUG (test): updating best model based on sharpe_ratios: {'a2c': 1.51}\n",
            "DEBUG (test): 4.91 (ddpg) > 1.51 (a2c). New best model: ddpg.\n",
            "DEBUG (test): 7kz7hrod\n",
            "DEBUG (test): updating best model based on sharpe_ratios: {'a2c': 1.51, 'ddpg': 4.91}\n",
            "DEBUG (test): -1.16 (td3) <= 4.91 (ddpg). Not updating best model.\n",
            "DEBUG (test): 7kz7hrod\n",
            "DEBUG (test): updating best model based on sharpe_ratios: {'a2c': 1.51, 'ddpg': 4.91, 'td3': -1.16}\n",
            "DEBUG (test): 1.13 (sac) <= 4.91 (ddpg). Not updating best model.\n",
            "DEBUG (test): 7kz7hrod\n",
            "DEBUG (test): updating best model based on sharpe_ratios: {'a2c': 1.51, 'ddpg': 4.91, 'td3': -1.16, 'sac': 1.13}\n",
            "DEBUG (test): 1.64 (ppo) <= 4.91 (ddpg). Not updating best model.\n"
          ]
        },
        {
          "output_type": "stream",
          "name": "stderr",
          "text": [
            "\n"
          ]
        },
        {
          "output_type": "display_data",
          "data": {
            "text/plain": [
              "<IPython.core.display.HTML object>"
            ],
            "text/html": []
          },
          "metadata": {}
        },
        {
          "output_type": "display_data",
          "data": {
            "text/plain": [
              "<IPython.core.display.HTML object>"
            ],
            "text/html": [
              "<br>    <style><br>        .wandb-row {<br>            display: flex;<br>            flex-direction: row;<br>            flex-wrap: wrap;<br>            justify-content: flex-start;<br>            width: 100%;<br>        }<br>        .wandb-col {<br>            display: flex;<br>            flex-direction: column;<br>            flex-basis: 100%;<br>            flex: 1;<br>            padding: 10px;<br>        }<br>    </style><br><div class=\"wandb-row\"><div class=\"wandb-col\"><h3>Run summary:</h3><br/><table class=\"wandb\"><tr><td>best_model_name</td><td>ddpg</td></tr><tr><td>test/ann_return/a2c</td><td>15.42</td></tr><tr><td>test/ann_return/best_model</td><td>71.61</td></tr><tr><td>test/ann_return/ddpg</td><td>71.61</td></tr><tr><td>test/ann_return/ppo</td><td>16.7</td></tr><tr><td>test/ann_return/sac</td><td>12.02</td></tr><tr><td>test/ann_return/td3</td><td>-14.36</td></tr><tr><td>test/best_model_name</td><td>ddpg</td></tr><tr><td>test/cum_return/a2c</td><td>3.48</td></tr><tr><td>test/cum_return/best_model</td><td>13.74</td></tr><tr><td>test/cum_return/ddpg</td><td>13.74</td></tr><tr><td>test/cum_return/ppo</td><td>3.75</td></tr><tr><td>test/cum_return/sac</td><td>2.74</td></tr><tr><td>test/cum_return/td3</td><td>-3.63</td></tr><tr><td>test/mdd/a2c</td><td>-2.88</td></tr><tr><td>test/mdd/best_model</td><td>-2.71</td></tr><tr><td>test/mdd/ddpg</td><td>-2.71</td></tr><tr><td>test/mdd/ppo</td><td>-2.53</td></tr><tr><td>test/mdd/sac</td><td>-4.31</td></tr><tr><td>test/mdd/td3</td><td>-5.84</td></tr><tr><td>test/sharpe_ratio/a2c</td><td>1.51</td></tr><tr><td>test/sharpe_ratio/best_model</td><td>4.91</td></tr><tr><td>test/sharpe_ratio/ddpg</td><td>4.91</td></tr><tr><td>test/sharpe_ratio/ppo</td><td>1.64</td></tr><tr><td>test/sharpe_ratio/sac</td><td>1.13</td></tr><tr><td>test/sharpe_ratio/td3</td><td>-1.16</td></tr></table><br/></div></div>"
            ]
          },
          "metadata": {}
        },
        {
          "output_type": "display_data",
          "data": {
            "text/plain": [
              "<IPython.core.display.HTML object>"
            ],
            "text/html": [
              " View run <strong style=\"color:#cdcd00\">DOW-30 | 2009-01 | 2017 Q2 | 2017 Q3 | 5dRda</strong> at: <a href='https://wandb.ai/overfit1010/finrl-dt-replicate/runs/7kz7hrod' target=\"_blank\">https://wandb.ai/overfit1010/finrl-dt-replicate/runs/7kz7hrod</a><br> View project at: <a href='https://wandb.ai/overfit1010/finrl-dt-replicate' target=\"_blank\">https://wandb.ai/overfit1010/finrl-dt-replicate</a><br>Synced 5 W&B file(s), 0 media file(s), 2 artifact file(s) and 0 other file(s)"
            ]
          },
          "metadata": {}
        },
        {
          "output_type": "display_data",
          "data": {
            "text/plain": [
              "<IPython.core.display.HTML object>"
            ],
            "text/html": [
              "Find logs at: <code>./wandb/run-20250106_115134-7kz7hrod/logs</code>"
            ]
          },
          "metadata": {}
        },
        {
          "output_type": "display_data",
          "data": {
            "text/plain": [
              "<IPython.core.display.HTML object>"
            ],
            "text/html": [
              "Tracking run with wandb version 0.19.1"
            ]
          },
          "metadata": {}
        },
        {
          "output_type": "display_data",
          "data": {
            "text/plain": [
              "<IPython.core.display.HTML object>"
            ],
            "text/html": [
              "Run data is saved locally in <code>/content/wandb/run-20250106_115146-7ckhysh8</code>"
            ]
          },
          "metadata": {}
        },
        {
          "output_type": "display_data",
          "data": {
            "text/plain": [
              "<IPython.core.display.HTML object>"
            ],
            "text/html": [
              "Resuming run <strong><a href='https://wandb.ai/overfit1010/finrl-dt-replicate/runs/7ckhysh8' target=\"_blank\">DOW-30 | 2009-01 | 2017 Q1 | 2017 Q2 | N9uo1</a></strong> to <a href='https://wandb.ai/overfit1010/finrl-dt-replicate' target=\"_blank\">Weights & Biases</a> (<a href='https://wandb.me/developer-guide' target=\"_blank\">docs</a>)<br>Sweep page: <a href='https://wandb.ai/overfit1010/finrl-dt-replicate/sweeps/k43io2uh' target=\"_blank\">https://wandb.ai/overfit1010/finrl-dt-replicate/sweeps/k43io2uh</a>"
            ]
          },
          "metadata": {}
        },
        {
          "output_type": "display_data",
          "data": {
            "text/plain": [
              "<IPython.core.display.HTML object>"
            ],
            "text/html": [
              " View project at <a href='https://wandb.ai/overfit1010/finrl-dt-replicate' target=\"_blank\">https://wandb.ai/overfit1010/finrl-dt-replicate</a>"
            ]
          },
          "metadata": {}
        },
        {
          "output_type": "display_data",
          "data": {
            "text/plain": [
              "<IPython.core.display.HTML object>"
            ],
            "text/html": [
              " View sweep at <a href='https://wandb.ai/overfit1010/finrl-dt-replicate/sweeps/k43io2uh' target=\"_blank\">https://wandb.ai/overfit1010/finrl-dt-replicate/sweeps/k43io2uh</a>"
            ]
          },
          "metadata": {}
        },
        {
          "output_type": "display_data",
          "data": {
            "text/plain": [
              "<IPython.core.display.HTML object>"
            ],
            "text/html": [
              " View run at <a href='https://wandb.ai/overfit1010/finrl-dt-replicate/runs/7ckhysh8' target=\"_blank\">https://wandb.ai/overfit1010/finrl-dt-replicate/runs/7ckhysh8</a>"
            ]
          },
          "metadata": {}
        },
        {
          "output_type": "stream",
          "name": "stdout",
          "text": [
            "True\n"
          ]
        },
        {
          "output_type": "stream",
          "name": "stderr",
          "text": [
            "\u001b[34m\u001b[1mwandb\u001b[0m:   3 of 3 files downloaded.  \n",
            "\u001b[34m\u001b[1mwandb\u001b[0m:   5 of 5 files downloaded.  \n",
            "\u001b[34m\u001b[1mwandb\u001b[0m:   5 of 5 files downloaded.  \n",
            "\u001b[34m\u001b[1mwandb\u001b[0m:   5 of 5 files downloaded.  \n",
            "\u001b[34m\u001b[1mwandb\u001b[0m:   5 of 5 files downloaded.  \n",
            "\u001b[34m\u001b[1mwandb\u001b[0m:   5 of 5 files downloaded.  \n",
            "\u001b[34m\u001b[1mwandb\u001b[0m:   1 of 1 files downloaded.  \n"
          ]
        },
        {
          "output_type": "stream",
          "name": "stdout",
          "text": [
            "DEBUG trade end:2017-06-30\n",
            "Stock Dimension: 29, State Space: 291\n",
            "hit end!\n",
            "hit end!\n",
            "hit end!\n",
            "hit end!\n"
          ]
        },
        {
          "output_type": "stream",
          "name": "stderr",
          "text": [
            "\r[*********************100%***********************]  1 of 1 completed"
          ]
        },
        {
          "output_type": "stream",
          "name": "stdout",
          "text": [
            "hit end!\n",
            "2017-04-03\n",
            "2017-06-30\n",
            "Shape of DataFrame:  (62, 8)\n",
            "{'cost_abs': 2.5, 'dataset_type': 'quarterly_train_val_test', 'if_using_ppo': True, 'dataset_name': 'DOW-30 | 2009-01 | 2017 Q1 | 2017 Q2', 'initial_amount': 50000, 'REFERNCE_PRICE_WINDOW_DAYS': 30, 'if_using_td3': True, 'if_using_ddpg': True, 'min_test_start_date': '2016-01-01', 'date_range': {'test_start_date': '2017-04-01 00:00:00', 'train_start_date': '2009-01-01 00:00:00', 'test_end_date': '2017-07-01 00:00:00', 'val_start_date': '2017-01-01 00:00:00'}, 'stock_index_name': 'DOW-30', 'train_start_date': '2009-01-01', 'if_using_sac': True, 'REFERENCE_PRICE_END_DATE': '2024-12-21', 'finetune': True, 'train_params': {'ddpg': {'steps': 50000}, 'a2c': {'steps': 50000}, 'ppo': {'steps': 200000}, 'sac': {'steps': 70000}, 'td3': {'steps': 50000}}, 'if_using_a2c': True, 'max_test_end_date': '2020-08-05', 'cost_pct': [0.010314179718673032, 0.009076606561755468, 0.008307067100246136, 0.015516293581809112, 0.006395481989312903, 0.0072110283262062785, 0.04249566955190291, 0.015979716445954528, 0.021738725278835313, 0.004222453318177087, 0.005968143721526647, 0.010896151366589463, 0.01093735188446354, 0.11420864277075855, 0.01665255165637118, 0.010252194206940846, 0.03947813656400475, 0.008462643895002689, 0.01919729692524921, 0.024719550845968045, 0.005734449144229167, 0.03210832438433615, 0.014379031318205482, 0.00982580254909786, 0.0044498520553265045, 0.007984135151425499, 0.05881990501271046, 0.270946766931955, 0.026832260273111815]}\n",
            "DEBUG (test): 7ckhysh8\n",
            "DEBUG (test): updating best model based on sharpe_ratios: {}\n",
            "DEBUG (test): no models logged yet, new best model is current one: a2c\n",
            "DEBUG (test): 7ckhysh8\n",
            "DEBUG (test): updating best model based on sharpe_ratios: {'a2c': 2.97}\n",
            "DEBUG (test): 2.72 (ddpg) <= 2.97 (a2c). Not updating best model.\n",
            "DEBUG (test): 7ckhysh8\n",
            "DEBUG (test): updating best model based on sharpe_ratios: {'a2c': 2.97, 'ddpg': 2.72}\n",
            "DEBUG (test): -3.06 (td3) <= 2.97 (a2c). Not updating best model.\n",
            "DEBUG (test): 7ckhysh8\n",
            "DEBUG (test): updating best model based on sharpe_ratios: {'a2c': 2.97, 'ddpg': 2.72, 'td3': -3.06}\n",
            "DEBUG (test): 0.47 (sac) <= 2.97 (a2c). Not updating best model.\n",
            "DEBUG (test): 7ckhysh8\n",
            "DEBUG (test): updating best model based on sharpe_ratios: {'a2c': 2.97, 'ddpg': 2.72, 'td3': -3.06, 'sac': 0.47}\n",
            "DEBUG (test): 3.5 (ppo) > 2.97 (a2c). New best model: ppo.\n"
          ]
        },
        {
          "output_type": "stream",
          "name": "stderr",
          "text": [
            "\n"
          ]
        },
        {
          "output_type": "display_data",
          "data": {
            "text/plain": [
              "<IPython.core.display.HTML object>"
            ],
            "text/html": []
          },
          "metadata": {}
        },
        {
          "output_type": "display_data",
          "data": {
            "text/plain": [
              "<IPython.core.display.HTML object>"
            ],
            "text/html": [
              "<br>    <style><br>        .wandb-row {<br>            display: flex;<br>            flex-direction: row;<br>            flex-wrap: wrap;<br>            justify-content: flex-start;<br>            width: 100%;<br>        }<br>        .wandb-col {<br>            display: flex;<br>            flex-direction: column;<br>            flex-basis: 100%;<br>            flex: 1;<br>            padding: 10px;<br>        }<br>    </style><br><div class=\"wandb-row\"><div class=\"wandb-col\"><h3>Run summary:</h3><br/><table class=\"wandb\"><tr><td>best_model_name</td><td>ppo</td></tr><tr><td>test/ann_return/a2c</td><td>31.24</td></tr><tr><td>test/ann_return/best_model</td><td>36.91</td></tr><tr><td>test/ann_return/ddpg</td><td>25.86</td></tr><tr><td>test/ann_return/ppo</td><td>36.91</td></tr><tr><td>test/ann_return/sac</td><td>4.88</td></tr><tr><td>test/ann_return/td3</td><td>-30.21</td></tr><tr><td>test/best_model_name</td><td>ppo</td></tr><tr><td>test/cum_return/a2c</td><td>6.7</td></tr><tr><td>test/cum_return/best_model</td><td>7.78</td></tr><tr><td>test/cum_return/ddpg</td><td>5.63</td></tr><tr><td>test/cum_return/ppo</td><td>7.78</td></tr><tr><td>test/cum_return/sac</td><td>1.14</td></tr><tr><td>test/cum_return/td3</td><td>-8.22</td></tr><tr><td>test/mdd/a2c</td><td>-2.8</td></tr><tr><td>test/mdd/best_model</td><td>-2.04</td></tr><tr><td>test/mdd/ddpg</td><td>-1.88</td></tr><tr><td>test/mdd/ppo</td><td>-2.04</td></tr><tr><td>test/mdd/sac</td><td>-3.7</td></tr><tr><td>test/mdd/td3</td><td>-8.5</td></tr><tr><td>test/sharpe_ratio/a2c</td><td>2.97</td></tr><tr><td>test/sharpe_ratio/best_model</td><td>3.5</td></tr><tr><td>test/sharpe_ratio/ddpg</td><td>2.72</td></tr><tr><td>test/sharpe_ratio/ppo</td><td>3.5</td></tr><tr><td>test/sharpe_ratio/sac</td><td>0.47</td></tr><tr><td>test/sharpe_ratio/td3</td><td>-3.06</td></tr></table><br/></div></div>"
            ]
          },
          "metadata": {}
        },
        {
          "output_type": "display_data",
          "data": {
            "text/plain": [
              "<IPython.core.display.HTML object>"
            ],
            "text/html": [
              " View run <strong style=\"color:#cdcd00\">DOW-30 | 2009-01 | 2017 Q1 | 2017 Q2 | N9uo1</strong> at: <a href='https://wandb.ai/overfit1010/finrl-dt-replicate/runs/7ckhysh8' target=\"_blank\">https://wandb.ai/overfit1010/finrl-dt-replicate/runs/7ckhysh8</a><br> View project at: <a href='https://wandb.ai/overfit1010/finrl-dt-replicate' target=\"_blank\">https://wandb.ai/overfit1010/finrl-dt-replicate</a><br>Synced 5 W&B file(s), 0 media file(s), 0 artifact file(s) and 0 other file(s)"
            ]
          },
          "metadata": {}
        },
        {
          "output_type": "display_data",
          "data": {
            "text/plain": [
              "<IPython.core.display.HTML object>"
            ],
            "text/html": [
              "Find logs at: <code>./wandb/run-20250106_115146-7ckhysh8/logs</code>"
            ]
          },
          "metadata": {}
        },
        {
          "output_type": "display_data",
          "data": {
            "text/plain": [
              "<IPython.core.display.HTML object>"
            ],
            "text/html": [
              "Tracking run with wandb version 0.19.1"
            ]
          },
          "metadata": {}
        },
        {
          "output_type": "display_data",
          "data": {
            "text/plain": [
              "<IPython.core.display.HTML object>"
            ],
            "text/html": [
              "Run data is saved locally in <code>/content/wandb/run-20250106_115159-rizcli4c</code>"
            ]
          },
          "metadata": {}
        },
        {
          "output_type": "display_data",
          "data": {
            "text/plain": [
              "<IPython.core.display.HTML object>"
            ],
            "text/html": [
              "Resuming run <strong><a href='https://wandb.ai/overfit1010/finrl-dt-replicate/runs/rizcli4c' target=\"_blank\">DOW-30 | 2009-01 | 2016 Q4 | 2017 Q1 | 4o7R6</a></strong> to <a href='https://wandb.ai/overfit1010/finrl-dt-replicate' target=\"_blank\">Weights & Biases</a> (<a href='https://wandb.me/developer-guide' target=\"_blank\">docs</a>)<br>Sweep page: <a href='https://wandb.ai/overfit1010/finrl-dt-replicate/sweeps/k43io2uh' target=\"_blank\">https://wandb.ai/overfit1010/finrl-dt-replicate/sweeps/k43io2uh</a>"
            ]
          },
          "metadata": {}
        },
        {
          "output_type": "display_data",
          "data": {
            "text/plain": [
              "<IPython.core.display.HTML object>"
            ],
            "text/html": [
              " View project at <a href='https://wandb.ai/overfit1010/finrl-dt-replicate' target=\"_blank\">https://wandb.ai/overfit1010/finrl-dt-replicate</a>"
            ]
          },
          "metadata": {}
        },
        {
          "output_type": "display_data",
          "data": {
            "text/plain": [
              "<IPython.core.display.HTML object>"
            ],
            "text/html": [
              " View sweep at <a href='https://wandb.ai/overfit1010/finrl-dt-replicate/sweeps/k43io2uh' target=\"_blank\">https://wandb.ai/overfit1010/finrl-dt-replicate/sweeps/k43io2uh</a>"
            ]
          },
          "metadata": {}
        },
        {
          "output_type": "display_data",
          "data": {
            "text/plain": [
              "<IPython.core.display.HTML object>"
            ],
            "text/html": [
              " View run at <a href='https://wandb.ai/overfit1010/finrl-dt-replicate/runs/rizcli4c' target=\"_blank\">https://wandb.ai/overfit1010/finrl-dt-replicate/runs/rizcli4c</a>"
            ]
          },
          "metadata": {}
        },
        {
          "output_type": "stream",
          "name": "stdout",
          "text": [
            "True\n"
          ]
        },
        {
          "output_type": "stream",
          "name": "stderr",
          "text": [
            "\u001b[34m\u001b[1mwandb\u001b[0m:   3 of 3 files downloaded.  \n",
            "\u001b[34m\u001b[1mwandb\u001b[0m:   5 of 5 files downloaded.  \n",
            "\u001b[34m\u001b[1mwandb\u001b[0m:   5 of 5 files downloaded.  \n",
            "\u001b[34m\u001b[1mwandb\u001b[0m:   5 of 5 files downloaded.  \n",
            "\u001b[34m\u001b[1mwandb\u001b[0m:   5 of 5 files downloaded.  \n",
            "\u001b[34m\u001b[1mwandb\u001b[0m:   5 of 5 files downloaded.  \n",
            "\u001b[34m\u001b[1mwandb\u001b[0m:   1 of 1 files downloaded.  \n"
          ]
        },
        {
          "output_type": "stream",
          "name": "stdout",
          "text": [
            "DEBUG trade end:2017-03-31\n",
            "Stock Dimension: 29, State Space: 291\n",
            "hit end!\n",
            "hit end!\n",
            "hit end!\n",
            "hit end!\n"
          ]
        },
        {
          "output_type": "stream",
          "name": "stderr",
          "text": [
            "\r[*********************100%***********************]  1 of 1 completed"
          ]
        },
        {
          "output_type": "stream",
          "name": "stdout",
          "text": [
            "hit end!\n",
            "2017-01-03\n",
            "2017-03-31\n",
            "Shape of DataFrame:  (61, 8)\n",
            "{'min_test_start_date': '2016-01-01', 'REFERNCE_PRICE_WINDOW_DAYS': 30, 'cost_abs': 2.5, 'train_params': {'a2c': {'steps': 50000}, 'ppo': {'steps': 200000}, 'sac': {'steps': 70000}, 'td3': {'steps': 50000}, 'ddpg': {'steps': 50000}}, 'if_using_ppo': True, 'stock_index_name': 'DOW-30', 'cost_pct': [0.010314179718673032, 0.009076606561755468, 0.008307067100246136, 0.015516293581809112, 0.006395481989312903, 0.0072110283262062785, 0.04249566955190291, 0.015979716445954528, 0.021738725278835313, 0.004222453318177087, 0.005968143721526647, 0.010896151366589463, 0.01093735188446354, 0.11420864277075855, 0.01665255165637118, 0.010252194206940846, 0.03947813656400475, 0.008462643895002689, 0.01919729692524921, 0.024719550845968045, 0.005734449144229167, 0.03210832438433615, 0.014379031318205482, 0.00982580254909786, 0.0044498520553265045, 0.007984135151425499, 0.05881990501271046, 0.270946766931955, 0.026832260273111815], 'if_using_ddpg': True, 'if_using_td3': True, 'max_test_end_date': '2020-08-05', 'finetune': True, 'dataset_name': 'DOW-30 | 2009-01 | 2016 Q4 | 2017 Q1', 'if_using_sac': True, 'date_range': {'test_start_date': '2017-01-01 00:00:00', 'train_start_date': '2009-01-01 00:00:00', 'test_end_date': '2017-04-01 00:00:00', 'val_start_date': '2016-10-01 00:00:00'}, 'REFERENCE_PRICE_END_DATE': '2024-12-21', 'train_start_date': '2009-01-01', 'initial_amount': 50000, 'if_using_a2c': True, 'dataset_type': 'quarterly_train_val_test'}\n",
            "DEBUG (test): rizcli4c\n",
            "DEBUG (test): updating best model based on sharpe_ratios: {}\n",
            "DEBUG (test): no models logged yet, new best model is current one: a2c\n",
            "DEBUG (test): rizcli4c\n",
            "DEBUG (test): updating best model based on sharpe_ratios: {'a2c': 1.33}\n",
            "DEBUG (test): 2.69 (ddpg) > 1.33 (a2c). New best model: ddpg.\n",
            "DEBUG (test): rizcli4c\n",
            "DEBUG (test): updating best model based on sharpe_ratios: {'a2c': 1.33, 'ddpg': 2.69}\n",
            "DEBUG (test): -0.16 (td3) <= 2.69 (ddpg). Not updating best model.\n",
            "DEBUG (test): rizcli4c\n",
            "DEBUG (test): updating best model based on sharpe_ratios: {'a2c': 1.33, 'ddpg': 2.69, 'td3': -0.16}\n",
            "DEBUG (test): 0.38 (sac) <= 2.69 (ddpg). Not updating best model.\n",
            "DEBUG (test): rizcli4c\n",
            "DEBUG (test): updating best model based on sharpe_ratios: {'a2c': 1.33, 'ddpg': 2.69, 'td3': -0.16, 'sac': 0.38}\n",
            "DEBUG (test): 3.36 (ppo) > 2.69 (ddpg). New best model: ppo.\n"
          ]
        },
        {
          "output_type": "stream",
          "name": "stderr",
          "text": [
            "\n"
          ]
        },
        {
          "output_type": "display_data",
          "data": {
            "text/plain": [
              "<IPython.core.display.HTML object>"
            ],
            "text/html": []
          },
          "metadata": {}
        },
        {
          "output_type": "display_data",
          "data": {
            "text/plain": [
              "<IPython.core.display.HTML object>"
            ],
            "text/html": [
              "<br>    <style><br>        .wandb-row {<br>            display: flex;<br>            flex-direction: row;<br>            flex-wrap: wrap;<br>            justify-content: flex-start;<br>            width: 100%;<br>        }<br>        .wandb-col {<br>            display: flex;<br>            flex-direction: column;<br>            flex-basis: 100%;<br>            flex: 1;<br>            padding: 10px;<br>        }<br>    </style><br><div class=\"wandb-row\"><div class=\"wandb-col\"><h3>Run summary:</h3><br/><table class=\"wandb\"><tr><td>best_model_name</td><td>ppo</td></tr><tr><td>test/ann_return/a2c</td><td>14.29</td></tr><tr><td>test/ann_return/best_model</td><td>38.41</td></tr><tr><td>test/ann_return/ddpg</td><td>30.33</td></tr><tr><td>test/ann_return/ppo</td><td>38.41</td></tr><tr><td>test/ann_return/sac</td><td>3.37</td></tr><tr><td>test/ann_return/td3</td><td>-2.16</td></tr><tr><td>test/best_model_name</td><td>ppo</td></tr><tr><td>test/cum_return/a2c</td><td>3.2</td></tr><tr><td>test/cum_return/best_model</td><td>7.96</td></tr><tr><td>test/cum_return/ddpg</td><td>6.44</td></tr><tr><td>test/cum_return/ppo</td><td>7.96</td></tr><tr><td>test/cum_return/sac</td><td>0.78</td></tr><tr><td>test/cum_return/td3</td><td>-0.51</td></tr><tr><td>test/mdd/a2c</td><td>-4.71</td></tr><tr><td>test/mdd/best_model</td><td>-4.0</td></tr><tr><td>test/mdd/ddpg</td><td>-4.94</td></tr><tr><td>test/mdd/ppo</td><td>-4.0</td></tr><tr><td>test/mdd/sac</td><td>-4.87</td></tr><tr><td>test/mdd/td3</td><td>-4.1</td></tr><tr><td>test/sharpe_ratio/a2c</td><td>1.33</td></tr><tr><td>test/sharpe_ratio/best_model</td><td>3.36</td></tr><tr><td>test/sharpe_ratio/ddpg</td><td>2.69</td></tr><tr><td>test/sharpe_ratio/ppo</td><td>3.36</td></tr><tr><td>test/sharpe_ratio/sac</td><td>0.38</td></tr><tr><td>test/sharpe_ratio/td3</td><td>-0.16</td></tr></table><br/></div></div>"
            ]
          },
          "metadata": {}
        },
        {
          "output_type": "display_data",
          "data": {
            "text/plain": [
              "<IPython.core.display.HTML object>"
            ],
            "text/html": [
              " View run <strong style=\"color:#cdcd00\">DOW-30 | 2009-01 | 2016 Q4 | 2017 Q1 | 4o7R6</strong> at: <a href='https://wandb.ai/overfit1010/finrl-dt-replicate/runs/rizcli4c' target=\"_blank\">https://wandb.ai/overfit1010/finrl-dt-replicate/runs/rizcli4c</a><br> View project at: <a href='https://wandb.ai/overfit1010/finrl-dt-replicate' target=\"_blank\">https://wandb.ai/overfit1010/finrl-dt-replicate</a><br>Synced 5 W&B file(s), 0 media file(s), 0 artifact file(s) and 0 other file(s)"
            ]
          },
          "metadata": {}
        },
        {
          "output_type": "display_data",
          "data": {
            "text/plain": [
              "<IPython.core.display.HTML object>"
            ],
            "text/html": [
              "Find logs at: <code>./wandb/run-20250106_115159-rizcli4c/logs</code>"
            ]
          },
          "metadata": {}
        },
        {
          "output_type": "display_data",
          "data": {
            "text/plain": [
              "<IPython.core.display.HTML object>"
            ],
            "text/html": [
              "Tracking run with wandb version 0.19.1"
            ]
          },
          "metadata": {}
        },
        {
          "output_type": "display_data",
          "data": {
            "text/plain": [
              "<IPython.core.display.HTML object>"
            ],
            "text/html": [
              "Run data is saved locally in <code>/content/wandb/run-20250106_115213-g5hc85fb</code>"
            ]
          },
          "metadata": {}
        },
        {
          "output_type": "display_data",
          "data": {
            "text/plain": [
              "<IPython.core.display.HTML object>"
            ],
            "text/html": [
              "Resuming run <strong><a href='https://wandb.ai/overfit1010/finrl-dt-replicate/runs/g5hc85fb' target=\"_blank\">DOW-30 | 2009-01 | 2016 Q3 | 2016 Q4 | g8Rzs</a></strong> to <a href='https://wandb.ai/overfit1010/finrl-dt-replicate' target=\"_blank\">Weights & Biases</a> (<a href='https://wandb.me/developer-guide' target=\"_blank\">docs</a>)<br>Sweep page: <a href='https://wandb.ai/overfit1010/finrl-dt-replicate/sweeps/k43io2uh' target=\"_blank\">https://wandb.ai/overfit1010/finrl-dt-replicate/sweeps/k43io2uh</a>"
            ]
          },
          "metadata": {}
        },
        {
          "output_type": "display_data",
          "data": {
            "text/plain": [
              "<IPython.core.display.HTML object>"
            ],
            "text/html": [
              " View project at <a href='https://wandb.ai/overfit1010/finrl-dt-replicate' target=\"_blank\">https://wandb.ai/overfit1010/finrl-dt-replicate</a>"
            ]
          },
          "metadata": {}
        },
        {
          "output_type": "display_data",
          "data": {
            "text/plain": [
              "<IPython.core.display.HTML object>"
            ],
            "text/html": [
              " View sweep at <a href='https://wandb.ai/overfit1010/finrl-dt-replicate/sweeps/k43io2uh' target=\"_blank\">https://wandb.ai/overfit1010/finrl-dt-replicate/sweeps/k43io2uh</a>"
            ]
          },
          "metadata": {}
        },
        {
          "output_type": "display_data",
          "data": {
            "text/plain": [
              "<IPython.core.display.HTML object>"
            ],
            "text/html": [
              " View run at <a href='https://wandb.ai/overfit1010/finrl-dt-replicate/runs/g5hc85fb' target=\"_blank\">https://wandb.ai/overfit1010/finrl-dt-replicate/runs/g5hc85fb</a>"
            ]
          },
          "metadata": {}
        },
        {
          "output_type": "stream",
          "name": "stdout",
          "text": [
            "True\n"
          ]
        },
        {
          "output_type": "stream",
          "name": "stderr",
          "text": [
            "\u001b[34m\u001b[1mwandb\u001b[0m:   3 of 3 files downloaded.  \n",
            "\u001b[34m\u001b[1mwandb\u001b[0m:   5 of 5 files downloaded.  \n",
            "\u001b[34m\u001b[1mwandb\u001b[0m:   5 of 5 files downloaded.  \n",
            "\u001b[34m\u001b[1mwandb\u001b[0m:   5 of 5 files downloaded.  \n",
            "\u001b[34m\u001b[1mwandb\u001b[0m:   5 of 5 files downloaded.  \n",
            "\u001b[34m\u001b[1mwandb\u001b[0m:   5 of 5 files downloaded.  \n",
            "\u001b[34m\u001b[1mwandb\u001b[0m:   1 of 1 files downloaded.  \n"
          ]
        },
        {
          "output_type": "stream",
          "name": "stdout",
          "text": [
            "DEBUG trade end:2016-12-30\n",
            "Stock Dimension: 29, State Space: 291\n",
            "hit end!\n",
            "hit end!\n",
            "hit end!\n",
            "hit end!\n"
          ]
        },
        {
          "output_type": "stream",
          "name": "stderr",
          "text": [
            "\r[*********************100%***********************]  1 of 1 completed"
          ]
        },
        {
          "output_type": "stream",
          "name": "stdout",
          "text": [
            "hit end!\n",
            "2016-10-03\n",
            "2016-12-30\n",
            "Shape of DataFrame:  (62, 8)\n",
            "{'REFERNCE_PRICE_WINDOW_DAYS': 30, 'finetune': True, 'if_using_ddpg': True, 'cost_abs': 2.5, 'min_test_start_date': '2016-01-01', 'cost_pct': [0.010314179718673032, 0.009076606561755468, 0.008307067100246136, 0.015516293581809112, 0.006395481989312903, 0.0072110283262062785, 0.04249566955190291, 0.015979716445954528, 0.021738725278835313, 0.004222453318177087, 0.005968143721526647, 0.010896151366589463, 0.01093735188446354, 0.11420864277075855, 0.01665255165637118, 0.010252194206940846, 0.03947813656400475, 0.008462643895002689, 0.01919729692524921, 0.024719550845968045, 0.005734449144229167, 0.03210832438433615, 0.014379031318205482, 0.00982580254909786, 0.0044498520553265045, 0.007984135151425499, 0.05881990501271046, 0.270946766931955, 0.026832260273111815], 'dataset_name': 'DOW-30 | 2009-01 | 2016 Q3 | 2016 Q4', 'if_using_ppo': True, 'train_start_date': '2009-01-01', 'if_using_a2c': True, 'initial_amount': 50000, 'max_test_end_date': '2020-08-05', 'if_using_td3': True, 'REFERENCE_PRICE_END_DATE': '2024-12-21', 'train_params': {'td3': {'steps': 50000}, 'ddpg': {'steps': 50000}, 'a2c': {'steps': 50000}, 'ppo': {'steps': 200000}, 'sac': {'steps': 70000}}, 'dataset_type': 'quarterly_train_val_test', 'stock_index_name': 'DOW-30', 'if_using_sac': True, 'date_range': {'train_start_date': '2009-01-01 00:00:00', 'test_end_date': '2017-01-01 00:00:00', 'val_start_date': '2016-07-01 00:00:00', 'test_start_date': '2016-10-01 00:00:00'}}\n",
            "DEBUG (test): g5hc85fb\n",
            "DEBUG (test): updating best model based on sharpe_ratios: {}\n",
            "DEBUG (test): no models logged yet, new best model is current one: a2c\n",
            "DEBUG (test): g5hc85fb\n",
            "DEBUG (test): updating best model based on sharpe_ratios: {'a2c': 0.5}\n",
            "DEBUG (test): 2.17 (ddpg) > 0.5 (a2c). New best model: ddpg.\n",
            "DEBUG (test): g5hc85fb\n",
            "DEBUG (test): updating best model based on sharpe_ratios: {'a2c': 0.5, 'ddpg': 2.17}\n",
            "DEBUG (test): 1.72 (td3) <= 2.17 (ddpg). Not updating best model.\n",
            "DEBUG (test): g5hc85fb\n",
            "DEBUG (test): updating best model based on sharpe_ratios: {'a2c': 0.5, 'ddpg': 2.17, 'td3': 1.72}\n",
            "DEBUG (test): 4.64 (sac) > 2.17 (ddpg). New best model: sac.\n",
            "DEBUG (test): g5hc85fb\n",
            "DEBUG (test): updating best model based on sharpe_ratios: {'a2c': 0.5, 'ddpg': 2.17, 'td3': 1.72, 'sac': 4.64}\n",
            "DEBUG (test): 2.23 (ppo) <= 4.64 (sac). Not updating best model.\n"
          ]
        },
        {
          "output_type": "stream",
          "name": "stderr",
          "text": [
            "\n"
          ]
        },
        {
          "output_type": "display_data",
          "data": {
            "text/plain": [
              "<IPython.core.display.HTML object>"
            ],
            "text/html": []
          },
          "metadata": {}
        },
        {
          "output_type": "display_data",
          "data": {
            "text/plain": [
              "<IPython.core.display.HTML object>"
            ],
            "text/html": [
              "<br>    <style><br>        .wandb-row {<br>            display: flex;<br>            flex-direction: row;<br>            flex-wrap: wrap;<br>            justify-content: flex-start;<br>            width: 100%;<br>        }<br>        .wandb-col {<br>            display: flex;<br>            flex-direction: column;<br>            flex-basis: 100%;<br>            flex: 1;<br>            padding: 10px;<br>        }<br>    </style><br><div class=\"wandb-row\"><div class=\"wandb-col\"><h3>Run summary:</h3><br/><table class=\"wandb\"><tr><td>best_model_name</td><td>sac</td></tr><tr><td>test/ann_return/a2c</td><td>5.86</td></tr><tr><td>test/ann_return/best_model</td><td>57.72</td></tr><tr><td>test/ann_return/ddpg</td><td>28.89</td></tr><tr><td>test/ann_return/ppo</td><td>31.57</td></tr><tr><td>test/ann_return/sac</td><td>57.72</td></tr><tr><td>test/ann_return/td3</td><td>24.12</td></tr><tr><td>test/best_model_name</td><td>sac</td></tr><tr><td>test/cum_return/a2c</td><td>1.37</td></tr><tr><td>test/cum_return/best_model</td><td>11.47</td></tr><tr><td>test/cum_return/ddpg</td><td>6.24</td></tr><tr><td>test/cum_return/ppo</td><td>6.76</td></tr><tr><td>test/cum_return/sac</td><td>11.47</td></tr><tr><td>test/cum_return/td3</td><td>5.29</td></tr><tr><td>test/mdd/a2c</td><td>-6.66</td></tr><tr><td>test/mdd/best_model</td><td>-2.71</td></tr><tr><td>test/mdd/ddpg</td><td>-4.57</td></tr><tr><td>test/mdd/ppo</td><td>-4.08</td></tr><tr><td>test/mdd/sac</td><td>-2.71</td></tr><tr><td>test/mdd/td3</td><td>-5.61</td></tr><tr><td>test/sharpe_ratio/a2c</td><td>0.5</td></tr><tr><td>test/sharpe_ratio/best_model</td><td>4.64</td></tr><tr><td>test/sharpe_ratio/ddpg</td><td>2.17</td></tr><tr><td>test/sharpe_ratio/ppo</td><td>2.23</td></tr><tr><td>test/sharpe_ratio/sac</td><td>4.64</td></tr><tr><td>test/sharpe_ratio/td3</td><td>1.72</td></tr></table><br/></div></div>"
            ]
          },
          "metadata": {}
        },
        {
          "output_type": "display_data",
          "data": {
            "text/plain": [
              "<IPython.core.display.HTML object>"
            ],
            "text/html": [
              " View run <strong style=\"color:#cdcd00\">DOW-30 | 2009-01 | 2016 Q3 | 2016 Q4 | g8Rzs</strong> at: <a href='https://wandb.ai/overfit1010/finrl-dt-replicate/runs/g5hc85fb' target=\"_blank\">https://wandb.ai/overfit1010/finrl-dt-replicate/runs/g5hc85fb</a><br> View project at: <a href='https://wandb.ai/overfit1010/finrl-dt-replicate' target=\"_blank\">https://wandb.ai/overfit1010/finrl-dt-replicate</a><br>Synced 5 W&B file(s), 0 media file(s), 0 artifact file(s) and 0 other file(s)"
            ]
          },
          "metadata": {}
        },
        {
          "output_type": "display_data",
          "data": {
            "text/plain": [
              "<IPython.core.display.HTML object>"
            ],
            "text/html": [
              "Find logs at: <code>./wandb/run-20250106_115213-g5hc85fb/logs</code>"
            ]
          },
          "metadata": {}
        },
        {
          "output_type": "display_data",
          "data": {
            "text/plain": [
              "<IPython.core.display.HTML object>"
            ],
            "text/html": [
              "Tracking run with wandb version 0.19.1"
            ]
          },
          "metadata": {}
        },
        {
          "output_type": "display_data",
          "data": {
            "text/plain": [
              "<IPython.core.display.HTML object>"
            ],
            "text/html": [
              "Run data is saved locally in <code>/content/wandb/run-20250106_115226-ilv1yo6z</code>"
            ]
          },
          "metadata": {}
        },
        {
          "output_type": "display_data",
          "data": {
            "text/plain": [
              "<IPython.core.display.HTML object>"
            ],
            "text/html": [
              "Resuming run <strong><a href='https://wandb.ai/overfit1010/finrl-dt-replicate/runs/ilv1yo6z' target=\"_blank\">DOW-30 | 2009-01 | 2016 Q2 | 2016 Q3 | znbkR</a></strong> to <a href='https://wandb.ai/overfit1010/finrl-dt-replicate' target=\"_blank\">Weights & Biases</a> (<a href='https://wandb.me/developer-guide' target=\"_blank\">docs</a>)<br>Sweep page: <a href='https://wandb.ai/overfit1010/finrl-dt-replicate/sweeps/k43io2uh' target=\"_blank\">https://wandb.ai/overfit1010/finrl-dt-replicate/sweeps/k43io2uh</a>"
            ]
          },
          "metadata": {}
        },
        {
          "output_type": "display_data",
          "data": {
            "text/plain": [
              "<IPython.core.display.HTML object>"
            ],
            "text/html": [
              " View project at <a href='https://wandb.ai/overfit1010/finrl-dt-replicate' target=\"_blank\">https://wandb.ai/overfit1010/finrl-dt-replicate</a>"
            ]
          },
          "metadata": {}
        },
        {
          "output_type": "display_data",
          "data": {
            "text/plain": [
              "<IPython.core.display.HTML object>"
            ],
            "text/html": [
              " View sweep at <a href='https://wandb.ai/overfit1010/finrl-dt-replicate/sweeps/k43io2uh' target=\"_blank\">https://wandb.ai/overfit1010/finrl-dt-replicate/sweeps/k43io2uh</a>"
            ]
          },
          "metadata": {}
        },
        {
          "output_type": "display_data",
          "data": {
            "text/plain": [
              "<IPython.core.display.HTML object>"
            ],
            "text/html": [
              " View run at <a href='https://wandb.ai/overfit1010/finrl-dt-replicate/runs/ilv1yo6z' target=\"_blank\">https://wandb.ai/overfit1010/finrl-dt-replicate/runs/ilv1yo6z</a>"
            ]
          },
          "metadata": {}
        },
        {
          "output_type": "stream",
          "name": "stdout",
          "text": [
            "True\n"
          ]
        },
        {
          "output_type": "stream",
          "name": "stderr",
          "text": [
            "\u001b[34m\u001b[1mwandb\u001b[0m:   3 of 3 files downloaded.  \n",
            "\u001b[34m\u001b[1mwandb\u001b[0m:   5 of 5 files downloaded.  \n",
            "\u001b[34m\u001b[1mwandb\u001b[0m:   5 of 5 files downloaded.  \n",
            "\u001b[34m\u001b[1mwandb\u001b[0m:   5 of 5 files downloaded.  \n",
            "\u001b[34m\u001b[1mwandb\u001b[0m:   5 of 5 files downloaded.  \n",
            "\u001b[34m\u001b[1mwandb\u001b[0m:   5 of 5 files downloaded.  \n",
            "\u001b[34m\u001b[1mwandb\u001b[0m:   1 of 1 files downloaded.  \n"
          ]
        },
        {
          "output_type": "stream",
          "name": "stdout",
          "text": [
            "DEBUG trade end:2016-09-30\n",
            "Stock Dimension: 29, State Space: 291\n",
            "hit end!\n",
            "hit end!\n",
            "hit end!\n",
            "hit end!\n"
          ]
        },
        {
          "output_type": "stream",
          "name": "stderr",
          "text": [
            "\r[*********************100%***********************]  1 of 1 completed"
          ]
        },
        {
          "output_type": "stream",
          "name": "stdout",
          "text": [
            "hit end!\n",
            "2016-07-01\n",
            "2016-09-30\n",
            "Shape of DataFrame:  (63, 8)\n",
            "{'dataset_name': 'DOW-30 | 2009-01 | 2016 Q2 | 2016 Q3', 'cost_pct': [0.010314179718673032, 0.009076606561755468, 0.008307067100246136, 0.015516293581809112, 0.006395481989312903, 0.0072110283262062785, 0.04249566955190291, 0.015979716445954528, 0.021738725278835313, 0.004222453318177087, 0.005968143721526647, 0.010896151366589463, 0.01093735188446354, 0.11420864277075855, 0.01665255165637118, 0.010252194206940846, 0.03947813656400475, 0.008462643895002689, 0.01919729692524921, 0.024719550845968045, 0.005734449144229167, 0.03210832438433615, 0.014379031318205482, 0.00982580254909786, 0.0044498520553265045, 0.007984135151425499, 0.05881990501271046, 0.270946766931955, 0.026832260273111815], 'stock_index_name': 'DOW-30', 'if_using_td3': True, 'REFERENCE_PRICE_END_DATE': '2024-12-21', 'cost_abs': 2.5, 'finetune': True, 'date_range': {'val_start_date': '2016-04-01 00:00:00', 'test_start_date': '2016-07-01 00:00:00', 'train_start_date': '2009-01-01 00:00:00', 'test_end_date': '2016-10-01 00:00:00'}, 'if_using_sac': True, 'REFERNCE_PRICE_WINDOW_DAYS': 30, 'train_params': {'td3': {'steps': 50000}, 'ddpg': {'steps': 50000}, 'a2c': {'steps': 50000}, 'ppo': {'steps': 200000}, 'sac': {'steps': 70000}}, 'if_using_ddpg': True, 'max_test_end_date': '2020-08-05', 'train_start_date': '2009-01-01', 'if_using_ppo': True, 'initial_amount': 50000, 'min_test_start_date': '2016-01-01', 'dataset_type': 'quarterly_train_val_test', 'if_using_a2c': True}\n",
            "DEBUG (test): ilv1yo6z\n",
            "DEBUG (test): updating best model based on sharpe_ratios: {}\n",
            "DEBUG (test): no models logged yet, new best model is current one: a2c\n",
            "DEBUG (test): ilv1yo6z\n",
            "DEBUG (test): updating best model based on sharpe_ratios: {'a2c': 0.41}\n",
            "DEBUG (test): -0.2 (ddpg) <= 0.41 (a2c). Not updating best model.\n",
            "DEBUG (test): ilv1yo6z\n",
            "DEBUG (test): updating best model based on sharpe_ratios: {'a2c': 0.41, 'ddpg': -0.2}\n",
            "DEBUG (test): -1.78 (td3) <= 0.41 (a2c). Not updating best model.\n",
            "DEBUG (test): ilv1yo6z\n",
            "DEBUG (test): updating best model based on sharpe_ratios: {'a2c': 0.41, 'ddpg': -0.2, 'td3': -1.78}\n",
            "DEBUG (test): 0.49 (sac) > 0.41 (a2c). New best model: sac.\n",
            "DEBUG (test): ilv1yo6z\n",
            "DEBUG (test): updating best model based on sharpe_ratios: {'a2c': 0.41, 'ddpg': -0.2, 'td3': -1.78, 'sac': 0.49}\n",
            "DEBUG (test): -1.36 (ppo) <= 0.49 (sac). Not updating best model.\n"
          ]
        },
        {
          "output_type": "stream",
          "name": "stderr",
          "text": [
            "\n"
          ]
        },
        {
          "output_type": "display_data",
          "data": {
            "text/plain": [
              "<IPython.core.display.HTML object>"
            ],
            "text/html": []
          },
          "metadata": {}
        },
        {
          "output_type": "display_data",
          "data": {
            "text/plain": [
              "<IPython.core.display.HTML object>"
            ],
            "text/html": [
              "<br>    <style><br>        .wandb-row {<br>            display: flex;<br>            flex-direction: row;<br>            flex-wrap: wrap;<br>            justify-content: flex-start;<br>            width: 100%;<br>        }<br>        .wandb-col {<br>            display: flex;<br>            flex-direction: column;<br>            flex-basis: 100%;<br>            flex: 1;<br>            padding: 10px;<br>        }<br>    </style><br><div class=\"wandb-row\"><div class=\"wandb-col\"><h3>Run summary:</h3><br/><table class=\"wandb\"><tr><td>best_model_name</td><td>sac</td></tr><tr><td>test/ann_return/a2c</td><td>4.11</td></tr><tr><td>test/ann_return/best_model</td><td>4.84</td></tr><tr><td>test/ann_return/ddpg</td><td>-3.25</td></tr><tr><td>test/ann_return/ppo</td><td>-12.25</td></tr><tr><td>test/ann_return/sac</td><td>4.84</td></tr><tr><td>test/ann_return/td3</td><td>-23.11</td></tr><tr><td>test/best_model_name</td><td>sac</td></tr><tr><td>test/cum_return/a2c</td><td>1.0</td></tr><tr><td>test/cum_return/best_model</td><td>1.17</td></tr><tr><td>test/cum_return/ddpg</td><td>-0.81</td></tr><tr><td>test/cum_return/ppo</td><td>-3.17</td></tr><tr><td>test/cum_return/sac</td><td>1.17</td></tr><tr><td>test/cum_return/td3</td><td>-6.27</td></tr><tr><td>test/mdd/a2c</td><td>-3.5</td></tr><tr><td>test/mdd/best_model</td><td>-2.99</td></tr><tr><td>test/mdd/ddpg</td><td>-4.35</td></tr><tr><td>test/mdd/ppo</td><td>-5.93</td></tr><tr><td>test/mdd/sac</td><td>-2.99</td></tr><tr><td>test/mdd/td3</td><td>-7.11</td></tr><tr><td>test/sharpe_ratio/a2c</td><td>0.41</td></tr><tr><td>test/sharpe_ratio/best_model</td><td>0.49</td></tr><tr><td>test/sharpe_ratio/ddpg</td><td>-0.2</td></tr><tr><td>test/sharpe_ratio/ppo</td><td>-1.36</td></tr><tr><td>test/sharpe_ratio/sac</td><td>0.49</td></tr><tr><td>test/sharpe_ratio/td3</td><td>-1.78</td></tr></table><br/></div></div>"
            ]
          },
          "metadata": {}
        },
        {
          "output_type": "display_data",
          "data": {
            "text/plain": [
              "<IPython.core.display.HTML object>"
            ],
            "text/html": [
              " View run <strong style=\"color:#cdcd00\">DOW-30 | 2009-01 | 2016 Q2 | 2016 Q3 | znbkR</strong> at: <a href='https://wandb.ai/overfit1010/finrl-dt-replicate/runs/ilv1yo6z' target=\"_blank\">https://wandb.ai/overfit1010/finrl-dt-replicate/runs/ilv1yo6z</a><br> View project at: <a href='https://wandb.ai/overfit1010/finrl-dt-replicate' target=\"_blank\">https://wandb.ai/overfit1010/finrl-dt-replicate</a><br>Synced 5 W&B file(s), 0 media file(s), 0 artifact file(s) and 0 other file(s)"
            ]
          },
          "metadata": {}
        },
        {
          "output_type": "display_data",
          "data": {
            "text/plain": [
              "<IPython.core.display.HTML object>"
            ],
            "text/html": [
              "Find logs at: <code>./wandb/run-20250106_115226-ilv1yo6z/logs</code>"
            ]
          },
          "metadata": {}
        },
        {
          "output_type": "display_data",
          "data": {
            "text/plain": [
              "<IPython.core.display.HTML object>"
            ],
            "text/html": [
              "Tracking run with wandb version 0.19.1"
            ]
          },
          "metadata": {}
        },
        {
          "output_type": "display_data",
          "data": {
            "text/plain": [
              "<IPython.core.display.HTML object>"
            ],
            "text/html": [
              "Run data is saved locally in <code>/content/wandb/run-20250106_115239-z64rbpbl</code>"
            ]
          },
          "metadata": {}
        },
        {
          "output_type": "display_data",
          "data": {
            "text/plain": [
              "<IPython.core.display.HTML object>"
            ],
            "text/html": [
              "Resuming run <strong><a href='https://wandb.ai/overfit1010/finrl-dt-replicate/runs/z64rbpbl' target=\"_blank\">DOW-30 | 2009-01 | 2016 Q1 | 2016 Q2 | V0mXl</a></strong> to <a href='https://wandb.ai/overfit1010/finrl-dt-replicate' target=\"_blank\">Weights & Biases</a> (<a href='https://wandb.me/developer-guide' target=\"_blank\">docs</a>)<br>Sweep page: <a href='https://wandb.ai/overfit1010/finrl-dt-replicate/sweeps/k43io2uh' target=\"_blank\">https://wandb.ai/overfit1010/finrl-dt-replicate/sweeps/k43io2uh</a>"
            ]
          },
          "metadata": {}
        },
        {
          "output_type": "display_data",
          "data": {
            "text/plain": [
              "<IPython.core.display.HTML object>"
            ],
            "text/html": [
              " View project at <a href='https://wandb.ai/overfit1010/finrl-dt-replicate' target=\"_blank\">https://wandb.ai/overfit1010/finrl-dt-replicate</a>"
            ]
          },
          "metadata": {}
        },
        {
          "output_type": "display_data",
          "data": {
            "text/plain": [
              "<IPython.core.display.HTML object>"
            ],
            "text/html": [
              " View sweep at <a href='https://wandb.ai/overfit1010/finrl-dt-replicate/sweeps/k43io2uh' target=\"_blank\">https://wandb.ai/overfit1010/finrl-dt-replicate/sweeps/k43io2uh</a>"
            ]
          },
          "metadata": {}
        },
        {
          "output_type": "display_data",
          "data": {
            "text/plain": [
              "<IPython.core.display.HTML object>"
            ],
            "text/html": [
              " View run at <a href='https://wandb.ai/overfit1010/finrl-dt-replicate/runs/z64rbpbl' target=\"_blank\">https://wandb.ai/overfit1010/finrl-dt-replicate/runs/z64rbpbl</a>"
            ]
          },
          "metadata": {}
        },
        {
          "output_type": "stream",
          "name": "stdout",
          "text": [
            "True\n"
          ]
        },
        {
          "output_type": "stream",
          "name": "stderr",
          "text": [
            "\u001b[34m\u001b[1mwandb\u001b[0m:   3 of 3 files downloaded.  \n",
            "\u001b[34m\u001b[1mwandb\u001b[0m:   5 of 5 files downloaded.  \n",
            "\u001b[34m\u001b[1mwandb\u001b[0m:   5 of 5 files downloaded.  \n",
            "\u001b[34m\u001b[1mwandb\u001b[0m:   5 of 5 files downloaded.  \n",
            "\u001b[34m\u001b[1mwandb\u001b[0m:   5 of 5 files downloaded.  \n",
            "\u001b[34m\u001b[1mwandb\u001b[0m:   5 of 5 files downloaded.  \n",
            "\u001b[34m\u001b[1mwandb\u001b[0m:   1 of 1 files downloaded.  \n"
          ]
        },
        {
          "output_type": "stream",
          "name": "stdout",
          "text": [
            "DEBUG trade end:2016-06-30\n",
            "Stock Dimension: 29, State Space: 291\n",
            "hit end!\n",
            "hit end!\n",
            "hit end!\n",
            "hit end!\n"
          ]
        },
        {
          "output_type": "stream",
          "name": "stderr",
          "text": [
            "\r[*********************100%***********************]  1 of 1 completed"
          ]
        },
        {
          "output_type": "stream",
          "name": "stdout",
          "text": [
            "hit end!\n",
            "2016-04-01\n",
            "2016-06-30\n",
            "Shape of DataFrame:  (63, 8)\n",
            "{'if_using_ddpg': True, 'cost_pct': [0.010314179718673032, 0.009076606561755468, 0.008307067100246136, 0.015516293581809112, 0.006395481989312903, 0.0072110283262062785, 0.04249566955190291, 0.015979716445954528, 0.021738725278835313, 0.004222453318177087, 0.005968143721526647, 0.010896151366589463, 0.01093735188446354, 0.11420864277075855, 0.01665255165637118, 0.010252194206940846, 0.03947813656400475, 0.008462643895002689, 0.01919729692524921, 0.024719550845968045, 0.005734449144229167, 0.03210832438433615, 0.014379031318205482, 0.00982580254909786, 0.0044498520553265045, 0.007984135151425499, 0.05881990501271046, 0.270946766931955, 0.026832260273111815], 'initial_amount': 50000, 'dataset_name': 'DOW-30 | 2009-01 | 2016 Q1 | 2016 Q2', 'dataset_type': 'quarterly_train_val_test', 'max_test_end_date': '2020-08-05', 'min_test_start_date': '2016-01-01', 'if_using_a2c': True, 'cost_abs': 2.5, 'finetune': True, 'date_range': {'test_end_date': '2016-07-01 00:00:00', 'val_start_date': '2016-01-01 00:00:00', 'test_start_date': '2016-04-01 00:00:00', 'train_start_date': '2009-01-01 00:00:00'}, 'REFERNCE_PRICE_WINDOW_DAYS': 30, 'stock_index_name': 'DOW-30', 'if_using_sac': True, 'if_using_ppo': True, 'train_params': {'ddpg': {'steps': 50000}, 'a2c': {'steps': 50000}, 'ppo': {'steps': 200000}, 'sac': {'steps': 70000}, 'td3': {'steps': 50000}}, 'REFERENCE_PRICE_END_DATE': '2024-12-21', 'if_using_td3': True, 'train_start_date': '2009-01-01'}\n",
            "DEBUG (test): z64rbpbl\n",
            "DEBUG (test): updating best model based on sharpe_ratios: {}\n",
            "DEBUG (test): no models logged yet, new best model is current one: a2c\n",
            "DEBUG (test): z64rbpbl\n",
            "DEBUG (test): updating best model based on sharpe_ratios: {'a2c': -0.49}\n",
            "DEBUG (test): -0.09 (ddpg) > -0.49 (a2c). New best model: ddpg.\n",
            "DEBUG (test): z64rbpbl\n",
            "DEBUG (test): updating best model based on sharpe_ratios: {'a2c': -0.49, 'ddpg': -0.09}\n",
            "DEBUG (test): -0.62 (td3) <= -0.09 (ddpg). Not updating best model.\n",
            "DEBUG (test): z64rbpbl\n",
            "DEBUG (test): updating best model based on sharpe_ratios: {'a2c': -0.49, 'ddpg': -0.09, 'td3': -0.62}\n",
            "DEBUG (test): -0.93 (sac) <= -0.09 (ddpg). Not updating best model.\n",
            "DEBUG (test): z64rbpbl\n",
            "DEBUG (test): updating best model based on sharpe_ratios: {'a2c': -0.49, 'ddpg': -0.09, 'td3': -0.62, 'sac': -0.93}\n",
            "DEBUG (test): -0.06 (ppo) > -0.09 (ddpg). New best model: ppo.\n"
          ]
        },
        {
          "output_type": "stream",
          "name": "stderr",
          "text": [
            "\n"
          ]
        },
        {
          "output_type": "display_data",
          "data": {
            "text/plain": [
              "<IPython.core.display.HTML object>"
            ],
            "text/html": []
          },
          "metadata": {}
        },
        {
          "output_type": "display_data",
          "data": {
            "text/plain": [
              "<IPython.core.display.HTML object>"
            ],
            "text/html": [
              "<br>    <style><br>        .wandb-row {<br>            display: flex;<br>            flex-direction: row;<br>            flex-wrap: wrap;<br>            justify-content: flex-start;<br>            width: 100%;<br>        }<br>        .wandb-col {<br>            display: flex;<br>            flex-direction: column;<br>            flex-basis: 100%;<br>            flex: 1;<br>            padding: 10px;<br>        }<br>    </style><br><div class=\"wandb-row\"><div class=\"wandb-col\"><h3>Run summary:</h3><br/><table class=\"wandb\"><tr><td>best_model_name</td><td>ppo</td></tr><tr><td>test/ann_return/a2c</td><td>-7.25</td></tr><tr><td>test/ann_return/best_model</td><td>-13.69</td></tr><tr><td>test/ann_return/ddpg</td><td>-2.82</td></tr><tr><td>test/ann_return/ppo</td><td>-1.4</td></tr><tr><td>test/ann_return/sac</td><td>-13.69</td></tr><tr><td>test/ann_return/td3</td><td>-12.49</td></tr><tr><td>test/best_model_name</td><td>sac</td></tr><tr><td>test/cum_return/a2c</td><td>-1.82</td></tr><tr><td>test/cum_return/best_model</td><td>-3.53</td></tr><tr><td>test/cum_return/ddpg</td><td>-0.69</td></tr><tr><td>test/cum_return/ppo</td><td>-0.34</td></tr><tr><td>test/cum_return/sac</td><td>-3.53</td></tr><tr><td>test/cum_return/td3</td><td>-3.2</td></tr><tr><td>test/mdd/a2c</td><td>-6.1</td></tr><tr><td>test/mdd/best_model</td><td>-7.09</td></tr><tr><td>test/mdd/ddpg</td><td>-6.97</td></tr><tr><td>test/mdd/ppo</td><td>-4.58</td></tr><tr><td>test/mdd/sac</td><td>-7.09</td></tr><tr><td>test/mdd/td3</td><td>-6.9</td></tr><tr><td>test/sharpe_ratio/a2c</td><td>-0.49</td></tr><tr><td>test/sharpe_ratio/best_model</td><td>-0.93</td></tr><tr><td>test/sharpe_ratio/ddpg</td><td>-0.09</td></tr><tr><td>test/sharpe_ratio/ppo</td><td>-0.06</td></tr><tr><td>test/sharpe_ratio/sac</td><td>-0.93</td></tr><tr><td>test/sharpe_ratio/td3</td><td>-0.62</td></tr></table><br/></div></div>"
            ]
          },
          "metadata": {}
        },
        {
          "output_type": "display_data",
          "data": {
            "text/plain": [
              "<IPython.core.display.HTML object>"
            ],
            "text/html": [
              " View run <strong style=\"color:#cdcd00\">DOW-30 | 2009-01 | 2016 Q1 | 2016 Q2 | V0mXl</strong> at: <a href='https://wandb.ai/overfit1010/finrl-dt-replicate/runs/z64rbpbl' target=\"_blank\">https://wandb.ai/overfit1010/finrl-dt-replicate/runs/z64rbpbl</a><br> View project at: <a href='https://wandb.ai/overfit1010/finrl-dt-replicate' target=\"_blank\">https://wandb.ai/overfit1010/finrl-dt-replicate</a><br>Synced 5 W&B file(s), 0 media file(s), 0 artifact file(s) and 0 other file(s)"
            ]
          },
          "metadata": {}
        },
        {
          "output_type": "display_data",
          "data": {
            "text/plain": [
              "<IPython.core.display.HTML object>"
            ],
            "text/html": [
              "Find logs at: <code>./wandb/run-20250106_115239-z64rbpbl/logs</code>"
            ]
          },
          "metadata": {}
        },
        {
          "output_type": "display_data",
          "data": {
            "text/plain": [
              "<IPython.core.display.HTML object>"
            ],
            "text/html": [
              "Tracking run with wandb version 0.19.1"
            ]
          },
          "metadata": {}
        },
        {
          "output_type": "display_data",
          "data": {
            "text/plain": [
              "<IPython.core.display.HTML object>"
            ],
            "text/html": [
              "Run data is saved locally in <code>/content/wandb/run-20250106_115252-nmvowd2y</code>"
            ]
          },
          "metadata": {}
        },
        {
          "output_type": "display_data",
          "data": {
            "text/plain": [
              "<IPython.core.display.HTML object>"
            ],
            "text/html": [
              "Resuming run <strong><a href='https://wandb.ai/overfit1010/finrl-dt-replicate/runs/nmvowd2y' target=\"_blank\">DOW-30 | 2009-01 | 2015 Q4 | 2016 Q1 | VAjcS</a></strong> to <a href='https://wandb.ai/overfit1010/finrl-dt-replicate' target=\"_blank\">Weights & Biases</a> (<a href='https://wandb.me/developer-guide' target=\"_blank\">docs</a>)<br>Sweep page: <a href='https://wandb.ai/overfit1010/finrl-dt-replicate/sweeps/k43io2uh' target=\"_blank\">https://wandb.ai/overfit1010/finrl-dt-replicate/sweeps/k43io2uh</a>"
            ]
          },
          "metadata": {}
        },
        {
          "output_type": "display_data",
          "data": {
            "text/plain": [
              "<IPython.core.display.HTML object>"
            ],
            "text/html": [
              " View project at <a href='https://wandb.ai/overfit1010/finrl-dt-replicate' target=\"_blank\">https://wandb.ai/overfit1010/finrl-dt-replicate</a>"
            ]
          },
          "metadata": {}
        },
        {
          "output_type": "display_data",
          "data": {
            "text/plain": [
              "<IPython.core.display.HTML object>"
            ],
            "text/html": [
              " View sweep at <a href='https://wandb.ai/overfit1010/finrl-dt-replicate/sweeps/k43io2uh' target=\"_blank\">https://wandb.ai/overfit1010/finrl-dt-replicate/sweeps/k43io2uh</a>"
            ]
          },
          "metadata": {}
        },
        {
          "output_type": "display_data",
          "data": {
            "text/plain": [
              "<IPython.core.display.HTML object>"
            ],
            "text/html": [
              " View run at <a href='https://wandb.ai/overfit1010/finrl-dt-replicate/runs/nmvowd2y' target=\"_blank\">https://wandb.ai/overfit1010/finrl-dt-replicate/runs/nmvowd2y</a>"
            ]
          },
          "metadata": {}
        },
        {
          "output_type": "stream",
          "name": "stdout",
          "text": [
            "True\n"
          ]
        },
        {
          "output_type": "stream",
          "name": "stderr",
          "text": [
            "\u001b[34m\u001b[1mwandb\u001b[0m:   3 of 3 files downloaded.  \n",
            "\u001b[34m\u001b[1mwandb\u001b[0m:   1 of 1 files downloaded.  \n",
            "\u001b[34m\u001b[1mwandb\u001b[0m:   2 of 2 files downloaded.  \n",
            "\u001b[34m\u001b[1mwandb\u001b[0m:   3 of 3 files downloaded.  \n",
            "\u001b[34m\u001b[1mwandb\u001b[0m:   4 of 4 files downloaded.  \n",
            "\u001b[34m\u001b[1mwandb\u001b[0m:   5 of 5 files downloaded.  \n",
            "\u001b[34m\u001b[1mwandb\u001b[0m:   1 of 1 files downloaded.  \n"
          ]
        },
        {
          "output_type": "stream",
          "name": "stdout",
          "text": [
            "DEBUG trade end:2016-03-31\n",
            "Stock Dimension: 29, State Space: 291\n",
            "hit end!\n",
            "hit end!\n",
            "hit end!\n",
            "hit end!\n"
          ]
        },
        {
          "output_type": "stream",
          "name": "stderr",
          "text": [
            "\r[*********************100%***********************]  1 of 1 completed"
          ]
        },
        {
          "output_type": "stream",
          "name": "stdout",
          "text": [
            "hit end!\n",
            "2016-01-04\n",
            "2016-03-31\n",
            "Shape of DataFrame:  (60, 8)\n",
            "{'cost_pct': [0.010314179718673032, 0.009076606561755468, 0.008307067100246136, 0.015516293581809112, 0.006395481989312903, 0.0072110283262062785, 0.04249566955190291, 0.015979716445954528, 0.021738725278835313, 0.004222453318177087, 0.005968143721526647, 0.010896151366589463, 0.01093735188446354, 0.11420864277075855, 0.01665255165637118, 0.010252194206940846, 0.03947813656400475, 0.008462643895002689, 0.01919729692524921, 0.024719550845968045, 0.005734449144229167, 0.03210832438433615, 0.014379031318205482, 0.00982580254909786, 0.0044498520553265045, 0.007984135151425499, 0.05881990501271046, 0.270946766931955, 0.026832260273111815], 'dataset_type': 'quarterly_train_val_test', 'initial_amount': 50000, 'train_params': {'a2c': {'steps': 50000}, 'ppo': {'steps': 200000}, 'sac': {'steps': 70000}, 'td3': {'steps': 50000}, 'ddpg': {'steps': 50000}}, 'if_using_ddpg': True, 'dataset_name': 'DOW-30 | 2009-01 | 2015 Q4 | 2016 Q1', 'if_using_sac': True, 'max_test_end_date': '2020-08-05', 'REFERENCE_PRICE_END_DATE': '2024-12-21', 'cost_abs': 2.5, 'min_test_start_date': '2016-01-01', 'train_start_date': '2009-01-01', 'finetune': False, 'if_using_a2c': True, 'if_using_td3': True, 'REFERNCE_PRICE_WINDOW_DAYS': 30, 'date_range': {'test_end_date': '2016-04-01 00:00:00', 'val_start_date': '2015-10-01 00:00:00', 'test_start_date': '2016-01-01 00:00:00', 'train_start_date': '2009-01-01 00:00:00'}, 'if_using_ppo': True, 'stock_index_name': 'DOW-30'}\n",
            "DEBUG (test): nmvowd2y\n",
            "DEBUG (test): updating best model based on sharpe_ratios: {}\n",
            "DEBUG (test): no models logged yet, new best model is current one: a2c\n",
            "DEBUG (test): nmvowd2y\n",
            "DEBUG (test): updating best model based on sharpe_ratios: {'a2c': 1.19}\n",
            "DEBUG (test): -0.58 (ddpg) <= 1.19 (a2c). Not updating best model.\n",
            "DEBUG (test): nmvowd2y\n",
            "DEBUG (test): updating best model based on sharpe_ratios: {'a2c': 1.19, 'ddpg': -0.58}\n",
            "DEBUG (test): -0.21 (td3) <= 1.19 (a2c). Not updating best model.\n",
            "DEBUG (test): nmvowd2y\n",
            "DEBUG (test): updating best model based on sharpe_ratios: {'a2c': 1.19, 'ddpg': -0.58, 'td3': -0.21}\n",
            "DEBUG (test): 0.26 (sac) <= 1.19 (a2c). Not updating best model.\n",
            "DEBUG (test): nmvowd2y\n",
            "DEBUG (test): updating best model based on sharpe_ratios: {'a2c': 1.19, 'ddpg': -0.58, 'td3': -0.21, 'sac': 0.26}\n",
            "DEBUG (test): 0.04 (ppo) <= 1.19 (a2c). Not updating best model.\n"
          ]
        },
        {
          "output_type": "stream",
          "name": "stderr",
          "text": [
            "\n"
          ]
        },
        {
          "output_type": "display_data",
          "data": {
            "text/plain": [
              "<IPython.core.display.HTML object>"
            ],
            "text/html": []
          },
          "metadata": {}
        },
        {
          "output_type": "display_data",
          "data": {
            "text/plain": [
              "<IPython.core.display.HTML object>"
            ],
            "text/html": [
              "<br>    <style><br>        .wandb-row {<br>            display: flex;<br>            flex-direction: row;<br>            flex-wrap: wrap;<br>            justify-content: flex-start;<br>            width: 100%;<br>        }<br>        .wandb-col {<br>            display: flex;<br>            flex-direction: column;<br>            flex-basis: 100%;<br>            flex: 1;<br>            padding: 10px;<br>        }<br>    </style><br><div class=\"wandb-row\"><div class=\"wandb-col\"><h3>Run summary:</h3><br/><table class=\"wandb\"><tr><td>best_model_name</td><td>a2c</td></tr><tr><td>test/ann_return/a2c</td><td>20.46</td></tr><tr><td>test/ann_return/best_model</td><td>20.46</td></tr><tr><td>test/ann_return/ddpg</td><td>-16.13</td></tr><tr><td>test/ann_return/ppo</td><td>-0.68</td></tr><tr><td>test/ann_return/sac</td><td>3.3</td></tr><tr><td>test/ann_return/td3</td><td>-7.96</td></tr><tr><td>test/best_model_name</td><td>a2c</td></tr><tr><td>test/cum_return/a2c</td><td>4.48</td></tr><tr><td>test/cum_return/best_model</td><td>4.48</td></tr><tr><td>test/cum_return/ddpg</td><td>-4.06</td></tr><tr><td>test/cum_return/ppo</td><td>-0.16</td></tr><tr><td>test/cum_return/sac</td><td>0.77</td></tr><tr><td>test/cum_return/td3</td><td>-1.94</td></tr><tr><td>test/mdd/a2c</td><td>-8.64</td></tr><tr><td>test/mdd/best_model</td><td>-8.64</td></tr><tr><td>test/mdd/ddpg</td><td>-15.8</td></tr><tr><td>test/mdd/ppo</td><td>-9.58</td></tr><tr><td>test/mdd/sac</td><td>-11.43</td></tr><tr><td>test/mdd/td3</td><td>-16.22</td></tr><tr><td>test/sharpe_ratio/a2c</td><td>1.19</td></tr><tr><td>test/sharpe_ratio/best_model</td><td>1.19</td></tr><tr><td>test/sharpe_ratio/ddpg</td><td>-0.58</td></tr><tr><td>test/sharpe_ratio/ppo</td><td>0.04</td></tr><tr><td>test/sharpe_ratio/sac</td><td>0.26</td></tr><tr><td>test/sharpe_ratio/td3</td><td>-0.21</td></tr></table><br/></div></div>"
            ]
          },
          "metadata": {}
        },
        {
          "output_type": "display_data",
          "data": {
            "text/plain": [
              "<IPython.core.display.HTML object>"
            ],
            "text/html": [
              " View run <strong style=\"color:#cdcd00\">DOW-30 | 2009-01 | 2015 Q4 | 2016 Q1 | VAjcS</strong> at: <a href='https://wandb.ai/overfit1010/finrl-dt-replicate/runs/nmvowd2y' target=\"_blank\">https://wandb.ai/overfit1010/finrl-dt-replicate/runs/nmvowd2y</a><br> View project at: <a href='https://wandb.ai/overfit1010/finrl-dt-replicate' target=\"_blank\">https://wandb.ai/overfit1010/finrl-dt-replicate</a><br>Synced 5 W&B file(s), 0 media file(s), 0 artifact file(s) and 0 other file(s)"
            ]
          },
          "metadata": {}
        },
        {
          "output_type": "display_data",
          "data": {
            "text/plain": [
              "<IPython.core.display.HTML object>"
            ],
            "text/html": [
              "Find logs at: <code>./wandb/run-20250106_115252-nmvowd2y/logs</code>"
            ]
          },
          "metadata": {}
        }
      ],
      "source": [
        "from tqdm.notebook import tqdm\n",
        "\n",
        "##################\n",
        "\n",
        "api = wandb.Api()\n",
        "sweep = api.sweep(f'{ENTITY}/{PROJECT}/{SWEEP_ID}')\n",
        "\n",
        "for run in tqdm(sweep.runs):\n",
        "    run_prediction_and_log_metrics(run.id)\n",
        "    pass"
      ]
    },
    {
      "cell_type": "markdown",
      "metadata": {
        "id": "GyUsdkJ78eeC"
      },
      "source": [
        "# Fix metrics"
      ]
    },
    {
      "cell_type": "markdown",
      "source": [
        "## Compute cumulative metrics"
      ],
      "metadata": {
        "id": "Jn5pyF-tIheH"
      }
    },
    {
      "cell_type": "code",
      "source": [
        "SWEEP_ID = 'l9jr39py'\n",
        "\n",
        "api = wandb.Api()\n",
        "sweep = api.sweep(f'{ENTITY}/{PROJECT}/{SWEEP_ID}')"
      ],
      "metadata": {
        "id": "JvMndOzoJgTm"
      },
      "execution_count": null,
      "outputs": []
    },
    {
      "cell_type": "code",
      "source": [
        "for run in sweep.runs:\n",
        "    run = api.run(f'{ENTITY}/{PROJECT}/{run.id}')\n",
        "    break\n",
        "    # with wandb.init(project=PROJECT, entity=ENTITY, id=run_id, resume='must'):\n",
        "        # config = wandb.run.config\n",
        "\n"
      ],
      "metadata": {
        "colab": {
          "base_uri": "https://localhost:8080/"
        },
        "id": "3slTkqB9J4nO",
        "outputId": "6381a8bc-bc24-4fcc-8fcd-99bf68de65ef"
      },
      "execution_count": null,
      "outputs": [
        {
          "output_type": "stream",
          "name": "stdout",
          "text": [
            "True\n"
          ]
        }
      ]
    },
    {
      "cell_type": "code",
      "source": [
        "for each run in sweep.runs:\n",
        "    # for each model in models:\n",
        "        # update_cumulative_metrics()"
      ],
      "metadata": {
        "id": "08bLXg7WJpEN"
      },
      "execution_count": null,
      "outputs": []
    },
    {
      "cell_type": "code",
      "execution_count": null,
      "metadata": {
        "id": "EBC7C-KtImSq",
        "cellView": "form"
      },
      "outputs": [],
      "source": [
        "#@title run_prediction_and_log_metrics (cumulative)\n",
        "\n",
        "class CumulativeMetricsLogger():\n",
        "    def __init__(self, sweep_id):\n",
        "        # TODO: assert every run in sweep has same models enabled?\n",
        "        self.cum_result = pd.DataFrame() # start with empty results\n",
        "\n",
        "    def run_prediction_and_log_metrics(self, run_id):\n",
        "        with wandb.init(project=PROJECT, entity=ENTITY, id=run_id, resume='must'):\n",
        "            config = wandb.run.config\n",
        "\n",
        "            download_artifacts(run_id)\n",
        "            train, val, trade = load_data(config)\n",
        "            trade = fix_daily_index(trade)\n",
        "            print(f\"DEBUG trade end:{trade['date'].max()}\")\n",
        "\n",
        "            e_trade_gym = init_env(trade, config)\n",
        "            result = get_predictions(e_trade_gym, config)\n",
        "            result = add_djia_test(trade, result, config)\n",
        "\n",
        "            # Calculate and log normal metrics\n",
        "            metrics_df, metrics_summary_df, experiment_stats = calculate_metrics(result)\n",
        "            log_test_metrics(metrics_summary_df)\n",
        "            metrics_all = result_df_to_metrics_dict(metrics_summary_df)\n",
        "            for model_name, metrics in metrics_all.items():\n",
        "                update_best_model_metrics(metrics, model_name, 'test')\n",
        "\n",
        "            # Calculate and log cumulative metrics\n",
        "            self.cum_result = pd.concat([self.cum_result, result])\n",
        "            metrics_df, metrics_summary_df, experiment_stats = calculate_metrics(self.cum_result)\n",
        "            log_test_metrics(metrics_summary_df)\n",
        "            metrics_all = result_df_to_metrics_dict(metrics_summary_df)\n",
        "            for model_name, metrics in metrics_all.items():\n",
        "                update_best_model_metrics(metrics, model_name, 'test')\n",
        "\n",
        "            fig = plot_results(result, experiment_stats)\n",
        "            log_plot_as_artifact(fig, artifact_name_prefix=\"performance_comparison_DRL_agents\", artifact_type=\"plot\")"
      ]
    },
    {
      "cell_type": "code",
      "execution_count": null,
      "metadata": {
        "id": "2Kcveu9mIsQn"
      },
      "outputs": [],
      "source": [
        "from tqdm.notebook import tqdm\n",
        "\n",
        "##################\n",
        "\n",
        "api = wandb.Api()\n",
        "sweep = api.sweep(f'{ENTITY}/{PROJECT}/{SWEEP_ID}')\n",
        "\n",
        "for run in tqdm(sweep.runs):\n",
        "    run_prediction_and_log_metrics(run.id)\n",
        "    pass"
      ]
    },
    {
      "cell_type": "markdown",
      "metadata": {
        "id": "z-5AscFlaF4t"
      },
      "source": [
        "## Un-annualize Sharpe Ratio"
      ]
    },
    {
      "cell_type": "code",
      "execution_count": null,
      "metadata": {
        "colab": {
          "base_uri": "https://localhost:8080/"
        },
        "id": "3QZhFmSL_zAi",
        "outputId": "a1fb56d4-d5d8-47dc-96d1-a57e55b93273",
        "cellView": "form"
      },
      "outputs": [
        {
          "name": "stdout",
          "output_type": "stream",
          "text": [
            "Un-annualized Sharpe Ratio: 1.25\n"
          ]
        }
      ],
      "source": [
        "#@title unannualize_sharpe_ratio\n",
        "\n",
        "import numpy as np\n",
        "\n",
        "def unannualize_sharpe_ratio(annual_sharpe_ratio, days_in_period, days_in_year=252):\n",
        "    return annual_sharpe_ratio / np.sqrt(days_in_year / days_in_period)\n",
        "\n",
        "# Example usage\n",
        "annual_sharpe = 2.5\n",
        "days_in_period = 63  # e.g., for a quarter\n",
        "un_annualized_sharpe = unannualize_sharpe_ratio(annual_sharpe, days_in_period)\n",
        "print(f\"Un-annualized Sharpe Ratio: {un_annualized_sharpe}\")"
      ]
    },
    {
      "cell_type": "code",
      "execution_count": null,
      "metadata": {
        "id": "_D92mR-DC_r7",
        "cellView": "form"
      },
      "outputs": [],
      "source": [
        "#@title fix_sharpe_ratios\n",
        "\n",
        "def log_nested_metrics(run, key, new_value):\n",
        "    # Fetch existing metrics for the split\n",
        "    old_value = run.summary.get(key, {})\n",
        "\n",
        "    # Merge with new metrics\n",
        "    updated_metrics = {**old_value, **new_value}\n",
        "\n",
        "    # Log the merged metrics\n",
        "    wandb.log({key: updated_metrics})\n",
        "\n",
        "def fix_sharpe_ratios(run):\n",
        "    config = run.config\n",
        "    date_range = config['date_range']\n",
        "    days_per_split = {}\n",
        "\n",
        "    # Calculate days for the train split\n",
        "    days_per_split['train'] = (\n",
        "        pd.Timestamp(date_range['val_start_date']) - pd.Timestamp(date_range['train_start_date'])\n",
        "    ).days\n",
        "\n",
        "    # Calculate days for the validation split\n",
        "    days_per_split['val'] = (\n",
        "        pd.Timestamp(date_range['test_start_date']) - pd.Timestamp(date_range['val_start_date'])\n",
        "    ).days\n",
        "\n",
        "    # Calculate days for the test split\n",
        "    days_per_split['test'] = (\n",
        "        pd.Timestamp(date_range['test_end_date']) - pd.Timestamp(date_range['test_start_date'])\n",
        "    ).days\n",
        "\n",
        "    # # Add dummy data\n",
        "\n",
        "    # days_per_split['dummy'] = (\n",
        "    #     pd.Timestamp(date_range['test_end_date']) - pd.Timestamp(date_range['test_start_date'])\n",
        "    # ).days\n",
        "\n",
        "    # wandb.log({\n",
        "    #     'dummy': {\n",
        "    #         'sharpe_ratio/best_model': -1.135835450802152,\n",
        "    #         'sharpe_ratio/a2c': -1.135835450802152,\n",
        "    #     }\n",
        "    # })\n",
        "\n",
        "    # print(days_per_split)\n",
        "\n",
        "    for split_label, days_in_split in days_per_split.items():\n",
        "        if split_label in run.summary.keys():\n",
        "            sharpe_ratios = {key: value for key, value in run.summary._as_dict()[split_label].items() if key.startswith(f'sharpe_ratio/')}\n",
        "\n",
        "            # print()\n",
        "            # print(split_label)\n",
        "            # print(sharpe_ratios)\n",
        "            # display(run.summary._as_dict()[split_label])\n",
        "\n",
        "            for ann_key, sharpe_ratio in sharpe_ratios.items():\n",
        "                unann_sharpe_ratio = unannualize_sharpe_ratio(sharpe_ratio, days_in_split)\n",
        "                unann_key = f\"unann_{ann_key}\"\n",
        "\n",
        "                # Log the updated metrics to W&B\n",
        "                log_nested_metrics(run, split_label, {unann_key: unann_sharpe_ratio})\n",
        "        else:\n",
        "            print(f\"Skipping '{split_label}' split\")"
      ]
    },
    {
      "cell_type": "code",
      "execution_count": null,
      "metadata": {
        "id": "9kzdwD94BxPy",
        "cellView": "form"
      },
      "outputs": [],
      "source": [
        "#@title fix_sharpe_ratios_all (per RUN)\n",
        "\n",
        "# RUN_ID = 'zyokpqqt'\n",
        "\n",
        "# # if wandb.run is not None and RUN_ID != wandb.run.id:\n",
        "#     # wandb.finish()\n",
        "\n",
        "# wandb.finish()\n",
        "\n",
        "# run = wandb.init(id=RUN_ID, project=PROJECT, entity=ENTITY, resume=\"must\")\n",
        "\n",
        "# fix_sharpe_ratios(run)"
      ]
    },
    {
      "cell_type": "code",
      "execution_count": null,
      "metadata": {
        "colab": {
          "base_uri": "https://localhost:8080/",
          "height": 1000
        },
        "id": "PfPJTxDQmVs-",
        "outputId": "05eaa73c-db2e-40a9-8fb7-ff7a45414f09",
        "cellView": "form"
      },
      "outputs": [
        {
          "output_type": "stream",
          "name": "stdout",
          "text": [
            "True\n",
            "True\n",
            "True\n",
            "True\n",
            "True\n",
            "True\n",
            "True\n",
            "True\n",
            "True\n",
            "True\n"
          ]
        },
        {
          "output_type": "display_data",
          "data": {
            "text/plain": [
              "<IPython.core.display.HTML object>"
            ],
            "text/html": [
              "Tracking run with wandb version 0.19.1"
            ]
          },
          "metadata": {}
        },
        {
          "output_type": "display_data",
          "data": {
            "text/plain": [
              "<IPython.core.display.HTML object>"
            ],
            "text/html": [
              "Run data is saved locally in <code>/content/wandb/run-20250106_115458-lihccc7l</code>"
            ]
          },
          "metadata": {}
        },
        {
          "output_type": "display_data",
          "data": {
            "text/plain": [
              "<IPython.core.display.HTML object>"
            ],
            "text/html": [
              "Resuming run <strong><a href='https://wandb.ai/overfit1010/finrl-dt-replicate/runs/lihccc7l' target=\"_blank\">DOW-30 | 2009-01 | 2019 Q4 | 2020 Q1 | VleEx</a></strong> to <a href='https://wandb.ai/overfit1010/finrl-dt-replicate' target=\"_blank\">Weights & Biases</a> (<a href='https://wandb.me/developer-guide' target=\"_blank\">docs</a>)<br>Sweep page: <a href='https://wandb.ai/overfit1010/finrl-dt-replicate/sweeps/k43io2uh' target=\"_blank\">https://wandb.ai/overfit1010/finrl-dt-replicate/sweeps/k43io2uh</a>"
            ]
          },
          "metadata": {}
        },
        {
          "output_type": "display_data",
          "data": {
            "text/plain": [
              "<IPython.core.display.HTML object>"
            ],
            "text/html": [
              " View project at <a href='https://wandb.ai/overfit1010/finrl-dt-replicate' target=\"_blank\">https://wandb.ai/overfit1010/finrl-dt-replicate</a>"
            ]
          },
          "metadata": {}
        },
        {
          "output_type": "display_data",
          "data": {
            "text/plain": [
              "<IPython.core.display.HTML object>"
            ],
            "text/html": [
              " View sweep at <a href='https://wandb.ai/overfit1010/finrl-dt-replicate/sweeps/k43io2uh' target=\"_blank\">https://wandb.ai/overfit1010/finrl-dt-replicate/sweeps/k43io2uh</a>"
            ]
          },
          "metadata": {}
        },
        {
          "output_type": "display_data",
          "data": {
            "text/plain": [
              "<IPython.core.display.HTML object>"
            ],
            "text/html": [
              " View run at <a href='https://wandb.ai/overfit1010/finrl-dt-replicate/runs/lihccc7l' target=\"_blank\">https://wandb.ai/overfit1010/finrl-dt-replicate/runs/lihccc7l</a>"
            ]
          },
          "metadata": {}
        },
        {
          "output_type": "stream",
          "name": "stdout",
          "text": [
            "Skipping 'dummy' split\n"
          ]
        },
        {
          "output_type": "display_data",
          "data": {
            "text/plain": [
              "<IPython.core.display.HTML object>"
            ],
            "text/html": []
          },
          "metadata": {}
        },
        {
          "output_type": "display_data",
          "data": {
            "text/plain": [
              "<IPython.core.display.HTML object>"
            ],
            "text/html": [
              "<br>    <style><br>        .wandb-row {<br>            display: flex;<br>            flex-direction: row;<br>            flex-wrap: wrap;<br>            justify-content: flex-start;<br>            width: 100%;<br>        }<br>        .wandb-col {<br>            display: flex;<br>            flex-direction: column;<br>            flex-basis: 100%;<br>            flex: 1;<br>            padding: 10px;<br>        }<br>    </style><br><div class=\"wandb-row\"><div class=\"wandb-col\"><h3>Run summary:</h3><br/><table class=\"wandb\"><tr><td>best_model_name</td><td>ppo</td></tr><tr><td>test/ann_return/a2c</td><td>-68.06</td></tr><tr><td>test/ann_return/best_model</td><td>-68.06</td></tr><tr><td>test/ann_return/ddpg</td><td>-62.82</td></tr><tr><td>test/ann_return/ppo</td><td>-30.44</td></tr><tr><td>test/ann_return/sac</td><td>-75.24</td></tr><tr><td>test/ann_return/td3</td><td>-61.1</td></tr><tr><td>test/best_model_name</td><td>a2c</td></tr><tr><td>test/cum_return/a2c</td><td>-24.05</td></tr><tr><td>test/cum_return/best_model</td><td>-24.05</td></tr><tr><td>test/cum_return/ddpg</td><td>-21.22</td></tr><tr><td>test/cum_return/ppo</td><td>-8.38</td></tr><tr><td>test/cum_return/sac</td><td>-28.58</td></tr><tr><td>test/cum_return/td3</td><td>-20.36</td></tr><tr><td>test/mdd/a2c</td><td>-30.23</td></tr><tr><td>test/mdd/best_model</td><td>-30.23</td></tr><tr><td>test/mdd/ddpg</td><td>-33.11</td></tr><tr><td>test/mdd/ppo</td><td>-21.26</td></tr><tr><td>test/mdd/sac</td><td>-44.57</td></tr><tr><td>test/mdd/td3</td><td>-29.84</td></tr><tr><td>test/sharpe_ratio/a2c</td><td>-2.05</td></tr><tr><td>test/sharpe_ratio/best_model</td><td>-2.05</td></tr><tr><td>test/sharpe_ratio/ddpg</td><td>-1.61</td></tr><tr><td>test/sharpe_ratio/ppo</td><td>-0.5</td></tr><tr><td>test/sharpe_ratio/sac</td><td>-1.75</td></tr><tr><td>test/sharpe_ratio/td3</td><td>-1.55</td></tr></table><br/></div></div>"
            ]
          },
          "metadata": {}
        },
        {
          "output_type": "display_data",
          "data": {
            "text/plain": [
              "<IPython.core.display.HTML object>"
            ],
            "text/html": [
              " View run <strong style=\"color:#cdcd00\">DOW-30 | 2009-01 | 2019 Q4 | 2020 Q1 | VleEx</strong> at: <a href='https://wandb.ai/overfit1010/finrl-dt-replicate/runs/lihccc7l' target=\"_blank\">https://wandb.ai/overfit1010/finrl-dt-replicate/runs/lihccc7l</a><br> View project at: <a href='https://wandb.ai/overfit1010/finrl-dt-replicate' target=\"_blank\">https://wandb.ai/overfit1010/finrl-dt-replicate</a><br>Synced 5 W&B file(s), 0 media file(s), 0 artifact file(s) and 0 other file(s)"
            ]
          },
          "metadata": {}
        },
        {
          "output_type": "display_data",
          "data": {
            "text/plain": [
              "<IPython.core.display.HTML object>"
            ],
            "text/html": [
              "Find logs at: <code>./wandb/run-20250106_115458-lihccc7l/logs</code>"
            ]
          },
          "metadata": {}
        },
        {
          "output_type": "display_data",
          "data": {
            "text/plain": [
              "<IPython.core.display.HTML object>"
            ],
            "text/html": [
              "Tracking run with wandb version 0.19.1"
            ]
          },
          "metadata": {}
        },
        {
          "output_type": "display_data",
          "data": {
            "text/plain": [
              "<IPython.core.display.HTML object>"
            ],
            "text/html": [
              "Run data is saved locally in <code>/content/wandb/run-20250106_115502-29wfsdq0</code>"
            ]
          },
          "metadata": {}
        },
        {
          "output_type": "display_data",
          "data": {
            "text/plain": [
              "<IPython.core.display.HTML object>"
            ],
            "text/html": [
              "Resuming run <strong><a href='https://wandb.ai/overfit1010/finrl-dt-replicate/runs/29wfsdq0' target=\"_blank\">DOW-30 | 2009-01 | 2019 Q3 | 2019 Q4 | n2Rmh</a></strong> to <a href='https://wandb.ai/overfit1010/finrl-dt-replicate' target=\"_blank\">Weights & Biases</a> (<a href='https://wandb.me/developer-guide' target=\"_blank\">docs</a>)<br>Sweep page: <a href='https://wandb.ai/overfit1010/finrl-dt-replicate/sweeps/k43io2uh' target=\"_blank\">https://wandb.ai/overfit1010/finrl-dt-replicate/sweeps/k43io2uh</a>"
            ]
          },
          "metadata": {}
        },
        {
          "output_type": "display_data",
          "data": {
            "text/plain": [
              "<IPython.core.display.HTML object>"
            ],
            "text/html": [
              " View project at <a href='https://wandb.ai/overfit1010/finrl-dt-replicate' target=\"_blank\">https://wandb.ai/overfit1010/finrl-dt-replicate</a>"
            ]
          },
          "metadata": {}
        },
        {
          "output_type": "display_data",
          "data": {
            "text/plain": [
              "<IPython.core.display.HTML object>"
            ],
            "text/html": [
              " View sweep at <a href='https://wandb.ai/overfit1010/finrl-dt-replicate/sweeps/k43io2uh' target=\"_blank\">https://wandb.ai/overfit1010/finrl-dt-replicate/sweeps/k43io2uh</a>"
            ]
          },
          "metadata": {}
        },
        {
          "output_type": "display_data",
          "data": {
            "text/plain": [
              "<IPython.core.display.HTML object>"
            ],
            "text/html": [
              " View run at <a href='https://wandb.ai/overfit1010/finrl-dt-replicate/runs/29wfsdq0' target=\"_blank\">https://wandb.ai/overfit1010/finrl-dt-replicate/runs/29wfsdq0</a>"
            ]
          },
          "metadata": {}
        },
        {
          "output_type": "stream",
          "name": "stdout",
          "text": [
            "Skipping 'dummy' split\n"
          ]
        },
        {
          "output_type": "display_data",
          "data": {
            "text/plain": [
              "<IPython.core.display.HTML object>"
            ],
            "text/html": []
          },
          "metadata": {}
        },
        {
          "output_type": "display_data",
          "data": {
            "text/plain": [
              "<IPython.core.display.HTML object>"
            ],
            "text/html": [
              "<br>    <style><br>        .wandb-row {<br>            display: flex;<br>            flex-direction: row;<br>            flex-wrap: wrap;<br>            justify-content: flex-start;<br>            width: 100%;<br>        }<br>        .wandb-col {<br>            display: flex;<br>            flex-direction: column;<br>            flex-basis: 100%;<br>            flex: 1;<br>            padding: 10px;<br>        }<br>    </style><br><div class=\"wandb-row\"><div class=\"wandb-col\"><h3>Run summary:</h3><br/><table class=\"wandb\"><tr><td>best_model_name</td><td>ppo</td></tr><tr><td>test/ann_return/a2c</td><td>23.69</td></tr><tr><td>test/ann_return/best_model</td><td>60.99</td></tr><tr><td>test/ann_return/ddpg</td><td>41.26</td></tr><tr><td>test/ann_return/ppo</td><td>60.99</td></tr><tr><td>test/ann_return/sac</td><td>-23.35</td></tr><tr><td>test/ann_return/td3</td><td>53.12</td></tr><tr><td>test/best_model_name</td><td>ppo</td></tr><tr><td>test/cum_return/a2c</td><td>5.38</td></tr><tr><td>test/cum_return/best_model</td><td>12.46</td></tr><tr><td>test/cum_return/ddpg</td><td>8.89</td></tr><tr><td>test/cum_return/ppo</td><td>12.46</td></tr><tr><td>test/cum_return/sac</td><td>-6.35</td></tr><tr><td>test/cum_return/td3</td><td>11.08</td></tr><tr><td>test/mdd/a2c</td><td>-3.79</td></tr><tr><td>test/mdd/best_model</td><td>-2.76</td></tr><tr><td>test/mdd/ddpg</td><td>-3.36</td></tr><tr><td>test/mdd/ppo</td><td>-2.76</td></tr><tr><td>test/mdd/sac</td><td>-9.52</td></tr><tr><td>test/mdd/td3</td><td>-3.38</td></tr><tr><td>test/sharpe_ratio/a2c</td><td>1.77</td></tr><tr><td>test/sharpe_ratio/best_model</td><td>3.85</td></tr><tr><td>test/sharpe_ratio/ddpg</td><td>2.64</td></tr><tr><td>test/sharpe_ratio/ppo</td><td>3.85</td></tr><tr><td>test/sharpe_ratio/sac</td><td>-1.11</td></tr><tr><td>test/sharpe_ratio/td3</td><td>3.59</td></tr></table><br/></div></div>"
            ]
          },
          "metadata": {}
        },
        {
          "output_type": "display_data",
          "data": {
            "text/plain": [
              "<IPython.core.display.HTML object>"
            ],
            "text/html": [
              " View run <strong style=\"color:#cdcd00\">DOW-30 | 2009-01 | 2019 Q3 | 2019 Q4 | n2Rmh</strong> at: <a href='https://wandb.ai/overfit1010/finrl-dt-replicate/runs/29wfsdq0' target=\"_blank\">https://wandb.ai/overfit1010/finrl-dt-replicate/runs/29wfsdq0</a><br> View project at: <a href='https://wandb.ai/overfit1010/finrl-dt-replicate' target=\"_blank\">https://wandb.ai/overfit1010/finrl-dt-replicate</a><br>Synced 5 W&B file(s), 0 media file(s), 0 artifact file(s) and 0 other file(s)"
            ]
          },
          "metadata": {}
        },
        {
          "output_type": "display_data",
          "data": {
            "text/plain": [
              "<IPython.core.display.HTML object>"
            ],
            "text/html": [
              "Find logs at: <code>./wandb/run-20250106_115502-29wfsdq0/logs</code>"
            ]
          },
          "metadata": {}
        },
        {
          "output_type": "display_data",
          "data": {
            "text/plain": [
              "<IPython.core.display.HTML object>"
            ],
            "text/html": [
              "Tracking run with wandb version 0.19.1"
            ]
          },
          "metadata": {}
        },
        {
          "output_type": "display_data",
          "data": {
            "text/plain": [
              "<IPython.core.display.HTML object>"
            ],
            "text/html": [
              "Run data is saved locally in <code>/content/wandb/run-20250106_115507-5kmr481u</code>"
            ]
          },
          "metadata": {}
        },
        {
          "output_type": "display_data",
          "data": {
            "text/plain": [
              "<IPython.core.display.HTML object>"
            ],
            "text/html": [
              "Resuming run <strong><a href='https://wandb.ai/overfit1010/finrl-dt-replicate/runs/5kmr481u' target=\"_blank\">DOW-30 | 2009-01 | 2019 Q2 | 2019 Q3 | tvBU7</a></strong> to <a href='https://wandb.ai/overfit1010/finrl-dt-replicate' target=\"_blank\">Weights & Biases</a> (<a href='https://wandb.me/developer-guide' target=\"_blank\">docs</a>)<br>Sweep page: <a href='https://wandb.ai/overfit1010/finrl-dt-replicate/sweeps/k43io2uh' target=\"_blank\">https://wandb.ai/overfit1010/finrl-dt-replicate/sweeps/k43io2uh</a>"
            ]
          },
          "metadata": {}
        },
        {
          "output_type": "display_data",
          "data": {
            "text/plain": [
              "<IPython.core.display.HTML object>"
            ],
            "text/html": [
              " View project at <a href='https://wandb.ai/overfit1010/finrl-dt-replicate' target=\"_blank\">https://wandb.ai/overfit1010/finrl-dt-replicate</a>"
            ]
          },
          "metadata": {}
        },
        {
          "output_type": "display_data",
          "data": {
            "text/plain": [
              "<IPython.core.display.HTML object>"
            ],
            "text/html": [
              " View sweep at <a href='https://wandb.ai/overfit1010/finrl-dt-replicate/sweeps/k43io2uh' target=\"_blank\">https://wandb.ai/overfit1010/finrl-dt-replicate/sweeps/k43io2uh</a>"
            ]
          },
          "metadata": {}
        },
        {
          "output_type": "display_data",
          "data": {
            "text/plain": [
              "<IPython.core.display.HTML object>"
            ],
            "text/html": [
              " View run at <a href='https://wandb.ai/overfit1010/finrl-dt-replicate/runs/5kmr481u' target=\"_blank\">https://wandb.ai/overfit1010/finrl-dt-replicate/runs/5kmr481u</a>"
            ]
          },
          "metadata": {}
        },
        {
          "output_type": "stream",
          "name": "stdout",
          "text": [
            "Skipping 'dummy' split\n"
          ]
        },
        {
          "output_type": "display_data",
          "data": {
            "text/plain": [
              "<IPython.core.display.HTML object>"
            ],
            "text/html": []
          },
          "metadata": {}
        },
        {
          "output_type": "display_data",
          "data": {
            "text/plain": [
              "<IPython.core.display.HTML object>"
            ],
            "text/html": [
              "<br>    <style><br>        .wandb-row {<br>            display: flex;<br>            flex-direction: row;<br>            flex-wrap: wrap;<br>            justify-content: flex-start;<br>            width: 100%;<br>        }<br>        .wandb-col {<br>            display: flex;<br>            flex-direction: column;<br>            flex-basis: 100%;<br>            flex: 1;<br>            padding: 10px;<br>        }<br>    </style><br><div class=\"wandb-row\"><div class=\"wandb-col\"><h3>Run summary:</h3><br/><table class=\"wandb\"><tr><td>best_model_name</td><td>sac</td></tr><tr><td>test/ann_return/a2c</td><td>10.63</td></tr><tr><td>test/ann_return/best_model</td><td>22.49</td></tr><tr><td>test/ann_return/ddpg</td><td>2.79</td></tr><tr><td>test/ann_return/ppo</td><td>-5.3</td></tr><tr><td>test/ann_return/sac</td><td>22.49</td></tr><tr><td>test/ann_return/td3</td><td>9.49</td></tr><tr><td>test/best_model_name</td><td>sac</td></tr><tr><td>test/cum_return/a2c</td><td>2.46</td></tr><tr><td>test/cum_return/best_model</td><td>5.01</td></tr><tr><td>test/cum_return/ddpg</td><td>0.67</td></tr><tr><td>test/cum_return/ppo</td><td>-1.3</td></tr><tr><td>test/cum_return/sac</td><td>5.01</td></tr><tr><td>test/cum_return/td3</td><td>2.21</td></tr><tr><td>test/mdd/a2c</td><td>-5.27</td></tr><tr><td>test/mdd/best_model</td><td>-10.15</td></tr><tr><td>test/mdd/ddpg</td><td>-9.84</td></tr><tr><td>test/mdd/ppo</td><td>-4.97</td></tr><tr><td>test/mdd/sac</td><td>-10.15</td></tr><tr><td>test/mdd/td3</td><td>-4.8</td></tr><tr><td>test/sharpe_ratio/a2c</td><td>0.7</td></tr><tr><td>test/sharpe_ratio/best_model</td><td>1.02</td></tr><tr><td>test/sharpe_ratio/ddpg</td><td>0.24</td></tr><tr><td>test/sharpe_ratio/ppo</td><td>-0.26</td></tr><tr><td>test/sharpe_ratio/sac</td><td>1.02</td></tr><tr><td>test/sharpe_ratio/td3</td><td>0.64</td></tr></table><br/></div></div>"
            ]
          },
          "metadata": {}
        },
        {
          "output_type": "display_data",
          "data": {
            "text/plain": [
              "<IPython.core.display.HTML object>"
            ],
            "text/html": [
              " View run <strong style=\"color:#cdcd00\">DOW-30 | 2009-01 | 2019 Q2 | 2019 Q3 | tvBU7</strong> at: <a href='https://wandb.ai/overfit1010/finrl-dt-replicate/runs/5kmr481u' target=\"_blank\">https://wandb.ai/overfit1010/finrl-dt-replicate/runs/5kmr481u</a><br> View project at: <a href='https://wandb.ai/overfit1010/finrl-dt-replicate' target=\"_blank\">https://wandb.ai/overfit1010/finrl-dt-replicate</a><br>Synced 5 W&B file(s), 0 media file(s), 0 artifact file(s) and 0 other file(s)"
            ]
          },
          "metadata": {}
        },
        {
          "output_type": "display_data",
          "data": {
            "text/plain": [
              "<IPython.core.display.HTML object>"
            ],
            "text/html": [
              "Find logs at: <code>./wandb/run-20250106_115507-5kmr481u/logs</code>"
            ]
          },
          "metadata": {}
        },
        {
          "output_type": "display_data",
          "data": {
            "text/plain": [
              "<IPython.core.display.HTML object>"
            ],
            "text/html": [
              "Tracking run with wandb version 0.19.1"
            ]
          },
          "metadata": {}
        },
        {
          "output_type": "display_data",
          "data": {
            "text/plain": [
              "<IPython.core.display.HTML object>"
            ],
            "text/html": [
              "Run data is saved locally in <code>/content/wandb/run-20250106_115512-8zeoyh95</code>"
            ]
          },
          "metadata": {}
        },
        {
          "output_type": "display_data",
          "data": {
            "text/plain": [
              "<IPython.core.display.HTML object>"
            ],
            "text/html": [
              "Resuming run <strong><a href='https://wandb.ai/overfit1010/finrl-dt-replicate/runs/8zeoyh95' target=\"_blank\">DOW-30 | 2009-01 | 2019 Q1 | 2019 Q2 | YmU2o</a></strong> to <a href='https://wandb.ai/overfit1010/finrl-dt-replicate' target=\"_blank\">Weights & Biases</a> (<a href='https://wandb.me/developer-guide' target=\"_blank\">docs</a>)<br>Sweep page: <a href='https://wandb.ai/overfit1010/finrl-dt-replicate/sweeps/k43io2uh' target=\"_blank\">https://wandb.ai/overfit1010/finrl-dt-replicate/sweeps/k43io2uh</a>"
            ]
          },
          "metadata": {}
        },
        {
          "output_type": "display_data",
          "data": {
            "text/plain": [
              "<IPython.core.display.HTML object>"
            ],
            "text/html": [
              " View project at <a href='https://wandb.ai/overfit1010/finrl-dt-replicate' target=\"_blank\">https://wandb.ai/overfit1010/finrl-dt-replicate</a>"
            ]
          },
          "metadata": {}
        },
        {
          "output_type": "display_data",
          "data": {
            "text/plain": [
              "<IPython.core.display.HTML object>"
            ],
            "text/html": [
              " View sweep at <a href='https://wandb.ai/overfit1010/finrl-dt-replicate/sweeps/k43io2uh' target=\"_blank\">https://wandb.ai/overfit1010/finrl-dt-replicate/sweeps/k43io2uh</a>"
            ]
          },
          "metadata": {}
        },
        {
          "output_type": "display_data",
          "data": {
            "text/plain": [
              "<IPython.core.display.HTML object>"
            ],
            "text/html": [
              " View run at <a href='https://wandb.ai/overfit1010/finrl-dt-replicate/runs/8zeoyh95' target=\"_blank\">https://wandb.ai/overfit1010/finrl-dt-replicate/runs/8zeoyh95</a>"
            ]
          },
          "metadata": {}
        },
        {
          "output_type": "stream",
          "name": "stdout",
          "text": [
            "Skipping 'dummy' split\n"
          ]
        },
        {
          "output_type": "display_data",
          "data": {
            "text/plain": [
              "<IPython.core.display.HTML object>"
            ],
            "text/html": []
          },
          "metadata": {}
        },
        {
          "output_type": "display_data",
          "data": {
            "text/plain": [
              "<IPython.core.display.HTML object>"
            ],
            "text/html": [
              "<br>    <style><br>        .wandb-row {<br>            display: flex;<br>            flex-direction: row;<br>            flex-wrap: wrap;<br>            justify-content: flex-start;<br>            width: 100%;<br>        }<br>        .wandb-col {<br>            display: flex;<br>            flex-direction: column;<br>            flex-basis: 100%;<br>            flex: 1;<br>            padding: 10px;<br>        }<br>    </style><br><div class=\"wandb-row\"><div class=\"wandb-col\"><h3>Run summary:</h3><br/><table class=\"wandb\"><tr><td>best_model_name</td><td>ddpg</td></tr><tr><td>test/ann_return/a2c</td><td>11.98</td></tr><tr><td>test/ann_return/best_model</td><td>17.96</td></tr><tr><td>test/ann_return/ddpg</td><td>17.96</td></tr><tr><td>test/ann_return/ppo</td><td>11.98</td></tr><tr><td>test/ann_return/sac</td><td>3.58</td></tr><tr><td>test/ann_return/td3</td><td>8.06</td></tr><tr><td>test/best_model_name</td><td>ddpg</td></tr><tr><td>test/cum_return/a2c</td><td>2.73</td></tr><tr><td>test/cum_return/best_model</td><td>4.01</td></tr><tr><td>test/cum_return/ddpg</td><td>4.01</td></tr><tr><td>test/cum_return/ppo</td><td>2.73</td></tr><tr><td>test/cum_return/sac</td><td>0.84</td></tr><tr><td>test/cum_return/td3</td><td>1.87</td></tr><tr><td>test/mdd/a2c</td><td>-4.29</td></tr><tr><td>test/mdd/best_model</td><td>-5.86</td></tr><tr><td>test/mdd/ddpg</td><td>-5.86</td></tr><tr><td>test/mdd/ppo</td><td>-4.29</td></tr><tr><td>test/mdd/sac</td><td>-9.04</td></tr><tr><td>test/mdd/td3</td><td>-4.67</td></tr><tr><td>test/sharpe_ratio/a2c</td><td>0.84</td></tr><tr><td>test/sharpe_ratio/best_model</td><td>1.49</td></tr><tr><td>test/sharpe_ratio/ddpg</td><td>1.49</td></tr><tr><td>test/sharpe_ratio/ppo</td><td>0.84</td></tr><tr><td>test/sharpe_ratio/sac</td><td>0.31</td></tr><tr><td>test/sharpe_ratio/td3</td><td>0.74</td></tr></table><br/></div></div>"
            ]
          },
          "metadata": {}
        },
        {
          "output_type": "display_data",
          "data": {
            "text/plain": [
              "<IPython.core.display.HTML object>"
            ],
            "text/html": [
              " View run <strong style=\"color:#cdcd00\">DOW-30 | 2009-01 | 2019 Q1 | 2019 Q2 | YmU2o</strong> at: <a href='https://wandb.ai/overfit1010/finrl-dt-replicate/runs/8zeoyh95' target=\"_blank\">https://wandb.ai/overfit1010/finrl-dt-replicate/runs/8zeoyh95</a><br> View project at: <a href='https://wandb.ai/overfit1010/finrl-dt-replicate' target=\"_blank\">https://wandb.ai/overfit1010/finrl-dt-replicate</a><br>Synced 5 W&B file(s), 0 media file(s), 0 artifact file(s) and 0 other file(s)"
            ]
          },
          "metadata": {}
        },
        {
          "output_type": "display_data",
          "data": {
            "text/plain": [
              "<IPython.core.display.HTML object>"
            ],
            "text/html": [
              "Find logs at: <code>./wandb/run-20250106_115512-8zeoyh95/logs</code>"
            ]
          },
          "metadata": {}
        },
        {
          "output_type": "display_data",
          "data": {
            "text/plain": [
              "<IPython.core.display.HTML object>"
            ],
            "text/html": [
              "Tracking run with wandb version 0.19.1"
            ]
          },
          "metadata": {}
        },
        {
          "output_type": "display_data",
          "data": {
            "text/plain": [
              "<IPython.core.display.HTML object>"
            ],
            "text/html": [
              "Run data is saved locally in <code>/content/wandb/run-20250106_115516-tumg13f0</code>"
            ]
          },
          "metadata": {}
        },
        {
          "output_type": "display_data",
          "data": {
            "text/plain": [
              "<IPython.core.display.HTML object>"
            ],
            "text/html": [
              "Resuming run <strong><a href='https://wandb.ai/overfit1010/finrl-dt-replicate/runs/tumg13f0' target=\"_blank\">DOW-30 | 2009-01 | 2018 Q4 | 2019 Q1 | nIh5d</a></strong> to <a href='https://wandb.ai/overfit1010/finrl-dt-replicate' target=\"_blank\">Weights & Biases</a> (<a href='https://wandb.me/developer-guide' target=\"_blank\">docs</a>)<br>Sweep page: <a href='https://wandb.ai/overfit1010/finrl-dt-replicate/sweeps/k43io2uh' target=\"_blank\">https://wandb.ai/overfit1010/finrl-dt-replicate/sweeps/k43io2uh</a>"
            ]
          },
          "metadata": {}
        },
        {
          "output_type": "display_data",
          "data": {
            "text/plain": [
              "<IPython.core.display.HTML object>"
            ],
            "text/html": [
              " View project at <a href='https://wandb.ai/overfit1010/finrl-dt-replicate' target=\"_blank\">https://wandb.ai/overfit1010/finrl-dt-replicate</a>"
            ]
          },
          "metadata": {}
        },
        {
          "output_type": "display_data",
          "data": {
            "text/plain": [
              "<IPython.core.display.HTML object>"
            ],
            "text/html": [
              " View sweep at <a href='https://wandb.ai/overfit1010/finrl-dt-replicate/sweeps/k43io2uh' target=\"_blank\">https://wandb.ai/overfit1010/finrl-dt-replicate/sweeps/k43io2uh</a>"
            ]
          },
          "metadata": {}
        },
        {
          "output_type": "display_data",
          "data": {
            "text/plain": [
              "<IPython.core.display.HTML object>"
            ],
            "text/html": [
              " View run at <a href='https://wandb.ai/overfit1010/finrl-dt-replicate/runs/tumg13f0' target=\"_blank\">https://wandb.ai/overfit1010/finrl-dt-replicate/runs/tumg13f0</a>"
            ]
          },
          "metadata": {}
        },
        {
          "output_type": "stream",
          "name": "stdout",
          "text": [
            "Skipping 'dummy' split\n"
          ]
        },
        {
          "output_type": "display_data",
          "data": {
            "text/plain": [
              "<IPython.core.display.HTML object>"
            ],
            "text/html": []
          },
          "metadata": {}
        },
        {
          "output_type": "display_data",
          "data": {
            "text/plain": [
              "<IPython.core.display.HTML object>"
            ],
            "text/html": [
              "<br>    <style><br>        .wandb-row {<br>            display: flex;<br>            flex-direction: row;<br>            flex-wrap: wrap;<br>            justify-content: flex-start;<br>            width: 100%;<br>        }<br>        .wandb-col {<br>            display: flex;<br>            flex-direction: column;<br>            flex-basis: 100%;<br>            flex: 1;<br>            padding: 10px;<br>        }<br>    </style><br><div class=\"wandb-row\"><div class=\"wandb-col\"><h3>Run summary:</h3><br/><table class=\"wandb\"><tr><td>best_model_name</td><td>ddpg</td></tr><tr><td>test/ann_return/a2c</td><td>27.92</td></tr><tr><td>test/ann_return/best_model</td><td>58.62</td></tr><tr><td>test/ann_return/ddpg</td><td>58.62</td></tr><tr><td>test/ann_return/ppo</td><td>38.34</td></tr><tr><td>test/ann_return/sac</td><td>41.45</td></tr><tr><td>test/ann_return/td3</td><td>27.63</td></tr><tr><td>test/best_model_name</td><td>ddpg</td></tr><tr><td>test/cum_return/a2c</td><td>5.9</td></tr><tr><td>test/cum_return/best_model</td><td>11.34</td></tr><tr><td>test/cum_return/ddpg</td><td>11.34</td></tr><tr><td>test/cum_return/ppo</td><td>7.85</td></tr><tr><td>test/cum_return/sac</td><td>8.41</td></tr><tr><td>test/cum_return/td3</td><td>5.85</td></tr><tr><td>test/mdd/a2c</td><td>-3.68</td></tr><tr><td>test/mdd/best_model</td><td>-4.16</td></tr><tr><td>test/mdd/ddpg</td><td>-4.16</td></tr><tr><td>test/mdd/ppo</td><td>-3.18</td></tr><tr><td>test/mdd/sac</td><td>-13.03</td></tr><tr><td>test/mdd/td3</td><td>-6.97</td></tr><tr><td>test/sharpe_ratio/a2c</td><td>1.85</td></tr><tr><td>test/sharpe_ratio/best_model</td><td>2.65</td></tr><tr><td>test/sharpe_ratio/ddpg</td><td>2.65</td></tr><tr><td>test/sharpe_ratio/ppo</td><td>2.13</td></tr><tr><td>test/sharpe_ratio/sac</td><td>1.5</td></tr><tr><td>test/sharpe_ratio/td3</td><td>1.49</td></tr></table><br/></div></div>"
            ]
          },
          "metadata": {}
        },
        {
          "output_type": "display_data",
          "data": {
            "text/plain": [
              "<IPython.core.display.HTML object>"
            ],
            "text/html": [
              " View run <strong style=\"color:#cdcd00\">DOW-30 | 2009-01 | 2018 Q4 | 2019 Q1 | nIh5d</strong> at: <a href='https://wandb.ai/overfit1010/finrl-dt-replicate/runs/tumg13f0' target=\"_blank\">https://wandb.ai/overfit1010/finrl-dt-replicate/runs/tumg13f0</a><br> View project at: <a href='https://wandb.ai/overfit1010/finrl-dt-replicate' target=\"_blank\">https://wandb.ai/overfit1010/finrl-dt-replicate</a><br>Synced 5 W&B file(s), 0 media file(s), 0 artifact file(s) and 0 other file(s)"
            ]
          },
          "metadata": {}
        },
        {
          "output_type": "display_data",
          "data": {
            "text/plain": [
              "<IPython.core.display.HTML object>"
            ],
            "text/html": [
              "Find logs at: <code>./wandb/run-20250106_115516-tumg13f0/logs</code>"
            ]
          },
          "metadata": {}
        },
        {
          "output_type": "display_data",
          "data": {
            "text/plain": [
              "<IPython.core.display.HTML object>"
            ],
            "text/html": [
              "Tracking run with wandb version 0.19.1"
            ]
          },
          "metadata": {}
        },
        {
          "output_type": "display_data",
          "data": {
            "text/plain": [
              "<IPython.core.display.HTML object>"
            ],
            "text/html": [
              "Run data is saved locally in <code>/content/wandb/run-20250106_115521-o2bz2ear</code>"
            ]
          },
          "metadata": {}
        },
        {
          "output_type": "display_data",
          "data": {
            "text/plain": [
              "<IPython.core.display.HTML object>"
            ],
            "text/html": [
              "Resuming run <strong><a href='https://wandb.ai/overfit1010/finrl-dt-replicate/runs/o2bz2ear' target=\"_blank\">DOW-30 | 2009-01 | 2018 Q3 | 2018 Q4 | qqm2P</a></strong> to <a href='https://wandb.ai/overfit1010/finrl-dt-replicate' target=\"_blank\">Weights & Biases</a> (<a href='https://wandb.me/developer-guide' target=\"_blank\">docs</a>)<br>Sweep page: <a href='https://wandb.ai/overfit1010/finrl-dt-replicate/sweeps/k43io2uh' target=\"_blank\">https://wandb.ai/overfit1010/finrl-dt-replicate/sweeps/k43io2uh</a>"
            ]
          },
          "metadata": {}
        },
        {
          "output_type": "display_data",
          "data": {
            "text/plain": [
              "<IPython.core.display.HTML object>"
            ],
            "text/html": [
              " View project at <a href='https://wandb.ai/overfit1010/finrl-dt-replicate' target=\"_blank\">https://wandb.ai/overfit1010/finrl-dt-replicate</a>"
            ]
          },
          "metadata": {}
        },
        {
          "output_type": "display_data",
          "data": {
            "text/plain": [
              "<IPython.core.display.HTML object>"
            ],
            "text/html": [
              " View sweep at <a href='https://wandb.ai/overfit1010/finrl-dt-replicate/sweeps/k43io2uh' target=\"_blank\">https://wandb.ai/overfit1010/finrl-dt-replicate/sweeps/k43io2uh</a>"
            ]
          },
          "metadata": {}
        },
        {
          "output_type": "display_data",
          "data": {
            "text/plain": [
              "<IPython.core.display.HTML object>"
            ],
            "text/html": [
              " View run at <a href='https://wandb.ai/overfit1010/finrl-dt-replicate/runs/o2bz2ear' target=\"_blank\">https://wandb.ai/overfit1010/finrl-dt-replicate/runs/o2bz2ear</a>"
            ]
          },
          "metadata": {}
        },
        {
          "output_type": "stream",
          "name": "stdout",
          "text": [
            "Skipping 'dummy' split\n"
          ]
        },
        {
          "output_type": "display_data",
          "data": {
            "text/plain": [
              "<IPython.core.display.HTML object>"
            ],
            "text/html": []
          },
          "metadata": {}
        },
        {
          "output_type": "display_data",
          "data": {
            "text/plain": [
              "<IPython.core.display.HTML object>"
            ],
            "text/html": [
              "<br>    <style><br>        .wandb-row {<br>            display: flex;<br>            flex-direction: row;<br>            flex-wrap: wrap;<br>            justify-content: flex-start;<br>            width: 100%;<br>        }<br>        .wandb-col {<br>            display: flex;<br>            flex-direction: column;<br>            flex-basis: 100%;<br>            flex: 1;<br>            padding: 10px;<br>        }<br>    </style><br><div class=\"wandb-row\"><div class=\"wandb-col\"><h3>Run summary:</h3><br/><table class=\"wandb\"><tr><td>best_model_name</td><td>ppo</td></tr><tr><td>test/ann_return/a2c</td><td>-50.36</td></tr><tr><td>test/ann_return/best_model</td><td>-67.15</td></tr><tr><td>test/ann_return/ddpg</td><td>-44.06</td></tr><tr><td>test/ann_return/ppo</td><td>-33.73</td></tr><tr><td>test/ann_return/sac</td><td>-67.15</td></tr><tr><td>test/ann_return/td3</td><td>-37.03</td></tr><tr><td>test/best_model_name</td><td>sac</td></tr><tr><td>test/cum_return/a2c</td><td>-15.54</td></tr><tr><td>test/cum_return/best_model</td><td>-23.54</td></tr><tr><td>test/cum_return/ddpg</td><td>-13.07</td></tr><tr><td>test/cum_return/ppo</td><td>-9.44</td></tr><tr><td>test/cum_return/sac</td><td>-23.54</td></tr><tr><td>test/cum_return/td3</td><td>-10.55</td></tr><tr><td>test/mdd/a2c</td><td>-21.47</td></tr><tr><td>test/mdd/best_model</td><td>-27.92</td></tr><tr><td>test/mdd/ddpg</td><td>-19.39</td></tr><tr><td>test/mdd/ppo</td><td>-15.71</td></tr><tr><td>test/mdd/sac</td><td>-27.92</td></tr><tr><td>test/mdd/td3</td><td>-15.88</td></tr><tr><td>test/sharpe_ratio/a2c</td><td>-2.03</td></tr><tr><td>test/sharpe_ratio/best_model</td><td>-3.64</td></tr><tr><td>test/sharpe_ratio/ddpg</td><td>-2.55</td></tr><tr><td>test/sharpe_ratio/ppo</td><td>-1.54</td></tr><tr><td>test/sharpe_ratio/sac</td><td>-3.64</td></tr><tr><td>test/sharpe_ratio/td3</td><td>-1.76</td></tr></table><br/></div></div>"
            ]
          },
          "metadata": {}
        },
        {
          "output_type": "display_data",
          "data": {
            "text/plain": [
              "<IPython.core.display.HTML object>"
            ],
            "text/html": [
              " View run <strong style=\"color:#cdcd00\">DOW-30 | 2009-01 | 2018 Q3 | 2018 Q4 | qqm2P</strong> at: <a href='https://wandb.ai/overfit1010/finrl-dt-replicate/runs/o2bz2ear' target=\"_blank\">https://wandb.ai/overfit1010/finrl-dt-replicate/runs/o2bz2ear</a><br> View project at: <a href='https://wandb.ai/overfit1010/finrl-dt-replicate' target=\"_blank\">https://wandb.ai/overfit1010/finrl-dt-replicate</a><br>Synced 5 W&B file(s), 0 media file(s), 0 artifact file(s) and 0 other file(s)"
            ]
          },
          "metadata": {}
        },
        {
          "output_type": "display_data",
          "data": {
            "text/plain": [
              "<IPython.core.display.HTML object>"
            ],
            "text/html": [
              "Find logs at: <code>./wandb/run-20250106_115521-o2bz2ear/logs</code>"
            ]
          },
          "metadata": {}
        },
        {
          "output_type": "display_data",
          "data": {
            "text/plain": [
              "<IPython.core.display.HTML object>"
            ],
            "text/html": [
              "Tracking run with wandb version 0.19.1"
            ]
          },
          "metadata": {}
        },
        {
          "output_type": "display_data",
          "data": {
            "text/plain": [
              "<IPython.core.display.HTML object>"
            ],
            "text/html": [
              "Run data is saved locally in <code>/content/wandb/run-20250106_115526-h1ia8if0</code>"
            ]
          },
          "metadata": {}
        },
        {
          "output_type": "display_data",
          "data": {
            "text/plain": [
              "<IPython.core.display.HTML object>"
            ],
            "text/html": [
              "Resuming run <strong><a href='https://wandb.ai/overfit1010/finrl-dt-replicate/runs/h1ia8if0' target=\"_blank\">DOW-30 | 2009-01 | 2018 Q2 | 2018 Q3 | tm7vR</a></strong> to <a href='https://wandb.ai/overfit1010/finrl-dt-replicate' target=\"_blank\">Weights & Biases</a> (<a href='https://wandb.me/developer-guide' target=\"_blank\">docs</a>)<br>Sweep page: <a href='https://wandb.ai/overfit1010/finrl-dt-replicate/sweeps/k43io2uh' target=\"_blank\">https://wandb.ai/overfit1010/finrl-dt-replicate/sweeps/k43io2uh</a>"
            ]
          },
          "metadata": {}
        },
        {
          "output_type": "display_data",
          "data": {
            "text/plain": [
              "<IPython.core.display.HTML object>"
            ],
            "text/html": [
              " View project at <a href='https://wandb.ai/overfit1010/finrl-dt-replicate' target=\"_blank\">https://wandb.ai/overfit1010/finrl-dt-replicate</a>"
            ]
          },
          "metadata": {}
        },
        {
          "output_type": "display_data",
          "data": {
            "text/plain": [
              "<IPython.core.display.HTML object>"
            ],
            "text/html": [
              " View sweep at <a href='https://wandb.ai/overfit1010/finrl-dt-replicate/sweeps/k43io2uh' target=\"_blank\">https://wandb.ai/overfit1010/finrl-dt-replicate/sweeps/k43io2uh</a>"
            ]
          },
          "metadata": {}
        },
        {
          "output_type": "display_data",
          "data": {
            "text/plain": [
              "<IPython.core.display.HTML object>"
            ],
            "text/html": [
              " View run at <a href='https://wandb.ai/overfit1010/finrl-dt-replicate/runs/h1ia8if0' target=\"_blank\">https://wandb.ai/overfit1010/finrl-dt-replicate/runs/h1ia8if0</a>"
            ]
          },
          "metadata": {}
        },
        {
          "output_type": "stream",
          "name": "stdout",
          "text": [
            "Skipping 'dummy' split\n"
          ]
        },
        {
          "output_type": "display_data",
          "data": {
            "text/plain": [
              "<IPython.core.display.HTML object>"
            ],
            "text/html": []
          },
          "metadata": {}
        },
        {
          "output_type": "display_data",
          "data": {
            "text/plain": [
              "<IPython.core.display.HTML object>"
            ],
            "text/html": [
              "<br>    <style><br>        .wandb-row {<br>            display: flex;<br>            flex-direction: row;<br>            flex-wrap: wrap;<br>            justify-content: flex-start;<br>            width: 100%;<br>        }<br>        .wandb-col {<br>            display: flex;<br>            flex-direction: column;<br>            flex-basis: 100%;<br>            flex: 1;<br>            padding: 10px;<br>        }<br>    </style><br><div class=\"wandb-row\"><div class=\"wandb-col\"><h3>Run summary:</h3><br/><table class=\"wandb\"><tr><td>best_model_name</td><td>ppo</td></tr><tr><td>test/ann_return/a2c</td><td>43.77</td></tr><tr><td>test/ann_return/best_model</td><td>55.87</td></tr><tr><td>test/ann_return/ddpg</td><td>33.81</td></tr><tr><td>test/ann_return/ppo</td><td>55.87</td></tr><tr><td>test/ann_return/sac</td><td>36.07</td></tr><tr><td>test/ann_return/td3</td><td>47.46</td></tr><tr><td>test/best_model_name</td><td>ppo</td></tr><tr><td>test/cum_return/a2c</td><td>9.04</td></tr><tr><td>test/cum_return/best_model</td><td>11.16</td></tr><tr><td>test/cum_return/ddpg</td><td>7.19</td></tr><tr><td>test/cum_return/ppo</td><td>11.16</td></tr><tr><td>test/cum_return/sac</td><td>7.62</td></tr><tr><td>test/cum_return/td3</td><td>9.7</td></tr><tr><td>test/mdd/a2c</td><td>-1.43</td></tr><tr><td>test/mdd/best_model</td><td>-2.17</td></tr><tr><td>test/mdd/ddpg</td><td>-2.72</td></tr><tr><td>test/mdd/ppo</td><td>-2.17</td></tr><tr><td>test/mdd/sac</td><td>-5.86</td></tr><tr><td>test/mdd/td3</td><td>-2.78</td></tr><tr><td>test/sharpe_ratio/a2c</td><td>3.6</td></tr><tr><td>test/sharpe_ratio/best_model</td><td>4.3</td></tr><tr><td>test/sharpe_ratio/ddpg</td><td>2.7</td></tr><tr><td>test/sharpe_ratio/ppo</td><td>4.3</td></tr><tr><td>test/sharpe_ratio/sac</td><td>2.0</td></tr><tr><td>test/sharpe_ratio/td3</td><td>3.33</td></tr></table><br/></div></div>"
            ]
          },
          "metadata": {}
        },
        {
          "output_type": "display_data",
          "data": {
            "text/plain": [
              "<IPython.core.display.HTML object>"
            ],
            "text/html": [
              " View run <strong style=\"color:#cdcd00\">DOW-30 | 2009-01 | 2018 Q2 | 2018 Q3 | tm7vR</strong> at: <a href='https://wandb.ai/overfit1010/finrl-dt-replicate/runs/h1ia8if0' target=\"_blank\">https://wandb.ai/overfit1010/finrl-dt-replicate/runs/h1ia8if0</a><br> View project at: <a href='https://wandb.ai/overfit1010/finrl-dt-replicate' target=\"_blank\">https://wandb.ai/overfit1010/finrl-dt-replicate</a><br>Synced 5 W&B file(s), 0 media file(s), 0 artifact file(s) and 0 other file(s)"
            ]
          },
          "metadata": {}
        },
        {
          "output_type": "display_data",
          "data": {
            "text/plain": [
              "<IPython.core.display.HTML object>"
            ],
            "text/html": [
              "Find logs at: <code>./wandb/run-20250106_115526-h1ia8if0/logs</code>"
            ]
          },
          "metadata": {}
        },
        {
          "output_type": "display_data",
          "data": {
            "text/plain": [
              "<IPython.core.display.HTML object>"
            ],
            "text/html": [
              "Tracking run with wandb version 0.19.1"
            ]
          },
          "metadata": {}
        },
        {
          "output_type": "display_data",
          "data": {
            "text/plain": [
              "<IPython.core.display.HTML object>"
            ],
            "text/html": [
              "Run data is saved locally in <code>/content/wandb/run-20250106_115531-zvkqngwt</code>"
            ]
          },
          "metadata": {}
        },
        {
          "output_type": "display_data",
          "data": {
            "text/plain": [
              "<IPython.core.display.HTML object>"
            ],
            "text/html": [
              "Resuming run <strong><a href='https://wandb.ai/overfit1010/finrl-dt-replicate/runs/zvkqngwt' target=\"_blank\">DOW-30 | 2009-01 | 2018 Q1 | 2018 Q2 | BJ2fO</a></strong> to <a href='https://wandb.ai/overfit1010/finrl-dt-replicate' target=\"_blank\">Weights & Biases</a> (<a href='https://wandb.me/developer-guide' target=\"_blank\">docs</a>)<br>Sweep page: <a href='https://wandb.ai/overfit1010/finrl-dt-replicate/sweeps/k43io2uh' target=\"_blank\">https://wandb.ai/overfit1010/finrl-dt-replicate/sweeps/k43io2uh</a>"
            ]
          },
          "metadata": {}
        },
        {
          "output_type": "display_data",
          "data": {
            "text/plain": [
              "<IPython.core.display.HTML object>"
            ],
            "text/html": [
              " View project at <a href='https://wandb.ai/overfit1010/finrl-dt-replicate' target=\"_blank\">https://wandb.ai/overfit1010/finrl-dt-replicate</a>"
            ]
          },
          "metadata": {}
        },
        {
          "output_type": "display_data",
          "data": {
            "text/plain": [
              "<IPython.core.display.HTML object>"
            ],
            "text/html": [
              " View sweep at <a href='https://wandb.ai/overfit1010/finrl-dt-replicate/sweeps/k43io2uh' target=\"_blank\">https://wandb.ai/overfit1010/finrl-dt-replicate/sweeps/k43io2uh</a>"
            ]
          },
          "metadata": {}
        },
        {
          "output_type": "display_data",
          "data": {
            "text/plain": [
              "<IPython.core.display.HTML object>"
            ],
            "text/html": [
              " View run at <a href='https://wandb.ai/overfit1010/finrl-dt-replicate/runs/zvkqngwt' target=\"_blank\">https://wandb.ai/overfit1010/finrl-dt-replicate/runs/zvkqngwt</a>"
            ]
          },
          "metadata": {}
        },
        {
          "output_type": "stream",
          "name": "stdout",
          "text": [
            "Skipping 'dummy' split\n"
          ]
        },
        {
          "output_type": "display_data",
          "data": {
            "text/plain": [
              "<IPython.core.display.HTML object>"
            ],
            "text/html": []
          },
          "metadata": {}
        },
        {
          "output_type": "display_data",
          "data": {
            "text/plain": [
              "<IPython.core.display.HTML object>"
            ],
            "text/html": [
              "<br>    <style><br>        .wandb-row {<br>            display: flex;<br>            flex-direction: row;<br>            flex-wrap: wrap;<br>            justify-content: flex-start;<br>            width: 100%;<br>        }<br>        .wandb-col {<br>            display: flex;<br>            flex-direction: column;<br>            flex-basis: 100%;<br>            flex: 1;<br>            padding: 10px;<br>        }<br>    </style><br><div class=\"wandb-row\"><div class=\"wandb-col\"><h3>Run summary:</h3><br/><table class=\"wandb\"><tr><td>best_model_name</td><td>ppo</td></tr><tr><td>test/ann_return/a2c</td><td>8.97</td></tr><tr><td>test/ann_return/best_model</td><td>13.71</td></tr><tr><td>test/ann_return/ddpg</td><td>-15.69</td></tr><tr><td>test/ann_return/ppo</td><td>13.71</td></tr><tr><td>test/ann_return/sac</td><td>-25.97</td></tr><tr><td>test/ann_return/td3</td><td>12.51</td></tr><tr><td>test/best_model_name</td><td>ppo</td></tr><tr><td>test/cum_return/a2c</td><td>2.07</td></tr><tr><td>test/cum_return/best_model</td><td>3.11</td></tr><tr><td>test/cum_return/ddpg</td><td>-3.99</td></tr><tr><td>test/cum_return/ppo</td><td>3.11</td></tr><tr><td>test/cum_return/sac</td><td>-6.92</td></tr><tr><td>test/cum_return/td3</td><td>2.85</td></tr><tr><td>test/mdd/a2c</td><td>-8.56</td></tr><tr><td>test/mdd/best_model</td><td>-2.84</td></tr><tr><td>test/mdd/ddpg</td><td>-7.27</td></tr><tr><td>test/mdd/ppo</td><td>-2.84</td></tr><tr><td>test/mdd/sac</td><td>-11.61</td></tr><tr><td>test/mdd/td3</td><td>-3.64</td></tr><tr><td>test/sharpe_ratio/a2c</td><td>0.51</td></tr><tr><td>test/sharpe_ratio/best_model</td><td>1.01</td></tr><tr><td>test/sharpe_ratio/ddpg</td><td>-1.11</td></tr><tr><td>test/sharpe_ratio/ppo</td><td>1.01</td></tr><tr><td>test/sharpe_ratio/sac</td><td>-1.7</td></tr><tr><td>test/sharpe_ratio/td3</td><td>0.95</td></tr></table><br/></div></div>"
            ]
          },
          "metadata": {}
        },
        {
          "output_type": "display_data",
          "data": {
            "text/plain": [
              "<IPython.core.display.HTML object>"
            ],
            "text/html": [
              " View run <strong style=\"color:#cdcd00\">DOW-30 | 2009-01 | 2018 Q1 | 2018 Q2 | BJ2fO</strong> at: <a href='https://wandb.ai/overfit1010/finrl-dt-replicate/runs/zvkqngwt' target=\"_blank\">https://wandb.ai/overfit1010/finrl-dt-replicate/runs/zvkqngwt</a><br> View project at: <a href='https://wandb.ai/overfit1010/finrl-dt-replicate' target=\"_blank\">https://wandb.ai/overfit1010/finrl-dt-replicate</a><br>Synced 5 W&B file(s), 0 media file(s), 0 artifact file(s) and 0 other file(s)"
            ]
          },
          "metadata": {}
        },
        {
          "output_type": "display_data",
          "data": {
            "text/plain": [
              "<IPython.core.display.HTML object>"
            ],
            "text/html": [
              "Find logs at: <code>./wandb/run-20250106_115531-zvkqngwt/logs</code>"
            ]
          },
          "metadata": {}
        },
        {
          "output_type": "display_data",
          "data": {
            "text/plain": [
              "<IPython.core.display.HTML object>"
            ],
            "text/html": [
              "Tracking run with wandb version 0.19.1"
            ]
          },
          "metadata": {}
        },
        {
          "output_type": "display_data",
          "data": {
            "text/plain": [
              "<IPython.core.display.HTML object>"
            ],
            "text/html": [
              "Run data is saved locally in <code>/content/wandb/run-20250106_115535-n8squ0fj</code>"
            ]
          },
          "metadata": {}
        },
        {
          "output_type": "display_data",
          "data": {
            "text/plain": [
              "<IPython.core.display.HTML object>"
            ],
            "text/html": [
              "Resuming run <strong><a href='https://wandb.ai/overfit1010/finrl-dt-replicate/runs/n8squ0fj' target=\"_blank\">DOW-30 | 2009-01 | 2017 Q4 | 2018 Q1 | 6paSW</a></strong> to <a href='https://wandb.ai/overfit1010/finrl-dt-replicate' target=\"_blank\">Weights & Biases</a> (<a href='https://wandb.me/developer-guide' target=\"_blank\">docs</a>)<br>Sweep page: <a href='https://wandb.ai/overfit1010/finrl-dt-replicate/sweeps/k43io2uh' target=\"_blank\">https://wandb.ai/overfit1010/finrl-dt-replicate/sweeps/k43io2uh</a>"
            ]
          },
          "metadata": {}
        },
        {
          "output_type": "display_data",
          "data": {
            "text/plain": [
              "<IPython.core.display.HTML object>"
            ],
            "text/html": [
              " View project at <a href='https://wandb.ai/overfit1010/finrl-dt-replicate' target=\"_blank\">https://wandb.ai/overfit1010/finrl-dt-replicate</a>"
            ]
          },
          "metadata": {}
        },
        {
          "output_type": "display_data",
          "data": {
            "text/plain": [
              "<IPython.core.display.HTML object>"
            ],
            "text/html": [
              " View sweep at <a href='https://wandb.ai/overfit1010/finrl-dt-replicate/sweeps/k43io2uh' target=\"_blank\">https://wandb.ai/overfit1010/finrl-dt-replicate/sweeps/k43io2uh</a>"
            ]
          },
          "metadata": {}
        },
        {
          "output_type": "display_data",
          "data": {
            "text/plain": [
              "<IPython.core.display.HTML object>"
            ],
            "text/html": [
              " View run at <a href='https://wandb.ai/overfit1010/finrl-dt-replicate/runs/n8squ0fj' target=\"_blank\">https://wandb.ai/overfit1010/finrl-dt-replicate/runs/n8squ0fj</a>"
            ]
          },
          "metadata": {}
        },
        {
          "output_type": "stream",
          "name": "stdout",
          "text": [
            "Skipping 'dummy' split\n"
          ]
        },
        {
          "output_type": "display_data",
          "data": {
            "text/plain": [
              "<IPython.core.display.HTML object>"
            ],
            "text/html": []
          },
          "metadata": {}
        },
        {
          "output_type": "display_data",
          "data": {
            "text/plain": [
              "<IPython.core.display.HTML object>"
            ],
            "text/html": [
              "<br>    <style><br>        .wandb-row {<br>            display: flex;<br>            flex-direction: row;<br>            flex-wrap: wrap;<br>            justify-content: flex-start;<br>            width: 100%;<br>        }<br>        .wandb-col {<br>            display: flex;<br>            flex-direction: column;<br>            flex-basis: 100%;<br>            flex: 1;<br>            padding: 10px;<br>        }<br>    </style><br><div class=\"wandb-row\"><div class=\"wandb-col\"><h3>Run summary:</h3><br/><table class=\"wandb\"><tr><td>best_model_name</td><td>td3</td></tr><tr><td>test/ann_return/a2c</td><td>-10.87</td></tr><tr><td>test/ann_return/best_model</td><td>-23.72</td></tr><tr><td>test/ann_return/ddpg</td><td>-23.72</td></tr><tr><td>test/ann_return/ppo</td><td>-22.05</td></tr><tr><td>test/ann_return/sac</td><td>-15.79</td></tr><tr><td>test/ann_return/td3</td><td>-4.05</td></tr><tr><td>test/best_model_name</td><td>ddpg</td></tr><tr><td>test/cum_return/a2c</td><td>-2.64</td></tr><tr><td>test/cum_return/best_model</td><td>-6.11</td></tr><tr><td>test/cum_return/ddpg</td><td>-6.11</td></tr><tr><td>test/cum_return/ppo</td><td>-5.63</td></tr><tr><td>test/cum_return/sac</td><td>-3.92</td></tr><tr><td>test/cum_return/td3</td><td>-0.96</td></tr><tr><td>test/mdd/a2c</td><td>-11.28</td></tr><tr><td>test/mdd/best_model</td><td>-11.2</td></tr><tr><td>test/mdd/ddpg</td><td>-11.2</td></tr><tr><td>test/mdd/ppo</td><td>-10.68</td></tr><tr><td>test/mdd/sac</td><td>-10.4</td></tr><tr><td>test/mdd/td3</td><td>-10.1</td></tr><tr><td>test/sharpe_ratio/a2c</td><td>-0.23</td></tr><tr><td>test/sharpe_ratio/best_model</td><td>-1.07</td></tr><tr><td>test/sharpe_ratio/ddpg</td><td>-1.07</td></tr><tr><td>test/sharpe_ratio/ppo</td><td>-0.88</td></tr><tr><td>test/sharpe_ratio/sac</td><td>-0.6</td></tr><tr><td>test/sharpe_ratio/td3</td><td>-0.07</td></tr></table><br/></div></div>"
            ]
          },
          "metadata": {}
        },
        {
          "output_type": "display_data",
          "data": {
            "text/plain": [
              "<IPython.core.display.HTML object>"
            ],
            "text/html": [
              " View run <strong style=\"color:#cdcd00\">DOW-30 | 2009-01 | 2017 Q4 | 2018 Q1 | 6paSW</strong> at: <a href='https://wandb.ai/overfit1010/finrl-dt-replicate/runs/n8squ0fj' target=\"_blank\">https://wandb.ai/overfit1010/finrl-dt-replicate/runs/n8squ0fj</a><br> View project at: <a href='https://wandb.ai/overfit1010/finrl-dt-replicate' target=\"_blank\">https://wandb.ai/overfit1010/finrl-dt-replicate</a><br>Synced 5 W&B file(s), 0 media file(s), 0 artifact file(s) and 0 other file(s)"
            ]
          },
          "metadata": {}
        },
        {
          "output_type": "display_data",
          "data": {
            "text/plain": [
              "<IPython.core.display.HTML object>"
            ],
            "text/html": [
              "Find logs at: <code>./wandb/run-20250106_115535-n8squ0fj/logs</code>"
            ]
          },
          "metadata": {}
        },
        {
          "output_type": "display_data",
          "data": {
            "text/plain": [
              "<IPython.core.display.HTML object>"
            ],
            "text/html": [
              "Tracking run with wandb version 0.19.1"
            ]
          },
          "metadata": {}
        },
        {
          "output_type": "display_data",
          "data": {
            "text/plain": [
              "<IPython.core.display.HTML object>"
            ],
            "text/html": [
              "Run data is saved locally in <code>/content/wandb/run-20250106_115540-5wfrad9m</code>"
            ]
          },
          "metadata": {}
        },
        {
          "output_type": "display_data",
          "data": {
            "text/plain": [
              "<IPython.core.display.HTML object>"
            ],
            "text/html": [
              "Resuming run <strong><a href='https://wandb.ai/overfit1010/finrl-dt-replicate/runs/5wfrad9m' target=\"_blank\">DOW-30 | 2009-01 | 2017 Q3 | 2017 Q4 | Qk6uh</a></strong> to <a href='https://wandb.ai/overfit1010/finrl-dt-replicate' target=\"_blank\">Weights & Biases</a> (<a href='https://wandb.me/developer-guide' target=\"_blank\">docs</a>)<br>Sweep page: <a href='https://wandb.ai/overfit1010/finrl-dt-replicate/sweeps/k43io2uh' target=\"_blank\">https://wandb.ai/overfit1010/finrl-dt-replicate/sweeps/k43io2uh</a>"
            ]
          },
          "metadata": {}
        },
        {
          "output_type": "display_data",
          "data": {
            "text/plain": [
              "<IPython.core.display.HTML object>"
            ],
            "text/html": [
              " View project at <a href='https://wandb.ai/overfit1010/finrl-dt-replicate' target=\"_blank\">https://wandb.ai/overfit1010/finrl-dt-replicate</a>"
            ]
          },
          "metadata": {}
        },
        {
          "output_type": "display_data",
          "data": {
            "text/plain": [
              "<IPython.core.display.HTML object>"
            ],
            "text/html": [
              " View sweep at <a href='https://wandb.ai/overfit1010/finrl-dt-replicate/sweeps/k43io2uh' target=\"_blank\">https://wandb.ai/overfit1010/finrl-dt-replicate/sweeps/k43io2uh</a>"
            ]
          },
          "metadata": {}
        },
        {
          "output_type": "display_data",
          "data": {
            "text/plain": [
              "<IPython.core.display.HTML object>"
            ],
            "text/html": [
              " View run at <a href='https://wandb.ai/overfit1010/finrl-dt-replicate/runs/5wfrad9m' target=\"_blank\">https://wandb.ai/overfit1010/finrl-dt-replicate/runs/5wfrad9m</a>"
            ]
          },
          "metadata": {}
        },
        {
          "output_type": "stream",
          "name": "stdout",
          "text": [
            "Skipping 'dummy' split\n"
          ]
        },
        {
          "output_type": "display_data",
          "data": {
            "text/plain": [
              "<IPython.core.display.HTML object>"
            ],
            "text/html": []
          },
          "metadata": {}
        },
        {
          "output_type": "display_data",
          "data": {
            "text/plain": [
              "<IPython.core.display.HTML object>"
            ],
            "text/html": [
              "<br>    <style><br>        .wandb-row {<br>            display: flex;<br>            flex-direction: row;<br>            flex-wrap: wrap;<br>            justify-content: flex-start;<br>            width: 100%;<br>        }<br>        .wandb-col {<br>            display: flex;<br>            flex-direction: column;<br>            flex-basis: 100%;<br>            flex: 1;<br>            padding: 10px;<br>        }<br>    </style><br><div class=\"wandb-row\"><div class=\"wandb-col\"><h3>Run summary:</h3><br/><table class=\"wandb\"><tr><td>best_model_name</td><td>sac</td></tr><tr><td>test/ann_return/a2c</td><td>27.08</td></tr><tr><td>test/ann_return/best_model</td><td>39.31</td></tr><tr><td>test/ann_return/ddpg</td><td>23.05</td></tr><tr><td>test/ann_return/ppo</td><td>14.03</td></tr><tr><td>test/ann_return/sac</td><td>39.31</td></tr><tr><td>test/ann_return/td3</td><td>33.54</td></tr><tr><td>test/best_model_name</td><td>sac</td></tr><tr><td>test/cum_return/a2c</td><td>5.88</td></tr><tr><td>test/cum_return/best_model</td><td>8.22</td></tr><tr><td>test/cum_return/ddpg</td><td>5.07</td></tr><tr><td>test/cum_return/ppo</td><td>3.18</td></tr><tr><td>test/cum_return/sac</td><td>8.22</td></tr><tr><td>test/cum_return/td3</td><td>7.14</td></tr><tr><td>test/mdd/a2c</td><td>-2.29</td></tr><tr><td>test/mdd/best_model</td><td>-1.58</td></tr><tr><td>test/mdd/ddpg</td><td>-3.76</td></tr><tr><td>test/mdd/ppo</td><td>-3.12</td></tr><tr><td>test/mdd/sac</td><td>-1.58</td></tr><tr><td>test/mdd/td3</td><td>-2.41</td></tr><tr><td>test/sharpe_ratio/a2c</td><td>2.25</td></tr><tr><td>test/sharpe_ratio/best_model</td><td>4.09</td></tr><tr><td>test/sharpe_ratio/ddpg</td><td>1.76</td></tr><tr><td>test/sharpe_ratio/ppo</td><td>1.33</td></tr><tr><td>test/sharpe_ratio/sac</td><td>4.09</td></tr><tr><td>test/sharpe_ratio/td3</td><td>3.11</td></tr></table><br/></div></div>"
            ]
          },
          "metadata": {}
        },
        {
          "output_type": "display_data",
          "data": {
            "text/plain": [
              "<IPython.core.display.HTML object>"
            ],
            "text/html": [
              " View run <strong style=\"color:#cdcd00\">DOW-30 | 2009-01 | 2017 Q3 | 2017 Q4 | Qk6uh</strong> at: <a href='https://wandb.ai/overfit1010/finrl-dt-replicate/runs/5wfrad9m' target=\"_blank\">https://wandb.ai/overfit1010/finrl-dt-replicate/runs/5wfrad9m</a><br> View project at: <a href='https://wandb.ai/overfit1010/finrl-dt-replicate' target=\"_blank\">https://wandb.ai/overfit1010/finrl-dt-replicate</a><br>Synced 5 W&B file(s), 0 media file(s), 0 artifact file(s) and 0 other file(s)"
            ]
          },
          "metadata": {}
        },
        {
          "output_type": "display_data",
          "data": {
            "text/plain": [
              "<IPython.core.display.HTML object>"
            ],
            "text/html": [
              "Find logs at: <code>./wandb/run-20250106_115540-5wfrad9m/logs</code>"
            ]
          },
          "metadata": {}
        },
        {
          "output_type": "stream",
          "name": "stdout",
          "text": [
            "True\n",
            "True\n",
            "True\n",
            "True\n",
            "True\n",
            "True\n",
            "True\n"
          ]
        },
        {
          "output_type": "display_data",
          "data": {
            "text/plain": [
              "<IPython.core.display.HTML object>"
            ],
            "text/html": [
              "Tracking run with wandb version 0.19.1"
            ]
          },
          "metadata": {}
        },
        {
          "output_type": "display_data",
          "data": {
            "text/plain": [
              "<IPython.core.display.HTML object>"
            ],
            "text/html": [
              "Run data is saved locally in <code>/content/wandb/run-20250106_115545-7kz7hrod</code>"
            ]
          },
          "metadata": {}
        },
        {
          "output_type": "display_data",
          "data": {
            "text/plain": [
              "<IPython.core.display.HTML object>"
            ],
            "text/html": [
              "Resuming run <strong><a href='https://wandb.ai/overfit1010/finrl-dt-replicate/runs/7kz7hrod' target=\"_blank\">DOW-30 | 2009-01 | 2017 Q2 | 2017 Q3 | 5dRda</a></strong> to <a href='https://wandb.ai/overfit1010/finrl-dt-replicate' target=\"_blank\">Weights & Biases</a> (<a href='https://wandb.me/developer-guide' target=\"_blank\">docs</a>)<br>Sweep page: <a href='https://wandb.ai/overfit1010/finrl-dt-replicate/sweeps/k43io2uh' target=\"_blank\">https://wandb.ai/overfit1010/finrl-dt-replicate/sweeps/k43io2uh</a>"
            ]
          },
          "metadata": {}
        },
        {
          "output_type": "display_data",
          "data": {
            "text/plain": [
              "<IPython.core.display.HTML object>"
            ],
            "text/html": [
              " View project at <a href='https://wandb.ai/overfit1010/finrl-dt-replicate' target=\"_blank\">https://wandb.ai/overfit1010/finrl-dt-replicate</a>"
            ]
          },
          "metadata": {}
        },
        {
          "output_type": "display_data",
          "data": {
            "text/plain": [
              "<IPython.core.display.HTML object>"
            ],
            "text/html": [
              " View sweep at <a href='https://wandb.ai/overfit1010/finrl-dt-replicate/sweeps/k43io2uh' target=\"_blank\">https://wandb.ai/overfit1010/finrl-dt-replicate/sweeps/k43io2uh</a>"
            ]
          },
          "metadata": {}
        },
        {
          "output_type": "display_data",
          "data": {
            "text/plain": [
              "<IPython.core.display.HTML object>"
            ],
            "text/html": [
              " View run at <a href='https://wandb.ai/overfit1010/finrl-dt-replicate/runs/7kz7hrod' target=\"_blank\">https://wandb.ai/overfit1010/finrl-dt-replicate/runs/7kz7hrod</a>"
            ]
          },
          "metadata": {}
        },
        {
          "output_type": "stream",
          "name": "stdout",
          "text": [
            "Skipping 'dummy' split\n"
          ]
        },
        {
          "output_type": "display_data",
          "data": {
            "text/plain": [
              "<IPython.core.display.HTML object>"
            ],
            "text/html": []
          },
          "metadata": {}
        },
        {
          "output_type": "display_data",
          "data": {
            "text/plain": [
              "<IPython.core.display.HTML object>"
            ],
            "text/html": [
              "<br>    <style><br>        .wandb-row {<br>            display: flex;<br>            flex-direction: row;<br>            flex-wrap: wrap;<br>            justify-content: flex-start;<br>            width: 100%;<br>        }<br>        .wandb-col {<br>            display: flex;<br>            flex-direction: column;<br>            flex-basis: 100%;<br>            flex: 1;<br>            padding: 10px;<br>        }<br>    </style><br><div class=\"wandb-row\"><div class=\"wandb-col\"><h3>Run summary:</h3><br/><table class=\"wandb\"><tr><td>best_model_name</td><td>ddpg</td></tr><tr><td>test/ann_return/a2c</td><td>15.42</td></tr><tr><td>test/ann_return/best_model</td><td>71.61</td></tr><tr><td>test/ann_return/ddpg</td><td>71.61</td></tr><tr><td>test/ann_return/ppo</td><td>16.7</td></tr><tr><td>test/ann_return/sac</td><td>12.02</td></tr><tr><td>test/ann_return/td3</td><td>-14.36</td></tr><tr><td>test/best_model_name</td><td>ddpg</td></tr><tr><td>test/cum_return/a2c</td><td>3.48</td></tr><tr><td>test/cum_return/best_model</td><td>13.74</td></tr><tr><td>test/cum_return/ddpg</td><td>13.74</td></tr><tr><td>test/cum_return/ppo</td><td>3.75</td></tr><tr><td>test/cum_return/sac</td><td>2.74</td></tr><tr><td>test/cum_return/td3</td><td>-3.63</td></tr><tr><td>test/mdd/a2c</td><td>-2.88</td></tr><tr><td>test/mdd/best_model</td><td>-2.71</td></tr><tr><td>test/mdd/ddpg</td><td>-2.71</td></tr><tr><td>test/mdd/ppo</td><td>-2.53</td></tr><tr><td>test/mdd/sac</td><td>-4.31</td></tr><tr><td>test/mdd/td3</td><td>-5.84</td></tr><tr><td>test/sharpe_ratio/a2c</td><td>1.51</td></tr><tr><td>test/sharpe_ratio/best_model</td><td>4.91</td></tr><tr><td>test/sharpe_ratio/ddpg</td><td>4.91</td></tr><tr><td>test/sharpe_ratio/ppo</td><td>1.64</td></tr><tr><td>test/sharpe_ratio/sac</td><td>1.13</td></tr><tr><td>test/sharpe_ratio/td3</td><td>-1.16</td></tr></table><br/></div></div>"
            ]
          },
          "metadata": {}
        },
        {
          "output_type": "display_data",
          "data": {
            "text/plain": [
              "<IPython.core.display.HTML object>"
            ],
            "text/html": [
              " View run <strong style=\"color:#cdcd00\">DOW-30 | 2009-01 | 2017 Q2 | 2017 Q3 | 5dRda</strong> at: <a href='https://wandb.ai/overfit1010/finrl-dt-replicate/runs/7kz7hrod' target=\"_blank\">https://wandb.ai/overfit1010/finrl-dt-replicate/runs/7kz7hrod</a><br> View project at: <a href='https://wandb.ai/overfit1010/finrl-dt-replicate' target=\"_blank\">https://wandb.ai/overfit1010/finrl-dt-replicate</a><br>Synced 5 W&B file(s), 0 media file(s), 0 artifact file(s) and 0 other file(s)"
            ]
          },
          "metadata": {}
        },
        {
          "output_type": "display_data",
          "data": {
            "text/plain": [
              "<IPython.core.display.HTML object>"
            ],
            "text/html": [
              "Find logs at: <code>./wandb/run-20250106_115545-7kz7hrod/logs</code>"
            ]
          },
          "metadata": {}
        },
        {
          "output_type": "display_data",
          "data": {
            "text/plain": [
              "<IPython.core.display.HTML object>"
            ],
            "text/html": [
              "Tracking run with wandb version 0.19.1"
            ]
          },
          "metadata": {}
        },
        {
          "output_type": "display_data",
          "data": {
            "text/plain": [
              "<IPython.core.display.HTML object>"
            ],
            "text/html": [
              "Run data is saved locally in <code>/content/wandb/run-20250106_115550-7ckhysh8</code>"
            ]
          },
          "metadata": {}
        },
        {
          "output_type": "display_data",
          "data": {
            "text/plain": [
              "<IPython.core.display.HTML object>"
            ],
            "text/html": [
              "Resuming run <strong><a href='https://wandb.ai/overfit1010/finrl-dt-replicate/runs/7ckhysh8' target=\"_blank\">DOW-30 | 2009-01 | 2017 Q1 | 2017 Q2 | N9uo1</a></strong> to <a href='https://wandb.ai/overfit1010/finrl-dt-replicate' target=\"_blank\">Weights & Biases</a> (<a href='https://wandb.me/developer-guide' target=\"_blank\">docs</a>)<br>Sweep page: <a href='https://wandb.ai/overfit1010/finrl-dt-replicate/sweeps/k43io2uh' target=\"_blank\">https://wandb.ai/overfit1010/finrl-dt-replicate/sweeps/k43io2uh</a>"
            ]
          },
          "metadata": {}
        },
        {
          "output_type": "display_data",
          "data": {
            "text/plain": [
              "<IPython.core.display.HTML object>"
            ],
            "text/html": [
              " View project at <a href='https://wandb.ai/overfit1010/finrl-dt-replicate' target=\"_blank\">https://wandb.ai/overfit1010/finrl-dt-replicate</a>"
            ]
          },
          "metadata": {}
        },
        {
          "output_type": "display_data",
          "data": {
            "text/plain": [
              "<IPython.core.display.HTML object>"
            ],
            "text/html": [
              " View sweep at <a href='https://wandb.ai/overfit1010/finrl-dt-replicate/sweeps/k43io2uh' target=\"_blank\">https://wandb.ai/overfit1010/finrl-dt-replicate/sweeps/k43io2uh</a>"
            ]
          },
          "metadata": {}
        },
        {
          "output_type": "display_data",
          "data": {
            "text/plain": [
              "<IPython.core.display.HTML object>"
            ],
            "text/html": [
              " View run at <a href='https://wandb.ai/overfit1010/finrl-dt-replicate/runs/7ckhysh8' target=\"_blank\">https://wandb.ai/overfit1010/finrl-dt-replicate/runs/7ckhysh8</a>"
            ]
          },
          "metadata": {}
        },
        {
          "output_type": "stream",
          "name": "stdout",
          "text": [
            "Skipping 'dummy' split\n"
          ]
        },
        {
          "output_type": "display_data",
          "data": {
            "text/plain": [
              "<IPython.core.display.HTML object>"
            ],
            "text/html": []
          },
          "metadata": {}
        },
        {
          "output_type": "display_data",
          "data": {
            "text/plain": [
              "<IPython.core.display.HTML object>"
            ],
            "text/html": [
              "<br>    <style><br>        .wandb-row {<br>            display: flex;<br>            flex-direction: row;<br>            flex-wrap: wrap;<br>            justify-content: flex-start;<br>            width: 100%;<br>        }<br>        .wandb-col {<br>            display: flex;<br>            flex-direction: column;<br>            flex-basis: 100%;<br>            flex: 1;<br>            padding: 10px;<br>        }<br>    </style><br><div class=\"wandb-row\"><div class=\"wandb-col\"><h3>Run summary:</h3><br/><table class=\"wandb\"><tr><td>best_model_name</td><td>ppo</td></tr><tr><td>test/ann_return/a2c</td><td>31.24</td></tr><tr><td>test/ann_return/best_model</td><td>36.91</td></tr><tr><td>test/ann_return/ddpg</td><td>25.86</td></tr><tr><td>test/ann_return/ppo</td><td>36.91</td></tr><tr><td>test/ann_return/sac</td><td>4.88</td></tr><tr><td>test/ann_return/td3</td><td>-30.21</td></tr><tr><td>test/best_model_name</td><td>ppo</td></tr><tr><td>test/cum_return/a2c</td><td>6.7</td></tr><tr><td>test/cum_return/best_model</td><td>7.78</td></tr><tr><td>test/cum_return/ddpg</td><td>5.63</td></tr><tr><td>test/cum_return/ppo</td><td>7.78</td></tr><tr><td>test/cum_return/sac</td><td>1.14</td></tr><tr><td>test/cum_return/td3</td><td>-8.22</td></tr><tr><td>test/mdd/a2c</td><td>-2.8</td></tr><tr><td>test/mdd/best_model</td><td>-2.04</td></tr><tr><td>test/mdd/ddpg</td><td>-1.88</td></tr><tr><td>test/mdd/ppo</td><td>-2.04</td></tr><tr><td>test/mdd/sac</td><td>-3.7</td></tr><tr><td>test/mdd/td3</td><td>-8.5</td></tr><tr><td>test/sharpe_ratio/a2c</td><td>2.97</td></tr><tr><td>test/sharpe_ratio/best_model</td><td>3.5</td></tr><tr><td>test/sharpe_ratio/ddpg</td><td>2.72</td></tr><tr><td>test/sharpe_ratio/ppo</td><td>3.5</td></tr><tr><td>test/sharpe_ratio/sac</td><td>0.47</td></tr><tr><td>test/sharpe_ratio/td3</td><td>-3.06</td></tr></table><br/></div></div>"
            ]
          },
          "metadata": {}
        },
        {
          "output_type": "display_data",
          "data": {
            "text/plain": [
              "<IPython.core.display.HTML object>"
            ],
            "text/html": [
              " View run <strong style=\"color:#cdcd00\">DOW-30 | 2009-01 | 2017 Q1 | 2017 Q2 | N9uo1</strong> at: <a href='https://wandb.ai/overfit1010/finrl-dt-replicate/runs/7ckhysh8' target=\"_blank\">https://wandb.ai/overfit1010/finrl-dt-replicate/runs/7ckhysh8</a><br> View project at: <a href='https://wandb.ai/overfit1010/finrl-dt-replicate' target=\"_blank\">https://wandb.ai/overfit1010/finrl-dt-replicate</a><br>Synced 5 W&B file(s), 0 media file(s), 0 artifact file(s) and 0 other file(s)"
            ]
          },
          "metadata": {}
        },
        {
          "output_type": "display_data",
          "data": {
            "text/plain": [
              "<IPython.core.display.HTML object>"
            ],
            "text/html": [
              "Find logs at: <code>./wandb/run-20250106_115550-7ckhysh8/logs</code>"
            ]
          },
          "metadata": {}
        },
        {
          "output_type": "display_data",
          "data": {
            "text/plain": [
              "<IPython.core.display.HTML object>"
            ],
            "text/html": [
              "Tracking run with wandb version 0.19.1"
            ]
          },
          "metadata": {}
        },
        {
          "output_type": "display_data",
          "data": {
            "text/plain": [
              "<IPython.core.display.HTML object>"
            ],
            "text/html": [
              "Run data is saved locally in <code>/content/wandb/run-20250106_115555-rizcli4c</code>"
            ]
          },
          "metadata": {}
        },
        {
          "output_type": "display_data",
          "data": {
            "text/plain": [
              "<IPython.core.display.HTML object>"
            ],
            "text/html": [
              "Resuming run <strong><a href='https://wandb.ai/overfit1010/finrl-dt-replicate/runs/rizcli4c' target=\"_blank\">DOW-30 | 2009-01 | 2016 Q4 | 2017 Q1 | 4o7R6</a></strong> to <a href='https://wandb.ai/overfit1010/finrl-dt-replicate' target=\"_blank\">Weights & Biases</a> (<a href='https://wandb.me/developer-guide' target=\"_blank\">docs</a>)<br>Sweep page: <a href='https://wandb.ai/overfit1010/finrl-dt-replicate/sweeps/k43io2uh' target=\"_blank\">https://wandb.ai/overfit1010/finrl-dt-replicate/sweeps/k43io2uh</a>"
            ]
          },
          "metadata": {}
        },
        {
          "output_type": "display_data",
          "data": {
            "text/plain": [
              "<IPython.core.display.HTML object>"
            ],
            "text/html": [
              " View project at <a href='https://wandb.ai/overfit1010/finrl-dt-replicate' target=\"_blank\">https://wandb.ai/overfit1010/finrl-dt-replicate</a>"
            ]
          },
          "metadata": {}
        },
        {
          "output_type": "display_data",
          "data": {
            "text/plain": [
              "<IPython.core.display.HTML object>"
            ],
            "text/html": [
              " View sweep at <a href='https://wandb.ai/overfit1010/finrl-dt-replicate/sweeps/k43io2uh' target=\"_blank\">https://wandb.ai/overfit1010/finrl-dt-replicate/sweeps/k43io2uh</a>"
            ]
          },
          "metadata": {}
        },
        {
          "output_type": "display_data",
          "data": {
            "text/plain": [
              "<IPython.core.display.HTML object>"
            ],
            "text/html": [
              " View run at <a href='https://wandb.ai/overfit1010/finrl-dt-replicate/runs/rizcli4c' target=\"_blank\">https://wandb.ai/overfit1010/finrl-dt-replicate/runs/rizcli4c</a>"
            ]
          },
          "metadata": {}
        },
        {
          "output_type": "stream",
          "name": "stdout",
          "text": [
            "Skipping 'dummy' split\n"
          ]
        },
        {
          "output_type": "display_data",
          "data": {
            "text/plain": [
              "<IPython.core.display.HTML object>"
            ],
            "text/html": []
          },
          "metadata": {}
        },
        {
          "output_type": "display_data",
          "data": {
            "text/plain": [
              "<IPython.core.display.HTML object>"
            ],
            "text/html": [
              "<br>    <style><br>        .wandb-row {<br>            display: flex;<br>            flex-direction: row;<br>            flex-wrap: wrap;<br>            justify-content: flex-start;<br>            width: 100%;<br>        }<br>        .wandb-col {<br>            display: flex;<br>            flex-direction: column;<br>            flex-basis: 100%;<br>            flex: 1;<br>            padding: 10px;<br>        }<br>    </style><br><div class=\"wandb-row\"><div class=\"wandb-col\"><h3>Run summary:</h3><br/><table class=\"wandb\"><tr><td>best_model_name</td><td>ppo</td></tr><tr><td>test/ann_return/a2c</td><td>14.29</td></tr><tr><td>test/ann_return/best_model</td><td>38.41</td></tr><tr><td>test/ann_return/ddpg</td><td>30.33</td></tr><tr><td>test/ann_return/ppo</td><td>38.41</td></tr><tr><td>test/ann_return/sac</td><td>3.37</td></tr><tr><td>test/ann_return/td3</td><td>-2.16</td></tr><tr><td>test/best_model_name</td><td>ppo</td></tr><tr><td>test/cum_return/a2c</td><td>3.2</td></tr><tr><td>test/cum_return/best_model</td><td>7.96</td></tr><tr><td>test/cum_return/ddpg</td><td>6.44</td></tr><tr><td>test/cum_return/ppo</td><td>7.96</td></tr><tr><td>test/cum_return/sac</td><td>0.78</td></tr><tr><td>test/cum_return/td3</td><td>-0.51</td></tr><tr><td>test/mdd/a2c</td><td>-4.71</td></tr><tr><td>test/mdd/best_model</td><td>-4.0</td></tr><tr><td>test/mdd/ddpg</td><td>-4.94</td></tr><tr><td>test/mdd/ppo</td><td>-4.0</td></tr><tr><td>test/mdd/sac</td><td>-4.87</td></tr><tr><td>test/mdd/td3</td><td>-4.1</td></tr><tr><td>test/sharpe_ratio/a2c</td><td>1.33</td></tr><tr><td>test/sharpe_ratio/best_model</td><td>3.36</td></tr><tr><td>test/sharpe_ratio/ddpg</td><td>2.69</td></tr><tr><td>test/sharpe_ratio/ppo</td><td>3.36</td></tr><tr><td>test/sharpe_ratio/sac</td><td>0.38</td></tr><tr><td>test/sharpe_ratio/td3</td><td>-0.16</td></tr></table><br/></div></div>"
            ]
          },
          "metadata": {}
        },
        {
          "output_type": "display_data",
          "data": {
            "text/plain": [
              "<IPython.core.display.HTML object>"
            ],
            "text/html": [
              " View run <strong style=\"color:#cdcd00\">DOW-30 | 2009-01 | 2016 Q4 | 2017 Q1 | 4o7R6</strong> at: <a href='https://wandb.ai/overfit1010/finrl-dt-replicate/runs/rizcli4c' target=\"_blank\">https://wandb.ai/overfit1010/finrl-dt-replicate/runs/rizcli4c</a><br> View project at: <a href='https://wandb.ai/overfit1010/finrl-dt-replicate' target=\"_blank\">https://wandb.ai/overfit1010/finrl-dt-replicate</a><br>Synced 5 W&B file(s), 0 media file(s), 0 artifact file(s) and 0 other file(s)"
            ]
          },
          "metadata": {}
        },
        {
          "output_type": "display_data",
          "data": {
            "text/plain": [
              "<IPython.core.display.HTML object>"
            ],
            "text/html": [
              "Find logs at: <code>./wandb/run-20250106_115555-rizcli4c/logs</code>"
            ]
          },
          "metadata": {}
        },
        {
          "output_type": "display_data",
          "data": {
            "text/plain": [
              "<IPython.core.display.HTML object>"
            ],
            "text/html": [
              "Tracking run with wandb version 0.19.1"
            ]
          },
          "metadata": {}
        },
        {
          "output_type": "display_data",
          "data": {
            "text/plain": [
              "<IPython.core.display.HTML object>"
            ],
            "text/html": [
              "Run data is saved locally in <code>/content/wandb/run-20250106_115600-g5hc85fb</code>"
            ]
          },
          "metadata": {}
        },
        {
          "output_type": "display_data",
          "data": {
            "text/plain": [
              "<IPython.core.display.HTML object>"
            ],
            "text/html": [
              "Resuming run <strong><a href='https://wandb.ai/overfit1010/finrl-dt-replicate/runs/g5hc85fb' target=\"_blank\">DOW-30 | 2009-01 | 2016 Q3 | 2016 Q4 | g8Rzs</a></strong> to <a href='https://wandb.ai/overfit1010/finrl-dt-replicate' target=\"_blank\">Weights & Biases</a> (<a href='https://wandb.me/developer-guide' target=\"_blank\">docs</a>)<br>Sweep page: <a href='https://wandb.ai/overfit1010/finrl-dt-replicate/sweeps/k43io2uh' target=\"_blank\">https://wandb.ai/overfit1010/finrl-dt-replicate/sweeps/k43io2uh</a>"
            ]
          },
          "metadata": {}
        },
        {
          "output_type": "display_data",
          "data": {
            "text/plain": [
              "<IPython.core.display.HTML object>"
            ],
            "text/html": [
              " View project at <a href='https://wandb.ai/overfit1010/finrl-dt-replicate' target=\"_blank\">https://wandb.ai/overfit1010/finrl-dt-replicate</a>"
            ]
          },
          "metadata": {}
        },
        {
          "output_type": "display_data",
          "data": {
            "text/plain": [
              "<IPython.core.display.HTML object>"
            ],
            "text/html": [
              " View sweep at <a href='https://wandb.ai/overfit1010/finrl-dt-replicate/sweeps/k43io2uh' target=\"_blank\">https://wandb.ai/overfit1010/finrl-dt-replicate/sweeps/k43io2uh</a>"
            ]
          },
          "metadata": {}
        },
        {
          "output_type": "display_data",
          "data": {
            "text/plain": [
              "<IPython.core.display.HTML object>"
            ],
            "text/html": [
              " View run at <a href='https://wandb.ai/overfit1010/finrl-dt-replicate/runs/g5hc85fb' target=\"_blank\">https://wandb.ai/overfit1010/finrl-dt-replicate/runs/g5hc85fb</a>"
            ]
          },
          "metadata": {}
        },
        {
          "output_type": "stream",
          "name": "stdout",
          "text": [
            "Skipping 'dummy' split\n"
          ]
        },
        {
          "output_type": "display_data",
          "data": {
            "text/plain": [
              "<IPython.core.display.HTML object>"
            ],
            "text/html": []
          },
          "metadata": {}
        },
        {
          "output_type": "display_data",
          "data": {
            "text/plain": [
              "<IPython.core.display.HTML object>"
            ],
            "text/html": [
              "<br>    <style><br>        .wandb-row {<br>            display: flex;<br>            flex-direction: row;<br>            flex-wrap: wrap;<br>            justify-content: flex-start;<br>            width: 100%;<br>        }<br>        .wandb-col {<br>            display: flex;<br>            flex-direction: column;<br>            flex-basis: 100%;<br>            flex: 1;<br>            padding: 10px;<br>        }<br>    </style><br><div class=\"wandb-row\"><div class=\"wandb-col\"><h3>Run summary:</h3><br/><table class=\"wandb\"><tr><td>best_model_name</td><td>sac</td></tr><tr><td>test/ann_return/a2c</td><td>5.86</td></tr><tr><td>test/ann_return/best_model</td><td>57.72</td></tr><tr><td>test/ann_return/ddpg</td><td>28.89</td></tr><tr><td>test/ann_return/ppo</td><td>31.57</td></tr><tr><td>test/ann_return/sac</td><td>57.72</td></tr><tr><td>test/ann_return/td3</td><td>24.12</td></tr><tr><td>test/best_model_name</td><td>sac</td></tr><tr><td>test/cum_return/a2c</td><td>1.37</td></tr><tr><td>test/cum_return/best_model</td><td>11.47</td></tr><tr><td>test/cum_return/ddpg</td><td>6.24</td></tr><tr><td>test/cum_return/ppo</td><td>6.76</td></tr><tr><td>test/cum_return/sac</td><td>11.47</td></tr><tr><td>test/cum_return/td3</td><td>5.29</td></tr><tr><td>test/mdd/a2c</td><td>-6.66</td></tr><tr><td>test/mdd/best_model</td><td>-2.71</td></tr><tr><td>test/mdd/ddpg</td><td>-4.57</td></tr><tr><td>test/mdd/ppo</td><td>-4.08</td></tr><tr><td>test/mdd/sac</td><td>-2.71</td></tr><tr><td>test/mdd/td3</td><td>-5.61</td></tr><tr><td>test/sharpe_ratio/a2c</td><td>0.5</td></tr><tr><td>test/sharpe_ratio/best_model</td><td>4.64</td></tr><tr><td>test/sharpe_ratio/ddpg</td><td>2.17</td></tr><tr><td>test/sharpe_ratio/ppo</td><td>2.23</td></tr><tr><td>test/sharpe_ratio/sac</td><td>4.64</td></tr><tr><td>test/sharpe_ratio/td3</td><td>1.72</td></tr></table><br/></div></div>"
            ]
          },
          "metadata": {}
        },
        {
          "output_type": "display_data",
          "data": {
            "text/plain": [
              "<IPython.core.display.HTML object>"
            ],
            "text/html": [
              " View run <strong style=\"color:#cdcd00\">DOW-30 | 2009-01 | 2016 Q3 | 2016 Q4 | g8Rzs</strong> at: <a href='https://wandb.ai/overfit1010/finrl-dt-replicate/runs/g5hc85fb' target=\"_blank\">https://wandb.ai/overfit1010/finrl-dt-replicate/runs/g5hc85fb</a><br> View project at: <a href='https://wandb.ai/overfit1010/finrl-dt-replicate' target=\"_blank\">https://wandb.ai/overfit1010/finrl-dt-replicate</a><br>Synced 5 W&B file(s), 0 media file(s), 0 artifact file(s) and 0 other file(s)"
            ]
          },
          "metadata": {}
        },
        {
          "output_type": "display_data",
          "data": {
            "text/plain": [
              "<IPython.core.display.HTML object>"
            ],
            "text/html": [
              "Find logs at: <code>./wandb/run-20250106_115600-g5hc85fb/logs</code>"
            ]
          },
          "metadata": {}
        },
        {
          "output_type": "display_data",
          "data": {
            "text/plain": [
              "<IPython.core.display.HTML object>"
            ],
            "text/html": [
              "Tracking run with wandb version 0.19.1"
            ]
          },
          "metadata": {}
        },
        {
          "output_type": "display_data",
          "data": {
            "text/plain": [
              "<IPython.core.display.HTML object>"
            ],
            "text/html": [
              "Run data is saved locally in <code>/content/wandb/run-20250106_115605-ilv1yo6z</code>"
            ]
          },
          "metadata": {}
        },
        {
          "output_type": "display_data",
          "data": {
            "text/plain": [
              "<IPython.core.display.HTML object>"
            ],
            "text/html": [
              "Resuming run <strong><a href='https://wandb.ai/overfit1010/finrl-dt-replicate/runs/ilv1yo6z' target=\"_blank\">DOW-30 | 2009-01 | 2016 Q2 | 2016 Q3 | znbkR</a></strong> to <a href='https://wandb.ai/overfit1010/finrl-dt-replicate' target=\"_blank\">Weights & Biases</a> (<a href='https://wandb.me/developer-guide' target=\"_blank\">docs</a>)<br>Sweep page: <a href='https://wandb.ai/overfit1010/finrl-dt-replicate/sweeps/k43io2uh' target=\"_blank\">https://wandb.ai/overfit1010/finrl-dt-replicate/sweeps/k43io2uh</a>"
            ]
          },
          "metadata": {}
        },
        {
          "output_type": "display_data",
          "data": {
            "text/plain": [
              "<IPython.core.display.HTML object>"
            ],
            "text/html": [
              " View project at <a href='https://wandb.ai/overfit1010/finrl-dt-replicate' target=\"_blank\">https://wandb.ai/overfit1010/finrl-dt-replicate</a>"
            ]
          },
          "metadata": {}
        },
        {
          "output_type": "display_data",
          "data": {
            "text/plain": [
              "<IPython.core.display.HTML object>"
            ],
            "text/html": [
              " View sweep at <a href='https://wandb.ai/overfit1010/finrl-dt-replicate/sweeps/k43io2uh' target=\"_blank\">https://wandb.ai/overfit1010/finrl-dt-replicate/sweeps/k43io2uh</a>"
            ]
          },
          "metadata": {}
        },
        {
          "output_type": "display_data",
          "data": {
            "text/plain": [
              "<IPython.core.display.HTML object>"
            ],
            "text/html": [
              " View run at <a href='https://wandb.ai/overfit1010/finrl-dt-replicate/runs/ilv1yo6z' target=\"_blank\">https://wandb.ai/overfit1010/finrl-dt-replicate/runs/ilv1yo6z</a>"
            ]
          },
          "metadata": {}
        },
        {
          "output_type": "stream",
          "name": "stdout",
          "text": [
            "Skipping 'dummy' split\n"
          ]
        },
        {
          "output_type": "display_data",
          "data": {
            "text/plain": [
              "<IPython.core.display.HTML object>"
            ],
            "text/html": []
          },
          "metadata": {}
        },
        {
          "output_type": "display_data",
          "data": {
            "text/plain": [
              "<IPython.core.display.HTML object>"
            ],
            "text/html": [
              "<br>    <style><br>        .wandb-row {<br>            display: flex;<br>            flex-direction: row;<br>            flex-wrap: wrap;<br>            justify-content: flex-start;<br>            width: 100%;<br>        }<br>        .wandb-col {<br>            display: flex;<br>            flex-direction: column;<br>            flex-basis: 100%;<br>            flex: 1;<br>            padding: 10px;<br>        }<br>    </style><br><div class=\"wandb-row\"><div class=\"wandb-col\"><h3>Run summary:</h3><br/><table class=\"wandb\"><tr><td>best_model_name</td><td>sac</td></tr><tr><td>test/ann_return/a2c</td><td>4.11</td></tr><tr><td>test/ann_return/best_model</td><td>4.84</td></tr><tr><td>test/ann_return/ddpg</td><td>-3.25</td></tr><tr><td>test/ann_return/ppo</td><td>-12.25</td></tr><tr><td>test/ann_return/sac</td><td>4.84</td></tr><tr><td>test/ann_return/td3</td><td>-23.11</td></tr><tr><td>test/best_model_name</td><td>sac</td></tr><tr><td>test/cum_return/a2c</td><td>1.0</td></tr><tr><td>test/cum_return/best_model</td><td>1.17</td></tr><tr><td>test/cum_return/ddpg</td><td>-0.81</td></tr><tr><td>test/cum_return/ppo</td><td>-3.17</td></tr><tr><td>test/cum_return/sac</td><td>1.17</td></tr><tr><td>test/cum_return/td3</td><td>-6.27</td></tr><tr><td>test/mdd/a2c</td><td>-3.5</td></tr><tr><td>test/mdd/best_model</td><td>-2.99</td></tr><tr><td>test/mdd/ddpg</td><td>-4.35</td></tr><tr><td>test/mdd/ppo</td><td>-5.93</td></tr><tr><td>test/mdd/sac</td><td>-2.99</td></tr><tr><td>test/mdd/td3</td><td>-7.11</td></tr><tr><td>test/sharpe_ratio/a2c</td><td>0.41</td></tr><tr><td>test/sharpe_ratio/best_model</td><td>0.49</td></tr><tr><td>test/sharpe_ratio/ddpg</td><td>-0.2</td></tr><tr><td>test/sharpe_ratio/ppo</td><td>-1.36</td></tr><tr><td>test/sharpe_ratio/sac</td><td>0.49</td></tr><tr><td>test/sharpe_ratio/td3</td><td>-1.78</td></tr></table><br/></div></div>"
            ]
          },
          "metadata": {}
        },
        {
          "output_type": "display_data",
          "data": {
            "text/plain": [
              "<IPython.core.display.HTML object>"
            ],
            "text/html": [
              " View run <strong style=\"color:#cdcd00\">DOW-30 | 2009-01 | 2016 Q2 | 2016 Q3 | znbkR</strong> at: <a href='https://wandb.ai/overfit1010/finrl-dt-replicate/runs/ilv1yo6z' target=\"_blank\">https://wandb.ai/overfit1010/finrl-dt-replicate/runs/ilv1yo6z</a><br> View project at: <a href='https://wandb.ai/overfit1010/finrl-dt-replicate' target=\"_blank\">https://wandb.ai/overfit1010/finrl-dt-replicate</a><br>Synced 5 W&B file(s), 0 media file(s), 0 artifact file(s) and 0 other file(s)"
            ]
          },
          "metadata": {}
        },
        {
          "output_type": "display_data",
          "data": {
            "text/plain": [
              "<IPython.core.display.HTML object>"
            ],
            "text/html": [
              "Find logs at: <code>./wandb/run-20250106_115605-ilv1yo6z/logs</code>"
            ]
          },
          "metadata": {}
        },
        {
          "output_type": "display_data",
          "data": {
            "text/plain": [
              "<IPython.core.display.HTML object>"
            ],
            "text/html": [
              "Tracking run with wandb version 0.19.1"
            ]
          },
          "metadata": {}
        },
        {
          "output_type": "display_data",
          "data": {
            "text/plain": [
              "<IPython.core.display.HTML object>"
            ],
            "text/html": [
              "Run data is saved locally in <code>/content/wandb/run-20250106_115610-z64rbpbl</code>"
            ]
          },
          "metadata": {}
        },
        {
          "output_type": "display_data",
          "data": {
            "text/plain": [
              "<IPython.core.display.HTML object>"
            ],
            "text/html": [
              "Resuming run <strong><a href='https://wandb.ai/overfit1010/finrl-dt-replicate/runs/z64rbpbl' target=\"_blank\">DOW-30 | 2009-01 | 2016 Q1 | 2016 Q2 | V0mXl</a></strong> to <a href='https://wandb.ai/overfit1010/finrl-dt-replicate' target=\"_blank\">Weights & Biases</a> (<a href='https://wandb.me/developer-guide' target=\"_blank\">docs</a>)<br>Sweep page: <a href='https://wandb.ai/overfit1010/finrl-dt-replicate/sweeps/k43io2uh' target=\"_blank\">https://wandb.ai/overfit1010/finrl-dt-replicate/sweeps/k43io2uh</a>"
            ]
          },
          "metadata": {}
        },
        {
          "output_type": "display_data",
          "data": {
            "text/plain": [
              "<IPython.core.display.HTML object>"
            ],
            "text/html": [
              " View project at <a href='https://wandb.ai/overfit1010/finrl-dt-replicate' target=\"_blank\">https://wandb.ai/overfit1010/finrl-dt-replicate</a>"
            ]
          },
          "metadata": {}
        },
        {
          "output_type": "display_data",
          "data": {
            "text/plain": [
              "<IPython.core.display.HTML object>"
            ],
            "text/html": [
              " View sweep at <a href='https://wandb.ai/overfit1010/finrl-dt-replicate/sweeps/k43io2uh' target=\"_blank\">https://wandb.ai/overfit1010/finrl-dt-replicate/sweeps/k43io2uh</a>"
            ]
          },
          "metadata": {}
        },
        {
          "output_type": "display_data",
          "data": {
            "text/plain": [
              "<IPython.core.display.HTML object>"
            ],
            "text/html": [
              " View run at <a href='https://wandb.ai/overfit1010/finrl-dt-replicate/runs/z64rbpbl' target=\"_blank\">https://wandb.ai/overfit1010/finrl-dt-replicate/runs/z64rbpbl</a>"
            ]
          },
          "metadata": {}
        },
        {
          "output_type": "stream",
          "name": "stdout",
          "text": [
            "Skipping 'dummy' split\n"
          ]
        },
        {
          "output_type": "display_data",
          "data": {
            "text/plain": [
              "<IPython.core.display.HTML object>"
            ],
            "text/html": []
          },
          "metadata": {}
        },
        {
          "output_type": "display_data",
          "data": {
            "text/plain": [
              "<IPython.core.display.HTML object>"
            ],
            "text/html": [
              "<br>    <style><br>        .wandb-row {<br>            display: flex;<br>            flex-direction: row;<br>            flex-wrap: wrap;<br>            justify-content: flex-start;<br>            width: 100%;<br>        }<br>        .wandb-col {<br>            display: flex;<br>            flex-direction: column;<br>            flex-basis: 100%;<br>            flex: 1;<br>            padding: 10px;<br>        }<br>    </style><br><div class=\"wandb-row\"><div class=\"wandb-col\"><h3>Run summary:</h3><br/><table class=\"wandb\"><tr><td>best_model_name</td><td>ppo</td></tr><tr><td>test/ann_return/a2c</td><td>-7.25</td></tr><tr><td>test/ann_return/best_model</td><td>-13.69</td></tr><tr><td>test/ann_return/ddpg</td><td>-2.82</td></tr><tr><td>test/ann_return/ppo</td><td>-1.4</td></tr><tr><td>test/ann_return/sac</td><td>-13.69</td></tr><tr><td>test/ann_return/td3</td><td>-12.49</td></tr><tr><td>test/best_model_name</td><td>sac</td></tr><tr><td>test/cum_return/a2c</td><td>-1.82</td></tr><tr><td>test/cum_return/best_model</td><td>-3.53</td></tr><tr><td>test/cum_return/ddpg</td><td>-0.69</td></tr><tr><td>test/cum_return/ppo</td><td>-0.34</td></tr><tr><td>test/cum_return/sac</td><td>-3.53</td></tr><tr><td>test/cum_return/td3</td><td>-3.2</td></tr><tr><td>test/mdd/a2c</td><td>-6.1</td></tr><tr><td>test/mdd/best_model</td><td>-7.09</td></tr><tr><td>test/mdd/ddpg</td><td>-6.97</td></tr><tr><td>test/mdd/ppo</td><td>-4.58</td></tr><tr><td>test/mdd/sac</td><td>-7.09</td></tr><tr><td>test/mdd/td3</td><td>-6.9</td></tr><tr><td>test/sharpe_ratio/a2c</td><td>-0.49</td></tr><tr><td>test/sharpe_ratio/best_model</td><td>-0.93</td></tr><tr><td>test/sharpe_ratio/ddpg</td><td>-0.09</td></tr><tr><td>test/sharpe_ratio/ppo</td><td>-0.06</td></tr><tr><td>test/sharpe_ratio/sac</td><td>-0.93</td></tr><tr><td>test/sharpe_ratio/td3</td><td>-0.62</td></tr></table><br/></div></div>"
            ]
          },
          "metadata": {}
        },
        {
          "output_type": "display_data",
          "data": {
            "text/plain": [
              "<IPython.core.display.HTML object>"
            ],
            "text/html": [
              " View run <strong style=\"color:#cdcd00\">DOW-30 | 2009-01 | 2016 Q1 | 2016 Q2 | V0mXl</strong> at: <a href='https://wandb.ai/overfit1010/finrl-dt-replicate/runs/z64rbpbl' target=\"_blank\">https://wandb.ai/overfit1010/finrl-dt-replicate/runs/z64rbpbl</a><br> View project at: <a href='https://wandb.ai/overfit1010/finrl-dt-replicate' target=\"_blank\">https://wandb.ai/overfit1010/finrl-dt-replicate</a><br>Synced 5 W&B file(s), 0 media file(s), 0 artifact file(s) and 0 other file(s)"
            ]
          },
          "metadata": {}
        },
        {
          "output_type": "display_data",
          "data": {
            "text/plain": [
              "<IPython.core.display.HTML object>"
            ],
            "text/html": [
              "Find logs at: <code>./wandb/run-20250106_115610-z64rbpbl/logs</code>"
            ]
          },
          "metadata": {}
        },
        {
          "output_type": "display_data",
          "data": {
            "text/plain": [
              "<IPython.core.display.HTML object>"
            ],
            "text/html": [
              "Tracking run with wandb version 0.19.1"
            ]
          },
          "metadata": {}
        },
        {
          "output_type": "display_data",
          "data": {
            "text/plain": [
              "<IPython.core.display.HTML object>"
            ],
            "text/html": [
              "Run data is saved locally in <code>/content/wandb/run-20250106_115614-nmvowd2y</code>"
            ]
          },
          "metadata": {}
        },
        {
          "output_type": "display_data",
          "data": {
            "text/plain": [
              "<IPython.core.display.HTML object>"
            ],
            "text/html": [
              "Resuming run <strong><a href='https://wandb.ai/overfit1010/finrl-dt-replicate/runs/nmvowd2y' target=\"_blank\">DOW-30 | 2009-01 | 2015 Q4 | 2016 Q1 | VAjcS</a></strong> to <a href='https://wandb.ai/overfit1010/finrl-dt-replicate' target=\"_blank\">Weights & Biases</a> (<a href='https://wandb.me/developer-guide' target=\"_blank\">docs</a>)<br>Sweep page: <a href='https://wandb.ai/overfit1010/finrl-dt-replicate/sweeps/k43io2uh' target=\"_blank\">https://wandb.ai/overfit1010/finrl-dt-replicate/sweeps/k43io2uh</a>"
            ]
          },
          "metadata": {}
        },
        {
          "output_type": "display_data",
          "data": {
            "text/plain": [
              "<IPython.core.display.HTML object>"
            ],
            "text/html": [
              " View project at <a href='https://wandb.ai/overfit1010/finrl-dt-replicate' target=\"_blank\">https://wandb.ai/overfit1010/finrl-dt-replicate</a>"
            ]
          },
          "metadata": {}
        },
        {
          "output_type": "display_data",
          "data": {
            "text/plain": [
              "<IPython.core.display.HTML object>"
            ],
            "text/html": [
              " View sweep at <a href='https://wandb.ai/overfit1010/finrl-dt-replicate/sweeps/k43io2uh' target=\"_blank\">https://wandb.ai/overfit1010/finrl-dt-replicate/sweeps/k43io2uh</a>"
            ]
          },
          "metadata": {}
        },
        {
          "output_type": "display_data",
          "data": {
            "text/plain": [
              "<IPython.core.display.HTML object>"
            ],
            "text/html": [
              " View run at <a href='https://wandb.ai/overfit1010/finrl-dt-replicate/runs/nmvowd2y' target=\"_blank\">https://wandb.ai/overfit1010/finrl-dt-replicate/runs/nmvowd2y</a>"
            ]
          },
          "metadata": {}
        },
        {
          "output_type": "stream",
          "name": "stdout",
          "text": [
            "Skipping 'dummy' split\n"
          ]
        },
        {
          "output_type": "display_data",
          "data": {
            "text/plain": [
              "<IPython.core.display.HTML object>"
            ],
            "text/html": []
          },
          "metadata": {}
        },
        {
          "output_type": "display_data",
          "data": {
            "text/plain": [
              "<IPython.core.display.HTML object>"
            ],
            "text/html": [
              "<br>    <style><br>        .wandb-row {<br>            display: flex;<br>            flex-direction: row;<br>            flex-wrap: wrap;<br>            justify-content: flex-start;<br>            width: 100%;<br>        }<br>        .wandb-col {<br>            display: flex;<br>            flex-direction: column;<br>            flex-basis: 100%;<br>            flex: 1;<br>            padding: 10px;<br>        }<br>    </style><br><div class=\"wandb-row\"><div class=\"wandb-col\"><h3>Run summary:</h3><br/><table class=\"wandb\"><tr><td>best_model_name</td><td>a2c</td></tr><tr><td>test/ann_return/a2c</td><td>20.46</td></tr><tr><td>test/ann_return/best_model</td><td>20.46</td></tr><tr><td>test/ann_return/ddpg</td><td>-16.13</td></tr><tr><td>test/ann_return/ppo</td><td>-0.68</td></tr><tr><td>test/ann_return/sac</td><td>3.3</td></tr><tr><td>test/ann_return/td3</td><td>-7.96</td></tr><tr><td>test/best_model_name</td><td>a2c</td></tr><tr><td>test/cum_return/a2c</td><td>4.48</td></tr><tr><td>test/cum_return/best_model</td><td>4.48</td></tr><tr><td>test/cum_return/ddpg</td><td>-4.06</td></tr><tr><td>test/cum_return/ppo</td><td>-0.16</td></tr><tr><td>test/cum_return/sac</td><td>0.77</td></tr><tr><td>test/cum_return/td3</td><td>-1.94</td></tr><tr><td>test/mdd/a2c</td><td>-8.64</td></tr><tr><td>test/mdd/best_model</td><td>-8.64</td></tr><tr><td>test/mdd/ddpg</td><td>-15.8</td></tr><tr><td>test/mdd/ppo</td><td>-9.58</td></tr><tr><td>test/mdd/sac</td><td>-11.43</td></tr><tr><td>test/mdd/td3</td><td>-16.22</td></tr><tr><td>test/sharpe_ratio/a2c</td><td>1.19</td></tr><tr><td>test/sharpe_ratio/best_model</td><td>1.19</td></tr><tr><td>test/sharpe_ratio/ddpg</td><td>-0.58</td></tr><tr><td>test/sharpe_ratio/ppo</td><td>0.04</td></tr><tr><td>test/sharpe_ratio/sac</td><td>0.26</td></tr><tr><td>test/sharpe_ratio/td3</td><td>-0.21</td></tr></table><br/></div></div>"
            ]
          },
          "metadata": {}
        },
        {
          "output_type": "display_data",
          "data": {
            "text/plain": [
              "<IPython.core.display.HTML object>"
            ],
            "text/html": [
              " View run <strong style=\"color:#cdcd00\">DOW-30 | 2009-01 | 2015 Q4 | 2016 Q1 | VAjcS</strong> at: <a href='https://wandb.ai/overfit1010/finrl-dt-replicate/runs/nmvowd2y' target=\"_blank\">https://wandb.ai/overfit1010/finrl-dt-replicate/runs/nmvowd2y</a><br> View project at: <a href='https://wandb.ai/overfit1010/finrl-dt-replicate' target=\"_blank\">https://wandb.ai/overfit1010/finrl-dt-replicate</a><br>Synced 5 W&B file(s), 0 media file(s), 0 artifact file(s) and 0 other file(s)"
            ]
          },
          "metadata": {}
        },
        {
          "output_type": "display_data",
          "data": {
            "text/plain": [
              "<IPython.core.display.HTML object>"
            ],
            "text/html": [
              "Find logs at: <code>./wandb/run-20250106_115614-nmvowd2y/logs</code>"
            ]
          },
          "metadata": {}
        }
      ],
      "source": [
        "#@title fix_sharpe_ratios_all (per SWEEP)\n",
        "\n",
        "def fix_sharpe_ratios_all(sweep_id):\n",
        "    api = wandb.Api()\n",
        "    sweep = api.sweep(f\"{ENTITY}/{PROJECT}/{sweep_id}\")\n",
        "\n",
        "    for run in sweep.runs:\n",
        "        with wandb.init(id=run.id, project=PROJECT, entity=ENTITY, resume=\"must\") as run:\n",
        "            fix_sharpe_ratios(run)\n",
        "\n",
        "SWEEP_ID = 'k43io2uh'\n",
        "fix_sharpe_ratios_all(SWEEP_ID)"
      ]
    },
    {
      "cell_type": "markdown",
      "source": [
        "# Rename metrics"
      ],
      "metadata": {
        "id": "TqjpQ9jzGAK6"
      }
    },
    {
      "cell_type": "code",
      "execution_count": null,
      "metadata": {
        "id": "pje1QlhT9MwM",
        "cellView": "form"
      },
      "outputs": [],
      "source": [
        "#@title rename_metrics_in_sweep\n",
        "import wandb\n",
        "\n",
        "def rename_metrics_in_sweep(sweep_id, metric_rename_map):\n",
        "    \"\"\"\n",
        "    Rename metrics in all runs of a given sweep.\n",
        "\n",
        "    Parameters:\n",
        "        sweep_id (str): The ID of the sweep.\n",
        "        metric_rename_map (dict): A dictionary where keys are old metric names and values are the new names.\n",
        "    \"\"\"\n",
        "    api = wandb.Api()\n",
        "    sweep = api.sweep(f\"{ENTITY}/{PROJECT}/{sweep_id}\")\n",
        "\n",
        "    for run in sweep.runs:\n",
        "        try:\n",
        "            # Activate the run with context manager\n",
        "            with wandb.init(id=run.id, project=PROJECT, entity=ENTITY, resume=\"allow\"):\n",
        "                # Get the run's summary\n",
        "                summary = run.summary\n",
        "\n",
        "                # Rename metrics based on the provided mapping\n",
        "                for old_metric, new_metric in metric_rename_map.items():\n",
        "                    if old_metric in summary:\n",
        "                        # Convert the metric to float if possible\n",
        "                        try:\n",
        "                            metric_value = float(summary[old_metric])\n",
        "                        except ValueError:\n",
        "                            metric_value = summary[old_metric]  # Keep the value if it's not convertible to float\n",
        "\n",
        "                        # Log the renamed metric to the current run\n",
        "                        wandb.log({new_metric: metric_value})\n",
        "\n",
        "                # Save the updated metrics\n",
        "                print(f\"Updated metrics for run: {run.name}\")\n",
        "        except Exception as e:\n",
        "            print(f\"Failed to update run {run.name}: {e}\")"
      ]
    },
    {
      "cell_type": "code",
      "execution_count": null,
      "metadata": {
        "id": "byiAWv-n8jWn"
      },
      "outputs": [],
      "source": [
        "#@title rename default metrics\n",
        "\n",
        "# metric_rename_map = {\n",
        "#     \"max_sharpe_ratio\": \"train.sharpe_ratio/best_model\",\n",
        "#     \"max_sharpe_ratio_model\": \"train.best_model_name\"\n",
        "# }\n",
        "\n",
        "# metric_rename_map = {\n",
        "#     \"test.sharpe_ratio/best_model\": \"test/sharpe_ratio/best_model\",\n",
        "#     \"test.best_model_name\": \"test/best_model_name\",\n",
        "#     \"test.cum_return/best_model\": \"test/cum_return/best_model\",\n",
        "#     \"test.ann_return/best_model\": \"test/ann_return/best_model\",\n",
        "#     \"test.mdd/best_model\": \"test/mdd/best_model\"\n",
        "# }\n",
        "\n",
        "rename_metrics_in_sweep(sweep_id=SWEEP_ID, metric_rename_map=metric_rename_map)"
      ]
    },
    {
      "cell_type": "code",
      "execution_count": null,
      "metadata": {
        "id": "f7CC8-pHDN3f"
      },
      "outputs": [],
      "source": [
        "wandb.finish()"
      ]
    }
  ],
  "metadata": {
    "colab": {
      "collapsed_sections": [
        "bnopI9QoL550",
        "k_IxXsJXHbl_",
        "Jn5pyF-tIheH",
        "TqjpQ9jzGAK6"
      ],
      "provenance": [],
      "authorship_tag": "ABX9TyPqnJgLBsuSy6zybY7V222a",
      "include_colab_link": true
    },
    "kernelspec": {
      "display_name": "Python 3",
      "name": "python3"
    },
    "language_info": {
      "name": "python"
    },
    "widgets": {
      "application/vnd.jupyter.widget-state+json": {
        "6bca720ed6334741b8859f479f54f136": {
          "model_module": "@jupyter-widgets/controls",
          "model_name": "HBoxModel",
          "model_module_version": "1.5.0",
          "state": {
            "_dom_classes": [],
            "_model_module": "@jupyter-widgets/controls",
            "_model_module_version": "1.5.0",
            "_model_name": "HBoxModel",
            "_view_count": null,
            "_view_module": "@jupyter-widgets/controls",
            "_view_module_version": "1.5.0",
            "_view_name": "HBoxView",
            "box_style": "",
            "children": [
              "IPY_MODEL_6d1e96dea2b8499d8f58dd3b868742ee",
              "IPY_MODEL_e2f87d38c6de40ba93b010c4178a103f",
              "IPY_MODEL_33d294f091f24ece80ee5c44667c823e"
            ],
            "layout": "IPY_MODEL_c4753bc2c90247699b17e3f39c974d85"
          }
        },
        "6d1e96dea2b8499d8f58dd3b868742ee": {
          "model_module": "@jupyter-widgets/controls",
          "model_name": "HTMLModel",
          "model_module_version": "1.5.0",
          "state": {
            "_dom_classes": [],
            "_model_module": "@jupyter-widgets/controls",
            "_model_module_version": "1.5.0",
            "_model_name": "HTMLModel",
            "_view_count": null,
            "_view_module": "@jupyter-widgets/controls",
            "_view_module_version": "1.5.0",
            "_view_name": "HTMLView",
            "description": "",
            "description_tooltip": null,
            "layout": "IPY_MODEL_a0c30f17b2b14beba7dedb950ab8d509",
            "placeholder": "​",
            "style": "IPY_MODEL_40374c6c8b0a439897471c49a9ca0aa3",
            "value": "100%"
          }
        },
        "e2f87d38c6de40ba93b010c4178a103f": {
          "model_module": "@jupyter-widgets/controls",
          "model_name": "FloatProgressModel",
          "model_module_version": "1.5.0",
          "state": {
            "_dom_classes": [],
            "_model_module": "@jupyter-widgets/controls",
            "_model_module_version": "1.5.0",
            "_model_name": "FloatProgressModel",
            "_view_count": null,
            "_view_module": "@jupyter-widgets/controls",
            "_view_module_version": "1.5.0",
            "_view_name": "ProgressView",
            "bar_style": "success",
            "description": "",
            "description_tooltip": null,
            "layout": "IPY_MODEL_eb8b887959d14691a6cabb021e9061f6",
            "max": 17,
            "min": 0,
            "orientation": "horizontal",
            "style": "IPY_MODEL_c658385817684e888f66ddfb11a527b9",
            "value": 17
          }
        },
        "33d294f091f24ece80ee5c44667c823e": {
          "model_module": "@jupyter-widgets/controls",
          "model_name": "HTMLModel",
          "model_module_version": "1.5.0",
          "state": {
            "_dom_classes": [],
            "_model_module": "@jupyter-widgets/controls",
            "_model_module_version": "1.5.0",
            "_model_name": "HTMLModel",
            "_view_count": null,
            "_view_module": "@jupyter-widgets/controls",
            "_view_module_version": "1.5.0",
            "_view_name": "HTMLView",
            "description": "",
            "description_tooltip": null,
            "layout": "IPY_MODEL_03555e8541dd40a2bac821afb808954f",
            "placeholder": "​",
            "style": "IPY_MODEL_1117ce38e08247d3a0e75e9b50cfc31f",
            "value": " 17/17 [03:41&lt;00:00, 12.94s/it]"
          }
        },
        "c4753bc2c90247699b17e3f39c974d85": {
          "model_module": "@jupyter-widgets/base",
          "model_name": "LayoutModel",
          "model_module_version": "1.2.0",
          "state": {
            "_model_module": "@jupyter-widgets/base",
            "_model_module_version": "1.2.0",
            "_model_name": "LayoutModel",
            "_view_count": null,
            "_view_module": "@jupyter-widgets/base",
            "_view_module_version": "1.2.0",
            "_view_name": "LayoutView",
            "align_content": null,
            "align_items": null,
            "align_self": null,
            "border": null,
            "bottom": null,
            "display": null,
            "flex": null,
            "flex_flow": null,
            "grid_area": null,
            "grid_auto_columns": null,
            "grid_auto_flow": null,
            "grid_auto_rows": null,
            "grid_column": null,
            "grid_gap": null,
            "grid_row": null,
            "grid_template_areas": null,
            "grid_template_columns": null,
            "grid_template_rows": null,
            "height": null,
            "justify_content": null,
            "justify_items": null,
            "left": null,
            "margin": null,
            "max_height": null,
            "max_width": null,
            "min_height": null,
            "min_width": null,
            "object_fit": null,
            "object_position": null,
            "order": null,
            "overflow": null,
            "overflow_x": null,
            "overflow_y": null,
            "padding": null,
            "right": null,
            "top": null,
            "visibility": null,
            "width": null
          }
        },
        "a0c30f17b2b14beba7dedb950ab8d509": {
          "model_module": "@jupyter-widgets/base",
          "model_name": "LayoutModel",
          "model_module_version": "1.2.0",
          "state": {
            "_model_module": "@jupyter-widgets/base",
            "_model_module_version": "1.2.0",
            "_model_name": "LayoutModel",
            "_view_count": null,
            "_view_module": "@jupyter-widgets/base",
            "_view_module_version": "1.2.0",
            "_view_name": "LayoutView",
            "align_content": null,
            "align_items": null,
            "align_self": null,
            "border": null,
            "bottom": null,
            "display": null,
            "flex": null,
            "flex_flow": null,
            "grid_area": null,
            "grid_auto_columns": null,
            "grid_auto_flow": null,
            "grid_auto_rows": null,
            "grid_column": null,
            "grid_gap": null,
            "grid_row": null,
            "grid_template_areas": null,
            "grid_template_columns": null,
            "grid_template_rows": null,
            "height": null,
            "justify_content": null,
            "justify_items": null,
            "left": null,
            "margin": null,
            "max_height": null,
            "max_width": null,
            "min_height": null,
            "min_width": null,
            "object_fit": null,
            "object_position": null,
            "order": null,
            "overflow": null,
            "overflow_x": null,
            "overflow_y": null,
            "padding": null,
            "right": null,
            "top": null,
            "visibility": null,
            "width": null
          }
        },
        "40374c6c8b0a439897471c49a9ca0aa3": {
          "model_module": "@jupyter-widgets/controls",
          "model_name": "DescriptionStyleModel",
          "model_module_version": "1.5.0",
          "state": {
            "_model_module": "@jupyter-widgets/controls",
            "_model_module_version": "1.5.0",
            "_model_name": "DescriptionStyleModel",
            "_view_count": null,
            "_view_module": "@jupyter-widgets/base",
            "_view_module_version": "1.2.0",
            "_view_name": "StyleView",
            "description_width": ""
          }
        },
        "eb8b887959d14691a6cabb021e9061f6": {
          "model_module": "@jupyter-widgets/base",
          "model_name": "LayoutModel",
          "model_module_version": "1.2.0",
          "state": {
            "_model_module": "@jupyter-widgets/base",
            "_model_module_version": "1.2.0",
            "_model_name": "LayoutModel",
            "_view_count": null,
            "_view_module": "@jupyter-widgets/base",
            "_view_module_version": "1.2.0",
            "_view_name": "LayoutView",
            "align_content": null,
            "align_items": null,
            "align_self": null,
            "border": null,
            "bottom": null,
            "display": null,
            "flex": null,
            "flex_flow": null,
            "grid_area": null,
            "grid_auto_columns": null,
            "grid_auto_flow": null,
            "grid_auto_rows": null,
            "grid_column": null,
            "grid_gap": null,
            "grid_row": null,
            "grid_template_areas": null,
            "grid_template_columns": null,
            "grid_template_rows": null,
            "height": null,
            "justify_content": null,
            "justify_items": null,
            "left": null,
            "margin": null,
            "max_height": null,
            "max_width": null,
            "min_height": null,
            "min_width": null,
            "object_fit": null,
            "object_position": null,
            "order": null,
            "overflow": null,
            "overflow_x": null,
            "overflow_y": null,
            "padding": null,
            "right": null,
            "top": null,
            "visibility": null,
            "width": null
          }
        },
        "c658385817684e888f66ddfb11a527b9": {
          "model_module": "@jupyter-widgets/controls",
          "model_name": "ProgressStyleModel",
          "model_module_version": "1.5.0",
          "state": {
            "_model_module": "@jupyter-widgets/controls",
            "_model_module_version": "1.5.0",
            "_model_name": "ProgressStyleModel",
            "_view_count": null,
            "_view_module": "@jupyter-widgets/base",
            "_view_module_version": "1.2.0",
            "_view_name": "StyleView",
            "bar_color": null,
            "description_width": ""
          }
        },
        "03555e8541dd40a2bac821afb808954f": {
          "model_module": "@jupyter-widgets/base",
          "model_name": "LayoutModel",
          "model_module_version": "1.2.0",
          "state": {
            "_model_module": "@jupyter-widgets/base",
            "_model_module_version": "1.2.0",
            "_model_name": "LayoutModel",
            "_view_count": null,
            "_view_module": "@jupyter-widgets/base",
            "_view_module_version": "1.2.0",
            "_view_name": "LayoutView",
            "align_content": null,
            "align_items": null,
            "align_self": null,
            "border": null,
            "bottom": null,
            "display": null,
            "flex": null,
            "flex_flow": null,
            "grid_area": null,
            "grid_auto_columns": null,
            "grid_auto_flow": null,
            "grid_auto_rows": null,
            "grid_column": null,
            "grid_gap": null,
            "grid_row": null,
            "grid_template_areas": null,
            "grid_template_columns": null,
            "grid_template_rows": null,
            "height": null,
            "justify_content": null,
            "justify_items": null,
            "left": null,
            "margin": null,
            "max_height": null,
            "max_width": null,
            "min_height": null,
            "min_width": null,
            "object_fit": null,
            "object_position": null,
            "order": null,
            "overflow": null,
            "overflow_x": null,
            "overflow_y": null,
            "padding": null,
            "right": null,
            "top": null,
            "visibility": null,
            "width": null
          }
        },
        "1117ce38e08247d3a0e75e9b50cfc31f": {
          "model_module": "@jupyter-widgets/controls",
          "model_name": "DescriptionStyleModel",
          "model_module_version": "1.5.0",
          "state": {
            "_model_module": "@jupyter-widgets/controls",
            "_model_module_version": "1.5.0",
            "_model_name": "DescriptionStyleModel",
            "_view_count": null,
            "_view_module": "@jupyter-widgets/base",
            "_view_module_version": "1.2.0",
            "_view_name": "StyleView",
            "description_width": ""
          }
        }
      }
    }
  },
  "nbformat": 4,
  "nbformat_minor": 0
}