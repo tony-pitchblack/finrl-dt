{
  "cells": [
    {
      "cell_type": "markdown",
      "metadata": {
        "id": "view-in-github",
        "colab_type": "text"
      },
      "source": [
        "<a href=\"https://colab.research.google.com/github/tony-pitchblack/finrl-dt/blob/custom-backtesting/finrl_dt_replicate_eval.ipynb\" target=\"_parent\"><img src=\"https://colab.research.google.com/assets/colab-badge.svg\" alt=\"Open In Colab\"/></a>"
      ]
    },
    {
      "cell_type": "markdown",
      "metadata": {
        "id": "bnopI9QoL550"
      },
      "source": [
        "# Installs"
      ]
    },
    {
      "cell_type": "code",
      "execution_count": 1,
      "metadata": {
        "id": "FjEBRlmyPp2a"
      },
      "outputs": [],
      "source": [
        "%%capture\n",
        "!pip install stable-baselines3\n",
        "!pip install finrl\n",
        "!pip install alpaca_trade_api\n",
        "!pip install exchange_calendars\n",
        "!pip install stockstats\n",
        "!pip install wrds"
      ]
    },
    {
      "cell_type": "markdown",
      "metadata": {
        "id": "k_IxXsJXHbl_"
      },
      "source": [
        "# Imports"
      ]
    },
    {
      "cell_type": "code",
      "execution_count": 2,
      "metadata": {
        "id": "ObUHWwfqnzyQ"
      },
      "outputs": [],
      "source": [
        "import os\n",
        "import wandb\n",
        "import pandas as pd"
      ]
    },
    {
      "cell_type": "code",
      "execution_count": 3,
      "metadata": {
        "id": "I9s6zvbUAsyq"
      },
      "outputs": [],
      "source": [
        "os.environ[\"WANDB_API_KEY\"] = \"aee284a72205e2d6787bd3ce266c5b9aefefa42c\"\n",
        "\n",
        "PROJECT = 'finrl-dt-replicate'\n",
        "ENTITY = \"overfit1010\""
      ]
    },
    {
      "cell_type": "markdown",
      "metadata": {
        "id": "mLe4hw1bxRp5"
      },
      "source": [
        "# Main"
      ]
    },
    {
      "cell_type": "code",
      "execution_count": 4,
      "metadata": {
        "id": "QjRu97DCuXqR"
      },
      "outputs": [],
      "source": [
        "# !rm -rf ./*"
      ]
    },
    {
      "cell_type": "code",
      "execution_count": 5,
      "metadata": {
        "colab": {
          "base_uri": "https://localhost:8080/",
          "height": 193
        },
        "id": "M1H4JUosoQ4h",
        "outputId": "4507f689-b46e-4699-845a-2c6dd188a776"
      },
      "outputs": [
        {
          "output_type": "stream",
          "name": "stderr",
          "text": [
            "\u001b[34m\u001b[1mwandb\u001b[0m: Currently logged in as: \u001b[33mtony-pitchblack\u001b[0m (\u001b[33moverfit1010\u001b[0m). Use \u001b[1m`wandb login --relogin`\u001b[0m to force relogin\n",
            "\u001b[34m\u001b[1mwandb\u001b[0m: Using wandb-core as the SDK backend.  Please refer to https://wandb.me/wandb-core for more information.\n"
          ]
        },
        {
          "output_type": "display_data",
          "data": {
            "text/plain": [
              "<IPython.core.display.HTML object>"
            ],
            "text/html": [
              "Tracking run with wandb version 0.19.2"
            ]
          },
          "metadata": {}
        },
        {
          "output_type": "display_data",
          "data": {
            "text/plain": [
              "<IPython.core.display.HTML object>"
            ],
            "text/html": [
              "Run data is saved locally in <code>/content/wandb/run-20250117_190632-lihccc7l</code>"
            ]
          },
          "metadata": {}
        },
        {
          "output_type": "display_data",
          "data": {
            "text/plain": [
              "<IPython.core.display.HTML object>"
            ],
            "text/html": [
              "Resuming run <strong><a href='https://wandb.ai/overfit1010/finrl-dt-replicate/runs/lihccc7l' target=\"_blank\">DOW-30 | 2009-01 | 2019 Q4 | 2020 Q1 | VleEx</a></strong> to <a href='https://wandb.ai/overfit1010/finrl-dt-replicate' target=\"_blank\">Weights & Biases</a> (<a href='https://wandb.me/developer-guide' target=\"_blank\">docs</a>)<br>Sweep page: <a href='https://wandb.ai/overfit1010/finrl-dt-replicate/sweeps/k43io2uh' target=\"_blank\">https://wandb.ai/overfit1010/finrl-dt-replicate/sweeps/k43io2uh</a>"
            ]
          },
          "metadata": {}
        },
        {
          "output_type": "display_data",
          "data": {
            "text/plain": [
              "<IPython.core.display.HTML object>"
            ],
            "text/html": [
              " View project at <a href='https://wandb.ai/overfit1010/finrl-dt-replicate' target=\"_blank\">https://wandb.ai/overfit1010/finrl-dt-replicate</a>"
            ]
          },
          "metadata": {}
        },
        {
          "output_type": "display_data",
          "data": {
            "text/plain": [
              "<IPython.core.display.HTML object>"
            ],
            "text/html": [
              " View sweep at <a href='https://wandb.ai/overfit1010/finrl-dt-replicate/sweeps/k43io2uh' target=\"_blank\">https://wandb.ai/overfit1010/finrl-dt-replicate/sweeps/k43io2uh</a>"
            ]
          },
          "metadata": {}
        },
        {
          "output_type": "display_data",
          "data": {
            "text/plain": [
              "<IPython.core.display.HTML object>"
            ],
            "text/html": [
              " View run at <a href='https://wandb.ai/overfit1010/finrl-dt-replicate/runs/lihccc7l' target=\"_blank\">https://wandb.ai/overfit1010/finrl-dt-replicate/runs/lihccc7l</a>"
            ]
          },
          "metadata": {}
        }
      ],
      "source": [
        "RUN_ID = 'lihccc7l'\n",
        "\n",
        "wandb.finish()\n",
        "wandb.init(entity=ENTITY, project=PROJECT, id=RUN_ID, resume='must')\n",
        "config = wandb.run.config"
      ]
    },
    {
      "cell_type": "code",
      "execution_count": 6,
      "metadata": {
        "cellView": "form",
        "colab": {
          "base_uri": "https://localhost:8080/"
        },
        "id": "-YgyEOHM_06J",
        "outputId": "d50c1c9c-2fab-4dea-a800-fcea372edd9d"
      },
      "outputs": [
        {
          "output_type": "stream",
          "name": "stderr",
          "text": [
            "\u001b[34m\u001b[1mwandb\u001b[0m:   3 of 3 files downloaded.  \n",
            "\u001b[34m\u001b[1mwandb\u001b[0m:   5 of 5 files downloaded.  \n",
            "\u001b[34m\u001b[1mwandb\u001b[0m:   5 of 5 files downloaded.  \n",
            "\u001b[34m\u001b[1mwandb\u001b[0m:   5 of 5 files downloaded.  \n",
            "\u001b[34m\u001b[1mwandb\u001b[0m:   1 of 1 files downloaded.  \n",
            "\u001b[34m\u001b[1mwandb\u001b[0m:   1 of 1 files downloaded.  \n",
            "\u001b[34m\u001b[1mwandb\u001b[0m:   1 of 1 files downloaded.  \n",
            "\u001b[34m\u001b[1mwandb\u001b[0m:   1 of 1 files downloaded.  \n",
            "\u001b[34m\u001b[1mwandb\u001b[0m:   1 of 1 files downloaded.  \n",
            "\u001b[34m\u001b[1mwandb\u001b[0m:   1 of 1 files downloaded.  \n",
            "\u001b[34m\u001b[1mwandb\u001b[0m:   1 of 1 files downloaded.  \n"
          ]
        }
      ],
      "source": [
        "#@title Download artifacts\n",
        "\n",
        "def download_artifacts(run_id):\n",
        "    # Initialize the W&B API\n",
        "    api = wandb.Api()\n",
        "\n",
        "    # Retrieve the run\n",
        "    run = api.run(f\"{ENTITY}/{PROJECT}/{run_id}\")\n",
        "\n",
        "    # Iterate over the artifacts used or logged by the run\n",
        "    for artifact in run.logged_artifacts():\n",
        "        artifact.download(f'./{artifact.type}')\n",
        "\n",
        "download_artifacts(RUN_ID)"
      ]
    },
    {
      "cell_type": "code",
      "execution_count": 7,
      "metadata": {
        "id": "a4IS_7kYSEFo"
      },
      "outputs": [],
      "source": [
        "# %load_ext tensorboard\n",
        "# %tensorboard --logdir ./results/"
      ]
    },
    {
      "cell_type": "code",
      "execution_count": 8,
      "metadata": {
        "cellView": "form",
        "id": "0PuggN9OcFEo"
      },
      "outputs": [],
      "source": [
        "#@title Load data\n",
        "\n",
        "def load_data(config):\n",
        "    train_df = pd.read_csv('./dataset/train_data.csv')\n",
        "    train_df.set_index('date', inplace=True)\n",
        "\n",
        "    test_df = pd.read_csv('./dataset/test_data.csv')\n",
        "    test_df.set_index('date', inplace=True)\n",
        "\n",
        "    if wandb.config['dataset_type'] == 'quarterly_train_val_test':\n",
        "        val_df = pd.read_csv('./dataset/val_data.csv')\n",
        "        val_df.set_index('date', inplace=True)\n",
        "    else:\n",
        "        val_df = None\n",
        "\n",
        "    return train_df, val_df, test_df\n",
        "\n",
        "train, valid, trade = load_data(config)"
      ]
    },
    {
      "cell_type": "code",
      "execution_count": 139,
      "metadata": {
        "cellView": "form",
        "id": "Y1sgiqffoEpn"
      },
      "outputs": [],
      "source": [
        "#@title imports\n",
        "\n",
        "import sys\n",
        "import os\n",
        "import re\n",
        "import pandas as pd\n",
        "import numpy as np\n",
        "import matplotlib.pyplot as plt\n",
        "import pickle\n",
        "from finrl.meta.preprocessor.yahoodownloader import YahooDownloader\n",
        "from finrl.agents.stablebaselines3.models import DRLAgent\n",
        "from stable_baselines3 import A2C, DDPG, PPO, SAC, TD3\n",
        "\n",
        "from finrl.config import INDICATORS, TRAINED_MODEL_DIR\n",
        "\n",
        "import warnings\n",
        "warnings.filterwarnings(\"ignore\", category=DeprecationWarning)\n",
        "warnings.simplefilter(action='ignore', category=FutureWarning)"
      ]
    },
    {
      "cell_type": "code",
      "execution_count": 10,
      "metadata": {
        "cellView": "form",
        "id": "t0-3fjeCG_GJ"
      },
      "outputs": [],
      "source": [
        "#@title Define metric functions\n",
        "\n",
        "def calculate_mdd(asset_values):\n",
        "    \"\"\"\n",
        "    Calculate the Maximum Drawdown (MDD) of a portfolio.\n",
        "    \"\"\"\n",
        "    running_max = asset_values.cummax()\n",
        "    drawdown = (asset_values - running_max) / running_max\n",
        "    mdd = drawdown.min() * 100  # Convert to percentage\n",
        "    return mdd\n",
        "\n",
        "def calculate_sharpe_ratio(asset_values, risk_free_rate=0.0):\n",
        "    \"\"\"\n",
        "    Calculate the Sharpe Ratio of a portfolio.\n",
        "    \"\"\"\n",
        "    # Calculate daily returns\n",
        "    returns = asset_values.pct_change().dropna()\n",
        "    excess_returns = returns - risk_free_rate / 252  # Assuming 252 trading days\n",
        "    if excess_returns.std() == 0:\n",
        "        return 0.0\n",
        "    sharpe_ratio = excess_returns.mean() / excess_returns.std() * np.sqrt(252)  # Annualized\n",
        "    return sharpe_ratio\n",
        "\n",
        "def calculate_annualized_return(asset_values):\n",
        "    \"\"\"\n",
        "    Calculate the annualized return of a portfolio.\n",
        "    \"\"\"\n",
        "    # Assume `asset_values` is indexed by date or trading day\n",
        "    total_return = (asset_values.iloc[-1] / asset_values.iloc[0] - 1) * 100\n",
        "    num_days = (asset_values.index[-1] - asset_values.index[0]).days\n",
        "    annualized_return = (1 + total_return) ** (365 / num_days) - 1\n",
        "    return annualized_return"
      ]
    },
    {
      "cell_type": "markdown",
      "metadata": {
        "id": "AXCLrSGJlq7t"
      },
      "source": [
        "## Evaluate"
      ]
    },
    {
      "cell_type": "code",
      "execution_count": 11,
      "metadata": {
        "cellView": "form",
        "colab": {
          "base_uri": "https://localhost:8080/"
        },
        "id": "BRInsCaFgH63",
        "outputId": "a1b5acf6-16d7-429d-fda1-a3ad246069f2"
      },
      "outputs": [
        {
          "output_type": "execute_result",
          "data": {
            "text/plain": [
              "Index([ 0,  0,  0,  0,  0,  0,  0,  0,  0,  0,\n",
              "       ...\n",
              "       61, 61, 61, 61, 61, 61, 61, 61, 61, 61],\n",
              "      dtype='int64', name='', length=1798)"
            ]
          },
          "metadata": {},
          "execution_count": 11
        }
      ],
      "source": [
        "#@title construct_daily_index\n",
        "def make_daily_index(data_df, date_column='date', new_index_name='date_index'):\n",
        "    # Get unique dates and create a mapping to daily indices\n",
        "    total_dates = data_df[date_column].unique()\n",
        "    date_to_index = {date: idx for idx, date in enumerate(sorted(total_dates))}\n",
        "    return data_df[date_column].map(date_to_index)\n",
        "\n",
        "def set_daily_index(data_df, date_column='date', new_index_name='date_index'):\n",
        "    \"\"\"\n",
        "    Constructs a daily index from unique dates in the specified column.\n",
        "\n",
        "    Parameters:\n",
        "        data_df (pd.DataFrame): The input DataFrame.\n",
        "        date_column (str): The name of the column containing dates.\n",
        "        new_index_name (str): The name for the new index.\n",
        "\n",
        "    Returns:\n",
        "        pd.DataFrame: DataFrame with a daily index.\n",
        "    \"\"\"\n",
        "\n",
        "    # Map dates to daily indices and set as index\n",
        "    data_df[new_index_name] = make_daily_index(data_df, date_column='date', new_index_name='date_index')\n",
        "\n",
        "    data_df.set_index(new_index_name, inplace=True)\n",
        "    data_df.index.name = ''  # Remove the index name for simplicity\n",
        "\n",
        "    return data_df\n",
        "\n",
        "def fix_daily_index(df):\n",
        "    if df.index.name == 'date':\n",
        "        df.reset_index(inplace=True)\n",
        "\n",
        "    daily_index = make_daily_index(df, date_column='date', new_index_name='date_index')\n",
        "    if (df.index.values != daily_index.values).any():\n",
        "\n",
        "        df.index = daily_index\n",
        "        df.index.name = ''\n",
        "\n",
        "    return df\n",
        "\n",
        "trade = fix_daily_index(trade)\n",
        "trade.index"
      ]
    },
    {
      "cell_type": "code",
      "source": [],
      "metadata": {
        "id": "0Kd602AlAAKQ"
      },
      "execution_count": null,
      "outputs": []
    },
    {
      "cell_type": "code",
      "source": [
        "#@title StockTradingEnv (fix init turbulence)\n",
        "from finrl.meta.env_stock_trading.env_stocktrading import StockTradingEnv\n",
        "from gymnasium import spaces\n",
        "\n",
        "class StockTradingEnv(StockTradingEnv):\n",
        "    def __init__(\n",
        "        self,\n",
        "        df: pd.DataFrame,\n",
        "        stock_dim: int,\n",
        "        hmax: int,\n",
        "        initial_amount: int,\n",
        "        num_stock_shares: list[int],\n",
        "        buy_cost_pct: list[float],\n",
        "        sell_cost_pct: list[float],\n",
        "        reward_scaling: float,\n",
        "        state_space: int,\n",
        "        action_space: int,\n",
        "        tech_indicator_list: list[str],\n",
        "        turbulence_threshold=None,\n",
        "        risk_indicator_col=\"turbulence\",\n",
        "        make_plots: bool = False,\n",
        "        print_verbosity=10,\n",
        "        day=0,\n",
        "        initial=True,\n",
        "        previous_state=[],\n",
        "        model_name=\"\",\n",
        "        mode=\"\",\n",
        "        iteration=\"\",\n",
        "    ):\n",
        "        self.day = day\n",
        "        self.df = df\n",
        "        self.stock_dim = stock_dim\n",
        "        self.hmax = hmax\n",
        "        self.num_stock_shares = num_stock_shares\n",
        "        self.initial_amount = initial_amount  # get the initial cash\n",
        "        self.buy_cost_pct = buy_cost_pct\n",
        "        self.sell_cost_pct = sell_cost_pct\n",
        "        self.reward_scaling = reward_scaling\n",
        "        self.state_space = state_space\n",
        "        self.action_space = action_space\n",
        "        self.tech_indicator_list = tech_indicator_list\n",
        "        self.action_space = spaces.Box(low=-1, high=1, shape=(self.action_space,))\n",
        "        self.observation_space = spaces.Box(\n",
        "            low=-np.inf, high=np.inf, shape=(self.state_space,)\n",
        "        )\n",
        "        self.data = self.df.loc[self.day, :]\n",
        "        self.terminal = False\n",
        "        self.make_plots = make_plots\n",
        "        self.print_verbosity = print_verbosity\n",
        "        self.turbulence_threshold = turbulence_threshold\n",
        "        self.risk_indicator_col = risk_indicator_col\n",
        "        self.initial = initial\n",
        "        self.previous_state = previous_state\n",
        "        self.model_name = model_name\n",
        "        self.mode = mode\n",
        "        self.iteration = iteration\n",
        "        # initalize state\n",
        "        self.state = self._initiate_state()\n",
        "\n",
        "        # initialize reward\n",
        "        self.reward = 0\n",
        "        if self.turbulence_threshold is not None:\n",
        "            if len(self.df.tic.unique()) == 1:\n",
        "                self.turbulence = self.data[self.risk_indicator_col]\n",
        "            elif len(self.df.tic.unique()) > 1:\n",
        "                self.turbulence = self.data[self.risk_indicator_col].values[0]\n",
        "        else:\n",
        "            self.turbulence = None\n",
        "        self.cost = 0\n",
        "        self.trades = 0\n",
        "        self.episode = 0\n",
        "        # memorize all the total balance change\n",
        "        self.asset_memory = [\n",
        "            self.initial_amount\n",
        "            + np.sum(\n",
        "                np.array(self.num_stock_shares)\n",
        "                * np.array(self.state[1 : 1 + self.stock_dim])\n",
        "            )\n",
        "        ]  # the initial total asset is calculated by cash + sum (num_share_stock_i * price_stock_i)\n",
        "        self.rewards_memory = []\n",
        "        self.actions_memory = []\n",
        "        self.state_memory = (\n",
        "            []\n",
        "        )  # we need sometimes to preserve the state in the middle of trading process\n",
        "        self.date_memory = [self._get_date()]\n",
        "        #         self.logger = Logger('results',[CSVOutputFormat])\n",
        "        # self.reset()\n",
        "        self._seed()\n",
        "\n",
        "    def reset(\n",
        "        self,\n",
        "        *,\n",
        "        seed=None,\n",
        "        options=None,\n",
        "    ):\n",
        "        # initiate state\n",
        "        self.day = 0\n",
        "        self.data = self.df.loc[self.day, :]\n",
        "        self.state = self._initiate_state()\n",
        "\n",
        "        if self.initial:\n",
        "            self.asset_memory = [\n",
        "                self.initial_amount\n",
        "                + np.sum(\n",
        "                    np.array(self.num_stock_shares)\n",
        "                    * np.array(self.state[1 : 1 + self.stock_dim])\n",
        "                )\n",
        "            ]\n",
        "        else:\n",
        "            previous_total_asset = self.previous_state[0] + sum(\n",
        "                np.array(self.state[1 : (self.stock_dim + 1)])\n",
        "                * np.array(\n",
        "                    self.previous_state[(self.stock_dim + 1) : (self.stock_dim * 2 + 1)]\n",
        "                )\n",
        "            )\n",
        "            self.asset_memory = [previous_total_asset]\n",
        "\n",
        "        if self.turbulence_threshold is not None:\n",
        "            if len(self.df.tic.unique()) == 1:\n",
        "                self.turbulence = self.data[self.risk_indicator_col]\n",
        "            elif len(self.df.tic.unique()) > 1:\n",
        "                self.turbulence = self.data[self.risk_indicator_col].values[0]\n",
        "        else:\n",
        "            self.turbulence = None\n",
        "\n",
        "        self.cost = 0\n",
        "        self.trades = 0\n",
        "        self.terminal = False\n",
        "        # self.iteration=self.iteration\n",
        "        self.rewards_memory = []\n",
        "        self.actions_memory = []\n",
        "        self.date_memory = [self._get_date()]\n",
        "\n",
        "        self.episode += 1\n",
        "\n",
        "        return self.state, {}"
      ],
      "metadata": {
        "cellView": "form",
        "id": "6ZbfJD_v-JBJ"
      },
      "execution_count": 146,
      "outputs": []
    },
    {
      "cell_type": "code",
      "execution_count": 147,
      "metadata": {
        "cellView": "form",
        "colab": {
          "base_uri": "https://localhost:8080/"
        },
        "id": "BFVsIIEPBu9_",
        "outputId": "291f2065-9d15-454a-f33b-31b5f48b1662"
      },
      "outputs": [
        {
          "output_type": "stream",
          "name": "stdout",
          "text": [
            "Stock Dimension: 29, State Space: 291\n"
          ]
        }
      ],
      "source": [
        "#@title init env\n",
        "\n",
        "def init_env(trade, config, turbulence_threshold=None):\n",
        "    # Define environment parameters\n",
        "    stock_dimension = len(trade.tic.unique())\n",
        "    state_space = 1 + 2 * stock_dimension + len(INDICATORS) * stock_dimension\n",
        "    print(f\"Stock Dimension: {stock_dimension}, State Space: {state_space}\")\n",
        "\n",
        "    num_stock_shares = [0] * stock_dimension\n",
        "\n",
        "    if turbulence_threshold is None:\n",
        "        turbulence_threshold = config['turbulence_threshold'] if 'turbulence_threshold' in config else 70\n",
        "\n",
        "    env_kwargs = {\n",
        "        \"hmax\": 100,\n",
        "        \"initial_amount\": config['initial_amount'],\n",
        "        \"num_stock_shares\": num_stock_shares,\n",
        "        \"buy_cost_pct\": config['cost_pct'],\n",
        "        \"sell_cost_pct\": config['cost_pct'],\n",
        "        \"state_space\": state_space,\n",
        "        \"stock_dim\": stock_dimension,\n",
        "        \"tech_indicator_list\": INDICATORS,\n",
        "        \"action_space\": stock_dimension,\n",
        "        \"reward_scaling\": 1e-4,\n",
        "        \"turbulence_threshold\": turbulence_threshold\n",
        "    }\n",
        "\n",
        "    # Initialize trading environment\n",
        "    e_trade_gym = StockTradingEnv(\n",
        "        df=trade,\n",
        "        risk_indicator_col='turbulence',\n",
        "        **env_kwargs\n",
        "    )\n",
        "\n",
        "    return e_trade_gym\n",
        "\n",
        "e_trade_gym = init_env(trade, config)"
      ]
    },
    {
      "cell_type": "code",
      "execution_count": 150,
      "metadata": {
        "cellView": "form",
        "id": "frdIBaq0pqe2"
      },
      "outputs": [],
      "source": [
        "#@title get metrics\n",
        "import wandb\n",
        "\n",
        "def get_account_value_metrics(df_account_value: pd.DataFrame):\n",
        "    \"\"\"\n",
        "    Takes a DataFrame with account value (total asset value) per each date.\n",
        "    Should contain two columns - 'date' and name of algo, e.g. 'a2c'.\n",
        "    \"\"\"\n",
        "\n",
        "    assert isinstance(df_account_value, pd.DataFrame)\n",
        "    assert 'date' in df_account_value.columns\n",
        "    assert len(df_account_value.columns) == 2\n",
        "\n",
        "    account_values = df_account_value.dropna().set_index('date').iloc[:, 0]\n",
        "    sharpe = calculate_sharpe_ratio(account_values)\n",
        "    mdd = calculate_mdd(account_values)\n",
        "    cum_ret = (account_values.iloc[-1] - account_values.iloc[0]) / account_values.iloc[0] * 100\n",
        "    num_days = (account_values.index[-1] - account_values.index[0]).days\n",
        "    ann_ret = ((1 + cum_ret / 100) ** (365 / num_days) - 1) * 100\n",
        "\n",
        "    return {\n",
        "            f'sharpe_ratio': sharpe,\n",
        "            f'mdd': mdd,\n",
        "            f'ann_return': ann_ret,\n",
        "            f'cum_return': cum_ret,\n",
        "        }\n",
        "\n",
        "def get_env_metrics(env):\n",
        "    end_total_asset = env.state[0] + sum(\n",
        "        np.array(env.state[1 : (env.stock_dim + 1)])\n",
        "        * np.array(env.state[(env.stock_dim + 1) : (env.stock_dim * 2 + 1)])\n",
        "    )\n",
        "\n",
        "    return {\n",
        "        'begin_total_asset': env.asset_memory[0],\n",
        "        'end_total_asset': end_total_asset,\n",
        "        'total_cost': env.cost,\n",
        "        'total_trades': env.trades,\n",
        "    }"
      ]
    },
    {
      "cell_type": "code",
      "execution_count": 151,
      "metadata": {
        "cellView": "form",
        "id": "n_ztcCc4AgTl"
      },
      "outputs": [],
      "source": [
        "#@title Custom DRLAgent (custom prediction)\n",
        "from finrl.agents.stablebaselines3.models import DRLAgent, TensorboardCallback\n",
        "from stable_baselines3.common.callbacks import CallbackList\n",
        "import wandb\n",
        "\n",
        "class DRLAgent(DRLAgent):\n",
        "    def DRL_prediction(model, environment, deterministic=True, return_turbulence=False):\n",
        "        \"\"\"make a prediction and get results\"\"\"\n",
        "        test_env, test_obs = environment.get_sb_env()\n",
        "        account_memory = None  # This help avoid unnecessary list creation\n",
        "        actions_memory = None  # optimize memory consumption\n",
        "        # state_memory=[] #add memory pool to store states\n",
        "\n",
        "        test_env.reset()\n",
        "        turbulence_list = []\n",
        "        for i in range(len(environment.df.index.unique())):\n",
        "            action, _states = model.predict(test_obs, deterministic=deterministic)\n",
        "            # account_memory = test_env.env_method(method_name=\"save_asset_memory\")\n",
        "            # actions_memory = te    @staticmethodst_env.env_method(method_name=\"save_action_memory\")\n",
        "            turbulence_list.append(test_env.envs[0].turbulence)\n",
        "            test_obs, rewards, dones, info = test_env.step(action)\n",
        "            # print(environment.turbulence)\n",
        "\n",
        "            if (\n",
        "                i == len(environment.df.index.unique()) - 2\n",
        "            ):  # more descriptive condition for early termination to clarify the logic\n",
        "                account_memory = test_env.env_method(method_name=\"save_asset_memory\")\n",
        "                actions_memory = test_env.env_method(method_name=\"save_action_memory\")\n",
        "            # add current state to state memory\n",
        "            # state_memory=test_env.env_method(method_name=\"save_state_memory\")\n",
        "\n",
        "            if dones[0]:\n",
        "                print(\"hit end!\")\n",
        "                break\n",
        "\n",
        "        # env_metrics = get_env_metrics(test_env.envs[0])\n",
        "        # print(test_env.envs[0].state)\n",
        "        # print(env_metrics)\n",
        "\n",
        "        if return_turbulence:\n",
        "            turbulence_series = pd.Series(turbulence_list, index=account_memory[0]['date'])\n",
        "            return account_memory[0], actions_memory[0], turbulence_series\n",
        "        else:\n",
        "            return account_memory[0], actions_memory[0]"
      ]
    },
    {
      "cell_type": "code",
      "execution_count": 152,
      "metadata": {
        "cellView": "form",
        "colab": {
          "base_uri": "https://localhost:8080/",
          "height": 483
        },
        "id": "ZG3nOgG7jh9g",
        "outputId": "d203b5d8-3a9e-4e8b-a855-a485563ae1fe"
      },
      "outputs": [
        {
          "output_type": "stream",
          "name": "stderr",
          "text": [
            "/usr/local/lib/python3.11/dist-packages/stable_baselines3/common/save_util.py:167: UserWarning: Could not deserialize object lr_schedule. Consider using `custom_objects` argument to replace this object.\n",
            "Exception: code() argument 13 must be str, not int\n",
            "  warnings.warn(\n",
            "/usr/local/lib/python3.11/dist-packages/stable_baselines3/common/save_util.py:167: UserWarning: Could not deserialize object clip_range. Consider using `custom_objects` argument to replace this object.\n",
            "Exception: code() argument 13 must be str, not int\n",
            "  warnings.warn(\n"
          ]
        },
        {
          "output_type": "stream",
          "name": "stdout",
          "text": [
            "hit end!\n",
            "hit end!\n",
            "hit end!\n",
            "hit end!\n",
            "hit end!\n"
          ]
        },
        {
          "output_type": "execute_result",
          "data": {
            "text/plain": [
              "date\n",
              "2020-03-25    463.707091\n",
              "2020-03-26    156.848862\n",
              "2020-03-27    115.916063\n",
              "2020-03-30    119.598834\n",
              "2020-03-31     78.886597\n",
              "dtype: float64"
            ],
            "text/html": [
              "<div>\n",
              "<style scoped>\n",
              "    .dataframe tbody tr th:only-of-type {\n",
              "        vertical-align: middle;\n",
              "    }\n",
              "\n",
              "    .dataframe tbody tr th {\n",
              "        vertical-align: top;\n",
              "    }\n",
              "\n",
              "    .dataframe thead th {\n",
              "        text-align: right;\n",
              "    }\n",
              "</style>\n",
              "<table border=\"1\" class=\"dataframe\">\n",
              "  <thead>\n",
              "    <tr style=\"text-align: right;\">\n",
              "      <th></th>\n",
              "      <th>0</th>\n",
              "    </tr>\n",
              "    <tr>\n",
              "      <th>date</th>\n",
              "      <th></th>\n",
              "    </tr>\n",
              "  </thead>\n",
              "  <tbody>\n",
              "    <tr>\n",
              "      <th>2020-03-25</th>\n",
              "      <td>463.707091</td>\n",
              "    </tr>\n",
              "    <tr>\n",
              "      <th>2020-03-26</th>\n",
              "      <td>156.848862</td>\n",
              "    </tr>\n",
              "    <tr>\n",
              "      <th>2020-03-27</th>\n",
              "      <td>115.916063</td>\n",
              "    </tr>\n",
              "    <tr>\n",
              "      <th>2020-03-30</th>\n",
              "      <td>119.598834</td>\n",
              "    </tr>\n",
              "    <tr>\n",
              "      <th>2020-03-31</th>\n",
              "      <td>78.886597</td>\n",
              "    </tr>\n",
              "  </tbody>\n",
              "</table>\n",
              "</div><br><label><b>dtype:</b> float64</label>"
            ]
          },
          "metadata": {},
          "execution_count": 152
        }
      ],
      "source": [
        "#@title get predictions\n",
        "\n",
        "def get_predictions(e_trade_gym, config, return_turbulence=False):\n",
        "    # Load variables from the config\n",
        "    if_using_a2c = config[\"if_using_a2c\"]\n",
        "    if_using_ddpg = config[\"if_using_ddpg\"]\n",
        "    if_using_ppo = config[\"if_using_ppo\"]\n",
        "    if_using_td3 = config[\"if_using_td3\"]\n",
        "    if_using_sac = config[\"if_using_sac\"]\n",
        "\n",
        "    # Ensure at least one algorithm is enabled\n",
        "    if not any([if_using_a2c, if_using_ddpg, if_using_ppo, if_using_td3, if_using_sac]):\n",
        "        raise ValueError(\"At least one algorithm must be set to True for the script to run.\")\n",
        "\n",
        "    # Load trained models\n",
        "    trained_a2c = A2C.load(os.path.join(TRAINED_MODEL_DIR, \"agent_a2c\")) if if_using_a2c else None\n",
        "    trained_ddpg = DDPG.load(os.path.join(TRAINED_MODEL_DIR, \"agent_ddpg\")) if if_using_ddpg else None\n",
        "    trained_ppo = PPO.load(os.path.join(TRAINED_MODEL_DIR, \"agent_ppo\")) if if_using_ppo else None\n",
        "    trained_td3 = TD3.load(os.path.join(TRAINED_MODEL_DIR, \"agent_td3\")) if if_using_td3 else None\n",
        "    trained_sac = SAC.load(os.path.join(TRAINED_MODEL_DIR, \"agent_sac\")) if if_using_sac else None\n",
        "\n",
        "    # Reset the result DataFrame\n",
        "    result = pd.DataFrame()\n",
        "\n",
        "    # Predict and store results for all enabled algorithms\n",
        "    for algo_name, trained_model, is_enabled in [\n",
        "        (\"A2C\", trained_a2c, if_using_a2c),\n",
        "        (\"DDPG\", trained_ddpg, if_using_ddpg),\n",
        "        (\"PPO\", trained_ppo, if_using_ppo),\n",
        "        (\"TD3\", trained_td3, if_using_td3),\n",
        "        (\"SAC\", trained_sac, if_using_sac)\n",
        "    ]:\n",
        "        if is_enabled:\n",
        "            # account_value_df, actions_df = DRLAgent.DRL_prediction(\n",
        "            #     model=trained_model,\n",
        "            #     environment=e_trade_gym,\n",
        "            # )\n",
        "\n",
        "            account_value_df, actions_df, turbulence_series = DRLAgent.DRL_prediction(\n",
        "                model=trained_model,\n",
        "                environment=e_trade_gym,\n",
        "                return_turbulence=True\n",
        "            )\n",
        "\n",
        "            df_result = account_value_df.set_index('date')\n",
        "\n",
        "            # env_metrics = get_env_metrics(e_trade_gym)\n",
        "            # print(env_metrics)\n",
        "\n",
        "            # display(df_result)\n",
        "            # break\n",
        "\n",
        "            df_result.columns = [f\"{algo_name}_{col}\" for col in df_result.columns]\n",
        "            result = pd.merge(result, df_result, how=\"outer\", left_index=True, right_index=True)\n",
        "\n",
        "    # Create a dictionary with the mapping of old columns to model names\n",
        "    rename_dict = {\n",
        "        'A2C_account_value': 'A2C',\n",
        "        'DDPG_account_value': 'DDPG',\n",
        "        'PPO_account_value': 'PPO',\n",
        "        'TD3_account_value': 'TD3',\n",
        "        'SAC_account_value': 'SAC'\n",
        "    }\n",
        "\n",
        "    # Rename columns using the dictionary and ignore errors for columns not in the dictionary\n",
        "    result = result.rename(columns=rename_dict, errors='ignore')\n",
        "    result.index = pd.to_datetime(result.index)\n",
        "    if return_turbulence:\n",
        "        turbulence_series.index = pd.to_datetime(turbulence_series.index)\n",
        "        return result, turbulence_series\n",
        "    else:\n",
        "        return result\n",
        "\n",
        "# result = get_predictions(e_trade_gym, config)\n",
        "# result.head()\n",
        "\n",
        "result, turbulence_series = get_predictions(e_trade_gym, config, return_turbulence=True)\n",
        "turbulence_series.tail()"
      ]
    },
    {
      "cell_type": "code",
      "source": [
        "trade[trade['tic'] == 'AAPL'][['turbulence', 'date']].tail()\n",
        "# trade[['date', 'turbulence']]"
      ],
      "metadata": {
        "colab": {
          "base_uri": "https://localhost:8080/",
          "height": 220
        },
        "id": "P0r_3nsn4utS",
        "outputId": "ace7e2c1-6629-4ce2-a504-1ee31a046d97"
      },
      "execution_count": null,
      "outputs": [
        {
          "output_type": "execute_result",
          "data": {
            "text/plain": [
              "    turbulence        date\n",
              "                          \n",
              "57  463.707091  2020-03-25\n",
              "58  156.848862  2020-03-26\n",
              "59  115.916063  2020-03-27\n",
              "60  119.598834  2020-03-30\n",
              "61   78.886597  2020-03-31"
            ],
            "text/html": [
              "\n",
              "  <div id=\"df-e4099831-e65b-4651-b2c4-d1bdf4a8abca\" class=\"colab-df-container\">\n",
              "    <div>\n",
              "<style scoped>\n",
              "    .dataframe tbody tr th:only-of-type {\n",
              "        vertical-align: middle;\n",
              "    }\n",
              "\n",
              "    .dataframe tbody tr th {\n",
              "        vertical-align: top;\n",
              "    }\n",
              "\n",
              "    .dataframe thead th {\n",
              "        text-align: right;\n",
              "    }\n",
              "</style>\n",
              "<table border=\"1\" class=\"dataframe\">\n",
              "  <thead>\n",
              "    <tr style=\"text-align: right;\">\n",
              "      <th></th>\n",
              "      <th>turbulence</th>\n",
              "      <th>date</th>\n",
              "    </tr>\n",
              "    <tr>\n",
              "      <th></th>\n",
              "      <th></th>\n",
              "      <th></th>\n",
              "    </tr>\n",
              "  </thead>\n",
              "  <tbody>\n",
              "    <tr>\n",
              "      <th>57</th>\n",
              "      <td>463.707091</td>\n",
              "      <td>2020-03-25</td>\n",
              "    </tr>\n",
              "    <tr>\n",
              "      <th>58</th>\n",
              "      <td>156.848862</td>\n",
              "      <td>2020-03-26</td>\n",
              "    </tr>\n",
              "    <tr>\n",
              "      <th>59</th>\n",
              "      <td>115.916063</td>\n",
              "      <td>2020-03-27</td>\n",
              "    </tr>\n",
              "    <tr>\n",
              "      <th>60</th>\n",
              "      <td>119.598834</td>\n",
              "      <td>2020-03-30</td>\n",
              "    </tr>\n",
              "    <tr>\n",
              "      <th>61</th>\n",
              "      <td>78.886597</td>\n",
              "      <td>2020-03-31</td>\n",
              "    </tr>\n",
              "  </tbody>\n",
              "</table>\n",
              "</div>\n",
              "    <div class=\"colab-df-buttons\">\n",
              "\n",
              "  <div class=\"colab-df-container\">\n",
              "    <button class=\"colab-df-convert\" onclick=\"convertToInteractive('df-e4099831-e65b-4651-b2c4-d1bdf4a8abca')\"\n",
              "            title=\"Convert this dataframe to an interactive table.\"\n",
              "            style=\"display:none;\">\n",
              "\n",
              "  <svg xmlns=\"http://www.w3.org/2000/svg\" height=\"24px\" viewBox=\"0 -960 960 960\">\n",
              "    <path d=\"M120-120v-720h720v720H120Zm60-500h600v-160H180v160Zm220 220h160v-160H400v160Zm0 220h160v-160H400v160ZM180-400h160v-160H180v160Zm440 0h160v-160H620v160ZM180-180h160v-160H180v160Zm440 0h160v-160H620v160Z\"/>\n",
              "  </svg>\n",
              "    </button>\n",
              "\n",
              "  <style>\n",
              "    .colab-df-container {\n",
              "      display:flex;\n",
              "      gap: 12px;\n",
              "    }\n",
              "\n",
              "    .colab-df-convert {\n",
              "      background-color: #E8F0FE;\n",
              "      border: none;\n",
              "      border-radius: 50%;\n",
              "      cursor: pointer;\n",
              "      display: none;\n",
              "      fill: #1967D2;\n",
              "      height: 32px;\n",
              "      padding: 0 0 0 0;\n",
              "      width: 32px;\n",
              "    }\n",
              "\n",
              "    .colab-df-convert:hover {\n",
              "      background-color: #E2EBFA;\n",
              "      box-shadow: 0px 1px 2px rgba(60, 64, 67, 0.3), 0px 1px 3px 1px rgba(60, 64, 67, 0.15);\n",
              "      fill: #174EA6;\n",
              "    }\n",
              "\n",
              "    .colab-df-buttons div {\n",
              "      margin-bottom: 4px;\n",
              "    }\n",
              "\n",
              "    [theme=dark] .colab-df-convert {\n",
              "      background-color: #3B4455;\n",
              "      fill: #D2E3FC;\n",
              "    }\n",
              "\n",
              "    [theme=dark] .colab-df-convert:hover {\n",
              "      background-color: #434B5C;\n",
              "      box-shadow: 0px 1px 3px 1px rgba(0, 0, 0, 0.15);\n",
              "      filter: drop-shadow(0px 1px 2px rgba(0, 0, 0, 0.3));\n",
              "      fill: #FFFFFF;\n",
              "    }\n",
              "  </style>\n",
              "\n",
              "    <script>\n",
              "      const buttonEl =\n",
              "        document.querySelector('#df-e4099831-e65b-4651-b2c4-d1bdf4a8abca button.colab-df-convert');\n",
              "      buttonEl.style.display =\n",
              "        google.colab.kernel.accessAllowed ? 'block' : 'none';\n",
              "\n",
              "      async function convertToInteractive(key) {\n",
              "        const element = document.querySelector('#df-e4099831-e65b-4651-b2c4-d1bdf4a8abca');\n",
              "        const dataTable =\n",
              "          await google.colab.kernel.invokeFunction('convertToInteractive',\n",
              "                                                    [key], {});\n",
              "        if (!dataTable) return;\n",
              "\n",
              "        const docLinkHtml = 'Like what you see? Visit the ' +\n",
              "          '<a target=\"_blank\" href=https://colab.research.google.com/notebooks/data_table.ipynb>data table notebook</a>'\n",
              "          + ' to learn more about interactive tables.';\n",
              "        element.innerHTML = '';\n",
              "        dataTable['output_type'] = 'display_data';\n",
              "        await google.colab.output.renderOutput(dataTable, element);\n",
              "        const docLink = document.createElement('div');\n",
              "        docLink.innerHTML = docLinkHtml;\n",
              "        element.appendChild(docLink);\n",
              "      }\n",
              "    </script>\n",
              "  </div>\n",
              "\n",
              "\n",
              "<div id=\"df-b212fdc1-dc9c-47cb-8362-31ea1a6906d0\">\n",
              "  <button class=\"colab-df-quickchart\" onclick=\"quickchart('df-b212fdc1-dc9c-47cb-8362-31ea1a6906d0')\"\n",
              "            title=\"Suggest charts\"\n",
              "            style=\"display:none;\">\n",
              "\n",
              "<svg xmlns=\"http://www.w3.org/2000/svg\" height=\"24px\"viewBox=\"0 0 24 24\"\n",
              "     width=\"24px\">\n",
              "    <g>\n",
              "        <path d=\"M19 3H5c-1.1 0-2 .9-2 2v14c0 1.1.9 2 2 2h14c1.1 0 2-.9 2-2V5c0-1.1-.9-2-2-2zM9 17H7v-7h2v7zm4 0h-2V7h2v10zm4 0h-2v-4h2v4z\"/>\n",
              "    </g>\n",
              "</svg>\n",
              "  </button>\n",
              "\n",
              "<style>\n",
              "  .colab-df-quickchart {\n",
              "      --bg-color: #E8F0FE;\n",
              "      --fill-color: #1967D2;\n",
              "      --hover-bg-color: #E2EBFA;\n",
              "      --hover-fill-color: #174EA6;\n",
              "      --disabled-fill-color: #AAA;\n",
              "      --disabled-bg-color: #DDD;\n",
              "  }\n",
              "\n",
              "  [theme=dark] .colab-df-quickchart {\n",
              "      --bg-color: #3B4455;\n",
              "      --fill-color: #D2E3FC;\n",
              "      --hover-bg-color: #434B5C;\n",
              "      --hover-fill-color: #FFFFFF;\n",
              "      --disabled-bg-color: #3B4455;\n",
              "      --disabled-fill-color: #666;\n",
              "  }\n",
              "\n",
              "  .colab-df-quickchart {\n",
              "    background-color: var(--bg-color);\n",
              "    border: none;\n",
              "    border-radius: 50%;\n",
              "    cursor: pointer;\n",
              "    display: none;\n",
              "    fill: var(--fill-color);\n",
              "    height: 32px;\n",
              "    padding: 0;\n",
              "    width: 32px;\n",
              "  }\n",
              "\n",
              "  .colab-df-quickchart:hover {\n",
              "    background-color: var(--hover-bg-color);\n",
              "    box-shadow: 0 1px 2px rgba(60, 64, 67, 0.3), 0 1px 3px 1px rgba(60, 64, 67, 0.15);\n",
              "    fill: var(--button-hover-fill-color);\n",
              "  }\n",
              "\n",
              "  .colab-df-quickchart-complete:disabled,\n",
              "  .colab-df-quickchart-complete:disabled:hover {\n",
              "    background-color: var(--disabled-bg-color);\n",
              "    fill: var(--disabled-fill-color);\n",
              "    box-shadow: none;\n",
              "  }\n",
              "\n",
              "  .colab-df-spinner {\n",
              "    border: 2px solid var(--fill-color);\n",
              "    border-color: transparent;\n",
              "    border-bottom-color: var(--fill-color);\n",
              "    animation:\n",
              "      spin 1s steps(1) infinite;\n",
              "  }\n",
              "\n",
              "  @keyframes spin {\n",
              "    0% {\n",
              "      border-color: transparent;\n",
              "      border-bottom-color: var(--fill-color);\n",
              "      border-left-color: var(--fill-color);\n",
              "    }\n",
              "    20% {\n",
              "      border-color: transparent;\n",
              "      border-left-color: var(--fill-color);\n",
              "      border-top-color: var(--fill-color);\n",
              "    }\n",
              "    30% {\n",
              "      border-color: transparent;\n",
              "      border-left-color: var(--fill-color);\n",
              "      border-top-color: var(--fill-color);\n",
              "      border-right-color: var(--fill-color);\n",
              "    }\n",
              "    40% {\n",
              "      border-color: transparent;\n",
              "      border-right-color: var(--fill-color);\n",
              "      border-top-color: var(--fill-color);\n",
              "    }\n",
              "    60% {\n",
              "      border-color: transparent;\n",
              "      border-right-color: var(--fill-color);\n",
              "    }\n",
              "    80% {\n",
              "      border-color: transparent;\n",
              "      border-right-color: var(--fill-color);\n",
              "      border-bottom-color: var(--fill-color);\n",
              "    }\n",
              "    90% {\n",
              "      border-color: transparent;\n",
              "      border-bottom-color: var(--fill-color);\n",
              "    }\n",
              "  }\n",
              "</style>\n",
              "\n",
              "  <script>\n",
              "    async function quickchart(key) {\n",
              "      const quickchartButtonEl =\n",
              "        document.querySelector('#' + key + ' button');\n",
              "      quickchartButtonEl.disabled = true;  // To prevent multiple clicks.\n",
              "      quickchartButtonEl.classList.add('colab-df-spinner');\n",
              "      try {\n",
              "        const charts = await google.colab.kernel.invokeFunction(\n",
              "            'suggestCharts', [key], {});\n",
              "      } catch (error) {\n",
              "        console.error('Error during call to suggestCharts:', error);\n",
              "      }\n",
              "      quickchartButtonEl.classList.remove('colab-df-spinner');\n",
              "      quickchartButtonEl.classList.add('colab-df-quickchart-complete');\n",
              "    }\n",
              "    (() => {\n",
              "      let quickchartButtonEl =\n",
              "        document.querySelector('#df-b212fdc1-dc9c-47cb-8362-31ea1a6906d0 button');\n",
              "      quickchartButtonEl.style.display =\n",
              "        google.colab.kernel.accessAllowed ? 'block' : 'none';\n",
              "    })();\n",
              "  </script>\n",
              "</div>\n",
              "    </div>\n",
              "  </div>\n"
            ],
            "application/vnd.google.colaboratory.intrinsic+json": {
              "type": "dataframe",
              "repr_error": "0"
            }
          },
          "metadata": {},
          "execution_count": 109
        }
      ]
    },
    {
      "cell_type": "code",
      "execution_count": 153,
      "metadata": {
        "cellView": "form",
        "id": "gbd4N4QLPXlL"
      },
      "outputs": [],
      "source": [
        "#@title YahooDownloader\n",
        "\n",
        "\"\"\"Contains methods and classes to collect data from\n",
        "Yahoo Finance API\n",
        "\"\"\"\n",
        "\n",
        "from __future__ import annotations\n",
        "\n",
        "import pandas as pd\n",
        "import yfinance as yf\n",
        "\n",
        "\n",
        "class YahooDownloader:\n",
        "    \"\"\"Provides methods for retrieving daily stock data from\n",
        "    Yahoo Finance API\n",
        "\n",
        "    Attributes\n",
        "    ----------\n",
        "        start_date : str\n",
        "            start date of the data (modified from neofinrl_config.py)\n",
        "        end_date : str\n",
        "            end date of the data (modified from neofinrl_config.py)\n",
        "        ticker_list : list\n",
        "            a list of stock tickers (modified from neofinrl_config.py)\n",
        "\n",
        "    Methods\n",
        "    -------\n",
        "    fetch_data()\n",
        "        Fetches data from yahoo API\n",
        "\n",
        "    \"\"\"\n",
        "\n",
        "    def __init__(self, start_date: str, end_date: str, ticker_list: list):\n",
        "        self.start_date = start_date\n",
        "        self.end_date = end_date\n",
        "        self.ticker_list = ticker_list\n",
        "\n",
        "    def fetch_data(self, proxy=None) -> pd.DataFrame:\n",
        "        \"\"\"Fetches data from Yahoo API\n",
        "        Parameters\n",
        "        ----------\n",
        "\n",
        "        Returns\n",
        "        -------\n",
        "        `pd.DataFrame`\n",
        "            7 columns: A date, open, high, low, close, volume and tick symbol\n",
        "            for the specified stock ticker\n",
        "        \"\"\"\n",
        "        # Download and save the data in a pandas DataFrame:\n",
        "        data_df = pd.DataFrame()\n",
        "        num_failures = 0\n",
        "        for tic in self.ticker_list:\n",
        "            temp_df = yf.download(\n",
        "                tic, start=self.start_date, end=self.end_date, proxy=proxy\n",
        "            )\n",
        "            temp_df[\"tic\"] = tic\n",
        "            if len(temp_df) > 0:\n",
        "                # data_df = data_df.append(temp_df)\n",
        "                data_df = pd.concat([data_df, temp_df], axis=0)\n",
        "            else:\n",
        "                num_failures += 1\n",
        "        if num_failures == len(self.ticker_list):\n",
        "            raise ValueError(\"no data is fetched.\")\n",
        "        # reset the index, we want to use numbers as index instead of dates\n",
        "        data_df = data_df.reset_index()\n",
        "\n",
        "        try:\n",
        "            # Convert wide to long format\n",
        "            # print(f\"DATA COLS: {data_df.columns}\")\n",
        "            data_df = data_df.sort_index(axis=1).set_index(['Date']).drop(columns=['tic']).stack(level='Ticker', future_stack=True)\n",
        "            data_df.reset_index(inplace=True)\n",
        "            data_df.columns.name = ''\n",
        "\n",
        "            # convert the column names to standardized names\n",
        "            data_df.rename(columns={'Ticker': 'Tic', 'Adj Close': 'Adjcp'}, inplace=True)\n",
        "            data_df.rename(columns={col: col.lower() for col in data_df.columns}, inplace=True)\n",
        "\n",
        "            columns = [\n",
        "                \"date\",\n",
        "                \"tic\",\n",
        "                \"open\",\n",
        "                \"high\",\n",
        "                \"low\",\n",
        "                \"close\",\n",
        "                \"adjcp\",\n",
        "                \"volume\",\n",
        "            ]\n",
        "\n",
        "            columns = list(set(columns) & set(data_df.columns))\n",
        "            data_df = data_df[columns]\n",
        "\n",
        "            # use adjusted close price instead of close price\n",
        "            if 'adjcp' in data_df.columns:\n",
        "                data_df[\"close\"] = data_df[\"adjcp\"]\n",
        "                data_df = data_df.drop(labels=\"adjcp\", axis=1)\n",
        "\n",
        "        except NotImplementedError:\n",
        "            print(\"the features are not supported currently\")\n",
        "\n",
        "        # create day of the week column (monday = 0)\n",
        "        data_df[\"day\"] = data_df[\"date\"].dt.dayofweek\n",
        "        # convert date to standard string format, easy to filter\n",
        "        data_df[\"date\"] = data_df.date.apply(lambda x: x.strftime(\"%Y-%m-%d\"))\n",
        "        # drop missing data\n",
        "        data_df = data_df.dropna()\n",
        "        data_df = data_df.reset_index(drop=True)\n",
        "        print(\"Shape of DataFrame: \", data_df.shape)\n",
        "        # print(\"Display DataFrame: \", data_df.head())\n",
        "\n",
        "        data_df = data_df.sort_values(by=[\"date\", \"tic\"]).reset_index(drop=True)\n",
        "\n",
        "        return data_df\n",
        "\n",
        "    def select_equal_rows_stock(self, df):\n",
        "        df_check = df.tic.value_counts()\n",
        "        df_check = pd.DataFrame(df_check).reset_index()\n",
        "        df_check.columns = [\"tic\", \"counts\"]\n",
        "        mean_df = df_check.counts.mean()\n",
        "        equal_list = list(df.tic.value_counts() >= mean_df)\n",
        "        names = df.tic.value_counts().index\n",
        "        select_stocks_list = list(names[equal_list])\n",
        "        df = df[df.tic.isin(select_stocks_list)]\n",
        "        return df\n"
      ]
    },
    {
      "cell_type": "code",
      "execution_count": 154,
      "metadata": {
        "cellView": "form",
        "colab": {
          "base_uri": "https://localhost:8080/",
          "height": 342
        },
        "id": "GTJrVlMbg4--",
        "outputId": "e02ce2f2-8f59-456d-a149-59b74106eb9a"
      },
      "outputs": [
        {
          "output_type": "stream",
          "name": "stderr",
          "text": [
            "\r[*********************100%***********************]  1 of 1 completed"
          ]
        },
        {
          "output_type": "stream",
          "name": "stdout",
          "text": [
            "\n",
            "2020-01-02 00:00:00\n",
            "2020-03-31 00:00:00\n",
            "Shape of DataFrame:  (61, 8)\n",
            "(61, 6)\n"
          ]
        },
        {
          "output_type": "stream",
          "name": "stderr",
          "text": [
            "\n"
          ]
        },
        {
          "output_type": "execute_result",
          "data": {
            "text/plain": [
              "                     A2C          DDPG           PPO           TD3  \\\n",
              "date                                                                 \n",
              "2020-01-02  50000.000000  50000.000000  50000.000000  50000.000000   \n",
              "2020-01-03  48966.583843  48969.887532  49020.268943  49018.836109   \n",
              "2020-01-06  49089.819004  49185.803578  49198.227210  49112.787472   \n",
              "2020-01-07  48851.277294  48949.716328  48938.125938  48628.385136   \n",
              "2020-01-08  48915.325046  49269.205372  49200.553409  48905.379833   \n",
              "\n",
              "                     SAC          DJIA  \n",
              "date                                    \n",
              "2020-01-02  50000.000000  50000.000000  \n",
              "2020-01-03  49135.060450  49594.856877  \n",
              "2020-01-06  49261.474787  49713.497067  \n",
              "2020-01-07  49461.040331  49506.177801  \n",
              "2020-01-08  49150.895579  49785.735926  "
            ],
            "text/html": [
              "\n",
              "  <div id=\"df-4914c679-fe7e-459d-bf5e-b016ae1a6993\" class=\"colab-df-container\">\n",
              "    <div>\n",
              "<style scoped>\n",
              "    .dataframe tbody tr th:only-of-type {\n",
              "        vertical-align: middle;\n",
              "    }\n",
              "\n",
              "    .dataframe tbody tr th {\n",
              "        vertical-align: top;\n",
              "    }\n",
              "\n",
              "    .dataframe thead th {\n",
              "        text-align: right;\n",
              "    }\n",
              "</style>\n",
              "<table border=\"1\" class=\"dataframe\">\n",
              "  <thead>\n",
              "    <tr style=\"text-align: right;\">\n",
              "      <th></th>\n",
              "      <th>A2C</th>\n",
              "      <th>DDPG</th>\n",
              "      <th>PPO</th>\n",
              "      <th>TD3</th>\n",
              "      <th>SAC</th>\n",
              "      <th>DJIA</th>\n",
              "    </tr>\n",
              "    <tr>\n",
              "      <th>date</th>\n",
              "      <th></th>\n",
              "      <th></th>\n",
              "      <th></th>\n",
              "      <th></th>\n",
              "      <th></th>\n",
              "      <th></th>\n",
              "    </tr>\n",
              "  </thead>\n",
              "  <tbody>\n",
              "    <tr>\n",
              "      <th>2020-01-02</th>\n",
              "      <td>50000.000000</td>\n",
              "      <td>50000.000000</td>\n",
              "      <td>50000.000000</td>\n",
              "      <td>50000.000000</td>\n",
              "      <td>50000.000000</td>\n",
              "      <td>50000.000000</td>\n",
              "    </tr>\n",
              "    <tr>\n",
              "      <th>2020-01-03</th>\n",
              "      <td>48966.583843</td>\n",
              "      <td>48969.887532</td>\n",
              "      <td>49020.268943</td>\n",
              "      <td>49018.836109</td>\n",
              "      <td>49135.060450</td>\n",
              "      <td>49594.856877</td>\n",
              "    </tr>\n",
              "    <tr>\n",
              "      <th>2020-01-06</th>\n",
              "      <td>49089.819004</td>\n",
              "      <td>49185.803578</td>\n",
              "      <td>49198.227210</td>\n",
              "      <td>49112.787472</td>\n",
              "      <td>49261.474787</td>\n",
              "      <td>49713.497067</td>\n",
              "    </tr>\n",
              "    <tr>\n",
              "      <th>2020-01-07</th>\n",
              "      <td>48851.277294</td>\n",
              "      <td>48949.716328</td>\n",
              "      <td>48938.125938</td>\n",
              "      <td>48628.385136</td>\n",
              "      <td>49461.040331</td>\n",
              "      <td>49506.177801</td>\n",
              "    </tr>\n",
              "    <tr>\n",
              "      <th>2020-01-08</th>\n",
              "      <td>48915.325046</td>\n",
              "      <td>49269.205372</td>\n",
              "      <td>49200.553409</td>\n",
              "      <td>48905.379833</td>\n",
              "      <td>49150.895579</td>\n",
              "      <td>49785.735926</td>\n",
              "    </tr>\n",
              "  </tbody>\n",
              "</table>\n",
              "</div>\n",
              "    <div class=\"colab-df-buttons\">\n",
              "\n",
              "  <div class=\"colab-df-container\">\n",
              "    <button class=\"colab-df-convert\" onclick=\"convertToInteractive('df-4914c679-fe7e-459d-bf5e-b016ae1a6993')\"\n",
              "            title=\"Convert this dataframe to an interactive table.\"\n",
              "            style=\"display:none;\">\n",
              "\n",
              "  <svg xmlns=\"http://www.w3.org/2000/svg\" height=\"24px\" viewBox=\"0 -960 960 960\">\n",
              "    <path d=\"M120-120v-720h720v720H120Zm60-500h600v-160H180v160Zm220 220h160v-160H400v160Zm0 220h160v-160H400v160ZM180-400h160v-160H180v160Zm440 0h160v-160H620v160ZM180-180h160v-160H180v160Zm440 0h160v-160H620v160Z\"/>\n",
              "  </svg>\n",
              "    </button>\n",
              "\n",
              "  <style>\n",
              "    .colab-df-container {\n",
              "      display:flex;\n",
              "      gap: 12px;\n",
              "    }\n",
              "\n",
              "    .colab-df-convert {\n",
              "      background-color: #E8F0FE;\n",
              "      border: none;\n",
              "      border-radius: 50%;\n",
              "      cursor: pointer;\n",
              "      display: none;\n",
              "      fill: #1967D2;\n",
              "      height: 32px;\n",
              "      padding: 0 0 0 0;\n",
              "      width: 32px;\n",
              "    }\n",
              "\n",
              "    .colab-df-convert:hover {\n",
              "      background-color: #E2EBFA;\n",
              "      box-shadow: 0px 1px 2px rgba(60, 64, 67, 0.3), 0px 1px 3px 1px rgba(60, 64, 67, 0.15);\n",
              "      fill: #174EA6;\n",
              "    }\n",
              "\n",
              "    .colab-df-buttons div {\n",
              "      margin-bottom: 4px;\n",
              "    }\n",
              "\n",
              "    [theme=dark] .colab-df-convert {\n",
              "      background-color: #3B4455;\n",
              "      fill: #D2E3FC;\n",
              "    }\n",
              "\n",
              "    [theme=dark] .colab-df-convert:hover {\n",
              "      background-color: #434B5C;\n",
              "      box-shadow: 0px 1px 3px 1px rgba(0, 0, 0, 0.15);\n",
              "      filter: drop-shadow(0px 1px 2px rgba(0, 0, 0, 0.3));\n",
              "      fill: #FFFFFF;\n",
              "    }\n",
              "  </style>\n",
              "\n",
              "    <script>\n",
              "      const buttonEl =\n",
              "        document.querySelector('#df-4914c679-fe7e-459d-bf5e-b016ae1a6993 button.colab-df-convert');\n",
              "      buttonEl.style.display =\n",
              "        google.colab.kernel.accessAllowed ? 'block' : 'none';\n",
              "\n",
              "      async function convertToInteractive(key) {\n",
              "        const element = document.querySelector('#df-4914c679-fe7e-459d-bf5e-b016ae1a6993');\n",
              "        const dataTable =\n",
              "          await google.colab.kernel.invokeFunction('convertToInteractive',\n",
              "                                                    [key], {});\n",
              "        if (!dataTable) return;\n",
              "\n",
              "        const docLinkHtml = 'Like what you see? Visit the ' +\n",
              "          '<a target=\"_blank\" href=https://colab.research.google.com/notebooks/data_table.ipynb>data table notebook</a>'\n",
              "          + ' to learn more about interactive tables.';\n",
              "        element.innerHTML = '';\n",
              "        dataTable['output_type'] = 'display_data';\n",
              "        await google.colab.output.renderOutput(dataTable, element);\n",
              "        const docLink = document.createElement('div');\n",
              "        docLink.innerHTML = docLinkHtml;\n",
              "        element.appendChild(docLink);\n",
              "      }\n",
              "    </script>\n",
              "  </div>\n",
              "\n",
              "\n",
              "<div id=\"df-9be51c11-0268-4d51-bc2e-84fbc09deaf9\">\n",
              "  <button class=\"colab-df-quickchart\" onclick=\"quickchart('df-9be51c11-0268-4d51-bc2e-84fbc09deaf9')\"\n",
              "            title=\"Suggest charts\"\n",
              "            style=\"display:none;\">\n",
              "\n",
              "<svg xmlns=\"http://www.w3.org/2000/svg\" height=\"24px\"viewBox=\"0 0 24 24\"\n",
              "     width=\"24px\">\n",
              "    <g>\n",
              "        <path d=\"M19 3H5c-1.1 0-2 .9-2 2v14c0 1.1.9 2 2 2h14c1.1 0 2-.9 2-2V5c0-1.1-.9-2-2-2zM9 17H7v-7h2v7zm4 0h-2V7h2v10zm4 0h-2v-4h2v4z\"/>\n",
              "    </g>\n",
              "</svg>\n",
              "  </button>\n",
              "\n",
              "<style>\n",
              "  .colab-df-quickchart {\n",
              "      --bg-color: #E8F0FE;\n",
              "      --fill-color: #1967D2;\n",
              "      --hover-bg-color: #E2EBFA;\n",
              "      --hover-fill-color: #174EA6;\n",
              "      --disabled-fill-color: #AAA;\n",
              "      --disabled-bg-color: #DDD;\n",
              "  }\n",
              "\n",
              "  [theme=dark] .colab-df-quickchart {\n",
              "      --bg-color: #3B4455;\n",
              "      --fill-color: #D2E3FC;\n",
              "      --hover-bg-color: #434B5C;\n",
              "      --hover-fill-color: #FFFFFF;\n",
              "      --disabled-bg-color: #3B4455;\n",
              "      --disabled-fill-color: #666;\n",
              "  }\n",
              "\n",
              "  .colab-df-quickchart {\n",
              "    background-color: var(--bg-color);\n",
              "    border: none;\n",
              "    border-radius: 50%;\n",
              "    cursor: pointer;\n",
              "    display: none;\n",
              "    fill: var(--fill-color);\n",
              "    height: 32px;\n",
              "    padding: 0;\n",
              "    width: 32px;\n",
              "  }\n",
              "\n",
              "  .colab-df-quickchart:hover {\n",
              "    background-color: var(--hover-bg-color);\n",
              "    box-shadow: 0 1px 2px rgba(60, 64, 67, 0.3), 0 1px 3px 1px rgba(60, 64, 67, 0.15);\n",
              "    fill: var(--button-hover-fill-color);\n",
              "  }\n",
              "\n",
              "  .colab-df-quickchart-complete:disabled,\n",
              "  .colab-df-quickchart-complete:disabled:hover {\n",
              "    background-color: var(--disabled-bg-color);\n",
              "    fill: var(--disabled-fill-color);\n",
              "    box-shadow: none;\n",
              "  }\n",
              "\n",
              "  .colab-df-spinner {\n",
              "    border: 2px solid var(--fill-color);\n",
              "    border-color: transparent;\n",
              "    border-bottom-color: var(--fill-color);\n",
              "    animation:\n",
              "      spin 1s steps(1) infinite;\n",
              "  }\n",
              "\n",
              "  @keyframes spin {\n",
              "    0% {\n",
              "      border-color: transparent;\n",
              "      border-bottom-color: var(--fill-color);\n",
              "      border-left-color: var(--fill-color);\n",
              "    }\n",
              "    20% {\n",
              "      border-color: transparent;\n",
              "      border-left-color: var(--fill-color);\n",
              "      border-top-color: var(--fill-color);\n",
              "    }\n",
              "    30% {\n",
              "      border-color: transparent;\n",
              "      border-left-color: var(--fill-color);\n",
              "      border-top-color: var(--fill-color);\n",
              "      border-right-color: var(--fill-color);\n",
              "    }\n",
              "    40% {\n",
              "      border-color: transparent;\n",
              "      border-right-color: var(--fill-color);\n",
              "      border-top-color: var(--fill-color);\n",
              "    }\n",
              "    60% {\n",
              "      border-color: transparent;\n",
              "      border-right-color: var(--fill-color);\n",
              "    }\n",
              "    80% {\n",
              "      border-color: transparent;\n",
              "      border-right-color: var(--fill-color);\n",
              "      border-bottom-color: var(--fill-color);\n",
              "    }\n",
              "    90% {\n",
              "      border-color: transparent;\n",
              "      border-bottom-color: var(--fill-color);\n",
              "    }\n",
              "  }\n",
              "</style>\n",
              "\n",
              "  <script>\n",
              "    async function quickchart(key) {\n",
              "      const quickchartButtonEl =\n",
              "        document.querySelector('#' + key + ' button');\n",
              "      quickchartButtonEl.disabled = true;  // To prevent multiple clicks.\n",
              "      quickchartButtonEl.classList.add('colab-df-spinner');\n",
              "      try {\n",
              "        const charts = await google.colab.kernel.invokeFunction(\n",
              "            'suggestCharts', [key], {});\n",
              "      } catch (error) {\n",
              "        console.error('Error during call to suggestCharts:', error);\n",
              "      }\n",
              "      quickchartButtonEl.classList.remove('colab-df-spinner');\n",
              "      quickchartButtonEl.classList.add('colab-df-quickchart-complete');\n",
              "    }\n",
              "    (() => {\n",
              "      let quickchartButtonEl =\n",
              "        document.querySelector('#df-9be51c11-0268-4d51-bc2e-84fbc09deaf9 button');\n",
              "      quickchartButtonEl.style.display =\n",
              "        google.colab.kernel.accessAllowed ? 'block' : 'none';\n",
              "    })();\n",
              "  </script>\n",
              "</div>\n",
              "    </div>\n",
              "  </div>\n"
            ],
            "application/vnd.google.colaboratory.intrinsic+json": {
              "type": "dataframe",
              "variable_name": "result",
              "summary": "{\n  \"name\": \"result\",\n  \"rows\": 61,\n  \"fields\": [\n    {\n      \"column\": \"date\",\n      \"properties\": {\n        \"dtype\": \"date\",\n        \"min\": \"2020-01-02 00:00:00\",\n        \"max\": \"2020-03-30 00:00:00\",\n        \"num_unique_values\": 61,\n        \"samples\": [\n          \"2020-01-02 00:00:00\",\n          \"2020-01-09 00:00:00\",\n          \"2020-03-10 00:00:00\"\n        ],\n        \"semantic_type\": \"\",\n        \"description\": \"\"\n      }\n    },\n    {\n      \"column\": \"A2C\",\n      \"properties\": {\n        \"dtype\": \"number\",\n        \"std\": 4717.869863916492,\n        \"min\": 37964.97200927234,\n        \"max\": 50000.0,\n        \"num_unique_values\": 44,\n        \"samples\": [\n          41853.08679361005,\n          46638.4260366775,\n          45618.98099790369\n        ],\n        \"semantic_type\": \"\",\n        \"description\": \"\"\n      }\n    },\n    {\n      \"column\": \"DDPG\",\n      \"properties\": {\n        \"dtype\": \"number\",\n        \"std\": 4388.788989688634,\n        \"min\": 39684.007208109106,\n        \"max\": 50829.266621082985,\n        \"num_unique_values\": 44,\n        \"samples\": [\n          43632.03910222817,\n          48823.22531158755,\n          47801.03890280368\n        ],\n        \"semantic_type\": \"\",\n        \"description\": \"\"\n      }\n    },\n    {\n      \"column\": \"PPO\",\n      \"properties\": {\n        \"dtype\": \"number\",\n        \"std\": 3841.626369483587,\n        \"min\": 40779.82479924378,\n        \"max\": 50549.339026879556,\n        \"num_unique_values\": 44,\n        \"samples\": [\n          44212.0731693776,\n          48737.480852908695,\n          47980.43609272798\n        ],\n        \"semantic_type\": \"\",\n        \"description\": \"\"\n      }\n    },\n    {\n      \"column\": \"TD3\",\n      \"properties\": {\n        \"dtype\": \"number\",\n        \"std\": 4319.845083747866,\n        \"min\": 38888.01452990012,\n        \"max\": 50000.0,\n        \"num_unique_values\": 44,\n        \"samples\": [\n          42393.79620513884,\n          47102.80654826215,\n          46275.558080937204\n        ],\n        \"semantic_type\": \"\",\n        \"description\": \"\"\n      }\n    },\n    {\n      \"column\": \"SAC\",\n      \"properties\": {\n        \"dtype\": \"number\",\n        \"std\": 5003.022284417045,\n        \"min\": 38083.69237376755,\n        \"max\": 50000.0,\n        \"num_unique_values\": 44,\n        \"samples\": [\n          43022.77242338029,\n          48749.073231348986,\n          47771.99035399298\n        ],\n        \"semantic_type\": \"\",\n        \"description\": \"\"\n      }\n    },\n    {\n      \"column\": \"DJIA\",\n      \"properties\": {\n        \"dtype\": \"number\",\n        \"std\": 5793.828767218252,\n        \"min\": 32200.73086578517,\n        \"max\": 51182.27831110386,\n        \"num_unique_values\": 61,\n        \"samples\": [\n          50000.0,\n          50152.58619511521,\n          43330.79220335859\n        ],\n        \"semantic_type\": \"\",\n        \"description\": \"\"\n      }\n    }\n  ]\n}"
            }
          },
          "metadata": {},
          "execution_count": 154
        }
      ],
      "source": [
        "#@title add DIJA for test period\n",
        "\n",
        "def add_djia_test(trade, result, config):\n",
        "    # Define test period\n",
        "    TEST_START_DATE = pd.Timestamp(trade['date'].iloc[0])\n",
        "    TEST_END_DATE = pd.Timestamp(trade['date'].iloc[-1])\n",
        "\n",
        "    print()\n",
        "    print(TEST_START_DATE)\n",
        "    print(TEST_END_DATE)\n",
        "\n",
        "    # Fetch DJIA data for the test period\n",
        "    df_dji = YahooDownloader(\n",
        "        start_date=TEST_START_DATE,\n",
        "        # start_date=TEST_START_DATE - pd.DateOffset(days=4),\n",
        "        end_date=TEST_END_DATE,\n",
        "        ticker_list=['^DJI'] # `dji` is delisted, `DJIA` is an ETF, not an index\n",
        "    ).fetch_data()\n",
        "    df_dji['date'] = pd.to_datetime(df_dji['date'])\n",
        "\n",
        "    # print(len(df_dji))\n",
        "\n",
        "    # Merge DJIA data\n",
        "    df_dji = df_dji[['date','close']]\n",
        "    fst_day = df_dji['close'].iloc[0]\n",
        "    dji = pd.DataFrame({\n",
        "        'DJIA': df_dji['close'].div(fst_day).mul(config['initial_amount']).values\n",
        "        # 'DJIA': df_dji['close'].div(fst_day).values\n",
        "    }, index=df_dji['date'])\n",
        "\n",
        "    # Merge DJIA data using inner join to ensure alignment\n",
        "    result = pd.merge(result, dji, how='inner', left_index=True, right_index=True).fillna(method='bfill')\n",
        "\n",
        "    return result\n",
        "\n",
        "result = add_djia_test(trade, result, config)\n",
        "print(result.shape)\n",
        "result.head()"
      ]
    },
    {
      "cell_type": "code",
      "execution_count": 155,
      "metadata": {
        "cellView": "form",
        "id": "oqjPITSj99E9"
      },
      "outputs": [],
      "source": [
        "#@title Calculate metrics for individual algorithms (w/annualized returns)\n",
        "\n",
        "def calculate_metrics(result):\n",
        "    label_mapping = {\n",
        "        # 'DT_LoRA_GPT2': 'DT-LoRA-GPT2',\n",
        "        # 'DT_LoRA_Random_Weight_GPT2': 'DT-LoRA-Random-GPT2',\n",
        "        # 'CQL': 'Conservative Q-Learning',\n",
        "        # 'IQL': 'Implicit Q-Learning',\n",
        "        # 'BC': 'Behavior Cloning',\n",
        "        'A2C': 'A2C',\n",
        "        'DDPG': 'DDPG',\n",
        "        'PPO': 'PPO',\n",
        "        'TD3': 'TD3',\n",
        "        'SAC': 'SAC',\n",
        "        'DJIA': 'Dow Jones Index'\n",
        "    }\n",
        "\n",
        "    metrics_dict = {\n",
        "        'Method': [],\n",
        "        'Cumulative Return Mean (%)': [],\n",
        "        # 'Cumulative Return Std (%)': [],\n",
        "        'Annualized Return Mean (%)': [],\n",
        "        # 'Annualized Return Std (%)': [],\n",
        "        'MDD Mean (%)': [],\n",
        "        'MDD Std (%)': [],\n",
        "        'Sharpe Ratio Mean': [],\n",
        "        'Sharpe Ratio Std': []\n",
        "    }\n",
        "\n",
        "    experiment_stats = {}\n",
        "    individual_algos = ['A2C', 'DDPG', 'TD3', 'SAC', 'PPO']\n",
        "    for algo in individual_algos:\n",
        "        if algo in result.columns:\n",
        "            # Check if this algorithm is already part of experiment_groups\n",
        "            if label_mapping.get(algo, algo) in experiment_stats:\n",
        "                print(f\"Info: '{algo}' is already included in experiment groups. Skipping individual plotting to avoid duplication.\")\n",
        "                continue  # Skip to prevent duplicate plotting\n",
        "\n",
        "            account_values = result[algo].dropna()\n",
        "            if account_values.empty:\n",
        "                print(f\"Warning: No valid asset values for individual algorithm '{algo}'. Skipping metrics calculation.\")\n",
        "                continue\n",
        "\n",
        "            cum_ret = (account_values.iloc[-1] - account_values.iloc[0]) / account_values.iloc[0] * 100\n",
        "\n",
        "            # Handle potential division by zero or invalid calculations\n",
        "            if np.isinf(cum_ret) or np.isnan(cum_ret):\n",
        "                cum_ret = np.nan\n",
        "\n",
        "            # Calculate annualized return\n",
        "            num_days = (account_values.index[-1] - account_values.index[0]).days\n",
        "            ann_ret = ( (1 + cum_ret / 100) ** (365 / num_days) - 1 ) * 100\n",
        "\n",
        "            # MDD\n",
        "            mdd = calculate_mdd(account_values)\n",
        "            # Sharpe Ratio\n",
        "            sharpe = calculate_sharpe_ratio(account_values)\n",
        "            # Append to metrics_dict with mapped label\n",
        "            mapped_algo = label_mapping.get(algo, algo)\n",
        "            metrics_dict['Method'].append(mapped_algo)\n",
        "            metrics_dict['Cumulative Return Mean (%)'].append(cum_ret)\n",
        "            # metrics_dict['Cumulative Return Std (%)'].append(0.00)  # Single run, std is 0\n",
        "            metrics_dict['Annualized Return Mean (%)'].append(ann_ret)\n",
        "            # metrics_dict['Annualized Return Std (%)'].append(0.00)  # Single run, std is 0\n",
        "            metrics_dict['MDD Mean (%)'].append(mdd)\n",
        "            metrics_dict['MDD Std (%)'].append(0.00)  # Single run, std is 0\n",
        "            metrics_dict['Sharpe Ratio Mean'].append(sharpe)\n",
        "            metrics_dict['Sharpe Ratio Std'].append(0.00)  # Single run, std is 0\n",
        "\n",
        "            # Store in experiment_stats for plotting\n",
        "            experiment_stats[mapped_algo] = {'mean': account_values, 'std': pd.Series([0]*len(account_values), index=account_values.index)}\n",
        "\n",
        "    # Convert metrics_dict to DataFrame\n",
        "    metrics_df = pd.DataFrame(metrics_dict)\n",
        "\n",
        "    # Drop any rows with NaN metrics to ensure clean tables\n",
        "    metrics_df = metrics_df.dropna(subset=['Cumulative Return Mean (%)', 'Annualized Return Mean (%)', 'MDD Mean (%)', 'Sharpe Ratio Mean'])\n",
        "\n",
        "    # Create summary DataFrame with formatted strings\n",
        "    metrics_summary_df = metrics_df.copy()\n",
        "    metrics_summary_df['Cumulative Return (%)'] = metrics_df['Cumulative Return Mean (%)'].round(2).astype(str) \\\n",
        "        #  + \" ± \" + metrics_df['Cumulative Return Std (%)'].round(2).astype(str)\n",
        "    metrics_summary_df['Annualized Return (%)'] = metrics_df['Annualized Return Mean (%)'].round(2).astype(str) \\\n",
        "        #  + \" ± \" + metrics_df['Annualized Return Std (%)'].round(2).astype(str)\n",
        "    metrics_summary_df['MDD (%)'] = metrics_df['MDD Mean (%)'].round(2).astype(str) \\\n",
        "        #  + \" ± \" + metrics_df['MDD Std (%)'].round(2).astype(str)\n",
        "    metrics_summary_df['Sharpe Ratio'] = metrics_df['Sharpe Ratio Mean'].round(2).astype(str) \\\n",
        "        #  + \" ± \" + metrics_df['Sharpe Ratio Std'].round(2).astype(str)\n",
        "    metrics_summary_df = metrics_summary_df[['Method', 'Cumulative Return (%)', 'Annualized Return (%)', 'MDD (%)', 'Sharpe Ratio']]\n",
        "\n",
        "    return metrics_df, metrics_summary_df, experiment_stats\n",
        "\n",
        "metrics_df, metrics_summary_df, experiment_stats = calculate_metrics(result)"
      ]
    },
    {
      "cell_type": "code",
      "execution_count": 156,
      "metadata": {
        "cellView": "form",
        "colab": {
          "base_uri": "https://localhost:8080/"
        },
        "id": "aJhaU9sxwUl-",
        "outputId": "9349715d-3953-47ea-82c2-bd2a938aed3f"
      },
      "outputs": [
        {
          "output_type": "execute_result",
          "data": {
            "text/plain": [
              "{'a2c': {'cum_return': -24.07,\n",
              "  'ann_return': -68.09,\n",
              "  'mdd': -24.07,\n",
              "  'sharpe_ratio': -5.0},\n",
              " 'ddpg': {'cum_return': -20.63,\n",
              "  'ann_return': -61.65,\n",
              "  'mdd': -21.93,\n",
              "  'sharpe_ratio': -5.05},\n",
              " 'td3': {'cum_return': -22.22,\n",
              "  'ann_return': -64.74,\n",
              "  'mdd': -22.22,\n",
              "  'sharpe_ratio': -4.71},\n",
              " 'sac': {'cum_return': -23.83,\n",
              "  'ann_return': -67.67,\n",
              "  'mdd': -23.83,\n",
              "  'sharpe_ratio': -4.63},\n",
              " 'ppo': {'cum_return': -18.44,\n",
              "  'ann_return': -57.06,\n",
              "  'mdd': -19.33,\n",
              "  'sharpe_ratio': -3.99}}"
            ]
          },
          "metadata": {},
          "execution_count": 156
        }
      ],
      "source": [
        "#@title result_df_to_metrics_dict\n",
        "\n",
        "def result_df_to_metrics_dict(metrics_summary_df):\n",
        "    cols_to_rename = {\n",
        "        'Method': 'model_name',\n",
        "        'Cumulative Return (%)': 'cum_return',\n",
        "        'Annualized Return (%)': 'ann_return',\n",
        "        'MDD (%)': 'mdd',\n",
        "        'Sharpe Ratio': 'sharpe_ratio'\n",
        "    }\n",
        "\n",
        "    extracted_metrics = metrics_summary_df.rename(columns=cols_to_rename).T.to_dict()\n",
        "    metrics_all = {model_data['model_name'].lower(): model_data for idx, model_data in extracted_metrics.items()}\n",
        "    for model_name, metrics in metrics_all.items():\n",
        "        metrics.pop('model_name')\n",
        "        for metric, value in metrics.items():\n",
        "            metrics_all[model_name][metric] = float(value)\n",
        "\n",
        "    return metrics_all\n",
        "\n",
        "result_df_to_metrics_dict(metrics_summary_df)"
      ]
    },
    {
      "cell_type": "code",
      "execution_count": 157,
      "metadata": {
        "cellView": "form",
        "collapsed": true,
        "id": "htgsl-iu5dU_"
      },
      "outputs": [],
      "source": [
        "#@title Print the comparison table (w/annualized returns)\n",
        "\n",
        "def print_comparison_table(metrics_summary_df, metrics_df):\n",
        "    print(f\"\\n=== Metrics Comparison ===\")\n",
        "    print(metrics_summary_df.to_string(index=False))\n",
        "    print(\"\\n\")\n",
        "\n",
        "    # Create separate DataFrames for rankings\n",
        "    ranking_cum_ret = metrics_df[['Method', 'Cumulative Return Mean (%)']].copy()\n",
        "    ranking_cum_ret = ranking_cum_ret.sort_values(by='Cumulative Return Mean (%)', ascending=False)\n",
        "\n",
        "    ranking_annualized_ret = metrics_df[['Method', 'Annualized Return Mean (%)']].copy()\n",
        "    ranking_annualized_ret = ranking_annualized_ret.sort_values(by='Annualized Return Mean (%)', ascending=False)\n",
        "\n",
        "    ranking_mdd = metrics_df[['Method', 'MDD Mean (%)']].copy()\n",
        "    ranking_mdd = ranking_mdd.sort_values(by='MDD Mean (%)', ascending=False)  # Lower abs(MDD) is better\n",
        "\n",
        "    ranking_sharpe = metrics_df[['Method', 'Sharpe Ratio Mean']].copy()\n",
        "    ranking_sharpe = ranking_sharpe.sort_values(by='Sharpe Ratio Mean', ascending=False)\n",
        "\n",
        "    # Print rankings\n",
        "    print(f\"=== Rankings ===\")\n",
        "\n",
        "    print(\"\\nCumulative Return (%):\")\n",
        "    for idx, row in ranking_cum_ret.iterrows():\n",
        "        print(f\"{row['Method']}: {row['Cumulative Return Mean (%)']:.2f}%\")\n",
        "\n",
        "    print(\"\\nAnnualized Return (%):\")\n",
        "    for idx, row in ranking_annualized_ret.iterrows():\n",
        "        print(f\"{row['Method']}: {row['Annualized Return Mean (%)']:.2f}%\")\n",
        "\n",
        "    print(\"\\nMaximum Drawdown (MDD %) [Lower absolute values is Better]:\")\n",
        "    for idx, row in ranking_mdd.iterrows():\n",
        "        print(f\"{row['Method']}: {row['MDD Mean (%)']:.2f}%\")\n",
        "\n",
        "    print(\"\\nSharpe Ratio [Higher is Better]:\")\n",
        "    for idx, row in ranking_sharpe.iterrows():\n",
        "        print(f\"{row['Method']}: {row['Sharpe Ratio Mean']:.2f}\")\n",
        "\n",
        "    print(\"\\n\")\n",
        "\n",
        "    # # Debugging: Check if all means align with result.index\n",
        "    # for exp_name, stats in experiment_stats.items():\n",
        "    #     mean_length = len(stats['mean'])\n",
        "    #     result_length = len(result.index)\n",
        "    #     if mean_length != result_length:\n",
        "    #         print(f\"Warning: Mean length for '{exp_name}' ({mean_length}) does not match result index length ({result_length}). Reindexing.\")\n",
        "    #         experiment_stats[exp_name]['mean'] = stats['mean'].reindex(result.index).fillna(method='ffill')\n",
        "    #         experiment_stats[exp_name]['std'] = stats['std'].reindex(result.index).fillna(0)\n",
        "\n",
        "# print_comparison_table(metrics_summary_df, metrics_df)"
      ]
    },
    {
      "cell_type": "code",
      "execution_count": 158,
      "metadata": {
        "cellView": "form",
        "id": "lAk7W7YEdlYm"
      },
      "outputs": [],
      "source": [
        "#@title log_test_metrics (deprecated)\n",
        "\n",
        "def log_test_metrics(metrics_summary_df):\n",
        "    # Identify the best model based on maximum Sharpe Ratio\n",
        "    best_model_row = metrics_summary_df.loc[metrics_summary_df['Sharpe Ratio'].idxmax()]\n",
        "    best_model_name = best_model_row['Method'].lower()  # Convert the model name to lowercase\n",
        "\n",
        "    # Log metrics for each model\n",
        "    for _, row in metrics_summary_df.iterrows():\n",
        "        model_name = row['Method'].lower()  # Convert the model name to lowercase\n",
        "\n",
        "        # Log per-model metrics\n",
        "        wandb.run.log({\n",
        "            f'test/cum_return/{model_name}': row['Cumulative Return (%)'],\n",
        "            f'test/ann_return/{model_name}': row['Annualized Return (%)'],\n",
        "            f'test/mdd/{model_name}': row['MDD (%)'],\n",
        "            f'test/sharpe_ratio/{model_name}': row['Sharpe Ratio']\n",
        "        })\n",
        "\n",
        "    # Log metrics for the best model\n",
        "    wandb.run.log({\n",
        "        'test/cum_return/best_model': best_model_row['Cumulative Return (%)'],\n",
        "        'test/ann_return/best_model': best_model_row['Annualized Return (%)'],\n",
        "        'test/mdd/best_model': best_model_row['MDD (%)'],\n",
        "        'test/sharpe_ratio/best_model': best_model_row['Sharpe Ratio'],\n",
        "        'test/best_model_name': best_model_name\n",
        "    })\n",
        "\n",
        "    print(wandb.run.config)\n",
        "\n",
        "# Example usage:\n",
        "# log_test_metrics(metrics_summary_df)\n"
      ]
    },
    {
      "cell_type": "code",
      "execution_count": 159,
      "metadata": {
        "cellView": "form",
        "id": "BidSdRYU2HPV"
      },
      "outputs": [],
      "source": [
        "#@title log_metrics\n",
        "\n",
        "def log_nested_metrics(key, new_metrics, step=None):\n",
        "    # Fetch existing metrics for the split\n",
        "\n",
        "    metrics = wandb.run.config.as_dict().get(key, None)\n",
        "    if metrics is None:\n",
        "        api = wandb.Api()\n",
        "        run = api.run(f\"{wandb.run.project}/{wandb.run.id}\")\n",
        "        metrics = run.summary._dict.get(key, {})\n",
        "\n",
        "    # Merge with new metrics\n",
        "    # metrics = {**metrics, **new_metrics}\n",
        "    metrics.update(new_metrics)\n",
        "\n",
        "    # Log the merged metrics\n",
        "    wandb.log({key: metrics}, step=step)\n",
        "\n",
        "def log_metrics(metrics, model_name, split_label, step=None):\n",
        "    print(f'log_metrics for {model_name}')\n",
        "    assert model_name in ['a2c', 'ddpg', 'sac', 'ppo', 'td3', 'best_model', 'chosen_model']\n",
        "\n",
        "    rename_metrics = lambda model_name: {\n",
        "        f\"{key}/{model_name}\": value for key, value in metrics.items()\n",
        "    }\n",
        "\n",
        "    renamed_metrics = rename_metrics(model_name)\n",
        "    log_nested_metrics(split_label, renamed_metrics, step=step)"
      ]
    },
    {
      "cell_type": "code",
      "execution_count": 160,
      "metadata": {
        "cellView": "form",
        "id": "78Xhl6wmmY9m"
      },
      "outputs": [],
      "source": [
        "#@title update_best_model_metrics\n",
        "\n",
        "def update_best_model_metrics(metrics, model_name, split_label):\n",
        "    if 'sharpe_ratios' not in wandb.run.config:\n",
        "        wandb.run.config['sharpe_ratios'] = {}\n",
        "\n",
        "    if split_label not in wandb.run.config['sharpe_ratios']:\n",
        "        wandb.run.config['sharpe_ratios'][split_label] = {}\n",
        "\n",
        "    sharpe_ratios = wandb.run.config['sharpe_ratios'][split_label]\n",
        "\n",
        "    print(f\"DEBUG ({split_label}): run.id = {wandb.run.id}\")\n",
        "    print(f\"DEBUG ({split_label}): sharpe_ratios = {sharpe_ratios}\")\n",
        "    print(f\"DEBUG ({split_label}): updating best model based on sharpe_ratios: {sharpe_ratios}\")\n",
        "    if len(sharpe_ratios) > 0:\n",
        "        best_model_name = max(sharpe_ratios, key=sharpe_ratios.get)\n",
        "        if metrics['sharpe_ratio'] > sharpe_ratios[best_model_name]:\n",
        "            print(\n",
        "                f\"DEBUG ({split_label}): {round(metrics['sharpe_ratio'], 2)} ({model_name})\"\n",
        "                f\" > {round(sharpe_ratios[best_model_name], 2)} ({best_model_name})\"\n",
        "                f\". New best model: {model_name}.\"\n",
        "            )\n",
        "            log_metrics(metrics, 'best_model', split_label)\n",
        "            log_nested_metrics(split_label, {'best_model_name': model_name})\n",
        "        else:\n",
        "            print(\n",
        "                f\"DEBUG ({split_label}): {round(metrics['sharpe_ratio'], 2)} ({model_name})\"\n",
        "                f\" <= {round(sharpe_ratios[best_model_name], 2)} ({best_model_name})\"\n",
        "                \". Not updating best model.\"\n",
        "            )\n",
        "    else:\n",
        "        print(f\"DEBUG ({split_label}): no models logged yet, new best model is current one: {model_name}\")\n",
        "        print(f\"DEBUG ({split_label}): wandb.run.config['sharpe_ratios'] = {wandb.run.config['sharpe_ratios']}\")\n",
        "        log_metrics(metrics, 'best_model', split_label)\n",
        "\n",
        "    wandb.run.config['sharpe_ratios'][split_label][model_name] = metrics['sharpe_ratio']"
      ]
    },
    {
      "cell_type": "code",
      "execution_count": 161,
      "metadata": {
        "cellView": "form",
        "colab": {
          "base_uri": "https://localhost:8080/"
        },
        "id": "P_Kvnp_szelc",
        "outputId": "c647ad2c-fcd6-401d-bbf8-6208d4b62086"
      },
      "outputs": [
        {
          "output_type": "execute_result",
          "data": {
            "text/plain": [
              "{'a2c': 1.77,\n",
              " 'best_model': 5.11,\n",
              " 'ddpg': 2.64,\n",
              " 'ppo': 5.11,\n",
              " 'sac': -1.11,\n",
              " 'td3': 3.59}"
            ]
          },
          "metadata": {},
          "execution_count": 161
        }
      ],
      "source": [
        "#@title aggregate_metric_values\n",
        "def aggregate_metric_values(requested_metric_name, split_label):\n",
        "    \"\"\"\n",
        "        aggregates values of a given metric across models\n",
        "        returns dict like {model_name: metric_value}\n",
        "    \"\"\"\n",
        "    assert split_label in ['train', 'val', 'split']\n",
        "\n",
        "    api = wandb.Api()\n",
        "    run = api.run(f\"{wandb.run.project}/{wandb.run.id}\")\n",
        "\n",
        "    agg_metric_values = {\n",
        "        full_metric_name.split('/')[1]: metric_value\n",
        "        for full_metric_name, metric_value in run.summary[split_label].items()\n",
        "        if full_metric_name.startswith(requested_metric_name)\n",
        "    }\n",
        "\n",
        "    return agg_metric_values\n",
        "\n",
        "val_sharpe_ratios = aggregate_metric_values('sharpe_ratio', 'val')\n",
        "val_sharpe_ratios"
      ]
    },
    {
      "cell_type": "code",
      "execution_count": 162,
      "metadata": {
        "cellView": "form",
        "id": "ufC0O5uZlDEI"
      },
      "outputs": [],
      "source": [
        "#@title update_chosen_model_metrics\n",
        "\n",
        "def update_chosen_model_metrics():\n",
        "    api = wandb.Api()\n",
        "    run = api.run(f\"{wandb.run.project}/{wandb.run.id}\")\n",
        "\n",
        "    val_sharpe_ratios = aggregate_metric_values('sharpe_ratio', 'val')\n",
        "    if 'best_model' in val_sharpe_ratios.keys():\n",
        "        val_sharpe_ratios.pop('best_model')\n",
        "\n",
        "    chosen_model_name = max(val_sharpe_ratios, key=val_sharpe_ratios.get)\n",
        "\n",
        "    # TODO: UNCOMMENT\n",
        "    log_nested_metrics('val', {'best_model_name': chosen_model_name})\n",
        "    # wandb.log({'val': {'best_model_name': chosen_model_name}})\n",
        "\n",
        "    chosen_model_metrics = {\n",
        "        metric_name: metric_value\n",
        "        # rename_metric(metric_name, 'chosen_model'): metric_value\n",
        "        for metric_name, metric_value in run.summary['test'].items()\n",
        "        if metric_name.endswith(chosen_model_name)\n",
        "    }\n",
        "    print(f'DEBUG (CHOSEN): chosen_model_metrics: {chosen_model_metrics}')\n",
        "\n",
        "    rename_metric = lambda metric_name, model_name: metric_name.split('/')[0] + '/' + model_name\n",
        "    chosen_model_metrics = {\n",
        "        rename_metric(metric_name, 'chosen_model'): metric_value\n",
        "        for metric_name, metric_value in chosen_model_metrics.items()\n",
        "    }\n",
        "\n",
        "    print(f'DEBUG (CHOSEN): chosen_model_metrics: {chosen_model_metrics}')\n",
        "\n",
        "    log_nested_metrics('test', chosen_model_metrics)\n",
        "    log_nested_metrics('test', {'chosen_model_name': chosen_model_name})\n",
        "    # wandb.log({'test': chosen_model_metrics})\n",
        "    # wandb.log({'test': {'chosen_model_name': chosen_model_name}})\n",
        "\n",
        "# update_chosen_model_metrics()"
      ]
    },
    {
      "cell_type": "code",
      "execution_count": 163,
      "metadata": {
        "cellView": "form",
        "id": "_z4soDAjnutM"
      },
      "outputs": [],
      "source": [
        "#@title plot results\n",
        "%matplotlib inline\n",
        "\n",
        "def plot_results(result, experiment_stats, turbulence_series=None, turbulence_threshold=70):\n",
        "    # Plotting section\n",
        "    fig = plt.figure(figsize=(16, 9))  # Increased figure size for better readability\n",
        "    method_styles = {\n",
        "        # 'CQL': {'color': '#1f77b4', 'linestyle': '-'},           # Blue solid\n",
        "        # 'IQL': {'color': '#ff7f0e', 'linestyle': '--'},          # Orange dashed\n",
        "        # 'BC': {'color': '#2ca02c', 'linestyle': '-.'},           # Green dash-dot\n",
        "        # 'DT LoRA GPT2': {'color': '#d62728', 'linestyle': ':'},  # Red dotted\n",
        "        # 'DT LoRA Random Weight GPT2': {'color': '#9467bd', 'linestyle': '-'},  # Purple solid\n",
        "        'A2C': {'color': '#8c564b', 'linestyle': '--'},          # Brown dashed\n",
        "        'DDPG': {'color': '#e377c2', 'linestyle': '-'},          # Pink solid\n",
        "        'PPO': {'color': '#7f7f7f', 'linestyle': '-'},           # Gray solid\n",
        "        'TD3': {'color': '#bcbd22', 'linestyle': '--'},          # Olive dashed\n",
        "        'SAC': {'color': '#17becf', 'linestyle': '-'},           # Cyan solid\n",
        "        'DJIA': {'color': '#000000', 'linestyle': '-'},          # Black solid\n",
        "        # Add more methods here if needed\n",
        "    }\n",
        "    # Plot DJIA\n",
        "    plt.plot(result.index, result['DJIA'], label=\"Dow Jones Index\", linestyle=method_styles['DJIA']['linestyle'], color=method_styles['DJIA']['color'])\n",
        "\n",
        "    # Define color palette and line styles\n",
        "    color_palette = plt.get_cmap('tab10').colors  # Colorblind-friendly palette\n",
        "    line_styles = ['-', '--', '-.', ':']  # Different line styles\n",
        "\n",
        "    # Plot experiment groups\n",
        "    for idx, (exp_name, stats) in enumerate(experiment_stats.items()):\n",
        "        min_date = stats['mean'].index.min()\n",
        "        max_date = stats['mean'].index.max()\n",
        "\n",
        "        mean = stats['mean']\n",
        "        std = stats['std']\n",
        "\n",
        "        # Ensure mean and std are aligned with result.index\n",
        "        mean = mean.reindex(result.index).fillna(method='ffill')\n",
        "        std = std.reindex(result.index).fillna(0)\n",
        "\n",
        "        # Assign colors and line styles\n",
        "        color = color_palette[idx % len(color_palette)]\n",
        "        linestyle = line_styles[idx % len(line_styles)]\n",
        "\n",
        "        def exp_name_formatter(exp_name):\n",
        "            exp_names = exp_name.split('_')\n",
        "            if len(exp_names) == 1:\n",
        "                return exp_name\n",
        "            elif len(exp_names) == 2:\n",
        "                return exp_names[1].upper()\n",
        "            elif len(exp_names) == 3:\n",
        "                return None\n",
        "            elif len(exp_names) == 4:\n",
        "                return exp_names[1].upper() + ' LoRA ' + 'GPT2'\n",
        "            elif len(exp_names) == 6:\n",
        "                return exp_names[1].upper() + ' LoRA ' + 'Random Weight ' + 'GPT2'\n",
        "            else:\n",
        "                return exp_name\n",
        "\n",
        "        # Plot mean\n",
        "        line, = plt.plot(\n",
        "            result.index,\n",
        "            mean,\n",
        "            label=exp_name_formatter(exp_name),\n",
        "            linestyle=method_styles[exp_name_formatter(exp_name)]['linestyle'],\n",
        "            color=method_styles[exp_name_formatter(exp_name)]['color']\n",
        "        )\n",
        "\n",
        "        # Plot error bands (mean ± 1 std)\n",
        "        plt.fill_between(\n",
        "            result.index,\n",
        "            mean - std,\n",
        "            mean + std,\n",
        "            color=method_styles[exp_name_formatter(exp_name)]['color'],\n",
        "            alpha=0.2\n",
        "        )\n",
        "\n",
        "\n",
        "    # Enhance layout and aesthetics\n",
        "    plt.tight_layout()\n",
        "    plt.grid(True, linestyle='--', alpha=0.3)\n",
        "\n",
        "    # Set title and labels with enhanced formatting\n",
        "    plt.title(f\"Performance Comparison of DRL agents\", fontsize=20, fontweight='bold')\n",
        "    plt.xlabel(\"Date\", fontsize=16, fontweight='bold')\n",
        "    plt.ylabel(\"Total Asset Value ($)\", fontsize=16, fontweight='bold')\n",
        "    plt.xticks(result.index[0::30])\n",
        "\n",
        "    # Plot turbulence\n",
        "    if turbulence_series is not None:\n",
        "        ax1 = plt.gca()  # Get the current axis for the main plot\n",
        "        ax2 = ax1.twinx()  # Create a secondary y-axis\n",
        "\n",
        "        ax2.plot(turbulence_series.index, turbulence_series, label=\"Turbulence\", color='red', linestyle='--', linewidth=4)\n",
        "        ax2.set_ylabel(\"Turbulence Index\", fontsize=16, fontweight='bold', color='red')\n",
        "        ax2.set_ylim(0, 90)  # Set y-axis range for the secondary axis\n",
        "\n",
        "        lines_1, labels_1 = ax1.get_legend_handles_labels()\n",
        "        lines_2, labels_2 = ax2.get_legend_handles_labels()\n",
        "        ax2.legend(lines_1 + lines_2, labels_1 + labels_2, loc='lower right')\n",
        "\n",
        "        ax2.axhline(y=turbulence_threshold, color='red')\n",
        "\n",
        "    # Add 'Test Phase' annotation with date range\n",
        "    plt.text(0.5, 0.95, f'Test Phase: {min_date.date()} to {max_date.date()}',\n",
        "    transform=plt.gca().transAxes, fontsize=14, ha='center',\n",
        "    bbox=dict(boxstyle=\"round,pad=0.3\", facecolor=\"white\", alpha=0.5))\n",
        "\n",
        "    plt.legend(loc='lower right')\n",
        "    return fig\n",
        "\n",
        "# fig = plot_results(result, experiment_stats)\n",
        "# plt.show()\n",
        "\n",
        "# fig = plot_results(result, experiment_stats, turbulence_series)\n",
        "# plt.show()"
      ]
    },
    {
      "cell_type": "code",
      "execution_count": 164,
      "metadata": {
        "colab": {
          "base_uri": "https://localhost:8080/",
          "height": 613
        },
        "id": "CbLgPDKNPQX3",
        "outputId": "2f57c4b2-e6c4-4207-f2d7-908bb64b9840",
        "cellView": "form"
      },
      "outputs": [
        {
          "output_type": "display_data",
          "data": {
            "text/plain": [
              "<Figure size 1400x1000 with 2 Axes>"
            ],
            "image/png": "[encoded data removed]"
          },
          "metadata": {}
        }
      ],
      "source": [
        "#@title plot_results (separate turbulence plot)\n",
        "\n",
        "def plot_results(result, experiment_stats, turbulence_series=None, turbulence_threshold=70):\n",
        "    # Create figure and subplots\n",
        "    fig, (ax1, ax2) = plt.subplots(2, 1, figsize=(14, 10), sharex=True, gridspec_kw={'height_ratios': [3, 1]})\n",
        "\n",
        "    # Main plot\n",
        "    method_styles = {\n",
        "        'A2C': {'color': '#8c564b', 'linestyle': '--'},\n",
        "        'DDPG': {'color': '#e377c2', 'linestyle': '-'},\n",
        "        'PPO': {'color': '#7f7f7f', 'linestyle': '-'},\n",
        "        'TD3': {'color': '#bcbd22', 'linestyle': '--'},\n",
        "        'SAC': {'color': '#17becf', 'linestyle': '-'},\n",
        "        'DJIA': {'color': '#000000', 'linestyle': '-'},\n",
        "    }\n",
        "\n",
        "    ax1.plot(result.index, result['DJIA'], label=\"Dow Jones Index\",\n",
        "             linestyle=method_styles['DJIA']['linestyle'], color=method_styles['DJIA']['color'])\n",
        "\n",
        "    for exp_name, stats in experiment_stats.items():\n",
        "        mean = stats['mean'].reindex(result.index).fillna(method='ffill')\n",
        "        std = stats['std'].reindex(result.index).fillna(0)\n",
        "\n",
        "        style = method_styles[exp_name]\n",
        "        ax1.plot(result.index, mean, label=exp_name, **style)\n",
        "        ax1.fill_between(result.index, mean - std, mean + std, color=style['color'], alpha=0.2)\n",
        "\n",
        "    # Customize main plot\n",
        "    ax1.set_title(\"Performance Comparison of DRL Agents\", fontsize=20, fontweight='bold')\n",
        "    ax1.set_ylabel(\"Total Asset Value ($)\", fontsize=16, fontweight='bold')\n",
        "    ax1.legend(loc='lower right')\n",
        "    ax1.grid(True, linestyle='--', alpha=0.3)\n",
        "\n",
        "    # Turbulence plot\n",
        "    if turbulence_series is not None:\n",
        "        ax2.plot(turbulence_series.index, turbulence_series, label=\"Turbulence Index\", color='red', linestyle='--', linewidth=2)\n",
        "        ax2.axhline(y=turbulence_threshold, color='red', linestyle=':', label='Turbulence Threshold')\n",
        "        ax2.set_ylabel(\"Turbulence Index\", fontsize=16, fontweight='bold')\n",
        "        ax2.legend(loc='lower left')\n",
        "        ax2.grid(True, linestyle='--', alpha=0.3)\n",
        "        max_turbulence = max(turbulence_series.max(), turbulence_threshold)\n",
        "        ax2.set_ylim(0, max_turbulence + 10)\n",
        "        ax2.set_yticks(list(ax2.get_yticks()) + [turbulence_threshold])\n",
        "\n",
        "    # Shared x-axis label\n",
        "    ax2.set_xlabel(\"Date\", fontsize=16, fontweight='bold')\n",
        "\n",
        "    # Tight layout\n",
        "    plt.tight_layout()\n",
        "    return fig\n",
        "\n",
        "# Example usage:\n",
        "fig = plot_results(result, experiment_stats, turbulence_series)\n",
        "plt.show()"
      ]
    },
    {
      "cell_type": "code",
      "execution_count": 30,
      "metadata": {
        "colab": {
          "base_uri": "https://localhost:8080/"
        },
        "id": "02OzYWBGMVNE",
        "outputId": "6b74bcce-c9fd-41bf-f3c8-9deafb9842dc",
        "cellView": "form"
      },
      "outputs": [
        {
          "output_type": "stream",
          "name": "stdout",
          "text": [
            "log_plot_as_artifact\n"
          ]
        }
      ],
      "source": [
        "#@title log_plot_as_artifact\n",
        "\n",
        "import os\n",
        "import matplotlib.pyplot as plt\n",
        "import wandb\n",
        "\n",
        "def log_plot_as_artifact(fig, artifact_name_prefix, artifact_type=\"plot\"):\n",
        "    print('log_plot_as_artifact')\n",
        "    \"\"\"\n",
        "    Save a Matplotlib figure without clipping and log it as a W&B artifact.\n",
        "\n",
        "    Parameters:\n",
        "        fig (matplotlib.figure.Figure): The Matplotlib figure to save and log.\n",
        "        artifact_name (str): The name of the W&B artifact.\n",
        "        artifact_type (str): The type of the artifact (default is \"plot\").\n",
        "        filename (str): The filename to save the plot as (default is \"plot.png\").\n",
        "    \"\"\"\n",
        "    try:\n",
        "        # Get full artifact name\n",
        "        artifact_name = f'{artifact_name_prefix}-{wandb.run.id}'\n",
        "        filename = artifact_name + '.png'\n",
        "\n",
        "        # Save the figure with tight layout and proper padding\n",
        "        fig.savefig(filename, bbox_inches='tight', pad_inches=0.1, dpi=300)\n",
        "        plt.close(fig)  # Close the figure to free up memory\n",
        "\n",
        "        # Create and log the W&B artifact\n",
        "        artifact = wandb.Artifact(artifact_name, type=artifact_type)\n",
        "        artifact.add_file(filename, skip_cache=True, overwrite=True)\n",
        "        wandb.log_artifact(artifact)\n",
        "    finally:\n",
        "        # Ensure the file is deleted after use\n",
        "        if os.path.exists(filename):\n",
        "            os.remove(filename)\n",
        "\n",
        "log_plot_as_artifact(fig, \"performance_comparison_DRL_agents\", artifact_type=\"plot\")"
      ]
    },
    {
      "cell_type": "markdown",
      "metadata": {
        "id": "3FEWfFrKScv3"
      },
      "source": [
        "# Run metrics logging"
      ]
    },
    {
      "cell_type": "code",
      "execution_count": 31,
      "metadata": {
        "id": "RUUFNt-BoNe_",
        "cellView": "form"
      },
      "outputs": [],
      "source": [
        "#@title run_prediction_and_log_metrics\n",
        "\n",
        "def _run_prediction_and_log_metrics(df, split_label, turbulence_threshold=None):\n",
        "    assert split_label in ['train', 'val', 'test']\n",
        "\n",
        "    df = fix_daily_index(df)\n",
        "\n",
        "    e_gym = init_env(df, config, turbulence_threshold=turbulence_threshold)\n",
        "    result, turbulence_series = get_predictions(e_gym, config, return_turbulence=True)\n",
        "    result = add_djia_test(df, result, config)\n",
        "\n",
        "    metrics_df, metrics_summary_df, experiment_stats = calculate_metrics(result)\n",
        "    log_test_metrics(metrics_summary_df)\n",
        "    metrics_all = result_df_to_metrics_dict(metrics_summary_df)\n",
        "\n",
        "    if turbulence_threshold is None:\n",
        "        turbulence_threshold = e_gym.turbulence_threshold\n",
        "\n",
        "    log_nested_metrics(split_label, {'turb_th': turbulence_threshold})\n",
        "\n",
        "    for model_name, metrics in metrics_all.items():\n",
        "        log_metrics(metrics, model_name, split_label)\n",
        "        update_best_model_metrics(metrics, model_name, split_label)\n",
        "\n",
        "    if split_label == 'test':\n",
        "        update_chosen_model_metrics()\n",
        "\n",
        "\n",
        "        fig = plot_results(\n",
        "            result, experiment_stats,\n",
        "            turbulence_series,\n",
        "            turbulence_threshold = turbulence_threshold\n",
        "        )\n",
        "\n",
        "        log_plot_as_artifact(fig, artifact_name_prefix=\"performance_comparison_DRL_agents\", artifact_type=\"plot\")\n",
        "\n",
        "def run_prediction_and_log_metrics(run_id, turbulence_threshold=None):\n",
        "    with wandb.init(project=PROJECT, entity=ENTITY, id=run_id, resume='must'):\n",
        "        config = wandb.run.config\n",
        "\n",
        "        download_artifacts(run_id)\n",
        "        train, val, trade = load_data(config)\n",
        "\n",
        "        _run_prediction_and_log_metrics(val, split_label='val')\n",
        "        _run_prediction_and_log_metrics(trade, split_label='test', turbulence_threshold=turbulence_threshold)"
      ]
    },
    {
      "cell_type": "code",
      "source": [
        "#@title Log metrics for a RUN\n",
        "\n",
        "run_prediction_and_log_metrics(\n",
        "    run_id = 'lihccc7l',\n",
        "    turbulence_threshold = 20\n",
        ")"
      ],
      "metadata": {
        "colab": {
          "base_uri": "https://localhost:8080/",
          "height": 1000
        },
        "id": "iPPwuqlnlbGy",
        "outputId": "9967881d-5d61-4694-ef3a-8b788d04585b"
      },
      "execution_count": null,
      "outputs": [
        {
          "output_type": "display_data",
          "data": {
            "text/plain": [
              "<IPython.core.display.HTML object>"
            ],
            "text/html": [
              "Tracking run with wandb version 0.19.1"
            ]
          },
          "metadata": {}
        },
        {
          "output_type": "display_data",
          "data": {
            "text/plain": [
              "<IPython.core.display.HTML object>"
            ],
            "text/html": [
              "Run data is saved locally in <code>/content/wandb/run-20250112_131423-lihccc7l</code>"
            ]
          },
          "metadata": {}
        },
        {
          "output_type": "display_data",
          "data": {
            "text/plain": [
              "<IPython.core.display.HTML object>"
            ],
            "text/html": [
              "Resuming run <strong><a href='https://wandb.ai/overfit1010/finrl-dt-replicate/runs/lihccc7l' target=\"_blank\">DOW-30 | 2009-01 | 2019 Q4 | 2020 Q1 | VleEx</a></strong> to <a href='https://wandb.ai/overfit1010/finrl-dt-replicate' target=\"_blank\">Weights & Biases</a> (<a href='https://wandb.me/developer-guide' target=\"_blank\">docs</a>)<br>Sweep page: <a href='https://wandb.ai/overfit1010/finrl-dt-replicate/sweeps/k43io2uh' target=\"_blank\">https://wandb.ai/overfit1010/finrl-dt-replicate/sweeps/k43io2uh</a>"
            ]
          },
          "metadata": {}
        },
        {
          "output_type": "display_data",
          "data": {
            "text/plain": [
              "<IPython.core.display.HTML object>"
            ],
            "text/html": [
              " View project at <a href='https://wandb.ai/overfit1010/finrl-dt-replicate' target=\"_blank\">https://wandb.ai/overfit1010/finrl-dt-replicate</a>"
            ]
          },
          "metadata": {}
        },
        {
          "output_type": "display_data",
          "data": {
            "text/plain": [
              "<IPython.core.display.HTML object>"
            ],
            "text/html": [
              " View sweep at <a href='https://wandb.ai/overfit1010/finrl-dt-replicate/sweeps/k43io2uh' target=\"_blank\">https://wandb.ai/overfit1010/finrl-dt-replicate/sweeps/k43io2uh</a>"
            ]
          },
          "metadata": {}
        },
        {
          "output_type": "display_data",
          "data": {
            "text/plain": [
              "<IPython.core.display.HTML object>"
            ],
            "text/html": [
              " View run at <a href='https://wandb.ai/overfit1010/finrl-dt-replicate/runs/lihccc7l' target=\"_blank\">https://wandb.ai/overfit1010/finrl-dt-replicate/runs/lihccc7l</a>"
            ]
          },
          "metadata": {}
        },
        {
          "output_type": "stream",
          "name": "stdout",
          "text": [
            "True\n"
          ]
        },
        {
          "output_type": "stream",
          "name": "stderr",
          "text": [
            "\u001b[34m\u001b[1mwandb\u001b[0m:   3 of 3 files downloaded.  \n",
            "\u001b[34m\u001b[1mwandb\u001b[0m:   5 of 5 files downloaded.  \n",
            "\u001b[34m\u001b[1mwandb\u001b[0m:   5 of 5 files downloaded.  \n",
            "\u001b[34m\u001b[1mwandb\u001b[0m:   5 of 5 files downloaded.  \n",
            "\u001b[34m\u001b[1mwandb\u001b[0m:   1 of 1 files downloaded.  \n",
            "\u001b[34m\u001b[1mwandb\u001b[0m:   1 of 1 files downloaded.  \n",
            "\u001b[34m\u001b[1mwandb\u001b[0m:   1 of 1 files downloaded.  \n",
            "\u001b[34m\u001b[1mwandb\u001b[0m:   1 of 1 files downloaded.  \n",
            "\u001b[34m\u001b[1mwandb\u001b[0m:   1 of 1 files downloaded.  \n",
            "\u001b[34m\u001b[1mwandb\u001b[0m:   1 of 1 files downloaded.  \n",
            "\u001b[34m\u001b[1mwandb\u001b[0m:   1 of 1 files downloaded.  \n"
          ]
        },
        {
          "output_type": "stream",
          "name": "stdout",
          "text": [
            "Stock Dimension: 29, State Space: 291\n",
            "hit end!\n",
            "hit end!\n",
            "hit end!\n",
            "hit end!\n"
          ]
        },
        {
          "output_type": "stream",
          "name": "stderr",
          "text": [
            "\r[*********************100%***********************]  1 of 1 completed"
          ]
        },
        {
          "output_type": "stream",
          "name": "stdout",
          "text": [
            "hit end!\n",
            "\n",
            "2019-10-01 00:00:00\n",
            "2019-12-31 00:00:00\n",
            "Shape of DataFrame:  (63, 8)\n",
            "{'dataset_name': 'DOW-30 | 2009-01 | 2019 Q4 | 2020 Q1', 'if_using_ddpg': True, 'finetune': True, 'max_test_end_date': '2020-08-05', 'REFERENCE_PRICE_END_DATE': '2024-12-21', 'cost_abs': 2.5, 'dataset_type': 'quarterly_train_val_test', 'cost_pct': [0.010314179718673032, 0.009076606561755468, 0.008307067100246136, 0.015516293581809112, 0.006395481989312903, 0.0072110283262062785, 0.04249566955190291, 0.015979716445954528, 0.021738725278835313, 0.004222453318177087, 0.005968143721526647, 0.010896151366589463, 0.01093735188446354, 0.11420864277075855, 0.01665255165637118, 0.010252194206940846, 0.03947813656400475, 0.008462643895002689, 0.01919729692524921, 0.024719550845968045, 0.005734449144229167, 0.03210832438433615, 0.014379031318205482, 0.00982580254909786, 0.0044498520553265045, 0.007984135151425499, 0.05881990501271046, 0.270946766931955, 0.026832260273111815], 'train_start_date': '2009-01-01', 'if_using_ppo': True, 'initial_amount': 50000, 'train_params': {'a2c': {'steps': 50000}, 'ppo': {'steps': 200000}, 'sac': {'steps': 70000}, 'td3': {'steps': 50000}, 'ddpg': {'steps': 50000}}, 'if_using_sac': True, 'min_test_start_date': '2016-01-01', 'stock_index_name': 'DOW-30', 'if_using_a2c': True, 'REFERNCE_PRICE_WINDOW_DAYS': 30, 'date_range': {'test_end_date': '2020-04-01 00:00:00', 'val_start_date': '2019-10-01 00:00:00', 'test_start_date': '2020-01-01 00:00:00', 'train_start_date': '2009-01-01 00:00:00'}, 'if_using_td3': True}\n"
          ]
        },
        {
          "output_type": "stream",
          "name": "stderr",
          "text": [
            "\n"
          ]
        },
        {
          "output_type": "stream",
          "name": "stdout",
          "text": [
            "True\n",
            "log_metrics for a2c\n",
            "True\n",
            "DEBUG (val): run.id = lihccc7l\n",
            "DEBUG (val): sharpe_ratios = {}\n",
            "DEBUG (val): updating best model based on sharpe_ratios: {}\n",
            "DEBUG (val): no models logged yet, new best model is current one: a2c\n",
            "DEBUG (val): wandb.run.config['sharpe_ratios'] = {'val': {}}\n",
            "log_metrics for best_model\n",
            "True\n",
            "log_metrics for ddpg\n",
            "True\n",
            "DEBUG (val): run.id = lihccc7l\n",
            "DEBUG (val): sharpe_ratios = {'a2c': 1.77}\n",
            "DEBUG (val): updating best model based on sharpe_ratios: {'a2c': 1.77}\n",
            "DEBUG (val): 2.64 (ddpg) > 1.77 (a2c). New best model: ddpg.\n",
            "log_metrics for best_model\n",
            "True\n",
            "True\n",
            "log_metrics for td3\n",
            "True\n",
            "DEBUG (val): run.id = lihccc7l\n",
            "DEBUG (val): sharpe_ratios = {'a2c': 1.77, 'ddpg': 2.64}\n",
            "DEBUG (val): updating best model based on sharpe_ratios: {'a2c': 1.77, 'ddpg': 2.64}\n",
            "DEBUG (val): 3.59 (td3) > 2.64 (ddpg). New best model: td3.\n",
            "log_metrics for best_model\n",
            "True\n",
            "True\n",
            "log_metrics for sac\n",
            "True\n",
            "DEBUG (val): run.id = lihccc7l\n",
            "DEBUG (val): sharpe_ratios = {'a2c': 1.77, 'ddpg': 2.64, 'td3': 3.59}\n",
            "DEBUG (val): updating best model based on sharpe_ratios: {'a2c': 1.77, 'ddpg': 2.64, 'td3': 3.59}\n",
            "DEBUG (val): -1.11 (sac) <= 3.59 (td3). Not updating best model.\n",
            "log_metrics for ppo\n",
            "True\n",
            "DEBUG (val): run.id = lihccc7l\n",
            "DEBUG (val): sharpe_ratios = {'a2c': 1.77, 'ddpg': 2.64, 'td3': 3.59, 'sac': -1.11}\n",
            "DEBUG (val): updating best model based on sharpe_ratios: {'a2c': 1.77, 'ddpg': 2.64, 'td3': 3.59, 'sac': -1.11}\n",
            "DEBUG (val): 5.11 (ppo) > 3.59 (td3). New best model: ppo.\n",
            "log_metrics for best_model\n",
            "True\n",
            "True\n",
            "Stock Dimension: 29, State Space: 291\n",
            "hit end!\n",
            "hit end!\n",
            "hit end!\n",
            "hit end!\n"
          ]
        },
        {
          "output_type": "stream",
          "name": "stderr",
          "text": [
            "\r[*********************100%***********************]  1 of 1 completed"
          ]
        },
        {
          "output_type": "stream",
          "name": "stdout",
          "text": [
            "hit end!\n",
            "\n",
            "2020-01-02 00:00:00\n",
            "2020-03-31 00:00:00\n",
            "Shape of DataFrame:  (61, 8)\n",
            "{'dataset_name': 'DOW-30 | 2009-01 | 2019 Q4 | 2020 Q1', 'if_using_ddpg': True, 'finetune': True, 'max_test_end_date': '2020-08-05', 'REFERENCE_PRICE_END_DATE': '2024-12-21', 'cost_abs': 2.5, 'dataset_type': 'quarterly_train_val_test', 'cost_pct': [0.010314179718673032, 0.009076606561755468, 0.008307067100246136, 0.015516293581809112, 0.006395481989312903, 0.0072110283262062785, 0.04249566955190291, 0.015979716445954528, 0.021738725278835313, 0.004222453318177087, 0.005968143721526647, 0.010896151366589463, 0.01093735188446354, 0.11420864277075855, 0.01665255165637118, 0.010252194206940846, 0.03947813656400475, 0.008462643895002689, 0.01919729692524921, 0.024719550845968045, 0.005734449144229167, 0.03210832438433615, 0.014379031318205482, 0.00982580254909786, 0.0044498520553265045, 0.007984135151425499, 0.05881990501271046, 0.270946766931955, 0.026832260273111815], 'train_start_date': '2009-01-01', 'if_using_ppo': True, 'initial_amount': 50000, 'train_params': {'a2c': {'steps': 50000}, 'ppo': {'steps': 200000}, 'sac': {'steps': 70000}, 'td3': {'steps': 50000}, 'ddpg': {'steps': 50000}}, 'if_using_sac': True, 'min_test_start_date': '2016-01-01', 'stock_index_name': 'DOW-30', 'if_using_a2c': True, 'REFERNCE_PRICE_WINDOW_DAYS': 30, 'date_range': {'test_end_date': '2020-04-01 00:00:00', 'val_start_date': '2019-10-01 00:00:00', 'test_start_date': '2020-01-01 00:00:00', 'train_start_date': '2009-01-01 00:00:00'}, 'if_using_td3': True, 'sharpe_ratios': {'val': {'a2c': 1.77, 'ddpg': 2.64, 'td3': 3.59, 'sac': -1.11, 'ppo': 5.11}}}\n"
          ]
        },
        {
          "output_type": "stream",
          "name": "stderr",
          "text": [
            "\n"
          ]
        },
        {
          "output_type": "stream",
          "name": "stdout",
          "text": [
            "True\n",
            "log_metrics for a2c\n",
            "True\n",
            "DEBUG (test): run.id = lihccc7l\n",
            "DEBUG (test): sharpe_ratios = {}\n",
            "DEBUG (test): updating best model based on sharpe_ratios: {}\n",
            "DEBUG (test): no models logged yet, new best model is current one: a2c\n",
            "DEBUG (test): wandb.run.config['sharpe_ratios'] = {'val': {'a2c': 1.77, 'ddpg': 2.64, 'td3': 3.59, 'sac': -1.11, 'ppo': 5.11}, 'test': {}}\n",
            "log_metrics for best_model\n",
            "True\n",
            "log_metrics for ddpg\n",
            "True\n",
            "DEBUG (test): run.id = lihccc7l\n",
            "DEBUG (test): sharpe_ratios = {'a2c': -1.86}\n",
            "DEBUG (test): updating best model based on sharpe_ratios: {'a2c': -1.86}\n",
            "DEBUG (test): -1.6 (ddpg) > -1.86 (a2c). New best model: ddpg.\n",
            "log_metrics for best_model\n",
            "True\n",
            "True\n",
            "log_metrics for td3\n",
            "True\n",
            "DEBUG (test): run.id = lihccc7l\n",
            "DEBUG (test): sharpe_ratios = {'a2c': -1.86, 'ddpg': -1.6}\n",
            "DEBUG (test): updating best model based on sharpe_ratios: {'a2c': -1.86, 'ddpg': -1.6}\n",
            "DEBUG (test): -2.02 (td3) <= -1.6 (ddpg). Not updating best model.\n",
            "log_metrics for sac\n",
            "True\n",
            "DEBUG (test): run.id = lihccc7l\n",
            "DEBUG (test): sharpe_ratios = {'a2c': -1.86, 'ddpg': -1.6, 'td3': -2.02}\n",
            "DEBUG (test): updating best model based on sharpe_ratios: {'a2c': -1.86, 'ddpg': -1.6, 'td3': -2.02}\n",
            "DEBUG (test): -0.59 (sac) > -1.6 (ddpg). New best model: sac.\n",
            "log_metrics for best_model\n",
            "True\n",
            "True\n",
            "log_metrics for ppo\n",
            "True\n",
            "DEBUG (test): run.id = lihccc7l\n",
            "DEBUG (test): sharpe_ratios = {'a2c': -1.86, 'ddpg': -1.6, 'td3': -2.02, 'sac': -0.59}\n",
            "DEBUG (test): updating best model based on sharpe_ratios: {'a2c': -1.86, 'ddpg': -1.6, 'td3': -2.02, 'sac': -0.59}\n",
            "DEBUG (test): -0.95 (ppo) <= -0.59 (sac). Not updating best model.\n",
            "True\n",
            "True\n",
            "True\n",
            "DEBUG (CHOSEN): chosen_model_metrics: {'ann_return/ppo': -55.31, 'cum_return/ppo': -17.65, 'mdd/ppo': -22.04, 'sharpe_ratio/ppo': -1.87}\n",
            "DEBUG (CHOSEN): chosen_model_metrics: {'ann_return/chosen_model': -55.31, 'cum_return/chosen_model': -17.65, 'mdd/chosen_model': -22.04, 'sharpe_ratio/chosen_model': -1.87}\n",
            "True\n",
            "True\n",
            "log_plot_as_artifact\n"
          ]
        },
        {
          "output_type": "display_data",
          "data": {
            "text/plain": [
              "<IPython.core.display.HTML object>"
            ],
            "text/html": []
          },
          "metadata": {}
        },
        {
          "output_type": "display_data",
          "data": {
            "text/plain": [
              "<IPython.core.display.HTML object>"
            ],
            "text/html": [
              "<br>    <style><br>        .wandb-row {<br>            display: flex;<br>            flex-direction: row;<br>            flex-wrap: wrap;<br>            justify-content: flex-start;<br>            width: 100%;<br>        }<br>        .wandb-col {<br>            display: flex;<br>            flex-direction: column;<br>            flex-basis: 100%;<br>            flex: 1;<br>            padding: 10px;<br>        }<br>    </style><br><div class=\"wandb-row\"><div class=\"wandb-col\"><h3>Run summary:</h3><br/><table class=\"wandb\"><tr><td>best_model_name</td><td>a2c</td></tr><tr><td>test/ann_return/a2c</td><td>-23.12</td></tr><tr><td>test/ann_return/best_model</td><td>-25.49</td></tr><tr><td>test/ann_return/ddpg</td><td>-18.3</td></tr><tr><td>test/ann_return/ppo</td><td>-13.02</td></tr><tr><td>test/ann_return/sac</td><td>-11.71</td></tr><tr><td>test/ann_return/td3</td><td>-25.49</td></tr><tr><td>test/best_model_name</td><td>td3</td></tr><tr><td>test/cum_return/a2c</td><td>-6.14</td></tr><tr><td>test/cum_return/best_model</td><td>-6.85</td></tr><tr><td>test/cum_return/ddpg</td><td>-4.76</td></tr><tr><td>test/cum_return/ppo</td><td>-3.31</td></tr><tr><td>test/cum_return/sac</td><td>-2.96</td></tr><tr><td>test/cum_return/td3</td><td>-6.85</td></tr><tr><td>test/mdd/a2c</td><td>-6.14</td></tr><tr><td>test/mdd/best_model</td><td>-6.85</td></tr><tr><td>test/mdd/ddpg</td><td>-7.13</td></tr><tr><td>test/mdd/ppo</td><td>-6.41</td></tr><tr><td>test/mdd/sac</td><td>-8.84</td></tr><tr><td>test/mdd/td3</td><td>-6.85</td></tr><tr><td>test/sharpe_ratio/a2c</td><td>-1.86</td></tr><tr><td>test/sharpe_ratio/best_model</td><td>-2.02</td></tr><tr><td>test/sharpe_ratio/ddpg</td><td>-1.6</td></tr><tr><td>test/sharpe_ratio/ppo</td><td>-0.95</td></tr><tr><td>test/sharpe_ratio/sac</td><td>-0.59</td></tr><tr><td>test/sharpe_ratio/td3</td><td>-2.02</td></tr></table><br/></div></div>"
            ]
          },
          "metadata": {}
        },
        {
          "output_type": "display_data",
          "data": {
            "text/plain": [
              "<IPython.core.display.HTML object>"
            ],
            "text/html": [
              " View run <strong style=\"color:#cdcd00\">DOW-30 | 2009-01 | 2019 Q4 | 2020 Q1 | VleEx</strong> at: <a href='https://wandb.ai/overfit1010/finrl-dt-replicate/runs/lihccc7l' target=\"_blank\">https://wandb.ai/overfit1010/finrl-dt-replicate/runs/lihccc7l</a><br> View project at: <a href='https://wandb.ai/overfit1010/finrl-dt-replicate' target=\"_blank\">https://wandb.ai/overfit1010/finrl-dt-replicate</a><br>Synced 5 W&B file(s), 0 media file(s), 0 artifact file(s) and 0 other file(s)"
            ]
          },
          "metadata": {}
        },
        {
          "output_type": "display_data",
          "data": {
            "text/plain": [
              "<IPython.core.display.HTML object>"
            ],
            "text/html": [
              "Find logs at: <code>./wandb/run-20250112_131423-lihccc7l/logs</code>"
            ]
          },
          "metadata": {}
        }
      ]
    },
    {
      "cell_type": "code",
      "execution_count": null,
      "metadata": {
        "colab": {
          "base_uri": "https://localhost:8080/",
          "height": 1000,
          "referenced_widgets": [
            "a61e83645df64ef6b6615a3f88fceed2",
            "f60b0eb2d7ad4dfbbff9de0475f1df20",
            "1d1c8d16758546daa63bb864ba9fac52",
            "10cfab4a43fe49fe910af8c51e71d8fd",
            "9c4e75b3aeda4879871b5364484873e8",
            "2e08ab268f9046199b9b3278141fb7d5",
            "10a7e7d118e546a39e2506fe58ffcd97",
            "7a6a8b0ea5584cfeaeb1bbda24525d67",
            "97e363ebc6da4fc3a67420fcf79b6269",
            "4ebde7d1318c47b9af606c75f0147cb1",
            "d7367f17d03c484eacf8213665ea9920"
          ]
        },
        "id": "iBci3-iFq3S0",
        "outputId": "2f597d8f-818f-4e36-87d5-f9f8032c4193"
      },
      "outputs": [
        {
          "output_type": "display_data",
          "data": {
            "text/plain": [
              "<IPython.core.display.HTML object>"
            ],
            "text/html": []
          },
          "metadata": {}
        },
        {
          "output_type": "display_data",
          "data": {
            "text/plain": [
              "<IPython.core.display.HTML object>"
            ],
            "text/html": [
              "<br>    <style><br>        .wandb-row {<br>            display: flex;<br>            flex-direction: row;<br>            flex-wrap: wrap;<br>            justify-content: flex-start;<br>            width: 100%;<br>        }<br>        .wandb-col {<br>            display: flex;<br>            flex-direction: column;<br>            flex-basis: 100%;<br>            flex: 1;<br>            padding: 10px;<br>        }<br>    </style><br><div class=\"wandb-row\"><div class=\"wandb-col\"><h3>Run summary:</h3><br/><table class=\"wandb\"><tr><td>best_model_name</td><td>a2c</td></tr><tr><td>test/ann_return/a2c</td><td>-68.06</td></tr><tr><td>test/ann_return/best_model</td><td>-68.06</td></tr><tr><td>test/ann_return/ddpg</td><td>-62.82</td></tr><tr><td>test/ann_return/ppo</td><td>-30.44</td></tr><tr><td>test/ann_return/sac</td><td>-75.24</td></tr><tr><td>test/ann_return/td3</td><td>-61.1</td></tr><tr><td>test/best_model_name</td><td>a2c</td></tr><tr><td>test/cum_return/a2c</td><td>-24.05</td></tr><tr><td>test/cum_return/best_model</td><td>-24.05</td></tr><tr><td>test/cum_return/ddpg</td><td>-21.22</td></tr><tr><td>test/cum_return/ppo</td><td>-8.38</td></tr><tr><td>test/cum_return/sac</td><td>-28.58</td></tr><tr><td>test/cum_return/td3</td><td>-20.36</td></tr><tr><td>test/mdd/a2c</td><td>-30.23</td></tr><tr><td>test/mdd/best_model</td><td>-30.23</td></tr><tr><td>test/mdd/ddpg</td><td>-33.11</td></tr><tr><td>test/mdd/ppo</td><td>-21.26</td></tr><tr><td>test/mdd/sac</td><td>-44.57</td></tr><tr><td>test/mdd/td3</td><td>-29.84</td></tr><tr><td>test/sharpe_ratio/a2c</td><td>-2.05</td></tr><tr><td>test/sharpe_ratio/best_model</td><td>-2.05</td></tr><tr><td>test/sharpe_ratio/ddpg</td><td>-1.61</td></tr><tr><td>test/sharpe_ratio/ppo</td><td>-0.5</td></tr><tr><td>test/sharpe_ratio/sac</td><td>-1.75</td></tr><tr><td>test/sharpe_ratio/td3</td><td>-1.55</td></tr></table><br/></div></div>"
            ]
          },
          "metadata": {}
        },
        {
          "output_type": "display_data",
          "data": {
            "text/plain": [
              "<IPython.core.display.HTML object>"
            ],
            "text/html": [
              " View run <strong style=\"color:#cdcd00\">DOW-30 | 2009-01 | 2019 Q4 | 2020 Q1 | VleEx</strong> at: <a href='https://wandb.ai/overfit1010/finrl-dt-replicate/runs/lihccc7l' target=\"_blank\">https://wandb.ai/overfit1010/finrl-dt-replicate/runs/lihccc7l</a><br> View project at: <a href='https://wandb.ai/overfit1010/finrl-dt-replicate' target=\"_blank\">https://wandb.ai/overfit1010/finrl-dt-replicate</a><br>Synced 5 W&B file(s), 0 media file(s), 0 artifact file(s) and 0 other file(s)"
            ]
          },
          "metadata": {}
        },
        {
          "output_type": "display_data",
          "data": {
            "text/plain": [
              "<IPython.core.display.HTML object>"
            ],
            "text/html": [
              "Find logs at: <code>./wandb/run-20250112_120430-lihccc7l/logs</code>"
            ]
          },
          "metadata": {}
        },
        {
          "output_type": "stream",
          "name": "stdout",
          "text": [
            "True\n",
            "True\n",
            "True\n",
            "True\n",
            "True\n",
            "True\n",
            "True\n",
            "True\n",
            "True\n",
            "True\n"
          ]
        },
        {
          "output_type": "display_data",
          "data": {
            "text/plain": [
              "  0%|          | 0/17 [00:00<?, ?it/s]"
            ],
            "application/vnd.jupyter.widget-view+json": {
              "version_major": 2,
              "version_minor": 0,
              "model_id": "a61e83645df64ef6b6615a3f88fceed2"
            }
          },
          "metadata": {}
        },
        {
          "output_type": "display_data",
          "data": {
            "text/plain": [
              "<IPython.core.display.HTML object>"
            ],
            "text/html": [
              "Tracking run with wandb version 0.19.1"
            ]
          },
          "metadata": {}
        },
        {
          "output_type": "display_data",
          "data": {
            "text/plain": [
              "<IPython.core.display.HTML object>"
            ],
            "text/html": [
              "Run data is saved locally in <code>/content/wandb/run-20250112_120511-lihccc7l</code>"
            ]
          },
          "metadata": {}
        },
        {
          "output_type": "display_data",
          "data": {
            "text/plain": [
              "<IPython.core.display.HTML object>"
            ],
            "text/html": [
              "Resuming run <strong><a href='https://wandb.ai/overfit1010/finrl-dt-replicate/runs/lihccc7l' target=\"_blank\">DOW-30 | 2009-01 | 2019 Q4 | 2020 Q1 | VleEx</a></strong> to <a href='https://wandb.ai/overfit1010/finrl-dt-replicate' target=\"_blank\">Weights & Biases</a> (<a href='https://wandb.me/developer-guide' target=\"_blank\">docs</a>)<br>Sweep page: <a href='https://wandb.ai/overfit1010/finrl-dt-replicate/sweeps/k43io2uh' target=\"_blank\">https://wandb.ai/overfit1010/finrl-dt-replicate/sweeps/k43io2uh</a>"
            ]
          },
          "metadata": {}
        },
        {
          "output_type": "display_data",
          "data": {
            "text/plain": [
              "<IPython.core.display.HTML object>"
            ],
            "text/html": [
              " View project at <a href='https://wandb.ai/overfit1010/finrl-dt-replicate' target=\"_blank\">https://wandb.ai/overfit1010/finrl-dt-replicate</a>"
            ]
          },
          "metadata": {}
        },
        {
          "output_type": "display_data",
          "data": {
            "text/plain": [
              "<IPython.core.display.HTML object>"
            ],
            "text/html": [
              " View sweep at <a href='https://wandb.ai/overfit1010/finrl-dt-replicate/sweeps/k43io2uh' target=\"_blank\">https://wandb.ai/overfit1010/finrl-dt-replicate/sweeps/k43io2uh</a>"
            ]
          },
          "metadata": {}
        },
        {
          "output_type": "display_data",
          "data": {
            "text/plain": [
              "<IPython.core.display.HTML object>"
            ],
            "text/html": [
              " View run at <a href='https://wandb.ai/overfit1010/finrl-dt-replicate/runs/lihccc7l' target=\"_blank\">https://wandb.ai/overfit1010/finrl-dt-replicate/runs/lihccc7l</a>"
            ]
          },
          "metadata": {}
        },
        {
          "output_type": "stream",
          "name": "stdout",
          "text": [
            "True\n"
          ]
        },
        {
          "output_type": "stream",
          "name": "stderr",
          "text": [
            "\u001b[34m\u001b[1mwandb\u001b[0m:   3 of 3 files downloaded.  \n",
            "\u001b[34m\u001b[1mwandb\u001b[0m:   5 of 5 files downloaded.  \n",
            "\u001b[34m\u001b[1mwandb\u001b[0m:   5 of 5 files downloaded.  \n",
            "\u001b[34m\u001b[1mwandb\u001b[0m:   5 of 5 files downloaded.  \n",
            "\u001b[34m\u001b[1mwandb\u001b[0m:   1 of 1 files downloaded.  \n",
            "\u001b[34m\u001b[1mwandb\u001b[0m:   1 of 1 files downloaded.  \n",
            "\u001b[34m\u001b[1mwandb\u001b[0m:   1 of 1 files downloaded.  \n"
          ]
        },
        {
          "output_type": "stream",
          "name": "stdout",
          "text": [
            "Stock Dimension: 29, State Space: 291\n",
            "hit end!\n",
            "hit end!\n",
            "hit end!\n",
            "hit end!\n"
          ]
        },
        {
          "output_type": "stream",
          "name": "stderr",
          "text": [
            "\r[*********************100%***********************]  1 of 1 completed"
          ]
        },
        {
          "output_type": "stream",
          "name": "stdout",
          "text": [
            "hit end!\n",
            "\n",
            "2020-01-02 00:00:00\n",
            "2020-03-31 00:00:00\n",
            "Shape of DataFrame:  (61, 8)\n",
            "{'cost_abs': 2.5, 'if_using_a2c': True, 'initial_amount': 50000, 'if_using_ddpg': True, 'stock_index_name': 'DOW-30', 'dataset_name': 'DOW-30 | 2009-01 | 2019 Q4 | 2020 Q1', 'REFERNCE_PRICE_WINDOW_DAYS': 30, 'dataset_type': 'quarterly_train_val_test', 'date_range': {'test_end_date': '2020-04-01 00:00:00', 'val_start_date': '2019-10-01 00:00:00', 'test_start_date': '2020-01-01 00:00:00', 'train_start_date': '2009-01-01 00:00:00'}, 'finetune': True, 'if_using_sac': True, 'min_test_start_date': '2016-01-01', 'if_using_td3': True, 'train_params': {'a2c': {'steps': 50000}, 'ppo': {'steps': 200000}, 'sac': {'steps': 70000}, 'td3': {'steps': 50000}, 'ddpg': {'steps': 50000}}, 'train_start_date': '2009-01-01', 'max_test_end_date': '2020-08-05', 'cost_pct': [0.010314179718673032, 0.009076606561755468, 0.008307067100246136, 0.015516293581809112, 0.006395481989312903, 0.0072110283262062785, 0.04249566955190291, 0.015979716445954528, 0.021738725278835313, 0.004222453318177087, 0.005968143721526647, 0.010896151366589463, 0.01093735188446354, 0.11420864277075855, 0.01665255165637118, 0.010252194206940846, 0.03947813656400475, 0.008462643895002689, 0.01919729692524921, 0.024719550845968045, 0.005734449144229167, 0.03210832438433615, 0.014379031318205482, 0.00982580254909786, 0.0044498520553265045, 0.007984135151425499, 0.05881990501271046, 0.270946766931955, 0.026832260273111815], 'if_using_ppo': True, 'REFERENCE_PRICE_END_DATE': '2024-12-21'}\n"
          ]
        },
        {
          "output_type": "stream",
          "name": "stderr",
          "text": [
            "\n"
          ]
        },
        {
          "output_type": "stream",
          "name": "stdout",
          "text": [
            "True\n",
            "log_metrics for a2c\n",
            "True\n",
            "DEBUG (test): run.id = lihccc7l\n",
            "DEBUG (test): sharpe_ratios = {}\n",
            "DEBUG (test): updating best model based on sharpe_ratios: {}\n",
            "DEBUG (test): no models logged yet, new best model is current one: a2c\n",
            "DEBUG (test): wandb.run.config['sharpe_ratios'] = {'test': {}}\n",
            "log_metrics for best_model\n",
            "True\n",
            "log_metrics for ddpg\n",
            "True\n",
            "DEBUG (test): run.id = lihccc7l\n",
            "DEBUG (test): sharpe_ratios = {'a2c': -3.3}\n",
            "DEBUG (test): updating best model based on sharpe_ratios: {'a2c': -3.3}\n",
            "DEBUG (test): -3.31 (ddpg) <= -3.3 (a2c). Not updating best model.\n",
            "log_metrics for td3\n",
            "True\n",
            "DEBUG (test): run.id = lihccc7l\n",
            "DEBUG (test): sharpe_ratios = {'a2c': -3.3, 'ddpg': -3.31}\n",
            "DEBUG (test): updating best model based on sharpe_ratios: {'a2c': -3.3, 'ddpg': -3.31}\n",
            "DEBUG (test): -3.41 (td3) <= -3.3 (a2c). Not updating best model.\n",
            "log_metrics for sac\n",
            "True\n",
            "DEBUG (test): run.id = lihccc7l\n",
            "DEBUG (test): sharpe_ratios = {'a2c': -3.3, 'ddpg': -3.31, 'td3': -3.41}\n",
            "DEBUG (test): updating best model based on sharpe_ratios: {'a2c': -3.3, 'ddpg': -3.31, 'td3': -3.41}\n",
            "DEBUG (test): -2.09 (sac) > -3.3 (a2c). New best model: sac.\n",
            "log_metrics for best_model\n",
            "True\n",
            "True\n",
            "log_metrics for ppo\n",
            "True\n",
            "DEBUG (test): run.id = lihccc7l\n",
            "DEBUG (test): sharpe_ratios = {'a2c': -3.3, 'ddpg': -3.31, 'td3': -3.41, 'sac': -2.09}\n",
            "DEBUG (test): updating best model based on sharpe_ratios: {'a2c': -3.3, 'ddpg': -3.31, 'td3': -3.41, 'sac': -2.09}\n",
            "DEBUG (test): -2.22 (ppo) <= -2.09 (sac). Not updating best model.\n",
            "True\n",
            "True\n",
            "True\n",
            "DEBUG (CHOSEN): chosen_model_metrics: {'ann_return/ppo': -30.44, 'cum_return/ppo': -8.38, 'mdd/ppo': -21.26, 'sharpe_ratio/ppo': -0.5}\n",
            "DEBUG (CHOSEN): chosen_model_metrics: {'ann_return/chosen_model': -30.44, 'cum_return/chosen_model': -8.38, 'mdd/chosen_model': -21.26, 'sharpe_ratio/chosen_model': -0.5}\n",
            "True\n",
            "True\n",
            "log_plot_as_artifact\n"
          ]
        },
        {
          "output_type": "display_data",
          "data": {
            "text/plain": [
              "<IPython.core.display.HTML object>"
            ],
            "text/html": []
          },
          "metadata": {}
        },
        {
          "output_type": "display_data",
          "data": {
            "text/plain": [
              "<IPython.core.display.HTML object>"
            ],
            "text/html": [
              "<br>    <style><br>        .wandb-row {<br>            display: flex;<br>            flex-direction: row;<br>            flex-wrap: wrap;<br>            justify-content: flex-start;<br>            width: 100%;<br>        }<br>        .wandb-col {<br>            display: flex;<br>            flex-direction: column;<br>            flex-basis: 100%;<br>            flex: 1;<br>            padding: 10px;<br>        }<br>    </style><br><div class=\"wandb-row\"><div class=\"wandb-col\"><h3>Run summary:</h3><br/><table class=\"wandb\"><tr><td>best_model_name</td><td>a2c</td></tr><tr><td>test/ann_return/a2c</td><td>-46.35</td></tr><tr><td>test/ann_return/best_model</td><td>-48.0</td></tr><tr><td>test/ann_return/ddpg</td><td>-41.94</td></tr><tr><td>test/ann_return/ppo</td><td>-33.95</td></tr><tr><td>test/ann_return/sac</td><td>-40.0</td></tr><tr><td>test/ann_return/td3</td><td>-48.0</td></tr><tr><td>test/best_model_name</td><td>td3</td></tr><tr><td>test/cum_return/a2c</td><td>-13.94</td></tr><tr><td>test/cum_return/best_model</td><td>-14.59</td></tr><tr><td>test/cum_return/ddpg</td><td>-12.28</td></tr><tr><td>test/cum_return/ppo</td><td>-9.52</td></tr><tr><td>test/cum_return/sac</td><td>-11.59</td></tr><tr><td>test/cum_return/td3</td><td>-14.59</td></tr><tr><td>test/mdd/a2c</td><td>-13.94</td></tr><tr><td>test/mdd/best_model</td><td>-14.59</td></tr><tr><td>test/mdd/ddpg</td><td>-14.47</td></tr><tr><td>test/mdd/ppo</td><td>-12.42</td></tr><tr><td>test/mdd/sac</td><td>-16.95</td></tr><tr><td>test/mdd/td3</td><td>-14.59</td></tr><tr><td>test/sharpe_ratio/a2c</td><td>-3.3</td></tr><tr><td>test/sharpe_ratio/best_model</td><td>-3.41</td></tr><tr><td>test/sharpe_ratio/ddpg</td><td>-3.31</td></tr><tr><td>test/sharpe_ratio/ppo</td><td>-2.22</td></tr><tr><td>test/sharpe_ratio/sac</td><td>-2.09</td></tr><tr><td>test/sharpe_ratio/td3</td><td>-3.41</td></tr></table><br/></div></div>"
            ]
          },
          "metadata": {}
        },
        {
          "output_type": "display_data",
          "data": {
            "text/plain": [
              "<IPython.core.display.HTML object>"
            ],
            "text/html": [
              " View run <strong style=\"color:#cdcd00\">DOW-30 | 2009-01 | 2019 Q4 | 2020 Q1 | VleEx</strong> at: <a href='https://wandb.ai/overfit1010/finrl-dt-replicate/runs/lihccc7l' target=\"_blank\">https://wandb.ai/overfit1010/finrl-dt-replicate/runs/lihccc7l</a><br> View project at: <a href='https://wandb.ai/overfit1010/finrl-dt-replicate' target=\"_blank\">https://wandb.ai/overfit1010/finrl-dt-replicate</a><br>Synced 5 W&B file(s), 0 media file(s), 2 artifact file(s) and 0 other file(s)"
            ]
          },
          "metadata": {}
        },
        {
          "output_type": "display_data",
          "data": {
            "text/plain": [
              "<IPython.core.display.HTML object>"
            ],
            "text/html": [
              "Find logs at: <code>./wandb/run-20250112_120511-lihccc7l/logs</code>"
            ]
          },
          "metadata": {}
        },
        {
          "output_type": "display_data",
          "data": {
            "text/plain": [
              "<IPython.core.display.HTML object>"
            ],
            "text/html": [
              "Tracking run with wandb version 0.19.1"
            ]
          },
          "metadata": {}
        },
        {
          "output_type": "display_data",
          "data": {
            "text/plain": [
              "<IPython.core.display.HTML object>"
            ],
            "text/html": [
              "Run data is saved locally in <code>/content/wandb/run-20250112_120536-29wfsdq0</code>"
            ]
          },
          "metadata": {}
        },
        {
          "output_type": "display_data",
          "data": {
            "text/plain": [
              "<IPython.core.display.HTML object>"
            ],
            "text/html": [
              "Resuming run <strong><a href='https://wandb.ai/overfit1010/finrl-dt-replicate/runs/29wfsdq0' target=\"_blank\">DOW-30 | 2009-01 | 2019 Q3 | 2019 Q4 | n2Rmh</a></strong> to <a href='https://wandb.ai/overfit1010/finrl-dt-replicate' target=\"_blank\">Weights & Biases</a> (<a href='https://wandb.me/developer-guide' target=\"_blank\">docs</a>)<br>Sweep page: <a href='https://wandb.ai/overfit1010/finrl-dt-replicate/sweeps/k43io2uh' target=\"_blank\">https://wandb.ai/overfit1010/finrl-dt-replicate/sweeps/k43io2uh</a>"
            ]
          },
          "metadata": {}
        },
        {
          "output_type": "display_data",
          "data": {
            "text/plain": [
              "<IPython.core.display.HTML object>"
            ],
            "text/html": [
              " View project at <a href='https://wandb.ai/overfit1010/finrl-dt-replicate' target=\"_blank\">https://wandb.ai/overfit1010/finrl-dt-replicate</a>"
            ]
          },
          "metadata": {}
        },
        {
          "output_type": "display_data",
          "data": {
            "text/plain": [
              "<IPython.core.display.HTML object>"
            ],
            "text/html": [
              " View sweep at <a href='https://wandb.ai/overfit1010/finrl-dt-replicate/sweeps/k43io2uh' target=\"_blank\">https://wandb.ai/overfit1010/finrl-dt-replicate/sweeps/k43io2uh</a>"
            ]
          },
          "metadata": {}
        },
        {
          "output_type": "display_data",
          "data": {
            "text/plain": [
              "<IPython.core.display.HTML object>"
            ],
            "text/html": [
              " View run at <a href='https://wandb.ai/overfit1010/finrl-dt-replicate/runs/29wfsdq0' target=\"_blank\">https://wandb.ai/overfit1010/finrl-dt-replicate/runs/29wfsdq0</a>"
            ]
          },
          "metadata": {}
        },
        {
          "output_type": "stream",
          "name": "stdout",
          "text": [
            "True\n"
          ]
        },
        {
          "output_type": "stream",
          "name": "stderr",
          "text": [
            "\u001b[34m\u001b[1mwandb\u001b[0m:   3 of 3 files downloaded.  \n",
            "\u001b[34m\u001b[1mwandb\u001b[0m:   5 of 5 files downloaded.  \n",
            "\u001b[34m\u001b[1mwandb\u001b[0m:   5 of 5 files downloaded.  \n",
            "\u001b[34m\u001b[1mwandb\u001b[0m:   5 of 5 files downloaded.  \n",
            "\u001b[34m\u001b[1mwandb\u001b[0m:   5 of 5 files downloaded.  \n",
            "\u001b[34m\u001b[1mwandb\u001b[0m:   5 of 5 files downloaded.  \n",
            "\u001b[34m\u001b[1mwandb\u001b[0m:   1 of 1 files downloaded.  \n",
            "\u001b[34m\u001b[1mwandb\u001b[0m:   1 of 1 files downloaded.  \n",
            "\u001b[34m\u001b[1mwandb\u001b[0m:   1 of 1 files downloaded.  \n",
            "\u001b[34m\u001b[1mwandb\u001b[0m:   1 of 1 files downloaded.  \n",
            "\u001b[34m\u001b[1mwandb\u001b[0m:   1 of 1 files downloaded.  \n",
            "\u001b[34m\u001b[1mwandb\u001b[0m:   1 of 1 files downloaded.  \n"
          ]
        },
        {
          "output_type": "stream",
          "name": "stdout",
          "text": [
            "Stock Dimension: 29, State Space: 291\n",
            "hit end!\n",
            "hit end!\n",
            "hit end!\n",
            "hit end!\n"
          ]
        },
        {
          "output_type": "stream",
          "name": "stderr",
          "text": [
            "\r[*********************100%***********************]  1 of 1 completed"
          ]
        },
        {
          "output_type": "stream",
          "name": "stdout",
          "text": [
            "hit end!\n",
            "\n",
            "2019-10-01 00:00:00\n",
            "2019-12-31 00:00:00\n",
            "Shape of DataFrame:  (63, 8)\n",
            "{'if_using_td3': True, 'train_start_date': '2009-01-01', 'cost_abs': 2.5, 'REFERENCE_PRICE_END_DATE': '2024-12-21', 'if_using_ppo': True, 'if_using_ddpg': True, 'min_test_start_date': '2016-01-01', 'initial_amount': 50000, 'stock_index_name': 'DOW-30', 'if_using_a2c': True, 'REFERNCE_PRICE_WINDOW_DAYS': 30, 'finetune': True, 'max_test_end_date': '2020-08-05', 'dataset_name': 'DOW-30 | 2009-01 | 2019 Q3 | 2019 Q4', 'train_params': {'a2c': {'steps': 50000}, 'ppo': {'steps': 200000}, 'sac': {'steps': 70000}, 'td3': {'steps': 50000}, 'ddpg': {'steps': 50000}}, 'if_using_sac': True, 'cost_pct': [0.010314179718673032, 0.009076606561755468, 0.008307067100246136, 0.015516293581809112, 0.006395481989312903, 0.0072110283262062785, 0.04249566955190291, 0.015979716445954528, 0.021738725278835313, 0.004222453318177087, 0.005968143721526647, 0.010896151366589463, 0.01093735188446354, 0.11420864277075855, 0.01665255165637118, 0.010252194206940846, 0.03947813656400475, 0.008462643895002689, 0.01919729692524921, 0.024719550845968045, 0.005734449144229167, 0.03210832438433615, 0.014379031318205482, 0.00982580254909786, 0.0044498520553265045, 0.007984135151425499, 0.05881990501271046, 0.270946766931955, 0.026832260273111815], 'dataset_type': 'quarterly_train_val_test', 'date_range': {'test_end_date': '2020-01-01 00:00:00', 'val_start_date': '2019-07-01 00:00:00', 'test_start_date': '2019-10-01 00:00:00', 'train_start_date': '2009-01-01 00:00:00'}}\n"
          ]
        },
        {
          "output_type": "stream",
          "name": "stderr",
          "text": [
            "\n"
          ]
        },
        {
          "output_type": "stream",
          "name": "stdout",
          "text": [
            "True\n",
            "log_metrics for a2c\n",
            "True\n",
            "DEBUG (test): run.id = 29wfsdq0\n",
            "DEBUG (test): sharpe_ratios = {}\n",
            "DEBUG (test): updating best model based on sharpe_ratios: {}\n",
            "DEBUG (test): no models logged yet, new best model is current one: a2c\n",
            "DEBUG (test): wandb.run.config['sharpe_ratios'] = {'test': {}}\n",
            "log_metrics for best_model\n",
            "True\n",
            "log_metrics for ddpg\n",
            "True\n",
            "DEBUG (test): run.id = 29wfsdq0\n",
            "DEBUG (test): sharpe_ratios = {'a2c': 1.77}\n",
            "DEBUG (test): updating best model based on sharpe_ratios: {'a2c': 1.77}\n",
            "DEBUG (test): 2.64 (ddpg) > 1.77 (a2c). New best model: ddpg.\n",
            "log_metrics for best_model\n",
            "True\n",
            "True\n",
            "log_metrics for td3\n",
            "True\n",
            "DEBUG (test): run.id = 29wfsdq0\n",
            "DEBUG (test): sharpe_ratios = {'a2c': 1.77, 'ddpg': 2.64}\n",
            "DEBUG (test): updating best model based on sharpe_ratios: {'a2c': 1.77, 'ddpg': 2.64}\n",
            "DEBUG (test): 3.59 (td3) > 2.64 (ddpg). New best model: td3.\n",
            "log_metrics for best_model\n",
            "True\n",
            "True\n",
            "log_metrics for sac\n",
            "True\n",
            "DEBUG (test): run.id = 29wfsdq0\n",
            "DEBUG (test): sharpe_ratios = {'a2c': 1.77, 'ddpg': 2.64, 'td3': 3.59}\n",
            "DEBUG (test): updating best model based on sharpe_ratios: {'a2c': 1.77, 'ddpg': 2.64, 'td3': 3.59}\n",
            "DEBUG (test): -1.11 (sac) <= 3.59 (td3). Not updating best model.\n",
            "log_metrics for ppo\n",
            "True\n",
            "DEBUG (test): run.id = 29wfsdq0\n",
            "DEBUG (test): sharpe_ratios = {'a2c': 1.77, 'ddpg': 2.64, 'td3': 3.59, 'sac': -1.11}\n",
            "DEBUG (test): updating best model based on sharpe_ratios: {'a2c': 1.77, 'ddpg': 2.64, 'td3': 3.59, 'sac': -1.11}\n",
            "DEBUG (test): 3.85 (ppo) > 3.59 (td3). New best model: ppo.\n",
            "log_metrics for best_model\n",
            "True\n",
            "True\n",
            "True\n",
            "True\n",
            "True\n",
            "DEBUG (CHOSEN): chosen_model_metrics: {'ann_return/sac': -23.35, 'cum_return/sac': -6.35, 'mdd/sac': -9.52, 'sharpe_ratio/sac': -1.11}\n",
            "DEBUG (CHOSEN): chosen_model_metrics: {'ann_return/chosen_model': -23.35, 'cum_return/chosen_model': -6.35, 'mdd/chosen_model': -9.52, 'sharpe_ratio/chosen_model': -1.11}\n",
            "True\n",
            "True\n",
            "log_plot_as_artifact\n"
          ]
        },
        {
          "output_type": "display_data",
          "data": {
            "text/plain": [
              "<IPython.core.display.HTML object>"
            ],
            "text/html": []
          },
          "metadata": {}
        },
        {
          "output_type": "display_data",
          "data": {
            "text/plain": [
              "<IPython.core.display.HTML object>"
            ],
            "text/html": [
              "<br>    <style><br>        .wandb-row {<br>            display: flex;<br>            flex-direction: row;<br>            flex-wrap: wrap;<br>            justify-content: flex-start;<br>            width: 100%;<br>        }<br>        .wandb-col {<br>            display: flex;<br>            flex-direction: column;<br>            flex-basis: 100%;<br>            flex: 1;<br>            padding: 10px;<br>        }<br>    </style><br><div class=\"wandb-row\"><div class=\"wandb-col\"><h3>Run summary:</h3><br/><table class=\"wandb\"><tr><td>best_model_name</td><td>a2c</td></tr><tr><td>test/ann_return/a2c</td><td>23.69</td></tr><tr><td>test/ann_return/best_model</td><td>60.99</td></tr><tr><td>test/ann_return/ddpg</td><td>41.26</td></tr><tr><td>test/ann_return/ppo</td><td>60.99</td></tr><tr><td>test/ann_return/sac</td><td>-23.35</td></tr><tr><td>test/ann_return/td3</td><td>53.12</td></tr><tr><td>test/best_model_name</td><td>ppo</td></tr><tr><td>test/cum_return/a2c</td><td>5.38</td></tr><tr><td>test/cum_return/best_model</td><td>12.46</td></tr><tr><td>test/cum_return/ddpg</td><td>8.89</td></tr><tr><td>test/cum_return/ppo</td><td>12.46</td></tr><tr><td>test/cum_return/sac</td><td>-6.35</td></tr><tr><td>test/cum_return/td3</td><td>11.08</td></tr><tr><td>test/mdd/a2c</td><td>-3.79</td></tr><tr><td>test/mdd/best_model</td><td>-2.76</td></tr><tr><td>test/mdd/ddpg</td><td>-3.36</td></tr><tr><td>test/mdd/ppo</td><td>-2.76</td></tr><tr><td>test/mdd/sac</td><td>-9.52</td></tr><tr><td>test/mdd/td3</td><td>-3.38</td></tr><tr><td>test/sharpe_ratio/a2c</td><td>1.77</td></tr><tr><td>test/sharpe_ratio/best_model</td><td>3.85</td></tr><tr><td>test/sharpe_ratio/ddpg</td><td>2.64</td></tr><tr><td>test/sharpe_ratio/ppo</td><td>3.85</td></tr><tr><td>test/sharpe_ratio/sac</td><td>-1.11</td></tr><tr><td>test/sharpe_ratio/td3</td><td>3.59</td></tr></table><br/></div></div>"
            ]
          },
          "metadata": {}
        },
        {
          "output_type": "display_data",
          "data": {
            "text/plain": [
              "<IPython.core.display.HTML object>"
            ],
            "text/html": [
              " View run <strong style=\"color:#cdcd00\">DOW-30 | 2009-01 | 2019 Q3 | 2019 Q4 | n2Rmh</strong> at: <a href='https://wandb.ai/overfit1010/finrl-dt-replicate/runs/29wfsdq0' target=\"_blank\">https://wandb.ai/overfit1010/finrl-dt-replicate/runs/29wfsdq0</a><br> View project at: <a href='https://wandb.ai/overfit1010/finrl-dt-replicate' target=\"_blank\">https://wandb.ai/overfit1010/finrl-dt-replicate</a><br>Synced 5 W&B file(s), 0 media file(s), 0 artifact file(s) and 0 other file(s)"
            ]
          },
          "metadata": {}
        },
        {
          "output_type": "display_data",
          "data": {
            "text/plain": [
              "<IPython.core.display.HTML object>"
            ],
            "text/html": [
              "Find logs at: <code>./wandb/run-20250112_120536-29wfsdq0/logs</code>"
            ]
          },
          "metadata": {}
        },
        {
          "output_type": "display_data",
          "data": {
            "text/plain": [
              "<IPython.core.display.HTML object>"
            ],
            "text/html": [
              "Tracking run with wandb version 0.19.1"
            ]
          },
          "metadata": {}
        },
        {
          "output_type": "display_data",
          "data": {
            "text/plain": [
              "<IPython.core.display.HTML object>"
            ],
            "text/html": [
              "Run data is saved locally in <code>/content/wandb/run-20250112_120605-5kmr481u</code>"
            ]
          },
          "metadata": {}
        },
        {
          "output_type": "display_data",
          "data": {
            "text/plain": [
              "<IPython.core.display.HTML object>"
            ],
            "text/html": [
              "Resuming run <strong><a href='https://wandb.ai/overfit1010/finrl-dt-replicate/runs/5kmr481u' target=\"_blank\">DOW-30 | 2009-01 | 2019 Q2 | 2019 Q3 | tvBU7</a></strong> to <a href='https://wandb.ai/overfit1010/finrl-dt-replicate' target=\"_blank\">Weights & Biases</a> (<a href='https://wandb.me/developer-guide' target=\"_blank\">docs</a>)<br>Sweep page: <a href='https://wandb.ai/overfit1010/finrl-dt-replicate/sweeps/k43io2uh' target=\"_blank\">https://wandb.ai/overfit1010/finrl-dt-replicate/sweeps/k43io2uh</a>"
            ]
          },
          "metadata": {}
        },
        {
          "output_type": "display_data",
          "data": {
            "text/plain": [
              "<IPython.core.display.HTML object>"
            ],
            "text/html": [
              " View project at <a href='https://wandb.ai/overfit1010/finrl-dt-replicate' target=\"_blank\">https://wandb.ai/overfit1010/finrl-dt-replicate</a>"
            ]
          },
          "metadata": {}
        },
        {
          "output_type": "display_data",
          "data": {
            "text/plain": [
              "<IPython.core.display.HTML object>"
            ],
            "text/html": [
              " View sweep at <a href='https://wandb.ai/overfit1010/finrl-dt-replicate/sweeps/k43io2uh' target=\"_blank\">https://wandb.ai/overfit1010/finrl-dt-replicate/sweeps/k43io2uh</a>"
            ]
          },
          "metadata": {}
        },
        {
          "output_type": "display_data",
          "data": {
            "text/plain": [
              "<IPython.core.display.HTML object>"
            ],
            "text/html": [
              " View run at <a href='https://wandb.ai/overfit1010/finrl-dt-replicate/runs/5kmr481u' target=\"_blank\">https://wandb.ai/overfit1010/finrl-dt-replicate/runs/5kmr481u</a>"
            ]
          },
          "metadata": {}
        },
        {
          "output_type": "stream",
          "name": "stdout",
          "text": [
            "True\n"
          ]
        },
        {
          "output_type": "stream",
          "name": "stderr",
          "text": [
            "\u001b[34m\u001b[1mwandb\u001b[0m:   3 of 3 files downloaded.  \n",
            "\u001b[34m\u001b[1mwandb\u001b[0m:   5 of 5 files downloaded.  \n",
            "\u001b[34m\u001b[1mwandb\u001b[0m:   5 of 5 files downloaded.  \n",
            "\u001b[34m\u001b[1mwandb\u001b[0m:   5 of 5 files downloaded.  \n",
            "\u001b[34m\u001b[1mwandb\u001b[0m:   5 of 5 files downloaded.  \n",
            "\u001b[34m\u001b[1mwandb\u001b[0m:   5 of 5 files downloaded.  \n",
            "\u001b[34m\u001b[1mwandb\u001b[0m:   1 of 1 files downloaded.  \n",
            "\u001b[34m\u001b[1mwandb\u001b[0m:   1 of 1 files downloaded.  \n",
            "\u001b[34m\u001b[1mwandb\u001b[0m:   1 of 1 files downloaded.  \n",
            "\u001b[34m\u001b[1mwandb\u001b[0m:   1 of 1 files downloaded.  \n",
            "\u001b[34m\u001b[1mwandb\u001b[0m:   1 of 1 files downloaded.  \n",
            "\u001b[34m\u001b[1mwandb\u001b[0m:   1 of 1 files downloaded.  \n"
          ]
        },
        {
          "output_type": "stream",
          "name": "stdout",
          "text": [
            "Stock Dimension: 29, State Space: 291\n",
            "hit end!\n",
            "hit end!\n",
            "hit end!\n",
            "hit end!\n"
          ]
        },
        {
          "output_type": "stream",
          "name": "stderr",
          "text": [
            "\r[*********************100%***********************]  1 of 1 completed"
          ]
        },
        {
          "output_type": "stream",
          "name": "stdout",
          "text": [
            "hit end!\n",
            "\n",
            "2019-07-01 00:00:00\n",
            "2019-09-30 00:00:00\n",
            "Shape of DataFrame:  (63, 8)\n",
            "{'cost_pct': [0.010314179718673032, 0.009076606561755468, 0.008307067100246136, 0.015516293581809112, 0.006395481989312903, 0.0072110283262062785, 0.04249566955190291, 0.015979716445954528, 0.021738725278835313, 0.004222453318177087, 0.005968143721526647, 0.010896151366589463, 0.01093735188446354, 0.11420864277075855, 0.01665255165637118, 0.010252194206940846, 0.03947813656400475, 0.008462643895002689, 0.01919729692524921, 0.024719550845968045, 0.005734449144229167, 0.03210832438433615, 0.014379031318205482, 0.00982580254909786, 0.0044498520553265045, 0.007984135151425499, 0.05881990501271046, 0.270946766931955, 0.026832260273111815], 'max_test_end_date': '2020-08-05', 'if_using_ppo': True, 'if_using_td3': True, 'date_range': {'test_end_date': '2019-10-01 00:00:00', 'val_start_date': '2019-04-01 00:00:00', 'test_start_date': '2019-07-01 00:00:00', 'train_start_date': '2009-01-01 00:00:00'}, 'if_using_sac': True, 'train_params': {'a2c': {'steps': 50000}, 'ppo': {'steps': 200000}, 'sac': {'steps': 70000}, 'td3': {'steps': 50000}, 'ddpg': {'steps': 50000}}, 'initial_amount': 50000, 'stock_index_name': 'DOW-30', 'REFERENCE_PRICE_END_DATE': '2024-12-21', 'dataset_type': 'quarterly_train_val_test', 'if_using_ddpg': True, 'REFERNCE_PRICE_WINDOW_DAYS': 30, 'min_test_start_date': '2016-01-01', 'dataset_name': 'DOW-30 | 2009-01 | 2019 Q2 | 2019 Q3', 'if_using_a2c': True, 'train_start_date': '2009-01-01', 'finetune': True, 'cost_abs': 2.5}\n"
          ]
        },
        {
          "output_type": "stream",
          "name": "stderr",
          "text": [
            "\n"
          ]
        },
        {
          "output_type": "stream",
          "name": "stdout",
          "text": [
            "True\n",
            "log_metrics for a2c\n",
            "True\n",
            "DEBUG (test): run.id = 5kmr481u\n",
            "DEBUG (test): sharpe_ratios = {}\n",
            "DEBUG (test): updating best model based on sharpe_ratios: {}\n",
            "DEBUG (test): no models logged yet, new best model is current one: a2c\n",
            "DEBUG (test): wandb.run.config['sharpe_ratios'] = {'test': {}}\n",
            "log_metrics for best_model\n",
            "True\n",
            "log_metrics for ddpg\n",
            "True\n",
            "DEBUG (test): run.id = 5kmr481u\n",
            "DEBUG (test): sharpe_ratios = {'a2c': 0.7}\n",
            "DEBUG (test): updating best model based on sharpe_ratios: {'a2c': 0.7}\n",
            "DEBUG (test): 0.24 (ddpg) <= 0.7 (a2c). Not updating best model.\n",
            "log_metrics for td3\n",
            "True\n",
            "DEBUG (test): run.id = 5kmr481u\n",
            "DEBUG (test): sharpe_ratios = {'a2c': 0.7, 'ddpg': 0.24}\n",
            "DEBUG (test): updating best model based on sharpe_ratios: {'a2c': 0.7, 'ddpg': 0.24}\n",
            "DEBUG (test): 0.64 (td3) <= 0.7 (a2c). Not updating best model.\n",
            "log_metrics for sac\n",
            "True\n",
            "DEBUG (test): run.id = 5kmr481u\n",
            "DEBUG (test): sharpe_ratios = {'a2c': 0.7, 'ddpg': 0.24, 'td3': 0.64}\n",
            "DEBUG (test): updating best model based on sharpe_ratios: {'a2c': 0.7, 'ddpg': 0.24, 'td3': 0.64}\n",
            "DEBUG (test): 1.02 (sac) > 0.7 (a2c). New best model: sac.\n",
            "log_metrics for best_model\n",
            "True\n",
            "True\n",
            "log_metrics for ppo\n",
            "True\n",
            "DEBUG (test): run.id = 5kmr481u\n",
            "DEBUG (test): sharpe_ratios = {'a2c': 0.7, 'ddpg': 0.24, 'td3': 0.64, 'sac': 1.02}\n",
            "DEBUG (test): updating best model based on sharpe_ratios: {'a2c': 0.7, 'ddpg': 0.24, 'td3': 0.64, 'sac': 1.02}\n",
            "DEBUG (test): -0.26 (ppo) <= 1.02 (sac). Not updating best model.\n",
            "True\n",
            "True\n",
            "True\n",
            "DEBUG (CHOSEN): chosen_model_metrics: {'ann_return/ppo': -5.3, 'cum_return/ppo': -1.3, 'mdd/ppo': -4.97, 'sharpe_ratio/ppo': -0.26}\n",
            "DEBUG (CHOSEN): chosen_model_metrics: {'ann_return/chosen_model': -5.3, 'cum_return/chosen_model': -1.3, 'mdd/chosen_model': -4.97, 'sharpe_ratio/chosen_model': -0.26}\n",
            "True\n",
            "True\n",
            "log_plot_as_artifact\n"
          ]
        },
        {
          "output_type": "display_data",
          "data": {
            "text/plain": [
              "<IPython.core.display.HTML object>"
            ],
            "text/html": []
          },
          "metadata": {}
        },
        {
          "output_type": "display_data",
          "data": {
            "text/plain": [
              "<IPython.core.display.HTML object>"
            ],
            "text/html": [
              "<br>    <style><br>        .wandb-row {<br>            display: flex;<br>            flex-direction: row;<br>            flex-wrap: wrap;<br>            justify-content: flex-start;<br>            width: 100%;<br>        }<br>        .wandb-col {<br>            display: flex;<br>            flex-direction: column;<br>            flex-basis: 100%;<br>            flex: 1;<br>            padding: 10px;<br>        }<br>    </style><br><div class=\"wandb-row\"><div class=\"wandb-col\"><h3>Run summary:</h3><br/><table class=\"wandb\"><tr><td>best_model_name</td><td>a2c</td></tr><tr><td>test/ann_return/a2c</td><td>10.63</td></tr><tr><td>test/ann_return/best_model</td><td>22.49</td></tr><tr><td>test/ann_return/ddpg</td><td>2.79</td></tr><tr><td>test/ann_return/ppo</td><td>-5.3</td></tr><tr><td>test/ann_return/sac</td><td>22.49</td></tr><tr><td>test/ann_return/td3</td><td>9.49</td></tr><tr><td>test/best_model_name</td><td>sac</td></tr><tr><td>test/cum_return/a2c</td><td>2.46</td></tr><tr><td>test/cum_return/best_model</td><td>5.01</td></tr><tr><td>test/cum_return/ddpg</td><td>0.67</td></tr><tr><td>test/cum_return/ppo</td><td>-1.3</td></tr><tr><td>test/cum_return/sac</td><td>5.01</td></tr><tr><td>test/cum_return/td3</td><td>2.21</td></tr><tr><td>test/mdd/a2c</td><td>-5.27</td></tr><tr><td>test/mdd/best_model</td><td>-10.15</td></tr><tr><td>test/mdd/ddpg</td><td>-9.84</td></tr><tr><td>test/mdd/ppo</td><td>-4.97</td></tr><tr><td>test/mdd/sac</td><td>-10.15</td></tr><tr><td>test/mdd/td3</td><td>-4.8</td></tr><tr><td>test/sharpe_ratio/a2c</td><td>0.7</td></tr><tr><td>test/sharpe_ratio/best_model</td><td>1.02</td></tr><tr><td>test/sharpe_ratio/ddpg</td><td>0.24</td></tr><tr><td>test/sharpe_ratio/ppo</td><td>-0.26</td></tr><tr><td>test/sharpe_ratio/sac</td><td>1.02</td></tr><tr><td>test/sharpe_ratio/td3</td><td>0.64</td></tr></table><br/></div></div>"
            ]
          },
          "metadata": {}
        },
        {
          "output_type": "display_data",
          "data": {
            "text/plain": [
              "<IPython.core.display.HTML object>"
            ],
            "text/html": [
              " View run <strong style=\"color:#cdcd00\">DOW-30 | 2009-01 | 2019 Q2 | 2019 Q3 | tvBU7</strong> at: <a href='https://wandb.ai/overfit1010/finrl-dt-replicate/runs/5kmr481u' target=\"_blank\">https://wandb.ai/overfit1010/finrl-dt-replicate/runs/5kmr481u</a><br> View project at: <a href='https://wandb.ai/overfit1010/finrl-dt-replicate' target=\"_blank\">https://wandb.ai/overfit1010/finrl-dt-replicate</a><br>Synced 5 W&B file(s), 0 media file(s), 0 artifact file(s) and 0 other file(s)"
            ]
          },
          "metadata": {}
        },
        {
          "output_type": "display_data",
          "data": {
            "text/plain": [
              "<IPython.core.display.HTML object>"
            ],
            "text/html": [
              "Find logs at: <code>./wandb/run-20250112_120605-5kmr481u/logs</code>"
            ]
          },
          "metadata": {}
        },
        {
          "output_type": "display_data",
          "data": {
            "text/plain": [
              "<IPython.core.display.HTML object>"
            ],
            "text/html": [
              "Tracking run with wandb version 0.19.1"
            ]
          },
          "metadata": {}
        },
        {
          "output_type": "display_data",
          "data": {
            "text/plain": [
              "<IPython.core.display.HTML object>"
            ],
            "text/html": [
              "Run data is saved locally in <code>/content/wandb/run-20250112_120633-8zeoyh95</code>"
            ]
          },
          "metadata": {}
        },
        {
          "output_type": "display_data",
          "data": {
            "text/plain": [
              "<IPython.core.display.HTML object>"
            ],
            "text/html": [
              "Resuming run <strong><a href='https://wandb.ai/overfit1010/finrl-dt-replicate/runs/8zeoyh95' target=\"_blank\">DOW-30 | 2009-01 | 2019 Q1 | 2019 Q2 | YmU2o</a></strong> to <a href='https://wandb.ai/overfit1010/finrl-dt-replicate' target=\"_blank\">Weights & Biases</a> (<a href='https://wandb.me/developer-guide' target=\"_blank\">docs</a>)<br>Sweep page: <a href='https://wandb.ai/overfit1010/finrl-dt-replicate/sweeps/k43io2uh' target=\"_blank\">https://wandb.ai/overfit1010/finrl-dt-replicate/sweeps/k43io2uh</a>"
            ]
          },
          "metadata": {}
        },
        {
          "output_type": "display_data",
          "data": {
            "text/plain": [
              "<IPython.core.display.HTML object>"
            ],
            "text/html": [
              " View project at <a href='https://wandb.ai/overfit1010/finrl-dt-replicate' target=\"_blank\">https://wandb.ai/overfit1010/finrl-dt-replicate</a>"
            ]
          },
          "metadata": {}
        },
        {
          "output_type": "display_data",
          "data": {
            "text/plain": [
              "<IPython.core.display.HTML object>"
            ],
            "text/html": [
              " View sweep at <a href='https://wandb.ai/overfit1010/finrl-dt-replicate/sweeps/k43io2uh' target=\"_blank\">https://wandb.ai/overfit1010/finrl-dt-replicate/sweeps/k43io2uh</a>"
            ]
          },
          "metadata": {}
        },
        {
          "output_type": "display_data",
          "data": {
            "text/plain": [
              "<IPython.core.display.HTML object>"
            ],
            "text/html": [
              " View run at <a href='https://wandb.ai/overfit1010/finrl-dt-replicate/runs/8zeoyh95' target=\"_blank\">https://wandb.ai/overfit1010/finrl-dt-replicate/runs/8zeoyh95</a>"
            ]
          },
          "metadata": {}
        },
        {
          "output_type": "stream",
          "name": "stdout",
          "text": [
            "True\n"
          ]
        },
        {
          "output_type": "stream",
          "name": "stderr",
          "text": [
            "\u001b[34m\u001b[1mwandb\u001b[0m:   3 of 3 files downloaded.  \n",
            "\u001b[34m\u001b[1mwandb\u001b[0m:   5 of 5 files downloaded.  \n",
            "\u001b[34m\u001b[1mwandb\u001b[0m:   5 of 5 files downloaded.  \n",
            "\u001b[34m\u001b[1mwandb\u001b[0m:   5 of 5 files downloaded.  \n",
            "\u001b[34m\u001b[1mwandb\u001b[0m:   5 of 5 files downloaded.  \n",
            "\u001b[34m\u001b[1mwandb\u001b[0m:   5 of 5 files downloaded.  \n",
            "\u001b[34m\u001b[1mwandb\u001b[0m:   1 of 1 files downloaded.  \n",
            "\u001b[34m\u001b[1mwandb\u001b[0m:   1 of 1 files downloaded.  \n",
            "\u001b[34m\u001b[1mwandb\u001b[0m:   1 of 1 files downloaded.  \n",
            "\u001b[34m\u001b[1mwandb\u001b[0m:   1 of 1 files downloaded.  \n",
            "\u001b[34m\u001b[1mwandb\u001b[0m:   1 of 1 files downloaded.  \n",
            "\u001b[34m\u001b[1mwandb\u001b[0m:   1 of 1 files downloaded.  \n"
          ]
        },
        {
          "output_type": "stream",
          "name": "stdout",
          "text": [
            "Stock Dimension: 29, State Space: 291\n",
            "hit end!\n",
            "hit end!\n",
            "hit end!\n",
            "hit end!\n"
          ]
        },
        {
          "output_type": "stream",
          "name": "stderr",
          "text": [
            "\r[*********************100%***********************]  1 of 1 completed"
          ]
        },
        {
          "output_type": "stream",
          "name": "stdout",
          "text": [
            "hit end!\n",
            "\n",
            "2019-04-01 00:00:00\n",
            "2019-06-28 00:00:00\n",
            "Shape of DataFrame:  (62, 8)\n",
            "{'if_using_ddpg': True, 'if_using_a2c': True, 'if_using_sac': True, 'initial_amount': 50000, 'max_test_end_date': '2020-08-05', 'REFERENCE_PRICE_END_DATE': '2024-12-21', 'REFERNCE_PRICE_WINDOW_DAYS': 30, 'finetune': True, 'dataset_type': 'quarterly_train_val_test', 'min_test_start_date': '2016-01-01', 'if_using_ppo': True, 'date_range': {'test_end_date': '2019-07-01 00:00:00', 'val_start_date': '2019-01-01 00:00:00', 'test_start_date': '2019-04-01 00:00:00', 'train_start_date': '2009-01-01 00:00:00'}, 'train_start_date': '2009-01-01', 'cost_pct': [0.010314179718673032, 0.009076606561755468, 0.008307067100246136, 0.015516293581809112, 0.006395481989312903, 0.0072110283262062785, 0.04249566955190291, 0.015979716445954528, 0.021738725278835313, 0.004222453318177087, 0.005968143721526647, 0.010896151366589463, 0.01093735188446354, 0.11420864277075855, 0.01665255165637118, 0.010252194206940846, 0.03947813656400475, 0.008462643895002689, 0.01919729692524921, 0.024719550845968045, 0.005734449144229167, 0.03210832438433615, 0.014379031318205482, 0.00982580254909786, 0.0044498520553265045, 0.007984135151425499, 0.05881990501271046, 0.270946766931955, 0.026832260273111815], 'stock_index_name': 'DOW-30', 'dataset_name': 'DOW-30 | 2009-01 | 2019 Q1 | 2019 Q2', 'cost_abs': 2.5, 'if_using_td3': True, 'train_params': {'a2c': {'steps': 50000}, 'ppo': {'steps': 200000}, 'sac': {'steps': 70000}, 'td3': {'steps': 50000}, 'ddpg': {'steps': 50000}}}\n"
          ]
        },
        {
          "output_type": "stream",
          "name": "stderr",
          "text": [
            "\n"
          ]
        },
        {
          "output_type": "stream",
          "name": "stdout",
          "text": [
            "True\n",
            "log_metrics for a2c\n",
            "True\n",
            "DEBUG (test): run.id = 8zeoyh95\n",
            "DEBUG (test): sharpe_ratios = {}\n",
            "DEBUG (test): updating best model based on sharpe_ratios: {}\n",
            "DEBUG (test): no models logged yet, new best model is current one: a2c\n",
            "DEBUG (test): wandb.run.config['sharpe_ratios'] = {'test': {}}\n",
            "log_metrics for best_model\n",
            "True\n",
            "log_metrics for ddpg\n",
            "True\n",
            "DEBUG (test): run.id = 8zeoyh95\n",
            "DEBUG (test): sharpe_ratios = {'a2c': 0.84}\n",
            "DEBUG (test): updating best model based on sharpe_ratios: {'a2c': 0.84}\n",
            "DEBUG (test): 1.49 (ddpg) > 0.84 (a2c). New best model: ddpg.\n",
            "log_metrics for best_model\n",
            "True\n",
            "True\n",
            "log_metrics for td3\n",
            "True\n",
            "DEBUG (test): run.id = 8zeoyh95\n",
            "DEBUG (test): sharpe_ratios = {'a2c': 0.84, 'ddpg': 1.49}\n",
            "DEBUG (test): updating best model based on sharpe_ratios: {'a2c': 0.84, 'ddpg': 1.49}\n",
            "DEBUG (test): 0.74 (td3) <= 1.49 (ddpg). Not updating best model.\n",
            "log_metrics for sac\n",
            "True\n",
            "DEBUG (test): run.id = 8zeoyh95\n",
            "DEBUG (test): sharpe_ratios = {'a2c': 0.84, 'ddpg': 1.49, 'td3': 0.74}\n",
            "DEBUG (test): updating best model based on sharpe_ratios: {'a2c': 0.84, 'ddpg': 1.49, 'td3': 0.74}\n",
            "DEBUG (test): 0.31 (sac) <= 1.49 (ddpg). Not updating best model.\n",
            "log_metrics for ppo\n",
            "True\n",
            "DEBUG (test): run.id = 8zeoyh95\n",
            "DEBUG (test): sharpe_ratios = {'a2c': 0.84, 'ddpg': 1.49, 'td3': 0.74, 'sac': 0.31}\n",
            "DEBUG (test): updating best model based on sharpe_ratios: {'a2c': 0.84, 'ddpg': 1.49, 'td3': 0.74, 'sac': 0.31}\n",
            "DEBUG (test): 0.84 (ppo) <= 1.49 (ddpg). Not updating best model.\n",
            "True\n",
            "True\n",
            "True\n",
            "DEBUG (CHOSEN): chosen_model_metrics: {'ann_return/ddpg': 17.96, 'cum_return/ddpg': 4.01, 'mdd/ddpg': -5.86, 'sharpe_ratio/ddpg': 1.49}\n",
            "DEBUG (CHOSEN): chosen_model_metrics: {'ann_return/chosen_model': 17.96, 'cum_return/chosen_model': 4.01, 'mdd/chosen_model': -5.86, 'sharpe_ratio/chosen_model': 1.49}\n",
            "True\n",
            "True\n",
            "log_plot_as_artifact\n"
          ]
        },
        {
          "output_type": "display_data",
          "data": {
            "text/plain": [
              "<IPython.core.display.HTML object>"
            ],
            "text/html": []
          },
          "metadata": {}
        },
        {
          "output_type": "display_data",
          "data": {
            "text/plain": [
              "<IPython.core.display.HTML object>"
            ],
            "text/html": [
              "<br>    <style><br>        .wandb-row {<br>            display: flex;<br>            flex-direction: row;<br>            flex-wrap: wrap;<br>            justify-content: flex-start;<br>            width: 100%;<br>        }<br>        .wandb-col {<br>            display: flex;<br>            flex-direction: column;<br>            flex-basis: 100%;<br>            flex: 1;<br>            padding: 10px;<br>        }<br>    </style><br><div class=\"wandb-row\"><div class=\"wandb-col\"><h3>Run summary:</h3><br/><table class=\"wandb\"><tr><td>best_model_name</td><td>a2c</td></tr><tr><td>test/ann_return/a2c</td><td>11.98</td></tr><tr><td>test/ann_return/best_model</td><td>17.96</td></tr><tr><td>test/ann_return/ddpg</td><td>17.96</td></tr><tr><td>test/ann_return/ppo</td><td>11.98</td></tr><tr><td>test/ann_return/sac</td><td>3.58</td></tr><tr><td>test/ann_return/td3</td><td>8.06</td></tr><tr><td>test/best_model_name</td><td>ddpg</td></tr><tr><td>test/cum_return/a2c</td><td>2.73</td></tr><tr><td>test/cum_return/best_model</td><td>4.01</td></tr><tr><td>test/cum_return/ddpg</td><td>4.01</td></tr><tr><td>test/cum_return/ppo</td><td>2.73</td></tr><tr><td>test/cum_return/sac</td><td>0.84</td></tr><tr><td>test/cum_return/td3</td><td>1.87</td></tr><tr><td>test/mdd/a2c</td><td>-4.29</td></tr><tr><td>test/mdd/best_model</td><td>-5.86</td></tr><tr><td>test/mdd/ddpg</td><td>-5.86</td></tr><tr><td>test/mdd/ppo</td><td>-4.29</td></tr><tr><td>test/mdd/sac</td><td>-9.04</td></tr><tr><td>test/mdd/td3</td><td>-4.67</td></tr><tr><td>test/sharpe_ratio/a2c</td><td>0.84</td></tr><tr><td>test/sharpe_ratio/best_model</td><td>1.49</td></tr><tr><td>test/sharpe_ratio/ddpg</td><td>1.49</td></tr><tr><td>test/sharpe_ratio/ppo</td><td>0.84</td></tr><tr><td>test/sharpe_ratio/sac</td><td>0.31</td></tr><tr><td>test/sharpe_ratio/td3</td><td>0.74</td></tr></table><br/></div></div>"
            ]
          },
          "metadata": {}
        },
        {
          "output_type": "display_data",
          "data": {
            "text/plain": [
              "<IPython.core.display.HTML object>"
            ],
            "text/html": [
              " View run <strong style=\"color:#cdcd00\">DOW-30 | 2009-01 | 2019 Q1 | 2019 Q2 | YmU2o</strong> at: <a href='https://wandb.ai/overfit1010/finrl-dt-replicate/runs/8zeoyh95' target=\"_blank\">https://wandb.ai/overfit1010/finrl-dt-replicate/runs/8zeoyh95</a><br> View project at: <a href='https://wandb.ai/overfit1010/finrl-dt-replicate' target=\"_blank\">https://wandb.ai/overfit1010/finrl-dt-replicate</a><br>Synced 5 W&B file(s), 0 media file(s), 0 artifact file(s) and 0 other file(s)"
            ]
          },
          "metadata": {}
        },
        {
          "output_type": "display_data",
          "data": {
            "text/plain": [
              "<IPython.core.display.HTML object>"
            ],
            "text/html": [
              "Find logs at: <code>./wandb/run-20250112_120633-8zeoyh95/logs</code>"
            ]
          },
          "metadata": {}
        },
        {
          "output_type": "display_data",
          "data": {
            "text/plain": [
              "<IPython.core.display.HTML object>"
            ],
            "text/html": [
              "Tracking run with wandb version 0.19.1"
            ]
          },
          "metadata": {}
        },
        {
          "output_type": "display_data",
          "data": {
            "text/plain": [
              "<IPython.core.display.HTML object>"
            ],
            "text/html": [
              "Run data is saved locally in <code>/content/wandb/run-20250112_120701-tumg13f0</code>"
            ]
          },
          "metadata": {}
        },
        {
          "output_type": "display_data",
          "data": {
            "text/plain": [
              "<IPython.core.display.HTML object>"
            ],
            "text/html": [
              "Resuming run <strong><a href='https://wandb.ai/overfit1010/finrl-dt-replicate/runs/tumg13f0' target=\"_blank\">DOW-30 | 2009-01 | 2018 Q4 | 2019 Q1 | nIh5d</a></strong> to <a href='https://wandb.ai/overfit1010/finrl-dt-replicate' target=\"_blank\">Weights & Biases</a> (<a href='https://wandb.me/developer-guide' target=\"_blank\">docs</a>)<br>Sweep page: <a href='https://wandb.ai/overfit1010/finrl-dt-replicate/sweeps/k43io2uh' target=\"_blank\">https://wandb.ai/overfit1010/finrl-dt-replicate/sweeps/k43io2uh</a>"
            ]
          },
          "metadata": {}
        },
        {
          "output_type": "display_data",
          "data": {
            "text/plain": [
              "<IPython.core.display.HTML object>"
            ],
            "text/html": [
              " View project at <a href='https://wandb.ai/overfit1010/finrl-dt-replicate' target=\"_blank\">https://wandb.ai/overfit1010/finrl-dt-replicate</a>"
            ]
          },
          "metadata": {}
        },
        {
          "output_type": "display_data",
          "data": {
            "text/plain": [
              "<IPython.core.display.HTML object>"
            ],
            "text/html": [
              " View sweep at <a href='https://wandb.ai/overfit1010/finrl-dt-replicate/sweeps/k43io2uh' target=\"_blank\">https://wandb.ai/overfit1010/finrl-dt-replicate/sweeps/k43io2uh</a>"
            ]
          },
          "metadata": {}
        },
        {
          "output_type": "display_data",
          "data": {
            "text/plain": [
              "<IPython.core.display.HTML object>"
            ],
            "text/html": [
              " View run at <a href='https://wandb.ai/overfit1010/finrl-dt-replicate/runs/tumg13f0' target=\"_blank\">https://wandb.ai/overfit1010/finrl-dt-replicate/runs/tumg13f0</a>"
            ]
          },
          "metadata": {}
        },
        {
          "output_type": "stream",
          "name": "stdout",
          "text": [
            "True\n"
          ]
        },
        {
          "output_type": "stream",
          "name": "stderr",
          "text": [
            "\u001b[34m\u001b[1mwandb\u001b[0m:   3 of 3 files downloaded.  \n",
            "\u001b[34m\u001b[1mwandb\u001b[0m:   5 of 5 files downloaded.  \n",
            "\u001b[34m\u001b[1mwandb\u001b[0m:   5 of 5 files downloaded.  \n",
            "\u001b[34m\u001b[1mwandb\u001b[0m:   5 of 5 files downloaded.  \n",
            "\u001b[34m\u001b[1mwandb\u001b[0m:   5 of 5 files downloaded.  \n",
            "\u001b[34m\u001b[1mwandb\u001b[0m:   5 of 5 files downloaded.  \n",
            "\u001b[34m\u001b[1mwandb\u001b[0m:   1 of 1 files downloaded.  \n",
            "\u001b[34m\u001b[1mwandb\u001b[0m:   1 of 1 files downloaded.  \n",
            "\u001b[34m\u001b[1mwandb\u001b[0m:   1 of 1 files downloaded.  \n",
            "\u001b[34m\u001b[1mwandb\u001b[0m:   1 of 1 files downloaded.  \n",
            "\u001b[34m\u001b[1mwandb\u001b[0m:   1 of 1 files downloaded.  \n",
            "\u001b[34m\u001b[1mwandb\u001b[0m:   1 of 1 files downloaded.  \n"
          ]
        },
        {
          "output_type": "stream",
          "name": "stdout",
          "text": [
            "Stock Dimension: 29, State Space: 291\n",
            "hit end!\n",
            "hit end!\n",
            "hit end!\n",
            "hit end!\n"
          ]
        },
        {
          "output_type": "stream",
          "name": "stderr",
          "text": [
            "\r[*********************100%***********************]  1 of 1 completed"
          ]
        },
        {
          "output_type": "stream",
          "name": "stdout",
          "text": [
            "hit end!\n",
            "\n",
            "2019-01-02 00:00:00\n",
            "2019-03-29 00:00:00\n",
            "Shape of DataFrame:  (60, 8)\n",
            "{'date_range': {'test_start_date': '2019-01-01 00:00:00', 'train_start_date': '2009-01-01 00:00:00', 'test_end_date': '2019-04-01 00:00:00', 'val_start_date': '2018-10-01 00:00:00'}, 'REFERNCE_PRICE_WINDOW_DAYS': 30, 'train_start_date': '2009-01-01', 'if_using_a2c': True, 'stock_index_name': 'DOW-30', 'if_using_ppo': True, 'initial_amount': 50000, 'cost_abs': 2.5, 'if_using_td3': True, 'if_using_ddpg': True, 'finetune': True, 'train_params': {'ppo': {'steps': 200000}, 'sac': {'steps': 70000}, 'td3': {'steps': 50000}, 'ddpg': {'steps': 50000}, 'a2c': {'steps': 50000}}, 'max_test_end_date': '2020-08-05', 'if_using_sac': True, 'dataset_type': 'quarterly_train_val_test', 'REFERENCE_PRICE_END_DATE': '2024-12-21', 'dataset_name': 'DOW-30 | 2009-01 | 2018 Q4 | 2019 Q1', 'cost_pct': [0.010314179718673032, 0.009076606561755468, 0.008307067100246136, 0.015516293581809112, 0.006395481989312903, 0.0072110283262062785, 0.04249566955190291, 0.015979716445954528, 0.021738725278835313, 0.004222453318177087, 0.005968143721526647, 0.010896151366589463, 0.01093735188446354, 0.11420864277075855, 0.01665255165637118, 0.010252194206940846, 0.03947813656400475, 0.008462643895002689, 0.01919729692524921, 0.024719550845968045, 0.005734449144229167, 0.03210832438433615, 0.014379031318205482, 0.00982580254909786, 0.0044498520553265045, 0.007984135151425499, 0.05881990501271046, 0.270946766931955, 0.026832260273111815], 'min_test_start_date': '2016-01-01'}\n"
          ]
        },
        {
          "output_type": "stream",
          "name": "stderr",
          "text": [
            "\n"
          ]
        },
        {
          "output_type": "stream",
          "name": "stdout",
          "text": [
            "True\n",
            "log_metrics for a2c\n",
            "True\n",
            "DEBUG (test): run.id = tumg13f0\n",
            "DEBUG (test): sharpe_ratios = {}\n",
            "DEBUG (test): updating best model based on sharpe_ratios: {}\n",
            "DEBUG (test): no models logged yet, new best model is current one: a2c\n",
            "DEBUG (test): wandb.run.config['sharpe_ratios'] = {'test': {}}\n",
            "log_metrics for best_model\n",
            "True\n",
            "log_metrics for ddpg\n",
            "True\n",
            "DEBUG (test): run.id = tumg13f0\n",
            "DEBUG (test): sharpe_ratios = {'a2c': 1.85}\n",
            "DEBUG (test): updating best model based on sharpe_ratios: {'a2c': 1.85}\n",
            "DEBUG (test): 2.65 (ddpg) > 1.85 (a2c). New best model: ddpg.\n",
            "log_metrics for best_model\n",
            "True\n",
            "True\n",
            "log_metrics for td3\n",
            "True\n",
            "DEBUG (test): run.id = tumg13f0\n",
            "DEBUG (test): sharpe_ratios = {'a2c': 1.85, 'ddpg': 2.65}\n",
            "DEBUG (test): updating best model based on sharpe_ratios: {'a2c': 1.85, 'ddpg': 2.65}\n",
            "DEBUG (test): 1.49 (td3) <= 2.65 (ddpg). Not updating best model.\n",
            "log_metrics for sac\n",
            "True\n",
            "DEBUG (test): run.id = tumg13f0\n",
            "DEBUG (test): sharpe_ratios = {'a2c': 1.85, 'ddpg': 2.65, 'td3': 1.49}\n",
            "DEBUG (test): updating best model based on sharpe_ratios: {'a2c': 1.85, 'ddpg': 2.65, 'td3': 1.49}\n",
            "DEBUG (test): 1.5 (sac) <= 2.65 (ddpg). Not updating best model.\n",
            "log_metrics for ppo\n",
            "True\n",
            "DEBUG (test): run.id = tumg13f0\n",
            "DEBUG (test): sharpe_ratios = {'a2c': 1.85, 'ddpg': 2.65, 'td3': 1.49, 'sac': 1.5}\n",
            "DEBUG (test): updating best model based on sharpe_ratios: {'a2c': 1.85, 'ddpg': 2.65, 'td3': 1.49, 'sac': 1.5}\n",
            "DEBUG (test): 2.13 (ppo) <= 2.65 (ddpg). Not updating best model.\n",
            "True\n",
            "True\n",
            "True\n",
            "DEBUG (CHOSEN): chosen_model_metrics: {'ann_return/a2c': 27.92, 'cum_return/a2c': 5.9, 'mdd/a2c': -3.68, 'sharpe_ratio/a2c': 1.85}\n",
            "DEBUG (CHOSEN): chosen_model_metrics: {'ann_return/chosen_model': 27.92, 'cum_return/chosen_model': 5.9, 'mdd/chosen_model': -3.68, 'sharpe_ratio/chosen_model': 1.85}\n",
            "True\n",
            "True\n",
            "log_plot_as_artifact\n"
          ]
        },
        {
          "output_type": "display_data",
          "data": {
            "text/plain": [
              "<IPython.core.display.HTML object>"
            ],
            "text/html": []
          },
          "metadata": {}
        },
        {
          "output_type": "display_data",
          "data": {
            "text/plain": [
              "<IPython.core.display.HTML object>"
            ],
            "text/html": [
              "<br>    <style><br>        .wandb-row {<br>            display: flex;<br>            flex-direction: row;<br>            flex-wrap: wrap;<br>            justify-content: flex-start;<br>            width: 100%;<br>        }<br>        .wandb-col {<br>            display: flex;<br>            flex-direction: column;<br>            flex-basis: 100%;<br>            flex: 1;<br>            padding: 10px;<br>        }<br>    </style><br><div class=\"wandb-row\"><div class=\"wandb-col\"><h3>Run summary:</h3><br/><table class=\"wandb\"><tr><td>best_model_name</td><td>a2c</td></tr><tr><td>test/ann_return/a2c</td><td>27.92</td></tr><tr><td>test/ann_return/best_model</td><td>58.62</td></tr><tr><td>test/ann_return/ddpg</td><td>58.62</td></tr><tr><td>test/ann_return/ppo</td><td>38.34</td></tr><tr><td>test/ann_return/sac</td><td>41.45</td></tr><tr><td>test/ann_return/td3</td><td>27.63</td></tr><tr><td>test/best_model_name</td><td>ddpg</td></tr><tr><td>test/cum_return/a2c</td><td>5.9</td></tr><tr><td>test/cum_return/best_model</td><td>11.34</td></tr><tr><td>test/cum_return/ddpg</td><td>11.34</td></tr><tr><td>test/cum_return/ppo</td><td>7.85</td></tr><tr><td>test/cum_return/sac</td><td>8.41</td></tr><tr><td>test/cum_return/td3</td><td>5.85</td></tr><tr><td>test/mdd/a2c</td><td>-3.68</td></tr><tr><td>test/mdd/best_model</td><td>-4.16</td></tr><tr><td>test/mdd/ddpg</td><td>-4.16</td></tr><tr><td>test/mdd/ppo</td><td>-3.18</td></tr><tr><td>test/mdd/sac</td><td>-13.03</td></tr><tr><td>test/mdd/td3</td><td>-6.97</td></tr><tr><td>test/sharpe_ratio/a2c</td><td>1.85</td></tr><tr><td>test/sharpe_ratio/best_model</td><td>2.65</td></tr><tr><td>test/sharpe_ratio/ddpg</td><td>2.65</td></tr><tr><td>test/sharpe_ratio/ppo</td><td>2.13</td></tr><tr><td>test/sharpe_ratio/sac</td><td>1.5</td></tr><tr><td>test/sharpe_ratio/td3</td><td>1.49</td></tr></table><br/></div></div>"
            ]
          },
          "metadata": {}
        },
        {
          "output_type": "display_data",
          "data": {
            "text/plain": [
              "<IPython.core.display.HTML object>"
            ],
            "text/html": [
              " View run <strong style=\"color:#cdcd00\">DOW-30 | 2009-01 | 2018 Q4 | 2019 Q1 | nIh5d</strong> at: <a href='https://wandb.ai/overfit1010/finrl-dt-replicate/runs/tumg13f0' target=\"_blank\">https://wandb.ai/overfit1010/finrl-dt-replicate/runs/tumg13f0</a><br> View project at: <a href='https://wandb.ai/overfit1010/finrl-dt-replicate' target=\"_blank\">https://wandb.ai/overfit1010/finrl-dt-replicate</a><br>Synced 5 W&B file(s), 0 media file(s), 0 artifact file(s) and 0 other file(s)"
            ]
          },
          "metadata": {}
        },
        {
          "output_type": "display_data",
          "data": {
            "text/plain": [
              "<IPython.core.display.HTML object>"
            ],
            "text/html": [
              "Find logs at: <code>./wandb/run-20250112_120701-tumg13f0/logs</code>"
            ]
          },
          "metadata": {}
        },
        {
          "output_type": "display_data",
          "data": {
            "text/plain": [
              "<IPython.core.display.HTML object>"
            ],
            "text/html": [
              "Tracking run with wandb version 0.19.1"
            ]
          },
          "metadata": {}
        },
        {
          "output_type": "display_data",
          "data": {
            "text/plain": [
              "<IPython.core.display.HTML object>"
            ],
            "text/html": [
              "Run data is saved locally in <code>/content/wandb/run-20250112_120729-o2bz2ear</code>"
            ]
          },
          "metadata": {}
        },
        {
          "output_type": "display_data",
          "data": {
            "text/plain": [
              "<IPython.core.display.HTML object>"
            ],
            "text/html": [
              "Resuming run <strong><a href='https://wandb.ai/overfit1010/finrl-dt-replicate/runs/o2bz2ear' target=\"_blank\">DOW-30 | 2009-01 | 2018 Q3 | 2018 Q4 | qqm2P</a></strong> to <a href='https://wandb.ai/overfit1010/finrl-dt-replicate' target=\"_blank\">Weights & Biases</a> (<a href='https://wandb.me/developer-guide' target=\"_blank\">docs</a>)<br>Sweep page: <a href='https://wandb.ai/overfit1010/finrl-dt-replicate/sweeps/k43io2uh' target=\"_blank\">https://wandb.ai/overfit1010/finrl-dt-replicate/sweeps/k43io2uh</a>"
            ]
          },
          "metadata": {}
        },
        {
          "output_type": "display_data",
          "data": {
            "text/plain": [
              "<IPython.core.display.HTML object>"
            ],
            "text/html": [
              " View project at <a href='https://wandb.ai/overfit1010/finrl-dt-replicate' target=\"_blank\">https://wandb.ai/overfit1010/finrl-dt-replicate</a>"
            ]
          },
          "metadata": {}
        },
        {
          "output_type": "display_data",
          "data": {
            "text/plain": [
              "<IPython.core.display.HTML object>"
            ],
            "text/html": [
              " View sweep at <a href='https://wandb.ai/overfit1010/finrl-dt-replicate/sweeps/k43io2uh' target=\"_blank\">https://wandb.ai/overfit1010/finrl-dt-replicate/sweeps/k43io2uh</a>"
            ]
          },
          "metadata": {}
        },
        {
          "output_type": "display_data",
          "data": {
            "text/plain": [
              "<IPython.core.display.HTML object>"
            ],
            "text/html": [
              " View run at <a href='https://wandb.ai/overfit1010/finrl-dt-replicate/runs/o2bz2ear' target=\"_blank\">https://wandb.ai/overfit1010/finrl-dt-replicate/runs/o2bz2ear</a>"
            ]
          },
          "metadata": {}
        },
        {
          "output_type": "stream",
          "name": "stdout",
          "text": [
            "True\n"
          ]
        },
        {
          "output_type": "stream",
          "name": "stderr",
          "text": [
            "\u001b[34m\u001b[1mwandb\u001b[0m:   3 of 3 files downloaded.  \n",
            "\u001b[34m\u001b[1mwandb\u001b[0m:   5 of 5 files downloaded.  \n",
            "\u001b[34m\u001b[1mwandb\u001b[0m:   5 of 5 files downloaded.  \n",
            "\u001b[34m\u001b[1mwandb\u001b[0m:   5 of 5 files downloaded.  \n",
            "\u001b[34m\u001b[1mwandb\u001b[0m:   5 of 5 files downloaded.  \n",
            "\u001b[34m\u001b[1mwandb\u001b[0m:   5 of 5 files downloaded.  \n",
            "\u001b[34m\u001b[1mwandb\u001b[0m:   1 of 1 files downloaded.  \n",
            "\u001b[34m\u001b[1mwandb\u001b[0m:   1 of 1 files downloaded.  \n",
            "\u001b[34m\u001b[1mwandb\u001b[0m:   1 of 1 files downloaded.  \n",
            "\u001b[34m\u001b[1mwandb\u001b[0m:   1 of 1 files downloaded.  \n",
            "\u001b[34m\u001b[1mwandb\u001b[0m:   1 of 1 files downloaded.  \n",
            "\u001b[34m\u001b[1mwandb\u001b[0m:   1 of 1 files downloaded.  \n"
          ]
        },
        {
          "output_type": "stream",
          "name": "stdout",
          "text": [
            "Stock Dimension: 29, State Space: 291\n",
            "hit end!\n",
            "hit end!\n",
            "hit end!\n",
            "hit end!\n"
          ]
        },
        {
          "output_type": "stream",
          "name": "stderr",
          "text": [
            "\r[*********************100%***********************]  1 of 1 completed"
          ]
        },
        {
          "output_type": "stream",
          "name": "stdout",
          "text": [
            "hit end!\n",
            "\n",
            "2018-10-01 00:00:00\n",
            "2018-12-31 00:00:00\n",
            "Shape of DataFrame:  (62, 8)\n",
            "{'if_using_ppo': True, 'dataset_name': 'DOW-30 | 2009-01 | 2018 Q3 | 2018 Q4', 'cost_pct': [0.010314179718673032, 0.009076606561755468, 0.008307067100246136, 0.015516293581809112, 0.006395481989312903, 0.0072110283262062785, 0.04249566955190291, 0.015979716445954528, 0.021738725278835313, 0.004222453318177087, 0.005968143721526647, 0.010896151366589463, 0.01093735188446354, 0.11420864277075855, 0.01665255165637118, 0.010252194206940846, 0.03947813656400475, 0.008462643895002689, 0.01919729692524921, 0.024719550845968045, 0.005734449144229167, 0.03210832438433615, 0.014379031318205482, 0.00982580254909786, 0.0044498520553265045, 0.007984135151425499, 0.05881990501271046, 0.270946766931955, 0.026832260273111815], 'if_using_a2c': True, 'date_range': {'test_end_date': '2019-01-01 00:00:00', 'val_start_date': '2018-07-01 00:00:00', 'test_start_date': '2018-10-01 00:00:00', 'train_start_date': '2009-01-01 00:00:00'}, 'initial_amount': 50000, 'dataset_type': 'quarterly_train_val_test', 'if_using_td3': True, 'train_params': {'a2c': {'steps': 50000}, 'ppo': {'steps': 200000}, 'sac': {'steps': 70000}, 'td3': {'steps': 50000}, 'ddpg': {'steps': 50000}}, 'train_start_date': '2009-01-01', 'if_using_ddpg': True, 'max_test_end_date': '2020-08-05', 'finetune': True, 'cost_abs': 2.5, 'min_test_start_date': '2016-01-01', 'REFERENCE_PRICE_END_DATE': '2024-12-21', 'if_using_sac': True, 'stock_index_name': 'DOW-30', 'REFERNCE_PRICE_WINDOW_DAYS': 30}\n"
          ]
        },
        {
          "output_type": "stream",
          "name": "stderr",
          "text": [
            "\n"
          ]
        },
        {
          "output_type": "stream",
          "name": "stdout",
          "text": [
            "True\n",
            "log_metrics for a2c\n",
            "True\n",
            "DEBUG (test): run.id = o2bz2ear\n",
            "DEBUG (test): sharpe_ratios = {}\n",
            "DEBUG (test): updating best model based on sharpe_ratios: {}\n",
            "DEBUG (test): no models logged yet, new best model is current one: a2c\n",
            "DEBUG (test): wandb.run.config['sharpe_ratios'] = {'test': {}}\n",
            "log_metrics for best_model\n",
            "True\n",
            "log_metrics for ddpg\n",
            "True\n",
            "DEBUG (test): run.id = o2bz2ear\n",
            "DEBUG (test): sharpe_ratios = {'a2c': -2.41}\n",
            "DEBUG (test): updating best model based on sharpe_ratios: {'a2c': -2.41}\n",
            "DEBUG (test): -2.84 (ddpg) <= -2.41 (a2c). Not updating best model.\n",
            "log_metrics for td3\n",
            "True\n",
            "DEBUG (test): run.id = o2bz2ear\n",
            "DEBUG (test): sharpe_ratios = {'a2c': -2.41, 'ddpg': -2.84}\n",
            "DEBUG (test): updating best model based on sharpe_ratios: {'a2c': -2.41, 'ddpg': -2.84}\n",
            "DEBUG (test): -2.17 (td3) > -2.41 (a2c). New best model: td3.\n",
            "log_metrics for best_model\n",
            "True\n",
            "True\n",
            "log_metrics for sac\n",
            "True\n",
            "DEBUG (test): run.id = o2bz2ear\n",
            "DEBUG (test): sharpe_ratios = {'a2c': -2.41, 'ddpg': -2.84, 'td3': -2.17}\n",
            "DEBUG (test): updating best model based on sharpe_ratios: {'a2c': -2.41, 'ddpg': -2.84, 'td3': -2.17}\n",
            "DEBUG (test): -3.87 (sac) <= -2.17 (td3). Not updating best model.\n",
            "log_metrics for ppo\n",
            "True\n",
            "DEBUG (test): run.id = o2bz2ear\n",
            "DEBUG (test): sharpe_ratios = {'a2c': -2.41, 'ddpg': -2.84, 'td3': -2.17, 'sac': -3.87}\n",
            "DEBUG (test): updating best model based on sharpe_ratios: {'a2c': -2.41, 'ddpg': -2.84, 'td3': -2.17, 'sac': -3.87}\n",
            "DEBUG (test): -1.89 (ppo) > -2.17 (td3). New best model: ppo.\n",
            "log_metrics for best_model\n",
            "True\n",
            "True\n",
            "True\n",
            "True\n",
            "True\n",
            "DEBUG (CHOSEN): chosen_model_metrics: {'ann_return/td3': -37.03, 'cum_return/td3': -10.55, 'mdd/td3': -15.88, 'sharpe_ratio/td3': -1.76}\n",
            "DEBUG (CHOSEN): chosen_model_metrics: {'ann_return/chosen_model': -37.03, 'cum_return/chosen_model': -10.55, 'mdd/chosen_model': -15.88, 'sharpe_ratio/chosen_model': -1.76}\n",
            "True\n",
            "True\n",
            "log_plot_as_artifact\n"
          ]
        },
        {
          "output_type": "display_data",
          "data": {
            "text/plain": [
              "<IPython.core.display.HTML object>"
            ],
            "text/html": []
          },
          "metadata": {}
        },
        {
          "output_type": "display_data",
          "data": {
            "text/plain": [
              "<IPython.core.display.HTML object>"
            ],
            "text/html": [
              "<br>    <style><br>        .wandb-row {<br>            display: flex;<br>            flex-direction: row;<br>            flex-wrap: wrap;<br>            justify-content: flex-start;<br>            width: 100%;<br>        }<br>        .wandb-col {<br>            display: flex;<br>            flex-direction: column;<br>            flex-basis: 100%;<br>            flex: 1;<br>            padding: 10px;<br>        }<br>    </style><br><div class=\"wandb-row\"><div class=\"wandb-col\"><h3>Run summary:</h3><br/><table class=\"wandb\"><tr><td>best_model_name</td><td>a2c</td></tr><tr><td>test/ann_return/a2c</td><td>-55.92</td></tr><tr><td>test/ann_return/best_model</td><td>-68.97</td></tr><tr><td>test/ann_return/ddpg</td><td>-47.33</td></tr><tr><td>test/ann_return/ppo</td><td>-39.3</td></tr><tr><td>test/ann_return/sac</td><td>-68.97</td></tr><tr><td>test/ann_return/td3</td><td>-43.09</td></tr><tr><td>test/best_model_name</td><td>sac</td></tr><tr><td>test/cum_return/a2c</td><td>-17.92</td></tr><tr><td>test/cum_return/best_model</td><td>-24.58</td></tr><tr><td>test/cum_return/ddpg</td><td>-14.32</td></tr><tr><td>test/cum_return/ppo</td><td>-11.34</td></tr><tr><td>test/cum_return/sac</td><td>-24.58</td></tr><tr><td>test/cum_return/td3</td><td>-12.71</td></tr><tr><td>test/mdd/a2c</td><td>-21.47</td></tr><tr><td>test/mdd/best_model</td><td>-27.92</td></tr><tr><td>test/mdd/ddpg</td><td>-19.39</td></tr><tr><td>test/mdd/ppo</td><td>-15.71</td></tr><tr><td>test/mdd/sac</td><td>-27.92</td></tr><tr><td>test/mdd/td3</td><td>-15.88</td></tr><tr><td>test/sharpe_ratio/a2c</td><td>-2.41</td></tr><tr><td>test/sharpe_ratio/best_model</td><td>-3.87</td></tr><tr><td>test/sharpe_ratio/ddpg</td><td>-2.84</td></tr><tr><td>test/sharpe_ratio/ppo</td><td>-1.89</td></tr><tr><td>test/sharpe_ratio/sac</td><td>-3.87</td></tr><tr><td>test/sharpe_ratio/td3</td><td>-2.17</td></tr></table><br/></div></div>"
            ]
          },
          "metadata": {}
        },
        {
          "output_type": "display_data",
          "data": {
            "text/plain": [
              "<IPython.core.display.HTML object>"
            ],
            "text/html": [
              " View run <strong style=\"color:#cdcd00\">DOW-30 | 2009-01 | 2018 Q3 | 2018 Q4 | qqm2P</strong> at: <a href='https://wandb.ai/overfit1010/finrl-dt-replicate/runs/o2bz2ear' target=\"_blank\">https://wandb.ai/overfit1010/finrl-dt-replicate/runs/o2bz2ear</a><br> View project at: <a href='https://wandb.ai/overfit1010/finrl-dt-replicate' target=\"_blank\">https://wandb.ai/overfit1010/finrl-dt-replicate</a><br>Synced 5 W&B file(s), 0 media file(s), 2 artifact file(s) and 0 other file(s)"
            ]
          },
          "metadata": {}
        },
        {
          "output_type": "display_data",
          "data": {
            "text/plain": [
              "<IPython.core.display.HTML object>"
            ],
            "text/html": [
              "Find logs at: <code>./wandb/run-20250112_120729-o2bz2ear/logs</code>"
            ]
          },
          "metadata": {}
        },
        {
          "output_type": "display_data",
          "data": {
            "text/plain": [
              "<IPython.core.display.HTML object>"
            ],
            "text/html": [
              "Tracking run with wandb version 0.19.1"
            ]
          },
          "metadata": {}
        },
        {
          "output_type": "display_data",
          "data": {
            "text/plain": [
              "<IPython.core.display.HTML object>"
            ],
            "text/html": [
              "Run data is saved locally in <code>/content/wandb/run-20250112_120805-h1ia8if0</code>"
            ]
          },
          "metadata": {}
        },
        {
          "output_type": "display_data",
          "data": {
            "text/plain": [
              "<IPython.core.display.HTML object>"
            ],
            "text/html": [
              "Resuming run <strong><a href='https://wandb.ai/overfit1010/finrl-dt-replicate/runs/h1ia8if0' target=\"_blank\">DOW-30 | 2009-01 | 2018 Q2 | 2018 Q3 | tm7vR</a></strong> to <a href='https://wandb.ai/overfit1010/finrl-dt-replicate' target=\"_blank\">Weights & Biases</a> (<a href='https://wandb.me/developer-guide' target=\"_blank\">docs</a>)<br>Sweep page: <a href='https://wandb.ai/overfit1010/finrl-dt-replicate/sweeps/k43io2uh' target=\"_blank\">https://wandb.ai/overfit1010/finrl-dt-replicate/sweeps/k43io2uh</a>"
            ]
          },
          "metadata": {}
        },
        {
          "output_type": "display_data",
          "data": {
            "text/plain": [
              "<IPython.core.display.HTML object>"
            ],
            "text/html": [
              " View project at <a href='https://wandb.ai/overfit1010/finrl-dt-replicate' target=\"_blank\">https://wandb.ai/overfit1010/finrl-dt-replicate</a>"
            ]
          },
          "metadata": {}
        },
        {
          "output_type": "display_data",
          "data": {
            "text/plain": [
              "<IPython.core.display.HTML object>"
            ],
            "text/html": [
              " View sweep at <a href='https://wandb.ai/overfit1010/finrl-dt-replicate/sweeps/k43io2uh' target=\"_blank\">https://wandb.ai/overfit1010/finrl-dt-replicate/sweeps/k43io2uh</a>"
            ]
          },
          "metadata": {}
        },
        {
          "output_type": "display_data",
          "data": {
            "text/plain": [
              "<IPython.core.display.HTML object>"
            ],
            "text/html": [
              " View run at <a href='https://wandb.ai/overfit1010/finrl-dt-replicate/runs/h1ia8if0' target=\"_blank\">https://wandb.ai/overfit1010/finrl-dt-replicate/runs/h1ia8if0</a>"
            ]
          },
          "metadata": {}
        },
        {
          "output_type": "stream",
          "name": "stdout",
          "text": [
            "True\n"
          ]
        },
        {
          "output_type": "stream",
          "name": "stderr",
          "text": [
            "\u001b[34m\u001b[1mwandb\u001b[0m:   3 of 3 files downloaded.  \n",
            "\u001b[34m\u001b[1mwandb\u001b[0m:   5 of 5 files downloaded.  \n",
            "\u001b[34m\u001b[1mwandb\u001b[0m:   5 of 5 files downloaded.  \n",
            "\u001b[34m\u001b[1mwandb\u001b[0m:   5 of 5 files downloaded.  \n",
            "\u001b[34m\u001b[1mwandb\u001b[0m:   5 of 5 files downloaded.  \n",
            "\u001b[34m\u001b[1mwandb\u001b[0m:   5 of 5 files downloaded.  \n",
            "\u001b[34m\u001b[1mwandb\u001b[0m:   1 of 1 files downloaded.  \n",
            "\u001b[34m\u001b[1mwandb\u001b[0m:   1 of 1 files downloaded.  \n",
            "\u001b[34m\u001b[1mwandb\u001b[0m:   1 of 1 files downloaded.  \n",
            "\u001b[34m\u001b[1mwandb\u001b[0m:   1 of 1 files downloaded.  \n",
            "\u001b[34m\u001b[1mwandb\u001b[0m:   1 of 1 files downloaded.  \n"
          ]
        },
        {
          "output_type": "stream",
          "name": "stdout",
          "text": [
            "Stock Dimension: 29, State Space: 291\n",
            "hit end!\n",
            "hit end!\n",
            "hit end!\n",
            "hit end!\n"
          ]
        },
        {
          "output_type": "stream",
          "name": "stderr",
          "text": [
            "\r[*********************100%***********************]  1 of 1 completed"
          ]
        },
        {
          "output_type": "stream",
          "name": "stdout",
          "text": [
            "hit end!\n",
            "\n",
            "2018-07-02 00:00:00\n",
            "2018-09-28 00:00:00\n",
            "Shape of DataFrame:  (62, 8)\n",
            "{'dataset_name': 'DOW-30 | 2009-01 | 2018 Q2 | 2018 Q3', 'min_test_start_date': '2016-01-01', 'train_params': {'a2c': {'steps': 50000}, 'ppo': {'steps': 200000}, 'sac': {'steps': 70000}, 'td3': {'steps': 50000}, 'ddpg': {'steps': 50000}}, 'finetune': True, 'if_using_ddpg': True, 'if_using_td3': True, 'REFERENCE_PRICE_END_DATE': '2024-12-21', 'initial_amount': 50000, 'if_using_sac': True, 'date_range': {'test_end_date': '2018-10-01 00:00:00', 'val_start_date': '2018-04-01 00:00:00', 'test_start_date': '2018-07-01 00:00:00', 'train_start_date': '2009-01-01 00:00:00'}, 'cost_pct': [0.010314179718673032, 0.009076606561755468, 0.008307067100246136, 0.015516293581809112, 0.006395481989312903, 0.0072110283262062785, 0.04249566955190291, 0.015979716445954528, 0.021738725278835313, 0.004222453318177087, 0.005968143721526647, 0.010896151366589463, 0.01093735188446354, 0.11420864277075855, 0.01665255165637118, 0.010252194206940846, 0.03947813656400475, 0.008462643895002689, 0.01919729692524921, 0.024719550845968045, 0.005734449144229167, 0.03210832438433615, 0.014379031318205482, 0.00982580254909786, 0.0044498520553265045, 0.007984135151425499, 0.05881990501271046, 0.270946766931955, 0.026832260273111815], 'if_using_a2c': True, 'REFERNCE_PRICE_WINDOW_DAYS': 30, 'dataset_type': 'quarterly_train_val_test', 'stock_index_name': 'DOW-30', 'cost_abs': 2.5, 'max_test_end_date': '2020-08-05', 'train_start_date': '2009-01-01', 'if_using_ppo': True}\n"
          ]
        },
        {
          "output_type": "stream",
          "name": "stderr",
          "text": [
            "\n"
          ]
        },
        {
          "output_type": "stream",
          "name": "stdout",
          "text": [
            "True\n",
            "log_metrics for a2c\n",
            "True\n",
            "DEBUG (test): run.id = h1ia8if0\n",
            "DEBUG (test): sharpe_ratios = {}\n",
            "DEBUG (test): updating best model based on sharpe_ratios: {}\n",
            "DEBUG (test): no models logged yet, new best model is current one: a2c\n",
            "DEBUG (test): wandb.run.config['sharpe_ratios'] = {'test': {}}\n",
            "log_metrics for best_model\n",
            "True\n",
            "log_metrics for ddpg\n",
            "True\n",
            "DEBUG (test): run.id = h1ia8if0\n",
            "DEBUG (test): sharpe_ratios = {'a2c': 3.6}\n",
            "DEBUG (test): updating best model based on sharpe_ratios: {'a2c': 3.6}\n",
            "DEBUG (test): 2.7 (ddpg) <= 3.6 (a2c). Not updating best model.\n",
            "log_metrics for td3\n",
            "True\n",
            "DEBUG (test): run.id = h1ia8if0\n",
            "DEBUG (test): sharpe_ratios = {'a2c': 3.6, 'ddpg': 2.7}\n",
            "DEBUG (test): updating best model based on sharpe_ratios: {'a2c': 3.6, 'ddpg': 2.7}\n",
            "DEBUG (test): 3.33 (td3) <= 3.6 (a2c). Not updating best model.\n",
            "log_metrics for sac\n",
            "True\n",
            "DEBUG (test): run.id = h1ia8if0\n",
            "DEBUG (test): sharpe_ratios = {'a2c': 3.6, 'ddpg': 2.7, 'td3': 3.33}\n",
            "DEBUG (test): updating best model based on sharpe_ratios: {'a2c': 3.6, 'ddpg': 2.7, 'td3': 3.33}\n",
            "DEBUG (test): 2.0 (sac) <= 3.6 (a2c). Not updating best model.\n",
            "log_metrics for ppo\n",
            "True\n",
            "DEBUG (test): run.id = h1ia8if0\n",
            "DEBUG (test): sharpe_ratios = {'a2c': 3.6, 'ddpg': 2.7, 'td3': 3.33, 'sac': 2.0}\n",
            "DEBUG (test): updating best model based on sharpe_ratios: {'a2c': 3.6, 'ddpg': 2.7, 'td3': 3.33, 'sac': 2.0}\n",
            "DEBUG (test): 4.3 (ppo) > 3.6 (a2c). New best model: ppo.\n",
            "log_metrics for best_model\n",
            "True\n",
            "True\n",
            "True\n",
            "True\n",
            "True\n",
            "DEBUG (CHOSEN): chosen_model_metrics: {'ann_return/sac': 36.07, 'cum_return/sac': 7.62, 'mdd/sac': -5.86, 'sharpe_ratio/sac': 2}\n",
            "DEBUG (CHOSEN): chosen_model_metrics: {'ann_return/chosen_model': 36.07, 'cum_return/chosen_model': 7.62, 'mdd/chosen_model': -5.86, 'sharpe_ratio/chosen_model': 2}\n",
            "True\n",
            "True\n",
            "log_plot_as_artifact\n"
          ]
        },
        {
          "output_type": "display_data",
          "data": {
            "text/plain": [
              "<IPython.core.display.HTML object>"
            ],
            "text/html": []
          },
          "metadata": {}
        },
        {
          "output_type": "display_data",
          "data": {
            "text/plain": [
              "<IPython.core.display.HTML object>"
            ],
            "text/html": [
              "<br>    <style><br>        .wandb-row {<br>            display: flex;<br>            flex-direction: row;<br>            flex-wrap: wrap;<br>            justify-content: flex-start;<br>            width: 100%;<br>        }<br>        .wandb-col {<br>            display: flex;<br>            flex-direction: column;<br>            flex-basis: 100%;<br>            flex: 1;<br>            padding: 10px;<br>        }<br>    </style><br><div class=\"wandb-row\"><div class=\"wandb-col\"><h3>Run summary:</h3><br/><table class=\"wandb\"><tr><td>best_model_name</td><td>a2c</td></tr><tr><td>test/ann_return/a2c</td><td>43.77</td></tr><tr><td>test/ann_return/best_model</td><td>55.87</td></tr><tr><td>test/ann_return/ddpg</td><td>33.81</td></tr><tr><td>test/ann_return/ppo</td><td>55.87</td></tr><tr><td>test/ann_return/sac</td><td>36.07</td></tr><tr><td>test/ann_return/td3</td><td>47.46</td></tr><tr><td>test/best_model_name</td><td>ppo</td></tr><tr><td>test/cum_return/a2c</td><td>9.04</td></tr><tr><td>test/cum_return/best_model</td><td>11.16</td></tr><tr><td>test/cum_return/ddpg</td><td>7.19</td></tr><tr><td>test/cum_return/ppo</td><td>11.16</td></tr><tr><td>test/cum_return/sac</td><td>7.62</td></tr><tr><td>test/cum_return/td3</td><td>9.7</td></tr><tr><td>test/mdd/a2c</td><td>-1.43</td></tr><tr><td>test/mdd/best_model</td><td>-2.17</td></tr><tr><td>test/mdd/ddpg</td><td>-2.72</td></tr><tr><td>test/mdd/ppo</td><td>-2.17</td></tr><tr><td>test/mdd/sac</td><td>-5.86</td></tr><tr><td>test/mdd/td3</td><td>-2.78</td></tr><tr><td>test/sharpe_ratio/a2c</td><td>3.6</td></tr><tr><td>test/sharpe_ratio/best_model</td><td>4.3</td></tr><tr><td>test/sharpe_ratio/ddpg</td><td>2.7</td></tr><tr><td>test/sharpe_ratio/ppo</td><td>4.3</td></tr><tr><td>test/sharpe_ratio/sac</td><td>2.0</td></tr><tr><td>test/sharpe_ratio/td3</td><td>3.33</td></tr></table><br/></div></div>"
            ]
          },
          "metadata": {}
        },
        {
          "output_type": "display_data",
          "data": {
            "text/plain": [
              "<IPython.core.display.HTML object>"
            ],
            "text/html": [
              " View run <strong style=\"color:#cdcd00\">DOW-30 | 2009-01 | 2018 Q2 | 2018 Q3 | tm7vR</strong> at: <a href='https://wandb.ai/overfit1010/finrl-dt-replicate/runs/h1ia8if0' target=\"_blank\">https://wandb.ai/overfit1010/finrl-dt-replicate/runs/h1ia8if0</a><br> View project at: <a href='https://wandb.ai/overfit1010/finrl-dt-replicate' target=\"_blank\">https://wandb.ai/overfit1010/finrl-dt-replicate</a><br>Synced 5 W&B file(s), 0 media file(s), 2 artifact file(s) and 0 other file(s)"
            ]
          },
          "metadata": {}
        },
        {
          "output_type": "display_data",
          "data": {
            "text/plain": [
              "<IPython.core.display.HTML object>"
            ],
            "text/html": [
              "Find logs at: <code>./wandb/run-20250112_120805-h1ia8if0/logs</code>"
            ]
          },
          "metadata": {}
        },
        {
          "output_type": "display_data",
          "data": {
            "text/plain": [
              "<IPython.core.display.HTML object>"
            ],
            "text/html": [
              "Tracking run with wandb version 0.19.1"
            ]
          },
          "metadata": {}
        },
        {
          "output_type": "display_data",
          "data": {
            "text/plain": [
              "<IPython.core.display.HTML object>"
            ],
            "text/html": [
              "Run data is saved locally in <code>/content/wandb/run-20250112_120848-zvkqngwt</code>"
            ]
          },
          "metadata": {}
        },
        {
          "output_type": "display_data",
          "data": {
            "text/plain": [
              "<IPython.core.display.HTML object>"
            ],
            "text/html": [
              "Resuming run <strong><a href='https://wandb.ai/overfit1010/finrl-dt-replicate/runs/zvkqngwt' target=\"_blank\">DOW-30 | 2009-01 | 2018 Q1 | 2018 Q2 | BJ2fO</a></strong> to <a href='https://wandb.ai/overfit1010/finrl-dt-replicate' target=\"_blank\">Weights & Biases</a> (<a href='https://wandb.me/developer-guide' target=\"_blank\">docs</a>)<br>Sweep page: <a href='https://wandb.ai/overfit1010/finrl-dt-replicate/sweeps/k43io2uh' target=\"_blank\">https://wandb.ai/overfit1010/finrl-dt-replicate/sweeps/k43io2uh</a>"
            ]
          },
          "metadata": {}
        },
        {
          "output_type": "display_data",
          "data": {
            "text/plain": [
              "<IPython.core.display.HTML object>"
            ],
            "text/html": [
              " View project at <a href='https://wandb.ai/overfit1010/finrl-dt-replicate' target=\"_blank\">https://wandb.ai/overfit1010/finrl-dt-replicate</a>"
            ]
          },
          "metadata": {}
        },
        {
          "output_type": "display_data",
          "data": {
            "text/plain": [
              "<IPython.core.display.HTML object>"
            ],
            "text/html": [
              " View sweep at <a href='https://wandb.ai/overfit1010/finrl-dt-replicate/sweeps/k43io2uh' target=\"_blank\">https://wandb.ai/overfit1010/finrl-dt-replicate/sweeps/k43io2uh</a>"
            ]
          },
          "metadata": {}
        },
        {
          "output_type": "display_data",
          "data": {
            "text/plain": [
              "<IPython.core.display.HTML object>"
            ],
            "text/html": [
              " View run at <a href='https://wandb.ai/overfit1010/finrl-dt-replicate/runs/zvkqngwt' target=\"_blank\">https://wandb.ai/overfit1010/finrl-dt-replicate/runs/zvkqngwt</a>"
            ]
          },
          "metadata": {}
        },
        {
          "output_type": "stream",
          "name": "stdout",
          "text": [
            "True\n"
          ]
        },
        {
          "output_type": "stream",
          "name": "stderr",
          "text": [
            "\u001b[34m\u001b[1mwandb\u001b[0m:   3 of 3 files downloaded.  \n",
            "\u001b[34m\u001b[1mwandb\u001b[0m:   5 of 5 files downloaded.  \n",
            "\u001b[34m\u001b[1mwandb\u001b[0m:   5 of 5 files downloaded.  \n",
            "\u001b[34m\u001b[1mwandb\u001b[0m:   5 of 5 files downloaded.  \n",
            "\u001b[34m\u001b[1mwandb\u001b[0m:   5 of 5 files downloaded.  \n",
            "\u001b[34m\u001b[1mwandb\u001b[0m:   5 of 5 files downloaded.  \n",
            "\u001b[34m\u001b[1mwandb\u001b[0m:   1 of 1 files downloaded.  \n",
            "\u001b[34m\u001b[1mwandb\u001b[0m:   1 of 1 files downloaded.  \n",
            "\u001b[34m\u001b[1mwandb\u001b[0m:   1 of 1 files downloaded.  \n",
            "\u001b[34m\u001b[1mwandb\u001b[0m:   1 of 1 files downloaded.  \n",
            "\u001b[34m\u001b[1mwandb\u001b[0m:   1 of 1 files downloaded.  \n"
          ]
        },
        {
          "output_type": "stream",
          "name": "stdout",
          "text": [
            "Stock Dimension: 29, State Space: 291\n",
            "hit end!\n",
            "hit end!\n",
            "hit end!\n",
            "hit end!\n"
          ]
        },
        {
          "output_type": "stream",
          "name": "stderr",
          "text": [
            "\r[*********************100%***********************]  1 of 1 completed"
          ]
        },
        {
          "output_type": "stream",
          "name": "stdout",
          "text": [
            "hit end!\n",
            "\n",
            "2018-04-02 00:00:00\n",
            "2018-06-29 00:00:00\n",
            "Shape of DataFrame:  (63, 8)\n",
            "{'train_start_date': '2009-01-01', 'cost_abs': 2.5, 'finetune': True, 'min_test_start_date': '2016-01-01', 'REFERNCE_PRICE_WINDOW_DAYS': 30, 'date_range': {'test_end_date': '2018-07-01 00:00:00', 'val_start_date': '2018-01-01 00:00:00', 'test_start_date': '2018-04-01 00:00:00', 'train_start_date': '2009-01-01 00:00:00'}, 'REFERENCE_PRICE_END_DATE': '2024-12-21', 'stock_index_name': 'DOW-30', 'if_using_td3': True, 'if_using_ddpg': True, 'if_using_a2c': True, 'initial_amount': 50000, 'cost_pct': [0.010314179718673032, 0.009076606561755468, 0.008307067100246136, 0.015516293581809112, 0.006395481989312903, 0.0072110283262062785, 0.04249566955190291, 0.015979716445954528, 0.021738725278835313, 0.004222453318177087, 0.005968143721526647, 0.010896151366589463, 0.01093735188446354, 0.11420864277075855, 0.01665255165637118, 0.010252194206940846, 0.03947813656400475, 0.008462643895002689, 0.01919729692524921, 0.024719550845968045, 0.005734449144229167, 0.03210832438433615, 0.014379031318205482, 0.00982580254909786, 0.0044498520553265045, 0.007984135151425499, 0.05881990501271046, 0.270946766931955, 0.026832260273111815], 'if_using_sac': True, 'if_using_ppo': True, 'train_params': {'a2c': {'steps': 50000}, 'ppo': {'steps': 200000}, 'sac': {'steps': 70000}, 'td3': {'steps': 50000}, 'ddpg': {'steps': 50000}}, 'dataset_name': 'DOW-30 | 2009-01 | 2018 Q1 | 2018 Q2', 'dataset_type': 'quarterly_train_val_test', 'max_test_end_date': '2020-08-05'}\n"
          ]
        },
        {
          "output_type": "stream",
          "name": "stderr",
          "text": [
            "\n"
          ]
        },
        {
          "output_type": "stream",
          "name": "stdout",
          "text": [
            "True\n",
            "log_metrics for a2c\n",
            "True\n",
            "DEBUG (test): run.id = zvkqngwt\n",
            "DEBUG (test): sharpe_ratios = {}\n",
            "DEBUG (test): updating best model based on sharpe_ratios: {}\n",
            "DEBUG (test): no models logged yet, new best model is current one: a2c\n",
            "DEBUG (test): wandb.run.config['sharpe_ratios'] = {'test': {}}\n",
            "log_metrics for best_model\n",
            "True\n",
            "log_metrics for ddpg\n",
            "True\n",
            "DEBUG (test): run.id = zvkqngwt\n",
            "DEBUG (test): sharpe_ratios = {'a2c': 0.51}\n",
            "DEBUG (test): updating best model based on sharpe_ratios: {'a2c': 0.51}\n",
            "DEBUG (test): -1.11 (ddpg) <= 0.51 (a2c). Not updating best model.\n",
            "log_metrics for td3\n",
            "True\n",
            "DEBUG (test): run.id = zvkqngwt\n",
            "DEBUG (test): sharpe_ratios = {'a2c': 0.51, 'ddpg': -1.11}\n",
            "DEBUG (test): updating best model based on sharpe_ratios: {'a2c': 0.51, 'ddpg': -1.11}\n",
            "DEBUG (test): 0.95 (td3) > 0.51 (a2c). New best model: td3.\n",
            "log_metrics for best_model\n",
            "True\n",
            "True\n",
            "log_metrics for sac\n",
            "True\n",
            "DEBUG (test): run.id = zvkqngwt\n",
            "DEBUG (test): sharpe_ratios = {'a2c': 0.51, 'ddpg': -1.11, 'td3': 0.95}\n",
            "DEBUG (test): updating best model based on sharpe_ratios: {'a2c': 0.51, 'ddpg': -1.11, 'td3': 0.95}\n",
            "DEBUG (test): -1.7 (sac) <= 0.95 (td3). Not updating best model.\n",
            "log_metrics for ppo\n",
            "True\n",
            "DEBUG (test): run.id = zvkqngwt\n",
            "DEBUG (test): sharpe_ratios = {'a2c': 0.51, 'ddpg': -1.11, 'td3': 0.95, 'sac': -1.7}\n",
            "DEBUG (test): updating best model based on sharpe_ratios: {'a2c': 0.51, 'ddpg': -1.11, 'td3': 0.95, 'sac': -1.7}\n",
            "DEBUG (test): 1.01 (ppo) > 0.95 (td3). New best model: ppo.\n",
            "log_metrics for best_model\n",
            "True\n",
            "True\n",
            "True\n",
            "True\n",
            "True\n",
            "DEBUG (CHOSEN): chosen_model_metrics: {'ann_return/a2c': 8.97, 'cum_return/a2c': 2.07, 'mdd/a2c': -8.56, 'sharpe_ratio/a2c': 0.51}\n",
            "DEBUG (CHOSEN): chosen_model_metrics: {'ann_return/chosen_model': 8.97, 'cum_return/chosen_model': 2.07, 'mdd/chosen_model': -8.56, 'sharpe_ratio/chosen_model': 0.51}\n",
            "True\n",
            "True\n",
            "log_plot_as_artifact\n"
          ]
        },
        {
          "output_type": "display_data",
          "data": {
            "text/plain": [
              "<IPython.core.display.HTML object>"
            ],
            "text/html": []
          },
          "metadata": {}
        },
        {
          "output_type": "display_data",
          "data": {
            "text/plain": [
              "<IPython.core.display.HTML object>"
            ],
            "text/html": [
              "<br>    <style><br>        .wandb-row {<br>            display: flex;<br>            flex-direction: row;<br>            flex-wrap: wrap;<br>            justify-content: flex-start;<br>            width: 100%;<br>        }<br>        .wandb-col {<br>            display: flex;<br>            flex-direction: column;<br>            flex-basis: 100%;<br>            flex: 1;<br>            padding: 10px;<br>        }<br>    </style><br><div class=\"wandb-row\"><div class=\"wandb-col\"><h3>Run summary:</h3><br/><table class=\"wandb\"><tr><td>best_model_name</td><td>a2c</td></tr><tr><td>test/ann_return/a2c</td><td>8.97</td></tr><tr><td>test/ann_return/best_model</td><td>13.71</td></tr><tr><td>test/ann_return/ddpg</td><td>-15.69</td></tr><tr><td>test/ann_return/ppo</td><td>13.71</td></tr><tr><td>test/ann_return/sac</td><td>-25.97</td></tr><tr><td>test/ann_return/td3</td><td>12.51</td></tr><tr><td>test/best_model_name</td><td>ppo</td></tr><tr><td>test/cum_return/a2c</td><td>2.07</td></tr><tr><td>test/cum_return/best_model</td><td>3.11</td></tr><tr><td>test/cum_return/ddpg</td><td>-3.99</td></tr><tr><td>test/cum_return/ppo</td><td>3.11</td></tr><tr><td>test/cum_return/sac</td><td>-6.92</td></tr><tr><td>test/cum_return/td3</td><td>2.85</td></tr><tr><td>test/mdd/a2c</td><td>-8.56</td></tr><tr><td>test/mdd/best_model</td><td>-2.84</td></tr><tr><td>test/mdd/ddpg</td><td>-7.27</td></tr><tr><td>test/mdd/ppo</td><td>-2.84</td></tr><tr><td>test/mdd/sac</td><td>-11.61</td></tr><tr><td>test/mdd/td3</td><td>-3.64</td></tr><tr><td>test/sharpe_ratio/a2c</td><td>0.51</td></tr><tr><td>test/sharpe_ratio/best_model</td><td>1.01</td></tr><tr><td>test/sharpe_ratio/ddpg</td><td>-1.11</td></tr><tr><td>test/sharpe_ratio/ppo</td><td>1.01</td></tr><tr><td>test/sharpe_ratio/sac</td><td>-1.7</td></tr><tr><td>test/sharpe_ratio/td3</td><td>0.95</td></tr></table><br/></div></div>"
            ]
          },
          "metadata": {}
        },
        {
          "output_type": "display_data",
          "data": {
            "text/plain": [
              "<IPython.core.display.HTML object>"
            ],
            "text/html": [
              " View run <strong style=\"color:#cdcd00\">DOW-30 | 2009-01 | 2018 Q1 | 2018 Q2 | BJ2fO</strong> at: <a href='https://wandb.ai/overfit1010/finrl-dt-replicate/runs/zvkqngwt' target=\"_blank\">https://wandb.ai/overfit1010/finrl-dt-replicate/runs/zvkqngwt</a><br> View project at: <a href='https://wandb.ai/overfit1010/finrl-dt-replicate' target=\"_blank\">https://wandb.ai/overfit1010/finrl-dt-replicate</a><br>Synced 5 W&B file(s), 0 media file(s), 2 artifact file(s) and 0 other file(s)"
            ]
          },
          "metadata": {}
        },
        {
          "output_type": "display_data",
          "data": {
            "text/plain": [
              "<IPython.core.display.HTML object>"
            ],
            "text/html": [
              "Find logs at: <code>./wandb/run-20250112_120848-zvkqngwt/logs</code>"
            ]
          },
          "metadata": {}
        },
        {
          "output_type": "display_data",
          "data": {
            "text/plain": [
              "<IPython.core.display.HTML object>"
            ],
            "text/html": [
              "Tracking run with wandb version 0.19.1"
            ]
          },
          "metadata": {}
        },
        {
          "output_type": "display_data",
          "data": {
            "text/plain": [
              "<IPython.core.display.HTML object>"
            ],
            "text/html": [
              "Run data is saved locally in <code>/content/wandb/run-20250112_120932-n8squ0fj</code>"
            ]
          },
          "metadata": {}
        },
        {
          "output_type": "display_data",
          "data": {
            "text/plain": [
              "<IPython.core.display.HTML object>"
            ],
            "text/html": [
              "Resuming run <strong><a href='https://wandb.ai/overfit1010/finrl-dt-replicate/runs/n8squ0fj' target=\"_blank\">DOW-30 | 2009-01 | 2017 Q4 | 2018 Q1 | 6paSW</a></strong> to <a href='https://wandb.ai/overfit1010/finrl-dt-replicate' target=\"_blank\">Weights & Biases</a> (<a href='https://wandb.me/developer-guide' target=\"_blank\">docs</a>)<br>Sweep page: <a href='https://wandb.ai/overfit1010/finrl-dt-replicate/sweeps/k43io2uh' target=\"_blank\">https://wandb.ai/overfit1010/finrl-dt-replicate/sweeps/k43io2uh</a>"
            ]
          },
          "metadata": {}
        },
        {
          "output_type": "display_data",
          "data": {
            "text/plain": [
              "<IPython.core.display.HTML object>"
            ],
            "text/html": [
              " View project at <a href='https://wandb.ai/overfit1010/finrl-dt-replicate' target=\"_blank\">https://wandb.ai/overfit1010/finrl-dt-replicate</a>"
            ]
          },
          "metadata": {}
        },
        {
          "output_type": "display_data",
          "data": {
            "text/plain": [
              "<IPython.core.display.HTML object>"
            ],
            "text/html": [
              " View sweep at <a href='https://wandb.ai/overfit1010/finrl-dt-replicate/sweeps/k43io2uh' target=\"_blank\">https://wandb.ai/overfit1010/finrl-dt-replicate/sweeps/k43io2uh</a>"
            ]
          },
          "metadata": {}
        },
        {
          "output_type": "display_data",
          "data": {
            "text/plain": [
              "<IPython.core.display.HTML object>"
            ],
            "text/html": [
              " View run at <a href='https://wandb.ai/overfit1010/finrl-dt-replicate/runs/n8squ0fj' target=\"_blank\">https://wandb.ai/overfit1010/finrl-dt-replicate/runs/n8squ0fj</a>"
            ]
          },
          "metadata": {}
        },
        {
          "output_type": "stream",
          "name": "stdout",
          "text": [
            "True\n"
          ]
        },
        {
          "output_type": "stream",
          "name": "stderr",
          "text": [
            "\u001b[34m\u001b[1mwandb\u001b[0m:   3 of 3 files downloaded.  \n",
            "\u001b[34m\u001b[1mwandb\u001b[0m:   1 of 1 files downloaded.  \n",
            "\u001b[34m\u001b[1mwandb\u001b[0m:   2 of 2 files downloaded.  \n",
            "\u001b[34m\u001b[1mwandb\u001b[0m:   3 of 3 files downloaded.  \n",
            "\u001b[34m\u001b[1mwandb\u001b[0m:   4 of 4 files downloaded.  \n",
            "\u001b[34m\u001b[1mwandb\u001b[0m:   5 of 5 files downloaded.  \n",
            "\u001b[34m\u001b[1mwandb\u001b[0m:   1 of 1 files downloaded.  \n",
            "\u001b[34m\u001b[1mwandb\u001b[0m:   1 of 1 files downloaded.  \n",
            "\u001b[34m\u001b[1mwandb\u001b[0m:   1 of 1 files downloaded.  \n",
            "\u001b[34m\u001b[1mwandb\u001b[0m:   1 of 1 files downloaded.  \n",
            "\u001b[34m\u001b[1mwandb\u001b[0m:   1 of 1 files downloaded.  \n"
          ]
        },
        {
          "output_type": "stream",
          "name": "stdout",
          "text": [
            "Stock Dimension: 29, State Space: 291\n",
            "hit end!\n",
            "hit end!\n",
            "hit end!\n",
            "hit end!\n"
          ]
        },
        {
          "output_type": "stream",
          "name": "stderr",
          "text": [
            "\r[*********************100%***********************]  1 of 1 completed"
          ]
        },
        {
          "output_type": "stream",
          "name": "stdout",
          "text": [
            "hit end!\n",
            "\n",
            "2018-01-02 00:00:00\n",
            "2018-03-29 00:00:00\n",
            "Shape of DataFrame:  (60, 8)\n",
            "{'dataset_name': 'DOW-30 | 2009-01 | 2017 Q4 | 2018 Q1', 'if_using_ppo': True, 'if_using_a2c': True, 'if_using_td3': True, 'min_test_start_date': '2016-01-01', 'train_start_date': '2009-01-01', 'REFERENCE_PRICE_END_DATE': '2024-12-21', 'initial_amount': 50000, 'dataset_type': 'quarterly_train_val_test', 'cost_pct': [0.010314179718673032, 0.009076606561755468, 0.008307067100246136, 0.015516293581809112, 0.006395481989312903, 0.0072110283262062785, 0.04249566955190291, 0.015979716445954528, 0.021738725278835313, 0.004222453318177087, 0.005968143721526647, 0.010896151366589463, 0.01093735188446354, 0.11420864277075855, 0.01665255165637118, 0.010252194206940846, 0.03947813656400475, 0.008462643895002689, 0.01919729692524921, 0.024719550845968045, 0.005734449144229167, 0.03210832438433615, 0.014379031318205482, 0.00982580254909786, 0.0044498520553265045, 0.007984135151425499, 0.05881990501271046, 0.270946766931955, 0.026832260273111815], 'if_using_ddpg': True, 'finetune': False, 'stock_index_name': 'DOW-30', 'cost_abs': 2.5, 'if_using_sac': True, 'max_test_end_date': '2020-08-05', 'train_params': {'ddpg': {'steps': 50000}, 'a2c': {'steps': 50000}, 'ppo': {'steps': 200000}, 'sac': {'steps': 70000}, 'td3': {'steps': 50000}}, 'date_range': {'train_start_date': '2009-01-01 00:00:00', 'test_end_date': '2018-04-01 00:00:00', 'val_start_date': '2017-10-01 00:00:00', 'test_start_date': '2018-01-01 00:00:00'}, 'REFERNCE_PRICE_WINDOW_DAYS': 30}\n"
          ]
        },
        {
          "output_type": "stream",
          "name": "stderr",
          "text": [
            "\n"
          ]
        },
        {
          "output_type": "stream",
          "name": "stdout",
          "text": [
            "True\n",
            "log_metrics for a2c\n",
            "True\n",
            "DEBUG (test): run.id = n8squ0fj\n",
            "DEBUG (test): sharpe_ratios = {}\n",
            "DEBUG (test): updating best model based on sharpe_ratios: {}\n",
            "DEBUG (test): no models logged yet, new best model is current one: a2c\n",
            "DEBUG (test): wandb.run.config['sharpe_ratios'] = {'test': {}}\n",
            "log_metrics for best_model\n",
            "True\n",
            "log_metrics for ddpg\n",
            "True\n",
            "DEBUG (test): run.id = n8squ0fj\n",
            "DEBUG (test): sharpe_ratios = {'a2c': -1.9}\n",
            "DEBUG (test): updating best model based on sharpe_ratios: {'a2c': -1.9}\n",
            "DEBUG (test): -1.24 (ddpg) > -1.9 (a2c). New best model: ddpg.\n",
            "log_metrics for best_model\n",
            "True\n",
            "True\n",
            "log_metrics for td3\n",
            "True\n",
            "DEBUG (test): run.id = n8squ0fj\n",
            "DEBUG (test): sharpe_ratios = {'a2c': -1.9, 'ddpg': -1.24}\n",
            "DEBUG (test): updating best model based on sharpe_ratios: {'a2c': -1.9, 'ddpg': -1.24}\n",
            "DEBUG (test): -0.63 (td3) > -1.24 (ddpg). New best model: td3.\n",
            "log_metrics for best_model\n",
            "True\n",
            "True\n",
            "log_metrics for sac\n",
            "True\n",
            "DEBUG (test): run.id = n8squ0fj\n",
            "DEBUG (test): sharpe_ratios = {'a2c': -1.9, 'ddpg': -1.24, 'td3': -0.63}\n",
            "DEBUG (test): updating best model based on sharpe_ratios: {'a2c': -1.9, 'ddpg': -1.24, 'td3': -0.63}\n",
            "DEBUG (test): -0.75 (sac) <= -0.63 (td3). Not updating best model.\n",
            "log_metrics for ppo\n",
            "True\n",
            "DEBUG (test): run.id = n8squ0fj\n",
            "DEBUG (test): sharpe_ratios = {'a2c': -1.9, 'ddpg': -1.24, 'td3': -0.63, 'sac': -0.75}\n",
            "DEBUG (test): updating best model based on sharpe_ratios: {'a2c': -1.9, 'ddpg': -1.24, 'td3': -0.63, 'sac': -0.75}\n",
            "DEBUG (test): -1.06 (ppo) <= -0.63 (td3). Not updating best model.\n",
            "True\n",
            "True\n",
            "True\n",
            "DEBUG (CHOSEN): chosen_model_metrics: {'ann_return/ddpg': -23.72, 'cum_return/ddpg': -6.11, 'mdd/ddpg': -11.2, 'sharpe_ratio/ddpg': -1.07}\n",
            "DEBUG (CHOSEN): chosen_model_metrics: {'ann_return/chosen_model': -23.72, 'cum_return/chosen_model': -6.11, 'mdd/chosen_model': -11.2, 'sharpe_ratio/chosen_model': -1.07}\n",
            "True\n",
            "True\n",
            "log_plot_as_artifact\n"
          ]
        },
        {
          "output_type": "display_data",
          "data": {
            "text/plain": [
              "<IPython.core.display.HTML object>"
            ],
            "text/html": []
          },
          "metadata": {}
        },
        {
          "output_type": "display_data",
          "data": {
            "text/plain": [
              "<IPython.core.display.HTML object>"
            ],
            "text/html": [
              "<br>    <style><br>        .wandb-row {<br>            display: flex;<br>            flex-direction: row;<br>            flex-wrap: wrap;<br>            justify-content: flex-start;<br>            width: 100%;<br>        }<br>        .wandb-col {<br>            display: flex;<br>            flex-direction: column;<br>            flex-basis: 100%;<br>            flex: 1;<br>            padding: 10px;<br>        }<br>    </style><br><div class=\"wandb-row\"><div class=\"wandb-col\"><h3>Run summary:</h3><br/><table class=\"wandb\"><tr><td>best_model_name</td><td>a2c</td></tr><tr><td>test/ann_return/a2c</td><td>-45.68</td></tr><tr><td>test/ann_return/best_model</td><td>-45.68</td></tr><tr><td>test/ann_return/ddpg</td><td>-24.74</td></tr><tr><td>test/ann_return/ppo</td><td>-23.29</td></tr><tr><td>test/ann_return/sac</td><td>-17.35</td></tr><tr><td>test/ann_return/td3</td><td>-14.25</td></tr><tr><td>test/best_model_name</td><td>a2c</td></tr><tr><td>test/cum_return/a2c</td><td>-13.25</td></tr><tr><td>test/cum_return/best_model</td><td>-13.25</td></tr><tr><td>test/cum_return/ddpg</td><td>-6.41</td></tr><tr><td>test/cum_return/ppo</td><td>-5.99</td></tr><tr><td>test/cum_return/sac</td><td>-4.34</td></tr><tr><td>test/cum_return/td3</td><td>-3.52</td></tr><tr><td>test/mdd/a2c</td><td>-20.54</td></tr><tr><td>test/mdd/best_model</td><td>-20.54</td></tr><tr><td>test/mdd/ddpg</td><td>-11.48</td></tr><tr><td>test/mdd/ppo</td><td>-11.08</td></tr><tr><td>test/mdd/sac</td><td>-10.79</td></tr><tr><td>test/mdd/td3</td><td>-12.38</td></tr><tr><td>test/sharpe_ratio/a2c</td><td>-1.9</td></tr><tr><td>test/sharpe_ratio/best_model</td><td>-1.9</td></tr><tr><td>test/sharpe_ratio/ddpg</td><td>-1.24</td></tr><tr><td>test/sharpe_ratio/ppo</td><td>-1.06</td></tr><tr><td>test/sharpe_ratio/sac</td><td>-0.75</td></tr><tr><td>test/sharpe_ratio/td3</td><td>-0.63</td></tr></table><br/></div></div>"
            ]
          },
          "metadata": {}
        },
        {
          "output_type": "display_data",
          "data": {
            "text/plain": [
              "<IPython.core.display.HTML object>"
            ],
            "text/html": [
              " View run <strong style=\"color:#cdcd00\">DOW-30 | 2009-01 | 2017 Q4 | 2018 Q1 | 6paSW</strong> at: <a href='https://wandb.ai/overfit1010/finrl-dt-replicate/runs/n8squ0fj' target=\"_blank\">https://wandb.ai/overfit1010/finrl-dt-replicate/runs/n8squ0fj</a><br> View project at: <a href='https://wandb.ai/overfit1010/finrl-dt-replicate' target=\"_blank\">https://wandb.ai/overfit1010/finrl-dt-replicate</a><br>Synced 5 W&B file(s), 0 media file(s), 2 artifact file(s) and 0 other file(s)"
            ]
          },
          "metadata": {}
        },
        {
          "output_type": "display_data",
          "data": {
            "text/plain": [
              "<IPython.core.display.HTML object>"
            ],
            "text/html": [
              "Find logs at: <code>./wandb/run-20250112_120932-n8squ0fj/logs</code>"
            ]
          },
          "metadata": {}
        },
        {
          "output_type": "display_data",
          "data": {
            "text/plain": [
              "<IPython.core.display.HTML object>"
            ],
            "text/html": [
              "Tracking run with wandb version 0.19.1"
            ]
          },
          "metadata": {}
        },
        {
          "output_type": "display_data",
          "data": {
            "text/plain": [
              "<IPython.core.display.HTML object>"
            ],
            "text/html": [
              "Run data is saved locally in <code>/content/wandb/run-20250112_121012-5wfrad9m</code>"
            ]
          },
          "metadata": {}
        },
        {
          "output_type": "display_data",
          "data": {
            "text/plain": [
              "<IPython.core.display.HTML object>"
            ],
            "text/html": [
              "Resuming run <strong><a href='https://wandb.ai/overfit1010/finrl-dt-replicate/runs/5wfrad9m' target=\"_blank\">DOW-30 | 2009-01 | 2017 Q3 | 2017 Q4 | Qk6uh</a></strong> to <a href='https://wandb.ai/overfit1010/finrl-dt-replicate' target=\"_blank\">Weights & Biases</a> (<a href='https://wandb.me/developer-guide' target=\"_blank\">docs</a>)<br>Sweep page: <a href='https://wandb.ai/overfit1010/finrl-dt-replicate/sweeps/k43io2uh' target=\"_blank\">https://wandb.ai/overfit1010/finrl-dt-replicate/sweeps/k43io2uh</a>"
            ]
          },
          "metadata": {}
        },
        {
          "output_type": "display_data",
          "data": {
            "text/plain": [
              "<IPython.core.display.HTML object>"
            ],
            "text/html": [
              " View project at <a href='https://wandb.ai/overfit1010/finrl-dt-replicate' target=\"_blank\">https://wandb.ai/overfit1010/finrl-dt-replicate</a>"
            ]
          },
          "metadata": {}
        },
        {
          "output_type": "display_data",
          "data": {
            "text/plain": [
              "<IPython.core.display.HTML object>"
            ],
            "text/html": [
              " View sweep at <a href='https://wandb.ai/overfit1010/finrl-dt-replicate/sweeps/k43io2uh' target=\"_blank\">https://wandb.ai/overfit1010/finrl-dt-replicate/sweeps/k43io2uh</a>"
            ]
          },
          "metadata": {}
        },
        {
          "output_type": "display_data",
          "data": {
            "text/plain": [
              "<IPython.core.display.HTML object>"
            ],
            "text/html": [
              " View run at <a href='https://wandb.ai/overfit1010/finrl-dt-replicate/runs/5wfrad9m' target=\"_blank\">https://wandb.ai/overfit1010/finrl-dt-replicate/runs/5wfrad9m</a>"
            ]
          },
          "metadata": {}
        },
        {
          "output_type": "stream",
          "name": "stdout",
          "text": [
            "True\n"
          ]
        },
        {
          "output_type": "stream",
          "name": "stderr",
          "text": [
            "\u001b[34m\u001b[1mwandb\u001b[0m:   3 of 3 files downloaded.  \n",
            "\u001b[34m\u001b[1mwandb\u001b[0m:   1 of 1 files downloaded.  \n",
            "\u001b[34m\u001b[1mwandb\u001b[0m:   2 of 2 files downloaded.  \n",
            "\u001b[34m\u001b[1mwandb\u001b[0m:   3 of 3 files downloaded.  \n",
            "\u001b[34m\u001b[1mwandb\u001b[0m:   4 of 4 files downloaded.  \n",
            "\u001b[34m\u001b[1mwandb\u001b[0m:   5 of 5 files downloaded.  \n",
            "\u001b[34m\u001b[1mwandb\u001b[0m:   1 of 1 files downloaded.  \n",
            "\u001b[34m\u001b[1mwandb\u001b[0m:   1 of 1 files downloaded.  \n",
            "\u001b[34m\u001b[1mwandb\u001b[0m:   1 of 1 files downloaded.  \n",
            "\u001b[34m\u001b[1mwandb\u001b[0m:   1 of 1 files downloaded.  \n",
            "\u001b[34m\u001b[1mwandb\u001b[0m:   1 of 1 files downloaded.  \n"
          ]
        },
        {
          "output_type": "stream",
          "name": "stdout",
          "text": [
            "Stock Dimension: 29, State Space: 291\n",
            "hit end!\n",
            "hit end!\n",
            "hit end!\n",
            "hit end!\n"
          ]
        },
        {
          "output_type": "stream",
          "name": "stderr",
          "text": [
            "\r[*********************100%***********************]  1 of 1 completed"
          ]
        },
        {
          "output_type": "stream",
          "name": "stdout",
          "text": [
            "hit end!\n",
            "\n",
            "2017-10-02 00:00:00\n",
            "2017-12-29 00:00:00\n",
            "Shape of DataFrame:  (62, 8)\n",
            "{'initial_amount': 50000, 'if_using_ddpg': True, 'if_using_td3': True, 'dataset_name': 'DOW-30 | 2009-01 | 2017 Q3 | 2017 Q4', 'REFERENCE_PRICE_END_DATE': '2024-12-21', 'if_using_ppo': True, 'train_params': {'ddpg': {'steps': 50000}, 'a2c': {'steps': 50000}, 'ppo': {'steps': 200000}, 'sac': {'steps': 70000}, 'td3': {'steps': 50000}}, 'train_start_date': '2009-01-01', 'finetune': False, 'if_using_sac': True, 'if_using_a2c': True, 'cost_abs': 2.5, 'dataset_type': 'quarterly_train_val_test', 'cost_pct': [0.010314179718673032, 0.009076606561755468, 0.008307067100246136, 0.015516293581809112, 0.006395481989312903, 0.0072110283262062785, 0.04249566955190291, 0.015979716445954528, 0.021738725278835313, 0.004222453318177087, 0.005968143721526647, 0.010896151366589463, 0.01093735188446354, 0.11420864277075855, 0.01665255165637118, 0.010252194206940846, 0.03947813656400475, 0.008462643895002689, 0.01919729692524921, 0.024719550845968045, 0.005734449144229167, 0.03210832438433615, 0.014379031318205482, 0.00982580254909786, 0.0044498520553265045, 0.007984135151425499, 0.05881990501271046, 0.270946766931955, 0.026832260273111815], 'stock_index_name': 'DOW-30', 'REFERNCE_PRICE_WINDOW_DAYS': 30, 'min_test_start_date': '2016-01-01', 'date_range': {'test_end_date': '2018-01-01 00:00:00', 'val_start_date': '2017-07-01 00:00:00', 'test_start_date': '2017-10-01 00:00:00', 'train_start_date': '2009-01-01 00:00:00'}, 'max_test_end_date': '2020-08-05'}\n"
          ]
        },
        {
          "output_type": "stream",
          "name": "stderr",
          "text": [
            "\n"
          ]
        },
        {
          "output_type": "stream",
          "name": "stdout",
          "text": [
            "True\n",
            "log_metrics for a2c\n",
            "True\n",
            "DEBUG (test): run.id = 5wfrad9m\n",
            "DEBUG (test): sharpe_ratios = {}\n",
            "DEBUG (test): updating best model based on sharpe_ratios: {}\n",
            "DEBUG (test): no models logged yet, new best model is current one: a2c\n",
            "DEBUG (test): wandb.run.config['sharpe_ratios'] = {'test': {}}\n",
            "log_metrics for best_model\n",
            "True\n",
            "log_metrics for ddpg\n",
            "True\n",
            "DEBUG (test): run.id = 5wfrad9m\n",
            "DEBUG (test): sharpe_ratios = {'a2c': 2.25}\n",
            "DEBUG (test): updating best model based on sharpe_ratios: {'a2c': 2.25}\n",
            "DEBUG (test): 1.76 (ddpg) <= 2.25 (a2c). Not updating best model.\n",
            "log_metrics for td3\n",
            "True\n",
            "DEBUG (test): run.id = 5wfrad9m\n",
            "DEBUG (test): sharpe_ratios = {'a2c': 2.25, 'ddpg': 1.76}\n",
            "DEBUG (test): updating best model based on sharpe_ratios: {'a2c': 2.25, 'ddpg': 1.76}\n",
            "DEBUG (test): 3.11 (td3) > 2.25 (a2c). New best model: td3.\n",
            "log_metrics for best_model\n",
            "True\n",
            "True\n",
            "log_metrics for sac\n",
            "True\n",
            "DEBUG (test): run.id = 5wfrad9m\n",
            "DEBUG (test): sharpe_ratios = {'a2c': 2.25, 'ddpg': 1.76, 'td3': 3.11}\n",
            "DEBUG (test): updating best model based on sharpe_ratios: {'a2c': 2.25, 'ddpg': 1.76, 'td3': 3.11}\n",
            "DEBUG (test): 4.09 (sac) > 3.11 (td3). New best model: sac.\n",
            "log_metrics for best_model\n",
            "True\n",
            "True\n",
            "log_metrics for ppo\n",
            "True\n",
            "DEBUG (test): run.id = 5wfrad9m\n",
            "DEBUG (test): sharpe_ratios = {'a2c': 2.25, 'ddpg': 1.76, 'td3': 3.11, 'sac': 4.09}\n",
            "DEBUG (test): updating best model based on sharpe_ratios: {'a2c': 2.25, 'ddpg': 1.76, 'td3': 3.11, 'sac': 4.09}\n",
            "DEBUG (test): 1.33 (ppo) <= 4.09 (sac). Not updating best model.\n",
            "True\n",
            "True\n",
            "True\n",
            "DEBUG (CHOSEN): chosen_model_metrics: {'ann_return/td3': 33.54, 'cum_return/td3': 7.14, 'mdd/td3': -2.41, 'sharpe_ratio/td3': 3.11}\n",
            "DEBUG (CHOSEN): chosen_model_metrics: {'ann_return/chosen_model': 33.54, 'cum_return/chosen_model': 7.14, 'mdd/chosen_model': -2.41, 'sharpe_ratio/chosen_model': 3.11}\n",
            "True\n",
            "True\n",
            "log_plot_as_artifact\n"
          ]
        },
        {
          "output_type": "display_data",
          "data": {
            "text/plain": [
              "<IPython.core.display.HTML object>"
            ],
            "text/html": []
          },
          "metadata": {}
        },
        {
          "output_type": "display_data",
          "data": {
            "text/plain": [
              "<IPython.core.display.HTML object>"
            ],
            "text/html": [
              "<br>    <style><br>        .wandb-row {<br>            display: flex;<br>            flex-direction: row;<br>            flex-wrap: wrap;<br>            justify-content: flex-start;<br>            width: 100%;<br>        }<br>        .wandb-col {<br>            display: flex;<br>            flex-direction: column;<br>            flex-basis: 100%;<br>            flex: 1;<br>            padding: 10px;<br>        }<br>    </style><br><div class=\"wandb-row\"><div class=\"wandb-col\"><h3>Run summary:</h3><br/><table class=\"wandb\"><tr><td>best_model_name</td><td>a2c</td></tr><tr><td>test/ann_return/a2c</td><td>27.08</td></tr><tr><td>test/ann_return/best_model</td><td>39.31</td></tr><tr><td>test/ann_return/ddpg</td><td>23.05</td></tr><tr><td>test/ann_return/ppo</td><td>14.03</td></tr><tr><td>test/ann_return/sac</td><td>39.31</td></tr><tr><td>test/ann_return/td3</td><td>33.54</td></tr><tr><td>test/best_model_name</td><td>sac</td></tr><tr><td>test/cum_return/a2c</td><td>5.88</td></tr><tr><td>test/cum_return/best_model</td><td>8.22</td></tr><tr><td>test/cum_return/ddpg</td><td>5.07</td></tr><tr><td>test/cum_return/ppo</td><td>3.18</td></tr><tr><td>test/cum_return/sac</td><td>8.22</td></tr><tr><td>test/cum_return/td3</td><td>7.14</td></tr><tr><td>test/mdd/a2c</td><td>-2.29</td></tr><tr><td>test/mdd/best_model</td><td>-1.58</td></tr><tr><td>test/mdd/ddpg</td><td>-3.76</td></tr><tr><td>test/mdd/ppo</td><td>-3.12</td></tr><tr><td>test/mdd/sac</td><td>-1.58</td></tr><tr><td>test/mdd/td3</td><td>-2.41</td></tr><tr><td>test/sharpe_ratio/a2c</td><td>2.25</td></tr><tr><td>test/sharpe_ratio/best_model</td><td>4.09</td></tr><tr><td>test/sharpe_ratio/ddpg</td><td>1.76</td></tr><tr><td>test/sharpe_ratio/ppo</td><td>1.33</td></tr><tr><td>test/sharpe_ratio/sac</td><td>4.09</td></tr><tr><td>test/sharpe_ratio/td3</td><td>3.11</td></tr></table><br/></div></div>"
            ]
          },
          "metadata": {}
        },
        {
          "output_type": "display_data",
          "data": {
            "text/plain": [
              "<IPython.core.display.HTML object>"
            ],
            "text/html": [
              " View run <strong style=\"color:#cdcd00\">DOW-30 | 2009-01 | 2017 Q3 | 2017 Q4 | Qk6uh</strong> at: <a href='https://wandb.ai/overfit1010/finrl-dt-replicate/runs/5wfrad9m' target=\"_blank\">https://wandb.ai/overfit1010/finrl-dt-replicate/runs/5wfrad9m</a><br> View project at: <a href='https://wandb.ai/overfit1010/finrl-dt-replicate' target=\"_blank\">https://wandb.ai/overfit1010/finrl-dt-replicate</a><br>Synced 5 W&B file(s), 0 media file(s), 2 artifact file(s) and 0 other file(s)"
            ]
          },
          "metadata": {}
        },
        {
          "output_type": "display_data",
          "data": {
            "text/plain": [
              "<IPython.core.display.HTML object>"
            ],
            "text/html": [
              "Find logs at: <code>./wandb/run-20250112_121012-5wfrad9m/logs</code>"
            ]
          },
          "metadata": {}
        },
        {
          "output_type": "stream",
          "name": "stdout",
          "text": [
            "True\n",
            "True\n",
            "True\n",
            "True\n",
            "True\n",
            "True\n",
            "True\n"
          ]
        },
        {
          "output_type": "display_data",
          "data": {
            "text/plain": [
              "<IPython.core.display.HTML object>"
            ],
            "text/html": [
              "Tracking run with wandb version 0.19.1"
            ]
          },
          "metadata": {}
        },
        {
          "output_type": "display_data",
          "data": {
            "text/plain": [
              "<IPython.core.display.HTML object>"
            ],
            "text/html": [
              "Run data is saved locally in <code>/content/wandb/run-20250112_121055-7kz7hrod</code>"
            ]
          },
          "metadata": {}
        },
        {
          "output_type": "display_data",
          "data": {
            "text/plain": [
              "<IPython.core.display.HTML object>"
            ],
            "text/html": [
              "Resuming run <strong><a href='https://wandb.ai/overfit1010/finrl-dt-replicate/runs/7kz7hrod' target=\"_blank\">DOW-30 | 2009-01 | 2017 Q2 | 2017 Q3 | 5dRda</a></strong> to <a href='https://wandb.ai/overfit1010/finrl-dt-replicate' target=\"_blank\">Weights & Biases</a> (<a href='https://wandb.me/developer-guide' target=\"_blank\">docs</a>)<br>Sweep page: <a href='https://wandb.ai/overfit1010/finrl-dt-replicate/sweeps/k43io2uh' target=\"_blank\">https://wandb.ai/overfit1010/finrl-dt-replicate/sweeps/k43io2uh</a>"
            ]
          },
          "metadata": {}
        },
        {
          "output_type": "display_data",
          "data": {
            "text/plain": [
              "<IPython.core.display.HTML object>"
            ],
            "text/html": [
              " View project at <a href='https://wandb.ai/overfit1010/finrl-dt-replicate' target=\"_blank\">https://wandb.ai/overfit1010/finrl-dt-replicate</a>"
            ]
          },
          "metadata": {}
        },
        {
          "output_type": "display_data",
          "data": {
            "text/plain": [
              "<IPython.core.display.HTML object>"
            ],
            "text/html": [
              " View sweep at <a href='https://wandb.ai/overfit1010/finrl-dt-replicate/sweeps/k43io2uh' target=\"_blank\">https://wandb.ai/overfit1010/finrl-dt-replicate/sweeps/k43io2uh</a>"
            ]
          },
          "metadata": {}
        },
        {
          "output_type": "display_data",
          "data": {
            "text/plain": [
              "<IPython.core.display.HTML object>"
            ],
            "text/html": [
              " View run at <a href='https://wandb.ai/overfit1010/finrl-dt-replicate/runs/7kz7hrod' target=\"_blank\">https://wandb.ai/overfit1010/finrl-dt-replicate/runs/7kz7hrod</a>"
            ]
          },
          "metadata": {}
        },
        {
          "output_type": "stream",
          "name": "stdout",
          "text": [
            "True\n"
          ]
        },
        {
          "output_type": "stream",
          "name": "stderr",
          "text": [
            "\u001b[34m\u001b[1mwandb\u001b[0m: \\ 1 of 3 files downloaded...\r\u001b[34m\u001b[1mwandb\u001b[0m:   3 of 3 files downloaded.  \n",
            "\u001b[34m\u001b[1mwandb\u001b[0m:   1 of 1 files downloaded.  \n",
            "\u001b[34m\u001b[1mwandb\u001b[0m:   5 of 5 files downloaded.  \n",
            "\u001b[34m\u001b[1mwandb\u001b[0m:   1 of 1 files downloaded.  \n",
            "\u001b[34m\u001b[1mwandb\u001b[0m:   1 of 1 files downloaded.  \n",
            "\u001b[34m\u001b[1mwandb\u001b[0m:   1 of 1 files downloaded.  \n",
            "\u001b[34m\u001b[1mwandb\u001b[0m:   1 of 1 files downloaded.  \n",
            "\u001b[34m\u001b[1mwandb\u001b[0m:   1 of 1 files downloaded.  \n"
          ]
        },
        {
          "output_type": "stream",
          "name": "stdout",
          "text": [
            "Stock Dimension: 29, State Space: 291\n",
            "hit end!\n",
            "hit end!\n",
            "hit end!\n",
            "hit end!\n"
          ]
        },
        {
          "output_type": "stream",
          "name": "stderr",
          "text": [
            "\r[*********************100%***********************]  1 of 1 completed"
          ]
        },
        {
          "output_type": "stream",
          "name": "stdout",
          "text": [
            "hit end!\n",
            "\n",
            "2017-07-03 00:00:00\n",
            "2017-09-29 00:00:00\n",
            "Shape of DataFrame:  (62, 8)\n",
            "{'if_using_td3': True, 'dataset_type': 'quarterly_train_val_test', 'REFERNCE_PRICE_WINDOW_DAYS': 30, 'train_params': {'a2c': {'steps': 50000}, 'ppo': {'steps': 200000}, 'sac': {'steps': 70000}, 'td3': {'steps': 50000}, 'ddpg': {'steps': 50000}}, 'finetune': True, 'if_using_a2c': True, 'cost_abs': 2.5, 'if_using_sac': True, 'train_start_date': '2009-01-01', 'if_using_ppo': True, 'stock_index_name': 'DOW-30', 'if_using_ddpg': True, 'initial_amount': 50000, 'max_test_end_date': '2020-08-05', 'cost_pct': [0.010314179718673032, 0.009076606561755468, 0.008307067100246136, 0.015516293581809112, 0.006395481989312903, 0.0072110283262062785, 0.04249566955190291, 0.015979716445954528, 0.021738725278835313, 0.004222453318177087, 0.005968143721526647, 0.010896151366589463, 0.01093735188446354, 0.11420864277075855, 0.01665255165637118, 0.010252194206940846, 0.03947813656400475, 0.008462643895002689, 0.01919729692524921, 0.024719550845968045, 0.005734449144229167, 0.03210832438433615, 0.014379031318205482, 0.00982580254909786, 0.0044498520553265045, 0.007984135151425499, 0.05881990501271046, 0.270946766931955, 0.026832260273111815], 'REFERENCE_PRICE_END_DATE': '2024-12-21', 'date_range': {'train_start_date': '2009-01-01 00:00:00', 'test_end_date': '2017-10-01 00:00:00', 'val_start_date': '2017-04-01 00:00:00', 'test_start_date': '2017-07-01 00:00:00'}, 'min_test_start_date': '2016-01-01', 'dataset_name': 'DOW-30 | 2009-01 | 2017 Q2 | 2017 Q3'}\n"
          ]
        },
        {
          "output_type": "stream",
          "name": "stderr",
          "text": [
            "\n"
          ]
        },
        {
          "output_type": "stream",
          "name": "stdout",
          "text": [
            "True\n",
            "log_metrics for a2c\n",
            "True\n",
            "DEBUG (test): run.id = 7kz7hrod\n",
            "DEBUG (test): sharpe_ratios = {}\n",
            "DEBUG (test): updating best model based on sharpe_ratios: {}\n",
            "DEBUG (test): no models logged yet, new best model is current one: a2c\n",
            "DEBUG (test): wandb.run.config['sharpe_ratios'] = {'test': {}}\n",
            "log_metrics for best_model\n",
            "True\n",
            "log_metrics for ddpg\n",
            "True\n",
            "DEBUG (test): run.id = 7kz7hrod\n",
            "DEBUG (test): sharpe_ratios = {'a2c': 1.51}\n",
            "DEBUG (test): updating best model based on sharpe_ratios: {'a2c': 1.51}\n",
            "DEBUG (test): 4.91 (ddpg) > 1.51 (a2c). New best model: ddpg.\n",
            "log_metrics for best_model\n",
            "True\n",
            "True\n",
            "log_metrics for td3\n",
            "True\n",
            "DEBUG (test): run.id = 7kz7hrod\n",
            "DEBUG (test): sharpe_ratios = {'a2c': 1.51, 'ddpg': 4.91}\n",
            "DEBUG (test): updating best model based on sharpe_ratios: {'a2c': 1.51, 'ddpg': 4.91}\n",
            "DEBUG (test): -1.16 (td3) <= 4.91 (ddpg). Not updating best model.\n",
            "log_metrics for sac\n",
            "True\n",
            "DEBUG (test): run.id = 7kz7hrod\n",
            "DEBUG (test): sharpe_ratios = {'a2c': 1.51, 'ddpg': 4.91, 'td3': -1.16}\n",
            "DEBUG (test): updating best model based on sharpe_ratios: {'a2c': 1.51, 'ddpg': 4.91, 'td3': -1.16}\n",
            "DEBUG (test): 1.13 (sac) <= 4.91 (ddpg). Not updating best model.\n",
            "log_metrics for ppo\n",
            "True\n",
            "DEBUG (test): run.id = 7kz7hrod\n",
            "DEBUG (test): sharpe_ratios = {'a2c': 1.51, 'ddpg': 4.91, 'td3': -1.16, 'sac': 1.13}\n",
            "DEBUG (test): updating best model based on sharpe_ratios: {'a2c': 1.51, 'ddpg': 4.91, 'td3': -1.16, 'sac': 1.13}\n",
            "DEBUG (test): 1.64 (ppo) <= 4.91 (ddpg). Not updating best model.\n",
            "True\n",
            "True\n",
            "True\n",
            "DEBUG (CHOSEN): chosen_model_metrics: {'ann_return/ppo': 16.7, 'cum_return/ppo': 3.75, 'mdd/ppo': -2.53, 'sharpe_ratio/ppo': 1.64}\n",
            "DEBUG (CHOSEN): chosen_model_metrics: {'ann_return/chosen_model': 16.7, 'cum_return/chosen_model': 3.75, 'mdd/chosen_model': -2.53, 'sharpe_ratio/chosen_model': 1.64}\n",
            "True\n",
            "True\n",
            "log_plot_as_artifact\n"
          ]
        },
        {
          "output_type": "display_data",
          "data": {
            "text/plain": [
              "<IPython.core.display.HTML object>"
            ],
            "text/html": []
          },
          "metadata": {}
        },
        {
          "output_type": "display_data",
          "data": {
            "text/plain": [
              "<IPython.core.display.HTML object>"
            ],
            "text/html": [
              "<br>    <style><br>        .wandb-row {<br>            display: flex;<br>            flex-direction: row;<br>            flex-wrap: wrap;<br>            justify-content: flex-start;<br>            width: 100%;<br>        }<br>        .wandb-col {<br>            display: flex;<br>            flex-direction: column;<br>            flex-basis: 100%;<br>            flex: 1;<br>            padding: 10px;<br>        }<br>    </style><br><div class=\"wandb-row\"><div class=\"wandb-col\"><h3>Run summary:</h3><br/><table class=\"wandb\"><tr><td>best_model_name</td><td>a2c</td></tr><tr><td>test/ann_return/a2c</td><td>15.42</td></tr><tr><td>test/ann_return/best_model</td><td>71.61</td></tr><tr><td>test/ann_return/ddpg</td><td>71.61</td></tr><tr><td>test/ann_return/ppo</td><td>16.7</td></tr><tr><td>test/ann_return/sac</td><td>12.02</td></tr><tr><td>test/ann_return/td3</td><td>-14.36</td></tr><tr><td>test/best_model_name</td><td>ddpg</td></tr><tr><td>test/cum_return/a2c</td><td>3.48</td></tr><tr><td>test/cum_return/best_model</td><td>13.74</td></tr><tr><td>test/cum_return/ddpg</td><td>13.74</td></tr><tr><td>test/cum_return/ppo</td><td>3.75</td></tr><tr><td>test/cum_return/sac</td><td>2.74</td></tr><tr><td>test/cum_return/td3</td><td>-3.63</td></tr><tr><td>test/mdd/a2c</td><td>-2.88</td></tr><tr><td>test/mdd/best_model</td><td>-2.71</td></tr><tr><td>test/mdd/ddpg</td><td>-2.71</td></tr><tr><td>test/mdd/ppo</td><td>-2.53</td></tr><tr><td>test/mdd/sac</td><td>-4.31</td></tr><tr><td>test/mdd/td3</td><td>-5.84</td></tr><tr><td>test/sharpe_ratio/a2c</td><td>1.51</td></tr><tr><td>test/sharpe_ratio/best_model</td><td>4.91</td></tr><tr><td>test/sharpe_ratio/ddpg</td><td>4.91</td></tr><tr><td>test/sharpe_ratio/ppo</td><td>1.64</td></tr><tr><td>test/sharpe_ratio/sac</td><td>1.13</td></tr><tr><td>test/sharpe_ratio/td3</td><td>-1.16</td></tr></table><br/></div></div>"
            ]
          },
          "metadata": {}
        },
        {
          "output_type": "display_data",
          "data": {
            "text/plain": [
              "<IPython.core.display.HTML object>"
            ],
            "text/html": [
              " View run <strong style=\"color:#cdcd00\">DOW-30 | 2009-01 | 2017 Q2 | 2017 Q3 | 5dRda</strong> at: <a href='https://wandb.ai/overfit1010/finrl-dt-replicate/runs/7kz7hrod' target=\"_blank\">https://wandb.ai/overfit1010/finrl-dt-replicate/runs/7kz7hrod</a><br> View project at: <a href='https://wandb.ai/overfit1010/finrl-dt-replicate' target=\"_blank\">https://wandb.ai/overfit1010/finrl-dt-replicate</a><br>Synced 5 W&B file(s), 0 media file(s), 2 artifact file(s) and 0 other file(s)"
            ]
          },
          "metadata": {}
        },
        {
          "output_type": "display_data",
          "data": {
            "text/plain": [
              "<IPython.core.display.HTML object>"
            ],
            "text/html": [
              "Find logs at: <code>./wandb/run-20250112_121055-7kz7hrod/logs</code>"
            ]
          },
          "metadata": {}
        },
        {
          "output_type": "display_data",
          "data": {
            "text/plain": [
              "<IPython.core.display.HTML object>"
            ],
            "text/html": [
              "Tracking run with wandb version 0.19.1"
            ]
          },
          "metadata": {}
        },
        {
          "output_type": "display_data",
          "data": {
            "text/plain": [
              "<IPython.core.display.HTML object>"
            ],
            "text/html": [
              "Run data is saved locally in <code>/content/wandb/run-20250112_121136-7ckhysh8</code>"
            ]
          },
          "metadata": {}
        },
        {
          "output_type": "display_data",
          "data": {
            "text/plain": [
              "<IPython.core.display.HTML object>"
            ],
            "text/html": [
              "Resuming run <strong><a href='https://wandb.ai/overfit1010/finrl-dt-replicate/runs/7ckhysh8' target=\"_blank\">DOW-30 | 2009-01 | 2017 Q1 | 2017 Q2 | N9uo1</a></strong> to <a href='https://wandb.ai/overfit1010/finrl-dt-replicate' target=\"_blank\">Weights & Biases</a> (<a href='https://wandb.me/developer-guide' target=\"_blank\">docs</a>)<br>Sweep page: <a href='https://wandb.ai/overfit1010/finrl-dt-replicate/sweeps/k43io2uh' target=\"_blank\">https://wandb.ai/overfit1010/finrl-dt-replicate/sweeps/k43io2uh</a>"
            ]
          },
          "metadata": {}
        },
        {
          "output_type": "display_data",
          "data": {
            "text/plain": [
              "<IPython.core.display.HTML object>"
            ],
            "text/html": [
              " View project at <a href='https://wandb.ai/overfit1010/finrl-dt-replicate' target=\"_blank\">https://wandb.ai/overfit1010/finrl-dt-replicate</a>"
            ]
          },
          "metadata": {}
        },
        {
          "output_type": "display_data",
          "data": {
            "text/plain": [
              "<IPython.core.display.HTML object>"
            ],
            "text/html": [
              " View sweep at <a href='https://wandb.ai/overfit1010/finrl-dt-replicate/sweeps/k43io2uh' target=\"_blank\">https://wandb.ai/overfit1010/finrl-dt-replicate/sweeps/k43io2uh</a>"
            ]
          },
          "metadata": {}
        },
        {
          "output_type": "display_data",
          "data": {
            "text/plain": [
              "<IPython.core.display.HTML object>"
            ],
            "text/html": [
              " View run at <a href='https://wandb.ai/overfit1010/finrl-dt-replicate/runs/7ckhysh8' target=\"_blank\">https://wandb.ai/overfit1010/finrl-dt-replicate/runs/7ckhysh8</a>"
            ]
          },
          "metadata": {}
        },
        {
          "output_type": "stream",
          "name": "stdout",
          "text": [
            "True\n"
          ]
        },
        {
          "output_type": "stream",
          "name": "stderr",
          "text": [
            "\u001b[34m\u001b[1mwandb\u001b[0m:   3 of 3 files downloaded.  \n",
            "\u001b[34m\u001b[1mwandb\u001b[0m:   5 of 5 files downloaded.  \n",
            "\u001b[34m\u001b[1mwandb\u001b[0m:   5 of 5 files downloaded.  \n",
            "\u001b[34m\u001b[1mwandb\u001b[0m:   5 of 5 files downloaded.  \n",
            "\u001b[34m\u001b[1mwandb\u001b[0m:   5 of 5 files downloaded.  \n",
            "\u001b[34m\u001b[1mwandb\u001b[0m:   5 of 5 files downloaded.  \n",
            "\u001b[34m\u001b[1mwandb\u001b[0m:   1 of 1 files downloaded.  \n",
            "\u001b[34m\u001b[1mwandb\u001b[0m:   1 of 1 files downloaded.  \n",
            "\u001b[34m\u001b[1mwandb\u001b[0m:   1 of 1 files downloaded.  \n",
            "\u001b[34m\u001b[1mwandb\u001b[0m:   1 of 1 files downloaded.  \n",
            "\u001b[34m\u001b[1mwandb\u001b[0m:   1 of 1 files downloaded.  \n"
          ]
        },
        {
          "output_type": "stream",
          "name": "stdout",
          "text": [
            "Stock Dimension: 29, State Space: 291\n",
            "hit end!\n",
            "hit end!\n",
            "hit end!\n",
            "hit end!\n"
          ]
        },
        {
          "output_type": "stream",
          "name": "stderr",
          "text": [
            "\r[*********************100%***********************]  1 of 1 completed"
          ]
        },
        {
          "output_type": "stream",
          "name": "stdout",
          "text": [
            "hit end!\n",
            "\n",
            "2017-04-03 00:00:00\n",
            "2017-06-30 00:00:00\n",
            "Shape of DataFrame:  (62, 8)\n",
            "{'date_range': {'test_end_date': '2017-07-01 00:00:00', 'val_start_date': '2017-01-01 00:00:00', 'test_start_date': '2017-04-01 00:00:00', 'train_start_date': '2009-01-01 00:00:00'}, 'REFERNCE_PRICE_WINDOW_DAYS': 30, 'train_start_date': '2009-01-01', 'dataset_type': 'quarterly_train_val_test', 'REFERENCE_PRICE_END_DATE': '2024-12-21', 'if_using_ppo': True, 'finetune': True, 'if_using_td3': True, 'if_using_a2c': True, 'min_test_start_date': '2016-01-01', 'train_params': {'ppo': {'steps': 200000}, 'sac': {'steps': 70000}, 'td3': {'steps': 50000}, 'ddpg': {'steps': 50000}, 'a2c': {'steps': 50000}}, 'if_using_ddpg': True, 'cost_abs': 2.5, 'initial_amount': 50000, 'stock_index_name': 'DOW-30', 'if_using_sac': True, 'cost_pct': [0.010314179718673032, 0.009076606561755468, 0.008307067100246136, 0.015516293581809112, 0.006395481989312903, 0.0072110283262062785, 0.04249566955190291, 0.015979716445954528, 0.021738725278835313, 0.004222453318177087, 0.005968143721526647, 0.010896151366589463, 0.01093735188446354, 0.11420864277075855, 0.01665255165637118, 0.010252194206940846, 0.03947813656400475, 0.008462643895002689, 0.01919729692524921, 0.024719550845968045, 0.005734449144229167, 0.03210832438433615, 0.014379031318205482, 0.00982580254909786, 0.0044498520553265045, 0.007984135151425499, 0.05881990501271046, 0.270946766931955, 0.026832260273111815], 'dataset_name': 'DOW-30 | 2009-01 | 2017 Q1 | 2017 Q2', 'max_test_end_date': '2020-08-05'}\n"
          ]
        },
        {
          "output_type": "stream",
          "name": "stderr",
          "text": [
            "\n"
          ]
        },
        {
          "output_type": "stream",
          "name": "stdout",
          "text": [
            "True\n",
            "log_metrics for a2c\n",
            "True\n",
            "DEBUG (test): run.id = 7ckhysh8\n",
            "DEBUG (test): sharpe_ratios = {}\n",
            "DEBUG (test): updating best model based on sharpe_ratios: {}\n",
            "DEBUG (test): no models logged yet, new best model is current one: a2c\n",
            "DEBUG (test): wandb.run.config['sharpe_ratios'] = {'test': {}}\n",
            "log_metrics for best_model\n",
            "True\n",
            "log_metrics for ddpg\n",
            "True\n",
            "DEBUG (test): run.id = 7ckhysh8\n",
            "DEBUG (test): sharpe_ratios = {'a2c': 2.97}\n",
            "DEBUG (test): updating best model based on sharpe_ratios: {'a2c': 2.97}\n",
            "DEBUG (test): 2.72 (ddpg) <= 2.97 (a2c). Not updating best model.\n",
            "log_metrics for td3\n",
            "True\n",
            "DEBUG (test): run.id = 7ckhysh8\n",
            "DEBUG (test): sharpe_ratios = {'a2c': 2.97, 'ddpg': 2.72}\n",
            "DEBUG (test): updating best model based on sharpe_ratios: {'a2c': 2.97, 'ddpg': 2.72}\n",
            "DEBUG (test): -3.06 (td3) <= 2.97 (a2c). Not updating best model.\n",
            "log_metrics for sac\n",
            "True\n",
            "DEBUG (test): run.id = 7ckhysh8\n",
            "DEBUG (test): sharpe_ratios = {'a2c': 2.97, 'ddpg': 2.72, 'td3': -3.06}\n",
            "DEBUG (test): updating best model based on sharpe_ratios: {'a2c': 2.97, 'ddpg': 2.72, 'td3': -3.06}\n",
            "DEBUG (test): 0.47 (sac) <= 2.97 (a2c). Not updating best model.\n",
            "log_metrics for ppo\n",
            "True\n",
            "DEBUG (test): run.id = 7ckhysh8\n",
            "DEBUG (test): sharpe_ratios = {'a2c': 2.97, 'ddpg': 2.72, 'td3': -3.06, 'sac': 0.47}\n",
            "DEBUG (test): updating best model based on sharpe_ratios: {'a2c': 2.97, 'ddpg': 2.72, 'td3': -3.06, 'sac': 0.47}\n",
            "DEBUG (test): 3.5 (ppo) > 2.97 (a2c). New best model: ppo.\n",
            "log_metrics for best_model\n",
            "True\n",
            "True\n",
            "True\n",
            "True\n",
            "True\n",
            "DEBUG (CHOSEN): chosen_model_metrics: {'ann_return/a2c': 31.24, 'cum_return/a2c': 6.7, 'mdd/a2c': -2.8, 'sharpe_ratio/a2c': 2.97}\n",
            "DEBUG (CHOSEN): chosen_model_metrics: {'ann_return/chosen_model': 31.24, 'cum_return/chosen_model': 6.7, 'mdd/chosen_model': -2.8, 'sharpe_ratio/chosen_model': 2.97}\n",
            "True\n",
            "True\n",
            "log_plot_as_artifact\n"
          ]
        },
        {
          "output_type": "display_data",
          "data": {
            "text/plain": [
              "<IPython.core.display.HTML object>"
            ],
            "text/html": []
          },
          "metadata": {}
        },
        {
          "output_type": "display_data",
          "data": {
            "text/plain": [
              "<IPython.core.display.HTML object>"
            ],
            "text/html": [
              "<br>    <style><br>        .wandb-row {<br>            display: flex;<br>            flex-direction: row;<br>            flex-wrap: wrap;<br>            justify-content: flex-start;<br>            width: 100%;<br>        }<br>        .wandb-col {<br>            display: flex;<br>            flex-direction: column;<br>            flex-basis: 100%;<br>            flex: 1;<br>            padding: 10px;<br>        }<br>    </style><br><div class=\"wandb-row\"><div class=\"wandb-col\"><h3>Run summary:</h3><br/><table class=\"wandb\"><tr><td>best_model_name</td><td>a2c</td></tr><tr><td>test/ann_return/a2c</td><td>31.24</td></tr><tr><td>test/ann_return/best_model</td><td>36.91</td></tr><tr><td>test/ann_return/ddpg</td><td>25.86</td></tr><tr><td>test/ann_return/ppo</td><td>36.91</td></tr><tr><td>test/ann_return/sac</td><td>4.88</td></tr><tr><td>test/ann_return/td3</td><td>-30.21</td></tr><tr><td>test/best_model_name</td><td>ppo</td></tr><tr><td>test/cum_return/a2c</td><td>6.7</td></tr><tr><td>test/cum_return/best_model</td><td>7.78</td></tr><tr><td>test/cum_return/ddpg</td><td>5.63</td></tr><tr><td>test/cum_return/ppo</td><td>7.78</td></tr><tr><td>test/cum_return/sac</td><td>1.14</td></tr><tr><td>test/cum_return/td3</td><td>-8.22</td></tr><tr><td>test/mdd/a2c</td><td>-2.8</td></tr><tr><td>test/mdd/best_model</td><td>-2.04</td></tr><tr><td>test/mdd/ddpg</td><td>-1.88</td></tr><tr><td>test/mdd/ppo</td><td>-2.04</td></tr><tr><td>test/mdd/sac</td><td>-3.7</td></tr><tr><td>test/mdd/td3</td><td>-8.5</td></tr><tr><td>test/sharpe_ratio/a2c</td><td>2.97</td></tr><tr><td>test/sharpe_ratio/best_model</td><td>3.5</td></tr><tr><td>test/sharpe_ratio/ddpg</td><td>2.72</td></tr><tr><td>test/sharpe_ratio/ppo</td><td>3.5</td></tr><tr><td>test/sharpe_ratio/sac</td><td>0.47</td></tr><tr><td>test/sharpe_ratio/td3</td><td>-3.06</td></tr></table><br/></div></div>"
            ]
          },
          "metadata": {}
        },
        {
          "output_type": "display_data",
          "data": {
            "text/plain": [
              "<IPython.core.display.HTML object>"
            ],
            "text/html": [
              " View run <strong style=\"color:#cdcd00\">DOW-30 | 2009-01 | 2017 Q1 | 2017 Q2 | N9uo1</strong> at: <a href='https://wandb.ai/overfit1010/finrl-dt-replicate/runs/7ckhysh8' target=\"_blank\">https://wandb.ai/overfit1010/finrl-dt-replicate/runs/7ckhysh8</a><br> View project at: <a href='https://wandb.ai/overfit1010/finrl-dt-replicate' target=\"_blank\">https://wandb.ai/overfit1010/finrl-dt-replicate</a><br>Synced 5 W&B file(s), 0 media file(s), 2 artifact file(s) and 0 other file(s)"
            ]
          },
          "metadata": {}
        },
        {
          "output_type": "display_data",
          "data": {
            "text/plain": [
              "<IPython.core.display.HTML object>"
            ],
            "text/html": [
              "Find logs at: <code>./wandb/run-20250112_121136-7ckhysh8/logs</code>"
            ]
          },
          "metadata": {}
        },
        {
          "output_type": "display_data",
          "data": {
            "text/plain": [
              "<IPython.core.display.HTML object>"
            ],
            "text/html": [
              "Tracking run with wandb version 0.19.1"
            ]
          },
          "metadata": {}
        },
        {
          "output_type": "display_data",
          "data": {
            "text/plain": [
              "<IPython.core.display.HTML object>"
            ],
            "text/html": [
              "Run data is saved locally in <code>/content/wandb/run-20250112_121214-rizcli4c</code>"
            ]
          },
          "metadata": {}
        },
        {
          "output_type": "display_data",
          "data": {
            "text/plain": [
              "<IPython.core.display.HTML object>"
            ],
            "text/html": [
              "Resuming run <strong><a href='https://wandb.ai/overfit1010/finrl-dt-replicate/runs/rizcli4c' target=\"_blank\">DOW-30 | 2009-01 | 2016 Q4 | 2017 Q1 | 4o7R6</a></strong> to <a href='https://wandb.ai/overfit1010/finrl-dt-replicate' target=\"_blank\">Weights & Biases</a> (<a href='https://wandb.me/developer-guide' target=\"_blank\">docs</a>)<br>Sweep page: <a href='https://wandb.ai/overfit1010/finrl-dt-replicate/sweeps/k43io2uh' target=\"_blank\">https://wandb.ai/overfit1010/finrl-dt-replicate/sweeps/k43io2uh</a>"
            ]
          },
          "metadata": {}
        },
        {
          "output_type": "display_data",
          "data": {
            "text/plain": [
              "<IPython.core.display.HTML object>"
            ],
            "text/html": [
              " View project at <a href='https://wandb.ai/overfit1010/finrl-dt-replicate' target=\"_blank\">https://wandb.ai/overfit1010/finrl-dt-replicate</a>"
            ]
          },
          "metadata": {}
        },
        {
          "output_type": "display_data",
          "data": {
            "text/plain": [
              "<IPython.core.display.HTML object>"
            ],
            "text/html": [
              " View sweep at <a href='https://wandb.ai/overfit1010/finrl-dt-replicate/sweeps/k43io2uh' target=\"_blank\">https://wandb.ai/overfit1010/finrl-dt-replicate/sweeps/k43io2uh</a>"
            ]
          },
          "metadata": {}
        },
        {
          "output_type": "display_data",
          "data": {
            "text/plain": [
              "<IPython.core.display.HTML object>"
            ],
            "text/html": [
              " View run at <a href='https://wandb.ai/overfit1010/finrl-dt-replicate/runs/rizcli4c' target=\"_blank\">https://wandb.ai/overfit1010/finrl-dt-replicate/runs/rizcli4c</a>"
            ]
          },
          "metadata": {}
        },
        {
          "output_type": "stream",
          "name": "stdout",
          "text": [
            "True\n"
          ]
        },
        {
          "output_type": "stream",
          "name": "stderr",
          "text": [
            "\u001b[34m\u001b[1mwandb\u001b[0m:   3 of 3 files downloaded.  \n",
            "\u001b[34m\u001b[1mwandb\u001b[0m:   5 of 5 files downloaded.  \n",
            "\u001b[34m\u001b[1mwandb\u001b[0m:   5 of 5 files downloaded.  \n",
            "\u001b[34m\u001b[1mwandb\u001b[0m:   5 of 5 files downloaded.  \n",
            "\u001b[34m\u001b[1mwandb\u001b[0m:   5 of 5 files downloaded.  \n",
            "\u001b[34m\u001b[1mwandb\u001b[0m:   5 of 5 files downloaded.  \n",
            "\u001b[34m\u001b[1mwandb\u001b[0m:   1 of 1 files downloaded.  \n",
            "\u001b[34m\u001b[1mwandb\u001b[0m:   1 of 1 files downloaded.  \n",
            "\u001b[34m\u001b[1mwandb\u001b[0m:   1 of 1 files downloaded.  \n",
            "\u001b[34m\u001b[1mwandb\u001b[0m:   1 of 1 files downloaded.  \n",
            "\u001b[34m\u001b[1mwandb\u001b[0m:   1 of 1 files downloaded.  \n"
          ]
        },
        {
          "output_type": "stream",
          "name": "stdout",
          "text": [
            "Stock Dimension: 29, State Space: 291\n",
            "hit end!\n",
            "hit end!\n",
            "hit end!\n",
            "hit end!\n"
          ]
        },
        {
          "output_type": "stream",
          "name": "stderr",
          "text": [
            "\r[*********************100%***********************]  1 of 1 completed"
          ]
        },
        {
          "output_type": "stream",
          "name": "stdout",
          "text": [
            "hit end!\n",
            "\n",
            "2017-01-03 00:00:00\n",
            "2017-03-31 00:00:00\n",
            "Shape of DataFrame:  (61, 8)\n",
            "{'min_test_start_date': '2016-01-01', 'if_using_ppo': True, 'train_params': {'a2c': {'steps': 50000}, 'ppo': {'steps': 200000}, 'sac': {'steps': 70000}, 'td3': {'steps': 50000}, 'ddpg': {'steps': 50000}}, 'if_using_td3': True, 'max_test_end_date': '2020-08-05', 'if_using_sac': True, 'initial_amount': 50000, 'cost_pct': [0.010314179718673032, 0.009076606561755468, 0.008307067100246136, 0.015516293581809112, 0.006395481989312903, 0.0072110283262062785, 0.04249566955190291, 0.015979716445954528, 0.021738725278835313, 0.004222453318177087, 0.005968143721526647, 0.010896151366589463, 0.01093735188446354, 0.11420864277075855, 0.01665255165637118, 0.010252194206940846, 0.03947813656400475, 0.008462643895002689, 0.01919729692524921, 0.024719550845968045, 0.005734449144229167, 0.03210832438433615, 0.014379031318205482, 0.00982580254909786, 0.0044498520553265045, 0.007984135151425499, 0.05881990501271046, 0.270946766931955, 0.026832260273111815], 'finetune': True, 'REFERNCE_PRICE_WINDOW_DAYS': 30, 'cost_abs': 2.5, 'if_using_a2c': True, 'train_start_date': '2009-01-01', 'date_range': {'val_start_date': '2016-10-01 00:00:00', 'test_start_date': '2017-01-01 00:00:00', 'train_start_date': '2009-01-01 00:00:00', 'test_end_date': '2017-04-01 00:00:00'}, 'if_using_ddpg': True, 'REFERENCE_PRICE_END_DATE': '2024-12-21', 'stock_index_name': 'DOW-30', 'dataset_name': 'DOW-30 | 2009-01 | 2016 Q4 | 2017 Q1', 'dataset_type': 'quarterly_train_val_test'}\n"
          ]
        },
        {
          "output_type": "stream",
          "name": "stderr",
          "text": [
            "\n"
          ]
        },
        {
          "output_type": "stream",
          "name": "stdout",
          "text": [
            "True\n",
            "log_metrics for a2c\n",
            "True\n",
            "DEBUG (test): run.id = rizcli4c\n",
            "DEBUG (test): sharpe_ratios = {}\n",
            "DEBUG (test): updating best model based on sharpe_ratios: {}\n",
            "DEBUG (test): no models logged yet, new best model is current one: a2c\n",
            "DEBUG (test): wandb.run.config['sharpe_ratios'] = {'test': {}}\n",
            "log_metrics for best_model\n",
            "True\n",
            "log_metrics for ddpg\n",
            "True\n",
            "DEBUG (test): run.id = rizcli4c\n",
            "DEBUG (test): sharpe_ratios = {'a2c': 1.33}\n",
            "DEBUG (test): updating best model based on sharpe_ratios: {'a2c': 1.33}\n",
            "DEBUG (test): 2.69 (ddpg) > 1.33 (a2c). New best model: ddpg.\n",
            "log_metrics for best_model\n",
            "True\n",
            "True\n",
            "log_metrics for td3\n",
            "True\n",
            "DEBUG (test): run.id = rizcli4c\n",
            "DEBUG (test): sharpe_ratios = {'a2c': 1.33, 'ddpg': 2.69}\n",
            "DEBUG (test): updating best model based on sharpe_ratios: {'a2c': 1.33, 'ddpg': 2.69}\n",
            "DEBUG (test): -0.16 (td3) <= 2.69 (ddpg). Not updating best model.\n",
            "log_metrics for sac\n",
            "True\n",
            "DEBUG (test): run.id = rizcli4c\n",
            "DEBUG (test): sharpe_ratios = {'a2c': 1.33, 'ddpg': 2.69, 'td3': -0.16}\n",
            "DEBUG (test): updating best model based on sharpe_ratios: {'a2c': 1.33, 'ddpg': 2.69, 'td3': -0.16}\n",
            "DEBUG (test): 0.38 (sac) <= 2.69 (ddpg). Not updating best model.\n",
            "log_metrics for ppo\n",
            "True\n",
            "DEBUG (test): run.id = rizcli4c\n",
            "DEBUG (test): sharpe_ratios = {'a2c': 1.33, 'ddpg': 2.69, 'td3': -0.16, 'sac': 0.38}\n",
            "DEBUG (test): updating best model based on sharpe_ratios: {'a2c': 1.33, 'ddpg': 2.69, 'td3': -0.16, 'sac': 0.38}\n",
            "DEBUG (test): 3.36 (ppo) > 2.69 (ddpg). New best model: ppo.\n",
            "log_metrics for best_model\n",
            "True\n",
            "True\n",
            "True\n",
            "True\n",
            "True\n",
            "DEBUG (CHOSEN): chosen_model_metrics: {'ann_return/sac': 3.37, 'cum_return/sac': 0.78, 'mdd/sac': -4.87, 'sharpe_ratio/sac': 0.38}\n",
            "DEBUG (CHOSEN): chosen_model_metrics: {'ann_return/chosen_model': 3.37, 'cum_return/chosen_model': 0.78, 'mdd/chosen_model': -4.87, 'sharpe_ratio/chosen_model': 0.38}\n",
            "True\n",
            "True\n",
            "log_plot_as_artifact\n"
          ]
        },
        {
          "output_type": "display_data",
          "data": {
            "text/plain": [
              "<IPython.core.display.HTML object>"
            ],
            "text/html": []
          },
          "metadata": {}
        },
        {
          "output_type": "display_data",
          "data": {
            "text/plain": [
              "<IPython.core.display.HTML object>"
            ],
            "text/html": [
              "<br>    <style><br>        .wandb-row {<br>            display: flex;<br>            flex-direction: row;<br>            flex-wrap: wrap;<br>            justify-content: flex-start;<br>            width: 100%;<br>        }<br>        .wandb-col {<br>            display: flex;<br>            flex-direction: column;<br>            flex-basis: 100%;<br>            flex: 1;<br>            padding: 10px;<br>        }<br>    </style><br><div class=\"wandb-row\"><div class=\"wandb-col\"><h3>Run summary:</h3><br/><table class=\"wandb\"><tr><td>best_model_name</td><td>a2c</td></tr><tr><td>test/ann_return/a2c</td><td>14.29</td></tr><tr><td>test/ann_return/best_model</td><td>38.41</td></tr><tr><td>test/ann_return/ddpg</td><td>30.33</td></tr><tr><td>test/ann_return/ppo</td><td>38.41</td></tr><tr><td>test/ann_return/sac</td><td>3.37</td></tr><tr><td>test/ann_return/td3</td><td>-2.16</td></tr><tr><td>test/best_model_name</td><td>ppo</td></tr><tr><td>test/cum_return/a2c</td><td>3.2</td></tr><tr><td>test/cum_return/best_model</td><td>7.96</td></tr><tr><td>test/cum_return/ddpg</td><td>6.44</td></tr><tr><td>test/cum_return/ppo</td><td>7.96</td></tr><tr><td>test/cum_return/sac</td><td>0.78</td></tr><tr><td>test/cum_return/td3</td><td>-0.51</td></tr><tr><td>test/mdd/a2c</td><td>-4.71</td></tr><tr><td>test/mdd/best_model</td><td>-4.0</td></tr><tr><td>test/mdd/ddpg</td><td>-4.94</td></tr><tr><td>test/mdd/ppo</td><td>-4.0</td></tr><tr><td>test/mdd/sac</td><td>-4.87</td></tr><tr><td>test/mdd/td3</td><td>-4.1</td></tr><tr><td>test/sharpe_ratio/a2c</td><td>1.33</td></tr><tr><td>test/sharpe_ratio/best_model</td><td>3.36</td></tr><tr><td>test/sharpe_ratio/ddpg</td><td>2.69</td></tr><tr><td>test/sharpe_ratio/ppo</td><td>3.36</td></tr><tr><td>test/sharpe_ratio/sac</td><td>0.38</td></tr><tr><td>test/sharpe_ratio/td3</td><td>-0.16</td></tr></table><br/></div></div>"
            ]
          },
          "metadata": {}
        },
        {
          "output_type": "display_data",
          "data": {
            "text/plain": [
              "<IPython.core.display.HTML object>"
            ],
            "text/html": [
              " View run <strong style=\"color:#cdcd00\">DOW-30 | 2009-01 | 2016 Q4 | 2017 Q1 | 4o7R6</strong> at: <a href='https://wandb.ai/overfit1010/finrl-dt-replicate/runs/rizcli4c' target=\"_blank\">https://wandb.ai/overfit1010/finrl-dt-replicate/runs/rizcli4c</a><br> View project at: <a href='https://wandb.ai/overfit1010/finrl-dt-replicate' target=\"_blank\">https://wandb.ai/overfit1010/finrl-dt-replicate</a><br>Synced 5 W&B file(s), 0 media file(s), 2 artifact file(s) and 0 other file(s)"
            ]
          },
          "metadata": {}
        },
        {
          "output_type": "display_data",
          "data": {
            "text/plain": [
              "<IPython.core.display.HTML object>"
            ],
            "text/html": [
              "Find logs at: <code>./wandb/run-20250112_121214-rizcli4c/logs</code>"
            ]
          },
          "metadata": {}
        },
        {
          "output_type": "display_data",
          "data": {
            "text/plain": [
              "<IPython.core.display.HTML object>"
            ],
            "text/html": [
              "Tracking run with wandb version 0.19.1"
            ]
          },
          "metadata": {}
        },
        {
          "output_type": "display_data",
          "data": {
            "text/plain": [
              "<IPython.core.display.HTML object>"
            ],
            "text/html": [
              "Run data is saved locally in <code>/content/wandb/run-20250112_121256-g5hc85fb</code>"
            ]
          },
          "metadata": {}
        },
        {
          "output_type": "display_data",
          "data": {
            "text/plain": [
              "<IPython.core.display.HTML object>"
            ],
            "text/html": [
              "Resuming run <strong><a href='https://wandb.ai/overfit1010/finrl-dt-replicate/runs/g5hc85fb' target=\"_blank\">DOW-30 | 2009-01 | 2016 Q3 | 2016 Q4 | g8Rzs</a></strong> to <a href='https://wandb.ai/overfit1010/finrl-dt-replicate' target=\"_blank\">Weights & Biases</a> (<a href='https://wandb.me/developer-guide' target=\"_blank\">docs</a>)<br>Sweep page: <a href='https://wandb.ai/overfit1010/finrl-dt-replicate/sweeps/k43io2uh' target=\"_blank\">https://wandb.ai/overfit1010/finrl-dt-replicate/sweeps/k43io2uh</a>"
            ]
          },
          "metadata": {}
        },
        {
          "output_type": "display_data",
          "data": {
            "text/plain": [
              "<IPython.core.display.HTML object>"
            ],
            "text/html": [
              " View project at <a href='https://wandb.ai/overfit1010/finrl-dt-replicate' target=\"_blank\">https://wandb.ai/overfit1010/finrl-dt-replicate</a>"
            ]
          },
          "metadata": {}
        },
        {
          "output_type": "display_data",
          "data": {
            "text/plain": [
              "<IPython.core.display.HTML object>"
            ],
            "text/html": [
              " View sweep at <a href='https://wandb.ai/overfit1010/finrl-dt-replicate/sweeps/k43io2uh' target=\"_blank\">https://wandb.ai/overfit1010/finrl-dt-replicate/sweeps/k43io2uh</a>"
            ]
          },
          "metadata": {}
        },
        {
          "output_type": "display_data",
          "data": {
            "text/plain": [
              "<IPython.core.display.HTML object>"
            ],
            "text/html": [
              " View run at <a href='https://wandb.ai/overfit1010/finrl-dt-replicate/runs/g5hc85fb' target=\"_blank\">https://wandb.ai/overfit1010/finrl-dt-replicate/runs/g5hc85fb</a>"
            ]
          },
          "metadata": {}
        },
        {
          "output_type": "stream",
          "name": "stdout",
          "text": [
            "True\n"
          ]
        },
        {
          "output_type": "stream",
          "name": "stderr",
          "text": [
            "\u001b[34m\u001b[1mwandb\u001b[0m:   3 of 3 files downloaded.  \n",
            "\u001b[34m\u001b[1mwandb\u001b[0m:   5 of 5 files downloaded.  \n",
            "\u001b[34m\u001b[1mwandb\u001b[0m:   5 of 5 files downloaded.  \n",
            "\u001b[34m\u001b[1mwandb\u001b[0m:   5 of 5 files downloaded.  \n",
            "\u001b[34m\u001b[1mwandb\u001b[0m:   5 of 5 files downloaded.  \n",
            "\u001b[34m\u001b[1mwandb\u001b[0m:   5 of 5 files downloaded.  \n",
            "\u001b[34m\u001b[1mwandb\u001b[0m:   1 of 1 files downloaded.  \n",
            "\u001b[34m\u001b[1mwandb\u001b[0m:   1 of 1 files downloaded.  \n",
            "\u001b[34m\u001b[1mwandb\u001b[0m:   1 of 1 files downloaded.  \n",
            "\u001b[34m\u001b[1mwandb\u001b[0m:   1 of 1 files downloaded.  \n",
            "\u001b[34m\u001b[1mwandb\u001b[0m:   1 of 1 files downloaded.  \n"
          ]
        },
        {
          "output_type": "stream",
          "name": "stdout",
          "text": [
            "Stock Dimension: 29, State Space: 291\n",
            "hit end!\n",
            "hit end!\n",
            "hit end!\n",
            "hit end!\n"
          ]
        },
        {
          "output_type": "stream",
          "name": "stderr",
          "text": [
            "\r[*********************100%***********************]  1 of 1 completed"
          ]
        },
        {
          "output_type": "stream",
          "name": "stdout",
          "text": [
            "hit end!\n",
            "\n",
            "2016-10-03 00:00:00\n",
            "2016-12-30 00:00:00\n",
            "Shape of DataFrame:  (62, 8)\n",
            "{'date_range': {'train_start_date': '2009-01-01 00:00:00', 'test_end_date': '2017-01-01 00:00:00', 'val_start_date': '2016-07-01 00:00:00', 'test_start_date': '2016-10-01 00:00:00'}, 'dataset_type': 'quarterly_train_val_test', 'if_using_td3': True, 'max_test_end_date': '2020-08-05', 'if_using_a2c': True, 'cost_pct': [0.010314179718673032, 0.009076606561755468, 0.008307067100246136, 0.015516293581809112, 0.006395481989312903, 0.0072110283262062785, 0.04249566955190291, 0.015979716445954528, 0.021738725278835313, 0.004222453318177087, 0.005968143721526647, 0.010896151366589463, 0.01093735188446354, 0.11420864277075855, 0.01665255165637118, 0.010252194206940846, 0.03947813656400475, 0.008462643895002689, 0.01919729692524921, 0.024719550845968045, 0.005734449144229167, 0.03210832438433615, 0.014379031318205482, 0.00982580254909786, 0.0044498520553265045, 0.007984135151425499, 0.05881990501271046, 0.270946766931955, 0.026832260273111815], 'initial_amount': 50000, 'stock_index_name': 'DOW-30', 'REFERNCE_PRICE_WINDOW_DAYS': 30, 'if_using_ddpg': True, 'if_using_sac': True, 'min_test_start_date': '2016-01-01', 'finetune': True, 'dataset_name': 'DOW-30 | 2009-01 | 2016 Q3 | 2016 Q4', 'REFERENCE_PRICE_END_DATE': '2024-12-21', 'train_params': {'a2c': {'steps': 50000}, 'ppo': {'steps': 200000}, 'sac': {'steps': 70000}, 'td3': {'steps': 50000}, 'ddpg': {'steps': 50000}}, 'if_using_ppo': True, 'cost_abs': 2.5, 'train_start_date': '2009-01-01'}\n"
          ]
        },
        {
          "output_type": "stream",
          "name": "stderr",
          "text": [
            "\n"
          ]
        },
        {
          "output_type": "stream",
          "name": "stdout",
          "text": [
            "True\n",
            "log_metrics for a2c\n",
            "True\n",
            "DEBUG (test): run.id = g5hc85fb\n",
            "DEBUG (test): sharpe_ratios = {}\n",
            "DEBUG (test): updating best model based on sharpe_ratios: {}\n",
            "DEBUG (test): no models logged yet, new best model is current one: a2c\n",
            "DEBUG (test): wandb.run.config['sharpe_ratios'] = {'test': {}}\n",
            "log_metrics for best_model\n",
            "True\n",
            "log_metrics for ddpg\n",
            "True\n",
            "DEBUG (test): run.id = g5hc85fb\n",
            "DEBUG (test): sharpe_ratios = {'a2c': 0.5}\n",
            "DEBUG (test): updating best model based on sharpe_ratios: {'a2c': 0.5}\n",
            "DEBUG (test): 2.17 (ddpg) > 0.5 (a2c). New best model: ddpg.\n",
            "log_metrics for best_model\n",
            "True\n",
            "True\n",
            "log_metrics for td3\n",
            "True\n",
            "DEBUG (test): run.id = g5hc85fb\n",
            "DEBUG (test): sharpe_ratios = {'a2c': 0.5, 'ddpg': 2.17}\n",
            "DEBUG (test): updating best model based on sharpe_ratios: {'a2c': 0.5, 'ddpg': 2.17}\n",
            "DEBUG (test): 1.72 (td3) <= 2.17 (ddpg). Not updating best model.\n",
            "log_metrics for sac\n",
            "True\n",
            "DEBUG (test): run.id = g5hc85fb\n",
            "DEBUG (test): sharpe_ratios = {'a2c': 0.5, 'ddpg': 2.17, 'td3': 1.72}\n",
            "DEBUG (test): updating best model based on sharpe_ratios: {'a2c': 0.5, 'ddpg': 2.17, 'td3': 1.72}\n",
            "DEBUG (test): 4.64 (sac) > 2.17 (ddpg). New best model: sac.\n",
            "log_metrics for best_model\n",
            "True\n",
            "True\n",
            "log_metrics for ppo\n",
            "True\n",
            "DEBUG (test): run.id = g5hc85fb\n",
            "DEBUG (test): sharpe_ratios = {'a2c': 0.5, 'ddpg': 2.17, 'td3': 1.72, 'sac': 4.64}\n",
            "DEBUG (test): updating best model based on sharpe_ratios: {'a2c': 0.5, 'ddpg': 2.17, 'td3': 1.72, 'sac': 4.64}\n",
            "DEBUG (test): 2.23 (ppo) <= 4.64 (sac). Not updating best model.\n",
            "True\n",
            "True\n",
            "True\n",
            "DEBUG (CHOSEN): chosen_model_metrics: {'ann_return/a2c': 5.86, 'cum_return/a2c': 1.37, 'mdd/a2c': -6.66, 'sharpe_ratio/a2c': 0.5}\n",
            "DEBUG (CHOSEN): chosen_model_metrics: {'ann_return/chosen_model': 5.86, 'cum_return/chosen_model': 1.37, 'mdd/chosen_model': -6.66, 'sharpe_ratio/chosen_model': 0.5}\n",
            "True\n",
            "True\n",
            "log_plot_as_artifact\n"
          ]
        },
        {
          "output_type": "display_data",
          "data": {
            "text/plain": [
              "<IPython.core.display.HTML object>"
            ],
            "text/html": []
          },
          "metadata": {}
        },
        {
          "output_type": "display_data",
          "data": {
            "text/plain": [
              "<IPython.core.display.HTML object>"
            ],
            "text/html": [
              "<br>    <style><br>        .wandb-row {<br>            display: flex;<br>            flex-direction: row;<br>            flex-wrap: wrap;<br>            justify-content: flex-start;<br>            width: 100%;<br>        }<br>        .wandb-col {<br>            display: flex;<br>            flex-direction: column;<br>            flex-basis: 100%;<br>            flex: 1;<br>            padding: 10px;<br>        }<br>    </style><br><div class=\"wandb-row\"><div class=\"wandb-col\"><h3>Run summary:</h3><br/><table class=\"wandb\"><tr><td>best_model_name</td><td>a2c</td></tr><tr><td>test/ann_return/a2c</td><td>5.86</td></tr><tr><td>test/ann_return/best_model</td><td>57.72</td></tr><tr><td>test/ann_return/ddpg</td><td>28.89</td></tr><tr><td>test/ann_return/ppo</td><td>31.57</td></tr><tr><td>test/ann_return/sac</td><td>57.72</td></tr><tr><td>test/ann_return/td3</td><td>24.12</td></tr><tr><td>test/best_model_name</td><td>sac</td></tr><tr><td>test/cum_return/a2c</td><td>1.37</td></tr><tr><td>test/cum_return/best_model</td><td>11.47</td></tr><tr><td>test/cum_return/ddpg</td><td>6.24</td></tr><tr><td>test/cum_return/ppo</td><td>6.76</td></tr><tr><td>test/cum_return/sac</td><td>11.47</td></tr><tr><td>test/cum_return/td3</td><td>5.29</td></tr><tr><td>test/mdd/a2c</td><td>-6.66</td></tr><tr><td>test/mdd/best_model</td><td>-2.71</td></tr><tr><td>test/mdd/ddpg</td><td>-4.57</td></tr><tr><td>test/mdd/ppo</td><td>-4.08</td></tr><tr><td>test/mdd/sac</td><td>-2.71</td></tr><tr><td>test/mdd/td3</td><td>-5.61</td></tr><tr><td>test/sharpe_ratio/a2c</td><td>0.5</td></tr><tr><td>test/sharpe_ratio/best_model</td><td>4.64</td></tr><tr><td>test/sharpe_ratio/ddpg</td><td>2.17</td></tr><tr><td>test/sharpe_ratio/ppo</td><td>2.23</td></tr><tr><td>test/sharpe_ratio/sac</td><td>4.64</td></tr><tr><td>test/sharpe_ratio/td3</td><td>1.72</td></tr></table><br/></div></div>"
            ]
          },
          "metadata": {}
        },
        {
          "output_type": "display_data",
          "data": {
            "text/plain": [
              "<IPython.core.display.HTML object>"
            ],
            "text/html": [
              " View run <strong style=\"color:#cdcd00\">DOW-30 | 2009-01 | 2016 Q3 | 2016 Q4 | g8Rzs</strong> at: <a href='https://wandb.ai/overfit1010/finrl-dt-replicate/runs/g5hc85fb' target=\"_blank\">https://wandb.ai/overfit1010/finrl-dt-replicate/runs/g5hc85fb</a><br> View project at: <a href='https://wandb.ai/overfit1010/finrl-dt-replicate' target=\"_blank\">https://wandb.ai/overfit1010/finrl-dt-replicate</a><br>Synced 5 W&B file(s), 0 media file(s), 2 artifact file(s) and 0 other file(s)"
            ]
          },
          "metadata": {}
        },
        {
          "output_type": "display_data",
          "data": {
            "text/plain": [
              "<IPython.core.display.HTML object>"
            ],
            "text/html": [
              "Find logs at: <code>./wandb/run-20250112_121256-g5hc85fb/logs</code>"
            ]
          },
          "metadata": {}
        },
        {
          "output_type": "display_data",
          "data": {
            "text/plain": [
              "<IPython.core.display.HTML object>"
            ],
            "text/html": [
              "Tracking run with wandb version 0.19.1"
            ]
          },
          "metadata": {}
        },
        {
          "output_type": "display_data",
          "data": {
            "text/plain": [
              "<IPython.core.display.HTML object>"
            ],
            "text/html": [
              "Run data is saved locally in <code>/content/wandb/run-20250112_121337-ilv1yo6z</code>"
            ]
          },
          "metadata": {}
        },
        {
          "output_type": "display_data",
          "data": {
            "text/plain": [
              "<IPython.core.display.HTML object>"
            ],
            "text/html": [
              "Resuming run <strong><a href='https://wandb.ai/overfit1010/finrl-dt-replicate/runs/ilv1yo6z' target=\"_blank\">DOW-30 | 2009-01 | 2016 Q2 | 2016 Q3 | znbkR</a></strong> to <a href='https://wandb.ai/overfit1010/finrl-dt-replicate' target=\"_blank\">Weights & Biases</a> (<a href='https://wandb.me/developer-guide' target=\"_blank\">docs</a>)<br>Sweep page: <a href='https://wandb.ai/overfit1010/finrl-dt-replicate/sweeps/k43io2uh' target=\"_blank\">https://wandb.ai/overfit1010/finrl-dt-replicate/sweeps/k43io2uh</a>"
            ]
          },
          "metadata": {}
        },
        {
          "output_type": "display_data",
          "data": {
            "text/plain": [
              "<IPython.core.display.HTML object>"
            ],
            "text/html": [
              " View project at <a href='https://wandb.ai/overfit1010/finrl-dt-replicate' target=\"_blank\">https://wandb.ai/overfit1010/finrl-dt-replicate</a>"
            ]
          },
          "metadata": {}
        },
        {
          "output_type": "display_data",
          "data": {
            "text/plain": [
              "<IPython.core.display.HTML object>"
            ],
            "text/html": [
              " View sweep at <a href='https://wandb.ai/overfit1010/finrl-dt-replicate/sweeps/k43io2uh' target=\"_blank\">https://wandb.ai/overfit1010/finrl-dt-replicate/sweeps/k43io2uh</a>"
            ]
          },
          "metadata": {}
        },
        {
          "output_type": "display_data",
          "data": {
            "text/plain": [
              "<IPython.core.display.HTML object>"
            ],
            "text/html": [
              " View run at <a href='https://wandb.ai/overfit1010/finrl-dt-replicate/runs/ilv1yo6z' target=\"_blank\">https://wandb.ai/overfit1010/finrl-dt-replicate/runs/ilv1yo6z</a>"
            ]
          },
          "metadata": {}
        },
        {
          "output_type": "stream",
          "name": "stdout",
          "text": [
            "True\n"
          ]
        },
        {
          "output_type": "stream",
          "name": "stderr",
          "text": [
            "\u001b[34m\u001b[1mwandb\u001b[0m:   3 of 3 files downloaded.  \n",
            "\u001b[34m\u001b[1mwandb\u001b[0m:   5 of 5 files downloaded.  \n",
            "\u001b[34m\u001b[1mwandb\u001b[0m:   5 of 5 files downloaded.  \n",
            "\u001b[34m\u001b[1mwandb\u001b[0m:   5 of 5 files downloaded.  \n",
            "\u001b[34m\u001b[1mwandb\u001b[0m:   5 of 5 files downloaded.  \n",
            "\u001b[34m\u001b[1mwandb\u001b[0m:   5 of 5 files downloaded.  \n",
            "\u001b[34m\u001b[1mwandb\u001b[0m:   1 of 1 files downloaded.  \n",
            "\u001b[34m\u001b[1mwandb\u001b[0m:   1 of 1 files downloaded.  \n",
            "\u001b[34m\u001b[1mwandb\u001b[0m:   1 of 1 files downloaded.  \n",
            "\u001b[34m\u001b[1mwandb\u001b[0m:   1 of 1 files downloaded.  \n",
            "\u001b[34m\u001b[1mwandb\u001b[0m:   1 of 1 files downloaded.  \n"
          ]
        },
        {
          "output_type": "stream",
          "name": "stdout",
          "text": [
            "Stock Dimension: 29, State Space: 291\n",
            "hit end!\n",
            "hit end!\n",
            "hit end!\n",
            "hit end!\n"
          ]
        },
        {
          "output_type": "stream",
          "name": "stderr",
          "text": [
            "\r[*********************100%***********************]  1 of 1 completed"
          ]
        },
        {
          "output_type": "stream",
          "name": "stdout",
          "text": [
            "hit end!\n",
            "\n",
            "2016-07-01 00:00:00\n",
            "2016-09-30 00:00:00\n",
            "Shape of DataFrame:  (63, 8)\n",
            "{'REFERNCE_PRICE_WINDOW_DAYS': 30, 'min_test_start_date': '2016-01-01', 'date_range': {'test_end_date': '2016-10-01 00:00:00', 'val_start_date': '2016-04-01 00:00:00', 'test_start_date': '2016-07-01 00:00:00', 'train_start_date': '2009-01-01 00:00:00'}, 'if_using_ppo': True, 'dataset_type': 'quarterly_train_val_test', 'max_test_end_date': '2020-08-05', 'REFERENCE_PRICE_END_DATE': '2024-12-21', 'stock_index_name': 'DOW-30', 'cost_abs': 2.5, 'train_start_date': '2009-01-01', 'if_using_ddpg': True, 'train_params': {'a2c': {'steps': 50000}, 'ppo': {'steps': 200000}, 'sac': {'steps': 70000}, 'td3': {'steps': 50000}, 'ddpg': {'steps': 50000}}, 'if_using_a2c': True, 'if_using_sac': True, 'initial_amount': 50000, 'if_using_td3': True, 'finetune': True, 'dataset_name': 'DOW-30 | 2009-01 | 2016 Q2 | 2016 Q3', 'cost_pct': [0.010314179718673032, 0.009076606561755468, 0.008307067100246136, 0.015516293581809112, 0.006395481989312903, 0.0072110283262062785, 0.04249566955190291, 0.015979716445954528, 0.021738725278835313, 0.004222453318177087, 0.005968143721526647, 0.010896151366589463, 0.01093735188446354, 0.11420864277075855, 0.01665255165637118, 0.010252194206940846, 0.03947813656400475, 0.008462643895002689, 0.01919729692524921, 0.024719550845968045, 0.005734449144229167, 0.03210832438433615, 0.014379031318205482, 0.00982580254909786, 0.0044498520553265045, 0.007984135151425499, 0.05881990501271046, 0.270946766931955, 0.026832260273111815]}\n"
          ]
        },
        {
          "output_type": "stream",
          "name": "stderr",
          "text": [
            "\n"
          ]
        },
        {
          "output_type": "stream",
          "name": "stdout",
          "text": [
            "True\n",
            "log_metrics for a2c\n",
            "True\n",
            "DEBUG (test): run.id = ilv1yo6z\n",
            "DEBUG (test): sharpe_ratios = {}\n",
            "DEBUG (test): updating best model based on sharpe_ratios: {}\n",
            "DEBUG (test): no models logged yet, new best model is current one: a2c\n",
            "DEBUG (test): wandb.run.config['sharpe_ratios'] = {'test': {}}\n",
            "log_metrics for best_model\n",
            "True\n",
            "log_metrics for ddpg\n",
            "True\n",
            "DEBUG (test): run.id = ilv1yo6z\n",
            "DEBUG (test): sharpe_ratios = {'a2c': 0.41}\n",
            "DEBUG (test): updating best model based on sharpe_ratios: {'a2c': 0.41}\n",
            "DEBUG (test): -0.2 (ddpg) <= 0.41 (a2c). Not updating best model.\n",
            "log_metrics for td3\n",
            "True\n",
            "DEBUG (test): run.id = ilv1yo6z\n",
            "DEBUG (test): sharpe_ratios = {'a2c': 0.41, 'ddpg': -0.2}\n",
            "DEBUG (test): updating best model based on sharpe_ratios: {'a2c': 0.41, 'ddpg': -0.2}\n",
            "DEBUG (test): -1.78 (td3) <= 0.41 (a2c). Not updating best model.\n",
            "log_metrics for sac\n",
            "True\n",
            "DEBUG (test): run.id = ilv1yo6z\n",
            "DEBUG (test): sharpe_ratios = {'a2c': 0.41, 'ddpg': -0.2, 'td3': -1.78}\n",
            "DEBUG (test): updating best model based on sharpe_ratios: {'a2c': 0.41, 'ddpg': -0.2, 'td3': -1.78}\n",
            "DEBUG (test): 0.49 (sac) > 0.41 (a2c). New best model: sac.\n",
            "log_metrics for best_model\n",
            "True\n",
            "True\n",
            "log_metrics for ppo\n",
            "True\n",
            "DEBUG (test): run.id = ilv1yo6z\n",
            "DEBUG (test): sharpe_ratios = {'a2c': 0.41, 'ddpg': -0.2, 'td3': -1.78, 'sac': 0.49}\n",
            "DEBUG (test): updating best model based on sharpe_ratios: {'a2c': 0.41, 'ddpg': -0.2, 'td3': -1.78, 'sac': 0.49}\n",
            "DEBUG (test): -1.36 (ppo) <= 0.49 (sac). Not updating best model.\n",
            "True\n",
            "True\n",
            "True\n",
            "DEBUG (CHOSEN): chosen_model_metrics: {'ann_return/ppo': -12.25, 'cum_return/ppo': -3.17, 'mdd/ppo': -5.93, 'sharpe_ratio/ppo': -1.36}\n",
            "DEBUG (CHOSEN): chosen_model_metrics: {'ann_return/chosen_model': -12.25, 'cum_return/chosen_model': -3.17, 'mdd/chosen_model': -5.93, 'sharpe_ratio/chosen_model': -1.36}\n",
            "True\n",
            "True\n",
            "log_plot_as_artifact\n"
          ]
        },
        {
          "output_type": "display_data",
          "data": {
            "text/plain": [
              "<IPython.core.display.HTML object>"
            ],
            "text/html": []
          },
          "metadata": {}
        },
        {
          "output_type": "display_data",
          "data": {
            "text/plain": [
              "<IPython.core.display.HTML object>"
            ],
            "text/html": [
              "<br>    <style><br>        .wandb-row {<br>            display: flex;<br>            flex-direction: row;<br>            flex-wrap: wrap;<br>            justify-content: flex-start;<br>            width: 100%;<br>        }<br>        .wandb-col {<br>            display: flex;<br>            flex-direction: column;<br>            flex-basis: 100%;<br>            flex: 1;<br>            padding: 10px;<br>        }<br>    </style><br><div class=\"wandb-row\"><div class=\"wandb-col\"><h3>Run summary:</h3><br/><table class=\"wandb\"><tr><td>best_model_name</td><td>a2c</td></tr><tr><td>test/ann_return/a2c</td><td>4.11</td></tr><tr><td>test/ann_return/best_model</td><td>4.84</td></tr><tr><td>test/ann_return/ddpg</td><td>-3.25</td></tr><tr><td>test/ann_return/ppo</td><td>-12.25</td></tr><tr><td>test/ann_return/sac</td><td>4.84</td></tr><tr><td>test/ann_return/td3</td><td>-23.11</td></tr><tr><td>test/best_model_name</td><td>sac</td></tr><tr><td>test/cum_return/a2c</td><td>1.0</td></tr><tr><td>test/cum_return/best_model</td><td>1.17</td></tr><tr><td>test/cum_return/ddpg</td><td>-0.81</td></tr><tr><td>test/cum_return/ppo</td><td>-3.17</td></tr><tr><td>test/cum_return/sac</td><td>1.17</td></tr><tr><td>test/cum_return/td3</td><td>-6.27</td></tr><tr><td>test/mdd/a2c</td><td>-3.5</td></tr><tr><td>test/mdd/best_model</td><td>-2.99</td></tr><tr><td>test/mdd/ddpg</td><td>-4.35</td></tr><tr><td>test/mdd/ppo</td><td>-5.93</td></tr><tr><td>test/mdd/sac</td><td>-2.99</td></tr><tr><td>test/mdd/td3</td><td>-7.11</td></tr><tr><td>test/sharpe_ratio/a2c</td><td>0.41</td></tr><tr><td>test/sharpe_ratio/best_model</td><td>0.49</td></tr><tr><td>test/sharpe_ratio/ddpg</td><td>-0.2</td></tr><tr><td>test/sharpe_ratio/ppo</td><td>-1.36</td></tr><tr><td>test/sharpe_ratio/sac</td><td>0.49</td></tr><tr><td>test/sharpe_ratio/td3</td><td>-1.78</td></tr></table><br/></div></div>"
            ]
          },
          "metadata": {}
        },
        {
          "output_type": "display_data",
          "data": {
            "text/plain": [
              "<IPython.core.display.HTML object>"
            ],
            "text/html": [
              " View run <strong style=\"color:#cdcd00\">DOW-30 | 2009-01 | 2016 Q2 | 2016 Q3 | znbkR</strong> at: <a href='https://wandb.ai/overfit1010/finrl-dt-replicate/runs/ilv1yo6z' target=\"_blank\">https://wandb.ai/overfit1010/finrl-dt-replicate/runs/ilv1yo6z</a><br> View project at: <a href='https://wandb.ai/overfit1010/finrl-dt-replicate' target=\"_blank\">https://wandb.ai/overfit1010/finrl-dt-replicate</a><br>Synced 5 W&B file(s), 0 media file(s), 2 artifact file(s) and 0 other file(s)"
            ]
          },
          "metadata": {}
        },
        {
          "output_type": "display_data",
          "data": {
            "text/plain": [
              "<IPython.core.display.HTML object>"
            ],
            "text/html": [
              "Find logs at: <code>./wandb/run-20250112_121337-ilv1yo6z/logs</code>"
            ]
          },
          "metadata": {}
        },
        {
          "output_type": "display_data",
          "data": {
            "text/plain": [
              "<IPython.core.display.HTML object>"
            ],
            "text/html": [
              "Tracking run with wandb version 0.19.1"
            ]
          },
          "metadata": {}
        },
        {
          "output_type": "display_data",
          "data": {
            "text/plain": [
              "<IPython.core.display.HTML object>"
            ],
            "text/html": [
              "Run data is saved locally in <code>/content/wandb/run-20250112_121416-z64rbpbl</code>"
            ]
          },
          "metadata": {}
        },
        {
          "output_type": "display_data",
          "data": {
            "text/plain": [
              "<IPython.core.display.HTML object>"
            ],
            "text/html": [
              "Resuming run <strong><a href='https://wandb.ai/overfit1010/finrl-dt-replicate/runs/z64rbpbl' target=\"_blank\">DOW-30 | 2009-01 | 2016 Q1 | 2016 Q2 | V0mXl</a></strong> to <a href='https://wandb.ai/overfit1010/finrl-dt-replicate' target=\"_blank\">Weights & Biases</a> (<a href='https://wandb.me/developer-guide' target=\"_blank\">docs</a>)<br>Sweep page: <a href='https://wandb.ai/overfit1010/finrl-dt-replicate/sweeps/k43io2uh' target=\"_blank\">https://wandb.ai/overfit1010/finrl-dt-replicate/sweeps/k43io2uh</a>"
            ]
          },
          "metadata": {}
        },
        {
          "output_type": "display_data",
          "data": {
            "text/plain": [
              "<IPython.core.display.HTML object>"
            ],
            "text/html": [
              " View project at <a href='https://wandb.ai/overfit1010/finrl-dt-replicate' target=\"_blank\">https://wandb.ai/overfit1010/finrl-dt-replicate</a>"
            ]
          },
          "metadata": {}
        },
        {
          "output_type": "display_data",
          "data": {
            "text/plain": [
              "<IPython.core.display.HTML object>"
            ],
            "text/html": [
              " View sweep at <a href='https://wandb.ai/overfit1010/finrl-dt-replicate/sweeps/k43io2uh' target=\"_blank\">https://wandb.ai/overfit1010/finrl-dt-replicate/sweeps/k43io2uh</a>"
            ]
          },
          "metadata": {}
        },
        {
          "output_type": "display_data",
          "data": {
            "text/plain": [
              "<IPython.core.display.HTML object>"
            ],
            "text/html": [
              " View run at <a href='https://wandb.ai/overfit1010/finrl-dt-replicate/runs/z64rbpbl' target=\"_blank\">https://wandb.ai/overfit1010/finrl-dt-replicate/runs/z64rbpbl</a>"
            ]
          },
          "metadata": {}
        },
        {
          "output_type": "stream",
          "name": "stdout",
          "text": [
            "True\n"
          ]
        },
        {
          "output_type": "stream",
          "name": "stderr",
          "text": [
            "\u001b[34m\u001b[1mwandb\u001b[0m:   3 of 3 files downloaded.  \n",
            "\u001b[34m\u001b[1mwandb\u001b[0m:   5 of 5 files downloaded.  \n",
            "\u001b[34m\u001b[1mwandb\u001b[0m:   5 of 5 files downloaded.  \n",
            "\u001b[34m\u001b[1mwandb\u001b[0m:   5 of 5 files downloaded.  \n",
            "\u001b[34m\u001b[1mwandb\u001b[0m:   5 of 5 files downloaded.  \n",
            "\u001b[34m\u001b[1mwandb\u001b[0m:   5 of 5 files downloaded.  \n",
            "\u001b[34m\u001b[1mwandb\u001b[0m:   1 of 1 files downloaded.  \n",
            "\u001b[34m\u001b[1mwandb\u001b[0m:   1 of 1 files downloaded.  \n",
            "\u001b[34m\u001b[1mwandb\u001b[0m:   1 of 1 files downloaded.  \n",
            "\u001b[34m\u001b[1mwandb\u001b[0m:   1 of 1 files downloaded.  \n",
            "\u001b[34m\u001b[1mwandb\u001b[0m:   1 of 1 files downloaded.  \n"
          ]
        },
        {
          "output_type": "stream",
          "name": "stdout",
          "text": [
            "Stock Dimension: 29, State Space: 291\n",
            "hit end!\n",
            "hit end!\n",
            "hit end!\n",
            "hit end!\n"
          ]
        },
        {
          "output_type": "stream",
          "name": "stderr",
          "text": [
            "\r[*********************100%***********************]  1 of 1 completed"
          ]
        },
        {
          "output_type": "stream",
          "name": "stdout",
          "text": [
            "hit end!\n",
            "\n",
            "2016-04-01 00:00:00\n",
            "2016-06-30 00:00:00\n",
            "Shape of DataFrame:  (63, 8)\n",
            "{'dataset_type': 'quarterly_train_val_test', 'if_using_ddpg': True, 'if_using_td3': True, 'finetune': True, 'min_test_start_date': '2016-01-01', 'dataset_name': 'DOW-30 | 2009-01 | 2016 Q1 | 2016 Q2', 'train_start_date': '2009-01-01', 'date_range': {'test_end_date': '2016-07-01 00:00:00', 'val_start_date': '2016-01-01 00:00:00', 'test_start_date': '2016-04-01 00:00:00', 'train_start_date': '2009-01-01 00:00:00'}, 'stock_index_name': 'DOW-30', 'if_using_a2c': True, 'initial_amount': 50000, 'REFERNCE_PRICE_WINDOW_DAYS': 30, 'train_params': {'ppo': {'steps': 200000}, 'sac': {'steps': 70000}, 'td3': {'steps': 50000}, 'ddpg': {'steps': 50000}, 'a2c': {'steps': 50000}}, 'if_using_ppo': True, 'REFERENCE_PRICE_END_DATE': '2024-12-21', 'cost_abs': 2.5, 'max_test_end_date': '2020-08-05', 'if_using_sac': True, 'cost_pct': [0.010314179718673032, 0.009076606561755468, 0.008307067100246136, 0.015516293581809112, 0.006395481989312903, 0.0072110283262062785, 0.04249566955190291, 0.015979716445954528, 0.021738725278835313, 0.004222453318177087, 0.005968143721526647, 0.010896151366589463, 0.01093735188446354, 0.11420864277075855, 0.01665255165637118, 0.010252194206940846, 0.03947813656400475, 0.008462643895002689, 0.01919729692524921, 0.024719550845968045, 0.005734449144229167, 0.03210832438433615, 0.014379031318205482, 0.00982580254909786, 0.0044498520553265045, 0.007984135151425499, 0.05881990501271046, 0.270946766931955, 0.026832260273111815]}\n"
          ]
        },
        {
          "output_type": "stream",
          "name": "stderr",
          "text": [
            "\n"
          ]
        },
        {
          "output_type": "stream",
          "name": "stdout",
          "text": [
            "True\n",
            "log_metrics for a2c\n",
            "True\n",
            "DEBUG (test): run.id = z64rbpbl\n",
            "DEBUG (test): sharpe_ratios = {}\n",
            "DEBUG (test): updating best model based on sharpe_ratios: {}\n",
            "DEBUG (test): no models logged yet, new best model is current one: a2c\n",
            "DEBUG (test): wandb.run.config['sharpe_ratios'] = {'test': {}}\n",
            "log_metrics for best_model\n",
            "True\n",
            "log_metrics for ddpg\n",
            "True\n",
            "DEBUG (test): run.id = z64rbpbl\n",
            "DEBUG (test): sharpe_ratios = {'a2c': -0.49}\n",
            "DEBUG (test): updating best model based on sharpe_ratios: {'a2c': -0.49}\n",
            "DEBUG (test): -0.09 (ddpg) > -0.49 (a2c). New best model: ddpg.\n",
            "log_metrics for best_model\n",
            "True\n",
            "True\n",
            "log_metrics for td3\n",
            "True\n",
            "DEBUG (test): run.id = z64rbpbl\n",
            "DEBUG (test): sharpe_ratios = {'a2c': -0.49, 'ddpg': -0.09}\n",
            "DEBUG (test): updating best model based on sharpe_ratios: {'a2c': -0.49, 'ddpg': -0.09}\n",
            "DEBUG (test): -0.62 (td3) <= -0.09 (ddpg). Not updating best model.\n",
            "log_metrics for sac\n",
            "True\n",
            "DEBUG (test): run.id = z64rbpbl\n",
            "DEBUG (test): sharpe_ratios = {'a2c': -0.49, 'ddpg': -0.09, 'td3': -0.62}\n",
            "DEBUG (test): updating best model based on sharpe_ratios: {'a2c': -0.49, 'ddpg': -0.09, 'td3': -0.62}\n",
            "DEBUG (test): -0.93 (sac) <= -0.09 (ddpg). Not updating best model.\n",
            "log_metrics for ppo\n",
            "True\n",
            "DEBUG (test): run.id = z64rbpbl\n",
            "DEBUG (test): sharpe_ratios = {'a2c': -0.49, 'ddpg': -0.09, 'td3': -0.62, 'sac': -0.93}\n",
            "DEBUG (test): updating best model based on sharpe_ratios: {'a2c': -0.49, 'ddpg': -0.09, 'td3': -0.62, 'sac': -0.93}\n",
            "DEBUG (test): -0.06 (ppo) > -0.09 (ddpg). New best model: ppo.\n",
            "log_metrics for best_model\n",
            "True\n",
            "True\n",
            "True\n",
            "True\n",
            "True\n",
            "DEBUG (CHOSEN): chosen_model_metrics: {'ann_return/a2c': -7.25, 'cum_return/a2c': -1.82, 'mdd/a2c': -6.1, 'sharpe_ratio/a2c': -0.49}\n",
            "DEBUG (CHOSEN): chosen_model_metrics: {'ann_return/chosen_model': -7.25, 'cum_return/chosen_model': -1.82, 'mdd/chosen_model': -6.1, 'sharpe_ratio/chosen_model': -0.49}\n",
            "True\n",
            "True\n",
            "log_plot_as_artifact\n"
          ]
        },
        {
          "output_type": "display_data",
          "data": {
            "text/plain": [
              "<IPython.core.display.HTML object>"
            ],
            "text/html": []
          },
          "metadata": {}
        },
        {
          "output_type": "display_data",
          "data": {
            "text/plain": [
              "<IPython.core.display.HTML object>"
            ],
            "text/html": [
              "<br>    <style><br>        .wandb-row {<br>            display: flex;<br>            flex-direction: row;<br>            flex-wrap: wrap;<br>            justify-content: flex-start;<br>            width: 100%;<br>        }<br>        .wandb-col {<br>            display: flex;<br>            flex-direction: column;<br>            flex-basis: 100%;<br>            flex: 1;<br>            padding: 10px;<br>        }<br>    </style><br><div class=\"wandb-row\"><div class=\"wandb-col\"><h3>Run summary:</h3><br/><table class=\"wandb\"><tr><td>best_model_name</td><td>a2c</td></tr><tr><td>test/ann_return/a2c</td><td>-7.25</td></tr><tr><td>test/ann_return/best_model</td><td>-13.69</td></tr><tr><td>test/ann_return/ddpg</td><td>-2.82</td></tr><tr><td>test/ann_return/ppo</td><td>-1.4</td></tr><tr><td>test/ann_return/sac</td><td>-13.69</td></tr><tr><td>test/ann_return/td3</td><td>-12.49</td></tr><tr><td>test/best_model_name</td><td>sac</td></tr><tr><td>test/cum_return/a2c</td><td>-1.82</td></tr><tr><td>test/cum_return/best_model</td><td>-3.53</td></tr><tr><td>test/cum_return/ddpg</td><td>-0.69</td></tr><tr><td>test/cum_return/ppo</td><td>-0.34</td></tr><tr><td>test/cum_return/sac</td><td>-3.53</td></tr><tr><td>test/cum_return/td3</td><td>-3.2</td></tr><tr><td>test/mdd/a2c</td><td>-6.1</td></tr><tr><td>test/mdd/best_model</td><td>-7.09</td></tr><tr><td>test/mdd/ddpg</td><td>-6.97</td></tr><tr><td>test/mdd/ppo</td><td>-4.58</td></tr><tr><td>test/mdd/sac</td><td>-7.09</td></tr><tr><td>test/mdd/td3</td><td>-6.9</td></tr><tr><td>test/sharpe_ratio/a2c</td><td>-0.49</td></tr><tr><td>test/sharpe_ratio/best_model</td><td>-0.93</td></tr><tr><td>test/sharpe_ratio/ddpg</td><td>-0.09</td></tr><tr><td>test/sharpe_ratio/ppo</td><td>-0.06</td></tr><tr><td>test/sharpe_ratio/sac</td><td>-0.93</td></tr><tr><td>test/sharpe_ratio/td3</td><td>-0.62</td></tr></table><br/></div></div>"
            ]
          },
          "metadata": {}
        },
        {
          "output_type": "display_data",
          "data": {
            "text/plain": [
              "<IPython.core.display.HTML object>"
            ],
            "text/html": [
              " View run <strong style=\"color:#cdcd00\">DOW-30 | 2009-01 | 2016 Q1 | 2016 Q2 | V0mXl</strong> at: <a href='https://wandb.ai/overfit1010/finrl-dt-replicate/runs/z64rbpbl' target=\"_blank\">https://wandb.ai/overfit1010/finrl-dt-replicate/runs/z64rbpbl</a><br> View project at: <a href='https://wandb.ai/overfit1010/finrl-dt-replicate' target=\"_blank\">https://wandb.ai/overfit1010/finrl-dt-replicate</a><br>Synced 5 W&B file(s), 0 media file(s), 2 artifact file(s) and 0 other file(s)"
            ]
          },
          "metadata": {}
        },
        {
          "output_type": "display_data",
          "data": {
            "text/plain": [
              "<IPython.core.display.HTML object>"
            ],
            "text/html": [
              "Find logs at: <code>./wandb/run-20250112_121416-z64rbpbl/logs</code>"
            ]
          },
          "metadata": {}
        },
        {
          "output_type": "display_data",
          "data": {
            "text/plain": [
              "<IPython.core.display.HTML object>"
            ],
            "text/html": [
              "Tracking run with wandb version 0.19.1"
            ]
          },
          "metadata": {}
        },
        {
          "output_type": "display_data",
          "data": {
            "text/plain": [
              "<IPython.core.display.HTML object>"
            ],
            "text/html": [
              "Run data is saved locally in <code>/content/wandb/run-20250112_121458-nmvowd2y</code>"
            ]
          },
          "metadata": {}
        },
        {
          "output_type": "display_data",
          "data": {
            "text/plain": [
              "<IPython.core.display.HTML object>"
            ],
            "text/html": [
              "Resuming run <strong><a href='https://wandb.ai/overfit1010/finrl-dt-replicate/runs/nmvowd2y' target=\"_blank\">DOW-30 | 2009-01 | 2015 Q4 | 2016 Q1 | VAjcS</a></strong> to <a href='https://wandb.ai/overfit1010/finrl-dt-replicate' target=\"_blank\">Weights & Biases</a> (<a href='https://wandb.me/developer-guide' target=\"_blank\">docs</a>)<br>Sweep page: <a href='https://wandb.ai/overfit1010/finrl-dt-replicate/sweeps/k43io2uh' target=\"_blank\">https://wandb.ai/overfit1010/finrl-dt-replicate/sweeps/k43io2uh</a>"
            ]
          },
          "metadata": {}
        },
        {
          "output_type": "display_data",
          "data": {
            "text/plain": [
              "<IPython.core.display.HTML object>"
            ],
            "text/html": [
              " View project at <a href='https://wandb.ai/overfit1010/finrl-dt-replicate' target=\"_blank\">https://wandb.ai/overfit1010/finrl-dt-replicate</a>"
            ]
          },
          "metadata": {}
        },
        {
          "output_type": "display_data",
          "data": {
            "text/plain": [
              "<IPython.core.display.HTML object>"
            ],
            "text/html": [
              " View sweep at <a href='https://wandb.ai/overfit1010/finrl-dt-replicate/sweeps/k43io2uh' target=\"_blank\">https://wandb.ai/overfit1010/finrl-dt-replicate/sweeps/k43io2uh</a>"
            ]
          },
          "metadata": {}
        },
        {
          "output_type": "display_data",
          "data": {
            "text/plain": [
              "<IPython.core.display.HTML object>"
            ],
            "text/html": [
              " View run at <a href='https://wandb.ai/overfit1010/finrl-dt-replicate/runs/nmvowd2y' target=\"_blank\">https://wandb.ai/overfit1010/finrl-dt-replicate/runs/nmvowd2y</a>"
            ]
          },
          "metadata": {}
        },
        {
          "output_type": "stream",
          "name": "stdout",
          "text": [
            "True\n"
          ]
        },
        {
          "output_type": "stream",
          "name": "stderr",
          "text": [
            "\u001b[34m\u001b[1mwandb\u001b[0m:   3 of 3 files downloaded.  \n",
            "\u001b[34m\u001b[1mwandb\u001b[0m:   1 of 1 files downloaded.  \n",
            "\u001b[34m\u001b[1mwandb\u001b[0m:   2 of 2 files downloaded.  \n",
            "\u001b[34m\u001b[1mwandb\u001b[0m:   3 of 3 files downloaded.  \n",
            "\u001b[34m\u001b[1mwandb\u001b[0m:   4 of 4 files downloaded.  \n",
            "\u001b[34m\u001b[1mwandb\u001b[0m:   5 of 5 files downloaded.  \n",
            "\u001b[34m\u001b[1mwandb\u001b[0m:   1 of 1 files downloaded.  \n",
            "\u001b[34m\u001b[1mwandb\u001b[0m:   1 of 1 files downloaded.  \n",
            "\u001b[34m\u001b[1mwandb\u001b[0m:   1 of 1 files downloaded.  \n",
            "\u001b[34m\u001b[1mwandb\u001b[0m:   1 of 1 files downloaded.  \n"
          ]
        },
        {
          "output_type": "stream",
          "name": "stdout",
          "text": [
            "Stock Dimension: 29, State Space: 291\n",
            "hit end!\n",
            "hit end!\n",
            "hit end!\n",
            "hit end!\n"
          ]
        },
        {
          "output_type": "stream",
          "name": "stderr",
          "text": [
            "\r[*********************100%***********************]  1 of 1 completed"
          ]
        },
        {
          "output_type": "stream",
          "name": "stdout",
          "text": [
            "hit end!\n",
            "\n",
            "2016-01-04 00:00:00\n",
            "2016-03-31 00:00:00\n",
            "Shape of DataFrame:  (60, 8)\n",
            "{'dataset_name': 'DOW-30 | 2009-01 | 2015 Q4 | 2016 Q1', 'if_using_td3': True, 'dataset_type': 'quarterly_train_val_test', 'if_using_a2c': True, 'train_params': {'a2c': {'steps': 50000}, 'ppo': {'steps': 200000}, 'sac': {'steps': 70000}, 'td3': {'steps': 50000}, 'ddpg': {'steps': 50000}}, 'finetune': False, 'train_start_date': '2009-01-01', 'stock_index_name': 'DOW-30', 'cost_pct': [0.010314179718673032, 0.009076606561755468, 0.008307067100246136, 0.015516293581809112, 0.006395481989312903, 0.0072110283262062785, 0.04249566955190291, 0.015979716445954528, 0.021738725278835313, 0.004222453318177087, 0.005968143721526647, 0.010896151366589463, 0.01093735188446354, 0.11420864277075855, 0.01665255165637118, 0.010252194206940846, 0.03947813656400475, 0.008462643895002689, 0.01919729692524921, 0.024719550845968045, 0.005734449144229167, 0.03210832438433615, 0.014379031318205482, 0.00982580254909786, 0.0044498520553265045, 0.007984135151425499, 0.05881990501271046, 0.270946766931955, 0.026832260273111815], 'date_range': {'val_start_date': '2015-10-01 00:00:00', 'test_start_date': '2016-01-01 00:00:00', 'train_start_date': '2009-01-01 00:00:00', 'test_end_date': '2016-04-01 00:00:00'}, 'cost_abs': 2.5, 'if_using_ppo': True, 'if_using_sac': True, 'max_test_end_date': '2020-08-05', 'REFERNCE_PRICE_WINDOW_DAYS': 30, 'min_test_start_date': '2016-01-01', 'initial_amount': 50000, 'if_using_ddpg': True, 'REFERENCE_PRICE_END_DATE': '2024-12-21'}\n"
          ]
        },
        {
          "output_type": "stream",
          "name": "stderr",
          "text": [
            "\n"
          ]
        },
        {
          "output_type": "stream",
          "name": "stdout",
          "text": [
            "True\n",
            "log_metrics for a2c\n",
            "True\n",
            "DEBUG (test): run.id = nmvowd2y\n",
            "DEBUG (test): sharpe_ratios = {}\n",
            "DEBUG (test): updating best model based on sharpe_ratios: {}\n",
            "DEBUG (test): no models logged yet, new best model is current one: a2c\n",
            "DEBUG (test): wandb.run.config['sharpe_ratios'] = {'test': {}}\n",
            "log_metrics for best_model\n",
            "True\n",
            "log_metrics for ddpg\n",
            "True\n",
            "DEBUG (test): run.id = nmvowd2y\n",
            "DEBUG (test): sharpe_ratios = {'a2c': 1.19}\n",
            "DEBUG (test): updating best model based on sharpe_ratios: {'a2c': 1.19}\n",
            "DEBUG (test): -0.58 (ddpg) <= 1.19 (a2c). Not updating best model.\n",
            "log_metrics for td3\n",
            "True\n",
            "DEBUG (test): run.id = nmvowd2y\n",
            "DEBUG (test): sharpe_ratios = {'a2c': 1.19, 'ddpg': -0.58}\n",
            "DEBUG (test): updating best model based on sharpe_ratios: {'a2c': 1.19, 'ddpg': -0.58}\n",
            "DEBUG (test): -0.21 (td3) <= 1.19 (a2c). Not updating best model.\n",
            "log_metrics for sac\n",
            "True\n",
            "DEBUG (test): run.id = nmvowd2y\n",
            "DEBUG (test): sharpe_ratios = {'a2c': 1.19, 'ddpg': -0.58, 'td3': -0.21}\n",
            "DEBUG (test): updating best model based on sharpe_ratios: {'a2c': 1.19, 'ddpg': -0.58, 'td3': -0.21}\n",
            "DEBUG (test): 0.26 (sac) <= 1.19 (a2c). Not updating best model.\n",
            "log_metrics for ppo\n",
            "True\n",
            "DEBUG (test): run.id = nmvowd2y\n",
            "DEBUG (test): sharpe_ratios = {'a2c': 1.19, 'ddpg': -0.58, 'td3': -0.21, 'sac': 0.26}\n",
            "DEBUG (test): updating best model based on sharpe_ratios: {'a2c': 1.19, 'ddpg': -0.58, 'td3': -0.21, 'sac': 0.26}\n",
            "DEBUG (test): 0.04 (ppo) <= 1.19 (a2c). Not updating best model.\n",
            "True\n",
            "True\n",
            "True\n",
            "DEBUG (CHOSEN): chosen_model_metrics: {'ann_return/ddpg': -16.13, 'cum_return/ddpg': -4.06, 'mdd/ddpg': -15.8, 'sharpe_ratio/ddpg': -0.58}\n",
            "DEBUG (CHOSEN): chosen_model_metrics: {'ann_return/chosen_model': -16.13, 'cum_return/chosen_model': -4.06, 'mdd/chosen_model': -15.8, 'sharpe_ratio/chosen_model': -0.58}\n",
            "True\n",
            "True\n",
            "log_plot_as_artifact\n"
          ]
        },
        {
          "output_type": "display_data",
          "data": {
            "text/plain": [
              "<IPython.core.display.HTML object>"
            ],
            "text/html": []
          },
          "metadata": {}
        },
        {
          "output_type": "display_data",
          "data": {
            "text/plain": [
              "<IPython.core.display.HTML object>"
            ],
            "text/html": [
              "<br>    <style><br>        .wandb-row {<br>            display: flex;<br>            flex-direction: row;<br>            flex-wrap: wrap;<br>            justify-content: flex-start;<br>            width: 100%;<br>        }<br>        .wandb-col {<br>            display: flex;<br>            flex-direction: column;<br>            flex-basis: 100%;<br>            flex: 1;<br>            padding: 10px;<br>        }<br>    </style><br><div class=\"wandb-row\"><div class=\"wandb-col\"><h3>Run summary:</h3><br/><table class=\"wandb\"><tr><td>best_model_name</td><td>a2c</td></tr><tr><td>test/ann_return/a2c</td><td>20.46</td></tr><tr><td>test/ann_return/best_model</td><td>20.46</td></tr><tr><td>test/ann_return/ddpg</td><td>-16.13</td></tr><tr><td>test/ann_return/ppo</td><td>-0.68</td></tr><tr><td>test/ann_return/sac</td><td>3.3</td></tr><tr><td>test/ann_return/td3</td><td>-7.96</td></tr><tr><td>test/best_model_name</td><td>a2c</td></tr><tr><td>test/cum_return/a2c</td><td>4.48</td></tr><tr><td>test/cum_return/best_model</td><td>4.48</td></tr><tr><td>test/cum_return/ddpg</td><td>-4.06</td></tr><tr><td>test/cum_return/ppo</td><td>-0.16</td></tr><tr><td>test/cum_return/sac</td><td>0.77</td></tr><tr><td>test/cum_return/td3</td><td>-1.94</td></tr><tr><td>test/mdd/a2c</td><td>-8.64</td></tr><tr><td>test/mdd/best_model</td><td>-8.64</td></tr><tr><td>test/mdd/ddpg</td><td>-15.8</td></tr><tr><td>test/mdd/ppo</td><td>-9.58</td></tr><tr><td>test/mdd/sac</td><td>-11.43</td></tr><tr><td>test/mdd/td3</td><td>-16.22</td></tr><tr><td>test/sharpe_ratio/a2c</td><td>1.19</td></tr><tr><td>test/sharpe_ratio/best_model</td><td>1.19</td></tr><tr><td>test/sharpe_ratio/ddpg</td><td>-0.58</td></tr><tr><td>test/sharpe_ratio/ppo</td><td>0.04</td></tr><tr><td>test/sharpe_ratio/sac</td><td>0.26</td></tr><tr><td>test/sharpe_ratio/td3</td><td>-0.21</td></tr></table><br/></div></div>"
            ]
          },
          "metadata": {}
        },
        {
          "output_type": "display_data",
          "data": {
            "text/plain": [
              "<IPython.core.display.HTML object>"
            ],
            "text/html": [
              " View run <strong style=\"color:#cdcd00\">DOW-30 | 2009-01 | 2015 Q4 | 2016 Q1 | VAjcS</strong> at: <a href='https://wandb.ai/overfit1010/finrl-dt-replicate/runs/nmvowd2y' target=\"_blank\">https://wandb.ai/overfit1010/finrl-dt-replicate/runs/nmvowd2y</a><br> View project at: <a href='https://wandb.ai/overfit1010/finrl-dt-replicate' target=\"_blank\">https://wandb.ai/overfit1010/finrl-dt-replicate</a><br>Synced 5 W&B file(s), 0 media file(s), 2 artifact file(s) and 0 other file(s)"
            ]
          },
          "metadata": {}
        },
        {
          "output_type": "display_data",
          "data": {
            "text/plain": [
              "<IPython.core.display.HTML object>"
            ],
            "text/html": [
              "Find logs at: <code>./wandb/run-20250112_121458-nmvowd2y/logs</code>"
            ]
          },
          "metadata": {}
        }
      ],
      "source": [
        "#@title Log metrics for a SWEEP\n",
        "from tqdm.notebook import tqdm\n",
        "\n",
        "# SWEEP_ID = 'k43io2uh'\n",
        "# SWEEP_ID = 'ebyzng3y'\n",
        "SWEEP_ID = 'k43io2uh'\n",
        "TURBULENCE_TH = 30\n",
        "\n",
        "##################\n",
        "\n",
        "api = wandb.Api()\n",
        "sweep = api.sweep(f'{ENTITY}/{PROJECT}/{SWEEP_ID}')\n",
        "\n",
        "wandb.finish()\n",
        "for run in tqdm(sweep.runs):\n",
        "    # print(f\"\\nRun: {run.id}\")\n",
        "    run_prediction_and_log_metrics(run.id, turbulence_threshold=TURBULENCE_TH)\n",
        "    # pass"
      ]
    },
    {
      "cell_type": "markdown",
      "metadata": {
        "id": "GyUsdkJ78eeC"
      },
      "source": [
        "# Fix metrics"
      ]
    },
    {
      "cell_type": "markdown",
      "metadata": {
        "id": "Jn5pyF-tIheH"
      },
      "source": [
        "## Compute cumulative metrics"
      ]
    },
    {
      "cell_type": "code",
      "execution_count": null,
      "metadata": {
        "id": "JvMndOzoJgTm"
      },
      "outputs": [],
      "source": [
        "SWEEP_ID = 'l9jr39py'\n",
        "\n",
        "api = wandb.Api()\n",
        "sweep = api.sweep(f'{ENTITY}/{PROJECT}/{SWEEP_ID}')"
      ]
    },
    {
      "cell_type": "code",
      "execution_count": null,
      "metadata": {
        "colab": {
          "base_uri": "https://localhost:8080/"
        },
        "id": "3slTkqB9J4nO",
        "outputId": "6381a8bc-bc24-4fcc-8fcd-99bf68de65ef"
      },
      "outputs": [
        {
          "name": "stdout",
          "output_type": "stream",
          "text": [
            "True\n"
          ]
        }
      ],
      "source": [
        "for run in sweep.runs:\n",
        "    run = api.run(f'{ENTITY}/{PROJECT}/{run.id}')\n",
        "    break\n",
        "    # with wandb.init(project=PROJECT, entity=ENTITY, id=run_id, resume='must'):\n",
        "        # config = wandb.run.config\n",
        "\n"
      ]
    },
    {
      "cell_type": "code",
      "execution_count": null,
      "metadata": {
        "id": "08bLXg7WJpEN"
      },
      "outputs": [],
      "source": [
        "for each run in sweep.runs:\n",
        "    # for each model in models:\n",
        "        # update_cumulative_metrics()"
      ]
    },
    {
      "cell_type": "code",
      "execution_count": null,
      "metadata": {
        "cellView": "form",
        "id": "EBC7C-KtImSq"
      },
      "outputs": [],
      "source": [
        "#@title run_prediction_and_log_metrics (cumulative)\n",
        "\n",
        "class CumulativeMetricsLogger():\n",
        "    def __init__(self, sweep_id):\n",
        "        # TODO: assert every run in sweep has same models enabled?\n",
        "        self.cum_result = pd.DataFrame() # start with empty results\n",
        "\n",
        "    def run_prediction_and_log_metrics(self, run_id):\n",
        "        with wandb.init(project=PROJECT, entity=ENTITY, id=run_id, resume='must'):\n",
        "            config = wandb.run.config\n",
        "\n",
        "            download_artifacts(run_id)\n",
        "            train, val, trade = load_data(config)\n",
        "            trade = fix_daily_index(trade)\n",
        "            print(f\"DEBUG trade end:{trade['date'].max()}\")\n",
        "\n",
        "            e_trade_gym = init_env(trade, config)\n",
        "            result = get_predictions(e_trade_gym, config)\n",
        "            result = add_djia_test(trade, result, config)\n",
        "\n",
        "            # Calculate and log normal metrics\n",
        "            metrics_df, metrics_summary_df, experiment_stats = calculate_metrics(result)\n",
        "            log_test_metrics(metrics_summary_df)\n",
        "            metrics_all = result_df_to_metrics_dict(metrics_summary_df)\n",
        "            for model_name, metrics in metrics_all.items():\n",
        "                update_best_model_metrics(metrics, model_name, 'test')\n",
        "\n",
        "            # Calculate and log cumulative metrics\n",
        "            self.cum_result = pd.concat([self.cum_result, result])\n",
        "            metrics_df, metrics_summary_df, experiment_stats = calculate_metrics(self.cum_result)\n",
        "            log_test_metrics(metrics_summary_df)\n",
        "            metrics_all = result_df_to_metrics_dict(metrics_summary_df)\n",
        "            for model_name, metrics in metrics_all.items():\n",
        "                update_best_model_metrics(metrics, model_name, 'test')\n",
        "\n",
        "            fig = plot_results(result, experiment_stats)\n",
        "            log_plot_as_artifact(fig, artifact_name_prefix=\"performance_comparison_DRL_agents\", artifact_type=\"plot\")"
      ]
    },
    {
      "cell_type": "code",
      "execution_count": null,
      "metadata": {
        "id": "2Kcveu9mIsQn"
      },
      "outputs": [],
      "source": [
        "from tqdm.notebook import tqdm\n",
        "\n",
        "##################\n",
        "\n",
        "api = wandb.Api()\n",
        "sweep = api.sweep(f'{ENTITY}/{PROJECT}/{SWEEP_ID}')\n",
        "\n",
        "for run in tqdm(sweep.runs):\n",
        "    run_prediction_and_log_metrics(run.id)\n",
        "    pass"
      ]
    },
    {
      "cell_type": "markdown",
      "metadata": {
        "id": "z-5AscFlaF4t"
      },
      "source": [
        "## Un-annualize Sharpe Ratio"
      ]
    },
    {
      "cell_type": "code",
      "execution_count": null,
      "metadata": {
        "cellView": "form",
        "colab": {
          "base_uri": "https://localhost:8080/"
        },
        "id": "3QZhFmSL_zAi",
        "outputId": "02cc22f0-715e-45e1-fcb3-e82c03d88207"
      },
      "outputs": [
        {
          "name": "stdout",
          "output_type": "stream",
          "text": [
            "Un-annualized Sharpe Ratio: 1.25\n"
          ]
        }
      ],
      "source": [
        "#@title unannualize_sharpe_ratio\n",
        "\n",
        "import numpy as np\n",
        "\n",
        "def unannualize_sharpe_ratio(annual_sharpe_ratio, days_in_period, days_in_year=252):\n",
        "    return annual_sharpe_ratio / np.sqrt(days_in_year / days_in_period)\n",
        "\n",
        "# Example usage\n",
        "annual_sharpe = 2.5\n",
        "days_in_period = 63  # e.g., for a quarter\n",
        "un_annualized_sharpe = unannualize_sharpe_ratio(annual_sharpe, days_in_period)\n",
        "print(f\"Un-annualized Sharpe Ratio: {un_annualized_sharpe}\")"
      ]
    },
    {
      "cell_type": "code",
      "execution_count": null,
      "metadata": {
        "cellView": "form",
        "id": "_D92mR-DC_r7"
      },
      "outputs": [],
      "source": [
        "#@title fix_sharpe_ratios\n",
        "\n",
        "def fix_sharpe_ratios(run):\n",
        "    config = run.config\n",
        "    date_range = config['date_range']\n",
        "    days_per_split = {}\n",
        "\n",
        "    # Calculate days for the train split\n",
        "    days_per_split['train'] = (\n",
        "        pd.Timestamp(date_range['val_start_date']) - pd.Timestamp(date_range['train_start_date'])\n",
        "    ).days\n",
        "\n",
        "    # Calculate days for the validation split\n",
        "    days_per_split['val'] = (\n",
        "        pd.Timestamp(date_range['test_start_date']) - pd.Timestamp(date_range['val_start_date'])\n",
        "    ).days\n",
        "\n",
        "    # Calculate days for the test split\n",
        "    days_per_split['test'] = (\n",
        "        pd.Timestamp(date_range['test_end_date']) - pd.Timestamp(date_range['test_start_date'])\n",
        "    ).days\n",
        "\n",
        "    # # Add dummy data\n",
        "\n",
        "    # days_per_split['dummy'] = (\n",
        "    #     pd.Timestamp(date_range['test_end_date']) - pd.Timestamp(date_range['test_start_date'])\n",
        "    # ).days\n",
        "\n",
        "    # wandb.log({\n",
        "    #     'dummy': {\n",
        "    #         'sharpe_ratio/best_model': -1.135835450802152,\n",
        "    #         'sharpe_ratio/a2c': -1.135835450802152,\n",
        "    #     }\n",
        "    # })\n",
        "\n",
        "    # print(days_per_split)\n",
        "\n",
        "    for split_label, days_in_split in days_per_split.items():\n",
        "        if split_label in run.summary.keys():\n",
        "            sharpe_ratios = {key: value for key, value in run.summary._as_dict()[split_label].items() if key.startswith(f'sharpe_ratio/')}\n",
        "\n",
        "            # print()\n",
        "            # print(split_label)\n",
        "            # print(sharpe_ratios)\n",
        "            # display(run.summary._as_dict()[split_label])\n",
        "\n",
        "            for ann_key, sharpe_ratio in sharpe_ratios.items():\n",
        "                unann_sharpe_ratio = unannualize_sharpe_ratio(sharpe_ratio, days_in_split)\n",
        "                unann_key = f\"unann_{ann_key}\"\n",
        "\n",
        "                # Log the updated metrics to W&B\n",
        "                log_nested_metrics(split_label, {unann_key: unann_sharpe_ratio})\n",
        "        else:\n",
        "            print(f\"Skipping '{split_label}' split\")"
      ]
    },
    {
      "cell_type": "code",
      "execution_count": null,
      "metadata": {
        "cellView": "form",
        "id": "9kzdwD94BxPy"
      },
      "outputs": [],
      "source": [
        "#@title fix_sharpe_ratios_all (per RUN)\n",
        "\n",
        "# RUN_ID = 'zyokpqqt'\n",
        "\n",
        "# # if wandb.run is not None and RUN_ID != wandb.run.id:\n",
        "#     # wandb.finish()\n",
        "\n",
        "# wandb.finish()\n",
        "\n",
        "# run = wandb.init(id=RUN_ID, project=PROJECT, entity=ENTITY, resume=\"must\")\n",
        "\n",
        "# fix_sharpe_ratios(run)"
      ]
    },
    {
      "cell_type": "code",
      "execution_count": null,
      "metadata": {
        "cellView": "form",
        "colab": {
          "base_uri": "https://localhost:8080/",
          "height": 1000
        },
        "id": "PfPJTxDQmVs-",
        "outputId": "421d536e-af6c-422d-9517-41984b999886"
      },
      "outputs": [
        {
          "name": "stdout",
          "output_type": "stream",
          "text": [
            "True\n",
            "True\n"
          ]
        },
        {
          "data": {
            "text/html": [
              "Tracking run with wandb version 0.19.1"
            ],
            "text/plain": [
              "<IPython.core.display.HTML object>"
            ]
          },
          "metadata": {},
          "output_type": "display_data"
        },
        {
          "data": {
            "text/html": [
              "Run data is saved locally in <code>/content/wandb/run-20250111_074937-5cauwt4x</code>"
            ],
            "text/plain": [
              "<IPython.core.display.HTML object>"
            ]
          },
          "metadata": {},
          "output_type": "display_data"
        },
        {
          "data": {
            "text/html": [
              "Resuming run <strong><a href='https://wandb.ai/overfit1010/finrl-dt-replicate/runs/5cauwt4x' target=\"_blank\">DOW-30 | 2009-01 | 2016 Q1 | 2016 Q2 | L68Zr</a></strong> to <a href='https://wandb.ai/overfit1010/finrl-dt-replicate' target=\"_blank\">Weights & Biases</a> (<a href='https://wandb.me/developer-guide' target=\"_blank\">docs</a>)<br>Sweep page: <a href='https://wandb.ai/overfit1010/finrl-dt-replicate/sweeps/ebyzng3y' target=\"_blank\">https://wandb.ai/overfit1010/finrl-dt-replicate/sweeps/ebyzng3y</a>"
            ],
            "text/plain": [
              "<IPython.core.display.HTML object>"
            ]
          },
          "metadata": {},
          "output_type": "display_data"
        },
        {
          "data": {
            "text/html": [
              " View project at <a href='https://wandb.ai/overfit1010/finrl-dt-replicate' target=\"_blank\">https://wandb.ai/overfit1010/finrl-dt-replicate</a>"
            ],
            "text/plain": [
              "<IPython.core.display.HTML object>"
            ]
          },
          "metadata": {},
          "output_type": "display_data"
        },
        {
          "data": {
            "text/html": [
              " View sweep at <a href='https://wandb.ai/overfit1010/finrl-dt-replicate/sweeps/ebyzng3y' target=\"_blank\">https://wandb.ai/overfit1010/finrl-dt-replicate/sweeps/ebyzng3y</a>"
            ],
            "text/plain": [
              "<IPython.core.display.HTML object>"
            ]
          },
          "metadata": {},
          "output_type": "display_data"
        },
        {
          "data": {
            "text/html": [
              " View run at <a href='https://wandb.ai/overfit1010/finrl-dt-replicate/runs/5cauwt4x' target=\"_blank\">https://wandb.ai/overfit1010/finrl-dt-replicate/runs/5cauwt4x</a>"
            ],
            "text/plain": [
              "<IPython.core.display.HTML object>"
            ]
          },
          "metadata": {},
          "output_type": "display_data"
        },
        {
          "data": {
            "text/html": [],
            "text/plain": [
              "<IPython.core.display.HTML object>"
            ]
          },
          "metadata": {},
          "output_type": "display_data"
        },
        {
          "data": {
            "text/html": [
              "<br>    <style><br>        .wandb-row {<br>            display: flex;<br>            flex-direction: row;<br>            flex-wrap: wrap;<br>            justify-content: flex-start;<br>            width: 100%;<br>        }<br>        .wandb-col {<br>            display: flex;<br>            flex-direction: column;<br>            flex-basis: 100%;<br>            flex: 1;<br>            padding: 10px;<br>        }<br>    </style><br><div class=\"wandb-row\"><div class=\"wandb-col\"><h3>Run summary:</h3><br/><table class=\"wandb\"><tr><td>best_model_name</td><td>a2c</td></tr><tr><td>test/ann_return/a2c</td><td>-22.13</td></tr><tr><td>test/ann_return/best_model</td><td>-22.13</td></tr><tr><td>test/ann_return/ddpg</td><td>2.19</td></tr><tr><td>test/ann_return/ppo</td><td>-8.85</td></tr><tr><td>test/ann_return/sac</td><td>-7.31</td></tr><tr><td>test/ann_return/td3</td><td>-4.14</td></tr><tr><td>test/best_model_name</td><td>a2c</td></tr><tr><td>test/cum_return/a2c</td><td>-5.92</td></tr><tr><td>test/cum_return/best_model</td><td>-5.92</td></tr><tr><td>test/cum_return/ddpg</td><td>0.53</td></tr><tr><td>test/cum_return/ppo</td><td>-2.23</td></tr><tr><td>test/cum_return/sac</td><td>-1.83</td></tr><tr><td>test/cum_return/td3</td><td>-1.03</td></tr><tr><td>test/mdd/a2c</td><td>-10.23</td></tr><tr><td>test/mdd/best_model</td><td>-10.23</td></tr><tr><td>test/mdd/ddpg</td><td>-6.08</td></tr><tr><td>test/mdd/ppo</td><td>-6.83</td></tr><tr><td>test/mdd/sac</td><td>-5.63</td></tr><tr><td>test/mdd/td3</td><td>-6.52</td></tr><tr><td>test/sharpe_ratio/a2c</td><td>-1.39</td></tr><tr><td>test/sharpe_ratio/best_model</td><td>-1.39</td></tr><tr><td>test/sharpe_ratio/ddpg</td><td>0.22</td></tr><tr><td>test/sharpe_ratio/ppo</td><td>-0.7</td></tr><tr><td>test/sharpe_ratio/sac</td><td>-0.48</td></tr><tr><td>test/sharpe_ratio/td3</td><td>-0.2</td></tr></table><br/></div></div>"
            ],
            "text/plain": [
              "<IPython.core.display.HTML object>"
            ]
          },
          "metadata": {},
          "output_type": "display_data"
        },
        {
          "data": {
            "text/html": [
              " View run <strong style=\"color:#cdcd00\">DOW-30 | 2009-01 | 2016 Q1 | 2016 Q2 | L68Zr</strong> at: <a href='https://wandb.ai/overfit1010/finrl-dt-replicate/runs/5cauwt4x' target=\"_blank\">https://wandb.ai/overfit1010/finrl-dt-replicate/runs/5cauwt4x</a><br> View project at: <a href='https://wandb.ai/overfit1010/finrl-dt-replicate' target=\"_blank\">https://wandb.ai/overfit1010/finrl-dt-replicate</a><br>Synced 5 W&B file(s), 0 media file(s), 0 artifact file(s) and 0 other file(s)"
            ],
            "text/plain": [
              "<IPython.core.display.HTML object>"
            ]
          },
          "metadata": {},
          "output_type": "display_data"
        },
        {
          "data": {
            "text/html": [
              "Find logs at: <code>./wandb/run-20250111_074937-5cauwt4x/logs</code>"
            ],
            "text/plain": [
              "<IPython.core.display.HTML object>"
            ]
          },
          "metadata": {},
          "output_type": "display_data"
        },
        {
          "data": {
            "text/html": [
              "Tracking run with wandb version 0.19.1"
            ],
            "text/plain": [
              "<IPython.core.display.HTML object>"
            ]
          },
          "metadata": {},
          "output_type": "display_data"
        },
        {
          "data": {
            "text/html": [
              "Run data is saved locally in <code>/content/wandb/run-20250111_074942-yge7qzst</code>"
            ],
            "text/plain": [
              "<IPython.core.display.HTML object>"
            ]
          },
          "metadata": {},
          "output_type": "display_data"
        },
        {
          "data": {
            "text/html": [
              "Resuming run <strong><a href='https://wandb.ai/overfit1010/finrl-dt-replicate/runs/yge7qzst' target=\"_blank\">DOW-30 | 2009-01 | 2015 Q4 | 2016 Q1 | Mz6BB</a></strong> to <a href='https://wandb.ai/overfit1010/finrl-dt-replicate' target=\"_blank\">Weights & Biases</a> (<a href='https://wandb.me/developer-guide' target=\"_blank\">docs</a>)<br>Sweep page: <a href='https://wandb.ai/overfit1010/finrl-dt-replicate/sweeps/ebyzng3y' target=\"_blank\">https://wandb.ai/overfit1010/finrl-dt-replicate/sweeps/ebyzng3y</a>"
            ],
            "text/plain": [
              "<IPython.core.display.HTML object>"
            ]
          },
          "metadata": {},
          "output_type": "display_data"
        },
        {
          "data": {
            "text/html": [
              " View project at <a href='https://wandb.ai/overfit1010/finrl-dt-replicate' target=\"_blank\">https://wandb.ai/overfit1010/finrl-dt-replicate</a>"
            ],
            "text/plain": [
              "<IPython.core.display.HTML object>"
            ]
          },
          "metadata": {},
          "output_type": "display_data"
        },
        {
          "data": {
            "text/html": [
              " View sweep at <a href='https://wandb.ai/overfit1010/finrl-dt-replicate/sweeps/ebyzng3y' target=\"_blank\">https://wandb.ai/overfit1010/finrl-dt-replicate/sweeps/ebyzng3y</a>"
            ],
            "text/plain": [
              "<IPython.core.display.HTML object>"
            ]
          },
          "metadata": {},
          "output_type": "display_data"
        },
        {
          "data": {
            "text/html": [
              " View run at <a href='https://wandb.ai/overfit1010/finrl-dt-replicate/runs/yge7qzst' target=\"_blank\">https://wandb.ai/overfit1010/finrl-dt-replicate/runs/yge7qzst</a>"
            ],
            "text/plain": [
              "<IPython.core.display.HTML object>"
            ]
          },
          "metadata": {},
          "output_type": "display_data"
        },
        {
          "data": {
            "text/html": [],
            "text/plain": [
              "<IPython.core.display.HTML object>"
            ]
          },
          "metadata": {},
          "output_type": "display_data"
        },
        {
          "data": {
            "text/html": [
              "<br>    <style><br>        .wandb-row {<br>            display: flex;<br>            flex-direction: row;<br>            flex-wrap: wrap;<br>            justify-content: flex-start;<br>            width: 100%;<br>        }<br>        .wandb-col {<br>            display: flex;<br>            flex-direction: column;<br>            flex-basis: 100%;<br>            flex: 1;<br>            padding: 10px;<br>        }<br>    </style><br><div class=\"wandb-row\"><div class=\"wandb-col\"><h3>Run summary:</h3><br/><table class=\"wandb\"><tr><td>best_model_name</td><td>a2c</td></tr><tr><td>test/ann_return/a2c</td><td>-6.64</td></tr><tr><td>test/ann_return/best_model</td><td>-6.64</td></tr><tr><td>test/ann_return/ddpg</td><td>-2.05</td></tr><tr><td>test/ann_return/ppo</td><td>6.26</td></tr><tr><td>test/ann_return/sac</td><td>24.89</td></tr><tr><td>test/ann_return/td3</td><td>-5.23</td></tr><tr><td>test/best_model_name</td><td>a2c</td></tr><tr><td>test/cum_return/a2c</td><td>-1.61</td></tr><tr><td>test/cum_return/best_model</td><td>-1.61</td></tr><tr><td>test/cum_return/ddpg</td><td>-0.49</td></tr><tr><td>test/cum_return/ppo</td><td>1.44</td></tr><tr><td>test/cum_return/sac</td><td>5.38</td></tr><tr><td>test/cum_return/td3</td><td>-1.26</td></tr><tr><td>test/mdd/a2c</td><td>-13.42</td></tr><tr><td>test/mdd/best_model</td><td>-13.42</td></tr><tr><td>test/mdd/ddpg</td><td>-10.3</td></tr><tr><td>test/mdd/ppo</td><td>-8.1</td></tr><tr><td>test/mdd/sac</td><td>-7.77</td></tr><tr><td>test/mdd/td3</td><td>-12.09</td></tr><tr><td>test/sharpe_ratio/a2c</td><td>-0.23</td></tr><tr><td>test/sharpe_ratio/best_model</td><td>-0.23</td></tr><tr><td>test/sharpe_ratio/ddpg</td><td>-0.0</td></tr><tr><td>test/sharpe_ratio/ppo</td><td>0.42</td></tr><tr><td>test/sharpe_ratio/sac</td><td>1.46</td></tr><tr><td>test/sharpe_ratio/td3</td><td>-0.15</td></tr><tr><td>unann_sharpe_ratio/a2c</td><td>0.93568</td></tr><tr><td>unann_sharpe_ratio/best_model</td><td>0.87735</td></tr></table><br/></div></div>"
            ],
            "text/plain": [
              "<IPython.core.display.HTML object>"
            ]
          },
          "metadata": {},
          "output_type": "display_data"
        },
        {
          "data": {
            "text/html": [
              " View run <strong style=\"color:#cdcd00\">DOW-30 | 2009-01 | 2015 Q4 | 2016 Q1 | Mz6BB</strong> at: <a href='https://wandb.ai/overfit1010/finrl-dt-replicate/runs/yge7qzst' target=\"_blank\">https://wandb.ai/overfit1010/finrl-dt-replicate/runs/yge7qzst</a><br> View project at: <a href='https://wandb.ai/overfit1010/finrl-dt-replicate' target=\"_blank\">https://wandb.ai/overfit1010/finrl-dt-replicate</a><br>Synced 5 W&B file(s), 0 media file(s), 0 artifact file(s) and 0 other file(s)"
            ],
            "text/plain": [
              "<IPython.core.display.HTML object>"
            ]
          },
          "metadata": {},
          "output_type": "display_data"
        },
        {
          "data": {
            "text/html": [
              "Find logs at: <code>./wandb/run-20250111_074942-yge7qzst/logs</code>"
            ],
            "text/plain": [
              "<IPython.core.display.HTML object>"
            ]
          },
          "metadata": {},
          "output_type": "display_data"
        }
      ],
      "source": [
        "#@title fix_sharpe_ratios_all (per SWEEP)\n",
        "\n",
        "def fix_sharpe_ratios_all(sweep_id):\n",
        "    api = wandb.Api()\n",
        "    sweep = api.sweep(f\"{ENTITY}/{PROJECT}/{sweep_id}\")\n",
        "\n",
        "    for run in sweep.runs:\n",
        "        with wandb.init(id=run.id, project=PROJECT, entity=ENTITY, resume=\"must\") as run:\n",
        "            fix_sharpe_ratios(run)\n",
        "\n",
        "# SWEEP_ID = 'k43io2uh'\n",
        "fix_sharpe_ratios_all(SWEEP_ID)"
      ]
    },
    {
      "cell_type": "markdown",
      "metadata": {
        "id": "TqjpQ9jzGAK6"
      },
      "source": [
        "# Rename metrics"
      ]
    },
    {
      "cell_type": "code",
      "execution_count": null,
      "metadata": {
        "cellView": "form",
        "id": "pje1QlhT9MwM"
      },
      "outputs": [],
      "source": [
        "#@title rename_metrics_in_sweep\n",
        "import wandb\n",
        "\n",
        "def rename_metrics_in_sweep(sweep_id, metric_rename_map):\n",
        "    \"\"\"\n",
        "    Rename metrics in all runs of a given sweep.\n",
        "\n",
        "    Parameters:\n",
        "        sweep_id (str): The ID of the sweep.\n",
        "        metric_rename_map (dict): A dictionary where keys are old metric names and values are the new names.\n",
        "    \"\"\"\n",
        "    api = wandb.Api()\n",
        "    sweep = api.sweep(f\"{ENTITY}/{PROJECT}/{sweep_id}\")\n",
        "\n",
        "    for run in sweep.runs:\n",
        "        try:\n",
        "            # Activate the run with context manager\n",
        "            with wandb.init(id=run.id, project=PROJECT, entity=ENTITY, resume=\"allow\"):\n",
        "                # Get the run's summary\n",
        "                summary = run.summary\n",
        "\n",
        "                # Rename metrics based on the provided mapping\n",
        "                for old_metric, new_metric in metric_rename_map.items():\n",
        "                    if old_metric in summary:\n",
        "                        # Convert the metric to float if possible\n",
        "                        try:\n",
        "                            metric_value = float(summary[old_metric])\n",
        "                        except ValueError:\n",
        "                            metric_value = summary[old_metric]  # Keep the value if it's not convertible to float\n",
        "\n",
        "                        # Log the renamed metric to the current run\n",
        "                        wandb.log({new_metric: metric_value})\n",
        "\n",
        "                # Save the updated metrics\n",
        "                print(f\"Updated metrics for run: {run.name}\")\n",
        "        except Exception as e:\n",
        "            print(f\"Failed to update run {run.name}: {e}\")"
      ]
    },
    {
      "cell_type": "code",
      "execution_count": null,
      "metadata": {
        "id": "byiAWv-n8jWn",
        "cellView": "form"
      },
      "outputs": [],
      "source": [
        "#@title rename default metrics\n",
        "\n",
        "# metric_rename_map = {\n",
        "#     \"max_sharpe_ratio\": \"train.sharpe_ratio/best_model\",\n",
        "#     \"max_sharpe_ratio_model\": \"train.best_model_name\"\n",
        "# }\n",
        "\n",
        "# metric_rename_map = {\n",
        "#     \"test.sharpe_ratio/best_model\": \"test/sharpe_ratio/best_model\",\n",
        "#     \"test.best_model_name\": \"test/best_model_name\",\n",
        "#     \"test.cum_return/best_model\": \"test/cum_return/best_model\",\n",
        "#     \"test.ann_return/best_model\": \"test/ann_return/best_model\",\n",
        "#     \"test.mdd/best_model\": \"test/mdd/best_model\"\n",
        "# }\n",
        "\n",
        "rename_metrics_in_sweep(sweep_id=SWEEP_ID, metric_rename_map=metric_rename_map)"
      ]
    },
    {
      "cell_type": "code",
      "execution_count": null,
      "metadata": {
        "id": "f7CC8-pHDN3f"
      },
      "outputs": [],
      "source": [
        "wandb.finish()"
      ]
    }
  ],
  "metadata": {
    "colab": {
      "collapsed_sections": [
        "bnopI9QoL550",
        "k_IxXsJXHbl_",
        "GyUsdkJ78eeC",
        "Jn5pyF-tIheH"
      ],
      "provenance": [],
      "authorship_tag": "ABX9TyMpNFX1u+egi+Fg4KaF1D8L",
      "include_colab_link": true
    },
    "kernelspec": {
      "display_name": "Python 3",
      "name": "python3"
    },
    "language_info": {
      "name": "python"
    },
    "widgets": {
      "application/vnd.jupyter.widget-state+json": {
        "a61e83645df64ef6b6615a3f88fceed2": {
          "model_module": "@jupyter-widgets/controls",
          "model_name": "HBoxModel",
          "model_module_version": "1.5.0",
          "state": {
            "_dom_classes": [],
            "_model_module": "@jupyter-widgets/controls",
            "_model_module_version": "1.5.0",
            "_model_name": "HBoxModel",
            "_view_count": null,
            "_view_module": "@jupyter-widgets/controls",
            "_view_module_version": "1.5.0",
            "_view_name": "HBoxView",
            "box_style": "",
            "children": [
              "IPY_MODEL_f60b0eb2d7ad4dfbbff9de0475f1df20",
              "IPY_MODEL_1d1c8d16758546daa63bb864ba9fac52",
              "IPY_MODEL_10cfab4a43fe49fe910af8c51e71d8fd"
            ],
            "layout": "IPY_MODEL_9c4e75b3aeda4879871b5364484873e8"
          }
        },
        "f60b0eb2d7ad4dfbbff9de0475f1df20": {
          "model_module": "@jupyter-widgets/controls",
          "model_name": "HTMLModel",
          "model_module_version": "1.5.0",
          "state": {
            "_dom_classes": [],
            "_model_module": "@jupyter-widgets/controls",
            "_model_module_version": "1.5.0",
            "_model_name": "HTMLModel",
            "_view_count": null,
            "_view_module": "@jupyter-widgets/controls",
            "_view_module_version": "1.5.0",
            "_view_name": "HTMLView",
            "description": "",
            "description_tooltip": null,
            "layout": "IPY_MODEL_2e08ab268f9046199b9b3278141fb7d5",
            "placeholder": "​",
            "style": "IPY_MODEL_10a7e7d118e546a39e2506fe58ffcd97",
            "value": "100%"
          }
        },
        "1d1c8d16758546daa63bb864ba9fac52": {
          "model_module": "@jupyter-widgets/controls",
          "model_name": "FloatProgressModel",
          "model_module_version": "1.5.0",
          "state": {
            "_dom_classes": [],
            "_model_module": "@jupyter-widgets/controls",
            "_model_module_version": "1.5.0",
            "_model_name": "FloatProgressModel",
            "_view_count": null,
            "_view_module": "@jupyter-widgets/controls",
            "_view_module_version": "1.5.0",
            "_view_name": "ProgressView",
            "bar_style": "success",
            "description": "",
            "description_tooltip": null,
            "layout": "IPY_MODEL_7a6a8b0ea5584cfeaeb1bbda24525d67",
            "max": 17,
            "min": 0,
            "orientation": "horizontal",
            "style": "IPY_MODEL_97e363ebc6da4fc3a67420fcf79b6269",
            "value": 17
          }
        },
        "10cfab4a43fe49fe910af8c51e71d8fd": {
          "model_module": "@jupyter-widgets/controls",
          "model_name": "HTMLModel",
          "model_module_version": "1.5.0",
          "state": {
            "_dom_classes": [],
            "_model_module": "@jupyter-widgets/controls",
            "_model_module_version": "1.5.0",
            "_model_name": "HTMLModel",
            "_view_count": null,
            "_view_module": "@jupyter-widgets/controls",
            "_view_module_version": "1.5.0",
            "_view_name": "HTMLView",
            "description": "",
            "description_tooltip": null,
            "layout": "IPY_MODEL_4ebde7d1318c47b9af606c75f0147cb1",
            "placeholder": "​",
            "style": "IPY_MODEL_d7367f17d03c484eacf8213665ea9920",
            "value": " 17/17 [10:22&lt;00:00, 39.05s/it]"
          }
        },
        "9c4e75b3aeda4879871b5364484873e8": {
          "model_module": "@jupyter-widgets/base",
          "model_name": "LayoutModel",
          "model_module_version": "1.2.0",
          "state": {
            "_model_module": "@jupyter-widgets/base",
            "_model_module_version": "1.2.0",
            "_model_name": "LayoutModel",
            "_view_count": null,
            "_view_module": "@jupyter-widgets/base",
            "_view_module_version": "1.2.0",
            "_view_name": "LayoutView",
            "align_content": null,
            "align_items": null,
            "align_self": null,
            "border": null,
            "bottom": null,
            "display": null,
            "flex": null,
            "flex_flow": null,
            "grid_area": null,
            "grid_auto_columns": null,
            "grid_auto_flow": null,
            "grid_auto_rows": null,
            "grid_column": null,
            "grid_gap": null,
            "grid_row": null,
            "grid_template_areas": null,
            "grid_template_columns": null,
            "grid_template_rows": null,
            "height": null,
            "justify_content": null,
            "justify_items": null,
            "left": null,
            "margin": null,
            "max_height": null,
            "max_width": null,
            "min_height": null,
            "min_width": null,
            "object_fit": null,
            "object_position": null,
            "order": null,
            "overflow": null,
            "overflow_x": null,
            "overflow_y": null,
            "padding": null,
            "right": null,
            "top": null,
            "visibility": null,
            "width": null
          }
        },
        "2e08ab268f9046199b9b3278141fb7d5": {
          "model_module": "@jupyter-widgets/base",
          "model_name": "LayoutModel",
          "model_module_version": "1.2.0",
          "state": {
            "_model_module": "@jupyter-widgets/base",
            "_model_module_version": "1.2.0",
            "_model_name": "LayoutModel",
            "_view_count": null,
            "_view_module": "@jupyter-widgets/base",
            "_view_module_version": "1.2.0",
            "_view_name": "LayoutView",
            "align_content": null,
            "align_items": null,
            "align_self": null,
            "border": null,
            "bottom": null,
            "display": null,
            "flex": null,
            "flex_flow": null,
            "grid_area": null,
            "grid_auto_columns": null,
            "grid_auto_flow": null,
            "grid_auto_rows": null,
            "grid_column": null,
            "grid_gap": null,
            "grid_row": null,
            "grid_template_areas": null,
            "grid_template_columns": null,
            "grid_template_rows": null,
            "height": null,
            "justify_content": null,
            "justify_items": null,
            "left": null,
            "margin": null,
            "max_height": null,
            "max_width": null,
            "min_height": null,
            "min_width": null,
            "object_fit": null,
            "object_position": null,
            "order": null,
            "overflow": null,
            "overflow_x": null,
            "overflow_y": null,
            "padding": null,
            "right": null,
            "top": null,
            "visibility": null,
            "width": null
          }
        },
        "10a7e7d118e546a39e2506fe58ffcd97": {
          "model_module": "@jupyter-widgets/controls",
          "model_name": "DescriptionStyleModel",
          "model_module_version": "1.5.0",
          "state": {
            "_model_module": "@jupyter-widgets/controls",
            "_model_module_version": "1.5.0",
            "_model_name": "DescriptionStyleModel",
            "_view_count": null,
            "_view_module": "@jupyter-widgets/base",
            "_view_module_version": "1.2.0",
            "_view_name": "StyleView",
            "description_width": ""
          }
        },
        "7a6a8b0ea5584cfeaeb1bbda24525d67": {
          "model_module": "@jupyter-widgets/base",
          "model_name": "LayoutModel",
          "model_module_version": "1.2.0",
          "state": {
            "_model_module": "@jupyter-widgets/base",
            "_model_module_version": "1.2.0",
            "_model_name": "LayoutModel",
            "_view_count": null,
            "_view_module": "@jupyter-widgets/base",
            "_view_module_version": "1.2.0",
            "_view_name": "LayoutView",
            "align_content": null,
            "align_items": null,
            "align_self": null,
            "border": null,
            "bottom": null,
            "display": null,
            "flex": null,
            "flex_flow": null,
            "grid_area": null,
            "grid_auto_columns": null,
            "grid_auto_flow": null,
            "grid_auto_rows": null,
            "grid_column": null,
            "grid_gap": null,
            "grid_row": null,
            "grid_template_areas": null,
            "grid_template_columns": null,
            "grid_template_rows": null,
            "height": null,
            "justify_content": null,
            "justify_items": null,
            "left": null,
            "margin": null,
            "max_height": null,
            "max_width": null,
            "min_height": null,
            "min_width": null,
            "object_fit": null,
            "object_position": null,
            "order": null,
            "overflow": null,
            "overflow_x": null,
            "overflow_y": null,
            "padding": null,
            "right": null,
            "top": null,
            "visibility": null,
            "width": null
          }
        },
        "97e363ebc6da4fc3a67420fcf79b6269": {
          "model_module": "@jupyter-widgets/controls",
          "model_name": "ProgressStyleModel",
          "model_module_version": "1.5.0",
          "state": {
            "_model_module": "@jupyter-widgets/controls",
            "_model_module_version": "1.5.0",
            "_model_name": "ProgressStyleModel",
            "_view_count": null,
            "_view_module": "@jupyter-widgets/base",
            "_view_module_version": "1.2.0",
            "_view_name": "StyleView",
            "bar_color": null,
            "description_width": ""
          }
        },
        "4ebde7d1318c47b9af606c75f0147cb1": {
          "model_module": "@jupyter-widgets/base",
          "model_name": "LayoutModel",
          "model_module_version": "1.2.0",
          "state": {
            "_model_module": "@jupyter-widgets/base",
            "_model_module_version": "1.2.0",
            "_model_name": "LayoutModel",
            "_view_count": null,
            "_view_module": "@jupyter-widgets/base",
            "_view_module_version": "1.2.0",
            "_view_name": "LayoutView",
            "align_content": null,
            "align_items": null,
            "align_self": null,
            "border": null,
            "bottom": null,
            "display": null,
            "flex": null,
            "flex_flow": null,
            "grid_area": null,
            "grid_auto_columns": null,
            "grid_auto_flow": null,
            "grid_auto_rows": null,
            "grid_column": null,
            "grid_gap": null,
            "grid_row": null,
            "grid_template_areas": null,
            "grid_template_columns": null,
            "grid_template_rows": null,
            "height": null,
            "justify_content": null,
            "justify_items": null,
            "left": null,
            "margin": null,
            "max_height": null,
            "max_width": null,
            "min_height": null,
            "min_width": null,
            "object_fit": null,
            "object_position": null,
            "order": null,
            "overflow": null,
            "overflow_x": null,
            "overflow_y": null,
            "padding": null,
            "right": null,
            "top": null,
            "visibility": null,
            "width": null
          }
        },
        "d7367f17d03c484eacf8213665ea9920": {
          "model_module": "@jupyter-widgets/controls",
          "model_name": "DescriptionStyleModel",
          "model_module_version": "1.5.0",
          "state": {
            "_model_module": "@jupyter-widgets/controls",
            "_model_module_version": "1.5.0",
            "_model_name": "DescriptionStyleModel",
            "_view_count": null,
            "_view_module": "@jupyter-widgets/base",
            "_view_module_version": "1.2.0",
            "_view_name": "StyleView",
            "description_width": ""
          }
        }
      }
    }
  },
  "nbformat": 4,
  "nbformat_minor": 0
}