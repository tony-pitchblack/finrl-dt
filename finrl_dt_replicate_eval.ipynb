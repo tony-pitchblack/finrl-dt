{
  "cells": [
    {
      "cell_type": "markdown",
      "metadata": {
        "id": "view-in-github",
        "colab_type": "text"
      },
      "source": [
        "<a href=\"https://colab.research.google.com/github/tony-pitchblack/finrl-dt/blob/custom-backtesting/finrl_dt_replicate_eval.ipynb\" target=\"_parent\"><img src=\"https://colab.research.google.com/assets/colab-badge.svg\" alt=\"Open In Colab\"/></a>"
      ]
    },
    {
      "cell_type": "markdown",
      "source": [
        "# Installs"
      ],
      "metadata": {
        "id": "bnopI9QoL550"
      }
    },
    {
      "cell_type": "code",
      "execution_count": 1,
      "metadata": {
        "id": "FjEBRlmyPp2a"
      },
      "outputs": [],
      "source": [
        "%%capture\n",
        "!pip install stable-baselines3\n",
        "!pip install finrl\n",
        "!pip install alpaca_trade_api\n",
        "!pip install exchange_calendars\n",
        "!pip install stockstats\n",
        "!pip install wrds"
      ]
    },
    {
      "cell_type": "markdown",
      "source": [
        "# Imports"
      ],
      "metadata": {
        "id": "k_IxXsJXHbl_"
      }
    },
    {
      "cell_type": "code",
      "execution_count": 2,
      "metadata": {
        "id": "ObUHWwfqnzyQ"
      },
      "outputs": [],
      "source": [
        "import os\n",
        "import wandb\n",
        "import pandas as pd"
      ]
    },
    {
      "cell_type": "code",
      "source": [
        "os.environ[\"WANDB_API_KEY\"] = \"aee284a72205e2d6787bd3ce266c5b9aefefa42c\"\n",
        "\n",
        "PROJECT = 'finrl-dt-replicate'\n",
        "ENTITY = \"overfit1010\""
      ],
      "metadata": {
        "id": "I9s6zvbUAsyq"
      },
      "execution_count": 3,
      "outputs": []
    },
    {
      "cell_type": "code",
      "source": [
        "SWEEP_ID = '9kx35n82'"
      ],
      "metadata": {
        "id": "UQxQwLlp4bXW"
      },
      "execution_count": 4,
      "outputs": []
    },
    {
      "cell_type": "markdown",
      "metadata": {
        "id": "mLe4hw1bxRp5"
      },
      "source": [
        "# Main"
      ]
    },
    {
      "cell_type": "code",
      "source": [
        "RUN_ID = '71ibsknr'"
      ],
      "metadata": {
        "id": "goodWQrDpl_u"
      },
      "execution_count": 6,
      "outputs": []
    },
    {
      "cell_type": "code",
      "execution_count": null,
      "metadata": {
        "id": "QjRu97DCuXqR"
      },
      "outputs": [],
      "source": [
        "# !rm -rf ./*"
      ]
    },
    {
      "cell_type": "code",
      "source": [
        "#@title Download artifacts\n",
        "\n",
        "def download_artifacts(run_id):\n",
        "    # Initialize the W&B API\n",
        "    api = wandb.Api()\n",
        "\n",
        "    # Retrieve the run\n",
        "    run = api.run(f\"{ENTITY}/{PROJECT}/{run_id}\")\n",
        "\n",
        "    # Iterate over the artifacts used or logged by the run\n",
        "    for artifact in run.logged_artifacts():\n",
        "        artifact.download(f'./{artifact.type}')\n",
        "\n",
        "download_artifacts(RUN_ID)"
      ],
      "metadata": {
        "id": "-YgyEOHM_06J",
        "cellView": "form",
        "colab": {
          "base_uri": "https://localhost:8080/"
        },
        "outputId": "3ecb716d-82df-4487-e193-be28be7287c7"
      },
      "execution_count": 7,
      "outputs": [
        {
          "output_type": "stream",
          "name": "stdout",
          "text": [
            "True\n"
          ]
        },
        {
          "output_type": "stream",
          "name": "stderr",
          "text": [
            "\u001b[34m\u001b[1mwandb\u001b[0m: Using wandb-core as the SDK backend.  Please refer to https://wandb.me/wandb-core for more information.\n",
            "\u001b[34m\u001b[1mwandb\u001b[0m:   3 of 3 files downloaded.  \n",
            "\u001b[34m\u001b[1mwandb\u001b[0m:   10 of 10 files downloaded.  \n",
            "\u001b[34m\u001b[1mwandb\u001b[0m:   5 of 5 files downloaded.  \n",
            "\u001b[34m\u001b[1mwandb\u001b[0m:   10 of 10 files downloaded.  \n",
            "\u001b[34m\u001b[1mwandb\u001b[0m:   5 of 5 files downloaded.  \n"
          ]
        }
      ]
    },
    {
      "cell_type": "code",
      "execution_count": null,
      "metadata": {
        "id": "a4IS_7kYSEFo"
      },
      "outputs": [],
      "source": [
        "# %load_ext tensorboard\n",
        "# %tensorboard --logdir ./results/"
      ]
    },
    {
      "cell_type": "code",
      "execution_count": 8,
      "metadata": {
        "id": "0PuggN9OcFEo",
        "cellView": "form"
      },
      "outputs": [],
      "source": [
        "#@title Load data\n",
        "\n",
        "def load_data():\n",
        "    train = pd.read_csv('./dataset/train_data.csv')\n",
        "    trade = pd.read_csv('./dataset/test_data.csv')\n",
        "\n",
        "    train = train.set_index(train.columns[0])\n",
        "    train.index.names = ['']\n",
        "    trade = trade.set_index(trade.columns[0])\n",
        "    trade.index.names = ['']\n",
        "    return train, trade\n",
        "\n",
        "train, trade = load_data()"
      ]
    },
    {
      "cell_type": "code",
      "source": [
        "#@title imports\n",
        "\n",
        "import sys\n",
        "import os\n",
        "import re\n",
        "import pandas as pd\n",
        "import numpy as np\n",
        "import matplotlib.pyplot as plt\n",
        "import pickle\n",
        "from finrl.meta.preprocessor.yahoodownloader import YahooDownloader\n",
        "from finrl.meta.env_stock_trading.env_stocktrading import StockTradingEnv\n",
        "from finrl.agents.stablebaselines3.models import DRLAgent\n",
        "from stable_baselines3 import A2C, DDPG, PPO, SAC, TD3\n",
        "\n",
        "from finrl.config import INDICATORS, TRAINED_MODEL_DIR\n",
        "\n",
        "import warnings\n",
        "warnings.filterwarnings(\"ignore\", category=DeprecationWarning)\n",
        "warnings.simplefilter(action='ignore', category=FutureWarning)"
      ],
      "metadata": {
        "cellView": "form",
        "id": "Y1sgiqffoEpn"
      },
      "execution_count": 9,
      "outputs": []
    },
    {
      "cell_type": "code",
      "execution_count": 10,
      "metadata": {
        "id": "t0-3fjeCG_GJ",
        "cellView": "form"
      },
      "outputs": [],
      "source": [
        "#@title Define metric functions\n",
        "\n",
        "def calculate_mdd(asset_values):\n",
        "    \"\"\"\n",
        "    Calculate the Maximum Drawdown (MDD) of a portfolio.\n",
        "    \"\"\"\n",
        "    running_max = asset_values.cummax()\n",
        "    drawdown = (asset_values - running_max) / running_max\n",
        "    mdd = drawdown.min() * 100  # Convert to percentage\n",
        "    return mdd\n",
        "\n",
        "def calculate_sharpe_ratio(asset_values, risk_free_rate=0.0):\n",
        "    \"\"\"\n",
        "    Calculate the Sharpe Ratio of a portfolio.\n",
        "    \"\"\"\n",
        "    # Calculate daily returns\n",
        "    returns = asset_values.pct_change().dropna()\n",
        "    excess_returns = returns - risk_free_rate / 252  # Assuming 252 trading days\n",
        "    if excess_returns.std() == 0:\n",
        "        return 0.0\n",
        "    sharpe_ratio = excess_returns.mean() / excess_returns.std() * np.sqrt(252)  # Annualized\n",
        "    return sharpe_ratio\n",
        "\n",
        "def calculate_annualized_return(asset_values):\n",
        "    \"\"\"\n",
        "    Calculate the annualized return of a portfolio.\n",
        "    \"\"\"\n",
        "    # Assume `asset_values` is indexed by date or trading day\n",
        "    total_return = (asset_values.iloc[-1] / asset_values.iloc[0] - 1) * 100\n",
        "    num_days = (asset_values.index[-1] - asset_values.index[0]).days\n",
        "    annualized_return = (1 + total_return) ** (365 / num_days) - 1\n",
        "    return annualized_return"
      ]
    },
    {
      "cell_type": "markdown",
      "metadata": {
        "id": "AXCLrSGJlq7t"
      },
      "source": [
        "## Eval RL-only (refactored)"
      ]
    },
    {
      "cell_type": "code",
      "source": [
        "wandb.init(entity=ENTITY, project=PROJECT, id=RUN_ID, resume='must')\n",
        "config = wandb.run.config"
      ],
      "metadata": {
        "id": "M1H4JUosoQ4h",
        "colab": {
          "base_uri": "https://localhost:8080/",
          "height": 156
        },
        "outputId": "ae7e1f24-6c77-4eae-9b81-097b7d69ea0d"
      },
      "execution_count": 11,
      "outputs": [
        {
          "output_type": "stream",
          "name": "stderr",
          "text": [
            "\u001b[34m\u001b[1mwandb\u001b[0m: Currently logged in as: \u001b[33mtony-pitchblack\u001b[0m (\u001b[33moverfit1010\u001b[0m). Use \u001b[1m`wandb login --relogin`\u001b[0m to force relogin\n"
          ]
        },
        {
          "output_type": "display_data",
          "data": {
            "text/plain": [
              "<IPython.core.display.HTML object>"
            ],
            "text/html": [
              "Tracking run with wandb version 0.19.1"
            ]
          },
          "metadata": {}
        },
        {
          "output_type": "display_data",
          "data": {
            "text/plain": [
              "<IPython.core.display.HTML object>"
            ],
            "text/html": [
              "Run data is saved locally in <code>/content/wandb/run-20250104_130124-71ibsknr</code>"
            ]
          },
          "metadata": {}
        },
        {
          "output_type": "display_data",
          "data": {
            "text/plain": [
              "<IPython.core.display.HTML object>"
            ],
            "text/html": [
              "Resuming run <strong><a href='https://wandb.ai/overfit1010/finrl-dt-replicate/runs/71ibsknr' target=\"_blank\">chocolate-sweep-1</a></strong> to <a href='https://wandb.ai/overfit1010/finrl-dt-replicate' target=\"_blank\">Weights & Biases</a> (<a href='https://wandb.me/developer-guide' target=\"_blank\">docs</a>)<br>Sweep page: <a href='https://wandb.ai/overfit1010/finrl-dt-replicate/sweeps/yzfk7rmf' target=\"_blank\">https://wandb.ai/overfit1010/finrl-dt-replicate/sweeps/yzfk7rmf</a>"
            ]
          },
          "metadata": {}
        },
        {
          "output_type": "display_data",
          "data": {
            "text/plain": [
              "<IPython.core.display.HTML object>"
            ],
            "text/html": [
              " View project at <a href='https://wandb.ai/overfit1010/finrl-dt-replicate' target=\"_blank\">https://wandb.ai/overfit1010/finrl-dt-replicate</a>"
            ]
          },
          "metadata": {}
        },
        {
          "output_type": "display_data",
          "data": {
            "text/plain": [
              "<IPython.core.display.HTML object>"
            ],
            "text/html": [
              " View sweep at <a href='https://wandb.ai/overfit1010/finrl-dt-replicate/sweeps/yzfk7rmf' target=\"_blank\">https://wandb.ai/overfit1010/finrl-dt-replicate/sweeps/yzfk7rmf</a>"
            ]
          },
          "metadata": {}
        },
        {
          "output_type": "display_data",
          "data": {
            "text/plain": [
              "<IPython.core.display.HTML object>"
            ],
            "text/html": [
              " View run at <a href='https://wandb.ai/overfit1010/finrl-dt-replicate/runs/71ibsknr' target=\"_blank\">https://wandb.ai/overfit1010/finrl-dt-replicate/runs/71ibsknr</a>"
            ]
          },
          "metadata": {}
        }
      ]
    },
    {
      "cell_type": "code",
      "source": [
        "#@title init env\n",
        "\n",
        "def init_env(trade, config):\n",
        "    # Define environment parameters\n",
        "    stock_dimension = len(trade.tic.unique())\n",
        "    state_space = 1 + 2 * stock_dimension + len(INDICATORS) * stock_dimension\n",
        "    print(f\"Stock Dimension: {stock_dimension}, State Space: {state_space}\")\n",
        "\n",
        "    num_stock_shares = [0] * stock_dimension\n",
        "\n",
        "    env_kwargs = {\n",
        "        \"hmax\": 100,\n",
        "        \"initial_amount\": config['initial_amount'],\n",
        "        \"num_stock_shares\": num_stock_shares,\n",
        "        \"buy_cost_pct\": config['cost_pct'],\n",
        "        \"sell_cost_pct\": config['cost_pct'],\n",
        "        \"state_space\": state_space,\n",
        "        \"stock_dim\": stock_dimension,\n",
        "        \"tech_indicator_list\": INDICATORS,\n",
        "        \"action_space\": stock_dimension,\n",
        "        \"reward_scaling\": 1e-4\n",
        "    }\n",
        "\n",
        "    # Initialize trading environment\n",
        "    e_trade_gym = StockTradingEnv(\n",
        "        df=trade,\n",
        "        turbulence_threshold=70, risk_indicator_col='vix',\n",
        "        **env_kwargs\n",
        "    )\n",
        "\n",
        "    return e_trade_gym\n",
        "\n",
        "e_trade_gym = init_env(trade, config)"
      ],
      "metadata": {
        "cellView": "form",
        "id": "BFVsIIEPBu9_",
        "colab": {
          "base_uri": "https://localhost:8080/"
        },
        "outputId": "199d78d5-b3a3-43cf-eeca-cb94705b37ed"
      },
      "execution_count": 12,
      "outputs": [
        {
          "output_type": "stream",
          "name": "stdout",
          "text": [
            "Stock Dimension: 29, State Space: 291\n"
          ]
        }
      ]
    },
    {
      "cell_type": "code",
      "execution_count": 21,
      "metadata": {
        "id": "ZG3nOgG7jh9g",
        "colab": {
          "base_uri": "https://localhost:8080/",
          "height": 411
        },
        "outputId": "f5f123fd-1841-455e-9aa6-12c545c1468c",
        "cellView": "form"
      },
      "outputs": [
        {
          "output_type": "stream",
          "name": "stdout",
          "text": [
            "hit end!\n",
            "day: 60, episode: 10\n",
            "begin_total_asset: 50000.00\n",
            "end_total_asset: 47832.66\n",
            "total_reward: -2167.34\n",
            "total_cost: 516.08\n",
            "total_trades: 961\n",
            "Sharpe: -0.685\n",
            "=================================\n",
            "hit end!\n"
          ]
        },
        {
          "output_type": "execute_result",
          "data": {
            "text/plain": [
              "                     A2C          DDPG\n",
              "date                                  \n",
              "2016-01-04  50000.000000  50000.000000\n",
              "2016-01-05  49629.825434  49630.631953\n",
              "2016-01-06  48875.041688  49055.304876\n",
              "2016-01-07  47761.347132  47701.196336\n",
              "2016-01-08  47373.001207  47067.644487"
            ],
            "text/html": [
              "\n",
              "  <div id=\"df-1a454e0d-b302-4d3d-8789-2ae2bf663834\" class=\"colab-df-container\">\n",
              "    <div>\n",
              "<style scoped>\n",
              "    .dataframe tbody tr th:only-of-type {\n",
              "        vertical-align: middle;\n",
              "    }\n",
              "\n",
              "    .dataframe tbody tr th {\n",
              "        vertical-align: top;\n",
              "    }\n",
              "\n",
              "    .dataframe thead th {\n",
              "        text-align: right;\n",
              "    }\n",
              "</style>\n",
              "<table border=\"1\" class=\"dataframe\">\n",
              "  <thead>\n",
              "    <tr style=\"text-align: right;\">\n",
              "      <th></th>\n",
              "      <th>A2C</th>\n",
              "      <th>DDPG</th>\n",
              "    </tr>\n",
              "    <tr>\n",
              "      <th>date</th>\n",
              "      <th></th>\n",
              "      <th></th>\n",
              "    </tr>\n",
              "  </thead>\n",
              "  <tbody>\n",
              "    <tr>\n",
              "      <th>2016-01-04</th>\n",
              "      <td>50000.000000</td>\n",
              "      <td>50000.000000</td>\n",
              "    </tr>\n",
              "    <tr>\n",
              "      <th>2016-01-05</th>\n",
              "      <td>49629.825434</td>\n",
              "      <td>49630.631953</td>\n",
              "    </tr>\n",
              "    <tr>\n",
              "      <th>2016-01-06</th>\n",
              "      <td>48875.041688</td>\n",
              "      <td>49055.304876</td>\n",
              "    </tr>\n",
              "    <tr>\n",
              "      <th>2016-01-07</th>\n",
              "      <td>47761.347132</td>\n",
              "      <td>47701.196336</td>\n",
              "    </tr>\n",
              "    <tr>\n",
              "      <th>2016-01-08</th>\n",
              "      <td>47373.001207</td>\n",
              "      <td>47067.644487</td>\n",
              "    </tr>\n",
              "  </tbody>\n",
              "</table>\n",
              "</div>\n",
              "    <div class=\"colab-df-buttons\">\n",
              "\n",
              "  <div class=\"colab-df-container\">\n",
              "    <button class=\"colab-df-convert\" onclick=\"convertToInteractive('df-1a454e0d-b302-4d3d-8789-2ae2bf663834')\"\n",
              "            title=\"Convert this dataframe to an interactive table.\"\n",
              "            style=\"display:none;\">\n",
              "\n",
              "  <svg xmlns=\"http://www.w3.org/2000/svg\" height=\"24px\" viewBox=\"0 -960 960 960\">\n",
              "    <path d=\"M120-120v-720h720v720H120Zm60-500h600v-160H180v160Zm220 220h160v-160H400v160Zm0 220h160v-160H400v160ZM180-400h160v-160H180v160Zm440 0h160v-160H620v160ZM180-180h160v-160H180v160Zm440 0h160v-160H620v160Z\"/>\n",
              "  </svg>\n",
              "    </button>\n",
              "\n",
              "  <style>\n",
              "    .colab-df-container {\n",
              "      display:flex;\n",
              "      gap: 12px;\n",
              "    }\n",
              "\n",
              "    .colab-df-convert {\n",
              "      background-color: #E8F0FE;\n",
              "      border: none;\n",
              "      border-radius: 50%;\n",
              "      cursor: pointer;\n",
              "      display: none;\n",
              "      fill: #1967D2;\n",
              "      height: 32px;\n",
              "      padding: 0 0 0 0;\n",
              "      width: 32px;\n",
              "    }\n",
              "\n",
              "    .colab-df-convert:hover {\n",
              "      background-color: #E2EBFA;\n",
              "      box-shadow: 0px 1px 2px rgba(60, 64, 67, 0.3), 0px 1px 3px 1px rgba(60, 64, 67, 0.15);\n",
              "      fill: #174EA6;\n",
              "    }\n",
              "\n",
              "    .colab-df-buttons div {\n",
              "      margin-bottom: 4px;\n",
              "    }\n",
              "\n",
              "    [theme=dark] .colab-df-convert {\n",
              "      background-color: #3B4455;\n",
              "      fill: #D2E3FC;\n",
              "    }\n",
              "\n",
              "    [theme=dark] .colab-df-convert:hover {\n",
              "      background-color: #434B5C;\n",
              "      box-shadow: 0px 1px 3px 1px rgba(0, 0, 0, 0.15);\n",
              "      filter: drop-shadow(0px 1px 2px rgba(0, 0, 0, 0.3));\n",
              "      fill: #FFFFFF;\n",
              "    }\n",
              "  </style>\n",
              "\n",
              "    <script>\n",
              "      const buttonEl =\n",
              "        document.querySelector('#df-1a454e0d-b302-4d3d-8789-2ae2bf663834 button.colab-df-convert');\n",
              "      buttonEl.style.display =\n",
              "        google.colab.kernel.accessAllowed ? 'block' : 'none';\n",
              "\n",
              "      async function convertToInteractive(key) {\n",
              "        const element = document.querySelector('#df-1a454e0d-b302-4d3d-8789-2ae2bf663834');\n",
              "        const dataTable =\n",
              "          await google.colab.kernel.invokeFunction('convertToInteractive',\n",
              "                                                    [key], {});\n",
              "        if (!dataTable) return;\n",
              "\n",
              "        const docLinkHtml = 'Like what you see? Visit the ' +\n",
              "          '<a target=\"_blank\" href=https://colab.research.google.com/notebooks/data_table.ipynb>data table notebook</a>'\n",
              "          + ' to learn more about interactive tables.';\n",
              "        element.innerHTML = '';\n",
              "        dataTable['output_type'] = 'display_data';\n",
              "        await google.colab.output.renderOutput(dataTable, element);\n",
              "        const docLink = document.createElement('div');\n",
              "        docLink.innerHTML = docLinkHtml;\n",
              "        element.appendChild(docLink);\n",
              "      }\n",
              "    </script>\n",
              "  </div>\n",
              "\n",
              "\n",
              "<div id=\"df-fd484383-9a6d-4d5e-9a35-02d0e57f9e61\">\n",
              "  <button class=\"colab-df-quickchart\" onclick=\"quickchart('df-fd484383-9a6d-4d5e-9a35-02d0e57f9e61')\"\n",
              "            title=\"Suggest charts\"\n",
              "            style=\"display:none;\">\n",
              "\n",
              "<svg xmlns=\"http://www.w3.org/2000/svg\" height=\"24px\"viewBox=\"0 0 24 24\"\n",
              "     width=\"24px\">\n",
              "    <g>\n",
              "        <path d=\"M19 3H5c-1.1 0-2 .9-2 2v14c0 1.1.9 2 2 2h14c1.1 0 2-.9 2-2V5c0-1.1-.9-2-2-2zM9 17H7v-7h2v7zm4 0h-2V7h2v10zm4 0h-2v-4h2v4z\"/>\n",
              "    </g>\n",
              "</svg>\n",
              "  </button>\n",
              "\n",
              "<style>\n",
              "  .colab-df-quickchart {\n",
              "      --bg-color: #E8F0FE;\n",
              "      --fill-color: #1967D2;\n",
              "      --hover-bg-color: #E2EBFA;\n",
              "      --hover-fill-color: #174EA6;\n",
              "      --disabled-fill-color: #AAA;\n",
              "      --disabled-bg-color: #DDD;\n",
              "  }\n",
              "\n",
              "  [theme=dark] .colab-df-quickchart {\n",
              "      --bg-color: #3B4455;\n",
              "      --fill-color: #D2E3FC;\n",
              "      --hover-bg-color: #434B5C;\n",
              "      --hover-fill-color: #FFFFFF;\n",
              "      --disabled-bg-color: #3B4455;\n",
              "      --disabled-fill-color: #666;\n",
              "  }\n",
              "\n",
              "  .colab-df-quickchart {\n",
              "    background-color: var(--bg-color);\n",
              "    border: none;\n",
              "    border-radius: 50%;\n",
              "    cursor: pointer;\n",
              "    display: none;\n",
              "    fill: var(--fill-color);\n",
              "    height: 32px;\n",
              "    padding: 0;\n",
              "    width: 32px;\n",
              "  }\n",
              "\n",
              "  .colab-df-quickchart:hover {\n",
              "    background-color: var(--hover-bg-color);\n",
              "    box-shadow: 0 1px 2px rgba(60, 64, 67, 0.3), 0 1px 3px 1px rgba(60, 64, 67, 0.15);\n",
              "    fill: var(--button-hover-fill-color);\n",
              "  }\n",
              "\n",
              "  .colab-df-quickchart-complete:disabled,\n",
              "  .colab-df-quickchart-complete:disabled:hover {\n",
              "    background-color: var(--disabled-bg-color);\n",
              "    fill: var(--disabled-fill-color);\n",
              "    box-shadow: none;\n",
              "  }\n",
              "\n",
              "  .colab-df-spinner {\n",
              "    border: 2px solid var(--fill-color);\n",
              "    border-color: transparent;\n",
              "    border-bottom-color: var(--fill-color);\n",
              "    animation:\n",
              "      spin 1s steps(1) infinite;\n",
              "  }\n",
              "\n",
              "  @keyframes spin {\n",
              "    0% {\n",
              "      border-color: transparent;\n",
              "      border-bottom-color: var(--fill-color);\n",
              "      border-left-color: var(--fill-color);\n",
              "    }\n",
              "    20% {\n",
              "      border-color: transparent;\n",
              "      border-left-color: var(--fill-color);\n",
              "      border-top-color: var(--fill-color);\n",
              "    }\n",
              "    30% {\n",
              "      border-color: transparent;\n",
              "      border-left-color: var(--fill-color);\n",
              "      border-top-color: var(--fill-color);\n",
              "      border-right-color: var(--fill-color);\n",
              "    }\n",
              "    40% {\n",
              "      border-color: transparent;\n",
              "      border-right-color: var(--fill-color);\n",
              "      border-top-color: var(--fill-color);\n",
              "    }\n",
              "    60% {\n",
              "      border-color: transparent;\n",
              "      border-right-color: var(--fill-color);\n",
              "    }\n",
              "    80% {\n",
              "      border-color: transparent;\n",
              "      border-right-color: var(--fill-color);\n",
              "      border-bottom-color: var(--fill-color);\n",
              "    }\n",
              "    90% {\n",
              "      border-color: transparent;\n",
              "      border-bottom-color: var(--fill-color);\n",
              "    }\n",
              "  }\n",
              "</style>\n",
              "\n",
              "  <script>\n",
              "    async function quickchart(key) {\n",
              "      const quickchartButtonEl =\n",
              "        document.querySelector('#' + key + ' button');\n",
              "      quickchartButtonEl.disabled = true;  // To prevent multiple clicks.\n",
              "      quickchartButtonEl.classList.add('colab-df-spinner');\n",
              "      try {\n",
              "        const charts = await google.colab.kernel.invokeFunction(\n",
              "            'suggestCharts', [key], {});\n",
              "      } catch (error) {\n",
              "        console.error('Error during call to suggestCharts:', error);\n",
              "      }\n",
              "      quickchartButtonEl.classList.remove('colab-df-spinner');\n",
              "      quickchartButtonEl.classList.add('colab-df-quickchart-complete');\n",
              "    }\n",
              "    (() => {\n",
              "      let quickchartButtonEl =\n",
              "        document.querySelector('#df-fd484383-9a6d-4d5e-9a35-02d0e57f9e61 button');\n",
              "      quickchartButtonEl.style.display =\n",
              "        google.colab.kernel.accessAllowed ? 'block' : 'none';\n",
              "    })();\n",
              "  </script>\n",
              "</div>\n",
              "    </div>\n",
              "  </div>\n"
            ],
            "application/vnd.google.colaboratory.intrinsic+json": {
              "type": "dataframe",
              "variable_name": "result",
              "summary": "{\n  \"name\": \"result\",\n  \"rows\": 61,\n  \"fields\": [\n    {\n      \"column\": \"date\",\n      \"properties\": {\n        \"dtype\": \"date\",\n        \"min\": \"2016-01-04 00:00:00\",\n        \"max\": \"2016-03-31 00:00:00\",\n        \"num_unique_values\": 61,\n        \"samples\": [\n          \"2016-01-04 00:00:00\",\n          \"2016-01-11 00:00:00\",\n          \"2016-03-10 00:00:00\"\n        ],\n        \"semantic_type\": \"\",\n        \"description\": \"\"\n      }\n    },\n    {\n      \"column\": \"A2C\",\n      \"properties\": {\n        \"dtype\": \"number\",\n        \"std\": 1309.5714647442035,\n        \"min\": 46490.93067931812,\n        \"max\": 52007.63223840654,\n        \"num_unique_values\": 61,\n        \"samples\": [\n          50000.0,\n          47678.935738642766,\n          49255.00727944145\n        ],\n        \"semantic_type\": \"\",\n        \"description\": \"\"\n      }\n    },\n    {\n      \"column\": \"DDPG\",\n      \"properties\": {\n        \"dtype\": \"number\",\n        \"std\": 1559.6743089062713,\n        \"min\": 42593.74733855862,\n        \"max\": 50000.0,\n        \"num_unique_values\": 61,\n        \"samples\": [\n          50000.0,\n          47024.23977401394,\n          45779.24989059109\n        ],\n        \"semantic_type\": \"\",\n        \"description\": \"\"\n      }\n    }\n  ]\n}"
            }
          },
          "metadata": {},
          "execution_count": 21
        }
      ],
      "source": [
        "#@title get predictions\n",
        "\n",
        "def get_predictions(e_trade_gym, config):\n",
        "    # Load variables from the config\n",
        "    if_using_a2c = config[\"if_using_a2c\"]\n",
        "    if_using_ddpg = config[\"if_using_ddpg\"]\n",
        "    if_using_ppo = config[\"if_using_ppo\"]\n",
        "    if_using_td3 = config[\"if_using_td3\"]\n",
        "    if_using_sac = config[\"if_using_sac\"]\n",
        "\n",
        "    # Ensure at least one algorithm is enabled\n",
        "    if not any([if_using_a2c, if_using_ddpg, if_using_ppo, if_using_td3, if_using_sac]):\n",
        "        raise ValueError(\"At least one algorithm must be set to True for the script to run.\")\n",
        "\n",
        "    # Load trained models\n",
        "    trained_a2c = A2C.load(os.path.join(TRAINED_MODEL_DIR, \"agent_a2c\")) if if_using_a2c else None\n",
        "    trained_ddpg = DDPG.load(os.path.join(TRAINED_MODEL_DIR, \"agent_ddpg\")) if if_using_ddpg else None\n",
        "    trained_ppo = PPO.load(os.path.join(TRAINED_MODEL_DIR, \"agent_ppo\")) if if_using_ppo else None\n",
        "    trained_td3 = TD3.load(os.path.join(TRAINED_MODEL_DIR, \"agent_td3\")) if if_using_td3 else None\n",
        "    trained_sac = SAC.load(os.path.join(TRAINED_MODEL_DIR, \"agent_sac\")) if if_using_sac else None\n",
        "\n",
        "    # Reset the result DataFrame\n",
        "    result = pd.DataFrame()\n",
        "\n",
        "    # Predict and store results for all enabled algorithms\n",
        "    for algo_name, trained_model, is_enabled in [\n",
        "        (\"A2C\", trained_a2c, if_using_a2c),\n",
        "        (\"DDPG\", trained_ddpg, if_using_ddpg),\n",
        "        (\"PPO\", trained_ppo, if_using_ppo),\n",
        "        (\"TD3\", trained_td3, if_using_td3),\n",
        "        (\"SAC\", trained_sac, if_using_sac)\n",
        "    ]:\n",
        "        if is_enabled:\n",
        "            df_account_value, df_actions = DRLAgent.DRL_prediction(\n",
        "                model=trained_model, environment=e_trade_gym\n",
        "            )\n",
        "            df_result = df_account_value.set_index('date')\n",
        "\n",
        "            # display(df_result)\n",
        "            # break\n",
        "\n",
        "            df_result.columns = [f\"{algo_name}_{col}\" for col in df_result.columns]\n",
        "            result = pd.merge(result, df_result, how=\"outer\", left_index=True, right_index=True)\n",
        "\n",
        "    # Create a dictionary with the mapping of old columns to model names\n",
        "    rename_dict = {\n",
        "        'A2C_account_value': 'A2C',\n",
        "        'DDPG_account_value': 'DDPG',\n",
        "        'PPO_account_value': 'PPO',\n",
        "        'TD3_account_value': 'TD3',\n",
        "        'SAC_account_value': 'SAC'\n",
        "    }\n",
        "\n",
        "    # Rename columns using the dictionary and ignore errors for columns not in the dictionary\n",
        "    result = result.rename(columns=rename_dict, errors='ignore')\n",
        "    result.index = pd.to_datetime(result.index)\n",
        "    return result\n",
        "\n",
        "result = get_predictions(e_trade_gym, config)\n",
        "result.head()"
      ]
    },
    {
      "cell_type": "code",
      "source": [
        "#@title add DIJA for test period\n",
        "\n",
        "def add_djia_test(trade, result, config):\n",
        "    # Define test period\n",
        "    TEST_START_DATE = trade['date'].iloc[0]\n",
        "    TEST_END_DATE = trade['date'].iloc[-1]\n",
        "\n",
        "    print(TEST_START_DATE)\n",
        "    print(TEST_END_DATE)\n",
        "\n",
        "    # Fetch DJIA data for the test period\n",
        "    df_dji = YahooDownloader(\n",
        "        start_date=TEST_START_DATE,\n",
        "        end_date=TEST_END_DATE,\n",
        "        ticker_list=['^DJI'] # `dji` is delisted, `DJIA` is an ETF, not an index\n",
        "    ).fetch_data()\n",
        "    df_dji['date'] = pd.to_datetime(df_dji['date'])\n",
        "\n",
        "    # Merge DJIA data\n",
        "    df_dji = df_dji[['date','close']]\n",
        "    fst_day = df_dji['close'].iloc[0]\n",
        "    dji = pd.DataFrame({\n",
        "        'DJIA': df_dji['close'].div(fst_day).mul(config['initial_amount']).values\n",
        "        # 'DJIA': df_dji['close'].div(fst_day).values\n",
        "    }, index=df_dji['date'])\n",
        "\n",
        "    # Merge DJIA data using inner join to ensure alignment\n",
        "    result = pd.merge(result, dji, how='inner', left_index=True, right_index=True).fillna(method='bfill')\n",
        "\n",
        "    return result\n",
        "\n",
        "# result = add_djia_test(result)\n",
        "# result"
      ],
      "metadata": {
        "id": "GTJrVlMbg4--",
        "cellView": "form"
      },
      "execution_count": 22,
      "outputs": []
    },
    {
      "cell_type": "code",
      "source": [
        "#@title Calculate metrics for individual algorithms (w/annualized returns)\n",
        "\n",
        "def calculate_metrics(result):\n",
        "    label_mapping = {\n",
        "        # 'DT_LoRA_GPT2': 'DT-LoRA-GPT2',\n",
        "        # 'DT_LoRA_Random_Weight_GPT2': 'DT-LoRA-Random-GPT2',\n",
        "        # 'CQL': 'Conservative Q-Learning',\n",
        "        # 'IQL': 'Implicit Q-Learning',\n",
        "        # 'BC': 'Behavior Cloning',\n",
        "        'A2C': 'A2C',\n",
        "        'DDPG': 'DDPG',\n",
        "        'PPO': 'PPO',\n",
        "        'TD3': 'TD3',\n",
        "        'SAC': 'SAC',\n",
        "        'DJIA': 'Dow Jones Index'\n",
        "    }\n",
        "\n",
        "    metrics_dict = {\n",
        "        'Method': [],\n",
        "        'Cumulative Return Mean (%)': [],\n",
        "        # 'Cumulative Return Std (%)': [],\n",
        "        'Annualized Return Mean (%)': [],\n",
        "        # 'Annualized Return Std (%)': [],\n",
        "        'MDD Mean (%)': [],\n",
        "        'MDD Std (%)': [],\n",
        "        'Sharpe Ratio Mean': [],\n",
        "        'Sharpe Ratio Std': []\n",
        "    }\n",
        "\n",
        "    experiment_stats = {}\n",
        "    individual_algos = ['A2C', 'DDPG', 'TD3', 'SAC', 'PPO']\n",
        "    for algo in individual_algos:\n",
        "        if algo in result.columns:\n",
        "            # Check if this algorithm is already part of experiment_groups\n",
        "            if label_mapping.get(algo, algo) in experiment_stats:\n",
        "                print(f\"Info: '{algo}' is already included in experiment groups. Skipping individual plotting to avoid duplication.\")\n",
        "                continue  # Skip to prevent duplicate plotting\n",
        "\n",
        "            account_values = result[algo].dropna()\n",
        "            if account_values.empty:\n",
        "                print(f\"Warning: No valid asset values for individual algorithm '{algo}'. Skipping metrics calculation.\")\n",
        "                continue\n",
        "\n",
        "            cum_ret = (account_values.iloc[-1] - account_values.iloc[0]) / account_values.iloc[0] * 100\n",
        "\n",
        "            # Handle potential division by zero or invalid calculations\n",
        "            if np.isinf(cum_ret) or np.isnan(cum_ret):\n",
        "                cum_ret = np.nan\n",
        "\n",
        "            # Calculate annualized return\n",
        "            num_days = (account_values.index[-1] - account_values.index[0]).days\n",
        "            ann_ret = ( (1 + cum_ret / 100) ** (365 / num_days) - 1 ) * 100\n",
        "\n",
        "            # MDD\n",
        "            mdd = calculate_mdd(account_values)\n",
        "            # Sharpe Ratio\n",
        "            sharpe = calculate_sharpe_ratio(account_values)\n",
        "            # Append to metrics_dict with mapped label\n",
        "            mapped_algo = label_mapping.get(algo, algo)\n",
        "            metrics_dict['Method'].append(mapped_algo)\n",
        "            metrics_dict['Cumulative Return Mean (%)'].append(cum_ret)\n",
        "            # metrics_dict['Cumulative Return Std (%)'].append(0.00)  # Single run, std is 0\n",
        "            metrics_dict['Annualized Return Mean (%)'].append(ann_ret)\n",
        "            # metrics_dict['Annualized Return Std (%)'].append(0.00)  # Single run, std is 0\n",
        "            metrics_dict['MDD Mean (%)'].append(mdd)\n",
        "            metrics_dict['MDD Std (%)'].append(0.00)  # Single run, std is 0\n",
        "            metrics_dict['Sharpe Ratio Mean'].append(sharpe)\n",
        "            metrics_dict['Sharpe Ratio Std'].append(0.00)  # Single run, std is 0\n",
        "\n",
        "            # Store in experiment_stats for plotting\n",
        "            experiment_stats[mapped_algo] = {'mean': account_values, 'std': pd.Series([0]*len(account_values), index=account_values.index)}\n",
        "\n",
        "    # Convert metrics_dict to DataFrame\n",
        "    metrics_df = pd.DataFrame(metrics_dict)\n",
        "\n",
        "    # Drop any rows with NaN metrics to ensure clean tables\n",
        "    metrics_df = metrics_df.dropna(subset=['Cumulative Return Mean (%)', 'Annualized Return Mean (%)', 'MDD Mean (%)', 'Sharpe Ratio Mean'])\n",
        "\n",
        "    # Create summary DataFrame with formatted strings\n",
        "    metrics_summary_df = metrics_df.copy()\n",
        "    metrics_summary_df['Cumulative Return (%)'] = metrics_df['Cumulative Return Mean (%)'].round(2).astype(str) \\\n",
        "        #  + \" ± \" + metrics_df['Cumulative Return Std (%)'].round(2).astype(str)\n",
        "    metrics_summary_df['Annualized Return (%)'] = metrics_df['Annualized Return Mean (%)'].round(2).astype(str) \\\n",
        "        #  + \" ± \" + metrics_df['Annualized Return Std (%)'].round(2).astype(str)\n",
        "    metrics_summary_df['MDD (%)'] = metrics_df['MDD Mean (%)'].round(2).astype(str) \\\n",
        "        #  + \" ± \" + metrics_df['MDD Std (%)'].round(2).astype(str)\n",
        "    metrics_summary_df['Sharpe Ratio'] = metrics_df['Sharpe Ratio Mean'].round(2).astype(str) \\\n",
        "        #  + \" ± \" + metrics_df['Sharpe Ratio Std'].round(2).astype(str)\n",
        "    metrics_summary_df = metrics_summary_df[['Method', 'Cumulative Return (%)', 'Annualized Return (%)', 'MDD (%)', 'Sharpe Ratio']]\n",
        "\n",
        "    return metrics_df, metrics_summary_df, experiment_stats\n",
        "\n",
        "# metrics_df, metrics_summary_df, experiment_stats = calculate_metrics(result)"
      ],
      "metadata": {
        "cellView": "form",
        "id": "oqjPITSj99E9"
      },
      "execution_count": 23,
      "outputs": []
    },
    {
      "cell_type": "code",
      "source": [
        "#@title Print the comparison table (w/annualized returns)\n",
        "\n",
        "def print_comparison_table(metrics_summary_df, metrics_df):\n",
        "    print(f\"\\n=== Metrics Comparison ===\")\n",
        "    print(metrics_summary_df.to_string(index=False))\n",
        "    print(\"\\n\")\n",
        "\n",
        "    # Create separate DataFrames for rankings\n",
        "    ranking_cum_ret = metrics_df[['Method', 'Cumulative Return Mean (%)']].copy()\n",
        "    ranking_cum_ret = ranking_cum_ret.sort_values(by='Cumulative Return Mean (%)', ascending=False)\n",
        "\n",
        "    ranking_annualized_ret = metrics_df[['Method', 'Annualized Return Mean (%)']].copy()\n",
        "    ranking_annualized_ret = ranking_annualized_ret.sort_values(by='Annualized Return Mean (%)', ascending=False)\n",
        "\n",
        "    ranking_mdd = metrics_df[['Method', 'MDD Mean (%)']].copy()\n",
        "    ranking_mdd = ranking_mdd.sort_values(by='MDD Mean (%)', ascending=False)  # Lower abs(MDD) is better\n",
        "\n",
        "    ranking_sharpe = metrics_df[['Method', 'Sharpe Ratio Mean']].copy()\n",
        "    ranking_sharpe = ranking_sharpe.sort_values(by='Sharpe Ratio Mean', ascending=False)\n",
        "\n",
        "    # Print rankings\n",
        "    print(f\"=== Rankings ===\")\n",
        "\n",
        "    print(\"\\nCumulative Return (%):\")\n",
        "    for idx, row in ranking_cum_ret.iterrows():\n",
        "        print(f\"{row['Method']}: {row['Cumulative Return Mean (%)']:.2f}%\")\n",
        "\n",
        "    print(\"\\nAnnualized Return (%):\")\n",
        "    for idx, row in ranking_annualized_ret.iterrows():\n",
        "        print(f\"{row['Method']}: {row['Annualized Return Mean (%)']:.2f}%\")\n",
        "\n",
        "    print(\"\\nMaximum Drawdown (MDD %) [Lower absolute values is Better]:\")\n",
        "    for idx, row in ranking_mdd.iterrows():\n",
        "        print(f\"{row['Method']}: {row['MDD Mean (%)']:.2f}%\")\n",
        "\n",
        "    print(\"\\nSharpe Ratio [Higher is Better]:\")\n",
        "    for idx, row in ranking_sharpe.iterrows():\n",
        "        print(f\"{row['Method']}: {row['Sharpe Ratio Mean']:.2f}\")\n",
        "\n",
        "    print(\"\\n\")\n",
        "\n",
        "    # # Debugging: Check if all means align with result.index\n",
        "    # for exp_name, stats in experiment_stats.items():\n",
        "    #     mean_length = len(stats['mean'])\n",
        "    #     result_length = len(result.index)\n",
        "    #     if mean_length != result_length:\n",
        "    #         print(f\"Warning: Mean length for '{exp_name}' ({mean_length}) does not match result index length ({result_length}). Reindexing.\")\n",
        "    #         experiment_stats[exp_name]['mean'] = stats['mean'].reindex(result.index).fillna(method='ffill')\n",
        "    #         experiment_stats[exp_name]['std'] = stats['std'].reindex(result.index).fillna(0)\n",
        "\n",
        "# print_comparison_table(metrics_summary_df, metrics_df)"
      ],
      "metadata": {
        "id": "htgsl-iu5dU_",
        "cellView": "form",
        "collapsed": true
      },
      "execution_count": 24,
      "outputs": []
    },
    {
      "cell_type": "code",
      "source": [
        "#@title log_test_metrics\n",
        "\n",
        "def log_test_metrics(metrics_summary_df):\n",
        "    # Identify the best model based on maximum Sharpe Ratio\n",
        "    best_model_row = metrics_summary_df.loc[metrics_summary_df['Sharpe Ratio'].idxmax()]\n",
        "    best_model_name = best_model_row['Method'].lower()  # Convert the model name to lowercase\n",
        "\n",
        "    # Log metrics for each model\n",
        "    for _, row in metrics_summary_df.iterrows():\n",
        "        model_name = row['Method'].lower()  # Convert the model name to lowercase\n",
        "\n",
        "        # Log per-model metrics\n",
        "        wandb.run.log({\n",
        "            f'test/cum_return/{model_name}': row['Cumulative Return (%)'],\n",
        "            f'test/ann_return/{model_name}': row['Annualized Return (%)'],\n",
        "            f'test/mdd/{model_name}': row['MDD (%)'],\n",
        "            f'test/sharpe_ratio/{model_name}': row['Sharpe Ratio']\n",
        "        })\n",
        "\n",
        "    # Log metrics for the best model\n",
        "    wandb.run.log({\n",
        "        'test/cum_return/best_model': best_model_row['Cumulative Return (%)'],\n",
        "        'test/ann_return/best_model': best_model_row['Annualized Return (%)'],\n",
        "        'test/mdd/best_model': best_model_row['MDD (%)'],\n",
        "        'test/sharpe_ratio/best_model': best_model_row['Sharpe Ratio'],\n",
        "        'test/best_model_name': best_model_name\n",
        "    })\n",
        "\n",
        "    print(wandb.run.config)\n",
        "\n",
        "# Example usage:\n",
        "# log_test_metrics(metrics_summary_df)\n"
      ],
      "metadata": {
        "id": "lAk7W7YEdlYm",
        "cellView": "form"
      },
      "execution_count": 25,
      "outputs": []
    },
    {
      "cell_type": "code",
      "source": [
        "#@title plot results\n",
        "%matplotlib inline\n",
        "\n",
        "def plot_results(result, experiment_stats):\n",
        "    # Plotting section\n",
        "    fig = plt.figure(figsize=(16, 9))  # Increased figure size for better readability\n",
        "    method_styles = {\n",
        "        # 'CQL': {'color': '#1f77b4', 'linestyle': '-'},           # Blue solid\n",
        "        # 'IQL': {'color': '#ff7f0e', 'linestyle': '--'},          # Orange dashed\n",
        "        # 'BC': {'color': '#2ca02c', 'linestyle': '-.'},           # Green dash-dot\n",
        "        # 'DT LoRA GPT2': {'color': '#d62728', 'linestyle': ':'},  # Red dotted\n",
        "        # 'DT LoRA Random Weight GPT2': {'color': '#9467bd', 'linestyle': '-'},  # Purple solid\n",
        "        'A2C': {'color': '#8c564b', 'linestyle': '--'},          # Brown dashed\n",
        "        'DDPG': {'color': '#e377c2', 'linestyle': '-'},          # Pink solid\n",
        "        'PPO': {'color': '#7f7f7f', 'linestyle': '-'},           # Gray solid\n",
        "        'TD3': {'color': '#bcbd22', 'linestyle': '--'},          # Olive dashed\n",
        "        'SAC': {'color': '#17becf', 'linestyle': '-'},           # Cyan solid\n",
        "        'DJIA': {'color': '#000000', 'linestyle': '-'},          # Black solid\n",
        "        # Add more methods here if needed\n",
        "    }\n",
        "    # Plot DJIA\n",
        "    plt.plot(result.index, result['DJIA'], label=\"Dow Jones Index\", linestyle=method_styles['DJIA']['linestyle'], color=method_styles['DJIA']['color'])\n",
        "\n",
        "    # Define color palette and line styles\n",
        "    color_palette = plt.get_cmap('tab10').colors  # Colorblind-friendly palette\n",
        "    line_styles = ['-', '--', '-.', ':']  # Different line styles\n",
        "\n",
        "    # Plot experiment groups\n",
        "    for idx, (exp_name, stats) in enumerate(experiment_stats.items()):\n",
        "        min_date = stats['mean'].index.min()\n",
        "        max_date = stats['mean'].index.max()\n",
        "\n",
        "        mean = stats['mean']\n",
        "        std = stats['std']\n",
        "\n",
        "        # Ensure mean and std are aligned with result.index\n",
        "        mean = mean.reindex(result.index).fillna(method='ffill')\n",
        "        std = std.reindex(result.index).fillna(0)\n",
        "\n",
        "        # Assign colors and line styles\n",
        "        color = color_palette[idx % len(color_palette)]\n",
        "        linestyle = line_styles[idx % len(line_styles)]\n",
        "\n",
        "        def exp_name_formatter(exp_name):\n",
        "            exp_names = exp_name.split('_')\n",
        "            if len(exp_names) == 1:\n",
        "                return exp_name\n",
        "            elif len(exp_names) == 2:\n",
        "                return exp_names[1].upper()\n",
        "            elif len(exp_names) == 3:\n",
        "                return None\n",
        "            elif len(exp_names) == 4:\n",
        "                return exp_names[1].upper() + ' LoRA ' + 'GPT2'\n",
        "            elif len(exp_names) == 6:\n",
        "                return exp_names[1].upper() + ' LoRA ' + 'Random Weight ' + 'GPT2'\n",
        "            else:\n",
        "                return exp_name\n",
        "\n",
        "        # Plot mean\n",
        "        line, = plt.plot(\n",
        "            result.index,\n",
        "            mean,\n",
        "            label=exp_name_formatter(exp_name),\n",
        "            linestyle=method_styles[exp_name_formatter(exp_name)]['linestyle'],\n",
        "            color=method_styles[exp_name_formatter(exp_name)]['color']\n",
        "        )\n",
        "\n",
        "        # Plot error bands (mean ± 1 std)\n",
        "        plt.fill_between(\n",
        "            result.index,\n",
        "            mean - std,\n",
        "            mean + std,\n",
        "            color=method_styles[exp_name_formatter(exp_name)]['color'],\n",
        "            alpha=0.2\n",
        "        )\n",
        "\n",
        "    # Enhance layout and aesthetics\n",
        "    plt.tight_layout()\n",
        "    plt.grid(True, linestyle='--', alpha=0.3)\n",
        "\n",
        "    # Set title and labels with enhanced formatting\n",
        "    plt.title(f\"Performance Comparison of DRL agents\", fontsize=20, fontweight='bold')\n",
        "    plt.xlabel(\"Date\", fontsize=16, fontweight='bold')\n",
        "    plt.ylabel(\"Total Asset Value ($)\", fontsize=16, fontweight='bold')\n",
        "    plt.xticks(result.index[0::30])\n",
        "\n",
        "    # Add 'Test Phase' annotation with date range\n",
        "    plt.text(0.5, 0.95, f'Test Phase: {min_date.date()} to {max_date.date()}',\n",
        "    transform=plt.gca().transAxes, fontsize=14, ha='center',\n",
        "    bbox=dict(boxstyle=\"round,pad=0.3\", facecolor=\"white\", alpha=0.5))\n",
        "\n",
        "    plt.legend(loc='lower right')\n",
        "    return fig\n",
        "\n",
        "# fig = plot_results(result, experiment_stats)\n",
        "# plt.show()"
      ],
      "metadata": {
        "id": "_z4soDAjnutM",
        "cellView": "form"
      },
      "execution_count": 26,
      "outputs": []
    },
    {
      "cell_type": "code",
      "source": [
        "#@title log_plot_as_artifact\n",
        "\n",
        "import os\n",
        "import matplotlib.pyplot as plt\n",
        "import wandb\n",
        "\n",
        "def log_plot_as_artifact(fig, artifact_name_prefix, artifact_type=\"plot\"):\n",
        "    \"\"\"\n",
        "    Save a Matplotlib figure without clipping and log it as a W&B artifact.\n",
        "\n",
        "    Parameters:\n",
        "        fig (matplotlib.figure.Figure): The Matplotlib figure to save and log.\n",
        "        artifact_name (str): The name of the W&B artifact.\n",
        "        artifact_type (str): The type of the artifact (default is \"plot\").\n",
        "        filename (str): The filename to save the plot as (default is \"plot.png\").\n",
        "    \"\"\"\n",
        "    try:\n",
        "        # Get full artifact name\n",
        "        artifact_name = f'{artifact_name_prefix}-{wandb.run.id}'\n",
        "        filename = artifact_name + '.png'\n",
        "\n",
        "        # Save the figure with tight layout and proper padding\n",
        "        fig.savefig(filename, bbox_inches='tight', pad_inches=0.1, dpi=300)\n",
        "        plt.close(fig)  # Close the figure to free up memory\n",
        "\n",
        "        # Create and log the W&B artifact\n",
        "        artifact = wandb.Artifact(artifact_name, type=artifact_type)\n",
        "        artifact.add_file(filename)\n",
        "        wandb.log_artifact(artifact)\n",
        "    finally:\n",
        "        # Ensure the file is deleted after use\n",
        "        if os.path.exists(filename):\n",
        "            os.remove(filename)\n"
      ],
      "metadata": {
        "cellView": "form",
        "id": "02OzYWBGMVNE"
      },
      "execution_count": 27,
      "outputs": []
    },
    {
      "cell_type": "code",
      "source": [
        "#@title run_prediction_and_log_metrics\n",
        "\n",
        "def run_prediction_and_log_metrics(run_id):\n",
        "    with wandb.init(project=PROJECT, entity=ENTITY, id=run_id, resume='must'):\n",
        "        download_artifacts(run_id)\n",
        "        train, trade = load_data()\n",
        "\n",
        "        config = wandb.run.config\n",
        "\n",
        "        e_trade_gym = init_env(trade, config)\n",
        "        result = get_predictions(e_trade_gym, config)\n",
        "        result = add_djia_test(trade, result, config)\n",
        "        metrics_df, metrics_summary_df, experiment_stats = calculate_metrics(result)\n",
        "        log_test_metrics(metrics_summary_df)\n",
        "        fig = plot_results(result, experiment_stats)\n",
        "        log_plot_as_artifact(fig, artifact_name_prefix=\"performance_comparison_DRL_agents\", artifact_type=\"plot\")\n",
        "\n",
        "# run_prediction_and_log_metrics(RUN_ID)"
      ],
      "metadata": {
        "cellView": "form",
        "id": "RUUFNt-BoNe_"
      },
      "execution_count": null,
      "outputs": []
    },
    {
      "cell_type": "code",
      "source": [
        "from tqdm.notebook import tqdm\n",
        "\n",
        "sweep_id = '9bn7j535'\n",
        "sweep_id = SWEEP_ID\n",
        "\n",
        "##################\n",
        "\n",
        "api = wandb.Api()\n",
        "sweep = api.sweep(f'{ENTITY}/{PROJECT}/{sweep_id}')\n",
        "\n",
        "for run in tqdm(sweep.runs):\n",
        "    run_prediction_and_log_metrics(run.id)\n",
        "    pass"
      ],
      "metadata": {
        "colab": {
          "base_uri": "https://localhost:8080/",
          "height": 1000,
          "referenced_widgets": [
            "aa2b6d4070e54b1bbdc1d5f9920cc9f1",
            "10b7c40326974de1b8489c2cf911fcd0",
            "70c442f081b74e2296a0f1826c564108",
            "e0323243857b4cf8ad791f91bf997d06",
            "68379ddfcf204b6988fcf33631fbd112",
            "6eedae07803b4bff8ff8000016b98cf3",
            "76f1e4fcdc2c48dc9b0bcd1e50057ceb",
            "18b1d398e8ee49efa536299c1feede3c",
            "04cf931de30143929a08c3f34f392017",
            "3307daee09f34b58a1277572786b6a41",
            "960760deac3d495581e02049d43f4704"
          ]
        },
        "id": "iBci3-iFq3S0",
        "outputId": "4f45994c-4266-4d1b-f5b6-34c42163806d"
      },
      "execution_count": null,
      "outputs": [
        {
          "output_type": "stream",
          "name": "stdout",
          "text": [
            "True\n",
            "True\n",
            "True\n",
            "True\n",
            "True\n"
          ]
        },
        {
          "output_type": "display_data",
          "data": {
            "text/plain": [
              "  0%|          | 0/5 [00:00<?, ?it/s]"
            ],
            "application/vnd.jupyter.widget-view+json": {
              "version_major": 2,
              "version_minor": 0,
              "model_id": "aa2b6d4070e54b1bbdc1d5f9920cc9f1"
            }
          },
          "metadata": {}
        },
        {
          "output_type": "display_data",
          "data": {
            "text/plain": [
              "<IPython.core.display.HTML object>"
            ],
            "text/html": [
              "Tracking run with wandb version 0.19.1"
            ]
          },
          "metadata": {}
        },
        {
          "output_type": "display_data",
          "data": {
            "text/plain": [
              "<IPython.core.display.HTML object>"
            ],
            "text/html": [
              "Run data is saved locally in <code>/content/wandb/run-20241225_130652-0eo73sk9</code>"
            ]
          },
          "metadata": {}
        },
        {
          "output_type": "display_data",
          "data": {
            "text/plain": [
              "<IPython.core.display.HTML object>"
            ],
            "text/html": [
              "Resuming run <strong><a href='https://wandb.ai/overfit1010/finrl-dt-replicate/runs/0eo73sk9' target=\"_blank\">DOW-30 | 2014-01 | 2024-01 | 2024-12 | mZb8V</a></strong> to <a href='https://wandb.ai/overfit1010/finrl-dt-replicate' target=\"_blank\">Weights & Biases</a> (<a href='https://wandb.me/developer-guide' target=\"_blank\">docs</a>)<br>Sweep page: <a href='https://wandb.ai/overfit1010/finrl-dt-replicate/sweeps/9kx35n82' target=\"_blank\">https://wandb.ai/overfit1010/finrl-dt-replicate/sweeps/9kx35n82</a>"
            ]
          },
          "metadata": {}
        },
        {
          "output_type": "display_data",
          "data": {
            "text/plain": [
              "<IPython.core.display.HTML object>"
            ],
            "text/html": [
              " View project at <a href='https://wandb.ai/overfit1010/finrl-dt-replicate' target=\"_blank\">https://wandb.ai/overfit1010/finrl-dt-replicate</a>"
            ]
          },
          "metadata": {}
        },
        {
          "output_type": "display_data",
          "data": {
            "text/plain": [
              "<IPython.core.display.HTML object>"
            ],
            "text/html": [
              " View sweep at <a href='https://wandb.ai/overfit1010/finrl-dt-replicate/sweeps/9kx35n82' target=\"_blank\">https://wandb.ai/overfit1010/finrl-dt-replicate/sweeps/9kx35n82</a>"
            ]
          },
          "metadata": {}
        },
        {
          "output_type": "display_data",
          "data": {
            "text/plain": [
              "<IPython.core.display.HTML object>"
            ],
            "text/html": [
              " View run at <a href='https://wandb.ai/overfit1010/finrl-dt-replicate/runs/0eo73sk9' target=\"_blank\">https://wandb.ai/overfit1010/finrl-dt-replicate/runs/0eo73sk9</a>"
            ]
          },
          "metadata": {}
        },
        {
          "output_type": "stream",
          "name": "stdout",
          "text": [
            "True\n"
          ]
        },
        {
          "output_type": "stream",
          "name": "stderr",
          "text": [
            "\u001b[34m\u001b[1mwandb\u001b[0m:   2 of 2 files downloaded.  \n",
            "\u001b[34m\u001b[1mwandb\u001b[0m:   10 of 10 files downloaded.  \n",
            "\u001b[34m\u001b[1mwandb\u001b[0m:   5 of 5 files downloaded.  \n",
            "\u001b[34m\u001b[1mwandb\u001b[0m:   10 of 10 files downloaded.  \n",
            "\u001b[34m\u001b[1mwandb\u001b[0m:   5 of 5 files downloaded.  \n",
            "\u001b[34m\u001b[1mwandb\u001b[0m:   10 of 10 files downloaded.  \n",
            "\u001b[34m\u001b[1mwandb\u001b[0m:   5 of 5 files downloaded.  \n",
            "\u001b[34m\u001b[1mwandb\u001b[0m:   10 of 10 files downloaded.  \n",
            "\u001b[34m\u001b[1mwandb\u001b[0m:   5 of 5 files downloaded.  \n",
            "\u001b[34m\u001b[1mwandb\u001b[0m:   10 of 10 files downloaded.  \n",
            "\u001b[34m\u001b[1mwandb\u001b[0m:   5 of 5 files downloaded.  \n",
            "\u001b[34m\u001b[1mwandb\u001b[0m:   1 of 1 files downloaded.  \n",
            "\u001b[34m\u001b[1mwandb\u001b[0m:   1 of 1 files downloaded.  \n",
            "\u001b[34m\u001b[1mwandb\u001b[0m:   1 of 1 files downloaded.  \n",
            "\u001b[34m\u001b[1mwandb\u001b[0m:   1 of 1 files downloaded.  \n"
          ]
        },
        {
          "output_type": "stream",
          "name": "stdout",
          "text": [
            "Stock Dimension: 29, State Space: 291\n",
            "hit end!\n",
            "hit end!\n",
            "hit end!\n",
            "hit end!\n"
          ]
        },
        {
          "output_type": "stream",
          "name": "stderr",
          "text": [
            "\r[*********************100%***********************]  1 of 1 completed"
          ]
        },
        {
          "output_type": "stream",
          "name": "stdout",
          "text": [
            "hit end!\n",
            "2024-01-02\n",
            "2024-12-20\n",
            "Shape of DataFrame:  (245, 8)\n",
            "{'dataset_name': 'DOW-30 | 2014-01 | 2024-01 | 2024-12', 'test_start_year': 2024, 'if_using_ddpg': True, 'cost_abs': 2.5, 'if_using_ppo': True, 'stock_index_name': 'DOW-30', 'REFERENCE_PRICE_END_DATE': '2024-12-21', 'REFERNCE_PRICE_WINDOW_DAYS': 30, 'train_years_count': 10, 'cost_pct': [0.010314179718673032, 0.009076606561755468, 0.008307067100246136, 0.015516293581809112, 0.006395481989312903, 0.0072110283262062785, 0.04249566955190291, 0.015979716445954528, 0.021738725278835313, 0.004222453318177087, 0.005968143721526647, 0.010896151366589463, 0.01093735188446354, 0.11420864277075855, 0.01665255165637118, 0.010252194206940846, 0.03947813656400475, 0.008462643895002689, 0.01919729692524921, 0.024719550845968045, 0.005734449144229167, 0.03210832438433615, 0.014379031318205482, 0.00982580254909786, 0.0044498520553265045, 0.007984135151425499, 0.05881990501271046, 0.270946766931955, 0.026832260273111815], 'train_start_date': '2014-01-01T00:00:00', 'if_using_td3': True, 'test_start_date': '2024-01-01T00:00:00', 'test_years_count': 1, 'if_using_a2c': True, 'if_using_sac': True, 'initial_amount': 50000, 'train_params': {'td3': {'steps': 50000}, 'ddpg': {'steps': 50000}, 'a2c': {'steps': 50000}, 'ppo': {'steps': 200000}, 'sac': {'steps': 70000}}, 'test_end_date': '2024-12-31T00:00:00'}\n"
          ]
        },
        {
          "output_type": "stream",
          "name": "stderr",
          "text": [
            "\n"
          ]
        },
        {
          "output_type": "display_data",
          "data": {
            "text/plain": [
              "<IPython.core.display.HTML object>"
            ],
            "text/html": []
          },
          "metadata": {}
        },
        {
          "output_type": "display_data",
          "data": {
            "text/plain": [
              "<IPython.core.display.HTML object>"
            ],
            "text/html": [
              "<br>    <style><br>        .wandb-row {<br>            display: flex;<br>            flex-direction: row;<br>            flex-wrap: wrap;<br>            justify-content: flex-start;<br>            width: 100%;<br>        }<br>        .wandb-col {<br>            display: flex;<br>            flex-direction: column;<br>            flex-basis: 100%;<br>            flex: 1;<br>            padding: 10px;<br>        }<br>    </style><br><div class=\"wandb-row\"><div class=\"wandb-col\"><h3>Run summary:</h3><br/><table class=\"wandb\"><tr><td>max_sharpe_ratio</td><td>0.72096</td></tr><tr><td>max_sharpe_ratio_model</td><td>td3</td></tr><tr><td>sharpe_ratio/a2c</td><td>0.35971</td></tr><tr><td>sharpe_ratio/ddpg</td><td>0.68576</td></tr><tr><td>sharpe_ratio/ppo</td><td>0.27786</td></tr><tr><td>sharpe_ratio/sac</td><td>-4.00484</td></tr><tr><td>sharpe_ratio/td3</td><td>0.72096</td></tr></table><br/></div></div>"
            ]
          },
          "metadata": {}
        },
        {
          "output_type": "display_data",
          "data": {
            "text/plain": [
              "<IPython.core.display.HTML object>"
            ],
            "text/html": [
              " View run <strong style=\"color:#cdcd00\">DOW-30 | 2014-01 | 2024-01 | 2024-12 | mZb8V</strong> at: <a href='https://wandb.ai/overfit1010/finrl-dt-replicate/runs/0eo73sk9' target=\"_blank\">https://wandb.ai/overfit1010/finrl-dt-replicate/runs/0eo73sk9</a><br> View project at: <a href='https://wandb.ai/overfit1010/finrl-dt-replicate' target=\"_blank\">https://wandb.ai/overfit1010/finrl-dt-replicate</a><br>Synced 5 W&B file(s), 0 media file(s), 2 artifact file(s) and 0 other file(s)"
            ]
          },
          "metadata": {}
        },
        {
          "output_type": "display_data",
          "data": {
            "text/plain": [
              "<IPython.core.display.HTML object>"
            ],
            "text/html": [
              "Find logs at: <code>./wandb/run-20241225_130652-0eo73sk9/logs</code>"
            ]
          },
          "metadata": {}
        },
        {
          "output_type": "display_data",
          "data": {
            "text/plain": [
              "<IPython.core.display.HTML object>"
            ],
            "text/html": [
              "Tracking run with wandb version 0.19.1"
            ]
          },
          "metadata": {}
        },
        {
          "output_type": "display_data",
          "data": {
            "text/plain": [
              "<IPython.core.display.HTML object>"
            ],
            "text/html": [
              "Run data is saved locally in <code>/content/wandb/run-20241225_130707-tghot2gn</code>"
            ]
          },
          "metadata": {}
        },
        {
          "output_type": "display_data",
          "data": {
            "text/plain": [
              "<IPython.core.display.HTML object>"
            ],
            "text/html": [
              "Resuming run <strong><a href='https://wandb.ai/overfit1010/finrl-dt-replicate/runs/tghot2gn' target=\"_blank\">DOW-30 | 2013-01 | 2023-01 | 2024-01 | wNnGo</a></strong> to <a href='https://wandb.ai/overfit1010/finrl-dt-replicate' target=\"_blank\">Weights & Biases</a> (<a href='https://wandb.me/developer-guide' target=\"_blank\">docs</a>)<br>Sweep page: <a href='https://wandb.ai/overfit1010/finrl-dt-replicate/sweeps/9kx35n82' target=\"_blank\">https://wandb.ai/overfit1010/finrl-dt-replicate/sweeps/9kx35n82</a>"
            ]
          },
          "metadata": {}
        },
        {
          "output_type": "display_data",
          "data": {
            "text/plain": [
              "<IPython.core.display.HTML object>"
            ],
            "text/html": [
              " View project at <a href='https://wandb.ai/overfit1010/finrl-dt-replicate' target=\"_blank\">https://wandb.ai/overfit1010/finrl-dt-replicate</a>"
            ]
          },
          "metadata": {}
        },
        {
          "output_type": "display_data",
          "data": {
            "text/plain": [
              "<IPython.core.display.HTML object>"
            ],
            "text/html": [
              " View sweep at <a href='https://wandb.ai/overfit1010/finrl-dt-replicate/sweeps/9kx35n82' target=\"_blank\">https://wandb.ai/overfit1010/finrl-dt-replicate/sweeps/9kx35n82</a>"
            ]
          },
          "metadata": {}
        },
        {
          "output_type": "display_data",
          "data": {
            "text/plain": [
              "<IPython.core.display.HTML object>"
            ],
            "text/html": [
              " View run at <a href='https://wandb.ai/overfit1010/finrl-dt-replicate/runs/tghot2gn' target=\"_blank\">https://wandb.ai/overfit1010/finrl-dt-replicate/runs/tghot2gn</a>"
            ]
          },
          "metadata": {}
        },
        {
          "output_type": "stream",
          "name": "stdout",
          "text": [
            "True\n"
          ]
        },
        {
          "output_type": "stream",
          "name": "stderr",
          "text": [
            "\u001b[34m\u001b[1mwandb\u001b[0m:   2 of 2 files downloaded.  \n",
            "\u001b[34m\u001b[1mwandb\u001b[0m:   10 of 10 files downloaded.  \n",
            "\u001b[34m\u001b[1mwandb\u001b[0m:   5 of 5 files downloaded.  \n",
            "\u001b[34m\u001b[1mwandb\u001b[0m:   10 of 10 files downloaded.  \n",
            "\u001b[34m\u001b[1mwandb\u001b[0m:   5 of 5 files downloaded.  \n",
            "\u001b[34m\u001b[1mwandb\u001b[0m:   10 of 10 files downloaded.  \n",
            "\u001b[34m\u001b[1mwandb\u001b[0m:   5 of 5 files downloaded.  \n",
            "\u001b[34m\u001b[1mwandb\u001b[0m:   10 of 10 files downloaded.  \n",
            "\u001b[34m\u001b[1mwandb\u001b[0m:   5 of 5 files downloaded.  \n",
            "\u001b[34m\u001b[1mwandb\u001b[0m:   10 of 10 files downloaded.  \n",
            "\u001b[34m\u001b[1mwandb\u001b[0m:   5 of 5 files downloaded.  \n",
            "\u001b[34m\u001b[1mwandb\u001b[0m:   1 of 1 files downloaded.  \n",
            "\u001b[34m\u001b[1mwandb\u001b[0m:   1 of 1 files downloaded.  \n",
            "\u001b[34m\u001b[1mwandb\u001b[0m:   1 of 1 files downloaded.  \n",
            "\u001b[34m\u001b[1mwandb\u001b[0m:   1 of 1 files downloaded.  \n"
          ]
        },
        {
          "output_type": "stream",
          "name": "stdout",
          "text": [
            "Stock Dimension: 29, State Space: 291\n",
            "hit end!\n",
            "hit end!\n",
            "hit end!\n",
            "hit end!\n"
          ]
        },
        {
          "output_type": "stream",
          "name": "stderr",
          "text": [
            "\r[*********************100%***********************]  1 of 1 completed"
          ]
        },
        {
          "output_type": "stream",
          "name": "stdout",
          "text": [
            "hit end!\n",
            "2023-01-03\n",
            "2023-12-29\n",
            "Shape of DataFrame:  (249, 8)\n",
            "{'if_using_td3': True, 'initial_amount': 50000, 'if_using_ddpg': True, 'train_params': {'a2c': {'steps': 50000}, 'ppo': {'steps': 200000}, 'sac': {'steps': 70000}, 'td3': {'steps': 50000}, 'ddpg': {'steps': 50000}}, 'REFERNCE_PRICE_WINDOW_DAYS': 30, 'if_using_ppo': True, 'test_start_year': 2023, 'cost_abs': 2.5, 'if_using_a2c': True, 'test_start_date': '2023-01-01T00:00:00', 'if_using_sac': True, 'test_end_date': '2024-01-01T00:00:00', 'test_years_count': 1, 'stock_index_name': 'DOW-30', 'train_start_date': '2013-01-01T00:00:00', 'REFERENCE_PRICE_END_DATE': '2024-12-21', 'dataset_name': 'DOW-30 | 2013-01 | 2023-01 | 2024-01', 'train_years_count': 10, 'cost_pct': [0.010314179718673032, 0.009076606561755468, 0.008307067100246136, 0.015516293581809112, 0.006395481989312903, 0.0072110283262062785, 0.04249566955190291, 0.015979716445954528, 0.021738725278835313, 0.004222453318177087, 0.005968143721526647, 0.010896151366589463, 0.01093735188446354, 0.11420864277075855, 0.01665255165637118, 0.010252194206940846, 0.03947813656400475, 0.008462643895002689, 0.01919729692524921, 0.024719550845968045, 0.005734449144229167, 0.03210832438433615, 0.014379031318205482, 0.00982580254909786, 0.0044498520553265045, 0.007984135151425499, 0.05881990501271046, 0.270946766931955, 0.026832260273111815]}\n"
          ]
        },
        {
          "output_type": "stream",
          "name": "stderr",
          "text": [
            "\n"
          ]
        },
        {
          "output_type": "display_data",
          "data": {
            "text/plain": [
              "<IPython.core.display.HTML object>"
            ],
            "text/html": []
          },
          "metadata": {}
        },
        {
          "output_type": "display_data",
          "data": {
            "text/plain": [
              "<IPython.core.display.HTML object>"
            ],
            "text/html": [
              "<br>    <style><br>        .wandb-row {<br>            display: flex;<br>            flex-direction: row;<br>            flex-wrap: wrap;<br>            justify-content: flex-start;<br>            width: 100%;<br>        }<br>        .wandb-col {<br>            display: flex;<br>            flex-direction: column;<br>            flex-basis: 100%;<br>            flex: 1;<br>            padding: 10px;<br>        }<br>    </style><br><div class=\"wandb-row\"><div class=\"wandb-col\"><h3>Run summary:</h3><br/><table class=\"wandb\"><tr><td>max_sharpe_ratio</td><td>0.85917</td></tr><tr><td>max_sharpe_ratio_model</td><td>a2c</td></tr><tr><td>sharpe_ratio/a2c</td><td>0.85917</td></tr><tr><td>sharpe_ratio/ddpg</td><td>0.70298</td></tr><tr><td>sharpe_ratio/ppo</td><td>0.23189</td></tr><tr><td>sharpe_ratio/sac</td><td>-3.95751</td></tr><tr><td>sharpe_ratio/td3</td><td>0.63833</td></tr></table><br/></div></div>"
            ]
          },
          "metadata": {}
        },
        {
          "output_type": "display_data",
          "data": {
            "text/plain": [
              "<IPython.core.display.HTML object>"
            ],
            "text/html": [
              " View run <strong style=\"color:#cdcd00\">DOW-30 | 2013-01 | 2023-01 | 2024-01 | wNnGo</strong> at: <a href='https://wandb.ai/overfit1010/finrl-dt-replicate/runs/tghot2gn' target=\"_blank\">https://wandb.ai/overfit1010/finrl-dt-replicate/runs/tghot2gn</a><br> View project at: <a href='https://wandb.ai/overfit1010/finrl-dt-replicate' target=\"_blank\">https://wandb.ai/overfit1010/finrl-dt-replicate</a><br>Synced 5 W&B file(s), 0 media file(s), 2 artifact file(s) and 0 other file(s)"
            ]
          },
          "metadata": {}
        },
        {
          "output_type": "display_data",
          "data": {
            "text/plain": [
              "<IPython.core.display.HTML object>"
            ],
            "text/html": [
              "Find logs at: <code>./wandb/run-20241225_130707-tghot2gn/logs</code>"
            ]
          },
          "metadata": {}
        },
        {
          "output_type": "display_data",
          "data": {
            "text/plain": [
              "<IPython.core.display.HTML object>"
            ],
            "text/html": [
              "Tracking run with wandb version 0.19.1"
            ]
          },
          "metadata": {}
        },
        {
          "output_type": "display_data",
          "data": {
            "text/plain": [
              "<IPython.core.display.HTML object>"
            ],
            "text/html": [
              "Run data is saved locally in <code>/content/wandb/run-20241225_130723-v8lpx6u0</code>"
            ]
          },
          "metadata": {}
        },
        {
          "output_type": "display_data",
          "data": {
            "text/plain": [
              "<IPython.core.display.HTML object>"
            ],
            "text/html": [
              "Resuming run <strong><a href='https://wandb.ai/overfit1010/finrl-dt-replicate/runs/v8lpx6u0' target=\"_blank\">DOW-30 | 2012-01 | 2022-01 | 2023-01 | uTEs5</a></strong> to <a href='https://wandb.ai/overfit1010/finrl-dt-replicate' target=\"_blank\">Weights & Biases</a> (<a href='https://wandb.me/developer-guide' target=\"_blank\">docs</a>)<br>Sweep page: <a href='https://wandb.ai/overfit1010/finrl-dt-replicate/sweeps/9kx35n82' target=\"_blank\">https://wandb.ai/overfit1010/finrl-dt-replicate/sweeps/9kx35n82</a>"
            ]
          },
          "metadata": {}
        },
        {
          "output_type": "display_data",
          "data": {
            "text/plain": [
              "<IPython.core.display.HTML object>"
            ],
            "text/html": [
              " View project at <a href='https://wandb.ai/overfit1010/finrl-dt-replicate' target=\"_blank\">https://wandb.ai/overfit1010/finrl-dt-replicate</a>"
            ]
          },
          "metadata": {}
        },
        {
          "output_type": "display_data",
          "data": {
            "text/plain": [
              "<IPython.core.display.HTML object>"
            ],
            "text/html": [
              " View sweep at <a href='https://wandb.ai/overfit1010/finrl-dt-replicate/sweeps/9kx35n82' target=\"_blank\">https://wandb.ai/overfit1010/finrl-dt-replicate/sweeps/9kx35n82</a>"
            ]
          },
          "metadata": {}
        },
        {
          "output_type": "display_data",
          "data": {
            "text/plain": [
              "<IPython.core.display.HTML object>"
            ],
            "text/html": [
              " View run at <a href='https://wandb.ai/overfit1010/finrl-dt-replicate/runs/v8lpx6u0' target=\"_blank\">https://wandb.ai/overfit1010/finrl-dt-replicate/runs/v8lpx6u0</a>"
            ]
          },
          "metadata": {}
        },
        {
          "output_type": "stream",
          "name": "stdout",
          "text": [
            "True\n"
          ]
        },
        {
          "output_type": "stream",
          "name": "stderr",
          "text": [
            "\u001b[34m\u001b[1mwandb\u001b[0m: \\ 1 of 2 files downloaded...\r\u001b[34m\u001b[1mwandb\u001b[0m:   2 of 2 files downloaded.  \n",
            "\u001b[34m\u001b[1mwandb\u001b[0m:   10 of 10 files downloaded.  \n",
            "\u001b[34m\u001b[1mwandb\u001b[0m:   5 of 5 files downloaded.  \n",
            "\u001b[34m\u001b[1mwandb\u001b[0m:   10 of 10 files downloaded.  \n",
            "\u001b[34m\u001b[1mwandb\u001b[0m:   5 of 5 files downloaded.  \n",
            "\u001b[34m\u001b[1mwandb\u001b[0m:   10 of 10 files downloaded.  \n",
            "\u001b[34m\u001b[1mwandb\u001b[0m:   5 of 5 files downloaded.  \n",
            "\u001b[34m\u001b[1mwandb\u001b[0m:   10 of 10 files downloaded.  \n",
            "\u001b[34m\u001b[1mwandb\u001b[0m:   5 of 5 files downloaded.  \n",
            "\u001b[34m\u001b[1mwandb\u001b[0m:   10 of 10 files downloaded.  \n",
            "\u001b[34m\u001b[1mwandb\u001b[0m:   5 of 5 files downloaded.  \n",
            "\u001b[34m\u001b[1mwandb\u001b[0m:   1 of 1 files downloaded.  \n",
            "\u001b[34m\u001b[1mwandb\u001b[0m:   1 of 1 files downloaded.  \n",
            "\u001b[34m\u001b[1mwandb\u001b[0m:   1 of 1 files downloaded.  \n",
            "\u001b[34m\u001b[1mwandb\u001b[0m:   1 of 1 files downloaded.  \n"
          ]
        },
        {
          "output_type": "stream",
          "name": "stdout",
          "text": [
            "Stock Dimension: 29, State Space: 291\n",
            "hit end!\n",
            "hit end!\n",
            "hit end!\n",
            "hit end!\n"
          ]
        },
        {
          "output_type": "stream",
          "name": "stderr",
          "text": [
            "\r[*********************100%***********************]  1 of 1 completed"
          ]
        },
        {
          "output_type": "stream",
          "name": "stdout",
          "text": [
            "hit end!\n",
            "2022-01-03\n",
            "2022-12-30\n",
            "Shape of DataFrame:  (250, 8)\n",
            "{'test_end_date': '2023-01-01T00:00:00', 'dataset_name': 'DOW-30 | 2012-01 | 2022-01 | 2023-01', 'cost_abs': 2.5, 'cost_pct': [0.010314179718673032, 0.009076606561755468, 0.008307067100246136, 0.015516293581809112, 0.006395481989312903, 0.0072110283262062785, 0.04249566955190291, 0.015979716445954528, 0.021738725278835313, 0.004222453318177087, 0.005968143721526647, 0.010896151366589463, 0.01093735188446354, 0.11420864277075855, 0.01665255165637118, 0.010252194206940846, 0.03947813656400475, 0.008462643895002689, 0.01919729692524921, 0.024719550845968045, 0.005734449144229167, 0.03210832438433615, 0.014379031318205482, 0.00982580254909786, 0.0044498520553265045, 0.007984135151425499, 0.05881990501271046, 0.270946766931955, 0.026832260273111815], 'if_using_sac': True, 'if_using_ddpg': True, 'train_params': {'a2c': {'steps': 50000}, 'ppo': {'steps': 200000}, 'sac': {'steps': 70000}, 'td3': {'steps': 50000}, 'ddpg': {'steps': 50000}}, 'initial_amount': 50000, 'test_start_date': '2022-01-01T00:00:00', 'test_start_year': 2022, 'REFERNCE_PRICE_WINDOW_DAYS': 30, 'REFERENCE_PRICE_END_DATE': '2024-12-21', 'train_years_count': 10, 'if_using_td3': True, 'if_using_ppo': True, 'stock_index_name': 'DOW-30', 'if_using_a2c': True, 'test_years_count': 1, 'train_start_date': '2012-01-02T00:00:00'}\n"
          ]
        },
        {
          "output_type": "stream",
          "name": "stderr",
          "text": [
            "\n"
          ]
        },
        {
          "output_type": "display_data",
          "data": {
            "text/plain": [
              "<IPython.core.display.HTML object>"
            ],
            "text/html": []
          },
          "metadata": {}
        },
        {
          "output_type": "display_data",
          "data": {
            "text/plain": [
              "<IPython.core.display.HTML object>"
            ],
            "text/html": [
              "<br>    <style><br>        .wandb-row {<br>            display: flex;<br>            flex-direction: row;<br>            flex-wrap: wrap;<br>            justify-content: flex-start;<br>            width: 100%;<br>        }<br>        .wandb-col {<br>            display: flex;<br>            flex-direction: column;<br>            flex-basis: 100%;<br>            flex: 1;<br>            padding: 10px;<br>        }<br>    </style><br><div class=\"wandb-row\"><div class=\"wandb-col\"><h3>Run summary:</h3><br/><table class=\"wandb\"><tr><td>max_sharpe_ratio</td><td>1.01459</td></tr><tr><td>max_sharpe_ratio_model</td><td>ddpg</td></tr><tr><td>sharpe_ratio/a2c</td><td>0.77257</td></tr><tr><td>sharpe_ratio/ddpg</td><td>1.01459</td></tr><tr><td>sharpe_ratio/ppo</td><td>-3.43951</td></tr><tr><td>sharpe_ratio/sac</td><td>-0.19232</td></tr><tr><td>sharpe_ratio/td3</td><td>0.82295</td></tr></table><br/></div></div>"
            ]
          },
          "metadata": {}
        },
        {
          "output_type": "display_data",
          "data": {
            "text/plain": [
              "<IPython.core.display.HTML object>"
            ],
            "text/html": [
              " View run <strong style=\"color:#cdcd00\">DOW-30 | 2012-01 | 2022-01 | 2023-01 | uTEs5</strong> at: <a href='https://wandb.ai/overfit1010/finrl-dt-replicate/runs/v8lpx6u0' target=\"_blank\">https://wandb.ai/overfit1010/finrl-dt-replicate/runs/v8lpx6u0</a><br> View project at: <a href='https://wandb.ai/overfit1010/finrl-dt-replicate' target=\"_blank\">https://wandb.ai/overfit1010/finrl-dt-replicate</a><br>Synced 5 W&B file(s), 0 media file(s), 2 artifact file(s) and 0 other file(s)"
            ]
          },
          "metadata": {}
        },
        {
          "output_type": "display_data",
          "data": {
            "text/plain": [
              "<IPython.core.display.HTML object>"
            ],
            "text/html": [
              "Find logs at: <code>./wandb/run-20241225_130723-v8lpx6u0/logs</code>"
            ]
          },
          "metadata": {}
        },
        {
          "output_type": "display_data",
          "data": {
            "text/plain": [
              "<IPython.core.display.HTML object>"
            ],
            "text/html": [
              "Tracking run with wandb version 0.19.1"
            ]
          },
          "metadata": {}
        },
        {
          "output_type": "display_data",
          "data": {
            "text/plain": [
              "<IPython.core.display.HTML object>"
            ],
            "text/html": [
              "Run data is saved locally in <code>/content/wandb/run-20241225_130739-832smmv9</code>"
            ]
          },
          "metadata": {}
        },
        {
          "output_type": "display_data",
          "data": {
            "text/plain": [
              "<IPython.core.display.HTML object>"
            ],
            "text/html": [
              "Resuming run <strong><a href='https://wandb.ai/overfit1010/finrl-dt-replicate/runs/832smmv9' target=\"_blank\">DOW-30 | 2011-01 | 2021-01 | 2022-01 | 1hzbT</a></strong> to <a href='https://wandb.ai/overfit1010/finrl-dt-replicate' target=\"_blank\">Weights & Biases</a> (<a href='https://wandb.me/developer-guide' target=\"_blank\">docs</a>)<br>Sweep page: <a href='https://wandb.ai/overfit1010/finrl-dt-replicate/sweeps/9kx35n82' target=\"_blank\">https://wandb.ai/overfit1010/finrl-dt-replicate/sweeps/9kx35n82</a>"
            ]
          },
          "metadata": {}
        },
        {
          "output_type": "display_data",
          "data": {
            "text/plain": [
              "<IPython.core.display.HTML object>"
            ],
            "text/html": [
              " View project at <a href='https://wandb.ai/overfit1010/finrl-dt-replicate' target=\"_blank\">https://wandb.ai/overfit1010/finrl-dt-replicate</a>"
            ]
          },
          "metadata": {}
        },
        {
          "output_type": "display_data",
          "data": {
            "text/plain": [
              "<IPython.core.display.HTML object>"
            ],
            "text/html": [
              " View sweep at <a href='https://wandb.ai/overfit1010/finrl-dt-replicate/sweeps/9kx35n82' target=\"_blank\">https://wandb.ai/overfit1010/finrl-dt-replicate/sweeps/9kx35n82</a>"
            ]
          },
          "metadata": {}
        },
        {
          "output_type": "display_data",
          "data": {
            "text/plain": [
              "<IPython.core.display.HTML object>"
            ],
            "text/html": [
              " View run at <a href='https://wandb.ai/overfit1010/finrl-dt-replicate/runs/832smmv9' target=\"_blank\">https://wandb.ai/overfit1010/finrl-dt-replicate/runs/832smmv9</a>"
            ]
          },
          "metadata": {}
        },
        {
          "output_type": "stream",
          "name": "stdout",
          "text": [
            "True\n"
          ]
        },
        {
          "output_type": "stream",
          "name": "stderr",
          "text": [
            "\u001b[34m\u001b[1mwandb\u001b[0m:   2 of 2 files downloaded.  \n",
            "\u001b[34m\u001b[1mwandb\u001b[0m:   10 of 10 files downloaded.  \n",
            "\u001b[34m\u001b[1mwandb\u001b[0m:   5 of 5 files downloaded.  \n",
            "\u001b[34m\u001b[1mwandb\u001b[0m:   10 of 10 files downloaded.  \n",
            "\u001b[34m\u001b[1mwandb\u001b[0m:   5 of 5 files downloaded.  \n",
            "\u001b[34m\u001b[1mwandb\u001b[0m:   10 of 10 files downloaded.  \n",
            "\u001b[34m\u001b[1mwandb\u001b[0m:   5 of 5 files downloaded.  \n",
            "\u001b[34m\u001b[1mwandb\u001b[0m:   10 of 10 files downloaded.  \n",
            "\u001b[34m\u001b[1mwandb\u001b[0m:   5 of 5 files downloaded.  \n",
            "\u001b[34m\u001b[1mwandb\u001b[0m:   10 of 10 files downloaded.  \n",
            "\u001b[34m\u001b[1mwandb\u001b[0m:   5 of 5 files downloaded.  \n",
            "\u001b[34m\u001b[1mwandb\u001b[0m:   1 of 1 files downloaded.  \n",
            "\u001b[34m\u001b[1mwandb\u001b[0m:   1 of 1 files downloaded.  \n",
            "\u001b[34m\u001b[1mwandb\u001b[0m:   1 of 1 files downloaded.  \n",
            "\u001b[34m\u001b[1mwandb\u001b[0m:   1 of 1 files downloaded.  \n"
          ]
        },
        {
          "output_type": "stream",
          "name": "stdout",
          "text": [
            "Stock Dimension: 29, State Space: 291\n",
            "hit end!\n",
            "hit end!\n",
            "hit end!\n",
            "hit end!\n"
          ]
        },
        {
          "output_type": "stream",
          "name": "stderr",
          "text": [
            "\r[*********************100%***********************]  1 of 1 completed"
          ]
        },
        {
          "output_type": "stream",
          "name": "stdout",
          "text": [
            "hit end!\n",
            "2021-01-04\n",
            "2021-12-31\n",
            "Shape of DataFrame:  (251, 8)\n",
            "{'REFERENCE_PRICE_END_DATE': '2024-12-21', 'train_params': {'sac': {'steps': 70000}, 'td3': {'steps': 50000}, 'ddpg': {'steps': 50000}, 'a2c': {'steps': 50000}, 'ppo': {'steps': 200000}}, 'test_end_date': '2022-01-01T00:00:00', 'dataset_name': 'DOW-30 | 2011-01 | 2021-01 | 2022-01', 'stock_index_name': 'DOW-30', 'if_using_ddpg': True, 'test_start_year': 2021, 'if_using_a2c': True, 'if_using_td3': True, 'train_start_date': '2011-01-02T00:00:00', 'REFERNCE_PRICE_WINDOW_DAYS': 30, 'test_years_count': 1, 'cost_abs': 2.5, 'train_years_count': 10, 'if_using_ppo': True, 'test_start_date': '2021-01-01T00:00:00', 'initial_amount': 50000, 'if_using_sac': True, 'cost_pct': [0.010314179718673032, 0.009076606561755468, 0.008307067100246136, 0.015516293581809112, 0.006395481989312903, 0.0072110283262062785, 0.04249566955190291, 0.015979716445954528, 0.021738725278835313, 0.004222453318177087, 0.005968143721526647, 0.010896151366589463, 0.01093735188446354, 0.11420864277075855, 0.01665255165637118, 0.010252194206940846, 0.03947813656400475, 0.008462643895002689, 0.01919729692524921, 0.024719550845968045, 0.005734449144229167, 0.03210832438433615, 0.014379031318205482, 0.00982580254909786, 0.0044498520553265045, 0.007984135151425499, 0.05881990501271046, 0.270946766931955, 0.026832260273111815]}\n"
          ]
        },
        {
          "output_type": "stream",
          "name": "stderr",
          "text": [
            "\n"
          ]
        },
        {
          "output_type": "display_data",
          "data": {
            "text/plain": [
              "<IPython.core.display.HTML object>"
            ],
            "text/html": []
          },
          "metadata": {}
        },
        {
          "output_type": "display_data",
          "data": {
            "text/plain": [
              "<IPython.core.display.HTML object>"
            ],
            "text/html": [
              "<br>    <style><br>        .wandb-row {<br>            display: flex;<br>            flex-direction: row;<br>            flex-wrap: wrap;<br>            justify-content: flex-start;<br>            width: 100%;<br>        }<br>        .wandb-col {<br>            display: flex;<br>            flex-direction: column;<br>            flex-basis: 100%;<br>            flex: 1;<br>            padding: 10px;<br>        }<br>    </style><br><div class=\"wandb-row\"><div class=\"wandb-col\"><h3>Run summary:</h3><br/><table class=\"wandb\"><tr><td>max_sharpe_ratio</td><td>0.70819</td></tr><tr><td>max_sharpe_ratio_model</td><td>ddpg</td></tr><tr><td>sharpe_ratio/a2c</td><td>0.52426</td></tr><tr><td>sharpe_ratio/ddpg</td><td>0.70819</td></tr><tr><td>sharpe_ratio/ppo</td><td>-3.55931</td></tr><tr><td>sharpe_ratio/sac</td><td>-4.07199</td></tr><tr><td>sharpe_ratio/td3</td><td>0.62424</td></tr></table><br/></div></div>"
            ]
          },
          "metadata": {}
        },
        {
          "output_type": "display_data",
          "data": {
            "text/plain": [
              "<IPython.core.display.HTML object>"
            ],
            "text/html": [
              " View run <strong style=\"color:#cdcd00\">DOW-30 | 2011-01 | 2021-01 | 2022-01 | 1hzbT</strong> at: <a href='https://wandb.ai/overfit1010/finrl-dt-replicate/runs/832smmv9' target=\"_blank\">https://wandb.ai/overfit1010/finrl-dt-replicate/runs/832smmv9</a><br> View project at: <a href='https://wandb.ai/overfit1010/finrl-dt-replicate' target=\"_blank\">https://wandb.ai/overfit1010/finrl-dt-replicate</a><br>Synced 5 W&B file(s), 0 media file(s), 2 artifact file(s) and 0 other file(s)"
            ]
          },
          "metadata": {}
        },
        {
          "output_type": "display_data",
          "data": {
            "text/plain": [
              "<IPython.core.display.HTML object>"
            ],
            "text/html": [
              "Find logs at: <code>./wandb/run-20241225_130739-832smmv9/logs</code>"
            ]
          },
          "metadata": {}
        },
        {
          "output_type": "display_data",
          "data": {
            "text/plain": [
              "<IPython.core.display.HTML object>"
            ],
            "text/html": [
              "Tracking run with wandb version 0.19.1"
            ]
          },
          "metadata": {}
        },
        {
          "output_type": "display_data",
          "data": {
            "text/plain": [
              "<IPython.core.display.HTML object>"
            ],
            "text/html": [
              "Run data is saved locally in <code>/content/wandb/run-20241225_130754-jyyy5vmo</code>"
            ]
          },
          "metadata": {}
        },
        {
          "output_type": "display_data",
          "data": {
            "text/plain": [
              "<IPython.core.display.HTML object>"
            ],
            "text/html": [
              "Resuming run <strong><a href='https://wandb.ai/overfit1010/finrl-dt-replicate/runs/jyyy5vmo' target=\"_blank\">DOW-30 | 2010-01 | 2020-01 | 2020-12 | ydVPf</a></strong> to <a href='https://wandb.ai/overfit1010/finrl-dt-replicate' target=\"_blank\">Weights & Biases</a> (<a href='https://wandb.me/developer-guide' target=\"_blank\">docs</a>)<br>Sweep page: <a href='https://wandb.ai/overfit1010/finrl-dt-replicate/sweeps/9kx35n82' target=\"_blank\">https://wandb.ai/overfit1010/finrl-dt-replicate/sweeps/9kx35n82</a>"
            ]
          },
          "metadata": {}
        },
        {
          "output_type": "display_data",
          "data": {
            "text/plain": [
              "<IPython.core.display.HTML object>"
            ],
            "text/html": [
              " View project at <a href='https://wandb.ai/overfit1010/finrl-dt-replicate' target=\"_blank\">https://wandb.ai/overfit1010/finrl-dt-replicate</a>"
            ]
          },
          "metadata": {}
        },
        {
          "output_type": "display_data",
          "data": {
            "text/plain": [
              "<IPython.core.display.HTML object>"
            ],
            "text/html": [
              " View sweep at <a href='https://wandb.ai/overfit1010/finrl-dt-replicate/sweeps/9kx35n82' target=\"_blank\">https://wandb.ai/overfit1010/finrl-dt-replicate/sweeps/9kx35n82</a>"
            ]
          },
          "metadata": {}
        },
        {
          "output_type": "display_data",
          "data": {
            "text/plain": [
              "<IPython.core.display.HTML object>"
            ],
            "text/html": [
              " View run at <a href='https://wandb.ai/overfit1010/finrl-dt-replicate/runs/jyyy5vmo' target=\"_blank\">https://wandb.ai/overfit1010/finrl-dt-replicate/runs/jyyy5vmo</a>"
            ]
          },
          "metadata": {}
        },
        {
          "output_type": "stream",
          "name": "stdout",
          "text": [
            "True\n"
          ]
        },
        {
          "output_type": "stream",
          "name": "stderr",
          "text": [
            "\u001b[34m\u001b[1mwandb\u001b[0m:   2 of 2 files downloaded.  \n",
            "\u001b[34m\u001b[1mwandb\u001b[0m:   2 of 2 files downloaded.  \n",
            "\u001b[34m\u001b[1mwandb\u001b[0m:   1 of 1 files downloaded.  \n",
            "\u001b[34m\u001b[1mwandb\u001b[0m:   4 of 4 files downloaded.  \n",
            "\u001b[34m\u001b[1mwandb\u001b[0m:   2 of 2 files downloaded.  \n",
            "\u001b[34m\u001b[1mwandb\u001b[0m:   6 of 6 files downloaded.  \n",
            "\u001b[34m\u001b[1mwandb\u001b[0m:   3 of 3 files downloaded.  \n",
            "\u001b[34m\u001b[1mwandb\u001b[0m:   1 of 1 files downloaded.  \n",
            "\u001b[34m\u001b[1mwandb\u001b[0m:   8 of 8 files downloaded.  \n",
            "\u001b[34m\u001b[1mwandb\u001b[0m:   4 of 4 files downloaded.  \n",
            "\u001b[34m\u001b[1mwandb\u001b[0m:   10 of 10 files downloaded.  \n",
            "\u001b[34m\u001b[1mwandb\u001b[0m:   5 of 5 files downloaded.  \n",
            "\u001b[34m\u001b[1mwandb\u001b[0m:   1 of 1 files downloaded.  \n",
            "\u001b[34m\u001b[1mwandb\u001b[0m:   1 of 1 files downloaded.  \n",
            "\u001b[34m\u001b[1mwandb\u001b[0m:   1 of 1 files downloaded.  \n",
            "\u001b[34m\u001b[1mwandb\u001b[0m:   1 of 1 files downloaded.  \n"
          ]
        },
        {
          "output_type": "stream",
          "name": "stdout",
          "text": [
            "Stock Dimension: 29, State Space: 291\n",
            "hit end!\n",
            "hit end!\n",
            "hit end!\n",
            "hit end!\n"
          ]
        },
        {
          "output_type": "stream",
          "name": "stderr",
          "text": [
            "\r[*********************100%***********************]  1 of 1 completed"
          ]
        },
        {
          "output_type": "stream",
          "name": "stdout",
          "text": [
            "hit end!\n",
            "2020-01-02\n",
            "2020-12-30\n",
            "Shape of DataFrame:  (251, 8)\n",
            "{'if_using_td3': True, 'test_years_count': 1, 'stock_index_name': 'DOW-30', 'if_using_ppo': True, 'test_end_date': '2020-12-31T00:00:00', 'test_start_year': 2020, 'if_using_a2c': True, 'REFERENCE_PRICE_END_DATE': '2024-12-21', 'REFERNCE_PRICE_WINDOW_DAYS': 30, 'train_years_count': 10, 'cost_pct': [0.010314179718673032, 0.009076606561755468, 0.008307067100246136, 0.015516293581809112, 0.006395481989312903, 0.0072110283262062785, 0.04249566955190291, 0.015979716445954528, 0.021738725278835313, 0.004222453318177087, 0.005968143721526647, 0.010896151366589463, 0.01093735188446354, 0.11420864277075855, 0.01665255165637118, 0.010252194206940846, 0.03947813656400475, 0.008462643895002689, 0.01919729692524921, 0.024719550845968045, 0.005734449144229167, 0.03210832438433615, 0.014379031318205482, 0.00982580254909786, 0.0044498520553265045, 0.007984135151425499, 0.05881990501271046, 0.270946766931955, 0.026832260273111815], 'train_params': {'a2c': {'steps': 50000}, 'ppo': {'steps': 200000}, 'sac': {'steps': 70000}, 'td3': {'steps': 50000}, 'ddpg': {'steps': 50000}}, 'if_using_ddpg': True, 'train_start_date': '2010-01-01T00:00:00', 'initial_amount': 50000, 'if_using_sac': True, 'cost_abs': 2.5, 'dataset_name': 'DOW-30 | 2010-01 | 2020-01 | 2020-12', 'test_start_date': '2020-01-01T00:00:00'}\n"
          ]
        },
        {
          "output_type": "stream",
          "name": "stderr",
          "text": [
            "\n"
          ]
        },
        {
          "output_type": "display_data",
          "data": {
            "text/plain": [
              "<IPython.core.display.HTML object>"
            ],
            "text/html": []
          },
          "metadata": {}
        },
        {
          "output_type": "display_data",
          "data": {
            "text/plain": [
              "<IPython.core.display.HTML object>"
            ],
            "text/html": [
              "<br>    <style><br>        .wandb-row {<br>            display: flex;<br>            flex-direction: row;<br>            flex-wrap: wrap;<br>            justify-content: flex-start;<br>            width: 100%;<br>        }<br>        .wandb-col {<br>            display: flex;<br>            flex-direction: column;<br>            flex-basis: 100%;<br>            flex: 1;<br>            padding: 10px;<br>        }<br>    </style><br><div class=\"wandb-row\"><div class=\"wandb-col\"><h3>Run summary:</h3><br/><table class=\"wandb\"><tr><td>max_sharpe_ratio</td><td>0.98786</td></tr><tr><td>max_sharpe_ratio_model</td><td>ddpg</td></tr><tr><td>sharpe_ratio/a2c</td><td>0.29591</td></tr><tr><td>sharpe_ratio/ddpg</td><td>0.98786</td></tr><tr><td>sharpe_ratio/ppo</td><td>-3.27974</td></tr><tr><td>sharpe_ratio/sac</td><td>-3.86662</td></tr><tr><td>sharpe_ratio/td3</td><td>0.8871</td></tr></table><br/></div></div>"
            ]
          },
          "metadata": {}
        },
        {
          "output_type": "display_data",
          "data": {
            "text/plain": [
              "<IPython.core.display.HTML object>"
            ],
            "text/html": [
              " View run <strong style=\"color:#cdcd00\">DOW-30 | 2010-01 | 2020-01 | 2020-12 | ydVPf</strong> at: <a href='https://wandb.ai/overfit1010/finrl-dt-replicate/runs/jyyy5vmo' target=\"_blank\">https://wandb.ai/overfit1010/finrl-dt-replicate/runs/jyyy5vmo</a><br> View project at: <a href='https://wandb.ai/overfit1010/finrl-dt-replicate' target=\"_blank\">https://wandb.ai/overfit1010/finrl-dt-replicate</a><br>Synced 5 W&B file(s), 0 media file(s), 2 artifact file(s) and 0 other file(s)"
            ]
          },
          "metadata": {}
        },
        {
          "output_type": "display_data",
          "data": {
            "text/plain": [
              "<IPython.core.display.HTML object>"
            ],
            "text/html": [
              "Find logs at: <code>./wandb/run-20241225_130754-jyyy5vmo/logs</code>"
            ]
          },
          "metadata": {}
        }
      ]
    },
    {
      "cell_type": "code",
      "source": [
        "#@title rename_metrics_in_sweep\n",
        "import wandb\n",
        "\n",
        "def rename_metrics_in_sweep(sweep_id, metric_rename_map):\n",
        "    \"\"\"\n",
        "    Rename metrics in all runs of a given sweep.\n",
        "\n",
        "    Parameters:\n",
        "        sweep_id (str): The ID of the sweep.\n",
        "        metric_rename_map (dict): A dictionary where keys are old metric names and values are the new names.\n",
        "    \"\"\"\n",
        "    api = wandb.Api()\n",
        "    sweep = api.sweep(f\"{ENTITY}/{PROJECT}/{sweep_id}\")\n",
        "\n",
        "    for run in sweep.runs:\n",
        "        try:\n",
        "            # Activate the run with context manager\n",
        "            with wandb.init(id=run.id, project=PROJECT, entity=ENTITY, resume=\"allow\"):\n",
        "                # Get the run's summary\n",
        "                summary = run.summary\n",
        "\n",
        "                # Rename metrics based on the provided mapping\n",
        "                for old_metric, new_metric in metric_rename_map.items():\n",
        "                    if old_metric in summary:\n",
        "                        # Convert the metric to float if possible\n",
        "                        try:\n",
        "                            metric_value = float(summary[old_metric])\n",
        "                        except ValueError:\n",
        "                            metric_value = summary[old_metric]  # Keep the value if it's not convertible to float\n",
        "\n",
        "                        # Log the renamed metric to the current run\n",
        "                        wandb.log({new_metric: metric_value})\n",
        "\n",
        "                # Save the updated metrics\n",
        "                print(f\"Updated metrics for run: {run.name}\")\n",
        "        except Exception as e:\n",
        "            print(f\"Failed to update run {run.name}: {e}\")\n",
        "\n",
        "# metric_rename_map = {\n",
        "#     \"max_sharpe_ratio\": \"train.sharpe_ratio/best_model\",\n",
        "#     \"max_sharpe_ratio_model\": \"train.best_model_name\"\n",
        "# }\n",
        "\n",
        "metric_rename_map = {\n",
        "    \"test.sharpe_ratio/best_model\": \"test/sharpe_ratio/best_model\",\n",
        "    \"test.best_model_name\": \"test/best_model_name\",\n",
        "    \"test.cum_return/best_model\": \"test/cum_return/best_model\",\n",
        "    \"test.ann_return/best_model\": \"test/ann_return/best_model\",\n",
        "    \"test.mdd/best_model\": \"test/mdd/best_model\"\n",
        "}\n",
        "\n",
        "rename_metrics_in_sweep(sweep_id=SWEEP_ID, metric_rename_map=metric_rename_map)"
      ],
      "metadata": {
        "id": "pje1QlhT9MwM",
        "colab": {
          "base_uri": "https://localhost:8080/",
          "height": 1000
        },
        "outputId": "c6f89bd8-cd02-41f4-f2ea-76145edf2dbb",
        "cellView": "form"
      },
      "execution_count": null,
      "outputs": [
        {
          "output_type": "stream",
          "name": "stdout",
          "text": [
            "True\n",
            "True\n",
            "True\n",
            "True\n",
            "True\n"
          ]
        },
        {
          "output_type": "display_data",
          "data": {
            "text/plain": [
              "<IPython.core.display.HTML object>"
            ],
            "text/html": [
              "Tracking run with wandb version 0.19.1"
            ]
          },
          "metadata": {}
        },
        {
          "output_type": "display_data",
          "data": {
            "text/plain": [
              "<IPython.core.display.HTML object>"
            ],
            "text/html": [
              "Run data is saved locally in <code>/content/wandb/run-20241225_140532-0eo73sk9</code>"
            ]
          },
          "metadata": {}
        },
        {
          "output_type": "display_data",
          "data": {
            "text/plain": [
              "<IPython.core.display.HTML object>"
            ],
            "text/html": [
              "Resuming run <strong><a href='https://wandb.ai/overfit1010/finrl-dt-replicate/runs/0eo73sk9' target=\"_blank\">DOW-30 | 2014-01 | 2024-01 | 2024-12 | mZb8V</a></strong> to <a href='https://wandb.ai/overfit1010/finrl-dt-replicate' target=\"_blank\">Weights & Biases</a> (<a href='https://wandb.me/developer-guide' target=\"_blank\">docs</a>)<br>Sweep page: <a href='https://wandb.ai/overfit1010/finrl-dt-replicate/sweeps/9kx35n82' target=\"_blank\">https://wandb.ai/overfit1010/finrl-dt-replicate/sweeps/9kx35n82</a>"
            ]
          },
          "metadata": {}
        },
        {
          "output_type": "display_data",
          "data": {
            "text/plain": [
              "<IPython.core.display.HTML object>"
            ],
            "text/html": [
              " View project at <a href='https://wandb.ai/overfit1010/finrl-dt-replicate' target=\"_blank\">https://wandb.ai/overfit1010/finrl-dt-replicate</a>"
            ]
          },
          "metadata": {}
        },
        {
          "output_type": "display_data",
          "data": {
            "text/plain": [
              "<IPython.core.display.HTML object>"
            ],
            "text/html": [
              " View sweep at <a href='https://wandb.ai/overfit1010/finrl-dt-replicate/sweeps/9kx35n82' target=\"_blank\">https://wandb.ai/overfit1010/finrl-dt-replicate/sweeps/9kx35n82</a>"
            ]
          },
          "metadata": {}
        },
        {
          "output_type": "display_data",
          "data": {
            "text/plain": [
              "<IPython.core.display.HTML object>"
            ],
            "text/html": [
              " View run at <a href='https://wandb.ai/overfit1010/finrl-dt-replicate/runs/0eo73sk9' target=\"_blank\">https://wandb.ai/overfit1010/finrl-dt-replicate/runs/0eo73sk9</a>"
            ]
          },
          "metadata": {}
        },
        {
          "output_type": "stream",
          "name": "stdout",
          "text": [
            "Updated metrics for run: DOW-30 | 2014-01 | 2024-01 | 2024-12 | mZb8V\n"
          ]
        },
        {
          "output_type": "display_data",
          "data": {
            "text/plain": [
              "<IPython.core.display.HTML object>"
            ],
            "text/html": []
          },
          "metadata": {}
        },
        {
          "output_type": "display_data",
          "data": {
            "text/plain": [
              "<IPython.core.display.HTML object>"
            ],
            "text/html": [
              "<br>    <style><br>        .wandb-row {<br>            display: flex;<br>            flex-direction: row;<br>            flex-wrap: wrap;<br>            justify-content: flex-start;<br>            width: 100%;<br>        }<br>        .wandb-col {<br>            display: flex;<br>            flex-direction: column;<br>            flex-basis: 100%;<br>            flex: 1;<br>            padding: 10px;<br>        }<br>    </style><br><div class=\"wandb-row\"><div class=\"wandb-col\"><h3>Run history:</h3><br/><table class=\"wandb\"><tr><td>train.sharpe_ratio/best_model</td><td>▁</td></tr></table><br/></div><div class=\"wandb-col\"><h3>Run summary:</h3><br/><table class=\"wandb\"><tr><td>max_sharpe_ratio</td><td>0.72096</td></tr><tr><td>max_sharpe_ratio_model</td><td>td3</td></tr><tr><td>sharpe_ratio/a2c</td><td>0.35971</td></tr><tr><td>sharpe_ratio/ddpg</td><td>0.68576</td></tr><tr><td>sharpe_ratio/ppo</td><td>0.27786</td></tr><tr><td>sharpe_ratio/sac</td><td>-4.00484</td></tr><tr><td>sharpe_ratio/td3</td><td>0.72096</td></tr><tr><td>train.best_model_name</td><td>td3</td></tr><tr><td>train.sharpe_ratio/best_model</td><td>0.72096</td></tr><tr><td>train/best_model_name</td><td>td3</td></tr><tr><td>train/sharpe_ratio/best_model</td><td>0.72096</td></tr></table><br/></div></div>"
            ]
          },
          "metadata": {}
        },
        {
          "output_type": "display_data",
          "data": {
            "text/plain": [
              "<IPython.core.display.HTML object>"
            ],
            "text/html": [
              " View run <strong style=\"color:#cdcd00\">DOW-30 | 2014-01 | 2024-01 | 2024-12 | mZb8V</strong> at: <a href='https://wandb.ai/overfit1010/finrl-dt-replicate/runs/0eo73sk9' target=\"_blank\">https://wandb.ai/overfit1010/finrl-dt-replicate/runs/0eo73sk9</a><br> View project at: <a href='https://wandb.ai/overfit1010/finrl-dt-replicate' target=\"_blank\">https://wandb.ai/overfit1010/finrl-dt-replicate</a><br>Synced 5 W&B file(s), 0 media file(s), 0 artifact file(s) and 0 other file(s)"
            ]
          },
          "metadata": {}
        },
        {
          "output_type": "display_data",
          "data": {
            "text/plain": [
              "<IPython.core.display.HTML object>"
            ],
            "text/html": [
              "Find logs at: <code>./wandb/run-20241225_140532-0eo73sk9/logs</code>"
            ]
          },
          "metadata": {}
        },
        {
          "output_type": "display_data",
          "data": {
            "text/plain": [
              "<IPython.core.display.HTML object>"
            ],
            "text/html": [
              "Tracking run with wandb version 0.19.1"
            ]
          },
          "metadata": {}
        },
        {
          "output_type": "display_data",
          "data": {
            "text/plain": [
              "<IPython.core.display.HTML object>"
            ],
            "text/html": [
              "Run data is saved locally in <code>/content/wandb/run-20241225_140535-tghot2gn</code>"
            ]
          },
          "metadata": {}
        },
        {
          "output_type": "display_data",
          "data": {
            "text/plain": [
              "<IPython.core.display.HTML object>"
            ],
            "text/html": [
              "Resuming run <strong><a href='https://wandb.ai/overfit1010/finrl-dt-replicate/runs/tghot2gn' target=\"_blank\">DOW-30 | 2013-01 | 2023-01 | 2024-01 | wNnGo</a></strong> to <a href='https://wandb.ai/overfit1010/finrl-dt-replicate' target=\"_blank\">Weights & Biases</a> (<a href='https://wandb.me/developer-guide' target=\"_blank\">docs</a>)<br>Sweep page: <a href='https://wandb.ai/overfit1010/finrl-dt-replicate/sweeps/9kx35n82' target=\"_blank\">https://wandb.ai/overfit1010/finrl-dt-replicate/sweeps/9kx35n82</a>"
            ]
          },
          "metadata": {}
        },
        {
          "output_type": "display_data",
          "data": {
            "text/plain": [
              "<IPython.core.display.HTML object>"
            ],
            "text/html": [
              " View project at <a href='https://wandb.ai/overfit1010/finrl-dt-replicate' target=\"_blank\">https://wandb.ai/overfit1010/finrl-dt-replicate</a>"
            ]
          },
          "metadata": {}
        },
        {
          "output_type": "display_data",
          "data": {
            "text/plain": [
              "<IPython.core.display.HTML object>"
            ],
            "text/html": [
              " View sweep at <a href='https://wandb.ai/overfit1010/finrl-dt-replicate/sweeps/9kx35n82' target=\"_blank\">https://wandb.ai/overfit1010/finrl-dt-replicate/sweeps/9kx35n82</a>"
            ]
          },
          "metadata": {}
        },
        {
          "output_type": "display_data",
          "data": {
            "text/plain": [
              "<IPython.core.display.HTML object>"
            ],
            "text/html": [
              " View run at <a href='https://wandb.ai/overfit1010/finrl-dt-replicate/runs/tghot2gn' target=\"_blank\">https://wandb.ai/overfit1010/finrl-dt-replicate/runs/tghot2gn</a>"
            ]
          },
          "metadata": {}
        },
        {
          "output_type": "stream",
          "name": "stdout",
          "text": [
            "Updated metrics for run: DOW-30 | 2013-01 | 2023-01 | 2024-01 | wNnGo\n"
          ]
        },
        {
          "output_type": "display_data",
          "data": {
            "text/plain": [
              "<IPython.core.display.HTML object>"
            ],
            "text/html": []
          },
          "metadata": {}
        },
        {
          "output_type": "display_data",
          "data": {
            "text/plain": [
              "<IPython.core.display.HTML object>"
            ],
            "text/html": [
              "<br>    <style><br>        .wandb-row {<br>            display: flex;<br>            flex-direction: row;<br>            flex-wrap: wrap;<br>            justify-content: flex-start;<br>            width: 100%;<br>        }<br>        .wandb-col {<br>            display: flex;<br>            flex-direction: column;<br>            flex-basis: 100%;<br>            flex: 1;<br>            padding: 10px;<br>        }<br>    </style><br><div class=\"wandb-row\"><div class=\"wandb-col\"><h3>Run history:</h3><br/><table class=\"wandb\"><tr><td>train.sharpe_ratio/best_model</td><td>▁</td></tr></table><br/></div><div class=\"wandb-col\"><h3>Run summary:</h3><br/><table class=\"wandb\"><tr><td>max_sharpe_ratio</td><td>0.85917</td></tr><tr><td>max_sharpe_ratio_model</td><td>a2c</td></tr><tr><td>sharpe_ratio/a2c</td><td>0.85917</td></tr><tr><td>sharpe_ratio/ddpg</td><td>0.70298</td></tr><tr><td>sharpe_ratio/ppo</td><td>0.23189</td></tr><tr><td>sharpe_ratio/sac</td><td>-3.95751</td></tr><tr><td>sharpe_ratio/td3</td><td>0.63833</td></tr><tr><td>train.best_model_name</td><td>a2c</td></tr><tr><td>train.sharpe_ratio/best_model</td><td>0.85917</td></tr><tr><td>train/best_model_name</td><td>a2c</td></tr><tr><td>train/sharpe_ratio/best_model</td><td>0.85917</td></tr></table><br/></div></div>"
            ]
          },
          "metadata": {}
        },
        {
          "output_type": "display_data",
          "data": {
            "text/plain": [
              "<IPython.core.display.HTML object>"
            ],
            "text/html": [
              " View run <strong style=\"color:#cdcd00\">DOW-30 | 2013-01 | 2023-01 | 2024-01 | wNnGo</strong> at: <a href='https://wandb.ai/overfit1010/finrl-dt-replicate/runs/tghot2gn' target=\"_blank\">https://wandb.ai/overfit1010/finrl-dt-replicate/runs/tghot2gn</a><br> View project at: <a href='https://wandb.ai/overfit1010/finrl-dt-replicate' target=\"_blank\">https://wandb.ai/overfit1010/finrl-dt-replicate</a><br>Synced 5 W&B file(s), 0 media file(s), 0 artifact file(s) and 0 other file(s)"
            ]
          },
          "metadata": {}
        },
        {
          "output_type": "display_data",
          "data": {
            "text/plain": [
              "<IPython.core.display.HTML object>"
            ],
            "text/html": [
              "Find logs at: <code>./wandb/run-20241225_140535-tghot2gn/logs</code>"
            ]
          },
          "metadata": {}
        },
        {
          "output_type": "display_data",
          "data": {
            "text/plain": [
              "<IPython.core.display.HTML object>"
            ],
            "text/html": [
              "Tracking run with wandb version 0.19.1"
            ]
          },
          "metadata": {}
        },
        {
          "output_type": "display_data",
          "data": {
            "text/plain": [
              "<IPython.core.display.HTML object>"
            ],
            "text/html": [
              "Run data is saved locally in <code>/content/wandb/run-20241225_140538-v8lpx6u0</code>"
            ]
          },
          "metadata": {}
        },
        {
          "output_type": "display_data",
          "data": {
            "text/plain": [
              "<IPython.core.display.HTML object>"
            ],
            "text/html": [
              "Resuming run <strong><a href='https://wandb.ai/overfit1010/finrl-dt-replicate/runs/v8lpx6u0' target=\"_blank\">DOW-30 | 2012-01 | 2022-01 | 2023-01 | uTEs5</a></strong> to <a href='https://wandb.ai/overfit1010/finrl-dt-replicate' target=\"_blank\">Weights & Biases</a> (<a href='https://wandb.me/developer-guide' target=\"_blank\">docs</a>)<br>Sweep page: <a href='https://wandb.ai/overfit1010/finrl-dt-replicate/sweeps/9kx35n82' target=\"_blank\">https://wandb.ai/overfit1010/finrl-dt-replicate/sweeps/9kx35n82</a>"
            ]
          },
          "metadata": {}
        },
        {
          "output_type": "display_data",
          "data": {
            "text/plain": [
              "<IPython.core.display.HTML object>"
            ],
            "text/html": [
              " View project at <a href='https://wandb.ai/overfit1010/finrl-dt-replicate' target=\"_blank\">https://wandb.ai/overfit1010/finrl-dt-replicate</a>"
            ]
          },
          "metadata": {}
        },
        {
          "output_type": "display_data",
          "data": {
            "text/plain": [
              "<IPython.core.display.HTML object>"
            ],
            "text/html": [
              " View sweep at <a href='https://wandb.ai/overfit1010/finrl-dt-replicate/sweeps/9kx35n82' target=\"_blank\">https://wandb.ai/overfit1010/finrl-dt-replicate/sweeps/9kx35n82</a>"
            ]
          },
          "metadata": {}
        },
        {
          "output_type": "display_data",
          "data": {
            "text/plain": [
              "<IPython.core.display.HTML object>"
            ],
            "text/html": [
              " View run at <a href='https://wandb.ai/overfit1010/finrl-dt-replicate/runs/v8lpx6u0' target=\"_blank\">https://wandb.ai/overfit1010/finrl-dt-replicate/runs/v8lpx6u0</a>"
            ]
          },
          "metadata": {}
        },
        {
          "output_type": "stream",
          "name": "stdout",
          "text": [
            "Updated metrics for run: DOW-30 | 2012-01 | 2022-01 | 2023-01 | uTEs5\n"
          ]
        },
        {
          "output_type": "display_data",
          "data": {
            "text/plain": [
              "<IPython.core.display.HTML object>"
            ],
            "text/html": []
          },
          "metadata": {}
        },
        {
          "output_type": "display_data",
          "data": {
            "text/plain": [
              "<IPython.core.display.HTML object>"
            ],
            "text/html": [
              "<br>    <style><br>        .wandb-row {<br>            display: flex;<br>            flex-direction: row;<br>            flex-wrap: wrap;<br>            justify-content: flex-start;<br>            width: 100%;<br>        }<br>        .wandb-col {<br>            display: flex;<br>            flex-direction: column;<br>            flex-basis: 100%;<br>            flex: 1;<br>            padding: 10px;<br>        }<br>    </style><br><div class=\"wandb-row\"><div class=\"wandb-col\"><h3>Run history:</h3><br/><table class=\"wandb\"><tr><td>train.sharpe_ratio/best_model</td><td>▁</td></tr></table><br/></div><div class=\"wandb-col\"><h3>Run summary:</h3><br/><table class=\"wandb\"><tr><td>max_sharpe_ratio</td><td>1.01459</td></tr><tr><td>max_sharpe_ratio_model</td><td>ddpg</td></tr><tr><td>sharpe_ratio/a2c</td><td>0.77257</td></tr><tr><td>sharpe_ratio/ddpg</td><td>1.01459</td></tr><tr><td>sharpe_ratio/ppo</td><td>-3.43951</td></tr><tr><td>sharpe_ratio/sac</td><td>-0.19232</td></tr><tr><td>sharpe_ratio/td3</td><td>0.82295</td></tr><tr><td>train.best_model_name</td><td>ddpg</td></tr><tr><td>train.sharpe_ratio/best_model</td><td>1.01459</td></tr><tr><td>train/best_model_name</td><td>ddpg</td></tr><tr><td>train/sharpe_ratio/best_model</td><td>1.01459</td></tr></table><br/></div></div>"
            ]
          },
          "metadata": {}
        },
        {
          "output_type": "display_data",
          "data": {
            "text/plain": [
              "<IPython.core.display.HTML object>"
            ],
            "text/html": [
              " View run <strong style=\"color:#cdcd00\">DOW-30 | 2012-01 | 2022-01 | 2023-01 | uTEs5</strong> at: <a href='https://wandb.ai/overfit1010/finrl-dt-replicate/runs/v8lpx6u0' target=\"_blank\">https://wandb.ai/overfit1010/finrl-dt-replicate/runs/v8lpx6u0</a><br> View project at: <a href='https://wandb.ai/overfit1010/finrl-dt-replicate' target=\"_blank\">https://wandb.ai/overfit1010/finrl-dt-replicate</a><br>Synced 5 W&B file(s), 0 media file(s), 0 artifact file(s) and 0 other file(s)"
            ]
          },
          "metadata": {}
        },
        {
          "output_type": "display_data",
          "data": {
            "text/plain": [
              "<IPython.core.display.HTML object>"
            ],
            "text/html": [
              "Find logs at: <code>./wandb/run-20241225_140538-v8lpx6u0/logs</code>"
            ]
          },
          "metadata": {}
        },
        {
          "output_type": "display_data",
          "data": {
            "text/plain": [
              "<IPython.core.display.HTML object>"
            ],
            "text/html": [
              "Tracking run with wandb version 0.19.1"
            ]
          },
          "metadata": {}
        },
        {
          "output_type": "display_data",
          "data": {
            "text/plain": [
              "<IPython.core.display.HTML object>"
            ],
            "text/html": [
              "Run data is saved locally in <code>/content/wandb/run-20241225_140542-832smmv9</code>"
            ]
          },
          "metadata": {}
        },
        {
          "output_type": "display_data",
          "data": {
            "text/plain": [
              "<IPython.core.display.HTML object>"
            ],
            "text/html": [
              "Resuming run <strong><a href='https://wandb.ai/overfit1010/finrl-dt-replicate/runs/832smmv9' target=\"_blank\">DOW-30 | 2011-01 | 2021-01 | 2022-01 | 1hzbT</a></strong> to <a href='https://wandb.ai/overfit1010/finrl-dt-replicate' target=\"_blank\">Weights & Biases</a> (<a href='https://wandb.me/developer-guide' target=\"_blank\">docs</a>)<br>Sweep page: <a href='https://wandb.ai/overfit1010/finrl-dt-replicate/sweeps/9kx35n82' target=\"_blank\">https://wandb.ai/overfit1010/finrl-dt-replicate/sweeps/9kx35n82</a>"
            ]
          },
          "metadata": {}
        },
        {
          "output_type": "display_data",
          "data": {
            "text/plain": [
              "<IPython.core.display.HTML object>"
            ],
            "text/html": [
              " View project at <a href='https://wandb.ai/overfit1010/finrl-dt-replicate' target=\"_blank\">https://wandb.ai/overfit1010/finrl-dt-replicate</a>"
            ]
          },
          "metadata": {}
        },
        {
          "output_type": "display_data",
          "data": {
            "text/plain": [
              "<IPython.core.display.HTML object>"
            ],
            "text/html": [
              " View sweep at <a href='https://wandb.ai/overfit1010/finrl-dt-replicate/sweeps/9kx35n82' target=\"_blank\">https://wandb.ai/overfit1010/finrl-dt-replicate/sweeps/9kx35n82</a>"
            ]
          },
          "metadata": {}
        },
        {
          "output_type": "display_data",
          "data": {
            "text/plain": [
              "<IPython.core.display.HTML object>"
            ],
            "text/html": [
              " View run at <a href='https://wandb.ai/overfit1010/finrl-dt-replicate/runs/832smmv9' target=\"_blank\">https://wandb.ai/overfit1010/finrl-dt-replicate/runs/832smmv9</a>"
            ]
          },
          "metadata": {}
        },
        {
          "output_type": "stream",
          "name": "stdout",
          "text": [
            "Updated metrics for run: DOW-30 | 2011-01 | 2021-01 | 2022-01 | 1hzbT\n"
          ]
        },
        {
          "output_type": "display_data",
          "data": {
            "text/plain": [
              "<IPython.core.display.HTML object>"
            ],
            "text/html": []
          },
          "metadata": {}
        },
        {
          "output_type": "display_data",
          "data": {
            "text/plain": [
              "<IPython.core.display.HTML object>"
            ],
            "text/html": [
              "<br>    <style><br>        .wandb-row {<br>            display: flex;<br>            flex-direction: row;<br>            flex-wrap: wrap;<br>            justify-content: flex-start;<br>            width: 100%;<br>        }<br>        .wandb-col {<br>            display: flex;<br>            flex-direction: column;<br>            flex-basis: 100%;<br>            flex: 1;<br>            padding: 10px;<br>        }<br>    </style><br><div class=\"wandb-row\"><div class=\"wandb-col\"><h3>Run history:</h3><br/><table class=\"wandb\"><tr><td>train.sharpe_ratio/best_model</td><td>▁</td></tr></table><br/></div><div class=\"wandb-col\"><h3>Run summary:</h3><br/><table class=\"wandb\"><tr><td>max_sharpe_ratio</td><td>0.70819</td></tr><tr><td>max_sharpe_ratio_model</td><td>ddpg</td></tr><tr><td>sharpe_ratio/a2c</td><td>0.52426</td></tr><tr><td>sharpe_ratio/ddpg</td><td>0.70819</td></tr><tr><td>sharpe_ratio/ppo</td><td>-3.55931</td></tr><tr><td>sharpe_ratio/sac</td><td>-4.07199</td></tr><tr><td>sharpe_ratio/td3</td><td>0.62424</td></tr><tr><td>train.best_model_name</td><td>ddpg</td></tr><tr><td>train.sharpe_ratio/best_model</td><td>0.70819</td></tr><tr><td>train/best_model_name</td><td>ddpg</td></tr><tr><td>train/sharpe_ratio/best_model</td><td>0.70819</td></tr></table><br/></div></div>"
            ]
          },
          "metadata": {}
        },
        {
          "output_type": "display_data",
          "data": {
            "text/plain": [
              "<IPython.core.display.HTML object>"
            ],
            "text/html": [
              " View run <strong style=\"color:#cdcd00\">DOW-30 | 2011-01 | 2021-01 | 2022-01 | 1hzbT</strong> at: <a href='https://wandb.ai/overfit1010/finrl-dt-replicate/runs/832smmv9' target=\"_blank\">https://wandb.ai/overfit1010/finrl-dt-replicate/runs/832smmv9</a><br> View project at: <a href='https://wandb.ai/overfit1010/finrl-dt-replicate' target=\"_blank\">https://wandb.ai/overfit1010/finrl-dt-replicate</a><br>Synced 5 W&B file(s), 0 media file(s), 0 artifact file(s) and 0 other file(s)"
            ]
          },
          "metadata": {}
        },
        {
          "output_type": "display_data",
          "data": {
            "text/plain": [
              "<IPython.core.display.HTML object>"
            ],
            "text/html": [
              "Find logs at: <code>./wandb/run-20241225_140542-832smmv9/logs</code>"
            ]
          },
          "metadata": {}
        },
        {
          "output_type": "display_data",
          "data": {
            "text/plain": [
              "<IPython.core.display.HTML object>"
            ],
            "text/html": [
              "Tracking run with wandb version 0.19.1"
            ]
          },
          "metadata": {}
        },
        {
          "output_type": "display_data",
          "data": {
            "text/plain": [
              "<IPython.core.display.HTML object>"
            ],
            "text/html": [
              "Run data is saved locally in <code>/content/wandb/run-20241225_140546-jyyy5vmo</code>"
            ]
          },
          "metadata": {}
        },
        {
          "output_type": "display_data",
          "data": {
            "text/plain": [
              "<IPython.core.display.HTML object>"
            ],
            "text/html": [
              "Resuming run <strong><a href='https://wandb.ai/overfit1010/finrl-dt-replicate/runs/jyyy5vmo' target=\"_blank\">DOW-30 | 2010-01 | 2020-01 | 2020-12 | ydVPf</a></strong> to <a href='https://wandb.ai/overfit1010/finrl-dt-replicate' target=\"_blank\">Weights & Biases</a> (<a href='https://wandb.me/developer-guide' target=\"_blank\">docs</a>)<br>Sweep page: <a href='https://wandb.ai/overfit1010/finrl-dt-replicate/sweeps/9kx35n82' target=\"_blank\">https://wandb.ai/overfit1010/finrl-dt-replicate/sweeps/9kx35n82</a>"
            ]
          },
          "metadata": {}
        },
        {
          "output_type": "display_data",
          "data": {
            "text/plain": [
              "<IPython.core.display.HTML object>"
            ],
            "text/html": [
              " View project at <a href='https://wandb.ai/overfit1010/finrl-dt-replicate' target=\"_blank\">https://wandb.ai/overfit1010/finrl-dt-replicate</a>"
            ]
          },
          "metadata": {}
        },
        {
          "output_type": "display_data",
          "data": {
            "text/plain": [
              "<IPython.core.display.HTML object>"
            ],
            "text/html": [
              " View sweep at <a href='https://wandb.ai/overfit1010/finrl-dt-replicate/sweeps/9kx35n82' target=\"_blank\">https://wandb.ai/overfit1010/finrl-dt-replicate/sweeps/9kx35n82</a>"
            ]
          },
          "metadata": {}
        },
        {
          "output_type": "display_data",
          "data": {
            "text/plain": [
              "<IPython.core.display.HTML object>"
            ],
            "text/html": [
              " View run at <a href='https://wandb.ai/overfit1010/finrl-dt-replicate/runs/jyyy5vmo' target=\"_blank\">https://wandb.ai/overfit1010/finrl-dt-replicate/runs/jyyy5vmo</a>"
            ]
          },
          "metadata": {}
        },
        {
          "output_type": "stream",
          "name": "stdout",
          "text": [
            "Updated metrics for run: DOW-30 | 2010-01 | 2020-01 | 2020-12 | ydVPf\n"
          ]
        },
        {
          "output_type": "display_data",
          "data": {
            "text/plain": [
              "<IPython.core.display.HTML object>"
            ],
            "text/html": []
          },
          "metadata": {}
        },
        {
          "output_type": "display_data",
          "data": {
            "text/plain": [
              "<IPython.core.display.HTML object>"
            ],
            "text/html": [
              "<br>    <style><br>        .wandb-row {<br>            display: flex;<br>            flex-direction: row;<br>            flex-wrap: wrap;<br>            justify-content: flex-start;<br>            width: 100%;<br>        }<br>        .wandb-col {<br>            display: flex;<br>            flex-direction: column;<br>            flex-basis: 100%;<br>            flex: 1;<br>            padding: 10px;<br>        }<br>    </style><br><div class=\"wandb-row\"><div class=\"wandb-col\"><h3>Run history:</h3><br/><table class=\"wandb\"><tr><td>train.sharpe_ratio/best_model</td><td>▁</td></tr></table><br/></div><div class=\"wandb-col\"><h3>Run summary:</h3><br/><table class=\"wandb\"><tr><td>max_sharpe_ratio</td><td>0.98786</td></tr><tr><td>max_sharpe_ratio_model</td><td>ddpg</td></tr><tr><td>sharpe_ratio/a2c</td><td>0.29591</td></tr><tr><td>sharpe_ratio/ddpg</td><td>0.98786</td></tr><tr><td>sharpe_ratio/ppo</td><td>-3.27974</td></tr><tr><td>sharpe_ratio/sac</td><td>-3.86662</td></tr><tr><td>sharpe_ratio/td3</td><td>0.8871</td></tr><tr><td>train.best_model_name</td><td>ddpg</td></tr><tr><td>train.sharpe_ratio/best_model</td><td>0.98786</td></tr><tr><td>train/best_model_name</td><td>ddpg</td></tr><tr><td>train/sharpe_ratio/best_model</td><td>0.98786</td></tr></table><br/></div></div>"
            ]
          },
          "metadata": {}
        },
        {
          "output_type": "display_data",
          "data": {
            "text/plain": [
              "<IPython.core.display.HTML object>"
            ],
            "text/html": [
              " View run <strong style=\"color:#cdcd00\">DOW-30 | 2010-01 | 2020-01 | 2020-12 | ydVPf</strong> at: <a href='https://wandb.ai/overfit1010/finrl-dt-replicate/runs/jyyy5vmo' target=\"_blank\">https://wandb.ai/overfit1010/finrl-dt-replicate/runs/jyyy5vmo</a><br> View project at: <a href='https://wandb.ai/overfit1010/finrl-dt-replicate' target=\"_blank\">https://wandb.ai/overfit1010/finrl-dt-replicate</a><br>Synced 5 W&B file(s), 0 media file(s), 0 artifact file(s) and 0 other file(s)"
            ]
          },
          "metadata": {}
        },
        {
          "output_type": "display_data",
          "data": {
            "text/plain": [
              "<IPython.core.display.HTML object>"
            ],
            "text/html": [
              "Find logs at: <code>./wandb/run-20241225_140546-jyyy5vmo/logs</code>"
            ]
          },
          "metadata": {}
        }
      ]
    },
    {
      "cell_type": "code",
      "source": [
        "wandb.finish()"
      ],
      "metadata": {
        "id": "f7CC8-pHDN3f"
      },
      "execution_count": null,
      "outputs": []
    }
  ],
  "metadata": {
    "colab": {
      "collapsed_sections": [
        "bnopI9QoL550",
        "k_IxXsJXHbl_"
      ],
      "provenance": [],
      "authorship_tag": "ABX9TyNlUa4Tz3Vv605jfriMv1t2",
      "include_colab_link": true
    },
    "kernelspec": {
      "display_name": "Python 3",
      "name": "python3"
    },
    "language_info": {
      "name": "python"
    },
    "widgets": {
      "application/vnd.jupyter.widget-state+json": {
        "aa2b6d4070e54b1bbdc1d5f9920cc9f1": {
          "model_module": "@jupyter-widgets/controls",
          "model_name": "HBoxModel",
          "model_module_version": "1.5.0",
          "state": {
            "_dom_classes": [],
            "_model_module": "@jupyter-widgets/controls",
            "_model_module_version": "1.5.0",
            "_model_name": "HBoxModel",
            "_view_count": null,
            "_view_module": "@jupyter-widgets/controls",
            "_view_module_version": "1.5.0",
            "_view_name": "HBoxView",
            "box_style": "",
            "children": [
              "IPY_MODEL_10b7c40326974de1b8489c2cf911fcd0",
              "IPY_MODEL_70c442f081b74e2296a0f1826c564108",
              "IPY_MODEL_e0323243857b4cf8ad791f91bf997d06"
            ],
            "layout": "IPY_MODEL_68379ddfcf204b6988fcf33631fbd112"
          }
        },
        "10b7c40326974de1b8489c2cf911fcd0": {
          "model_module": "@jupyter-widgets/controls",
          "model_name": "HTMLModel",
          "model_module_version": "1.5.0",
          "state": {
            "_dom_classes": [],
            "_model_module": "@jupyter-widgets/controls",
            "_model_module_version": "1.5.0",
            "_model_name": "HTMLModel",
            "_view_count": null,
            "_view_module": "@jupyter-widgets/controls",
            "_view_module_version": "1.5.0",
            "_view_name": "HTMLView",
            "description": "",
            "description_tooltip": null,
            "layout": "IPY_MODEL_6eedae07803b4bff8ff8000016b98cf3",
            "placeholder": "​",
            "style": "IPY_MODEL_76f1e4fcdc2c48dc9b0bcd1e50057ceb",
            "value": "100%"
          }
        },
        "70c442f081b74e2296a0f1826c564108": {
          "model_module": "@jupyter-widgets/controls",
          "model_name": "FloatProgressModel",
          "model_module_version": "1.5.0",
          "state": {
            "_dom_classes": [],
            "_model_module": "@jupyter-widgets/controls",
            "_model_module_version": "1.5.0",
            "_model_name": "FloatProgressModel",
            "_view_count": null,
            "_view_module": "@jupyter-widgets/controls",
            "_view_module_version": "1.5.0",
            "_view_name": "ProgressView",
            "bar_style": "success",
            "description": "",
            "description_tooltip": null,
            "layout": "IPY_MODEL_18b1d398e8ee49efa536299c1feede3c",
            "max": 5,
            "min": 0,
            "orientation": "horizontal",
            "style": "IPY_MODEL_04cf931de30143929a08c3f34f392017",
            "value": 5
          }
        },
        "e0323243857b4cf8ad791f91bf997d06": {
          "model_module": "@jupyter-widgets/controls",
          "model_name": "HTMLModel",
          "model_module_version": "1.5.0",
          "state": {
            "_dom_classes": [],
            "_model_module": "@jupyter-widgets/controls",
            "_model_module_version": "1.5.0",
            "_model_name": "HTMLModel",
            "_view_count": null,
            "_view_module": "@jupyter-widgets/controls",
            "_view_module_version": "1.5.0",
            "_view_name": "HTMLView",
            "description": "",
            "description_tooltip": null,
            "layout": "IPY_MODEL_3307daee09f34b58a1277572786b6a41",
            "placeholder": "​",
            "style": "IPY_MODEL_960760deac3d495581e02049d43f4704",
            "value": " 5/5 [01:18&lt;00:00, 15.74s/it]"
          }
        },
        "68379ddfcf204b6988fcf33631fbd112": {
          "model_module": "@jupyter-widgets/base",
          "model_name": "LayoutModel",
          "model_module_version": "1.2.0",
          "state": {
            "_model_module": "@jupyter-widgets/base",
            "_model_module_version": "1.2.0",
            "_model_name": "LayoutModel",
            "_view_count": null,
            "_view_module": "@jupyter-widgets/base",
            "_view_module_version": "1.2.0",
            "_view_name": "LayoutView",
            "align_content": null,
            "align_items": null,
            "align_self": null,
            "border": null,
            "bottom": null,
            "display": null,
            "flex": null,
            "flex_flow": null,
            "grid_area": null,
            "grid_auto_columns": null,
            "grid_auto_flow": null,
            "grid_auto_rows": null,
            "grid_column": null,
            "grid_gap": null,
            "grid_row": null,
            "grid_template_areas": null,
            "grid_template_columns": null,
            "grid_template_rows": null,
            "height": null,
            "justify_content": null,
            "justify_items": null,
            "left": null,
            "margin": null,
            "max_height": null,
            "max_width": null,
            "min_height": null,
            "min_width": null,
            "object_fit": null,
            "object_position": null,
            "order": null,
            "overflow": null,
            "overflow_x": null,
            "overflow_y": null,
            "padding": null,
            "right": null,
            "top": null,
            "visibility": null,
            "width": null
          }
        },
        "6eedae07803b4bff8ff8000016b98cf3": {
          "model_module": "@jupyter-widgets/base",
          "model_name": "LayoutModel",
          "model_module_version": "1.2.0",
          "state": {
            "_model_module": "@jupyter-widgets/base",
            "_model_module_version": "1.2.0",
            "_model_name": "LayoutModel",
            "_view_count": null,
            "_view_module": "@jupyter-widgets/base",
            "_view_module_version": "1.2.0",
            "_view_name": "LayoutView",
            "align_content": null,
            "align_items": null,
            "align_self": null,
            "border": null,
            "bottom": null,
            "display": null,
            "flex": null,
            "flex_flow": null,
            "grid_area": null,
            "grid_auto_columns": null,
            "grid_auto_flow": null,
            "grid_auto_rows": null,
            "grid_column": null,
            "grid_gap": null,
            "grid_row": null,
            "grid_template_areas": null,
            "grid_template_columns": null,
            "grid_template_rows": null,
            "height": null,
            "justify_content": null,
            "justify_items": null,
            "left": null,
            "margin": null,
            "max_height": null,
            "max_width": null,
            "min_height": null,
            "min_width": null,
            "object_fit": null,
            "object_position": null,
            "order": null,
            "overflow": null,
            "overflow_x": null,
            "overflow_y": null,
            "padding": null,
            "right": null,
            "top": null,
            "visibility": null,
            "width": null
          }
        },
        "76f1e4fcdc2c48dc9b0bcd1e50057ceb": {
          "model_module": "@jupyter-widgets/controls",
          "model_name": "DescriptionStyleModel",
          "model_module_version": "1.5.0",
          "state": {
            "_model_module": "@jupyter-widgets/controls",
            "_model_module_version": "1.5.0",
            "_model_name": "DescriptionStyleModel",
            "_view_count": null,
            "_view_module": "@jupyter-widgets/base",
            "_view_module_version": "1.2.0",
            "_view_name": "StyleView",
            "description_width": ""
          }
        },
        "18b1d398e8ee49efa536299c1feede3c": {
          "model_module": "@jupyter-widgets/base",
          "model_name": "LayoutModel",
          "model_module_version": "1.2.0",
          "state": {
            "_model_module": "@jupyter-widgets/base",
            "_model_module_version": "1.2.0",
            "_model_name": "LayoutModel",
            "_view_count": null,
            "_view_module": "@jupyter-widgets/base",
            "_view_module_version": "1.2.0",
            "_view_name": "LayoutView",
            "align_content": null,
            "align_items": null,
            "align_self": null,
            "border": null,
            "bottom": null,
            "display": null,
            "flex": null,
            "flex_flow": null,
            "grid_area": null,
            "grid_auto_columns": null,
            "grid_auto_flow": null,
            "grid_auto_rows": null,
            "grid_column": null,
            "grid_gap": null,
            "grid_row": null,
            "grid_template_areas": null,
            "grid_template_columns": null,
            "grid_template_rows": null,
            "height": null,
            "justify_content": null,
            "justify_items": null,
            "left": null,
            "margin": null,
            "max_height": null,
            "max_width": null,
            "min_height": null,
            "min_width": null,
            "object_fit": null,
            "object_position": null,
            "order": null,
            "overflow": null,
            "overflow_x": null,
            "overflow_y": null,
            "padding": null,
            "right": null,
            "top": null,
            "visibility": null,
            "width": null
          }
        },
        "04cf931de30143929a08c3f34f392017": {
          "model_module": "@jupyter-widgets/controls",
          "model_name": "ProgressStyleModel",
          "model_module_version": "1.5.0",
          "state": {
            "_model_module": "@jupyter-widgets/controls",
            "_model_module_version": "1.5.0",
            "_model_name": "ProgressStyleModel",
            "_view_count": null,
            "_view_module": "@jupyter-widgets/base",
            "_view_module_version": "1.2.0",
            "_view_name": "StyleView",
            "bar_color": null,
            "description_width": ""
          }
        },
        "3307daee09f34b58a1277572786b6a41": {
          "model_module": "@jupyter-widgets/base",
          "model_name": "LayoutModel",
          "model_module_version": "1.2.0",
          "state": {
            "_model_module": "@jupyter-widgets/base",
            "_model_module_version": "1.2.0",
            "_model_name": "LayoutModel",
            "_view_count": null,
            "_view_module": "@jupyter-widgets/base",
            "_view_module_version": "1.2.0",
            "_view_name": "LayoutView",
            "align_content": null,
            "align_items": null,
            "align_self": null,
            "border": null,
            "bottom": null,
            "display": null,
            "flex": null,
            "flex_flow": null,
            "grid_area": null,
            "grid_auto_columns": null,
            "grid_auto_flow": null,
            "grid_auto_rows": null,
            "grid_column": null,
            "grid_gap": null,
            "grid_row": null,
            "grid_template_areas": null,
            "grid_template_columns": null,
            "grid_template_rows": null,
            "height": null,
            "justify_content": null,
            "justify_items": null,
            "left": null,
            "margin": null,
            "max_height": null,
            "max_width": null,
            "min_height": null,
            "min_width": null,
            "object_fit": null,
            "object_position": null,
            "order": null,
            "overflow": null,
            "overflow_x": null,
            "overflow_y": null,
            "padding": null,
            "right": null,
            "top": null,
            "visibility": null,
            "width": null
          }
        },
        "960760deac3d495581e02049d43f4704": {
          "model_module": "@jupyter-widgets/controls",
          "model_name": "DescriptionStyleModel",
          "model_module_version": "1.5.0",
          "state": {
            "_model_module": "@jupyter-widgets/controls",
            "_model_module_version": "1.5.0",
            "_model_name": "DescriptionStyleModel",
            "_view_count": null,
            "_view_module": "@jupyter-widgets/base",
            "_view_module_version": "1.2.0",
            "_view_name": "StyleView",
            "description_width": ""
          }
        }
      }
    }
  },
  "nbformat": 4,
  "nbformat_minor": 0
}